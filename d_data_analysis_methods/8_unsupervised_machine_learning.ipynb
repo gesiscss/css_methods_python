{
 "cells": [
  {
   "cell_type": "markdown",
   "id": "e607ca26",
   "metadata": {},
   "source": [
    "<img src='images/gesis.png' style='height: 50px; float: left'>\n",
    "<img src='images/social_comquant.png' style='height: 50px; float: left; margin-left: 40px'>"
   ]
  },
  {
   "cell_type": "markdown",
   "id": "b70bc56f",
   "metadata": {},
   "source": [
    "## Introduction to Computational Social Science methods with Python"
   ]
  },
  {
   "cell_type": "markdown",
   "id": "71218328",
   "metadata": {},
   "source": [
    "# Session 8. Unsupervised machine learning\n",
    "\n",
    "A dataset is a collection of values that are organized in two ways (observations and features). A feature contains all vallues that measure the same attribute (e.g., temparature) across all instances. In other words, feature froms a column. An observation contains all values measured on the same instance (e.g, city) across all attributes. In other words, it forms a row. All these obervational instances forms a table that is called feature matrix in machine learning. \n",
    "\n",
    "It has to be mentioned, that features (in machine learning) and varibles (in statistics) are the same concepts. Nevertheles, there is a difference, feature matrix has to contain the same type of data in every cell. The table can contain both types, categorical and continuous data but the first one has to be encoded.\n",
    "\n",
    "Machine learning is a field that studies, develops and utilizes methods (and algorithms) that utilize data (feature matrix) to to improve performance on some set of tasks (Mitchell, 1997). In the simplified classification, machine learning can be divided into supervised and unsupervised learning (Figure 1). \n",
    "\n",
    "TODO: explain differences supervised and unsupervised \n",
    "\n",
    "|<img src='images/Machine_learning.svg' style='float: none; width: 640px'>|\n",
    "|:--|\n",
    "|<em style='float: center'>**Figure 1**: Machine learning structure</em>|\n",
    "\n",
    "...\n",
    "\n",
    "<div class='alert alert-block alert-success'>\n",
    "<b>In this session</b>, \n",
    "\n",
    "you will learn differences between supervised and unsupervised learning. In Subsection **8.1** we will explain what dimentionality reduction is usefull for. The V-DEM dataset will function as an example that showcase usage of Principal Component Analysis (PCA) and how it related to Factor Analysis. (LDA?) In Subsection **8.2** you will learn how to perform clustering analysis on the example of K-Means algorithm. You will find out how to find optimal number of clusters. After finishing it you will be able to describe Agglomarative clustering and why to use it. In Subsection **8.3** you will be introduced to Association Rule mining  and ... Python packages. \n",
    "    \n",
    "</div>"
   ]
  },
  {
   "cell_type": "markdown",
   "id": "a4ee8e7e",
   "metadata": {},
   "source": [
    "2-dimensional data paradigm: observations and features (variables)\n",
    "\n",
    "Well-behaved (dense and balanced) vs. badly-behaved data (sparse, binary, and/or non-linear)"
   ]
  },
  {
   "cell_type": "markdown",
   "id": "0adb89bd",
   "metadata": {},
   "source": [
    "## 8.1. Dimensionality reduction\n",
    "\n",
    "https://scikit-learn.org/stable/modules/decomposition.html#decompositions\n",
    "\n",
    "Hovy textbook chapter 6\n",
    "\n",
    "\n",
    "\n"
   ]
  },
  {
   "cell_type": "markdown",
   "id": "5f0aec46",
   "metadata": {},
   "source": [
    "### 8.1.1. Structured data\n",
    "\n",
    "Introduce Principal Component Analysis (PCA) using the VDEM dataset"
   ]
  },
  {
   "cell_type": "markdown",
   "id": "7f8db0c4",
   "metadata": {},
   "source": [
    "https://scikit-learn.org/stable/auto_examples/decomposition/plot_pca_iris.html"
   ]
  },
  {
   "cell_type": "markdown",
   "id": "dab24781",
   "metadata": {},
   "source": [
    "Explain factor analysis and PCA in easy terms"
   ]
  },
  {
   "cell_type": "markdown",
   "id": "ec463fb6",
   "metadata": {},
   "source": [
    "Infer two factors and visualize them"
   ]
  },
  {
   "cell_type": "markdown",
   "id": "687abc24",
   "metadata": {},
   "source": [
    "How to interpret the results\n",
    "\n",
    "Hovy chapter 6.3"
   ]
  },
  {
   "cell_type": "markdown",
   "id": "8e9acf67",
   "metadata": {},
   "source": [
    "caveats re PCA"
   ]
  },
  {
   "cell_type": "markdown",
   "id": "aa36ea43",
   "metadata": {},
   "source": [
    "\n",
    "Assumptions of factor analysis:\n",
    "features are metric.\n",
    "features are continious or ordinal\n",
    "there is r>0.3 between the features \n",
    "sample is homogenous "
   ]
  },
  {
   "cell_type": "code",
   "execution_count": 20,
   "id": "5c30675d",
   "metadata": {},
   "outputs": [
    {
     "name": "stderr",
     "output_type": "stream",
     "text": [
      "/opt/anaconda3/lib/python3.8/site-packages/ipykernel/ipkernel.py:287: DeprecationWarning: `should_run_async` will not call `transform_cell` automatically in the future. Please pass the result to `transformed_cell` argument and any exception that happen during thetransform in `preprocessing_exc_tuple` in IPython 7.17 and above.\n",
      "  and should_run_async(code)\n"
     ]
    }
   ],
   "source": [
    "import pandas as pd"
   ]
  },
  {
   "cell_type": "code",
   "execution_count": 21,
   "id": "16577910",
   "metadata": {},
   "outputs": [
    {
     "name": "stderr",
     "output_type": "stream",
     "text": [
      "/opt/anaconda3/lib/python3.8/site-packages/ipykernel/ipkernel.py:287: DeprecationWarning: `should_run_async` will not call `transform_cell` automatically in the future. Please pass the result to `transformed_cell` argument and any exception that happen during thetransform in `preprocessing_exc_tuple` in IPython 7.17 and above.\n",
      "  and should_run_async(code)\n"
     ]
    }
   ],
   "source": [
    "vdem = pd.read_csv('../data/V-Dem/V-Dem-CY-Core-v13_2019.csv', encoding='utf-8', low_memory=False)\n",
    "#vdem = pd.read_csv('../data/V-Dem/V-Dem-CY-Full+Others-v10.csv', encoding='utf-8', low_memory=False)\n",
    "\n",
    "#vdem = pd.read_csv('../data/V-Dem/V-Dem-CY-Core-v13.csv', encoding='utf-8', low_memory=False)\n",
    "#vdem = vdem[vdem['year'] == 2019].reset_index(drop=True)\n",
    "#vdem.head()\n",
    "#vdem.to_csv('../data/V-Dem/V-Dem-CY-Core-v13_2019.csv', encoding='utf-8',index=False)"
   ]
  },
  {
   "cell_type": "code",
   "execution_count": 22,
   "id": "44b532d3",
   "metadata": {},
   "outputs": [
    {
     "name": "stderr",
     "output_type": "stream",
     "text": [
      "/opt/anaconda3/lib/python3.8/site-packages/ipykernel/ipkernel.py:287: DeprecationWarning: `should_run_async` will not call `transform_cell` automatically in the future. Please pass the result to `transformed_cell` argument and any exception that happen during thetransform in `preprocessing_exc_tuple` in IPython 7.17 and above.\n",
      "  and should_run_async(code)\n"
     ]
    },
    {
     "data": {
      "text/html": [
       "<div>\n",
       "<style scoped>\n",
       "    .dataframe tbody tr th:only-of-type {\n",
       "        vertical-align: middle;\n",
       "    }\n",
       "\n",
       "    .dataframe tbody tr th {\n",
       "        vertical-align: top;\n",
       "    }\n",
       "\n",
       "    .dataframe thead th {\n",
       "        text-align: right;\n",
       "    }\n",
       "</style>\n",
       "<table border=\"1\" class=\"dataframe\">\n",
       "  <thead>\n",
       "    <tr style=\"text-align: right;\">\n",
       "      <th></th>\n",
       "      <th>country_name</th>\n",
       "      <th>country_text_id</th>\n",
       "      <th>country_id</th>\n",
       "      <th>year</th>\n",
       "      <th>historical_date</th>\n",
       "      <th>project</th>\n",
       "      <th>historical</th>\n",
       "      <th>histname</th>\n",
       "      <th>codingstart</th>\n",
       "      <th>codingend</th>\n",
       "      <th>...</th>\n",
       "      <th>v2xme_altinf_sd</th>\n",
       "      <th>v2xps_party</th>\n",
       "      <th>v2xps_party_codelow</th>\n",
       "      <th>v2xps_party_codehigh</th>\n",
       "      <th>v2x_divparctrl</th>\n",
       "      <th>v2x_feduni</th>\n",
       "      <th>v2xca_academ</th>\n",
       "      <th>v2xca_academ_codelow</th>\n",
       "      <th>v2xca_academ_codehigh</th>\n",
       "      <th>v2xca_academ_sd</th>\n",
       "    </tr>\n",
       "  </thead>\n",
       "  <tbody>\n",
       "    <tr>\n",
       "      <th>0</th>\n",
       "      <td>Mexico</td>\n",
       "      <td>MEX</td>\n",
       "      <td>3</td>\n",
       "      <td>2019</td>\n",
       "      <td>2019-12-31</td>\n",
       "      <td>0</td>\n",
       "      <td>1</td>\n",
       "      <td>United Mexican States</td>\n",
       "      <td>1789</td>\n",
       "      <td>2022</td>\n",
       "      <td>...</td>\n",
       "      <td>0.655</td>\n",
       "      <td>0.867</td>\n",
       "      <td>0.739</td>\n",
       "      <td>0.933</td>\n",
       "      <td>-1.239</td>\n",
       "      <td>0.979</td>\n",
       "      <td>0.895</td>\n",
       "      <td>0.826</td>\n",
       "      <td>0.939</td>\n",
       "      <td>0.622</td>\n",
       "    </tr>\n",
       "    <tr>\n",
       "      <th>1</th>\n",
       "      <td>Suriname</td>\n",
       "      <td>SUR</td>\n",
       "      <td>4</td>\n",
       "      <td>2019</td>\n",
       "      <td>2019-12-31</td>\n",
       "      <td>0</td>\n",
       "      <td>0</td>\n",
       "      <td>Republic of Suriname [independent state]</td>\n",
       "      <td>1900</td>\n",
       "      <td>2022</td>\n",
       "      <td>...</td>\n",
       "      <td>0.649</td>\n",
       "      <td>0.597</td>\n",
       "      <td>0.408</td>\n",
       "      <td>0.761</td>\n",
       "      <td>1.022</td>\n",
       "      <td>0.472</td>\n",
       "      <td>0.828</td>\n",
       "      <td>0.722</td>\n",
       "      <td>0.886</td>\n",
       "      <td>0.620</td>\n",
       "    </tr>\n",
       "    <tr>\n",
       "      <th>2</th>\n",
       "      <td>Sweden</td>\n",
       "      <td>SWE</td>\n",
       "      <td>5</td>\n",
       "      <td>2019</td>\n",
       "      <td>2019-12-31</td>\n",
       "      <td>0</td>\n",
       "      <td>1</td>\n",
       "      <td>Kingdom of Sweden</td>\n",
       "      <td>1789</td>\n",
       "      <td>2022</td>\n",
       "      <td>...</td>\n",
       "      <td>0.653</td>\n",
       "      <td>0.996</td>\n",
       "      <td>0.964</td>\n",
       "      <td>1.000</td>\n",
       "      <td>-0.003</td>\n",
       "      <td>0.941</td>\n",
       "      <td>0.951</td>\n",
       "      <td>0.907</td>\n",
       "      <td>0.972</td>\n",
       "      <td>0.618</td>\n",
       "    </tr>\n",
       "    <tr>\n",
       "      <th>3</th>\n",
       "      <td>Switzerland</td>\n",
       "      <td>CHE</td>\n",
       "      <td>6</td>\n",
       "      <td>2019</td>\n",
       "      <td>2019-12-31</td>\n",
       "      <td>0</td>\n",
       "      <td>1</td>\n",
       "      <td>Swiss Confederation</td>\n",
       "      <td>1798</td>\n",
       "      <td>2022</td>\n",
       "      <td>...</td>\n",
       "      <td>0.653</td>\n",
       "      <td>0.881</td>\n",
       "      <td>0.731</td>\n",
       "      <td>0.948</td>\n",
       "      <td>0.367</td>\n",
       "      <td>0.997</td>\n",
       "      <td>0.907</td>\n",
       "      <td>0.851</td>\n",
       "      <td>0.949</td>\n",
       "      <td>0.619</td>\n",
       "    </tr>\n",
       "    <tr>\n",
       "      <th>4</th>\n",
       "      <td>Ghana</td>\n",
       "      <td>GHA</td>\n",
       "      <td>7</td>\n",
       "      <td>2019</td>\n",
       "      <td>2019-12-31</td>\n",
       "      <td>0</td>\n",
       "      <td>0</td>\n",
       "      <td>Republic of Ghana</td>\n",
       "      <td>1902</td>\n",
       "      <td>2022</td>\n",
       "      <td>...</td>\n",
       "      <td>0.644</td>\n",
       "      <td>0.614</td>\n",
       "      <td>0.505</td>\n",
       "      <td>0.719</td>\n",
       "      <td>-1.380</td>\n",
       "      <td>0.169</td>\n",
       "      <td>0.793</td>\n",
       "      <td>0.682</td>\n",
       "      <td>0.860</td>\n",
       "      <td>0.623</td>\n",
       "    </tr>\n",
       "  </tbody>\n",
       "</table>\n",
       "<p>5 rows × 1818 columns</p>\n",
       "</div>"
      ],
      "text/plain": [
       "  country_name country_text_id  country_id  year historical_date  project  \\\n",
       "0       Mexico             MEX           3  2019      2019-12-31        0   \n",
       "1     Suriname             SUR           4  2019      2019-12-31        0   \n",
       "2       Sweden             SWE           5  2019      2019-12-31        0   \n",
       "3  Switzerland             CHE           6  2019      2019-12-31        0   \n",
       "4        Ghana             GHA           7  2019      2019-12-31        0   \n",
       "\n",
       "   historical                                  histname  codingstart  \\\n",
       "0           1                     United Mexican States         1789   \n",
       "1           0  Republic of Suriname [independent state]         1900   \n",
       "2           1                         Kingdom of Sweden         1789   \n",
       "3           1                       Swiss Confederation         1798   \n",
       "4           0                         Republic of Ghana         1902   \n",
       "\n",
       "   codingend  ...  v2xme_altinf_sd  v2xps_party  v2xps_party_codelow  \\\n",
       "0       2022  ...            0.655        0.867                0.739   \n",
       "1       2022  ...            0.649        0.597                0.408   \n",
       "2       2022  ...            0.653        0.996                0.964   \n",
       "3       2022  ...            0.653        0.881                0.731   \n",
       "4       2022  ...            0.644        0.614                0.505   \n",
       "\n",
       "   v2xps_party_codehigh  v2x_divparctrl  v2x_feduni  v2xca_academ  \\\n",
       "0                 0.933          -1.239       0.979         0.895   \n",
       "1                 0.761           1.022       0.472         0.828   \n",
       "2                 1.000          -0.003       0.941         0.951   \n",
       "3                 0.948           0.367       0.997         0.907   \n",
       "4                 0.719          -1.380       0.169         0.793   \n",
       "\n",
       "   v2xca_academ_codelow  v2xca_academ_codehigh  v2xca_academ_sd  \n",
       "0                 0.826                  0.939            0.622  \n",
       "1                 0.722                  0.886            0.620  \n",
       "2                 0.907                  0.972            0.618  \n",
       "3                 0.851                  0.949            0.619  \n",
       "4                 0.682                  0.860            0.623  \n",
       "\n",
       "[5 rows x 1818 columns]"
      ]
     },
     "execution_count": 22,
     "metadata": {},
     "output_type": "execute_result"
    }
   ],
   "source": [
    "vdem.head()"
   ]
  },
  {
   "cell_type": "markdown",
   "id": "881efb78",
   "metadata": {},
   "source": [
    "old \n",
    "\n",
    "indicators = [\n",
    "    'v2dlreason', 'v2dlcommon', 'v2dlcountr', 'v2dlconslt', 'v2dlengage', \n",
    "    'v2dlencmps', 'v2dlunivl', 'v2cseeorgs', 'v2csreprss', 'v2cscnsult', \n",
    "    'v2csprtcpt', 'v2csgender', 'v2csantimv', 'v2csrlgrep', 'v2csrlgcon', \n",
    "    'v2mecenefm', 'v2mecenefi', 'v2mecenefibin', 'v2mecrit', 'v2merange', \n",
    "    'v2mefemjrn', 'v2meharjrn', 'v2meslfcen', 'v2mebias', 'v2mecorrpt', \n",
    "    'v2exrescon', 'v2exbribe', 'v2exembez', 'v2excrptps', 'v2exthftps', \n",
    "    'v2cldiscm', 'v2cldiscw', 'v2clacfree', 'v2clrelig', 'v2clfmove'\n",
    "]"
   ]
  },
  {
   "cell_type": "code",
   "execution_count": 23,
   "id": "d636789a",
   "metadata": {},
   "outputs": [
    {
     "name": "stderr",
     "output_type": "stream",
     "text": [
      "/opt/anaconda3/lib/python3.8/site-packages/ipykernel/ipkernel.py:287: DeprecationWarning: `should_run_async` will not call `transform_cell` automatically in the future. Please pass the result to `transformed_cell` argument and any exception that happen during thetransform in `preprocessing_exc_tuple` in IPython 7.17 and above.\n",
      "  and should_run_async(code)\n"
     ]
    }
   ],
   "source": [
    "indicators = [\n",
    "    'v2mecenefm', 'v2meharjrn', 'v2meslfcen', 'v2mebias', 'v2merange', 'v2mecrit', 'v2cldiscm', 'v2cldiscw', 'v2clacfree',\n",
    "    \n",
    "    'v2psparban', 'v2psbars', 'v2psoppaut', 'v2elmulpar', 'v2cseeorgs', 'v2csreprss',\n",
    "    'v2elsuffrage',\n",
    "    'v2elembcap', 'v2elrgstry', 'v2elvotbuy', 'v2elirreg', 'v2elintim', 'v2elpeace', 'v2elfrfair',#'v2elembaut', \n",
    "    'v2lgbicam', 'v2expathhs', 'v2exhoshog','v2exdfcbhs','v2exdfdmhs',\n",
    "    #'v2lginello','v2lgelecup','v2lginelup','v2expathhg','v2lgello',\n",
    "   # 'v2mefemjrn'\n",
    "]"
   ]
  },
  {
   "cell_type": "code",
   "execution_count": 24,
   "id": "c31ffe1c",
   "metadata": {},
   "outputs": [
    {
     "name": "stderr",
     "output_type": "stream",
     "text": [
      "/opt/anaconda3/lib/python3.8/site-packages/ipykernel/ipkernel.py:287: DeprecationWarning: `should_run_async` will not call `transform_cell` automatically in the future. Please pass the result to `transformed_cell` argument and any exception that happen during thetransform in `preprocessing_exc_tuple` in IPython 7.17 and above.\n",
      "  and should_run_async(code)\n"
     ]
    },
    {
     "data": {
      "text/plain": [
       "(179, 28)"
      ]
     },
     "execution_count": 24,
     "metadata": {},
     "output_type": "execute_result"
    }
   ],
   "source": [
    "countries = vdem['country_name'].tolist()\n",
    "vdem = vdem.set_index('country_name')[indicators]\n",
    "vdem.shape"
   ]
  },
  {
   "cell_type": "code",
   "execution_count": 25,
   "id": "ec2cfad9",
   "metadata": {},
   "outputs": [
    {
     "name": "stderr",
     "output_type": "stream",
     "text": [
      "/opt/anaconda3/lib/python3.8/site-packages/ipykernel/ipkernel.py:287: DeprecationWarning: `should_run_async` will not call `transform_cell` automatically in the future. Please pass the result to `transformed_cell` argument and any exception that happen during thetransform in `preprocessing_exc_tuple` in IPython 7.17 and above.\n",
      "  and should_run_async(code)\n"
     ]
    },
    {
     "data": {
      "text/html": [
       "<div>\n",
       "<style scoped>\n",
       "    .dataframe tbody tr th:only-of-type {\n",
       "        vertical-align: middle;\n",
       "    }\n",
       "\n",
       "    .dataframe tbody tr th {\n",
       "        vertical-align: top;\n",
       "    }\n",
       "\n",
       "    .dataframe thead th {\n",
       "        text-align: right;\n",
       "    }\n",
       "</style>\n",
       "<table border=\"1\" class=\"dataframe\">\n",
       "  <thead>\n",
       "    <tr style=\"text-align: right;\">\n",
       "      <th></th>\n",
       "      <th>v2mecenefm</th>\n",
       "      <th>v2meharjrn</th>\n",
       "      <th>v2meslfcen</th>\n",
       "      <th>v2mebias</th>\n",
       "      <th>v2merange</th>\n",
       "      <th>v2mecrit</th>\n",
       "      <th>v2cldiscm</th>\n",
       "      <th>v2cldiscw</th>\n",
       "      <th>v2clacfree</th>\n",
       "      <th>v2psparban</th>\n",
       "      <th>...</th>\n",
       "      <th>v2elvotbuy</th>\n",
       "      <th>v2elirreg</th>\n",
       "      <th>v2elintim</th>\n",
       "      <th>v2elpeace</th>\n",
       "      <th>v2elfrfair</th>\n",
       "      <th>v2lgbicam</th>\n",
       "      <th>v2expathhs</th>\n",
       "      <th>v2exhoshog</th>\n",
       "      <th>v2exdfcbhs</th>\n",
       "      <th>v2exdfdmhs</th>\n",
       "    </tr>\n",
       "    <tr>\n",
       "      <th>country_name</th>\n",
       "      <th></th>\n",
       "      <th></th>\n",
       "      <th></th>\n",
       "      <th></th>\n",
       "      <th></th>\n",
       "      <th></th>\n",
       "      <th></th>\n",
       "      <th></th>\n",
       "      <th></th>\n",
       "      <th></th>\n",
       "      <th></th>\n",
       "      <th></th>\n",
       "      <th></th>\n",
       "      <th></th>\n",
       "      <th></th>\n",
       "      <th></th>\n",
       "      <th></th>\n",
       "      <th></th>\n",
       "      <th></th>\n",
       "      <th></th>\n",
       "      <th></th>\n",
       "    </tr>\n",
       "  </thead>\n",
       "  <tbody>\n",
       "    <tr>\n",
       "      <th>Mexico</th>\n",
       "      <td>0.100</td>\n",
       "      <td>0.232</td>\n",
       "      <td>0.844</td>\n",
       "      <td>1.435</td>\n",
       "      <td>1.528</td>\n",
       "      <td>1.628</td>\n",
       "      <td>2.663</td>\n",
       "      <td>1.372</td>\n",
       "      <td>1.800</td>\n",
       "      <td>1.950</td>\n",
       "      <td>...</td>\n",
       "      <td>-0.858</td>\n",
       "      <td>0.740</td>\n",
       "      <td>0.318</td>\n",
       "      <td>-0.990</td>\n",
       "      <td>1.294</td>\n",
       "      <td>2.0</td>\n",
       "      <td>7.0</td>\n",
       "      <td>1.0</td>\n",
       "      <td>1.310</td>\n",
       "      <td>1.654</td>\n",
       "    </tr>\n",
       "    <tr>\n",
       "      <th>Suriname</th>\n",
       "      <td>1.063</td>\n",
       "      <td>1.726</td>\n",
       "      <td>0.523</td>\n",
       "      <td>1.650</td>\n",
       "      <td>2.431</td>\n",
       "      <td>1.201</td>\n",
       "      <td>1.792</td>\n",
       "      <td>1.894</td>\n",
       "      <td>1.484</td>\n",
       "      <td>1.906</td>\n",
       "      <td>...</td>\n",
       "      <td>0.357</td>\n",
       "      <td>1.635</td>\n",
       "      <td>1.356</td>\n",
       "      <td>1.182</td>\n",
       "      <td>1.419</td>\n",
       "      <td>1.0</td>\n",
       "      <td>6.0</td>\n",
       "      <td>1.0</td>\n",
       "      <td>1.685</td>\n",
       "      <td>1.826</td>\n",
       "    </tr>\n",
       "    <tr>\n",
       "      <th>Sweden</th>\n",
       "      <td>3.400</td>\n",
       "      <td>2.127</td>\n",
       "      <td>2.011</td>\n",
       "      <td>2.316</td>\n",
       "      <td>2.682</td>\n",
       "      <td>3.194</td>\n",
       "      <td>1.936</td>\n",
       "      <td>1.988</td>\n",
       "      <td>3.303</td>\n",
       "      <td>2.427</td>\n",
       "      <td>...</td>\n",
       "      <td>2.447</td>\n",
       "      <td>1.270</td>\n",
       "      <td>1.987</td>\n",
       "      <td>1.449</td>\n",
       "      <td>2.073</td>\n",
       "      <td>1.0</td>\n",
       "      <td>4.0</td>\n",
       "      <td>0.0</td>\n",
       "      <td>-3.438</td>\n",
       "      <td>-3.511</td>\n",
       "    </tr>\n",
       "    <tr>\n",
       "      <th>Switzerland</th>\n",
       "      <td>3.185</td>\n",
       "      <td>3.714</td>\n",
       "      <td>3.061</td>\n",
       "      <td>2.697</td>\n",
       "      <td>2.118</td>\n",
       "      <td>2.395</td>\n",
       "      <td>2.590</td>\n",
       "      <td>2.896</td>\n",
       "      <td>3.008</td>\n",
       "      <td>2.461</td>\n",
       "      <td>...</td>\n",
       "      <td>2.251</td>\n",
       "      <td>2.152</td>\n",
       "      <td>1.770</td>\n",
       "      <td>0.864</td>\n",
       "      <td>1.877</td>\n",
       "      <td>2.0</td>\n",
       "      <td>6.0</td>\n",
       "      <td>1.0</td>\n",
       "      <td>-2.923</td>\n",
       "      <td>-3.565</td>\n",
       "    </tr>\n",
       "    <tr>\n",
       "      <th>Ghana</th>\n",
       "      <td>2.175</td>\n",
       "      <td>0.633</td>\n",
       "      <td>1.270</td>\n",
       "      <td>1.564</td>\n",
       "      <td>1.756</td>\n",
       "      <td>1.308</td>\n",
       "      <td>2.171</td>\n",
       "      <td>1.590</td>\n",
       "      <td>1.709</td>\n",
       "      <td>1.731</td>\n",
       "      <td>...</td>\n",
       "      <td>-0.777</td>\n",
       "      <td>0.560</td>\n",
       "      <td>0.395</td>\n",
       "      <td>-0.025</td>\n",
       "      <td>1.695</td>\n",
       "      <td>1.0</td>\n",
       "      <td>7.0</td>\n",
       "      <td>1.0</td>\n",
       "      <td>0.092</td>\n",
       "      <td>1.291</td>\n",
       "    </tr>\n",
       "  </tbody>\n",
       "</table>\n",
       "<p>5 rows × 28 columns</p>\n",
       "</div>"
      ],
      "text/plain": [
       "              v2mecenefm  v2meharjrn  v2meslfcen  v2mebias  v2merange  \\\n",
       "country_name                                                            \n",
       "Mexico             0.100       0.232       0.844     1.435      1.528   \n",
       "Suriname           1.063       1.726       0.523     1.650      2.431   \n",
       "Sweden             3.400       2.127       2.011     2.316      2.682   \n",
       "Switzerland        3.185       3.714       3.061     2.697      2.118   \n",
       "Ghana              2.175       0.633       1.270     1.564      1.756   \n",
       "\n",
       "              v2mecrit  v2cldiscm  v2cldiscw  v2clacfree  v2psparban  ...  \\\n",
       "country_name                                                          ...   \n",
       "Mexico           1.628      2.663      1.372       1.800       1.950  ...   \n",
       "Suriname         1.201      1.792      1.894       1.484       1.906  ...   \n",
       "Sweden           3.194      1.936      1.988       3.303       2.427  ...   \n",
       "Switzerland      2.395      2.590      2.896       3.008       2.461  ...   \n",
       "Ghana            1.308      2.171      1.590       1.709       1.731  ...   \n",
       "\n",
       "              v2elvotbuy  v2elirreg  v2elintim  v2elpeace  v2elfrfair  \\\n",
       "country_name                                                            \n",
       "Mexico            -0.858      0.740      0.318     -0.990       1.294   \n",
       "Suriname           0.357      1.635      1.356      1.182       1.419   \n",
       "Sweden             2.447      1.270      1.987      1.449       2.073   \n",
       "Switzerland        2.251      2.152      1.770      0.864       1.877   \n",
       "Ghana             -0.777      0.560      0.395     -0.025       1.695   \n",
       "\n",
       "              v2lgbicam  v2expathhs  v2exhoshog  v2exdfcbhs  v2exdfdmhs  \n",
       "country_name                                                             \n",
       "Mexico              2.0         7.0         1.0       1.310       1.654  \n",
       "Suriname            1.0         6.0         1.0       1.685       1.826  \n",
       "Sweden              1.0         4.0         0.0      -3.438      -3.511  \n",
       "Switzerland         2.0         6.0         1.0      -2.923      -3.565  \n",
       "Ghana               1.0         7.0         1.0       0.092       1.291  \n",
       "\n",
       "[5 rows x 28 columns]"
      ]
     },
     "execution_count": 25,
     "metadata": {},
     "output_type": "execute_result"
    }
   ],
   "source": [
    "vdem.head()"
   ]
  },
  {
   "cell_type": "markdown",
   "id": "7530c2d9",
   "metadata": {},
   "source": [
    "Are there missing values?"
   ]
  },
  {
   "cell_type": "code",
   "execution_count": 26,
   "id": "2b4a5467",
   "metadata": {},
   "outputs": [
    {
     "name": "stderr",
     "output_type": "stream",
     "text": [
      "/opt/anaconda3/lib/python3.8/site-packages/ipykernel/ipkernel.py:287: DeprecationWarning: `should_run_async` will not call `transform_cell` automatically in the future. Please pass the result to `transformed_cell` argument and any exception that happen during thetransform in `preprocessing_exc_tuple` in IPython 7.17 and above.\n",
      "  and should_run_async(code)\n"
     ]
    },
    {
     "data": {
      "text/plain": [
       "0    20\n",
       "9     7\n",
       "3     1\n",
       "dtype: int64"
      ]
     },
     "execution_count": 26,
     "metadata": {},
     "output_type": "execute_result"
    }
   ],
   "source": [
    "vdem.isna().sum().value_counts()"
   ]
  },
  {
   "cell_type": "code",
   "execution_count": 27,
   "id": "3df14470",
   "metadata": {},
   "outputs": [
    {
     "name": "stderr",
     "output_type": "stream",
     "text": [
      "/opt/anaconda3/lib/python3.8/site-packages/ipykernel/ipkernel.py:287: DeprecationWarning: `should_run_async` will not call `transform_cell` automatically in the future. Please pass the result to `transformed_cell` argument and any exception that happen during thetransform in `preprocessing_exc_tuple` in IPython 7.17 and above.\n",
      "  and should_run_async(code)\n"
     ]
    },
    {
     "data": {
      "text/html": [
       "<div>\n",
       "<style scoped>\n",
       "    .dataframe tbody tr th:only-of-type {\n",
       "        vertical-align: middle;\n",
       "    }\n",
       "\n",
       "    .dataframe tbody tr th {\n",
       "        vertical-align: top;\n",
       "    }\n",
       "\n",
       "    .dataframe thead th {\n",
       "        text-align: right;\n",
       "    }\n",
       "</style>\n",
       "<table border=\"1\" class=\"dataframe\">\n",
       "  <thead>\n",
       "    <tr style=\"text-align: right;\">\n",
       "      <th></th>\n",
       "      <th>v2mecenefm</th>\n",
       "      <th>v2meharjrn</th>\n",
       "      <th>v2meslfcen</th>\n",
       "      <th>v2mebias</th>\n",
       "      <th>v2merange</th>\n",
       "      <th>v2mecrit</th>\n",
       "      <th>v2cldiscm</th>\n",
       "      <th>v2cldiscw</th>\n",
       "      <th>v2clacfree</th>\n",
       "      <th>v2psparban</th>\n",
       "      <th>...</th>\n",
       "      <th>v2elvotbuy</th>\n",
       "      <th>v2elirreg</th>\n",
       "      <th>v2elintim</th>\n",
       "      <th>v2elpeace</th>\n",
       "      <th>v2elfrfair</th>\n",
       "      <th>v2lgbicam</th>\n",
       "      <th>v2expathhs</th>\n",
       "      <th>v2exhoshog</th>\n",
       "      <th>v2exdfcbhs</th>\n",
       "      <th>v2exdfdmhs</th>\n",
       "    </tr>\n",
       "    <tr>\n",
       "      <th>country_name</th>\n",
       "      <th></th>\n",
       "      <th></th>\n",
       "      <th></th>\n",
       "      <th></th>\n",
       "      <th></th>\n",
       "      <th></th>\n",
       "      <th></th>\n",
       "      <th></th>\n",
       "      <th></th>\n",
       "      <th></th>\n",
       "      <th></th>\n",
       "      <th></th>\n",
       "      <th></th>\n",
       "      <th></th>\n",
       "      <th></th>\n",
       "      <th></th>\n",
       "      <th></th>\n",
       "      <th></th>\n",
       "      <th></th>\n",
       "      <th></th>\n",
       "      <th></th>\n",
       "    </tr>\n",
       "  </thead>\n",
       "  <tbody>\n",
       "    <tr>\n",
       "      <th>Yemen</th>\n",
       "      <td>-2.238</td>\n",
       "      <td>-1.355</td>\n",
       "      <td>-0.593</td>\n",
       "      <td>-0.153</td>\n",
       "      <td>-0.613</td>\n",
       "      <td>-1.161</td>\n",
       "      <td>-0.917</td>\n",
       "      <td>-0.972</td>\n",
       "      <td>-1.652</td>\n",
       "      <td>1.033</td>\n",
       "      <td>...</td>\n",
       "      <td>NaN</td>\n",
       "      <td>NaN</td>\n",
       "      <td>NaN</td>\n",
       "      <td>NaN</td>\n",
       "      <td>NaN</td>\n",
       "      <td>2.0</td>\n",
       "      <td>1.0</td>\n",
       "      <td>0.0</td>\n",
       "      <td>0.942</td>\n",
       "      <td>1.507</td>\n",
       "    </tr>\n",
       "    <tr>\n",
       "      <th>South Sudan</th>\n",
       "      <td>-2.690</td>\n",
       "      <td>-1.678</td>\n",
       "      <td>-0.359</td>\n",
       "      <td>-0.863</td>\n",
       "      <td>-1.677</td>\n",
       "      <td>-1.497</td>\n",
       "      <td>-1.939</td>\n",
       "      <td>-0.734</td>\n",
       "      <td>-1.530</td>\n",
       "      <td>1.032</td>\n",
       "      <td>...</td>\n",
       "      <td>NaN</td>\n",
       "      <td>NaN</td>\n",
       "      <td>NaN</td>\n",
       "      <td>NaN</td>\n",
       "      <td>NaN</td>\n",
       "      <td>2.0</td>\n",
       "      <td>7.0</td>\n",
       "      <td>1.0</td>\n",
       "      <td>1.190</td>\n",
       "      <td>1.524</td>\n",
       "    </tr>\n",
       "    <tr>\n",
       "      <th>Qatar</th>\n",
       "      <td>-0.983</td>\n",
       "      <td>-1.436</td>\n",
       "      <td>-1.924</td>\n",
       "      <td>-2.281</td>\n",
       "      <td>-2.143</td>\n",
       "      <td>-1.982</td>\n",
       "      <td>-1.340</td>\n",
       "      <td>-1.614</td>\n",
       "      <td>-0.405</td>\n",
       "      <td>-1.512</td>\n",
       "      <td>...</td>\n",
       "      <td>NaN</td>\n",
       "      <td>NaN</td>\n",
       "      <td>NaN</td>\n",
       "      <td>NaN</td>\n",
       "      <td>NaN</td>\n",
       "      <td>1.0</td>\n",
       "      <td>4.0</td>\n",
       "      <td>0.0</td>\n",
       "      <td>2.349</td>\n",
       "      <td>1.623</td>\n",
       "    </tr>\n",
       "    <tr>\n",
       "      <th>China</th>\n",
       "      <td>-2.103</td>\n",
       "      <td>-1.826</td>\n",
       "      <td>-2.619</td>\n",
       "      <td>-1.751</td>\n",
       "      <td>-2.073</td>\n",
       "      <td>-2.062</td>\n",
       "      <td>-1.565</td>\n",
       "      <td>-1.365</td>\n",
       "      <td>-2.714</td>\n",
       "      <td>-3.080</td>\n",
       "      <td>...</td>\n",
       "      <td>NaN</td>\n",
       "      <td>NaN</td>\n",
       "      <td>NaN</td>\n",
       "      <td>NaN</td>\n",
       "      <td>NaN</td>\n",
       "      <td>1.0</td>\n",
       "      <td>2.0</td>\n",
       "      <td>0.0</td>\n",
       "      <td>1.011</td>\n",
       "      <td>0.761</td>\n",
       "    </tr>\n",
       "    <tr>\n",
       "      <th>Eritrea</th>\n",
       "      <td>-2.680</td>\n",
       "      <td>-2.803</td>\n",
       "      <td>-2.843</td>\n",
       "      <td>-2.685</td>\n",
       "      <td>-2.671</td>\n",
       "      <td>-2.208</td>\n",
       "      <td>-1.958</td>\n",
       "      <td>-2.273</td>\n",
       "      <td>-2.237</td>\n",
       "      <td>-3.381</td>\n",
       "      <td>...</td>\n",
       "      <td>NaN</td>\n",
       "      <td>NaN</td>\n",
       "      <td>NaN</td>\n",
       "      <td>NaN</td>\n",
       "      <td>NaN</td>\n",
       "      <td>0.0</td>\n",
       "      <td>6.0</td>\n",
       "      <td>1.0</td>\n",
       "      <td>1.035</td>\n",
       "      <td>1.950</td>\n",
       "    </tr>\n",
       "    <tr>\n",
       "      <th>Palestine/West Bank</th>\n",
       "      <td>-0.579</td>\n",
       "      <td>0.989</td>\n",
       "      <td>0.277</td>\n",
       "      <td>1.185</td>\n",
       "      <td>0.693</td>\n",
       "      <td>0.792</td>\n",
       "      <td>0.677</td>\n",
       "      <td>0.849</td>\n",
       "      <td>1.244</td>\n",
       "      <td>1.090</td>\n",
       "      <td>...</td>\n",
       "      <td>NaN</td>\n",
       "      <td>NaN</td>\n",
       "      <td>NaN</td>\n",
       "      <td>NaN</td>\n",
       "      <td>NaN</td>\n",
       "      <td>0.0</td>\n",
       "      <td>7.0</td>\n",
       "      <td>0.0</td>\n",
       "      <td>1.229</td>\n",
       "      <td>1.575</td>\n",
       "    </tr>\n",
       "    <tr>\n",
       "      <th>Somalia</th>\n",
       "      <td>-0.722</td>\n",
       "      <td>-0.223</td>\n",
       "      <td>-0.332</td>\n",
       "      <td>0.932</td>\n",
       "      <td>0.969</td>\n",
       "      <td>0.821</td>\n",
       "      <td>0.205</td>\n",
       "      <td>-0.186</td>\n",
       "      <td>-0.689</td>\n",
       "      <td>0.668</td>\n",
       "      <td>...</td>\n",
       "      <td>NaN</td>\n",
       "      <td>NaN</td>\n",
       "      <td>NaN</td>\n",
       "      <td>NaN</td>\n",
       "      <td>NaN</td>\n",
       "      <td>2.0</td>\n",
       "      <td>6.0</td>\n",
       "      <td>0.0</td>\n",
       "      <td>-1.583</td>\n",
       "      <td>-1.161</td>\n",
       "    </tr>\n",
       "    <tr>\n",
       "      <th>Palestine/Gaza</th>\n",
       "      <td>-0.967</td>\n",
       "      <td>-1.271</td>\n",
       "      <td>-1.838</td>\n",
       "      <td>-1.201</td>\n",
       "      <td>0.185</td>\n",
       "      <td>-1.120</td>\n",
       "      <td>-1.166</td>\n",
       "      <td>-1.726</td>\n",
       "      <td>-1.626</td>\n",
       "      <td>0.312</td>\n",
       "      <td>...</td>\n",
       "      <td>NaN</td>\n",
       "      <td>NaN</td>\n",
       "      <td>NaN</td>\n",
       "      <td>NaN</td>\n",
       "      <td>NaN</td>\n",
       "      <td>0.0</td>\n",
       "      <td>8.0</td>\n",
       "      <td>1.0</td>\n",
       "      <td>0.753</td>\n",
       "      <td>0.692</td>\n",
       "    </tr>\n",
       "    <tr>\n",
       "      <th>Oman</th>\n",
       "      <td>-0.976</td>\n",
       "      <td>-1.198</td>\n",
       "      <td>-1.732</td>\n",
       "      <td>-1.320</td>\n",
       "      <td>-1.929</td>\n",
       "      <td>-2.078</td>\n",
       "      <td>-0.634</td>\n",
       "      <td>-0.866</td>\n",
       "      <td>-0.681</td>\n",
       "      <td>-1.910</td>\n",
       "      <td>...</td>\n",
       "      <td>0.569</td>\n",
       "      <td>1.13</td>\n",
       "      <td>0.33</td>\n",
       "      <td>0.416</td>\n",
       "      <td>2.01</td>\n",
       "      <td>2.0</td>\n",
       "      <td>4.0</td>\n",
       "      <td>1.0</td>\n",
       "      <td>2.287</td>\n",
       "      <td>1.845</td>\n",
       "    </tr>\n",
       "    <tr>\n",
       "      <th>Saudi Arabia</th>\n",
       "      <td>-1.605</td>\n",
       "      <td>-2.137</td>\n",
       "      <td>-1.918</td>\n",
       "      <td>-1.856</td>\n",
       "      <td>-2.002</td>\n",
       "      <td>-1.350</td>\n",
       "      <td>-1.175</td>\n",
       "      <td>-1.189</td>\n",
       "      <td>-1.504</td>\n",
       "      <td>-2.194</td>\n",
       "      <td>...</td>\n",
       "      <td>NaN</td>\n",
       "      <td>NaN</td>\n",
       "      <td>NaN</td>\n",
       "      <td>NaN</td>\n",
       "      <td>NaN</td>\n",
       "      <td>1.0</td>\n",
       "      <td>4.0</td>\n",
       "      <td>1.0</td>\n",
       "      <td>2.469</td>\n",
       "      <td>1.656</td>\n",
       "    </tr>\n",
       "  </tbody>\n",
       "</table>\n",
       "<p>10 rows × 28 columns</p>\n",
       "</div>"
      ],
      "text/plain": [
       "                     v2mecenefm  v2meharjrn  v2meslfcen  v2mebias  v2merange  \\\n",
       "country_name                                                                   \n",
       "Yemen                    -2.238      -1.355      -0.593    -0.153     -0.613   \n",
       "South Sudan              -2.690      -1.678      -0.359    -0.863     -1.677   \n",
       "Qatar                    -0.983      -1.436      -1.924    -2.281     -2.143   \n",
       "China                    -2.103      -1.826      -2.619    -1.751     -2.073   \n",
       "Eritrea                  -2.680      -2.803      -2.843    -2.685     -2.671   \n",
       "Palestine/West Bank      -0.579       0.989       0.277     1.185      0.693   \n",
       "Somalia                  -0.722      -0.223      -0.332     0.932      0.969   \n",
       "Palestine/Gaza           -0.967      -1.271      -1.838    -1.201      0.185   \n",
       "Oman                     -0.976      -1.198      -1.732    -1.320     -1.929   \n",
       "Saudi Arabia             -1.605      -2.137      -1.918    -1.856     -2.002   \n",
       "\n",
       "                     v2mecrit  v2cldiscm  v2cldiscw  v2clacfree  v2psparban  \\\n",
       "country_name                                                                  \n",
       "Yemen                  -1.161     -0.917     -0.972      -1.652       1.033   \n",
       "South Sudan            -1.497     -1.939     -0.734      -1.530       1.032   \n",
       "Qatar                  -1.982     -1.340     -1.614      -0.405      -1.512   \n",
       "China                  -2.062     -1.565     -1.365      -2.714      -3.080   \n",
       "Eritrea                -2.208     -1.958     -2.273      -2.237      -3.381   \n",
       "Palestine/West Bank     0.792      0.677      0.849       1.244       1.090   \n",
       "Somalia                 0.821      0.205     -0.186      -0.689       0.668   \n",
       "Palestine/Gaza         -1.120     -1.166     -1.726      -1.626       0.312   \n",
       "Oman                   -2.078     -0.634     -0.866      -0.681      -1.910   \n",
       "Saudi Arabia           -1.350     -1.175     -1.189      -1.504      -2.194   \n",
       "\n",
       "                     ...  v2elvotbuy  v2elirreg  v2elintim  v2elpeace  \\\n",
       "country_name         ...                                                \n",
       "Yemen                ...         NaN        NaN        NaN        NaN   \n",
       "South Sudan          ...         NaN        NaN        NaN        NaN   \n",
       "Qatar                ...         NaN        NaN        NaN        NaN   \n",
       "China                ...         NaN        NaN        NaN        NaN   \n",
       "Eritrea              ...         NaN        NaN        NaN        NaN   \n",
       "Palestine/West Bank  ...         NaN        NaN        NaN        NaN   \n",
       "Somalia              ...         NaN        NaN        NaN        NaN   \n",
       "Palestine/Gaza       ...         NaN        NaN        NaN        NaN   \n",
       "Oman                 ...       0.569       1.13       0.33      0.416   \n",
       "Saudi Arabia         ...         NaN        NaN        NaN        NaN   \n",
       "\n",
       "                     v2elfrfair  v2lgbicam  v2expathhs  v2exhoshog  \\\n",
       "country_name                                                         \n",
       "Yemen                       NaN        2.0         1.0         0.0   \n",
       "South Sudan                 NaN        2.0         7.0         1.0   \n",
       "Qatar                       NaN        1.0         4.0         0.0   \n",
       "China                       NaN        1.0         2.0         0.0   \n",
       "Eritrea                     NaN        0.0         6.0         1.0   \n",
       "Palestine/West Bank         NaN        0.0         7.0         0.0   \n",
       "Somalia                     NaN        2.0         6.0         0.0   \n",
       "Palestine/Gaza              NaN        0.0         8.0         1.0   \n",
       "Oman                       2.01        2.0         4.0         1.0   \n",
       "Saudi Arabia                NaN        1.0         4.0         1.0   \n",
       "\n",
       "                     v2exdfcbhs  v2exdfdmhs  \n",
       "country_name                                 \n",
       "Yemen                     0.942       1.507  \n",
       "South Sudan               1.190       1.524  \n",
       "Qatar                     2.349       1.623  \n",
       "China                     1.011       0.761  \n",
       "Eritrea                   1.035       1.950  \n",
       "Palestine/West Bank       1.229       1.575  \n",
       "Somalia                  -1.583      -1.161  \n",
       "Palestine/Gaza            0.753       0.692  \n",
       "Oman                      2.287       1.845  \n",
       "Saudi Arabia              2.469       1.656  \n",
       "\n",
       "[10 rows x 28 columns]"
      ]
     },
     "execution_count": 27,
     "metadata": {},
     "output_type": "execute_result"
    }
   ],
   "source": [
    "vdem[vdem.isna().any(axis=1)]"
   ]
  },
  {
   "cell_type": "code",
   "execution_count": 28,
   "id": "dd89296a",
   "metadata": {},
   "outputs": [
    {
     "name": "stderr",
     "output_type": "stream",
     "text": [
      "/opt/anaconda3/lib/python3.8/site-packages/ipykernel/ipkernel.py:287: DeprecationWarning: `should_run_async` will not call `transform_cell` automatically in the future. Please pass the result to `transformed_cell` argument and any exception that happen during thetransform in `preprocessing_exc_tuple` in IPython 7.17 and above.\n",
      "  and should_run_async(code)\n"
     ]
    },
    {
     "data": {
      "text/plain": [
       "(169, 28)"
      ]
     },
     "execution_count": 28,
     "metadata": {},
     "output_type": "execute_result"
    }
   ],
   "source": [
    "list_countries_na=vdem[vdem.isna().any(axis=1)].index.tolist()\n",
    "vdem=vdem[~vdem.index.isin(list_countries_na)]\n",
    "countries = vdem.index.tolist()\n",
    "vdem.shape"
   ]
  },
  {
   "cell_type": "code",
   "execution_count": 29,
   "id": "fb4a3ed4",
   "metadata": {},
   "outputs": [
    {
     "name": "stderr",
     "output_type": "stream",
     "text": [
      "/opt/anaconda3/lib/python3.8/site-packages/ipykernel/ipkernel.py:287: DeprecationWarning: `should_run_async` will not call `transform_cell` automatically in the future. Please pass the result to `transformed_cell` argument and any exception that happen during thetransform in `preprocessing_exc_tuple` in IPython 7.17 and above.\n",
      "  and should_run_async(code)\n"
     ]
    },
    {
     "data": {
      "text/plain": [
       "0    28\n",
       "dtype: int64"
      ]
     },
     "execution_count": 29,
     "metadata": {},
     "output_type": "execute_result"
    }
   ],
   "source": [
    "vdem.isna().sum().value_counts()"
   ]
  },
  {
   "cell_type": "markdown",
   "id": "29994758",
   "metadata": {},
   "source": [
    "How are the variables distributed?"
   ]
  },
  {
   "cell_type": "code",
   "execution_count": 30,
   "id": "3e01ddef",
   "metadata": {},
   "outputs": [
    {
     "name": "stderr",
     "output_type": "stream",
     "text": [
      "/opt/anaconda3/lib/python3.8/site-packages/ipykernel/ipkernel.py:287: DeprecationWarning: `should_run_async` will not call `transform_cell` automatically in the future. Please pass the result to `transformed_cell` argument and any exception that happen during thetransform in `preprocessing_exc_tuple` in IPython 7.17 and above.\n",
      "  and should_run_async(code)\n"
     ]
    },
    {
     "data": {
      "text/plain": [
       "v2mecenefm       0.704982\n",
       "v2meharjrn       0.678580\n",
       "v2meslfcen       0.668059\n",
       "v2mebias         0.940988\n",
       "v2merange        1.004633\n",
       "v2mecrit         0.933917\n",
       "v2cldiscm        1.072112\n",
       "v2cldiscw        0.989828\n",
       "v2clacfree       0.970787\n",
       "v2psparban       1.183077\n",
       "v2psbars         1.316491\n",
       "v2psoppaut       1.236568\n",
       "v2elmulpar       0.577876\n",
       "v2cseeorgs       1.100355\n",
       "v2csreprss       0.962598\n",
       "v2elsuffrage    99.617870\n",
       "v2elembcap       0.957391\n",
       "v2elrgstry       0.715456\n",
       "v2elvotbuy       0.004929\n",
       "v2elirreg        0.111893\n",
       "v2elintim        0.179740\n",
       "v2elpeace        0.301976\n",
       "v2elfrfair       0.220041\n",
       "v2lgbicam        1.414201\n",
       "v2expathhs       6.106509\n",
       "v2exhoshog       0.355030\n",
       "v2exdfcbhs       0.006882\n",
       "v2exdfdmhs      -0.074189\n",
       "dtype: float64"
      ]
     },
     "execution_count": 30,
     "metadata": {},
     "output_type": "execute_result"
    }
   ],
   "source": [
    "vdem.loc[:, :].mean()"
   ]
  },
  {
   "cell_type": "code",
   "execution_count": 31,
   "id": "7b3bac3d",
   "metadata": {},
   "outputs": [
    {
     "name": "stderr",
     "output_type": "stream",
     "text": [
      "/opt/anaconda3/lib/python3.8/site-packages/ipykernel/ipkernel.py:287: DeprecationWarning: `should_run_async` will not call `transform_cell` automatically in the future. Please pass the result to `transformed_cell` argument and any exception that happen during thetransform in `preprocessing_exc_tuple` in IPython 7.17 and above.\n",
      "  and should_run_async(code)\n"
     ]
    }
   ],
   "source": [
    "import matplotlib.pyplot as plt\n",
    "import seaborn as sns"
   ]
  },
  {
   "cell_type": "code",
   "execution_count": 32,
   "id": "a554c296",
   "metadata": {},
   "outputs": [
    {
     "name": "stderr",
     "output_type": "stream",
     "text": [
      "/opt/anaconda3/lib/python3.8/site-packages/ipykernel/ipkernel.py:287: DeprecationWarning: `should_run_async` will not call `transform_cell` automatically in the future. Please pass the result to `transformed_cell` argument and any exception that happen during thetransform in `preprocessing_exc_tuple` in IPython 7.17 and above.\n",
      "  and should_run_async(code)\n"
     ]
    }
   ],
   "source": [
    "sns.set_theme(style='darkgrid')"
   ]
  },
  {
   "cell_type": "code",
   "execution_count": 33,
   "id": "d14f6053",
   "metadata": {},
   "outputs": [
    {
     "name": "stderr",
     "output_type": "stream",
     "text": [
      "/opt/anaconda3/lib/python3.8/site-packages/ipykernel/ipkernel.py:287: DeprecationWarning: `should_run_async` will not call `transform_cell` automatically in the future. Please pass the result to `transformed_cell` argument and any exception that happen during thetransform in `preprocessing_exc_tuple` in IPython 7.17 and above.\n",
      "  and should_run_async(code)\n"
     ]
    },
    {
     "data": {
      "image/png": "[encoded data removed]",
      "text/plain": [
       "<Figure size 864x144 with 1 Axes>"
      ]
     },
     "metadata": {},
     "output_type": "display_data"
    }
   ],
   "source": [
    "plt.figure(figsize=[12, 2])\n",
    "sns.boxplot(\n",
    "    x = 'variable', \n",
    "    y = 'value', \n",
    "    data = vdem.loc[:, ~vdem.columns.isin(['v2elsuffrage','v2expathhs'])].melt()#,'v2lgello','v2mefemjrn'\n",
    ")\n",
    "plt.xticks(rotation=45)\n",
    "plt.show()"
   ]
  },
  {
   "cell_type": "code",
   "execution_count": 34,
   "id": "f1a8c5e7",
   "metadata": {},
   "outputs": [
    {
     "name": "stderr",
     "output_type": "stream",
     "text": [
      "/opt/anaconda3/lib/python3.8/site-packages/ipykernel/ipkernel.py:287: DeprecationWarning: `should_run_async` will not call `transform_cell` automatically in the future. Please pass the result to `transformed_cell` argument and any exception that happen during thetransform in `preprocessing_exc_tuple` in IPython 7.17 and above.\n",
      "  and should_run_async(code)\n"
     ]
    },
    {
     "data": {
      "text/plain": [
       "<AxesSubplot:xlabel='variable', ylabel='value'>"
      ]
     },
     "execution_count": 34,
     "metadata": {},
     "output_type": "execute_result"
    },
    {
     "data": {
      "image/png": "[encoded data removed]",
      "text/plain": [
       "<Figure size 72x144 with 1 Axes>"
      ]
     },
     "metadata": {},
     "output_type": "display_data"
    }
   ],
   "source": [
    "plt.figure(figsize=[1, 2])\n",
    "sns.boxplot(\n",
    "    x = 'variable', \n",
    "    y = 'value', \n",
    "    data = vdem.loc[:, vdem.columns.isin(['v2expathhs'])].melt()\n",
    ")"
   ]
  },
  {
   "cell_type": "code",
   "execution_count": 35,
   "id": "c71edf2d",
   "metadata": {},
   "outputs": [
    {
     "name": "stderr",
     "output_type": "stream",
     "text": [
      "/opt/anaconda3/lib/python3.8/site-packages/ipykernel/ipkernel.py:287: DeprecationWarning: `should_run_async` will not call `transform_cell` automatically in the future. Please pass the result to `transformed_cell` argument and any exception that happen during thetransform in `preprocessing_exc_tuple` in IPython 7.17 and above.\n",
      "  and should_run_async(code)\n"
     ]
    },
    {
     "data": {
      "text/plain": [
       "<AxesSubplot:xlabel='variable', ylabel='value'>"
      ]
     },
     "execution_count": 35,
     "metadata": {},
     "output_type": "execute_result"
    },
    {
     "data": {
      "image/png": "[encoded data removed]",
      "text/plain": [
       "<Figure size 288x144 with 1 Axes>"
      ]
     },
     "metadata": {},
     "output_type": "display_data"
    }
   ],
   "source": [
    "plt.figure(figsize=[4, 2])\n",
    "sns.boxplot(\n",
    "    x = 'variable', \n",
    "    y = 'value', \n",
    "    data = vdem.loc[:, vdem.columns.isin(['v2elsuffrage'])].melt()#'v2lgello'\n",
    ")"
   ]
  },
  {
   "cell_type": "code",
   "execution_count": 36,
   "id": "6149824f",
   "metadata": {},
   "outputs": [
    {
     "name": "stderr",
     "output_type": "stream",
     "text": [
      "/opt/anaconda3/lib/python3.8/site-packages/ipykernel/ipkernel.py:287: DeprecationWarning: `should_run_async` will not call `transform_cell` automatically in the future. Please pass the result to `transformed_cell` argument and any exception that happen during thetransform in `preprocessing_exc_tuple` in IPython 7.17 and above.\n",
      "  and should_run_async(code)\n"
     ]
    }
   ],
   "source": [
    "X_vdem = vdem.to_numpy()"
   ]
  },
  {
   "cell_type": "code",
   "execution_count": 37,
   "id": "ed510126",
   "metadata": {},
   "outputs": [
    {
     "name": "stderr",
     "output_type": "stream",
     "text": [
      "/opt/anaconda3/lib/python3.8/site-packages/ipykernel/ipkernel.py:287: DeprecationWarning: `should_run_async` will not call `transform_cell` automatically in the future. Please pass the result to `transformed_cell` argument and any exception that happen during thetransform in `preprocessing_exc_tuple` in IPython 7.17 and above.\n",
      "  and should_run_async(code)\n"
     ]
    }
   ],
   "source": [
    "from sklearn.preprocessing import StandardScaler"
   ]
  },
  {
   "cell_type": "code",
   "execution_count": 38,
   "id": "5a156207",
   "metadata": {},
   "outputs": [
    {
     "name": "stderr",
     "output_type": "stream",
     "text": [
      "/opt/anaconda3/lib/python3.8/site-packages/ipykernel/ipkernel.py:287: DeprecationWarning: `should_run_async` will not call `transform_cell` automatically in the future. Please pass the result to `transformed_cell` argument and any exception that happen during thetransform in `preprocessing_exc_tuple` in IPython 7.17 and above.\n",
      "  and should_run_async(code)\n"
     ]
    }
   ],
   "source": [
    "X_vdem = StandardScaler().fit_transform(X_vdem)"
   ]
  },
  {
   "cell_type": "code",
   "execution_count": 39,
   "id": "c932dd86",
   "metadata": {},
   "outputs": [
    {
     "name": "stderr",
     "output_type": "stream",
     "text": [
      "/opt/anaconda3/lib/python3.8/site-packages/ipykernel/ipkernel.py:287: DeprecationWarning: `should_run_async` will not call `transform_cell` automatically in the future. Please pass the result to `transformed_cell` argument and any exception that happen during thetransform in `preprocessing_exc_tuple` in IPython 7.17 and above.\n",
      "  and should_run_async(code)\n"
     ]
    },
    {
     "data": {
      "image/png": "[encoded data removed]",
      "text/plain": [
       "<Figure size 864x144 with 1 Axes>"
      ]
     },
     "metadata": {},
     "output_type": "display_data"
    }
   ],
   "source": [
    "plt.figure(figsize=[12, 2])\n",
    "sns.boxplot(\n",
    "    x = 'variable', \n",
    "    y = 'value', \n",
    "    data = pd.DataFrame(data=X_vdem, columns=indicators).melt()\n",
    ")\n",
    "plt.xticks(rotation=45)\n",
    "plt.show()"
   ]
  },
  {
   "cell_type": "code",
   "execution_count": 40,
   "id": "429a17f9",
   "metadata": {},
   "outputs": [
    {
     "name": "stderr",
     "output_type": "stream",
     "text": [
      "/opt/anaconda3/lib/python3.8/site-packages/ipykernel/ipkernel.py:287: DeprecationWarning: `should_run_async` will not call `transform_cell` automatically in the future. Please pass the result to `transformed_cell` argument and any exception that happen during thetransform in `preprocessing_exc_tuple` in IPython 7.17 and above.\n",
      "  and should_run_async(code)\n"
     ]
    }
   ],
   "source": [
    "vdem_z=pd.DataFrame(data=X_vdem, columns=indicators,index=countries)"
   ]
  },
  {
   "cell_type": "code",
   "execution_count": 41,
   "id": "c98f8f4a",
   "metadata": {},
   "outputs": [
    {
     "name": "stderr",
     "output_type": "stream",
     "text": [
      "/opt/anaconda3/lib/python3.8/site-packages/ipykernel/ipkernel.py:287: DeprecationWarning: `should_run_async` will not call `transform_cell` automatically in the future. Please pass the result to `transformed_cell` argument and any exception that happen during thetransform in `preprocessing_exc_tuple` in IPython 7.17 and above.\n",
      "  and should_run_async(code)\n"
     ]
    },
    {
     "data": {
      "text/html": [
       "<div>\n",
       "<style scoped>\n",
       "    .dataframe tbody tr th:only-of-type {\n",
       "        vertical-align: middle;\n",
       "    }\n",
       "\n",
       "    .dataframe tbody tr th {\n",
       "        vertical-align: top;\n",
       "    }\n",
       "\n",
       "    .dataframe thead th {\n",
       "        text-align: right;\n",
       "    }\n",
       "</style>\n",
       "<table border=\"1\" class=\"dataframe\">\n",
       "  <thead>\n",
       "    <tr style=\"text-align: right;\">\n",
       "      <th></th>\n",
       "      <th>v2mecenefm</th>\n",
       "      <th>v2meharjrn</th>\n",
       "      <th>v2meslfcen</th>\n",
       "      <th>v2mebias</th>\n",
       "      <th>v2merange</th>\n",
       "      <th>v2mecrit</th>\n",
       "      <th>v2cldiscm</th>\n",
       "      <th>v2cldiscw</th>\n",
       "      <th>v2clacfree</th>\n",
       "      <th>v2psparban</th>\n",
       "      <th>...</th>\n",
       "      <th>v2elvotbuy</th>\n",
       "      <th>v2elirreg</th>\n",
       "      <th>v2elintim</th>\n",
       "      <th>v2elpeace</th>\n",
       "      <th>v2elfrfair</th>\n",
       "      <th>v2lgbicam</th>\n",
       "      <th>v2expathhs</th>\n",
       "      <th>v2exhoshog</th>\n",
       "      <th>v2exdfcbhs</th>\n",
       "      <th>v2exdfdmhs</th>\n",
       "    </tr>\n",
       "  </thead>\n",
       "  <tbody>\n",
       "    <tr>\n",
       "      <th>Mexico</th>\n",
       "      <td>-0.409599</td>\n",
       "      <td>-0.353126</td>\n",
       "      <td>0.145535</td>\n",
       "      <td>0.413101</td>\n",
       "      <td>0.433327</td>\n",
       "      <td>0.540235</td>\n",
       "      <td>1.181993</td>\n",
       "      <td>0.302050</td>\n",
       "      <td>0.587808</td>\n",
       "      <td>0.613223</td>\n",
       "      <td>...</td>\n",
       "      <td>-0.645696</td>\n",
       "      <td>0.431409</td>\n",
       "      <td>0.098918</td>\n",
       "      <td>-1.020694</td>\n",
       "      <td>0.713297</td>\n",
       "      <td>1.161255</td>\n",
       "      <td>0.551190</td>\n",
       "      <td>1.347838</td>\n",
       "      <td>0.848370</td>\n",
       "      <td>0.985447</td>\n",
       "    </tr>\n",
       "    <tr>\n",
       "      <th>Suriname</th>\n",
       "      <td>0.242393</td>\n",
       "      <td>0.828230</td>\n",
       "      <td>-0.119991</td>\n",
       "      <td>0.592888</td>\n",
       "      <td>1.180975</td>\n",
       "      <td>0.207882</td>\n",
       "      <td>0.534860</td>\n",
       "      <td>0.714613</td>\n",
       "      <td>0.363803</td>\n",
       "      <td>0.578041</td>\n",
       "      <td>...</td>\n",
       "      <td>0.263441</td>\n",
       "      <td>1.046131</td>\n",
       "      <td>0.841552</td>\n",
       "      <td>0.695241</td>\n",
       "      <td>0.796319</td>\n",
       "      <td>-0.821090</td>\n",
       "      <td>-0.065705</td>\n",
       "      <td>1.347838</td>\n",
       "      <td>1.092506</td>\n",
       "      <td>1.083525</td>\n",
       "    </tr>\n",
       "    <tr>\n",
       "      <th>Sweden</th>\n",
       "      <td>1.824642</td>\n",
       "      <td>1.145315</td>\n",
       "      <td>1.110859</td>\n",
       "      <td>1.149809</td>\n",
       "      <td>1.388793</td>\n",
       "      <td>1.759122</td>\n",
       "      <td>0.641849</td>\n",
       "      <td>0.788906</td>\n",
       "      <td>1.653245</td>\n",
       "      <td>0.994627</td>\n",
       "      <td>...</td>\n",
       "      <td>1.827306</td>\n",
       "      <td>0.795434</td>\n",
       "      <td>1.292999</td>\n",
       "      <td>0.906177</td>\n",
       "      <td>1.230690</td>\n",
       "      <td>-0.821090</td>\n",
       "      <td>-1.299495</td>\n",
       "      <td>-0.741929</td>\n",
       "      <td>-2.242723</td>\n",
       "      <td>-1.959736</td>\n",
       "    </tr>\n",
       "    <tr>\n",
       "      <th>Switzerland</th>\n",
       "      <td>1.679077</td>\n",
       "      <td>2.400209</td>\n",
       "      <td>1.979402</td>\n",
       "      <td>1.468408</td>\n",
       "      <td>0.921824</td>\n",
       "      <td>1.137225</td>\n",
       "      <td>1.127756</td>\n",
       "      <td>1.506544</td>\n",
       "      <td>1.444128</td>\n",
       "      <td>1.021813</td>\n",
       "      <td>...</td>\n",
       "      <td>1.680647</td>\n",
       "      <td>1.401227</td>\n",
       "      <td>1.137747</td>\n",
       "      <td>0.444013</td>\n",
       "      <td>1.100512</td>\n",
       "      <td>1.161255</td>\n",
       "      <td>-0.065705</td>\n",
       "      <td>1.347838</td>\n",
       "      <td>-1.907442</td>\n",
       "      <td>-1.990528</td>\n",
       "    </tr>\n",
       "    <tr>\n",
       "      <th>Ghana</th>\n",
       "      <td>0.995265</td>\n",
       "      <td>-0.036042</td>\n",
       "      <td>0.497916</td>\n",
       "      <td>0.520974</td>\n",
       "      <td>0.622102</td>\n",
       "      <td>0.291165</td>\n",
       "      <td>0.816449</td>\n",
       "      <td>0.474346</td>\n",
       "      <td>0.523300</td>\n",
       "      <td>0.438113</td>\n",
       "      <td>...</td>\n",
       "      <td>-0.585087</td>\n",
       "      <td>0.307778</td>\n",
       "      <td>0.154007</td>\n",
       "      <td>-0.258319</td>\n",
       "      <td>0.979632</td>\n",
       "      <td>-0.821090</td>\n",
       "      <td>0.551190</td>\n",
       "      <td>1.347838</td>\n",
       "      <td>0.055415</td>\n",
       "      <td>0.778457</td>\n",
       "    </tr>\n",
       "  </tbody>\n",
       "</table>\n",
       "<p>5 rows × 28 columns</p>\n",
       "</div>"
      ],
      "text/plain": [
       "             v2mecenefm  v2meharjrn  v2meslfcen  v2mebias  v2merange  \\\n",
       "Mexico        -0.409599   -0.353126    0.145535  0.413101   0.433327   \n",
       "Suriname       0.242393    0.828230   -0.119991  0.592888   1.180975   \n",
       "Sweden         1.824642    1.145315    1.110859  1.149809   1.388793   \n",
       "Switzerland    1.679077    2.400209    1.979402  1.468408   0.921824   \n",
       "Ghana          0.995265   -0.036042    0.497916  0.520974   0.622102   \n",
       "\n",
       "             v2mecrit  v2cldiscm  v2cldiscw  v2clacfree  v2psparban  ...  \\\n",
       "Mexico       0.540235   1.181993   0.302050    0.587808    0.613223  ...   \n",
       "Suriname     0.207882   0.534860   0.714613    0.363803    0.578041  ...   \n",
       "Sweden       1.759122   0.641849   0.788906    1.653245    0.994627  ...   \n",
       "Switzerland  1.137225   1.127756   1.506544    1.444128    1.021813  ...   \n",
       "Ghana        0.291165   0.816449   0.474346    0.523300    0.438113  ...   \n",
       "\n",
       "             v2elvotbuy  v2elirreg  v2elintim  v2elpeace  v2elfrfair  \\\n",
       "Mexico        -0.645696   0.431409   0.098918  -1.020694    0.713297   \n",
       "Suriname       0.263441   1.046131   0.841552   0.695241    0.796319   \n",
       "Sweden         1.827306   0.795434   1.292999   0.906177    1.230690   \n",
       "Switzerland    1.680647   1.401227   1.137747   0.444013    1.100512   \n",
       "Ghana         -0.585087   0.307778   0.154007  -0.258319    0.979632   \n",
       "\n",
       "             v2lgbicam  v2expathhs  v2exhoshog  v2exdfcbhs  v2exdfdmhs  \n",
       "Mexico        1.161255    0.551190    1.347838    0.848370    0.985447  \n",
       "Suriname     -0.821090   -0.065705    1.347838    1.092506    1.083525  \n",
       "Sweden       -0.821090   -1.299495   -0.741929   -2.242723   -1.959736  \n",
       "Switzerland   1.161255   -0.065705    1.347838   -1.907442   -1.990528  \n",
       "Ghana        -0.821090    0.551190    1.347838    0.055415    0.778457  \n",
       "\n",
       "[5 rows x 28 columns]"
      ]
     },
     "execution_count": 41,
     "metadata": {},
     "output_type": "execute_result"
    }
   ],
   "source": [
    "vdem_z.head()"
   ]
  },
  {
   "cell_type": "markdown",
   "id": "e41013c1",
   "metadata": {},
   "source": [
    "<b>Factor Analysis</b>\n",
    "\n",
    "In social sciences one deals a lot with abstract concepts that one can't directly observe and are difficult to measure empirically. For example, imagine we want to measure electoral democracies of given countries. Since electoral democracy is not a material thing, one can't look at country and measure phisically the amount of this democracy. In other words, this is a concept developed by political and social scientists and such a variable that represents it is called 'unobserved' or 'latent' variable (McLevey, 2022).    \n",
    "\n",
    "In order to succied, we would need to find/develop measurement strategies and models that are transparently validated. First, we will need to develop conceptual and operational definition of electoral democracy. A conceptiual definition includes describing how abstarct concept relates to other concepts. It can be done by dividing it into more specific aspects/dimensions. Second, we would need to define operational definition that describes \"specific operations that one would have to perform to generate empirical obeservations(i.e. data) for each of the various dimension.\"(MCLevey, 2022) These variables that are observed are called indicator variables.   \n",
    "\n",
    "According to Coppedge et. al (2021), electoral democracy is divided into five concepts (Figure, 2):  \n",
    "1) Freedom of expression,\n",
    "2) Freedom of association,\n",
    "3) Share of adults citizens with suffrage,\n",
    "4) Officials are elected.\n",
    "\n",
    "Where each of this concepts is composed of many other features (Figure 2, top-level). Since we have these observations for many countries in our dataset. Let us test this theoretical model of latent factors using factor analysis.\n",
    "\n",
    "|<img src='images/Latent_variables.jpg' style='float: none; width: 640px'>|\n",
    "|:--|\n",
    "|<em style='float: center'>**Figure 2**: Latent variables - at the top are observable features... (MCLevey, 2022)</em>|\n",
    "\n",
    "In broader sence, factor analysis objectives are 1) to reduce the number of features, 2) find latent variables. In other words, we will try to cluster features in a meaningful way. This can be achived by checking correlations between features and finding groups of features that are highly correlated between each other and are not correlated with leftover variables.  \n"
   ]
  },
  {
   "cell_type": "markdown",
   "id": "112725f4",
   "metadata": {},
   "source": [
    "We would need to import neccesary packages."
   ]
  },
  {
   "cell_type": "code",
   "execution_count": 42,
   "id": "d21a7ae7",
   "metadata": {},
   "outputs": [
    {
     "name": "stderr",
     "output_type": "stream",
     "text": [
      "/opt/anaconda3/lib/python3.8/site-packages/ipykernel/ipkernel.py:287: DeprecationWarning: `should_run_async` will not call `transform_cell` automatically in the future. Please pass the result to `transformed_cell` argument and any exception that happen during thetransform in `preprocessing_exc_tuple` in IPython 7.17 and above.\n",
      "  and should_run_async(code)\n"
     ]
    },
    {
     "ename": "ModuleNotFoundError",
     "evalue": "No module named 'factor_analyzer'",
     "output_type": "error",
     "traceback": [
      "\u001b[0;31m---------------------------------------------------------------------------\u001b[0m",
      "\u001b[0;31mModuleNotFoundError\u001b[0m                       Traceback (most recent call last)",
      "\u001b[0;32m<ipython-input-42-15e27d63a66e>\u001b[0m in \u001b[0;36m<module>\u001b[0;34m\u001b[0m\n\u001b[1;32m      1\u001b[0m \u001b[0;31m#!pip install factor-analyzer\u001b[0m\u001b[0;34m\u001b[0m\u001b[0;34m\u001b[0m\u001b[0;34m\u001b[0m\u001b[0m\n\u001b[1;32m      2\u001b[0m \u001b[0;31m# Instantiate factor analysis object\u001b[0m\u001b[0;34m\u001b[0m\u001b[0;34m\u001b[0m\u001b[0;34m\u001b[0m\u001b[0m\n\u001b[0;32m----> 3\u001b[0;31m \u001b[0;32mfrom\u001b[0m \u001b[0mfactor_analyzer\u001b[0m \u001b[0;32mimport\u001b[0m \u001b[0mFactorAnalyzer\u001b[0m\u001b[0;34m\u001b[0m\u001b[0;34m\u001b[0m\u001b[0m\n\u001b[0m\u001b[1;32m      4\u001b[0m \u001b[0;32mfrom\u001b[0m \u001b[0mfactor_analyzer\u001b[0m\u001b[0;34m.\u001b[0m\u001b[0mfactor_analyzer\u001b[0m \u001b[0;32mimport\u001b[0m \u001b[0mcalculate_bartlett_sphericity\u001b[0m\u001b[0;34m,\u001b[0m\u001b[0mcalculate_kmo\u001b[0m\u001b[0;34m\u001b[0m\u001b[0;34m\u001b[0m\u001b[0m\n",
      "\u001b[0;31mModuleNotFoundError\u001b[0m: No module named 'factor_analyzer'"
     ]
    }
   ],
   "source": [
    "#!pip install factor-analyzer\n",
    "# Instantiate factor analysis object\n",
    "from factor_analyzer import FactorAnalyzer \n",
    "from factor_analyzer.factor_analyzer import calculate_bartlett_sphericity,calculate_kmo"
   ]
  },
  {
   "cell_type": "markdown",
   "id": "83c5b760",
   "metadata": {},
   "source": [
    "First, we would need to investigate our correlation matrix. For that perpose we would display correlation matrix as heatmap using seaborn package. Parameters xticklabels and  yticklabels we use in order to display all variables. "
   ]
  },
  {
   "cell_type": "code",
   "execution_count": null,
   "id": "e05b3ed2",
   "metadata": {},
   "outputs": [],
   "source": [
    "#c = pd.DataFrame(FactorAnalyzer(n_factors=vdem_z.shape[1]).fit(vdem_z).corr_,index=indicators,columns=indicators)\n",
    "c = vdem_z.corr() #or you can calculate correlationmatrix using pandas\n",
    "sns.heatmap(c,xticklabels=True, yticklabels=True); "
   ]
  },
  {
   "cell_type": "markdown",
   "id": "fcae19b2",
   "metadata": {},
   "source": [
    "According to the plot we see 3 highly correlated groups. First fifteen variables, then from v2elembcap to v2elfrfair and last four.  \n",
    "\n",
    "Should we drop some variables?\n",
    "\n",
    "On this stage we can also remove variables that have low correlations. As a rule of thumb, we will drop variables with all correlations lower than 0.3. We will investigate values \"v2elsuffrage\",\"v2lgbicam\",\"v2expathhs\""
   ]
  },
  {
   "cell_type": "code",
   "execution_count": null,
   "id": "5fc64210",
   "metadata": {},
   "outputs": [],
   "source": [
    "c[[\"v2elsuffrage\",\"v2lgbicam\",\"v2expathhs\"]]"
   ]
  },
  {
   "cell_type": "markdown",
   "id": "e40d8cc9",
   "metadata": {},
   "source": [
    "Variables \"v2elsuffrage\" (percent of population with suffrage) and \"v2lgbicam\" (legislature bicameral) do not have even moderate correlations with outher variables. If we return back to Figure 2. We will see that in or theoretical model \"Suffrage\" is one separate indices that can contribute to Electoral democracy latent variable. \n",
    "\n",
    "We will remove both these variables from our model and thus decrease our model to 4 subgroups, i.e., factors. But before dong that we will perform two test: \n",
    "1) Bartlett's test - helps us to judge if every variable correlates badly with all other variables. If it is not then we can apply factor analysis. \n",
    "2) Kaiser-Meyer-Olkin (KMO) - esimates suitability of our data for factor analysis. It will give us as result two parameters: adequacy for each observed variable and complete model.\n"
   ]
  },
  {
   "cell_type": "code",
   "execution_count": null,
   "id": "8379ee60",
   "metadata": {},
   "outputs": [],
   "source": [
    "#Bartlett's test \n",
    "chi_square_value,p_value=calculate_bartlett_sphericity(vdem_z)\n",
    "print (chi_square_value, p_value)"
   ]
  },
  {
   "cell_type": "markdown",
   "id": "8c471fa4",
   "metadata": {},
   "source": [
    "According to p-value the test was statistically signifficant, i.e., it is suitable for factor analysis. "
   ]
  },
  {
   "cell_type": "code",
   "execution_count": null,
   "id": "7768a075",
   "metadata": {},
   "outputs": [],
   "source": [
    "#KMO\n",
    "kmo_all,kmo_model=calculate_kmo(vdem_z)\n",
    "print (kmo_all)\n",
    "print (kmo_model)"
   ]
  },
  {
   "cell_type": "markdown",
   "id": "abb404f7",
   "metadata": {},
   "source": [
    "Here, values lower than 0.6 are considered inadequate. In our case those are veraibles 16 and 24 that correspond to \"v2elsuffrage\" and \"v2lgbicam\". We will remove them from our model.  "
   ]
  },
  {
   "cell_type": "code",
   "execution_count": null,
   "id": "7966e1a7",
   "metadata": {},
   "outputs": [],
   "source": [
    "indicators.remove('v2lgbicam')\n",
    "indicators.remove('v2elsuffrage')\n",
    "vdem_z=vdem_z.drop(['v2lgbicam','v2elsuffrage'], axis=1)"
   ]
  },
  {
   "cell_type": "markdown",
   "id": "e4457439",
   "metadata": {},
   "source": [
    "After removing variables we left with our theoretical model that have 4 factors. So, let us fit this model. \n",
    "\n",
    "In order to improve interpetability we will add rotation parameter, in this case Varimax rotation. More on that you can find here ...  \n",
    "\n",
    "\"Create an optimal number of factors i.e. 5 in our case. Then, we have to interpret the factors by making use of loadings, variance, and commonalities.\""
   ]
  },
  {
   "cell_type": "code",
   "execution_count": null,
   "id": "54559523",
   "metadata": {},
   "outputs": [],
   "source": [
    "factor_an = FactorAnalyzer(n_factors=4,rotation=\"varimax\")\n",
    "factor_an.fit(vdem_z)"
   ]
  },
  {
   "cell_type": "markdown",
   "id": "08dcbda4",
   "metadata": {},
   "source": [
    "Now we can interpret the factors using loading, variance and commonalities. \n",
    "\n",
    "<b>Loadings</b>. These values show the relative contribution of variable towards the factor. In other words, to what extend the factor explains each variable. Values close to 1 or -1 show that certain factor has an influence on a variable. "
   ]
  },
  {
   "cell_type": "code",
   "execution_count": null,
   "id": "f0713b00",
   "metadata": {},
   "outputs": [],
   "source": [
    "pd.DataFrame(factor_an.loadings_, columns=[\"Factor1\",\"Factor2\",\"Factor3\",\"Factor4\"], index=[vdem_z.columns])"
   ]
  },
  {
   "cell_type": "markdown",
   "id": "14eeecd7",
   "metadata": {},
   "source": [
    "For example, Factor 1 have high loadings for first fifteen variables. \n",
    "\n",
    "\n",
    "\n",
    "<b>Variance.</b> Let's check the amount of variance that can be explained by each factor. "
   ]
  },
  {
   "cell_type": "code",
   "execution_count": null,
   "id": "ed918343",
   "metadata": {},
   "outputs": [],
   "source": [
    "pd.DataFrame(factor_an.get_factor_variance(), columns=[\"Factor1\",\"Factor2\",\"Factor3\",\"Factor4\"], \n",
    "             index=[\"SumSquare Loadings\",\"Proportional Variance\",\"Cumulative Variance\"])"
   ]
  },
  {
   "cell_type": "markdown",
   "id": "eb58f4b4",
   "metadata": {},
   "source": [
    "We can say that about 78% of the variance is explained by five factors.\n"
   ]
  },
  {
   "cell_type": "code",
   "execution_count": null,
   "id": "f9431654",
   "metadata": {},
   "outputs": [],
   "source": []
  },
  {
   "cell_type": "markdown",
   "id": "0ededee9",
   "metadata": {},
   "source": [
    "\"Communality is the proportion of each variable’s variance that can be explained by the factors. \"\n",
    "\n",
    "\"The proportion of common variance present in a variable is known as the communality\""
   ]
  },
  {
   "cell_type": "code",
   "execution_count": null,
   "id": "e6463c20",
   "metadata": {},
   "outputs": [],
   "source": [
    "pd.DataFrame(factor_an.get_communalities(),index=vdem_z.columns,columns=['Communalities'])"
   ]
  },
  {
   "cell_type": "code",
   "execution_count": null,
   "id": "b506c4f7",
   "metadata": {},
   "outputs": [],
   "source": [
    "new_variables = factor_an.fit_transform(vdem_z)"
   ]
  },
  {
   "cell_type": "markdown",
   "id": "f509206c",
   "metadata": {},
   "source": [
    "\"We could use these new factors as variable for other analysis or for prediction. Here is the code to apply the factors to the entire dataframe and create the 3 new variables, that could be used as replacement for the \" 35 variables."
   ]
  },
  {
   "cell_type": "markdown",
   "id": "c42f43d9",
   "metadata": {},
   "source": [
    "\"To figure out how many factors we would need, we can look at eigenvalues, which is a measure of how much of the variance of the variables does a factor explain. An eigenvalue of more than one means that the factor explains more variance than a unique variable. An eigenvalue of 2.5 means that the factor would explain the variance of 2.5 variables, and so on.\"\n",
    "\n",
    "\n",
    "Calculate the eigenvalues, given the factor correlation matrix.\n",
    "\n",
    "\"In factor analysis, eigenvalues are used to condense the variance in a correlation matrix.\""
   ]
  },
  {
   "cell_type": "code",
   "execution_count": null,
   "id": "2875027c",
   "metadata": {},
   "outputs": [],
   "source": [
    "factor_an = FactorAnalyzer(n_factors=vdem_z.shape[1],rotation='varimax').fit(vdem_z)\n",
    "\n",
    "# Check Eigenvalues\n",
    "ev, v = factor_an.get_eigenvalues()\n",
    "ev"
   ]
  },
  {
   "cell_type": "markdown",
   "id": "91e9548f",
   "metadata": {},
   "source": [
    "\"Eigenvalues are nothing but the amount of variance the factor explains. We will select the number of factors whose eigenvalues are greater than 1.\"\n",
    "We select 3. "
   ]
  },
  {
   "cell_type": "code",
   "execution_count": null,
   "id": "f2c7b8cf",
   "metadata": {},
   "outputs": [],
   "source": []
  },
  {
   "cell_type": "markdown",
   "id": "27095356",
   "metadata": {},
   "source": [
    "\"These techniques differ in the communality estimates that are used. Simplistically, though, factor analysis derives a mathematical model from which factors are estimated, whereas principal components analysis merely decomposes the original data into a set of linear variates\"\n",
    "\n",
    "\n",
    "\"only factor analysis can estimate the underlying factors, and it relies on various assumptions for these estimates to be accurate. Principal components analysis is concerned only with establishing which linear components exist within the data and how a particular variable might contribute to that component. \""
   ]
  },
  {
   "cell_type": "markdown",
   "id": "16ef76a1",
   "metadata": {},
   "source": [
    "\"The first is to assume that all of the variance is common variance. As such, we assume that the communality of every variable is 1. By making this assumption we merely transpose our original data into constituent linear components (known as principal components analysis)\""
   ]
  },
  {
   "cell_type": "markdown",
   "id": "3e408d20",
   "metadata": {},
   "source": [
    "\" The second approach is to estimate the mount of common variance by estimating communality values for each variable. There\n",
    "are various methods of estimating communalities, but the most widely used (including\n",
    "alpha factoring) is to use the squared multiple correlation (SMC) of each variable with all\n",
    "others. So, for the popularity data, imagine you ran a multiple regression using one meas-\n",
    "ure (Selfish) as the outcome and the other five measures as predictors: the resulting multi-\n",
    "ple R2 (see section 7.6.2) would be used as an estimate of the communality for the variable\n",
    "Selfish. This second approach is used in factor analysis. \""
   ]
  },
  {
   "cell_type": "code",
   "execution_count": null,
   "id": "55b0258f",
   "metadata": {
    "scrolled": true
   },
   "outputs": [],
   "source": [
    "#################### ------ PCA ---- \n",
    "\n",
    "#no that is pca terminology \n",
    "from sklearn.decomposition import FactorAnalysis\n",
    "transformer = FactorAnalysis(n_components=vdem_z.shape[1], random_state=0,rotation='varimax')\n",
    "#z = transformer.fit_transform(vdem)\n",
    "X= transformer.fit(vdem_z)\n",
    "\n",
    "pd.DataFrame(transformer.components_,columns=indicators)\n",
    "#get_feature_names_out()\n",
    "#transformer.mean_"
   ]
  },
  {
   "cell_type": "markdown",
   "id": "83c88e5a",
   "metadata": {},
   "source": [
    "PCA"
   ]
  },
  {
   "cell_type": "code",
   "execution_count": null,
   "id": "3b5fce8e",
   "metadata": {},
   "outputs": [],
   "source": [
    "from sklearn.decomposition import PCA"
   ]
  },
  {
   "cell_type": "code",
   "execution_count": null,
   "id": "46d0c148",
   "metadata": {},
   "outputs": [],
   "source": [
    "pca_vdem = PCA(random_state=42)"
   ]
  },
  {
   "cell_type": "code",
   "execution_count": null,
   "id": "84afa8d3",
   "metadata": {},
   "outputs": [],
   "source": [
    "X_vdem_pca = pca_vdem.fit_transform(X_vdem)"
   ]
  },
  {
   "cell_type": "code",
   "execution_count": null,
   "id": "5b52bc5a",
   "metadata": {},
   "outputs": [],
   "source": [
    "X_vdem_pca.shape"
   ]
  },
  {
   "cell_type": "code",
   "execution_count": null,
   "id": "2d656137",
   "metadata": {},
   "outputs": [],
   "source": [
    "vdem_pc = pd.DataFrame(X_vdem_pca, index=countries)\n",
    "vdem_pc.columns=[f'PC {i}' for i in vdem_pc.columns]\n",
    "vdem_pc"
   ]
  },
  {
   "cell_type": "code",
   "execution_count": null,
   "id": "ee436879",
   "metadata": {},
   "outputs": [],
   "source": [
    "sum(pca_vdem.explained_variance_ratio_)"
   ]
  },
  {
   "cell_type": "code",
   "execution_count": null,
   "id": "c4cc9e39",
   "metadata": {},
   "outputs": [],
   "source": [
    "import numpy as np"
   ]
  },
  {
   "cell_type": "code",
   "execution_count": null,
   "id": "bcb9229a",
   "metadata": {},
   "outputs": [],
   "source": [
    "plt.figure(figsize=[3, 3])\n",
    "plt.plot(np.cumsum(pca_vdem.explained_variance_ratio_))\n",
    "plt.xlabel('Principal component')\n",
    "plt.ylabel('Cumulative explained variance')"
   ]
  },
  {
   "cell_type": "markdown",
   "id": "be4690ae",
   "metadata": {},
   "source": [
    "PCA describes as many components as there are variables; the `n_components` parameter just means how many of those are kept."
   ]
  },
  {
   "cell_type": "markdown",
   "id": "c0cc8bbc",
   "metadata": {},
   "source": [
    "How many components to keep?"
   ]
  },
  {
   "cell_type": "code",
   "execution_count": null,
   "id": "d203671c",
   "metadata": {},
   "outputs": [],
   "source": [
    "eigenvalues_vdem = pd.Series(pca_vdem.explained_variance_)\n",
    "eigenvalues_vdem"
   ]
  },
  {
   "cell_type": "code",
   "execution_count": null,
   "id": "2d163cc6",
   "metadata": {},
   "outputs": [],
   "source": [
    "plt.figure(figsize=[3, 3])\n",
    "plt.plot(eigenvalues_vdem)\n",
    "plt.xlabel('Principal component')\n",
    "plt.ylabel('Eigenvalue')\n",
    "plt.xscale('log')\n",
    "plt.yscale('log')"
   ]
  },
  {
   "cell_type": "code",
   "execution_count": null,
   "id": "ccc5a209",
   "metadata": {},
   "outputs": [],
   "source": [
    "pd.DataFrame(zip(X_vdem_pca[:, 0], X_vdem_pca[:, 1]), columns=['PC1', 'PC2'])"
   ]
  },
  {
   "cell_type": "code",
   "execution_count": null,
   "id": "8103d587",
   "metadata": {},
   "outputs": [],
   "source": [
    "vdem_pc.head()"
   ]
  },
  {
   "cell_type": "code",
   "execution_count": null,
   "id": "6ca89f89",
   "metadata": {},
   "outputs": [],
   "source": [
    "plt.figure(figsize=[9, 6])\n",
    "ax = sns.kdeplot(data=vdem_pc, x='PC 0', y='PC 1', alpha=.8, fill=True)\n",
    "for i, country in enumerate(vdem_pc.index):\n",
    "    ax.text(\n",
    "        x = vdem_pc['PC 0'][i], \n",
    "        y = vdem_pc['PC 1'][i], \n",
    "        s = country, \n",
    "        horizontalalignment = 'left', \n",
    "        size = 6, \n",
    "        color = 'black', \n",
    "        weight = 'normal'\n",
    "    )\n",
    "ax.set(xticklabels=[], yticklabels=[])\n",
    "ax.set(\n",
    "    xlabel = f'$\\longleftarrow$ PC 0 (eigenvalue: {np.round(eigenvalues_vdem.loc[0], 2)}) $\\longrightarrow$', \n",
    "    ylabel = f'$\\longleftarrow$ PC 1 (eigenvalue: {np.round(eigenvalues_vdem.loc[1], 2)}) $\\longrightarrow$'\n",
    ")\n",
    "plt.show()"
   ]
  },
  {
   "cell_type": "code",
   "execution_count": null,
   "id": "322358d2",
   "metadata": {},
   "outputs": [],
   "source": []
  },
  {
   "cell_type": "code",
   "execution_count": null,
   "id": "d8b40757",
   "metadata": {},
   "outputs": [],
   "source": []
  },
  {
   "cell_type": "code",
   "execution_count": null,
   "id": "a402d8e4",
   "metadata": {},
   "outputs": [],
   "source": []
  },
  {
   "cell_type": "markdown",
   "id": "a60643dd",
   "metadata": {},
   "source": [
    "\"Run factor analysis if you assume or wish to test a theoretical model of latent factors causing observed variables. Run principal component analysis If you want to simply reduce your correlated observed variables to a smaller set of important independent composite variables.\""
   ]
  },
  {
   "cell_type": "markdown",
   "id": "8a900371",
   "metadata": {},
   "source": [
    "BOX: How is PCA related to FactorAnalysis?\n",
    "https://scikit-learn.org/stable/modules/generated/sklearn.decomposition.FactorAnalysis.html"
   ]
  },
  {
   "cell_type": "markdown",
   "id": "f4dd5021",
   "metadata": {},
   "source": [
    "BOX: Why is that machine learning?"
   ]
  },
  {
   "cell_type": "markdown",
   "id": "4d23009a",
   "metadata": {},
   "source": [
    "### 8.1.2. Unstructured (text) data\n",
    "\n",
    "Introduce other methods (Non-negative matrix factorization, Sparse PCA, Kernel PCA, Truncated Singular Value Decomposition aka LSI, Latent Dirichlet Allocation, etc.): https://scikit-learn.org/stable/modules/classes.html#module-sklearn.decomposition"
   ]
  },
  {
   "cell_type": "code",
   "execution_count": null,
   "id": "25903958",
   "metadata": {},
   "outputs": [],
   "source": []
  },
  {
   "attachments": {},
   "cell_type": "markdown",
   "id": "20c2f8be",
   "metadata": {},
   "source": [
    "#### Latent Dirichlet Allocation (LDA)\n",
    "\n",
    "**Latent Dirichlet Allocation (LDA)** is a generative probabilistic model which is generally used for topic modeling. \n",
    "\n",
    "**Topic modeling** is a technique in natural language processing (NLP) used to uncover underlying themes in a large corpus of text. The goal of topic modeling is to identify the most important topics in a collection of documents and to extract the most important words and phrases associated with each topic.\n",
    "\n",
    "There are several popular topic modeling algorithms, including Latent Dirichlet Allocation (LDA) and Non-Negative Matrix Factorization (NMF). These algorithms are **unsupervised**, meaning that they do not require labeled data. On the contrary, they are based on the assumption that words that frequently occur together in a document are likely to be associated with the same topic.\n",
    "\n",
    "Topic modeling typically involves the following steps:\n",
    "\n",
    "- Preprocessing the data: The text data is cleaned and preprocessed to remove unnecessary information such as stop words, punctuation, and special characters.\n",
    "- Vectorization: the preprocessed text data is converted into a numerical vector representation, such as a bag-of-words or TF-IDF (Term Frequency-Inverse Document Frequency) matrix.\n",
    "- Model training: a topic modeling algorithm is applied to the vectorized text data to identify the main topics or themes. This includes identifying the words or phrases most strongly associated with each topic.\n",
    "- Theme Interpretation: the resulting themes are interpreted by examining the most representative words or phrases for each theme. This may involve manually examining the most important words for each theme or using automated techniques to summarize the themes.\n",
    "\n",
    "LDA assumes that each document is a mixture of different topics, and each topic is a probability distribution over words. The algorithm takes a collection of documents as input and returns a set of topics, each represented by a probability distribution over words.\n",
    "\n",
    "The basic idea behind LDA is that each document is represented as a distribution of topics and each topic is represented as a distribution of words. The algorithm assumes that the documents are generated in the following way:\n",
    "\n",
    "- For each document, a distribution of topics is selected from a Dirichlet distribution.\n",
    "- For each word in the document:\n",
    "    - Select a topic from the distribution of topics of the document.\n",
    "    - Select a word from the distribution of words for the selected topic.\n",
    "\n",
    "The algorithm iteratively learns the topic distributions for each document and the word distributions for each topic by maximizing the probability of the observed data. This optimization is usually done using the expectation maximization algorithm (EM).\n",
    "\n",
    "Once the algorithm has converged, it returns a set of topics, each represented by a distribution over words. These themes can be interpreted by examining the most likely words for each theme. \n",
    "\n",
    "Here we present an example of LDA applied to a set of documents. We will use the New York Times articles that we preprocessed in Session 6. Let's import the TF-IDF matrix that we previously extracted from this corpus:"
   ]
  },
  {
   "cell_type": "code",
   "execution_count": 48,
   "id": "fad02c55",
   "metadata": {},
   "outputs": [
    {
     "name": "stderr",
     "output_type": "stream",
     "text": [
      "/opt/anaconda3/lib/python3.8/site-packages/ipykernel/ipkernel.py:287: DeprecationWarning: `should_run_async` will not call `transform_cell` automatically in the future. Please pass the result to `transformed_cell` argument and any exception that happen during thetransform in `preprocessing_exc_tuple` in IPython 7.17 and above.\n",
      "  and should_run_async(code)\n"
     ]
    },
    {
     "data": {
      "text/html": [
       "<div>\n",
       "<style scoped>\n",
       "    .dataframe tbody tr th:only-of-type {\n",
       "        vertical-align: middle;\n",
       "    }\n",
       "\n",
       "    .dataframe tbody tr th {\n",
       "        vertical-align: top;\n",
       "    }\n",
       "\n",
       "    .dataframe thead th {\n",
       "        text-align: right;\n",
       "    }\n",
       "</style>\n",
       "<table border=\"1\" class=\"dataframe\">\n",
       "  <thead>\n",
       "    <tr style=\"text-align: right;\">\n",
       "      <th></th>\n",
       "      <th>article</th>\n",
       "      <th>url</th>\n",
       "      <th>category</th>\n",
       "    </tr>\n",
       "  </thead>\n",
       "  <tbody>\n",
       "    <tr>\n",
       "      <th>0</th>\n",
       "      <td>WASHINGTON — Stellar pitching kept the Mets af...</td>\n",
       "      <td>URL: http://www.nytimes.com/2016/06/30/sports/...</td>\n",
       "      <td>sports</td>\n",
       "    </tr>\n",
       "    <tr>\n",
       "      <th>1</th>\n",
       "      <td>Mayor Bill de Blasio’s counsel and chief legal...</td>\n",
       "      <td>URL: http://www.nytimes.com/2016/06/30/nyregio...</td>\n",
       "      <td>nyregion</td>\n",
       "    </tr>\n",
       "    <tr>\n",
       "      <th>2</th>\n",
       "      <td>In the early morning hours of Labor Day last y...</td>\n",
       "      <td>URL: http://www.nytimes.com/2016/06/30/nyregio...</td>\n",
       "      <td>nyregion</td>\n",
       "    </tr>\n",
       "    <tr>\n",
       "      <th>3</th>\n",
       "      <td>It was the Apple Store in New York City before...</td>\n",
       "      <td>URL: http://www.nytimes.com/2016/06/30/nyregio...</td>\n",
       "      <td>nyregion</td>\n",
       "    </tr>\n",
       "    <tr>\n",
       "      <th>4</th>\n",
       "      <td>OMAHA — The United States Olympic swimming tri...</td>\n",
       "      <td>URL: http://www.nytimes.com/2016/06/30/sports/...</td>\n",
       "      <td>sports</td>\n",
       "    </tr>\n",
       "  </tbody>\n",
       "</table>\n",
       "</div>"
      ],
      "text/plain": [
       "                                             article  \\\n",
       "0  WASHINGTON — Stellar pitching kept the Mets af...   \n",
       "1  Mayor Bill de Blasio’s counsel and chief legal...   \n",
       "2  In the early morning hours of Labor Day last y...   \n",
       "3  It was the Apple Store in New York City before...   \n",
       "4  OMAHA — The United States Olympic swimming tri...   \n",
       "\n",
       "                                                 url  category  \n",
       "0  URL: http://www.nytimes.com/2016/06/30/sports/...    sports  \n",
       "1  URL: http://www.nytimes.com/2016/06/30/nyregio...  nyregion  \n",
       "2  URL: http://www.nytimes.com/2016/06/30/nyregio...  nyregion  \n",
       "3  URL: http://www.nytimes.com/2016/06/30/nyregio...  nyregion  \n",
       "4  URL: http://www.nytimes.com/2016/06/30/sports/...    sports  "
      ]
     },
     "execution_count": 48,
     "metadata": {},
     "output_type": "execute_result"
    }
   ],
   "source": [
    "# !pip install gensim\n",
    "import pandas as pd\n",
    "news = pd.read_csv(\"../c_data_preprocessing_methods/data/nyt_articles.csv\")\n",
    "news.head()"
   ]
  },
  {
   "cell_type": "code",
   "execution_count": 49,
   "id": "8c2fde84",
   "metadata": {},
   "outputs": [
    {
     "name": "stderr",
     "output_type": "stream",
     "text": [
      "/opt/anaconda3/lib/python3.8/site-packages/ipykernel/ipkernel.py:287: DeprecationWarning: `should_run_async` will not call `transform_cell` automatically in the future. Please pass the result to `transformed_cell` argument and any exception that happen during thetransform in `preprocessing_exc_tuple` in IPython 7.17 and above.\n",
      "  and should_run_async(code)\n"
     ]
    }
   ],
   "source": [
    "import pickle as pkl\n",
    "\n",
    "with open(\"../c_data_preprocessing_methods/output/tf_idf_gensim.pkl\", \"rb\") as file:\n",
    "    tf_idf = pkl.load(file)\n",
    "\n",
    "with open(\"../c_data_preprocessing_methods/output/dict_gensim.pkl\", \"rb\") as file:\n",
    "    dct = pkl.load(file)\n",
    "\n",
    "with open(\"../c_data_preprocessing_methods/output/corpus.pkl\", \"rb\") as file:\n",
    "    corpus = pkl.load(file)\n",
    "\n",
    "with open(\"../c_data_preprocessing_methods/output/corpus_bow.pkl\", \"rb\") as file:\n",
    "    corpus_bow = pkl.load(file)"
   ]
  },
  {
   "cell_type": "code",
   "execution_count": 50,
   "id": "61d9319f",
   "metadata": {},
   "outputs": [
    {
     "name": "stderr",
     "output_type": "stream",
     "text": [
      "/opt/anaconda3/lib/python3.8/site-packages/ipykernel/ipkernel.py:287: DeprecationWarning: `should_run_async` will not call `transform_cell` automatically in the future. Please pass the result to `transformed_cell` argument and any exception that happen during thetransform in `preprocessing_exc_tuple` in IPython 7.17 and above.\n",
      "  and should_run_async(code)\n"
     ]
    },
    {
     "name": "stdout",
     "output_type": "stream",
     "text": [
      "(0, '0.001*\"tribune_publishing\" + 0.001*\"tribune\" + 0.001*\"tenant\" + 0.000*\"revenue_bond\" + 0.000*\"gilbert\" + 0.000*\"ferro\" + 0.000*\"fitbit\" + 0.000*\"general_obligation\" + 0.000*\"goodell\" + 0.000*\"zarrab\"')\n",
      "(1, '0.002*\"beyonc\" + 0.002*\"lemonade\" + 0.001*\"cultural_revolution\" + 0.000*\"falluja\" + 0.000*\"percoco\" + 0.000*\"cum_laude\" + 0.000*\"graduated_magna\" + 0.000*\"album\" + 0.000*\"bride\" + 0.000*\"vega\"')\n",
      "(2, '0.002*\"theranos\" + 0.001*\"cosby\" + 0.001*\"ufc\" + 0.001*\"holmes\" + 0.000*\"theranoss\" + 0.000*\"walgreens\" + 0.000*\"starr\" + 0.000*\"cosbys\" + 0.000*\"baylor\" + 0.000*\"nhl\"')\n",
      "(3, '0.002*\"recipe\" + 0.001*\"asparagus\" + 0.001*\"sanofi\" + 0.001*\"cooking\" + 0.001*\"abortion\" + 0.001*\"good_morne\" + 0.001*\"schneiderman\" + 0.000*\"monsanto\" + 0.000*\"weber\" + 0.000*\"team\"')\n",
      "(4, '0.001*\"opera\" + 0.001*\"orchestra\" + 0.000*\"symphony\" + 0.000*\"philharmonic\" + 0.000*\"classical_music\" + 0.000*\"soprano\" + 0.000*\"conductor\" + 0.000*\"carnegie_hall\" + 0.000*\"weiss\" + 0.000*\"williams\"')\n",
      "(5, '0.002*\"boko_haram\" + 0.001*\"kasich\" + 0.001*\"duterte\" + 0.001*\"gm\" + 0.001*\"ma\" + 0.000*\"bp\" + 0.000*\"fiat_chrysler\" + 0.000*\"nigerian\" + 0.000*\"automaker\" + 0.000*\"tiger\"')\n",
      "(6, '0.005*\"yankees\" + 0.002*\"girardi\" + 0.002*\"hastert\" + 0.001*\"rodriguez\" + 0.001*\"temer\" + 0.001*\"impeachment\" + 0.001*\"eovaldi\" + 0.001*\"ms_rousseff\" + 0.001*\"ballet\" + 0.001*\"shaw\"')\n",
      "(7, '0.001*\"valeant\" + 0.001*\"valeants\" + 0.000*\"bitcoin\" + 0.000*\"ronaldo\" + 0.000*\"ackman\" + 0.000*\"mourinho\" + 0.000*\"hubbard\" + 0.000*\"real_madrid\" + 0.000*\"bentley\" + 0.000*\"airbag\"')\n",
      "(8, '0.001*\"erdogan\" + 0.001*\"turkish\" + 0.001*\"turkey\" + 0.001*\"conforto\" + 0.001*\"coal\" + 0.001*\"plawecki\" + 0.001*\"sothebys\" + 0.000*\"armenian\" + 0.000*\"christies\" + 0.000*\"juvenile\"')\n",
      "(9, '0.001*\"sec\" + 0.001*\"zika\" + 0.001*\"ibm\" + 0.001*\"loan\" + 0.001*\"energy_transfer\" + 0.001*\"irs\" + 0.001*\"lender\" + 0.001*\"abu_sayyaf\" + 0.001*\"mosquito\" + 0.001*\"virus\"')\n",
      "(10, '0.002*\"album\" + 0.002*\"music\" + 0.002*\"percent\" + 0.002*\"gallery\" + 0.002*\"song\" + 0.001*\"festival\" + 0.001*\"stock\" + 0.001*\"rose_percent\" + 0.001*\"concert\" + 0.001*\"driver\"')\n",
      "(11, '0.002*\"taliban\" + 0.001*\"afghan\" + 0.001*\"afghanistan\" + 0.001*\"philippines\" + 0.001*\"juba\" + 0.001*\"insurgent\" + 0.001*\"ice_cream\" + 0.001*\"trudeau\" + 0.001*\"kabul\" + 0.000*\"province\"')\n",
      "(12, '0.004*\"mrs_clinton\" + 0.003*\"sanders\" + 0.003*\"trump\" + 0.003*\"delegate\" + 0.002*\"islanders\" + 0.002*\"goal\" + 0.002*\"playoff\" + 0.001*\"game\" + 0.001*\"indiana\" + 0.001*\"primary\"')\n",
      "(13, '0.001*\"hitchcock\" + 0.000*\"blues\" + 0.000*\"justice_breyer\" + 0.000*\"villa\" + 0.000*\"recipe\" + 0.000*\"burial\" + 0.000*\"ticket\" + 0.000*\"defenseman\" + 0.000*\"ticketmaster\" + 0.000*\"swatton\"')\n",
      "(14, '0.001*\"hamas\" + 0.001*\"lopez\" + 0.001*\"credit_suisse\" + 0.000*\"gaza\" + 0.000*\"mh\" + 0.000*\"odds_jd\" + 0.000*\"coloring_book\" + 0.000*\"thiam\" + 0.000*\"kims\" + 0.000*\"nepal\"')\n",
      "(15, '0.002*\"mets\" + 0.002*\"pitch\" + 0.002*\"collins\" + 0.002*\"degrom\" + 0.002*\"inne\" + 0.001*\"homer\" + 0.001*\"innings\" + 0.001*\"syndergaard\" + 0.001*\"pitcher\" + 0.001*\"mitsubishi\"')\n",
      "(16, '0.001*\"aleppo\" + 0.001*\"philips\" + 0.000*\"lin\" + 0.000*\"lighting_business\" + 0.000*\"syrian\" + 0.000*\"de_mistura\" + 0.000*\"verrilli\" + 0.000*\"truce\" + 0.000*\"ge_capital\" + 0.000*\"sabathia\"')\n",
      "(17, '0.001*\"lightfoot\" + 0.001*\"tsa\" + 0.001*\"indonesian\" + 0.000*\"oyster\" + 0.000*\"bangladesh\" + 0.000*\"correction_officer\" + 0.000*\"gawker\" + 0.000*\"screener\" + 0.000*\"hacked_death\" + 0.000*\"dalai_lama\"')\n",
      "(18, '0.002*\"obama\" + 0.002*\"volkswagen\" + 0.001*\"tunnel\" + 0.001*\"leicester\" + 0.001*\"_\" + 0.001*\"north_korea\" + 0.001*\"party\" + 0.001*\"election\" + 0.001*\"investigator\" + 0.001*\"government\"')\n",
      "(19, '0.002*\"company\" + 0.002*\"game\" + 0.001*\"trump\" + 0.001*\"state\" + 0.001*\"government\" + 0.001*\"season\" + 0.001*\"million\" + 0.001*\"team\" + 0.001*\"people\" + 0.001*\"percent\"')\n"
     ]
    }
   ],
   "source": [
    "import gensim\n",
    "from gensim.models import LdaModel\n",
    "\n",
    "\n",
    "# train an LDA model on the TF-IDF corpus\n",
    "num_topics = 10\n",
    "lda_model = LdaModel(tf_idf,\n",
    "                     id2word=dct, \n",
    "                     num_topics=20, \n",
    "                     #chunksize=1000\n",
    "                     )\n",
    "\n",
    "# print the topics and associated keywords\n",
    "for topic in lda_model.print_topics():\n",
    "    print(topic)\n",
    "\n"
   ]
  },
  {
   "cell_type": "code",
   "execution_count": 53,
   "id": "b8b2746e",
   "metadata": {},
   "outputs": [
    {
     "name": "stderr",
     "output_type": "stream",
     "text": [
      "/opt/anaconda3/lib/python3.8/site-packages/ipykernel/ipkernel.py:287: DeprecationWarning: `should_run_async` will not call `transform_cell` automatically in the future. Please pass the result to `transformed_cell` argument and any exception that happen during thetransform in `preprocessing_exc_tuple` in IPython 7.17 and above.\n",
      "  and should_run_async(code)\n"
     ]
    },
    {
     "name": "stdout",
     "output_type": "stream",
     "text": [
      "\n",
      "Perplexity:  -17.3237165176352\n",
      "\n",
      "Coherence Score:  0.46509898014891177\n"
     ]
    }
   ],
   "source": [
    "from gensim.models import CoherenceModel\n",
    "\n",
    "# Compute Perplexity\n",
    "print('\\nPerplexity: ', lda_model.log_perplexity(tf_idf))  \n",
    "# a measure of how good the model is. lower the better.\n",
    "\n",
    "# Compute Coherence Score\n",
    "coherence_model_lda = CoherenceModel(model=lda_model, texts=corpus, dictionary=dct, coherence='c_v')\n",
    "coherence_lda = coherence_model_lda.get_coherence()\n",
    "print('\\nCoherence Score: ', coherence_lda)"
   ]
  },
  {
   "cell_type": "code",
   "execution_count": 54,
   "id": "640aeb60",
   "metadata": {},
   "outputs": [
    {
     "name": "stderr",
     "output_type": "stream",
     "text": [
      "/opt/anaconda3/lib/python3.8/site-packages/ipykernel/ipkernel.py:287: DeprecationWarning: `should_run_async` will not call `transform_cell` automatically in the future. Please pass the result to `transformed_cell` argument and any exception that happen during thetransform in `preprocessing_exc_tuple` in IPython 7.17 and above.\n",
      "  and should_run_async(code)\n",
      "/opt/anaconda3/lib/python3.8/site-packages/pyLDAvis/_prepare.py:243: FutureWarning: In a future version of pandas all arguments of DataFrame.drop except for the argument 'labels' will be keyword-only.\n",
      "  default_term_info = default_term_info.sort_values(\n"
     ]
    },
    {
     "data": {
      "text/html": [
       "\n",
       "<link rel=\"stylesheet\" type=\"text/css\" href=\"https://cdn.jsdelivr.net/gh/bmabey/pyLDAvis@3.4.0/pyLDAvis/js/ldavis.v1.0.0.css\">\n",
       "\n",
       "\n",
       "<div id=\"ldavis_el316491405218771786249125781936\" style=\"background-color:white;\"></div>\n",
       "<script type=\"text/javascript\">\n",
       "\n",
       "var ldavis_el316491405218771786249125781936_data = {\"mdsDat\": {\"x\": [-0.305892077870239, -0.058029289370620595, -0.03961676356332841, -0.027244359451781042, 0.0014647878743992487, 0.024125684499999793, -0.007644178407379773, -0.005989002287861041, -0.00567265625711782, 0.02449187440959719, 0.030414295680866343, 0.03563609755657313, 0.04190253474592464, 0.05139018200099888, 0.03967811079809897, 0.03270909620895018, 0.0509171339922533, 0.034115237021049585, 0.04334456154138998, 0.03989873087822622], \"y\": [0.012132276815242317, -0.08928213772617317, 0.026746276168238853, 0.016727493906291444, 0.013698369534251456, 0.009578654226387786, 0.007085852251093383, 0.007096466098118953, -0.0007648064071814119, -0.0003536711174321468, -0.0009307812416661241, -0.0014919846926764251, -0.0005808722411374886, -0.0003364882209503728, 0.0014010081804896434, 0.0007920155082919765, -0.0011605213807756344, -0.001170020077094705, 0.0010273052779836201, -0.00021443486130211971], \"topics\": [1, 2, 3, 4, 5, 6, 7, 8, 9, 10, 11, 12, 13, 14, 15, 16, 17, 18, 19, 20], \"cluster\": [1, 1, 1, 1, 1, 1, 1, 1, 1, 1, 1, 1, 1, 1, 1, 1, 1, 1, 1, 1], \"Freq\": [71.09821345950678, 7.067517049017609, 4.764300016136744, 2.978525839514765, 1.7090101796255548, 1.151514714136566, 1.1501847086342538, 1.0671579024855473, 1.0248937962669002, 0.824988855306882, 0.7988625300415139, 0.7473112232054298, 0.7238835891539207, 0.720411110127629, 0.7172530098574542, 0.70232224203632, 0.701707392164513, 0.6980344547925115, 0.6894256480954548, 0.6644822798936361]}, \"tinfo\": {\"Term\": [\"trump\", \"game\", \"percent\", \"mrs_clinton\", \"season\", \"prince\", \"yankees\", \"campaign\", \"sanders\", \"goal\", \"win\", \"hit\", \"playoff\", \"music\", \"team\", \"republican\", \"recipe\", \"pitch\", \"primary\", \"score\", \"party\", \"government\", \"company\", \"trumps\", \"voter\", \"police\", \"play\", \"period\", \"stock\", \"delegate\", \"scored_point\", \"yahoo\", \"comcast\", \"google\", \"cruz\", \"earning\", \"apple\", \"cheese\", \"iran\", \"pizza\", \"durant\", \"apples\", \"cable\", \"roberts\", \"intel\", \"jews\", \"india\", \"mobile\", \"privacy\", \"iranian\", \"panthers\", \"survivor\", \"reader\", \"nadal\", \"jewish\", \"programming\", \"abc\", \"tech_companie\", \"rangers\", \"broadband\", \"facebook\", \"student\", \"regulator\", \"tv\", \"product\", \"revenue\", \"tech\", \"espn\", \"partner\", \"company\", \"billion\", \"judge\", \"letter\", \"dr\", \"brooklyn\", \"draft\", \"miss\", \"technology\", \"write\", \"state\", \"nt\", \"woman\", \"game\", \"big\", \"deal\", \"player\", \"drug\", \"business\", \"million\", \"new\", \"s\", \"people\", \"case\", \"play\", \"team\", \"work\", \"law\", \"season\", \"new_york\", \"like\", \"tuesday\", \"group\", \"government\", \"report\", \"city\", \"win\", \"year\", \"trump\", \"official\", \"percent\", \"campaign\", \"leicester\", \"north_korea\", \"volkswagen\", \"chelsea\", \"_\", \"baghdad\", \"premier_league\", \"nyquist\", \"rugby\", \"ms_rousseffs\", \"north_korean\", \"leicesters\", \"obamas\", \"derby\", \"treasury\", \"vardy\", \"maduro\", \"colt\", \"champions_league\", \"ms_merkel\", \"emission\", \"lower_house\", \"australian\", \"rocket\", \"pollution\", \"transit\", \"climate_change\", \"arsenal\", \"kentucky_derby\", \"workers_party\", \"iraqi\", \"south_korean\", \"horse\", \"obama\", \"terminal\", \"rider\", \"investigator\", \"kelly\", \"explosion\", \"tunnel\", \"attorney_general\", \"fbi\", \"environmental\", \"killing\", \"housing\", \"pledge\", \"tower\", \"election\", \"airport\", \"party\", \"islamic_state\", \"government\", \"australia\", \"trump\", \"voter\", \"european_union\", \"percent\", \"vote\", \"britain\", \"political\", \"album\", \"jazz\", \"tidal\", \"rose_cent\", \"red_bulls\", \"blazers\", \"sp\", \"evans\", \"shakespeare\", \"lyric\", \"sing\", \"gallery\", \"musical\", \"ford\", \"brent_crude\", \"coachella\", \"output\", \"netanyahu\", \"barrel\", \"fell_cent\", \"landlord\", \"penny\", \"carnival\", \"percent_nasdaq\", \"treasury_note\", \"snow\", \"cubic_feet\", \"performer\", \"pakistani\", \"natural_gas\", \"lower_east\", \"concert\", \"premiere\", \"kitchen\", \"snapchat\", \"prize\", \"rose_percent\", \"song\", \"driver\", \"solo\", \"guitar\", \"disney\", \"music\", \"festival\", \"patient\", \"band\", \"miami\", \"singer\", \"percent\", \"stock\", \"housing\", \"energy\", \"dancer\", \"warrior\", \"musician\", \"artist\", \"gain\", \"price\", \"prince\", \"company\", \"islanders\", \"puck\", \"barclays\", \"celtics\", \"quarterback\", \"stanley_cup\", \"saudis\", \"goalie\", \"kingdom\", \"playoff_serie\", \"manafort\", \"hawks\", \"nhl\", \"ceasefire\", \"penguins\", \"reds\", \"giants\", \"goaltender\", \"defenseman\", \"san_jose\", \"sharks\", \"lightning\", \"san_antonio\", \"slur\", \"indiana\", \"running_mate\", \"beat_visite\", \"shutout\", \"antitrust\", \"assad\", \"nfl\", \"blues\", \"ice\", \"hockey\", \"delegate\", \"postseason\", \"sanders\", \"mrs_clinton\", \"redstone\", \"playoff\", \"trump\", \"pittsburgh\", \"goal\", \"primary\", \"clinton\", \"trumps\", \"campaign\", \"game\", \"republicans\", \"republican\", \"win\", \"ryan\", \"voter\", \"degrom\", \"mitsubishi\", \"syndergaard\", \"flint\", \"ellsbury\", \"princes\", \"matz\", \"snyder\", \"inne\", \"takata\", \"paisley_park\", \"rizzo\", \"foods\", \"verrett\", \"nationals\", \"pineda\", \"nohitter\", \"angels\", \"chancellor\", \"innings\", \"emanuel\", \"inspector\", \"fuel_economy\", \"pitcher\", \"ninth_inne\", \"tommy_john\", \"manager_terry\", \"velocity\", \"jacob_degrom\", \"wrestling\", \"collins\", \"mets\", \"braves\", \"harvey\", \"fastball\", \"homer\", \"inning\", \"pitch\", \"starter\", \"eighth\", \"home_run\", \"met\", \"prince\", \"hit\", \"game\", \"ninth\", \"throw\", \"season\", \"major_league\", \"hastert\", \"temer\", \"eovaldi\", \"petrobras\", \"impeachment\", \"hagelin\", \"shaw\", \"kansas\", \"teixeira\", \"manager_joe\", \"brett_gardner\", \"starlin_castro\", \"betances\", \"rodriguezs\", \"jacoby_ellsbury\", \"carlos_beltran\", \"mccann\", \"hasterts\", \"dellin_betances\", \"girardi\", \"twins\", \"city_ballet\", \"rockie\", \"disabled_list\", \"temers\", \"balanchine\", \"aaron_hicks\", \"league_east\", \"tanaka\", \"jamison\", \"yankees\", \"rodriguez\", \"reliever\", \"alex_rodriguez\", \"ballet\", \"ms_rousseff\", \"pitcher\", \"atbat\", \"innings\", \"cashman\", \"inning\", \"hit\", \"season\", \"game\", \"baseball\", \"pitch\", \"sanofi\", \"monsanto\", \"bayer\", \"arya\", \"schneiderman\", \"mustard\", \"weber\", \"medicare\", \"affordable_care\", \"good_morne\", \"chess\", \"butter\", \"restroom\", \"medicaid\", \"pham\", \"skelos\", \"laker\", \"red_bull\", \"cersei\", \"dupont\", \"pasta\", \"emails_reader\", \"recipes_email\", \"appears_receive\", \"food_suggest\", \"inbox_register\", \"sam_sifton\", \"albany\", \"tyrion\", \"secret_service\", \"sullivan\", \"asparagus\", \"recipe\", \"merger\", \"football\", \"abortion\", \"sandwich\", \"cooking\", \"ncaa\", \"gray\", \"murray\", \"team\", \"attorney_general\", \"game\", \"officer\", \"ibm\", \"sec\", \"abu_sayyaf\", \"irs\", \"mosquito\", \"yemeni\", \"zika\", \"energy_transfer\", \"creditor\", \"atkinson\", \"vaccine\", \"houthis\", \"watson\", \"farhad\", \"univision\", \"lew\", \"opioid\", \"default\", \"ebola\", \"computing\", \"jets\", \"mike_isaac\", \"vineyard\", \"polio\", \"ridsdel\", \"debt_relief\", \"periscope\", \"puerto_ricos\", \"ransom\", \"windows\", \"puerto_rico\", \"dr_rodchenkov\", \"virus\", \"lender\", \"egyptian\", \"virtual_reality\", \"greece\", \"insurer\", \"loan\", \"williams\", \"debt\", \"patient\", \"zika_virus\", \"trump\", \"republicans\", \"billion\", \"taliban\", \"juba\", \"afghan\", \"trudeau\", \"afghanistan\", \"sisi\", \"kunduz\", \"arrieta\", \"china_sea\", \"ice_cream\", \"sailor\", \"canal\", \"south_sudan\", \"birch\", \"kiir\", \"popular_party\", \"darnaud\", \"philippines\", \"harper\", \"mosul\", \"aluminum\", \"qaeda\", \"mohamed\", \"edwards\", \"kabul\", \"okinawa\", \"philippine\", \"insurgency\", \"aquino\", \"mnuchin\", \"podemos\", \"convoy\", \"kidnap\", \"airstrike\", \"navy\", \"insurgent\", \"steel\", \"ambulance\", \"province\", \"island\", \"japanese\", \"obama\", \"troop\", \"election\", \"trump\", \"hospital\", \"party\", \"military\", \"erdogan\", \"plawecki\", \"armenian\", \"armenians\", \"conforto\", \"sothebys\", \"juvenile\", \"turkeys\", \"coal\", \"iranians\", \"xinhua\", \"irwin\", \"harveys\", \"xi\", \"ankara\", \"gorilla\", \"levine\", \"turks\", \"lu\", \"hajj\", \"offender\", \"alderson\", \"tehran\", \"impressionist_modern\", \"low_estimate\", \"preacher\", \"asdrubal_cabrera\", \"vatican\", \"istanbul\", \"hensarling\", \"genocide\", \"mosque\", \"turkish\", \"christies\", \"turkey\", \"harvey\", \"inmate\", \"collins\", \"jail\", \"iran\", \"mets\", \"prisoner\", \"lightfoot\", \"tsa\", \"oyster\", \"correction_officer\", \"screener\", \"hacked_death\", \"dalai_lama\", \"jakarta\", \"thiel\", \"rikers\", \"java\", \"gawker\", \"cartel\", \"rutgers\", \"indonesias\", \"rikers_island\", \"rahman\", \"islamist_militants\", \"dhaka\", \"joko\", \"machete\", \"indonesian\", \"secular\", \"dhaka_bangladesh\", \"attempted_gang\", \"bollea\", \"transportation_security\", \"fractures_eye\", \"religious_minoritie\", \"itf\", \"mohammad\", \"marijuana\", \"bangladesh\", \"meldonium\", \"inmate\", \"islam\", \"killing\", \"officer\", \"passenger\", \"gang\", \"airport\", \"boko_haram\", \"kasich\", \"duterte\", \"gm\", \"ma\", \"bp\", \"nigerian\", \"fiat_chrysler\", \"monk\", \"zimmerman\", \"davao_city\", \"didi\", \"maiduguri\", \"cuny\", \"transgender_student\", \"buddhist\", \"dutertes\", \"shabab\", \"taiwans\", \"bowen\", \"icahn\", \"kasichs\", \"general_motors\", \"vigilante\", \"lees\", \"woods\", \"automaker\", \"calf\", \"mankiewicz\", \"somalia\", \"tiger\", \"manila\", \"temple\", \"taiwan\", \"assad\", \"volkswagen\", \"migrant\", \"china\", \"harvey\", \"gender_identity\", \"detainee\", \"trump\", \"transgender\", \"beyonc\", \"lemonade\", \"cultural_revolution\", \"percoco\", \"graduated_magna\", \"vega\", \"falluja\", \"universal_life\", \"abadi\", \"anbar_province\", \"maos\", \"wawrinka\", \"iraqi_forces\", \"beyoncs_lemonade\", \"dr_wiltshire\", \"million_stream\", \"utica\", \"red_guard\", \"shiite_militias\", \"use_professionally\", \"thiem\", \"bridgewater\", \"views\", \"dolly\", \"graduated_nyu\", \"bedford\", \"boyd\", \"safarova\", \"crest\", \"boys_girls\", \"drake\", \"coal\", \"cum_laude\", \"sunni\", \"chart\", \"album\", \"couple_introduce\", \"bride\", \"groom\", \"mrs_clinton\", \"trump\", \"mich\", \"graduate\", \"ny\", \"nj\", \"tribune_publishing\", \"tribune\", \"tenant\", \"ferro\", \"fitbit\", \"goodell\", \"zarrab\", \"revenue_bond\", \"redskins\", \"monroe\", \"general_obligation\", \"gilbert\", \"emojis\", \"alibabas\", \"debt_securitie\", \"emoji\", \"zarrabs\", \"chicago_tribune\", \"berman\", \"refinancing_bond\", \"harbaugh\", \"bonds_competitive\", \"citigroup_global\", \"ms_mosby\", \"revenue_refinance\", \"landlords\", \"refinance\", \"tronc\", \"rushcard\", \"biometric\", \"bail\", \"dell\", \"impeachment\", \"alibaba\", \"nfl\", \"shareholder\", \"million\", \"bond\", \"opera\", \"classical_music\", \"soprano\", \"philharmonic\", \"conductor\", \"carnegie_hall\", \"muguruza\", \"orchestra\", \"weiss\", \"concerto\", \"adidas\", \"metropolitan_opera\", \"symphony\", \"repertory\", \"hands\", \"soloist\", \"nokia\", \"walking_dead\", \"armour\", \"performing_art\", \"ps\", \"harder\", \"terra_firma\", \"emi\", \"amc\", \"lombardo\", \"thornton\", \"philharmonics\", \"tosca\", \"simone\", \"williams\", \"ensemble\", \"met\", \"concert\", \"music\", \"premiere\", \"match\", \"composer\", \"french_open\", \"aleppo\", \"philips\", \"lighting_business\", \"lin\", \"de_mistura\", \"verrilli\", \"truce\", \"ge_capital\", \"governmentheld\", \"chanel\", \"rebelheld\", \"syrians\", \"dong_energy\", \"prague\", \"execution\", \"moneta_money\", \"damascus\", \"airstrikes\", \"money_bank\", \"ipo\", \"hanning\", \"ge\", \"auschwitz\", \"dutch_electronics\", \"death_penalty\", \"glasgow\", \"norwegian\", \"gucci\", \"justice_sotomayor\", \"kalashnikov\", \"colbert\", \"sabathia\", \"syrian\", \"danish\", \"ali\", \"airstrike\", \"initial_public\", \"djokovic\", \"game\", \"valeant\", \"valeants\", \"bitcoin\", \"ronaldo\", \"ackman\", \"mourinho\", \"hubbard\", \"pershing_square\", \"lai\", \"kenyas\", \"pistorius\", \"bentley\", \"gowdy\", \"nairobi\", \"kenyan\", \"dao\", \"drying_agent\", \"hubbards\", \"hart\", \"william_ackman\", \"blockchain\", \"hacker\", \"castiron\", \"rossi\", \"ether\", \"langer\", \"lehman\", \"valeant_pharmaceuticals\", \"airbag\", \"real_madrid\", \"ice_cream\", \"honey\", \"hedge_fund\", \"kenya\", \"driver\", \"investor\", \"hamas\", \"odds_jd\", \"mh\", \"gaza\", \"coloring_book\", \"kims\", \"nuclear_weapon\", \"thiam\", \"nepal\", \"lopez\", \"credit_suisse\", \"gayle\", \"buffett\", \"transplant\", \"annapolis\", \"nepalese\", \"kim_jongun\", \"radiation\", \"ministries_officiated\", \"kim_jongil\", \"pagenaud\", \"jongun\", \"leader_kim\", \"judge_hanen\", \"nevins\", \"tidjane_thiam\", \"tpp\", \"byungjin_policy\", \"medical_degree\", \"hurley\", \"weld\", \"stamp\", \"jockey\", \"deportation\", \"castro\", \"atlantic_city\", \"fifa\", \"medical\", \"cat\", \"dr\", \"groom\", \"turkey\", \"cancer\", \"bride\", \"enforcement\", \"theranos\", \"ufc\", \"cosby\", \"theranoss\", \"holmes\", \"starr\", \"walgreens\", \"cosbys\", \"airdrop\", \"carpenter\", \"daraya\", \"headstone\", \"hutchins\", \"cespedes\", \"byrd\", \"mossack_fonseca\", \"baylor\", \"erskine\", \"matthews\", \"mckenzie\", \"dana\", \"panama_papers\", \"briles\", \"food_program\", \"holmess\", \"holland\", \"revolutionize\", \"john_doe\", \"obermayer\", \"fidelity\", \"conforto\", \"convoy\", \"lab\", \"sharks\", \"nhl\", \"mets\", \"football\", \"wright\", \"collins\", \"simon\", \"game\", \"season\", \"delivery\", \"syrian\", \"hitchcock\", \"justice_breyer\", \"villa\", \"burial\", \"swatton\", \"ticketmaster\", \"caramel\", \"gregg\", \"alligator\", \"lemon\", \"doral\", \"enchiladas\", \"zukerman\", \"stillman\", \"burke\", \"bouchard\", \"liberian\", \"deboer\", \"grand_central\", \"bolivia\", \"save_one\", \"sevilla\", \"taurus\", \"rye\", \"aps\", \"led_zeppelin\", \"smoothie\", \"stairway_heaven\", \"sim_card\", \"forwards\", \"blues\", \"couture\", \"sandwich\", \"david_taniss\", \"pineda\", \"takata\", \"defenseman\", \"recipe\", \"rouhani\", \"funeral\", \"ticket\", \"cook\", \"song\", \"lawyer\", \"trump\", \"benjamin\"], \"Freq\": [87.0, 109.0, 68.0, 25.0, 67.0, 41.0, 13.0, 56.0, 19.0, 31.0, 61.0, 36.0, 21.0, 22.0, 65.0, 33.0, 12.0, 13.0, 22.0, 31.0, 44.0, 73.0, 113.0, 23.0, 29.0, 52.0, 58.0, 27.0, 24.0, 10.0, 16.851725430396673, 12.420219469127623, 11.94548592196953, 39.057823568885816, 36.24361295612948, 19.461839854566197, 30.85602289111419, 9.992656031845172, 27.23681224765884, 9.288889705977413, 8.543174338598774, 11.23974027232029, 14.209811036752916, 11.079135218455592, 8.490402509772577, 9.26762585264462, 13.532476249357758, 13.958776815748477, 17.97863057533153, 13.712151399694102, 9.04256008590882, 13.384149390306556, 12.179276529684461, 7.324894848091454, 11.928233183868123, 8.533479225954192, 9.386674992311166, 9.131842568353028, 15.837844768070868, 8.397312699562768, 36.23695184344191, 47.053023297203865, 17.349661853416475, 17.224519620603182, 31.842104813984257, 31.636772213384894, 16.492375129723985, 13.96645686576497, 20.289437481937508, 107.74950184770678, 51.99146882923482, 35.860358689880705, 24.694250326792798, 27.92723201531972, 33.96343804307443, 22.42236074294366, 26.774263365992258, 30.720987841398465, 42.534328237420844, 70.13337118470905, 55.988544016709554, 51.58888821138019, 101.51822254953315, 41.401461548710806, 43.94173010018579, 54.293476375564474, 34.365492463442784, 47.59702937470874, 61.693431165950784, 53.97288523424235, 53.77203595789024, 57.92972608444256, 50.171032355780916, 55.013898524755135, 61.285369577747744, 50.924331202250094, 51.5703830928454, 62.57604988828184, 55.205781152612744, 51.055542955779394, 49.175983784416346, 49.391277638007395, 66.52475140626655, 53.178174949763445, 55.85386787626192, 56.20469256101531, 47.81548345482143, 74.23314917173107, 51.8619329994913, 56.34074350645599, 50.195207024110054, 6.619813518992883, 5.726495071564093, 9.243755992797269, 3.810396787372605, 6.092282462359232, 2.983881496836475, 2.72626215162916, 2.675039726141425, 2.7324757589237074, 2.5376655191098085, 2.8864668528854507, 2.201433958233775, 4.964245913989498, 2.3226042892624394, 2.66971291317294, 2.042657561238077, 1.940406819351367, 1.993738593838684, 2.8516445289436665, 2.262841215044583, 2.695756789633342, 1.8165380091682168, 4.2177117314886905, 1.85557767053144, 2.1651101611848564, 2.543336709418009, 2.746320393151595, 1.8039912149146293, 1.6905421624750605, 1.7774685662703475, 3.193722794654419, 2.957994540340351, 4.969547027156512, 12.041155194898966, 3.7397661741643557, 3.4570991977419085, 5.164710110127082, 3.0275974638403538, 2.6919598707289127, 6.629225088642276, 3.8153659195747305, 4.683531517777658, 3.6884530434949574, 3.209242451237024, 4.087512606677253, 3.1412026803676865, 3.2203239032808395, 5.2908852507293265, 3.489712245808978, 5.522006891217317, 4.256968329411392, 5.05988817869082, 3.3260365596010355, 4.068678582756668, 3.5356411168948383, 3.3625311847420867, 3.497805264467591, 3.3653218808312637, 3.2612697340367185, 3.2258696180877386, 8.75388156135574, 3.2885466090713904, 2.1936575649386296, 2.140240468929311, 1.7272741107693428, 1.6012325959083198, 1.7498157983607936, 1.548485960050109, 1.6932742704054624, 1.6806131822897168, 3.1493265115441846, 6.314754665264239, 2.7292434313607377, 1.7310209017581908, 1.4300691842141264, 1.2350945010156533, 1.3288541595874845, 1.516737190407892, 1.6765937843842835, 1.5996917298975657, 1.3305527809279112, 1.162523890183372, 1.4102831194355585, 1.2788953498265085, 1.1595851366680205, 1.4514887504005234, 1.1203582752355168, 1.8363333866820806, 1.0508341358665612, 1.4422605731603242, 1.1297785511814218, 3.653108781213376, 2.0502761100911107, 1.9722954493968652, 2.1218389415596124, 2.3551278899520773, 3.8897609346380433, 6.195952265289057, 3.4582198035912945, 2.1159797781718948, 1.952834678553901, 1.760782851046859, 7.906604182058262, 4.430943650353181, 3.0483394576361973, 3.4241866389426576, 2.3216625629629593, 2.8138080331588706, 7.348853895635432, 4.388813194054381, 2.63864132520142, 3.2619945934868713, 2.017086141565026, 2.648279686680593, 2.15078419109893, 2.4807414883859074, 2.2897012108803696, 2.3362634913243863, 2.287596175938694, 2.189519442899431, 4.058883619317894, 2.5927114604905674, 2.5194102685255255, 1.5207446975939756, 2.2311826146728095, 2.062632253801418, 1.5084574951714325, 1.4636973634291512, 1.5994600619649726, 1.264210785857834, 1.3764491665054408, 1.2002274750732553, 2.935390219683176, 1.1391938625006197, 2.580473570487914, 1.1207178876708082, 1.1932778642702242, 1.1627919578852584, 2.043624036134711, 1.8037591239662292, 1.8437675517030858, 2.2573938860447704, 1.1544436327847412, 0.8427640368952246, 3.166280908543138, 0.8893300608103323, 0.7855918926133932, 0.8383512761376196, 0.7698629508693379, 1.0766309278000417, 2.3826933045825918, 2.1111930096988516, 1.966114468738945, 1.44706952125587, 6.091520160220948, 2.3185586161369574, 7.415381517293587, 8.052037733013572, 2.690433131194167, 3.8628926169786917, 7.04410155456507, 1.9697629506993994, 3.8824878690599487, 2.9725445159133024, 2.0067021581316613, 2.516937257039181, 2.90060623258686, 3.1921998732194234, 2.355843392775266, 2.4693493702008076, 2.3880501369654197, 2.078994930223304, 2.0190692543197617, 2.100849892320547, 1.4469438233921985, 1.5519848484571503, 1.1691841208465048, 1.0396717072236945, 1.088509203068335, 0.990777403359869, 0.7970709044900092, 1.8907413756488862, 0.905514707970549, 0.6294825687264309, 0.6226600499126927, 0.6780848632870065, 0.5923775007513755, 0.6363022361724108, 0.653191472300916, 0.503398705497024, 0.5043290190621728, 0.615744093970874, 1.7806146802949847, 0.45357712221579277, 0.5807113489041731, 0.42094303544178674, 1.5325367656575275, 0.4676579804383299, 0.45720713270812097, 0.4825969175761382, 0.39421208415944387, 0.40463657501588673, 0.36419738078742464, 2.3377326060188848, 3.0108466579592066, 0.6065060645498692, 1.1154174874916474, 0.6980669560893679, 1.7818179574889976, 0.6683212682985474, 2.4644792660281145, 0.9389146063236465, 0.7517463668356181, 0.7917414788137197, 0.8822648014931603, 1.075318702706333, 1.0133643302774504, 1.1106861179246679, 0.6997597180818931, 0.7182981414546167, 0.7019410144170112, 0.6743966556476109, 1.505616014941304, 1.0381201648181255, 0.6974522143478884, 0.5182554342519358, 0.6986487922673578, 0.405247246005352, 0.5482815102981816, 0.38369133075624606, 0.5053261364270688, 0.5087189693232242, 0.3148710803097206, 0.2997728926392612, 0.2929429647942272, 0.2940550827366307, 0.301859268363194, 0.36064469321726517, 0.32107954134771194, 0.28023655362216543, 0.27657211379480395, 1.8326026806809226, 0.35201112982815813, 0.2592143200070888, 0.2839694924860449, 0.4548104985254508, 0.2356112417151492, 0.23426520239561102, 0.22859771379165236, 0.25139409954673436, 0.3067565184303118, 0.2181906140395673, 4.014129256116962, 1.1375634255611713, 0.4006546577802662, 0.38216861269203206, 0.6324590673882586, 0.6445970178397886, 0.5127075295466808, 0.34861255789010814, 0.48375615683065903, 0.3484909296116738, 0.3289394178486251, 0.499853996927254, 0.4939143595083053, 0.4767310276679677, 0.35327263527738717, 0.32764963591830204, 0.528505131104473, 0.4015763634745113, 0.3520951808253999, 0.34330574290429705, 0.4394447839546079, 0.34027287803908546, 0.3950825233435207, 0.37323368848796634, 0.33749715988421986, 0.44726094175120945, 0.286697989632741, 0.3424949385619547, 0.3321274878201867, 0.2800489560986828, 0.24409986075389256, 0.2658097645461744, 0.24156229607741855, 0.2227204441181432, 0.22604184865221608, 0.20874081033392317, 0.20352003339914893, 0.23011375647743937, 0.23012694348822632, 0.2301170532301361, 0.23004521354450558, 0.2300274996494186, 0.22899428751320636, 0.3415237250585469, 0.17323311081101556, 0.1951835791396314, 0.3622764634503302, 0.6207132866165584, 1.3369290703840035, 0.37158863349492344, 0.3751618705708162, 0.46916574759471225, 0.29101700629442767, 0.47010419039220913, 0.3175357897554474, 0.34277213641743387, 0.34448292964335514, 0.38838918046911297, 0.29587068735615635, 0.3284918338667444, 0.2819564719705978, 0.5838238663824954, 0.6697292751692889, 0.4851400845917551, 0.49694768473555206, 0.47946423170245295, 0.3826990319963532, 0.6451405171671214, 0.5076342211870127, 0.39460145415061526, 0.3287204954452959, 0.3441793821389183, 0.30324747768352334, 0.437086599747585, 0.3917210472626624, 0.25446616428767255, 0.2705592673363176, 0.34295123851131676, 0.31679552053553556, 0.24063201188362124, 0.23689638076743352, 0.30917855563277036, 0.23087239824847222, 0.2484119820768852, 0.19563864834444594, 0.19084792262842182, 0.18390821377753333, 0.18413947082809243, 0.1942096299715162, 0.1592523453490857, 0.15827587723337233, 0.4405096880213825, 0.31744827215114985, 0.471034157787945, 0.49070751077193125, 0.282800437356565, 0.307691192276993, 0.40322779182197915, 0.3985762631737972, 0.5367944775126894, 0.3270857630718096, 0.42221995115254674, 0.3558341576895366, 0.2983454947505981, 0.39737416478306153, 0.3339369843147134, 0.3321490164678875, 1.349047868075695, 0.5766338670410465, 0.9144146990967946, 0.39110682010729575, 0.870317923139751, 0.2898299464232389, 0.2864280788824975, 0.2929339291355043, 0.33525490550754344, 0.396221547334414, 0.30965250686864343, 0.27483518969633514, 0.2640819814566174, 0.24780049731415787, 0.23370919449263572, 0.22806242672222307, 0.27664619704072546, 0.6295118878726147, 0.22985063452130758, 0.21707705772790115, 0.19831401846002428, 0.1870898242286242, 0.20952709791308777, 0.18388829673093754, 0.3827511813602391, 0.1655657381015766, 0.19556645402427955, 0.17106656685939248, 0.16031666893827196, 0.16381681567286516, 0.17967420634999726, 0.2688726043781579, 0.2423149047909454, 0.2836874639235431, 0.31421441089001545, 0.4131670024659854, 0.26219700712582156, 0.30591691098348855, 0.36440712758263555, 0.3640883285558694, 0.2985622818885546, 0.32618610136784965, 0.2976849816923555, 0.298556362775831, 0.3228079322006424, 0.2866156051426376, 0.29555973523026025, 0.29296091590499607, 0.6588770317729515, 0.3290584425208564, 0.2902127493123464, 0.26534626672395784, 0.36301728657929455, 0.32031986092052256, 0.2832859307529067, 0.278045619372667, 0.34542040856237827, 0.2417022905219568, 0.21237696042755494, 0.24110440465973418, 0.19659443950784003, 0.1961780846472019, 0.15806012128941058, 0.13516109806027712, 0.13215000749666628, 0.14210453975605328, 0.13263024319970118, 0.10051715843709563, 0.1414653078126882, 0.11828517358372577, 0.10990148359152506, 0.09467498187696467, 0.09048384274652616, 0.08760697253851477, 0.08184934103803106, 0.07867022797693925, 0.16809435460534045, 0.07592248706844126, 0.24877937023416138, 0.1735113971006641, 0.46891146492868735, 0.28393922706958397, 0.4308617764270378, 0.21655199699758268, 0.21210251985823037, 0.156420907109554, 0.16518837626209878, 0.18301856052689575, 0.15721412364705012, 0.1362580132987812, 0.71511391369542, 0.5726791424991299, 0.266050309108675, 0.22738824942477354, 0.2039193415915371, 0.18513659075066993, 0.18336995194227915, 0.17937260397981944, 0.1819986563667335, 0.1477756470668778, 0.126690990772683, 0.22117979200949292, 0.11687846100455242, 0.11200676473044761, 0.13774221482456817, 0.11305180302968305, 0.11200520974107223, 0.11507037574857924, 0.11796440748581724, 0.0937557091852925, 0.10945368577350698, 0.35218062380180437, 0.1094265332667214, 0.08852097415542126, 0.07878635619011559, 0.08655681752076588, 0.06682540781829534, 0.06279082554980304, 0.06258967656703002, 0.0611088653111894, 0.0964998724135545, 0.1641450202215566, 0.25306939450532295, 0.0969408058843505, 0.17223161430978176, 0.11130225201662616, 0.15658698581859973, 0.1679691150271259, 0.12316568461242468, 0.1180902163789631, 0.11501025234069691, 0.9787859957533891, 0.6321012994446167, 0.509955117684735, 0.33005216283407646, 0.279400481077963, 0.24656629262742108, 0.21423494761736608, 0.23519640731256175, 0.14806694028185244, 0.1317263507679707, 0.1044436932905178, 0.09637629065665142, 0.09861572390823337, 0.09394285418112981, 0.08277712263173378, 0.08254336445225194, 0.08089370963340307, 0.08240556485665422, 0.08300865088910138, 0.07038534153967235, 0.07191024860096139, 0.0680035209674261, 0.0674048628089979, 0.06839341365766725, 0.06393197491496971, 0.06601256418053525, 0.20920518644880176, 0.06563218262762727, 0.05302473449839798, 0.057646359975911915, 0.19038426016202775, 0.13881044566752956, 0.16815065787458647, 0.15359887351650367, 0.08403506245839867, 0.10245496242946502, 0.09424638734289621, 0.09994395823308756, 0.07987703299290563, 0.0794417426051414, 0.08182298771361626, 0.08105682963494323, 0.08090982261900281, 1.3015330297261356, 0.9164095582085716, 0.3355596413825796, 0.17058719085865565, 0.1477098522726011, 0.1151320841770566, 0.26566645512928094, 0.09836258113755483, 0.08581062113838928, 0.07929154646132341, 0.0762581875477759, 0.0700555513093083, 0.07023604036856602, 0.06749686940863814, 0.0650898144210878, 0.06335828694460569, 0.06097968764861378, 0.055019383501418266, 0.05372761665393959, 0.07575822518905992, 0.060556088427888996, 0.04842231599704737, 0.052832108182473796, 0.0478322097545984, 0.04636163386012378, 0.04445012829585525, 0.0534972575532797, 0.04336971395870155, 0.04252899556454743, 0.0404418280730268, 0.09980815039790246, 0.09771895063348451, 0.15120752941374366, 0.07971685279128195, 0.09110295395869861, 0.13679113516160746, 0.09047774165357199, 0.11892542799228882, 0.10113824010573054, 0.11503812736226864, 0.09698941498629561, 0.06557281407535417, 0.07093845581781473, 0.06850634000219348, 0.06766115447866125, 0.49553229369247126, 0.46596229853206783, 0.45324876623933635, 0.25970182794365576, 0.238185685382941, 0.1482307034354922, 0.13974665804251724, 0.2633067440046872, 0.1253831621807939, 0.12662872110134182, 0.21726930403251016, 0.2614891998709144, 0.09001706765738003, 0.08375144992854801, 0.07602342788076834, 0.08468523965492146, 0.07312240412579159, 0.07219604187824337, 0.06267371738743398, 0.07846134370807972, 0.051216330484032464, 0.07657360835843778, 0.04592942177778873, 0.043443427664305714, 0.044059812096130566, 0.041836414801445856, 0.03866688460499555, 0.038054568335846764, 0.03695597179197153, 0.03693827374335996, 0.05694223863117376, 0.07056705862547671, 0.07046307392192347, 0.11199254276751912, 0.06018601664888895, 0.06949740921640066, 0.0732189305311054, 0.05488693812645802, 0.6518869319546463, 0.1802120038879512, 0.16984503370098614, 0.22509012347240948, 0.15800067537115087, 0.15744335625428305, 0.1395054775742309, 0.4561542365666452, 0.14923086952992418, 0.11794433423756993, 0.11644853550888674, 0.10777409650217115, 0.23065113297014148, 0.09563660329080653, 0.10794625082167712, 0.08520489688147669, 0.08021281284075209, 0.07871006411592452, 0.07194164237411442, 0.08811307904295552, 0.08947902944411543, 0.06170579007798602, 0.05841065575810598, 0.057289359029167986, 0.05431624886838879, 0.04984028258769811, 0.04921414239973824, 0.04847389877066387, 0.043654839716732646, 0.045430966463189046, 0.1417794917652277, 0.0811064243207258, 0.11522957829328845, 0.0928669684586476, 0.11202931218788707, 0.06852309576066822, 0.07941771333703254, 0.06599318976902621, 0.06953575469115494, 0.6336152130574881, 0.41428233550667, 0.24749910911199638, 0.25557537247391304, 0.19873530452430413, 0.19763625271581703, 0.19169049044571435, 0.18196612258874317, 0.16058655359674315, 0.15024685253298087, 0.14243996269965234, 0.12370399796543192, 0.0960047646480601, 0.09572057865507017, 0.13786029723520274, 0.0857736407510967, 0.1070116725895864, 0.07581977734399015, 0.0690711449509104, 0.10853782212925196, 0.06444511917698428, 0.08422208017336258, 0.059894271166732106, 0.054795966640645455, 0.0880991976621728, 0.0467669198868573, 0.048399716165658864, 0.07775121153338255, 0.041083102378966854, 0.03781174107255005, 0.08776046394277032, 0.16825117767156797, 0.19898991065684063, 0.06931518255534688, 0.1457687260613218, 0.07104804559416884, 0.07980823619173914, 0.07789923101791654, 0.07029889694451905, 0.6189674894879061, 0.4032018433525651, 0.20586304166525138, 0.1992989845304685, 0.179897894912385, 0.15626510982865344, 0.1528347035477507, 0.10528056570732096, 0.10381036478402045, 0.09394301043382168, 0.10246707029617974, 0.11788374062495847, 0.08868744795593762, 0.08204227877180821, 0.08082598828203293, 0.07108311631178518, 0.0701174791654707, 0.0664394514866971, 0.07353247805950182, 0.05535582540876259, 0.054471649285730096, 0.06774417122124016, 0.04920821425605436, 0.047094708025765125, 0.04616338289736443, 0.043890823353064705, 0.040172738719869656, 0.038902529880859536, 0.11130510913785961, 0.14744232827752882, 0.057543190283911534, 0.05846861662708033, 0.08886819394006619, 0.0610794369822767, 0.05397924331036707, 0.05616743371525584, 0.3474181256859516, 0.19557771563430779, 0.19633062961504144, 0.24474000041797636, 0.16284578592926993, 0.14502687148879675, 0.13707831801155174, 0.15258427580582123, 0.13816488161377974, 0.26713784008324565, 0.25946189802590774, 0.09103720106117531, 0.090295291276765, 0.08099324404834969, 0.05563945627084106, 0.05297713878797172, 0.07260682956801097, 0.05052027278598318, 0.048084765675230096, 0.04574849416802382, 0.04107412583067974, 0.04078744561296307, 0.04074347735363722, 0.03979720232346487, 0.03776286311883862, 0.03735395718727818, 0.03431078924759949, 0.03290439845908248, 0.04286936266234416, 0.03338960587539373, 0.09269770741044671, 0.12447001744424847, 0.0950732401581309, 0.0693930219299859, 0.09385433504421782, 0.0658477968649717, 0.0861567653364398, 0.07478194260436791, 0.06938904280065053, 0.08823279581268592, 0.06854056252606677, 0.06297439515622431, 0.062000885859981716, 0.058483458708814155, 0.0578165476735655, 0.8091414372610312, 0.49834896918190635, 0.5402780110822752, 0.24234207285930134, 0.303356037120395, 0.20574231830332865, 0.20821228046898924, 0.13491527944781237, 0.0959742517514262, 0.09567864967601472, 0.06636879327646077, 0.06170428985616092, 0.05918487388357132, 0.09814746158166622, 0.053954648995726724, 0.055443122314789754, 0.11311563286372475, 0.04291015470042499, 0.042328934216603976, 0.04057009449444417, 0.0408537183814918, 0.04248264508377946, 0.03796280160654516, 0.03251103737829709, 0.030177480565444552, 0.03272153864669031, 0.029847357786202764, 0.028812153271873305, 0.026811196721359044, 0.026747099219698985, 0.06898644587790313, 0.06443495550349582, 0.0946364403731684, 0.0986094236976223, 0.10117353022094946, 0.0945934235982133, 0.05630036833348301, 0.08914187688708232, 0.06560621513120747, 0.06781410972479836, 0.07448479932324992, 0.07065481691300231, 0.04868437515121968, 0.05222842946767068, 0.2892330000480107, 0.14213484376790836, 0.14057525215271502, 0.1306061717604177, 0.06769897149095983, 0.06837103698015393, 0.06079809093276841, 0.06587142211764467, 0.0590655047087147, 0.06010386678318911, 0.053012875152526756, 0.04836337276433181, 0.04714703784443519, 0.04706710889852361, 0.050956316237331316, 0.04152688948038044, 0.04017825641368112, 0.04048330754187367, 0.03809139101766058, 0.035834711256693186, 0.029959880432014873, 0.03412396389196074, 0.027313643888384007, 0.029294692442367837, 0.027284995043073607, 0.026064646619824664, 0.025525444259312868, 0.025044939607412844, 0.025211975256448655, 0.02498890157764942, 0.17643689065899112, 0.030724709549819616, 0.06731037055814298, 0.03434609415762138, 0.04819628026177353, 0.052021381700643875, 0.06960063653751333, 0.13360242346182966, 0.06098543039601862, 0.06522172138285473, 0.07096835462103897, 0.0563385183964415, 0.04984466641903961, 0.047386789148718376, 0.04505745769271639, 0.04238741373654851], \"Total\": [87.0, 109.0, 68.0, 25.0, 67.0, 41.0, 13.0, 56.0, 19.0, 31.0, 61.0, 36.0, 21.0, 22.0, 65.0, 33.0, 12.0, 13.0, 22.0, 31.0, 44.0, 73.0, 113.0, 23.0, 29.0, 52.0, 58.0, 27.0, 24.0, 10.0, 17.068059691870314, 12.586405128340678, 12.115458708832293, 39.652673367940295, 36.82689347619576, 19.776067517519248, 31.382975060858243, 10.167137660507926, 27.71575396631233, 9.456037591594392, 8.696969969955763, 11.4427178421875, 14.469219472623488, 11.282068752251345, 8.656797093600266, 9.450055950060925, 13.803747355245047, 14.243695889918193, 18.34611272068442, 13.994770982558805, 9.231467856891307, 13.667838610010126, 12.438582843006754, 7.481704948215745, 12.187774048873, 8.7193829329145, 9.592991035087529, 9.335871090254619, 16.192905654476363, 8.585879964823476, 37.10379766712956, 48.58581376485545, 17.744595415990233, 17.627329346812846, 32.81578361634178, 32.61272356709221, 16.89079595253328, 14.284984143127867, 20.83779570883281, 113.42360969247444, 54.06342316767315, 37.10235686233151, 25.41423872289821, 28.83520370911906, 35.225630797528204, 23.068504940926292, 27.66264475493086, 31.848929658693283, 44.397077943303664, 74.32302075369446, 58.95696763196739, 54.19404450864454, 109.01932822617549, 43.263252280608405, 46.01549365257871, 57.23285836724181, 35.74082769915709, 50.00384424189877, 65.61365921603984, 57.12237720048638, 56.98174421387274, 61.6651432427989, 53.11902911644487, 58.50838886648239, 65.56369785587381, 53.95906358270611, 54.68566386038355, 67.09811021663829, 58.819952937793055, 54.250851088851114, 52.20846888966052, 52.47338818439899, 73.24025022075703, 57.611333938609974, 61.10724722814617, 61.66500834939235, 51.04399263474738, 87.544066569474, 56.826710919724114, 68.22065806253583, 56.81311288533981, 6.825572922281798, 6.01475413111134, 9.723794247818285, 4.0748802080737825, 6.557241641210718, 3.215964856693303, 2.9428523549679095, 2.8904972443335804, 2.956117561701994, 2.7462177469602023, 3.1289485312606597, 2.4018752685335913, 5.421301158842154, 2.548106274795641, 2.9375134158778633, 2.2493591447050445, 2.1408480811306347, 2.211929197286088, 3.1664369413412388, 2.5137610795429746, 2.9998512717919237, 2.0302142887783057, 4.715098892863236, 2.0780638923764587, 2.4248067596533716, 2.856485173900558, 3.08884194232789, 2.031414817167066, 1.911414545868804, 2.010360546357814, 3.6303720662662275, 3.3725728264054315, 5.81202912195457, 15.073154250491898, 4.441695828403671, 4.141450500031824, 6.589494388865713, 3.609236459879169, 3.1884535581768505, 10.42197521750009, 5.0644096696897885, 6.72544030734221, 5.007201723167502, 4.303858543359241, 7.147412306946013, 4.277542881479459, 4.600140684924266, 22.568174978359647, 6.408968749755285, 44.26041013590785, 18.344604571657616, 73.24025022075703, 7.292140373239649, 87.544066569474, 29.769393058996965, 19.68752167436405, 68.22065806253583, 40.47330376895237, 23.18792654434982, 43.42443602603271, 9.319163325625263, 3.604069078209544, 2.4368850110133775, 2.3865674004338175, 1.9457635696275917, 1.8106437648110791, 1.9845050693282178, 1.7593345417939248, 1.9374206900790054, 1.9255705733047421, 3.6379280620317553, 7.323111268399217, 3.168404086970127, 2.011241246276004, 1.666575159111717, 1.445075708639431, 1.5652778846365094, 1.7867956088836243, 1.9797770466856528, 1.8896961117060842, 1.5741565592903295, 1.3766572361352136, 1.6746372521622148, 1.5186239748061783, 1.3894950453451922, 1.739990509444982, 1.3448579057890313, 2.2063707227851355, 1.2656378825911734, 1.737245361511563, 1.3634194473703318, 4.635652260277945, 2.5445735006915142, 2.468489203562114, 2.7202664888691834, 3.0841756907797966, 6.041716367198797, 11.595733005765135, 5.5389217771178165, 2.9594050867037467, 2.6480067933010942, 2.3058865387442964, 22.30775066611967, 9.351389481320226, 5.655711074162363, 7.862984677099648, 3.9080548124744947, 5.816954261085506, 68.22065806253583, 24.18599087749596, 7.147412306946013, 17.309256966034873, 4.160740434999401, 21.53735291507974, 6.608369757810848, 32.16530146221045, 18.92080088511981, 35.47822117525785, 41.76384740794304, 113.42360969247444, 4.285773154484574, 2.8756905833118105, 2.8480998266065467, 1.739298753447975, 2.5557126311187184, 2.37732020989074, 1.7443841310375188, 1.6982814478436696, 1.8574750842030354, 1.4782668078957988, 1.6166161183422976, 1.4177034030306763, 3.4802255950168473, 1.3610050150099877, 3.0859306917417126, 1.3428626215589117, 1.433174160572792, 1.4007911881773036, 2.479496757866414, 2.1902726629610063, 2.2452373993423684, 2.755945675557253, 1.4167779592075707, 1.0673349608345182, 4.041165868671691, 1.1406629845908944, 1.0124278227535028, 1.0818818188773207, 1.0020210196202763, 1.4035678487867833, 3.1901259189708493, 2.8621807803702417, 2.727632368406166, 2.002728479121242, 10.867921677193065, 3.7282826096985477, 19.020319024917278, 25.059481303122883, 5.355069494191513, 21.02188987575147, 87.544066569474, 4.757311336160823, 31.39551580071911, 22.764639930959312, 6.219053763007881, 23.845549938276022, 56.81311288533981, 109.01932822617549, 20.307018660815242, 33.29793833768406, 61.66500834939235, 12.012061104712833, 29.769393058996965, 2.420088284946574, 1.6864520688731153, 1.855429811479638, 1.4099831189162155, 1.260798561375821, 1.3366471498163937, 1.2487715157959876, 1.017583248715727, 2.437969482173794, 1.1736754920810024, 0.849504370299023, 0.8432726737786225, 0.9378611788931295, 0.8244485901497637, 0.8891102444711876, 0.9179518518738072, 0.7257907782801519, 0.7358419672824448, 0.9003841115063009, 2.6299892271834624, 0.677881753066261, 0.8679892557857222, 0.6405031312388759, 2.3339600748328846, 0.7177566658450576, 0.715818474784902, 0.7569996613735736, 0.6279386578360762, 0.6475987834372268, 0.59358837256378, 3.8804949108704574, 5.6334339699175375, 1.0166090231988283, 2.1867281307297004, 1.2606639091314045, 4.581169771660928, 1.2254377291273197, 13.93404435702606, 2.5612203064350503, 2.2314043384295585, 3.3260148537536236, 7.498547471650661, 41.76384740794304, 36.6671055679841, 109.01932822617549, 3.1546252859224175, 18.33476910783253, 67.09811021663829, 5.409692171404191, 1.7624844526084062, 1.258858597818881, 0.9209817670230054, 0.7522283151284814, 1.0529782005921995, 0.6259180147506805, 0.8687548053767662, 0.6173411784963787, 0.8494156300805955, 0.8728381411027135, 0.5499953160329769, 0.5255567793616237, 0.5152084452547536, 0.5182545103168953, 0.5327104601285013, 0.6384460273903207, 0.576437923642322, 0.5051000453895967, 0.5020412917706825, 3.4253259390633737, 0.6595933500342341, 0.5009455569252196, 0.5489099431403486, 0.879562707259402, 0.4562891883853014, 0.454936031772365, 0.4516626941031016, 0.4984087239864914, 0.6127621277578955, 0.44038350890081385, 13.230159476528488, 4.573739040089334, 1.0251959407466207, 0.9575962004900664, 2.677467324877293, 3.4306471781023147, 2.3339600748328846, 0.9682386164580292, 2.6299892271834624, 1.1313498924336665, 1.2254377291273197, 36.6671055679841, 67.09811021663829, 109.01932822617549, 13.130045934791161, 13.93404435702606, 0.757853147557564, 0.6347425013838458, 0.573183854932434, 0.5662786072585758, 0.7286482741590621, 0.566735924964305, 0.6710896783172633, 0.6341649025448131, 0.5827643598395152, 0.7896070843188948, 0.5085575292751312, 0.6268550339348244, 0.6095492559857388, 0.5304395550387155, 0.46518872188743116, 0.5077248449291882, 0.4662954529903128, 0.4515456277050637, 0.46430387601811934, 0.4383636400438128, 0.42753588181865887, 0.5140044129487344, 0.514099791275409, 0.5141038302939057, 0.5141544861803661, 0.514148460388254, 0.512760424647053, 0.7688565533126853, 0.396092374681038, 0.44746111415451295, 1.1453205224959526, 3.2190514774719023, 12.400520195831172, 1.5377025765511796, 1.6393456767163144, 3.161502812040033, 1.2049985662965617, 8.015921839782537, 2.316387467378183, 7.6039545546170935, 8.229082179686461, 65.56369785587381, 5.0644096696897885, 109.01932822617549, 32.37622280362339, 0.8058508848589655, 0.9479835742832392, 0.7066621288936282, 0.744446978679544, 0.7517133625942339, 0.6063566755830472, 1.0285093569364658, 0.8323615675035854, 0.6595250263998909, 0.5512618241276216, 0.5786320927713463, 0.5247694834439269, 0.771300616136907, 0.7325271452819397, 0.4809420365144976, 0.5162333547720361, 0.6559532030826466, 0.616157859814125, 0.47278812828492855, 0.47000802091161237, 0.6146204043757589, 0.45954531880590815, 0.4951405509857792, 0.417160878854751, 0.4135585070440418, 0.4088367566445643, 0.422978500594672, 0.45562724785016995, 0.3835808965740454, 0.38397328340786946, 1.083312395563281, 0.80778520829732, 1.6217961158765077, 2.5766073347622576, 1.0118488692583565, 1.3015892318849522, 3.146688421997079, 3.206594651491605, 8.971378176145324, 2.46141806139862, 15.07370155041105, 5.655711074162363, 1.868078025959946, 87.544066569474, 20.307018660815242, 54.06342316767315, 1.684702262926804, 0.7984425764676456, 1.3962544407857538, 0.6310333368578463, 1.4959294367781721, 0.5116384940443932, 0.5082365435974443, 0.5205060846506099, 0.610132704064618, 0.7239673085244567, 0.5737589330876961, 0.5166578786477977, 0.49737229610025535, 0.46960933766027707, 0.4555178480914259, 0.4533921744135599, 0.5564652707905074, 1.2740172719894802, 0.4672709818606867, 0.4595135024496276, 0.4304822906277645, 0.4117878218365636, 0.46633487680604013, 0.4097672453452789, 0.8930100021005445, 0.38737420281652335, 0.4579663354600506, 0.4045944997209894, 0.3821253591068483, 0.39414169469841914, 0.4363385701747676, 0.6995433446917008, 0.6443360448791675, 0.8930755482775746, 1.6798701658034763, 3.884107018806955, 1.2293201551476125, 3.1230413592424293, 9.169044165020049, 10.618580052654956, 3.365292833628546, 15.073154250491898, 8.316843549888207, 22.568174978359647, 87.544066569474, 17.30426041285401, 44.26041013590785, 40.175138040283, 0.9323545190948916, 0.5515370694609562, 0.5209804297042444, 0.4878248459284964, 0.6702606849747339, 0.631475895150548, 0.5617279253165721, 0.5539433136664333, 0.7097158388454075, 0.4967894357043625, 0.44882917447496135, 0.5182519449656116, 0.4474394696705272, 0.45714441262837624, 0.41425699765323193, 0.3715531591551193, 0.3633611094327969, 0.392089065488052, 0.3679278556855451, 0.32398309000655845, 0.4600754531046783, 0.3860698543178788, 0.36270803124158263, 0.3180823165776049, 0.3189155194663147, 0.31320032325534225, 0.3079524041757898, 0.30553714753566164, 0.6549779567626848, 0.2984009522948119, 1.0434396951188596, 0.9423195180296996, 3.997893018776925, 2.381548741352042, 7.986401352884154, 2.1867281307297004, 3.288428953051724, 3.8804949108704574, 7.821913125977109, 27.71575396631233, 5.6334339699175375, 6.330644297489279, 0.9384540227952552, 0.8023462138754979, 0.5145159880213834, 0.4531702918795498, 0.4264590617841013, 0.4076763018707033, 0.40844635839349386, 0.41104290722149445, 0.44266491562046223, 0.3713557629808788, 0.3513613746316635, 0.6372220143053654, 0.34619157655406235, 0.3345469002158743, 0.4210214489377971, 0.3466410949056204, 0.3461994451445684, 0.36772133379041694, 0.38032065683047384, 0.3162954020334724, 0.4018708688169242, 1.2949025373642111, 0.408696143036257, 0.337542545458791, 0.30132601225212413, 0.3736162443049634, 0.2893651080490134, 0.28533048991455845, 0.2905198935559672, 0.28364906195016887, 0.45425213042095897, 1.5656454566875035, 3.617916123189909, 0.6761479515308298, 3.288428953051724, 1.0145591960010722, 4.303858543359241, 32.37622280362339, 11.433780213904605, 6.981746987850014, 6.408968749755285, 1.2245899029827838, 0.8561367082468907, 0.7327913320469845, 0.5551874194488003, 0.5148805310721917, 0.485102271017477, 0.46049431912166144, 0.5735964878089624, 0.38140611395594326, 0.3564873212322253, 0.3272798820594442, 0.3226200536422192, 0.3314985868295362, 0.3200371674450699, 0.3066915215479072, 0.3072854534181715, 0.30373010558106867, 0.309650979059352, 0.3165776328111265, 0.2932216125679193, 0.30734884997490797, 0.2908401012143045, 0.29471293066127147, 0.30568887632725794, 0.28857598742695006, 0.3005817238873379, 0.9614900683057033, 0.3056052252643634, 0.2758608559358116, 0.30462257682742777, 1.055818565379332, 1.1758283665881106, 4.8783968637309485, 4.861310856143843, 1.4035678487867833, 9.723794247818285, 10.51010165972389, 43.31062359349408, 2.1867281307297004, 3.0869494788244003, 7.172488605303394, 87.544066569474, 14.11370648084065, 1.6018937399543585, 1.2245895860844018, 0.5585113772617071, 0.39353867312403645, 0.40614448047080537, 0.3411174826973024, 0.8329646903531941, 0.3436286032727501, 0.30876257488960607, 0.30479531849621555, 0.29920970110333456, 0.2930069068314445, 0.2970906903625494, 0.2961816350853954, 0.28804097467804707, 0.286309447201565, 0.2877700544213126, 0.27797059433063614, 0.276678879783525, 0.3980519335145676, 0.33489460025899914, 0.2722721645592028, 0.2974815956667222, 0.27781940088064033, 0.2767402696337412, 0.26828708758256026, 0.3301167633978419, 0.2678012799752604, 0.26869582902989375, 0.2633930885060628, 0.6601127809658546, 0.7097158388454075, 1.2399318902982701, 0.8293311386925362, 1.1049676044537269, 9.319163325625263, 2.42207265122538, 10.286983082267573, 10.124278432057384, 25.059481303122883, 87.544066569474, 1.6833770759633837, 16.204301616816537, 9.654965541289936, 9.178188650641331, 0.7184081338943044, 0.6975802956970216, 0.7289499380204342, 0.4825775738772634, 0.46159492380080924, 0.3735631211393616, 0.3626223118645706, 0.7257058552551965, 0.3539582957048161, 0.3649054861675806, 0.6423204269605534, 0.7972915874686177, 0.3146072945654073, 0.3100739726144015, 0.29889908329515186, 0.33916450945409554, 0.29599805794784495, 0.3110987631895359, 0.2855497946045083, 0.3745187462548927, 0.2740919913890935, 0.4109378494715616, 0.2688051121010141, 0.2663191159668758, 0.28066361701172815, 0.2691252188877378, 0.2633524689021144, 0.26093022809853295, 0.2598318669751037, 0.2610359217807528, 0.4033941912434905, 0.5011595105907192, 1.0529782005921995, 4.850639219480932, 3.1901259189708493, 13.954546291730043, 65.61365921603984, 10.23977294418277, 0.950370558978734, 0.4063709675154448, 0.399469882979771, 0.5497134110066512, 0.4109854550319352, 0.41173515345687894, 0.37042104653812613, 1.226570560547797, 0.4027119549625438, 0.34518766596981, 0.3435513172177399, 0.353362128607247, 0.7855317051493604, 0.3265653028370067, 0.39377448951121413, 0.3170071217730597, 0.3038080731790498, 0.3106939299414564, 0.2974155011571044, 0.3645291093797021, 0.3713646078597493, 0.2857846107652989, 0.2813997056995337, 0.2831700952177772, 0.2806922248764431, 0.2728295299656806, 0.273279450019684, 0.27340615105996835, 0.2666440362753821, 0.28245093245350544, 2.46141806139862, 1.4327741252917, 7.498547471650661, 4.635652260277945, 22.30775066611967, 2.5445735006915142, 22.420837605863667, 1.8123715999627694, 5.3077248010892975, 0.9102764739544145, 0.6374507713105705, 0.47066747251070007, 0.5152260032653126, 0.42190410075544527, 0.4242437977453976, 0.44030960502179445, 0.4295301182537589, 0.3865484143217111, 0.3950701649734044, 0.37478494579614585, 0.37863801320980217, 0.3191731926060072, 0.32096517660869267, 0.4766873890394311, 0.30894205602316493, 0.4250121154344815, 0.30978745958034193, 0.29223953646044765, 0.4738651695605341, 0.2876135285084198, 0.3767344689053934, 0.2957730232109988, 0.27796436804430796, 0.4495551370976054, 0.27238378958869414, 0.3101946836323192, 0.4984670085936781, 0.2806274199414188, 0.2623148944463553, 1.059917542702058, 3.6012732899509063, 6.332440984812918, 0.7189920549641718, 6.147403781383519, 0.8930755482775746, 4.379360739833397, 6.89475311535686, 109.01932822617549, 0.843175875468969, 0.6261960912610908, 0.4288573651880516, 0.4343686836202884, 0.4028921528937125, 0.38176325650239595, 0.38799931368991, 0.32827486040595394, 0.32680522135770285, 0.32061863712335403, 0.350687043427551, 0.4051422132499514, 0.3158777510045402, 0.3129661307310815, 0.32339249002453635, 0.2940774207332022, 0.2931117256254989, 0.2901724986806751, 0.3227007338130572, 0.27835024161278415, 0.2774658948321417, 0.3636314155683087, 0.2819432669177329, 0.2712578184120966, 0.2741843480060863, 0.27598251156171544, 0.27087855458393656, 0.26265702885047404, 0.7519769962133543, 1.0870271104384461, 0.7239673085244567, 0.8206607326985016, 3.297911604621909, 3.917613535062071, 5.5389217771178165, 29.96453971588743, 0.7421696100454482, 0.41873610927218086, 0.4222646990326335, 0.5553230547102814, 0.3860042697505416, 0.3707412685130093, 0.36702135516082746, 0.41649090879287803, 0.37943357980241194, 0.7879559470798829, 0.8957975744515793, 0.31646198085606164, 0.3169161432166126, 0.39149863292680426, 0.28119719854252617, 0.2889745548529828, 0.3962993542056998, 0.2783476492947284, 0.27124322506425247, 0.2689070242283652, 0.26423261631651257, 0.2650548927778762, 0.26501676604400726, 0.26295560932128353, 0.2628759889270201, 0.26243922087467847, 0.25861383457901194, 0.2560628561568163, 0.337321406297484, 0.26986383276057396, 0.765900535784422, 1.0691661925600917, 0.9795044300128596, 1.0849370818289066, 2.247760685717749, 1.4032007196715564, 6.753524834962061, 4.998749144758037, 5.631881626153769, 28.83520370911906, 10.124278432057384, 7.986401352884154, 7.9897938347501425, 10.286983082267573, 5.86693881346622, 1.0335239729681605, 0.7237713975601262, 0.7898623889925895, 0.46681026246990603, 0.630243113185137, 0.4294335284699782, 0.4361082456884803, 0.3580635344671139, 0.32611168428230297, 0.3459980023692908, 0.3058295689811799, 0.2899359977303211, 0.28233308520689454, 0.5006768872878368, 0.2787639810913307, 0.29682804504041793, 0.6285812234747633, 0.26605853718471884, 0.27668824977709106, 0.2687552744946183, 0.275343139169398, 0.2873264911254775, 0.26111110566392304, 0.25773706610290786, 0.2533258024950633, 0.27863714802960193, 0.25847047126577066, 0.2519608071058037, 0.24995936857180212, 0.2498954845947199, 0.6702606849747339, 0.6995433446917008, 1.1742147618842607, 2.2452373993423684, 3.4802255950168473, 5.6334339699175375, 1.6393456767163144, 9.469075697100251, 3.8804949108704574, 6.514760884156019, 109.01932822617549, 67.09811021663829, 1.8070082179486366, 6.332440984812918, 0.5190904101819365, 0.36630359665532947, 0.3742796184017224, 0.3814384177923742, 0.29103348991874145, 0.2945487275890566, 0.28596015358104004, 0.31056451619782366, 0.2945505040796395, 0.30724086193303235, 0.276347471739941, 0.2734939025370539, 0.2704815433954647, 0.2704016218222598, 0.30329686902818076, 0.271088692559491, 0.2635127983218408, 0.28731934781475466, 0.2806119533597513, 0.2893234520191371, 0.2552037427403647, 0.29977305701400425, 0.25064814943941355, 0.2696365303358174, 0.2516211735752875, 0.24939932601208448, 0.25044275860963106, 0.2483794451584424, 0.250571905178036, 0.2502957002849864, 2.8621807803702417, 0.338090681283818, 1.2049985662965617, 0.4456348531090051, 0.9179518518738072, 1.1736754920810024, 2.479496757866414, 12.400520195831172, 2.4501999744169862, 4.642556627734079, 9.334118016999012, 15.474511380390844, 11.595733005765135, 35.63064996003314, 87.544066569474, 4.7701418882689754], \"Category\": [\"Default\", \"Default\", \"Default\", \"Default\", \"Default\", \"Default\", \"Default\", \"Default\", \"Default\", \"Default\", \"Default\", \"Default\", \"Default\", \"Default\", \"Default\", \"Default\", \"Default\", \"Default\", \"Default\", \"Default\", \"Default\", \"Default\", \"Default\", \"Default\", \"Default\", \"Default\", \"Default\", \"Default\", \"Default\", \"Default\", \"Topic1\", \"Topic1\", \"Topic1\", \"Topic1\", \"Topic1\", \"Topic1\", \"Topic1\", \"Topic1\", \"Topic1\", \"Topic1\", \"Topic1\", \"Topic1\", \"Topic1\", \"Topic1\", \"Topic1\", \"Topic1\", \"Topic1\", \"Topic1\", \"Topic1\", \"Topic1\", \"Topic1\", \"Topic1\", \"Topic1\", \"Topic1\", \"Topic1\", \"Topic1\", \"Topic1\", \"Topic1\", \"Topic1\", \"Topic1\", \"Topic1\", \"Topic1\", \"Topic1\", \"Topic1\", \"Topic1\", \"Topic1\", \"Topic1\", \"Topic1\", \"Topic1\", \"Topic1\", \"Topic1\", \"Topic1\", \"Topic1\", \"Topic1\", \"Topic1\", \"Topic1\", \"Topic1\", \"Topic1\", \"Topic1\", \"Topic1\", \"Topic1\", \"Topic1\", \"Topic1\", \"Topic1\", \"Topic1\", \"Topic1\", \"Topic1\", \"Topic1\", \"Topic1\", \"Topic1\", \"Topic1\", \"Topic1\", \"Topic1\", \"Topic1\", \"Topic1\", \"Topic1\", \"Topic1\", \"Topic1\", \"Topic1\", \"Topic1\", \"Topic1\", \"Topic1\", \"Topic1\", \"Topic1\", \"Topic1\", \"Topic1\", \"Topic1\", \"Topic1\", \"Topic1\", \"Topic1\", \"Topic1\", \"Topic2\", \"Topic2\", \"Topic2\", \"Topic2\", \"Topic2\", \"Topic2\", \"Topic2\", \"Topic2\", \"Topic2\", \"Topic2\", \"Topic2\", \"Topic2\", \"Topic2\", \"Topic2\", \"Topic2\", \"Topic2\", \"Topic2\", \"Topic2\", \"Topic2\", \"Topic2\", \"Topic2\", \"Topic2\", \"Topic2\", \"Topic2\", \"Topic2\", \"Topic2\", \"Topic2\", \"Topic2\", \"Topic2\", \"Topic2\", \"Topic2\", \"Topic2\", \"Topic2\", \"Topic2\", \"Topic2\", \"Topic2\", \"Topic2\", \"Topic2\", \"Topic2\", \"Topic2\", \"Topic2\", \"Topic2\", \"Topic2\", \"Topic2\", \"Topic2\", \"Topic2\", \"Topic2\", \"Topic2\", \"Topic2\", \"Topic2\", \"Topic2\", \"Topic2\", \"Topic2\", \"Topic2\", \"Topic2\", \"Topic2\", \"Topic2\", \"Topic2\", \"Topic2\", \"Topic2\", \"Topic3\", \"Topic3\", \"Topic3\", \"Topic3\", \"Topic3\", \"Topic3\", \"Topic3\", \"Topic3\", \"Topic3\", \"Topic3\", \"Topic3\", \"Topic3\", \"Topic3\", \"Topic3\", \"Topic3\", \"Topic3\", \"Topic3\", \"Topic3\", \"Topic3\", \"Topic3\", \"Topic3\", \"Topic3\", \"Topic3\", \"Topic3\", \"Topic3\", \"Topic3\", \"Topic3\", \"Topic3\", \"Topic3\", \"Topic3\", \"Topic3\", \"Topic3\", \"Topic3\", \"Topic3\", \"Topic3\", \"Topic3\", \"Topic3\", \"Topic3\", \"Topic3\", \"Topic3\", \"Topic3\", \"Topic3\", \"Topic3\", \"Topic3\", \"Topic3\", \"Topic3\", \"Topic3\", \"Topic3\", \"Topic3\", \"Topic3\", \"Topic3\", \"Topic3\", \"Topic3\", \"Topic3\", \"Topic3\", \"Topic3\", \"Topic3\", \"Topic3\", \"Topic3\", \"Topic3\", \"Topic4\", \"Topic4\", \"Topic4\", \"Topic4\", \"Topic4\", \"Topic4\", \"Topic4\", \"Topic4\", \"Topic4\", \"Topic4\", \"Topic4\", \"Topic4\", \"Topic4\", \"Topic4\", \"Topic4\", \"Topic4\", \"Topic4\", \"Topic4\", \"Topic4\", \"Topic4\", \"Topic4\", \"Topic4\", \"Topic4\", \"Topic4\", \"Topic4\", \"Topic4\", \"Topic4\", \"Topic4\", \"Topic4\", \"Topic4\", \"Topic4\", \"Topic4\", \"Topic4\", \"Topic4\", \"Topic4\", \"Topic4\", \"Topic4\", \"Topic4\", \"Topic4\", \"Topic4\", \"Topic4\", \"Topic4\", \"Topic4\", \"Topic4\", \"Topic4\", \"Topic4\", \"Topic4\", \"Topic4\", \"Topic4\", \"Topic4\", \"Topic4\", \"Topic4\", \"Topic4\", \"Topic5\", \"Topic5\", \"Topic5\", \"Topic5\", \"Topic5\", \"Topic5\", \"Topic5\", \"Topic5\", \"Topic5\", \"Topic5\", \"Topic5\", \"Topic5\", \"Topic5\", \"Topic5\", \"Topic5\", \"Topic5\", \"Topic5\", \"Topic5\", \"Topic5\", \"Topic5\", \"Topic5\", \"Topic5\", \"Topic5\", \"Topic5\", \"Topic5\", \"Topic5\", \"Topic5\", \"Topic5\", \"Topic5\", \"Topic5\", \"Topic5\", \"Topic5\", \"Topic5\", \"Topic5\", \"Topic5\", \"Topic5\", \"Topic5\", \"Topic5\", \"Topic5\", \"Topic5\", \"Topic5\", \"Topic5\", \"Topic5\", \"Topic5\", \"Topic5\", \"Topic5\", \"Topic5\", \"Topic5\", \"Topic5\", \"Topic6\", \"Topic6\", \"Topic6\", \"Topic6\", \"Topic6\", \"Topic6\", \"Topic6\", \"Topic6\", \"Topic6\", \"Topic6\", \"Topic6\", \"Topic6\", \"Topic6\", \"Topic6\", \"Topic6\", \"Topic6\", \"Topic6\", \"Topic6\", \"Topic6\", \"Topic6\", \"Topic6\", \"Topic6\", \"Topic6\", \"Topic6\", \"Topic6\", \"Topic6\", \"Topic6\", \"Topic6\", \"Topic6\", \"Topic6\", \"Topic6\", \"Topic6\", \"Topic6\", \"Topic6\", \"Topic6\", \"Topic6\", \"Topic6\", \"Topic6\", \"Topic6\", \"Topic6\", \"Topic6\", \"Topic6\", \"Topic6\", \"Topic6\", \"Topic6\", \"Topic6\", \"Topic7\", \"Topic7\", \"Topic7\", \"Topic7\", \"Topic7\", \"Topic7\", \"Topic7\", \"Topic7\", \"Topic7\", \"Topic7\", \"Topic7\", \"Topic7\", \"Topic7\", \"Topic7\", \"Topic7\", \"Topic7\", \"Topic7\", \"Topic7\", \"Topic7\", \"Topic7\", \"Topic7\", \"Topic7\", \"Topic7\", \"Topic7\", \"Topic7\", \"Topic7\", \"Topic7\", \"Topic7\", \"Topic7\", \"Topic7\", \"Topic7\", \"Topic7\", \"Topic7\", \"Topic7\", \"Topic7\", \"Topic7\", \"Topic7\", \"Topic7\", \"Topic7\", \"Topic7\", \"Topic7\", \"Topic7\", \"Topic7\", \"Topic7\", \"Topic7\", \"Topic8\", \"Topic8\", \"Topic8\", \"Topic8\", \"Topic8\", \"Topic8\", \"Topic8\", \"Topic8\", \"Topic8\", \"Topic8\", \"Topic8\", \"Topic8\", \"Topic8\", \"Topic8\", \"Topic8\", \"Topic8\", \"Topic8\", \"Topic8\", \"Topic8\", \"Topic8\", \"Topic8\", \"Topic8\", \"Topic8\", \"Topic8\", \"Topic8\", \"Topic8\", \"Topic8\", \"Topic8\", \"Topic8\", \"Topic8\", \"Topic8\", \"Topic8\", \"Topic8\", \"Topic8\", \"Topic8\", \"Topic8\", \"Topic8\", \"Topic8\", \"Topic8\", \"Topic8\", \"Topic8\", \"Topic8\", \"Topic8\", \"Topic8\", \"Topic8\", \"Topic8\", \"Topic9\", \"Topic9\", \"Topic9\", \"Topic9\", \"Topic9\", \"Topic9\", \"Topic9\", \"Topic9\", \"Topic9\", \"Topic9\", \"Topic9\", \"Topic9\", \"Topic9\", \"Topic9\", \"Topic9\", \"Topic9\", \"Topic9\", \"Topic9\", \"Topic9\", \"Topic9\", \"Topic9\", \"Topic9\", \"Topic9\", \"Topic9\", \"Topic9\", \"Topic9\", \"Topic9\", \"Topic9\", \"Topic9\", \"Topic9\", \"Topic9\", \"Topic9\", \"Topic9\", \"Topic9\", \"Topic9\", \"Topic9\", \"Topic9\", \"Topic9\", \"Topic9\", \"Topic9\", \"Topic9\", \"Topic9\", \"Topic9\", \"Topic9\", \"Topic9\", \"Topic9\", \"Topic9\", \"Topic9\", \"Topic10\", \"Topic10\", \"Topic10\", \"Topic10\", \"Topic10\", \"Topic10\", \"Topic10\", \"Topic10\", \"Topic10\", \"Topic10\", \"Topic10\", \"Topic10\", \"Topic10\", \"Topic10\", \"Topic10\", \"Topic10\", \"Topic10\", \"Topic10\", \"Topic10\", \"Topic10\", \"Topic10\", \"Topic10\", \"Topic10\", \"Topic10\", \"Topic10\", \"Topic10\", \"Topic10\", \"Topic10\", \"Topic10\", \"Topic10\", \"Topic10\", \"Topic10\", \"Topic10\", \"Topic10\", \"Topic10\", \"Topic10\", \"Topic10\", \"Topic10\", \"Topic10\", \"Topic10\", \"Topic10\", \"Topic10\", \"Topic11\", \"Topic11\", \"Topic11\", \"Topic11\", \"Topic11\", \"Topic11\", \"Topic11\", \"Topic11\", \"Topic11\", \"Topic11\", \"Topic11\", \"Topic11\", \"Topic11\", \"Topic11\", \"Topic11\", \"Topic11\", \"Topic11\", \"Topic11\", \"Topic11\", \"Topic11\", \"Topic11\", \"Topic11\", \"Topic11\", \"Topic11\", \"Topic11\", \"Topic11\", \"Topic11\", \"Topic11\", \"Topic11\", \"Topic11\", \"Topic11\", \"Topic11\", \"Topic11\", \"Topic11\", \"Topic11\", \"Topic11\", \"Topic11\", \"Topic11\", \"Topic11\", \"Topic11\", \"Topic11\", \"Topic12\", \"Topic12\", \"Topic12\", \"Topic12\", \"Topic12\", \"Topic12\", \"Topic12\", \"Topic12\", \"Topic12\", \"Topic12\", \"Topic12\", \"Topic12\", \"Topic12\", \"Topic12\", \"Topic12\", \"Topic12\", \"Topic12\", \"Topic12\", \"Topic12\", \"Topic12\", \"Topic12\", \"Topic12\", \"Topic12\", \"Topic12\", \"Topic12\", \"Topic12\", \"Topic12\", \"Topic12\", \"Topic12\", \"Topic12\", \"Topic12\", \"Topic12\", \"Topic12\", \"Topic12\", \"Topic12\", \"Topic12\", \"Topic12\", \"Topic12\", \"Topic12\", \"Topic12\", \"Topic12\", \"Topic12\", \"Topic12\", \"Topic13\", \"Topic13\", \"Topic13\", \"Topic13\", \"Topic13\", \"Topic13\", \"Topic13\", \"Topic13\", \"Topic13\", \"Topic13\", \"Topic13\", \"Topic13\", \"Topic13\", \"Topic13\", \"Topic13\", \"Topic13\", \"Topic13\", \"Topic13\", \"Topic13\", \"Topic13\", \"Topic13\", \"Topic13\", \"Topic13\", \"Topic13\", \"Topic13\", \"Topic13\", \"Topic13\", \"Topic13\", \"Topic13\", \"Topic13\", \"Topic13\", \"Topic13\", \"Topic13\", \"Topic13\", \"Topic13\", \"Topic13\", \"Topic13\", \"Topic13\", \"Topic13\", \"Topic13\", \"Topic13\", \"Topic13\", \"Topic13\", \"Topic13\", \"Topic13\", \"Topic14\", \"Topic14\", \"Topic14\", \"Topic14\", \"Topic14\", \"Topic14\", \"Topic14\", \"Topic14\", \"Topic14\", \"Topic14\", \"Topic14\", \"Topic14\", \"Topic14\", \"Topic14\", \"Topic14\", \"Topic14\", \"Topic14\", \"Topic14\", \"Topic14\", \"Topic14\", \"Topic14\", \"Topic14\", \"Topic14\", \"Topic14\", \"Topic14\", \"Topic14\", \"Topic14\", \"Topic14\", \"Topic14\", \"Topic14\", \"Topic14\", \"Topic14\", \"Topic14\", \"Topic14\", \"Topic14\", \"Topic14\", \"Topic14\", \"Topic14\", \"Topic15\", \"Topic15\", \"Topic15\", \"Topic15\", \"Topic15\", \"Topic15\", \"Topic15\", \"Topic15\", \"Topic15\", \"Topic15\", \"Topic15\", \"Topic15\", \"Topic15\", \"Topic15\", \"Topic15\", \"Topic15\", \"Topic15\", \"Topic15\", \"Topic15\", \"Topic15\", \"Topic15\", \"Topic15\", \"Topic15\", \"Topic15\", \"Topic15\", \"Topic15\", \"Topic15\", \"Topic15\", \"Topic15\", \"Topic15\", \"Topic15\", \"Topic15\", \"Topic15\", \"Topic15\", \"Topic15\", \"Topic15\", \"Topic15\", \"Topic15\", \"Topic15\", \"Topic16\", \"Topic16\", \"Topic16\", \"Topic16\", \"Topic16\", \"Topic16\", \"Topic16\", \"Topic16\", \"Topic16\", \"Topic16\", \"Topic16\", \"Topic16\", \"Topic16\", \"Topic16\", \"Topic16\", \"Topic16\", \"Topic16\", \"Topic16\", \"Topic16\", \"Topic16\", \"Topic16\", \"Topic16\", \"Topic16\", \"Topic16\", \"Topic16\", \"Topic16\", \"Topic16\", \"Topic16\", \"Topic16\", \"Topic16\", \"Topic16\", \"Topic16\", \"Topic16\", \"Topic16\", \"Topic16\", \"Topic16\", \"Topic16\", \"Topic16\", \"Topic16\", \"Topic17\", \"Topic17\", \"Topic17\", \"Topic17\", \"Topic17\", \"Topic17\", \"Topic17\", \"Topic17\", \"Topic17\", \"Topic17\", \"Topic17\", \"Topic17\", \"Topic17\", \"Topic17\", \"Topic17\", \"Topic17\", \"Topic17\", \"Topic17\", \"Topic17\", \"Topic17\", \"Topic17\", \"Topic17\", \"Topic17\", \"Topic17\", \"Topic17\", \"Topic17\", \"Topic17\", \"Topic17\", \"Topic17\", \"Topic17\", \"Topic17\", \"Topic17\", \"Topic17\", \"Topic17\", \"Topic17\", \"Topic17\", \"Topic18\", \"Topic18\", \"Topic18\", \"Topic18\", \"Topic18\", \"Topic18\", \"Topic18\", \"Topic18\", \"Topic18\", \"Topic18\", \"Topic18\", \"Topic18\", \"Topic18\", \"Topic18\", \"Topic18\", \"Topic18\", \"Topic18\", \"Topic18\", \"Topic18\", \"Topic18\", \"Topic18\", \"Topic18\", \"Topic18\", \"Topic18\", \"Topic18\", \"Topic18\", \"Topic18\", \"Topic18\", \"Topic18\", \"Topic18\", \"Topic18\", \"Topic18\", \"Topic18\", \"Topic18\", \"Topic18\", \"Topic18\", \"Topic18\", \"Topic18\", \"Topic18\", \"Topic18\", \"Topic18\", \"Topic18\", \"Topic18\", \"Topic18\", \"Topic18\", \"Topic19\", \"Topic19\", \"Topic19\", \"Topic19\", \"Topic19\", \"Topic19\", \"Topic19\", \"Topic19\", \"Topic19\", \"Topic19\", \"Topic19\", \"Topic19\", \"Topic19\", \"Topic19\", \"Topic19\", \"Topic19\", \"Topic19\", \"Topic19\", \"Topic19\", \"Topic19\", \"Topic19\", \"Topic19\", \"Topic19\", \"Topic19\", \"Topic19\", \"Topic19\", \"Topic19\", \"Topic19\", \"Topic19\", \"Topic19\", \"Topic19\", \"Topic19\", \"Topic19\", \"Topic19\", \"Topic19\", \"Topic19\", \"Topic19\", \"Topic19\", \"Topic19\", \"Topic19\", \"Topic19\", \"Topic19\", \"Topic19\", \"Topic19\", \"Topic20\", \"Topic20\", \"Topic20\", \"Topic20\", \"Topic20\", \"Topic20\", \"Topic20\", \"Topic20\", \"Topic20\", \"Topic20\", \"Topic20\", \"Topic20\", \"Topic20\", \"Topic20\", \"Topic20\", \"Topic20\", \"Topic20\", \"Topic20\", \"Topic20\", \"Topic20\", \"Topic20\", \"Topic20\", \"Topic20\", \"Topic20\", \"Topic20\", \"Topic20\", \"Topic20\", \"Topic20\", \"Topic20\", \"Topic20\", \"Topic20\", \"Topic20\", \"Topic20\", \"Topic20\", \"Topic20\", \"Topic20\", \"Topic20\", \"Topic20\", \"Topic20\", \"Topic20\", \"Topic20\", \"Topic20\", \"Topic20\", \"Topic20\", \"Topic20\", \"Topic20\"], \"logprob\": [30.0, 29.0, 28.0, 27.0, 26.0, 25.0, 24.0, 23.0, 22.0, 21.0, 20.0, 19.0, 18.0, 17.0, 16.0, 15.0, 14.0, 13.0, 12.0, 11.0, 10.0, 9.0, 8.0, 7.0, 6.0, 5.0, 4.0, 3.0, 2.0, 1.0, -8.0394, -8.3446, -8.3835, -7.1988, -7.2736, -7.8954, -7.4345, -8.562, -7.5593, -8.6351, -8.7187, -8.4444, -8.2099, -8.4588, -8.7249, -8.6374, -8.2588, -8.2278, -7.9747, -8.2456, -8.6619, -8.2698, -8.3641, -8.8726, -8.385, -8.7199, -8.6246, -8.6521, -8.1015, -8.736, -7.2738, -7.0126, -8.0103, -8.0175, -7.4031, -7.4096, -8.061, -8.2272, -7.8538, -6.1841, -6.9128, -7.2842, -7.6573, -7.5343, -7.3386, -7.7538, -7.5764, -7.4389, -7.1136, -6.6135, -6.8387, -6.9206, -6.2436, -7.1406, -7.081, -6.8695, -7.3268, -7.0011, -6.7417, -6.8754, -6.8791, -6.8046, -6.9484, -6.8563, -6.7483, -6.9335, -6.9209, -6.7275, -6.8528, -6.931, -6.9685, -6.9641, -6.6663, -6.8902, -6.8411, -6.8349, -6.9965, -6.5567, -6.9153, -6.8325, -6.948, -6.6653, -6.8102, -6.3314, -7.2176, -6.7483, -7.4621, -7.5524, -7.5714, -7.5501, -7.6241, -7.4953, -7.7662, -6.9531, -7.7126, -7.5734, -7.8411, -7.8924, -7.8653, -7.5074, -7.7387, -7.5636, -7.9584, -7.116, -7.9371, -7.7829, -7.6218, -7.5451, -7.9653, -8.0303, -7.9801, -7.3941, -7.4708, -6.952, -6.067, -7.2363, -7.3149, -6.9135, -7.4476, -7.5651, -6.6638, -7.2163, -7.0113, -7.2501, -7.3893, -7.1474, -7.4107, -7.3858, -6.8893, -7.3055, -6.8466, -7.1068, -6.934, -7.3535, -7.152, -7.2924, -7.3426, -7.3032, -7.3418, -7.3732, -7.3841, -5.9915, -6.9705, -7.3754, -7.4, -7.6144, -7.6902, -7.6015, -7.7237, -7.6343, -7.6418, -7.0138, -6.3181, -7.1569, -7.6123, -7.8032, -7.9498, -7.8766, -7.7444, -7.6442, -7.6912, -7.8754, -8.0104, -7.8172, -7.915, -8.0129, -7.7884, -8.0473, -7.5532, -8.1114, -7.7948, -8.0389, -6.8654, -7.443, -7.4818, -7.4087, -7.3044, -6.8026, -6.3371, -6.9202, -7.4114, -7.4917, -7.5952, -6.0933, -6.6724, -7.0464, -6.9301, -7.3187, -7.1264, -6.1664, -6.6819, -7.1907, -6.9786, -7.4593, -7.1871, -7.3951, -7.2524, -7.3325, -7.3124, -7.3335, -7.3773, -6.2903, -6.7385, -6.7672, -7.272, -6.8887, -6.9673, -7.2802, -7.3103, -7.2216, -7.4568, -7.3717, -7.5087, -6.6144, -7.5609, -6.7433, -7.5773, -7.5145, -7.5404, -6.9765, -7.1014, -7.0794, -6.877, -7.5476, -7.8623, -6.5387, -7.8085, -7.9326, -7.8676, -7.9528, -7.6174, -6.823, -6.944, -7.0152, -7.3217, -5.8843, -6.8503, -5.6877, -5.6053, -6.7015, -6.3398, -5.7391, -7.0133, -6.3348, -6.6018, -6.9948, -6.7682, -6.6263, -6.5305, -6.8343, -6.7873, -6.8208, -6.9594, -6.9886, -6.3934, -6.7663, -6.6962, -6.9794, -7.0968, -7.0509, -7.145, -7.3625, -6.4988, -7.235, -7.5986, -7.6095, -7.5242, -7.6593, -7.5878, -7.5616, -7.8221, -7.8203, -7.6207, -6.5588, -7.9263, -7.6792, -8.001, -6.7088, -7.8957, -7.9183, -7.8643, -8.0666, -8.0405, -8.1458, -6.2865, -6.0335, -7.6358, -7.0265, -7.4952, -6.5581, -7.5387, -6.2338, -7.1988, -7.4211, -7.3693, -7.261, -7.0631, -7.1225, -7.0308, -7.4927, -7.4666, -7.4896, -7.5297, -6.3317, -6.7035, -7.1012, -7.3982, -7.0995, -7.6442, -7.3419, -7.6988, -7.4234, -7.4168, -7.8965, -7.9456, -7.9687, -7.9649, -7.9387, -7.7608, -7.877, -8.013, -8.0262, -6.1352, -7.785, -8.091, -7.9998, -7.5288, -8.1865, -8.1922, -8.2167, -8.1216, -7.9226, -8.2633, -5.3511, -6.612, -7.6556, -7.7028, -7.199, -7.18, -7.4089, -7.7947, -7.4671, -7.795, -7.8528, -7.4343, -7.4463, -7.4817, -7.7814, -7.8567, -7.3774, -7.6521, -7.7836, -7.8089, -7.562, -7.8177, -7.6684, -7.7253, -7.8259, -7.5444, -7.9891, -7.8112, -7.842, -8.0125, -8.1499, -8.0647, -8.1604, -8.2416, -8.2268, -8.3064, -8.3317, -8.2089, -8.2089, -8.2089, -8.2092, -8.2093, -8.2138, -7.8141, -8.4929, -8.3736, -7.7551, -7.2166, -6.4494, -7.7297, -7.7201, -7.4965, -7.9741, -7.4945, -7.8869, -7.8104, -7.8054, -7.6855, -7.9576, -7.853, -8.0057, -7.203, -7.0657, -7.3881, -7.3641, -7.3999, -7.6253, -7.1031, -7.3428, -7.5947, -7.7774, -7.7314, -7.858, -7.4924, -7.602, -8.0334, -7.9721, -7.735, -7.8143, -8.0893, -8.1049, -7.8387, -8.1307, -8.0575, -8.2963, -8.3211, -8.3581, -8.3569, -8.3036, -8.5021, -8.5082, -7.4846, -7.8123, -7.4176, -7.3767, -7.9278, -7.8435, -7.5731, -7.5847, -7.287, -7.7823, -7.527, -7.6981, -7.8743, -7.5877, -7.7616, -7.767, -6.325, -7.175, -6.7139, -7.5632, -6.7633, -7.8629, -7.8747, -7.8522, -7.7173, -7.5502, -7.7967, -7.916, -7.9559, -8.0195, -8.0781, -8.1025, -7.9094, -7.0872, -8.0947, -8.1519, -8.2423, -8.3006, -8.1873, -8.3178, -7.5848, -8.4228, -8.2563, -8.3901, -8.455, -8.4334, -8.341, -7.9379, -8.0419, -7.8843, -7.7821, -7.5083, -7.9631, -7.8088, -7.6339, -7.6348, -7.8332, -7.7447, -7.8361, -7.8332, -7.7551, -7.874, -7.8433, -7.8521, -6.8246, -7.519, -7.6446, -7.7342, -7.4207, -7.5459, -7.6687, -7.6874, -7.4704, -7.8275, -7.9568, -7.83, -8.034, -8.0362, -8.2522, -8.4087, -8.4312, -8.3586, -8.4276, -8.7049, -8.3631, -8.5421, -8.6156, -8.7647, -8.81, -8.8423, -8.9103, -8.9499, -8.1907, -8.9855, -7.7986, -8.1589, -7.1648, -7.6664, -7.2494, -7.9374, -7.9581, -8.2626, -8.2081, -8.1056, -8.2576, -8.4006, -6.7106, -6.9327, -7.6993, -7.8563, -7.9653, -8.0619, -8.0715, -8.0935, -8.079, -8.2873, -8.4413, -7.884, -8.5219, -8.5644, -8.3576, -8.5552, -8.5645, -8.5375, -8.5126, -8.7423, -8.5875, -7.4189, -8.5878, -8.7998, -8.9163, -8.8222, -9.0809, -9.1432, -9.1464, -9.1703, -8.7135, -8.1823, -7.7493, -8.7089, -8.1342, -8.5708, -8.2294, -8.1592, -8.4695, -8.5116, -8.538, -6.33, -6.7672, -6.982, -7.417, -7.5837, -7.7087, -7.8492, -7.7559, -8.2186, -8.3356, -8.5676, -8.648, -8.6251, -8.6736, -8.8001, -8.803, -8.8232, -8.8046, -8.7974, -8.9623, -8.9409, -8.9967, -9.0056, -8.991, -9.0585, -9.0265, -7.873, -9.0322, -9.2455, -9.162, -7.9673, -8.2832, -8.0914, -8.182, -8.7851, -8.5869, -8.6704, -8.6117, -8.8358, -8.8413, -8.8117, -8.8211, -8.823, -6.0131, -6.364, -7.3686, -8.0452, -8.1892, -8.4384, -7.6022, -8.5958, -8.7323, -8.8113, -8.8503, -8.9352, -8.9326, -8.9724, -9.0087, -9.0356, -9.0739, -9.1768, -9.2005, -8.8569, -9.0809, -9.3045, -9.2173, -9.3167, -9.348, -9.3901, -9.2048, -9.4147, -9.4343, -9.4846, -8.5812, -8.6024, -8.1658, -8.806, -8.6725, -8.266, -8.6793, -8.406, -8.568, -8.4392, -8.6098, -9.0013, -8.9226, -8.9575, -8.9699, -6.974, -7.0355, -7.0632, -7.6201, -7.7066, -8.1809, -8.2398, -7.6063, -8.3483, -8.3384, -7.7985, -7.6132, -8.6796, -8.7518, -8.8486, -8.7407, -8.8875, -8.9003, -9.0417, -8.817, -9.2436, -8.8414, -9.3525, -9.4082, -9.3941, -9.4459, -9.5247, -9.5406, -9.5699, -9.5704, -9.1376, -8.9231, -8.9245, -8.4612, -9.0822, -8.9383, -8.8862, -9.1744, -6.6954, -7.9811, -8.0404, -7.7587, -8.1126, -8.1162, -8.2371, -7.0524, -8.1698, -8.405, -8.4178, -8.4952, -7.7343, -8.6147, -8.4936, -8.7302, -8.7906, -8.8095, -8.8994, -8.6966, -8.6812, -9.0529, -9.1077, -9.1271, -9.1804, -9.2664, -9.2791, -9.2942, -9.3989, -9.3591, -8.221, -8.7795, -8.4283, -8.6441, -8.4565, -8.9481, -8.8005, -8.9857, -8.9334, -6.7028, -7.1277, -7.6428, -7.6107, -7.8622, -7.8678, -7.8983, -7.9504, -8.0754, -8.1419, -8.1953, -8.3363, -8.5898, -8.5928, -8.228, -8.7025, -8.4813, -8.8258, -8.9191, -8.4671, -8.9884, -8.7208, -9.0616, -9.1506, -8.6757, -9.309, -9.2747, -8.8007, -9.4386, -9.5216, -8.6796, -8.0288, -7.861, -8.9155, -8.1722, -8.8909, -8.7746, -8.7988, -8.9015, -6.7253, -7.1539, -7.8261, -7.8585, -7.9609, -8.1018, -8.124, -8.4967, -8.5108, -8.6106, -8.5238, -8.3836, -8.6682, -8.7461, -8.761, -8.8895, -8.9032, -8.957, -8.8556, -9.1396, -9.1557, -8.9376, -9.2573, -9.3012, -9.3211, -9.3716, -9.4601, -9.4923, -8.4411, -8.1599, -9.1008, -9.0848, -8.6662, -9.0412, -9.1647, -9.125, -7.2976, -7.8721, -7.8683, -7.6479, -8.0553, -8.1712, -8.2275, -8.1204, -8.2196, -7.5603, -7.5895, -8.6368, -8.645, -8.7537, -9.1292, -9.1782, -8.863, -9.2257, -9.2751, -9.3249, -9.4327, -9.4397, -9.4408, -9.4643, -9.5168, -9.5276, -9.6126, -9.6545, -9.3899, -9.6398, -8.6187, -8.324, -8.5934, -8.9083, -8.6063, -8.9607, -8.6919, -8.8335, -8.9084, -8.6681, -8.9207, -9.0054, -9.0209, -9.0793, -9.0908, -6.4397, -6.9244, -6.8436, -7.6453, -7.4208, -7.8091, -7.7971, -8.231, -8.5716, -8.5747, -8.9404, -9.0133, -9.055, -8.5492, -9.1475, -9.1203, -8.4073, -9.3766, -9.3902, -9.4326, -9.4257, -9.3866, -9.4991, -9.6541, -9.7286, -9.6476, -9.7396, -9.7749, -9.8469, -9.8492, -8.9018, -8.97, -8.5856, -8.5445, -8.5188, -8.5861, -9.105, -8.6454, -8.952, -8.9189, -8.8251, -8.8779, -9.2503, -9.18, -7.4316, -8.142, -8.1531, -8.2266, -8.8838, -8.8739, -8.9913, -8.9111, -9.0202, -9.0028, -9.1283, -9.2201, -9.2456, -9.2473, -9.1679, -9.3725, -9.4055, -9.3979, -9.4588, -9.5199, -9.699, -9.5688, -9.7914, -9.7214, -9.7925, -9.8382, -9.8591, -9.8782, -9.8715, -9.8804, -7.9259, -9.6738, -8.8895, -9.5623, -9.2235, -9.1472, -8.8561, -8.204, -8.9882, -8.921, -8.8366, -9.0674, -9.1899, -9.2405, -9.2909, -9.352], \"loglift\": [30.0, 29.0, 28.0, 27.0, 26.0, 25.0, 24.0, 23.0, 22.0, 21.0, 20.0, 19.0, 18.0, 17.0, 16.0, 15.0, 14.0, 13.0, 12.0, 11.0, 10.0, 9.0, 8.0, 7.0, 6.0, 5.0, 4.0, 3.0, 2.0, 1.0, 0.3284, 0.3278, 0.327, 0.326, 0.3251, 0.3251, 0.3242, 0.3238, 0.3237, 0.3233, 0.3233, 0.3232, 0.323, 0.323, 0.3217, 0.3216, 0.3213, 0.3209, 0.3209, 0.3207, 0.3204, 0.3201, 0.32, 0.3199, 0.3196, 0.3196, 0.3194, 0.319, 0.3189, 0.3189, 0.3175, 0.3091, 0.3186, 0.318, 0.311, 0.3107, 0.3172, 0.3186, 0.3144, 0.2898, 0.302, 0.3071, 0.3124, 0.3091, 0.3046, 0.3127, 0.3085, 0.3051, 0.2982, 0.2831, 0.2894, 0.2918, 0.2698, 0.2971, 0.295, 0.2884, 0.3019, 0.2918, 0.2795, 0.2844, 0.2831, 0.2786, 0.284, 0.2795, 0.2736, 0.2832, 0.2825, 0.2713, 0.2777, 0.2804, 0.2813, 0.2806, 0.2449, 0.261, 0.2512, 0.2484, 0.2758, 0.1762, 0.2497, 0.1498, 0.2173, 2.6191, 2.6005, 2.599, 2.5826, 2.5761, 2.5748, 2.5732, 2.5722, 2.571, 2.5707, 2.569, 2.5625, 2.5616, 2.557, 2.5541, 2.5533, 2.5514, 2.5458, 2.5449, 2.5445, 2.5428, 2.5385, 2.5382, 2.5364, 2.5364, 2.5335, 2.5321, 2.5309, 2.5269, 2.5265, 2.5215, 2.5185, 2.4931, 2.4251, 2.4776, 2.469, 2.406, 2.4739, 2.4804, 2.1972, 2.3665, 2.2878, 2.344, 2.3562, 2.0908, 2.3409, 2.2931, 1.1991, 2.0418, 0.5683, 1.1889, -0.0227, 1.8646, -0.4192, 0.5191, 0.8824, -0.321, 0.1625, 0.6881, 0.0498, 2.9814, 2.9524, 2.9389, 2.9351, 2.9249, 2.9211, 2.9182, 2.9164, 2.9093, 2.908, 2.8998, 2.8959, 2.8948, 2.894, 2.891, 2.887, 2.8803, 2.8802, 2.8778, 2.8774, 2.8759, 2.875, 2.8722, 2.8722, 2.8631, 2.8627, 2.8614, 2.8604, 2.858, 2.8579, 2.856, 2.8058, 2.828, 2.8196, 2.7956, 2.7743, 2.6037, 2.4173, 2.573, 2.7085, 2.7395, 2.7743, 2.0068, 2.2971, 2.426, 2.2127, 2.5233, 2.3178, 0.8158, 1.3373, 2.0475, 1.3751, 2.32, 0.9481, 1.9215, 0.4817, 0.9322, 0.3237, 0.1395, -0.9034, 3.4593, 3.4102, 3.3911, 3.3795, 3.3779, 3.3718, 3.3684, 3.3651, 3.3642, 3.3573, 3.3529, 3.3472, 3.3435, 3.3358, 3.3349, 3.3329, 3.3306, 3.3275, 3.3204, 3.3196, 3.3167, 3.3142, 3.309, 3.2775, 3.2698, 3.2648, 3.2601, 3.2587, 3.2502, 3.2486, 3.2219, 3.2094, 3.1864, 3.1888, 2.9348, 3.0387, 2.5718, 2.3784, 2.8254, 1.8196, 0.9938, 2.632, 1.4236, 1.478, 2.3826, 1.2652, 0.5389, -0.0171, 1.3597, 0.9122, 0.2625, 1.7597, 0.8229, 3.9278, 3.9161, 3.8907, 3.882, 3.8764, 3.8639, 3.8378, 3.825, 3.8151, 3.8099, 3.7695, 3.766, 3.7449, 3.7387, 3.7347, 3.729, 3.7034, 3.6915, 3.6893, 3.6792, 3.6674, 3.6673, 3.6495, 3.6486, 3.6409, 3.621, 3.6191, 3.6037, 3.599, 3.5808, 3.5625, 3.4428, 3.5527, 3.3961, 3.4782, 3.1249, 3.463, 2.3369, 3.0657, 2.9813, 2.634, 1.9293, 0.4098, 0.4807, -0.5173, 2.5634, 0.8296, -0.4908, 1.9871, 4.3066, 4.2713, 4.1861, 4.0915, 4.0539, 4.0294, 4.0038, 3.9885, 3.9447, 3.9242, 3.9063, 3.9027, 3.8995, 3.8974, 3.8961, 3.8929, 3.8789, 3.875, 3.8679, 3.8386, 3.8361, 3.8052, 3.805, 3.8045, 3.8031, 3.8004, 3.7831, 3.7797, 3.7722, 3.7618, 3.2714, 3.0726, 3.5246, 3.5455, 3.0211, 2.7922, 2.9485, 3.4426, 2.7709, 3.2865, 3.1489, 0.1688, -0.4475, -0.9682, 0.8487, 0.7139, 4.1048, 4.0074, 3.9779, 3.9648, 3.9596, 3.9551, 3.9354, 3.9351, 3.919, 3.8969, 3.8921, 3.8608, 3.858, 3.8265, 3.8204, 3.8181, 3.8076, 3.7585, 3.7454, 3.7233, 3.723, 3.6616, 3.6615, 3.6614, 3.661, 3.6609, 3.6591, 3.6538, 3.6382, 3.6356, 3.3142, 2.8193, 2.2379, 3.045, 2.9906, 2.5574, 3.0444, 1.629, 2.4781, 1.3659, 1.2919, -0.6635, 1.6252, -1.3395, -0.2782, 4.2179, 4.1927, 4.1641, 4.136, 4.0905, 4.08, 4.0738, 4.0457, 4.0265, 4.0232, 4.0207, 3.9918, 3.9722, 3.9142, 3.9036, 3.8941, 3.8917, 3.8749, 3.8648, 3.855, 3.8531, 3.8518, 3.8504, 3.783, 3.7668, 3.7413, 3.7085, 3.6874, 3.6611, 3.6539, 3.6403, 3.6062, 3.3038, 2.8818, 3.2654, 3.0979, 2.4856, 2.4551, 1.724, 2.5219, 0.965, 1.7742, 2.7058, -0.8548, 0.4324, -0.5522, 4.3584, 4.2551, 4.1573, 4.1022, 4.0389, 4.0123, 4.0071, 4.0057, 3.9818, 3.9778, 3.9638, 3.9494, 3.9475, 3.9413, 3.9132, 3.8934, 3.8817, 3.8756, 3.8711, 3.8307, 3.8055, 3.7917, 3.7805, 3.7793, 3.7334, 3.7306, 3.7297, 3.7197, 3.712, 3.7026, 3.6933, 3.6244, 3.6026, 3.4338, 2.9042, 2.3398, 3.0355, 2.2573, 1.3553, 1.2076, 2.1583, 0.7474, 1.2506, 0.2552, -1.0223, 0.48, -0.4284, -0.3404, 4.4504, 4.2811, 4.2125, 4.1886, 4.1843, 4.1188, 4.113, 4.1083, 4.0775, 4.0771, 4.0493, 4.0323, 3.9752, 3.9516, 3.834, 3.7863, 3.7861, 3.7826, 3.7772, 3.6272, 3.6182, 3.6146, 3.6035, 3.5857, 3.5378, 3.5236, 3.4725, 3.4407, 3.4375, 3.4288, 3.3638, 3.1055, 2.6544, 2.6708, 1.8778, 2.4852, 2.0565, 1.5864, 0.94, -0.2226, 1.2187, 0.9589, 4.5579, 4.4925, 4.1702, 4.1401, 4.0919, 4.0404, 4.0289, 4.0005, 3.9409, 3.9083, 3.8097, 3.7716, 3.7439, 3.7355, 3.7124, 3.7093, 3.7013, 3.668, 3.6591, 3.6138, 3.5291, 3.5277, 3.512, 3.4913, 3.4883, 3.3673, 3.3641, 3.3159, 3.2947, 3.2947, 3.2806, 2.5744, 2.1697, 2.8874, 1.8804, 2.6198, 1.5161, -0.4317, 0.2989, 0.7501, 0.8093, 4.6724, 4.5931, 4.5339, 4.3764, 4.2852, 4.2197, 4.1312, 4.0049, 3.9502, 3.9009, 3.7543, 3.6882, 3.6841, 3.6707, 3.5868, 3.582, 3.5734, 3.5727, 3.5578, 3.4695, 3.4439, 3.4432, 3.4212, 3.3992, 3.3893, 3.3806, 3.3713, 3.3582, 3.2473, 3.2317, 3.1834, 2.7598, 1.5287, 1.4417, 2.0809, 0.3435, 0.1823, -1.1751, 1.5868, 1.2365, 0.423, -2.0883, -0.2651, 4.7207, 4.6384, 4.4188, 4.0924, 3.9168, 3.8421, 3.7855, 3.6774, 3.6479, 3.5818, 3.5613, 3.4974, 3.4861, 3.4494, 3.441, 3.42, 3.3767, 3.3085, 3.2894, 3.2693, 3.218, 3.2015, 3.2001, 3.169, 3.1417, 3.1306, 3.1085, 3.1078, 3.0849, 3.0545, 3.0391, 2.9455, 2.8241, 2.5862, 2.4327, 0.7069, 1.641, 0.4682, 0.3221, -0.4554, -1.877, 1.6829, -0.5029, -0.02, 0.0182, 4.5617, 4.5296, 4.4579, 4.3135, 4.2715, 4.0088, 3.9796, 3.9193, 3.8953, 3.8747, 3.8492, 3.8183, 3.6818, 3.6241, 3.564, 3.5456, 3.5349, 3.4724, 3.4166, 3.3701, 3.2557, 3.2529, 3.1662, 3.1199, 3.0815, 3.0717, 3.0146, 3.0079, 2.9828, 2.9777, 2.9752, 2.9727, 2.2288, 1.1647, 0.9627, -0.3692, -1.865, -0.2957, 4.5605, 4.1244, 4.0822, 4.0446, 3.9815, 3.9762, 3.961, 3.9484, 3.9448, 3.8636, 3.8556, 3.75, 3.712, 3.7094, 3.6434, 3.6236, 3.6058, 3.5645, 3.5182, 3.5175, 3.5143, 3.4046, 3.3652, 3.3396, 3.2951, 3.2375, 3.2232, 3.2076, 3.1279, 3.1102, 2.0833, 2.0659, 0.762, 1.0271, -0.3564, 1.3229, -0.7055, 1.6247, 0.6024, 4.5962, 4.5276, 4.3158, 4.2574, 4.2057, 4.1947, 4.1269, 4.0997, 4.0801, 3.9917, 3.9911, 3.8398, 3.7572, 3.7486, 3.7179, 3.6771, 3.5794, 3.551, 3.5161, 3.4847, 3.4627, 3.4604, 3.3615, 3.3347, 3.3287, 3.1965, 3.1008, 3.1005, 3.0371, 3.0216, 2.4672, 1.8949, 1.4983, 2.6193, 1.2168, 2.4272, 0.9535, 0.4754, -2.388, 4.6503, 4.5192, 4.2255, 4.1803, 4.1531, 4.0662, 4.0278, 3.8222, 3.8126, 3.7318, 3.7291, 3.7249, 3.6892, 3.6205, 3.5728, 3.5394, 3.529, 3.4852, 3.4804, 3.3443, 3.3314, 3.279, 3.2138, 3.2085, 3.1778, 3.1208, 3.0509, 3.0496, 3.049, 2.9616, 2.4272, 2.3178, 1.3455, 0.7983, 0.3285, -1.32, 4.2056, 4.2034, 4.1988, 4.1453, 4.1016, 4.0261, 3.9798, 3.9605, 3.9544, 3.883, 3.7256, 3.7187, 3.7091, 3.389, 3.3445, 3.2682, 3.2675, 3.2582, 3.2346, 3.1934, 3.1032, 3.0931, 3.0922, 3.0765, 3.0243, 3.0151, 2.9448, 2.9128, 2.9018, 2.875, 2.8529, 2.8141, 2.6323, 2.2152, 1.7887, 1.9055, 0.603, 0.7623, 0.5682, -0.8247, -0.0306, 0.1219, 0.1059, -0.2052, 0.3448, 4.7323, 4.6039, 4.5973, 4.3215, 4.2459, 4.2412, 4.2377, 4.001, 3.7539, 3.6916, 3.4493, 3.4298, 3.4146, 3.3476, 3.3348, 3.2993, 3.262, 3.1525, 3.0996, 3.0863, 3.069, 3.0655, 3.0487, 2.9067, 2.8495, 2.8352, 2.8184, 2.8086, 2.7446, 2.7424, 2.7033, 2.5923, 2.4588, 1.8517, 1.4391, 0.8902, 1.6057, 0.3115, 0.897, 0.412, -2.3116, -1.879, 1.363, 0.1793, 4.4291, 4.0672, 4.0347, 3.9422, 3.5555, 3.5534, 3.4656, 3.4632, 3.4071, 3.3824, 3.3628, 3.2814, 3.267, 3.2656, 3.2302, 3.1378, 3.1331, 3.0542, 3.0169, 2.9253, 2.8717, 2.8409, 2.7973, 2.7942, 2.7923, 2.7554, 2.7304, 2.7196, 2.7175, 2.7097, 2.2275, 2.6157, 2.129, 2.4509, 2.0671, 1.8977, 1.4409, 0.4833, 1.3206, 0.7487, 0.1347, -0.6017, -0.4356, -1.6087, -2.558, 0.2906]}, \"token.table\": {\"Topic\": [2, 1, 1, 9, 9, 1, 2, 3, 16, 1, 4, 1, 1, 5, 4, 1, 1, 2, 1, 3, 1, 7, 4, 1, 2, 3, 1, 2, 2, 2, 3, 6, 1, 3, 1, 4, 3, 1, 5, 4, 1, 13, 1, 3, 1, 2, 3, 4, 12, 1, 2, 3, 5, 3, 1, 2, 1, 2, 1, 1, 3, 1, 2, 1, 1, 2, 4, 1, 3, 1, 2, 1, 2, 1, 4, 4, 2, 5, 3, 1, 2, 1, 2, 1, 1, 2, 3, 2, 1, 2, 4, 3, 1, 2, 5, 2, 1, 1, 2, 3, 3, 3, 1, 1, 19, 1, 1, 3, 2, 1, 3, 1, 2, 1, 4, 5, 1, 4, 2, 3, 2, 2, 1, 3, 1, 1, 1, 2, 3, 1, 2, 1, 12, 1, 2, 5, 1, 2, 3, 5, 2, 1, 2, 3, 8, 1, 3, 2, 3, 6, 10, 1, 1, 2, 3, 2, 1, 5, 1, 2, 3, 1, 3, 1, 5, 5, 4, 3, 1, 1, 1, 2, 3, 3, 1, 3, 4, 5, 1, 1, 2, 4, 1, 6, 1, 4, 4, 4, 1, 1, 2, 1, 2, 1, 2, 1, 1, 2, 3, 4, 3, 5, 6, 4, 1, 3, 1, 4, 5, 4, 1, 5, 1, 5, 3, 1, 2, 1, 2, 3, 2, 3, 8, 4, 6, 1, 2, 4, 1, 1, 2, 5, 5, 5, 5, 1, 1, 1, 2, 3, 1, 2, 3, 1, 1, 2, 1, 2, 1, 2, 4, 1, 2, 3, 3, 1, 1, 2, 9, 1, 12, 2, 2, 1, 2, 4, 3, 1, 3, 1, 2, 1, 2, 2, 2, 13, 2, 3, 1, 11, 4, 1, 2, 3, 1, 3, 8, 3, 2, 3, 2, 1, 5, 4, 6, 1, 3, 1, 5, 2, 3, 2, 1, 5, 1, 5, 3, 4, 1, 1, 2, 1, 2, 1, 2, 3, 1, 5, 1, 1, 2, 4, 2, 2, 6, 2, 1, 1, 3, 3, 1, 3, 1, 5, 3, 2, 1, 3, 1, 2, 3, 1, 2, 3, 4, 4, 1, 5, 1, 5, 2, 2, 1, 2, 3, 1, 2, 2, 4, 2, 1, 2, 3, 1, 2, 3, 15, 3, 5, 3, 1, 1, 1, 2, 3, 4, 1, 1, 2, 3, 4, 3, 1, 2, 3, 1, 2, 3, 3, 3, 1, 4, 6, 9, 5, 1, 5, 5, 6, 1, 4, 1, 1, 3, 4, 1, 2, 4, 1, 4, 4, 2, 1, 2, 3, 1, 2, 2, 3, 4, 2, 3, 1, 2, 3, 1, 2, 4, 1, 3, 5, 5, 1, 1, 3, 1, 1, 1, 4, 4, 1, 1, 4, 1, 7, 3, 4, 1, 4, 1, 1, 2, 3, 1, 2, 4, 1, 2, 4, 1, 1, 2, 5, 1, 2, 1, 6, 3, 1, 2, 3, 1, 2, 4, 1, 4, 1, 2, 3, 1, 4, 4, 1, 4, 2, 7, 4, 1, 4, 1, 1, 2, 4, 5, 8, 3, 1, 4, 6, 4, 1, 3, 1, 3, 4, 3, 3, 5, 3, 5, 1, 3, 2, 3, 3, 4, 5, 1, 2, 3, 4, 3, 1, 2, 3, 1, 2, 2, 1, 5, 1, 4, 1, 2, 5, 9, 1, 2, 3, 4, 1, 1, 1, 6, 6, 1, 2, 19, 1, 5, 1, 2, 3, 3, 2, 3, 1, 2, 2, 3, 1, 2, 1, 2, 3, 4, 1, 2, 4, 11, 1, 2, 4, 1, 2, 1, 1, 1, 17, 2, 5, 2, 1, 2, 1, 2, 3, 4, 1, 2, 4, 1, 3, 1, 5, 1, 2, 4, 1, 2, 1, 2, 3, 2, 1, 1, 2, 1, 1, 6, 1, 2, 3, 8, 1], \"Freq\": [0.9150188948797333, 0.9381849693261891, 0.6326105396406254, 0.7162018402872485, 0.668480728712532, 0.31206268560388384, 0.46809402840582576, 0.9657519334651377, 1.098567334884323, 0.8133514858974682, 0.16267029717949363, 1.030791978904391, 0.9606020717982819, 1.358987451739296, 0.9979830566617832, 0.9877967254501662, 0.9613100796250285, 0.9845354986575928, 0.9015926691708698, 0.062178804770404814, 0.6213010304422686, 0.3106505152211343, 0.7124700105266593, 0.7126564189862071, 0.7898255198310237, 0.19745637995775592, 0.5485357926842729, 0.4114018445132046, 0.8483385165164599, 0.9328460147057202, 0.746974568622106, 0.373487284311053, 0.5087126789970352, 0.38153450924777643, 0.8292066200127676, 1.0533338656090714, 1.0102147629947535, 0.9139343502373563, 0.07616119585311301, 0.9877247321002075, 1.048186850017251, 0.6242611323448285, 0.9476864969390466, 0.02311430480339138, 0.9618332867810901, 0.018496793976559425, 1.1045795086084633, 0.6987678813709618, 0.8165999062741405, 0.8789257387892486, 0.09765841542102763, 0.09765841542102763, 0.9836623295487119, 0.6000329445285858, 0.8748920774949032, 0.09721023083276702, 0.819391935008079, 0.12937767394864405, 0.9317623857748025, 0.9652062782190346, 0.028388419947618662, 0.9599261962299346, 0.019998462421456968, 0.9675711966695042, 0.8800785146364004, 0.05280471087818402, 0.05280471087818402, 1.0012774003260845, 0.5971442464383531, 0.9412822642219704, 0.018825645284439408, 0.8838998498058657, 0.8897744376027137, 0.8878027508214328, 0.7347511500482322, 1.1498887100535273, 0.9474371527289157, 1.11063710167769, 0.9050039077791601, 0.9835609916882372, 0.9816239486192948, 0.946649957867585, 0.04617804672524805, 0.8397896567359646, 0.9164215791119166, 0.04909401316670982, 0.01636467105556994, 0.9712377829663454, 0.16079616580068676, 0.48238849740206025, 0.3215923316013735, 0.692005265898159, 0.9434696188259045, 0.25769908812370634, 0.5153981762474127, 0.9041880736751823, 0.990470133107868, 0.952182709515422, 0.01763301313917448, 0.01763301313917448, 0.5517632256103232, 0.8628774928342375, 0.9693359377413273, 0.8732620077779977, 1.2660433183499538, 0.8257390623638626, 0.9775464776378642, 0.7435729794913148, 0.8064959114483671, 0.48068367427498226, 0.48068367427498226, 0.9561996733579372, 0.021731810758134937, 0.9287698813181179, 0.806615291451715, 0.8264161321883974, 0.368055652111868, 0.552083478167802, 0.5534009143219206, 0.5534009143219206, 0.9217124354476612, 0.7848966190236318, 0.9759513587549161, 0.8673453643079632, 1.0152647793013387, 0.9710352762704801, 0.9536812227900111, 0.18054055288001394, 0.5416216586400419, 0.9512930222598582, 0.027979206537054654, 1.0348431730925913, 1.3646449627161839, 0.960757237664579, 0.44814827271680874, 0.44814827271680874, 0.7089629540422391, 0.2215509231381997, 0.04431018462763994, 0.7931481131361462, 1.0000495785272674, 0.7510432149403801, 0.05777255499541385, 0.17331766498624154, 1.2014009765001463, 0.8522331933177214, 0.6979467191288152, 0.7988493815802657, 0.19971234539506644, 1.0857978255448142, 1.072553389853011, 0.9800500903415448, 0.8126975179833973, 0.15238078462188698, 1.1367934593955498, 0.9408949966689784, 0.9702510865051579, 0.7932328297468264, 0.148689149602338, 0.74344574801169, 1.05837123101996, 0.42774392062165306, 0.42774392062165306, 0.8884249553564729, 0.7092283493214093, 1.066255883605511, 0.6099994736943135, 0.9944107916955173, 0.9420232184935166, 0.8615942293744955, 0.7927782809551519, 0.05285188539701013, 0.10570377079402025, 0.8193238884531601, 0.9356139104837178, 0.009172685396899194, 0.027518056190697582, 0.009172685396899194, 1.0026143903784757, 0.9718332031603208, 0.9583687535349982, 0.6977519044861465, 0.2919430202526775, 0.583886040505355, 0.8281437439994049, 0.1274067298460623, 0.5888305505955524, 0.7138822748458252, 0.9835402430024305, 0.9147975300200643, 0.06826847238955704, 0.925680128320573, 0.061712008554704864, 0.9205736238586046, 0.6355888260238612, 0.8889522409323035, 0.9338066722089108, 0.019057279024671647, 0.019057279024671647, 0.019057279024671647, 0.7552850714203542, 0.4573042190051787, 1.134761783027408, 0.7053661561806677, 0.30322219631312575, 0.30322219631312575, 0.899989227096615, 0.027272400821109544, 0.027272400821109544, 0.4993188095266815, 0.6013202249361185, 0.30066011246805924, 0.4365697190206704, 0.4365697190206704, 1.2185303380019097, 0.17205694930580503, 0.8602847465290252, 0.8090493130582149, 0.05778923664701535, 0.1155784732940307, 0.559643102737016, 0.41973232705276203, 1.2409243680051467, 0.7332366425790209, 0.9496872769422916, 1.0142173454573102, 0.24745334205465178, 0.7423600261639554, 0.7722588929631039, 0.9133753160860119, 0.6081931610971745, 0.8203548135544, 0.8160349369299553, 0.7604593887032238, 1.152087993410447, 0.6237146310556166, 0.7723783061264574, 0.92412931867309, 0.7587835583331726, 0.15175671166663451, 0.9010650674431816, 0.03337278027567339, 0.03337278027567339, 0.9741751941086536, 1.0003736408011044, 0.8263615809179157, 0.7086552315270387, 0.21804776354678113, 0.7533964014331432, 0.1883491003582858, 0.9333205131994573, 0.8949217265981286, 0.2971509611310033, 0.2971509611310033, 0.8323924805265835, 0.9845932449912489, 0.9523753137082724, 1.020924428067029, 1.252438220947655, 0.9702887645002766, 1.1680377565490654, 0.8312007354875371, 1.0463454954461124, 0.7657723185685461, 0.6970489317379944, 1.076730459002693, 0.81021217233356, 0.851632965672567, 0.6352608284723763, 0.9508890690759421, 0.018286328251460423, 0.9542346277190498, 0.028065724344677936, 1.0255549357840412, 0.832682706800613, 0.8166001175932567, 0.3881072550359209, 0.3881072550359209, 0.9837005260155606, 1.0655823042043397, 0.7257037095245353, 0.9400774177067392, 0.0184328905432694, 0.0184328905432694, 0.7802591600265865, 0.11146559428951236, 0.11146559428951236, 0.7334500046399736, 0.9851176848939984, 1.0386531803752688, 0.9342092125209327, 0.739413606774916, 0.184853401693729, 0.6185760420509818, 1.1456877889600867, 0.85046425857346, 0.6387142093560176, 0.9366287009058003, 0.8007870033475127, 0.4001000934598428, 0.2000500467299214, 0.6503208196755706, 0.8001549663696689, 0.13335916106161147, 0.17751162174616525, 0.5325348652384958, 0.5117635488673312, 0.2558817744336656, 0.5940439692798524, 0.8563190244380984, 0.09514655827089982, 0.9458586044408355, 0.024891015906337775, 0.9449251991244463, 0.03048145803627246, 0.01524072901813623, 0.9760455024889569, 0.5929608190217932, 0.9828909651117528, 0.5187657255451634, 0.11971516743349925, 0.31924044648933136, 0.795620560870335, 0.8744705719518118, 0.2914901906506039, 1.0924115552456501, 0.8506416447364619, 0.6275845650930092, 0.35861975148171954, 0.9468489238280311, 0.6052930066862782, 0.3026465033431391, 0.9356156181579143, 1.124719916588933, 0.5756239286371777, 0.5952841001385981, 0.8634134090976204, 1.1193222045411138, 0.9453388084755724, 0.017506274231029118, 0.017506274231029118, 0.9350568515103544, 0.017001033663824626, 0.017001033663824626, 0.6269345006435388, 0.8620130845240443, 0.63398971945259, 0.316994859726295, 0.9805856408683776, 1.377807530662789, 0.997547010103867, 0.9587885419103694, 0.9498453236193227, 0.016961523636059336, 0.016961523636059336, 0.9321628297388589, 1.0378837087221184, 0.7961173753402272, 0.1326862292233712, 0.922287814954716, 0.8339453358647596, 0.09266059287386218, 0.030886864291287393, 0.9150626379460438, 0.05279207526611791, 0.017597358422039303, 1.0522211473749752, 0.6388641977345902, 1.1771569811324254, 0.7901154143337381, 0.9749262132003725, 0.9597944177714689, 0.8133679712740327, 0.13556132854567213, 0.02259355475761202, 0.02259355475761202, 0.9620615224545698, 0.17681242674655276, 0.17681242674655276, 0.5304372802396583, 0.9721540435202668, 0.7263972278294706, 0.9405637763887478, 0.032433233668577505, 0.016216616834288752, 0.8208657258724547, 0.04397494960031007, 0.10260821573405683, 0.6584908552675983, 0.9064659802389734, 0.902146461414063, 0.07217171691312503, 1.3293836191598276, 0.7849187149860376, 1.0893817556538599, 0.7894333991016322, 0.14353334529120584, 0.856912687395993, 0.4284563436979965, 0.42040553133401, 0.42040553133401, 0.9517728660470036, 0.9400361395271262, 0.017091566173220475, 0.017091566173220475, 0.9435139453197013, 0.017472480468883358, 0.017472480468883358, 0.8086808607826133, 0.190277849595909, 0.6764678707921641, 0.7013372123022179, 0.8958933221416451, 0.05718468013670075, 0.019061560045566917, 0.8981118367690422, 0.06908552590531093, 0.8248079943021529, 0.26822001030679793, 0.5364400206135959, 1.0194191342748196, 0.7859863350209688, 0.9019617934598275, 0.02818630604561961, 0.05637261209123922, 0.7906999651472841, 0.04392777584151578, 0.13178332752454736, 0.9098778574881203, 0.047888308288848436, 0.023944154144424218, 0.7481405995122672, 0.9477708299579536, 0.9811342748213798, 0.6484714881772264, 0.9751405108627199, 1.0321831337428946, 0.9815636000898597, 1.043227674566096, 0.7825605960731724, 0.9880870265909913, 0.9647401276703049, 0.9199402576046661, 0.8870595609124526, 0.08064177826476841, 1.0278741113355252, 0.7446778128645155, 0.37347787963710677, 0.5602168194556602, 0.9580381857949123, 0.9199578689928658, 0.034715391282749655, 0.017357695641374828, 0.8408929020182533, 0.060063778715589516, 0.060063778715589516, 0.7386608664985495, 0.09848811553313992, 0.09848811553313992, 0.9812121313378905, 0.2414612947788017, 0.7243838843364052, 1.1858560476282216, 0.9749984902197075, 0.9624343155844042, 0.6559184889440924, 0.21863949631469748, 0.8380236818941089, 0.1655158797968604, 0.1655158797968604, 0.6620635191874416, 0.8162599056739811, 1.014844618788686, 0.876683133851894, 0.7492469378522328, 0.16649931952271843, 0.9476719385303266, 0.017549480343154195, 0.017549480343154195, 0.8330386945004379, 0.7058269035744443, 0.9131283213370436, 0.578328890571689, 0.3680274758183476, 0.8298765060554358, 1.3195168526024275, 1.1465364562852602, 0.9062511935165788, 0.0625000823114882, 0.996012452903318, 0.9389236119555856, 0.014903549396120406, 0.014903549396120406, 0.014903549396120406, 1.0548705981072404, 1.0323003208551689, 0.9315960353153336, 0.8907744012218046, 1.151072769682482, 0.9243153758122211, 0.9209854523735592, 0.8246452235574231, 0.3438225418720722, 0.5157338128081083, 0.9369129998497652, 0.7352220851095369, 0.5747157783745486, 0.982720579630297, 0.675811503124652, 0.337905751562326, 0.43119309469389416, 0.517431713632673, 0.8895286045453529, 1.0078079572137488, 0.9353082869235932, 0.8412833877737987, 0.3904388847329947, 0.9418347006101797, 0.013454781437288281, 0.013454781437288281, 0.013454781437288281, 0.8134577439511056, 0.7855787301101934, 0.041346248953168074, 0.1653849958126723, 0.9673605597607063, 0.02058213956937673, 0.8731180314666315, 0.9511379502593036, 1.0779173578142913, 0.7895849344654756, 0.15791698689309513, 0.6171174995337989, 0.41141166635586596, 0.852024266287554, 0.5935766942359995, 0.9303929155139172, 0.015252342877277331, 0.015252342877277331, 0.015252342877277331, 0.9472614579539883, 0.9640235938341927, 0.9733451118203728, 1.177279961171796, 0.7943703937301745, 1.0249268642272886, 0.900556939180949, 0.9675634297365319, 0.9272001136211571, 0.054541183154185706, 0.6428031003114576, 0.1071338500519096, 0.2142677001038192, 0.8207198907462199, 0.6521539677757464, 0.2173846559252488, 0.9919435421875178, 1.0502417542407445, 1.0212719314861283, 0.7196859055741145, 0.8416654657516183, 0.12023792367880262, 0.8452885832219642, 0.04569127476875483, 0.011422818692188707, 0.07995973084532094, 0.8387309184216681, 0.04193654592108341, 0.12580963776325021, 1.246344760785738, 0.9385450491482248, 0.01915398059486173, 0.01915398059486173, 0.38380440526123955, 0.6716577092071692, 0.8764898845801268, 0.7503952671844605, 0.9644115489947278, 1.185992186320329, 0.8891421384210556, 1.212931906182709, 0.7682915435246856, 0.6166003175186697, 0.9255646274106755, 0.8647675564071194, 0.07412293340632453, 0.024707644468774843, 0.024707644468774843, 0.8061971553278502, 0.1343661925546417, 0.06718309627732084, 0.8357573036469582, 0.1392928839411597, 1.3056525661988438, 0.40626987169817985, 0.9081325292734161, 0.016216652308453858, 0.032433304616907715, 0.9595150255247223, 0.018452212029321582, 0.9451609537632064, 0.018532567720847184, 0.018532567720847184, 0.9948464237538961, 0.9504623564004353, 0.9685322095952402, 0.02252400487430791, 0.953409641405847, 0.6802639088339655, 0.302339515037318, 0.9403653108304221, 0.019590943975633796, 0.019590943975633796, 0.9722808968686641, 0.5353095460164903], \"Term\": [\"_\", \"abc\", \"abortion\", \"afghan\", \"afghanistan\", \"airport\", \"airport\", \"album\", \"aleppo\", \"ali\", \"ali\", \"alibaba\", \"ambulance\", \"angels\", \"antitrust\", \"apple\", \"apples\", \"arsenal\", \"artist\", \"artist\", \"asparagus\", \"asparagus\", \"assad\", \"atlantic_city\", \"attorney_general\", \"attorney_general\", \"australia\", \"australia\", \"australian\", \"baghdad\", \"ballet\", \"ballet\", \"band\", \"band\", \"bangladesh\", \"barclays\", \"barrel\", \"baseball\", \"baseball\", \"beat_visite\", \"benjamin\", \"beyonc\", \"big\", \"big\", \"billion\", \"billion\", \"blazers\", \"blues\", \"boko_haram\", \"bond\", \"bond\", \"bond\", \"braves\", \"brent_crude\", \"bride\", \"bride\", \"britain\", \"britain\", \"broadband\", \"brooklyn\", \"brooklyn\", \"business\", \"business\", \"cable\", \"campaign\", \"campaign\", \"campaign\", \"cancer\", \"carnival\", \"case\", \"case\", \"cashman\", \"castro\", \"cat\", \"ceasefire\", \"celtics\", \"champions_league\", \"chancellor\", \"chart\", \"cheese\", \"chelsea\", \"china\", \"china\", \"christies\", \"city\", \"city\", \"city\", \"climate_change\", \"clinton\", \"clinton\", \"clinton\", \"coachella\", \"colbert\", \"collins\", \"collins\", \"colt\", \"comcast\", \"company\", \"company\", \"company\", \"composer\", \"concert\", \"cook\", \"cooking\", \"cosby\", \"couple_introduce\", \"cruz\", \"cubic_feet\", \"cum_laude\", \"dancer\", \"dancer\", \"deal\", \"deal\", \"debt\", \"defenseman\", \"degrom\", \"delegate\", \"delegate\", \"delivery\", \"delivery\", \"deportation\", \"derby\", \"detainee\", \"disney\", \"djokovic\", \"dr\", \"draft\", \"driver\", \"driver\", \"drug\", \"drug\", \"durant\", \"duterte\", \"earning\", \"eighth\", \"eighth\", \"election\", \"election\", \"election\", \"ellsbury\", \"emission\", \"energy\", \"energy\", \"energy\", \"energy_transfer\", \"enforcement\", \"ensemble\", \"environmental\", \"environmental\", \"eovaldi\", \"erdogan\", \"espn\", \"european_union\", \"european_union\", \"evans\", \"explosion\", \"facebook\", \"fastball\", \"fbi\", \"fbi\", \"fell_cent\", \"festival\", \"festival\", \"fifa\", \"flint\", \"foods\", \"football\", \"ford\", \"french_open\", \"funeral\", \"gain\", \"gain\", \"gain\", \"gallery\", \"game\", \"game\", \"game\", \"game\", \"gang\", \"gender_identity\", \"genocide\", \"giants\", \"girardi\", \"girardi\", \"goal\", \"goal\", \"goalie\", \"goaltender\", \"google\", \"government\", \"government\", \"graduate\", \"graduate\", \"gray\", \"greece\", \"groom\", \"group\", \"group\", \"group\", \"group\", \"guitar\", \"harvey\", \"hastert\", \"hawks\", \"hedge_fund\", \"hedge_fund\", \"hit\", \"hit\", \"hit\", \"hockey\", \"home_run\", \"home_run\", \"homer\", \"homer\", \"honey\", \"horse\", \"horse\", \"hospital\", \"hospital\", \"hospital\", \"housing\", \"housing\", \"ibm\", \"ice\", \"impeachment\", \"india\", \"indiana\", \"indiana\", \"indonesian\", \"initial_public\", \"inmate\", \"inne\", \"inning\", \"innings\", \"inspector\", \"insurer\", \"insurgent\", \"intel\", \"investigator\", \"investigator\", \"investor\", \"investor\", \"investor\", \"iran\", \"iranian\", \"iraqi\", \"islamic_state\", \"islamic_state\", \"island\", \"island\", \"islanders\", \"jail\", \"japanese\", \"japanese\", \"jazz\", \"jewish\", \"jews\", \"jockey\", \"juba\", \"judge\", \"kasich\", \"kelly\", \"kentucky_derby\", \"kenya\", \"killing\", \"kingdom\", \"kitchen\", \"lab\", \"landlord\", \"law\", \"law\", \"lawyer\", \"lawyer\", \"leicester\", \"leicesters\", \"lemonade\", \"lender\", \"lender\", \"letter\", \"lightfoot\", \"lightning\", \"like\", \"like\", \"like\", \"loan\", \"loan\", \"loan\", \"lower_east\", \"lower_house\", \"lyric\", \"maduro\", \"major_league\", \"major_league\", \"manafort\", \"manager_joe\", \"manila\", \"marijuana\", \"match\", \"matz\", \"medical\", \"medical\", \"merger\", \"met\", \"met\", \"mets\", \"mets\", \"miami\", \"miami\", \"mich\", \"migrant\", \"migrant\", \"military\", \"military\", \"million\", \"million\", \"million\", \"miss\", \"mitsubishi\", \"mobile\", \"mrs_clinton\", \"mrs_clinton\", \"mrs_clinton\", \"ms_merkel\", \"ms_rousseff\", \"ms_rousseff\", \"ms_rousseffs\", \"murray\", \"music\", \"music\", \"musical\", \"musician\", \"musician\", \"nadal\", \"nationals\", \"natural_gas\", \"navy\", \"ncaa\", \"netanyahu\", \"new\", \"new\", \"new\", \"new_york\", \"new_york\", \"new_york\", \"nfl\", \"nhl\", \"ninth\", \"ninth\", \"nj\", \"nohitter\", \"north_korea\", \"north_korean\", \"nt\", \"nt\", \"nt\", \"ny\", \"nyquist\", \"obama\", \"obama\", \"obamas\", \"officer\", \"officer\", \"officer\", \"official\", \"official\", \"official\", \"opera\", \"output\", \"paisley_park\", \"pakistani\", \"panthers\", \"partner\", \"party\", \"party\", \"party\", \"party\", \"passenger\", \"patient\", \"patient\", \"patient\", \"penguins\", \"penny\", \"people\", \"people\", \"people\", \"percent\", \"percent\", \"percent\", \"percent_nasdaq\", \"performer\", \"period\", \"period\", \"petrobras\", \"philippines\", \"pineda\", \"pitch\", \"pitch\", \"pitcher\", \"pitcher\", \"pittsburgh\", \"pittsburgh\", \"pizza\", \"play\", \"play\", \"play\", \"player\", \"player\", \"player\", \"playoff\", \"playoff\", \"playoff_serie\", \"pledge\", \"police\", \"police\", \"police\", \"political\", \"political\", \"pollution\", \"postseason\", \"postseason\", \"premier_league\", \"premiere\", \"price\", \"price\", \"price\", \"primary\", \"primary\", \"primary\", \"prince\", \"prince\", \"prince\", \"princes\", \"prisoner\", \"privacy\", \"prize\", \"product\", \"programming\", \"province\", \"puck\", \"quarterback\", \"rangers\", \"reader\", \"real_madrid\", \"recipe\", \"recipe\", \"red_bulls\", \"reds\", \"redstone\", \"redstone\", \"regulator\", \"report\", \"report\", \"report\", \"republican\", \"republican\", \"republican\", \"republicans\", \"republicans\", \"republicans\", \"revenue\", \"rider\", \"rider\", \"rizzo\", \"roberts\", \"rocket\", \"rodriguez\", \"rodriguez\", \"rose_cent\", \"rose_percent\", \"rose_percent\", \"rose_percent\", \"rouhani\", \"rugby\", \"running_mate\", \"ryan\", \"ryan\", \"s\", \"s\", \"s\", \"sabathia\", \"san_antonio\", \"san_jose\", \"sanders\", \"sanders\", \"sandwich\", \"sanofi\", \"saudis\", \"score\", \"score\", \"scored_point\", \"season\", \"season\", \"season\", \"season\", \"sec\", \"shakespeare\", \"shareholder\", \"sharks\", \"shaw\", \"shutout\", \"simon\", \"sing\", \"singer\", \"singer\", \"slur\", \"snapchat\", \"snow\", \"snyder\", \"solo\", \"solo\", \"song\", \"song\", \"south_korean\", \"sp\", \"stamp\", \"stanley_cup\", \"starter\", \"state\", \"state\", \"state\", \"state\", \"steel\", \"stock\", \"stock\", \"stock\", \"student\", \"student\", \"sullivan\", \"survivor\", \"syndergaard\", \"syrian\", \"syrian\", \"taiwan\", \"taiwan\", \"takata\", \"taliban\", \"team\", \"team\", \"team\", \"team\", \"tech\", \"tech_companie\", \"technology\", \"teixeira\", \"temer\", \"temple\", \"terminal\", \"theranos\", \"throw\", \"throw\", \"ticket\", \"ticket\", \"ticket\", \"tidal\", \"tower\", \"tower\", \"transgender\", \"transit\", \"treasury\", \"treasury_note\", \"troop\", \"troop\", \"trump\", \"trump\", \"trump\", \"trump\", \"trumps\", \"trumps\", \"trumps\", \"tsa\", \"tuesday\", \"tuesday\", \"tuesday\", \"tunnel\", \"tunnel\", \"turkey\", \"turkish\", \"tv\", \"valeant\", \"vardy\", \"verrett\", \"virtual_reality\", \"virus\", \"volkswagen\", \"vote\", \"vote\", \"vote\", \"vote\", \"voter\", \"voter\", \"voter\", \"warrior\", \"warrior\", \"weld\", \"williams\", \"win\", \"win\", \"win\", \"woman\", \"woman\", \"work\", \"work\", \"work\", \"workers_party\", \"wright\", \"write\", \"write\", \"yahoo\", \"yankees\", \"yankees\", \"year\", \"year\", \"year\", \"zika\", \"zika_virus\"]}, \"R\": 30, \"lambda.step\": 0.01, \"plot.opts\": {\"xlab\": \"PC1\", \"ylab\": \"PC2\"}, \"topic.order\": [20, 19, 11, 13, 16, 7, 4, 10, 12, 9, 18, 6, 2, 1, 5, 17, 8, 15, 3, 14]};\n",
       "\n",
       "function LDAvis_load_lib(url, callback){\n",
       "  var s = document.createElement('script');\n",
       "  s.src = url;\n",
       "  s.async = true;\n",
       "  s.onreadystatechange = s.onload = callback;\n",
       "  s.onerror = function(){console.warn(\"failed to load library \" + url);};\n",
       "  document.getElementsByTagName(\"head\")[0].appendChild(s);\n",
       "}\n",
       "\n",
       "if(typeof(LDAvis) !== \"undefined\"){\n",
       "   // already loaded: just create the visualization\n",
       "   !function(LDAvis){\n",
       "       new LDAvis(\"#\" + \"ldavis_el316491405218771786249125781936\", ldavis_el316491405218771786249125781936_data);\n",
       "   }(LDAvis);\n",
       "}else if(typeof define === \"function\" && define.amd){\n",
       "   // require.js is available: use it to load d3/LDAvis\n",
       "   require.config({paths: {d3: \"https://d3js.org/d3.v5\"}});\n",
       "   require([\"d3\"], function(d3){\n",
       "      window.d3 = d3;\n",
       "      LDAvis_load_lib(\"https://cdn.jsdelivr.net/gh/bmabey/pyLDAvis@3.4.0/pyLDAvis/js/ldavis.v3.0.0.js\", function(){\n",
       "        new LDAvis(\"#\" + \"ldavis_el316491405218771786249125781936\", ldavis_el316491405218771786249125781936_data);\n",
       "      });\n",
       "    });\n",
       "}else{\n",
       "    // require.js not available: dynamically load d3 & LDAvis\n",
       "    LDAvis_load_lib(\"https://d3js.org/d3.v5.js\", function(){\n",
       "         LDAvis_load_lib(\"https://cdn.jsdelivr.net/gh/bmabey/pyLDAvis@3.4.0/pyLDAvis/js/ldavis.v3.0.0.js\", function(){\n",
       "                 new LDAvis(\"#\" + \"ldavis_el316491405218771786249125781936\", ldavis_el316491405218771786249125781936_data);\n",
       "            })\n",
       "         });\n",
       "}\n",
       "</script>"
      ],
      "text/plain": [
       "PreparedData(topic_coordinates=              x         y  topics  cluster       Freq\n",
       "topic                                                \n",
       "19    -0.305892  0.012132       1        1  71.098213\n",
       "18    -0.058029 -0.089282       2        1   7.067517\n",
       "10    -0.039617  0.026746       3        1   4.764300\n",
       "12    -0.027244  0.016727       4        1   2.978526\n",
       "15     0.001465  0.013698       5        1   1.709010\n",
       "6      0.024126  0.009579       6        1   1.151515\n",
       "3     -0.007644  0.007086       7        1   1.150185\n",
       "9     -0.005989  0.007096       8        1   1.067158\n",
       "11    -0.005673 -0.000765       9        1   1.024894\n",
       "8      0.024492 -0.000354      10        1   0.824989\n",
       "17     0.030414 -0.000931      11        1   0.798863\n",
       "5      0.035636 -0.001492      12        1   0.747311\n",
       "1      0.041903 -0.000581      13        1   0.723884\n",
       "0      0.051390 -0.000336      14        1   0.720411\n",
       "4      0.039678  0.001401      15        1   0.717253\n",
       "16     0.032709  0.000792      16        1   0.702322\n",
       "7      0.050917 -0.001161      17        1   0.701707\n",
       "14     0.034115 -0.001170      18        1   0.698034\n",
       "2      0.043345  0.001027      19        1   0.689426\n",
       "13     0.039899 -0.000214      20        1   0.664482, topic_info=              Term        Freq       Total Category  logprob  loglift\n",
       "2686         trump   87.000000   87.000000  Default  30.0000  30.0000\n",
       "66            game  109.000000  109.000000  Default  29.0000  29.0000\n",
       "1636       percent   68.000000   68.000000  Default  28.0000  28.0000\n",
       "2650   mrs_clinton   25.000000   25.000000  Default  27.0000  27.0000\n",
       "171         season   67.000000   67.000000  Default  26.0000  26.0000\n",
       "...            ...         ...         ...      ...      ...      ...\n",
       "10026         cook    0.056339   15.474511  Topic20  -9.0674  -0.6017\n",
       "3860          song    0.049845   11.595733  Topic20  -9.1899  -0.4356\n",
       "319         lawyer    0.047387   35.630650  Topic20  -9.2405  -1.6087\n",
       "2686         trump    0.045057   87.544067  Topic20  -9.2909  -2.5580\n",
       "2885      benjamin    0.042387    4.770142  Topic20  -9.3520   0.2906\n",
       "\n",
       "[976 rows x 6 columns], token_table=       Topic      Freq         Term\n",
       "term                               \n",
       "11311      2  0.915019            _\n",
       "3576       1  0.938185          abc\n",
       "7985       1  0.632611     abortion\n",
       "11017      9  0.716202       afghan\n",
       "8717       9  0.668481  afghanistan\n",
       "...      ...       ...          ...\n",
       "225        1  0.940365         year\n",
       "225        2  0.019591         year\n",
       "225        3  0.019591         year\n",
       "5957       8  0.972281         zika\n",
       "3788       1  0.535310   zika_virus\n",
       "\n",
       "[615 rows x 3 columns], R=30, lambda_step=0.01, plot_opts={'xlab': 'PC1', 'ylab': 'PC2'}, topic_order=[20, 19, 11, 13, 16, 7, 4, 10, 12, 9, 18, 6, 2, 1, 5, 17, 8, 15, 3, 14])"
      ]
     },
     "execution_count": 54,
     "metadata": {},
     "output_type": "execute_result"
    }
   ],
   "source": [
    "import pyLDAvis\n",
    "import pyLDAvis.gensim\n",
    "\n",
    "# Visualize the topics\n",
    "pyLDAvis.enable_notebook()\n",
    "vis = pyLDAvis.gensim.prepare(lda_model, tf_idf, dct)\n",
    "vis"
   ]
  },
  {
   "cell_type": "markdown",
   "id": "fcc1adb5",
   "metadata": {},
   "source": [
    "Bayesian method"
   ]
  },
  {
   "cell_type": "markdown",
   "id": "d86a2b5a",
   "metadata": {},
   "source": [
    "LDA vs. clustering self-trained word embeddings from session 6 (Hovy chapter 9.6)"
   ]
  },
  {
   "cell_type": "markdown",
   "id": "282c024d",
   "metadata": {},
   "source": [
    "Caveats"
   ]
  },
  {
   "cell_type": "markdown",
   "id": "cc6f7cc3",
   "metadata": {},
   "source": [
    "Data: the same corpus that was prepared in session 6"
   ]
  },
  {
   "cell_type": "markdown",
   "id": "766c5415",
   "metadata": {},
   "source": [
    "Shortly mention the sklearn LDA pipeline?"
   ]
  },
  {
   "cell_type": "markdown",
   "id": "125d89c5",
   "metadata": {},
   "source": [
    "gensim for LDA (Hovy chapter 9.2)"
   ]
  },
  {
   "cell_type": "code",
   "execution_count": null,
   "id": "00c4edfc",
   "metadata": {},
   "outputs": [],
   "source": [
    "feature_names"
   ]
  },
  {
   "cell_type": "markdown",
   "id": "13c15f48",
   "metadata": {},
   "source": [
    "BOX: Structural topic model: Hovy chapter 9.4"
   ]
  },
  {
   "cell_type": "markdown",
   "id": "7c58e405",
   "metadata": {},
   "source": [
    "## 8.2. Clustering\n",
    "\n",
    "https://scikit-learn.org/stable/modules/clustering.html#clustering"
   ]
  },
  {
   "cell_type": "markdown",
   "id": "1b208157",
   "metadata": {},
   "source": [
    "### 8.2.1. Structured data\n",
    "\n",
    "VDEM dataset\n",
    "\n",
    "#### K-Means\n",
    "\n",
    "How it works, when to use it"
   ]
  },
  {
   "cell_type": "markdown",
   "id": "7f5dad05",
   "metadata": {},
   "source": [
    "Silhouette score to find optimal number of clusters: https://scikit-learn.org/stable/modules/clustering.html#clustering-evaluation and https://scikit-learn.org/stable/auto_examples/cluster/plot_kmeans_silhouette_analysis.html"
   ]
  },
  {
   "cell_type": "code",
   "execution_count": null,
   "id": "766fdfe8",
   "metadata": {},
   "outputs": [],
   "source": []
  },
  {
   "cell_type": "code",
   "execution_count": null,
   "id": "f3c3455b",
   "metadata": {},
   "outputs": [],
   "source": []
  },
  {
   "cell_type": "code",
   "execution_count": null,
   "id": "5f57c04f",
   "metadata": {},
   "outputs": [],
   "source": []
  },
  {
   "cell_type": "code",
   "execution_count": null,
   "id": "11d403a3",
   "metadata": {},
   "outputs": [],
   "source": []
  },
  {
   "cell_type": "code",
   "execution_count": null,
   "id": "e87ecd8c",
   "metadata": {},
   "outputs": [],
   "source": [
    "import matplotlib.pyplot as plt\n",
    "from mpl_toolkits.mplot3d import Axes3D\n",
    "from matplotlib import colors\n",
    "\n",
    "def plot_vectors(vectors, title='VIZ', labels=None, dimensions=3):\n",
    "    # set up graph\n",
    "    fig = plt.figure(figsize=(3, 3))\n",
    "    \n",
    "    # create data frame\n",
    "    df = pd.DataFrame(data={'x': vectors[:, 0], 'y': vectors[:, 1]})\n",
    "    # add labels, if supplied\n",
    "    if labels is not None:\n",
    "        df['label'] = labels\n",
    "        #print(df.label)\n",
    "    else:\n",
    "        df['label'] = [''] * len(df)\n",
    "    \n",
    "    # assign colors to labels\n",
    "    cm = plt.get_cmap('Set1') # choose the color palette\n",
    "    n_labels = len(df.label.unique())\n",
    "    label_colors = [cm(1. * i / n_labels) for i in range(n_labels)]\n",
    "    cMap = colors.ListedColormap(label_colors)\n",
    "    \n",
    "    # plot in 3 dimensions\n",
    "    if dimensions == 3:\n",
    "        # add z-axis information\n",
    "        df['z'] = vectors[:, 2]\n",
    "        # define plot\n",
    "        ax = fig.add_subplot(111, projection='3d')\n",
    "        frame1 = plt.gca()\n",
    "        # remove axis ticks\n",
    "        frame1.axes.xaxis.set_ticklabels([])\n",
    "        frame1.axes.yaxis.set_ticklabels([])\n",
    "        frame1.axes.zaxis.set_ticklabels([])\n",
    "        \n",
    "        # plot each label as scatter plot in its own color\n",
    "        for l, label in enumerate(df.label.unique()):\n",
    "            df2 = df[df.label == label]\n",
    "            ax.scatter(df2['x'], df2['y'], df2['z'], c=label_colors[l], cmap=cMap, edgecolor=None, label=label, alpha=0.3, s=5)\n",
    "        \n",
    "    # plot in 2 dimensions\n",
    "    elif dimensions == 2:\n",
    "        ax = fig.add_subplot(111)\n",
    "        frame1 = plt.gca()\n",
    "        frame1.axes.xaxis.set_ticklabels([])\n",
    "        frame1.axes.yaxis.set_ticklabels([])\n",
    "        \n",
    "        for l, label in enumerate(df.label.unique()):\n",
    "            df2 = df[df.label == label]\n",
    "            ax.scatter(df2['x'], df2['y'], c=label_colors[l], cmap=cMap, edgecolor=None, label=label, alpha=0.3, s=5)\n",
    "    \n",
    "    else:\n",
    "         raise NotImplementedError()\n",
    "    \n",
    "    plt.title(title)\n",
    "    #plt.show()\n",
    "    \n",
    "    if dimensions == 3:\n",
    "        ax.set_xlabel(f'$\\longleftarrow$ PC 0 $\\longrightarrow$')\n",
    "        ax.set_ylabel(f'$\\longleftarrow$ PC 1 $\\longrightarrow$')\n",
    "        ax.set_zlabel(f'$\\longleftarrow$ PC 2 $\\longrightarrow$')\n",
    "    elif dimensions == 2:\n",
    "        ax.set_xlabel(f'$\\longleftarrow$ PC 0 (eigenvalue: {np.round(eigenvalues_vdem.loc[0], 2)}) $\\longrightarrow$')\n",
    "        ax.set_ylabel(f'$\\longleftarrow$ PC 1 (eigenvalue: {np.round(eigenvalues_vdem.loc[1], 2)}) $\\longrightarrow$')        \n",
    "    else:\n",
    "         raise NotImplementedError()"
   ]
  },
  {
   "cell_type": "code",
   "execution_count": null,
   "id": "78568233",
   "metadata": {},
   "outputs": [],
   "source": [
    "n_components = 3\n",
    "\n",
    "plot_vectors(vectors=X_vdem_pca[:, :n_components], title='V-Dem', labels=None, dimensions=n_components)"
   ]
  },
  {
   "cell_type": "code",
   "execution_count": null,
   "id": "b8c38eca",
   "metadata": {},
   "outputs": [],
   "source": []
  },
  {
   "cell_type": "markdown",
   "id": "107dd1be",
   "metadata": {},
   "source": [
    "BOX: Other methods for identifying optimal number of clusters; https://scikit-learn.org/stable/modules/classes.html#sklearn-metrics-metrics"
   ]
  },
  {
   "cell_type": "markdown",
   "id": "b5a3a358",
   "metadata": {},
   "source": [
    "#### Agglomarative clustering\n",
    "\n",
    "How it works, when to use it"
   ]
  },
  {
   "cell_type": "markdown",
   "id": "a42110e4",
   "metadata": {},
   "source": [
    "Silhouette score from the beginning"
   ]
  },
  {
   "cell_type": "code",
   "execution_count": null,
   "id": "42a3a7c6",
   "metadata": {},
   "outputs": [],
   "source": []
  },
  {
   "cell_type": "markdown",
   "id": "6390234b",
   "metadata": {},
   "source": [
    "### 8.2.2. Unstructured (text) data\n",
    "\n",
    "Mention available methods: https://scikit-learn.org/stable/modules/classes.html#module-sklearn.cluster"
   ]
  },
  {
   "cell_type": "markdown",
   "id": "f7b35abe",
   "metadata": {},
   "source": [
    "Introduce trick to use dimensionality reduction before (K-Means) clustering; https://datascience.stackexchange.com/questions/23591/clustering-algorithms-for-high-dimensional-binary-sparse-data"
   ]
  },
  {
   "cell_type": "code",
   "execution_count": null,
   "id": "b0a8fe9d",
   "metadata": {},
   "outputs": [],
   "source": []
  },
  {
   "cell_type": "markdown",
   "id": "2b2e3109",
   "metadata": {},
   "source": [
    "## 8.3. Association rule mining\n",
    "\n",
    "https://sherbold.github.io/intro-to-data-science/05_Association-Rule-Mining.html\n",
    "\n",
    "use http://rasbt.github.io/mlxtend/?"
   ]
  },
  {
   "cell_type": "markdown",
   "id": "4a6464ad",
   "metadata": {},
   "source": [
    "Describe associations for TweetsCOV19 tweets"
   ]
  },
  {
   "cell_type": "code",
   "execution_count": null,
   "id": "7e550a89",
   "metadata": {},
   "outputs": [],
   "source": []
  },
  {
   "cell_type": "markdown",
   "id": "b98d082a",
   "metadata": {},
   "source": [
    "## Commented references\n",
    "\n",
    "### Recommended textbooks\n",
    "\n",
    "Hovy, D. (2020). *Text Analysis in Python for Social Scientists: Discovery and Exploration*. Cambridge University Press. https://doi.org/10.1017/9781108873352. *ADD COMMENT*\n",
    "\n",
    "### Other cited references\n",
    "\n",
    "..."
   ]
  },
  {
   "cell_type": "markdown",
   "id": "758d9eec",
   "metadata": {},
   "source": [
    "<div class='alert alert-block alert-success'>\n",
    "<b>Document information</b>\n",
    "\n",
    "Contact and main author: ...\n",
    "\n",
    "Contributors: ...\n",
    "\n",
    "Acknowledgements: ...\n",
    "\n",
    "Version date: XX. February 2023\n",
    "\n",
    "License: ...\n",
    "</div>"
   ]
  },
  {
   "cell_type": "markdown",
   "id": "662b5253",
   "metadata": {},
   "source": [
    "#### Notes to be removed before publication\n",
    "\n",
    "- ..."
   ]
  }
 ],
 "metadata": {
  "kernelspec": {
   "display_name": "Python 3 (ipykernel)",
   "language": "python",
   "name": "python3"
  },
  "language_info": {
   "codemirror_mode": {
    "name": "ipython",
    "version": 3
   },
   "file_extension": ".py",
   "mimetype": "text/x-python",
   "name": "python",
   "nbconvert_exporter": "python",
   "pygments_lexer": "ipython3",
   "version": "3.8.8"
  }
 },
 "nbformat": 4,
 "nbformat_minor": 5
}
