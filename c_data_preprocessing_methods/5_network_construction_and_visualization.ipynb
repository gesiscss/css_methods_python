{
 "cells": [
  {
   "cell_type": "markdown",
   "id": "e607ca26",
   "metadata": {},
   "source": [
    "<img src='images/gesis.png' style='height: 50px; float: left'>\n",
    "<img src='images/social_comquant.png' style='height: 50px; float: left; margin-left: 40px'>"
   ]
  },
  {
   "cell_type": "markdown",
   "id": "662b5253",
   "metadata": {},
   "source": [
    "#### Notes to be removed before publication\n",
    "\n",
    "- add links to networkx site for NetworkX 2.8.4"
   ]
  },
  {
   "cell_type": "markdown",
   "id": "b70bc56f",
   "metadata": {},
   "source": [
    "## Introduction to Computational Social Science methods with Python"
   ]
  },
  {
   "cell_type": "markdown",
   "id": "71218328",
   "metadata": {},
   "source": [
    "# Session 5. Network construction and visualization\n",
    "\n",
    "Network analysis is one of the main classes of methods in Computational Social Science (CSS). But analysis is only the last step, it requires that data has been collected and networks have been constructed from it. Often network analysis textbooks are short on these preprocessing steps. Having introduced data collection in sessions 3 and 4, this session is focused on **network construction**.\n",
    "\n",
    "|<img src='images/transactions.png' style='float: none; width: 480px'>|\n",
    "|:--|\n",
    "|<em style='float: center'>**Figure 1**: Four dimensions of transactions as micro events</em>|\n",
    "\n",
    "In many cases, Digital Behavioral Data (DBD) takes the form of transaction which have the four dimensions shown in ***figure 1*** (Lietz *et al.* 2021). The most obvious dimension to construct networks from are the **social relations**. A social relation consists of two **nodes** that are actors and, thus, capable of exhibiting behavior. Typically, these are persons, though groups or organizations also qualify as actors. The link between a pair of nodes is called an **edge**. Networks made of social relations are called **social networks**. Before DBD became available, social relations could be observed or collected in surveys most easily, and social networks had been the focus of research attention for decades (Freeman 2004).\n",
    "\n",
    "But the four dimensions of transactions offer many more options to construct networks. Think of networks that consist of edges among nodes that are not actors but concepts or symbols (*e.g.*, words used in a sentence or hashtags used in a tweet). Such networks derive from the **communicative content** of transactions and, since they carry the meaning expressed in behavior, are called **cultural networks** or communication networks (Fuhse 2022). Then, think of **socio-cultural networks** that can consist of both kinds of nodes (actors and symbols), actors linked by edges quantifying their behavioral (communicative) similarity, or even symbols linked by some kind of social edge. This is where CSS can make a big contribution (Fuhse 2022, pp. 291–293). Node **attributes** can also be used to create different types of edges (*e.g.*, language used by women vs. men). Finally, **time** adds yet another dimension to network construction. DBD often comes in the form of continuous link streams where edges are time-stamped (they come, stay, or got) at high resolution. The problem faced by the network analyst is how to handle this potential **richness** of DBD, which information to use, how, and which to throw away.\n",
    "\n",
    "Fortunately, graph theory, the mathematical corpus that underlies network analysis and theory, provides a set of helpful concepts. First, there can be **node attributes and edge attributes** which allows us, for example, to incorporate numerical information or filter networks.\n",
    "\n",
    "|<img src='images/copenhagen.jpg' style='float: none; width: 480px'>|\n",
    "|:--|\n",
    "|<em style='float: center'>**Figure 2**: Four different types of social relations in the Copenhagen Networks Study interaction data</em>|\n",
    "\n",
    "Second, there can be **multilayer networks** where each layer consists of a different edge type. The idea of layers is fundamental in sociological theory because the roles of persons in social life are thought to originate from the interdependence of multiple domains like family, work, or friend circles, and domains can be operationalized as network layers. In digital life, layers can also represent transactions in different platforms (e.g., Twitter, Mastodon) or from different protocols (e.g., phone calls, text messages). ***Figure 2*** depicts the four layers which are available as the Copenhagen Networks Study interaction data (Sapiezynski *et al.* 2019). Multilayer network analysis with this dataset has demonstrated that physical social gatherings measured via physical mobile phone proximity are coordinated by phone calls and text messages hours before the gatherings (Sekara *et al.* 2016). Layers can also correspond to temporal network snapshots to study the evolution of a social system (Peixoto 2015).\n",
    "\n",
    "Third, there can be **multimodal networks** where nodes belong to distinct categories (the modes), and edges are only permitted among two nodes belonging to different categories. For two categories, these networks are also called 2-mode networks, bipartite networks, or affiliation networks. The classical example is the network of persons having participated in (being affiliated with) events. The corresponding analyses shed light on the duality or micro-macro relationship of persons and groups, in this example (Breiger 1974). Due to its transactional and rich nature, DBD often has more then two modes. Such data allows for studies of socio-cultural networks but requires non-trivial mathematical data preprocessing (Lee & Martin 2018). Figure 3 in [Session 2: Data handling and visualization]() shows the seven tables used to organize the TweetsCOV19 dataset. Since entities are only linked to entities of other categories, this dataset allows for constructing 7-mode networks, though, in practice, one would reduce the number of modes to keep interpretability.\n",
    "\n",
    "The other focus of this session is **network visualization**. Plotting networks is an important part of network research because it involves the researcher with her or his senses, gives her or him a feeling for the data, and enables her or him to inspect potential patterns or develop hypotheses. Visualization is thus a task that accompanies the researcher from data collection to data preprocessing and analysis. Drawing networks can be an art, but it has a very scientific aspect. As information visualization, the goal is to depict various pieces of information in a way that speaks to the reader (Krempel 2014).\n",
    "\n",
    "There are three full-fledged **libraries for network preprocessing and analysis** in Python. Each comes with advantages and disadvantages. The most popular one is [NetworkX](https://networkx.org/). This library offers a huge set of methods and has a very large user base, that is, it is quite likely that the solution to your problem is already on the question and answering website [Stack Overflow](https://stackoverflow.com/). NetworkX is written in pure Python. This makes it a good library for teaching as the original code can be inspected without knowledge of a language other than Python. It also makes installation much easier, and, hence, NetworkX is included in the Anaconda distribution we are using here. The drawback of a pure Python implementation is that it is not ideal for large-scale computation because this requires base implementation in a language like C.\n",
    "\n",
    "The other libraries for network preprocessing and analysis are based on C code and are, thus, as fast as it gets in Python. [igraph](https://igraph.org/) is a collection of network tools and can be programmed in Python, R, Mathematica, and C. The [Python interface](https://igraph.readthedocs.io/) is also quite encompassing in terms of the tools it provides. The third library is [graph-tool](https://graph-tool.skewed.de/). This library is known for its extensive stochastic blockmodeling possibilities, it is the best option for visualizing networks (also very large ones), but it requires advanced coding skills and can be tricky to install (particularly on Windows systems). Both igraph and graph-tool are not Anaconda-ready.\n",
    "\n",
    "<div class='alert alert-block alert-success'>\n",
    "<b>In this session</b>, \n",
    "\n",
    "you will learn how you can ...\n",
    "\n",
    "5.1. Graphs and static networks\n",
    "5.1.1. Constructing from scratch\n",
    "5.1.2. Constructing from Pandas dataframes\n",
    "5.1.3. Internalizing attributes\n",
    "5.1.4. The Copenhagen Networks Study interaction data\n",
    "5.2. Multilayer networks\n",
    "5.3. Drawing networks\n",
    "5.4. Multimodal networks\n",
    "5.4.1. Projections with NetworkX: Southern women data\n",
    "5.4.2. Preprocessing with SciPy: TweetsCOV19 data\n",
    "5.5. Network snapshots from link streams\n",
    "5.5.1. Aggregating edges by clock\n",
    "5.5.2. Aggregating edges by connectivity\n",
    "5.6. Exporting and importing networks\n",
    "</div>"
   ]
  },
  {
   "cell_type": "markdown",
   "id": "1e0aa633",
   "metadata": {},
   "source": [
    "## 5.1. Graphs and static networks\n",
    "\n",
    "Static networks are graphs that do not change over time. Graph is the mathematical name for network. A **graph** $G=(V, E)$ is defined by a **set of vertices** (nodes) $V=\\{v_1, v_2, ..., v_n\\}$ and a **set of edges** $E=\\{e_1, e_2, ..., e_m\\}$. We will return to this graph theoretic notation in this session and in [Session 7: Network analysis]()."
   ]
  },
  {
   "cell_type": "markdown",
   "id": "7d22c9ce",
   "metadata": {},
   "source": [
    "### 5.1.1. Constructing from scratch\n",
    "\n",
    "An **undirected simple graph** merely consists of these sets $V$ and $E$ (Wasserman & Faust 1994, pp. 94–97). It can be constructed from scratch by defining an object of the [`Graph`](https://networkx.org/documentation/stable/reference/classes/graph.html) class and adding nodes one by one:"
   ]
  },
  {
   "cell_type": "code",
   "execution_count": 1,
   "id": "b0b8ad9d",
   "metadata": {},
   "outputs": [],
   "source": [
    "import networkx as nx"
   ]
  },
  {
   "cell_type": "code",
   "execution_count": 2,
   "id": "86c688a0",
   "metadata": {},
   "outputs": [
    {
     "data": {
      "text/plain": [
       "NodeView(('James', 'Kirk', 'Lars', 'Robert'))"
      ]
     },
     "execution_count": 2,
     "metadata": {},
     "output_type": "execute_result"
    }
   ],
   "source": [
    "G = nx.Graph()\n",
    "G.add_node('James')\n",
    "G.add_node('Kirk')\n",
    "G.add_node('Lars')\n",
    "G.add_node('Robert')\n",
    "G.nodes()"
   ]
  },
  {
   "cell_type": "markdown",
   "id": "fdbf8c35",
   "metadata": {},
   "source": [
    "Alternatively, nodes can be added all at once from a list:"
   ]
  },
  {
   "cell_type": "code",
   "execution_count": 3,
   "id": "3d1e47e6",
   "metadata": {},
   "outputs": [
    {
     "data": {
      "text/plain": [
       "NodeView(('James', 'Kirk', 'Lars', 'Robert'))"
      ]
     },
     "execution_count": 3,
     "metadata": {},
     "output_type": "execute_result"
    }
   ],
   "source": [
    "G = nx.Graph()\n",
    "G.add_nodes_from(nodes_for_adding=['James', 'Kirk', 'Lars', 'Robert'])\n",
    "G.nodes()"
   ]
  },
  {
   "cell_type": "markdown",
   "id": "cdbaf195",
   "metadata": {},
   "source": [
    "Note that the nodes are of the string data type, they are not integers. The possibility to do so is a distinguished feature of NetworkX.\n",
    "\n",
    "Edges (*i.e.*, node pairs) can also be added one by one:"
   ]
  },
  {
   "cell_type": "code",
   "execution_count": 4,
   "id": "8e556dc3",
   "metadata": {},
   "outputs": [
    {
     "data": {
      "text/plain": [
       "EdgeView([('James', 'Kirk'), ('James', 'Lars'), ('Kirk', 'Lars')])"
      ]
     },
     "execution_count": 4,
     "metadata": {},
     "output_type": "execute_result"
    }
   ],
   "source": [
    "G.add_edge('James', 'Kirk')\n",
    "G.add_edge('James', 'Lars')\n",
    "G.add_edge('Kirk', 'Lars')\n",
    "G.edges()"
   ]
  },
  {
   "cell_type": "markdown",
   "id": "7429b66f",
   "metadata": {},
   "source": [
    "Remove the edges..."
   ]
  },
  {
   "cell_type": "code",
   "execution_count": 5,
   "id": "1c9c351d",
   "metadata": {},
   "outputs": [
    {
     "data": {
      "text/plain": [
       "EdgeView([])"
      ]
     },
     "execution_count": 5,
     "metadata": {},
     "output_type": "execute_result"
    }
   ],
   "source": [
    "G.remove_edge('James', 'Kirk')\n",
    "G.remove_edge('James', 'Lars')\n",
    "G.remove_edge('Kirk', 'Lars')\n",
    "G.edges()"
   ]
  },
  {
   "cell_type": "markdown",
   "id": "17a9e92f",
   "metadata": {},
   "source": [
    "and add them all at once:"
   ]
  },
  {
   "cell_type": "code",
   "execution_count": 6,
   "id": "e2a79736",
   "metadata": {},
   "outputs": [
    {
     "data": {
      "text/plain": [
       "EdgeView([('James', 'Kirk'), ('James', 'Lars'), ('Kirk', 'Lars')])"
      ]
     },
     "execution_count": 6,
     "metadata": {},
     "output_type": "execute_result"
    }
   ],
   "source": [
    "G.add_edges_from(ebunch_to_add=[['James', 'Kirk'], ['James', 'Lars'], ['Kirk', 'Lars']])\n",
    "G.edges()"
   ]
  },
  {
   "cell_type": "markdown",
   "id": "6417f2d1",
   "metadata": {},
   "source": [
    "**Directed simple graph** (Wasserman & Faust 1994, pp. 121–124): If the direction of edges matters, you must define a graph object of the [`DiGraph`](https://networkx.org/documentation/stable/reference/classes/digraph.html) class:"
   ]
  },
  {
   "cell_type": "code",
   "execution_count": 7,
   "id": "c78fa13e",
   "metadata": {},
   "outputs": [
    {
     "data": {
      "text/plain": [
       "NodeView(('James', 'Kirk', 'Lars'))"
      ]
     },
     "execution_count": 7,
     "metadata": {},
     "output_type": "execute_result"
    }
   ],
   "source": [
    "D = nx.DiGraph()\n",
    "#D.add_nodes_from(nodes_for_adding=['James', 'Kirk', 'Lars', 'Robert'])\n",
    "D.add_edges_from(ebunch_to_add=[['James', 'Kirk'], ['James', 'Lars'], ['Kirk', 'Lars']])\n",
    "D.nodes()"
   ]
  },
  {
   "cell_type": "markdown",
   "id": "bab36aaa",
   "metadata": {},
   "source": [
    "This time the edges point from the first node to the second of the pair. Note that there is no edge involving 'Robert' whi, therefore, is not in the node set. Any nodes that do not have edge must be added explicitly.\n",
    "\n",
    "Both networks of the Graph and DiGraph class can have self-loops (nodes linked to themselves), for example:"
   ]
  },
  {
   "cell_type": "code",
   "execution_count": 8,
   "id": "98cb5c1b",
   "metadata": {},
   "outputs": [
    {
     "data": {
      "text/plain": [
       "OutEdgeView([('James', 'Kirk'), ('James', 'Lars'), ('Kirk', 'Lars'), ('Robert', 'Robert')])"
      ]
     },
     "execution_count": 8,
     "metadata": {},
     "output_type": "execute_result"
    }
   ],
   "source": [
    "D.add_edge('Robert', 'Robert')\n",
    "D.edges()"
   ]
  },
  {
   "cell_type": "markdown",
   "id": "8626a620",
   "metadata": {},
   "source": [
    "### 5.1.2. Constructing from Pandas dataframes\n",
    "\n",
    "Simple graphs only contain information whether or not an edge among a node pair is present. But often we have edge (and node) attributes, for example, numerical weights of edges such as co-occurrence counts or similarity scores. Graph theoretically, an undirected or directed **weighted graph** $G_W=(V, E, W)$ is a set of vertices and edges with a third set of weights $W=\\{w_1, w_2, ..., w_l\\}$ attached to the edges (Wasserman & Faust 1994, pp. 140–142). This notation allows for attaching further attributes to either vertices or edges.\n",
    "\n",
    "In order to keep network data tidy, it is good practice to store node and edge information incl. attributes in separate dataframes. Pandas is the right library for this task. Suppose these are your nodelist and edgelist (actually, we should say node and edge dataframes, but \"nodelist\" and \"edgelist\" are established terms):"
   ]
  },
  {
   "cell_type": "code",
   "execution_count": 9,
   "id": "ae59c4c4",
   "metadata": {},
   "outputs": [],
   "source": [
    "import pandas as pd"
   ]
  },
  {
   "cell_type": "code",
   "execution_count": 10,
   "id": "eed3b270",
   "metadata": {},
   "outputs": [
    {
     "data": {
      "text/html": [
       "<div>\n",
       "<style scoped>\n",
       "    .dataframe tbody tr th:only-of-type {\n",
       "        vertical-align: middle;\n",
       "    }\n",
       "\n",
       "    .dataframe tbody tr th {\n",
       "        vertical-align: top;\n",
       "    }\n",
       "\n",
       "    .dataframe thead th {\n",
       "        text-align: right;\n",
       "    }\n",
       "</style>\n",
       "<table border=\"1\" class=\"dataframe\">\n",
       "  <thead>\n",
       "    <tr style=\"text-align: right;\">\n",
       "      <th></th>\n",
       "      <th>name</th>\n",
       "      <th>size</th>\n",
       "      <th>color</th>\n",
       "    </tr>\n",
       "  </thead>\n",
       "  <tbody>\n",
       "    <tr>\n",
       "      <th>0</th>\n",
       "      <td>James</td>\n",
       "      <td>500</td>\n",
       "      <td>red</td>\n",
       "    </tr>\n",
       "    <tr>\n",
       "      <th>1</th>\n",
       "      <td>Kirk</td>\n",
       "      <td>300</td>\n",
       "      <td>red</td>\n",
       "    </tr>\n",
       "    <tr>\n",
       "      <th>2</th>\n",
       "      <td>Lars</td>\n",
       "      <td>500</td>\n",
       "      <td>green</td>\n",
       "    </tr>\n",
       "    <tr>\n",
       "      <th>3</th>\n",
       "      <td>Robert</td>\n",
       "      <td>100</td>\n",
       "      <td>blue</td>\n",
       "    </tr>\n",
       "  </tbody>\n",
       "</table>\n",
       "</div>"
      ],
      "text/plain": [
       "     name  size  color\n",
       "0   James   500    red\n",
       "1    Kirk   300    red\n",
       "2    Lars   500  green\n",
       "3  Robert   100   blue"
      ]
     },
     "execution_count": 10,
     "metadata": {},
     "output_type": "execute_result"
    }
   ],
   "source": [
    "nodelist = pd.DataFrame([['James', 500, 'red'], ['Kirk', 300, 'red'], ['Lars', 500, 'green'], ['Robert', 100, 'blue']], columns=['name', 'size', 'color'])\n",
    "nodelist"
   ]
  },
  {
   "cell_type": "code",
   "execution_count": 11,
   "id": "f2a67dd4",
   "metadata": {},
   "outputs": [
    {
     "data": {
      "text/html": [
       "<div>\n",
       "<style scoped>\n",
       "    .dataframe tbody tr th:only-of-type {\n",
       "        vertical-align: middle;\n",
       "    }\n",
       "\n",
       "    .dataframe tbody tr th {\n",
       "        vertical-align: top;\n",
       "    }\n",
       "\n",
       "    .dataframe thead th {\n",
       "        text-align: right;\n",
       "    }\n",
       "</style>\n",
       "<table border=\"1\" class=\"dataframe\">\n",
       "  <thead>\n",
       "    <tr style=\"text-align: right;\">\n",
       "      <th></th>\n",
       "      <th>name_u</th>\n",
       "      <th>name_v</th>\n",
       "      <th>weight</th>\n",
       "      <th>color</th>\n",
       "      <th>style</th>\n",
       "    </tr>\n",
       "  </thead>\n",
       "  <tbody>\n",
       "    <tr>\n",
       "      <th>0</th>\n",
       "      <td>James</td>\n",
       "      <td>Kirk</td>\n",
       "      <td>1</td>\n",
       "      <td>red</td>\n",
       "      <td>solid</td>\n",
       "    </tr>\n",
       "    <tr>\n",
       "      <th>1</th>\n",
       "      <td>James</td>\n",
       "      <td>Lars</td>\n",
       "      <td>3</td>\n",
       "      <td>green</td>\n",
       "      <td>dashed</td>\n",
       "    </tr>\n",
       "    <tr>\n",
       "      <th>2</th>\n",
       "      <td>Kirk</td>\n",
       "      <td>Lars</td>\n",
       "      <td>5</td>\n",
       "      <td>blue</td>\n",
       "      <td>dashed</td>\n",
       "    </tr>\n",
       "  </tbody>\n",
       "</table>\n",
       "</div>"
      ],
      "text/plain": [
       "  name_u name_v  weight  color   style\n",
       "0  James   Kirk       1    red   solid\n",
       "1  James   Lars       3  green  dashed\n",
       "2   Kirk   Lars       5   blue  dashed"
      ]
     },
     "execution_count": 11,
     "metadata": {},
     "output_type": "execute_result"
    }
   ],
   "source": [
    "edgelist = pd.DataFrame([['James', 'Kirk', 1, 'red', 'solid'], ['James', 'Lars', 3, 'green', 'dashed'], ['Kirk', 'Lars', 5, 'blue', 'dashed']], columns=['name_u', 'name_v', 'weight', 'color', 'style'])\n",
    "edgelist"
   ]
  },
  {
   "cell_type": "markdown",
   "id": "86af1122",
   "metadata": {},
   "source": [
    "NetworkX offers a straightforward way to construct a graph from a Pandas edgelist. The [`from_pandas_edgelist()`](https://networkx.org/documentation/stable/reference/generated/networkx.convert_matrix.from_pandas_edgelist.html) wrapper creates a graph of a specifiable class. Here, we create an undirected (line 6) weighted (line 5) graph (`create_using = nx.Graph`). Set `data=True` (line 8) to see the attribute values:"
   ]
  },
  {
   "cell_type": "code",
   "execution_count": 12,
   "id": "bf94b783",
   "metadata": {},
   "outputs": [
    {
     "data": {
      "text/plain": [
       "EdgeDataView([('James', 'Kirk', {'weight': 1}), ('James', 'Lars', {'weight': 3}), ('Kirk', 'Lars', {'weight': 5})])"
      ]
     },
     "execution_count": 12,
     "metadata": {},
     "output_type": "execute_result"
    }
   ],
   "source": [
    "G = nx.from_pandas_edgelist(\n",
    "    df = edgelist, \n",
    "    source = 'name_u', \n",
    "    target = 'name_v', \n",
    "    edge_attr = ['weight'], \n",
    "    create_using = nx.Graph\n",
    ")\n",
    "G.edges(data=True)"
   ]
  },
  {
   "cell_type": "code",
   "execution_count": 13,
   "id": "d15b3561",
   "metadata": {},
   "outputs": [
    {
     "data": {
      "text/plain": [
       "NodeView(('James', 'Kirk', 'Lars'))"
      ]
     },
     "execution_count": 13,
     "metadata": {},
     "output_type": "execute_result"
    }
   ],
   "source": [
    "G.nodes()"
   ]
  },
  {
   "cell_type": "markdown",
   "id": "705348ef",
   "metadata": {},
   "source": [
    "Now that `G` exists we can add the missing nodes to it:"
   ]
  },
  {
   "cell_type": "code",
   "execution_count": 14,
   "id": "10e68210",
   "metadata": {},
   "outputs": [
    {
     "data": {
      "text/plain": [
       "NodeView(('James', 'Kirk', 'Lars', 'Robert'))"
      ]
     },
     "execution_count": 14,
     "metadata": {},
     "output_type": "execute_result"
    }
   ],
   "source": [
    "G.add_nodes_from(nodes_for_adding=nodelist['name'])\n",
    "G.nodes()"
   ]
  },
  {
   "cell_type": "markdown",
   "id": "aca966fc",
   "metadata": {},
   "source": [
    "While it is easily possible to directly store edge attributes in the graph, there is no way to do so for node attributes to the graph, this is possible for edge attributes.\n",
    "\n",
    "Some users store their network data as a possibly weighted **adjacency matrix**. The matrix corresponding to the `edgelist` looks like this:"
   ]
  },
  {
   "cell_type": "code",
   "execution_count": 15,
   "id": "ce95edc5",
   "metadata": {},
   "outputs": [
    {
     "data": {
      "text/html": [
       "<div>\n",
       "<style scoped>\n",
       "    .dataframe tbody tr th:only-of-type {\n",
       "        vertical-align: middle;\n",
       "    }\n",
       "\n",
       "    .dataframe tbody tr th {\n",
       "        vertical-align: top;\n",
       "    }\n",
       "\n",
       "    .dataframe thead th {\n",
       "        text-align: right;\n",
       "    }\n",
       "</style>\n",
       "<table border=\"1\" class=\"dataframe\">\n",
       "  <thead>\n",
       "    <tr style=\"text-align: right;\">\n",
       "      <th></th>\n",
       "      <th>James</th>\n",
       "      <th>Kirk</th>\n",
       "      <th>Lars</th>\n",
       "      <th>Robert</th>\n",
       "    </tr>\n",
       "  </thead>\n",
       "  <tbody>\n",
       "    <tr>\n",
       "      <th>James</th>\n",
       "      <td>0</td>\n",
       "      <td>1</td>\n",
       "      <td>3</td>\n",
       "      <td>0</td>\n",
       "    </tr>\n",
       "    <tr>\n",
       "      <th>Kirk</th>\n",
       "      <td>0</td>\n",
       "      <td>0</td>\n",
       "      <td>5</td>\n",
       "      <td>0</td>\n",
       "    </tr>\n",
       "    <tr>\n",
       "      <th>Lars</th>\n",
       "      <td>0</td>\n",
       "      <td>0</td>\n",
       "      <td>0</td>\n",
       "      <td>0</td>\n",
       "    </tr>\n",
       "    <tr>\n",
       "      <th>Robert</th>\n",
       "      <td>0</td>\n",
       "      <td>0</td>\n",
       "      <td>0</td>\n",
       "      <td>0</td>\n",
       "    </tr>\n",
       "  </tbody>\n",
       "</table>\n",
       "</div>"
      ],
      "text/plain": [
       "        James  Kirk  Lars  Robert\n",
       "James       0     1     3       0\n",
       "Kirk        0     0     5       0\n",
       "Lars        0     0     0       0\n",
       "Robert      0     0     0       0"
      ]
     },
     "execution_count": 15,
     "metadata": {},
     "output_type": "execute_result"
    }
   ],
   "source": [
    "matrix = pd.DataFrame([[0, 1, 3, 0], [0, 0, 5, 0], [0, 0, 0, 0], [0, 0, 0, 0]], index=['James', 'Kirk', 'Lars', 'Robert'], columns=['James', 'Kirk', 'Lars', 'Robert'])\n",
    "matrix"
   ]
  },
  {
   "cell_type": "markdown",
   "id": "cdff6389",
   "metadata": {},
   "source": [
    "Adjacency matrices can also be added to a graph directly from Pandas:"
   ]
  },
  {
   "cell_type": "code",
   "execution_count": 16,
   "id": "8e8aa6e3",
   "metadata": {},
   "outputs": [
    {
     "data": {
      "text/plain": [
       "EdgeDataView([('James', 'Kirk', {'weight': 1}), ('James', 'Lars', {'weight': 3}), ('Kirk', 'Lars', {'weight': 5})])"
      ]
     },
     "execution_count": 16,
     "metadata": {},
     "output_type": "execute_result"
    }
   ],
   "source": [
    "G = nx.Graph()\n",
    "G = nx.from_pandas_adjacency(matrix)\n",
    "G.edges(data=True)"
   ]
  },
  {
   "cell_type": "code",
   "execution_count": 17,
   "id": "caf87762",
   "metadata": {},
   "outputs": [
    {
     "data": {
      "text/plain": [
       "NodeView(('James', 'Kirk', 'Lars', 'Robert'))"
      ]
     },
     "execution_count": 17,
     "metadata": {},
     "output_type": "execute_result"
    }
   ],
   "source": [
    "G.nodes()"
   ]
  },
  {
   "cell_type": "markdown",
   "id": "119bf34a",
   "metadata": {},
   "source": [
    "Note two things: First, [`from_pandas_adjacency()`](https://networkx.org/documentation/stable/reference/generated/networkx.convert_matrix.from_pandas_adjacency.html) directly adds edge weights stored in the cells of the adjacency matrix; Second, if nodes without any edges exist in the adjacency matrix, they will be added to the graph.\n",
    "\n",
    "Whatever way the graph is populated with weighted edges, the weights are now internalized in the graph object. To utilize them for network drawing, they must be transformed into a list:"
   ]
  },
  {
   "cell_type": "code",
   "execution_count": 18,
   "id": "73bc5c70",
   "metadata": {},
   "outputs": [],
   "source": [
    "edge_weight = list(nx.get_edge_attributes(G, 'weight').values())"
   ]
  },
  {
   "cell_type": "markdown",
   "id": "c5b7769d",
   "metadata": {},
   "source": [
    "This list is then called in the `draw()` function which works closely with the Matplotlib drawing library. Use the same node position for all visualizations of this graph:"
   ]
  },
  {
   "cell_type": "code",
   "execution_count": 19,
   "id": "a09a6c53",
   "metadata": {},
   "outputs": [],
   "source": [
    "node_pos = nx.circular_layout(G=G)"
   ]
  },
  {
   "cell_type": "code",
   "execution_count": 20,
   "id": "13538912",
   "metadata": {},
   "outputs": [],
   "source": [
    "import matplotlib.pyplot as plt"
   ]
  },
  {
   "cell_type": "code",
   "execution_count": 21,
   "id": "4455c535",
   "metadata": {},
   "outputs": [
    {
     "data": {
      "image/png": "[encoded data removed]",
      "text/plain": [
       "<Figure size 300x300 with 1 Axes>"
      ]
     },
     "metadata": {},
     "output_type": "display_data"
    }
   ],
   "source": [
    "plt.figure(figsize=[3, 3])\n",
    "nx.draw(G=G, pos=node_pos, with_labels=True, width=edge_weight)"
   ]
  },
  {
   "cell_type": "markdown",
   "id": "8abb3d87",
   "metadata": {},
   "source": [
    "### 5.1.3. Internalizing attributes\n",
    "While it is nice that edge weights can be stored in the adjacency matrix and easily added to the graph, the matrix format wastes memory because – other than in the edgelist – zeros are also stored. The matrix format can also store only one edge attribute whereas the edgelist can store as many as you want. In fact, node and edge attributes do not have to be internalized in the graph object. Here, we call all of them from the nodelist and edgelist:"
   ]
  },
  {
   "cell_type": "code",
   "execution_count": 22,
   "id": "953bb39d",
   "metadata": {},
   "outputs": [
    {
     "data": {
      "image/png": "[encoded data removed]",
      "text/plain": [
       "<Figure size 300x300 with 1 Axes>"
      ]
     },
     "metadata": {},
     "output_type": "display_data"
    }
   ],
   "source": [
    "plt.figure(figsize=[3, 3])\n",
    "nx.draw(\n",
    "    G = G, \n",
    "    pos = node_pos, \n",
    "    with_labels = True, \n",
    "    node_size = nodelist['size'], \n",
    "    node_color = nodelist['color'], \n",
    "    width = edgelist['weight'], \n",
    "    edge_color = edgelist['color'], \n",
    "    style = edgelist['style']\n",
    ")"
   ]
  },
  {
   "cell_type": "markdown",
   "id": "7561d360",
   "metadata": {},
   "source": [
    "Still, it might be a good idea to internalize all attributes – to store them all of them in the graph object. For example, you may want to store graph and attributes in a pickle file to transfer a preprocessed graph to another notebook. One way to do so is to use `from_pandas_edgelist()` and add all edge attributes right away by setting `edge_attr = ['weight', 'color', 'style']`. You can still add one or many edge attributes after the graph has been populated with edges. Assuming that the edge attributes to be added reside in one or many edgelist columns, this requires some extra steps that are best put into a function:"
   ]
  },
  {
   "cell_type": "code",
   "execution_count": 23,
   "id": "152ba556",
   "metadata": {},
   "outputs": [],
   "source": [
    "def get_attr_values(df, type_of_list, attr, node='name', source='name_u', target='name_v'):\n",
    "    '''\n",
    "    Transforms one or multiple columns of a nodelist or edgelist into a dictionary that can be used to set the node or edge attributes of a graph.\n",
    "    \n",
    "    Parameters:\n",
    "        df : Pandas DataFrame\n",
    "            Nodelist or edgelist that contains the node or edge attributes.\n",
    "        type_of_list : String, either 'nodes' or 'edges'\n",
    "            To specify if attribute values should be created for nodes or edges.\n",
    "        attr : List\n",
    "            List containing the names of the columns in df that contain the attribute values.\n",
    "        name : String, only required if df is a 'nodes' type_of_list, default 'name'\n",
    "            Column name of the nodelist containing the node labels.\n",
    "        source : String, only required if df is an 'edges' type_of_list, default 'name_u'\n",
    "            Column name of the edgelist containing the source node labels.\n",
    "        target : String, only required if df is an 'edges' type_of_list, default 'name_v'\n",
    "            Column name of the edgelist containing the target node labels.\n",
    "    \n",
    "    Returns:\n",
    "        Dictionary with nodes or edges as keys and an attribute dictionary as values.\n",
    "    '''\n",
    "    df_ = df.copy()\n",
    "    df_ = pd.DataFrame([df_[attr].to_dict('records')]).T\n",
    "    if type_of_list == 'nodes':\n",
    "        df_.index = df[node]\n",
    "    if type_of_list == 'edges':\n",
    "        df_.index = list(zip(df[source], df[target]))\n",
    "    return list(df_.to_dict().values())[0]"
   ]
  },
  {
   "cell_type": "markdown",
   "id": "05acae8d",
   "metadata": {},
   "source": [
    "At this point, only the edge 'weight' attribute is internal to `G`. To internalize the 'color' and 'style' attributes, call the `get_attr_values()` function just created..."
   ]
  },
  {
   "cell_type": "code",
   "execution_count": 24,
   "id": "4626b89e",
   "metadata": {},
   "outputs": [
    {
     "data": {
      "text/plain": [
       "{('James', 'Kirk'): {'color': 'red', 'style': 'solid'},\n",
       " ('James', 'Lars'): {'color': 'green', 'style': 'dashed'},\n",
       " ('Kirk', 'Lars'): {'color': 'blue', 'style': 'dashed'}}"
      ]
     },
     "execution_count": 24,
     "metadata": {},
     "output_type": "execute_result"
    }
   ],
   "source": [
    "edge_attr = get_attr_values(df=edgelist, type_of_list='edges', attr=['color', 'style'])\n",
    "edge_attr"
   ]
  },
  {
   "cell_type": "markdown",
   "id": "340bfdc7",
   "metadata": {},
   "source": [
    "and use the returned dictionary as `values` in `set_edge_attributes()`:"
   ]
  },
  {
   "cell_type": "code",
   "execution_count": 25,
   "id": "339fc735",
   "metadata": {},
   "outputs": [],
   "source": [
    "nx.set_edge_attributes(G=G, values=edge_attr)"
   ]
  },
  {
   "cell_type": "code",
   "execution_count": 26,
   "id": "382e9322",
   "metadata": {},
   "outputs": [
    {
     "data": {
      "text/plain": [
       "EdgeDataView([('James', 'Kirk', {'weight': 1, 'color': 'red', 'style': 'solid'}), ('James', 'Lars', {'weight': 3, 'color': 'green', 'style': 'dashed'}), ('Kirk', 'Lars', {'weight': 5, 'color': 'blue', 'style': 'dashed'})])"
      ]
     },
     "execution_count": 26,
     "metadata": {},
     "output_type": "execute_result"
    }
   ],
   "source": [
    "G.edges(data=True)"
   ]
  },
  {
   "cell_type": "markdown",
   "id": "fb79593f",
   "metadata": {},
   "source": [
    "The `get_attr_values()` function also works for nodelists, and the resulting values are set accordingly:"
   ]
  },
  {
   "cell_type": "code",
   "execution_count": 27,
   "id": "8671628d",
   "metadata": {},
   "outputs": [
    {
     "data": {
      "text/plain": [
       "{'James': {'size': 500, 'color': 'red'},\n",
       " 'Kirk': {'size': 300, 'color': 'red'},\n",
       " 'Lars': {'size': 500, 'color': 'green'},\n",
       " 'Robert': {'size': 100, 'color': 'blue'}}"
      ]
     },
     "execution_count": 27,
     "metadata": {},
     "output_type": "execute_result"
    }
   ],
   "source": [
    "node_attr = get_attr_values(df=nodelist, type_of_list='nodes', attr=['size', 'color'])\n",
    "node_attr"
   ]
  },
  {
   "cell_type": "code",
   "execution_count": 28,
   "id": "d3f9356b",
   "metadata": {},
   "outputs": [
    {
     "data": {
      "text/plain": [
       "NodeDataView({'James': {'size': 500, 'color': 'red'}, 'Kirk': {'size': 300, 'color': 'red'}, 'Lars': {'size': 500, 'color': 'green'}, 'Robert': {'size': 100, 'color': 'blue'}})"
      ]
     },
     "execution_count": 28,
     "metadata": {},
     "output_type": "execute_result"
    }
   ],
   "source": [
    "nx.set_node_attributes(G=G, values=node_attr)\n",
    "G.nodes(data=True)"
   ]
  },
  {
   "cell_type": "markdown",
   "id": "bf7d1485",
   "metadata": {},
   "source": [
    "Finally, we can also add an attribute to the graph itself, usually just a description:"
   ]
  },
  {
   "cell_type": "code",
   "execution_count": 29,
   "id": "8225778f",
   "metadata": {},
   "outputs": [
    {
     "data": {
      "text/plain": [
       "{'name': 'Toy example'}"
      ]
     },
     "execution_count": 29,
     "metadata": {},
     "output_type": "execute_result"
    }
   ],
   "source": [
    "G.graph['name'] = 'Toy example'\n",
    "G.graph"
   ]
  },
  {
   "cell_type": "markdown",
   "id": "101941e0",
   "metadata": {},
   "source": [
    "To draw the network using the internalized attributes (all but the graph attribute), we must transform them to lists:"
   ]
  },
  {
   "cell_type": "code",
   "execution_count": 30,
   "id": "1a791e1d",
   "metadata": {},
   "outputs": [],
   "source": [
    "node_size = list(nx.get_node_attributes(G, 'size').values())\n",
    "node_color = list(nx.get_node_attributes(G, 'color').values())\n",
    "edge_weight = list(nx.get_edge_attributes(G, 'weight').values())\n",
    "edge_color = list(nx.get_edge_attributes(G, 'color').values())\n",
    "edge_style = list(nx.get_edge_attributes(G, 'style').values())"
   ]
  },
  {
   "cell_type": "code",
   "execution_count": 31,
   "id": "a6c99e3b",
   "metadata": {},
   "outputs": [
    {
     "data": {
      "image/png": "[encoded data removed]",
      "text/plain": [
       "<Figure size 300x300 with 1 Axes>"
      ]
     },
     "metadata": {},
     "output_type": "display_data"
    }
   ],
   "source": [
    "plt.figure(figsize=[3, 3])\n",
    "nx.draw(\n",
    "    G = G, \n",
    "    pos = node_pos, \n",
    "    with_labels = True, \n",
    "    node_size = node_size, \n",
    "    node_color = node_color, \n",
    "    width = edge_weight, \n",
    "    edge_color = edge_color, \n",
    "    style = edge_style\n",
    ")"
   ]
  },
  {
   "cell_type": "markdown",
   "id": "d7ca4700",
   "metadata": {},
   "source": [
    "Since the `node_pos`ition is not yet internalized yet, do so:"
   ]
  },
  {
   "cell_type": "code",
   "execution_count": 32,
   "id": "68b0373e",
   "metadata": {},
   "outputs": [],
   "source": [
    "nx.set_node_attributes(G=G, values=node_pos, name='pos')"
   ]
  },
  {
   "cell_type": "markdown",
   "id": "23a1eef8",
   "metadata": {},
   "source": [
    "Note that the input to the `pos` parameter in the `draw()` function must be (and is) a dictionary, not a list as for most other parameters."
   ]
  },
  {
   "cell_type": "markdown",
   "id": "39aa6ad8",
   "metadata": {},
   "source": [
    "<div class='alert alert-block alert-info'>\n",
    "<big><b>Insight: Nodes as labels or integers?</b></big>\n",
    "\n",
    "NetworkX can handle any definition of nodes, whether they are strings, integers, or even both. This makes NetworkX comfortable to use. But you may still want to use integers $\\{0, 1, ..., n\\}$ to specify your nodes in a more formal way where $n$ is the number of nodes. If you want that, you can use the index of your nodelist as node labels and use those integers in the edgelist. More information is [here](https://networkx.org/documentation/stable/tutorial.html#what-to-use-as-nodes-and-edges).\n",
    "</div>"
   ]
  },
  {
   "cell_type": "markdown",
   "id": "621b7cc6",
   "metadata": {},
   "source": [
    "### 5.1.4. The Copenhagen Networks Study interaction data\n",
    "\n",
    "The Copenhagen Networks Study (CNS) interaction dataset, publicly released in 2019, is a multilayer temporal network which connects a population of more than 700 university students over four weeks (Sapiezynski *et al.* 2019). The [story](https://researchdata.springernature.com/posts/57331-the-copenhagen-networks-study) behind the study is best explained by its principal investigator Sune Lehmann:\n",
    "\n",
    "> All the way back in 2012, my research group embarked on (what was then) a crazy project. Spearheading the data-collection aspect of a consortium of researchers from sociology, anthropology, economics, psychology, physics, and public health, we had purchased 1000 smartphones with the goal of distributing them to all 2013 freshmen at DTU.\n",
    "> \n",
    "> The idea was to use the smartphones as scientific measurement devices to sense the social networks among all the freshmen in unprecedented detail. With their continued consent and support, we measured physical proximity (who met face-to-face) with 5-minute time resolution, phone calls, text messages, and Facebook friendships. Alongside the network data, we also collected other data types: demographics, mobility, personality, etc.\n",
    "> \n",
    "> The technology we used had been pioneered at the MIT MediaLab, but what makes this project special is, first of all, the sheer size. One thousand people was almost an order of magnitude larger than any other scientific study using smartphones to measure social behavior. And to this day, this study remains the largest of its kind. Secondly, we had chosen the freshmen because they form a densely connected population with lots of social interactions. \n",
    "> \n",
    "> We are beyond excited to finally be able to share the network component of this data set freely with the scientific community. With our publication in Scientific Data, we’re releasing a month of network data, which we hope will enable exciting new modeling and simulation of multi-layer temporal networks.\n",
    "\n",
    "Even though all sociodemographic attributes but the binary sex of students could not be publicly released to protect student identities, the dataset is still one of the richest available. To obtain the data, download all ten files from [here](https://figshare.com/articles/dataset/The_Copenhagen_Networks_Study_interaction_data/7267433) and store them in the '../data/cns' directory that will be created in the following two code cells (if it does not exist already):"
   ]
  },
  {
   "cell_type": "code",
   "execution_count": 33,
   "id": "2b649ae2",
   "metadata": {},
   "outputs": [],
   "source": [
    "import os"
   ]
  },
  {
   "cell_type": "code",
   "execution_count": 34,
   "id": "890621db",
   "metadata": {},
   "outputs": [],
   "source": [
    "directory = '../data/cns'\n",
    "if not os.path.exists(directory):\n",
    "    os.makedirs(directory)"
   ]
  },
  {
   "cell_type": "markdown",
   "id": "35a7826e",
   "metadata": {},
   "source": [
    "<div class='alert alert-block alert-warning'>\n",
    "<b>Additional resources</b>\n",
    "\n",
    "Run the [Copenhagen_Networks_Study_Notebook](../data/cns/Copenhagen_Networks_Study_Notebook.ipynb) to learn how the data providers load the data and do some visualizations. To adapt the code to the newer NetworkX version we are using here, change line 20 in the `VisualizeBluetoothNetwork()` function from `connected_components = list(nx.connected_component_subgraphs(G))` to `connected_components = [G.subgraph(c) for c in nx.connected_components(G)]`.\n",
    "</div>\n",
    "\n",
    "<div class='alert alert-block alert-danger'>\n",
    "<b>Caution</b>\n",
    "\n",
    "An important check in constructing a network from a nodelist and an edgelist is to make sure that the node labels or identifiers in both tables match. The CNS dataset contains a 'genders.csv' file with a user label and a binary sex attribute. However, some students (users) for which social relations have been collected did not provide their sex or did not participate in the survey at all. Since these students are not listed in the 'genders.csv' file, a nodelist created from this file would not match the edgelists.\n",
    "</div>\n",
    "\n",
    "Therefore, we provide a complete nodelist in the following cell. The sex categories are 0: male; 1: female; 2: unknown."
   ]
  },
  {
   "cell_type": "code",
   "execution_count": 35,
   "id": "77c6645a",
   "metadata": {},
   "outputs": [
    {
     "data": {
      "text/html": [
       "<div>\n",
       "<style scoped>\n",
       "    .dataframe tbody tr th:only-of-type {\n",
       "        vertical-align: middle;\n",
       "    }\n",
       "\n",
       "    .dataframe tbody tr th {\n",
       "        vertical-align: top;\n",
       "    }\n",
       "\n",
       "    .dataframe thead th {\n",
       "        text-align: right;\n",
       "    }\n",
       "</style>\n",
       "<table border=\"1\" class=\"dataframe\">\n",
       "  <thead>\n",
       "    <tr style=\"text-align: right;\">\n",
       "      <th></th>\n",
       "      <th>user</th>\n",
       "      <th>sex</th>\n",
       "    </tr>\n",
       "  </thead>\n",
       "  <tbody>\n",
       "    <tr>\n",
       "      <th>0</th>\n",
       "      <td>0</td>\n",
       "      <td>0</td>\n",
       "    </tr>\n",
       "    <tr>\n",
       "      <th>1</th>\n",
       "      <td>1</td>\n",
       "      <td>2</td>\n",
       "    </tr>\n",
       "    <tr>\n",
       "      <th>2</th>\n",
       "      <td>2</td>\n",
       "      <td>0</td>\n",
       "    </tr>\n",
       "    <tr>\n",
       "      <th>3</th>\n",
       "      <td>3</td>\n",
       "      <td>0</td>\n",
       "    </tr>\n",
       "    <tr>\n",
       "      <th>4</th>\n",
       "      <td>4</td>\n",
       "      <td>0</td>\n",
       "    </tr>\n",
       "    <tr>\n",
       "      <th>...</th>\n",
       "      <td>...</td>\n",
       "      <td>...</td>\n",
       "    </tr>\n",
       "    <tr>\n",
       "      <th>840</th>\n",
       "      <td>845</td>\n",
       "      <td>0</td>\n",
       "    </tr>\n",
       "    <tr>\n",
       "      <th>841</th>\n",
       "      <td>846</td>\n",
       "      <td>0</td>\n",
       "    </tr>\n",
       "    <tr>\n",
       "      <th>842</th>\n",
       "      <td>847</td>\n",
       "      <td>1</td>\n",
       "    </tr>\n",
       "    <tr>\n",
       "      <th>843</th>\n",
       "      <td>848</td>\n",
       "      <td>2</td>\n",
       "    </tr>\n",
       "    <tr>\n",
       "      <th>844</th>\n",
       "      <td>850</td>\n",
       "      <td>2</td>\n",
       "    </tr>\n",
       "  </tbody>\n",
       "</table>\n",
       "<p>845 rows × 2 columns</p>\n",
       "</div>"
      ],
      "text/plain": [
       "     user  sex\n",
       "0       0    0\n",
       "1       1    2\n",
       "2       2    0\n",
       "3       3    0\n",
       "4       4    0\n",
       "..    ...  ...\n",
       "840   845    0\n",
       "841   846    0\n",
       "842   847    1\n",
       "843   848    2\n",
       "844   850    2\n",
       "\n",
       "[845 rows x 2 columns]"
      ]
     },
     "execution_count": 35,
     "metadata": {},
     "output_type": "execute_result"
    }
   ],
   "source": [
    "nodelist_cns = pd.DataFrame(data=[[0, 0], [1, 2], [2, 0], [3, 0], [4, 0], [5, 0], [6, 1], [7, 1], [8, 0], [9, 0], [10, 0], [11, 0], [12, 0], [13, 0], [14, 0], [15, 0], [16, 0], [17, 0], [18, 0], [19, 0], [20, 0], [21, 1], [22, 0], [23, 0], [24, 0], [25, 0], [26, 2], [27, 0], [28, 0], [29, 0], [30, 0], [31, 2], [32, 1], [33, 0], [34, 0], [35, 0], [36, 1], [37, 0], [38, 0], [39, 0], [40, 0], [41, 1], [42, 0], [43, 0], [44, 0], [45, 0], [46, 1], [47, 0], [48, 1], [49, 0], [50, 0], [51, 1], [52, 0], [53, 1], [54, 1], [55, 0], [56, 2], [57, 0], [58, 0], [59, 0], [60, 2], [61, 1], [62, 0], [63, 0], [64, 0], [65, 0], [66, 1], [67, 0], [68, 1], [69, 0], [70, 0], [71, 0], [72, 0], [73, 0], [74, 1], [75, 1], [76, 0], [77, 0], [78, 0], [79, 0], [80, 0], [81, 0], [82, 0], [83, 0], [84, 0], [85, 0], [86, 0], [87, 0], [88, 0], [89, 0], [90, 1], [91, 0], [92, 0], [93, 1], [94, 0], [95, 0], [96, 1], [97, 0], [98, 0], [99, 0], [100, 1], [101, 0], [102, 0], [103, 0], [104, 1], [105, 0], [106, 0], [107, 1], [108, 0], [109, 2], [110, 1], [111, 0], [112, 1], [113, 1], [114, 0], [115, 0], [116, 0], [117, 0], [118, 0], [119, 0], [120, 0], [121, 0], [122, 0], [123, 1], [124, 0], [125, 0], [126, 0], [127, 0], [128, 0], [129, 0], [130, 0], [131, 1], [132, 1], [133, 0], [134, 2], [135, 1], [136, 0], [137, 1], [138, 0], [139, 0], [140, 0], [141, 0], [142, 0], [143, 2], [144, 0], [145, 0], [146, 1], [147, 0], [148, 0], [149, 0], [150, 0], [151, 1], [152, 0], [153, 0], [154, 1], [155, 0], [156, 0], [157, 1], [158, 1], [159, 2], [160, 0], [161, 0], [162, 1], [163, 0], [164, 1], [165, 1], [166, 2], [167, 0], [168, 0], [169, 0], [170, 0], [171, 0], [172, 0], [173, 0], [174, 1], [175, 2], [176, 1], [177, 1], [178, 0], [179, 0], [180, 0], [181, 0], [182, 0], [183, 1], [184, 0], [185, 0], [186, 0], [187, 1], [188, 0], [189, 1], [190, 0], [191, 0], [192, 0], [193, 0], [194, 0], [195, 1], [196, 1], [197, 1], [198, 0], [199, 0], [200, 0], [201, 0], [202, 2], [203, 0], [204, 0], [205, 0], [206, 0], [207, 0], [208, 0], [209, 0], [210, 0], [211, 1], [212, 0], [213, 0], [214, 0], [215, 0], [216, 0], [217, 1], [218, 1], [219, 0], [220, 0], [221, 0], [222, 0], [223, 0], [224, 0], [225, 1], [226, 0], [227, 0], [228, 0], [229, 0], [230, 0], [231, 0], [232, 0], [233, 0], [234, 0], [235, 1], [236, 0], [237, 0], [238, 0], [239, 1], [240, 0], [241, 0], [242, 0], [243, 0], [244, 0], [245, 2], [246, 0], [247, 1], [248, 0], [249, 0], [250, 0], [251, 0], [252, 0], [253, 0], [254, 0], [255, 2], [256, 0], [257, 2], [258, 0], [259, 0], [260, 1], [261, 0], [262, 1], [263, 1], [264, 0], [265, 1], [266, 0], [267, 0], [268, 0], [269, 0], [270, 2], [271, 0], [272, 0], [273, 0], [274, 1], [275, 1], [276, 0], [277, 1], [278, 0], [279, 0], [280, 0], [281, 1], [282, 0], [283, 0], [284, 1], [285, 0], [286, 0], [287, 0], [288, 0], [289, 0], [290, 0], [291, 1], [292, 0], [293, 1], [294, 0], [295, 0], [296, 1], [297, 0], [298, 1], [299, 0], [300, 1], [301, 0], [302, 0], [303, 0], [304, 0], [305, 2], [306, 0], [307, 0], [308, 1], [309, 0], [310, 0], [311, 1], [312, 2], [313, 0], [314, 0], [315, 0], [316, 0], [317, 0], [318, 0], [319, 0], [320, 1], [321, 1], [322, 2], [323, 0], [324, 0], [325, 0], [326, 1], [327, 0], [328, 0], [329, 0], [330, 1], [331, 2], [332, 0], [333, 0], [334, 0], [335, 1], [336, 0], [337, 0], [338, 1], [339, 0], [340, 0], [341, 0], [342, 1], [343, 0], [344, 0], [345, 0], [346, 0], [347, 0], [348, 0], [349, 0], [350, 0], [351, 0], [352, 0], [353, 0], [354, 1], [355, 1], [356, 0], [357, 1], [358, 1], [359, 0], [360, 0], [361, 0], [362, 0], [363, 0], [364, 0], [365, 1], [366, 0], [367, 0], [368, 1], [369, 0], [370, 0], [371, 1], [372, 0], [373, 0], [374, 0], [375, 0], [376, 0], [377, 2], [378, 0], [379, 0], [380, 0], [381, 0], [382, 0], [383, 1], [384, 0], [385, 0], [386, 0], [387, 0], [388, 0], [389, 0], [390, 0], [391, 0], [392, 0], [393, 0], [394, 1], [395, 1], [396, 0], [397, 0], [398, 0], [399, 0], [400, 0], [401, 0], [402, 0], [403, 0], [404, 1], [405, 1], [406, 0], [407, 0], [408, 0], [409, 0], [410, 0], [411, 0], [412, 0], [413, 0], [414, 1], [415, 1], [416, 1], [417, 0], [418, 0], [419, 0], [420, 0], [421, 0], [422, 0], [423, 0], [424, 0], [425, 0], [426, 0], [427, 0], [428, 0], [429, 0], [430, 0], [431, 0], [432, 0], [433, 0], [434, 0], [435, 0], [436, 0], [437, 0], [438, 0], [439, 1], [440, 0], [441, 0], [442, 0], [443, 1], [444, 0], [445, 0], [446, 0], [447, 0], [448, 0], [449, 0], [450, 0], [451, 0], [452, 2], [453, 0], [454, 2], [455, 0], [456, 0], [457, 0], [458, 2], [459, 0], [460, 0], [461, 0], [462, 0], [463, 0], [464, 1], [465, 0], [466, 0], [467, 0], [468, 0], [469, 1], [470, 1], [471, 1], [472, 0], [473, 0], [474, 0], [475, 0], [476, 1], [477, 1], [478, 0], [479, 0], [480, 0], [481, 1], [482, 0], [483, 0], [484, 1], [485, 0], [486, 1], [487, 0], [488, 0], [489, 0], [490, 0], [491, 0], [492, 0], [493, 0], [494, 0], [495, 0], [496, 0], [497, 1], [498, 0], [499, 1], [500, 0], [501, 0], [502, 0], [503, 0], [504, 0], [505, 0], [506, 0], [507, 1], [508, 0], [509, 0], [510, 0], [511, 0], [512, 1], [513, 0], [514, 0], [515, 0], [516, 0], [517, 0], [518, 0], [519, 0], [520, 0], [521, 1], [522, 0], [523, 0], [524, 1], [525, 1], [526, 0], [527, 0], [528, 1], [529, 1], [530, 0], [531, 0], [532, 0], [533, 0], [534, 0], [535, 0], [536, 0], [537, 0], [538, 0], [539, 0], [540, 0], [541, 0], [542, 2], [543, 0], [544, 0], [545, 1], [546, 1], [547, 0], [548, 0], [549, 0], [550, 1], [551, 0], [552, 0], [553, 0], [554, 0], [555, 1], [556, 1], [557, 1], [558, 1], [559, 0], [560, 0], [561, 0], [562, 1], [563, 0], [564, 0], [565, 0], [566, 2], [567, 0], [568, 0], [569, 1], [570, 0], [571, 1], [572, 0], [573, 0], [574, 0], [575, 0], [576, 0], [577, 2], [578, 0], [579, 0], [580, 0], [581, 0], [582, 0], [583, 0], [584, 0], [585, 0], [586, 0], [587, 0], [588, 1], [589, 1], [590, 0], [591, 0], [592, 0], [593, 0], [594, 0], [595, 0], [596, 0], [597, 0], [598, 0], [599, 0], [600, 1], [601, 0], [602, 0], [603, 0], [604, 2], [605, 2], [606, 2], [607, 0], [608, 0], [609, 2], [610, 0], [611, 1], [612, 0], [613, 0], [614, 1], [615, 1], [616, 0], [617, 1], [618, 2], [619, 0], [620, 0], [621, 0], [622, 1], [623, 0], [624, 0], [625, 1], [626, 0], [627, 0], [628, 0], [629, 0], [630, 0], [631, 0], [632, 0], [633, 1], [634, 1], [635, 0], [636, 0], [637, 0], [638, 0], [639, 0], [640, 0], [641, 0], [642, 0], [643, 0], [644, 0], [645, 1], [646, 0], [647, 0], [648, 0], [649, 0], [650, 0], [651, 1], [652, 1], [653, 0], [654, 0], [655, 0], [656, 0], [657, 0], [658, 0], [659, 0], [660, 0], [661, 0], [662, 0], [663, 0], [664, 0], [665, 0], [666, 1], [667, 0], [668, 0], [669, 0], [670, 0], [671, 0], [672, 0], [673, 0], [674, 0], [675, 2], [676, 0], [677, 1], [678, 0], [679, 0], [680, 0], [681, 0], [682, 1], [683, 0], [684, 1], [685, 0], [686, 0], [687, 0], [688, 2], [689, 0], [690, 0], [691, 0], [692, 0], [693, 0], [694, 0], [695, 0], [696, 0], [697, 0], [698, 0], [699, 0], [700, 1], [701, 1], [702, 0], [703, 0], [704, 0], [705, 1], [706, 0], [707, 1], [709, 1], [710, 0], [711, 0], [712, 1], [713, 2], [714, 0], [715, 0], [716, 0], [717, 0], [718, 0], [719, 0], [720, 1], [721, 0], [722, 1], [723, 0], [724, 0], [725, 0], [726, 0], [727, 0], [728, 0], [729, 0], [730, 1], [732, 2], [733, 0], [734, 0], [735, 1], [736, 0], [737, 0], [738, 0], [739, 0], [740, 0], [741, 0], [742, 0], [743, 1], [744, 0], [745, 0], [746, 2], [747, 2], [748, 2], [749, 2], [750, 0], [751, 0], [752, 1], [753, 0], [754, 0], [755, 2], [756, 0], [757, 0], [758, 0], [759, 0], [760, 0], [761, 0], [762, 0], [763, 0], [764, 0], [765, 1], [766, 1], [767, 0], [768, 1], [769, 1], [770, 1], [771, 0], [772, 1], [773, 2], [774, 0], [775, 0], [776, 1], [777, 1], [778, 2], [780, 1], [781, 0], [782, 0], [783, 0], [784, 0], [785, 0], [786, 0], [788, 2], [789, 2], [790, 1], [791, 1], [792, 0], [793, 0], [794, 2], [795, 0], [796, 2], [797, 2], [798, 0], [799, 0], [800, 0], [801, 0], [802, 0], [803, 1], [804, 0], [805, 0], [806, 2], [807, 0], [808, 0], [809, 1], [810, 0], [811, 2], [812, 1], [813, 0], [814, 0], [815, 0], [816, 0], [817, 0], [818, 0], [819, 1], [820, 1], [822, 0], [823, 0], [824, 0], [825, 0], [826, 1], [827, 0], [828, 0], [829, 2], [830, 0], [831, 0], [832, 1], [833, 0], [834, 0], [835, 0], [836, 2], [837, 2], [838, 0], [839, 1], [840, 0], [841, 1], [842, 2], [843, 2], [844, 2], [845, 0], [846, 0], [847, 1], [848, 2], [850, 2]], columns=['user', 'sex'])\n",
    "nodelist_cns"
   ]
  },
  {
   "cell_type": "markdown",
   "id": "4e0fa406",
   "metadata": {},
   "source": [
    "The 'user' column holds the labels used in all four edgelists, and we will use these in the standard NetworkX way (labels not integers).\n",
    "\n",
    "The dataset provides four types of social relations. Reading the README file of the Facebook friendship edges tells us that they are undirected and unweighted:"
   ]
  },
  {
   "cell_type": "code",
   "execution_count": 36,
   "id": "19af226e",
   "metadata": {},
   "outputs": [
    {
     "name": "stdout",
     "output_type": "stream",
     "text": [
      "column names:\n",
      "\t- user A\n",
      "\t- user B\n",
      "\n",
      "Edge lists of all declared facebook friendships which were formed before the end of the observation and not dissolved until after the end of the observation.\n",
      "\n"
     ]
    }
   ],
   "source": [
    "file = open('../data/cns/fb_friends.README', 'r')\n",
    "print(file.read())\n",
    "file.close()"
   ]
  },
  {
   "cell_type": "code",
   "execution_count": 37,
   "id": "3145faf4",
   "metadata": {},
   "outputs": [
    {
     "data": {
      "text/html": [
       "<div>\n",
       "<style scoped>\n",
       "    .dataframe tbody tr th:only-of-type {\n",
       "        vertical-align: middle;\n",
       "    }\n",
       "\n",
       "    .dataframe tbody tr th {\n",
       "        vertical-align: top;\n",
       "    }\n",
       "\n",
       "    .dataframe thead th {\n",
       "        text-align: right;\n",
       "    }\n",
       "</style>\n",
       "<table border=\"1\" class=\"dataframe\">\n",
       "  <thead>\n",
       "    <tr style=\"text-align: right;\">\n",
       "      <th></th>\n",
       "      <th># user_a</th>\n",
       "      <th>user_b</th>\n",
       "    </tr>\n",
       "  </thead>\n",
       "  <tbody>\n",
       "    <tr>\n",
       "      <th>0</th>\n",
       "      <td>0</td>\n",
       "      <td>512</td>\n",
       "    </tr>\n",
       "    <tr>\n",
       "      <th>1</th>\n",
       "      <td>0</td>\n",
       "      <td>263</td>\n",
       "    </tr>\n",
       "    <tr>\n",
       "      <th>2</th>\n",
       "      <td>0</td>\n",
       "      <td>525</td>\n",
       "    </tr>\n",
       "    <tr>\n",
       "      <th>3</th>\n",
       "      <td>0</td>\n",
       "      <td>285</td>\n",
       "    </tr>\n",
       "    <tr>\n",
       "      <th>4</th>\n",
       "      <td>0</td>\n",
       "      <td>543</td>\n",
       "    </tr>\n",
       "    <tr>\n",
       "      <th>...</th>\n",
       "      <td>...</td>\n",
       "      <td>...</td>\n",
       "    </tr>\n",
       "    <tr>\n",
       "      <th>6424</th>\n",
       "      <td>510</td>\n",
       "      <td>737</td>\n",
       "    </tr>\n",
       "    <tr>\n",
       "      <th>6425</th>\n",
       "      <td>510</td>\n",
       "      <td>763</td>\n",
       "    </tr>\n",
       "    <tr>\n",
       "      <th>6426</th>\n",
       "      <td>255</td>\n",
       "      <td>566</td>\n",
       "    </tr>\n",
       "    <tr>\n",
       "      <th>6427</th>\n",
       "      <td>255</td>\n",
       "      <td>605</td>\n",
       "    </tr>\n",
       "    <tr>\n",
       "      <th>6428</th>\n",
       "      <td>255</td>\n",
       "      <td>507</td>\n",
       "    </tr>\n",
       "  </tbody>\n",
       "</table>\n",
       "<p>6429 rows × 2 columns</p>\n",
       "</div>"
      ],
      "text/plain": [
       "      # user_a  user_b\n",
       "0            0     512\n",
       "1            0     263\n",
       "2            0     525\n",
       "3            0     285\n",
       "4            0     543\n",
       "...        ...     ...\n",
       "6424       510     737\n",
       "6425       510     763\n",
       "6426       255     566\n",
       "6427       255     605\n",
       "6428       255     507\n",
       "\n",
       "[6429 rows x 2 columns]"
      ]
     },
     "execution_count": 37,
     "metadata": {},
     "output_type": "execute_result"
    }
   ],
   "source": [
    "edgelist_cns_fb = pd.read_csv('../data/cns/fb_friends.csv')\n",
    "edgelist_cns_fb"
   ]
  },
  {
   "cell_type": "markdown",
   "id": "dfbcd528",
   "metadata": {},
   "source": [
    "Populate an undirected simple graph `from_pandas_edgelist()` (lines 1–6), potentially add the missing nodes by adding the full nodelist (line 7), and internalize the 'sex' node attribute (lines 8–9):"
   ]
  },
  {
   "cell_type": "code",
   "execution_count": 38,
   "id": "4ea835c5",
   "metadata": {},
   "outputs": [],
   "source": [
    "G_cns_fb = nx.from_pandas_edgelist(\n",
    "    df = edgelist_cns_fb, \n",
    "    source = '# user_a', \n",
    "    target = 'user_b', \n",
    "    create_using = nx.Graph\n",
    ")\n",
    "#G_cns_fb.add_nodes_from(nodelist_cns['user'])\n",
    "node_attr_sex = get_attr_values(df=nodelist_cns, type_of_list='nodes', attr=['sex'], node='user')\n",
    "nx.set_node_attributes(G=G_cns_fb, values=node_attr_sex)"
   ]
  },
  {
   "cell_type": "markdown",
   "id": "a2339313",
   "metadata": {},
   "source": [
    "For some reason the friendship graph contains self-loops (*i.e.*, some students are friends with themselves). Before drawing the network, remove those loops:"
   ]
  },
  {
   "cell_type": "code",
   "execution_count": 39,
   "id": "248d6516",
   "metadata": {},
   "outputs": [],
   "source": [
    "G_cns_fb.remove_edges_from(nx.selfloop_edges(G=G_cns_fb))"
   ]
  },
  {
   "cell_type": "markdown",
   "id": "c8e78a4a",
   "metadata": {},
   "source": [
    "'sex' attributes are integer values. To control which color is used for these values, store the node attributes in a list (line 1), define a dictionary that maps integers to colors (line 2), and create a list of color strings using this dictionary in list comprehension (line 3):"
   ]
  },
  {
   "cell_type": "code",
   "execution_count": 40,
   "id": "8f9905bd",
   "metadata": {},
   "outputs": [],
   "source": [
    "node_color_cns_fb = list(nx.get_node_attributes(G=G_cns_fb, name='sex').values())\n",
    "color_dict = {0: 'red', 1: 'green', 2: 'blue'}\n",
    "node_color_cns_fb = [color_dict[color] for color in node_color_cns_fb]"
   ]
  },
  {
   "cell_type": "code",
   "execution_count": 41,
   "id": "4bfd52b5",
   "metadata": {},
   "outputs": [],
   "source": [
    "node_pos_cns_fb = nx.spring_layout(G=G_cns_fb)"
   ]
  },
  {
   "cell_type": "code",
   "execution_count": 42,
   "id": "3dd055f2",
   "metadata": {},
   "outputs": [
    {
     "data": {
      "image/png": "[encoded data removed]",
      "text/plain": [
       "<Figure size 300x300 with 1 Axes>"
      ]
     },
     "metadata": {},
     "output_type": "display_data"
    }
   ],
   "source": [
    "plt.figure(figsize=[3, 3])\n",
    "nx.draw(\n",
    "    G = G_cns_fb, \n",
    "    pos = node_pos_cns_fb, \n",
    "    node_size = 5, \n",
    "    node_color = node_color_cns_fb, \n",
    "    edge_color = 'gray'\n",
    ")"
   ]
  },
  {
   "cell_type": "code",
   "execution_count": 43,
   "id": "28c72ba3",
   "metadata": {},
   "outputs": [
    {
     "ename": "NameError",
     "evalue": "name 'lax' is not defined",
     "output_type": "error",
     "traceback": [
      "\u001b[1;31m---------------------------------------------------------------------------\u001b[0m",
      "\u001b[1;31mNameError\u001b[0m                                 Traceback (most recent call last)",
      "\u001b[1;32m~\\AppData\\Local\\Temp\\ipykernel_20732\\2865556855.py\u001b[0m in \u001b[0;36m<module>\u001b[1;34m\u001b[0m\n\u001b[1;32m----> 1\u001b[1;33m \u001b[0mlax\u001b[0m\u001b[1;33m\u001b[0m\u001b[1;33m\u001b[0m\u001b[0m\n\u001b[0m",
      "\u001b[1;31mNameError\u001b[0m: name 'lax' is not defined"
     ]
    }
   ],
   "source": [
    "lax"
   ]
  },
  {
   "cell_type": "markdown",
   "id": "627abf7d",
   "metadata": {},
   "source": [
    "## 5.2. Multilayer networks\n",
    "\n",
    "Meaning of multiple layers ... literature\n",
    "\n",
    "Here, just one type of multilayer network: edge-colored multigraph (Artime et al. 2022, p.9)\n",
    "\n",
    "In NetworkX, this is realized by creating parallel edges ...\n",
    "\n",
    "...\n",
    "\n",
    "Two layers from CNS: calls and SMS ... directed edges\n",
    "\n",
    "Add an edge attribute for the layer and combine both edge lists into one.\n",
    "\n",
    "...\n",
    "\n",
    "1st week"
   ]
  },
  {
   "cell_type": "code",
   "execution_count": null,
   "id": "97c7116e",
   "metadata": {},
   "outputs": [],
   "source": [
    "edgelist_cns_calls = pd.read_csv('../data/cns/calls.csv')\n",
    "edgelist_cns_calls"
   ]
  },
  {
   "cell_type": "code",
   "execution_count": null,
   "id": "f10c5dba",
   "metadata": {},
   "outputs": [],
   "source": [
    "print(open('../data/cns/calls.README', 'r').read())"
   ]
  },
  {
   "cell_type": "code",
   "execution_count": null,
   "id": "291756ae",
   "metadata": {},
   "outputs": [],
   "source": [
    "# Remove missed calls\n",
    "edgelist_cns_calls = edgelist_cns_calls[edgelist_cns_calls['duration'] > 0]"
   ]
  },
  {
   "cell_type": "code",
   "execution_count": null,
   "id": "83945c4a",
   "metadata": {},
   "outputs": [],
   "source": [
    "edgelist_cns_sms = pd.read_csv('../data/cns/sms.csv')\n",
    "edgelist_cns_sms"
   ]
  },
  {
   "cell_type": "code",
   "execution_count": null,
   "id": "5fec4990",
   "metadata": {},
   "outputs": [],
   "source": [
    "print(open('../data/cns/sms.README', 'r').read())"
   ]
  },
  {
   "cell_type": "markdown",
   "id": "f7da5393",
   "metadata": {},
   "source": [
    "Timestamps are seconds after beginning of experiment ... First week ends after $60*60*24*7=604800$ seconds. ... As edge weights we want to use the summed durations and numbers of short messages, respectively. That means, we use the `sum` function when aggregating edges:"
   ]
  },
  {
   "cell_type": "code",
   "execution_count": null,
   "id": "a0fe7cb0",
   "metadata": {},
   "outputs": [],
   "source": [
    "edgelist_cns_calls_week1, _ = aggregate_edges(\n",
    "    df=edgelist_cns_calls, \n",
    "    time='timestamp', \n",
    "    source='caller', \n",
    "    target='callee', \n",
    "    weight='duration', \n",
    "    time_zero=0, \n",
    "    time_window=604800, \n",
    "    fun='sum', \n",
    "    directed=True\n",
    ")"
   ]
  },
  {
   "cell_type": "code",
   "execution_count": null,
   "id": "65daac74",
   "metadata": {},
   "outputs": [],
   "source": [
    "edgelist_cns_calls_week1"
   ]
  },
  {
   "cell_type": "markdown",
   "id": "fb852714",
   "metadata": {},
   "source": [
    "No weight for short messages, set to None, function sets a 1 ..."
   ]
  },
  {
   "cell_type": "code",
   "execution_count": null,
   "id": "9a7a54f6",
   "metadata": {},
   "outputs": [],
   "source": [
    "edgelist_cns_sms_week1, _ = aggregate_edges(\n",
    "    df=edgelist_cns_sms, \n",
    "    time='timestamp', \n",
    "    source='sender', \n",
    "    target='recipient', \n",
    "    weight=None, \n",
    "    time_zero=0, \n",
    "    time_window=604800, \n",
    "    fun='sum', \n",
    "    directed=True\n",
    ")"
   ]
  },
  {
   "cell_type": "code",
   "execution_count": null,
   "id": "ae6e08b8",
   "metadata": {},
   "outputs": [],
   "source": [
    "edgelist_cns_sms_week1"
   ]
  },
  {
   "cell_type": "markdown",
   "id": "d71199d0",
   "metadata": {},
   "source": [
    "Edge weights for calls and short messages differ in an order of magnitude:"
   ]
  },
  {
   "cell_type": "code",
   "execution_count": null,
   "id": "fdf7393d",
   "metadata": {},
   "outputs": [],
   "source": [
    "edgelist_cns_calls_week1['duration'].max()"
   ]
  },
  {
   "cell_type": "code",
   "execution_count": null,
   "id": "48e9a9fd",
   "metadata": {},
   "outputs": [],
   "source": [
    "edgelist_cns_sms_week1['weight'].max()"
   ]
  },
  {
   "cell_type": "markdown",
   "id": "883097ba",
   "metadata": {},
   "source": [
    "Therefore, we take the natural logarithm of both scores. For this, we need the NumPy scientific computing package:"
   ]
  },
  {
   "cell_type": "code",
   "execution_count": null,
   "id": "02bc0570",
   "metadata": {},
   "outputs": [],
   "source": [
    "import numpy as np"
   ]
  },
  {
   "cell_type": "code",
   "execution_count": null,
   "id": "a94b6a54",
   "metadata": {},
   "outputs": [],
   "source": [
    "edgelist_cns_calls_week1['duration'] = round(np.log(edgelist_cns_calls_week1['duration']) + 1, 2)\n",
    "edgelist_cns_sms_week1['weight'] = round(np.log(edgelist_cns_sms_week1['weight']) + 1, 2)"
   ]
  },
  {
   "cell_type": "markdown",
   "id": "16ad30b7",
   "metadata": {},
   "source": [
    "Before combining both edgelists into one, we harmonize their column names:"
   ]
  },
  {
   "cell_type": "code",
   "execution_count": null,
   "id": "ab35ba70",
   "metadata": {},
   "outputs": [],
   "source": [
    "edgelist_cns_calls_week1.columns = ['source', 'target', 'weight']\n",
    "edgelist_cns_sms_week1.columns = ['source', 'target', 'weight']"
   ]
  },
  {
   "cell_type": "markdown",
   "id": "21fe95c5",
   "metadata": {},
   "source": [
    "Finally, we add layer attributes:"
   ]
  },
  {
   "cell_type": "code",
   "execution_count": null,
   "id": "ccb0c150",
   "metadata": {},
   "outputs": [],
   "source": [
    "edgelist_cns_calls_week1['layer'] = 0\n",
    "edgelist_cns_sms_week1['layer'] = 1"
   ]
  },
  {
   "cell_type": "markdown",
   "id": "4e1055e6",
   "metadata": {},
   "source": [
    "Now that the two edge lists are ready, we concatenate them, resetting the index and dropping the old indices:"
   ]
  },
  {
   "cell_type": "code",
   "execution_count": null,
   "id": "956688bf",
   "metadata": {},
   "outputs": [],
   "source": [
    "edgelist_cns_mobile_week1 = pd.concat([edgelist_cns_calls_week1, edgelist_cns_sms_week1]).reset_index(drop=True)\n",
    "edgelist_cns_mobile_week1"
   ]
  },
  {
   "cell_type": "markdown",
   "id": "40479225",
   "metadata": {},
   "source": [
    "Use two parameters in `from_pandas_edgelist()` function ..."
   ]
  },
  {
   "cell_type": "code",
   "execution_count": null,
   "id": "57a95301",
   "metadata": {},
   "outputs": [],
   "source": [
    "G_cns_mobile_week1 = nx.from_pandas_edgelist(\n",
    "    df=edgelist_cns_mobile_week1, \n",
    "    source='source', \n",
    "    target='target', \n",
    "    edge_attr='weight', \n",
    "    create_using=nx.MultiDiGraph, \n",
    "    edge_key='layer'\n",
    ")"
   ]
  },
  {
   "cell_type": "markdown",
   "id": "572f9880",
   "metadata": {},
   "source": [
    "Inspect the edges ... `keys=True` ... third integer is the layer attribute"
   ]
  },
  {
   "cell_type": "code",
   "execution_count": null,
   "id": "de05c201",
   "metadata": {},
   "outputs": [],
   "source": [
    "G_cns_mobile_week1.edges(data=True, keys=True)"
   ]
  },
  {
   "cell_type": "markdown",
   "id": "5322f0f3",
   "metadata": {},
   "source": [
    "Alternatively:"
   ]
  },
  {
   "cell_type": "code",
   "execution_count": null,
   "id": "f6904b1d",
   "metadata": {},
   "outputs": [],
   "source": [
    "G_cns_mobile_week1.edges.keys()"
   ]
  },
  {
   "cell_type": "markdown",
   "id": "cf0c3319",
   "metadata": {},
   "source": [
    "Again we draw the network using the `draw()` method attached to the graph object:"
   ]
  },
  {
   "cell_type": "code",
   "execution_count": null,
   "id": "4cd06e17",
   "metadata": {},
   "outputs": [],
   "source": [
    "plt.figure(figsize=(8, 8))\n",
    "nx.draw(\n",
    "    G=G_cns_mobile_week1, \n",
    "    #pos=pos_cns_mobile_week1, \n",
    "    node_size=20, \n",
    "    width=[strength/5. for strength in list(nx.get_edge_attributes(G_cns_mobile_week1, 'weight').values())], \n",
    "    edge_color=[key for (u, v, key) in G_cns_mobile_week1.edges.keys()]\n",
    ")"
   ]
  },
  {
   "cell_type": "markdown",
   "id": "f4ff3a51",
   "metadata": {},
   "source": [
    "BOX: other types of multilayer networks and toolkits"
   ]
  },
  {
   "cell_type": "markdown",
   "id": "1bb31877",
   "metadata": {},
   "source": [
    "## 5.3. Drawing networks\n",
    "\n",
    "The `draw()` method is not convincing for all purposes (e.g., multilayer networks). `draw()` is a so-called wrapper that calls multiple methods to draw nodes, links, and labels step by step. But the wrapper does not unlock the full potential of NetworkX. We will go beyond what the wrapper can do in the following steps. First, we want to influence they way nodes are positioned. There are a few layouting algorithms, and we start with **spring embedding**. From the NetworkX [documentation](https://networkx.org/documentation/stable/reference/generated/networkx.drawing.layout.spring_layout.html):\n",
    "\n",
    "> The algorithm simulates a force-directed representation of the network treating edges as springs holding nodes close, while treating nodes as repelling objects, sometimes called an anti-gravity force. Simulation continues until the positions are close to an equilibrium.\n",
    "\n",
    "The result of such an algorithm is the placing of nodes in a usually 2-dimensional space where axes have no interpretable meaning. The spring embedder used in NetworkX by default was developed by Fruchterman and Reingold:"
   ]
  },
  {
   "cell_type": "code",
   "execution_count": null,
   "id": "e15b0762",
   "metadata": {},
   "outputs": [],
   "source": [
    "# https://stackoverflow.com/questions/14943439/how-to-draw-multigraph-in-networkx-using-matplotlib-or-graphviz"
   ]
  },
  {
   "cell_type": "code",
   "execution_count": null,
   "id": "b426cfca",
   "metadata": {},
   "outputs": [],
   "source": [
    "pos_cns_mobile_week1 = nx.spring_layout(G_cns_mobile_week1) # Same as nx.fruchterman_reingold_layout(G_cns_mobile_week1)"
   ]
  },
  {
   "cell_type": "code",
   "execution_count": null,
   "id": "05692c3d",
   "metadata": {},
   "outputs": [],
   "source": [
    "nx.draw(\n",
    "    G=G_cns_mobile_week1, \n",
    "    pos=pos_cns_mobile_week1, \n",
    "    node_size=20\n",
    ")"
   ]
  },
  {
   "cell_type": "markdown",
   "id": "8a2748b8",
   "metadata": {},
   "source": [
    "To move on with our discussion, we introduce the graph-theoretical concept of the [connected component](https://en.wikipedia.org/wiki/Component_(graph_theory)), a subgraph in which the nodes are reachable via edges. Since we are dealing with a directed graph, there are two kind of components. In a strongly connected component, all nodes are mutually reachable taking the direction of edges into account. In a weakly connected component, they are reachable not taking edge directions info account. NetworkX provides functions for [strong](https://networkx.org/documentation/stable/reference/algorithms/component.html#strong-connectivity) and [weak](https://networkx.org/documentation/stable/reference/algorithms/component.html#weak-connectivity) connectivity.\n",
    "\n",
    "Since nodes repell each other, the spring embedder has a desirable result: Components are not drawn on top of each other. We see that the largest component is depicted in the center of the figure, and smaller components are drawn to the periphery. However, there are also many very long edges, and it is not clear to which component the belong. Hence, our first step is to only draw the largest component: the large weakly connected component in the center of the figure.\n",
    "\n",
    "The whole graph is not weakly connected:"
   ]
  },
  {
   "cell_type": "code",
   "execution_count": null,
   "id": "1b46b55f",
   "metadata": {},
   "outputs": [],
   "source": [
    "nx.is_weakly_connected(G_cns_mobile_week1)"
   ]
  },
  {
   "cell_type": "markdown",
   "id": "63ef2a3e",
   "metadata": {},
   "source": [
    "There are that many weakly connected components:"
   ]
  },
  {
   "cell_type": "code",
   "execution_count": null,
   "id": "be8715f4",
   "metadata": {},
   "outputs": [],
   "source": [
    "nx.number_weakly_connected_components(G_cns_mobile_week1)"
   ]
  },
  {
   "cell_type": "markdown",
   "id": "3258a2b3",
   "metadata": {},
   "source": [
    "This is the ordered list of node sets that make up those components (the largest comes first):"
   ]
  },
  {
   "cell_type": "code",
   "execution_count": null,
   "id": "68ad64e8",
   "metadata": {},
   "outputs": [],
   "source": [
    "l_wcc = sorted(nx.weakly_connected_components(G_cns_mobile_week1), key=len, reverse=True)\n",
    "l_wcc"
   ]
  },
  {
   "cell_type": "markdown",
   "id": "6476b9af",
   "metadata": {},
   "source": [
    "We can extract the largest weakly connected component from the graph by using the `subgraph()` method on the original graph, extracting the first node set in the list:"
   ]
  },
  {
   "cell_type": "code",
   "execution_count": null,
   "id": "d661946c",
   "metadata": {},
   "outputs": [],
   "source": [
    "G_cns_mobile_week1_lwcc = G_cns_mobile_week1.subgraph(l_wcc[0])"
   ]
  },
  {
   "cell_type": "code",
   "execution_count": null,
   "id": "dd785b45",
   "metadata": {},
   "outputs": [],
   "source": [
    "nx.draw(\n",
    "    G=G_cns_mobile_week1_lwcc, \n",
    "    pos=pos_cns_mobile_week1, \n",
    "    node_size=20\n",
    ")"
   ]
  },
  {
   "cell_type": "markdown",
   "id": "ae36e923",
   "metadata": {},
   "source": [
    "The [Fruchterman-Reingold algorithm](https://networkx.org/documentation/stable/reference/generated/networkx.drawing.layout.spring_layout.html) has a few parameters that we must know when layouting a graph. First of all, the `weight` of edges is assumed to be stored as an edge attribute called 'weight'. Since this is true in our case, we do not have to specify it manually (if you do not want to use edge weights, set `weight=None`). Parameter `k` can be changed to influence the distance between nodes. The number of `iterations` can be tuned when layouts have not converged yet to an equilibrium which can be the case when graphs are large. Finally, layouting can be initialized with an existing layout, specified by the `pos`parameter, to have visual continuity.\n",
    "\n",
    "Now experiment with changing parameter settings:"
   ]
  },
  {
   "cell_type": "code",
   "execution_count": null,
   "id": "cc1a902b",
   "metadata": {},
   "outputs": [],
   "source": [
    "pos_cns_mobile_week1_lwcc = nx.spring_layout(\n",
    "    G=G_cns_mobile_week1_lwcc, \n",
    "    k=None, # (default=None)\n",
    "    pos=pos_cns_mobile_week1, # (default=None)\n",
    "    iterations=50, # (default=50)\n",
    "    weight='weight' # (default='weight')\n",
    ")\n",
    "\n",
    "nx.draw(\n",
    "    G=G_cns_mobile_week1_lwcc, \n",
    "    pos=pos_cns_mobile_week1_lwcc, \n",
    "    node_size=20\n",
    ")"
   ]
  },
  {
   "cell_type": "markdown",
   "id": "5e91d2dd",
   "metadata": {},
   "source": [
    "CHECK https://networkx.org/documentation/stable/reference/generated/networkx.drawing.nx_agraph.graphviz_layout.html AND OTHER LAYOUTS\n",
    "\n",
    "Are you also not quite happy with the result? Nodes in clusters tend to be placed on top of each other and there are some very long edge that confuse the whole picture. Let us try another standard layout algorithm. The [algorithm by Kamada and Kawai](https://networkx.org/documentation/stable/reference/generated/networkx.drawing.layout.kamada_kawai_layout.html) discards edge directions and places nodes far away from each other if they are connected by long sequences of edges, but it layouts component by component and stacks them all on top of each other:"
   ]
  },
  {
   "cell_type": "code",
   "execution_count": null,
   "id": "eecfda71",
   "metadata": {},
   "outputs": [],
   "source": [
    "nx.draw(\n",
    "    G=G_cns_mobile_week1, \n",
    "    pos=nx.kamada_kawai_layout(G_cns_mobile_week1), \n",
    "    node_size=20\n",
    ")"
   ]
  },
  {
   "cell_type": "markdown",
   "id": "56bb11ea",
   "metadata": {},
   "source": [
    "Hence, we use the algorithm on the largest component. The algorithm hardly requires parameter tuning, although there are [options](https://networkx.org/documentation/stable/reference/generated/networkx.drawing.layout.kamada_kawai_layout.html)."
   ]
  },
  {
   "cell_type": "code",
   "execution_count": null,
   "id": "c744f4f1",
   "metadata": {},
   "outputs": [],
   "source": [
    "pos_cns_mobile_week1_lwcc = nx.kamada_kawai_layout(\n",
    "    G=G_cns_mobile_week1_lwcc, \n",
    "    #pos=pos_cns_mobile_week1, # (default=None)\n",
    "    weight='weight' # (default='weight')\n",
    ")\n",
    "\n",
    "nx.draw(\n",
    "    G=G_cns_mobile_week1_lwcc, \n",
    "    pos=pos_cns_mobile_week1_lwcc, \n",
    "    node_size=20\n",
    ")"
   ]
  },
  {
   "cell_type": "markdown",
   "id": "b5dc3303",
   "metadata": {},
   "source": [
    "The layout uncovers that the largest component has a very stringy nature and that there are hardly any densely connected groups."
   ]
  },
  {
   "cell_type": "markdown",
   "id": "2ff6c9c5",
   "metadata": {},
   "source": [
    "IMPROVE THE FOLLOWING LAYOUT -- PARALLEL EDGES SHOULD NOT BE PLACED ON TOP OF EACH OTHER, USE SPECIFIABLE COLORS FOR DIFFERENT EDGE KEYS, DISPLAY EDGE WIDTH BY WEIGHT, NOTE THE URL(S) THAT GAVE THE ANSWER(S):\n",
    "\n",
    "https://stackoverflow.com/questions/60067022/multidigraph-edges-from-networkx-draw-with-connectionstyle\n",
    "\n",
    "https://stackoverflow.com/questions/22785849/drawing-multiple-edges-between-two-nodes-with-networkx\n",
    "\n",
    "https://stackoverflow.com/questions/14943439/how-to-draw-multigraph-in-networkx-using-matplotlib-or-graphviz\n",
    "\n",
    "...\n",
    "\n",
    "ORDER OF EDGES (FAT ON TOP), TRANSPARENCY"
   ]
  },
  {
   "cell_type": "code",
   "execution_count": null,
   "id": "4d4fc528",
   "metadata": {},
   "outputs": [],
   "source": [
    "plt.figure(figsize=(8, 8))\n",
    "# Draw nodes\n",
    "nx.draw_networkx_nodes(\n",
    "    G=G_cns_mobile_week1_lwcc, \n",
    "    pos=pos_cns_mobile_week1_lwcc, \n",
    "    node_size=20, \n",
    "    #node_color='black', \n",
    "    #node_shape='o'\n",
    ")\n",
    "## Draw edges\n",
    "#nx.draw_networkx_edges(\n",
    "#    G=G_cns_mobile_week1_lwcc, \n",
    "#    pos=pos_cns_mobile_week1_lwcc, \n",
    "#    width=[strength/5. for strength in list(nx.get_edge_attributes(G_cns_mobile_week1, 'weight').values())], \n",
    "#    edge_color=[key for (u, v, key) in G_cns_mobile_week1.edges.keys()], \n",
    "#    connectionstyle='arc3, rad=.1'\n",
    "#)\n",
    "ax = plt.gca()\n",
    "for e in G_cns_mobile_week1_lwcc.edges:\n",
    "    ax.annotate(\n",
    "        '', \n",
    "        xy=pos_cns_mobile_week1_lwcc[e[0]], \n",
    "        #xycoords='data', \n",
    "        xytext=pos_cns_mobile_week1_lwcc[e[1]], \n",
    "        #textcoords='data', \n",
    "        arrowprops=dict(\n",
    "            arrowstyle='->', \n",
    "            #color='gray', \n",
    "            #shrinkA=5, \n",
    "            #shrinkB=5, \n",
    "            patchA=None, \n",
    "            patchB=None, \n",
    "            connectionstyle='arc3, rad=rrr'.replace('rrr', str(0.3*e[2]))\n",
    "        )\n",
    "    )\n",
    "## Label nodes\n",
    "#nx.draw_networkx_labels(\n",
    "#    G=G_cns_mobile_week1_lwcc, \n",
    "#    pos=pos_cns_mobile_week1_lwcc, \n",
    "#    font_color='black'\n",
    "#)\n",
    "plt.axis('off') # Toggle off box around figure\n",
    "plt.show() # ..."
   ]
  },
  {
   "cell_type": "markdown",
   "id": "e1c8d084",
   "metadata": {},
   "source": [
    "USE DEGREE AS NODE AND FONT SIZE\n",
    "\n",
    "https://stackoverflow.com/questions/62649745/is-it-possible-to-change-font-sizes-according-to-node-sizes\n",
    "\n",
    "Al-Kaie & Kadry (2017), chapter 1.6 on iGraph"
   ]
  },
  {
   "cell_type": "code",
   "execution_count": null,
   "id": "4b5377ce",
   "metadata": {},
   "outputs": [],
   "source": []
  },
  {
   "cell_type": "markdown",
   "id": "a0ec3e99",
   "metadata": {},
   "source": [
    "## 5.4. Multimodal networks\n",
    "\n",
    "Multimodal ... rich data ...\n",
    "\n",
    "Matrix multiplication"
   ]
  },
  {
   "cell_type": "markdown",
   "id": "da27ef97",
   "metadata": {},
   "source": [
    "### 5.4.1. Projections with NetworkX: Southern women data\n",
    "\n",
    "https://doi.org/10.1093/sf/53.2.181\n",
    "\n",
    "..."
   ]
  },
  {
   "cell_type": "code",
   "execution_count": null,
   "id": "7536f26b",
   "metadata": {},
   "outputs": [],
   "source": [
    "matrix_davis = pd.DataFrame(\n",
    "    data=[\n",
    "        [0, 1, 0, 1, 0, 0, 0, 1, 0, 0, 0, 1, 0, 0], \n",
    "        [0, 1, 0, 1, 0, 0, 1, 1, 0, 1, 0, 1, 1, 0], \n",
    "        [0, 0, 0, 0, 0, 1, 0, 0, 0, 0, 0, 1, 0, 0], \n",
    "        [0, 0, 0, 1, 1, 1, 0, 0, 0, 0, 0, 1, 0, 0], \n",
    "        [1, 0, 0, 0, 0, 1, 0, 0, 0, 0, 0, 0, 0, 0], \n",
    "        [1, 0, 0, 0, 0, 1, 0, 0, 0, 0, 0, 0, 0, 0], \n",
    "        [0, 1, 1, 1, 0, 0, 1, 1, 0, 1, 0, 1, 0, 0], \n",
    "        [0, 1, 1, 0, 0, 1, 1, 1, 0, 1, 0, 1, 1, 0], \n",
    "        [0, 0, 0, 0, 0, 1, 0, 1, 0, 0, 0, 1, 0, 0], \n",
    "        [0, 1, 0, 1, 0, 1, 0, 0, 0, 0, 0, 1, 0, 0], \n",
    "        [0, 0, 0, 1, 1, 1, 0, 0, 1, 0, 1, 1, 0, 1], \n",
    "        [0, 0, 0, 0, 1, 1, 0, 0, 1, 0, 1, 1, 0, 1], \n",
    "        [0, 0, 0, 0, 1, 1, 0, 0, 1, 0, 0, 1, 0, 0], \n",
    "        [0, 1, 1, 1, 0, 1, 1, 1, 0, 0, 0, 1, 1, 0], \n",
    "        [0, 1, 0, 1, 0, 0, 1, 0, 0, 0, 0, 0, 1, 0], \n",
    "        [0, 1, 0, 0, 0, 0, 1, 1, 0, 0, 0, 1, 0, 0], \n",
    "        [1, 0, 0, 1, 1, 0, 0, 0, 1, 0, 0, 1, 0, 0], \n",
    "        [1, 0, 0, 1, 1, 1, 0, 1, 1, 0, 1, 0, 0, 1]\n",
    "    ], \n",
    "    index=['Eleanor', 'Brenda', 'Dorothy', 'Verne', 'Flora', 'Olivia', 'Laura', 'Evelyn', 'Pearl', 'Ruth', 'Sylvia', 'Katherine', 'Myrna', 'Theresa', 'Charlotte', 'Frances', 'Helen', 'Nora'], \n",
    "    columns=[1, 2, 3, 4, 5, 6, 7, 8, 9, 10, 11, 12, 13, 14]\n",
    ")"
   ]
  },
  {
   "cell_type": "markdown",
   "id": "b3ad29cb",
   "metadata": {},
   "source": [
    "The `from_pandas_adjacency()` function is made for adjacency matrices, not for bipartite matrices. We must transform the matrix into an edgelist first, then use the `from_pandas_edgelist()` function:"
   ]
  },
  {
   "cell_type": "code",
   "execution_count": null,
   "id": "a33500a6",
   "metadata": {},
   "outputs": [],
   "source": [
    "#matrix_davis = matrix_davis/matrix_davis.sum(axis=0) # Do column normalization\n",
    "edgelist_davis = matrix_davis.stack().reset_index() # transform to edgelist\n",
    "edgelist_davis = edgelist_davis[edgelist_davis[0] > 0].reset_index(drop=True) # remove zero relations\n",
    "#edgelist_davis.drop(labels=0, axis=1, inplace=True) # drop edge weight column\n",
    "edgelist_davis.columns = ['woman', 'event', 'weight'] # rename columns\n",
    "edgelist_davis"
   ]
  },
  {
   "cell_type": "code",
   "execution_count": null,
   "id": "76327c0e",
   "metadata": {},
   "outputs": [],
   "source": [
    "G_davis = nx.from_pandas_edgelist(df=edgelist_davis, source='woman', target='event')"
   ]
  },
  {
   "cell_type": "code",
   "execution_count": null,
   "id": "c5f68185",
   "metadata": {},
   "outputs": [],
   "source": [
    "nx.is_bipartite(G_davis)"
   ]
  },
  {
   "cell_type": "markdown",
   "id": "071cedbc",
   "metadata": {},
   "source": [
    "To distinguish between the two node types and to project the bipartite to either unipartite network, we must identify the two sets:"
   ]
  },
  {
   "cell_type": "code",
   "execution_count": null,
   "id": "bbbd4ddd",
   "metadata": {},
   "outputs": [],
   "source": [
    "nodes_women = list(nx.bipartite.sets(G_davis)[0])\n",
    "print('Women:', nodes_women)\n",
    "nodes_events = list(nx.bipartite.sets(G_davis)[1])\n",
    "print('Events:', nodes_events)"
   ]
  },
  {
   "cell_type": "markdown",
   "id": "25c576ae",
   "metadata": {},
   "source": [
    "When the bipartite network is not connected in one component, the two modes cannot be identified from the data. In that case, we can work with the matrix index and columns:"
   ]
  },
  {
   "cell_type": "code",
   "execution_count": null,
   "id": "6dca9dc0",
   "metadata": {},
   "outputs": [],
   "source": [
    "nodes_women = matrix_davis.index.tolist()\n",
    "print('Women:', nodes_women)\n",
    "nodes_events = matrix_davis.columns.tolist()\n",
    "print('Events:', nodes_events)"
   ]
  },
  {
   "cell_type": "markdown",
   "id": "145d5f0a",
   "metadata": {},
   "source": [
    "Draw the bipartite network:"
   ]
  },
  {
   "cell_type": "code",
   "execution_count": null,
   "id": "be5f589c",
   "metadata": {},
   "outputs": [],
   "source": [
    "pos_bipartite = nx.bipartite_layout(G_davis, nodes_women)"
   ]
  },
  {
   "cell_type": "code",
   "execution_count": null,
   "id": "e973b66d",
   "metadata": {},
   "outputs": [],
   "source": [
    "nx.draw(G=G_davis, pos=pos_bipartite, with_labels=True)"
   ]
  },
  {
   "cell_type": "markdown",
   "id": "f91d8203",
   "metadata": {},
   "source": [
    "The result is not quite satisfying. For example, we want to give the nodes of the two modes different colors, shapes, and font colors. To do this, we must again interact with Matplotlib directly.\n",
    "\n",
    "As node size, we want to display the number of events per woman and the number of women per event, respectively. To obtain these numbersr, we can simply use the column and row sums of the matrix:"
   ]
  },
  {
   "cell_type": "code",
   "execution_count": null,
   "id": "89ca0886",
   "metadata": {},
   "outputs": [],
   "source": [
    "d_sizes_women = matrix_davis.sum(axis=1).to_dict()\n",
    "print('Women:', d_sizes_women)\n",
    "d_sizes_events = matrix_davis.sum(axis=0).to_dict()\n",
    "print('Events:', d_sizes_events)"
   ]
  },
  {
   "cell_type": "markdown",
   "id": "c2686b6b",
   "metadata": {},
   "source": [
    "To use mode-specific font colors, we must prepare two dictionaries that map node labels (dictionary values) to node identifiers (dictionary keys). Recall that in NetworkX node identifiers are node labels by default:"
   ]
  },
  {
   "cell_type": "code",
   "execution_count": null,
   "id": "b6d0d9c7",
   "metadata": {},
   "outputs": [],
   "source": [
    "labels_women = {woman: woman for woman in nodes_women}\n",
    "print('Women:', labels_women)\n",
    "labels_event = {event: event for event in nodes_events}\n",
    "print('Events:', labels_event)"
   ]
  },
  {
   "cell_type": "markdown",
   "id": "20dce01c",
   "metadata": {},
   "source": [
    "Now we have everything in place to draw a network that transports more information:"
   ]
  },
  {
   "cell_type": "code",
   "execution_count": null,
   "id": "d51d1ad1",
   "metadata": {},
   "outputs": [],
   "source": [
    "pos_bipartite = nx.fruchterman_reingold_layout(G_davis)"
   ]
  },
  {
   "cell_type": "code",
   "execution_count": null,
   "id": "d2728a79",
   "metadata": {},
   "outputs": [],
   "source": [
    "plt.figure(figsize=(8, 8))\n",
    "# Draw woman nodes as red squares with the number of events as node size\n",
    "nx.draw_networkx_nodes(\n",
    "    G=G_davis, \n",
    "    pos=pos_bipartite, \n",
    "    nodelist=nodes_women, \n",
    "    node_size=[100*values for keys, values in d_sizes_women.items()], # Using list comprehension to increase node size\n",
    "    node_color='red', \n",
    "    node_shape='s'\n",
    ")\n",
    "# Draw event nodes as blue circles with the number of women as node size\n",
    "nx.draw_networkx_nodes(\n",
    "    G=G_davis, \n",
    "    pos=pos_bipartite, \n",
    "    nodelist=nodes_events, \n",
    "    node_size=[100*values for keys, values in d_sizes_events.items()], \n",
    "    node_color='blue', \n",
    "    node_shape='o'\n",
    ")\n",
    "# Draw edges in gray\n",
    "nx.draw_networkx_edges(\n",
    "    G=G_davis, \n",
    "    pos=pos_bipartite, \n",
    "    edge_color='gray'\n",
    ")\n",
    "# Label women nodes in black\n",
    "nx.draw_networkx_labels(\n",
    "    G=G_davis, \n",
    "    pos=pos_bipartite, \n",
    "    labels=labels_women, \n",
    "    font_color='black'\n",
    ")\n",
    "# Label event nodes in white\n",
    "nx.draw_networkx_labels(\n",
    "    G=G_davis, \n",
    "    pos=pos_bipartite, \n",
    "    labels=labels_event, \n",
    "    font_color='white'\n",
    ")\n",
    "plt.axis('off')\n",
    "plt.show()"
   ]
  },
  {
   "cell_type": "markdown",
   "id": "453ecb71",
   "metadata": {},
   "source": [
    "To also change font size: https://stackoverflow.com/questions/62649745/is-it-possible-to-change-font-sizes-according-to-node-sizes"
   ]
  },
  {
   "cell_type": "markdown",
   "id": "26cccc14",
   "metadata": {},
   "source": [
    "#### Projection"
   ]
  },
  {
   "cell_type": "code",
   "execution_count": null,
   "id": "3ec214fd",
   "metadata": {},
   "outputs": [],
   "source": [
    "G_davis_women = nx.bipartite.weighted_projected_graph(G_davis, nodes_women)"
   ]
  },
  {
   "cell_type": "code",
   "execution_count": null,
   "id": "000a28ec",
   "metadata": {
    "scrolled": true
   },
   "outputs": [],
   "source": [
    "##plt.figure(figsize=(8, 8))\n",
    "#nx.draw(\n",
    "#    G=G_davis_women, \n",
    "#    pos=pos_bipartite, \n",
    "#    with_labels=True, \n",
    "#    node_size=[50*values for keys, values in d_sizes_women.items()], \n",
    "#    node_color='red', \n",
    "#    node_shape='s', \n",
    "#    width=list(nx.get_edge_attributes(G_davis_women, 'weight').values()), \n",
    "#    edge_color='gray', \n",
    "#    font_color='black'\n",
    "#)"
   ]
  },
  {
   "cell_type": "code",
   "execution_count": null,
   "id": "d2a43cc3",
   "metadata": {},
   "outputs": [],
   "source": [
    "nx.to_pandas_adjacency(G_davis_women)"
   ]
  },
  {
   "cell_type": "markdown",
   "id": "78c20189",
   "metadata": {},
   "source": [
    "Projection to the other side:"
   ]
  },
  {
   "cell_type": "code",
   "execution_count": null,
   "id": "32f65d27",
   "metadata": {},
   "outputs": [],
   "source": [
    "G_davis_events = nx.bipartite.weighted_projected_graph(G_davis, nodes_events)"
   ]
  },
  {
   "cell_type": "code",
   "execution_count": null,
   "id": "12f67ee7",
   "metadata": {},
   "outputs": [],
   "source": [
    "##plt.figure(figsize=(8, 8))\n",
    "#nx.draw(\n",
    "#    G=G_davis_events, \n",
    "#    pos=pos_bipartite, \n",
    "#    with_labels=True, \n",
    "#    node_size=[50*values for keys, values in d_sizes_events.items()], \n",
    "#    node_color='blue', \n",
    "#    node_shape='o', \n",
    "#    width=list(nx.get_edge_attributes(G_davis_events, 'weight').values()), \n",
    "#    edge_color='gray', \n",
    "#    font_color='white'\n",
    "#)"
   ]
  },
  {
   "cell_type": "code",
   "execution_count": null,
   "id": "60507967",
   "metadata": {},
   "outputs": [],
   "source": [
    "nx.to_pandas_adjacency(G_davis_events)"
   ]
  },
  {
   "cell_type": "code",
   "execution_count": null,
   "id": "b859b349",
   "metadata": {},
   "outputs": [],
   "source": []
  },
  {
   "cell_type": "code",
   "execution_count": null,
   "id": "6dcce762",
   "metadata": {},
   "outputs": [],
   "source": [
    "import ipywidgets"
   ]
  },
  {
   "cell_type": "code",
   "execution_count": null,
   "id": "819967d2",
   "metadata": {},
   "outputs": [],
   "source": [
    "def filter_edges(G, node_size, node_color, node_shape, font_color):\n",
    "    '''\n",
    "        Bla\n",
    "    '''\n",
    "    def draw_filtered_graph(weight_min):\n",
    "        '''\n",
    "            Bla\n",
    "        '''\n",
    "        G_filter = nx.Graph()\n",
    "        G_filter.add_nodes_from(G.nodes)\n",
    "        G_filter.add_edges_from([(u, v, edge_attr) for u, v, edge_attr in G.edges(data=True) if edge_attr['weight'] >= weight_min])\n",
    "        #plt.figure(figsize=(8, 8))\n",
    "        nx.draw(\n",
    "            G=G_filter, \n",
    "            pos=pos_bipartite, \n",
    "            with_labels=True, \n",
    "            node_size=node_size, \n",
    "            node_color=node_color, \n",
    "            node_shape=node_shape, \n",
    "            width=list(nx.get_edge_attributes(G_filter, 'weight').values()), \n",
    "            edge_color='gray', \n",
    "            font_color=font_color\n",
    "        )\n",
    "    ipywidgets.interact(\n",
    "        draw_filtered_graph, \n",
    "        weight_min=ipywidgets.IntSlider(value=1, min=1, max=7, step=1)\n",
    "    )"
   ]
  },
  {
   "cell_type": "code",
   "execution_count": null,
   "id": "fc249e3a",
   "metadata": {},
   "outputs": [],
   "source": [
    "filter_edges(\n",
    "    G=G_davis_women, \n",
    "    node_size=[50*values for keys, values in d_sizes_women.items()], \n",
    "    node_color='red', \n",
    "    node_shape='s', \n",
    "    font_color='black'\n",
    ")"
   ]
  },
  {
   "cell_type": "code",
   "execution_count": null,
   "id": "4844e1ba",
   "metadata": {},
   "outputs": [],
   "source": [
    "filter_edges(\n",
    "    G=G_davis_events, \n",
    "    node_size=[50*values for keys, values in d_sizes_events.items()], \n",
    "    node_color='blue', \n",
    "    node_shape='o', \n",
    "    font_color='white'\n",
    ")"
   ]
  },
  {
   "cell_type": "code",
   "execution_count": null,
   "id": "42c042b4",
   "metadata": {},
   "outputs": [],
   "source": []
  },
  {
   "cell_type": "markdown",
   "id": "baf2b41e",
   "metadata": {},
   "source": [
    "### 5.4.2. Preprocessing with SciPy: TweetsCOV19 data\n",
    "\n",
    "NetworkX is slow when networks are large. It is then useful to handle matrices in SciPy before loading them into NetworkX.\n",
    "\n",
    "Work with edgelists (long data format)\n",
    "\n",
    "..."
   ]
  },
  {
   "cell_type": "code",
   "execution_count": null,
   "id": "2ff945f7",
   "metadata": {},
   "outputs": [],
   "source": [
    "edgelist_davis['woman'].dtype"
   ]
  },
  {
   "cell_type": "code",
   "execution_count": null,
   "id": "4b82de7f",
   "metadata": {},
   "outputs": [],
   "source": [
    "edgelist_davis['woman'] = edgelist_davis['woman'].astype('category')\n",
    "edgelist_davis['event'] = edgelist_davis['event'].astype('category')"
   ]
  },
  {
   "cell_type": "code",
   "execution_count": null,
   "id": "df0068da",
   "metadata": {},
   "outputs": [],
   "source": [
    "women = pd.DataFrame(edgelist_davis['woman'].cat.categories, columns=['woman'])\n",
    "events = pd.DataFrame(edgelist_davis['event'].cat.categories, columns=['event'])"
   ]
  },
  {
   "cell_type": "code",
   "execution_count": null,
   "id": "bd5d6658",
   "metadata": {},
   "outputs": [],
   "source": [
    "women.head()"
   ]
  },
  {
   "cell_type": "markdown",
   "id": "1f6e92f2",
   "metadata": {},
   "source": [
    "Create a new edgelist using integers representing categories:"
   ]
  },
  {
   "cell_type": "code",
   "execution_count": null,
   "id": "9de66b3d",
   "metadata": {},
   "outputs": [],
   "source": [
    "edgelist_davis_int = edgelist_davis.copy()"
   ]
  },
  {
   "cell_type": "code",
   "execution_count": null,
   "id": "a45b5c95",
   "metadata": {},
   "outputs": [],
   "source": [
    "edgelist_davis_int['woman'] = edgelist_davis_int['woman'].cat.codes\n",
    "edgelist_davis_int['event'] = edgelist_davis_int['event'].cat.codes"
   ]
  },
  {
   "cell_type": "code",
   "execution_count": null,
   "id": "ac324320",
   "metadata": {},
   "outputs": [],
   "source": [
    "edgelist_davis_int.head()"
   ]
  },
  {
   "cell_type": "code",
   "execution_count": null,
   "id": "22b07872",
   "metadata": {},
   "outputs": [],
   "source": [
    "from scipy.sparse import coo_matrix, triu, diags"
   ]
  },
  {
   "cell_type": "code",
   "execution_count": null,
   "id": "961c1e8d",
   "metadata": {},
   "outputs": [],
   "source": [
    "m_davis = coo_matrix((\n",
    "    edgelist_davis_int['weight'].tolist(), \n",
    "    (edgelist_davis_int['woman'].tolist(), edgelist_davis_int['event'].tolist()))\n",
    ")"
   ]
  },
  {
   "cell_type": "markdown",
   "id": "da8ed631",
   "metadata": {},
   "source": [
    "The transpose..."
   ]
  },
  {
   "cell_type": "code",
   "execution_count": null,
   "id": "5f22cc70",
   "metadata": {},
   "outputs": [],
   "source": [
    "mt_davis = coo_matrix.transpose(m_davis)"
   ]
  },
  {
   "cell_type": "markdown",
   "id": "9f217a1b",
   "metadata": {},
   "source": [
    "**Projection**"
   ]
  },
  {
   "cell_type": "code",
   "execution_count": null,
   "id": "029dc22c",
   "metadata": {},
   "outputs": [],
   "source": [
    "m_davis_women = m_davis*mt_davis\n",
    "m_davis_events = mt_davis*m_davis"
   ]
  },
  {
   "cell_type": "markdown",
   "id": "7d6fa78d",
   "metadata": {},
   "source": [
    "Since links are undirected, remove the redundant part of matrix:"
   ]
  },
  {
   "cell_type": "code",
   "execution_count": null,
   "id": "d918f58d",
   "metadata": {},
   "outputs": [],
   "source": [
    "m_davis_women = triu(m_davis_women)\n",
    "m_davis_events = triu(m_davis_events)"
   ]
  },
  {
   "cell_type": "markdown",
   "id": "8fd3d2de",
   "metadata": {},
   "source": [
    "The diagonals in these matrices contain the number of events per woman and the number of women per event, respectively. Save those values in a list:"
   ]
  },
  {
   "cell_type": "code",
   "execution_count": null,
   "id": "2ace7e08",
   "metadata": {},
   "outputs": [],
   "source": [
    "l_sizes_women = list(m_davis_women.diagonal())\n",
    "l_sizes_events = list(m_davis_events.diagonal())"
   ]
  },
  {
   "cell_type": "markdown",
   "id": "f42630fd",
   "metadata": {},
   "source": [
    "Diagonals will be drawn as self-loops. To not draw them, we must remove them from the matrix:"
   ]
  },
  {
   "cell_type": "code",
   "execution_count": null,
   "id": "11a95abd",
   "metadata": {},
   "outputs": [],
   "source": [
    "m_davis_women.setdiag(values=0)\n",
    "m_davis_events.setdiag(values=0)\n",
    "m_davis_women.eliminate_zeros()\n",
    "m_davis_events.eliminate_zeros()"
   ]
  },
  {
   "cell_type": "markdown",
   "id": "d92f89f3",
   "metadata": {},
   "source": [
    "To edgelist:"
   ]
  },
  {
   "cell_type": "code",
   "execution_count": null,
   "id": "b9b1c8ba",
   "metadata": {},
   "outputs": [],
   "source": [
    "edgelist_davis_women = pd.concat([\n",
    "    pd.Series(m_davis_women.nonzero()[0]), \n",
    "    pd.Series(m_davis_women.nonzero()[1]), \n",
    "    pd.Series(m_davis_women.data)\n",
    "], axis=1)\n",
    "edgelist_davis_events = pd.concat([\n",
    "    pd.Series(m_davis_events.nonzero()[0]), \n",
    "    pd.Series(m_davis_events.nonzero()[1]), \n",
    "    pd.Series(m_davis_events.data)\n",
    "], axis=1)\n",
    "edgelist_davis_women.columns = ['source', 'target', 'weight']\n",
    "edgelist_davis_events.columns = ['source', 'target', 'weight']"
   ]
  },
  {
   "cell_type": "markdown",
   "id": "8a6cab95",
   "metadata": {},
   "source": [
    "<div class='alert alert-info'>\n",
    "<big><b>Insight</b></big>\n",
    "\n",
    "THESE EDGELISTS CAN BE FILTERED EFFICIENTLY. IF WE OUTSOURCE MATRIX MAULTIPLICATION AND FILTERING FROM NX, WE CAN PROCESS FAIRLY LARGE NETWORKS.\n",
    "</div>"
   ]
  },
  {
   "cell_type": "markdown",
   "id": "ccab72b7",
   "metadata": {},
   "source": [
    "From these edgelists, we can now generate the same network as constructed using the NetworkX functions for projecting bipartite networks:"
   ]
  },
  {
   "cell_type": "code",
   "execution_count": null,
   "id": "e15a09cd",
   "metadata": {},
   "outputs": [],
   "source": [
    "M_davis_women = nx.from_pandas_edgelist(\n",
    "    df=edgelist_davis_women, \n",
    "    source='source', \n",
    "    target='target', \n",
    "    edge_attr=['weight']\n",
    ")\n",
    "M_davis_events = nx.from_pandas_edgelist(\n",
    "    df=edgelist_davis_events, \n",
    "    source='source', \n",
    "    target='target', \n",
    "    edge_attr=['weight']\n",
    ")"
   ]
  },
  {
   "cell_type": "code",
   "execution_count": null,
   "id": "ae5ef356",
   "metadata": {},
   "outputs": [],
   "source": [
    "M_davis_women.nodes()"
   ]
  },
  {
   "cell_type": "markdown",
   "id": "feebc66c",
   "metadata": {},
   "source": [
    "Since SciPy uses integers starting at zero for both women and events, the resulting networks also have those integers as labels. For this reason, we cannot use the dictionary of node positions directly. Extract node positions from `pos_bipartite` using dictionary comprehension, drawing node identifiers from the relevant nodelist:"
   ]
  },
  {
   "cell_type": "code",
   "execution_count": null,
   "id": "377d8675",
   "metadata": {},
   "outputs": [],
   "source": [
    "pos_women = {women[women['woman'] == key].index[0]: value for (key, value) in pos_bipartite.items() if type(key) == str}\n",
    "pos_events = {events[events['event'] == key].index[0]: value for (key, value) in pos_bipartite.items() if type(key) == int}"
   ]
  },
  {
   "cell_type": "markdown",
   "id": "6f55f03d",
   "metadata": {},
   "source": [
    "Since the order of nodes has also changed, we must not use the node sizes stored in the `d_sizes_...` dictionaries. Instead we must use the lists extracted from the matrix diagonals which correctly match the nodes. Finally, we must draw nodes, edges, and node labels separately because the latter are external to the graph object:"
   ]
  },
  {
   "cell_type": "code",
   "execution_count": null,
   "id": "119afde9",
   "metadata": {},
   "outputs": [],
   "source": [
    "#plt.figure(figsize=(8, 8))\n",
    "# Draw woman nodes as red squares with the number of events as node size\n",
    "nx.draw_networkx_nodes(\n",
    "    G=M_davis_women, \n",
    "    pos=pos_women, \n",
    "    node_size=[50*size for size in l_sizes_women], \n",
    "    node_color='red', \n",
    "    node_shape='s'\n",
    ")\n",
    "# Draw edges in gray\n",
    "nx.draw_networkx_edges(\n",
    "    G=M_davis_women, \n",
    "    pos=pos_women, \n",
    "    edge_color='gray'\n",
    ")\n",
    "# Label women nodes in black\n",
    "nx.draw_networkx_labels(\n",
    "    G=M_davis_women, \n",
    "    pos=pos_women, \n",
    "    labels=women['woman'], \n",
    "    font_color='black'\n",
    ")\n",
    "plt.axis('off')\n",
    "plt.show()"
   ]
  },
  {
   "cell_type": "code",
   "execution_count": null,
   "id": "99a5f6c5",
   "metadata": {},
   "outputs": [],
   "source": [
    "#plt.figure(figsize=(8, 8))\n",
    "# Draw event nodes as blue circles with the number of women as node size\n",
    "nx.draw_networkx_nodes(\n",
    "    G=M_davis_events, \n",
    "    pos=pos_events, \n",
    "    node_size=[50*size for size in l_sizes_events], \n",
    "    node_color='blue', \n",
    "    node_shape='o'\n",
    ")\n",
    "# Draw edges in gray\n",
    "nx.draw_networkx_edges(\n",
    "    G=M_davis_events, \n",
    "    pos=pos_events, \n",
    "    edge_color='gray'\n",
    ")\n",
    "# Label event nodes in white\n",
    "nx.draw_networkx_labels(\n",
    "    G=M_davis_events, \n",
    "    pos=pos_events, \n",
    "    labels=events['event'], \n",
    "    font_color='white'\n",
    ")\n",
    "plt.axis('off')\n",
    "plt.show()"
   ]
  },
  {
   "cell_type": "markdown",
   "id": "9c9b6357",
   "metadata": {},
   "source": [
    "**Normalization**\n",
    "\n",
    "https://doi.org/10.1007/s11192-012-0940-1\n",
    "\n",
    "For example, how similar are women regarding their event participation? To answer this question, we apply row normalization on the bipartite matrix. Row normalization means that row values sum to one, that is, each event participation is weighted by the inverse number of events a woman participated in. In other words, the fewer events a woman participates in, the \"stronger\" she participates in the events."
   ]
  },
  {
   "cell_type": "code",
   "execution_count": null,
   "id": "c37b8401",
   "metadata": {},
   "outputs": [],
   "source": [
    "from sklearn.preprocessing import normalize"
   ]
  },
  {
   "cell_type": "code",
   "execution_count": null,
   "id": "8d8cd4b1",
   "metadata": {},
   "outputs": [],
   "source": [
    "mrn_davis = normalize(m_davis, norm='l1', axis=1)"
   ]
  },
  {
   "cell_type": "code",
   "execution_count": null,
   "id": "b7076d1a",
   "metadata": {},
   "outputs": [],
   "source": [
    "mrnt_davis = mrn_davis.transpose()"
   ]
  },
  {
   "cell_type": "code",
   "execution_count": null,
   "id": "fa6b1265",
   "metadata": {},
   "outputs": [],
   "source": [
    "ms_davis_women = mrn_davis*mrnt_davis"
   ]
  },
  {
   "cell_type": "code",
   "execution_count": null,
   "id": "ffcc713d",
   "metadata": {},
   "outputs": [],
   "source": [
    "similarity_davis_women = pd.DataFrame(ms_davis_women.toarray(), index=women['woman'].tolist(), columns=women['woman'].tolist())"
   ]
  },
  {
   "cell_type": "code",
   "execution_count": null,
   "id": "da41f6f1",
   "metadata": {},
   "outputs": [],
   "source": [
    "similarity_davis_women.style.apply(lambda x: ['background: yellow' if s == similarity_davis_women.max().max() else '' for s in x], axis = 1)"
   ]
  },
  {
   "cell_type": "markdown",
   "id": "1b1e4900",
   "metadata": {},
   "source": [
    "Conversely, to learn how similar events are regarding participating women, we apply column normalization and proceed accordingly:"
   ]
  },
  {
   "cell_type": "code",
   "execution_count": null,
   "id": "be3d6076",
   "metadata": {},
   "outputs": [],
   "source": [
    "mcn_davis = normalize(m_davis, norm='l1', axis=0)"
   ]
  },
  {
   "cell_type": "code",
   "execution_count": null,
   "id": "638c9286",
   "metadata": {},
   "outputs": [],
   "source": [
    "mcnt_davis = mcn_davis.transpose()"
   ]
  },
  {
   "cell_type": "code",
   "execution_count": null,
   "id": "08af2c39",
   "metadata": {},
   "outputs": [],
   "source": [
    "ms_davis_events = mcnt_davis*mcn_davis"
   ]
  },
  {
   "cell_type": "code",
   "execution_count": null,
   "id": "f7931dbd",
   "metadata": {},
   "outputs": [],
   "source": [
    "similarity_davis_events = pd.DataFrame(ms_davis_events.toarray(), index=events['event'].tolist(), columns=events['event'].tolist())"
   ]
  },
  {
   "cell_type": "code",
   "execution_count": null,
   "id": "49ef72b0",
   "metadata": {},
   "outputs": [],
   "source": [
    "similarity_davis_events.style.apply(lambda x: ['background: yellow' if s == similarity_davis_events.max().max() else '' for s in x], axis = 1)"
   ]
  },
  {
   "cell_type": "code",
   "execution_count": null,
   "id": "81559f7f",
   "metadata": {},
   "outputs": [],
   "source": []
  },
  {
   "cell_type": "markdown",
   "id": "e759719f",
   "metadata": {},
   "source": [
    "More complicated algebraic operations\n",
    "\n",
    "...\n",
    "\n",
    "Such as closing triangles ... also Breiger's paper\n",
    "\n",
    "...\n",
    "\n",
    "https://doi.org/10.1016/j.poetic.2018.01.001\n",
    "\n",
    "..."
   ]
  },
  {
   "cell_type": "markdown",
   "id": "24b5f612",
   "metadata": {},
   "source": [
    "## 5.5. Network snapshots from link streams\n",
    "\n",
    "Link streams are ... can originate in ...\n",
    "\n",
    "Exogenous time vs. endogenous time ...\n",
    "\n",
    "..."
   ]
  },
  {
   "cell_type": "markdown",
   "id": "40f6eb37",
   "metadata": {},
   "source": [
    "### 5.5.1. Aggregating edges by clock\n",
    "\n",
    "Sekara paper: https://doi.org/10.1073/pnas.1602803113\n",
    "\n",
    "..."
   ]
  },
  {
   "cell_type": "code",
   "execution_count": null,
   "id": "efb617fa",
   "metadata": {},
   "outputs": [],
   "source": [
    "edgelist_cns_bt = pd.read_csv('../data/cns/bt_symmetric.csv')\n",
    "edgelist_cns_bt"
   ]
  },
  {
   "cell_type": "code",
   "execution_count": null,
   "id": "86868aeb",
   "metadata": {},
   "outputs": [],
   "source": [
    "print(open('../data/cns/bt_symmetric.README', 'r').read())"
   ]
  },
  {
   "cell_type": "markdown",
   "id": "a3450c5b",
   "metadata": {},
   "source": [
    "How Bluetooth works ... scans ... experiment devides ... RSSI ...\n",
    "\n",
    "The Sekara paper reports (OR DOES IT REPORT THAT THESE ARE SECONDS IN % MINUTE INTERVALS?) that Bluetooth searches were performed every five minutes. By transforming `# timestamp` into a categorical variable, we see that time is measured in seconds. ...\n",
    "\n",
    "4 weeks consist of 8,064 intervals of 5 minutes."
   ]
  },
  {
   "cell_type": "code",
   "execution_count": null,
   "id": "c9b0cdd0",
   "metadata": {},
   "outputs": [],
   "source": [
    "# '# timestamp'\n",
    "edgelist_cns_bt['# timestamp'].astype('category').cat.categories"
   ]
  },
  {
   "cell_type": "code",
   "execution_count": null,
   "id": "edf4aaa8",
   "metadata": {},
   "outputs": [],
   "source": [
    "# Transform `rssi` into signal strength between 0 and 8063\n",
    "edgelist_cns_bt['# timestamp'] = edgelist_cns_bt['# timestamp'].astype('category').cat.codes\n",
    "edgelist_cns_bt.rename(columns={'# timestamp': 'time'}, inplace=True)\n",
    "edgelist_cns_bt['time'].max()"
   ]
  },
  {
   "cell_type": "code",
   "execution_count": null,
   "id": "d58aa50f",
   "metadata": {},
   "outputs": [],
   "source": [
    "# Remove (non-experiment devides) & (four errors)\n",
    "edgelist_cns_bt = edgelist_cns_bt[(edgelist_cns_bt['user_b'] >= 0) & (edgelist_cns_bt['rssi'] < 0)].reset_index(drop=True)"
   ]
  },
  {
   "cell_type": "code",
   "execution_count": null,
   "id": "b6df59d6",
   "metadata": {},
   "outputs": [],
   "source": [
    "# Transform `rssi` into signal strength between 0 and 92\n",
    "edgelist_cns_bt['rssi'] = edgelist_cns_bt['rssi']+100\n",
    "edgelist_cns_bt.rename(columns={'rssi': 'strength'}, inplace=True)\n",
    "edgelist_cns_bt['strength'].max()"
   ]
  },
  {
   "cell_type": "code",
   "execution_count": null,
   "id": "96f40a40",
   "metadata": {},
   "outputs": [],
   "source": [
    "edgelist_cns_bt"
   ]
  },
  {
   "cell_type": "code",
   "execution_count": null,
   "id": "41737b8c",
   "metadata": {},
   "outputs": [],
   "source": [
    "edgelist_cns_bt['strength'].hist()"
   ]
  },
  {
   "cell_type": "code",
   "execution_count": null,
   "id": "62b5d452",
   "metadata": {},
   "outputs": [],
   "source": [
    "# Construct networks just from edgelist (i.e., isolated persons will be missing)\n",
    "def aggregate_edges(df, time, source, target, weight, time_zero, time_window, fun, directed=False):\n",
    "    '''\n",
    "        Bla\n",
    "    '''\n",
    "    if weight == None:\n",
    "        weight = 'weight'\n",
    "        df[weight] = 1\n",
    "    if fun == 'max':\n",
    "        df_agg = df[df[time].between(time_zero, time_zero+time_window-1)].groupby([source, target]).max().reset_index()[[source, target, weight]]\n",
    "    if fun == 'sum':\n",
    "        df_agg = df[df[time].between(time_zero, time_zero+time_window-1)].groupby([source, target]).sum().reset_index()[[source, target, weight]]\n",
    "    if directed == False:\n",
    "        graph_type = nx.Graph\n",
    "    else:\n",
    "        graph_type = nx.DiGraph\n",
    "    G_agg = nx.from_pandas_edgelist(\n",
    "        df=df_agg, \n",
    "        source=source, \n",
    "        target=target, \n",
    "        edge_attr=weight, \n",
    "        create_using=graph_type\n",
    "    )\n",
    "    return df_agg, G_agg"
   ]
  },
  {
   "cell_type": "code",
   "execution_count": null,
   "id": "9491ce33",
   "metadata": {},
   "outputs": [],
   "source": [
    "import matplotlib.pyplot as plt"
   ]
  },
  {
   "cell_type": "code",
   "execution_count": null,
   "id": "d95e91d5",
   "metadata": {},
   "outputs": [],
   "source": [
    "time_zero = 0\n",
    "time_windows = [3, 36, 288]\n",
    "window_labels = ['15 minutes', '3 hours', '1 day']\n",
    "\n",
    "fig, axs = plt.subplots(1, len(time_windows), figsize=(15, 5))\n",
    "for i in range(len(time_windows)):\n",
    "    _, G_agg = aggregate_edges(\n",
    "        df=edgelist_cns_bt, \n",
    "        time='time', \n",
    "        source='user_a', \n",
    "        target='user_b', \n",
    "        weight='strength', \n",
    "        time_zero=time_zero, \n",
    "        time_window=time_windows[i], \n",
    "        fun='max'\n",
    "    )\n",
    "    axs[i].set_title('Edges aggregated over '+window_labels[i])\n",
    "    nx.draw(\n",
    "        G=G_agg, \n",
    "        ax=axs[i], \n",
    "        node_size=5, \n",
    "        width=[strength/20. for strength in list(nx.get_edge_attributes(G_agg, 'strength').values())]\n",
    "    )"
   ]
  },
  {
   "cell_type": "markdown",
   "id": "64ef948e",
   "metadata": {},
   "source": [
    "INTERPRET ABOVE RESULT IN LIGHT OF SEKARA PAPER"
   ]
  },
  {
   "cell_type": "markdown",
   "id": "5cd9da90",
   "metadata": {},
   "source": [
    "28 1-day snapshots:"
   ]
  },
  {
   "cell_type": "code",
   "execution_count": null,
   "id": "fdc0ce18",
   "metadata": {},
   "outputs": [],
   "source": [
    "#time_zero = 0\n",
    "#time_window = 288\n",
    "#l_df_cns_bt = []\n",
    "#l_G_cns_bt = []\n",
    "#\n",
    "##fig, axs = plt.subplots(4, 7, figsize=(14, 8))\n",
    "#for i in range(28):\n",
    "#    df_agg, G_agg = aggregate_edges(\n",
    "#        df=edgelist_cns_bt, \n",
    "#        time='time', \n",
    "#        source='user_a', \n",
    "#        target='user_b', \n",
    "#        weight='strength', \n",
    "#        time_zero=time_zero, \n",
    "#        time_window=time_window, \n",
    "#        fun='max'\n",
    "#    )\n",
    "#    l_df_cns_bt.append(df_agg)\n",
    "#    l_G_cns_bt.append(G_agg)\n",
    "#    time_zero += time_window\n",
    "#    #axs[i].set_title('Edges aggregated for day '+str(i))\n",
    "#    nx.draw(\n",
    "#        G=G_agg, \n",
    "#        #ax=axs[i], \n",
    "#        node_size=5, \n",
    "#        width=[strength/20. for strength in list(nx.get_edge_attributes(G_agg, 'strength').values())]\n",
    "#    )"
   ]
  },
  {
   "cell_type": "markdown",
   "id": "575f83f7",
   "metadata": {},
   "source": [
    "### 5.5.2. Aggregating edges by connectivity\n",
    "\n",
    "..."
   ]
  },
  {
   "cell_type": "code",
   "execution_count": null,
   "id": "c01a01f5",
   "metadata": {},
   "outputs": [],
   "source": [
    "#k_threshold = 10.\n",
    "#time_zero = 0\n",
    "#l_df_cns_bt = []\n",
    "#l_G_cns_bt = []\n",
    "#\n",
    "#while time_zero < edgelist_cns_bt['time'].max():\n",
    "#    print(time_zero)\n",
    "#    k_mean = 0.\n",
    "#    time_window = 1\n",
    "#    while k_mean < k_threshold:\n",
    "#        #print(time_window)\n",
    "#        df_agg, G_agg = aggregate_edges(\n",
    "#            df=edgelist_cns_bt, \n",
    "#            time='time', \n",
    "#            source='user_a', \n",
    "#            target='user_b', \n",
    "#            weight='strength', \n",
    "#            time_zero=time_zero, \n",
    "#            time_window=time_window, \n",
    "#            fun='max'\n",
    "#        )\n",
    "#        k_mean = sum(dict(dict(G_agg.degree())).values())/G_agg.number_of_nodes()\n",
    "#        time_window += 1\n",
    "#        if time_zero + time_window > edgelist_cns_bt['time'].max(): break\n",
    "#    l_df_cns_bt.append(df_agg)\n",
    "#    l_G_cns_bt.append(G_agg)\n",
    "#    time_zero += time_window"
   ]
  },
  {
   "cell_type": "markdown",
   "id": "933d9f71",
   "metadata": {},
   "source": [
    "Giant connected components in the first day:"
   ]
  },
  {
   "cell_type": "code",
   "execution_count": null,
   "id": "05765f4c",
   "metadata": {},
   "outputs": [],
   "source": [
    "time_zero = 0\n",
    "l_df_cns_bt = []\n",
    "l_G_cns_bt = []\n",
    "\n",
    "while time_zero < 288: # edgelist_cns_bt['time'].max()\n",
    "    #print(time_zero)\n",
    "    P = 0.\n",
    "    time_window = 1\n",
    "    while P < .5:\n",
    "        #print(time_window)\n",
    "        df_agg, G_agg = aggregate_edges(\n",
    "            df=edgelist_cns_bt, \n",
    "            time='time', \n",
    "            source='user_a', \n",
    "            target='user_b', \n",
    "            weight='strength', \n",
    "            time_zero=time_zero, \n",
    "            time_window=time_window, \n",
    "            fun='max'\n",
    "        )\n",
    "        P = G_agg.subgraph(sorted(nx.connected_components(G_agg), key=len, reverse=True)[0]).number_of_nodes()/G_agg.number_of_nodes()\n",
    "        time_window += 1\n",
    "        if time_zero + time_window > edgelist_cns_bt['time'].max(): break\n",
    "    l_df_cns_bt.append(df_agg)\n",
    "    l_G_cns_bt.append(G_agg)\n",
    "    time_zero += time_window"
   ]
  },
  {
   "cell_type": "code",
   "execution_count": null,
   "id": "1a3fe100",
   "metadata": {},
   "outputs": [],
   "source": [
    "len(l_G_cns_bt)"
   ]
  },
  {
   "cell_type": "code",
   "execution_count": null,
   "id": "aac21cdc",
   "metadata": {
    "scrolled": true
   },
   "outputs": [],
   "source": [
    "fig, axs = plt.subplots(1, 4, figsize=(16, 4))\n",
    "for i in range(4):\n",
    "    axs[i].set_title('Snapshot '+str(i))\n",
    "    nx.draw(\n",
    "        G=l_G_cns_bt[i], \n",
    "        ax=axs[i], \n",
    "        node_size=5, \n",
    "        width=[strength/20. for strength in list(nx.get_edge_attributes(l_G_cns_bt[i], 'strength').values())]\n",
    "    )"
   ]
  },
  {
   "cell_type": "markdown",
   "id": "f43ed3c5",
   "metadata": {},
   "source": [
    "## 5.6. Exporting and importing networks"
   ]
  },
  {
   "cell_type": "code",
   "execution_count": null,
   "id": "07ac218e",
   "metadata": {},
   "outputs": [],
   "source": []
  },
  {
   "cell_type": "markdown",
   "id": "b98d082a",
   "metadata": {},
   "source": [
    "## Commented references\n",
    "\n",
    "### Recommended textbooks and NetworkX resources\n",
    "\n",
    "Ma, E. & Seth, M. (2022). *Network Analysis Made Simple*. LeanPub. https://leanpub.com/nams. *An easy, well-maintained, and self-explanatory resource for NetworkX self-education that hides the inner workings of algorithms in custom functions. Use the [website](https://ericmjl.github.io/Network-Analysis-Made-Simple/) as a guide to Jupyter Notebooks on constructing, importing, exporting, and analyzing networks. You can also launch a binder session to execute notebooks in the cloud.*\n",
    "\n",
    "Menczer, F., Fortunato, S., & Davis, C. A. (2020). *A First Course in Network Science*. Cambridge University Press. https://doi.org/10.1017/9781108653947. *An introductory course with exercises that emerged from years of teaching network analysis using NetworkX. Written from the physicist's perspective, this book is focused on the network science paradigms of small-world networks, scale-free networks, community detection, and complex systems modeling. The [website](https://cambridgeuniversitypress.github.io/FirstCourseNetworkScience/) provides all code in the form of Jupyter Notebooks, data, and solutions to the exercises.*\n",
    "\n",
    "Platt, E. L. (2019). *Network Science with Python and NetworkX Quick Start Guide*. Packt. https://www.packtpub.com/product/network-science-with-python-and-networkx-quick-start-guide/9781789955316. *Systematic introduction to the practice of network preprocessing and analysis. Have a look at chapters 1–4 and 10–11 for the focus of session 2 here. All Jupyter Notebooks are publically available on the [website](https://github.com/PacktPublishing/Network-Science-with-Python-and-NetworkX-Quick-Start-Guide).*\n",
    "\n",
    "### Advanced textbooks\n",
    "\n",
    "Artime, O., Benigni, B., Bertagnolli, G., d'Andrea, V., Gallotti, R., Ghavasieh, A., Raimondo, S., & De Domenico, M. (2022). *Multilayer Network Science*. Cambridge University Press. https://doi.org/10.1017/9781009085809. *Interdisciplinary state-of-the-art account of the topic, quite advanced and mathematical.*\n",
    "\n",
    "Caldarelli, G. & Chessa, A. (2016). *Data Science and Complex Networks: Real Case Studies with Python*. Oxford University Press. https://doi.org/10.1093/acprof:oso/9780199639601.001.0001. *Interdisciplinary display of case studies from the physics/complexity perspective. Jupyter Notebooks that use NetworkX but add many custom functions are available on the [website](https://github.com/datascienceandcomplexnetworks).*\n",
    "\n",
    "### Other cited references\n",
    "\n",
    "Breiger, R. L. (1974). \"The duality of persons and groups\". *Social Forces* 53:181–190. https://doi.org/10.1093/sf/53.2.181. *A fundamental paper about the sociological use of bipartite network structures.*\n",
    "\n",
    "Freeman, L. (2004). *The Development of Social Network Analysis: A Study in the Sociology of Science*. Empirical Press. *The history of the field of Social Network Analysis as told by one of its founders.*\n",
    "\n",
    "Fuhse, J. (2021). *Social Networks of Meaning and Communication*. Oxford University Press. https://doi.org/10.1093/oso/9780190275433.001.0001. *Accessible account of sociological network theory that delves deep into the mutual constitution of social networks and communication networks.*\n",
    "\n",
    "Krempel, L. (2014). \"Network visualization\". In: Scott, J. & Carrington, P. J. (Eds.), *The SAGE Handbook of Social Network Analysis* (pp. 558-577). Sage. https://doi.org/10.4135/9781446294413. *A systematic overview how to visualize rich network information.*\n",
    "\n",
    "Lee, M. & Martin, J. L. (2018). \"Doorway to the dharma of duality\". *Poetics* 68:18–30. https://doi.org/10.1016/j.poetic.2018.01.001. *A methodological account of socio-cultural analysis using publication data.*\n",
    "\n",
    "Lietz, H., Schmitz, A., & Schaible, J. (2021). \"Social Network Analysis with Digital Behavioral Data\". *easy_social_sciences* 66:41–48. https://doi.org/10.15464/easy.2021.005. *A short and easily accessible introduction to the topic.*\n",
    "\n",
    "Peixoto, T. P. (2015). \"Inferring the mesoscale structure of layered, edge-valued, and time-varying networks\". *Physical Review E* 92:042807. https://doi.org/10.1103/PhysRevE.92.042807. *Advanced stochastic analysis of various multilayer networks written in physics style.*\n",
    "\n",
    "Sekara, V., Stopczynski, A., & Lehmann, S. (2016). \"Fundamental structures of dynamic social networks\". *Proceedings of the National Academy of Sciences* 113:9977–9982. https://doi.org/10.1073/pnas.1602803113. *Insightful multilayer analysis of the Copenhagen Networks Study interaction dataset.*\n",
    "\n",
    "Sapiezynski, P., Stopczynski, A., Lassen, D. D., & Lehmann, S. (2019). \"Interaction data from the Copenhagen Networks Study\". *Scientific Data* 6:315 (2019). https://doi.org/10.1038/s41597-019-0325-x. *Description of one of the richest publicly available multilayer network datasets.*"
   ]
  },
  {
   "cell_type": "markdown",
   "id": "758d9eec",
   "metadata": {},
   "source": [
    "<div class='alert alert-block alert-success'>\n",
    "<b>Document information</b>\n",
    "\n",
    "Contact and main author: Haiko Lietz\n",
    "\n",
    "Contributors: ...\n",
    "\n",
    "Acknowledgements: ...\n",
    "\n",
    "Version date: XX. January 2023\n",
    "\n",
    "License: ...\n",
    "</div>"
   ]
  }
 ],
 "metadata": {
  "kernelspec": {
   "display_name": "Python 3 (ipykernel)",
   "language": "python",
   "name": "python3"
  },
  "language_info": {
   "codemirror_mode": {
    "name": "ipython",
    "version": 3
   },
   "file_extension": ".py",
   "mimetype": "text/x-python",
   "name": "python",
   "nbconvert_exporter": "python",
   "pygments_lexer": "ipython3",
   "version": "3.9.13"
  }
 },
 "nbformat": 4,
 "nbformat_minor": 5
}
