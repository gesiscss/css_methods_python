{
 "cells": [
  {
   "cell_type": "markdown",
   "id": "e607ca26",
   "metadata": {},
   "source": [
    "<img src='images/gesis.png' style='height: 50px; float: left'>\n",
    "<img src='images/social_comquant.png' style='height: 50px; float: left; margin-left: 40px'>"
   ]
  },
  {
   "cell_type": "markdown",
   "id": "b70bc56f",
   "metadata": {},
   "source": [
    "## Introduction to Computational Social Science methods with Python"
   ]
  },
  {
   "cell_type": "markdown",
   "id": "71218328",
   "metadata": {},
   "source": [
    "# Session 8. Unsupervised machine learning\n",
    "\n",
    "A dataset is a collection of values that are organized in two ways (observations and features). A feature contains all vallues that measure the same attribute (e.g., temparature) across all instances. In other words, feature froms a column. An observation contains all values measured on the same instance (e.g, city) across all attributes. In other words, it forms a row. All these obervational instances forms a table that is called feature matrix in machine learning. \n",
    "\n",
    "It has to be mentioned, that features (in machine learning) and varibles (in statistics) are the same concepts. Nevertheles, there is a difference, feature matrix has to contain the same type of data in every cell. The table can contain both types, categorical and continuous data but the first one has to be encoded.\n",
    "\n",
    "Machine learning is a field that studies, develops and utilizes methods (and algorithms) that utilize data (feature matrix) to to improve performance on some set of tasks (Mitchell, 1997). In the simplified classification, machine learning can be divided into supervised and unsupervised learning (Figure 1). \n",
    "\n",
    "TODO: explain differences supervised and unsupervised \n",
    "\n",
    "|<img src='images/Machine_learning.svg' style='float: none; width: 640px'>|\n",
    "|:--|\n",
    "|<em style='float: center'>**Figure 1**: Machine learning structure</em>|\n",
    "\n",
    "...\n",
    "\n",
    "<div class='alert alert-block alert-success'>\n",
    "<b>In this session</b>, \n",
    "\n",
    "you will learn differences between supervised and unsupervised learning. In Subsection **8.1** we will explain what dimentionality reduction is usefull for. The V-DEM dataset will function as an example that showcase usage of Principal Component Analysis (PCA) and how it related to Factor Analysis. (LDA?) In Subsection **8.2** you will learn how to perform clustering analysis on the example of K-Means algorithm. You will find out how to find optimal number of clusters. After finishing it you will be able to describe Agglomarative clustering and why to use it. In Subsection **8.3** you will be introduced to Association Rule mining  and ... Python packages. \n",
    "    \n",
    "</div>"
   ]
  },
  {
   "cell_type": "markdown",
   "id": "a4ee8e7e",
   "metadata": {},
   "source": [
    "2-dimensional data paradigm: observations and features (variables)\n",
    "\n",
    "Well-behaved (dense and balanced) vs. badly-behaved data (sparse, binary, and/or non-linear)"
   ]
  },
  {
   "cell_type": "markdown",
   "id": "0adb89bd",
   "metadata": {},
   "source": [
    "## 8.1. Dimensionality reduction\n",
    "\n",
    "https://scikit-learn.org/stable/modules/decomposition.html#decompositions\n",
    "\n",
    "Hovy textbook chapter 6\n",
    "\n",
    "\n",
    "\n"
   ]
  },
  {
   "cell_type": "markdown",
   "id": "5f0aec46",
   "metadata": {},
   "source": [
    "### 8.1.1. Structured data\n",
    "\n",
    "Introduce Principal Component Analysis (PCA) using the VDEM dataset"
   ]
  },
  {
   "cell_type": "markdown",
   "id": "7f8db0c4",
   "metadata": {},
   "source": [
    "https://scikit-learn.org/stable/auto_examples/decomposition/plot_pca_iris.html"
   ]
  },
  {
   "cell_type": "markdown",
   "id": "dab24781",
   "metadata": {},
   "source": [
    "Explain factor analysis and PCA in easy terms"
   ]
  },
  {
   "cell_type": "markdown",
   "id": "ec463fb6",
   "metadata": {},
   "source": [
    "Infer two factors and visualize them"
   ]
  },
  {
   "cell_type": "markdown",
   "id": "687abc24",
   "metadata": {},
   "source": [
    "How to interpret the results\n",
    "\n",
    "Hovy chapter 6.3"
   ]
  },
  {
   "cell_type": "markdown",
   "id": "8e9acf67",
   "metadata": {},
   "source": [
    "caveats re PCA"
   ]
  },
  {
   "cell_type": "markdown",
   "id": "aa36ea43",
   "metadata": {},
   "source": [
    "\n",
    "Assumptions of factor analysis:\n",
    "features are metric.\n",
    "features are continious or ordinal\n",
    "there is r>0.3 between the features \n",
    "sample is homogenous "
   ]
  },
  {
   "cell_type": "code",
   "execution_count": 20,
   "id": "5c30675d",
   "metadata": {},
   "outputs": [
    {
     "name": "stderr",
     "output_type": "stream",
     "text": [
      "/opt/anaconda3/lib/python3.8/site-packages/ipykernel/ipkernel.py:287: DeprecationWarning: `should_run_async` will not call `transform_cell` automatically in the future. Please pass the result to `transformed_cell` argument and any exception that happen during thetransform in `preprocessing_exc_tuple` in IPython 7.17 and above.\n",
      "  and should_run_async(code)\n"
     ]
    }
   ],
   "source": [
    "import pandas as pd"
   ]
  },
  {
   "cell_type": "code",
   "execution_count": 21,
   "id": "16577910",
   "metadata": {},
   "outputs": [
    {
     "name": "stderr",
     "output_type": "stream",
     "text": [
      "/opt/anaconda3/lib/python3.8/site-packages/ipykernel/ipkernel.py:287: DeprecationWarning: `should_run_async` will not call `transform_cell` automatically in the future. Please pass the result to `transformed_cell` argument and any exception that happen during thetransform in `preprocessing_exc_tuple` in IPython 7.17 and above.\n",
      "  and should_run_async(code)\n"
     ]
    }
   ],
   "source": [
    "vdem = pd.read_csv('../data/V-Dem/V-Dem-CY-Core-v13_2019.csv', encoding='utf-8', low_memory=False)\n",
    "#vdem = pd.read_csv('../data/V-Dem/V-Dem-CY-Full+Others-v10.csv', encoding='utf-8', low_memory=False)\n",
    "\n",
    "#vdem = pd.read_csv('../data/V-Dem/V-Dem-CY-Core-v13.csv', encoding='utf-8', low_memory=False)\n",
    "#vdem = vdem[vdem['year'] == 2019].reset_index(drop=True)\n",
    "#vdem.head()\n",
    "#vdem.to_csv('../data/V-Dem/V-Dem-CY-Core-v13_2019.csv', encoding='utf-8',index=False)"
   ]
  },
  {
   "cell_type": "code",
   "execution_count": 22,
   "id": "44b532d3",
   "metadata": {},
   "outputs": [
    {
     "name": "stderr",
     "output_type": "stream",
     "text": [
      "/opt/anaconda3/lib/python3.8/site-packages/ipykernel/ipkernel.py:287: DeprecationWarning: `should_run_async` will not call `transform_cell` automatically in the future. Please pass the result to `transformed_cell` argument and any exception that happen during thetransform in `preprocessing_exc_tuple` in IPython 7.17 and above.\n",
      "  and should_run_async(code)\n"
     ]
    },
    {
     "data": {
      "text/html": [
       "<div>\n",
       "<style scoped>\n",
       "    .dataframe tbody tr th:only-of-type {\n",
       "        vertical-align: middle;\n",
       "    }\n",
       "\n",
       "    .dataframe tbody tr th {\n",
       "        vertical-align: top;\n",
       "    }\n",
       "\n",
       "    .dataframe thead th {\n",
       "        text-align: right;\n",
       "    }\n",
       "</style>\n",
       "<table border=\"1\" class=\"dataframe\">\n",
       "  <thead>\n",
       "    <tr style=\"text-align: right;\">\n",
       "      <th></th>\n",
       "      <th>country_name</th>\n",
       "      <th>country_text_id</th>\n",
       "      <th>country_id</th>\n",
       "      <th>year</th>\n",
       "      <th>historical_date</th>\n",
       "      <th>project</th>\n",
       "      <th>historical</th>\n",
       "      <th>histname</th>\n",
       "      <th>codingstart</th>\n",
       "      <th>codingend</th>\n",
       "      <th>...</th>\n",
       "      <th>v2xme_altinf_sd</th>\n",
       "      <th>v2xps_party</th>\n",
       "      <th>v2xps_party_codelow</th>\n",
       "      <th>v2xps_party_codehigh</th>\n",
       "      <th>v2x_divparctrl</th>\n",
       "      <th>v2x_feduni</th>\n",
       "      <th>v2xca_academ</th>\n",
       "      <th>v2xca_academ_codelow</th>\n",
       "      <th>v2xca_academ_codehigh</th>\n",
       "      <th>v2xca_academ_sd</th>\n",
       "    </tr>\n",
       "  </thead>\n",
       "  <tbody>\n",
       "    <tr>\n",
       "      <th>0</th>\n",
       "      <td>Mexico</td>\n",
       "      <td>MEX</td>\n",
       "      <td>3</td>\n",
       "      <td>2019</td>\n",
       "      <td>2019-12-31</td>\n",
       "      <td>0</td>\n",
       "      <td>1</td>\n",
       "      <td>United Mexican States</td>\n",
       "      <td>1789</td>\n",
       "      <td>2022</td>\n",
       "      <td>...</td>\n",
       "      <td>0.655</td>\n",
       "      <td>0.867</td>\n",
       "      <td>0.739</td>\n",
       "      <td>0.933</td>\n",
       "      <td>-1.239</td>\n",
       "      <td>0.979</td>\n",
       "      <td>0.895</td>\n",
       "      <td>0.826</td>\n",
       "      <td>0.939</td>\n",
       "      <td>0.622</td>\n",
       "    </tr>\n",
       "    <tr>\n",
       "      <th>1</th>\n",
       "      <td>Suriname</td>\n",
       "      <td>SUR</td>\n",
       "      <td>4</td>\n",
       "      <td>2019</td>\n",
       "      <td>2019-12-31</td>\n",
       "      <td>0</td>\n",
       "      <td>0</td>\n",
       "      <td>Republic of Suriname [independent state]</td>\n",
       "      <td>1900</td>\n",
       "      <td>2022</td>\n",
       "      <td>...</td>\n",
       "      <td>0.649</td>\n",
       "      <td>0.597</td>\n",
       "      <td>0.408</td>\n",
       "      <td>0.761</td>\n",
       "      <td>1.022</td>\n",
       "      <td>0.472</td>\n",
       "      <td>0.828</td>\n",
       "      <td>0.722</td>\n",
       "      <td>0.886</td>\n",
       "      <td>0.620</td>\n",
       "    </tr>\n",
       "    <tr>\n",
       "      <th>2</th>\n",
       "      <td>Sweden</td>\n",
       "      <td>SWE</td>\n",
       "      <td>5</td>\n",
       "      <td>2019</td>\n",
       "      <td>2019-12-31</td>\n",
       "      <td>0</td>\n",
       "      <td>1</td>\n",
       "      <td>Kingdom of Sweden</td>\n",
       "      <td>1789</td>\n",
       "      <td>2022</td>\n",
       "      <td>...</td>\n",
       "      <td>0.653</td>\n",
       "      <td>0.996</td>\n",
       "      <td>0.964</td>\n",
       "      <td>1.000</td>\n",
       "      <td>-0.003</td>\n",
       "      <td>0.941</td>\n",
       "      <td>0.951</td>\n",
       "      <td>0.907</td>\n",
       "      <td>0.972</td>\n",
       "      <td>0.618</td>\n",
       "    </tr>\n",
       "    <tr>\n",
       "      <th>3</th>\n",
       "      <td>Switzerland</td>\n",
       "      <td>CHE</td>\n",
       "      <td>6</td>\n",
       "      <td>2019</td>\n",
       "      <td>2019-12-31</td>\n",
       "      <td>0</td>\n",
       "      <td>1</td>\n",
       "      <td>Swiss Confederation</td>\n",
       "      <td>1798</td>\n",
       "      <td>2022</td>\n",
       "      <td>...</td>\n",
       "      <td>0.653</td>\n",
       "      <td>0.881</td>\n",
       "      <td>0.731</td>\n",
       "      <td>0.948</td>\n",
       "      <td>0.367</td>\n",
       "      <td>0.997</td>\n",
       "      <td>0.907</td>\n",
       "      <td>0.851</td>\n",
       "      <td>0.949</td>\n",
       "      <td>0.619</td>\n",
       "    </tr>\n",
       "    <tr>\n",
       "      <th>4</th>\n",
       "      <td>Ghana</td>\n",
       "      <td>GHA</td>\n",
       "      <td>7</td>\n",
       "      <td>2019</td>\n",
       "      <td>2019-12-31</td>\n",
       "      <td>0</td>\n",
       "      <td>0</td>\n",
       "      <td>Republic of Ghana</td>\n",
       "      <td>1902</td>\n",
       "      <td>2022</td>\n",
       "      <td>...</td>\n",
       "      <td>0.644</td>\n",
       "      <td>0.614</td>\n",
       "      <td>0.505</td>\n",
       "      <td>0.719</td>\n",
       "      <td>-1.380</td>\n",
       "      <td>0.169</td>\n",
       "      <td>0.793</td>\n",
       "      <td>0.682</td>\n",
       "      <td>0.860</td>\n",
       "      <td>0.623</td>\n",
       "    </tr>\n",
       "  </tbody>\n",
       "</table>\n",
       "<p>5 rows × 1818 columns</p>\n",
       "</div>"
      ],
      "text/plain": [
       "  country_name country_text_id  country_id  year historical_date  project  \\\n",
       "0       Mexico             MEX           3  2019      2019-12-31        0   \n",
       "1     Suriname             SUR           4  2019      2019-12-31        0   \n",
       "2       Sweden             SWE           5  2019      2019-12-31        0   \n",
       "3  Switzerland             CHE           6  2019      2019-12-31        0   \n",
       "4        Ghana             GHA           7  2019      2019-12-31        0   \n",
       "\n",
       "   historical                                  histname  codingstart  \\\n",
       "0           1                     United Mexican States         1789   \n",
       "1           0  Republic of Suriname [independent state]         1900   \n",
       "2           1                         Kingdom of Sweden         1789   \n",
       "3           1                       Swiss Confederation         1798   \n",
       "4           0                         Republic of Ghana         1902   \n",
       "\n",
       "   codingend  ...  v2xme_altinf_sd  v2xps_party  v2xps_party_codelow  \\\n",
       "0       2022  ...            0.655        0.867                0.739   \n",
       "1       2022  ...            0.649        0.597                0.408   \n",
       "2       2022  ...            0.653        0.996                0.964   \n",
       "3       2022  ...            0.653        0.881                0.731   \n",
       "4       2022  ...            0.644        0.614                0.505   \n",
       "\n",
       "   v2xps_party_codehigh  v2x_divparctrl  v2x_feduni  v2xca_academ  \\\n",
       "0                 0.933          -1.239       0.979         0.895   \n",
       "1                 0.761           1.022       0.472         0.828   \n",
       "2                 1.000          -0.003       0.941         0.951   \n",
       "3                 0.948           0.367       0.997         0.907   \n",
       "4                 0.719          -1.380       0.169         0.793   \n",
       "\n",
       "   v2xca_academ_codelow  v2xca_academ_codehigh  v2xca_academ_sd  \n",
       "0                 0.826                  0.939            0.622  \n",
       "1                 0.722                  0.886            0.620  \n",
       "2                 0.907                  0.972            0.618  \n",
       "3                 0.851                  0.949            0.619  \n",
       "4                 0.682                  0.860            0.623  \n",
       "\n",
       "[5 rows x 1818 columns]"
      ]
     },
     "execution_count": 22,
     "metadata": {},
     "output_type": "execute_result"
    }
   ],
   "source": [
    "vdem.head()"
   ]
  },
  {
   "cell_type": "markdown",
   "id": "881efb78",
   "metadata": {},
   "source": [
    "old \n",
    "\n",
    "indicators = [\n",
    "    'v2dlreason', 'v2dlcommon', 'v2dlcountr', 'v2dlconslt', 'v2dlengage', \n",
    "    'v2dlencmps', 'v2dlunivl', 'v2cseeorgs', 'v2csreprss', 'v2cscnsult', \n",
    "    'v2csprtcpt', 'v2csgender', 'v2csantimv', 'v2csrlgrep', 'v2csrlgcon', \n",
    "    'v2mecenefm', 'v2mecenefi', 'v2mecenefibin', 'v2mecrit', 'v2merange', \n",
    "    'v2mefemjrn', 'v2meharjrn', 'v2meslfcen', 'v2mebias', 'v2mecorrpt', \n",
    "    'v2exrescon', 'v2exbribe', 'v2exembez', 'v2excrptps', 'v2exthftps', \n",
    "    'v2cldiscm', 'v2cldiscw', 'v2clacfree', 'v2clrelig', 'v2clfmove'\n",
    "]"
   ]
  },
  {
   "cell_type": "code",
   "execution_count": 23,
   "id": "d636789a",
   "metadata": {},
   "outputs": [
    {
     "name": "stderr",
     "output_type": "stream",
     "text": [
      "/opt/anaconda3/lib/python3.8/site-packages/ipykernel/ipkernel.py:287: DeprecationWarning: `should_run_async` will not call `transform_cell` automatically in the future. Please pass the result to `transformed_cell` argument and any exception that happen during thetransform in `preprocessing_exc_tuple` in IPython 7.17 and above.\n",
      "  and should_run_async(code)\n"
     ]
    }
   ],
   "source": [
    "indicators = [\n",
    "    'v2mecenefm', 'v2meharjrn', 'v2meslfcen', 'v2mebias', 'v2merange', 'v2mecrit', 'v2cldiscm', 'v2cldiscw', 'v2clacfree',\n",
    "    \n",
    "    'v2psparban', 'v2psbars', 'v2psoppaut', 'v2elmulpar', 'v2cseeorgs', 'v2csreprss',\n",
    "    'v2elsuffrage',\n",
    "    'v2elembcap', 'v2elrgstry', 'v2elvotbuy', 'v2elirreg', 'v2elintim', 'v2elpeace', 'v2elfrfair',#'v2elembaut', \n",
    "    'v2lgbicam', 'v2expathhs', 'v2exhoshog','v2exdfcbhs','v2exdfdmhs',\n",
    "    #'v2lginello','v2lgelecup','v2lginelup','v2expathhg','v2lgello',\n",
    "   # 'v2mefemjrn'\n",
    "]"
   ]
  },
  {
   "cell_type": "code",
   "execution_count": 24,
   "id": "c31ffe1c",
   "metadata": {},
   "outputs": [
    {
     "name": "stderr",
     "output_type": "stream",
     "text": [
      "/opt/anaconda3/lib/python3.8/site-packages/ipykernel/ipkernel.py:287: DeprecationWarning: `should_run_async` will not call `transform_cell` automatically in the future. Please pass the result to `transformed_cell` argument and any exception that happen during thetransform in `preprocessing_exc_tuple` in IPython 7.17 and above.\n",
      "  and should_run_async(code)\n"
     ]
    },
    {
     "data": {
      "text/plain": [
       "(179, 28)"
      ]
     },
     "execution_count": 24,
     "metadata": {},
     "output_type": "execute_result"
    }
   ],
   "source": [
    "countries = vdem['country_name'].tolist()\n",
    "vdem = vdem.set_index('country_name')[indicators]\n",
    "vdem.shape"
   ]
  },
  {
   "cell_type": "code",
   "execution_count": 25,
   "id": "ec2cfad9",
   "metadata": {},
   "outputs": [
    {
     "name": "stderr",
     "output_type": "stream",
     "text": [
      "/opt/anaconda3/lib/python3.8/site-packages/ipykernel/ipkernel.py:287: DeprecationWarning: `should_run_async` will not call `transform_cell` automatically in the future. Please pass the result to `transformed_cell` argument and any exception that happen during thetransform in `preprocessing_exc_tuple` in IPython 7.17 and above.\n",
      "  and should_run_async(code)\n"
     ]
    },
    {
     "data": {
      "text/html": [
       "<div>\n",
       "<style scoped>\n",
       "    .dataframe tbody tr th:only-of-type {\n",
       "        vertical-align: middle;\n",
       "    }\n",
       "\n",
       "    .dataframe tbody tr th {\n",
       "        vertical-align: top;\n",
       "    }\n",
       "\n",
       "    .dataframe thead th {\n",
       "        text-align: right;\n",
       "    }\n",
       "</style>\n",
       "<table border=\"1\" class=\"dataframe\">\n",
       "  <thead>\n",
       "    <tr style=\"text-align: right;\">\n",
       "      <th></th>\n",
       "      <th>v2mecenefm</th>\n",
       "      <th>v2meharjrn</th>\n",
       "      <th>v2meslfcen</th>\n",
       "      <th>v2mebias</th>\n",
       "      <th>v2merange</th>\n",
       "      <th>v2mecrit</th>\n",
       "      <th>v2cldiscm</th>\n",
       "      <th>v2cldiscw</th>\n",
       "      <th>v2clacfree</th>\n",
       "      <th>v2psparban</th>\n",
       "      <th>...</th>\n",
       "      <th>v2elvotbuy</th>\n",
       "      <th>v2elirreg</th>\n",
       "      <th>v2elintim</th>\n",
       "      <th>v2elpeace</th>\n",
       "      <th>v2elfrfair</th>\n",
       "      <th>v2lgbicam</th>\n",
       "      <th>v2expathhs</th>\n",
       "      <th>v2exhoshog</th>\n",
       "      <th>v2exdfcbhs</th>\n",
       "      <th>v2exdfdmhs</th>\n",
       "    </tr>\n",
       "    <tr>\n",
       "      <th>country_name</th>\n",
       "      <th></th>\n",
       "      <th></th>\n",
       "      <th></th>\n",
       "      <th></th>\n",
       "      <th></th>\n",
       "      <th></th>\n",
       "      <th></th>\n",
       "      <th></th>\n",
       "      <th></th>\n",
       "      <th></th>\n",
       "      <th></th>\n",
       "      <th></th>\n",
       "      <th></th>\n",
       "      <th></th>\n",
       "      <th></th>\n",
       "      <th></th>\n",
       "      <th></th>\n",
       "      <th></th>\n",
       "      <th></th>\n",
       "      <th></th>\n",
       "      <th></th>\n",
       "    </tr>\n",
       "  </thead>\n",
       "  <tbody>\n",
       "    <tr>\n",
       "      <th>Mexico</th>\n",
       "      <td>0.100</td>\n",
       "      <td>0.232</td>\n",
       "      <td>0.844</td>\n",
       "      <td>1.435</td>\n",
       "      <td>1.528</td>\n",
       "      <td>1.628</td>\n",
       "      <td>2.663</td>\n",
       "      <td>1.372</td>\n",
       "      <td>1.800</td>\n",
       "      <td>1.950</td>\n",
       "      <td>...</td>\n",
       "      <td>-0.858</td>\n",
       "      <td>0.740</td>\n",
       "      <td>0.318</td>\n",
       "      <td>-0.990</td>\n",
       "      <td>1.294</td>\n",
       "      <td>2.0</td>\n",
       "      <td>7.0</td>\n",
       "      <td>1.0</td>\n",
       "      <td>1.310</td>\n",
       "      <td>1.654</td>\n",
       "    </tr>\n",
       "    <tr>\n",
       "      <th>Suriname</th>\n",
       "      <td>1.063</td>\n",
       "      <td>1.726</td>\n",
       "      <td>0.523</td>\n",
       "      <td>1.650</td>\n",
       "      <td>2.431</td>\n",
       "      <td>1.201</td>\n",
       "      <td>1.792</td>\n",
       "      <td>1.894</td>\n",
       "      <td>1.484</td>\n",
       "      <td>1.906</td>\n",
       "      <td>...</td>\n",
       "      <td>0.357</td>\n",
       "      <td>1.635</td>\n",
       "      <td>1.356</td>\n",
       "      <td>1.182</td>\n",
       "      <td>1.419</td>\n",
       "      <td>1.0</td>\n",
       "      <td>6.0</td>\n",
       "      <td>1.0</td>\n",
       "      <td>1.685</td>\n",
       "      <td>1.826</td>\n",
       "    </tr>\n",
       "    <tr>\n",
       "      <th>Sweden</th>\n",
       "      <td>3.400</td>\n",
       "      <td>2.127</td>\n",
       "      <td>2.011</td>\n",
       "      <td>2.316</td>\n",
       "      <td>2.682</td>\n",
       "      <td>3.194</td>\n",
       "      <td>1.936</td>\n",
       "      <td>1.988</td>\n",
       "      <td>3.303</td>\n",
       "      <td>2.427</td>\n",
       "      <td>...</td>\n",
       "      <td>2.447</td>\n",
       "      <td>1.270</td>\n",
       "      <td>1.987</td>\n",
       "      <td>1.449</td>\n",
       "      <td>2.073</td>\n",
       "      <td>1.0</td>\n",
       "      <td>4.0</td>\n",
       "      <td>0.0</td>\n",
       "      <td>-3.438</td>\n",
       "      <td>-3.511</td>\n",
       "    </tr>\n",
       "    <tr>\n",
       "      <th>Switzerland</th>\n",
       "      <td>3.185</td>\n",
       "      <td>3.714</td>\n",
       "      <td>3.061</td>\n",
       "      <td>2.697</td>\n",
       "      <td>2.118</td>\n",
       "      <td>2.395</td>\n",
       "      <td>2.590</td>\n",
       "      <td>2.896</td>\n",
       "      <td>3.008</td>\n",
       "      <td>2.461</td>\n",
       "      <td>...</td>\n",
       "      <td>2.251</td>\n",
       "      <td>2.152</td>\n",
       "      <td>1.770</td>\n",
       "      <td>0.864</td>\n",
       "      <td>1.877</td>\n",
       "      <td>2.0</td>\n",
       "      <td>6.0</td>\n",
       "      <td>1.0</td>\n",
       "      <td>-2.923</td>\n",
       "      <td>-3.565</td>\n",
       "    </tr>\n",
       "    <tr>\n",
       "      <th>Ghana</th>\n",
       "      <td>2.175</td>\n",
       "      <td>0.633</td>\n",
       "      <td>1.270</td>\n",
       "      <td>1.564</td>\n",
       "      <td>1.756</td>\n",
       "      <td>1.308</td>\n",
       "      <td>2.171</td>\n",
       "      <td>1.590</td>\n",
       "      <td>1.709</td>\n",
       "      <td>1.731</td>\n",
       "      <td>...</td>\n",
       "      <td>-0.777</td>\n",
       "      <td>0.560</td>\n",
       "      <td>0.395</td>\n",
       "      <td>-0.025</td>\n",
       "      <td>1.695</td>\n",
       "      <td>1.0</td>\n",
       "      <td>7.0</td>\n",
       "      <td>1.0</td>\n",
       "      <td>0.092</td>\n",
       "      <td>1.291</td>\n",
       "    </tr>\n",
       "  </tbody>\n",
       "</table>\n",
       "<p>5 rows × 28 columns</p>\n",
       "</div>"
      ],
      "text/plain": [
       "              v2mecenefm  v2meharjrn  v2meslfcen  v2mebias  v2merange  \\\n",
       "country_name                                                            \n",
       "Mexico             0.100       0.232       0.844     1.435      1.528   \n",
       "Suriname           1.063       1.726       0.523     1.650      2.431   \n",
       "Sweden             3.400       2.127       2.011     2.316      2.682   \n",
       "Switzerland        3.185       3.714       3.061     2.697      2.118   \n",
       "Ghana              2.175       0.633       1.270     1.564      1.756   \n",
       "\n",
       "              v2mecrit  v2cldiscm  v2cldiscw  v2clacfree  v2psparban  ...  \\\n",
       "country_name                                                          ...   \n",
       "Mexico           1.628      2.663      1.372       1.800       1.950  ...   \n",
       "Suriname         1.201      1.792      1.894       1.484       1.906  ...   \n",
       "Sweden           3.194      1.936      1.988       3.303       2.427  ...   \n",
       "Switzerland      2.395      2.590      2.896       3.008       2.461  ...   \n",
       "Ghana            1.308      2.171      1.590       1.709       1.731  ...   \n",
       "\n",
       "              v2elvotbuy  v2elirreg  v2elintim  v2elpeace  v2elfrfair  \\\n",
       "country_name                                                            \n",
       "Mexico            -0.858      0.740      0.318     -0.990       1.294   \n",
       "Suriname           0.357      1.635      1.356      1.182       1.419   \n",
       "Sweden             2.447      1.270      1.987      1.449       2.073   \n",
       "Switzerland        2.251      2.152      1.770      0.864       1.877   \n",
       "Ghana             -0.777      0.560      0.395     -0.025       1.695   \n",
       "\n",
       "              v2lgbicam  v2expathhs  v2exhoshog  v2exdfcbhs  v2exdfdmhs  \n",
       "country_name                                                             \n",
       "Mexico              2.0         7.0         1.0       1.310       1.654  \n",
       "Suriname            1.0         6.0         1.0       1.685       1.826  \n",
       "Sweden              1.0         4.0         0.0      -3.438      -3.511  \n",
       "Switzerland         2.0         6.0         1.0      -2.923      -3.565  \n",
       "Ghana               1.0         7.0         1.0       0.092       1.291  \n",
       "\n",
       "[5 rows x 28 columns]"
      ]
     },
     "execution_count": 25,
     "metadata": {},
     "output_type": "execute_result"
    }
   ],
   "source": [
    "vdem.head()"
   ]
  },
  {
   "cell_type": "markdown",
   "id": "7530c2d9",
   "metadata": {},
   "source": [
    "Are there missing values?"
   ]
  },
  {
   "cell_type": "code",
   "execution_count": 26,
   "id": "2b4a5467",
   "metadata": {},
   "outputs": [
    {
     "name": "stderr",
     "output_type": "stream",
     "text": [
      "/opt/anaconda3/lib/python3.8/site-packages/ipykernel/ipkernel.py:287: DeprecationWarning: `should_run_async` will not call `transform_cell` automatically in the future. Please pass the result to `transformed_cell` argument and any exception that happen during thetransform in `preprocessing_exc_tuple` in IPython 7.17 and above.\n",
      "  and should_run_async(code)\n"
     ]
    },
    {
     "data": {
      "text/plain": [
       "0    20\n",
       "9     7\n",
       "3     1\n",
       "dtype: int64"
      ]
     },
     "execution_count": 26,
     "metadata": {},
     "output_type": "execute_result"
    }
   ],
   "source": [
    "vdem.isna().sum().value_counts()"
   ]
  },
  {
   "cell_type": "code",
   "execution_count": 27,
   "id": "3df14470",
   "metadata": {},
   "outputs": [
    {
     "name": "stderr",
     "output_type": "stream",
     "text": [
      "/opt/anaconda3/lib/python3.8/site-packages/ipykernel/ipkernel.py:287: DeprecationWarning: `should_run_async` will not call `transform_cell` automatically in the future. Please pass the result to `transformed_cell` argument and any exception that happen during thetransform in `preprocessing_exc_tuple` in IPython 7.17 and above.\n",
      "  and should_run_async(code)\n"
     ]
    },
    {
     "data": {
      "text/html": [
       "<div>\n",
       "<style scoped>\n",
       "    .dataframe tbody tr th:only-of-type {\n",
       "        vertical-align: middle;\n",
       "    }\n",
       "\n",
       "    .dataframe tbody tr th {\n",
       "        vertical-align: top;\n",
       "    }\n",
       "\n",
       "    .dataframe thead th {\n",
       "        text-align: right;\n",
       "    }\n",
       "</style>\n",
       "<table border=\"1\" class=\"dataframe\">\n",
       "  <thead>\n",
       "    <tr style=\"text-align: right;\">\n",
       "      <th></th>\n",
       "      <th>v2mecenefm</th>\n",
       "      <th>v2meharjrn</th>\n",
       "      <th>v2meslfcen</th>\n",
       "      <th>v2mebias</th>\n",
       "      <th>v2merange</th>\n",
       "      <th>v2mecrit</th>\n",
       "      <th>v2cldiscm</th>\n",
       "      <th>v2cldiscw</th>\n",
       "      <th>v2clacfree</th>\n",
       "      <th>v2psparban</th>\n",
       "      <th>...</th>\n",
       "      <th>v2elvotbuy</th>\n",
       "      <th>v2elirreg</th>\n",
       "      <th>v2elintim</th>\n",
       "      <th>v2elpeace</th>\n",
       "      <th>v2elfrfair</th>\n",
       "      <th>v2lgbicam</th>\n",
       "      <th>v2expathhs</th>\n",
       "      <th>v2exhoshog</th>\n",
       "      <th>v2exdfcbhs</th>\n",
       "      <th>v2exdfdmhs</th>\n",
       "    </tr>\n",
       "    <tr>\n",
       "      <th>country_name</th>\n",
       "      <th></th>\n",
       "      <th></th>\n",
       "      <th></th>\n",
       "      <th></th>\n",
       "      <th></th>\n",
       "      <th></th>\n",
       "      <th></th>\n",
       "      <th></th>\n",
       "      <th></th>\n",
       "      <th></th>\n",
       "      <th></th>\n",
       "      <th></th>\n",
       "      <th></th>\n",
       "      <th></th>\n",
       "      <th></th>\n",
       "      <th></th>\n",
       "      <th></th>\n",
       "      <th></th>\n",
       "      <th></th>\n",
       "      <th></th>\n",
       "      <th></th>\n",
       "    </tr>\n",
       "  </thead>\n",
       "  <tbody>\n",
       "    <tr>\n",
       "      <th>Yemen</th>\n",
       "      <td>-2.238</td>\n",
       "      <td>-1.355</td>\n",
       "      <td>-0.593</td>\n",
       "      <td>-0.153</td>\n",
       "      <td>-0.613</td>\n",
       "      <td>-1.161</td>\n",
       "      <td>-0.917</td>\n",
       "      <td>-0.972</td>\n",
       "      <td>-1.652</td>\n",
       "      <td>1.033</td>\n",
       "      <td>...</td>\n",
       "      <td>NaN</td>\n",
       "      <td>NaN</td>\n",
       "      <td>NaN</td>\n",
       "      <td>NaN</td>\n",
       "      <td>NaN</td>\n",
       "      <td>2.0</td>\n",
       "      <td>1.0</td>\n",
       "      <td>0.0</td>\n",
       "      <td>0.942</td>\n",
       "      <td>1.507</td>\n",
       "    </tr>\n",
       "    <tr>\n",
       "      <th>South Sudan</th>\n",
       "      <td>-2.690</td>\n",
       "      <td>-1.678</td>\n",
       "      <td>-0.359</td>\n",
       "      <td>-0.863</td>\n",
       "      <td>-1.677</td>\n",
       "      <td>-1.497</td>\n",
       "      <td>-1.939</td>\n",
       "      <td>-0.734</td>\n",
       "      <td>-1.530</td>\n",
       "      <td>1.032</td>\n",
       "      <td>...</td>\n",
       "      <td>NaN</td>\n",
       "      <td>NaN</td>\n",
       "      <td>NaN</td>\n",
       "      <td>NaN</td>\n",
       "      <td>NaN</td>\n",
       "      <td>2.0</td>\n",
       "      <td>7.0</td>\n",
       "      <td>1.0</td>\n",
       "      <td>1.190</td>\n",
       "      <td>1.524</td>\n",
       "    </tr>\n",
       "    <tr>\n",
       "      <th>Qatar</th>\n",
       "      <td>-0.983</td>\n",
       "      <td>-1.436</td>\n",
       "      <td>-1.924</td>\n",
       "      <td>-2.281</td>\n",
       "      <td>-2.143</td>\n",
       "      <td>-1.982</td>\n",
       "      <td>-1.340</td>\n",
       "      <td>-1.614</td>\n",
       "      <td>-0.405</td>\n",
       "      <td>-1.512</td>\n",
       "      <td>...</td>\n",
       "      <td>NaN</td>\n",
       "      <td>NaN</td>\n",
       "      <td>NaN</td>\n",
       "      <td>NaN</td>\n",
       "      <td>NaN</td>\n",
       "      <td>1.0</td>\n",
       "      <td>4.0</td>\n",
       "      <td>0.0</td>\n",
       "      <td>2.349</td>\n",
       "      <td>1.623</td>\n",
       "    </tr>\n",
       "    <tr>\n",
       "      <th>China</th>\n",
       "      <td>-2.103</td>\n",
       "      <td>-1.826</td>\n",
       "      <td>-2.619</td>\n",
       "      <td>-1.751</td>\n",
       "      <td>-2.073</td>\n",
       "      <td>-2.062</td>\n",
       "      <td>-1.565</td>\n",
       "      <td>-1.365</td>\n",
       "      <td>-2.714</td>\n",
       "      <td>-3.080</td>\n",
       "      <td>...</td>\n",
       "      <td>NaN</td>\n",
       "      <td>NaN</td>\n",
       "      <td>NaN</td>\n",
       "      <td>NaN</td>\n",
       "      <td>NaN</td>\n",
       "      <td>1.0</td>\n",
       "      <td>2.0</td>\n",
       "      <td>0.0</td>\n",
       "      <td>1.011</td>\n",
       "      <td>0.761</td>\n",
       "    </tr>\n",
       "    <tr>\n",
       "      <th>Eritrea</th>\n",
       "      <td>-2.680</td>\n",
       "      <td>-2.803</td>\n",
       "      <td>-2.843</td>\n",
       "      <td>-2.685</td>\n",
       "      <td>-2.671</td>\n",
       "      <td>-2.208</td>\n",
       "      <td>-1.958</td>\n",
       "      <td>-2.273</td>\n",
       "      <td>-2.237</td>\n",
       "      <td>-3.381</td>\n",
       "      <td>...</td>\n",
       "      <td>NaN</td>\n",
       "      <td>NaN</td>\n",
       "      <td>NaN</td>\n",
       "      <td>NaN</td>\n",
       "      <td>NaN</td>\n",
       "      <td>0.0</td>\n",
       "      <td>6.0</td>\n",
       "      <td>1.0</td>\n",
       "      <td>1.035</td>\n",
       "      <td>1.950</td>\n",
       "    </tr>\n",
       "    <tr>\n",
       "      <th>Palestine/West Bank</th>\n",
       "      <td>-0.579</td>\n",
       "      <td>0.989</td>\n",
       "      <td>0.277</td>\n",
       "      <td>1.185</td>\n",
       "      <td>0.693</td>\n",
       "      <td>0.792</td>\n",
       "      <td>0.677</td>\n",
       "      <td>0.849</td>\n",
       "      <td>1.244</td>\n",
       "      <td>1.090</td>\n",
       "      <td>...</td>\n",
       "      <td>NaN</td>\n",
       "      <td>NaN</td>\n",
       "      <td>NaN</td>\n",
       "      <td>NaN</td>\n",
       "      <td>NaN</td>\n",
       "      <td>0.0</td>\n",
       "      <td>7.0</td>\n",
       "      <td>0.0</td>\n",
       "      <td>1.229</td>\n",
       "      <td>1.575</td>\n",
       "    </tr>\n",
       "    <tr>\n",
       "      <th>Somalia</th>\n",
       "      <td>-0.722</td>\n",
       "      <td>-0.223</td>\n",
       "      <td>-0.332</td>\n",
       "      <td>0.932</td>\n",
       "      <td>0.969</td>\n",
       "      <td>0.821</td>\n",
       "      <td>0.205</td>\n",
       "      <td>-0.186</td>\n",
       "      <td>-0.689</td>\n",
       "      <td>0.668</td>\n",
       "      <td>...</td>\n",
       "      <td>NaN</td>\n",
       "      <td>NaN</td>\n",
       "      <td>NaN</td>\n",
       "      <td>NaN</td>\n",
       "      <td>NaN</td>\n",
       "      <td>2.0</td>\n",
       "      <td>6.0</td>\n",
       "      <td>0.0</td>\n",
       "      <td>-1.583</td>\n",
       "      <td>-1.161</td>\n",
       "    </tr>\n",
       "    <tr>\n",
       "      <th>Palestine/Gaza</th>\n",
       "      <td>-0.967</td>\n",
       "      <td>-1.271</td>\n",
       "      <td>-1.838</td>\n",
       "      <td>-1.201</td>\n",
       "      <td>0.185</td>\n",
       "      <td>-1.120</td>\n",
       "      <td>-1.166</td>\n",
       "      <td>-1.726</td>\n",
       "      <td>-1.626</td>\n",
       "      <td>0.312</td>\n",
       "      <td>...</td>\n",
       "      <td>NaN</td>\n",
       "      <td>NaN</td>\n",
       "      <td>NaN</td>\n",
       "      <td>NaN</td>\n",
       "      <td>NaN</td>\n",
       "      <td>0.0</td>\n",
       "      <td>8.0</td>\n",
       "      <td>1.0</td>\n",
       "      <td>0.753</td>\n",
       "      <td>0.692</td>\n",
       "    </tr>\n",
       "    <tr>\n",
       "      <th>Oman</th>\n",
       "      <td>-0.976</td>\n",
       "      <td>-1.198</td>\n",
       "      <td>-1.732</td>\n",
       "      <td>-1.320</td>\n",
       "      <td>-1.929</td>\n",
       "      <td>-2.078</td>\n",
       "      <td>-0.634</td>\n",
       "      <td>-0.866</td>\n",
       "      <td>-0.681</td>\n",
       "      <td>-1.910</td>\n",
       "      <td>...</td>\n",
       "      <td>0.569</td>\n",
       "      <td>1.13</td>\n",
       "      <td>0.33</td>\n",
       "      <td>0.416</td>\n",
       "      <td>2.01</td>\n",
       "      <td>2.0</td>\n",
       "      <td>4.0</td>\n",
       "      <td>1.0</td>\n",
       "      <td>2.287</td>\n",
       "      <td>1.845</td>\n",
       "    </tr>\n",
       "    <tr>\n",
       "      <th>Saudi Arabia</th>\n",
       "      <td>-1.605</td>\n",
       "      <td>-2.137</td>\n",
       "      <td>-1.918</td>\n",
       "      <td>-1.856</td>\n",
       "      <td>-2.002</td>\n",
       "      <td>-1.350</td>\n",
       "      <td>-1.175</td>\n",
       "      <td>-1.189</td>\n",
       "      <td>-1.504</td>\n",
       "      <td>-2.194</td>\n",
       "      <td>...</td>\n",
       "      <td>NaN</td>\n",
       "      <td>NaN</td>\n",
       "      <td>NaN</td>\n",
       "      <td>NaN</td>\n",
       "      <td>NaN</td>\n",
       "      <td>1.0</td>\n",
       "      <td>4.0</td>\n",
       "      <td>1.0</td>\n",
       "      <td>2.469</td>\n",
       "      <td>1.656</td>\n",
       "    </tr>\n",
       "  </tbody>\n",
       "</table>\n",
       "<p>10 rows × 28 columns</p>\n",
       "</div>"
      ],
      "text/plain": [
       "                     v2mecenefm  v2meharjrn  v2meslfcen  v2mebias  v2merange  \\\n",
       "country_name                                                                   \n",
       "Yemen                    -2.238      -1.355      -0.593    -0.153     -0.613   \n",
       "South Sudan              -2.690      -1.678      -0.359    -0.863     -1.677   \n",
       "Qatar                    -0.983      -1.436      -1.924    -2.281     -2.143   \n",
       "China                    -2.103      -1.826      -2.619    -1.751     -2.073   \n",
       "Eritrea                  -2.680      -2.803      -2.843    -2.685     -2.671   \n",
       "Palestine/West Bank      -0.579       0.989       0.277     1.185      0.693   \n",
       "Somalia                  -0.722      -0.223      -0.332     0.932      0.969   \n",
       "Palestine/Gaza           -0.967      -1.271      -1.838    -1.201      0.185   \n",
       "Oman                     -0.976      -1.198      -1.732    -1.320     -1.929   \n",
       "Saudi Arabia             -1.605      -2.137      -1.918    -1.856     -2.002   \n",
       "\n",
       "                     v2mecrit  v2cldiscm  v2cldiscw  v2clacfree  v2psparban  \\\n",
       "country_name                                                                  \n",
       "Yemen                  -1.161     -0.917     -0.972      -1.652       1.033   \n",
       "South Sudan            -1.497     -1.939     -0.734      -1.530       1.032   \n",
       "Qatar                  -1.982     -1.340     -1.614      -0.405      -1.512   \n",
       "China                  -2.062     -1.565     -1.365      -2.714      -3.080   \n",
       "Eritrea                -2.208     -1.958     -2.273      -2.237      -3.381   \n",
       "Palestine/West Bank     0.792      0.677      0.849       1.244       1.090   \n",
       "Somalia                 0.821      0.205     -0.186      -0.689       0.668   \n",
       "Palestine/Gaza         -1.120     -1.166     -1.726      -1.626       0.312   \n",
       "Oman                   -2.078     -0.634     -0.866      -0.681      -1.910   \n",
       "Saudi Arabia           -1.350     -1.175     -1.189      -1.504      -2.194   \n",
       "\n",
       "                     ...  v2elvotbuy  v2elirreg  v2elintim  v2elpeace  \\\n",
       "country_name         ...                                                \n",
       "Yemen                ...         NaN        NaN        NaN        NaN   \n",
       "South Sudan          ...         NaN        NaN        NaN        NaN   \n",
       "Qatar                ...         NaN        NaN        NaN        NaN   \n",
       "China                ...         NaN        NaN        NaN        NaN   \n",
       "Eritrea              ...         NaN        NaN        NaN        NaN   \n",
       "Palestine/West Bank  ...         NaN        NaN        NaN        NaN   \n",
       "Somalia              ...         NaN        NaN        NaN        NaN   \n",
       "Palestine/Gaza       ...         NaN        NaN        NaN        NaN   \n",
       "Oman                 ...       0.569       1.13       0.33      0.416   \n",
       "Saudi Arabia         ...         NaN        NaN        NaN        NaN   \n",
       "\n",
       "                     v2elfrfair  v2lgbicam  v2expathhs  v2exhoshog  \\\n",
       "country_name                                                         \n",
       "Yemen                       NaN        2.0         1.0         0.0   \n",
       "South Sudan                 NaN        2.0         7.0         1.0   \n",
       "Qatar                       NaN        1.0         4.0         0.0   \n",
       "China                       NaN        1.0         2.0         0.0   \n",
       "Eritrea                     NaN        0.0         6.0         1.0   \n",
       "Palestine/West Bank         NaN        0.0         7.0         0.0   \n",
       "Somalia                     NaN        2.0         6.0         0.0   \n",
       "Palestine/Gaza              NaN        0.0         8.0         1.0   \n",
       "Oman                       2.01        2.0         4.0         1.0   \n",
       "Saudi Arabia                NaN        1.0         4.0         1.0   \n",
       "\n",
       "                     v2exdfcbhs  v2exdfdmhs  \n",
       "country_name                                 \n",
       "Yemen                     0.942       1.507  \n",
       "South Sudan               1.190       1.524  \n",
       "Qatar                     2.349       1.623  \n",
       "China                     1.011       0.761  \n",
       "Eritrea                   1.035       1.950  \n",
       "Palestine/West Bank       1.229       1.575  \n",
       "Somalia                  -1.583      -1.161  \n",
       "Palestine/Gaza            0.753       0.692  \n",
       "Oman                      2.287       1.845  \n",
       "Saudi Arabia              2.469       1.656  \n",
       "\n",
       "[10 rows x 28 columns]"
      ]
     },
     "execution_count": 27,
     "metadata": {},
     "output_type": "execute_result"
    }
   ],
   "source": [
    "vdem[vdem.isna().any(axis=1)]"
   ]
  },
  {
   "cell_type": "code",
   "execution_count": 28,
   "id": "dd89296a",
   "metadata": {},
   "outputs": [
    {
     "name": "stderr",
     "output_type": "stream",
     "text": [
      "/opt/anaconda3/lib/python3.8/site-packages/ipykernel/ipkernel.py:287: DeprecationWarning: `should_run_async` will not call `transform_cell` automatically in the future. Please pass the result to `transformed_cell` argument and any exception that happen during thetransform in `preprocessing_exc_tuple` in IPython 7.17 and above.\n",
      "  and should_run_async(code)\n"
     ]
    },
    {
     "data": {
      "text/plain": [
       "(169, 28)"
      ]
     },
     "execution_count": 28,
     "metadata": {},
     "output_type": "execute_result"
    }
   ],
   "source": [
    "list_countries_na=vdem[vdem.isna().any(axis=1)].index.tolist()\n",
    "vdem=vdem[~vdem.index.isin(list_countries_na)]\n",
    "countries = vdem.index.tolist()\n",
    "vdem.shape"
   ]
  },
  {
   "cell_type": "code",
   "execution_count": 29,
   "id": "fb4a3ed4",
   "metadata": {},
   "outputs": [
    {
     "name": "stderr",
     "output_type": "stream",
     "text": [
      "/opt/anaconda3/lib/python3.8/site-packages/ipykernel/ipkernel.py:287: DeprecationWarning: `should_run_async` will not call `transform_cell` automatically in the future. Please pass the result to `transformed_cell` argument and any exception that happen during thetransform in `preprocessing_exc_tuple` in IPython 7.17 and above.\n",
      "  and should_run_async(code)\n"
     ]
    },
    {
     "data": {
      "text/plain": [
       "0    28\n",
       "dtype: int64"
      ]
     },
     "execution_count": 29,
     "metadata": {},
     "output_type": "execute_result"
    }
   ],
   "source": [
    "vdem.isna().sum().value_counts()"
   ]
  },
  {
   "cell_type": "markdown",
   "id": "29994758",
   "metadata": {},
   "source": [
    "How are the variables distributed?"
   ]
  },
  {
   "cell_type": "code",
   "execution_count": 30,
   "id": "3e01ddef",
   "metadata": {},
   "outputs": [
    {
     "name": "stderr",
     "output_type": "stream",
     "text": [
      "/opt/anaconda3/lib/python3.8/site-packages/ipykernel/ipkernel.py:287: DeprecationWarning: `should_run_async` will not call `transform_cell` automatically in the future. Please pass the result to `transformed_cell` argument and any exception that happen during thetransform in `preprocessing_exc_tuple` in IPython 7.17 and above.\n",
      "  and should_run_async(code)\n"
     ]
    },
    {
     "data": {
      "text/plain": [
       "v2mecenefm       0.704982\n",
       "v2meharjrn       0.678580\n",
       "v2meslfcen       0.668059\n",
       "v2mebias         0.940988\n",
       "v2merange        1.004633\n",
       "v2mecrit         0.933917\n",
       "v2cldiscm        1.072112\n",
       "v2cldiscw        0.989828\n",
       "v2clacfree       0.970787\n",
       "v2psparban       1.183077\n",
       "v2psbars         1.316491\n",
       "v2psoppaut       1.236568\n",
       "v2elmulpar       0.577876\n",
       "v2cseeorgs       1.100355\n",
       "v2csreprss       0.962598\n",
       "v2elsuffrage    99.617870\n",
       "v2elembcap       0.957391\n",
       "v2elrgstry       0.715456\n",
       "v2elvotbuy       0.004929\n",
       "v2elirreg        0.111893\n",
       "v2elintim        0.179740\n",
       "v2elpeace        0.301976\n",
       "v2elfrfair       0.220041\n",
       "v2lgbicam        1.414201\n",
       "v2expathhs       6.106509\n",
       "v2exhoshog       0.355030\n",
       "v2exdfcbhs       0.006882\n",
       "v2exdfdmhs      -0.074189\n",
       "dtype: float64"
      ]
     },
     "execution_count": 30,
     "metadata": {},
     "output_type": "execute_result"
    }
   ],
   "source": [
    "vdem.loc[:, :].mean()"
   ]
  },
  {
   "cell_type": "code",
   "execution_count": 31,
   "id": "7b3bac3d",
   "metadata": {},
   "outputs": [
    {
     "name": "stderr",
     "output_type": "stream",
     "text": [
      "/opt/anaconda3/lib/python3.8/site-packages/ipykernel/ipkernel.py:287: DeprecationWarning: `should_run_async` will not call `transform_cell` automatically in the future. Please pass the result to `transformed_cell` argument and any exception that happen during thetransform in `preprocessing_exc_tuple` in IPython 7.17 and above.\n",
      "  and should_run_async(code)\n"
     ]
    }
   ],
   "source": [
    "import matplotlib.pyplot as plt\n",
    "import seaborn as sns"
   ]
  },
  {
   "cell_type": "code",
   "execution_count": 32,
   "id": "a554c296",
   "metadata": {},
   "outputs": [
    {
     "name": "stderr",
     "output_type": "stream",
     "text": [
      "/opt/anaconda3/lib/python3.8/site-packages/ipykernel/ipkernel.py:287: DeprecationWarning: `should_run_async` will not call `transform_cell` automatically in the future. Please pass the result to `transformed_cell` argument and any exception that happen during thetransform in `preprocessing_exc_tuple` in IPython 7.17 and above.\n",
      "  and should_run_async(code)\n"
     ]
    }
   ],
   "source": [
    "sns.set_theme(style='darkgrid')"
   ]
  },
  {
   "cell_type": "code",
   "execution_count": 33,
   "id": "d14f6053",
   "metadata": {},
   "outputs": [
    {
     "name": "stderr",
     "output_type": "stream",
     "text": [
      "/opt/anaconda3/lib/python3.8/site-packages/ipykernel/ipkernel.py:287: DeprecationWarning: `should_run_async` will not call `transform_cell` automatically in the future. Please pass the result to `transformed_cell` argument and any exception that happen during thetransform in `preprocessing_exc_tuple` in IPython 7.17 and above.\n",
      "  and should_run_async(code)\n"
     ]
    },
    {
     "data": {
      "image/png": "[encoded data removed]",
      "text/plain": [
       "<Figure size 864x144 with 1 Axes>"
      ]
     },
     "metadata": {},
     "output_type": "display_data"
    }
   ],
   "source": [
    "plt.figure(figsize=[12, 2])\n",
    "sns.boxplot(\n",
    "    x = 'variable', \n",
    "    y = 'value', \n",
    "    data = vdem.loc[:, ~vdem.columns.isin(['v2elsuffrage','v2expathhs'])].melt()#,'v2lgello','v2mefemjrn'\n",
    ")\n",
    "plt.xticks(rotation=45)\n",
    "plt.show()"
   ]
  },
  {
   "cell_type": "code",
   "execution_count": 34,
   "id": "f1a8c5e7",
   "metadata": {},
   "outputs": [
    {
     "name": "stderr",
     "output_type": "stream",
     "text": [
      "/opt/anaconda3/lib/python3.8/site-packages/ipykernel/ipkernel.py:287: DeprecationWarning: `should_run_async` will not call `transform_cell` automatically in the future. Please pass the result to `transformed_cell` argument and any exception that happen during thetransform in `preprocessing_exc_tuple` in IPython 7.17 and above.\n",
      "  and should_run_async(code)\n"
     ]
    },
    {
     "data": {
      "text/plain": [
       "<AxesSubplot:xlabel='variable', ylabel='value'>"
      ]
     },
     "execution_count": 34,
     "metadata": {},
     "output_type": "execute_result"
    },
    {
     "data": {
      "image/png": "[encoded data removed]",
      "text/plain": [
       "<Figure size 72x144 with 1 Axes>"
      ]
     },
     "metadata": {},
     "output_type": "display_data"
    }
   ],
   "source": [
    "plt.figure(figsize=[1, 2])\n",
    "sns.boxplot(\n",
    "    x = 'variable', \n",
    "    y = 'value', \n",
    "    data = vdem.loc[:, vdem.columns.isin(['v2expathhs'])].melt()\n",
    ")"
   ]
  },
  {
   "cell_type": "code",
   "execution_count": 35,
   "id": "c71edf2d",
   "metadata": {},
   "outputs": [
    {
     "name": "stderr",
     "output_type": "stream",
     "text": [
      "/opt/anaconda3/lib/python3.8/site-packages/ipykernel/ipkernel.py:287: DeprecationWarning: `should_run_async` will not call `transform_cell` automatically in the future. Please pass the result to `transformed_cell` argument and any exception that happen during thetransform in `preprocessing_exc_tuple` in IPython 7.17 and above.\n",
      "  and should_run_async(code)\n"
     ]
    },
    {
     "data": {
      "text/plain": [
       "<AxesSubplot:xlabel='variable', ylabel='value'>"
      ]
     },
     "execution_count": 35,
     "metadata": {},
     "output_type": "execute_result"
    },
    {
     "data": {
      "image/png": "[encoded data removed]",
      "text/plain": [
       "<Figure size 288x144 with 1 Axes>"
      ]
     },
     "metadata": {},
     "output_type": "display_data"
    }
   ],
   "source": [
    "plt.figure(figsize=[4, 2])\n",
    "sns.boxplot(\n",
    "    x = 'variable', \n",
    "    y = 'value', \n",
    "    data = vdem.loc[:, vdem.columns.isin(['v2elsuffrage'])].melt()#'v2lgello'\n",
    ")"
   ]
  },
  {
   "cell_type": "code",
   "execution_count": 36,
   "id": "6149824f",
   "metadata": {},
   "outputs": [
    {
     "name": "stderr",
     "output_type": "stream",
     "text": [
      "/opt/anaconda3/lib/python3.8/site-packages/ipykernel/ipkernel.py:287: DeprecationWarning: `should_run_async` will not call `transform_cell` automatically in the future. Please pass the result to `transformed_cell` argument and any exception that happen during thetransform in `preprocessing_exc_tuple` in IPython 7.17 and above.\n",
      "  and should_run_async(code)\n"
     ]
    }
   ],
   "source": [
    "X_vdem = vdem.to_numpy()"
   ]
  },
  {
   "cell_type": "code",
   "execution_count": 37,
   "id": "ed510126",
   "metadata": {},
   "outputs": [
    {
     "name": "stderr",
     "output_type": "stream",
     "text": [
      "/opt/anaconda3/lib/python3.8/site-packages/ipykernel/ipkernel.py:287: DeprecationWarning: `should_run_async` will not call `transform_cell` automatically in the future. Please pass the result to `transformed_cell` argument and any exception that happen during thetransform in `preprocessing_exc_tuple` in IPython 7.17 and above.\n",
      "  and should_run_async(code)\n"
     ]
    }
   ],
   "source": [
    "from sklearn.preprocessing import StandardScaler"
   ]
  },
  {
   "cell_type": "code",
   "execution_count": 38,
   "id": "5a156207",
   "metadata": {},
   "outputs": [
    {
     "name": "stderr",
     "output_type": "stream",
     "text": [
      "/opt/anaconda3/lib/python3.8/site-packages/ipykernel/ipkernel.py:287: DeprecationWarning: `should_run_async` will not call `transform_cell` automatically in the future. Please pass the result to `transformed_cell` argument and any exception that happen during thetransform in `preprocessing_exc_tuple` in IPython 7.17 and above.\n",
      "  and should_run_async(code)\n"
     ]
    }
   ],
   "source": [
    "X_vdem = StandardScaler().fit_transform(X_vdem)"
   ]
  },
  {
   "cell_type": "code",
   "execution_count": 39,
   "id": "c932dd86",
   "metadata": {},
   "outputs": [
    {
     "name": "stderr",
     "output_type": "stream",
     "text": [
      "/opt/anaconda3/lib/python3.8/site-packages/ipykernel/ipkernel.py:287: DeprecationWarning: `should_run_async` will not call `transform_cell` automatically in the future. Please pass the result to `transformed_cell` argument and any exception that happen during thetransform in `preprocessing_exc_tuple` in IPython 7.17 and above.\n",
      "  and should_run_async(code)\n"
     ]
    },
    {
     "data": {
      "image/png": "[encoded data removed]",
      "text/plain": [
       "<Figure size 864x144 with 1 Axes>"
      ]
     },
     "metadata": {},
     "output_type": "display_data"
    }
   ],
   "source": [
    "plt.figure(figsize=[12, 2])\n",
    "sns.boxplot(\n",
    "    x = 'variable', \n",
    "    y = 'value', \n",
    "    data = pd.DataFrame(data=X_vdem, columns=indicators).melt()\n",
    ")\n",
    "plt.xticks(rotation=45)\n",
    "plt.show()"
   ]
  },
  {
   "cell_type": "code",
   "execution_count": 40,
   "id": "429a17f9",
   "metadata": {},
   "outputs": [
    {
     "name": "stderr",
     "output_type": "stream",
     "text": [
      "/opt/anaconda3/lib/python3.8/site-packages/ipykernel/ipkernel.py:287: DeprecationWarning: `should_run_async` will not call `transform_cell` automatically in the future. Please pass the result to `transformed_cell` argument and any exception that happen during thetransform in `preprocessing_exc_tuple` in IPython 7.17 and above.\n",
      "  and should_run_async(code)\n"
     ]
    }
   ],
   "source": [
    "vdem_z=pd.DataFrame(data=X_vdem, columns=indicators,index=countries)"
   ]
  },
  {
   "cell_type": "code",
   "execution_count": 41,
   "id": "c98f8f4a",
   "metadata": {},
   "outputs": [
    {
     "name": "stderr",
     "output_type": "stream",
     "text": [
      "/opt/anaconda3/lib/python3.8/site-packages/ipykernel/ipkernel.py:287: DeprecationWarning: `should_run_async` will not call `transform_cell` automatically in the future. Please pass the result to `transformed_cell` argument and any exception that happen during thetransform in `preprocessing_exc_tuple` in IPython 7.17 and above.\n",
      "  and should_run_async(code)\n"
     ]
    },
    {
     "data": {
      "text/html": [
       "<div>\n",
       "<style scoped>\n",
       "    .dataframe tbody tr th:only-of-type {\n",
       "        vertical-align: middle;\n",
       "    }\n",
       "\n",
       "    .dataframe tbody tr th {\n",
       "        vertical-align: top;\n",
       "    }\n",
       "\n",
       "    .dataframe thead th {\n",
       "        text-align: right;\n",
       "    }\n",
       "</style>\n",
       "<table border=\"1\" class=\"dataframe\">\n",
       "  <thead>\n",
       "    <tr style=\"text-align: right;\">\n",
       "      <th></th>\n",
       "      <th>v2mecenefm</th>\n",
       "      <th>v2meharjrn</th>\n",
       "      <th>v2meslfcen</th>\n",
       "      <th>v2mebias</th>\n",
       "      <th>v2merange</th>\n",
       "      <th>v2mecrit</th>\n",
       "      <th>v2cldiscm</th>\n",
       "      <th>v2cldiscw</th>\n",
       "      <th>v2clacfree</th>\n",
       "      <th>v2psparban</th>\n",
       "      <th>...</th>\n",
       "      <th>v2elvotbuy</th>\n",
       "      <th>v2elirreg</th>\n",
       "      <th>v2elintim</th>\n",
       "      <th>v2elpeace</th>\n",
       "      <th>v2elfrfair</th>\n",
       "      <th>v2lgbicam</th>\n",
       "      <th>v2expathhs</th>\n",
       "      <th>v2exhoshog</th>\n",
       "      <th>v2exdfcbhs</th>\n",
       "      <th>v2exdfdmhs</th>\n",
       "    </tr>\n",
       "  </thead>\n",
       "  <tbody>\n",
       "    <tr>\n",
       "      <th>Mexico</th>\n",
       "      <td>-0.409599</td>\n",
       "      <td>-0.353126</td>\n",
       "      <td>0.145535</td>\n",
       "      <td>0.413101</td>\n",
       "      <td>0.433327</td>\n",
       "      <td>0.540235</td>\n",
       "      <td>1.181993</td>\n",
       "      <td>0.302050</td>\n",
       "      <td>0.587808</td>\n",
       "      <td>0.613223</td>\n",
       "      <td>...</td>\n",
       "      <td>-0.645696</td>\n",
       "      <td>0.431409</td>\n",
       "      <td>0.098918</td>\n",
       "      <td>-1.020694</td>\n",
       "      <td>0.713297</td>\n",
       "      <td>1.161255</td>\n",
       "      <td>0.551190</td>\n",
       "      <td>1.347838</td>\n",
       "      <td>0.848370</td>\n",
       "      <td>0.985447</td>\n",
       "    </tr>\n",
       "    <tr>\n",
       "      <th>Suriname</th>\n",
       "      <td>0.242393</td>\n",
       "      <td>0.828230</td>\n",
       "      <td>-0.119991</td>\n",
       "      <td>0.592888</td>\n",
       "      <td>1.180975</td>\n",
       "      <td>0.207882</td>\n",
       "      <td>0.534860</td>\n",
       "      <td>0.714613</td>\n",
       "      <td>0.363803</td>\n",
       "      <td>0.578041</td>\n",
       "      <td>...</td>\n",
       "      <td>0.263441</td>\n",
       "      <td>1.046131</td>\n",
       "      <td>0.841552</td>\n",
       "      <td>0.695241</td>\n",
       "      <td>0.796319</td>\n",
       "      <td>-0.821090</td>\n",
       "      <td>-0.065705</td>\n",
       "      <td>1.347838</td>\n",
       "      <td>1.092506</td>\n",
       "      <td>1.083525</td>\n",
       "    </tr>\n",
       "    <tr>\n",
       "      <th>Sweden</th>\n",
       "      <td>1.824642</td>\n",
       "      <td>1.145315</td>\n",
       "      <td>1.110859</td>\n",
       "      <td>1.149809</td>\n",
       "      <td>1.388793</td>\n",
       "      <td>1.759122</td>\n",
       "      <td>0.641849</td>\n",
       "      <td>0.788906</td>\n",
       "      <td>1.653245</td>\n",
       "      <td>0.994627</td>\n",
       "      <td>...</td>\n",
       "      <td>1.827306</td>\n",
       "      <td>0.795434</td>\n",
       "      <td>1.292999</td>\n",
       "      <td>0.906177</td>\n",
       "      <td>1.230690</td>\n",
       "      <td>-0.821090</td>\n",
       "      <td>-1.299495</td>\n",
       "      <td>-0.741929</td>\n",
       "      <td>-2.242723</td>\n",
       "      <td>-1.959736</td>\n",
       "    </tr>\n",
       "    <tr>\n",
       "      <th>Switzerland</th>\n",
       "      <td>1.679077</td>\n",
       "      <td>2.400209</td>\n",
       "      <td>1.979402</td>\n",
       "      <td>1.468408</td>\n",
       "      <td>0.921824</td>\n",
       "      <td>1.137225</td>\n",
       "      <td>1.127756</td>\n",
       "      <td>1.506544</td>\n",
       "      <td>1.444128</td>\n",
       "      <td>1.021813</td>\n",
       "      <td>...</td>\n",
       "      <td>1.680647</td>\n",
       "      <td>1.401227</td>\n",
       "      <td>1.137747</td>\n",
       "      <td>0.444013</td>\n",
       "      <td>1.100512</td>\n",
       "      <td>1.161255</td>\n",
       "      <td>-0.065705</td>\n",
       "      <td>1.347838</td>\n",
       "      <td>-1.907442</td>\n",
       "      <td>-1.990528</td>\n",
       "    </tr>\n",
       "    <tr>\n",
       "      <th>Ghana</th>\n",
       "      <td>0.995265</td>\n",
       "      <td>-0.036042</td>\n",
       "      <td>0.497916</td>\n",
       "      <td>0.520974</td>\n",
       "      <td>0.622102</td>\n",
       "      <td>0.291165</td>\n",
       "      <td>0.816449</td>\n",
       "      <td>0.474346</td>\n",
       "      <td>0.523300</td>\n",
       "      <td>0.438113</td>\n",
       "      <td>...</td>\n",
       "      <td>-0.585087</td>\n",
       "      <td>0.307778</td>\n",
       "      <td>0.154007</td>\n",
       "      <td>-0.258319</td>\n",
       "      <td>0.979632</td>\n",
       "      <td>-0.821090</td>\n",
       "      <td>0.551190</td>\n",
       "      <td>1.347838</td>\n",
       "      <td>0.055415</td>\n",
       "      <td>0.778457</td>\n",
       "    </tr>\n",
       "  </tbody>\n",
       "</table>\n",
       "<p>5 rows × 28 columns</p>\n",
       "</div>"
      ],
      "text/plain": [
       "             v2mecenefm  v2meharjrn  v2meslfcen  v2mebias  v2merange  \\\n",
       "Mexico        -0.409599   -0.353126    0.145535  0.413101   0.433327   \n",
       "Suriname       0.242393    0.828230   -0.119991  0.592888   1.180975   \n",
       "Sweden         1.824642    1.145315    1.110859  1.149809   1.388793   \n",
       "Switzerland    1.679077    2.400209    1.979402  1.468408   0.921824   \n",
       "Ghana          0.995265   -0.036042    0.497916  0.520974   0.622102   \n",
       "\n",
       "             v2mecrit  v2cldiscm  v2cldiscw  v2clacfree  v2psparban  ...  \\\n",
       "Mexico       0.540235   1.181993   0.302050    0.587808    0.613223  ...   \n",
       "Suriname     0.207882   0.534860   0.714613    0.363803    0.578041  ...   \n",
       "Sweden       1.759122   0.641849   0.788906    1.653245    0.994627  ...   \n",
       "Switzerland  1.137225   1.127756   1.506544    1.444128    1.021813  ...   \n",
       "Ghana        0.291165   0.816449   0.474346    0.523300    0.438113  ...   \n",
       "\n",
       "             v2elvotbuy  v2elirreg  v2elintim  v2elpeace  v2elfrfair  \\\n",
       "Mexico        -0.645696   0.431409   0.098918  -1.020694    0.713297   \n",
       "Suriname       0.263441   1.046131   0.841552   0.695241    0.796319   \n",
       "Sweden         1.827306   0.795434   1.292999   0.906177    1.230690   \n",
       "Switzerland    1.680647   1.401227   1.137747   0.444013    1.100512   \n",
       "Ghana         -0.585087   0.307778   0.154007  -0.258319    0.979632   \n",
       "\n",
       "             v2lgbicam  v2expathhs  v2exhoshog  v2exdfcbhs  v2exdfdmhs  \n",
       "Mexico        1.161255    0.551190    1.347838    0.848370    0.985447  \n",
       "Suriname     -0.821090   -0.065705    1.347838    1.092506    1.083525  \n",
       "Sweden       -0.821090   -1.299495   -0.741929   -2.242723   -1.959736  \n",
       "Switzerland   1.161255   -0.065705    1.347838   -1.907442   -1.990528  \n",
       "Ghana        -0.821090    0.551190    1.347838    0.055415    0.778457  \n",
       "\n",
       "[5 rows x 28 columns]"
      ]
     },
     "execution_count": 41,
     "metadata": {},
     "output_type": "execute_result"
    }
   ],
   "source": [
    "vdem_z.head()"
   ]
  },
  {
   "cell_type": "markdown",
   "id": "e41013c1",
   "metadata": {},
   "source": [
    "<b>Factor Analysis</b>\n",
    "\n",
    "In social sciences one deals a lot with abstract concepts that one can't directly observe and are difficult to measure empirically. For example, imagine we want to measure electoral democracies of given countries. Since electoral democracy is not a material thing, one can't look at country and measure phisically the amount of this democracy. In other words, this is a concept developed by political and social scientists and such a variable that represents it is called 'unobserved' or 'latent' variable (McLevey, 2022).    \n",
    "\n",
    "In order to succied, we would need to find/develop measurement strategies and models that are transparently validated. First, we will need to develop conceptual and operational definition of electoral democracy. A conceptiual definition includes describing how abstarct concept relates to other concepts. It can be done by dividing it into more specific aspects/dimensions. Second, we would need to define operational definition that describes \"specific operations that one would have to perform to generate empirical obeservations(i.e. data) for each of the various dimension.\"(MCLevey, 2022) These variables that are observed are called indicator variables.   \n",
    "\n",
    "According to Coppedge et. al (2021), electoral democracy is divided into five concepts (Figure, 2):  \n",
    "1) Freedom of expression,\n",
    "2) Freedom of association,\n",
    "3) Share of adults citizens with suffrage,\n",
    "4) Officials are elected.\n",
    "\n",
    "Where each of this concepts is composed of many other features (Figure 2, top-level). Since we have these observations for many countries in our dataset. Let us test this theoretical model of latent factors using factor analysis.\n",
    "\n",
    "|<img src='images/Latent_variables.jpg' style='float: none; width: 640px'>|\n",
    "|:--|\n",
    "|<em style='float: center'>**Figure 2**: Latent variables - at the top are observable features... (MCLevey, 2022)</em>|\n",
    "\n",
    "In broader sence, factor analysis objectives are 1) to reduce the number of features, 2) find latent variables. In other words, we will try to cluster features in a meaningful way. This can be achived by checking correlations between features and finding groups of features that are highly correlated between each other and are not correlated with leftover variables.  \n"
   ]
  },
  {
   "cell_type": "markdown",
   "id": "112725f4",
   "metadata": {},
   "source": [
    "We would need to import neccesary packages."
   ]
  },
  {
   "cell_type": "code",
   "execution_count": 42,
   "id": "d21a7ae7",
   "metadata": {},
   "outputs": [
    {
     "name": "stderr",
     "output_type": "stream",
     "text": [
      "/opt/anaconda3/lib/python3.8/site-packages/ipykernel/ipkernel.py:287: DeprecationWarning: `should_run_async` will not call `transform_cell` automatically in the future. Please pass the result to `transformed_cell` argument and any exception that happen during thetransform in `preprocessing_exc_tuple` in IPython 7.17 and above.\n",
      "  and should_run_async(code)\n"
     ]
    },
    {
     "ename": "ModuleNotFoundError",
     "evalue": "No module named 'factor_analyzer'",
     "output_type": "error",
     "traceback": [
      "\u001b[0;31m---------------------------------------------------------------------------\u001b[0m",
      "\u001b[0;31mModuleNotFoundError\u001b[0m                       Traceback (most recent call last)",
      "\u001b[0;32m<ipython-input-42-15e27d63a66e>\u001b[0m in \u001b[0;36m<module>\u001b[0;34m\u001b[0m\n\u001b[1;32m      1\u001b[0m \u001b[0;31m#!pip install factor-analyzer\u001b[0m\u001b[0;34m\u001b[0m\u001b[0;34m\u001b[0m\u001b[0;34m\u001b[0m\u001b[0m\n\u001b[1;32m      2\u001b[0m \u001b[0;31m# Instantiate factor analysis object\u001b[0m\u001b[0;34m\u001b[0m\u001b[0;34m\u001b[0m\u001b[0;34m\u001b[0m\u001b[0m\n\u001b[0;32m----> 3\u001b[0;31m \u001b[0;32mfrom\u001b[0m \u001b[0mfactor_analyzer\u001b[0m \u001b[0;32mimport\u001b[0m \u001b[0mFactorAnalyzer\u001b[0m\u001b[0;34m\u001b[0m\u001b[0;34m\u001b[0m\u001b[0m\n\u001b[0m\u001b[1;32m      4\u001b[0m \u001b[0;32mfrom\u001b[0m \u001b[0mfactor_analyzer\u001b[0m\u001b[0;34m.\u001b[0m\u001b[0mfactor_analyzer\u001b[0m \u001b[0;32mimport\u001b[0m \u001b[0mcalculate_bartlett_sphericity\u001b[0m\u001b[0;34m,\u001b[0m\u001b[0mcalculate_kmo\u001b[0m\u001b[0;34m\u001b[0m\u001b[0;34m\u001b[0m\u001b[0m\n",
      "\u001b[0;31mModuleNotFoundError\u001b[0m: No module named 'factor_analyzer'"
     ]
    }
   ],
   "source": [
    "#!pip install factor-analyzer\n",
    "# Instantiate factor analysis object\n",
    "from factor_analyzer import FactorAnalyzer \n",
    "from factor_analyzer.factor_analyzer import calculate_bartlett_sphericity,calculate_kmo"
   ]
  },
  {
   "cell_type": "markdown",
   "id": "83c5b760",
   "metadata": {},
   "source": [
    "First, we would need to investigate our correlation matrix. For that perpose we would display correlation matrix as heatmap using seaborn package. Parameters xticklabels and  yticklabels we use in order to display all variables. "
   ]
  },
  {
   "cell_type": "code",
   "execution_count": null,
   "id": "e05b3ed2",
   "metadata": {},
   "outputs": [],
   "source": [
    "#c = pd.DataFrame(FactorAnalyzer(n_factors=vdem_z.shape[1]).fit(vdem_z).corr_,index=indicators,columns=indicators)\n",
    "c = vdem_z.corr() #or you can calculate correlationmatrix using pandas\n",
    "sns.heatmap(c,xticklabels=True, yticklabels=True); "
   ]
  },
  {
   "cell_type": "markdown",
   "id": "fcae19b2",
   "metadata": {},
   "source": [
    "According to the plot we see 3 highly correlated groups. First fifteen variables, then from v2elembcap to v2elfrfair and last four.  \n",
    "\n",
    "Should we drop some variables?\n",
    "\n",
    "On this stage we can also remove variables that have low correlations. As a rule of thumb, we will drop variables with all correlations lower than 0.3. We will investigate values \"v2elsuffrage\",\"v2lgbicam\",\"v2expathhs\""
   ]
  },
  {
   "cell_type": "code",
   "execution_count": null,
   "id": "5fc64210",
   "metadata": {},
   "outputs": [],
   "source": [
    "c[[\"v2elsuffrage\",\"v2lgbicam\",\"v2expathhs\"]]"
   ]
  },
  {
   "cell_type": "markdown",
   "id": "e40d8cc9",
   "metadata": {},
   "source": [
    "Variables \"v2elsuffrage\" (percent of population with suffrage) and \"v2lgbicam\" (legislature bicameral) do not have even moderate correlations with outher variables. If we return back to Figure 2. We will see that in or theoretical model \"Suffrage\" is one separate indices that can contribute to Electoral democracy latent variable. \n",
    "\n",
    "We will remove both these variables from our model and thus decrease our model to 4 subgroups, i.e., factors. But before dong that we will perform two test: \n",
    "1) Bartlett's test - helps us to judge if every variable correlates badly with all other variables. If it is not then we can apply factor analysis. \n",
    "2) Kaiser-Meyer-Olkin (KMO) - esimates suitability of our data for factor analysis. It will give us as result two parameters: adequacy for each observed variable and complete model.\n"
   ]
  },
  {
   "cell_type": "code",
   "execution_count": null,
   "id": "8379ee60",
   "metadata": {},
   "outputs": [],
   "source": [
    "#Bartlett's test \n",
    "chi_square_value,p_value=calculate_bartlett_sphericity(vdem_z)\n",
    "print (chi_square_value, p_value)"
   ]
  },
  {
   "cell_type": "markdown",
   "id": "8c471fa4",
   "metadata": {},
   "source": [
    "According to p-value the test was statistically signifficant, i.e., it is suitable for factor analysis. "
   ]
  },
  {
   "cell_type": "code",
   "execution_count": null,
   "id": "7768a075",
   "metadata": {},
   "outputs": [],
   "source": [
    "#KMO\n",
    "kmo_all,kmo_model=calculate_kmo(vdem_z)\n",
    "print (kmo_all)\n",
    "print (kmo_model)"
   ]
  },
  {
   "cell_type": "markdown",
   "id": "abb404f7",
   "metadata": {},
   "source": [
    "Here, values lower than 0.6 are considered inadequate. In our case those are veraibles 16 and 24 that correspond to \"v2elsuffrage\" and \"v2lgbicam\". We will remove them from our model.  "
   ]
  },
  {
   "cell_type": "code",
   "execution_count": null,
   "id": "7966e1a7",
   "metadata": {},
   "outputs": [],
   "source": [
    "indicators.remove('v2lgbicam')\n",
    "indicators.remove('v2elsuffrage')\n",
    "vdem_z=vdem_z.drop(['v2lgbicam','v2elsuffrage'], axis=1)"
   ]
  },
  {
   "cell_type": "markdown",
   "id": "e4457439",
   "metadata": {},
   "source": [
    "After removing variables we left with our theoretical model that have 4 factors. So, let us fit this model. \n",
    "\n",
    "In order to improve interpetability we will add rotation parameter, in this case Varimax rotation. More on that you can find here ...  \n",
    "\n",
    "\"Create an optimal number of factors i.e. 5 in our case. Then, we have to interpret the factors by making use of loadings, variance, and commonalities.\""
   ]
  },
  {
   "cell_type": "code",
   "execution_count": null,
   "id": "54559523",
   "metadata": {},
   "outputs": [],
   "source": [
    "factor_an = FactorAnalyzer(n_factors=4,rotation=\"varimax\")\n",
    "factor_an.fit(vdem_z)"
   ]
  },
  {
   "cell_type": "markdown",
   "id": "08dcbda4",
   "metadata": {},
   "source": [
    "Now we can interpret the factors using loading, variance and commonalities. \n",
    "\n",
    "<b>Loadings</b>. These values show the relative contribution of variable towards the factor. In other words, to what extend the factor explains each variable. Values close to 1 or -1 show that certain factor has an influence on a variable. "
   ]
  },
  {
   "cell_type": "code",
   "execution_count": null,
   "id": "f0713b00",
   "metadata": {},
   "outputs": [],
   "source": [
    "pd.DataFrame(factor_an.loadings_, columns=[\"Factor1\",\"Factor2\",\"Factor3\",\"Factor4\"], index=[vdem_z.columns])"
   ]
  },
  {
   "cell_type": "markdown",
   "id": "14eeecd7",
   "metadata": {},
   "source": [
    "For example, Factor 1 have high loadings for first fifteen variables. \n",
    "\n",
    "\n",
    "\n",
    "<b>Variance.</b> Let's check the amount of variance that can be explained by each factor. "
   ]
  },
  {
   "cell_type": "code",
   "execution_count": null,
   "id": "ed918343",
   "metadata": {},
   "outputs": [],
   "source": [
    "pd.DataFrame(factor_an.get_factor_variance(), columns=[\"Factor1\",\"Factor2\",\"Factor3\",\"Factor4\"], \n",
    "             index=[\"SumSquare Loadings\",\"Proportional Variance\",\"Cumulative Variance\"])"
   ]
  },
  {
   "cell_type": "markdown",
   "id": "eb58f4b4",
   "metadata": {},
   "source": [
    "We can say that about 78% of the variance is explained by five factors.\n"
   ]
  },
  {
   "cell_type": "code",
   "execution_count": null,
   "id": "f9431654",
   "metadata": {},
   "outputs": [],
   "source": []
  },
  {
   "cell_type": "markdown",
   "id": "0ededee9",
   "metadata": {},
   "source": [
    "\"Communality is the proportion of each variable’s variance that can be explained by the factors. \"\n",
    "\n",
    "\"The proportion of common variance present in a variable is known as the communality\""
   ]
  },
  {
   "cell_type": "code",
   "execution_count": null,
   "id": "e6463c20",
   "metadata": {},
   "outputs": [],
   "source": [
    "pd.DataFrame(factor_an.get_communalities(),index=vdem_z.columns,columns=['Communalities'])"
   ]
  },
  {
   "cell_type": "code",
   "execution_count": null,
   "id": "b506c4f7",
   "metadata": {},
   "outputs": [],
   "source": [
    "new_variables = factor_an.fit_transform(vdem_z)"
   ]
  },
  {
   "cell_type": "markdown",
   "id": "f509206c",
   "metadata": {},
   "source": [
    "\"We could use these new factors as variable for other analysis or for prediction. Here is the code to apply the factors to the entire dataframe and create the 3 new variables, that could be used as replacement for the \" 35 variables."
   ]
  },
  {
   "cell_type": "markdown",
   "id": "c42f43d9",
   "metadata": {},
   "source": [
    "\"To figure out how many factors we would need, we can look at eigenvalues, which is a measure of how much of the variance of the variables does a factor explain. An eigenvalue of more than one means that the factor explains more variance than a unique variable. An eigenvalue of 2.5 means that the factor would explain the variance of 2.5 variables, and so on.\"\n",
    "\n",
    "\n",
    "Calculate the eigenvalues, given the factor correlation matrix.\n",
    "\n",
    "\"In factor analysis, eigenvalues are used to condense the variance in a correlation matrix.\""
   ]
  },
  {
   "cell_type": "code",
   "execution_count": null,
   "id": "2875027c",
   "metadata": {},
   "outputs": [],
   "source": [
    "factor_an = FactorAnalyzer(n_factors=vdem_z.shape[1],rotation='varimax').fit(vdem_z)\n",
    "\n",
    "# Check Eigenvalues\n",
    "ev, v = factor_an.get_eigenvalues()\n",
    "ev"
   ]
  },
  {
   "cell_type": "markdown",
   "id": "91e9548f",
   "metadata": {},
   "source": [
    "\"Eigenvalues are nothing but the amount of variance the factor explains. We will select the number of factors whose eigenvalues are greater than 1.\"\n",
    "We select 3. "
   ]
  },
  {
   "cell_type": "code",
   "execution_count": null,
   "id": "f2c7b8cf",
   "metadata": {},
   "outputs": [],
   "source": []
  },
  {
   "cell_type": "markdown",
   "id": "27095356",
   "metadata": {},
   "source": [
    "\"These techniques differ in the communality estimates that are used. Simplistically, though, factor analysis derives a mathematical model from which factors are estimated, whereas principal components analysis merely decomposes the original data into a set of linear variates\"\n",
    "\n",
    "\n",
    "\"only factor analysis can estimate the underlying factors, and it relies on various assumptions for these estimates to be accurate. Principal components analysis is concerned only with establishing which linear components exist within the data and how a particular variable might contribute to that component. \""
   ]
  },
  {
   "cell_type": "markdown",
   "id": "16ef76a1",
   "metadata": {},
   "source": [
    "\"The first is to assume that all of the variance is common variance. As such, we assume that the communality of every variable is 1. By making this assumption we merely transpose our original data into constituent linear components (known as principal components analysis)\""
   ]
  },
  {
   "cell_type": "markdown",
   "id": "3e408d20",
   "metadata": {},
   "source": [
    "\" The second approach is to estimate the mount of common variance by estimating communality values for each variable. There\n",
    "are various methods of estimating communalities, but the most widely used (including\n",
    "alpha factoring) is to use the squared multiple correlation (SMC) of each variable with all\n",
    "others. So, for the popularity data, imagine you ran a multiple regression using one meas-\n",
    "ure (Selfish) as the outcome and the other five measures as predictors: the resulting multi-\n",
    "ple R2 (see section 7.6.2) would be used as an estimate of the communality for the variable\n",
    "Selfish. This second approach is used in factor analysis. \""
   ]
  },
  {
   "cell_type": "code",
   "execution_count": null,
   "id": "55b0258f",
   "metadata": {
    "scrolled": true
   },
   "outputs": [],
   "source": [
    "#################### ------ PCA ---- \n",
    "\n",
    "#no that is pca terminology \n",
    "from sklearn.decomposition import FactorAnalysis\n",
    "transformer = FactorAnalysis(n_components=vdem_z.shape[1], random_state=0,rotation='varimax')\n",
    "#z = transformer.fit_transform(vdem)\n",
    "X= transformer.fit(vdem_z)\n",
    "\n",
    "pd.DataFrame(transformer.components_,columns=indicators)\n",
    "#get_feature_names_out()\n",
    "#transformer.mean_"
   ]
  },
  {
   "cell_type": "markdown",
   "id": "83c88e5a",
   "metadata": {},
   "source": [
    "PCA"
   ]
  },
  {
   "cell_type": "code",
   "execution_count": null,
   "id": "3b5fce8e",
   "metadata": {},
   "outputs": [],
   "source": [
    "from sklearn.decomposition import PCA"
   ]
  },
  {
   "cell_type": "code",
   "execution_count": null,
   "id": "46d0c148",
   "metadata": {},
   "outputs": [],
   "source": [
    "pca_vdem = PCA(random_state=42)"
   ]
  },
  {
   "cell_type": "code",
   "execution_count": null,
   "id": "84afa8d3",
   "metadata": {},
   "outputs": [],
   "source": [
    "X_vdem_pca = pca_vdem.fit_transform(X_vdem)"
   ]
  },
  {
   "cell_type": "code",
   "execution_count": null,
   "id": "5b52bc5a",
   "metadata": {},
   "outputs": [],
   "source": [
    "X_vdem_pca.shape"
   ]
  },
  {
   "cell_type": "code",
   "execution_count": null,
   "id": "2d656137",
   "metadata": {},
   "outputs": [],
   "source": [
    "vdem_pc = pd.DataFrame(X_vdem_pca, index=countries)\n",
    "vdem_pc.columns=[f'PC {i}' for i in vdem_pc.columns]\n",
    "vdem_pc"
   ]
  },
  {
   "cell_type": "code",
   "execution_count": null,
   "id": "ee436879",
   "metadata": {},
   "outputs": [],
   "source": [
    "sum(pca_vdem.explained_variance_ratio_)"
   ]
  },
  {
   "cell_type": "code",
   "execution_count": null,
   "id": "c4cc9e39",
   "metadata": {},
   "outputs": [],
   "source": [
    "import numpy as np"
   ]
  },
  {
   "cell_type": "code",
   "execution_count": null,
   "id": "bcb9229a",
   "metadata": {},
   "outputs": [],
   "source": [
    "plt.figure(figsize=[3, 3])\n",
    "plt.plot(np.cumsum(pca_vdem.explained_variance_ratio_))\n",
    "plt.xlabel('Principal component')\n",
    "plt.ylabel('Cumulative explained variance')"
   ]
  },
  {
   "cell_type": "markdown",
   "id": "be4690ae",
   "metadata": {},
   "source": [
    "PCA describes as many components as there are variables; the `n_components` parameter just means how many of those are kept."
   ]
  },
  {
   "cell_type": "markdown",
   "id": "c0cc8bbc",
   "metadata": {},
   "source": [
    "How many components to keep?"
   ]
  },
  {
   "cell_type": "code",
   "execution_count": null,
   "id": "d203671c",
   "metadata": {},
   "outputs": [],
   "source": [
    "eigenvalues_vdem = pd.Series(pca_vdem.explained_variance_)\n",
    "eigenvalues_vdem"
   ]
  },
  {
   "cell_type": "code",
   "execution_count": null,
   "id": "2d163cc6",
   "metadata": {},
   "outputs": [],
   "source": [
    "plt.figure(figsize=[3, 3])\n",
    "plt.plot(eigenvalues_vdem)\n",
    "plt.xlabel('Principal component')\n",
    "plt.ylabel('Eigenvalue')\n",
    "plt.xscale('log')\n",
    "plt.yscale('log')"
   ]
  },
  {
   "cell_type": "code",
   "execution_count": null,
   "id": "ccc5a209",
   "metadata": {},
   "outputs": [],
   "source": [
    "pd.DataFrame(zip(X_vdem_pca[:, 0], X_vdem_pca[:, 1]), columns=['PC1', 'PC2'])"
   ]
  },
  {
   "cell_type": "code",
   "execution_count": null,
   "id": "8103d587",
   "metadata": {},
   "outputs": [],
   "source": [
    "vdem_pc.head()"
   ]
  },
  {
   "cell_type": "code",
   "execution_count": null,
   "id": "6ca89f89",
   "metadata": {},
   "outputs": [],
   "source": [
    "plt.figure(figsize=[9, 6])\n",
    "ax = sns.kdeplot(data=vdem_pc, x='PC 0', y='PC 1', alpha=.8, fill=True)\n",
    "for i, country in enumerate(vdem_pc.index):\n",
    "    ax.text(\n",
    "        x = vdem_pc['PC 0'][i], \n",
    "        y = vdem_pc['PC 1'][i], \n",
    "        s = country, \n",
    "        horizontalalignment = 'left', \n",
    "        size = 6, \n",
    "        color = 'black', \n",
    "        weight = 'normal'\n",
    "    )\n",
    "ax.set(xticklabels=[], yticklabels=[])\n",
    "ax.set(\n",
    "    xlabel = f'$\\longleftarrow$ PC 0 (eigenvalue: {np.round(eigenvalues_vdem.loc[0], 2)}) $\\longrightarrow$', \n",
    "    ylabel = f'$\\longleftarrow$ PC 1 (eigenvalue: {np.round(eigenvalues_vdem.loc[1], 2)}) $\\longrightarrow$'\n",
    ")\n",
    "plt.show()"
   ]
  },
  {
   "cell_type": "code",
   "execution_count": null,
   "id": "322358d2",
   "metadata": {},
   "outputs": [],
   "source": []
  },
  {
   "cell_type": "code",
   "execution_count": null,
   "id": "d8b40757",
   "metadata": {},
   "outputs": [],
   "source": []
  },
  {
   "cell_type": "code",
   "execution_count": null,
   "id": "a402d8e4",
   "metadata": {},
   "outputs": [],
   "source": []
  },
  {
   "cell_type": "markdown",
   "id": "a60643dd",
   "metadata": {},
   "source": [
    "\"Run factor analysis if you assume or wish to test a theoretical model of latent factors causing observed variables. Run principal component analysis If you want to simply reduce your correlated observed variables to a smaller set of important independent composite variables.\""
   ]
  },
  {
   "cell_type": "markdown",
   "id": "8a900371",
   "metadata": {},
   "source": [
    "BOX: How is PCA related to FactorAnalysis?\n",
    "https://scikit-learn.org/stable/modules/generated/sklearn.decomposition.FactorAnalysis.html"
   ]
  },
  {
   "cell_type": "markdown",
   "id": "f4dd5021",
   "metadata": {},
   "source": [
    "BOX: Why is that machine learning?"
   ]
  },
  {
   "cell_type": "markdown",
   "id": "4d23009a",
   "metadata": {},
   "source": [
    "### 8.1.2. Unstructured (text) data\n",
    "\n",
    "Introduce other methods (Non-negative matrix factorization, Sparse PCA, Kernel PCA, Truncated Singular Value Decomposition aka LSI, Latent Dirichlet Allocation, etc.): https://scikit-learn.org/stable/modules/classes.html#module-sklearn.decomposition"
   ]
  },
  {
   "cell_type": "code",
   "execution_count": null,
   "id": "25903958",
   "metadata": {},
   "outputs": [],
   "source": []
  },
  {
   "attachments": {},
   "cell_type": "markdown",
   "id": "20c2f8be",
   "metadata": {},
   "source": [
    "#### Latent Dirichlet Allocation (LDA)\n",
    "\n",
    "**Latent Dirichlet Allocation (LDA)** is a generative probabilistic model which is generally used for topic modeling. \n",
    "\n",
    "**Topic modeling** is a technique in natural language processing (NLP) used to uncover underlying themes in a large corpus of text. The goal of topic modeling is to identify the most important topics in a collection of documents and to extract the most important words and phrases associated with each topic. There are several popular topic modeling algorithms, including Latent Dirichlet Allocation (LDA) and Non-Negative Matrix Factorization (NMF). These algorithms are **unsupervised**, meaning that they do not require labeled data. On the contrary, they are based on the assumption that words that frequently occur together in a document are likely to be associated with the same topic.\n",
    "\n",
    "Topic modeling typically involves the following steps:\n",
    "\n",
    "- Preprocessing the data: The text data is cleaned and preprocessed to remove unnecessary information such as stop words, punctuation, and special characters.\n",
    "- Vectorization: the preprocessed text data is converted into a numerical vector representation, such as a bag-of-words or TF-IDF (Term Frequency-Inverse Document Frequency) matrix.\n",
    "- Model training: a topic modeling algorithm is applied to the vectorized text data to identify the main topics or themes. This includes identifying the words or phrases most strongly associated with each topic.\n",
    "- Theme Interpretation: the resulting themes are interpreted by examining the most representative words or phrases for each theme. This may involve manually examining the most important words for each theme or using automated techniques to summarize the themes.\n",
    "\n",
    "LDA assumes that each document is a mixture of different topics, and each topic is a probability distribution over words. The algorithm takes a collection of documents as input and returns a set of topics, each represented by a probability distribution over words.\n",
    "\n",
    "The basic idea behind LDA is that each document is represented as a distribution of topics and each topic is represented as a distribution of words. The algorithm assumes that the documents are generated in the following way:\n",
    "\n",
    "- For each document, a distribution of topics is selected from a Dirichlet distribution.\n",
    "- For each word in the document:\n",
    "    - Select a topic from the distribution of topics of the document.\n",
    "    - Select a word from the distribution of words for the selected topic.\n",
    "\n",
    "The algorithm iteratively learns the topic distributions for each document and the word distributions for each topic by maximizing the probability of the observed data. This optimization is usually done using the expectation maximization algorithm (EM).\n",
    "\n",
    "Once the algorithm has converged, it returns a set of topics, each represented by a distribution over words. These themes can be interpreted by examining the most likely words for each theme. \n",
    "\n",
    "Here we present an example of LDA applied to a set of documents. We will use th news articles that we preprocessed in Session 6. Let's import the TF-IDF matrix that we previously extracted from this corpus. Let's import the data:"
   ]
  },
  {
   "cell_type": "code",
   "execution_count": 26,
   "id": "fad02c55",
   "metadata": {},
   "outputs": [
    {
     "name": "stderr",
     "output_type": "stream",
     "text": [
      "/opt/anaconda3/lib/python3.8/site-packages/ipykernel/ipkernel.py:287: DeprecationWarning: `should_run_async` will not call `transform_cell` automatically in the future. Please pass the result to `transformed_cell` argument and any exception that happen during thetransform in `preprocessing_exc_tuple` in IPython 7.17 and above.\n",
      "  and should_run_async(code)\n"
     ]
    }
   ],
   "source": [
    "import pandas as pd\n",
    "import pickle as pkl\n",
    "\n",
    "# import raw dataset \n",
    "news = pd.read_csv(\"../c_data_preprocessing_methods/data/news_subset.csv\")\n",
    "\n",
    "# import also the dictionary, the preprocessed corpus, and the BoW and TF-IDF matrices\n",
    "with open(\"../c_data_preprocessing_methods/output/tf_idf_gensim.pkl\", \"rb\") as file:\n",
    "    tf_idf = pkl.load(file)\n",
    "\n",
    "with open(\"../c_data_preprocessing_methods/output/dict_gensim.pkl\", \"rb\") as file:\n",
    "    dct = pkl.load(file)\n",
    "\n",
    "with open(\"../c_data_preprocessing_methods/output/corpus.pkl\", \"rb\") as file:\n",
    "    corpus = pkl.load(file)\n",
    "\n",
    "with open(\"../c_data_preprocessing_methods/output/document_term_matrix.pkl\", \"rb\") as file:\n",
    "    corpus_bow = pkl.load(file)"
   ]
  },
  {
   "attachments": {},
   "cell_type": "markdown",
   "id": "771125b3",
   "metadata": {},
   "source": [
    "Then, we run LDA on the document-term matrix. We use the Gensim implementation of LDA:"
   ]
  },
  {
   "cell_type": "code",
   "execution_count": 31,
   "id": "61d9319f",
   "metadata": {},
   "outputs": [
    {
     "name": "stderr",
     "output_type": "stream",
     "text": [
      "/opt/anaconda3/lib/python3.8/site-packages/ipykernel/ipkernel.py:287: DeprecationWarning: `should_run_async` will not call `transform_cell` automatically in the future. Please pass the result to `transformed_cell` argument and any exception that happen during thetransform in `preprocessing_exc_tuple` in IPython 7.17 and above.\n",
      "  and should_run_async(code)\n"
     ]
    }
   ],
   "source": [
    "import gensim\n",
    "from gensim.models import LdaModel\n",
    "\n",
    "# train an LDA model on the TF-IDF corpus\n",
    "num_topics = 10\n",
    "lda_model = LdaModel(corpus_bow,\n",
    "                     id2word=dct, \n",
    "                     num_topics=10, \n",
    "                     passes = 10)"
   ]
  },
  {
   "attachments": {},
   "cell_type": "markdown",
   "id": "f9056fee",
   "metadata": {},
   "source": [
    "We can visualize the extracted topics by looking at the 10 most common words of each topic:"
   ]
  },
  {
   "cell_type": "code",
   "execution_count": 32,
   "id": "92e510a7",
   "metadata": {},
   "outputs": [
    {
     "name": "stdout",
     "output_type": "stream",
     "text": [
      "(0, '0.014*\"world\" + 0.012*\"year\" + 0.010*\"time\" + 0.010*\"travel\" + 0.008*\"day\" + 0.007*\"new\" + 0.007*\"good\" + 0.007*\"city\" + 0.006*\"work\" + 0.006*\"country\"')\n",
      "(1, '0.053*\"photo\" + 0.018*\"look\" + 0.011*\"good\" + 0.011*\"video\" + 0.010*\"dress\" + 0.009*\"style\" + 0.009*\"wear\" + 0.009*\"like\" + 0.008*\"new\" + 0.008*\"star\"')\n",
      "(2, '0.015*\"son\" + 0.008*\"embrace\" + 0.008*\"nominee\" + 0.008*\"decision\" + 0.007*\"teacher\" + 0.007*\"court\" + 0.007*\"hell\" + 0.007*\"letter\" + 0.007*\"count\" + 0.007*\"queer\"')\n",
      "(3, '0.018*\"woman\" + 0.016*\"black\" + 0.010*\"man\" + 0.009*\"police\" + 0.008*\"attack\" + 0.008*\"kill\" + 0.008*\"twitter\" + 0.008*\"debate\" + 0.006*\"week\" + 0.005*\"female\"')\n",
      "(4, '0.010*\"gay\" + 0.008*\"gift\" + 0.007*\"day\" + 0.006*\"need\" + 0.005*\"man\" + 0.005*\"know\" + 0.005*\"sex\" + 0.005*\"guest\" + 0.004*\"fat\" + 0.004*\"start\"')\n",
      "(5, '0.014*\"know\" + 0.014*\"time\" + 0.013*\"life\" + 0.013*\"thing\" + 0.012*\"like\" + 0.012*\"way\" + 0.011*\"child\" + 0.011*\"want\" + 0.011*\"love\" + 0.010*\"good\"')\n",
      "(6, '0.036*\"trump\" + 0.020*\"donald_trump\" + 0.016*\"president\" + 0.013*\"state\" + 0.008*\"vote\" + 0.007*\"gop\" + 0.007*\"election\" + 0.007*\"campaign\" + 0.007*\"bill\" + 0.007*\"hillary_clinton\"')\n",
      "(7, '0.012*\"new\" + 0.010*\"game\" + 0.009*\"video\" + 0.007*\"team\" + 0.007*\"win\" + 0.006*\"year\" + 0.006*\"film\" + 0.006*\"watch\" + 0.006*\"play\" + 0.006*\"star\"')\n",
      "(8, '0.029*\"wedding\" + 0.020*\"school\" + 0.011*\"student\" + 0.008*\"success\" + 0.008*\"summer\" + 0.008*\"day\" + 0.008*\"celebrity\" + 0.006*\"wife\" + 0.006*\"couple\" + 0.006*\"winter\"')\n",
      "(9, '0.019*\"health\" + 0.014*\"food\" + 0.012*\"study\" + 0.009*\"risk\" + 0.007*\"drug\" + 0.006*\"patient\" + 0.006*\"new\" + 0.006*\"woman\" + 0.006*\"people\" + 0.005*\"brain\"')\n"
     ]
    },
    {
     "name": "stderr",
     "output_type": "stream",
     "text": [
      "/opt/anaconda3/lib/python3.8/site-packages/ipykernel/ipkernel.py:287: DeprecationWarning: `should_run_async` will not call `transform_cell` automatically in the future. Please pass the result to `transformed_cell` argument and any exception that happen during thetransform in `preprocessing_exc_tuple` in IPython 7.17 and above.\n",
      "  and should_run_async(code)\n"
     ]
    }
   ],
   "source": [
    "# print the topics and associated keywords\n",
    "for topic in lda_model.print_topics():\n",
    "    print(topic)"
   ]
  },
  {
   "attachments": {},
   "cell_type": "markdown",
   "id": "23218d22",
   "metadata": {},
   "source": [
    "To assess how good are the topics extracted by the model, we can use different metrics such as the coherence score and perplexity.\n",
    "\n",
    "**Coherence score** is a measure of how coherent the topics generated by a topic model are, based on the co-occurrence of words in the corpus. It is often used as an evaluation metric for topic models, in addition to perplexity.\n",
    "The coherence score is typically based on the top N words in each topic, and measures the similarity between pairs of words in the same topic. There are different ways to define the coherence score, but one common approach is to use the Pointwise Mutual Information (PMI) between pairs of words.\n",
    "\n",
    "PMI measures the degree of association between two words, based on the probability of their co-occurrence in the corpus relative to their individual probabilities. A high PMI score indicates that the two words are strongly associated and likely to appear together in the same context.\n",
    "\n",
    "The coherence score is calculated as the average PMI score over all pairs of words in each topic, and then averaged over all topics in the model. A higher coherence score indicates that the topics are more coherent and contain more related and meaningful words.\n",
    "Coherence score is often used in combination with perplexity to evaluate the quality of a topic model. Perplexity measures how well the model fits the data, while coherence measures how well the topics generated by the model make sense in terms of the co-occurrence of words in the corpus.\n",
    "\n",
    "We can also use coherence score to calibrate the number of topics to use:\n",
    "\n"
   ]
  },
  {
   "cell_type": "code",
   "execution_count": 35,
   "id": "b8b2746e",
   "metadata": {},
   "outputs": [
    {
     "name": "stderr",
     "output_type": "stream",
     "text": [
      "/opt/anaconda3/lib/python3.8/site-packages/ipykernel/ipkernel.py:287: DeprecationWarning: `should_run_async` will not call `transform_cell` automatically in the future. Please pass the result to `transformed_cell` argument and any exception that happen during thetransform in `preprocessing_exc_tuple` in IPython 7.17 and above.\n",
      "  and should_run_async(code)\n",
      "/opt/anaconda3/lib/python3.8/site-packages/gensim/topic_coherence/direct_confirmation_measure.py:204: RuntimeWarning: divide by zero encountered in double_scalars\n",
      "  m_lr_i = np.log(numerator / denominator)\n",
      "/opt/anaconda3/lib/python3.8/site-packages/gensim/topic_coherence/indirect_confirmation_measure.py:323: RuntimeWarning: invalid value encountered in double_scalars\n",
      "  return cv1.T.dot(cv2)[0, 0] / (_magnitude(cv1) * _magnitude(cv2))\n"
     ]
    },
    {
     "name": "stdout",
     "output_type": "stream",
     "text": [
      "\n",
      "Coherence Score with 5 topics: \n"
     ]
    },
    {
     "ename": "KeyboardInterrupt",
     "evalue": "",
     "output_type": "error",
     "traceback": [
      "\u001b[0;31m---------------------------------------------------------------------------\u001b[0m",
      "\u001b[0;31mKeyboardInterrupt\u001b[0m                         Traceback (most recent call last)",
      "\u001b[0;32m<ipython-input-35-05ffafcfd683>\u001b[0m in \u001b[0;36m<module>\u001b[0;34m\u001b[0m\n\u001b[1;32m      8\u001b[0m     \u001b[0;31m# Compute Coherence Score\u001b[0m\u001b[0;34m\u001b[0m\u001b[0;34m\u001b[0m\u001b[0;34m\u001b[0m\u001b[0m\n\u001b[1;32m      9\u001b[0m     \u001b[0mcoherence_model_lda\u001b[0m \u001b[0;34m=\u001b[0m \u001b[0mCoherenceModel\u001b[0m\u001b[0;34m(\u001b[0m\u001b[0mmodel\u001b[0m\u001b[0;34m=\u001b[0m\u001b[0mlda_model\u001b[0m\u001b[0;34m,\u001b[0m \u001b[0mtexts\u001b[0m\u001b[0;34m=\u001b[0m\u001b[0mcorpus_bow\u001b[0m\u001b[0;34m,\u001b[0m \u001b[0mdictionary\u001b[0m\u001b[0;34m=\u001b[0m\u001b[0mdct\u001b[0m\u001b[0;34m,\u001b[0m \u001b[0mcoherence\u001b[0m\u001b[0;34m=\u001b[0m\u001b[0;34m'c_v'\u001b[0m\u001b[0;34m)\u001b[0m\u001b[0;34m\u001b[0m\u001b[0;34m\u001b[0m\u001b[0m\n\u001b[0;32m---> 10\u001b[0;31m     \u001b[0mcoherence_lda\u001b[0m \u001b[0;34m=\u001b[0m \u001b[0mcoherence_model_lda\u001b[0m\u001b[0;34m.\u001b[0m\u001b[0mget_coherence\u001b[0m\u001b[0;34m(\u001b[0m\u001b[0;34m)\u001b[0m\u001b[0;34m\u001b[0m\u001b[0;34m\u001b[0m\u001b[0m\n\u001b[0m\u001b[1;32m     11\u001b[0m     \u001b[0mprint\u001b[0m\u001b[0;34m(\u001b[0m\u001b[0;34m'\\nCoherence Score with {} topics: '\u001b[0m\u001b[0;34m.\u001b[0m\u001b[0mformat\u001b[0m\u001b[0;34m(\u001b[0m\u001b[0mnum_topics\u001b[0m\u001b[0;34m,\u001b[0m \u001b[0mcoherence_lda\u001b[0m\u001b[0;34m)\u001b[0m\u001b[0;34m)\u001b[0m\u001b[0;34m\u001b[0m\u001b[0;34m\u001b[0m\u001b[0m\n\u001b[1;32m     12\u001b[0m \u001b[0;34m\u001b[0m\u001b[0m\n",
      "\u001b[0;32m/opt/anaconda3/lib/python3.8/site-packages/gensim/models/coherencemodel.py\u001b[0m in \u001b[0;36mget_coherence\u001b[0;34m(self)\u001b[0m\n\u001b[1;32m    612\u001b[0m \u001b[0;34m\u001b[0m\u001b[0m\n\u001b[1;32m    613\u001b[0m         \"\"\"\n\u001b[0;32m--> 614\u001b[0;31m         \u001b[0mconfirmed_measures\u001b[0m \u001b[0;34m=\u001b[0m \u001b[0mself\u001b[0m\u001b[0;34m.\u001b[0m\u001b[0mget_coherence_per_topic\u001b[0m\u001b[0;34m(\u001b[0m\u001b[0;34m)\u001b[0m\u001b[0;34m\u001b[0m\u001b[0;34m\u001b[0m\u001b[0m\n\u001b[0m\u001b[1;32m    615\u001b[0m         \u001b[0;32mreturn\u001b[0m \u001b[0mself\u001b[0m\u001b[0;34m.\u001b[0m\u001b[0maggregate_measures\u001b[0m\u001b[0;34m(\u001b[0m\u001b[0mconfirmed_measures\u001b[0m\u001b[0;34m)\u001b[0m\u001b[0;34m\u001b[0m\u001b[0;34m\u001b[0m\u001b[0m\n\u001b[1;32m    616\u001b[0m \u001b[0;34m\u001b[0m\u001b[0m\n",
      "\u001b[0;32m/opt/anaconda3/lib/python3.8/site-packages/gensim/models/coherencemodel.py\u001b[0m in \u001b[0;36mget_coherence_per_topic\u001b[0;34m(self, segmented_topics, with_std, with_support)\u001b[0m\n\u001b[1;32m    572\u001b[0m             \u001b[0msegmented_topics\u001b[0m \u001b[0;34m=\u001b[0m \u001b[0mmeasure\u001b[0m\u001b[0;34m.\u001b[0m\u001b[0mseg\u001b[0m\u001b[0;34m(\u001b[0m\u001b[0mself\u001b[0m\u001b[0;34m.\u001b[0m\u001b[0mtopics\u001b[0m\u001b[0;34m)\u001b[0m\u001b[0;34m\u001b[0m\u001b[0;34m\u001b[0m\u001b[0m\n\u001b[1;32m    573\u001b[0m         \u001b[0;32mif\u001b[0m \u001b[0mself\u001b[0m\u001b[0;34m.\u001b[0m\u001b[0m_accumulator\u001b[0m \u001b[0;32mis\u001b[0m \u001b[0;32mNone\u001b[0m\u001b[0;34m:\u001b[0m\u001b[0;34m\u001b[0m\u001b[0;34m\u001b[0m\u001b[0m\n\u001b[0;32m--> 574\u001b[0;31m             \u001b[0mself\u001b[0m\u001b[0;34m.\u001b[0m\u001b[0mestimate_probabilities\u001b[0m\u001b[0;34m(\u001b[0m\u001b[0msegmented_topics\u001b[0m\u001b[0;34m)\u001b[0m\u001b[0;34m\u001b[0m\u001b[0;34m\u001b[0m\u001b[0m\n\u001b[0m\u001b[1;32m    575\u001b[0m \u001b[0;34m\u001b[0m\u001b[0m\n\u001b[1;32m    576\u001b[0m         \u001b[0mkwargs\u001b[0m \u001b[0;34m=\u001b[0m \u001b[0mdict\u001b[0m\u001b[0;34m(\u001b[0m\u001b[0mwith_std\u001b[0m\u001b[0;34m=\u001b[0m\u001b[0mwith_std\u001b[0m\u001b[0;34m,\u001b[0m \u001b[0mwith_support\u001b[0m\u001b[0;34m=\u001b[0m\u001b[0mwith_support\u001b[0m\u001b[0;34m)\u001b[0m\u001b[0;34m\u001b[0m\u001b[0;34m\u001b[0m\u001b[0m\n",
      "\u001b[0;32m/opt/anaconda3/lib/python3.8/site-packages/gensim/models/coherencemodel.py\u001b[0m in \u001b[0;36mestimate_probabilities\u001b[0;34m(self, segmented_topics)\u001b[0m\n\u001b[1;32m    544\u001b[0m                 \u001b[0mkwargs\u001b[0m\u001b[0;34m[\u001b[0m\u001b[0;34m'model'\u001b[0m\u001b[0;34m]\u001b[0m \u001b[0;34m=\u001b[0m \u001b[0mself\u001b[0m\u001b[0;34m.\u001b[0m\u001b[0mkeyed_vectors\u001b[0m\u001b[0;34m\u001b[0m\u001b[0;34m\u001b[0m\u001b[0m\n\u001b[1;32m    545\u001b[0m \u001b[0;34m\u001b[0m\u001b[0m\n\u001b[0;32m--> 546\u001b[0;31m             \u001b[0mself\u001b[0m\u001b[0;34m.\u001b[0m\u001b[0m_accumulator\u001b[0m \u001b[0;34m=\u001b[0m \u001b[0mself\u001b[0m\u001b[0;34m.\u001b[0m\u001b[0mmeasure\u001b[0m\u001b[0;34m.\u001b[0m\u001b[0mprob\u001b[0m\u001b[0;34m(\u001b[0m\u001b[0;34m**\u001b[0m\u001b[0mkwargs\u001b[0m\u001b[0;34m)\u001b[0m\u001b[0;34m\u001b[0m\u001b[0;34m\u001b[0m\u001b[0m\n\u001b[0m\u001b[1;32m    547\u001b[0m \u001b[0;34m\u001b[0m\u001b[0m\n\u001b[1;32m    548\u001b[0m         \u001b[0;32mreturn\u001b[0m \u001b[0mself\u001b[0m\u001b[0;34m.\u001b[0m\u001b[0m_accumulator\u001b[0m\u001b[0;34m\u001b[0m\u001b[0;34m\u001b[0m\u001b[0m\n",
      "\u001b[0;32m/opt/anaconda3/lib/python3.8/site-packages/gensim/topic_coherence/probability_estimation.py\u001b[0m in \u001b[0;36mp_boolean_sliding_window\u001b[0;34m(texts, segmented_topics, dictionary, window_size, processes)\u001b[0m\n\u001b[1;32m    154\u001b[0m         \u001b[0maccumulator\u001b[0m \u001b[0;34m=\u001b[0m \u001b[0mParallelWordOccurrenceAccumulator\u001b[0m\u001b[0;34m(\u001b[0m\u001b[0mprocesses\u001b[0m\u001b[0;34m,\u001b[0m \u001b[0mtop_ids\u001b[0m\u001b[0;34m,\u001b[0m \u001b[0mdictionary\u001b[0m\u001b[0;34m)\u001b[0m\u001b[0;34m\u001b[0m\u001b[0;34m\u001b[0m\u001b[0m\n\u001b[1;32m    155\u001b[0m     \u001b[0mlogger\u001b[0m\u001b[0;34m.\u001b[0m\u001b[0minfo\u001b[0m\u001b[0;34m(\u001b[0m\u001b[0;34m\"using %s to estimate probabilities from sliding windows\"\u001b[0m\u001b[0;34m,\u001b[0m \u001b[0maccumulator\u001b[0m\u001b[0;34m)\u001b[0m\u001b[0;34m\u001b[0m\u001b[0;34m\u001b[0m\u001b[0m\n\u001b[0;32m--> 156\u001b[0;31m     \u001b[0;32mreturn\u001b[0m \u001b[0maccumulator\u001b[0m\u001b[0;34m.\u001b[0m\u001b[0maccumulate\u001b[0m\u001b[0;34m(\u001b[0m\u001b[0mtexts\u001b[0m\u001b[0;34m,\u001b[0m \u001b[0mwindow_size\u001b[0m\u001b[0;34m)\u001b[0m\u001b[0;34m\u001b[0m\u001b[0;34m\u001b[0m\u001b[0m\n\u001b[0m\u001b[1;32m    157\u001b[0m \u001b[0;34m\u001b[0m\u001b[0m\n\u001b[1;32m    158\u001b[0m \u001b[0;34m\u001b[0m\u001b[0m\n",
      "\u001b[0;32m/opt/anaconda3/lib/python3.8/site-packages/gensim/topic_coherence/text_analysis.py\u001b[0m in \u001b[0;36maccumulate\u001b[0;34m(self, texts, window_size)\u001b[0m\n\u001b[1;32m    435\u001b[0m \u001b[0;34m\u001b[0m\u001b[0m\n\u001b[1;32m    436\u001b[0m     \u001b[0;32mdef\u001b[0m \u001b[0maccumulate\u001b[0m\u001b[0;34m(\u001b[0m\u001b[0mself\u001b[0m\u001b[0;34m,\u001b[0m \u001b[0mtexts\u001b[0m\u001b[0;34m,\u001b[0m \u001b[0mwindow_size\u001b[0m\u001b[0;34m)\u001b[0m\u001b[0;34m:\u001b[0m\u001b[0;34m\u001b[0m\u001b[0;34m\u001b[0m\u001b[0m\n\u001b[0;32m--> 437\u001b[0;31m         \u001b[0mworkers\u001b[0m\u001b[0;34m,\u001b[0m \u001b[0minput_q\u001b[0m\u001b[0;34m,\u001b[0m \u001b[0moutput_q\u001b[0m \u001b[0;34m=\u001b[0m \u001b[0mself\u001b[0m\u001b[0;34m.\u001b[0m\u001b[0mstart_workers\u001b[0m\u001b[0;34m(\u001b[0m\u001b[0mwindow_size\u001b[0m\u001b[0;34m)\u001b[0m\u001b[0;34m\u001b[0m\u001b[0;34m\u001b[0m\u001b[0m\n\u001b[0m\u001b[1;32m    438\u001b[0m         \u001b[0;32mtry\u001b[0m\u001b[0;34m:\u001b[0m\u001b[0;34m\u001b[0m\u001b[0;34m\u001b[0m\u001b[0m\n\u001b[1;32m    439\u001b[0m             \u001b[0mself\u001b[0m\u001b[0;34m.\u001b[0m\u001b[0mqueue_all_texts\u001b[0m\u001b[0;34m(\u001b[0m\u001b[0minput_q\u001b[0m\u001b[0;34m,\u001b[0m \u001b[0mtexts\u001b[0m\u001b[0;34m,\u001b[0m \u001b[0mwindow_size\u001b[0m\u001b[0;34m)\u001b[0m\u001b[0;34m\u001b[0m\u001b[0;34m\u001b[0m\u001b[0m\n",
      "\u001b[0;32m/opt/anaconda3/lib/python3.8/site-packages/gensim/topic_coherence/text_analysis.py\u001b[0m in \u001b[0;36mstart_workers\u001b[0;34m(self, window_size)\u001b[0m\n\u001b[1;32m    469\u001b[0m             \u001b[0maccumulator\u001b[0m \u001b[0;34m=\u001b[0m \u001b[0mPatchedWordOccurrenceAccumulator\u001b[0m\u001b[0;34m(\u001b[0m\u001b[0mself\u001b[0m\u001b[0;34m.\u001b[0m\u001b[0mrelevant_ids\u001b[0m\u001b[0;34m,\u001b[0m \u001b[0mself\u001b[0m\u001b[0;34m.\u001b[0m\u001b[0mdictionary\u001b[0m\u001b[0;34m)\u001b[0m\u001b[0;34m\u001b[0m\u001b[0;34m\u001b[0m\u001b[0m\n\u001b[1;32m    470\u001b[0m             \u001b[0mworker\u001b[0m \u001b[0;34m=\u001b[0m \u001b[0mAccumulatingWorker\u001b[0m\u001b[0;34m(\u001b[0m\u001b[0minput_q\u001b[0m\u001b[0;34m,\u001b[0m \u001b[0moutput_q\u001b[0m\u001b[0;34m,\u001b[0m \u001b[0maccumulator\u001b[0m\u001b[0;34m,\u001b[0m \u001b[0mwindow_size\u001b[0m\u001b[0;34m)\u001b[0m\u001b[0;34m\u001b[0m\u001b[0;34m\u001b[0m\u001b[0m\n\u001b[0;32m--> 471\u001b[0;31m             \u001b[0mworker\u001b[0m\u001b[0;34m.\u001b[0m\u001b[0mstart\u001b[0m\u001b[0;34m(\u001b[0m\u001b[0;34m)\u001b[0m\u001b[0;34m\u001b[0m\u001b[0;34m\u001b[0m\u001b[0m\n\u001b[0m\u001b[1;32m    472\u001b[0m             \u001b[0mworkers\u001b[0m\u001b[0;34m.\u001b[0m\u001b[0mappend\u001b[0m\u001b[0;34m(\u001b[0m\u001b[0mworker\u001b[0m\u001b[0;34m)\u001b[0m\u001b[0;34m\u001b[0m\u001b[0;34m\u001b[0m\u001b[0m\n\u001b[1;32m    473\u001b[0m \u001b[0;34m\u001b[0m\u001b[0m\n",
      "\u001b[0;32m/opt/anaconda3/lib/python3.8/multiprocessing/process.py\u001b[0m in \u001b[0;36mstart\u001b[0;34m(self)\u001b[0m\n\u001b[1;32m    119\u001b[0m                \u001b[0;34m'daemonic processes are not allowed to have children'\u001b[0m\u001b[0;34m\u001b[0m\u001b[0;34m\u001b[0m\u001b[0m\n\u001b[1;32m    120\u001b[0m         \u001b[0m_cleanup\u001b[0m\u001b[0;34m(\u001b[0m\u001b[0;34m)\u001b[0m\u001b[0;34m\u001b[0m\u001b[0;34m\u001b[0m\u001b[0m\n\u001b[0;32m--> 121\u001b[0;31m         \u001b[0mself\u001b[0m\u001b[0;34m.\u001b[0m\u001b[0m_popen\u001b[0m \u001b[0;34m=\u001b[0m \u001b[0mself\u001b[0m\u001b[0;34m.\u001b[0m\u001b[0m_Popen\u001b[0m\u001b[0;34m(\u001b[0m\u001b[0mself\u001b[0m\u001b[0;34m)\u001b[0m\u001b[0;34m\u001b[0m\u001b[0;34m\u001b[0m\u001b[0m\n\u001b[0m\u001b[1;32m    122\u001b[0m         \u001b[0mself\u001b[0m\u001b[0;34m.\u001b[0m\u001b[0m_sentinel\u001b[0m \u001b[0;34m=\u001b[0m \u001b[0mself\u001b[0m\u001b[0;34m.\u001b[0m\u001b[0m_popen\u001b[0m\u001b[0;34m.\u001b[0m\u001b[0msentinel\u001b[0m\u001b[0;34m\u001b[0m\u001b[0;34m\u001b[0m\u001b[0m\n\u001b[1;32m    123\u001b[0m         \u001b[0;31m# Avoid a refcycle if the target function holds an indirect\u001b[0m\u001b[0;34m\u001b[0m\u001b[0;34m\u001b[0m\u001b[0;34m\u001b[0m\u001b[0m\n",
      "\u001b[0;32m/opt/anaconda3/lib/python3.8/multiprocessing/context.py\u001b[0m in \u001b[0;36m_Popen\u001b[0;34m(process_obj)\u001b[0m\n\u001b[1;32m    222\u001b[0m     \u001b[0;34m@\u001b[0m\u001b[0mstaticmethod\u001b[0m\u001b[0;34m\u001b[0m\u001b[0;34m\u001b[0m\u001b[0m\n\u001b[1;32m    223\u001b[0m     \u001b[0;32mdef\u001b[0m \u001b[0m_Popen\u001b[0m\u001b[0;34m(\u001b[0m\u001b[0mprocess_obj\u001b[0m\u001b[0;34m)\u001b[0m\u001b[0;34m:\u001b[0m\u001b[0;34m\u001b[0m\u001b[0;34m\u001b[0m\u001b[0m\n\u001b[0;32m--> 224\u001b[0;31m         \u001b[0;32mreturn\u001b[0m \u001b[0m_default_context\u001b[0m\u001b[0;34m.\u001b[0m\u001b[0mget_context\u001b[0m\u001b[0;34m(\u001b[0m\u001b[0;34m)\u001b[0m\u001b[0;34m.\u001b[0m\u001b[0mProcess\u001b[0m\u001b[0;34m.\u001b[0m\u001b[0m_Popen\u001b[0m\u001b[0;34m(\u001b[0m\u001b[0mprocess_obj\u001b[0m\u001b[0;34m)\u001b[0m\u001b[0;34m\u001b[0m\u001b[0;34m\u001b[0m\u001b[0m\n\u001b[0m\u001b[1;32m    225\u001b[0m \u001b[0;34m\u001b[0m\u001b[0m\n\u001b[1;32m    226\u001b[0m \u001b[0;32mclass\u001b[0m \u001b[0mDefaultContext\u001b[0m\u001b[0;34m(\u001b[0m\u001b[0mBaseContext\u001b[0m\u001b[0;34m)\u001b[0m\u001b[0;34m:\u001b[0m\u001b[0;34m\u001b[0m\u001b[0;34m\u001b[0m\u001b[0m\n",
      "\u001b[0;32m/opt/anaconda3/lib/python3.8/multiprocessing/context.py\u001b[0m in \u001b[0;36m_Popen\u001b[0;34m(process_obj)\u001b[0m\n\u001b[1;32m    282\u001b[0m         \u001b[0;32mdef\u001b[0m \u001b[0m_Popen\u001b[0m\u001b[0;34m(\u001b[0m\u001b[0mprocess_obj\u001b[0m\u001b[0;34m)\u001b[0m\u001b[0;34m:\u001b[0m\u001b[0;34m\u001b[0m\u001b[0;34m\u001b[0m\u001b[0m\n\u001b[1;32m    283\u001b[0m             \u001b[0;32mfrom\u001b[0m \u001b[0;34m.\u001b[0m\u001b[0mpopen_spawn_posix\u001b[0m \u001b[0;32mimport\u001b[0m \u001b[0mPopen\u001b[0m\u001b[0;34m\u001b[0m\u001b[0;34m\u001b[0m\u001b[0m\n\u001b[0;32m--> 284\u001b[0;31m             \u001b[0;32mreturn\u001b[0m \u001b[0mPopen\u001b[0m\u001b[0;34m(\u001b[0m\u001b[0mprocess_obj\u001b[0m\u001b[0;34m)\u001b[0m\u001b[0;34m\u001b[0m\u001b[0;34m\u001b[0m\u001b[0m\n\u001b[0m\u001b[1;32m    285\u001b[0m \u001b[0;34m\u001b[0m\u001b[0m\n\u001b[1;32m    286\u001b[0m     \u001b[0;32mclass\u001b[0m \u001b[0mForkServerProcess\u001b[0m\u001b[0;34m(\u001b[0m\u001b[0mprocess\u001b[0m\u001b[0;34m.\u001b[0m\u001b[0mBaseProcess\u001b[0m\u001b[0;34m)\u001b[0m\u001b[0;34m:\u001b[0m\u001b[0;34m\u001b[0m\u001b[0;34m\u001b[0m\u001b[0m\n",
      "\u001b[0;32m/opt/anaconda3/lib/python3.8/multiprocessing/popen_spawn_posix.py\u001b[0m in \u001b[0;36m__init__\u001b[0;34m(self, process_obj)\u001b[0m\n\u001b[1;32m     30\u001b[0m     \u001b[0;32mdef\u001b[0m \u001b[0m__init__\u001b[0m\u001b[0;34m(\u001b[0m\u001b[0mself\u001b[0m\u001b[0;34m,\u001b[0m \u001b[0mprocess_obj\u001b[0m\u001b[0;34m)\u001b[0m\u001b[0;34m:\u001b[0m\u001b[0;34m\u001b[0m\u001b[0;34m\u001b[0m\u001b[0m\n\u001b[1;32m     31\u001b[0m         \u001b[0mself\u001b[0m\u001b[0;34m.\u001b[0m\u001b[0m_fds\u001b[0m \u001b[0;34m=\u001b[0m \u001b[0;34m[\u001b[0m\u001b[0;34m]\u001b[0m\u001b[0;34m\u001b[0m\u001b[0;34m\u001b[0m\u001b[0m\n\u001b[0;32m---> 32\u001b[0;31m         \u001b[0msuper\u001b[0m\u001b[0;34m(\u001b[0m\u001b[0;34m)\u001b[0m\u001b[0;34m.\u001b[0m\u001b[0m__init__\u001b[0m\u001b[0;34m(\u001b[0m\u001b[0mprocess_obj\u001b[0m\u001b[0;34m)\u001b[0m\u001b[0;34m\u001b[0m\u001b[0;34m\u001b[0m\u001b[0m\n\u001b[0m\u001b[1;32m     33\u001b[0m \u001b[0;34m\u001b[0m\u001b[0m\n\u001b[1;32m     34\u001b[0m     \u001b[0;32mdef\u001b[0m \u001b[0mduplicate_for_child\u001b[0m\u001b[0;34m(\u001b[0m\u001b[0mself\u001b[0m\u001b[0;34m,\u001b[0m \u001b[0mfd\u001b[0m\u001b[0;34m)\u001b[0m\u001b[0;34m:\u001b[0m\u001b[0;34m\u001b[0m\u001b[0;34m\u001b[0m\u001b[0m\n",
      "\u001b[0;32m/opt/anaconda3/lib/python3.8/multiprocessing/popen_fork.py\u001b[0m in \u001b[0;36m__init__\u001b[0;34m(self, process_obj)\u001b[0m\n\u001b[1;32m     17\u001b[0m         \u001b[0mself\u001b[0m\u001b[0;34m.\u001b[0m\u001b[0mreturncode\u001b[0m \u001b[0;34m=\u001b[0m \u001b[0;32mNone\u001b[0m\u001b[0;34m\u001b[0m\u001b[0;34m\u001b[0m\u001b[0m\n\u001b[1;32m     18\u001b[0m         \u001b[0mself\u001b[0m\u001b[0;34m.\u001b[0m\u001b[0mfinalizer\u001b[0m \u001b[0;34m=\u001b[0m \u001b[0;32mNone\u001b[0m\u001b[0;34m\u001b[0m\u001b[0;34m\u001b[0m\u001b[0m\n\u001b[0;32m---> 19\u001b[0;31m         \u001b[0mself\u001b[0m\u001b[0;34m.\u001b[0m\u001b[0m_launch\u001b[0m\u001b[0;34m(\u001b[0m\u001b[0mprocess_obj\u001b[0m\u001b[0;34m)\u001b[0m\u001b[0;34m\u001b[0m\u001b[0;34m\u001b[0m\u001b[0m\n\u001b[0m\u001b[1;32m     20\u001b[0m \u001b[0;34m\u001b[0m\u001b[0m\n\u001b[1;32m     21\u001b[0m     \u001b[0;32mdef\u001b[0m \u001b[0mduplicate_for_child\u001b[0m\u001b[0;34m(\u001b[0m\u001b[0mself\u001b[0m\u001b[0;34m,\u001b[0m \u001b[0mfd\u001b[0m\u001b[0;34m)\u001b[0m\u001b[0;34m:\u001b[0m\u001b[0;34m\u001b[0m\u001b[0;34m\u001b[0m\u001b[0m\n",
      "\u001b[0;32m/opt/anaconda3/lib/python3.8/multiprocessing/popen_spawn_posix.py\u001b[0m in \u001b[0;36m_launch\u001b[0;34m(self, process_obj)\u001b[0m\n\u001b[1;32m     60\u001b[0m             \u001b[0mself\u001b[0m\u001b[0;34m.\u001b[0m\u001b[0msentinel\u001b[0m \u001b[0;34m=\u001b[0m \u001b[0mparent_r\u001b[0m\u001b[0;34m\u001b[0m\u001b[0;34m\u001b[0m\u001b[0m\n\u001b[1;32m     61\u001b[0m             \u001b[0;32mwith\u001b[0m \u001b[0mopen\u001b[0m\u001b[0;34m(\u001b[0m\u001b[0mparent_w\u001b[0m\u001b[0;34m,\u001b[0m \u001b[0;34m'wb'\u001b[0m\u001b[0;34m,\u001b[0m \u001b[0mclosefd\u001b[0m\u001b[0;34m=\u001b[0m\u001b[0;32mFalse\u001b[0m\u001b[0;34m)\u001b[0m \u001b[0;32mas\u001b[0m \u001b[0mf\u001b[0m\u001b[0;34m:\u001b[0m\u001b[0;34m\u001b[0m\u001b[0;34m\u001b[0m\u001b[0m\n\u001b[0;32m---> 62\u001b[0;31m                 \u001b[0mf\u001b[0m\u001b[0;34m.\u001b[0m\u001b[0mwrite\u001b[0m\u001b[0;34m(\u001b[0m\u001b[0mfp\u001b[0m\u001b[0;34m.\u001b[0m\u001b[0mgetbuffer\u001b[0m\u001b[0;34m(\u001b[0m\u001b[0;34m)\u001b[0m\u001b[0;34m)\u001b[0m\u001b[0;34m\u001b[0m\u001b[0;34m\u001b[0m\u001b[0m\n\u001b[0m\u001b[1;32m     63\u001b[0m         \u001b[0;32mfinally\u001b[0m\u001b[0;34m:\u001b[0m\u001b[0;34m\u001b[0m\u001b[0;34m\u001b[0m\u001b[0m\n\u001b[1;32m     64\u001b[0m             \u001b[0mfds_to_close\u001b[0m \u001b[0;34m=\u001b[0m \u001b[0;34m[\u001b[0m\u001b[0;34m]\u001b[0m\u001b[0;34m\u001b[0m\u001b[0;34m\u001b[0m\u001b[0m\n",
      "\u001b[0;31mKeyboardInterrupt\u001b[0m: "
     ]
    }
   ],
   "source": [
    "from gensim.models import CoherenceModel\n",
    "\n",
    "scores = []\n",
    "for num_topics in np.arange(5, 20):\n",
    "\n",
    "    # fit LDA model\n",
    "    lda_model = LdaModel(corpus_bow, id2word=dct, num_topics=num_topics)\n",
    "\n",
    "    # compute Coherence Score\n",
    "    coherence_model_lda = CoherenceModel(model=lda_model, texts=corpus_bow, dictionary=dct, coherence='c_v')\n",
    "    coherence_lda = coherence_model_lda.get_coherence()\n",
    "    print('\\nCoherence Score with {0} topics: {1}'.format(num_topics, coherence_lda))\n",
    "\n",
    "    scores.append(coherence_lda)"
   ]
  },
  {
   "cell_type": "code",
   "execution_count": null,
   "id": "93431a50",
   "metadata": {},
   "outputs": [],
   "source": []
  },
  {
   "cell_type": "code",
   "execution_count": 24,
   "id": "640aeb60",
   "metadata": {},
   "outputs": [
    {
     "name": "stderr",
     "output_type": "stream",
     "text": [
      "/opt/anaconda3/lib/python3.8/site-packages/ipykernel/ipkernel.py:287: DeprecationWarning: `should_run_async` will not call `transform_cell` automatically in the future. Please pass the result to `transformed_cell` argument and any exception that happen during thetransform in `preprocessing_exc_tuple` in IPython 7.17 and above.\n",
      "  and should_run_async(code)\n",
      "/opt/anaconda3/lib/python3.8/site-packages/pyLDAvis/_prepare.py:243: FutureWarning: In a future version of pandas all arguments of DataFrame.drop except for the argument 'labels' will be keyword-only.\n",
      "  default_term_info = default_term_info.sort_values(\n"
     ]
    },
    {
     "data": {
      "text/html": [
       "\n",
       "<link rel=\"stylesheet\" type=\"text/css\" href=\"https://cdn.jsdelivr.net/gh/bmabey/pyLDAvis@3.4.0/pyLDAvis/js/ldavis.v1.0.0.css\">\n",
       "\n",
       "\n",
       "<div id=\"ldavis_el3204140189003190560575122810\" style=\"background-color:white;\"></div>\n",
       "<script type=\"text/javascript\">\n",
       "\n",
       "var ldavis_el3204140189003190560575122810_data = {\"mdsDat\": {\"x\": [-0.33027565935227093, -0.20577494225526763, -0.2197686578233369, 0.04690061993817859, 0.09859196899085093, 0.1164974408390507, 0.12449869988578008, 0.12127647332085212, 0.12570580858101674, 0.12234824787514659], \"y\": [-0.0720432192487682, 0.005659566330874997, 0.029539482513215323, 0.26214022991659325, 0.04282465400345177, -0.06221979444218648, -0.05739619641795715, -0.059191262814023815, -0.04596403856582753, -0.043349421275372335], \"topics\": [1, 2, 3, 4, 5, 6, 7, 8, 9, 10], \"cluster\": [1, 1, 1, 1, 1, 1, 1, 1, 1, 1], \"Freq\": [39.29826704476676, 17.407900176464587, 16.562242443361697, 7.340730183736231, 5.119610580157392, 3.5905920519786734, 3.259631259912955, 2.6979719000288926, 2.6601066377290246, 2.0629477218637877]}, \"tinfo\": {\"Term\": [\"trump\", \"photo\", \"donald_trump\", \"president\", \"gop\", \"vote\", \"state\", \"hillary_clinton\", \"wedding\", \"love\", \"good\", \"republican\", \"life\", \"week\", \"election\", \"hotel\", \"parent\", \"kid\", \"bill\", \"new\", \"republicans\", \"senate\", \"time\", \"know\", \"clinton\", \"look\", \"day\", \"child\", \"campaign\", \"way\", \"cancer\", \"lesson\", \"brain\", \"thought\", \"habit\", \"feeling\", \"pregnant\", \"wake\", \"journey\", \"meal\", \"technology\", \"exactly\", \"cook\", \"later\", \"destination\", \"valentines_day\", \"inspiration\", \"type\", \"lgbt\", \"dish\", \"ill\", \"seat\", \"pregnancy\", \"touch\", \"natural\", \"taste\", \"shut\", \"forever\", \"bright\", \"meditation\", \"walk\", \"exercise\", \"date\", \"sleep\", \"parent\", \"mother\", \"child\", \"maybe\", \"light\", \"life\", \"study\", \"kid\", \"mom\", \"relationship\", \"learn\", \"feel\", \"fear\", \"favorite\", \"doctor\", \"stress\", \"beauty\", \"love\", \"thing\", \"food\", \"dad\", \"share\", \"way\", \"know\", \"time\", \"live\", \"eat\", \"work\", \"woman\", \"good\", \"need\", \"people\", \"like\", \"day\", \"change\", \"think\", \"want\", \"divorce\", \"find\", \"year\", \"world\", \"new\", \"come\", \"video\", \"help\", \"photo\", \"look\", \"republican\", \"republicans\", \"senate\", \"democrats\", \"administration\", \"congress\", \"senator\", \"federal\", \"accuse\", \"washington\", \"russian\", \"lawmaker\", \"refugee\", \"paul_ryan\", \"abortion\", \"governor\", \"department\", \"netflix\", \"sen\", \"veteran\", \"obamacare\", \"mayor\", \"endorse\", \"rep\", \"thursday\", \"joe_biden\", \"democrat\", \"allegation\", \"authority\", \"agency\", \"gop\", \"trumps\", \"bill\", \"democratic\", \"voter\", \"international\", \"government\", \"tax\", \"trump\", \"vote\", \"hillary_clinton\", \"president\", \"claim\", \"donald_trump\", \"drug\", \"state\", \"campaign\", \"police\", \"law\", \"attack\", \"obama\", \"win\", \"official\", \"report\", \"leader\", \"plan\", \"new\", \"people\", \"hotel\", \"emotional\", \"embrace\", \"makeup\", \"wine\", \"halloween\", \"cake\", \"airport\", \"card\", \"pop\", \"explore\", \"urge\", \"epic\", \"bathroom\", \"nice\", \"warm\", \"star_war\", \"outfit\", \"shape\", \"suit\", \"scary\", \"cookie\", \"earth\", \"development\", \"glass\", \"thanksgiving\", \"tourist\", \"period\", \"digital\", \"bite\", \"guest\", \"amazing\", \"london\", \"avoid\", \"kick\", \"tour\", \"kitchen\", \"town\", \"adult\", \"super_bowl\", \"winter\", \"area\", \"heart\", \"photo\", \"friend\", \"fat\", \"figure\", \"dress\", \"wedding\", \"eye\", \"look\", \"real\", \"style\", \"student\", \"set\", \"singer\", \"good\", \"city\", \"day\", \"new\", \"holiday\", \"time\", \"like\", \"star\", \"year\", \"video\", \"know\", \"world\", \"way\", \"love\", \"wear\", \"week\", \"clinton\", \"supporter\", \"victory\", \"depression\", \"search\", \"mental_health\", \"awkward\", \"exist\", \"freedom\", \"apple\", \"donald\", \"addiction\", \"leadership\", \"vow\", \"chef\", \"boost\", \"replace\", \"apologize\", \"obamas\", \"planning\", \"elect\", \"publish\", \"strength\", \"feed\", \"iowa\", \"folk\", \"getting\", \"effective\", \"chinese\", \"chrissy_teigen\", \"supreme_court\", \"legal\", \"creative\", \"accept\", \"refuse\", \"trust\", \"happiness\", \"impact\", \"candidate\", \"russia\", \"election\", \"email\", \"yoga\", \"forward\", \"athlete\", \"white_house\", \"trump\", \"chocolate\", \"trailer\", \"smith\", \"autism\", \"thanksgive\", \"pinterest\", \"apart\", \"premiere\", \"cheat\", \"television\", \"blogger\", \"nomination\", \"anxiety\", \"touch_check\", \"homeless\", \"excuse\", \"transform\", \"drama\", \"lifetime\", \"determine\", \"separate\", \"box_office\", \"years_resolution\", \"jeb_bush\", \"insist\", \"scare\", \"reader\", \"react\", \"audience\", \"earn\", \"nominee\", \"cry\", \"murder\", \"improve\", \"oil\", \"simply\", \"magazine\", \"fun\", \"economy\", \"expand\", \"stuff\", \"pack\", \"unique\", \"box\", \"film\", \"want_sure\", \"check_huffpost\", \"style_twitt\", \"facebook_tumblr\", \"dangerous\", \"pinterest_instagram\", \"huffpoststyle\", \"high_school\", \"nba\", \"disney\", \"diy\", \"stress_strain\", \"seth_meyer\", \"immigrant\", \"course_gps\", \"lucky\", \"bet\", \"saturday_night\", \"japan\", \"repeal\", \"example\", \"blood\", \"mike_pence\", \"life_wellbee\", \"walking_dead\", \"constantly_connecte\", \"commercial\", \"shirt\", \"grief\", \"cat\", \"royal\", \"gps_guide\", \"john\", \"pet\", \"nature\", \"encourage\", \"warn\", \"cocktail\", \"marco_rubio\", \"breakfast\", \"fitness\", \"blow\", \"website\", \"quickly\", \"game_throne\", \"steal\", \"god\", \"barack_obama\", \"countrys\", \"wind\", \"civil_right\", \"weapon\", \"weather\", \"convince\", \"roy_moore\", \"bill_maher\", \"ice_cream\", \"december\", \"fruit\", \"obesity\", \"consequence\", \"active\", \"priority\", \"michelle\", \"outcome\", \"pilot\", \"thrive\", \"private\", \"individual\", \"track\", \"significant\", \"survive\", \"workout\", \"europe\", \"appearance\", \"presidency\", \"detail\", \"toy\", \"resolution\", \"arm\", \"standard\", \"egg\", \"funniest_tweet\", \"equality\", \"lesbian\", \"gun_violence\", \"anymore\", \"vogue\", \"cheese\", \"injure\", \"contract\", \"immediately\", \"italy\", \"sandwich\", \"divide\", \"north_carolina\", \"runway\", \"rapper\", \"steve\", \"cup\", \"dessert\", \"overcome\", \"dominate\", \"easter\", \"adam\", \"infrastructure\", \"bacon\", \"bake\", \"lgbtq\", \"stephen_colbert\", \"north\", \"twitter_facebook\", \"north_korea\", \"climate_change\", \"fbi\", \"resign\", \"diversity\", \"sentence\", \"county\", \"committee\", \"soccer\", \"settlement\", \"goodbye\", \"rob\", \"scott\", \"shower\", \"voting\", \"neighborhood\", \"arizona\", \"youve_got\", \"kardashian\", \"thomas\", \"south_carolina\", \"fantasy\", \"planned_parenthood\", \"loud\", \"pot\", \"direction\", \"backlash\", \"syrian\", \"hilariously\", \"atlanta\", \"prosecutor\", \"blue\", \"lawyer\", \"rape\", \"apparently\", \"prison\", \"threaten\", \"amid\", \"ago\", \"boyfriend\", \"scandal\", \"tree\", \"kim_kardashian\", \"describe\", \"trans\", \"union\", \"meeting\", \"grace\", \"chaos\", \"request\", \"cure\", \"relate\", \"enemy\", \"feminist\", \"lady_gaga\", \"hillary\", \"suck\", \"exclusive\", \"contestant\", \"violate\", \"decline\", \"infection\", \"population\", \"mirror\", \"martin\", \"madonna\", \"helpful\", \"brazil\", \"daddy\", \"dismiss\", \"ton\", \"champion\", \"married\", \"citizen\", \"birth\", \"richard\"], \"Freq\": [1909.0, 1984.0, 1393.0, 1038.0, 559.0, 635.0, 855.0, 581.0, 930.0, 1596.0, 1995.0, 433.0, 1640.0, 1252.0, 527.0, 393.0, 1063.0, 1348.0, 514.0, 2096.0, 391.0, 381.0, 2099.0, 1885.0, 241.0, 1443.0, 1925.0, 1442.0, 576.0, 1717.0, 476.4123437576518, 353.0458028188176, 344.65575044148056, 311.5387938649498, 301.45619721183937, 296.4917993349303, 272.55850148136903, 268.27416026387084, 265.14712010611174, 259.98207815014626, 258.63406467469764, 257.3005815024905, 256.4980751275561, 252.37699436898166, 242.54326631519228, 234.5804503149937, 232.05768542765807, 230.4028220225048, 230.03470352173144, 226.078806607588, 225.17540992013465, 224.20691537592077, 224.14463265613003, 212.41079205968455, 211.65058268058786, 210.75311351756153, 207.5232946324217, 200.50043712963787, 199.76682292651023, 197.61778932856467, 432.3126461105968, 417.11908960492144, 493.00713906135945, 593.1811828174281, 994.6227221817478, 664.8917788346051, 1304.451801183941, 348.3046925139827, 329.4619141706405, 1455.2159894961064, 588.670668949595, 1204.7380410650906, 806.3002003915441, 517.5823755706416, 683.4388104282166, 1018.0448715940842, 593.3619111138227, 469.8659787863159, 378.31373787589047, 451.92128159229793, 396.2375575944929, 1314.829969733554, 1339.213182427917, 844.2702782507255, 462.31057080720785, 662.8748818210107, 1351.859127402567, 1464.0771314401484, 1599.9157083331274, 980.245380544077, 633.0684214089894, 1070.8615971547163, 1224.456589285872, 1456.9435393881126, 1166.5863956140204, 1382.6868705483162, 1333.1459153011256, 1379.175677848782, 860.409091306622, 1103.6181812284713, 1228.2090794399578, 746.5680996073403, 935.1026134510935, 1163.3432878835574, 1018.2221028259199, 1326.7251648887388, 970.9699763324096, 878.831977108399, 864.4247005981056, 1015.4366909049019, 861.3425277786348, 430.2590225671748, 388.21858008202776, 378.4515679124089, 345.95534747947636, 301.81105494392443, 301.2634516446445, 269.1137006711658, 241.93332183873167, 241.37530865495054, 240.38065348540405, 229.8359826672094, 214.34977685447117, 209.1524561264704, 189.2640309872065, 188.82614972947673, 187.20147967501606, 186.83000790367987, 175.2579186633793, 164.52204367197353, 163.84620670617477, 162.66121485379227, 162.07026801755654, 157.58326699776467, 154.0735868309169, 151.3135267844498, 150.1222301359483, 149.30161522290567, 147.5497803739955, 145.8452237505281, 145.21925199039785, 546.1883605145968, 392.2270981963554, 463.65972564334237, 285.48882077308605, 280.4930676300989, 188.5315283108344, 300.14931516682793, 233.3913454968458, 1391.3885084598764, 529.2165929254045, 486.9845589945575, 793.249061669837, 330.1524302253299, 948.0533387418781, 268.4264004396961, 595.8748012022505, 432.24247734623583, 334.71688574289834, 342.3549216230336, 372.9722818307025, 361.54002894068765, 383.088489858097, 306.3751696617026, 377.94303266180737, 304.8980504255062, 342.94193377078227, 402.3318119762799, 332.4768397036032, 390.81004565624556, 246.9363106912411, 228.80281257853264, 195.18057222605637, 189.95717679778434, 182.3091282801596, 165.72615066710267, 165.55071987608576, 161.35113990011828, 159.5235528256262, 157.46800741754944, 150.28628085470712, 147.76248276567608, 146.29094517865664, 138.28245513997757, 138.00929423258384, 129.76325118293187, 129.58304516077243, 126.46937338033003, 125.33056918304406, 124.26504415008105, 123.19564292640668, 122.67435422919817, 122.70493634222515, 119.92682771811921, 118.04591722920227, 116.38816036599205, 115.17305563899976, 111.56963526827788, 110.48890023982385, 199.25492029147435, 235.4410323548228, 214.32799634632664, 261.0196758767018, 167.81086330490496, 218.1642166044305, 194.27420682614314, 164.5195794550225, 202.69509113210307, 164.34784799430426, 201.36716420018476, 167.36600041352844, 329.91656341738087, 896.9661532810172, 341.7931528035504, 165.90128669076512, 181.7941844502562, 328.4071482253111, 428.8601780390994, 211.14054429705865, 444.56104960551653, 260.4569944737409, 269.0686227347828, 216.02507517462408, 241.93621627235302, 184.51049509849608, 409.8075068849257, 271.62740970879025, 363.97766814557, 365.7432951221511, 234.10168318791847, 334.6576605002578, 323.30543276096716, 256.699123378457, 308.21794258248093, 280.70662742423883, 276.32980383802436, 265.0399193942056, 272.1711080941228, 263.74418105739613, 228.43483975157145, 230.81529247612033, 238.92852399493074, 167.04321527470074, 125.8312138596871, 125.7586394401963, 120.76022817492864, 119.79179407606738, 119.4910315718194, 117.30858617100627, 116.9978422344467, 116.82145569303442, 114.80579427767933, 111.31580737344993, 104.75841788283803, 101.94685482295027, 101.65809877982058, 101.27550551473001, 100.78717308417615, 100.25970533884556, 99.98890672858538, 98.18851240773067, 97.4713974484796, 97.40719750295706, 96.37332884423628, 96.36462775271858, 95.9237136579958, 93.73663682033127, 92.91145064631372, 91.68238227533158, 90.96610998935812, 89.98252736855274, 202.06475588652074, 140.95117636527922, 127.77286373833375, 157.87006994510443, 138.46653134300047, 133.11802525881387, 129.37641219447778, 139.07453644367777, 176.25210562891033, 132.41651608607614, 185.80560362720786, 135.87665014628456, 114.17147686721724, 106.58494814000079, 104.86252396055403, 104.05255816434146, 104.34466530352866, 130.65498152657435, 127.38838101941465, 111.82133137290562, 99.03411950498818, 96.49790910531263, 94.27674322106087, 93.94331138980745, 90.6751163433662, 90.27810339721727, 88.81469902617421, 87.38545424236865, 86.15153596472749, 84.95220552201658, 81.56199632975049, 78.54898223827682, 78.45518688190903, 78.2956145022637, 78.13879384183569, 77.92121667895378, 74.88006124707387, 72.18137640626054, 70.22902250992041, 70.08883061628579, 69.73231441206192, 67.61349972638014, 67.48288873591443, 66.74206122987587, 66.67426597545052, 65.6772643442633, 65.3489441503639, 136.85710151612398, 112.56806778593898, 95.18986753021159, 113.64815402534843, 84.12918634975347, 110.95535986822384, 107.96745749252145, 117.13397179293676, 88.29300221986044, 80.33538559784537, 99.16446170168929, 91.20837583738452, 83.59842344866742, 79.1731851412622, 79.5326034069785, 158.65339353159516, 143.0687398763208, 128.11946837829643, 127.97743591433218, 113.77466240561985, 95.21118679330283, 91.13198707744624, 86.52657836254919, 80.99928782978348, 80.23791304860116, 76.4964637969713, 75.760925299952, 75.736181769831, 74.5901639562329, 71.87213957351067, 70.05349010961623, 70.02447141894487, 68.30511559426022, 68.14339438641608, 66.3371358587057, 65.5518163442167, 64.11331108907967, 63.81204966333202, 62.97143423816711, 62.90477624160402, 61.9869459211777, 61.831960168072094, 61.48664350041993, 59.207740092851495, 59.0692095541213, 74.62104224588805, 94.78815039080258, 130.52345058624158, 79.14578526328573, 70.28915434097023, 66.76877370530275, 69.80643184050247, 97.67407264380081, 89.53046310520133, 88.28541897403261, 85.22881773486294, 81.68480486280804, 79.30015025099436, 72.81359639083989, 67.96685080938313, 67.96255201247337, 67.64203928417261, 62.69504065359616, 60.14112598963756, 58.19215821550335, 58.032882278718354, 57.49857837130995, 56.934449747419606, 56.70690937981512, 55.77289277728794, 54.736378004987785, 54.25928116414783, 53.988967477223895, 52.81811095048447, 52.788350048801455, 52.459570403366534, 51.530757607624864, 50.75044765033965, 50.2155520057048, 49.286518758839556, 49.025231965291596, 47.85005343626097, 62.125093280312434, 95.70437666270492, 90.64503497928412, 72.85159520293028, 80.22087597130793, 78.11672801021099, 72.43420580850778, 65.51025371379343, 58.27099849890921, 62.56069309781154, 54.989049800680135, 83.92365383635577, 69.60596800629826, 69.45385882719984, 67.11239159430114, 66.66093301046271, 66.20791866634814, 62.400296226784455, 60.742211100372536, 59.8283507917409, 55.733080761613074, 55.708150183360694, 55.0393701355152, 53.795390941126364, 53.29191042262185, 52.34223401553402, 48.92928971145853, 48.51239877647197, 48.44609169729494, 47.353078870443646, 46.75507150997525, 46.65227128851815, 46.51002966302308, 45.740302861209976, 45.06795032680444, 45.05665185788536, 44.59089372434824, 44.07047750678822, 43.805873414882235, 43.48878162057317, 42.58214311272959, 79.6676699283182, 88.91193026499387, 58.983981108777314, 49.36601178823676, 48.894025811865795, 104.93578583500855, 79.2853584141965, 72.57658318743155, 68.04891290588037, 65.26070481621754, 63.09653933363333, 61.33906298430913, 59.404792237842514, 59.03284841376035, 54.89895199044027, 52.894371585082766, 52.8143660012435, 50.424888622068096, 49.810499330892675, 48.278600001107485, 47.0680391527417, 47.0525152572799, 46.66224480943054, 46.12510571717253, 45.86006325311703, 45.57696402258051, 45.54504511339983, 45.53558117103077, 45.50314148463118, 45.34449380639851, 44.78945418082514, 44.71189624991474, 44.6546817709102, 43.14516165852298, 41.11255397011154, 98.79988448639537, 116.48554512123454, 84.34244608215079, 69.25334278607811, 68.89045575126659, 71.63365448620074, 62.57251435861509, 59.51204867324571, 51.66413482651898, 49.01689166133773, 48.42416196813051, 85.20196623051407, 80.90256883779456, 74.03782118123193, 66.01251387062051, 61.14955685190583, 55.38329042185526, 54.47221569976469, 49.245709962228496, 48.107363135633996, 47.97742727388064, 47.36383187721652, 46.190814682084664, 45.539494194165506, 45.4215422446123, 44.86040950769933, 43.938635913013414, 43.01422615136681, 42.294137686882515, 41.68271951446308, 40.47711738649537, 40.33800634196379, 37.808295733674235, 36.69922578081868, 34.891465108669514, 34.09395484376722, 33.62364503457939, 33.198851328193385, 32.95339040596902, 32.52516013652561, 31.668031377044315, 51.95253941501772, 52.05896639508679, 56.04109118092431, 35.28239985724006], \"Total\": [1909.0, 1984.0, 1393.0, 1038.0, 559.0, 635.0, 855.0, 581.0, 930.0, 1596.0, 1995.0, 433.0, 1640.0, 1252.0, 527.0, 393.0, 1063.0, 1348.0, 514.0, 2096.0, 391.0, 381.0, 2099.0, 1885.0, 241.0, 1443.0, 1925.0, 1442.0, 576.0, 1717.0, 479.1528159052671, 355.78652079348245, 347.39615769178124, 314.2795159329522, 304.1965417274259, 299.23244255928853, 275.29928150237606, 271.0148378591803, 267.88759428179935, 262.7227815288709, 261.37448433878734, 260.04695322887807, 259.23874002332394, 255.1178439443935, 245.28460250174888, 237.32094735787152, 234.79892880997508, 233.1438392488623, 232.77545096902503, 228.81957139800122, 227.916114033508, 226.94794233976853, 226.88518272433387, 215.15144070696672, 214.39141511336283, 213.49390591920576, 210.26448533192598, 203.24109712900804, 202.50734879992677, 200.35808098031552, 441.0455764369153, 426.08330927769583, 512.2081842297938, 619.9696827723544, 1063.4785177592578, 707.4684595312143, 1442.8346657328682, 360.6502432853533, 340.146858177493, 1640.0022071624064, 627.2605400895246, 1348.7185828546728, 889.4022775608987, 554.5535163262228, 748.3986375223699, 1159.9848979607561, 645.9352158673863, 501.9118218100766, 396.79060625134514, 483.19468496036023, 418.1608805396918, 1596.2640299173106, 1633.2484206403765, 977.5149995604999, 497.43641718971315, 750.5246291629983, 1717.3495018438816, 1885.3798599967854, 2099.7873561206725, 1190.3060194747384, 718.0206659495676, 1336.0702917141693, 1606.020998083075, 1995.0487145419936, 1524.3067049285755, 1889.4706071520234, 1837.0821094883854, 1925.0493542257518, 1059.277812751995, 1469.796668309219, 1691.318589098508, 892.5874615487027, 1234.6891863572732, 1693.941871574149, 1406.8595912051155, 2096.6684802200834, 1395.3820944211452, 1207.47205201444, 1186.4610192760342, 1984.6519651486794, 1443.989113502718, 433.11403588402203, 391.07351727206185, 381.30642228544883, 348.81017401388374, 304.6660653283884, 304.1185907765024, 271.96869970552393, 244.7882693481624, 244.2306069179161, 243.23585188340334, 232.6910091535095, 217.20467137505673, 212.0074670642674, 192.11898272462057, 191.6811373646733, 190.05647710817186, 189.68506195460694, 178.11308080736472, 167.37691863623695, 166.70175645895628, 165.51610696779738, 164.92534205067756, 160.43832680352682, 156.9284980327231, 154.16934195009023, 152.97733271595973, 152.15655369444428, 150.40467026500133, 148.7004386258791, 148.0743895501564, 559.3906462205363, 420.5895373744176, 514.8925869172276, 306.06430303321486, 304.8496278990074, 196.64110752748275, 332.19709833707185, 250.54032927902864, 1909.3517559682487, 635.608494486619, 581.2103863940542, 1038.1604945427177, 384.86125663765546, 1393.7686871967846, 302.0205067944422, 855.5367535190724, 576.8221680284202, 426.714394344226, 441.1473932879839, 508.94637209239426, 500.83279349628856, 608.2005299554401, 401.8716009776812, 631.2072717311615, 446.5027482147253, 754.2842392779338, 2096.6684802200834, 1889.4706071520234, 393.6703457975328, 249.7970876113706, 231.66414914117917, 198.0407201851734, 192.81768024408132, 185.16908957666053, 168.58621501838888, 168.41120529173256, 164.21159684049397, 162.38410993977556, 160.32887427263503, 153.14770177849013, 150.62320856136046, 149.15119924179942, 141.14289634504212, 140.869545588562, 132.62334100533917, 132.44315364477384, 129.3301556921382, 128.19140110973808, 127.12545776812772, 126.0557688793218, 125.534604732973, 125.56643670169343, 122.78737104925702, 120.9060724634903, 119.2483802125594, 118.0340472644966, 114.43082435388652, 113.34985492662422, 205.52211974783424, 246.7284001389921, 224.86067567783726, 281.7915698588173, 177.7669448637639, 237.9479951893383, 209.36318354195924, 174.93065628501023, 223.44587283794456, 176.6110698656345, 224.31605905555966, 182.2418038856745, 433.6496169413694, 1984.6519651486794, 585.0374552158961, 189.2825339820961, 219.55340620766123, 587.3376504244745, 930.3137749173593, 282.8291358788072, 1443.989113502718, 500.49044604070235, 542.4245105907685, 336.5747689679662, 455.1729668692448, 232.3840534787047, 1995.0487145419936, 725.0940530762026, 1925.0493542257518, 2096.6684802200834, 504.6376703185426, 2099.7873561206725, 1837.0821094883854, 733.2769361843829, 1693.941871574149, 1207.47205201444, 1885.3798599967854, 1406.8595912051155, 1717.3495018438816, 1596.2640299173106, 550.0679892823695, 1252.8816859668927, 241.88427860353224, 169.99925323166806, 128.78717374440572, 128.71434195943246, 123.7164522010855, 122.74779780443295, 122.44731251525208, 120.26483126211221, 119.95416877977472, 119.77755059766542, 117.76195381901009, 114.27208543934307, 107.7143586715072, 104.90301233423185, 104.61447499724682, 104.23218122058422, 103.74345523757813, 103.21576614739493, 102.94482107085413, 101.14519011871874, 100.42775893319735, 100.36380661881579, 99.32964202393316, 99.32084600968267, 98.87975531299296, 96.69324772830382, 95.86816695424041, 94.63852475983714, 93.9219309780006, 92.93838244314338, 236.80087750785242, 156.29345221871614, 140.34851344177403, 181.19724245687146, 158.11204475052784, 152.26425689239173, 162.50014607522775, 185.2667283748074, 331.3172821128059, 190.64744390533352, 527.1254605345731, 284.34485947154513, 183.87287311635595, 138.1095930641866, 166.22873952130072, 390.55175400800755, 1909.3517559682487, 133.64113368241684, 130.37415878952254, 114.80724484898249, 102.0199671968731, 99.48402320591782, 97.26260246486594, 96.92957997332745, 93.6611546061538, 93.26379797887104, 91.80101757381718, 90.37169238660394, 89.13739926198572, 87.93845284417775, 84.54738151926934, 81.53509087602902, 81.44119058867932, 81.28214037420564, 81.12493917666602, 80.9076222402667, 77.86672100559628, 75.1675631222162, 73.21441096549341, 73.07458698280058, 72.71814745294621, 70.59972077201232, 70.46901315971176, 69.72828841261351, 69.660322050048, 68.66349395042641, 68.33565443026686, 159.8291026475007, 129.09514340703836, 109.40375958001195, 145.38032099602188, 95.92679500497286, 147.30264573193023, 143.65601560766203, 203.5745607372786, 117.54034400033693, 97.13364980482264, 163.1430534618332, 153.75698567628635, 128.94506998534766, 93.76186819533213, 437.6929455298213, 161.67903747507862, 146.09422023986005, 131.1447507264866, 131.0027184639464, 116.80120821720122, 98.23645179715228, 94.15725192768286, 89.55288505813836, 84.02526643455174, 83.26405812343856, 79.52258895904676, 78.786232458788, 78.76194496573285, 77.61625669804815, 74.89740226293436, 73.07992505857854, 73.05082289857936, 71.33145763943577, 71.16949877680403, 69.36337844006984, 68.57933755586652, 67.13964454936539, 66.83788434836531, 65.99669880101676, 65.93046897185297, 65.01220930493537, 64.85829804285905, 64.51295993511181, 62.233708864399595, 62.094872297239064, 78.62098648318873, 104.11007802257734, 149.00133618956215, 88.67440355488763, 84.79490337593279, 85.96457783341059, 127.5779319497463, 100.70689063848577, 92.56317213606661, 91.3180410282408, 88.26128253157526, 84.71763628696095, 82.33288996668115, 75.8467210402153, 70.99914267451526, 70.99545975315257, 70.67498885250657, 65.7276266544253, 63.17410280923859, 61.225108381283185, 61.06575720492707, 60.53143762994979, 59.96741111845392, 59.74005752277465, 58.80532773037565, 57.76872175692713, 57.29163241332775, 57.02167957327129, 55.85089536855819, 55.82128115199197, 55.492592078827414, 54.56391405535648, 53.7831985714948, 53.24829453097361, 52.31973652037459, 52.05790032855364, 50.883005307057935, 67.95754129734097, 110.86439571169069, 112.46127684779823, 92.38513860950944, 110.40619508476827, 106.81092479473509, 96.11571955312563, 83.92282826026322, 74.97200736841093, 99.86074157601382, 83.28712969426294, 86.97918038559031, 72.66159699949985, 72.50981158568015, 70.16727358596191, 69.71556424371973, 69.26366731219056, 65.45564008106987, 63.79721906550886, 62.883714849425246, 58.78850668017755, 58.763278429777834, 58.09451959459814, 56.850869364936, 56.34741142532352, 55.397674180438564, 51.98427982256688, 51.56785302113061, 51.50163436509866, 50.40881582283133, 49.81011633476641, 49.70763257608454, 49.56569031392578, 48.7953279423314, 48.123641021886066, 48.112204842908596, 47.645971884879984, 47.12558807630146, 46.860968064838104, 46.543751057548754, 45.637302919107505, 87.79870344850947, 111.23126070394784, 76.70636941868347, 60.838101102972516, 91.44433403878642, 107.99143160159711, 82.34664683913931, 75.63192429152805, 71.10446140266066, 68.31629015303206, 66.15207913089613, 64.39446960410224, 62.46045309248707, 62.08841270588711, 57.95503766873583, 55.95008547902307, 55.869666873326324, 53.4802653444751, 52.866131010982656, 51.33448341798257, 50.12355474296191, 50.10832294864618, 49.717282001321514, 49.18070853820455, 48.91593816093244, 48.63258687213404, 48.6002328797319, 48.59149570556824, 48.55858642021212, 48.400134279985046, 47.84523600944544, 47.767138329369445, 47.70984823213334, 46.200454965206, 44.16774151896557, 113.42166524539238, 137.15176491565035, 105.15609581554641, 92.00456163766839, 98.16809676108949, 109.93086007321668, 88.85850206021448, 83.25350393503278, 66.74290572830577, 84.8514729576642, 79.51460252690654, 88.28183333335215, 83.98314646935938, 77.11783718171047, 69.09251492103255, 64.2298519673403, 58.46328682992484, 57.55260416097246, 52.32587183847535, 51.187616417100244, 51.057781327138315, 50.443859292143074, 49.271106871827186, 48.61925502930721, 48.50137361238862, 47.94038472676476, 47.018961965524845, 46.09444489291842, 45.37462499304651, 44.7631809391784, 43.55738375859337, 43.418160298326626, 40.888522268629096, 39.779222656533506, 37.97112755547046, 37.174109706054956, 36.70379891454652, 36.27863205455729, 36.033428892694864, 35.60525807635231, 34.747862466072014, 65.72226654065996, 68.04201681371943, 89.81924279673666, 47.40476106019954], \"Category\": [\"Default\", \"Default\", \"Default\", \"Default\", \"Default\", \"Default\", \"Default\", \"Default\", \"Default\", \"Default\", \"Default\", \"Default\", \"Default\", \"Default\", \"Default\", \"Default\", \"Default\", \"Default\", \"Default\", \"Default\", \"Default\", \"Default\", \"Default\", \"Default\", \"Default\", \"Default\", \"Default\", \"Default\", \"Default\", \"Default\", \"Topic1\", \"Topic1\", \"Topic1\", \"Topic1\", \"Topic1\", \"Topic1\", \"Topic1\", \"Topic1\", \"Topic1\", \"Topic1\", \"Topic1\", \"Topic1\", \"Topic1\", \"Topic1\", \"Topic1\", \"Topic1\", \"Topic1\", \"Topic1\", \"Topic1\", \"Topic1\", \"Topic1\", \"Topic1\", \"Topic1\", \"Topic1\", \"Topic1\", \"Topic1\", \"Topic1\", \"Topic1\", \"Topic1\", \"Topic1\", \"Topic1\", \"Topic1\", \"Topic1\", \"Topic1\", \"Topic1\", \"Topic1\", \"Topic1\", \"Topic1\", \"Topic1\", \"Topic1\", \"Topic1\", \"Topic1\", \"Topic1\", \"Topic1\", \"Topic1\", \"Topic1\", \"Topic1\", \"Topic1\", \"Topic1\", \"Topic1\", \"Topic1\", \"Topic1\", \"Topic1\", \"Topic1\", \"Topic1\", \"Topic1\", \"Topic1\", \"Topic1\", \"Topic1\", \"Topic1\", \"Topic1\", \"Topic1\", \"Topic1\", \"Topic1\", \"Topic1\", \"Topic1\", \"Topic1\", \"Topic1\", \"Topic1\", \"Topic1\", \"Topic1\", \"Topic1\", \"Topic1\", \"Topic1\", \"Topic1\", \"Topic1\", \"Topic1\", \"Topic1\", \"Topic1\", \"Topic1\", \"Topic1\", \"Topic2\", \"Topic2\", \"Topic2\", \"Topic2\", \"Topic2\", \"Topic2\", \"Topic2\", \"Topic2\", \"Topic2\", \"Topic2\", \"Topic2\", \"Topic2\", \"Topic2\", \"Topic2\", \"Topic2\", \"Topic2\", \"Topic2\", \"Topic2\", \"Topic2\", \"Topic2\", \"Topic2\", \"Topic2\", \"Topic2\", \"Topic2\", \"Topic2\", \"Topic2\", \"Topic2\", \"Topic2\", \"Topic2\", \"Topic2\", \"Topic2\", \"Topic2\", \"Topic2\", \"Topic2\", \"Topic2\", \"Topic2\", \"Topic2\", \"Topic2\", \"Topic2\", \"Topic2\", \"Topic2\", \"Topic2\", \"Topic2\", \"Topic2\", \"Topic2\", \"Topic2\", \"Topic2\", \"Topic2\", \"Topic2\", \"Topic2\", \"Topic2\", \"Topic2\", \"Topic2\", \"Topic2\", \"Topic2\", \"Topic2\", \"Topic2\", \"Topic2\", \"Topic3\", \"Topic3\", \"Topic3\", \"Topic3\", \"Topic3\", \"Topic3\", \"Topic3\", \"Topic3\", \"Topic3\", \"Topic3\", \"Topic3\", \"Topic3\", \"Topic3\", \"Topic3\", \"Topic3\", \"Topic3\", \"Topic3\", \"Topic3\", \"Topic3\", \"Topic3\", \"Topic3\", \"Topic3\", \"Topic3\", \"Topic3\", \"Topic3\", \"Topic3\", \"Topic3\", \"Topic3\", \"Topic3\", \"Topic3\", \"Topic3\", \"Topic3\", \"Topic3\", \"Topic3\", \"Topic3\", \"Topic3\", \"Topic3\", \"Topic3\", \"Topic3\", \"Topic3\", \"Topic3\", \"Topic3\", \"Topic3\", \"Topic3\", \"Topic3\", \"Topic3\", \"Topic3\", \"Topic3\", \"Topic3\", \"Topic3\", \"Topic3\", \"Topic3\", \"Topic3\", \"Topic3\", \"Topic3\", \"Topic3\", \"Topic3\", \"Topic3\", \"Topic3\", \"Topic3\", \"Topic3\", \"Topic3\", \"Topic3\", \"Topic3\", \"Topic3\", \"Topic3\", \"Topic3\", \"Topic3\", \"Topic3\", \"Topic3\", \"Topic3\", \"Topic3\", \"Topic4\", \"Topic4\", \"Topic4\", \"Topic4\", \"Topic4\", \"Topic4\", \"Topic4\", \"Topic4\", \"Topic4\", \"Topic4\", \"Topic4\", \"Topic4\", \"Topic4\", \"Topic4\", \"Topic4\", \"Topic4\", \"Topic4\", \"Topic4\", \"Topic4\", \"Topic4\", \"Topic4\", \"Topic4\", \"Topic4\", \"Topic4\", \"Topic4\", \"Topic4\", \"Topic4\", \"Topic4\", \"Topic4\", \"Topic4\", \"Topic4\", \"Topic4\", \"Topic4\", \"Topic4\", \"Topic4\", \"Topic4\", \"Topic4\", \"Topic4\", \"Topic4\", \"Topic4\", \"Topic4\", \"Topic4\", \"Topic4\", \"Topic4\", \"Topic4\", \"Topic4\", \"Topic4\", \"Topic5\", \"Topic5\", \"Topic5\", \"Topic5\", \"Topic5\", \"Topic5\", \"Topic5\", \"Topic5\", \"Topic5\", \"Topic5\", \"Topic5\", \"Topic5\", \"Topic5\", \"Topic5\", \"Topic5\", \"Topic5\", \"Topic5\", \"Topic5\", \"Topic5\", \"Topic5\", \"Topic5\", \"Topic5\", \"Topic5\", \"Topic5\", \"Topic5\", \"Topic5\", \"Topic5\", \"Topic5\", \"Topic5\", \"Topic5\", \"Topic5\", \"Topic5\", \"Topic5\", \"Topic5\", \"Topic5\", \"Topic5\", \"Topic5\", \"Topic5\", \"Topic5\", \"Topic5\", \"Topic5\", \"Topic5\", \"Topic5\", \"Topic5\", \"Topic5\", \"Topic6\", \"Topic6\", \"Topic6\", \"Topic6\", \"Topic6\", \"Topic6\", \"Topic6\", \"Topic6\", \"Topic6\", \"Topic6\", \"Topic6\", \"Topic6\", \"Topic6\", \"Topic6\", \"Topic6\", \"Topic6\", \"Topic6\", \"Topic6\", \"Topic6\", \"Topic6\", \"Topic6\", \"Topic6\", \"Topic6\", \"Topic6\", \"Topic6\", \"Topic6\", \"Topic6\", \"Topic6\", \"Topic6\", \"Topic6\", \"Topic6\", \"Topic6\", \"Topic6\", \"Topic6\", \"Topic6\", \"Topic6\", \"Topic6\", \"Topic7\", \"Topic7\", \"Topic7\", \"Topic7\", \"Topic7\", \"Topic7\", \"Topic7\", \"Topic7\", \"Topic7\", \"Topic7\", \"Topic7\", \"Topic7\", \"Topic7\", \"Topic7\", \"Topic7\", \"Topic7\", \"Topic7\", \"Topic7\", \"Topic7\", \"Topic7\", \"Topic7\", \"Topic7\", \"Topic7\", \"Topic7\", \"Topic7\", \"Topic7\", \"Topic7\", \"Topic7\", \"Topic7\", \"Topic7\", \"Topic7\", \"Topic7\", \"Topic7\", \"Topic7\", \"Topic7\", \"Topic7\", \"Topic7\", \"Topic7\", \"Topic7\", \"Topic7\", \"Topic7\", \"Topic8\", \"Topic8\", \"Topic8\", \"Topic8\", \"Topic8\", \"Topic8\", \"Topic8\", \"Topic8\", \"Topic8\", \"Topic8\", \"Topic8\", \"Topic8\", \"Topic8\", \"Topic8\", \"Topic8\", \"Topic8\", \"Topic8\", \"Topic8\", \"Topic8\", \"Topic8\", \"Topic8\", \"Topic8\", \"Topic8\", \"Topic8\", \"Topic8\", \"Topic8\", \"Topic8\", \"Topic8\", \"Topic8\", \"Topic8\", \"Topic8\", \"Topic8\", \"Topic8\", \"Topic8\", \"Topic8\", \"Topic9\", \"Topic9\", \"Topic9\", \"Topic9\", \"Topic9\", \"Topic9\", \"Topic9\", \"Topic9\", \"Topic9\", \"Topic9\", \"Topic9\", \"Topic9\", \"Topic9\", \"Topic9\", \"Topic9\", \"Topic9\", \"Topic9\", \"Topic9\", \"Topic9\", \"Topic9\", \"Topic9\", \"Topic9\", \"Topic9\", \"Topic9\", \"Topic9\", \"Topic9\", \"Topic9\", \"Topic9\", \"Topic9\", \"Topic9\", \"Topic9\", \"Topic9\", \"Topic9\", \"Topic9\", \"Topic9\", \"Topic9\", \"Topic9\", \"Topic9\", \"Topic9\", \"Topic9\", \"Topic9\", \"Topic10\", \"Topic10\", \"Topic10\", \"Topic10\", \"Topic10\", \"Topic10\", \"Topic10\", \"Topic10\", \"Topic10\", \"Topic10\", \"Topic10\", \"Topic10\", \"Topic10\", \"Topic10\", \"Topic10\", \"Topic10\", \"Topic10\", \"Topic10\", \"Topic10\", \"Topic10\", \"Topic10\", \"Topic10\", \"Topic10\", \"Topic10\", \"Topic10\", \"Topic10\", \"Topic10\", \"Topic10\", \"Topic10\", \"Topic10\", \"Topic10\", \"Topic10\", \"Topic10\", \"Topic10\"], \"logprob\": [30.0, 29.0, 28.0, 27.0, 26.0, 25.0, 24.0, 23.0, 22.0, 21.0, 20.0, 19.0, 18.0, 17.0, 16.0, 15.0, 14.0, 13.0, 12.0, 11.0, 10.0, 9.0, 8.0, 7.0, 6.0, 5.0, 4.0, 3.0, 2.0, 1.0, -6.4466, -6.7463, -6.7703, -6.8713, -6.9042, -6.9208, -7.005, -7.0208, -7.0326, -7.0522, -7.0574, -7.0626, -7.0657, -7.0819, -7.1217, -7.1551, -7.1659, -7.173, -7.1746, -7.192, -7.196, -7.2003, -7.2006, -7.2543, -7.2579, -7.2622, -7.2776, -7.312, -7.3157, -7.3265, -6.5437, -6.5795, -6.4123, -6.2274, -5.7105, -6.1132, -5.4393, -6.7598, -6.8154, -5.3299, -6.235, -5.5188, -5.9204, -6.3637, -6.0857, -5.6872, -6.2271, -6.4604, -6.6771, -6.4993, -6.6308, -5.4314, -5.413, -5.8744, -6.4766, -6.1163, -5.4036, -5.3239, -5.2351, -5.7251, -6.1623, -5.6366, -5.5026, -5.3288, -5.551, -5.3811, -5.4176, -5.3836, -5.8554, -5.6065, -5.4995, -5.9974, -5.7722, -5.5538, -5.687, -5.4224, -5.7346, -5.8343, -5.8508, -5.6898, -5.8544, -5.7342, -5.837, -5.8625, -5.9523, -6.0888, -6.0906, -6.2035, -6.3099, -6.3122, -6.3164, -6.3612, -6.431, -6.4555, -6.5555, -6.5578, -6.5664, -6.5684, -6.6323, -6.6956, -6.6997, -6.7069, -6.7106, -6.7386, -6.7612, -6.7792, -6.7871, -6.7926, -6.8044, -6.8161, -6.8204, -5.4956, -5.8268, -5.6594, -6.1444, -6.1621, -6.5593, -6.0943, -6.3459, -4.5605, -5.5272, -5.6104, -5.1225, -5.999, -4.9442, -6.206, -5.4086, -5.7296, -5.9853, -5.9628, -5.8771, -5.9082, -5.8503, -6.0738, -5.8639, -6.0786, -5.961, -5.8013, -5.992, -5.7806, -6.2397, -6.3159, -6.4749, -6.502, -6.5431, -6.6385, -6.6395, -6.6652, -6.6766, -6.6896, -6.7363, -6.7532, -6.7632, -6.8195, -6.8215, -6.8831, -6.8845, -6.9088, -6.9178, -6.9264, -6.935, -6.9393, -6.939, -6.9619, -6.9777, -6.9919, -7.0024, -7.0342, -7.0439, -6.4542, -6.2873, -6.3813, -6.1842, -6.626, -6.3636, -6.4795, -6.6458, -6.4371, -6.6468, -6.4437, -6.6286, -5.95, -4.9498, -5.9146, -6.6374, -6.5459, -5.9545, -5.6877, -6.3963, -5.6517, -6.1864, -6.1538, -6.3734, -6.2601, -6.5311, -5.7331, -6.1444, -5.8517, -5.8469, -6.293, -5.9357, -5.9702, -6.2009, -6.018, -6.1115, -6.1272, -6.1689, -6.1424, -6.1738, -6.3175, -6.3072, -5.4589, -5.8169, -6.1002, -6.1007, -6.1413, -6.1494, -6.1519, -6.1703, -6.173, -6.1745, -6.1919, -6.2227, -6.2835, -6.3107, -6.3135, -6.3173, -6.3221, -6.3273, -6.3301, -6.3482, -6.3556, -6.3562, -6.3669, -6.367, -6.3716, -6.3946, -6.4035, -6.4168, -6.4246, -6.4355, -5.6265, -5.9867, -6.0849, -5.8733, -6.0045, -6.0439, -6.0724, -6.0001, -5.7632, -6.0492, -5.7104, -6.0234, -6.1974, -6.2662, -6.2825, -6.2902, -6.2874, -5.7022, -5.7275, -5.8579, -5.9793, -6.0052, -6.0285, -6.0321, -6.0675, -6.0719, -6.0882, -6.1044, -6.1186, -6.1327, -6.1734, -6.211, -6.2122, -6.2143, -6.2163, -6.2191, -6.2589, -6.2956, -6.323, -6.325, -6.3301, -6.3609, -6.3629, -6.3739, -6.3749, -6.39, -6.395, -5.6558, -5.8512, -6.0189, -5.8416, -6.1424, -5.8656, -5.8929, -5.8114, -6.0941, -6.1885, -5.978, -6.0616, -6.1487, -6.2031, -6.1986, -5.1533, -5.2567, -5.367, -5.3681, -5.4858, -5.6639, -5.7077, -5.7595, -5.8256, -5.835, -5.8827, -5.8924, -5.8927, -5.908, -5.9451, -5.9707, -5.9711, -5.996, -5.9984, -6.0252, -6.0372, -6.0593, -6.0641, -6.0773, -6.0784, -6.0931, -6.0956, -6.1012, -6.1389, -6.1413, -5.9076, -5.6683, -5.3484, -5.8487, -5.9674, -6.0188, -5.9743, -5.5417, -5.6287, -5.6427, -5.6779, -5.7204, -5.75, -5.8354, -5.9043, -5.9043, -5.9091, -5.985, -6.0266, -6.0595, -6.0623, -6.0715, -6.0814, -6.0854, -6.102, -6.1208, -6.1295, -6.1345, -6.1564, -6.157, -6.1632, -6.1811, -6.1964, -6.207, -6.2256, -6.231, -6.2552, -5.9941, -5.562, -5.6163, -5.8349, -5.7385, -5.7651, -5.8406, -5.9411, -6.0582, -5.9872, -6.1162, -5.5043, -5.6913, -5.6935, -5.7278, -5.7346, -5.7414, -5.8006, -5.8275, -5.8427, -5.9136, -5.914, -5.9261, -5.949, -5.9584, -5.9764, -6.0438, -6.0524, -6.0537, -6.0765, -6.0893, -6.0915, -6.0945, -6.1112, -6.126, -6.1263, -6.1366, -6.1484, -6.1544, -6.1617, -6.1827, -5.5563, -5.4465, -5.8569, -6.0349, -6.0445, -5.2667, -5.547, -5.6354, -5.6998, -5.7417, -5.7754, -5.8036, -5.8357, -5.8419, -5.9145, -5.9517, -5.9533, -5.9996, -6.0118, -6.0431, -6.0684, -6.0688, -6.0771, -6.0887, -6.0944, -6.1006, -6.1013, -6.1015, -6.1023, -6.1058, -6.1181, -6.1198, -6.1211, -6.1555, -6.2037, -5.3269, -5.1623, -5.4852, -5.6823, -5.6875, -5.6485, -5.7837, -5.8339, -5.9753, -6.0279, -6.04, -5.2208, -5.2726, -5.3612, -5.476, -5.5525, -5.6515, -5.6681, -5.769, -5.7924, -5.7951, -5.808, -5.833, -5.8472, -5.8498, -5.8623, -5.883, -5.9043, -5.9212, -5.9357, -5.9651, -5.9685, -6.0333, -6.0631, -6.1136, -6.1367, -6.1506, -6.1633, -6.1707, -6.1838, -6.2105, -5.7155, -5.7134, -5.6397, -6.1024], \"loglift\": [30.0, 29.0, 28.0, 27.0, 26.0, 25.0, 24.0, 23.0, 22.0, 21.0, 20.0, 19.0, 18.0, 17.0, 16.0, 15.0, 14.0, 13.0, 12.0, 11.0, 10.0, 9.0, 8.0, 7.0, 6.0, 5.0, 4.0, 3.0, 2.0, 1.0, 0.9283, 0.9263, 0.9261, 0.9252, 0.9249, 0.9248, 0.924, 0.9238, 0.9237, 0.9235, 0.9234, 0.9234, 0.9234, 0.9232, 0.9228, 0.9224, 0.9222, 0.9222, 0.9221, 0.9219, 0.9219, 0.9218, 0.9218, 0.9212, 0.9211, 0.9211, 0.9209, 0.9204, 0.9204, 0.9202, 0.914, 0.9127, 0.8958, 0.8898, 0.8671, 0.8719, 0.8332, 0.8992, 0.9021, 0.8144, 0.8705, 0.8211, 0.8359, 0.865, 0.8432, 0.8035, 0.8491, 0.868, 0.8863, 0.8671, 0.8801, 0.74, 0.7355, 0.7874, 0.8608, 0.8098, 0.6947, 0.6811, 0.6621, 0.7398, 0.8081, 0.7127, 0.6627, 0.6197, 0.6665, 0.6217, 0.6134, 0.6005, 0.7261, 0.6475, 0.614, 0.7554, 0.6561, 0.5582, 0.6107, 0.4764, 0.5714, 0.6163, 0.6173, 0.2639, 0.4173, 1.7416, 1.7409, 1.7407, 1.74, 1.7388, 1.7388, 1.7377, 1.7365, 1.7365, 1.7364, 1.7359, 1.735, 1.7347, 1.7333, 1.7332, 1.7331, 1.7331, 1.7321, 1.731, 1.731, 1.7308, 1.7308, 1.7303, 1.7299, 1.7295, 1.7294, 1.7293, 1.7291, 1.7289, 1.7288, 1.7244, 1.6784, 1.6434, 1.6787, 1.665, 1.7061, 1.6468, 1.6773, 1.4318, 1.5651, 1.5714, 1.4792, 1.5949, 1.3629, 1.6303, 1.3865, 1.4597, 1.5054, 1.4947, 1.4374, 1.4223, 1.286, 1.4769, 1.2354, 1.3668, 0.96, 0.0974, 0.0108, 1.7908, 1.7865, 1.7856, 1.7835, 1.7831, 1.7825, 1.7809, 1.7809, 1.7805, 1.7803, 1.78, 1.7792, 1.7789, 1.7787, 1.7776, 1.7775, 1.7762, 1.7762, 1.7757, 1.7755, 1.7753, 1.7751, 1.775, 1.775, 1.7745, 1.7741, 1.7738, 1.7735, 1.7727, 1.7725, 1.7671, 1.7512, 1.7501, 1.7215, 1.7404, 1.7112, 1.7232, 1.7367, 1.7006, 1.7261, 1.6901, 1.7129, 1.5246, 1.0039, 1.2606, 1.6662, 1.6093, 1.2167, 1.0237, 1.5057, 0.62, 1.1449, 1.097, 1.3546, 1.166, 1.5674, 0.2153, 0.8162, 0.1324, 0.0519, 1.03, -0.0384, 0.0607, 0.7484, 0.094, 0.3391, -0.1222, 0.1288, -0.0441, -0.0024, 0.9193, 0.1065, 2.5994, 2.5942, 2.5885, 2.5885, 2.5875, 2.5874, 2.5873, 2.5868, 2.5868, 2.5867, 2.5863, 2.5855, 2.5839, 2.5831, 2.5831, 2.583, 2.5828, 2.5827, 2.5826, 2.5821, 2.5819, 2.5818, 2.5815, 2.5815, 2.5814, 2.5807, 2.5804, 2.58, 2.5798, 2.5794, 2.4531, 2.5084, 2.5179, 2.4739, 2.4791, 2.4774, 2.3838, 2.3249, 1.9806, 2.2473, 1.569, 1.8733, 2.1352, 2.3526, 2.151, 1.2891, -0.2951, 2.9495, 2.9489, 2.9457, 2.9424, 2.9416, 2.9409, 2.9408, 2.9397, 2.9396, 2.939, 2.9385, 2.938, 2.9375, 2.9361, 2.9348, 2.9347, 2.9347, 2.9346, 2.9345, 2.933, 2.9316, 2.9305, 2.9304, 2.9302, 2.9289, 2.9288, 2.9283, 2.9283, 2.9276, 2.9274, 2.8169, 2.8351, 2.8329, 2.7258, 2.8409, 2.6887, 2.6865, 2.4194, 2.686, 2.7822, 2.4742, 2.4499, 2.5387, 2.803, 1.2667, 3.308, 3.3059, 3.3035, 3.3035, 3.3006, 3.2956, 3.2942, 3.2925, 3.2902, 3.2898, 3.2881, 3.2877, 3.2877, 3.2871, 3.2856, 3.2846, 3.2845, 3.2835, 3.2834, 3.2822, 3.2817, 3.2807, 3.2805, 3.2799, 3.2799, 3.2792, 3.2791, 3.2788, 3.277, 3.2769, 3.2746, 3.233, 3.1945, 3.2132, 3.1392, 3.0742, 2.7239, 3.393, 3.3902, 3.3898, 3.3886, 3.3871, 3.386, 3.3827, 3.3799, 3.3799, 3.3797, 3.3763, 3.3744, 3.3727, 3.3726, 3.3722, 3.3717, 3.3714, 3.3706, 3.3696, 3.3692, 3.3689, 3.3677, 3.3677, 3.3673, 3.3664, 3.3655, 3.3649, 3.3638, 3.3635, 3.3621, 3.3338, 3.2765, 3.2079, 3.186, 3.1042, 3.1107, 3.1407, 3.1759, 3.1715, 2.9559, 3.0084, 3.5769, 3.5697, 3.5696, 3.5682, 3.5679, 3.5675, 3.5649, 3.5636, 3.5629, 3.5593, 3.5593, 3.5586, 3.5574, 3.5569, 3.5559, 3.5521, 3.5516, 3.5515, 3.5501, 3.5494, 3.5492, 3.549, 3.548, 3.5471, 3.5471, 3.5464, 3.5456, 3.5453, 3.5448, 3.5434, 3.5155, 3.3887, 3.35, 3.4037, 2.9866, 3.5981, 3.5889, 3.5856, 3.5829, 3.581, 3.5795, 3.5782, 3.5766, 3.5763, 3.5726, 3.5706, 3.5706, 3.568, 3.5673, 3.5654, 3.5639, 3.5639, 3.5634, 3.5627, 3.5623, 3.5619, 3.5619, 3.5618, 3.5618, 3.5616, 3.5608, 3.5607, 3.5606, 3.5584, 3.5551, 3.4888, 3.4635, 3.4062, 3.3427, 3.2726, 3.1985, 3.2761, 3.2911, 3.3707, 3.0781, 3.1309, 3.8455, 3.8437, 3.8403, 3.8354, 3.8319, 3.8269, 3.826, 3.8204, 3.819, 3.8188, 3.818, 3.8165, 3.8156, 3.8154, 3.8146, 3.8133, 3.8119, 3.8107, 3.8097, 3.8077, 3.8075, 3.8027, 3.8004, 3.7965, 3.7945, 3.7934, 3.7923, 3.7917, 3.7906, 3.7882, 3.6459, 3.6133, 3.4093, 3.5857]}, \"token.table\": {\"Topic\": [1, 2, 1, 4, 5, 1, 2, 1, 7, 1, 8, 1, 4, 1, 2, 1, 3, 5, 1, 2, 1, 6, 9, 1, 3, 1, 2, 1, 3, 7, 1, 7, 9, 1, 5, 1, 8, 1, 5, 1, 4, 1, 5, 9, 1, 7, 8, 1, 4, 1, 3, 7, 1, 9, 1, 8, 1, 3, 4, 1, 9, 1, 2, 3, 1, 5, 1, 2, 1, 5, 1, 3, 5, 1, 4, 1, 9, 1, 8, 1, 8, 1, 7, 1, 3, 1, 5, 6, 1, 6, 1, 2, 3, 4, 1, 7, 1, 4, 10, 1, 3, 1, 5, 1, 6, 1, 7, 1, 8, 9, 1, 4, 1, 5, 8, 1, 5, 1, 8, 9, 1, 1, 10, 1, 7, 1, 1, 3, 1, 2, 3, 4, 1, 1, 4, 5, 1, 3, 1, 6, 1, 10, 1, 2, 3, 1, 10, 1, 5, 1, 6, 1, 8, 1, 4, 1, 2, 3, 1, 4, 1, 5, 1, 4, 1, 6, 10, 1, 2, 3, 1, 7, 1, 2, 4, 5, 1, 9, 1, 4, 1, 7, 1, 2, 3, 1, 6, 1, 9, 1, 2, 1, 7, 1, 6, 1, 10, 1, 8, 1, 7, 1, 1, 3, 1, 7, 1, 9, 1, 6, 1, 4, 8, 1, 5, 8, 1, 8, 1, 10, 1, 3, 1, 10, 1, 6, 1, 4, 5, 1, 2, 3, 6, 1, 7, 1, 10, 1, 2, 1, 2, 4, 1, 2, 1, 2, 1, 4, 1, 10, 1, 8, 1, 1, 6, 7, 8, 1, 5, 1, 3, 1, 3, 1, 9, 1, 1, 10, 1, 6, 1, 9, 1, 8, 1, 3, 1, 6, 1, 3, 1, 8, 1, 4, 1, 2, 3, 4, 1, 5, 1, 3, 6, 1, 2, 4, 10, 1, 5, 1, 3, 1, 8, 1, 3, 1, 5, 7, 8, 1, 4, 1, 8, 1, 4, 1, 3, 4, 5, 9, 1, 3, 4, 7, 9, 1, 3, 1, 3, 1, 6, 7, 9, 1, 2, 1, 10, 1, 3, 1, 8, 1, 5, 7, 1, 1, 6, 1, 10, 1, 5, 1, 5, 1, 4, 1, 5, 6, 1, 3, 1, 2, 3, 4, 5, 1, 6, 1, 9, 1, 3, 5, 1, 4, 5, 7, 1, 9, 1, 3, 1, 2, 1, 4, 1, 2, 3, 1, 1, 10, 1, 3, 4, 5, 1, 2, 3, 5, 1, 2, 3, 7, 1, 7, 1, 4, 1, 3, 1, 1, 4, 5, 1, 4, 1, 2, 3, 4, 5, 6, 1, 7, 1, 4, 5, 6, 8, 1, 8, 1, 7, 1, 4, 1, 3, 1, 7, 1, 2, 3, 1, 9, 1, 2, 4, 1, 2, 3, 4, 1, 2, 1, 6, 7, 1, 10, 1, 6, 1, 3, 5, 1, 8, 1, 1, 3, 1, 4, 5, 1, 3, 4, 5, 1, 2, 3, 6, 1, 10, 1, 6, 1, 9, 1, 10, 1, 2, 4, 1, 3, 1, 5, 1, 3, 1, 6, 1, 7, 1, 1, 8, 1, 6, 1, 4, 5, 7, 1, 5, 7, 1, 7, 8, 1, 10, 1, 8, 1, 8, 1, 5, 1, 1, 2, 7, 1, 4, 1, 8, 1, 6, 1, 5, 1, 2, 1, 6, 7, 1, 1, 9, 1, 3, 7, 1, 2, 3, 1, 10, 1, 3, 5, 1, 2, 3, 6, 1, 10, 1, 1, 2, 1, 2, 1, 7, 9, 1, 2, 3, 1, 4, 1, 2, 3, 1, 4, 7, 1, 8, 1, 1, 1, 6, 8, 1, 2, 3, 1, 6, 1, 5, 1, 5, 1, 2, 3, 4, 1, 2, 3, 1, 3, 5, 1, 2, 3, 1, 9, 1, 2, 3, 1, 6, 1, 10, 1, 4, 5, 1, 3, 1, 7, 1, 9, 10, 1, 10, 1, 4, 1, 2, 1, 1, 1, 10, 1, 4, 1, 7, 1, 6, 1, 10, 1, 3, 1, 3, 1, 5, 7, 1, 1, 6, 9, 1, 6, 1, 2, 3, 6, 1, 9, 1, 2, 1, 2, 3, 1, 3, 1, 5, 1, 5, 9, 1, 6, 8, 1, 8, 1, 6, 7, 8, 1, 2, 3, 4, 1, 2, 1, 4, 1, 7, 1, 2, 3, 1, 5, 8, 1, 7, 1, 3, 1, 8, 1, 2, 5, 1, 3, 8, 1, 2, 1, 2, 3, 1, 3, 1, 5, 6, 1, 3, 5, 6, 7, 1, 7, 1, 5, 1, 6, 1, 2, 3, 1, 9, 1, 4, 1, 2, 1, 3, 1, 10, 1, 9, 1, 1, 1, 5, 1, 6, 7, 8, 1, 2, 3, 4, 1, 7, 1, 4, 9, 1, 7, 10, 1, 9, 1, 4, 1, 7, 1, 5, 9, 1, 8, 1, 5, 1, 5, 1, 2, 3, 4, 5, 1, 2, 1, 4, 6, 9, 1, 10, 1, 3, 4, 1, 2, 1, 6, 1, 4, 1, 2, 3, 1, 2, 1, 2, 1, 10, 1, 9, 1, 8, 1, 8, 10, 1, 9, 1, 7, 1, 6, 9, 1, 8, 1, 3, 4, 6, 9, 1, 2, 1, 8, 1, 6, 1, 5, 7, 9, 10, 1, 5, 1, 3, 1, 9, 1, 4, 1, 1, 2, 1, 2, 1, 2, 1, 9, 1, 5, 1, 2, 3, 4, 5, 6, 1, 6, 1, 9, 1, 3, 1, 3, 1, 6, 1, 9, 1, 1, 7, 9, 1, 5, 7, 8, 1, 2, 3, 1, 3, 1, 5, 1, 9, 1, 9, 1, 8, 1, 2, 3, 5, 1, 3, 1, 2, 3, 1, 7, 1, 6, 8, 1, 8, 1, 4, 1, 3, 1, 6, 1, 3, 4, 6, 7, 1, 3, 1, 2, 5, 1, 3, 1, 6, 1, 10, 1, 3, 1, 3, 6, 1, 4, 1, 4, 5, 1, 6, 7, 1, 9, 1, 1, 2, 3, 1, 1, 5, 1, 5, 1, 3, 1, 2, 3, 8, 1, 2, 3, 1, 9, 1, 1, 6, 7, 9, 1, 7, 1, 2, 1, 2, 3, 7, 1, 10, 1, 1, 5, 1, 3, 4, 1, 3, 1, 3, 9, 1, 5, 7, 1, 7, 9, 1, 5, 1, 10, 1, 5, 1, 4, 9, 1, 2, 3, 4, 1, 2, 4, 1, 4, 5, 1, 7, 8, 1, 1, 10, 1, 4, 5, 1, 3, 1, 1, 2, 1, 4, 1, 2, 3, 1, 10, 1, 8, 1, 2, 1, 2, 1, 9, 1, 4, 1, 1, 4, 1, 6, 1, 2, 3, 1, 6, 1, 3, 1, 6, 7, 8, 9, 1, 2, 1, 2, 3, 1, 7, 1, 3, 1, 7, 1, 7, 1, 3, 1, 2, 3, 8, 1, 3, 4, 6, 7, 9, 1, 2, 3, 4, 5, 1, 7, 1, 3, 1, 2, 3, 6, 1, 2, 3, 8, 1, 2, 3, 1, 4, 7, 1, 2, 3, 1, 2, 3, 1, 5, 1, 3, 4, 1, 9], \"Freq\": [0.005216997424725732, 0.9860125132731634, 0.005518847783999913, 0.8719779498719862, 0.11589580346399816, 0.004094490910126149, 0.9867723093404018, 0.01832713098597499, 0.9530108112706995, 0.021219894346589184, 0.9336753512499241, 0.008751043583000079, 0.9713658377130088, 0.003282282189590549, 0.9912492212563458, 0.004475356771191097, 0.9084974245517927, 0.08055642188143974, 0.006753362300111159, 0.979237533516118, 0.012011506455996785, 0.2522416355759325, 0.7206903873598071, 0.005937847177494732, 0.9856826314641255, 0.006648729711903745, 0.9840119973617543, 0.004053039696429999, 0.9524643286610499, 0.03647735726787, 0.011253847148158715, 0.25883848440765045, 0.7089923703339991, 0.01137158964772722, 0.9665851200568137, 0.015902368401652083, 0.954142104099125, 0.010316768114286418, 0.9697762027429233, 0.009688442350677054, 0.9688442350677053, 0.010869026298263251, 0.21738052596526503, 0.7499628145801643, 0.011915708999925256, 0.7864367939950668, 0.1906513439988041, 0.008348809898100312, 0.9768107580777364, 0.005487215219990516, 0.9163649417384163, 0.0658465826398862, 0.01995069992796979, 0.9376828966145802, 0.013762428040315206, 0.9633699628220644, 0.0060158069108853405, 0.35493260774223506, 0.6316597256429607, 0.021644808492754228, 0.9307267651884318, 0.25149997527983725, 0.7328866467139007, 0.011789061341242371, 0.01456377970981172, 0.9612094608475735, 0.006724929726104822, 0.981839740011304, 0.0098020027596191, 0.9703982732022908, 0.003548722200955189, 0.9262164944493043, 0.0638769996171934, 0.008166777852927068, 0.971846564498321, 0.02090072248368852, 0.9405325117659834, 0.02148516132194751, 0.923861936843743, 0.021911899609240892, 0.9422116831973584, 0.015214302583260432, 0.9585010627454073, 0.006704605830080053, 0.9788724511916878, 0.9470039365923224, 0.03587136123455767, 0.011957120411519223, 0.013689099729764268, 0.9582369810834988, 0.00194215264583088, 0.9011588276655284, 0.060206732020757284, 0.03690090027078672, 0.017310405520269082, 0.9520723036147996, 0.011133471724572725, 0.3451376234617545, 0.6234744165760726, 0.008822243316035464, 0.970446764763901, 0.011065411896040059, 0.962690834955485, 0.014894329672310608, 0.9532370990278789, 0.011803917623630769, 0.9679212451377232, 0.008816657715582463, 0.10579989258698956, 0.8728491138426638, 0.009593965973749724, 0.9689905633487221, 0.010665316500698569, 0.8425600035551869, 0.1279837980083828, 0.013658513219088913, 0.9560959253362239, 0.014982865805554798, 0.1797943896666576, 0.7791090218888495, 0.9931025210304508, 0.02724513618680703, 0.9263346303514391, 0.010950738635432864, 0.9636649999180921, 0.9876184799475896, 0.00593168308506673, 0.9846593921210771, 0.2167045701923183, 0.7489309945846521, 0.010401819369231279, 0.020803638738462558, 0.9934200200841761, 0.377281858654872, 0.5312128569860598, 0.08451113633869134, 0.006089703889618371, 0.9804423262285578, 0.01610438934817591, 0.9501589715423785, 0.02877874864896812, 0.9209199567669798, 0.8118738914824687, 0.13782975367027955, 0.04814600984372779, 0.0173754083690642, 0.9382720519294668, 0.01072227404063633, 0.9650046636572698, 0.006844897754053394, 0.9788203788296354, 0.017017430387159232, 0.9529761016809171, 0.009558906642950867, 0.9750084775809884, 0.9037764554524693, 0.05059484758284529, 0.044357126647973956, 0.010647140551595246, 0.9688897901951674, 0.007482726107190829, 0.9802371200419985, 0.010759817135958513, 0.9683835422362662, 0.014696801282915064, 0.19105841667789583, 0.7642336667115833, 0.38753593248746276, 0.23445234349775326, 0.37512374959640526, 0.016375789735058183, 0.9497958046333747, 0.0025983389669734774, 0.8574518591012475, 0.07795016900920432, 0.05976179624038998, 0.009259993919602885, 0.9722993615583028, 0.004134208332072215, 0.9880757913652594, 0.009929807123027623, 0.9731210980567072, 0.6958667478120434, 0.1555129601186544, 0.1469131650890514, 0.015418227584991352, 0.9559301102694638, 0.015529283898881514, 0.9472863178317723, 0.0032881909568458537, 0.9897454780106019, 0.01802042331307027, 0.9370620122796539, 0.015381726150999848, 0.9536670213619906, 0.021694588194371162, 0.93286729235796, 0.01758988052725842, 0.9498535484719546, 0.016739187096007916, 0.9541336644724512, 0.9875067282651021, 0.007932996711616902, 0.9757585955288789, 0.015829271102109896, 0.9497562661265937, 0.01511668284864161, 0.9523510194644214, 0.013351597916432483, 0.9613150499831388, 0.007125119999328436, 0.9120153599140398, 0.07125119999328436, 0.0077462247890068905, 0.8753234011577786, 0.10844714704609647, 0.020175246095968203, 0.9482365665105055, 0.019535975104828872, 0.9377268050317858, 0.9287619161662658, 0.06634013686901899, 0.02756443513350115, 0.9096263594055379, 0.008561555272103177, 0.9760173010197621, 0.9624992633441086, 0.003904662325939589, 0.029284967444546915, 0.7163452703032795, 0.07843954736460856, 0.18908606119680477, 0.01558401603270369, 0.0175371894950065, 0.947008232730351, 0.022339788616871123, 0.9382711219085872, 0.006572178297414429, 0.9792545663147499, 0.003267287266399955, 0.9311768709239872, 0.05881117079519919, 0.0028668888538790067, 0.9919435434421363, 0.005271896425029544, 0.9858446314805248, 0.00776914199907245, 0.9789118918831287, 0.011907150923010992, 0.9644792247638905, 0.020493765328964422, 0.9427132051323633, 0.9906859114740698, 0.01001394526235119, 0.24033468629642854, 0.6308785515281249, 0.10013945262351188, 0.012842456791369578, 0.9631842593527183, 0.007963911585511399, 0.979561125017902, 0.00873890409901636, 0.9787572590898322, 0.02066109970305456, 0.9297494866374553, 0.9876777524720691, 0.027752007808580552, 0.9158162576831582, 0.012009983929890913, 0.9607987143912731, 0.0140638151288012, 0.9563394287584817, 0.019391926198483324, 0.9502043837256828, 0.8368927776600199, 0.1613287282236183, 0.012575043306436978, 0.9557032912892103, 0.952643520397652, 0.040323535254927066, 0.020784746890422194, 0.9353136100689987, 0.00849170693564505, 0.9765462975991807, 0.21667870915323625, 0.680170252573735, 0.0652906044137235, 0.03659143763846043, 0.012326665636350088, 0.9614799196353069, 0.41883914614057766, 0.5584521948541036, 0.018728579705472984, 0.003311033448071818, 0.8873569640832473, 0.08608686964986727, 0.01655516724035909, 0.014633649276315197, 0.9511872029604879, 0.007965931004658984, 0.979809513573055, 0.02098813310842214, 0.9444659898789963, 0.88159022437449, 0.11559555864626013, 0.008507717146013572, 0.7486791088491943, 0.12761575719020357, 0.10209260575216286, 0.010566521430228187, 0.9721199715809932, 0.014251658200384546, 0.9548610994257646, 0.009957406305015539, 0.9658684115865074, 0.4325345995785873, 0.15935485247632164, 0.3528571733404265, 0.003794163154198134, 0.047427039427476676, 0.003516856263406695, 0.33410134502363603, 0.47829245182331054, 0.1406742505362678, 0.03868541889747364, 0.004316593671084544, 0.9884999506783607, 0.004003249235458583, 0.9888025611582699, 0.011632698318345545, 0.7793907873291515, 0.17449047477518317, 0.02326539663669109, 0.006232924637917737, 0.9848020927910025, 0.019824018503591296, 0.9317288696687909, 0.006639083110439935, 0.9825843003451104, 0.014437583783901054, 0.9528805297374696, 0.01040412540892725, 0.21848663358747222, 0.7490970294427619, 0.9882830650732666, 0.01458165149503484, 0.9623889986722995, 0.021268015247406315, 0.9357926708858778, 0.012278798882625917, 0.9577463128448216, 0.9786818467658496, 0.016428712056021456, 0.008314982771817485, 0.9728529843026459, 0.010295093430642926, 0.823607474451434, 0.14413130802900095, 0.006237179700392123, 0.9792372129615632, 0.0035357036215268207, 0.1343567376180192, 0.7460334641421592, 0.04242844345832185, 0.07071407243053641, 0.007633429380133151, 0.9770789606570434, 0.02056234439326092, 0.9458678420900023, 0.005283107632606969, 0.8769958670127569, 0.11094526028474636, 0.9364194656842492, 0.027893345786339334, 0.013946672893169667, 0.01793143657693243, 0.012143785307414614, 0.9593590392857545, 0.9180487228950617, 0.07740714358305748, 0.004085163078536659, 0.9886094650058714, 0.010068379803193694, 0.9665644611065947, 0.8775976323395551, 0.02155200472346648, 0.09913922172794581, 0.9891975531408227, 0.020295870409434456, 0.9336100388339849, 0.004554700458867695, 0.8289554835139205, 0.10475811055395698, 0.059211105965280036, 0.5963084456023459, 0.0708259073320794, 0.14850593472855358, 0.1827765350505275, 0.7572756045256606, 0.06884323677506005, 0.16927337042338295, 0.003239681730591061, 0.01132999624883371, 0.9630496811508654, 0.010341983783706155, 0.9721464756683785, 0.8634138610450689, 0.13401328885889102, 0.9889732088604821, 0.007240626648832777, 0.7747470514251071, 0.20997817281615053, 0.008336517272992087, 0.9753725209400741, 0.0017092922702375876, 0.17947568837494668, 0.584577956421255, 0.1384526738892446, 0.08375532124164178, 0.010255753621425525, 0.017904815910309645, 0.9489552432464112, 0.0049122051221839125, 0.24069805098701172, 0.5747279992955178, 0.13262953829896565, 0.0392976409774713, 0.014343999232425122, 0.9610479485724831, 0.014084677114825844, 0.9577580438081574, 0.010430991138876348, 0.9700821759155004, 0.008144160034168684, 0.9772992041002422, 0.014149277081414549, 0.9621508415361893, 0.7303079816446917, 0.06315635256501795, 0.20550876628299491, 0.017254755414289995, 0.9490115477859496, 0.0017876594947670188, 0.9760620841427923, 0.019664254442437207, 0.0030102610920018503, 0.9030783276005552, 0.06020522184003701, 0.030102610920018504, 0.005261593896801757, 0.9839180587019286, 0.009605218044146886, 0.9124957141939541, 0.0672365263090282, 0.0171047516180384, 0.940761338992112, 0.016068462224851327, 0.9480392712662282, 0.004865656315860074, 0.9682656068561546, 0.019462625263440295, 0.015674664423431538, 0.9561545298293238, 0.9894918538216317, 0.005400469388742105, 0.9828854287510631, 0.006153840622008183, 0.7938454402390556, 0.18461521866024547, 0.0023060091856029535, 0.7609830312489747, 0.16603266136341266, 0.0691802755680886, 0.7282160862960365, 0.12895493194825647, 0.10114112309667174, 0.03961360654619643, 0.026900442482879934, 0.9146150444179177, 0.01116658608319311, 0.9714929892378006, 0.020960033138954403, 0.9432014912529482, 0.020617972760766753, 0.9278087742345039, 0.0017205473670286599, 0.8379065677429574, 0.1582903577666367, 0.5310741067562996, 0.4636990335110974, 0.012264657943663321, 0.9689079775494023, 0.002540196412239561, 0.9932167971856682, 0.010620530862222342, 0.9664683084622332, 0.017454555890213563, 0.9425460180715323, 0.987205318738107, 0.017747044180109087, 0.9405933415457816, 0.012883898844675248, 0.9662924133506436, 0.00539762324715386, 0.7502696313543865, 0.1619286974146158, 0.07556672546015403, 0.0068785100565802405, 0.7841501464501475, 0.199476791640827, 0.009020028419228101, 0.8659227282458977, 0.10824034103073721, 0.0229582200240094, 0.918328800960376, 0.021339721335171157, 0.938947738747531, 0.017213327642233985, 0.9467330203228691, 0.014164361970060761, 0.9631766139641317, 0.988079465165532, 0.005085406670933437, 0.9611418608064195, 0.03051244002560062, 0.010113293634623289, 0.9708761889238358, 0.01805129935135633, 0.9386675662705292, 0.014050963083723805, 0.9554654896932188, 0.013751725463675635, 0.9626207824572945, 0.006536916170820859, 0.9805374256231288, 0.006711349210504946, 0.8791867465761479, 0.10738158736807914, 0.9892208734430539, 0.020113730271365586, 0.9453453227541826, 0.005625342781057382, 0.9450575872176402, 0.03937739946740167, 0.893440644563167, 0.008897334219716186, 0.09638778738025867, 0.011327358780871717, 0.962825496374096, 0.004776388967163304, 0.9266194596296811, 0.06209305657312295, 0.776501346525732, 0.06046526878683979, 0.14638959811550686, 0.01591191283864205, 0.020567982775491104, 0.9461272076725908, 0.987778808819531, 0.21761434264518156, 0.7752510956734593, 0.004603952547011554, 0.9852458450604725, 0.007291193085375239, 0.13124147553675428, 0.8457783979035276, 0.30234976277251907, 0.6830865010786542, 0.01119813936194515, 0.009283813340519122, 0.9748004007545077, 0.9126152370628613, 0.03073228470343457, 0.05344745165814708, 0.006398220691936639, 0.902149117563066, 0.0831768689951763, 0.015277522284732885, 0.9472063816534388, 0.9921679978565014, 0.9880767024294398, 0.011389689832794184, 0.05694844916397092, 0.9111751866235347, 0.8871939279383628, 0.023780455800409727, 0.0878047598784359, 0.015152273040429619, 0.954593201547066, 0.012359774917502304, 0.9640624435651798, 0.9672292778559888, 0.02351925295698453, 0.7256071969321127, 0.08818332025731603, 0.1758222990315622, 0.009253805212187485, 0.8233176880282074, 0.07645092817404783, 0.09829405050949007, 0.0044471982350205224, 0.9517004222943918, 0.03557758588016418, 0.5962648831274442, 0.09418353554626296, 0.30817406851534573, 0.020579732841716315, 0.9466677107189505, 0.8237985542204564, 0.01002340446199795, 0.16538617362296618, 0.013683648405474307, 0.9578553883832014, 0.026335799444963573, 0.9217529805737251, 0.0069610729197104645, 0.22971540635044532, 0.7517958753287302, 0.005049466589825431, 0.9846459850159591, 0.01080343269275618, 0.9723089423480563, 0.015215543416801315, 0.16737097758481448, 0.7912082576736684, 0.025138751670295795, 0.9301338118009445, 0.9649237910666146, 0.027727695145592375, 0.006063349559055177, 0.9822626285669387, 0.9896362945267779, 0.9882306669699676, 0.015569084613622988, 0.9497141614310023, 0.008146785668556294, 0.9776142802267552, 0.018779944199307966, 0.9389972099653984, 0.014961574707959134, 0.9575407813093846, 0.024456741024540034, 0.9293561589325213, 0.9062265977217626, 0.09107240001918458, 0.9399712326972782, 0.05653962301938516, 0.009140453708710573, 0.8683431023275043, 0.10054499079581629, 0.9888455649583808, 0.011793161619237465, 0.8255213133466226, 0.1415179394308496, 0.011901182137624183, 0.9639957531475588, 0.7655939557483493, 0.08856485349273964, 0.12464683084163357, 0.020337114505740213, 0.019480083043938806, 0.9350439861090627, 0.005614410774700672, 0.9825218855726177, 0.6329088325211563, 0.191732743536929, 0.17456264710078612, 0.007085018275063382, 0.9777325219587467, 0.011218635592686271, 0.9648026609710194, 0.006256682815804055, 0.8571655457651556, 0.12513365631608112, 0.013036727035557347, 0.1955509055333602, 0.7691668950978835, 0.019416859529368148, 0.9320092574096711, 0.010935614661219433, 0.18590544924073035, 0.251519137208047, 0.5358451183997522, 0.14376055429072768, 0.7227961201839365, 0.04991685912872489, 0.08186364897110882, 0.0060417080749401554, 0.9847984162152453, 0.009713941795204318, 0.9713941795204317, 0.017914314744535656, 0.9494586814603897, 0.11695277766743772, 0.761437233324169, 0.11695277766743772, 0.010424615978759218, 0.8756677422157743, 0.09382154380883297, 0.01911324609997941, 0.9365490588989911, 0.007550409156535964, 0.9815531903496754, 0.020779807569947, 0.935091340647615, 0.006503769539976278, 0.39022617239857665, 0.5918430281378413, 0.9356089318065949, 0.051717076632525345, 0.011283725810732802, 0.005205107719279253, 0.9837653589437788, 0.7319510527261281, 0.1757105925560915, 0.09103078891460162, 0.008472131754993962, 0.9742951518243057, 0.011277211460249863, 0.07894048022174904, 0.8908997053597392, 0.5114246819209743, 0.45196841348090044, 0.009573466952215283, 0.023681734039690438, 0.002015466726782165, 0.01920938020336372, 0.9412596299648223, 0.010281443994481115, 0.9664557354812249, 0.010179520755339296, 0.9670544717572331, 0.4215917335146988, 0.45473573772182924, 0.1206441753139547, 0.020576033091747534, 0.9464975222203865, 0.00988677759986663, 0.9689042047869296, 0.21091390680249225, 0.7850684308759434, 0.006158238022001515, 0.9853180835202424, 0.023031837211180524, 0.9212734884472209, 0.020593680206138745, 0.9473092894823822, 0.9872835119081382, 0.9916480657347585, 0.010676784887021852, 0.9715874247189885, 0.013338311659257304, 0.16005973991108766, 0.7736220762369237, 0.026676623318514607, 0.17819980722873452, 0.7638510655804674, 0.0356399614457469, 0.020228086225964458, 0.0185931671332393, 0.9482515237952043, 0.010186608816851038, 0.275038438054978, 0.7028760083627217, 0.014715070335234861, 0.9123343607845613, 0.04414521100570458, 0.022640958437293003, 0.9282792959290131, 0.009963751213602575, 0.9664838677194498, 0.01318448558204358, 0.9624674474891812, 0.009509672190132403, 0.17117409942238324, 0.7988124639711218, 0.020076243012145327, 0.9435834215708304, 0.014355374344688535, 0.9618100810941318, 0.014341381708418715, 0.9608725744640539, 0.0019980401382500615, 0.26973541866375833, 0.5194904359450161, 0.11388828788025351, 0.0939078864977529, 0.004716814996411719, 0.9858143342500493, 0.006324628851507289, 0.8727987815080059, 0.0569216596635656, 0.0569216596635656, 0.019585653234573244, 0.9401113552595158, 0.9340847812698391, 0.05590082667831083, 0.007213009893975591, 0.00637232887930577, 0.9813386474130885, 0.014416829492583078, 0.9515107465104831, 0.009639162274959378, 0.9735553897708972, 0.3263587243458402, 0.5988524165180952, 0.07287621999955655, 0.00230886075524871, 0.9928101247569453, 0.002557063968369713, 0.9921408197274487, 0.019111005031830112, 0.9364392465596755, 0.013221929884336098, 0.9652008815565352, 0.01149700417464118, 0.9657483506698591, 0.02109492754810208, 0.18985434793291872, 0.7383224641835727, 0.01787307367698164, 0.9472729048800269, 0.017005261914108068, 0.9522946671900517, 0.012719250224796235, 0.9539437668597176, 0.012719250224796235, 0.019837799870455926, 0.9323765939114286, 0.005245284067362333, 0.21505664676185565, 0.6923774968918279, 0.057698124740985665, 0.015735852202086998, 0.004297544643593367, 0.9884352680264745, 0.019236584663925464, 0.9425926485323477, 0.014019060216808854, 0.953296094743002, 0.011785299242818566, 0.23570598485637134, 0.1060676931853671, 0.5774796628981098, 0.047141196971274266, 0.014190634367670067, 0.9507725026338945, 0.007866245027207407, 0.9754143833737186, 0.01789880011755407, 0.9486364062303658, 0.008082999327968328, 0.9780429186841678, 0.9870104909990542, 0.005974539429617035, 0.9857990058868108, 0.002622562699065668, 0.9913287002468224, 0.0036768937053519657, 0.9890844067396788, 0.014637797189512894, 0.9514568173183381, 0.013303610739303645, 0.9578599732298625, 0.002196967027453686, 0.3163632519533308, 0.5316660206437921, 0.08787868109814745, 0.05272720865888847, 0.008787868109814745, 0.012696486868564158, 0.964933002010876, 0.01610606482625029, 0.9502578247487672, 0.007732148737069747, 0.974250740870788, 0.8833820693391399, 0.11325411145373589, 0.01550076141299076, 0.9455464461924363, 0.018698486134256013, 0.9349243067128006, 0.9892303004553944, 0.010824251768747873, 0.7901703791185948, 0.18401228006871384, 0.006788744323166178, 0.7535506198714458, 0.12898614214015738, 0.10183116484749268, 0.0043032212625193685, 0.19364495681337157, 0.7960959335660831, 0.9564983844826854, 0.0387115703669215, 0.00871025170332587, 0.9755481907724974, 0.016010130418350792, 0.9445976946826967, 0.020443234610159584, 0.9403887920673408, 0.013791237049600724, 0.95159535642245, 0.5509514619431778, 0.07909699206114928, 0.3504814993054373, 0.0163648949092033, 0.00754015086951958, 0.9802196130375455, 0.21974508894761227, 0.6966386862381752, 0.08065112307119812, 0.014085407763777383, 0.9578077279368621, 0.008990278395401733, 0.17980556790803465, 0.8001347771907542, 0.020117634821359857, 0.9455288366039133, 0.010067488210206709, 0.9664788681798441, 0.9354407531139972, 0.060017216460853805, 0.012692572912698754, 0.9646355413651053, 0.002971108033636282, 0.6417593352654369, 0.29116858729635564, 0.03268218836999911, 0.029711080336362824, 0.9390037510026313, 0.057392419416120076, 0.006129589821818229, 0.373904979130912, 0.6068293923600047, 0.4996086915483353, 0.49592154253321846, 0.00762516223074444, 0.9760207655352883, 0.020859240193825717, 0.9386658087221572, 0.007800835245914438, 0.9751044057393047, 0.0056621592336244765, 0.9285941143144142, 0.056621592336244767, 0.0058823787810246475, 0.9823572564311162, 0.004222957323994036, 0.8530373794467953, 0.13513463436780915, 0.009057462755891683, 0.24455149440907545, 0.7245970204713347, 0.020934894468759787, 0.9420702510941904, 0.9883186084002344, 0.003991373376404772, 0.929989996702312, 0.05987060064607159, 0.9909153935021844, 0.010893125440531204, 0.9694881642072771, 0.010051865292280568, 0.9649790680589345, 0.008270883170917386, 0.9759642141682516, 0.8198385396111356, 0.042859371002822624, 0.13347632683736188, 0.002449106914447007, 0.75112430433659, 0.11566225700835173, 0.1319910462330602, 0.02033317594892274, 0.935326093650446, 0.9927468517119693, 0.00909662672823605, 0.17283590783648495, 0.15464265438001285, 0.6549571244329956, 0.0196529272193223, 0.9433405065274705, 0.0064863739272087795, 0.9794424630085257, 0.7619819194244399, 0.07667443064208426, 0.1595399643794921, 0.0009524773992805499, 0.028085739411173177, 0.9268294005687148, 0.9853524536177336, 0.011827687410663194, 0.969870367674382, 0.004202598972116942, 0.9161665759214932, 0.071444182525988, 0.008385858140945035, 0.972759544349624, 0.005716550896434782, 0.9432308979117391, 0.04573240717147826, 0.012006657014965937, 0.31217308238911434, 0.6603661358231265, 0.008891949549473553, 0.8091674090020933, 0.1689470414399975, 0.007670231656983581, 0.9741194204369148, 0.012967168641461375, 0.9595704794681417, 0.012302825631758874, 0.9596203992771922, 0.01257630634148759, 0.35213657756165256, 0.6036627043914043, 0.18697445291790263, 0.7285195070274582, 0.029329325947906295, 0.05446874818896883, 0.002377615016870425, 0.9320250866132065, 0.06181799043863104, 0.00656752950698548, 0.873481424429069, 0.10508047211176769, 0.016437067920766196, 0.14793361128689575, 0.8054163281175436, 0.9865154521818331, 0.014473347816951278, 0.9552409559187843, 0.007755240274898703, 0.3334753318206442, 0.651440183091491, 0.0065296441826229994, 0.9794466273934499, 0.9902202170364186, 0.005998737033380992, 0.9837928734744826, 0.007764748390120163, 0.9783582971551404, 0.7279671595988941, 0.03809611984249048, 0.23271760164651792, 0.02203874963491701, 0.9256274846665145, 0.01701012759926393, 0.9525671455587801, 0.1636227345954538, 0.8322733327018754, 0.07216672741778221, 0.9184856216808645, 0.018915702376484773, 0.9457851188242387, 0.009532614724293108, 0.972326701877897, 0.9888757461289007, 0.9794906084083372, 0.013604036227893572, 0.015167494113031713, 0.955552129120998, 0.7260607244047013, 0.14722241073026923, 0.1253459882522774, 0.006185093724065132, 0.983429902126356, 0.007098766421244108, 0.9796297661316868, 0.007838346214875986, 0.548684235041319, 0.20379700158677563, 0.1097368470082638, 0.11757519322313978, 0.004111236038013657, 0.9866966491232778, 0.7872596687793524, 0.05298863155245641, 0.15838360200294663, 0.016520341150880236, 0.9416594456001735, 0.5799283110732807, 0.4144942160649154, 0.01667572405326445, 0.9505162710360736, 0.01214581439330849, 0.9595193370713706, 0.5363781698753485, 0.461134739231512, 0.5746751732940775, 0.20752159035619464, 0.18437495143184984, 0.031926398516337634, 0.34822529563447197, 0.29701569333528494, 0.26628993195577266, 0.017923360804715467, 0.012802400574796764, 0.05377008241414641, 0.0016441945554918624, 0.6297265147533834, 0.2186778758804177, 0.10194006244049547, 0.04768164210926401, 0.01633316831017166, 0.9473237619899565, 0.005186246399884773, 0.9853868159781068, 0.004457995580924125, 0.06686993371386188, 0.8960571117657491, 0.022289977904620624, 0.7621320029196068, 0.12639934362147073, 0.10398369647677642, 0.006226568651303977, 0.8016045313199158, 0.10628183328424655, 0.09056409737601291, 0.00936233818705118, 0.24342079286333068, 0.730262378589992, 0.7235974409699133, 0.08671796443843756, 0.18836279160808156, 0.6865642909689962, 0.13046492545498553, 0.18182442099608842, 0.013684647991720679, 0.9579253594204474, 0.005438540134015274, 0.36438218897902336, 0.6199935752777412, 0.019956764488503358, 0.9379679309596578], \"Term\": [\"abortion\", \"abortion\", \"accept\", \"accept\", \"accept\", \"accuse\", \"accuse\", \"active\", \"active\", \"adam\", \"adam\", \"addiction\", \"addiction\", \"administration\", \"administration\", \"adult\", \"adult\", \"adult\", \"agency\", \"agency\", \"ago\", \"ago\", \"ago\", \"airport\", \"airport\", \"allegation\", \"allegation\", \"amazing\", \"amazing\", \"amazing\", \"amid\", \"amid\", \"amid\", \"anxiety\", \"anxiety\", \"anymore\", \"anymore\", \"apart\", \"apart\", \"apologize\", \"apologize\", \"apparently\", \"apparently\", \"apparently\", \"appearance\", \"appearance\", \"appearance\", \"apple\", \"apple\", \"area\", \"area\", \"area\", \"arizona\", \"arizona\", \"arm\", \"arm\", \"athlete\", \"athlete\", \"athlete\", \"atlanta\", \"atlanta\", \"attack\", \"attack\", \"attack\", \"audience\", \"audience\", \"authority\", \"authority\", \"autism\", \"autism\", \"avoid\", \"avoid\", \"avoid\", \"awkward\", \"awkward\", \"backlash\", \"backlash\", \"bacon\", \"bacon\", \"bake\", \"bake\", \"barack_obama\", \"barack_obama\", \"bathroom\", \"bathroom\", \"beauty\", \"beauty\", \"beauty\", \"bet\", \"bet\", \"bill\", \"bill\", \"bill\", \"bill\", \"bill_maher\", \"bill_maher\", \"birth\", \"birth\", \"birth\", \"bite\", \"bite\", \"blogger\", \"blogger\", \"blood\", \"blood\", \"blow\", \"blow\", \"blue\", \"blue\", \"blue\", \"boost\", \"boost\", \"box\", \"box\", \"box\", \"box_office\", \"box_office\", \"boyfriend\", \"boyfriend\", \"boyfriend\", \"brain\", \"brazil\", \"brazil\", \"breakfast\", \"breakfast\", \"bright\", \"cake\", \"cake\", \"campaign\", \"campaign\", \"campaign\", \"campaign\", \"cancer\", \"candidate\", \"candidate\", \"candidate\", \"card\", \"card\", \"cat\", \"cat\", \"champion\", \"champion\", \"change\", \"change\", \"change\", \"chaos\", \"chaos\", \"cheat\", \"cheat\", \"check_huffpost\", \"check_huffpost\", \"cheese\", \"cheese\", \"chef\", \"chef\", \"child\", \"child\", \"child\", \"chinese\", \"chinese\", \"chocolate\", \"chocolate\", \"chrissy_teigen\", \"chrissy_teigen\", \"citizen\", \"citizen\", \"citizen\", \"city\", \"city\", \"city\", \"civil_right\", \"civil_right\", \"claim\", \"claim\", \"claim\", \"claim\", \"climate_change\", \"climate_change\", \"clinton\", \"clinton\", \"cocktail\", \"cocktail\", \"come\", \"come\", \"come\", \"commercial\", \"commercial\", \"committee\", \"committee\", \"congress\", \"congress\", \"consequence\", \"consequence\", \"constantly_connecte\", \"constantly_connecte\", \"contestant\", \"contestant\", \"contract\", \"contract\", \"convince\", \"convince\", \"cook\", \"cookie\", \"cookie\", \"countrys\", \"countrys\", \"county\", \"county\", \"course_gps\", \"course_gps\", \"creative\", \"creative\", \"creative\", \"cry\", \"cry\", \"cry\", \"cup\", \"cup\", \"cure\", \"cure\", \"dad\", \"dad\", \"daddy\", \"daddy\", \"dangerous\", \"dangerous\", \"date\", \"date\", \"date\", \"day\", \"day\", \"day\", \"day\", \"december\", \"december\", \"decline\", \"decline\", \"democrat\", \"democrat\", \"democratic\", \"democratic\", \"democratic\", \"democrats\", \"democrats\", \"department\", \"department\", \"depression\", \"depression\", \"describe\", \"describe\", \"dessert\", \"dessert\", \"destination\", \"detail\", \"detail\", \"detail\", \"detail\", \"determine\", \"determine\", \"development\", \"development\", \"digital\", \"digital\", \"direction\", \"direction\", \"dish\", \"dismiss\", \"dismiss\", \"disney\", \"disney\", \"diversity\", \"diversity\", \"divide\", \"divide\", \"divorce\", \"divorce\", \"diy\", \"diy\", \"doctor\", \"doctor\", \"dominate\", \"dominate\", \"donald\", \"donald\", \"donald_trump\", \"donald_trump\", \"donald_trump\", \"donald_trump\", \"drama\", \"drama\", \"dress\", \"dress\", \"dress\", \"drug\", \"drug\", \"drug\", \"drug\", \"earn\", \"earn\", \"earth\", \"earth\", \"easter\", \"easter\", \"eat\", \"eat\", \"economy\", \"economy\", \"economy\", \"economy\", \"effective\", \"effective\", \"egg\", \"egg\", \"elect\", \"elect\", \"election\", \"election\", \"election\", \"election\", \"election\", \"email\", \"email\", \"email\", \"email\", \"email\", \"embrace\", \"embrace\", \"emotional\", \"emotional\", \"encourage\", \"encourage\", \"encourage\", \"encourage\", \"endorse\", \"endorse\", \"enemy\", \"enemy\", \"epic\", \"epic\", \"equality\", \"equality\", \"europe\", \"europe\", \"europe\", \"exactly\", \"example\", \"example\", \"exclusive\", \"exclusive\", \"excuse\", \"excuse\", \"exercise\", \"exercise\", \"exist\", \"exist\", \"expand\", \"expand\", \"expand\", \"explore\", \"explore\", \"eye\", \"eye\", \"eye\", \"eye\", \"eye\", \"facebook_tumblr\", \"facebook_tumblr\", \"fantasy\", \"fantasy\", \"fat\", \"fat\", \"fat\", \"favorite\", \"favorite\", \"favorite\", \"favorite\", \"fbi\", \"fbi\", \"fear\", \"fear\", \"federal\", \"federal\", \"feed\", \"feed\", \"feel\", \"feel\", \"feel\", \"feeling\", \"feminist\", \"feminist\", \"figure\", \"figure\", \"figure\", \"figure\", \"film\", \"film\", \"film\", \"film\", \"find\", \"find\", \"find\", \"find\", \"fitness\", \"fitness\", \"folk\", \"folk\", \"food\", \"food\", \"forever\", \"forward\", \"forward\", \"forward\", \"freedom\", \"freedom\", \"friend\", \"friend\", \"friend\", \"friend\", \"friend\", \"friend\", \"fruit\", \"fruit\", \"fun\", \"fun\", \"fun\", \"fun\", \"fun\", \"funniest_tweet\", \"funniest_tweet\", \"game_throne\", \"game_throne\", \"getting\", \"getting\", \"glass\", \"glass\", \"god\", \"god\", \"good\", \"good\", \"good\", \"goodbye\", \"goodbye\", \"gop\", \"gop\", \"gop\", \"government\", \"government\", \"government\", \"government\", \"governor\", \"governor\", \"gps_guide\", \"gps_guide\", \"gps_guide\", \"grace\", \"grace\", \"grief\", \"grief\", \"guest\", \"guest\", \"guest\", \"gun_violence\", \"gun_violence\", \"habit\", \"halloween\", \"halloween\", \"happiness\", \"happiness\", \"happiness\", \"heart\", \"heart\", \"heart\", \"heart\", \"help\", \"help\", \"help\", \"help\", \"helpful\", \"helpful\", \"high_school\", \"high_school\", \"hilariously\", \"hilariously\", \"hillary\", \"hillary\", \"hillary_clinton\", \"hillary_clinton\", \"hillary_clinton\", \"holiday\", \"holiday\", \"homeless\", \"homeless\", \"hotel\", \"hotel\", \"huffpoststyle\", \"huffpoststyle\", \"ice_cream\", \"ice_cream\", \"ill\", \"immediately\", \"immediately\", \"immigrant\", \"immigrant\", \"impact\", \"impact\", \"impact\", \"impact\", \"improve\", \"improve\", \"improve\", \"individual\", \"individual\", \"individual\", \"infection\", \"infection\", \"infrastructure\", \"infrastructure\", \"injure\", \"injure\", \"insist\", \"insist\", \"inspiration\", \"international\", \"international\", \"international\", \"iowa\", \"iowa\", \"italy\", \"italy\", \"japan\", \"japan\", \"jeb_bush\", \"jeb_bush\", \"joe_biden\", \"joe_biden\", \"john\", \"john\", \"john\", \"journey\", \"kardashian\", \"kardashian\", \"kick\", \"kick\", \"kick\", \"kid\", \"kid\", \"kid\", \"kim_kardashian\", \"kim_kardashian\", \"kitchen\", \"kitchen\", \"kitchen\", \"know\", \"know\", \"know\", \"know\", \"lady_gaga\", \"lady_gaga\", \"later\", \"law\", \"law\", \"lawmaker\", \"lawmaker\", \"lawyer\", \"lawyer\", \"lawyer\", \"leader\", \"leader\", \"leader\", \"leadership\", \"leadership\", \"learn\", \"learn\", \"learn\", \"legal\", \"legal\", \"legal\", \"lesbian\", \"lesbian\", \"lesson\", \"lgbt\", \"lgbtq\", \"lgbtq\", \"lgbtq\", \"life\", \"life\", \"life\", \"life_wellbee\", \"life_wellbee\", \"lifetime\", \"lifetime\", \"light\", \"light\", \"like\", \"like\", \"like\", \"like\", \"live\", \"live\", \"live\", \"london\", \"london\", \"london\", \"look\", \"look\", \"look\", \"loud\", \"loud\", \"love\", \"love\", \"love\", \"lucky\", \"lucky\", \"madonna\", \"madonna\", \"magazine\", \"magazine\", \"magazine\", \"makeup\", \"makeup\", \"marco_rubio\", \"marco_rubio\", \"married\", \"married\", \"married\", \"martin\", \"martin\", \"maybe\", \"maybe\", \"mayor\", \"mayor\", \"meal\", \"meditation\", \"meeting\", \"meeting\", \"mental_health\", \"mental_health\", \"michelle\", \"michelle\", \"mike_pence\", \"mike_pence\", \"mirror\", \"mirror\", \"mom\", \"mom\", \"mother\", \"mother\", \"murder\", \"murder\", \"murder\", \"natural\", \"nature\", \"nature\", \"nature\", \"nba\", \"nba\", \"need\", \"need\", \"need\", \"need\", \"neighborhood\", \"neighborhood\", \"netflix\", \"netflix\", \"new\", \"new\", \"new\", \"nice\", \"nice\", \"nomination\", \"nomination\", \"nominee\", \"nominee\", \"nominee\", \"north\", \"north\", \"north\", \"north_carolina\", \"north_carolina\", \"north_korea\", \"north_korea\", \"north_korea\", \"north_korea\", \"obama\", \"obama\", \"obama\", \"obama\", \"obamacare\", \"obamacare\", \"obamas\", \"obamas\", \"obesity\", \"obesity\", \"official\", \"official\", \"official\", \"oil\", \"oil\", \"oil\", \"outcome\", \"outcome\", \"outfit\", \"outfit\", \"overcome\", \"overcome\", \"pack\", \"pack\", \"pack\", \"parent\", \"parent\", \"parent\", \"paul_ryan\", \"paul_ryan\", \"people\", \"people\", \"people\", \"period\", \"period\", \"pet\", \"pet\", \"pet\", \"photo\", \"photo\", \"photo\", \"photo\", \"photo\", \"pilot\", \"pilot\", \"pinterest\", \"pinterest\", \"pinterest_instagram\", \"pinterest_instagram\", \"plan\", \"plan\", \"plan\", \"planned_parenthood\", \"planned_parenthood\", \"planning\", \"planning\", \"police\", \"police\", \"pop\", \"pop\", \"population\", \"population\", \"pot\", \"pot\", \"pregnancy\", \"pregnant\", \"premiere\", \"premiere\", \"presidency\", \"presidency\", \"presidency\", \"presidency\", \"president\", \"president\", \"president\", \"president\", \"priority\", \"priority\", \"prison\", \"prison\", \"prison\", \"private\", \"private\", \"private\", \"prosecutor\", \"prosecutor\", \"publish\", \"publish\", \"quickly\", \"quickly\", \"rape\", \"rape\", \"rape\", \"rapper\", \"rapper\", \"react\", \"react\", \"reader\", \"reader\", \"real\", \"real\", \"real\", \"real\", \"real\", \"refugee\", \"refugee\", \"refuse\", \"refuse\", \"refuse\", \"refuse\", \"relate\", \"relate\", \"relationship\", \"relationship\", \"relationship\", \"rep\", \"rep\", \"repeal\", \"repeal\", \"replace\", \"replace\", \"report\", \"report\", \"report\", \"republican\", \"republican\", \"republicans\", \"republicans\", \"request\", \"request\", \"resign\", \"resign\", \"resolution\", \"resolution\", \"richard\", \"richard\", \"richard\", \"rob\", \"rob\", \"roy_moore\", \"roy_moore\", \"royal\", \"royal\", \"royal\", \"runway\", \"runway\", \"russia\", \"russia\", \"russia\", \"russia\", \"russia\", \"russian\", \"russian\", \"sandwich\", \"sandwich\", \"saturday_night\", \"saturday_night\", \"scandal\", \"scandal\", \"scandal\", \"scandal\", \"scandal\", \"scare\", \"scare\", \"scary\", \"scary\", \"scott\", \"scott\", \"search\", \"search\", \"seat\", \"sen\", \"sen\", \"senate\", \"senate\", \"senator\", \"senator\", \"sentence\", \"sentence\", \"separate\", \"separate\", \"set\", \"set\", \"set\", \"set\", \"set\", \"set\", \"seth_meyer\", \"seth_meyer\", \"settlement\", \"settlement\", \"shape\", \"shape\", \"share\", \"share\", \"shirt\", \"shirt\", \"shower\", \"shower\", \"shut\", \"significant\", \"significant\", \"significant\", \"simply\", \"simply\", \"simply\", \"simply\", \"singer\", \"singer\", \"singer\", \"sleep\", \"sleep\", \"smith\", \"smith\", \"soccer\", \"soccer\", \"south_carolina\", \"south_carolina\", \"standard\", \"standard\", \"star\", \"star\", \"star\", \"star\", \"star_war\", \"star_war\", \"state\", \"state\", \"state\", \"steal\", \"steal\", \"stephen_colbert\", \"stephen_colbert\", \"stephen_colbert\", \"steve\", \"steve\", \"strength\", \"strength\", \"stress\", \"stress\", \"stress_strain\", \"stress_strain\", \"student\", \"student\", \"student\", \"student\", \"student\", \"study\", \"study\", \"stuff\", \"stuff\", \"stuff\", \"style\", \"style\", \"style_twitt\", \"style_twitt\", \"suck\", \"suck\", \"suit\", \"suit\", \"super_bowl\", \"super_bowl\", \"super_bowl\", \"supporter\", \"supporter\", \"supreme_court\", \"supreme_court\", \"supreme_court\", \"survive\", \"survive\", \"survive\", \"syrian\", \"syrian\", \"taste\", \"tax\", \"tax\", \"tax\", \"technology\", \"television\", \"television\", \"thanksgive\", \"thanksgive\", \"thanksgiving\", \"thanksgiving\", \"thing\", \"thing\", \"thing\", \"thing\", \"think\", \"think\", \"think\", \"thomas\", \"thomas\", \"thought\", \"threaten\", \"threaten\", \"threaten\", \"threaten\", \"thrive\", \"thrive\", \"thursday\", \"thursday\", \"time\", \"time\", \"time\", \"time\", \"ton\", \"ton\", \"touch\", \"touch_check\", \"touch_check\", \"tour\", \"tour\", \"tour\", \"tourist\", \"tourist\", \"town\", \"town\", \"town\", \"toy\", \"toy\", \"toy\", \"track\", \"track\", \"track\", \"trailer\", \"trailer\", \"trans\", \"trans\", \"transform\", \"transform\", \"tree\", \"tree\", \"tree\", \"trump\", \"trump\", \"trump\", \"trump\", \"trumps\", \"trumps\", \"trumps\", \"trust\", \"trust\", \"trust\", \"twitter_facebook\", \"twitter_facebook\", \"twitter_facebook\", \"type\", \"union\", \"union\", \"unique\", \"unique\", \"unique\", \"urge\", \"urge\", \"valentines_day\", \"veteran\", \"veteran\", \"victory\", \"victory\", \"video\", \"video\", \"video\", \"violate\", \"violate\", \"vogue\", \"vogue\", \"vote\", \"vote\", \"voter\", \"voter\", \"voting\", \"voting\", \"vow\", \"vow\", \"wake\", \"walk\", \"walk\", \"walking_dead\", \"walking_dead\", \"want\", \"want\", \"want\", \"want_sure\", \"want_sure\", \"warm\", \"warm\", \"warn\", \"warn\", \"warn\", \"warn\", \"warn\", \"washington\", \"washington\", \"way\", \"way\", \"way\", \"weapon\", \"weapon\", \"wear\", \"wear\", \"weather\", \"weather\", \"website\", \"website\", \"wedding\", \"wedding\", \"week\", \"week\", \"week\", \"week\", \"white_house\", \"white_house\", \"white_house\", \"white_house\", \"white_house\", \"white_house\", \"win\", \"win\", \"win\", \"win\", \"win\", \"wind\", \"wind\", \"wine\", \"wine\", \"winter\", \"winter\", \"winter\", \"winter\", \"woman\", \"woman\", \"woman\", \"woman\", \"work\", \"work\", \"work\", \"workout\", \"workout\", \"workout\", \"world\", \"world\", \"world\", \"year\", \"year\", \"year\", \"years_resolution\", \"years_resolution\", \"yoga\", \"yoga\", \"yoga\", \"youve_got\", \"youve_got\"]}, \"R\": 30, \"lambda.step\": 0.01, \"plot.opts\": {\"xlab\": \"PC1\", \"ylab\": \"PC2\"}, \"topic.order\": [7, 2, 10, 5, 8, 1, 9, 3, 6, 4]};\n",
       "\n",
       "function LDAvis_load_lib(url, callback){\n",
       "  var s = document.createElement('script');\n",
       "  s.src = url;\n",
       "  s.async = true;\n",
       "  s.onreadystatechange = s.onload = callback;\n",
       "  s.onerror = function(){console.warn(\"failed to load library \" + url);};\n",
       "  document.getElementsByTagName(\"head\")[0].appendChild(s);\n",
       "}\n",
       "\n",
       "if(typeof(LDAvis) !== \"undefined\"){\n",
       "   // already loaded: just create the visualization\n",
       "   !function(LDAvis){\n",
       "       new LDAvis(\"#\" + \"ldavis_el3204140189003190560575122810\", ldavis_el3204140189003190560575122810_data);\n",
       "   }(LDAvis);\n",
       "}else if(typeof define === \"function\" && define.amd){\n",
       "   // require.js is available: use it to load d3/LDAvis\n",
       "   require.config({paths: {d3: \"https://d3js.org/d3.v5\"}});\n",
       "   require([\"d3\"], function(d3){\n",
       "      window.d3 = d3;\n",
       "      LDAvis_load_lib(\"https://cdn.jsdelivr.net/gh/bmabey/pyLDAvis@3.4.0/pyLDAvis/js/ldavis.v3.0.0.js\", function(){\n",
       "        new LDAvis(\"#\" + \"ldavis_el3204140189003190560575122810\", ldavis_el3204140189003190560575122810_data);\n",
       "      });\n",
       "    });\n",
       "}else{\n",
       "    // require.js not available: dynamically load d3 & LDAvis\n",
       "    LDAvis_load_lib(\"https://d3js.org/d3.v5.js\", function(){\n",
       "         LDAvis_load_lib(\"https://cdn.jsdelivr.net/gh/bmabey/pyLDAvis@3.4.0/pyLDAvis/js/ldavis.v3.0.0.js\", function(){\n",
       "                 new LDAvis(\"#\" + \"ldavis_el3204140189003190560575122810\", ldavis_el3204140189003190560575122810_data);\n",
       "            })\n",
       "         });\n",
       "}\n",
       "</script>"
      ],
      "text/plain": [
       "PreparedData(topic_coordinates=              x         y  topics  cluster       Freq\n",
       "topic                                                \n",
       "6     -0.330276 -0.072043       1        1  39.298267\n",
       "1     -0.205775  0.005660       2        1  17.407900\n",
       "9     -0.219769  0.029539       3        1  16.562242\n",
       "4      0.046901  0.262140       4        1   7.340730\n",
       "7      0.098592  0.042825       5        1   5.119611\n",
       "0      0.116497 -0.062220       6        1   3.590592\n",
       "8      0.124499 -0.057396       7        1   3.259631\n",
       "2      0.121276 -0.059191       8        1   2.697972\n",
       "5      0.125706 -0.045964       9        1   2.660107\n",
       "3      0.122348 -0.043349      10        1   2.062948, topic_info=              Term         Freq        Total Category  logprob  loglift\n",
       "28           trump  1909.000000  1909.000000  Default  30.0000  30.0000\n",
       "179          photo  1984.000000  1984.000000  Default  29.0000  29.0000\n",
       "586   donald_trump  1393.000000  1393.000000  Default  28.0000  28.0000\n",
       "207      president  1038.000000  1038.000000  Default  27.0000  27.0000\n",
       "838            gop   559.000000   559.000000  Default  26.0000  26.0000\n",
       "...            ...          ...          ...      ...      ...      ...\n",
       "4813      champion    31.668031    34.747862  Topic10  -6.2105   3.7882\n",
       "6512       married    51.952539    65.722267  Topic10  -5.7155   3.6459\n",
       "2314       citizen    52.058966    68.042017  Topic10  -5.7134   3.6133\n",
       "1877         birth    56.041091    89.819243  Topic10  -5.6397   3.4093\n",
       "8034       richard    35.282400    47.404761  Topic10  -6.1024   3.5857\n",
       "\n",
       "[521 rows x 6 columns], token_table=      Topic      Freq       Term\n",
       "term                            \n",
       "1875      1  0.005217   abortion\n",
       "1875      2  0.986013   abortion\n",
       "4869      1  0.005519     accept\n",
       "4869      4  0.871978     accept\n",
       "4869      5  0.115896     accept\n",
       "...     ...       ...        ...\n",
       "1965      1  0.005439       yoga\n",
       "1965      3  0.364382       yoga\n",
       "1965      4  0.619994       yoga\n",
       "5058      1  0.019957  youve_got\n",
       "5058      9  0.937968  youve_got\n",
       "\n",
       "[1136 rows x 3 columns], R=30, lambda_step=0.01, plot_opts={'xlab': 'PC1', 'ylab': 'PC2'}, topic_order=[7, 2, 10, 5, 8, 1, 9, 3, 6, 4])"
      ]
     },
     "execution_count": 24,
     "metadata": {},
     "output_type": "execute_result"
    }
   ],
   "source": [
    "import pyLDAvis\n",
    "import pyLDAvis.gensim\n",
    "\n",
    "# Visualize the topics\n",
    "pyLDAvis.enable_notebook()\n",
    "vis = pyLDAvis.gensim.prepare(lda_model, corpus_bow, dct)\n",
    "vis"
   ]
  },
  {
   "cell_type": "markdown",
   "id": "fcc1adb5",
   "metadata": {},
   "source": [
    "Bayesian method"
   ]
  },
  {
   "cell_type": "markdown",
   "id": "d86a2b5a",
   "metadata": {},
   "source": [
    "LDA vs. clustering self-trained word embeddings from session 6 (Hovy chapter 9.6)"
   ]
  },
  {
   "cell_type": "markdown",
   "id": "282c024d",
   "metadata": {},
   "source": [
    "Caveats"
   ]
  },
  {
   "cell_type": "markdown",
   "id": "cc6f7cc3",
   "metadata": {},
   "source": [
    "Data: the same corpus that was prepared in session 6"
   ]
  },
  {
   "cell_type": "markdown",
   "id": "766c5415",
   "metadata": {},
   "source": [
    "Shortly mention the sklearn LDA pipeline?"
   ]
  },
  {
   "cell_type": "markdown",
   "id": "125d89c5",
   "metadata": {},
   "source": [
    "gensim for LDA (Hovy chapter 9.2)"
   ]
  },
  {
   "cell_type": "code",
   "execution_count": null,
   "id": "00c4edfc",
   "metadata": {},
   "outputs": [],
   "source": [
    "feature_names"
   ]
  },
  {
   "cell_type": "markdown",
   "id": "13c15f48",
   "metadata": {},
   "source": [
    "BOX: Structural topic model: Hovy chapter 9.4"
   ]
  },
  {
   "cell_type": "markdown",
   "id": "7c58e405",
   "metadata": {},
   "source": [
    "## 8.2. Clustering\n",
    "\n",
    "https://scikit-learn.org/stable/modules/clustering.html#clustering"
   ]
  },
  {
   "cell_type": "markdown",
   "id": "1b208157",
   "metadata": {},
   "source": [
    "### 8.2.1. Structured data\n",
    "\n",
    "VDEM dataset\n",
    "\n",
    "#### K-Means\n",
    "\n",
    "How it works, when to use it"
   ]
  },
  {
   "cell_type": "markdown",
   "id": "7f5dad05",
   "metadata": {},
   "source": [
    "Silhouette score to find optimal number of clusters: https://scikit-learn.org/stable/modules/clustering.html#clustering-evaluation and https://scikit-learn.org/stable/auto_examples/cluster/plot_kmeans_silhouette_analysis.html"
   ]
  },
  {
   "cell_type": "code",
   "execution_count": null,
   "id": "766fdfe8",
   "metadata": {},
   "outputs": [],
   "source": []
  },
  {
   "cell_type": "code",
   "execution_count": null,
   "id": "f3c3455b",
   "metadata": {},
   "outputs": [],
   "source": []
  },
  {
   "cell_type": "code",
   "execution_count": null,
   "id": "5f57c04f",
   "metadata": {},
   "outputs": [],
   "source": []
  },
  {
   "cell_type": "code",
   "execution_count": null,
   "id": "11d403a3",
   "metadata": {},
   "outputs": [],
   "source": []
  },
  {
   "cell_type": "code",
   "execution_count": null,
   "id": "e87ecd8c",
   "metadata": {},
   "outputs": [],
   "source": [
    "import matplotlib.pyplot as plt\n",
    "from mpl_toolkits.mplot3d import Axes3D\n",
    "from matplotlib import colors\n",
    "\n",
    "def plot_vectors(vectors, title='VIZ', labels=None, dimensions=3):\n",
    "    # set up graph\n",
    "    fig = plt.figure(figsize=(3, 3))\n",
    "    \n",
    "    # create data frame\n",
    "    df = pd.DataFrame(data={'x': vectors[:, 0], 'y': vectors[:, 1]})\n",
    "    # add labels, if supplied\n",
    "    if labels is not None:\n",
    "        df['label'] = labels\n",
    "        #print(df.label)\n",
    "    else:\n",
    "        df['label'] = [''] * len(df)\n",
    "    \n",
    "    # assign colors to labels\n",
    "    cm = plt.get_cmap('Set1') # choose the color palette\n",
    "    n_labels = len(df.label.unique())\n",
    "    label_colors = [cm(1. * i / n_labels) for i in range(n_labels)]\n",
    "    cMap = colors.ListedColormap(label_colors)\n",
    "    \n",
    "    # plot in 3 dimensions\n",
    "    if dimensions == 3:\n",
    "        # add z-axis information\n",
    "        df['z'] = vectors[:, 2]\n",
    "        # define plot\n",
    "        ax = fig.add_subplot(111, projection='3d')\n",
    "        frame1 = plt.gca()\n",
    "        # remove axis ticks\n",
    "        frame1.axes.xaxis.set_ticklabels([])\n",
    "        frame1.axes.yaxis.set_ticklabels([])\n",
    "        frame1.axes.zaxis.set_ticklabels([])\n",
    "        \n",
    "        # plot each label as scatter plot in its own color\n",
    "        for l, label in enumerate(df.label.unique()):\n",
    "            df2 = df[df.label == label]\n",
    "            ax.scatter(df2['x'], df2['y'], df2['z'], c=label_colors[l], cmap=cMap, edgecolor=None, label=label, alpha=0.3, s=5)\n",
    "        \n",
    "    # plot in 2 dimensions\n",
    "    elif dimensions == 2:\n",
    "        ax = fig.add_subplot(111)\n",
    "        frame1 = plt.gca()\n",
    "        frame1.axes.xaxis.set_ticklabels([])\n",
    "        frame1.axes.yaxis.set_ticklabels([])\n",
    "        \n",
    "        for l, label in enumerate(df.label.unique()):\n",
    "            df2 = df[df.label == label]\n",
    "            ax.scatter(df2['x'], df2['y'], c=label_colors[l], cmap=cMap, edgecolor=None, label=label, alpha=0.3, s=5)\n",
    "    \n",
    "    else:\n",
    "         raise NotImplementedError()\n",
    "    \n",
    "    plt.title(title)\n",
    "    #plt.show()\n",
    "    \n",
    "    if dimensions == 3:\n",
    "        ax.set_xlabel(f'$\\longleftarrow$ PC 0 $\\longrightarrow$')\n",
    "        ax.set_ylabel(f'$\\longleftarrow$ PC 1 $\\longrightarrow$')\n",
    "        ax.set_zlabel(f'$\\longleftarrow$ PC 2 $\\longrightarrow$')\n",
    "    elif dimensions == 2:\n",
    "        ax.set_xlabel(f'$\\longleftarrow$ PC 0 (eigenvalue: {np.round(eigenvalues_vdem.loc[0], 2)}) $\\longrightarrow$')\n",
    "        ax.set_ylabel(f'$\\longleftarrow$ PC 1 (eigenvalue: {np.round(eigenvalues_vdem.loc[1], 2)}) $\\longrightarrow$')        \n",
    "    else:\n",
    "         raise NotImplementedError()"
   ]
  },
  {
   "cell_type": "code",
   "execution_count": null,
   "id": "78568233",
   "metadata": {},
   "outputs": [],
   "source": [
    "n_components = 3\n",
    "\n",
    "plot_vectors(vectors=X_vdem_pca[:, :n_components], title='V-Dem', labels=None, dimensions=n_components)"
   ]
  },
  {
   "cell_type": "code",
   "execution_count": null,
   "id": "b8c38eca",
   "metadata": {},
   "outputs": [],
   "source": []
  },
  {
   "cell_type": "markdown",
   "id": "107dd1be",
   "metadata": {},
   "source": [
    "BOX: Other methods for identifying optimal number of clusters; https://scikit-learn.org/stable/modules/classes.html#sklearn-metrics-metrics"
   ]
  },
  {
   "cell_type": "markdown",
   "id": "b5a3a358",
   "metadata": {},
   "source": [
    "#### Agglomarative clustering\n",
    "\n",
    "How it works, when to use it"
   ]
  },
  {
   "cell_type": "markdown",
   "id": "a42110e4",
   "metadata": {},
   "source": [
    "Silhouette score from the beginning"
   ]
  },
  {
   "cell_type": "code",
   "execution_count": null,
   "id": "42a3a7c6",
   "metadata": {},
   "outputs": [],
   "source": []
  },
  {
   "cell_type": "markdown",
   "id": "6390234b",
   "metadata": {},
   "source": [
    "### 8.2.2. Unstructured (text) data\n",
    "\n",
    "Mention available methods: https://scikit-learn.org/stable/modules/classes.html#module-sklearn.cluster"
   ]
  },
  {
   "cell_type": "markdown",
   "id": "f7b35abe",
   "metadata": {},
   "source": [
    "Introduce trick to use dimensionality reduction before (K-Means) clustering; https://datascience.stackexchange.com/questions/23591/clustering-algorithms-for-high-dimensional-binary-sparse-data"
   ]
  },
  {
   "cell_type": "code",
   "execution_count": null,
   "id": "b0a8fe9d",
   "metadata": {},
   "outputs": [],
   "source": []
  },
  {
   "cell_type": "markdown",
   "id": "2b2e3109",
   "metadata": {},
   "source": [
    "## 8.3. Association rule mining\n",
    "\n",
    "https://sherbold.github.io/intro-to-data-science/05_Association-Rule-Mining.html\n",
    "\n",
    "use http://rasbt.github.io/mlxtend/?"
   ]
  },
  {
   "cell_type": "markdown",
   "id": "4a6464ad",
   "metadata": {},
   "source": [
    "Describe associations for TweetsCOV19 tweets"
   ]
  },
  {
   "cell_type": "code",
   "execution_count": null,
   "id": "7e550a89",
   "metadata": {},
   "outputs": [],
   "source": []
  },
  {
   "cell_type": "markdown",
   "id": "b98d082a",
   "metadata": {},
   "source": [
    "## Commented references\n",
    "\n",
    "### Recommended textbooks\n",
    "\n",
    "Hovy, D. (2020). *Text Analysis in Python for Social Scientists: Discovery and Exploration*. Cambridge University Press. https://doi.org/10.1017/9781108873352. *ADD COMMENT*\n",
    "\n",
    "### Other cited references\n",
    "\n",
    "..."
   ]
  },
  {
   "cell_type": "markdown",
   "id": "758d9eec",
   "metadata": {},
   "source": [
    "<div class='alert alert-block alert-success'>\n",
    "<b>Document information</b>\n",
    "\n",
    "Contact and main author: ...\n",
    "\n",
    "Contributors: ...\n",
    "\n",
    "Acknowledgements: ...\n",
    "\n",
    "Version date: XX. February 2023\n",
    "\n",
    "License: ...\n",
    "</div>"
   ]
  },
  {
   "cell_type": "markdown",
   "id": "662b5253",
   "metadata": {},
   "source": [
    "#### Notes to be removed before publication\n",
    "\n",
    "- ..."
   ]
  }
 ],
 "metadata": {
  "kernelspec": {
   "display_name": "Python 3 (ipykernel)",
   "language": "python",
   "name": "python3"
  },
  "language_info": {
   "codemirror_mode": {
    "name": "ipython",
    "version": 3
   },
   "file_extension": ".py",
   "mimetype": "text/x-python",
   "name": "python",
   "nbconvert_exporter": "python",
   "pygments_lexer": "ipython3",
   "version": "3.8.8"
  }
 },
 "nbformat": 4,
 "nbformat_minor": 5
}
