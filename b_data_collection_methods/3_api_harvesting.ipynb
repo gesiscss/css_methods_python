{
 "cells": [
  {
   "cell_type": "markdown",
   "id": "26acf247",
   "metadata": {},
   "source": [
    "<img src='images/gesis.png' style='height: 60px; float: left'>\n",
    "<img src='images/social_comquant.png' style='height: 50px; float: left; margin-left: 40px'>\n",
    "<img src='images/isi.png' style='height: 50px; float: left; margin-left: 20px'>  "
   ]
  },
  {
   "cell_type": "markdown",
   "id": "237c8be6",
   "metadata": {},
   "source": [
    "Authors = N. Gizem Bacaksizlar Turbic and Haiko Lietz\n",
    "\n",
    "Date = 19 July 2022"
   ]
  },
  {
   "cell_type": "markdown",
   "id": "3cd4ea4a",
   "metadata": {},
   "source": [
    "# 1. Introduction\n",
    "\n",
    "Data collection is a procedure of gathering information from subjects (all relevant sources), measuring and analyzing accurate insights for research using various techniques. Researchers can evaluate their research questions and hypotheses on the basis of collected data. In most cases, data collection is the primary and most important step for research, irrespective of the field of study. The approach of data collection varies for different fields of study, depending on the required information.\n",
    "\n",
    "The ease of access to the technology has made various social media platforms more popular as communication tools, therefore as a source of data. With this rise of social media use as a data source, data collection using APIs has become a demanding skill. Here, in this session, we aim to teach how to collect data from various social media platforms, such as Twitter and Reddit."
   ]
  },
  {
   "cell_type": "markdown",
   "id": "66abdeec",
   "metadata": {},
   "source": [
    "# 2. Social Media Platforms for Data Harvesting through API"
   ]
  },
  {
   "cell_type": "markdown",
   "id": "c403de1f",
   "metadata": {},
   "source": [
    "<img src=\"./images/database.png\"  width=\"150\" height = \"150\" align=\"right\"/>\n",
    "\n",
    "In order to access APIs, you first need to create an account and apply to have a developer account on the platform that you want to work on. With this developer account, platforms provide you KEYS (e.g., secret, public, or access) to authenticate their system.\n",
    "\n",
    "While web scraping is one of the common ways of collecting data from websites, a lot of websites offer APIs to access the public data that they host on their website. This is to avoid unnecessary traffic on the websites.\n",
    "\n",
    "However, even though we have access to these API, as researchers, we should not forget to respect API access rules and always read the documents before collecting data.\n",
    "\n",
    "\n"
   ]
  },
  {
   "cell_type": "markdown",
   "id": "d09370b8",
   "metadata": {},
   "source": [
    "## 2.1. A demonstration using Python to collect data from Twitter \n",
    "\n",
    "Twitter is one of the most used social media platforms in the academic research. This microblogging and social networking service host users who can post and interact with messages known as \"tweets\". Registered users can post, like, and retweet tweets, but unregistered users can only read those that are publicly available. As of 2022, Twitter has 436 million active users worldwide (Statista, 2022*). \n",
    "\n",
    "<img src=\"./images/twitter.png\"  width=\"200\" height = \"200\" align=\"left\"/>\n",
    "\n",
    "Different access options for different purposes:\n",
    "\n",
    "- Twitter Developer: https://developer.twitter.com/\n",
    "- APIs: https://developer.twitter.com/en/docs\n",
    "- GNIP: http://support.gnip.com/apis/\n",
    "- Twitter Enterprise: https://developer.twitter.com/en/enterprise\n",
    "\n",
    "IMPORTANT to note that free APIs cover 7 days Tweets; Premium APIs exist for 30-day search and beyond. If you have an Academic Research access level, you can access even more data with full-archive search endpoint. There are changes to APIs policies over time, such as functionalities and user agreements. Also, limitations on volume and functions should be considered. \n",
    "\n",
    "Before we start with our first project on Twitter, first you need to sign up for Twitter and then, create a Developer account: \n",
    "\n",
    "- Sign up from [here.](https://help.twitter.com/en/using-twitter/create-twitter-account)\n",
    "- Create a Developer Account from [here.](https://developer.twitter.com)\n",
    "\n",
    "\n",
    "**https://www.statista.com/statistics/272014/global-social-networks-ranked-by-number-of-users/*"
   ]
  },
  {
   "cell_type": "code",
   "execution_count": 1,
   "id": "193473b9",
   "metadata": {},
   "outputs": [],
   "source": [
    "''' \n",
    "    Let's get started with our first project of colleting Tweets.\n",
    "    Import libraries if you install them before.\n",
    "    If you have not installed them, then install with pip on your command prompt or your jupyter notebook with !pip.\n",
    "'''\n",
    "# import relevant packages\n",
    "import pandas as pd # data manipulation library\n",
    "import datetime # human readable date formats\n",
    "import tweepy as tw # wrapper around Twitter API \n",
    "# Please make sure you have installed all of these libraries!"
   ]
  },
  {
   "cell_type": "code",
   "execution_count": 2,
   "id": "7e4f9a5a",
   "metadata": {},
   "outputs": [],
   "source": [
    "# Enter your keys registered with Twitter\n",
    "# Obtain the access token and access token secret\n",
    "# These can be generated in your Developer Portal, under the “Keys and tokens” tab for your Developer App.\n",
    "\n",
    "apikey = 'YOURapikey' #25 alphanumeric characters\n",
    "apisecretkey = 'YOURapisecretkey'\n",
    "accesstoken = 'YOURaccesstoken'\n",
    "accesstokensecret = 'YOURaccesstokensecret'\n",
    "bearertoken = 'YOURbearertoken'"
   ]
  },
  {
   "cell_type": "markdown",
   "id": "39538a76",
   "metadata": {},
   "source": [
    "<img src=\"./images/developer_portal.png\"  width=\"500\" height = \"500\" align=\"center\"/>"
   ]
  },
  {
   "cell_type": "code",
   "execution_count": 3,
   "id": "8b7068dd",
   "metadata": {},
   "outputs": [],
   "source": [
    "# Let's say you are sharing your scripts with others, and do not want to show your keys. What can you do?\n",
    "# We first can create a simple Python script called keys.py in which we store all passwords. \n",
    "# Save this script in the same folder as this notebook and import your keys\n",
    "\n",
    "from keys import *\n",
    "\n",
    "# Make sure you name your variable names for the keys in the keys.py script are the same as your variables here."
   ]
  },
  {
   "cell_type": "code",
   "execution_count": 4,
   "id": "ff9e184e",
   "metadata": {},
   "outputs": [],
   "source": [
    "# Set up your access with search terms\n",
    "auth = tw.OAuthHandler(apikey, apisecretkey)\n",
    "auth.set_access_token(accesstoken, accesstokensecret)\n",
    "api = tw.API(auth, wait_on_rate_limit = True)\n",
    "search_words = \"ComputationalSocialScience OR GESIS OR SocialComQuant\" # Words should be changed according to your search.\n",
    "# If you want to remove retweets, then include -filter:retweets to the search_words."
   ]
  },
  {
   "cell_type": "code",
   "execution_count": 5,
   "id": "4e7fc12d",
   "metadata": {},
   "outputs": [],
   "source": [
    "# Collect Tweets and be aware of the attribute names from the new version of the packages, which may change in time\n",
    "# For a standart search, we use Tweepy.\n",
    "tweets = tw.Cursor(api.search_tweets,  q=search_words, lang=\"en\").items() # Possible to limit the number of search items"
   ]
  },
  {
   "cell_type": "code",
   "execution_count": 6,
   "id": "06363e5f",
   "metadata": {},
   "outputs": [
    {
     "name": "stdout",
     "output_type": "stream",
     "text": [
      "         user_name              user_id             tweet_id  \\\n",
      "0      CompCommLab   798181898031943680  1519270689823498241   \n",
      "1         emcr_sna  1491847980617547779  1519231234358095872   \n",
      "2        gesis_org            145554242  1519224965555535873   \n",
      "3  ReligionFESTHD1  1186731643505184768  1519220526677467136   \n",
      "4        gesis_org            145554242  1519211980896317440   \n",
      "\n",
      "                 tweet_date  \\\n",
      "0 2022-04-27 11:02:13+00:00   \n",
      "1 2022-04-27 08:25:26+00:00   \n",
      "2 2022-04-27 08:00:32+00:00   \n",
      "3 2022-04-27 07:42:53+00:00   \n",
      "4 2022-04-27 07:08:56+00:00   \n",
      "\n",
      "                                               tweet  \\\n",
      "0  RT @clauwa: Want to join @gesis_org and @HHU_d...   \n",
      "1  RT @clauwa: Want to join @gesis_org and @HHU_d...   \n",
      "2  Lights! Camera! Action! Teach! A #Handbook for...   \n",
      "3  RT @gesis_org: #stellenangebot #job #openposit...   \n",
      "4  RT @trovdimi: In case you missed my talk on Ge...   \n",
      "\n",
      "                                          user_image            user_location  \n",
      "0  http://pbs.twimg.com/profile_images/8390499541...          Vienna, Austria  \n",
      "1  http://pbs.twimg.com/profile_images/1496253854...                           \n",
      "2  http://pbs.twimg.com/profile_images/2840291739...                 Mannheim  \n",
      "3  http://pbs.twimg.com/profile_images/1471199487...  Heidelberg, Deutschland  \n",
      "4  http://pbs.twimg.com/profile_images/2840291739...                 Mannheim  \n",
      "---------------------------------------------\n",
      "The length of the dataframe: 259\n"
     ]
    }
   ],
   "source": [
    "# First, check which Twitter attributes you collected from this search, visit:\n",
    "# https://developer.twitter.com/en/docs/twitter-api/data-dictionary/object-model/tweet\n",
    "# Then, create a dataframe with the columns you might need for your analysis\n",
    "\n",
    "tweet_details = [[ tweet.user.screen_name, tweet.user.id, tweet.id_str, \n",
    "                  tweet.created_at, tweet.text, tweet.user.profile_image_url, tweet.user.location] \n",
    "                  for tweet in tweets]\n",
    "tweet_df = pd.DataFrame(data=tweet_details, \n",
    "                        columns = [\"user_name\",\"user_id\", \"tweet_id\", \"tweet_date\",\"tweet\",\"user_image\",\n",
    "                                   \"user_location\"])\n",
    "\n",
    "# For instance, you can see the values of one specific column with a code like this: tweet_df['user_image'].values\n",
    "\n",
    "# Save df\n",
    "tweet_df.to_csv(\"./data/test_tweets.csv\", index = False)\n",
    "print(tweet_df.head())\n",
    "print('---------------------------------------------')\n",
    "\n",
    "# print the length of the dataset\n",
    "print('The length of the dataframe:', len(tweet_df['tweet_id'].unique()))"
   ]
  },
  {
   "cell_type": "code",
   "execution_count": 7,
   "id": "57270ca6",
   "metadata": {},
   "outputs": [
    {
     "data": {
      "text/plain": [
       "array(['http://pbs.twimg.com/profile_images/839049954144436225/iZvx4Nbr_normal.jpg',\n",
       "       'http://pbs.twimg.com/profile_images/1496253854937141257/J4Xdl0YN_normal.jpg',\n",
       "       'http://pbs.twimg.com/profile_images/2840291739/926f900a36e46987ff8ac10c060f2c07_normal.png',\n",
       "       'http://pbs.twimg.com/profile_images/1471199487288913922/wcvkmu9V_normal.jpg',\n",
       "       'http://pbs.twimg.com/profile_images/2840291739/926f900a36e46987ff8ac10c060f2c07_normal.png'],\n",
       "      dtype=object)"
      ]
     },
     "execution_count": 7,
     "metadata": {},
     "output_type": "execute_result"
    }
   ],
   "source": [
    "# Let's check the first five user images with searching the link on the browser\n",
    "tweet_df.user_image.values[:5]"
   ]
  },
  {
   "cell_type": "code",
   "execution_count": 8,
   "id": "4f49e6de",
   "metadata": {},
   "outputs": [],
   "source": [
    "# Twitter API v2 (if you have a full access)\n",
    "client = tw.Client(bearer_token=bearer_token)\n",
    "\n",
    "# Replace with your own search query\n",
    "query = 'from:SocialComquant -is:retweet' # you can change from with your own choice of username (without retweets)\n",
    "\n",
    "# Replace with time period of your choice\n",
    "start_time = '2021-01-01T00:00:00Z'\n",
    "\n",
    "# Replace with time period of your choice\n",
    "end_time = '2022-01-01T00:00:00Z'"
   ]
  },
  {
   "cell_type": "code",
   "execution_count": 9,
   "id": "e314ad13",
   "metadata": {},
   "outputs": [
    {
     "data": {
      "text/plain": [
       "'2021-01-01T00:00:00Z'"
      ]
     },
     "execution_count": 9,
     "metadata": {},
     "output_type": "execute_result"
    }
   ],
   "source": [
    "# Check the start_time by yourself with writing\n",
    "start_time"
   ]
  },
  {
   "cell_type": "code",
   "execution_count": 10,
   "id": "175eb30e",
   "metadata": {},
   "outputs": [],
   "source": [
    "'''\n",
    "# You can search Tweets from the last 7 days or all Tweets with different functions. Check available functions in Tweepy!\n",
    "Tweepy: https://docs.tweepy.org/en/stable/client.html#search-tweets\n",
    "# A helpful link for setting up your query: \n",
    "https://github.com/twitterdev/getting-started-with-the-twitter-api-v2-for-academic-research/blob/main/modules/5-how-to-write-search-queries.md\n",
    "'''\n",
    "# Connect to Twitter API and search all tweets if you have a full academic access\n",
    "tweets = client.search_all_tweets(query=query, tweet_fields=['created_at','text', 'context_annotations','entities'],\n",
    "                                  start_time=start_time,\n",
    "                                  end_time=end_time, max_results=10) #set your max results between 10 and 500\n",
    "\n"
   ]
  },
  {
   "cell_type": "code",
   "execution_count": 11,
   "id": "09368050",
   "metadata": {},
   "outputs": [
    {
     "name": "stdout",
     "output_type": "stream",
     "text": [
      "2021-12-08 10:26:14+00:00\n",
      "[{'domain': {'id': '30', 'name': 'Entities [Entity Service]', 'description': 'Entity Service top level domain, every item that is in Entity Service should be in this domain'}, 'entity': {'id': '848920371311001600', 'name': 'Technology', 'description': 'Technology and computing'}}, {'domain': {'id': '66', 'name': 'Interests and Hobbies Category', 'description': 'A grouping of interests and hobbies entities, like Novelty Food or Destinations'}, 'entity': {'id': '848921413196984320', 'name': 'Computer programming', 'description': 'Computer programming'}}, {'domain': {'id': '66', 'name': 'Interests and Hobbies Category', 'description': 'A grouping of interests and hobbies entities, like Novelty Food or Destinations'}, 'entity': {'id': '898673391980261376', 'name': 'Web development', 'description': 'Web Development'}}]\n",
      "2021-11-24 14:10:43+00:00\n",
      "[{'domain': {'id': '30', 'name': 'Entities [Entity Service]', 'description': 'Entity Service top level domain, every item that is in Entity Service should be in this domain'}, 'entity': {'id': '848920371311001600', 'name': 'Technology', 'description': 'Technology and computing'}}, {'domain': {'id': '66', 'name': 'Interests and Hobbies Category', 'description': 'A grouping of interests and hobbies entities, like Novelty Food or Destinations'}, 'entity': {'id': '848921413196984320', 'name': 'Computer programming', 'description': 'Computer programming'}}, {'domain': {'id': '66', 'name': 'Interests and Hobbies Category', 'description': 'A grouping of interests and hobbies entities, like Novelty Food or Destinations'}, 'entity': {'id': '898673391980261376', 'name': 'Web development', 'description': 'Web Development'}}]\n",
      "2021-10-08 14:07:43+00:00\n",
      "[]\n",
      "2021-09-08 13:35:19+00:00\n",
      "[]\n",
      "2021-09-08 13:32:39+00:00\n",
      "[{'domain': {'id': '30', 'name': 'Entities [Entity Service]', 'description': 'Entity Service top level domain, every item that is in Entity Service should be in this domain'}, 'entity': {'id': '848920371311001600', 'name': 'Technology', 'description': 'Technology and computing'}}, {'domain': {'id': '66', 'name': 'Interests and Hobbies Category', 'description': 'A grouping of interests and hobbies entities, like Novelty Food or Destinations'}, 'entity': {'id': '848921413196984320', 'name': 'Computer programming', 'description': 'Computer programming'}}]\n",
      "2021-09-08 13:31:04+00:00\n",
      "[{'domain': {'id': '46', 'name': 'Brand Category', 'description': 'Categories within Brand Verticals that narrow down the scope of Brands'}, 'entity': {'id': '781974596752842752', 'name': 'Services'}}, {'domain': {'id': '48', 'name': 'Product', 'description': 'Products created by Brands.  Examples: Ford Explorer, Apple iPhone.'}, 'entity': {'id': '1412579054855671809', 'name': 'Google Innovation'}}, {'domain': {'id': '30', 'name': 'Entities [Entity Service]', 'description': 'Entity Service top level domain, every item that is in Entity Service should be in this domain'}, 'entity': {'id': '854692455005921281', 'name': 'Science', 'description': 'Science'}}]\n",
      "2021-07-05 11:00:38+00:00\n",
      "[{'domain': {'id': '30', 'name': 'Entities [Entity Service]', 'description': 'Entity Service top level domain, every item that is in Entity Service should be in this domain'}, 'entity': {'id': '848920371311001600', 'name': 'Technology', 'description': 'Technology and computing'}}, {'domain': {'id': '30', 'name': 'Entities [Entity Service]', 'description': 'Entity Service top level domain, every item that is in Entity Service should be in this domain'}, 'entity': {'id': '930484568305541120', 'name': 'Data science', 'description': 'Data Science'}}]\n",
      "2021-06-21 10:29:38+00:00\n",
      "[{'domain': {'id': '30', 'name': 'Entities [Entity Service]', 'description': 'Entity Service top level domain, every item that is in Entity Service should be in this domain'}, 'entity': {'id': '848920371311001600', 'name': 'Technology', 'description': 'Technology and computing'}}, {'domain': {'id': '66', 'name': 'Interests and Hobbies Category', 'description': 'A grouping of interests and hobbies entities, like Novelty Food or Destinations'}, 'entity': {'id': '898673391980261376', 'name': 'Web development', 'description': 'Web Development'}}]\n",
      "2021-06-14 10:54:18+00:00\n",
      "[{'domain': {'id': '30', 'name': 'Entities [Entity Service]', 'description': 'Entity Service top level domain, every item that is in Entity Service should be in this domain'}, 'entity': {'id': '848920371311001600', 'name': 'Technology', 'description': 'Technology and computing'}}, {'domain': {'id': '66', 'name': 'Interests and Hobbies Category', 'description': 'A grouping of interests and hobbies entities, like Novelty Food or Destinations'}, 'entity': {'id': '898673391980261376', 'name': 'Web development', 'description': 'Web Development'}}]\n",
      "2021-05-04 12:29:13+00:00\n",
      "[]\n"
     ]
    }
   ],
   "source": [
    "# Let's see a fairly new field for context annotations.\n",
    "for tweet in tweets.data:\n",
    "    print(tweet.created_at)\n",
    "    print(tweet.context_annotations) #context annotations (https://developer.twitter.com/en/docs/twitter-api/annotations/overview)"
   ]
  },
  {
   "cell_type": "markdown",
   "id": "6182d3a1",
   "metadata": {},
   "source": [
    "## 2.2. A demonstration using Python to collect Reddit comments <img src=\"./images/reddit.svg\"  width=\"150\" height = \"150\" align=\"right\"/>\n",
    "\n",
    "Reddit is one of the oldest social media platforms which is still generating content with its users. Millions of users are creating on a daily basis in the form of questions and comments. Reddit also offers such API which is easy to access this vast amount of data.\n",
    "\n",
    "First thing you need to do is to have a Reddit account. You should create it from [here.](https://www.reddit.com/)\n",
    "- [Official Reddit API](https://www.reddit.com/dev/api/)\n",
    "    - [Collecting Reddit data](https://towardsdatascience.com/scrape-reddit-data-using-python-and-google-bigquery-44180b579892)\n",
    "    \n",
    "Alternative ways of getting Reddit data:\n",
    "- [Google BigQuery](https://cloud.google.com/bigquery) (GBQ)\n",
    "    - [Scraping Reddit data with GBQ](https://towardsdatascience.com/scrape-reddit-data-using-python-and-google-bigquery-44180b579892)\n",
    "- [Pushshift.io](https://medium.com/@RareLoot/using-pushshifts-api-to-extract-reddit-submissions-fb517b286563)"
   ]
  },
  {
   "cell_type": "raw",
   "id": "2deb3d30",
   "metadata": {},
   "source": [
    "''' \n",
    "    Let's get started with our first project of colleting data from Reddit.\n",
    "    Import libraries if you install them before.\n",
    "    If you have not installed them, then install with pip on your command prompt or your jupyter notebook with !pip.\n",
    "'''\n",
    "# import relevant packages\n",
    "import pandas as pd # data manipulation library\n",
    "import praw # Python Reddit API Wrapper libray\n",
    "# Please make sure you have installed all of these libraries!"
   ]
  },
  {
   "cell_type": "raw",
   "id": "66c761a3",
   "metadata": {},
   "source": [
    "# Enter your keys registered with Reddit\n",
    "# Client_id: your 14 characters personal use script key\n",
    "# Client_secret: your 27 characters secret key\n",
    "# Username and password are your Reddit account credentials\n",
    "reddit = praw.Reddit(user_agent='Comment Extraction (by /u/USERNAME)',\n",
    "                     client_id='**********',client_secret=\"***********\",username='********', password='*******')"
   ]
  },
  {
   "cell_type": "markdown",
   "id": "5e82a004",
   "metadata": {},
   "source": [
    "We need to decide which subreddit you would like to focus on getting the data: Let's say \"Computational Social Science\" and be creative :)\n",
    "\n",
    "title, score, url, id, number of comments, date of creation, body text are the fields that are available from Reddit API. \n",
    "Here, we will focus on getting the bodytext(comments) from the subreddit. Refer to [praw documentation](https://praw.readthedocs.io/en/latest/code_overview/models/subreddit.html) for different kinds of implementations. "
   ]
  },
  {
   "cell_type": "raw",
   "id": "ca12bd79",
   "metadata": {},
   "source": [
    "comm_list = [] # empty list for the comments\n",
    "header_list = [] # empty list for header_list\n",
    "i = 0\n",
    "for submission in reddit.subreddit('Computational Social Science').hot(limit=2): # .hot(limit) can be any number\n",
    "    submission.comments.replace_more(limit=None) # Getting the list of comment ids\n",
    "    comment_queue = submission.comments[:]  # Seed with top-level\n",
    "    while comment_queue:\n",
    "        header_list.append(submission.title)\n",
    "        comment = comment_queue.pop(0)\n",
    "        comm_list.append(comment.body)\n",
    "        t = []\n",
    "        t.extend(comment.replies)\n",
    "        while t: # If the comment has nested replies, it will enter into the next loop and will extract information.\n",
    "            header_list.append(submission.title)\n",
    "            reply = t.pop(0)\n",
    "            comm_list.append(reply.body)\n",
    "            \n",
    "df = pd.DataFrame(header_list)\n",
    "df['comm_list'] = comm_list\n",
    "df.columns = ['header','comments']\n",
    "df['comments'] = df['comments'].apply(lambda x : x.replace('\\n',''))\n",
    "df.to_csv('CSS_comments.csv',index = False)"
   ]
  },
  {
   "cell_type": "markdown",
   "id": "56c76de5",
   "metadata": {},
   "source": [
    "# 2.3. More APIs and precollected datasets \n",
    "\n",
    "<img src=\"./images/datasets.jpg\" width=\"500\" height = \"900\" align=\"left\"/>  \n",
    "\n",
    "- __More APIs__\n",
    "\n",
    "    [Facebook for Developers](https://developers.facebook.com/)  \n",
    "    [Facebook Ads API](https://developers.facebook.com/docs/marketing-apis/)  \n",
    "    [Instagram Developer](https://developers.facebook.com/docs/instagram-basic-display-api)  \n",
    "    [YouTube Developers](https://developers.google.com/youtube/)  \n",
    "    [Weibo API](http://open.weibo.com/wiki/API%E6%96%87%E6%A1%A3/en)  \n",
    "    [CrowdTangle](https://www.crowdtangle.com/request)  \n",
    "    [4chan](https://github.com/4chan/4chan-API)  \n",
    "    [Gab](https://github.com/a-tal/gab)  \n",
    "    [Github REST API](https://docs.github.com/en/rest)  \n",
    "    [Github GraphQL](https://docs.github.com/en/graphql)  \n",
    "    [Stackoverflow](https://api.stackexchange.com/docs)  \n",
    "    [Facepager](https://github.com/strohne/Facepager)  \n",
    "\n",
    "\n",
    "- __Precollected datasets__  \n",
    "    https://datasetsearch.research.google.com  \n",
    "    https://www.kaggle.com/datasets  \n",
    "    https://data.gesis.org/sharing/#!Search  \n",
    "\n",
    "\n",
    "- __Locating or Requesting Social Media Data__\n",
    "    https://www.programmableweb.com"
   ]
  },
  {
   "cell_type": "markdown",
   "id": "f2ac0efa",
   "metadata": {},
   "source": [
    "# 3. Data harvesting from Wikipedia through API\n",
    "\n",
    "<img src='images/wikipedia_logo.png' style='height: 190px; float: right; margin-left: 50px' >\n",
    "\n",
    "Wikipedia is a rich source of data for social science research. Although we can access its data through other techniques like web scraping, there are also useful APIs that could ease collecting data from the website.\n",
    "\n",
    "Since Wikipedia is built on [MediaWiki](https://en.wikipedia.org/wiki/MediaWiki), we will be using python wrappers written for its API, [Mediawiki Action API](https://www.mediawiki.org/wiki/API:Main_page). Each of these wrappers provide some useful methods, and we will try to go through the ones that are the most important to our data collection tasks.\n",
    "\n",
    "We will also introduce two useful parsers for the Wikipedia markup language, and will see how they could be used for extracting clean data from the raw markup code.\n",
    "\n",
    "## 3.1 Wikipedia library\n",
    "\n",
    "https://wikipedia.readthedocs.io/en/latest/code.html#api\n",
    "\n",
    "Installation and importing: "
   ]
  },
  {
   "cell_type": "code",
   "execution_count": null,
   "id": "5e81e842",
   "metadata": {},
   "outputs": [],
   "source": [
    "pip install wikipedia"
   ]
  },
  {
   "cell_type": "code",
   "execution_count": 2,
   "id": "a3f28f71",
   "metadata": {},
   "outputs": [],
   "source": [
    "import wikipedia"
   ]
  },
  {
   "cell_type": "markdown",
   "id": "eb7c2a9e",
   "metadata": {},
   "source": [
    "Searching a query:"
   ]
  },
  {
   "cell_type": "code",
   "execution_count": 4,
   "id": "9515cd52",
   "metadata": {},
   "outputs": [
    {
     "data": {
      "text/plain": [
       "['Barack Obama',\n",
       " 'Barack Obama Sr.',\n",
       " 'Barack (disambiguation)',\n",
       " 'Presidency of Barack Obama',\n",
       " 'Family of Barack Obama',\n",
       " 'Barack (brandy)',\n",
       " 'Barack Obama \"Hope\" poster',\n",
       " 'Early life and career of Barack Obama',\n",
       " 'Barack Obama religion conspiracy theories',\n",
       " 'Barack Obama presidential campaign']"
      ]
     },
     "execution_count": 4,
     "metadata": {},
     "output_type": "execute_result"
    }
   ],
   "source": [
    "wikipedia.search(\"Barack\")"
   ]
  },
  {
   "cell_type": "code",
   "execution_count": 5,
   "id": "be845c05",
   "metadata": {},
   "outputs": [
    {
     "data": {
      "text/plain": [
       "'barack obama'"
      ]
     },
     "execution_count": 5,
     "metadata": {},
     "output_type": "execute_result"
    }
   ],
   "source": [
    "wikipedia.suggest(\"Barak Obama\")"
   ]
  },
  {
   "cell_type": "markdown",
   "id": "45a31e0b",
   "metadata": {},
   "source": [
    "Fewer or more results with a specific number:"
   ]
  },
  {
   "cell_type": "code",
   "execution_count": 6,
   "id": "9f09823a",
   "metadata": {},
   "outputs": [
    {
     "data": {
      "text/plain": [
       "['Ford', 'Ford Motor Company', 'Gerald Ford']"
      ]
     },
     "execution_count": 6,
     "metadata": {},
     "output_type": "execute_result"
    }
   ],
   "source": [
    "wikipedia.search(\"Ford\", results=3)"
   ]
  },
  {
   "cell_type": "markdown",
   "id": "07f2e934",
   "metadata": {},
   "source": [
    "Getting the summary of an article:"
   ]
  },
  {
   "cell_type": "code",
   "execution_count": 7,
   "id": "0c86bc0e",
   "metadata": {},
   "outputs": [
    {
     "data": {
      "text/plain": [
       "'Barack Hussein Obama II ( (listen) bə-RAHK hoo-SAYN oh-BAH-mə; born August 4, 1961) is an American politician who served as the 44th president of the United States from 2009 to 2017. A member of the Democratic Party, he was the first African-American  president of the United States. Obama previously served as a U.S. senator from Illinois from 2005 to 2008 and as an Illinois state senator from 1997 to 2004. \\nObama was born in Honolulu, Hawaii. After graduating from Columbia University in 1983, he worked as a community organizer in Chicago. In 1988, he enrolled in Harvard Law School, where he was the first black president of the Harvard Law Review. After graduating, he became a civil rights attorney and an academic, teaching constitutional law at the University of Chicago Law School from 1992 to 2004. Turning to elective politics, he represented the 13th district in the Illinois Senate from 1997 until 2004, when he ran for the U.S. Senate. Obama received national attention in 2004 with his March Senate primary win, his well-received July Democratic National Convention keynote address, and his landslide November election to the Senate. In 2008, after a close primary campaign against Hillary Clinton, he was nominated by the Democratic Party for president. Obama was elected over Republican nominee John McCain in the general election and was inaugurated alongside his running mate Joe Biden, on January 20, 2009. Nine months later, he was named the 2009 Nobel Peace Prize laureate, a decision that drew a mixture of praise and criticism.\\nObama signed many landmark bills into law during his first two years in office. The main reforms include: the Affordable Care Act, sometimes referred to as \"the ACA\" or \"Obamacare\", the Dodd–Frank Wall Street Reform and Consumer Protection Act, and the Don\\'t Ask, Don\\'t Tell Repeal Act of 2010. The American Recovery and Reinvestment Act and Tax Relief, Unemployment Insurance Reauthorization, and Job Creation Act served as economic stimuli amidst the Great Recession. After a lengthy debate over the national debt limit, he signed the Budget Control Act of 2011 and the American Taxpayer Relief Act of 2012. In foreign policy, he increased U.S. troop levels in Afghanistan, reduced nuclear weapons with the United States–Russia New START treaty, and ended military involvement in the Iraq War. In 2011, Obama ordered the drone-strike killing in Yemen of al-Qaeda operative Anwar al-Awlaki, who was an American citizen. He ordered military involvement in Libya in order to implement UN Security Council Resolution 1973, contributing to the overthrow of Muammar Gaddafi. He also ordered the counterterrorism raid that killed Osama bin Laden.\\nAfter winning re-election by defeating Republican opponent Mitt Romney, Obama was sworn in for a second term on January 20, 2013. During this term, he condemned the 2013 Snowden leaks as unpatriotic, but called for more restrictions on the National Security Agency (NSA) to address privacy issues. Obama also promoted inclusion for LGBT Americans. His administration filed briefs that urged the Supreme Court to strike down same-sex marriage bans as unconstitutional (United States v. Windsor and Obergefell v. Hodges); same-sex marriage was legalized nationwide in 2015 after the Court ruled so in Obergefell. He advocated for gun control in response to the Sandy Hook Elementary School shooting, indicating support for a ban on assault weapons, and issued wide-ranging executive actions concerning global warming and immigration. In foreign policy, he ordered military interventions in Iraq and Syria in response to gains made by ISIL after the 2011 withdrawal from Iraq, promoted discussions that led to the 2015 Paris Agreement on global climate change, drew down U.S. troops in Afghanistan in 2016, initiated sanctions against Russia following its annexation of Crimea and again after interference in the 2016 U.S. elections, brokered the Joint Comprehensive Plan of Action nuclear deal with Iran, and normalized U.S. relations with Cuba. Obama nominated three justices to the Supreme Court: Sonia Sotomayor and Elena Kagan were confirmed as justices, while Merrick Garland was denied hearings or a vote from the Republican-majority Senate. Obama left office on January 20, 2017, and continues to reside in Washington, D.C.\\nDuring Obama\\'s terms as president, the United States\\' reputation abroad, as well as the American economy, significantly improved. Rankings by scholars and historians place him among the upper to mid tier of American presidents. Since leaving office, Obama has remained active in Democratic politics, including campaigning for candidates in the 2018 midterm elections, appearing at the 2020 Democratic National Convention and campaigning for Biden during the 2020 presidential election. Outside of politics, Obama has published three bestselling books: Dreams from My Father (1995), The Audacity of Hope (2006) and A Promised Land (2020).\\n\\n'"
      ]
     },
     "execution_count": 7,
     "metadata": {},
     "output_type": "execute_result"
    }
   ],
   "source": [
    "wikipedia.summary(\"Barack Obama\")"
   ]
  },
  {
   "cell_type": "code",
   "execution_count": 8,
   "id": "5cad19a8",
   "metadata": {},
   "outputs": [
    {
     "data": {
      "text/plain": [
       "'Barack Hussein Obama II ( (listen) bə-RAHK hoo-SAYN oh-BAH-mə; born August 4, 1961) is an American politician who served as the 44th president of the United States from 2009 to 2017.'"
      ]
     },
     "execution_count": 8,
     "metadata": {},
     "output_type": "execute_result"
    }
   ],
   "source": [
    "wikipedia.summary(\"Barack Obama\", sentences=1)"
   ]
  },
  {
   "cell_type": "markdown",
   "id": "23126943",
   "metadata": {},
   "source": [
    "wikipedia.summary will raise a DisambiguationError if the page is a disambiguation page, or a PageError if the page doesn’t exist (although by default, it tries to find the page you meant with suggest and search.)"
   ]
  },
  {
   "cell_type": "code",
   "execution_count": 9,
   "id": "63b34048",
   "metadata": {},
   "outputs": [
    {
     "name": "stderr",
     "output_type": "stream",
     "text": [
      "/home/sed_zeppelin/anaconda3/envs/SocialComQuant/lib/python3.9/site-packages/wikipedia/wikipedia.py:389: GuessedAtParserWarning: No parser was explicitly specified, so I'm using the best available HTML parser for this system (\"html.parser\"). This usually isn't a problem, but if you run this code on another system, or in a different virtual environment, it may use a different parser and behave differently.\n",
      "\n",
      "The code that caused this warning is on line 389 of the file /home/sed_zeppelin/anaconda3/envs/SocialComQuant/lib/python3.9/site-packages/wikipedia/wikipedia.py. To get rid of this warning, pass the additional argument 'features=\"html.parser\"' to the BeautifulSoup constructor.\n",
      "\n",
      "  lis = BeautifulSoup(html).find_all('li')\n"
     ]
    },
    {
     "ename": "DisambiguationError",
     "evalue": "\"Mercury\" may refer to: \nMercury (planet)\nMercury (element)\nMercury (mythology)\nMercury (toy manufacturer)\nMercury Communications\nMercury Drug\nMercury Energy\nMercury Filmworks\nMercury General\nMercury Interactive\nMercury Marine\nMercury Systems\nMercury (programming language)\nMercury (metadata search system)\nFerranti Mercury\nMercury Browser\nMercury Mail Transport System\nMercury (film)\nMercury (TV series)\nYoung Adult\ncharacter in the RWBY web series\nSailor Mercury\nMercury (Marvel Comics)\nMakkari (comics)\nMetal Men\nCerebro's X-Men\nAmalgam Comics character\nMercury (magazine)\nThe American Mercury\nThe Mercury (Hobart)\nThe Mercury (South Africa)\nThe Mercury (Pennsylvania)\nMercury (Newport)\nReading Mercury\nList of newspapers named Mercury\nMercury (Bova novel)\nMercury (Livesey novel)\nAnna Kavan\nMercury Nashville\nMercury Records\nMercury Prize\nThe Planets\nMercury (American Music Club album)\nMercury (Longview album)\nMercury (Madder Mortem album)\nMercury – Act 1\nMercury – Act 2\n\"Mercury\" (song)\nRecovering the Satellites\nFailer\nPlanetarium\nOperation Mercury\nBoeing E-6 Mercury\nMiles Mercury\nHMS Mercury\nUSS Mercury\nRussian brig Mercury\nMercury (pigeon)\nMercury (name)\nMercury, Savoie\nMercury Bay\nplace in Alabama\nMercury, Nevada\nMercury, Texas\nMercury (plant)\nAnnual mercury\nBlitum bonus-henricus\nMercury FM\nHeart Hertfordshire\nEdmonton Mercurys\nFujita Soccer Club Mercury\nMemphis Mercury\nPhoenix Mercury\nToledo Mercurys\nBlackburn Mercury\nBristol Mercury\nMercury (automobile)\nMercury (cyclecar)\nMercury (train)\nMercury (ship)\nCape Cod Mercury 15\nMercury 18\nProject Mercury\nMercury\nMercury (satellite)\nArcher Maclean's Mercury\nMercury (cipher machine)\nMercury Boulevard\nMercury Cinema\nShuttle America\nThe Mercury Mall\nAll pages with titles beginning with Mercury \nThe American Mercury\nMercuri\nMercury 1 (disambiguation)\nMercury 2 (disambiguation)\nMercury 3 (disambiguation)\nMercury 4 (disambiguation)\nMercury 5 (disambiguation)\nMercury 6 (disambiguation)\nMercury 7 (disambiguation)\nMercury 8 (disambiguation)\nMercury City (disambiguation)\nMercury FM (disambiguation)\nMercury House (disambiguation)\nMercury mission (disambiguation)\nMercury program (disambiguation)\nMercury project (disambiguation)\nAll pages with titles containing Mercury",
     "output_type": "error",
     "traceback": [
      "\u001b[0;31m---------------------------------------------------------------------------\u001b[0m",
      "\u001b[0;31mDisambiguationError\u001b[0m                       Traceback (most recent call last)",
      "Input \u001b[0;32mIn [9]\u001b[0m, in \u001b[0;36m<cell line: 1>\u001b[0;34m()\u001b[0m\n\u001b[0;32m----> 1\u001b[0m \u001b[43mwikipedia\u001b[49m\u001b[38;5;241;43m.\u001b[39;49m\u001b[43msummary\u001b[49m\u001b[43m(\u001b[49m\u001b[38;5;124;43m\"\u001b[39;49m\u001b[38;5;124;43mMercury\u001b[39;49m\u001b[38;5;124;43m\"\u001b[39;49m\u001b[43m)\u001b[49m\n",
      "File \u001b[0;32m~/anaconda3/envs/SocialComQuant/lib/python3.9/site-packages/wikipedia/util.py:28\u001b[0m, in \u001b[0;36mcache.__call__\u001b[0;34m(self, *args, **kwargs)\u001b[0m\n\u001b[1;32m     26\u001b[0m   ret \u001b[38;5;241m=\u001b[39m \u001b[38;5;28mself\u001b[39m\u001b[38;5;241m.\u001b[39m_cache[key]\n\u001b[1;32m     27\u001b[0m \u001b[38;5;28;01melse\u001b[39;00m:\n\u001b[0;32m---> 28\u001b[0m   ret \u001b[38;5;241m=\u001b[39m \u001b[38;5;28mself\u001b[39m\u001b[38;5;241m.\u001b[39m_cache[key] \u001b[38;5;241m=\u001b[39m \u001b[38;5;28;43mself\u001b[39;49m\u001b[38;5;241;43m.\u001b[39;49m\u001b[43mfn\u001b[49m\u001b[43m(\u001b[49m\u001b[38;5;241;43m*\u001b[39;49m\u001b[43margs\u001b[49m\u001b[43m,\u001b[49m\u001b[43m \u001b[49m\u001b[38;5;241;43m*\u001b[39;49m\u001b[38;5;241;43m*\u001b[39;49m\u001b[43mkwargs\u001b[49m\u001b[43m)\u001b[49m\n\u001b[1;32m     30\u001b[0m \u001b[38;5;28;01mreturn\u001b[39;00m ret\n",
      "File \u001b[0;32m~/anaconda3/envs/SocialComQuant/lib/python3.9/site-packages/wikipedia/wikipedia.py:231\u001b[0m, in \u001b[0;36msummary\u001b[0;34m(title, sentences, chars, auto_suggest, redirect)\u001b[0m\n\u001b[1;32m    216\u001b[0m \u001b[38;5;124;03m'''\u001b[39;00m\n\u001b[1;32m    217\u001b[0m \u001b[38;5;124;03mPlain text summary of the page.\u001b[39;00m\n\u001b[1;32m    218\u001b[0m \n\u001b[0;32m   (...)\u001b[0m\n\u001b[1;32m    226\u001b[0m \u001b[38;5;124;03m* redirect - allow redirection without raising RedirectError\u001b[39;00m\n\u001b[1;32m    227\u001b[0m \u001b[38;5;124;03m'''\u001b[39;00m\n\u001b[1;32m    229\u001b[0m \u001b[38;5;66;03m# use auto_suggest and redirect to get the correct article\u001b[39;00m\n\u001b[1;32m    230\u001b[0m \u001b[38;5;66;03m# also, use page's error checking to raise DisambiguationError if necessary\u001b[39;00m\n\u001b[0;32m--> 231\u001b[0m page_info \u001b[38;5;241m=\u001b[39m \u001b[43mpage\u001b[49m\u001b[43m(\u001b[49m\u001b[43mtitle\u001b[49m\u001b[43m,\u001b[49m\u001b[43m \u001b[49m\u001b[43mauto_suggest\u001b[49m\u001b[38;5;241;43m=\u001b[39;49m\u001b[43mauto_suggest\u001b[49m\u001b[43m,\u001b[49m\u001b[43m \u001b[49m\u001b[43mredirect\u001b[49m\u001b[38;5;241;43m=\u001b[39;49m\u001b[43mredirect\u001b[49m\u001b[43m)\u001b[49m\n\u001b[1;32m    232\u001b[0m title \u001b[38;5;241m=\u001b[39m page_info\u001b[38;5;241m.\u001b[39mtitle\n\u001b[1;32m    233\u001b[0m pageid \u001b[38;5;241m=\u001b[39m page_info\u001b[38;5;241m.\u001b[39mpageid\n",
      "File \u001b[0;32m~/anaconda3/envs/SocialComQuant/lib/python3.9/site-packages/wikipedia/wikipedia.py:276\u001b[0m, in \u001b[0;36mpage\u001b[0;34m(title, pageid, auto_suggest, redirect, preload)\u001b[0m\n\u001b[1;32m    273\u001b[0m     \u001b[38;5;28;01mexcept\u001b[39;00m \u001b[38;5;167;01mIndexError\u001b[39;00m:\n\u001b[1;32m    274\u001b[0m       \u001b[38;5;66;03m# if there is no suggestion or search results, the page doesn't exist\u001b[39;00m\n\u001b[1;32m    275\u001b[0m       \u001b[38;5;28;01mraise\u001b[39;00m PageError(title)\n\u001b[0;32m--> 276\u001b[0m   \u001b[38;5;28;01mreturn\u001b[39;00m \u001b[43mWikipediaPage\u001b[49m\u001b[43m(\u001b[49m\u001b[43mtitle\u001b[49m\u001b[43m,\u001b[49m\u001b[43m \u001b[49m\u001b[43mredirect\u001b[49m\u001b[38;5;241;43m=\u001b[39;49m\u001b[43mredirect\u001b[49m\u001b[43m,\u001b[49m\u001b[43m \u001b[49m\u001b[43mpreload\u001b[49m\u001b[38;5;241;43m=\u001b[39;49m\u001b[43mpreload\u001b[49m\u001b[43m)\u001b[49m\n\u001b[1;32m    277\u001b[0m \u001b[38;5;28;01melif\u001b[39;00m pageid \u001b[38;5;129;01mis\u001b[39;00m \u001b[38;5;129;01mnot\u001b[39;00m \u001b[38;5;28;01mNone\u001b[39;00m:\n\u001b[1;32m    278\u001b[0m   \u001b[38;5;28;01mreturn\u001b[39;00m WikipediaPage(pageid\u001b[38;5;241m=\u001b[39mpageid, preload\u001b[38;5;241m=\u001b[39mpreload)\n",
      "File \u001b[0;32m~/anaconda3/envs/SocialComQuant/lib/python3.9/site-packages/wikipedia/wikipedia.py:299\u001b[0m, in \u001b[0;36mWikipediaPage.__init__\u001b[0;34m(self, title, pageid, redirect, preload, original_title)\u001b[0m\n\u001b[1;32m    296\u001b[0m \u001b[38;5;28;01melse\u001b[39;00m:\n\u001b[1;32m    297\u001b[0m   \u001b[38;5;28;01mraise\u001b[39;00m \u001b[38;5;167;01mValueError\u001b[39;00m(\u001b[38;5;124m\"\u001b[39m\u001b[38;5;124mEither a title or a pageid must be specified\u001b[39m\u001b[38;5;124m\"\u001b[39m)\n\u001b[0;32m--> 299\u001b[0m \u001b[38;5;28;43mself\u001b[39;49m\u001b[38;5;241;43m.\u001b[39;49m\u001b[43m__load\u001b[49m\u001b[43m(\u001b[49m\u001b[43mredirect\u001b[49m\u001b[38;5;241;43m=\u001b[39;49m\u001b[43mredirect\u001b[49m\u001b[43m,\u001b[49m\u001b[43m \u001b[49m\u001b[43mpreload\u001b[49m\u001b[38;5;241;43m=\u001b[39;49m\u001b[43mpreload\u001b[49m\u001b[43m)\u001b[49m\n\u001b[1;32m    301\u001b[0m \u001b[38;5;28;01mif\u001b[39;00m preload:\n\u001b[1;32m    302\u001b[0m   \u001b[38;5;28;01mfor\u001b[39;00m prop \u001b[38;5;129;01min\u001b[39;00m (\u001b[38;5;124m'\u001b[39m\u001b[38;5;124mcontent\u001b[39m\u001b[38;5;124m'\u001b[39m, \u001b[38;5;124m'\u001b[39m\u001b[38;5;124msummary\u001b[39m\u001b[38;5;124m'\u001b[39m, \u001b[38;5;124m'\u001b[39m\u001b[38;5;124mimages\u001b[39m\u001b[38;5;124m'\u001b[39m, \u001b[38;5;124m'\u001b[39m\u001b[38;5;124mreferences\u001b[39m\u001b[38;5;124m'\u001b[39m, \u001b[38;5;124m'\u001b[39m\u001b[38;5;124mlinks\u001b[39m\u001b[38;5;124m'\u001b[39m, \u001b[38;5;124m'\u001b[39m\u001b[38;5;124msections\u001b[39m\u001b[38;5;124m'\u001b[39m):\n",
      "File \u001b[0;32m~/anaconda3/envs/SocialComQuant/lib/python3.9/site-packages/wikipedia/wikipedia.py:393\u001b[0m, in \u001b[0;36mWikipediaPage.__load\u001b[0;34m(self, redirect, preload)\u001b[0m\n\u001b[1;32m    390\u001b[0m   filtered_lis \u001b[38;5;241m=\u001b[39m [li \u001b[38;5;28;01mfor\u001b[39;00m li \u001b[38;5;129;01min\u001b[39;00m lis \u001b[38;5;28;01mif\u001b[39;00m \u001b[38;5;129;01mnot\u001b[39;00m \u001b[38;5;124m'\u001b[39m\u001b[38;5;124mtocsection\u001b[39m\u001b[38;5;124m'\u001b[39m \u001b[38;5;129;01min\u001b[39;00m \u001b[38;5;124m'\u001b[39m\u001b[38;5;124m'\u001b[39m\u001b[38;5;241m.\u001b[39mjoin(li\u001b[38;5;241m.\u001b[39mget(\u001b[38;5;124m'\u001b[39m\u001b[38;5;124mclass\u001b[39m\u001b[38;5;124m'\u001b[39m, []))]\n\u001b[1;32m    391\u001b[0m   may_refer_to \u001b[38;5;241m=\u001b[39m [li\u001b[38;5;241m.\u001b[39ma\u001b[38;5;241m.\u001b[39mget_text() \u001b[38;5;28;01mfor\u001b[39;00m li \u001b[38;5;129;01min\u001b[39;00m filtered_lis \u001b[38;5;28;01mif\u001b[39;00m li\u001b[38;5;241m.\u001b[39ma]\n\u001b[0;32m--> 393\u001b[0m   \u001b[38;5;28;01mraise\u001b[39;00m DisambiguationError(\u001b[38;5;28mgetattr\u001b[39m(\u001b[38;5;28mself\u001b[39m, \u001b[38;5;124m'\u001b[39m\u001b[38;5;124mtitle\u001b[39m\u001b[38;5;124m'\u001b[39m, page[\u001b[38;5;124m'\u001b[39m\u001b[38;5;124mtitle\u001b[39m\u001b[38;5;124m'\u001b[39m]), may_refer_to)\n\u001b[1;32m    395\u001b[0m \u001b[38;5;28;01melse\u001b[39;00m:\n\u001b[1;32m    396\u001b[0m   \u001b[38;5;28mself\u001b[39m\u001b[38;5;241m.\u001b[39mpageid \u001b[38;5;241m=\u001b[39m pageid\n",
      "\u001b[0;31mDisambiguationError\u001b[0m: \"Mercury\" may refer to: \nMercury (planet)\nMercury (element)\nMercury (mythology)\nMercury (toy manufacturer)\nMercury Communications\nMercury Drug\nMercury Energy\nMercury Filmworks\nMercury General\nMercury Interactive\nMercury Marine\nMercury Systems\nMercury (programming language)\nMercury (metadata search system)\nFerranti Mercury\nMercury Browser\nMercury Mail Transport System\nMercury (film)\nMercury (TV series)\nYoung Adult\ncharacter in the RWBY web series\nSailor Mercury\nMercury (Marvel Comics)\nMakkari (comics)\nMetal Men\nCerebro's X-Men\nAmalgam Comics character\nMercury (magazine)\nThe American Mercury\nThe Mercury (Hobart)\nThe Mercury (South Africa)\nThe Mercury (Pennsylvania)\nMercury (Newport)\nReading Mercury\nList of newspapers named Mercury\nMercury (Bova novel)\nMercury (Livesey novel)\nAnna Kavan\nMercury Nashville\nMercury Records\nMercury Prize\nThe Planets\nMercury (American Music Club album)\nMercury (Longview album)\nMercury (Madder Mortem album)\nMercury – Act 1\nMercury – Act 2\n\"Mercury\" (song)\nRecovering the Satellites\nFailer\nPlanetarium\nOperation Mercury\nBoeing E-6 Mercury\nMiles Mercury\nHMS Mercury\nUSS Mercury\nRussian brig Mercury\nMercury (pigeon)\nMercury (name)\nMercury, Savoie\nMercury Bay\nplace in Alabama\nMercury, Nevada\nMercury, Texas\nMercury (plant)\nAnnual mercury\nBlitum bonus-henricus\nMercury FM\nHeart Hertfordshire\nEdmonton Mercurys\nFujita Soccer Club Mercury\nMemphis Mercury\nPhoenix Mercury\nToledo Mercurys\nBlackburn Mercury\nBristol Mercury\nMercury (automobile)\nMercury (cyclecar)\nMercury (train)\nMercury (ship)\nCape Cod Mercury 15\nMercury 18\nProject Mercury\nMercury\nMercury (satellite)\nArcher Maclean's Mercury\nMercury (cipher machine)\nMercury Boulevard\nMercury Cinema\nShuttle America\nThe Mercury Mall\nAll pages with titles beginning with Mercury \nThe American Mercury\nMercuri\nMercury 1 (disambiguation)\nMercury 2 (disambiguation)\nMercury 3 (disambiguation)\nMercury 4 (disambiguation)\nMercury 5 (disambiguation)\nMercury 6 (disambiguation)\nMercury 7 (disambiguation)\nMercury 8 (disambiguation)\nMercury City (disambiguation)\nMercury FM (disambiguation)\nMercury House (disambiguation)\nMercury mission (disambiguation)\nMercury program (disambiguation)\nMercury project (disambiguation)\nAll pages with titles containing Mercury"
     ]
    }
   ],
   "source": [
    "wikipedia.summary(\"Mercury\")"
   ]
  },
  {
   "cell_type": "code",
   "execution_count": 10,
   "id": "328ba9ea",
   "metadata": {},
   "outputs": [
    {
     "name": "stdout",
     "output_type": "stream",
     "text": [
      "['Mercury (planet)', 'Mercury (element)', 'Mercury (mythology)', 'Mercury (toy manufacturer)', 'Mercury Communications', 'Mercury Drug', 'Mercury Energy', 'Mercury Filmworks', 'Mercury General', 'Mercury Interactive', 'Mercury Marine', 'Mercury Systems', 'Mercury (programming language)', 'Mercury (metadata search system)', 'Ferranti Mercury', 'Mercury Browser', 'Mercury Mail Transport System', 'Mercury (film)', 'Mercury (TV series)', 'Young Adult', 'character in the RWBY web series', 'Sailor Mercury', 'Mercury (Marvel Comics)', 'Makkari (comics)', 'Metal Men', \"Cerebro's X-Men\", 'Amalgam Comics character', 'Mercury (magazine)', 'The American Mercury', 'The Mercury (Hobart)', 'The Mercury (South Africa)', 'The Mercury (Pennsylvania)', 'Mercury (Newport)', 'Reading Mercury', 'List of newspapers named Mercury', 'Mercury (Bova novel)', 'Mercury (Livesey novel)', 'Anna Kavan', 'Mercury Nashville', 'Mercury Records', 'Mercury Prize', 'The Planets', 'Mercury (American Music Club album)', 'Mercury (Longview album)', 'Mercury (Madder Mortem album)', 'Mercury – Act 1', 'Mercury – Act 2', '\"Mercury\" (song)', 'Recovering the Satellites', 'Failer', 'Planetarium', 'Operation Mercury', 'Boeing E-6 Mercury', 'Miles Mercury', 'HMS\\xa0Mercury', 'USS\\xa0Mercury', 'Russian brig\\xa0Mercury', 'Mercury (pigeon)', 'Mercury (name)', 'Mercury, Savoie', 'Mercury Bay', 'place in Alabama', 'Mercury, Nevada', 'Mercury, Texas', 'Mercury (plant)', 'Annual mercury', 'Blitum bonus-henricus', 'Mercury FM', 'Heart Hertfordshire', 'Edmonton Mercurys', 'Fujita Soccer Club Mercury', 'Memphis Mercury', 'Phoenix Mercury', 'Toledo Mercurys', 'Blackburn Mercury', 'Bristol Mercury', 'Mercury (automobile)', 'Mercury (cyclecar)', 'Mercury (train)', 'Mercury\\xa0(ship)', 'Cape Cod Mercury 15', 'Mercury 18', 'Project Mercury', 'Mercury', 'Mercury (satellite)', \"Archer Maclean's Mercury\", 'Mercury (cipher machine)', 'Mercury Boulevard', 'Mercury Cinema', 'Shuttle America', 'The Mercury Mall', 'All pages with titles beginning with Mercury ', 'The American Mercury', 'Mercuri', 'Mercury 1 (disambiguation)', 'Mercury 2 (disambiguation)', 'Mercury 3 (disambiguation)', 'Mercury 4 (disambiguation)', 'Mercury 5 (disambiguation)', 'Mercury 6 (disambiguation)', 'Mercury 7 (disambiguation)', 'Mercury 8 (disambiguation)', 'Mercury City (disambiguation)', 'Mercury FM (disambiguation)', 'Mercury House (disambiguation)', 'Mercury mission (disambiguation)', 'Mercury program (disambiguation)', 'Mercury project (disambiguation)', 'All pages with titles containing Mercury']\n"
     ]
    }
   ],
   "source": [
    "try:\n",
    "    mercury = wikipedia.summary(\"Mercury\")\n",
    "except wikipedia.exceptions.DisambiguationError as e:\n",
    "    print (e.options)"
   ]
  },
  {
   "cell_type": "markdown",
   "id": "2c68225c",
   "metadata": {},
   "source": [
    "wikipedia.page enables you to load and access data from full Wikipedia pages. Initialize with a page title (keep in mind the errors listed above), and then access most properties using property methods:"
   ]
  },
  {
   "cell_type": "code",
   "execution_count": 12,
   "id": "ecc46d21",
   "metadata": {},
   "outputs": [],
   "source": [
    "bo = wikipedia.page(\"Barack Obama\")"
   ]
  },
  {
   "cell_type": "markdown",
   "id": "d60b78ad",
   "metadata": {},
   "source": [
    "Getting the title of the page:"
   ]
  },
  {
   "cell_type": "code",
   "execution_count": 13,
   "id": "053d27d3",
   "metadata": {},
   "outputs": [
    {
     "data": {
      "text/plain": [
       "'Barack Obama'"
      ]
     },
     "execution_count": 13,
     "metadata": {},
     "output_type": "execute_result"
    }
   ],
   "source": [
    "bo.title"
   ]
  },
  {
   "cell_type": "markdown",
   "id": "22e9d658",
   "metadata": {},
   "source": [
    "Getting the url of the page:"
   ]
  },
  {
   "cell_type": "code",
   "execution_count": 14,
   "id": "aa3f6b52",
   "metadata": {},
   "outputs": [
    {
     "data": {
      "text/plain": [
       "'https://en.wikipedia.org/wiki/Barack_Obama'"
      ]
     },
     "execution_count": 14,
     "metadata": {},
     "output_type": "execute_result"
    }
   ],
   "source": [
    "bo.url"
   ]
  },
  {
   "cell_type": "markdown",
   "id": "102546aa",
   "metadata": {},
   "source": [
    "Getting the full text of the page:"
   ]
  },
  {
   "cell_type": "code",
   "execution_count": 15,
   "id": "ee3dd336",
   "metadata": {},
   "outputs": [
    {
     "data": {
      "text/plain": [
       "'Barack Hussein Obama II ( (listen) bə-RAHK hoo-SAYN oh-BAH-mə; born August 4, 1961) is an American politician who served as the 44th president of the United States from 2009 to 2017. A member of the Democratic Party, he was the first African-American  president of the United States. Obama previously served as a U.S. senator from Illinois from 2005 to 2008 and as an Illinois state senator from 1997 to 2004. \\nObama was born in Honolulu, Hawaii. After graduating from Columbia University in 1983, he worked as a community organizer in Chicago. In 1988, he enrolled in Harvard Law School, where he was the first black president of the Harvard Law Review. After graduating, he became a civil rights attorney and an academic, teaching constitutional law at the University of Chicago Law School from 1992 to 2004. Turning to elective politics, he represented the 13th district in the Illinois Senate from 1997 until 2004, when he ran for the U.S. Senate. Obama received national attention in 2004 with his March Senate primary win, his well-received July Democratic National Convention keynote address, and his landslide November election to the Senate. In 2008, after a close primary campaign against Hillary Clinton, he was nominated by the Democratic Party for president. Obama was elected over Republican nominee John McCain in the general election and was inaugurated alongside his running mate Joe Biden, on January 20, 2009. Nine months later, he was named the 2009 Nobel Peace Prize laureate, a decision that drew a mixture of praise and criticism.\\nObama signed many landmark bills into law during his first two years in office. The main reforms include: the Affordable Care Act, sometimes referred to as \"the ACA\" or \"Obamacare\", the Dodd–Frank Wall Street Reform and Consumer Protection Act, and the Don\\'t Ask, Don\\'t Tell Repeal Act of 2010. The American Recovery and Reinvestment Act and Tax Relief, Unemployment Insurance Reauthorization, and Job Creation Act served as economic stimuli amidst the Great Recession. After a lengthy debate over the national debt limit, he signed the Budget Control Act of 2011 and the American Taxpayer Relief Act of 2012. In foreign policy, he increased U.S. troop levels in Afghanistan, reduced nuclear weapons with the United States–Russia New START treaty, and ended military involvement in the Iraq War. In 2011, Obama ordered the drone-strike killing in Yemen of al-Qaeda operative Anwar al-Awlaki, who was an American citizen. He ordered military involvement in Libya in order to implement UN Security Council Resolution 1973, contributing to the overthrow of Muammar Gaddafi. He also ordered the counterterrorism raid that killed Osama bin Laden.\\nAfter winning re-election by defeating Republican opponent Mitt Romney, Obama was sworn in for a second term on January 20, 2013. During this term, he condemned the 2013 Snowden leaks as unpatriotic, but called for more restrictions on the National Security Agency (NSA) to address privacy issues. Obama also promoted inclusion for LGBT Americans. His administration filed briefs that urged the Supreme Court to strike down same-sex marriage bans as unconstitutional (United States v. Windsor and Obergefell v. Hodges); same-sex marriage was legalized nationwide in 2015 after the Court ruled so in Obergefell. He advocated for gun control in response to the Sandy Hook Elementary School shooting, indicating support for a ban on assault weapons, and issued wide-ranging executive actions concerning global warming and immigration. In foreign policy, he ordered military interventions in Iraq and Syria in response to gains made by ISIL after the 2011 withdrawal from Iraq, promoted discussions that led to the 2015 Paris Agreement on global climate change, drew down U.S. troops in Afghanistan in 2016, initiated sanctions against Russia following its annexation of Crimea and again after interference in the 2016 U.S. elections, brokered the Joint Comprehensive Plan of Action nuclear deal with Iran, and normalized U.S. relations with Cuba. Obama nominated three justices to the Supreme Court: Sonia Sotomayor and Elena Kagan were confirmed as justices, while Merrick Garland was denied hearings or a vote from the Republican-majority Senate. Obama left office on January 20, 2017, and continues to reside in Washington, D.C.\\nDuring Obama\\'s terms as president, the United States\\' reputation abroad, as well as the American economy, significantly improved. Rankings by scholars and historians place him among the upper to mid tier of American presidents. Since leaving office, Obama has remained active in Democratic politics, including campaigning for candidates in the 2018 midterm elections, appearing at the 2020 Democratic National Convention and campaigning for Biden during the 2020 presidential election. Outside of politics, Obama has published three bestselling books: Dreams from My Father (1995), The Audacity of Hope (2006) and A Promised Land (2020).\\n\\n\\n== Early life and career ==\\n\\nObama was born on August 4, 1961, at Kapiolani Medical Center for Women and Children in Honolulu, Hawaii. He is the only president born outside the contiguous 48 states. He was born to an American mother and a Kenyan father. His mother, Ann Dunham (1942–1995), was born in Wichita, Kansas and was mostly of English descent, though in 2007 it was discovered her great-great-grandfather Falmouth Kearney emigrated from the village of Moneygall, Ireland to the US in 1850. In July 2012, Ancestry.com found a strong likelihood that Dunham was descended from John Punch, an enslaved African man who lived in the Colony of Virginia during the seventeenth century. Obama\\'s father, Barack Obama Sr. (1934–1982), was a married Luo Kenyan from Nyang\\'oma Kogelo. Obama\\'s parents met in 1960 in a Russian language class at the University of Hawaii at Manoa, where his father was a foreign student on a scholarship. The couple married in Wailuku, Hawaii, on February 2, 1961, six months before Obama was born.In late August 1961, a few weeks after he was born, Barack and his mother moved to the University of Washington in Seattle, where they lived for a year. During that time, Barack\\'s father completed his undergraduate degree in economics in Hawaii, graduating in June 1962. He left to attend graduate school on a scholarship at Harvard University, where he earned an M.A. in economics. Obama\\'s parents divorced in March 1964. Obama Sr. returned to Kenya in 1964, where he married for a third time and worked for the Kenyan government as the Senior Economic Analyst in the Ministry of Finance. He visited his son in Hawaii only once, at Christmas 1971, before he was killed in an automobile accident in 1982, when Obama was 21 years old. Recalling his early childhood, Obama said: \"That my father looked nothing like the people around me—that he was black as pitch, my mother white as milk—barely registered in my mind.\" He described his struggles as a young adult to reconcile social perceptions of his multiracial heritage.In 1963, Dunham met Lolo Soetoro at the University of Hawaii; he was an Indonesian East–West Center graduate student in geography. The couple married on Molokai on March 15, 1965. After two one-year extensions of his J-1 visa, Lolo returned to Indonesia in 1966. His wife and stepson followed sixteen months later in 1967. The family initially lived in the Menteng Dalam neighborhood in the Tebet district of South Jakarta. From 1970, they lived in a wealthier neighborhood in the Menteng district of Central Jakarta.\\n\\n\\n=== Education ===\\n\\nAt the age of six, Obama and his mother had moved to Indonesia to join his stepfather. From age six to ten, he attended local Indonesian-language schools: Sekolah Dasar Katolik Santo Fransiskus Asisi (St. Francis of Assisi Catholic Elementary School) for two years and Sekolah Dasar Negeri Menteng 01 (State Elementary School Menteng 01) for one and a half years, supplemented by English-language Calvert School homeschooling by his mother. As a result of his four years in Jakarta, he was able to speak Indonesian fluently as a child. During his time in Indonesia, Obama\\'s stepfather taught him to be resilient and gave him \"a pretty hardheaded assessment of how the world works.\"In 1971, Obama returned to Honolulu to live with his maternal grandparents, Madelyn and Stanley Dunham. He attended Punahou School—a private college preparatory school—with the aid of a scholarship from fifth grade until he graduated from high school in 1979. In his youth, Obama went by the nickname \"Barry\". Obama lived with his mother and half-sister, Maya Soetoro, in Hawaii for three years from 1972 to 1975 while his mother was a graduate student in anthropology at the University of Hawaii. Obama chose to stay in Hawaii when his mother and half-sister returned to Indonesia in 1975, so his mother could begin anthropology field work. His mother spent most of the next two decades in Indonesia, divorcing Lolo in 1980 and earning a PhD degree in 1992, before dying in 1995 in Hawaii following unsuccessful treatment for ovarian and uterine cancer.Of his years in Honolulu, Obama wrote: \"The opportunity that Hawaii offered — to experience a variety of cultures in a climate of mutual respect — became an integral part of my world view, and a basis for the values that I hold most dear.\" Obama has also written and talked about using alcohol, marijuana, and cocaine during his teenage years to \"push questions of who I was out of my mind.\" Obama was also a member of the \"choom gang\", a self-named group of friends who spent time together and occasionally smoked marijuana.\\n\\n\\n==== College and research jobs ====\\nAfter graduating from high school in 1979, Obama moved to Los Angeles to attend Occidental College on a full scholarship. In February 1981, Obama made his first public speech, calling for Occidental to participate in the disinvestment from South Africa in response to that nation\\'s policy of apartheid. In mid-1981, Obama traveled to Indonesia to visit his mother and half-sister Maya, and visited the families of college friends in Pakistan for three weeks. Later in 1981, he transferred to Columbia University in New York City as a junior, where he majored in political science with a specialty in international relations and in English literature and lived off-campus on West 109th Street. He graduated with a Bachelor of Arts degree in 1983 and a 3.7 GPA. After graduating, Obama worked for about a year at the Business International Corporation, where he was a financial researcher and writer, then as a project coordinator for the New York Public Interest Research Group on the City College of New York campus for three months in 1985.\\n\\n\\n==== Community organizer and Harvard Law School ====\\nTwo years after graduating from Columbia, Obama moved from New York to Chicago when he was hired as director of the Developing Communities Project, a church-based community organization originally comprising eight Catholic parishes in Roseland, West Pullman, and Riverdale on Chicago\\'s South Side. He worked there as a community organizer from June 1985 to May 1988. He helped set up a job training program, a college preparatory tutoring program, and a tenants\\' rights organization in Altgeld Gardens. Obama also worked as a consultant and instructor for the Gamaliel Foundation, a community organizing institute. In mid-1988, he traveled for the first time in Europe for three weeks and then for five weeks in Kenya, where he met many of his paternal relatives for the first time.\\nDespite being offered a full scholarship to Northwestern University School of Law, Obama enrolled at Harvard Law School in the fall of 1988, living in nearby Somerville, Massachusetts. He was selected as an editor of the Harvard Law Review at the end of his first year, president of the journal in his second year, and research assistant to the constitutional scholar Laurence Tribe while at Harvard for two years. During his summers, he returned to Chicago, where he worked as a summer associate at the law firms of Sidley Austin in 1989 and Hopkins & Sutter in 1990. Obama\\'s election as the first black president of the Harvard Law Review gained national media attention and led to a publishing contract and advance for a book about race relations, which evolved into a personal memoir. The manuscript was published in mid-1995 as Dreams from My Father. Obama graduated from Harvard Law in 1991 with a Juris Doctor magna cum laude.\\n\\n\\n==== University of Chicago Law School ====\\nIn 1991, Obama accepted a two-year position as Visiting Law and Government Fellow at the University of Chicago Law School to work on his first book. He then taught constitutional law at the University of Chicago Law School for twelve years, first as a lecturer from 1992 to 1996, and then as a senior lecturer from 1996 to 2004.From April to October 1992, Obama directed Illinois\\'s Project Vote, a voter registration campaign with ten staffers and seven hundred volunteer registrars; it achieved its goal of registering 150,000 of 400,000 unregistered African Americans in the state, leading Crain\\'s Chicago Business to name Obama to its 1993 list of \"40 under Forty\" powers to be.\\n\\n\\n=== Family and personal life ===\\n\\nIn a 2006 interview, Obama highlighted the diversity of his extended family: \"It\\'s like a little mini-United Nations,\" he said. \"I\\'ve got relatives who look like Bernie Mac, and I\\'ve got relatives who look like Margaret Thatcher.\" Obama has a half-sister with whom he was raised (Maya Soetoro-Ng) and seven other half-siblings from his Kenyan father\\'s family—six of them living. Obama\\'s mother was survived by her Kansas-born mother, Madelyn Dunham, until her death on November 2, 2008, two days before his election to the presidency. Obama also has roots in Ireland; he met with his Irish cousins in Moneygall in May 2011. In Dreams from My Father, Obama ties his mother\\'s family history to possible Native American ancestors and distant relatives of Jefferson Davis, President of the Confederate States of America during the American Civil War. He also shares distant ancestors in common with George W. Bush and Dick Cheney, among others.Obama lived with anthropologist Sheila Miyoshi Jager while he was a community organizer in Chicago in the 1980s. He proposed to her twice, but both Jager and her parents turned him down. The relationship was not made public until May 2017, several months after his presidency had ended.\\n\\nIn June 1989, Obama met Michelle Robinson when he was employed as a summer associate at the Chicago law firm of Sidley Austin. Robinson was assigned for three months as Obama\\'s adviser at the firm, and she joined him at several group social functions but declined his initial requests to date. They began dating later that summer, became engaged in 1991, and were married on October 3, 1992. After suffering a miscarriage, Michelle underwent in vitro fertilization to conceive their children. The couple\\'s first daughter, Malia Ann, was born in 1998, followed by a second daughter, Natasha (\"Sasha\"), in 2001. The Obama daughters attended the University of Chicago Laboratory Schools. When they moved to Washington, D.C., in January 2009, the girls started at the Sidwell Friends School. The Obamas had two Portuguese Water Dogs; the first, a male named Bo, was a gift from Senator Ted Kennedy. In 2013, Bo was joined by Sunny, a female. Bo died of cancer on May 8, 2021.\\n\\nObama is a supporter of the Chicago White Sox, and he threw out the first pitch at the 2005 ALCS when he was still a senator. In 2009, he threw out the ceremonial first pitch at the All-Star Game while wearing a White Sox jacket. He is also primarily a Chicago Bears football fan in the NFL, but in his childhood and adolescence was a fan of the Pittsburgh Steelers, and rooted for them ahead of their victory in Super Bowl XLIII 12 days after he took office as president. In 2011, Obama invited the 1985 Chicago Bears to the White House; the team had not visited the White House after their Super Bowl win in 1986 due to the Space Shuttle Challenger disaster. He plays basketball, a sport he participated in as a member of his high school\\'s varsity team, and he is left-handed.In 2005, the Obama family applied the proceeds of a book deal and moved from a Hyde Park, Chicago condominium to a $1.6 million house (equivalent to $2.2 million in 2021) in neighboring Kenwood, Chicago. The purchase of an adjacent lot—and sale of part of it to Obama by the wife of developer, campaign donor and friend Tony Rezko—attracted media attention because of Rezko\\'s subsequent indictment and conviction on political corruption charges that were unrelated to Obama.In December 2007, Money Magazine estimated Obama\\'s net worth at $1.3 million (equivalent to $1.7 million in 2021). Their 2009 tax return showed a household income of $5.5 million—up from about $4.2 million in 2007 and $1.6 million in 2005—mostly from sales of his books. On his 2010 income of $1.7 million, he gave 14 percent to non-profit organizations, including $131,000 to Fisher House Foundation, a charity assisting wounded veterans\\' families, allowing them to reside near where the veteran is receiving medical treatments. Per his 2012 financial disclosure, Obama may be worth as much as $10 million.\\n\\n\\n=== Religious views ===\\nObama is a Protestant Christian whose religious views developed in his adult life. He wrote in The Audacity of Hope that he \"was not raised in a religious household.\" He described his mother, raised by non-religious parents, as being detached from religion, yet \"in many ways the most spiritually awakened person ... I have ever known\", and \"a lonely witness for secular humanism.\" He described his father as a \"confirmed atheist\" by the time his parents met, and his stepfather as \"a man who saw religion as not particularly useful.\" Obama explained how, through working with black churches as a community organizer while in his twenties, he came to understand \"the power of the African-American religious tradition to spur social change.\"\\n\\nIn January 2008, Obama told Christianity Today: \"I am a Christian, and I am a devout Christian. I believe in the redemptive death and resurrection of Jesus Christ. I believe that faith gives me a path to be cleansed of sin and have eternal life.\" On September 27, 2010, Obama released a statement commenting on his religious views, saying:\\n\\nI\\'m a Christian by choice. My family didn\\'t—frankly, they weren\\'t folks who went to church every week. And my mother was one of the most spiritual people I knew, but she didn\\'t raise me in the church. So I came to my Christian faith later in life, and it was because the precepts of Jesus Christ spoke to me in terms of the kind of life that I would want to lead—being my brothers\\' and sisters\\' keeper, treating others as they would treat me.\\nObama met Trinity United Church of Christ pastor Jeremiah Wright in October 1987 and became a member of Trinity in 1992. During Obama\\'s first presidential campaign in May 2008, he resigned from Trinity after some of Wright\\'s statements were criticized. Since moving to Washington, D.C., in 2009, the Obama family has attended several Protestant churches, including Shiloh Baptist Church and St. John\\'s Episcopal Church, as well as Evergreen Chapel at Camp David, but the members of the family do not attend church on a regular basis.In 2016, he said that he gets inspiration from a few items that remind him \"of all the different people I\\'ve met along the way\", adding: \"I carry these around all the time. I\\'m not that superstitious, so it\\'s not like I think I necessarily have to have them on me at all times.\" The items, \"a whole bowl full\", include rosary beads given to him by Pope Francis, a figurine of the Hindu deity Hanuman, a Coptic cross from Ethiopia, a small Buddha statue given by a monk, and a metal poker chip that used to be the lucky charm of a motorcyclist in Iowa.\\n\\n\\n== Legal career ==\\n\\n\\n=== Civil Rights attorney ===\\nHe joined Davis, Miner, Barnhill & Galland, a 13-attorney law firm specializing in civil rights litigation and neighborhood economic development, where he was an associate for three years from 1993 to 1996, then of counsel from 1996 to 2004. In 1994, he was listed as one of the lawyers in Buycks-Roberson v. Citibank Fed. Sav. Bank, 94 C 4094 (N.D. Ill.). This class action lawsuit was filed in 1994 with Selma Buycks-Roberson as lead plaintiff and alleged that Citibank Federal Savings Bank had engaged in practices forbidden under the Equal Credit Opportunity Act and the Fair Housing Act. The case was settled out of court. Final judgment was issued on May 13, 1998, with Citibank Federal Savings Bank agreeing to pay attorney fees.From 1994 to 2002, Obama served on the boards of directors of the Woods Fund of Chicago—which in 1985 had been the first foundation to fund the Developing Communities Project—and of the Joyce Foundation. He served on the board of directors of the Chicago Annenberg Challenge from 1995 to 2002, as founding president and chairman of the board of directors from 1995 to 1999. Obama\\'s law license became inactive in 2007.\\n\\n\\n== Legislative career ==\\n\\n\\n=== Illinois Senate (1997–2004) ===\\n\\nObama was elected to the Illinois Senate in 1996, succeeding Democratic State Senator Alice Palmer from Illinois\\'s 13th District, which, at that time, spanned Chicago South Side neighborhoods from Hyde Park–Kenwood south to South Shore and west to Chicago Lawn. Once elected, Obama gained bipartisan support for legislation that reformed ethics and health care laws. He sponsored a law that increased tax credits for low-income workers, negotiated welfare reform, and promoted increased subsidies for childcare. In 2001, as co-chairman of the bipartisan Joint Committee on Administrative Rules, Obama supported Republican Governor Ryan\\'s payday loan regulations and predatory mortgage lending regulations aimed at averting home foreclosures.He was reelected to the Illinois Senate in 1998, defeating Republican Yesse Yehudah in the general election, and was re-elected again in 2002. In 2000, he lost a Democratic primary race for Illinois\\'s 1st congressional district in the United States House of Representatives to four-term incumbent Bobby Rush by a margin of two to one.In January 2003, Obama became chairman of the Illinois Senate\\'s Health and Human Services Committee when Democrats, after a decade in the minority, regained a majority. He sponsored and led unanimous, bipartisan passage of legislation to monitor racial profiling by requiring police to record the race of drivers they detained, and legislation making Illinois the first state to mandate videotaping of homicide interrogations. During his 2004 general election campaign for the U.S. Senate, police representatives credited Obama for his active engagement with police organizations in enacting death penalty reforms. Obama resigned from the Illinois Senate in November 2004 following his election to the U.S. Senate.\\n\\n\\n=== 2004 U.S. Senate campaign ===\\n\\nIn May 2002, Obama commissioned a poll to assess his prospects in a 2004 U.S. Senate race. He created a campaign committee, began raising funds, and lined up political media consultant David Axelrod by August 2002. Obama formally announced his candidacy in January 2003.Obama was an early opponent of the George W. Bush administration\\'s 2003 invasion of Iraq. On October 2, 2002, the day President Bush and Congress agreed on the joint resolution authorizing the Iraq War, Obama addressed the first high-profile Chicago anti-Iraq War rally, and spoke out against the war. He addressed another anti-war rally in March 2003 and told the crowd \"it\\'s not too late\" to stop the war.Decisions by Republican incumbent Peter Fitzgerald and his Democratic predecessor Carol Moseley Braun to not participate in the election resulted in wide-open Democratic and Republican primary contests involving 15 candidates. In the March 2004 primary election, Obama won in an unexpected landslide—which overnight made him a rising star within the national Democratic Party, started speculation about a presidential future, and led to the reissue of his memoir, Dreams from My Father. In July 2004, Obama delivered the keynote address at the 2004 Democratic National Convention, seen by nine million viewers. His speech was well received and elevated his status within the Democratic Party.Obama\\'s expected opponent in the general election, Republican primary winner Jack Ryan, withdrew from the race in June 2004. Six weeks later, Alan Keyes accepted the Republican nomination to replace Ryan. In the November 2004 general election, Obama won with 70 percent of the vote, the largest margin of victory for a Senate candidate in Illinois history. He took 92 of the state\\'s 102 counties, including several where Democrats traditionally do not do well.\\n\\n\\n=== U.S. Senate (2005–2008) ===\\n\\nObama was sworn in as a senator on January 3, 2005, becoming the only Senate member of the Congressional Black Caucus. He introduced two initiatives that bore his name: Lugar–Obama, which expanded the Nunn–Lugar Cooperative Threat Reduction concept to conventional weapons; and the Federal Funding Accountability and Transparency Act of 2006, which authorized the establishment of USAspending.gov, a web search engine on federal spending. On June 3, 2008, Senator Obama—along with Senators Tom Carper, Tom Coburn, and John McCain—introduced follow-up legislation: Strengthening Transparency and Accountability in Federal Spending Act of 2008. He also cosponsored the Secure America and Orderly Immigration Act.In December 2006, President Bush signed into law the Democratic Republic of the Congo Relief, Security, and Democracy Promotion Act, marking the first federal legislation to be enacted with Obama as its primary sponsor. In January 2007, Obama and Senator Feingold introduced a corporate jet provision to the Honest Leadership and Open Government Act, which was signed into law in September 2007.\\n\\nLater in 2007, Obama sponsored an amendment to the Defense Authorization Act to add safeguards for personality-disorder military discharges. This amendment passed the full Senate in the spring of 2008. He sponsored the Iran Sanctions Enabling Act supporting divestment of state pension funds from Iran\\'s oil and gas industry, which was never enacted but later incorporated in the Comprehensive Iran Sanctions, Accountability, and Divestment Act of 2010; and co-sponsored legislation to reduce risks of nuclear terrorism. Obama also sponsored a Senate amendment to the State Children\\'s Health Insurance Program, providing one year of job protection for family members caring for soldiers with combat-related injuries.Obama held assignments on the Senate Committees for Foreign Relations, Environment and Public Works and Veterans\\' Affairs through December 2006. In January 2007, he left the Environment and Public Works committee and took additional assignments with Health, Education, Labor and Pensions and Homeland Security and Governmental Affairs. He also became Chairman of the Senate\\'s subcommittee on European Affairs. As a member of the Senate Foreign Relations Committee, Obama made official trips to Eastern Europe, the Middle East, Central Asia and Africa. He met with Mahmoud Abbas before Abbas became President of the Palestinian National Authority, and gave a speech at the University of Nairobi in which he condemned corruption within the Kenyan government.Obama resigned his Senate seat on November 16, 2008, to focus on his transition period for the presidency.\\n\\n\\n== Presidential campaigns ==\\n\\n\\n=== 2008 ===\\n\\nOn February 10, 2007, Obama announced his candidacy for President of the United States in front of the Old State Capitol building in Springfield, Illinois. The choice of the announcement site was viewed as symbolic because it was also where Abraham Lincoln delivered his historic \"House Divided\" speech in 1858. Obama emphasized issues of rapidly ending the Iraq War, increasing energy independence, and reforming the health care system, in a campaign that projected themes of hope and change.Numerous candidates entered the Democratic Party presidential primaries. The field narrowed to Obama and Senator Hillary Clinton after early contests, with the race remaining close throughout the primary process, but with Obama gaining a steady lead in pledged delegates due to better long-range planning, superior fundraising, dominant organizing in caucus states, and better exploitation of delegate allocation rules. \\nOn June 2, 2008, Obama had received enough votes to clinch his election. After an initial hesitation to concede, on June 7, Clinton ended her campaign and endorsed Obama.On August 23, 2008, Obama announced his selection of Delaware Senator Joe Biden as his vice presidential running mate. Obama selected Biden from a field speculated to include former Indiana Governor and Senator Evan Bayh and Virginia Governor Tim Kaine. At the Democratic National Convention in Denver, Colorado, Hillary Clinton called for her supporters to endorse Obama, and she and Bill Clinton gave convention speeches in his support. Obama delivered his acceptance speech at Invesco Field at Mile High stadium to a crowd of about eighty-four thousand; the speech was viewed by over three million people worldwide.During both the primary process and the general election, Obama\\'s campaign set numerous fundraising records, particularly in the quantity of small donations. On June 19, 2008, Obama became the first major-party presidential candidate to turn down public financing in the general election since the system was created in 1976.John McCain was nominated as the Republican candidate, and he selected Sarah Palin as his running mate. Obama and McCain engaged in three presidential debates in September and October 2008. On November 4, Obama won the presidency with 365 electoral votes to 173 received by McCain. Obama won 52.9 percent of the popular vote to McCain\\'s 45.7 percent. He became the first African-American to be elected president. Obama delivered his victory speech before hundreds of thousands of supporters in Chicago\\'s Grant Park. He is one of the three United States senators moved directly from the U.S. Senate to the White House, the others are Warren G. Harding and John F. Kennedy.\\n\\n\\n=== 2012 ===\\n\\nOn April 4, 2011, Obama filed election papers with the Federal Election Commission and then announced his reelection campaign for 2012 in a video titled \"It Begins with Us\" that he posted on his website. As the incumbent president, he ran virtually unopposed in the Democratic Party presidential primaries, and on April 3, 2012, Obama secured the 2778 convention delegates needed to win the Democratic nomination.At the Democratic National Convention in Charlotte, North Carolina, Obama and Joe Biden were formally nominated by former President Bill Clinton as the Democratic Party candidates for president and vice president in the general election. Their main opponents were Republicans Mitt Romney, the former governor of Massachusetts, and Representative Paul Ryan of Wisconsin.On November 6, 2012, Obama won 332 electoral votes, exceeding the 270 required for him to be reelected as president. With 51.1 percent of the popular vote, Obama became the first Democratic president since Franklin D. Roosevelt to win the majority of the popular vote twice. Obama addressed supporters and volunteers at Chicago\\'s McCormick Place after his reelection and said: \"Tonight you voted for action, not politics as usual. You elected us to focus on your jobs, not ours. And in the coming weeks and months, I am looking forward to reaching out and working with leaders of both parties.\"\\n\\n\\n== Presidency (2009–2017) ==\\n\\n\\n=== First 100 days ===\\n\\nThe inauguration of Barack Obama as the 44th president took place on January 20, 2009. In his first few days in office, Obama issued executive orders and presidential memoranda directing the U.S. military to develop plans to withdraw troops from Iraq. He ordered the closing of the Guantanamo Bay detention camp, but Congress prevented the closure by refusing to appropriate the required funds and preventing moving any Guantanamo detainee. Obama reduced the secrecy given to presidential records. He also revoked President George W. Bush\\'s restoration of President Ronald Reagan\\'s Mexico City policy which prohibited federal aid to international family planning organizations that perform or provide counseling about abortion.\\n\\n\\n=== Domestic policy ===\\n\\nThe first bill signed into law by Obama was the Lilly Ledbetter Fair Pay Act of 2009, relaxing the statute of limitations for equal-pay lawsuits. Five days later, he signed the reauthorization of the State Children\\'s Health Insurance Program to cover an additional four million uninsured children. In March 2009, Obama reversed a Bush-era policy that had limited funding of embryonic stem cell research and pledged to develop \"strict guidelines\" on the research.\\n\\nObama appointed two women to serve on the Supreme Court in the first two years of his presidency. He nominated Sonia Sotomayor on May 26, 2009, to replace retiring Associate Justice David Souter; she was confirmed on August 6, 2009, becoming the first Supreme Court Justice of Hispanic descent. Obama nominated Elena Kagan on May 10, 2010, to replace retiring Associate Justice John Paul Stevens. She was confirmed on August 5, 2010, bringing the number of women sitting simultaneously on the Court to three for the first time in American history.On March 11, 2009, Obama created the White House Council on Women and Girls, which formed part of the Office of Intergovernmental Affairs, having been established by Executive Order 13506 with a broad mandate to advise him on issues relating to the welfare of American women and girls. The council was chaired by Senior Advisor to the President Valerie Jarrett. Obama also established the White House Task Force to Protect Students from Sexual Assault through a government memorandum on January 22, 2014, with a broad mandate to advise him on issues relating to sexual assault on college and university campuses throughout the United States. The co-chairs of the Task Force were Vice President Joe Biden and Jarrett. The Task Force was a development out of the White House Council on Women and Girls and Office of the Vice President of the United States, and prior to that the 1994 Violence Against Women Act first drafted by Biden.In a major space policy speech in April 2010, Obama announced a planned change in direction at NASA, the U.S. space agency. He ended plans for a return of human spaceflight to the moon and development of the Ares I rocket, Ares V rocket and Constellation program, in favor of funding Earth science projects, a new rocket type, research and development for an eventual crewed mission to Mars, and ongoing missions to the International Space Station.\\n\\nOn January 16, 2013, one month after the Sandy Hook Elementary School shooting, Obama signed 23 executive orders and outlined a series of sweeping proposals regarding gun control. He urged Congress to reintroduce an expired ban on military-style assault weapons, such as those used in several recent mass shootings, impose limits on ammunition magazines to 10 rounds, introduce background checks on all gun sales, pass a ban on possession and sale of armor-piercing bullets, introduce harsher penalties for gun-traffickers, especially unlicensed dealers who buy arms for criminals and approving the appointment of the head of the federal Bureau of Alcohol, Tobacco, Firearms and Explosives for the first time since 2006. On January 5, 2016, Obama announced new executive actions extending background check requirements to more gun sellers. In a 2016 editorial in The New York Times, Obama compared the struggle for what he termed \"common-sense gun reform\" to women\\'s suffrage and other civil rights movements in American history.In 2011, Obama signed a four-year renewal of the Patriot Act. Following the 2013 global surveillance disclosures by whistleblower Edward Snowden, Obama condemned the leak as unpatriotic, but called for increased restrictions on the National Security Agency (NSA) to address violations of privacy. Obama continued and expanded surveillance programs set up by George W. Bush, while implementing some reforms. He supported legislation that would have limited the NSA\\'s ability to collect phone records in bulk under a single program and supported bringing more transparency to the Foreign Intelligence Surveillance Court (FISC).\\n\\n\\n==== Racial issues ====\\n\\nIn his speeches as president, Obama did not make more overt references to race relations than his predecessors, but according to one study, he implemented stronger policy action on behalf of African-Americans than any president since the Nixon era.Following Obama\\'s election, many pondered the existence of a \"postracial America.\" However, lingering racial tensions quickly became apparent, and many African-Americans expressed outrage over what they saw as an intense racial animosity directed at Obama. The acquittal of George Zimmerman following the killing of Trayvon Martin sparked national outrage, leading to Obama giving a speech in which he noted that \"Trayvon Martin could have been me 35 years ago.\" The shooting of Michael Brown in Ferguson, Missouri sparked a wave of protests. These and other events led to the birth of the Black Lives Matter movement, which campaigns against violence and systemic racism toward black people.  Though Obama entered office reluctant to talk about race, by 2014 he began openly discussing the disadvantages faced by many members of minority groups.Several incidents during Obama\\'s presidency generated disapproval from the African-American community and/or with law enforcement, and Obama sought to build trust between law enforcement officials and civil rights activists, with mixed results. Some in law enforcement criticized Obama\\'s condemnation of racial bias after incidents in which police action led to the death of African-American men, while some racial justice activists criticized Obama\\'s expressions of empathy for the police.  In a March 2016 Gallup poll, nearly one third of Americans said they worried \"a great deal\" about race relations, a higher figure than in any previous Gallup poll since 2001.\\n\\n\\n==== LGBT rights and same-sex marriage ====\\nOn October 8, 2009, Obama signed the Matthew Shepard and James Byrd Jr. Hate Crimes Prevention Act, a measure that expanded the 1969 United States federal hate-crime law to include crimes motivated by a victim\\'s actual or perceived gender, sexual orientation, gender identity, or disability. On October 30, 2009, Obama lifted the ban on travel to the United States by those infected with HIV. The lifting of the ban was celebrated by Immigration Equality. On December 22, 2010, Obama signed the Don\\'t Ask, Don\\'t Tell Repeal Act of 2010, which fulfilled a promise made in the 2008 presidential campaign to end the don\\'t ask, don\\'t tell policy of 1993 that had prevented gay and lesbian people from serving openly in the United States Armed Forces. In 2016, the Pentagon ended the policy that barred transgender people from serving openly in the military.\\n\\nAs a candidate for the Illinois state senate in 1996, Obama stated he favored legalizing same-sex marriage. During his Senate run in 2004, he said he supported civil unions and domestic partnerships for same-sex partners but opposed same-sex marriages. In 2008, he reaffirmed this position by stating \"I believe marriage is between a man and a woman. I am not in favor of gay marriage.\" On May 9, 2012, shortly after the official launch of his campaign for re-election as president, Obama said his views had evolved, and he publicly affirmed his personal support for the legalization of same-sex marriage, becoming the first sitting U.S. president to do so. During his second inaugural address on January 21, 2013, Obama became the first U.S. president in office to call for full equality for gay Americans, and the first to mention gay rights or the word \"gay\" in an inaugural address. In 2013, the Obama administration filed briefs that urged the Supreme Court to rule in favor of same-sex couples in the cases of Hollingsworth v. Perry (regarding same-sex marriage) and United States v. Windsor (regarding the Defense of Marriage Act).\\n\\n\\n==== Economic policy ====\\n\\nOn February 17, 2009, Obama signed the American Recovery and Reinvestment Act of 2009, a $787 billion (equivalent to $994 billion in 2021) economic stimulus package aimed at helping the economy recover from the deepening worldwide recession. The act includes increased federal spending for health care, infrastructure, education, various tax breaks and incentives, and direct assistance to individuals. In March 2009, Obama\\'s Treasury Secretary, Timothy Geithner, took further steps to manage the financial crisis, including introducing the Public–Private Investment Program for Legacy Assets, which contains provisions for buying up to $2 trillion in depreciated real estate assets.\\n\\nObama intervened in the troubled automotive industry in March 2009, renewing loans for General Motors (GM) and Chrysler to continue operations while reorganizing. Over the following months the White House set terms for both firms\\' bankruptcies, including the sale of Chrysler to Italian automaker Fiat and a reorganization of GM giving the U.S. government a temporary 60 percent equity stake in the company. In June 2009, dissatisfied with the pace of economic stimulus, Obama called on his cabinet to accelerate the investment. He signed into law the Car Allowance Rebate System, known colloquially as \"Cash for Clunkers\", which temporarily boosted the economy.The Bush and Obama administrations authorized spending and loan guarantees from the Federal Reserve and the Department of the Treasury. These guarantees totaled about $11.5 trillion, but only $3 trillion had been spent by the end of November 2009. On August 2, 2011, after a lengthy congressional debate over whether to raise the nation\\'s debt limit, Obama signed the bipartisan Budget Control Act of 2011. The legislation enforced limits on discretionary spending until 2021, established a procedure to increase the debt limit, created a Congressional Joint Select Committee on Deficit Reduction to propose further deficit reduction with a stated goal of achieving at least $1.5 trillion in budgetary savings over 10 years, and established automatic procedures for reducing spending by as much as $1.2 trillion if legislation originating with the new joint select committee did not achieve such savings. By passing the legislation, Congress was able to prevent a U.S. government default on its obligations.The unemployment rate rose in 2009, reaching a peak in October at 10.0 percent and averaging 10.0 percent in the fourth quarter. Following a decrease to 9.7 percent in the first quarter of 2010, the unemployment rate fell to 9.6 percent in the second quarter, where it remained for the rest of the year. Between February and December 2010, employment rose by 0.8 percent, which was less than the average of 1.9 percent experienced during comparable periods in the past four employment recoveries. By November 2012, the unemployment rate fell to 7.7 percent, decreasing to 6.7 percent in the last month of 2013. During 2014, the unemployment rate continued to decline, falling to 6.3 percent in the first quarter. GDP growth returned in the third quarter of 2009, expanding at a rate of 1.6 percent, followed by a 5.0 percent increase in the fourth quarter. Growth continued in 2010, posting an increase of 3.7 percent in the first quarter, with lesser gains throughout the rest of the year. In July 2010, the Federal Reserve noted that economic activity continued to increase, but its pace had slowed, and chairman Ben Bernanke said the economic outlook was \"unusually uncertain\". Overall, the economy expanded at a rate of 2.9 percent in 2010.\\n\\nThe Congressional Budget Office (CBO) and a broad range of economists credit Obama\\'s stimulus plan for economic growth. The CBO released a report stating that the stimulus bill increased employment by 1–2.1 million, while conceding that \"it is impossible to determine how many of the reported jobs would have existed in the absence of the stimulus package.\" Although an April 2010, survey of members of the National Association for Business Economics showed an increase in job creation (over a similar January survey) for the first time in two years, 73 percent of 68 respondents believed the stimulus bill has had no impact on employment. The economy of the United States has grown faster than the other original NATO members by a wider margin under President Obama than it has anytime since the end of World War II. The Organisation for Economic Co-operation and Development credits the much faster growth in the United States to the stimulus plan of the U.S. and the austerity measures in the European Union.Within a month of the 2010 midterm elections, Obama announced a compromise deal with the Congressional Republican leadership that included a temporary, two-year extension of the 2001 and 2003 income tax rates, a one-year payroll tax reduction, continuation of unemployment benefits, and a new rate and exemption amount for estate taxes. The compromise overcame opposition from some in both parties, and the resulting $858 billion (equivalent to $1.1 trillion in 2021) Tax Relief, Unemployment Insurance Reauthorization, and Job Creation Act of 2010 passed with bipartisan majorities in both houses of Congress before Obama signed it on December 17, 2010.In December 2013, Obama declared that growing income inequality is a \"defining challenge of our time\" and called on Congress to bolster the safety net and raise wages. This came on the heels of the nationwide strikes of fast-food workers and Pope Francis\\' criticism of inequality and trickle-down economics. Obama urged Congress to ratify a 12-nation free trade pact called the Trans-Pacific Partnership.\\n\\n\\n==== Environmental policy ====\\n\\nOn April 20, 2010, an explosion destroyed an offshore drilling rig at the Macondo Prospect in the Gulf of Mexico, causing a major sustained oil leak. Obama visited the Gulf, announced a federal investigation, and formed a bipartisan commission to recommend new safety standards, after a review by Secretary of the Interior Ken Salazar and concurrent Congressional hearings. He then announced a six-month moratorium on new deepwater drilling permits and leases, pending regulatory review. As multiple efforts by BP failed, some in the media and public expressed confusion and criticism over various aspects of the incident, and stated a desire for more involvement by Obama and the federal government. Prior to the oil spill, on March 31, 2010, Obama ended a ban on oil and gas drilling along the majority of the East Coast of the United States and along the coast of northern Alaska in an effort to win support for an energy and climate bill and to reduce foreign imports of oil and gas.In July 2013, Obama expressed reservations and said he \"would reject the Keystone XL pipeline if it increased carbon pollution [or] greenhouse emissions.\" On February 24, 2015, Obama vetoed a bill that would have authorized the pipeline. It was the third veto of Obama\\'s presidency and his first major veto.In December 2016, Obama permanently banned new offshore oil and gas drilling in most United States-owned waters in the Atlantic and Arctic Oceans using the 1953 Outer Continental Shelf Act.Obama emphasized the conservation of federal lands during his term in office. He used his power under the Antiquities Act to create 25 new national monuments during his presidency and expand four others, protecting a total of 553,000,000 acres (224,000,000 ha) of federal lands and waters, more than any other U.S. president.\\n\\n\\n==== Health care reform ====\\n\\nObama called for Congress to pass legislation reforming health care in the United States, a key campaign promise and a top legislative goal. He proposed an expansion of health insurance coverage to cover the uninsured, cap premium increases, and allow people to retain their coverage when they leave or change jobs. His proposal was to spend $900 billion over ten years and include a government insurance plan, also known as the public option, to compete with the corporate insurance sector as a main component to lowering costs and improving quality of health care. It would also make it illegal for insurers to drop sick people or deny them coverage for pre-existing conditions, and require every American to carry health coverage. The plan also includes medical spending cuts and taxes on insurance companies that offer expensive plans.\\n\\nOn July 14, 2009, House Democratic leaders introduced a 1,017-page plan for overhauling the U.S. health care system, which Obama wanted Congress to approve by the end of 2009. After public debate during the Congressional summer recess of 2009, Obama delivered a speech to a joint session of Congress on September 9 where he addressed concerns over the proposals. In March 2009, Obama lifted a ban on using federal funds for stem cell research.On November 7, 2009, a health care bill featuring the public option was passed in the House. On December 24, 2009, the Senate passed its own bill—without a public option—on a party-line vote of 60–39. On March 21, 2010, the Patient Protection and Affordable Care Act (ACA) passed by the Senate in December was passed in the House by a vote of 219 to 212. Obama signed the bill into law on March 23, 2010.The ACA includes health-related provisions, most of which took effect in 2014, including expanding Medicaid eligibility for people making up to 133 percent of the federal poverty level (FPL) starting in 2014, subsidizing insurance premiums for people making up to 400 percent of the FPL ($88,000 for family of four in 2010) so their maximum \"out-of-pocket\" payment for annual premiums will be from 2 percent to 9.5 percent of income, providing incentives for businesses to provide health care benefits, prohibiting denial of coverage and denial of claims based on pre-existing conditions, establishing health insurance exchanges, prohibiting annual coverage caps, and support for medical research. According to White House and CBO figures, the maximum share of income that enrollees would have to pay would vary depending on their income relative to the federal poverty level.\\n\\nThe costs of these provisions are offset by taxes, fees, and cost-saving measures, such as new Medicare taxes for those in high-income brackets, taxes on indoor tanning, cuts to the Medicare Advantage program in favor of traditional Medicare, and fees on medical devices and pharmaceutical companies; there is also a tax penalty for those who do not obtain health insurance, unless they are exempt due to low income or other reasons. In March 2010, the CBO estimated that the net effect of both laws will be a reduction in the federal deficit by $143 billion over the first decade.The law faced several legal challenges, primarily based on the argument that an individual mandate requiring Americans to buy health insurance was unconstitutional. On June 28, 2012, the Supreme Court ruled by a 5–4 vote in National Federation of Independent Business v. Sebelius that the mandate was constitutional under the U.S. Congress\\'s taxing authority. In Burwell v. Hobby Lobby the Court ruled that \"closely-held\" for-profit corporations could be exempt on religious grounds under the Religious Freedom Restoration Act from regulations adopted under the ACA that would have required them to pay for insurance that covered certain contraceptives. In June 2015, the Court ruled 6–3 in King v. Burwell that subsidies to help individuals and families purchase health insurance were authorized for those doing so on both the federal exchange and state exchanges, not only those purchasing plans \"established by the State\", as the statute reads.\\n\\n\\n=== Foreign policy ===\\n\\n \\nIn February and March 2009, Vice President Joe Biden and Secretary of State Hillary Clinton made separate overseas trips to announce a \"new era\" in U.S. foreign relations with Russia and Europe, using the terms \"break\" and \"reset\" to signal major changes from the policies of the preceding administration. Obama attempted to reach out to Arab leaders by granting his first interview to an Arab satellite TV network, Al Arabiya. On March 19, Obama continued his outreach to the Muslim world, releasing a New Year\\'s video message to the people and government of Iran. On June 4, 2009, Obama delivered a speech at Cairo University in Egypt calling for \"A New Beginning\" in relations between the Islamic world and the United States and promoting Middle East peace. On June 26, 2009, Obama condemned the Iranian government\\'s actions towards protesters following Iran\\'s 2009 presidential election.In 2011, Obama ordered a drone strike in Yemen which targeted and killed Anwar al-Awlaki. Awlaki was an American imam suspected of being an Al-Qaeda organizer and supporter. Awlaki became the first U.S. citizen to be targeted and killed by a U.S. drone strike without the rights of due process being afforded. The killing led to significant controversy. His teenage son and young daughter, also Americans, were later killed in separate US military actions, although they were not targeted specifically.\\nIn March 2015, Obama declared that he had authorized U.S. forces to provide logistical and intelligence support to the Saudis in their military intervention in Yemen, establishing a \"Joint Planning Cell\" with Saudi Arabia. In 2016, the Obama administration proposed a series of arms deals with Saudi Arabia worth $115 billion. Obama halted the sale of guided munition technology to Saudi Arabia after Saudi warplanes targeted a funeral in Yemen\\'s capital Sanaa, killing more than 140 people.\\n\\n\\n==== War in Iraq ====\\n\\nOn February 27, 2009, Obama announced that combat operations in Iraq would end within 18 months. The Obama administration scheduled the withdrawal of combat troops to be completed by August 2010, decreasing troop\\'s levels from 142,000 while leaving a transitional force of about 50,000 in Iraq until the end of 2011. On August 19, 2010, the last U.S. combat brigade exited Iraq. Remaining troops transitioned from combat operations to counter-terrorism and the training, equipping, and advising of Iraqi security forces. On August 31, 2010, Obama announced that the United States combat mission in Iraq was over. On October 21, 2011, President Obama announced that all U.S. troops would leave Iraq in time to be \"home for the holidays.\"\\n\\nIn June 2014, following the capture of Mosul by ISIS, Obama sent 275 troops to provide support and security for U.S. personnel and the U.S. Embassy in Baghdad. ISIS continued to gain ground and to commit widespread massacres and ethnic cleansing. In August 2014, during the Sinjar massacre, Obama ordered a campaign of U.S. airstrikes against ISIS. By the end of 2014, 3,100 American ground troops were committed to the conflict and 16,000 sorties were flown over the battlefield, primarily by U.S. Air Force and Navy pilots. In early 2015, with the addition of the \"Panther Brigade\" of the 82nd Airborne Division the number of U.S. ground troops in Iraq increased to 4,400, and by July American-led coalition air forces counted 44,000 sorties over the battlefield.\\n\\n\\n==== Afghanistan and Pakistan ====\\n\\nIn his election campaign, Obama called the war in Iraq a \"dangerous distraction\" and that emphasis should instead be put on the war in Afghanistan, the region he cites as being most likely where an attack against the United States could be launched again. Early in his presidency, Obama moved to bolster U.S. troop strength in Afghanistan. He announced an increase in U.S. troop levels to 17,000 military personnel in February 2009 to \"stabilize a deteriorating situation in Afghanistan\", an area he said had not received the \"strategic attention, direction and resources it urgently requires\". He replaced the military commander in Afghanistan, General David D. McKiernan, with former Special Forces commander Lt. Gen. Stanley A. McChrystal in May 2009, indicating that McChrystal\\'s Special Forces experience would facilitate the use of counterinsurgency tactics in the war. On December 1, 2009, Obama announced the deployment of an additional 30,000 military personnel to Afghanistan and proposed to begin troop withdrawals 18 months from that date; this took place in July 2011. David Petraeus replaced McChrystal in June 2010, after McChrystal\\'s staff criticized White House personnel in a magazine article. In February 2013, Obama said the U.S. military would reduce the troop level in Afghanistan from 68,000 to 34,000 U.S. troops by February 2014. In October 2015, the White House announced a plan to keep U.S. Forces in Afghanistan indefinitely in light of the deteriorating security situation.Regarding neighboring Pakistan, Obama called its tribal border region the \"greatest threat\" to the security of Afghanistan and Americans, saying that he \"cannot tolerate a terrorist sanctuary.\" In the same speech, Obama claimed that the U.S. \"cannot succeed in Afghanistan or secure our homeland unless we change our Pakistan policy\".\\n\\n\\n===== Death of Osama bin Laden =====\\n\\nStarting with information received from Central Intelligence Agency operatives in July 2010, the CIA developed intelligence over the next several months that determined what they believed to be the hideout of Osama bin Laden. He was living in seclusion in a large compound in Abbottabad, Pakistan, a suburban area 35 miles (56 km) from Islamabad. CIA head Leon Panetta reported this intelligence to President Obama in March 2011. Meeting with his national security advisers over the course of the next six weeks, Obama rejected a plan to bomb the compound, and authorized a \"surgical raid\" to be conducted by United States Navy SEALs. The operation took place on May 1, 2011, and resulted in the shooting death of bin Laden and the seizure of papers, computer drives and disks from the compound. DNA testing was one of five methods used to positively identify bin Laden\\'s corpse, which was buried at sea several hours later. Within minutes of the President\\'s announcement from Washington, DC, late in the evening on May 1, there were spontaneous celebrations around the country as crowds gathered outside the White House, and at New York City\\'s Ground Zero and Times Square. Reaction to the announcement was positive across party lines, including from former presidents Bill Clinton and George W. Bush.\\n\\n\\n==== Relations with Cuba ====\\n\\nSince the spring of 2013, secret meetings were conducted between the United States and Cuba in the neutral locations of Canada and Vatican City. The Vatican first became involved in 2013 when Pope Francis advised the U.S. and Cuba to exchange prisoners as a gesture of goodwill. On December 10, 2013, Cuban President Raúl Castro, in a significant public moment, greeted and shook hands with Obama at the Nelson Mandela memorial service in Johannesburg.In December 2014, after the secret meetings, it was announced that Obama, with Pope Francis as an intermediary, had negotiated a restoration of relations with Cuba, after nearly sixty years of détente. Popularly dubbed the Cuban Thaw, The New Republic deemed the Cuban Thaw to be \"Obama\\'s finest foreign policy achievement.\" On July 1, 2015, President Obama announced that formal diplomatic relations between Cuba and the United States would resume, and embassies would be opened in Washington and Havana. The countries\\' respective \"interests sections\" in one another\\'s capitals were upgraded to embassies on July 20 and August 13, 2015, respectively. Obama visited Havana, Cuba for two days in March 2016, becoming the first sitting U.S. president to arrive since Calvin Coolidge in 1928.\\n\\n\\n==== Israel ====\\n\\nDuring the initial years of the Obama administration, the U.S. increased military cooperation with Israel, including increased military aid, re-establishment of the U.S.-Israeli Joint Political Military Group and the Defense Policy Advisory Group, and an increase in visits among high-level military officials of both countries. The Obama administration asked Congress to allocate money toward funding the Iron Dome program in response to the waves of Palestinian rocket attacks on Israel. In March 2010, Obama took a public stance against plans by the government of Israeli Prime Minister Benjamin Netanyahu to continue building Jewish housing projects in predominantly Arab neighborhoods of East Jerusalem. In 2011, the United States vetoed a Security Council resolution condemning Israeli settlements, with the United States being the only nation to do so. Obama supports the two-state solution to the Arab–Israeli conflict based on the 1967 borders with land swaps.In 2013, Jeffrey Goldberg reported that, in Obama\\'s view, \"with each new settlement announcement, Netanyahu is moving his country down a path toward near-total isolation.\" In 2014, Obama likened the Zionist movement to the civil rights movement in the United States. He said both movements seek to bring justice and equal rights to historically persecuted peoples, explaining: \"To me, being pro-Israel and pro-Jewish is part and parcel with the values that I\\'ve been fighting for since I was politically conscious and started getting involved in politics.\" Obama expressed support for Israel\\'s right to defend itself during the 2014 Israel–Gaza conflict. In 2015, Obama was harshly criticized by Israel for advocating and signing the Iran Nuclear Deal; Israeli Prime Minister Benjamin Netanyahu, who had advocated the U.S. congress to oppose it, said the deal was \"dangerous\" and \"bad\".On December 23, 2016, under the Obama Administration, the United States abstained from United Nations Security Council Resolution 2334, which condemned Israeli settlement building in the occupied Palestinian territories as a violation of international law, effectively allowing it to pass. Netanyahu strongly criticized the Obama administration\\'s actions, and the Israeli government withdrew its annual dues from the organization, which totaled $6 million, on January 6, 2017. On January 5, 2017, the United States House of Representatives voted 342–80 to condemn the UN Resolution.\\n\\n\\n==== Libya ====\\n\\nIn February 2011, protests in Libya began against long-time dictator Muammar Gaddafi as part of the Arab Spring. They soon turned violent. In March, as forces loyal to Gaddafi advanced on rebels across Libya, calls for a no-fly zone came from around the world, including Europe, the Arab League, and a resolution passed unanimously by the U.S. Senate. In response to the unanimous passage of United Nations Security Council Resolution 1973 on March 17, Gaddafi—who had previously vowed to \"show no mercy\" to the rebels of Benghazi—announced an immediate cessation of military activities.The next day, on Obama\\'s orders, the U.S. military took part in air strikes to destroy the Libyan government\\'s air defense capabilities to protect civilians and enforce a no-fly-zone, including the use of Tomahawk missiles, B-2 Spirits, and fighter jets. Six days later, on March 25, by unanimous vote of all its 28 members, NATO took over leadership of the effort, dubbed Operation Unified Protector. Some Representatives questioned whether Obama had the constitutional authority to order military action in addition to questioning its cost, structure and aftermath. Obama later expressed regret for playing a leading role in the destabilization of Libya, calling the certain situation there \"a mess.\" He has stated that the lack of preparation surrounding the days following the government\\'s overthrow was the \"worst mistake\" of his presidency.\\n\\n\\n==== Syrian civil war ====\\n\\nOn August 18, 2011, several months after the start of the Syrian Civil War, Obama issued a written statement that said: \"The time has come for President Assad to step aside.\" This stance was reaffirmed in November 2015. In 2012, Obama authorized multiple programs run by the CIA and the Pentagon to train anti-Assad rebels. The Pentagon-run program was later found to have failed and was formally abandoned in October 2015.In the wake of a chemical weapons attack in Syria, formally blamed by the Obama administration on the Assad government, Obama chose not to enforce the \"red line\" he had pledged and, rather than authorize the promised military action against Assad, went along with the Russia-brokered deal that led to Assad giving up chemical weapons; however attacks with chlorine gas continued. In 2014, Obama authorized an air campaign aimed primarily at ISIL.\\n\\n\\n==== Iran nuclear talks ====\\n\\nOn October 1, 2009, the Obama administration went ahead with a Bush administration program, increasing nuclear weapons production. The \"Complex Modernization\" initiative expanded two existing nuclear sites to produce new bomb parts. The administration built new plutonium pits at the Los Alamos lab in New Mexico and expanded enriched uranium processing at the Y-12 facility in Oak Ridge, Tennessee. In November 2013, the Obama administration opened negotiations with Iran to prevent it from acquiring nuclear weapons, which included an interim agreement. Negotiations took two years with numerous delays, with a deal being announced on July 14, 2015. The deal titled the \"Joint Comprehensive Plan of Action\" saw sanctions removed in exchange for measures that would prevent Iran from producing nuclear weapons. While Obama hailed the agreement as being a step towards a more hopeful world, the deal drew strong criticism from Republican and conservative quarters, and from Israeli Prime Minister Benjamin Netanyahu. In addition, the transfer of $1.7 billion in cash to Iran shortly after the deal was announced was criticized by the Republican party. The Obama administration said that the payment in cash was because of the \"effectiveness of U.S. and international sanctions.\" In order to advance the deal, the Obama administration shielded Hezbollah from the Drug Enforcement Administration\\'s Project Cassandra investigation regarding drug smuggling and from the Central Intelligence Agency.\\nOn a side note, the very same year, in December 2015, Obama started a $348 billion worth program to back the biggest U.S. buildup of nuclear arms since Ronald Reagan left the White House.\\n\\n\\n==== Russia ====\\n\\nIn March 2010, an agreement was reached with the administration of Russian President Dmitry Medvedev to replace the 1991 Strategic Arms Reduction Treaty with a new pact reducing the number of long-range nuclear weapons in the arsenals of both countries by about a third. Obama and Medvedev signed the New START treaty in April 2010, and the U.S. Senate ratified it in December 2010. In December 2011, Obama instructed agencies to consider LGBT rights when issuing financial aid to foreign countries. In August 2013, he criticized Russia\\'s law that discriminates against gays, but he stopped short of advocating a boycott of the upcoming 2014 Winter Olympics in Sochi, Russia.After Russia\\'s invasion of Crimea in 2014, military intervention in Syria in 2015, and the interference in the 2016 U.S. presidential election, Obama\\'s Russia policy was widely seen as a failure. George Robertson, a former UK defense secretary and NATO secretary-general, said Obama had \"allowed Putin to jump back on the world stage and test the resolve of the West\", adding that the legacy of this disaster would last.\\n\\n\\n=== Cultural and political image ===\\n\\nObama\\'s family history, upbringing, and Ivy League education differ markedly from those of African-American politicians who launched their careers in the 1960s through participation in the civil rights movement. Expressing puzzlement over questions about whether he is \"black enough\", Obama told an August 2007 meeting of the National Association of Black Journalists that \"we\\'re still locked in this notion that if you appeal to white folks then there must be something wrong.\" Obama acknowledged his youthful image in an October 2007 campaign speech, saying: \"I wouldn\\'t be here if, time and again, the torch had not been passed to a new generation.\" Additionally, Obama is frequently referred to as an exceptional orator. During his pre-inauguration transition period and continuing into his presidency, Obama delivered a series of weekly Internet video addresses.\\n\\nAccording to the Gallup Organization, Obama began his presidency with a 68 percent approval rating before gradually declining for the rest of the year, and eventually bottoming out at 41 percent in August 2010, a trend similar to Ronald Reagan\\'s and Bill Clinton\\'s first years in office. He experienced a small poll bounce shortly after the death of Osama bin Laden on May 2, 2011. This bounce lasted until around June 2011, when his approval numbers dropped back to where they were previously. His approval ratings rebounded around the same time as his reelection in 2012, with polls showing an average job approval of 52 percent shortly after his second inauguration. Despite approval ratings dropping to 39 percent in late-2013 due to the ACA roll-out, they climbed to 50 percent in January 2015 according to Gallup.Polls showed strong support for Obama in other countries both before and during his presidency. In a February 2009 poll conducted in Western Europe and the U.S. by Harris Interactive for France 24 and the International Herald Tribune, Obama was rated as the most respected world leader, as well as the most powerful. In a similar poll conducted by Harris in May 2009, Obama was rated as the most popular world leader, as well as the one figure most people would pin their hopes on for pulling the world out of the economic downturn.\\n\\nOn October 9, 2009, the Norwegian Nobel Committee announced that Obama had won the 2009 Nobel Peace Prize \"for his extraordinary efforts to strengthen international diplomacy and cooperation between peoples,\" which drew a mixture of praise and criticism from world leaders and media figures. He became the fourth U.S. president to be awarded the Nobel Peace Prize, and the third to become a Nobel laureate while in office.\\n\\n\\n==== Racism towards Obama ====\\n\\nObama\\'s election was also met with hostile reactions connected to his race, birthplace, and religion, and as president, he faced numerous taunts, racial innuendos and generally racialized criticisms by some conservative pundits. Donald Trump – who would later succeed Obama as president – promoted conspiracy theories that Obama had been born in Kenya; an April 2011 CNN poll taken shortly before Obama released his long-form birth certificate found that 40% of Republicans believed that Obama had been born in Kenya. Many of these \"birthers\" argued that because Obama was (allegedly) not a citizen, he was not eligible to serve as president under the natural-born-citizen requirements of the Constitution. Despite Obama\\'s release of his long-form birth certificate, which affirmed that Obama was born in Hawaii, a 2015 CNN poll found that 20% of Americans believed that Obama was born outside of the country. Many also claimed that Obama practiced Islam, and a 2015 CNN poll found that 29% of Americans and 43% of Republicans believed Obama to be a Muslim. Even prior to his election as president, Obama had clarified that he was a long-time member of a church affiliated with the United Church of Christ, a mainline Protestant denomination.\\n\\n\\n== Post-presidency (2017–present) ==\\n\\nObama\\'s presidency ended on January 20, 2017, upon the inauguration of his successor, Donald Trump. The family currently rents a house in Kalorama, Washington, D.C. On March 2, 2017, the John F. Kennedy Presidential Library and Museum awarded the Profile in Courage Award to Obama \"for his enduring commitment to democratic ideals and elevating the standard of political courage.\" His first public appearance since leaving the office was a seminar at the University of Chicago on April 24, where he appealed for a new generation to participate in politics.\\n When Trump announced his withdrawal of the United States from the Paris Agreement on June 1, Obama released a statement disagreeing with the choice. After Senate Republicans revealed the Better Care Reconciliation Act of 2017, their discussion draft of a health care bill to replace the Affordable Care Act, Obama released a Facebook post on June 22 calling the bill \"a massive transfer of wealth from middle-class and poor families to the richest people in America.\" On September 19, while delivering the keynote address at Goalkeepers, Obama admitted his frustration with Republicans backing \"a bill that will raise costs, reduce coverage, and roll back protections for older Americans and people with pre-existing conditions.\" After Attorney General Jeff Sessions announced the termination of the Deferred Action for Childhood Arrivals (DACA) program on September 5, Obama released a Facebook post criticizing the decision. Two days later, Obama partnered with former presidents Jimmy Carter, George H. W. Bush, Bill Clinton, and George W. Bush to work with One America Appeal to help the victims of Hurricane Harvey and Hurricane Irma in the Gulf Coast and Texas communities.Obama hosted the inaugural summit of the Obama Foundation in Chicago from October 31 to November 1, 2017. He intends for the foundation to be the central focus of his post-presidency and part of his ambitions for his subsequent activities following his presidency to be more consequential than his time in office.In May 2018, Obama criticized President Trump\\'s decision to withdraw from the nuclear deal with Iran under the Joint Comprehensive Plan of Action saying \"the deal was working and it was in U.S. interests.\" Barack and Michelle Obama signed a deal on May 22, 2018, to produce docu-series, documentaries and features for Netflix under the Obamas\\' newly formed production company, Higher Ground Productions. Higher Ground\\'s first film, American Factory, won the Academy Award for Best Documentary Feature in 2020.\\n\\nHe received a 63% approval rating in Gallup\\'s 2018 job approval poll for the past 10 U.S. presidents.A pipe bomb addressed to Obama was intercepted by the Secret Service on October 24, 2018. It was one of several pipe-bombs that had been mailed out to Democratic lawmakers and officials.In 2019, Barack and Michelle Obama bought a home on Martha\\'s Vineyard from Wyc Grousbeck. On October 29, 2019, Obama criticized \"wokeness\" and call-out culture at the Obama Foundation\\'s annual summit.Obama was reluctant to make an endorsement in the 2020 Democratic presidential primaries because he wanted to position himself to unify the party, no matter who the nominee was. On April 14, 2020, Obama endorsed his former vice president Joe Biden, the presumptive Democratic nominee, for president in the 2020 election, stating that he has \"all the qualities we need in a president right now.\" In May 2020, Obama criticized President Trump for his handling of the COVID-19 pandemic, calling his response to the crisis \"an absolute chaotic disaster\", and stating that the consequences of the Trump presidency have been \"our worst impulses unleashed, our proud reputation around the world badly diminished, and our democratic institutions threatened like never before.\" Trump retaliated by accusing Obama of having committed \"the biggest political crime in American history\", although he refused to say what he was talking about, telling reporters: \"You know what the crime is, the crime is very obvious to everybody.\"Obama wrote a presidential memoir, in a $65 million deal with Penguin Random House. The book, A Promised Land, was released on November 17, 2020.In February 2021, Obama and musician Bruce Springsteen started a podcast called Renegades: Born in the USA where the two talk about \"their backgrounds, music and their \\'enduring love of America.\\'\" In late 2021, Regina Hicks had signed a deal with Netflix, in a venture with his and Michelle\\'s Higher Ground to develop comedy projects. On March 4, 2022, Obama won an Audio Publishers Association (APA) Award in the best narration by the author category for the narration of his memoir A Promised Land.On April 5, 2022, Obama visited the White House for the first time since leaving office, in an event celebrating the 12th annual anniversary of the signing of the Affordable Care Act.In 2022, he narrated the Netflix documentary series Our Great National Parks, which later won him a Primetime Emmy Award for Outstanding Narrator.In June of 2022, it was announced that the Obamas and their podcast production company, Higher Ground, signed a multi-year deal with Audible. The move followed Higher Ground\\'s exit from Spotify, where the company previously had a multi-year deal to create podcasts exclusively for the platform.\\n\\n\\n== Legacy ==\\n\\nObama\\'s most significant accomplishment is generally considered to be the Affordable Care Act (ACA), provisions of which went into effect from 2010 to 2020. Many attempts by Senate Republicans to repeal the ACA, including a \"skinny repeal\", have thus far failed. However, in 2017, the penalty for violating the individual mandate was repealed effective 2019. Together with the Health Care and Education Reconciliation Act amendment, it represents the U.S. healthcare system\\'s most significant regulatory overhaul and expansion of coverage since the passage of Medicare and Medicaid in 1965.Many commentators credit Obama with averting a threatened depression and pulling the economy back from the Great Recession. According to the U.S. Bureau of Labor Statistics, the Obama administration created 11.3 million jobs from the month after his first inauguration to the end of his term. In 2010, Obama signed into effect the Dodd–Frank Wall Street Reform and Consumer Protection Act. Passed as a response to the financial crisis of 2007–08, it brought the most significant changes to financial regulation in the United States since the regulatory reform that followed the Great Depression under Democratic President Franklin D. Roosevelt.In 2009, Obama signed into law the National Defense Authorization Act for Fiscal Year 2010, which contained in it the Matthew Shepard and James Byrd Jr. Hate Crimes Prevention Act, the first addition to existing federal hate crime law in the United States since Democratic President Bill Clinton signed into law the Church Arson Prevention Act of 1996. The Matthew Shepard and James Byrd Jr. Hate Crimes Prevention Act expanded existing federal hate crime laws in the United States to apply to crimes motivated by a victim\\'s actual or perceived gender, sexual orientation, gender identity, or disability, and dropped the prerequisite that the victim be engaged in a federally protected activity.As president, Obama advanced LGBT rights. In 2010, he signed the Don\\'t Ask, Don\\'t Tell Repeal Act, which brought an end to \"don\\'t ask, don\\'t tell\" policy in the U.S. armed forces that banned open service from LGB people; the law went into effect the following year. In 2016, his administration brought an end to the ban on transgender people serving openly in the U.S. armed forces. A Gallup poll, taken in the final days of Obama\\'s term, showed that 68 percent of Americans believed the U.S. had made progress on LGBT rights during Obama\\'s eight years in office.Obama substantially escalated the use of drone strikes against suspected militants and terrorists associated with al-Qaeda and the Taliban. In 2016, the last year of his presidency, the U.S. dropped 26,171 bombs on seven different countries. Obama left about 8,400 U.S. troops in Afghanistan, 5,262 in Iraq, 503 in Syria, 133 in Pakistan, 106 in Somalia, seven in Yemen, and two in Libya at the end of his presidency.According to Pew Research Center and United States Bureau of Justice Statistics, from December 31, 2009, to December 31, 2015, inmates sentenced in U.S. federal custody declined by five percent. This is the largest decline in sentenced inmates in U.S. federal custody since Democratic President Jimmy Carter. By contrast, the federal prison population increased significantly under presidents Ronald Reagan, George H. W. Bush, Bill Clinton, and George W. Bush.According to Julian Zelizer\\'s The Presidency of Barack Obama, under Obama\\'s presidency, the \"Democrats lost more than one thousand seats in state legislatures, governors\\' mansions, and Congress during his time in office.\" adding that Obama \"turned out to be a very effective policymaker but not a tremendously successful party builder.\"During Obama\\'s presidency, a record 3.2 million people were deported from the United States. His record deportations earned Obama the nickname \"Deporter in Chief\". In February 2020, Biden called the deportation of hundreds of thousands of people without criminal records under the Obama administration a \"big mistake\".Human Rights Watch (HRW) called Obama\\'s human rights record \"mixed\", adding that \"he has often treated human rights as a secondary interest — nice to support when the cost was not too high, but nothing like a top priority he championed.\"Obama left office in January 2017 with a 60 percent approval rating. A 2018 survey of historians by the American Political Science Association ranked Obama the 8th-greatest American president. Obama gained 10 spots from the same survey in 2015 from the Brookings Institution that ranked him the 18th-greatest American president.\\n\\n\\n=== Presidential library ===\\n\\nThe Barack Obama Presidential Center is Obama\\'s planned presidential library. It will be hosted by the University of Chicago and located in Jackson Park on the South Side of Chicago.\\n\\n\\n== Bibliography ==\\n\\n\\n== See also ==\\n\\n\\n=== Politics ===\\nDREAM Act\\nFraud Enforcement and Recovery Act of 2009\\nImmigration Reform and Control Act of 1986\\nIRS targeting controversy\\nMiddle Class Tax Relief and Job Creation Act of 2012\\nNational Broadband Plan (United States)\\nOffice of Energy Efficiency and Renewable Energy\\nSocial policy of the Barack Obama administration\\nSPEECH Act\\nStay with It\\nWhite House Office of Energy and Climate Change Policy\\n\\n\\n=== Other ===\\nRoberts Court\\nSpeeches of Barack Obama\\n\\n\\n=== Lists ===\\nAssassination threats against Barack Obama\\nList of African-American United States senators\\nList of Barack Obama 2008 presidential campaign endorsements\\nList of Barack Obama 2012 presidential campaign endorsements\\nList of federal political scandals, 2009–17\\nList of people granted executive clemency by Barack Obama\\nList of things named after Barack Obama\\n\\n\\n== References ==\\n\\n\\n=== Works cited ===\\n\\n\\n== Further reading ==\\n\\n\\n== External links ==\\n\\n\\n=== Official ===\\nOfficial website of The Obama Foundation\\nOfficial website of the Barack Obama Presidential Library\\nOfficial website of Organizing for Action\\nWhite House biography\\n\\n\\n=== Other ===\\nColumn archive at The Huffington Post\\nBarack Obama at Curlie\\n\\nUnited States Congress. \"Barack Obama (id: O000167)\". Biographical Directory of the United States Congress.\\nAppearances on C-SPAN\\nBarack Obama at IMDb\\nBarack Obama collected news and commentary at The New York Times\\nBarack Obama articles in the archive of the Chicago Tribune\\nWorks by Barack Obama at Project Gutenberg\\nWorks by or about Barack Obama at Internet Archive\\nWorks by Barack Obama at LibriVox (public domain audiobooks) \\nBarack Obama on Nobelprize.org \\nBarack Obama at Politifact\\nBarack Obama on Twitter'"
      ]
     },
     "execution_count": 15,
     "metadata": {},
     "output_type": "execute_result"
    }
   ],
   "source": [
    "bo.content"
   ]
  },
  {
   "cell_type": "markdown",
   "id": "8c95d7ea",
   "metadata": {},
   "source": [
    "Getting the images of the page:"
   ]
  },
  {
   "cell_type": "code",
   "execution_count": 17,
   "id": "e5672abf",
   "metadata": {},
   "outputs": [
    {
     "data": {
      "text/plain": [
       "['https://upload.wikimedia.org/wikipedia/commons/3/34/2004_United_States_Senate_election_in_Illinois_results_map_by_county.svg',\n",
       " 'https://upload.wikimedia.org/wikipedia/commons/a/a5/20090124_WeeklyAddress.ogv',\n",
       " 'https://upload.wikimedia.org/wikipedia/commons/d/da/210120-D-WD757-1249_%2850861341397%29.jpg',\n",
       " 'https://upload.wikimedia.org/wikipedia/commons/2/2b/58th_Presidential_Inaugural_Ceremony_170120-D-BP749-1327.jpg',\n",
       " 'https://upload.wikimedia.org/wikipedia/commons/1/17/Balance%2C_by_David.svg']"
      ]
     },
     "execution_count": 17,
     "metadata": {},
     "output_type": "execute_result"
    }
   ],
   "source": [
    "bo.images[0:5]"
   ]
  },
  {
   "cell_type": "markdown",
   "id": "0a7853f8",
   "metadata": {},
   "source": [
    "Getting the links in the page:"
   ]
  },
  {
   "cell_type": "code",
   "execution_count": 18,
   "id": "848ef619",
   "metadata": {},
   "outputs": [
    {
     "data": {
      "text/plain": [
       "['109th United States Congress',\n",
       " '110th United States Congress',\n",
       " '14th Dalai Lama',\n",
       " '1828 United States presidential election',\n",
       " '1832 Democratic National Convention',\n",
       " '1835 Democratic National Convention',\n",
       " '1840 Democratic National Convention',\n",
       " '1844 Democratic National Convention',\n",
       " '1848 Democratic National Convention',\n",
       " '1852 Democratic National Convention']"
      ]
     },
     "execution_count": 18,
     "metadata": {},
     "output_type": "execute_result"
    }
   ],
   "source": [
    "bo.links[:10]"
   ]
  },
  {
   "cell_type": "markdown",
   "id": "a738f891",
   "metadata": {},
   "source": [
    "To change the language of the Wikipedia you are accessing, use wikipedia.set_lang. Remember to search for page titles in the language that you have set, not English:"
   ]
  },
  {
   "cell_type": "code",
   "execution_count": null,
   "id": "bf8edbe1",
   "metadata": {},
   "outputs": [],
   "source": [
    "wikipedia.set_lang(\"fr\")"
   ]
  },
  {
   "cell_type": "code",
   "execution_count": 20,
   "id": "b5b4d72e",
   "metadata": {},
   "outputs": [
    {
     "data": {
      "text/plain": [
       "\"François Gérard Georges Nicolas Hollande (French: [fʁɑ̃swa ʒeʁaʁ ʒɔʁʒ nikɔla ɔlɑ̃d] (listen); born 12 August 1954) is a French politician who served as President of France from 2012 to 2017. He previously was First Secretary of the Socialist Party (PS) from 1997 to 2008, Mayor of Tulle from 2001 to 2008, and President of the General Council of Corrèze from 2008 to 2012. Hollande also served in the National Assembly twice for the 1st constituency of Corrèze from 1988 to 1993, and again from 1997 until 2012.\\nBorn in Rouen and raised in Neuilly-sur-Seine, Hollande began his political career as a special advisor to newly elected President François Mitterrand, before serving as a staffer for Max Gallo, the government's spokesman. He became a member of the National Assembly in 1988 and was elected First Secretary of the PS in 1997. Following the 2004 regional elections won by the PS, Hollande was cited as a potential presidential candidate, but he resigned as First Secretary and was immediately elected to replace Jean-Pierre Dupont as President of the General Council of Corrèze in 2008. In 2011, Hollande announced that he would be a candidate in the primary election to select the PS presidential nominee; he won the nomination against Martine Aubry, and was elected to the presidency on 6 May 2012 during the second round with 51.6% of the vote, defeating incumbent Nicolas Sarkozy.\\nDuring his tenure, Hollande legalised same-sex marriage by passing Bill no. 344, reformed labour laws and credit training programmes, withdrew combat troops present in the Afghanistan military intervention, and concluded an EU directive on the protection of animals in laboratory research through a Franco-German contract. Hollande led the country through the January and November 2015 Paris attacks, as well as the 2016 Nice truck attack. He was a leading proponent of EU mandatory migrant quotas and NATO's 2011 military intervention in Libya. He also sent troops to Mali and the Central African Republic with the approval of the UN Security Council in order to stabilise those countries, two operations largely seen as failures. Hollande drew controversy among his left-wing electoral base for his support of the Saudi Arabian-led intervention in Yemen.Paris hosted the 2015 United Nations Climate Change Conference and Hollande's efforts to attract the 2024 Summer Olympics to the city were successful. Notwithstanding, with unemployment up to 10% and domestic troubles, in particular over his tenure due to terrorism, he faced spikes and downturns in approval rates, ultimately making him the most unpopular head of state under the Fifth Republic. On 1 December 2016, he announced he would not seek reelection in the 2017 presidential election, for which polls suggested his defeat in the first round.\\n\\n\""
      ]
     },
     "execution_count": 20,
     "metadata": {},
     "output_type": "execute_result"
    }
   ],
   "source": [
    "wikipedia.summary(\"Francois Hollande\")"
   ]
  },
  {
   "cell_type": "markdown",
   "id": "cffebbbd",
   "metadata": {},
   "source": [
    "List of URLs of the external links:"
   ]
  },
  {
   "cell_type": "code",
   "execution_count": 21,
   "id": "f2d2bfbd",
   "metadata": {},
   "outputs": [
    {
     "data": {
      "text/plain": [
       "['http://www.theage.com.au/world/a-classic-orator-obama-learnt-from-the-masters-20081129-6nf1.html',\n",
       " 'http://www.theaustralian.com.au/archive/news/obama-launches-afghanistan-surge/story-e6frg6t6-1111118893671',\n",
       " 'http://www.abc.net.au/news/stories/2008/09/09/2360240.htm',\n",
       " 'http://data.rero.ch/02-A013554091',\n",
       " 'http://data.rero.ch/02-A013584632',\n",
       " 'http://www.bncatalogo.cl/F?func=direct&local_base=red10&doc_number=000710697',\n",
       " 'http://blogs.abcnews.com/politicalpunch/2010/09/president-obama-i-am-a-christian-by-choicethe-precepts-of-jesus-spoke-to-me.html',\n",
       " 'http://america.aljazeera.com/opinions/2014/11/obama-deportationimmigrationreformmidtermelections.html',\n",
       " 'http://www.aljazeera.com/news/middleeast/2014/09/obama-strike-wherever-it-exists-2014910223935601193.html',\n",
       " 'http://corporate.ancestry.com/press/press-releases/2012/07/ancestry.com-discovers-president-obama-related-to-first-documented-slave-in-america/']"
      ]
     },
     "execution_count": 21,
     "metadata": {},
     "output_type": "execute_result"
    }
   ],
   "source": [
    "bo.references[:10]"
   ]
  },
  {
   "cell_type": "markdown",
   "id": "c0de8050",
   "metadata": {},
   "source": [
    "Getting the plain text content of a section in the page:"
   ]
  },
  {
   "cell_type": "code",
   "execution_count": 22,
   "id": "ef6e0dbb",
   "metadata": {},
   "outputs": [
    {
     "data": {
      "text/plain": [
       "'Obama was born on August 4, 1961, at Kapiolani Medical Center for Women and Children in Honolulu, Hawaii. He is the only president born outside the contiguous 48 states. He was born to an American mother and a Kenyan father. His mother, Ann Dunham (1942–1995), was born in Wichita, Kansas and was mostly of English descent, though in 2007 it was discovered her great-great-grandfather Falmouth Kearney emigrated from the village of Moneygall, Ireland to the US in 1850. In July 2012, Ancestry.com found a strong likelihood that Dunham was descended from John Punch, an enslaved African man who lived in the Colony of Virginia during the seventeenth century. Obama\\'s father, Barack Obama Sr. (1934–1982), was a married Luo Kenyan from Nyang\\'oma Kogelo. Obama\\'s parents met in 1960 in a Russian language class at the University of Hawaii at Manoa, where his father was a foreign student on a scholarship. The couple married in Wailuku, Hawaii, on February 2, 1961, six months before Obama was born.In late August 1961, a few weeks after he was born, Barack and his mother moved to the University of Washington in Seattle, where they lived for a year. During that time, Barack\\'s father completed his undergraduate degree in economics in Hawaii, graduating in June 1962. He left to attend graduate school on a scholarship at Harvard University, where he earned an M.A. in economics. Obama\\'s parents divorced in March 1964. Obama Sr. returned to Kenya in 1964, where he married for a third time and worked for the Kenyan government as the Senior Economic Analyst in the Ministry of Finance. He visited his son in Hawaii only once, at Christmas 1971, before he was killed in an automobile accident in 1982, when Obama was 21 years old. Recalling his early childhood, Obama said: \"That my father looked nothing like the people around me—that he was black as pitch, my mother white as milk—barely registered in my mind.\" He described his struggles as a young adult to reconcile social perceptions of his multiracial heritage.In 1963, Dunham met Lolo Soetoro at the University of Hawaii; he was an Indonesian East–West Center graduate student in geography. The couple married on Molokai on March 15, 1965. After two one-year extensions of his J-1 visa, Lolo returned to Indonesia in 1966. His wife and stepson followed sixteen months later in 1967. The family initially lived in the Menteng Dalam neighborhood in the Tebet district of South Jakarta. From 1970, they lived in a wealthier neighborhood in the Menteng district of Central Jakarta.'"
      ]
     },
     "execution_count": 22,
     "metadata": {},
     "output_type": "execute_result"
    }
   ],
   "source": [
    "bo.section('Early life and career')"
   ]
  },
  {
   "cell_type": "markdown",
   "id": "d8441157",
   "metadata": {},
   "source": [
    "List of section titles: an example of a bug!"
   ]
  },
  {
   "cell_type": "code",
   "execution_count": 23,
   "id": "642e7b0d",
   "metadata": {},
   "outputs": [
    {
     "data": {
      "text/plain": [
       "[]"
      ]
     },
     "execution_count": 23,
     "metadata": {},
     "output_type": "execute_result"
    }
   ],
   "source": [
    "bo.sections"
   ]
  },
  {
   "cell_type": "markdown",
   "id": "d12e4cdb",
   "metadata": {},
   "source": [
    "## 3.2 Pywikibot & parsers\n",
    "\n",
    "https://doc.wikimedia.org/pywikibot/stable/\n",
    "\n",
    "https://mwparserfromhell.readthedocs.io/en/latest/index.html\n",
    "\n",
    "https://github.com/5j9/wikitextparser\n",
    "\n",
    "Using pywikibot to get the wikipedia markup code and then parse it with parsers like mwparserfromhell and wikitextparser.\n",
    "\n",
    "Installation and importing:"
   ]
  },
  {
   "cell_type": "code",
   "execution_count": null,
   "id": "8bffa610",
   "metadata": {},
   "outputs": [],
   "source": [
    "pip install pywikibot"
   ]
  },
  {
   "cell_type": "code",
   "execution_count": null,
   "id": "e2802fb9",
   "metadata": {},
   "outputs": [],
   "source": [
    "pip install mwparserfromhell"
   ]
  },
  {
   "cell_type": "code",
   "execution_count": null,
   "id": "e7af5f38",
   "metadata": {},
   "outputs": [],
   "source": [
    "pip install wikitextparser"
   ]
  },
  {
   "cell_type": "code",
   "execution_count": 24,
   "id": "52914658",
   "metadata": {},
   "outputs": [],
   "source": [
    "import pywikibot\n",
    "import mwparserfromhell as mwp\n",
    "import wikitextparser as wtp\n",
    "import pandas as pd"
   ]
  },
  {
   "cell_type": "markdown",
   "id": "3de06950",
   "metadata": {},
   "source": [
    "Getting the markup code of the page [List of political parties in Germany]('https://en.wikipedia.org/wiki/List_of_political_parties_in_Germany'):"
   ]
  },
  {
   "cell_type": "code",
   "execution_count": 25,
   "id": "5b199e51",
   "metadata": {},
   "outputs": [],
   "source": [
    "site = pywikibot.Site('en', 'wikipedia')\n",
    "page = pywikibot.Page(site, \"List of political parties in Germany\")\n",
    "text = page.get()"
   ]
  },
  {
   "cell_type": "code",
   "execution_count": 26,
   "id": "86e45b5a",
   "metadata": {},
   "outputs": [
    {
     "data": {
      "text/plain": [
       "'{{Short description|None}}\\n{{Politics of Germany}}\\nThis is a \\'\\'\\'list of [[political party|political parties]] in [[politics of Germany|Germany]]\\'\\'\\'.\\n\\nThe [[Federal Republic of Germany]] has a plural [[multi-party]] system. The largest by members and parliament seats are the [[Christian Democratic Union (Germany)|Christian Democratic Union]] (CDU), with its sister party, the [[Christian Social Union of Bavaria|Christian Social Union]] (CSU) and [[Social Democratic Party of Germany]] (SPD).\\n\\nGermany also has a number of other parties, in recent history most importantly the [[Free Democratic Party (Germany)|Free Democratic Party]] (FDP), [[Alliance 90/The Greens]], [[The Left (Germany)|The Left]], and more recently the [[Alternative for Germany]] (AfD), founded in 2013. The federal government of Germany often consisted of a [[coalition government|coalition]] of a major and a minor party, specifically CDU/CSU and FDP or SPD and FDP, and from 1998 to 2005 SPD and Greens. From 1966 to 1969, from 2005 to 2009 and from 2013 to 2021, the federal government consisted of a coalition of the two major parties, called [[Grand coalition (Germany)|Grand Coalition]].<ref>{{Cite web |url=http://www.dw-world.de/popups/popup_printcontent/0,,1647406,00.html |title=Chronik: Bundestagswahlen von 1949 bis 2002 &#124; Deutschland &#124; Deutsche Welle &#124; 02.10.2005 |access-date=2009-10-10 |archive-url=https://web.archive.org/web/20081108114315/http://www.dw-world.de/popups/popup_printcontent/0,,1647406,00.html |archive-date=2008-11-08 |url-status=dead }}</ref>\\nCoalitions in the [[Bundestag]] and state legislatures are often described by party colors. Party colors are red for the Social Democratic Party, green for Alliance 90/The Greens, yellow for the Free Democratic Party, purple (officially red, which is customarily used for the SPD) for the Left, light blue for the AfD, and black and blue for the CDU and CSU respectively.<ref>{{cite web |url=http://www.dw-world.de/dw/article/0,,4541120,00.html |title=Political parties form colorful spectrum in Germany |date=2009-08-18 |access-date=2009-09-12 |publisher=[[Deutsche Welle]] }}</ref><ref>{{citation |url=http://www.dw-world.de/dw/article/0,,4582700,00.html |title=The Green party: Getting used to opposition |date=2009-08-24 |access-date=2009-10-12 |publisher=[[Deutsche Welle]] |quote=This made a so-called [[Jamaica coalition (politics)|Jamaica coalition]] with the Christian Democratic Union and the Free Democratic Party impossible.}}</ref>\\n\\n==Current parties==\\n===Parties represented in the [[Bundestag]] and/or the [[European Parliament]]===\\n\\n{| class=\"wikitable sortable\"\\n|- \"\\n! colspan=\"3\" | Name\\n! Abbr.\\n! Leader(s)\\n! Ideology\\n! [[Bundestag|MdBs]]\\n! [[2019 European Parliament election in Germany|MEPs]]\\n! Political position\\n! EP group\\n|-\\n! style=\"background-color: {{party color|Social Democratic Party of Germany}}\" |\\n| [[File:SPD logo.svg|60px]]\\n| [[Social Democratic Party of Germany]],    <br /><small>\\'\\'Sozialdemokratische Partei Deutschlands\\'\\'</small>\\n| SPD\\n| [[Lars Klingbeil]],<br>[[Saskia Esken]]\\n| [[Social democracy]]<ref name=\"Nordsieck\"/>\\n|{{Composition bar|206|736|{{party color|Social Democratic Party of Germany}}}}\\n|{{Composition bar|16|96|{{party color|Social Democratic Party of Germany}}}}\\n| [[Centre-left politics|Centre-left]]\\n| [[Progressive Alliance of Socialists and Democrats|S&D]]\\n|-\\n! style=\"background-color: {{party color|Christian Democratic Union (Germany)}}\" |\\n| rowspan=2|[[File:Logo_of_the_CDU_CSU.svg|60px]]\\n| [[Christian Democratic Union of Germany]],    <br /><small>\\'\\'Christlich Demokratische Union Deutschlands\\'\\'</small>\\n| CDU\\n| [[Friedrich Merz]]\\n| [[Christian democracy]],<ref name=\"Nordsieck\">{{Cite web|title=Parties and Elections in Europe|url=http://www.parties-and-elections.eu/germany.html|access-date=2022-02-12|website=www.parties-and-elections.eu}}</ref> <br />[[Liberal conservatism]]<ref name=\"Nordsieck\"/>\\n|{{Composition bar|152|736|{{party color|Christian Democratic Union (Germany)}}}}\\n|{{Composition bar|23|96|{{party color|Christian Democratic Union (Germany)}}}}\\n| [[Centre-right politics|Centre-right]]<ref>{{cite news |date= 16 January 2021 |title= Armin Laschet elected new leader of Germany\\'s CDU party |url= https://www.euronews.com/2021/01/16/armin-laschet-elected-new-leader-of-germany-s-cdu-party |work= [[Euronews]] |access-date= 22 February 2021}}</ref>\\n| [[European People\\'s Party Group|EPP]]\\n|-\\n! style=\"background-color: {{party color|Christian Social Union of Bavaria}}\" |\\n| [[Christian Social Union in Bavaria]],    <br /><small>\\'\\'Christlich-Soziale Union in Bayern\\'\\'</small>\\n| CSU\\n| [[Markus Söder]]\\n| [[Christian democracy]],<ref name=\"Nordsieck\"/>  <br>[[Conservatism]]<ref name=\"Nordsieck\"/>\\n|{{Composition bar|45|736|{{party color|Christian Social Union of Bavaria}}}}\\n|{{Composition bar|6|96|{{party color|Christian Social Union of Bavaria}}}}\\n| {{Nowrap|[[Centre-right]]<ref>{{Cite book |author1=[[Christina Boswell]] |author2=Dan Hough |title=Politicizing migration: Opportunity or liability for the center-right in Germany |work=Immigration and Integration Policy in Europe: Why Politics – and the Center-Right – matter |publisher=Routledge |year=2009 |pages=18, 21}}</ref><ref>{{Cite book |author=Klaus Detterbeck |title=Multi-Level Party Politics in Western Europe |publisher=Palgrave Macmillan |year=2012 |page=105}}</ref><ref>{{Cite book |author1=Margret Hornsteiner |author2=Thomas Saalfeld |title=Parties and the Party System |work=Developments in German Politics |publisher=Palgrave Macmillan |year=2014 |page=80}}</ref>}}\\n| [[European People\\'s Party Group|EPP]]\\n|-\\n! style=\"background-color: {{party color|Alliance 90/The Greens}}\" |\\n| [[File:Bündnis_90_-_Die_Grünen_Logo_(transparent).svg|60px]]\\n| [[Alliance 90/The Greens]],    <br /><small>\\'\\'Bündnis 90/Die Grünen\\'\\'</small>\\n| GRÜNE\\n| [[Ricarda Lang]],<br/>[[Omid Nouripour]]\\n| [[Green politics]]<ref name=\"Nordsieck\"/>\\n|{{Composition bar|118|736|{{party color|Alliance 90/The Greens}}}}\\n|{{Composition bar|21|96|{{party color|Alliance 90/The Greens}}}}\\n| [[Centre-left politics|Centre-left]]\\n| [[The Greens–European Free Alliance|Greens/EFA]]\\n|-\\n! style=\"background-color: {{party color|Free Democratic Party (Germany)}}\" |\\n| [[File:Logo der Freien Demokraten.svg|60px]]\\n| [[Free Democratic Party (Germany)|Free Democratic Party]],    <br /><small>\\'\\'Freie Demokratische Partei\\'\\'</small>\\n| FDP\\n| [[Christian Lindner]]\\n| [[Liberalism]],<ref name=\"Nordsieck\" /><br />[[Classical liberalism]]<ref name=\"LodgeVogel1987\">{{cite book|author1=George C. Lodge|author2=Ezra F. Vogel|title=Ideology and National Competitiveness: An Analysis of Nine Countries|url=https://books.google.com/books?id=9upmTBrF87EC&pg=PA85|year=1987|publisher=Harvard Business Press|isbn=978-0-87584-147-2|page=85}}</ref><ref name=\"Berman2010\">{{cite book|author=Russell A. Berman|title=Freedom Or Terror: Europe Faces Jihad|url=https://books.google.com/books?id=OjNBWahMyN8C&pg=PA110|year=2010|publisher=Hoover Press|isbn=978-0-8179-1114-0|page=110}}</ref><br />[[Conservative liberalism]]<ref>{{cite book|first=Hans|last=Slomp|title=European Politics into the Twenty-first Century: Integration and Division|url=https://books.google.com/books?id=BIJH_mHgI68C&pg=PA55|year=2000|publisher=Greenwood Publishing Group|isbn=978-0-275-96800-7|page=55}}</ref><ref>{{cite book|first=Hans|last=Slomp|title=Europe, a Political Profile: An American Companion to European Politics|url=https://books.google.com/books?id=V1uzkNq8xfIC&pg=PA377|year=2011|publisher=ABC-CLIO|isbn=978-0-313-39181-1|page=377}}</ref><ref>{{cite book|first=Stephen|last=George|title=Politics and Policy in the European Union|url=https://archive.org/details/politicspolicyin0000geor_x9f6/page/98/mode/2up|date=1996|edition=3rd|publisher=University Press|isbn=978-0-19-878190-5|page=98}}</ref>\\n|{{Composition bar|92|736|{{party color|Free Democratic Party (Germany)}}}}\\n|{{Composition bar|5|96|{{party color|Free Democratic Party (Germany)}}}}\\n| [[centrism|Centre]] to [[Centre-right politics|centre-right]]\\n| [[Renew Europe|RE]]\\n|-\\n! style=\"background-color: {{party color|Alternative for Germany}}\" |\\n| [[File:AfD-Logo-2017.svg|60px]]\\n| [[Alternative for Germany]],    <br /><small>\\'\\'Alternative für Deutschland\\'\\'</small>\\n| AfD\\n| [[Tino Chrupalla]],[[Alice Weidel]]\\n| {{Nowrap|[[German nationalism]]}}<ref>{{cite news|url=https://www.yahoo.com/news/german-nationalist-party-takes-aim-islam-122311955.html|work=[[Yahoo News]]|title=After migrants, German nationalist party takes aim at Islam|date=23 May 2016}}</ref><ref>{{cite news|url=http://www.voanews.com/content/germanys-nationalist-party-set-gains-three-states-vote/3231977.html|work=[[Voice of America]]|title=Germany\\'s Nationalist Party Set for Gains as Three States Vote|date=11 March 2016}}</ref><br>[[Right-wing populism]]<ref name=\"Decker2015\">{{cite book|author=Frank Decker|chapter=Follow-up to the Grand Coalition: The Germany Party System before and after the 2013 Federal Election|editor=Eric Langenbacher|title=The Merkel Republic: An Appraisal|chapter-url=https://books.google.com/books?id=zaUHCAAAQBAJ&pg=PA34|year=2015|publisher=Berghahn Books|isbn=978-1-78238-896-8|pages=34–39}}</ref><br>[[Hard Euroscepticism]]<ref>{{cite news |date= 26 May 2018 |title= The growing strains between Angela Merkel and Emmanuel Macron |url= https://www.economist.com/europe/2018/05/24/the-growing-strains-between-angela-merkel-and-emmanuel-macron |newspaper= The Economist |access-date= 19 April 2022}}</ref>\\n|{{Composition bar|81|736|{{party color|Alternative for Germany}}}}\\n|{{Composition bar|9|96|{{party color|Alternative for Germany}}}}\\n| [[Far-right politics|Far-right]]\\n| [[Identity and Democracy|ID]]\\n|-\\n! style=\"background-color: {{party color|The Left (Germany)}}\" |\\n| [[File:Die Linke logo.svg|60px]]\\n| [[The Left (Germany)|The Left]],    <br /><small>\\'\\'Die Linke\\'\\'</small>\\n| LINKE\\n| [[Martin Schirdewan]],[[Janine Wissler]]\\n| {{Nowrap|[[Democratic socialism]],<ref name=\"Nordsieck\"/>}}  <br />[[Left-wing populism]]\\n|{{Composition bar|39|736|{{party color|The Left (Germany)}}}}\\n|{{Composition bar|7|96|{{party color|The Left (Germany)}}}}\\n| [[Left-wing politics|Left-wing]]<ref>{{cite book|editor=Raphaël Fèvre |title=A Political Economy of Power: Ordoliberalism in Context, 1932-1950 |url=https://books.google.com/books?id=hfhQEAAAQBAJ&dq=left-wing+die+linke+far-right&pg=PA2 |quote= This reference to ordoliberalism has also resonated across the wide spectrum of German politics— albeit in a spirit of opposition to the CDU— from \\'\\'\\'left- wing party\\'\\'\\' leaders of \\'\\'\\'Die Linke\\'\\'\\' to \\'\\'\\'the far- right\\'\\'\\' of \\'\\'\\'Alternative für Deutschland\\'\\'\\' |date=2021 |page=2 |publisher=[[Oxford University Press]] |isbn=9780197607800 }}</ref>\\n| [[European United Left–Nordic Green Left|GUE/NGL]]\\n|-\\n! style=\"background-color: #FF8000\" |\\n| [[File:FreieWählerBayernLogo2020.svg|60px]]\\n| [[Free Voters]],    <br /><small>\\'\\'Freie Wähler\\'\\'</small>\\n| FW\\n| [[Hubert Aiwanger]]\\n| [[Liberal conservatism]],<ref>{{cite book|url=https://www.google.com/books/edition/Assessing_the_2019_European_Parliament_E/vOHcDwAAQBAJ|title=Assessing the 2019 European Parliament Elections|year=2020|publisher=Taylor & Francis|page=263|isbn=9781000057263|quote=As in 2014, seven minor parties with vote shares below 5 per cent gained seats in the European Parliament, ranging from single-issue parties like the Animal Protection Party (one seat) or the Family Party (one seat) to the satirical \\'Die Partei\\' (two seats) or the liberal-Conservative \\'Free Voters\\'.}}</ref> <br> [[Regionalism (politics)|Regionalism]]\\n|{{Composition bar|0|736|#FF8000}}\\n|{{Composition bar|2|96|#FF8000}}\\n| [[Centre-right politics|Centre-right]]\\n| [[Renew Europe|RE]]\\n|-\\n! style=\"background: {{party color|Centre Party (Germany)}}\"|\\n| [[File:Zentrumspartei Logo.png|60px]]\\n| [[Centre Party (Germany)|German Centre Party]],    <br /><small>\\'\\'Deutsche Zentrumspartei\\'\\'</small>\\n| ZENTRUM\\n| [[Christian Otte (politician)|Christian Otte]]\\n| [[Political Catholicism]],  <br />[[Christian democracy]],  <br />[[Social conservatism]]\\n| {{Composition bar|1|736|{{party color|Centre Party (Germany)}}}}\\n| {{Composition bar|1|96|{{party color|Centre Party (Germany)}}}}\\n| [[Centre-right politics|Centre-right]]\\n| none\\n|-\\n!style=\"background-color: {{party color|South Schleswig Voters\\' Association}}\" |\\n| [[File:Ssw-logo.svg|60px]]\\n| [[South Schleswig Voters\\' Association]]{{ref label|Bundestag|C|C}},    <br /><small>\\'\\'Südschleswigscher Wählerverband\\'\\'</small>\\n| SSW\\n| [[Christian Dirschauer]]\\n| [[Regionalism (politics)|Regionalism]],  <br />[[Political parties of minorities|Ethnic minority politics]],  <br />[[Social liberalism]]<ref>{{Cite book |author=José Magone |title=Contemporary European Politics: A Comparative Introduction |publisher=Routledge |year=2011 |page=392}}</ref>\\n| {{Composition bar|1|736|{{party color|South Schleswig Voters\\' Association}}}}\\n| {{Composition bar|0|96|{{party color|South Schleswig Voters\\' Association}}}}\\n| [[Centrism|Centre]]\\n| [[The Greens–European Free Alliance|Greens/EFA]]\\n|-\\n! style=\"background-color: {{party color|Die PARTEI}}\" |\\n| [[File:Die PARTEI Logo.svg|60px]]\\n| [[Die PARTEI]],    <br /><small>\\'\\'Partei für Arbeit, Rechtsstaat, Tierschutz,<br/>Elitenförderung und basisdemokratische Initiative\\'\\'</small>\\n| Die PARTEI\\n| [[Martin Sonneborn]]\\n| [[List of frivolous political parties|Satire]]\\n|{{Composition bar|0|736|{{party color|Die PARTEI}}}}\\n|{{Composition bar|1|96|{{party color|Die PARTEI}}}}\\n| [[Apolitical]]\\n| \\'\\'None\\'\\'\\n|-\\n! style=\"background-color: #F36717\" |\\n| [[File:OEDP Logo CMYK.svg|60px]]\\n| [[Ecological Democratic Party]],    <br /><small>\\'\\'Ökologisch-Demokratische Partei\\'\\'</small>\\n| ÖDP\\n| [[Christian Rechholz]]\\n| [[Green conservatism]]<ref name=\"Daniel2015\">{{cite book|author=William T Daniel|title=Career Behaviour and the European Parliament: All Roads Lead Through Brussels?|url=https://books.google.com/books?id=prS6BwAAQBAJ&pg=PA135|year=2015|publisher=Oxford University Press|isbn=978-0-19-871640-2|page=135}}</ref>\\n|{{Composition bar|0|736|#F36717}}\\n|{{Composition bar|1|96|#F36717}}\\n| [[Centre-right]]\\n| [[The Greens–European Free Alliance|Greens/EFA]]\\n|-\\n! style=\"background:{{party color|Liberal Conservative Reformers}};\" |\\n| [[File:LKR Logo 2020.svg|60px]]\\n| [[Liberal Conservative Reformers]],    <br /><small>\\'\\'Liberal-konservative Reformer\\'\\'</small>\\n| LKR\\n| [[Jürgen Joost]]\\n| [[Liberal conservatism]],  <br />[[Economic liberalism]],  <br />[[Soft Euroscepticism]] \\n|{{Composition bar|0|736|{{party color|Liberal Conservative Reformers}}}}\\n|{{Composition bar|1|96|{{party color|Liberal Conservative Reformers}}}}\\n| {{Nowrap|[[Centre-right]] to [[right-wing]]}}\\n| [[European Conservatives and Reformists|ECR]]\\n|-\\n! style=\"background:#582C83;\" |\\n| [[File:Logo Volt Europa.svg|60px]]\\n| [[Volt Germany]],    <br /><small>\\'\\'Volt Deutschland\\'\\'</small>\\n| Volt\\n| [[Connor Geiger]][[Rebekka Müller]]\\n| [[Federalisation of the European Union|European federalism]]\\n|{{Composition bar|0|736|#582C83}}\\n|{{Composition bar|1|96|#582C83}}\\n| [[Centrism|Centre]] to [[Centre-left politics|centre-left]]\\n| [[The Greens–European Free Alliance|Greens/EFA]]\\n|-\\n! style=\"background-color: {{party color|Pirate Party Germany}}\" |\\n| [[File:Piratenpartei Deutschland Logo 01.svg|60px]]\\n| [[Pirate Party Germany]],    <br /><small>\\'\\'Piratenpartei Deutschland\\'\\'</small>\\n| PIRATEN\\n| [[Anne Herpertz]]\\n| [[Pirate Party|Pirate politics]],  <br />[[Social liberalism]]<ref name=\"Franzmann2015\">{{cite book|author=Simon Franzmann|editor1=Gabriele D\\'Ottavio|editor2=Thomas Saalfeld|title=Germany After the 2013 Elections: Breaking the Mould of Post-Unification Politics?|chapter-url=https://books.google.com/books?id=_mLBCAAAQBAJ&pg=PA166|year=2015|chapter=The Failed Struggle for Office Instead of Votes|publisher=Ashgate|isbn=978-1-4724-4439-4|pages=166–167}}</ref>\\n|{{Composition bar|0|736|#F36717}}\\n|{{Composition bar|1|96|#F36717}}\\n| [[Syncretic politics|Syncretic]]\\n| [[The Greens–European Free Alliance|Greens/EFA]]\\n|-\\n! style=\"background:{{party color|Family Party of Germany}};\"|\\n| [[File:FamilienPartei Logo2007.svg|60px]]\\n| [[Family Party of Germany]],    <br /><small>\\'\\'Familien-Partei Deutschlands\\'\\'</small>\\n| Familie\\n| [[Helmut Geuking]]\\n| [[Social conservatism]],  <br />[[Christian democracy]] \\n|{{Composition bar|0|736|{{party color|Family Party of Germany}}}}\\n|{{Composition bar|1|96|{{party color|Family Party of Germany}}}}\\n| {{Nowrap|[[Centre-right]] to [[right-wing]]}}\\n| [[European Conservatives and Reformists|ECR]]\\n|-\\n| colspan=\"9\" | <small>{{note label|Bundestag|A|A}} The CDU and CSU form the  [[CDU/CSU]] group in the Bundestag; CSU runs only in [[Bavaria]], CDU elsewhere.<br>{{note label|Bundestag|B|B}} Some parties such as the Greens have co-leaders with equal power (usually one male and one female).<br>{{note label|Bundestag|C|C}} Represents the Danish and Frisian minorities. As a party representing ethnic minorities, it is not subject to the general requirement of passing a 5% vote threshold.</small>\\n|}\\n\\n===Other parties represented in [[Landtag|state parliaments]]===\\n{| class=\"wikitable sortable\"\\n|-\\n! colspan=2 | Logo\\n! Name\\n! Abbr.\\n! Leader\\n! Ideology\\n! Elected in state (Seats)\\n! Position\\n! Notes\\n|-\\n!style=\"background-color: #004B99\" |\\n| [[File:Bürger in Wut Logo.svg|60px]]\\n| [[Citizens in Rage]]<br /><small>\\'\\'Bürger in Wut\\'\\'</small>\\n| BIW\\n| [[Jan Timke]]\\n| [[Right-wing populism]]\\n| [[Bremen (state)|Bremen]] (1)\\n| [[Right-wing politics|Right-wing]]\\n|\\n|-\\n!style=\"background-color: #FACA26\" |\\n| [[File:Logo-BVB-FREIE-WAEHLER.svg|60px]]\\n| [[Brandenburg United Civic Movements/Free Voters]]<br /><small>\\'\\'Brandenburger Vereinigte Bürgerbewegungen / Freie Wähler\\'\\'</small>\\n| BVB / FW\\n| [[Péter Vida]]\\n| [[Regionalism (politics)|Regionalism]]\\n| [[Brandenburg]] (3)\\n| <!-- Please do NOT add a political position here unless it can be or is cited with a reliable third-party source either here or on the party\\'s page. -->\\n|\\n|-\\n!\\n|[[File:Bürger für Thüringen Logo.png|64x64px]]\\n|[[Citizens for Thuringia]]<br /><small>\\'\\'Bürger für Thüringen\\'\\'</small>\\n|BfTh\\n|[[Ute Bergner]]\\n|[[Liberal conservatism]]\\n|[[Thuringia]] (4)\\n|[[Right-wing politics|Right-wing]]\\n|\\n|}\\n\\n=== Minor parties ===\\n{| class=\"wikitable sortable\"\\n|- \"\\n! colspan=2 | Logo\\n! Name\\n! Abbr.\\n! Leader\\n! Ideology\\n! Political position\\n! EP-group\\n|-\\n! style=\"background:#FFFFFF;\" |\\n|[[File:Logo der Partei Bündnis C - Christen für Deutschland.svg|alt=|59x59px]]\\n|[[Alliance C – Christians for Germany]]<br /><small>\\'\\'Bündnis C – Christen für Deutschland\\'\\'</small>\\n| Bündnis C\\n|[[Karin Heepen]] & [[Ole Steffes]]\\n|[[Conservatism]]<br />[[Christian fundamentalism]]\\n|[[Right-wing politics|Right-wing]]\\n|[[European Christian Political Movement|ECPM]]\\n|-\\n!\\n|[[File:Buendnis fuer Innovation und Gerechtigkeit logo.svg|alt=|59x59px]]\\n|[[Alliance for Innovation and Justice]]<br /><small>\\'\\'Bündnis für Innovation und Gerechtigkeit\\'\\'</small>\\n|BIG\\n|[[Haluk Yildiz]]\\n|[[Political Islam]]\\n|\\n|\\n|-\\n!\\n|\\n|[[Alliance for Human Rights, Animal and Nature Protection]]<br /><small>\\'\\'Allianz für Menschenrechte, Tier- und Naturschutz\\'\\'</small>\\n|Tierschutzallianz\\n|[[Josef Fassl]]\\n|[[Animal rights]]\\n|\\n|\\n|-\\n! style=\"background:#1E5EA5;\" |\\n|[[File:Allianz Deutscher Demokraten Partei Logo Aktualisiert.png|alt=|59x59px]]\\n|[[Alliance of German Democrats]]<br /><small>\\'\\'Allianz Deutscher Demokraten\\'\\'</small>\\n|AD-Demokraten\\n|[[Ramazan Akbaş]]\\n|[[Conservatism]]<br />[[Political Islam]]\\n|\\n|\\n|-\\n! style=\"background:#000;\"|\\n| [[File:APPD-Logo.svg|60px]]\\n| [[Anarchist Pogo Party of Germany]] <br /><small>\\'\\'Anarchistische Pogo-Partei Deutschlands\\'\\'</small>\\n| APPD\\n| [[Peter Vehreschild]]\\n| [[Satire]]\\n| [[Apoliticism]]\\n| none\\n|-\\n! style=\"background:#E5241F;\" |\\n| [[File:ARMINIUS logo black.svg|60px]]\\n|[[Arminius – Association of the German People]]<ref name=\":0\">{{Cite web |last=Wagschal |first=Prof Dr Uwe |title=Arminus - Bund des deutschen Volkes (Arminus - Bund) {{!}} bpb |url=https://www.bpb.de/politik/wahlen/wer-steht-zur-wahl/ba-wue-2016/46031/arminius-bund |access-date=2020-06-14 |website=bpb.de |language=de}}</ref><br /><small>\\'\\'Arminius – Bund des deutschen Volkes\\'\\'</small>\\n|Arminius – Bund\\n|[[Johann Thießen]]\\n|[[Russia Germans|Russlanddeutsche]] interests<br />[[German nationalism]]\\n|[[Far-right politics|Far-right]]<ref name=\":0\" />\\n|\\n|-\\n!style=\"background:#0C8AA8;\"|\\n| [[File:BGE Logo neu.png|60px]]\\n| [[Basic Income Alliance]]<br /><small>\\'\\'Bündnis Grundeinkommen\\'\\'</small>\\n| BGE\\n| [[Martin Sonnabend]]\\n| {{Nowrap|[[Universal basic income]]}}\\n| [[Single-issue politics|Single-issue]]\\n| none\\n|-\\n! style=\"background:#98f5ff;\"|\\n| [[File:Bayernpartei Logo.svg|60px]]\\n| [[Bavaria Party]]<br /><small>\\'\\'Bayernpartei\\'\\'</small>\\n| BP\\n| [[Florian Weber (politician)|Florian Weber]]\\n| [[Autonomism (political doctrine)|Autonomism]]<br />[[Bavarian nationalism]]<br />[[Regionalism (politics)|Regionalism]]<br />[[Conservatism]]\\n| [[Centre-right politics|Centre-right]]\\n| [[European Free Alliance|EFA]]\\n|-\\n! style=\"background:#343f40;\"|\\n| [[File:Cropped-logo-seite.png|60px]]\\n| [[Bergpartei, die \"ÜberPartei\"]]<br /><small>\\'\\'Bergpartei, die Überpartei\\'\\'</small>\\n| B*\\n| [[Rico Tscharntke]]\\n| [[Post-left anarchy]]<br>[[Dada]]ism\\n| [[Far-left]]\\n| none\\n|-\\n! style=\"background:#1f4569;\"|\\n| \\n| [[Civil Rights Movement Solidarity]]<br /><small>\\'\\'Bürgerrechtsbewegung Solidarität\\'\\'</small>\\n| BüSo\\n| [[Helga Zepp-LaRouche]]\\n| [[LaRouche movement]]<br />[[Conspiracism]]\\n| [[Syncretic politics|Syncretic]]\\n| none\\n|-\\n! style=\"background:{{party color|Klimaliste}}\"|\\n|[[File:Logo Klimaliste square 2020.svg|left|frameless|61x61px]]\\n|[[Klimaliste|Climate List Germany]]<br /><small>\\'\\'Klimaliste Deutschland\\'\\'</small>\\n|KL\\n|[[Fabian Aisenbrey]], [[Doris Vollmer]]\\n|[[Climate change mitigation]]\\n|\\n|none\\n|-\\n! style=\"background:red;\"|\\n| [[File:Kpd-flagge-icon.png|60px]]\\n| [[Communist Party of Germany (1990)|Communist Party of Germany]]<br /><small>\\'\\'Kommunistische Partei Deutschlands\\'\\'</small>\\n| KPD\\n| [[Torsten Schöwitz]]\\n| [[Communism]]<br />[[Marxism–Leninism]]<br />[[Stalinism]]<br />[[Anti-revisionism]]\\n| [[Far-left politics|Far-left]]\\n| none\\n|-\\n!style=\"background:indigo;\"|\\n| [[File:DiB Logo.jpg|60px]]\\n| [[Democracy in Motion]]<br /><small>\\'\\'Demokratie in Bewegung\\'\\'<br /></small>\\n| DiB\\n| [[Julia Beerhold]], [[Alexander Plitsch]]\\n| [[Democratic socialism]]\\n| [[Left-wing politics|Left-wing]]\\n| none\\n|-\\n!style=\"background:orange;\"|\\n| [[File:Feministische Partei Die Frauen Logo.svg|60px]]\\n| [[Feminist Party of Germany]]<br /><small>\\'\\'Feministische Partei Die Frauen\\'\\'</small>\\n| DIE FRAUEN\\n| [[Renate Schmidtsdorff-Aicher]]\\n| [[Feminism]] \\n| \\n| none\\n|-\\n!\\n|[[File:Freiparlamentarische Allianz Schriftlogo.svg|64x64px]]\\n|[[Free Parliamentary Alliance]] \\n<small>\\'\\'Freiparlamentarische Allianz\\'\\'</small>\\n|FPA\\n|[[Luca Piwodda]]\\n|[[Participatory democracy]]\\n|\\n|none\\n|-\\n! style=\"background:#FFFFFF;\" |\\n|[[File:Volksabstimmung Logo.jpg|alt=|59x59px]]\\n|[[From Now on... Democracy Through a Referendum]]<br /><small>\\'\\'Ab jetzt … Demokratie durch Volksabstimmung\\'\\'</small>\\n|Volksabstimmung\\n|[[Helmut Fleck]]\\n|[[Direct democracy|Direct Democracy]]\\n|[[Right-wing]]\\n|none\\n|-\\n! style=\"background:#F24E40;\"|\\n| [[File:Deutsche Kommunistische Partei Logo.svg|60px]]\\n| [[German Communist Party]]<br /><small>\\'\\'Deutsche Kommunistische Partei\\'\\'</small>\\n| DKP\\n| [[Patrik Köbele]]\\n| [[Communism]]<br />[[Marxism–Leninism]]\\n| [[Far-left politics|Far-left]]\\n| none\\n|-\\n! style=\"background:#90D2F5;\"|\\n| [[File:Logo Deutsche Soziale Union.png|60px]]\\n| [[German Social Union (East Germany)|German Social Union]]<br /><small>\\'\\'Deutsche Soziale Union\\'\\'</small>\\n| DSU\\n| [[Roberto Rink]]\\n| [[National conservatism]]<br />[[Social conservatism]]\\n| [[Right-wing politics|Right-wing]]\\n| none\\n|-\\n! style=\"background:{{party color|Grassroots Democratic Party of Germany}}\"|\\n| [[File:Logo of the Grassroots Democratic Party of Germany.svg|60px]]\\n| [[Grassroots Democratic Party of Germany]]<br /><small>\\'\\'Basisdemokratische Partei Deutschland\\'\\'</small>\\n| dieBasis\\n| [[Reiner Fuellmich]], [[Viviane Fischer]]\\n| [[Grassroots democracy]]<br />[[Protests over COVID-19 policies in Germany|Anti-lockdown]]<br/>[[Anti-vaccination]]\\n| [[Far-right politics|Far-right]]<ref>{{cite news |last1=Sternberg |first1=Jan |last2=Huesmann |first2=Felix |date=19 March 2021 |title=Die neue Parteienliebe der Querdenker-Szene |newspaper=RND |url=https://www.rnd.de/politik/querdenker-parteien-kaum-glaubhafte-distanzierung-nach-rechts-UD2AKIWCZ5A7BKBLXZ7LCY3D3M.html |accessdate=28 September 2021}}</ref>\\n| none\\n|-\\n! style=\"background:#F98113;\"|\\n| [[File:Logo Liberale Demokraten - Die Sozialliberalen.svg|60px]]\\n| [[Liberal Democrats (Germany)|Liberal Democrats – The Social Liberals]]<br /><small>\\'\\'Liberale Demokraten – Die Sozialliberalen\\'\\'</small>\\n| LD\\n| [[Bernd Grothkopp]]\\n| [[Social liberalism]]\\n| \\n| none\\n|-\\n! \\n| [[File:Logo Lausitzer Allianz.png|60px]]\\n| [[Lusatian Alliance]]<br /><small>\\'\\'Lausitzer Allianz / Łužiska Alianca / Łužyska Alianca\\'\\'</small>\\n| \\n| [[Hannes Wilhelm-Kell]]\\n| [[Regionalism (politics)|Regionalism]]<br />[[Progressivism]]<br/>[[Political parties of minorities|Ethnic minority interests]]\\n| \\n| none\\n|-\\n! style=\"background:#C1121C;\"|\\n| [[File:MLPD Logo 2011 (2).svg|60px]]\\n| [[Marxist–Leninist Party of Germany]]<br /><small>\\'\\'Marxistisch-Leninistische Partei Deutschlands\\'\\'</small>\\n| MLPD\\n| [[Gabi Fechtner]]\\n| [[Marxism–Leninism]]<br />[[Communism]]\\n| [[Far-left politics|Far-left]]\\n| none\\n|-\\n!\\n|\\n|[[Mindful Democrats]]<br /><small>\\'\\'Achtsame Demokraten\\'\\'</small>\\n|Die Achtsamen\\n|\\n|\\n|\\n|\\n|-\\n! style=\"background:#19A8E8;\"|\\n| [[File:Mut Logo.png|60px]]\\n|[[Mut (political party)|mut]]<br /><small>\\'\\'mut\\'\\'</small>\\n| mut\\n|[[Claudia Stamm]]\\n|[[Social liberalism]]\\n|[[Centre-left politics|Centre-left]]\\n| none\\n|-\\n! style=\"background-color: {{party color|National Democratic Party of Germany}}\" |\\n| [[File:NPD-Logo-2013.svg|60px]]\\n| [[National Democratic Party of Germany]]<br /><small>\\'\\'Nationaldemokratische Partei Deutschlands\\'\\'</small>\\n| NPD\\n| [[Frank Franz]]\\n| [[Neo-Nazism]]<br />[[Ultranationalism]]<br />[[Pan-Germanism]]<br />[[Anti-immigration]]<br/ >[[Revanchism]]\\n| [[Far-right politics|Far-right]]<ref name=\"Daniel2015\"/>\\n| [[Alliance for Peace and Freedom|APF]]\\n|-\\n! style=\"background:#ff4c4c;\"|\\n| [[File:Partei für Franken Logo.svg|60px]]\\n| [[Party for Franconia]]<br /><small>\\'\\'Partei für Franken\\'\\'</small>\\n| DIE FRANKEN\\n| [[Robert Gattenlöhner]]\\n| [[Social democracy]]<br />[[Regionalism (politics)|Regionalism]]\\n|\\n| none\\n|-\\n! style=\"background-color: {{party color|Partei für Gesundheitsforschung}}\" |\\n| [[File:Logo parteifuergesundheitsforschung.png|60px]]\\n| [[Partei für Gesundheitsforschung|Party for Health Research]]<br /><small>\\'\\'Partei für Gesundheitsforschung\\'\\'</small>\\n| Gesundheitsforschung\\n| [[Felix Werth]]\\n| [[Single-issue politics]]\\n|\\n| none\\n|-\\n! style=\"background:#110077;\"|\\n| [[File:PDH Logo Redesign.svg|60px]]\\n| [[Party of Humanists]]<br /><small>\\'\\'Partei der Humanisten\\'\\'</small>\\n| Die Humanisten\\n|[[Alexander Mucha]]\\n|[[Humanism]]<br>[[Secularism]]<br>[[Civil libertarianism]]<br>[[Social liberalism]]\\n|\\n| none\\n|-\\n! style=\"background:#000080;\"|\\n| [[File:Partei der Vernunft Logo.png|frameless|64x64px]]\\n| [[Party of Reason]]<br /><small>\\'\\'Partei der Vernunft\\'\\'</small>\\n| PDV\\n| [[Friedrich Dominicus]]\\n| [[Libertarianism]]\\n|\\n| [[European Party for Individual Liberty|EPIL]]\\n|-\\n! style=\"background:{{party color|Human Environment Animal Protection}};\"|\\n| [[File:Tierschutzpartei-Logo.svg|60px]]\\n| [[Human Environment Animal Protection]]<br /><small>\\'\\'Partei Mensch Umwelt Tierschutz\\'\\'</small>\\n| Tierschutzpartei\\n| [[Aida Spiegeler Castaneda]]<br />[[Marcel Krohn]]<br />[[Robert Gabel]]\\n| [[Animal rights]]<br />[[Environmentalism]]\\n| [[Centre-left politics|Centre-left]]\\n| [[Animal Politics EU|APEU]]\\n|-\\n! style=\"background:#FF0040;\"|\\n|[[File:Sozialistische Gleichheitspartei Logo.png|frameless|64x64px]]\\n| [[Socialist Equality Party (Germany)|Socialist Equality Party]]<br /><small>\\'\\'Sozialistische Gleichheitspartei\\'\\'</small>\\n| SGP\\n| [[Ulrich Rippert]]\\n| [[Trotskyism]]\\n| [[Far-left politics|Far-left]]\\n| none\\n|-\\n! style=\"background:{{party color|Team Todenhöfer}};\"|\\n| [[File:TeamTodenhoefer Logo.png|60px]]\\n| [[Team Todenhöfer|Team Todenhöfer – The Justice Party]]<br /><small>\\'\\'Team Todenhöfer – Die Gerechtigkeitspartei\\'\\'</small>\\n| Team Todenhöfer\\n| [[Jürgen Todenhöfer]]\\n| [[Anti-militarism]]<br />[[Populism]]\\n| \\n| none\\n|-\\n|-\\n! style=\"background:green;\"|\\n| [[File:LDF2010.png|60px]]\\n| [[Die Friesen|The Frisians]]<br /><small>\\'\\'Die Friesen\\'\\'</small>\\n| FRIESEN\\n| [[Ralf Bieneck]]\\n| [[Political parties of minorities|Ethnic minority interests]]\\n|\\n| [[European Free Alliance|EFA]]\\n|-\\n!style=\"background:#0B6623;\"|\\n| [[File:An oak wreath on logo of the German party \"The Third Path\" - Parteilogo \"Der III. Weg.jpg|60px]]\\n| [[The III. Path]]<br /><small>\\'\\'Der III. Weg\\'\\'</small>\\n|\\n| [[Klaus Armstroff]]\\n| [[Neo-Nazism]]<br />[[German nationalism]]<br />[[Ethnic nationalism]]<br />[[Hard Euroscepticism]]\\n| [[Far-right politics|Far-right]]\\n| none\\n|-\\n! style=\"background:#0062A6;\"|\\n| [[File:REP Logo Claim.svg|60px]]\\n| [[The Republicans (Germany)|The Republicans]]<br /><small>\\'\\'Die Republikaner\\'\\'</small>\\n| REP\\n| [[Tilo Schöne]]\\n| [[German nationalism]]<br />[[National conservatism]]<br />[[Euroscepticism]]<br />[[Social conservatism]]\\n| [[Right-wing politics|Right-wing]]\\n| none\\n|-\\n! style=\"background:#553A26;\"|\\n|[[File:Parteilogo der Partei DIE RECHTE ab 11-2017.jpg|alt=|60x60px]]\\n| [[The Right (Germany)|The Right]]<br /><small>\\'\\'Die Rechte\\'\\'</small>\\n|\\n| [[Christian Worch]]\\n| [[Neo-Nazism]]<br />[[Ultranationalism]]<br />[[Pan-Germanism]]<br />[[Anti-immigration]]<br />[[Historical revisionism|Revisionism]]\\n| [[Far-right politics|Far-right]]\\n| none\\n|-\\n! style=\"background:#E66346;\"|\\n|[[File:Die_Urbane_Logo.png|frameless|56x56px]]\\n| [[Die Urbane. Eine HipHop Partei|The Urbans. A HipHop Party]]<br /><small>\\'\\'Die Urbane. Eine HipHop Partei\\'\\'<br /></small>\\n| du\\n| Niki Drakos, Raphael Hillebrand\\n| \\n| [[Left-wing]]{{cn|reason=Your explanation here|date=February 2022}}\\n| none\\n|-\\n!style=\"background:#EE82EE;\"|\\n| [[File:Die Violetten Logo 20190515.jpg|60px]]\\n| [[The Violets (political party)|The Violets]]<br /><small>\\'\\'Die Violetten\\'\\'</small>\\n| Die Violetten\\n| [[Irene Garcia Garcia]]\\n| [[Social liberalism]]<br />[[Spiritualism]]\\n|\\n| none\\n|-\\n! style=\"background:yellowgreen;\"|\\n| [[File:Schriftzug-v-partei.png|60px]]\\n| [[V-Partei³]] – Party for Change, Vegetarians and Vegans<br /><small>\\'\\'V-Partei³ – Partei für Veränderung, Vegetarier und Veganer\\'\\'</small>\\n| V³\\n| [[Roland Wegner]]\\n| [[Animal rights]]<br />[[Environmentalism]]\\n|\\n| none\\n|-\\n!\\n|[[File:WiR2020 logo.svg|alt=|60x60px]]\\n|[[WiR2020]]<br /><small>\\'\\'WiR2020\\'\\'</small>\\n|W2020\\n|Wolfgang Romberg, Sonja Früh\\n|[[Vaccine hesitancy|Anti-vaccinationism]]<br/>[[Protests over COVID-19 policies in Germany|Anti-lockdown]]\\n|\\n| none\\n|-\\n|}\\n\\n==Historical parties==\\n\\n===Parties existing up to World War I===\\n{| class=\"wikitable sortable\"\\n|- \"\\n! colspan=2 | Name\\n! Abbr.\\n! Ideology\\n|-\\n! style=\"background:white;\"|\\n| [[Bavarian Peasants\\' League]]\\n| BB\\n| [[Agrarianism]]\\n|-\\n! style=\"background-color: {{party color|Centre Party (Germany)}}\" | \\n| [[Centre Party (Germany)|Centre Party]]\\n| Zentrum\\n| [[Christian democracy]]\\n|-\\n! style=\"background-color:{{party color|Christian Social Party}};\"|\\n| [[Christian Social Party (Germany)|Christian Social Party]]\\n| CSP\\n| [[Traditionalist conservatism]]<br />[[Christian democracy]]<br />[[Anti-Semitism]]\\n|-\\n! style=\"background:white;\"|\\n| [[Democratic Union (Germany)|Democratic Union]]\\n| DV\\n| [[Liberalism]]<br />[[Laïcité]]\\n|-\\n! style=\"background-color:{{party color|Free Conservative Party}};\"|\\n| [[Free Conservative Party]]\\n| FKP\\n| [[National conservatism]]\\n|-\\n! style=\"background-color:{{party color|German Free-minded Party}};\"| \\n| [[Free-minded People\\'s Party (Germany)|Free-minded People\\'s Party]]\\n| FVP\\n| [[Liberalism]]<br />[[Progressivism]]<br />[[Parliamentarism]]<br />[[Secularism|Laicism]]\\n|-\\n! style=\"background-color:{{party color|German Free-minded Party}};\"|\\n| [[Free-minded Union]]\\n| FV\\n| [[National liberalism]]\\n|-\\n! style=\"background-color:{{party color|Social Democratic Party of Germany}};\"|\\n| [[General German Workers\\' Association]]\\n| ADAV\\n| [[Social democracy]]<br />[[Democratic socialism]]\\n|-\\n! style=\"background-color:{{party color|German Conservative Party}};\"| \\n| [[German Conservative Party]]\\n| DKP\\n| [[Conservatism]]<br />[[Economic liberalism]]<br />[[Anti-Catholicism]]\\n|-\\n! style=\"background:black;\"| \\n| [[German Fatherland Party]]\\n|DVLP\\n| [[German nationalism]]<br />[[German Emperor|Monarchism]]<br />[[Militarism]]<br />\\'\\'[[Volksgemeinschaft]]\\'\\'\\n|-\\n! style=\"background:blue;\"| \\n| [[German-Hanoverian Party]]\\n| DHP\\n| [[Conservatism]]<br />[[Federalism]]\\n|-\\n! style=\"background-color:{{party color|German Progress Party}};\"| \\n| [[German People\\'s Party (1868)|German People\\'s Party]]\\n| DtVP\\n| [[Social liberalism]]<br />[[Federalism]]<br />[[Laïcité]]<br />[[Parliamentarism]]\\n|-\\n! style=\"background-color:{{party color|German Progress Party}};\"| \\n| [[German Progress Party]]\\n| DFP\\n| [[Liberalism]]<br />[[Federalism]]\\n|-\\n! style=\"background:{{party color|German Free-minded Party}};\"| \\n| [[German Free-minded Party]]\\n| DFP\\n| [[Liberalism]]<br />[[Progressivism]]<br />[[Parliamentarism]]<br />[[Laïcité]]\\n|-\\n! style=\"background:{{party color|Independent Social Democratic Party of Germany}};\"| \\n| [[Independent Social Democratic Party of Germany]]\\n| USPD\\n| [[Democratic socialism]]<br />[[Centrist Marxism]]<br />[[Pacifism]]\\n|-\\n! style=\"background:{{party color|Liberal Union (Germany)}};\"| \\n| [[Liberal Union (Germany)|Liberal Union]]\\n| LV\\n| [[Liberalism]]<br />[[Parliamentarism]]<br />[[Classical liberalism]]<br />[[Economic liberalism]]<br />[[Conservative liberalism]]\\n|-\\n! style=\"background:{{party color|National Liberal Party (Germany)}};\"| \\n| [[National Liberal Party (Germany)|National Liberal Party]]\\n| NLP\\n| [[National liberalism]]\\n|-\\n! style=\"background:{{party color|German Free-minded Party}};\"| \\n| [[National-Social Association]]\\n| NSV\\n| [[Christian socialism]]<br />[[Social liberalism]]<br />[[Nationalism]]\\n|-\\n! style=\"background:{{party color|Progressive People\\'s Party (Germany)}};\"| \\n| [[Progressive People\\'s Party (Germany)|Progressive People\\'s Party]]\\n| FVP\\n| [[Social liberalism]]<br />[[Parliamentarism]]<br />[[Laïcité]]\\n|-\\n! style=\"background:{{party color|Social Democratic Party of Germany}};\"| \\n| [[Social Democratic Workers\\' Party of Germany]]\\n| SDAP\\n| [[Social democracy]]<br />[[Socialism (Marxism)|Marxist socialism]]\\n|}\\n\\n===Parties in [[Weimar Republic]]===\\n{{main|Weimar political parties}}\\n* [[Bavarian People\\'s Party]] (BVP)\\n* [[Centre Party (Germany)|Centre Party]] (Zentrum)\\n* [[Christian Social People\\'s Service]] (CSVD)\\n* [[Communist Party of Germany]] (KPD)\\n* [[Communist Party of Germany (Opposition)]] (KPO)\\n* [[Conservative People\\'s Party (Germany)|Conservative People\\'s Party]] (KVP)\\n* [[German Democratic Party]] (DDP)\\n* [[German National People\\'s Party]] (DNVP)\\n* [[German People\\'s Party]] (DVP)\\n* [[German Völkisch Freedom Party|German Racialist Freedom Party]] (DVFP)\\n* [[German State Party]] (DStP)\\n* [[German Workers\\' Party]] (DAP)\\n* [[Independent Social Democratic Party of Germany]] (USPD)\\n* [[Nazi Party|National Socialist German Workers\\' Party]] (NSDAP)\\n* [[Socialist Workers\\' Party of Germany]] (SAPD)\\n\\n===Parties in [[Saar Protectorate]]===\\n{{Main|Saar Protectorate#Minister-Presidents}}\\n* [[Social Democratic Party of Saarland]]\\n* [[Democratic Party of Saarland]]\\n* [[Communist Party of Saarland]]\\n* [[Christian People\\'s Party of Saarland]]\\n* [[German Democratic Union]]\\n\\n===Defunct parties in (former) West Germany===\\n* [[Bund der Deutschen|Alliance of Germans]] (BdD)\\n* [[German Party (1961)|German Party]] (DP)\\n* [[Deutsche Rechtspartei|German Conservative Party - German Right Party]] (DKP-DRP)\\n* [[Deutsche Reichspartei|German Reich Party]] (DRP)\\n* [[All-German Bloc/League of Expellees and Deprived of Rights]] (GB/BHE)\\n* [[All-German People\\'s Party]] (GVP)\\n* [[Communist Party of Germany (Roter Morgen)]]\\n* [[Deutsche Friedens-Union|German Peace Union]] (DFU)\\n\\n====Parties banned by the Constitutional Court====\\n* [[Socialist Reich Party]] (SRP), banned in 1952\\n* [[Communist Party of Germany]] (KPD), banned in 1956\\n\\n===Parties in (former) East Germany===\\n\\n====[[Bloc party (politics)#East Germany|Bloc parties]] in the socialist state (1949–1989)====\\n* [[Socialist Unity Party of Germany]] (SED), \"Leading Role\" per 1968 [[Constitution of East Germany|Constitution]]\\n* [[Christian Democratic Union (East Germany)|Christian Democratic Union of Germany]] (CDUD)\\n* [[Liberal Democratic Party of Germany]] (LDPD)\\n* [[Democratic Farmers\\' Party of Germany]] (DBD)\\n* [[National Democratic Party of Germany (East Germany)|National Democratic Party of Germany]] (NDPD)\\n\\n====During transition (1989–90)====\\n\\n*[[Alliance 90]]\\n**[[Democracy Now (East Germany)|Democracy Now]]\\n**[[Initiative for Peace and Human Rights]] (IFM)\\n**[[New Forum]]\\n*[[Alliance for Germany]] \\n**[[Christian Democratic Union (East Germany)|Christian Democratic Union]] (CDU)\\n**[[Democratic Awakening]] (DA)\\n**[[German Social Union (East Germany)|German Social Union]] (DSU)\\n*[[Association of Free Democrats]] (BFD)\\n**[[Liberal Democratic Party of Germany|Liberal Democratic Party]] (LDP)\\n**[[Free Democratic Party (GDR)|Free Democratic Party]] (FDP)\\n**[[German Forum Party]] (DFP)\\n*[[Democratic Farmers\\' Party of Germany]] (DBD)\\n*[[East German Green Party|Green Party]] (Greens)\\n*[[National Democratic Party of Germany (East Germany)|National Democratic Party of Germany]] (NDPD)\\n*[[Social Democratic Party in the GDR]] (SDP)\\n*[[Socialist Unity Party of Germany]]—[[Party of Democratic Socialism (Germany)|Party of Democratic Socialism]] (SED-PDS)\\n*[[United Left (East Germany)|United Left]] (VL)\\n\\n===Parties founded from 1989===\\n* [[The Grays – Gray Panthers]] (GRAUE)\\n* [[Party for a Rule of Law Offensive]] (Offensive D)\\n* [[Statt Party]]\\n* [[The Freedom - Civil rights Party for more Freedom and Democracy]]\\n* [[Citizens for Mecklenburg-Vorpommern]]\\n* [[Pro Germany Citizens\\' Movement]]\\n* [[The Blue Party (Germany)|The Blue Party]]\\n* [[New Liberals (Germany)|New Liberals]]\\n\\n==See also==\\n* [[Lists of political parties]]; categories by [[:Category:Political parties by country|country]] and [[:Category:political parties by ideology|ideology]].\\'\\'\\n* [[History of Germany since 1945]]\\n* [[Liberalism in Germany]]\\n\\n== References ==\\n{{reflist|30em}}\\n\\n== External links ==\\n* [http://www.crwflags.com/fotw/flags/de%7D.html Political Parties (Germany)] - List of German political parties since 1949\\n* [http://wahl.tagesschau.de/uebersicht-der-wahlen.shtml Overview of the elections since 1946 (Übersicht der Wahlen seit 1946)] (on the website of the [[Tagesschau (German TV series)|Tagesschau]] news service) - Election results in Germany since 1946 on state, federal and European levels (German descriptions, but graphics and data can be accessed without these).\\n\\n{{Parties of Germany}}\\n{{Historical German political parties}}\\n{{Germany topics}}\\n{{List of political parties in Europe}}\\n\\n{{DEFAULTSORT:List Of Political Parties In Germany}}\\n[[Category:Lists of political parties by country|Germany]]\\n[[Category:Germany politics-related lists|Political parties]]\\n[[Category:Political parties in Germany| ]]\\n[[Category:Lists of political parties in Europe|Germany]]\\n[[Category:Lists of organisations based in Germany|Political parties]]'"
      ]
     },
     "execution_count": 26,
     "metadata": {},
     "output_type": "execute_result"
    }
   ],
   "source": [
    "text"
   ]
  },
  {
   "cell_type": "markdown",
   "id": "9e723131",
   "metadata": {},
   "source": [
    "Parsing the page with wikitextparser, by first making a page object:"
   ]
  },
  {
   "cell_type": "code",
   "execution_count": 27,
   "id": "93b9cc9b",
   "metadata": {},
   "outputs": [],
   "source": [
    "page = wtp.parse(text)"
   ]
  },
  {
   "cell_type": "markdown",
   "id": "68d5742b",
   "metadata": {},
   "source": [
    "Getting page templates:"
   ]
  },
  {
   "cell_type": "code",
   "execution_count": 28,
   "id": "6fd036cb",
   "metadata": {},
   "outputs": [
    {
     "data": {
      "text/plain": [
       "[Template('{{Short description|None}}'),\n",
       " Template('{{Politics of Germany}}'),\n",
       " Template('{{Cite web |url=http://www.dw-world.de/popups/popup_printcontent/0,,1647406,00.html |title=Chronik: Bundestagswahlen von 1949 bis 2002 &#124; Deutschland &#124; Deutsche Welle &#124; 02.10.2005 |access-date=2009-10-10 |archive-url=https://web.archive.org/web/20081108114315/http://www.dw-world.de/popups/popup_printcontent/0,,1647406,00.html |archive-date=2008-11-08 |url-status=dead }}'),\n",
       " Template('{{cite web |url=http://www.dw-world.de/dw/article/0,,4541120,00.html |title=Political parties form colorful spectrum in Germany |date=2009-08-18 |access-date=2009-09-12 |publisher=[[Deutsche Welle]] }}'),\n",
       " Template('{{citation |url=http://www.dw-world.de/dw/article/0,,4582700,00.html |title=The Green party: Getting used to opposition |date=2009-08-24 |access-date=2009-10-12 |publisher=[[Deutsche Welle]] |quote=This made a so-called [[Jamaica coalition (politics)|Jamaica coalition]] with the Christian Democratic Union and the Free Democratic Party impossible.}}'),\n",
       " Template('{{party color|Social Democratic Party of Germany}}'),\n",
       " Template('{{Composition bar|206|736|{{party color|Social Democratic Party of Germany}}}}'),\n",
       " Template('{{party color|Social Democratic Party of Germany}}'),\n",
       " Template('{{Composition bar|16|96|{{party color|Social Democratic Party of Germany}}}}'),\n",
       " Template('{{party color|Social Democratic Party of Germany}}')]"
      ]
     },
     "execution_count": 28,
     "metadata": {},
     "output_type": "execute_result"
    }
   ],
   "source": [
    "page.templates[:10]"
   ]
  },
  {
   "cell_type": "markdown",
   "id": "2d74182c",
   "metadata": {},
   "source": [
    "Like in the previous section, we can get the links in the page, this time with a different order:"
   ]
  },
  {
   "cell_type": "code",
   "execution_count": 29,
   "id": "ce4f0672",
   "metadata": {},
   "outputs": [
    {
     "data": {
      "text/plain": [
       "[WikiLink('[[political party|political parties]]'),\n",
       " WikiLink('[[politics of Germany|Germany]]'),\n",
       " WikiLink('[[Federal Republic of Germany]]'),\n",
       " WikiLink('[[multi-party]]'),\n",
       " WikiLink('[[Christian Democratic Union (Germany)|Christian Democratic Union]]'),\n",
       " WikiLink('[[Christian Social Union of Bavaria|Christian Social Union]]'),\n",
       " WikiLink('[[Social Democratic Party of Germany]]'),\n",
       " WikiLink('[[Free Democratic Party (Germany)|Free Democratic Party]]'),\n",
       " WikiLink('[[Alliance 90/The Greens]]'),\n",
       " WikiLink('[[The Left (Germany)|The Left]]')]"
      ]
     },
     "execution_count": 29,
     "metadata": {},
     "output_type": "execute_result"
    }
   ],
   "source": [
    "page.wikilinks[:10]"
   ]
  },
  {
   "cell_type": "markdown",
   "id": "31e63fa6",
   "metadata": {},
   "source": [
    "Getting sections, no bugs with wikitexmtparser!"
   ]
  },
  {
   "cell_type": "code",
   "execution_count": 31,
   "id": "6160c13d",
   "metadata": {},
   "outputs": [
    {
     "data": {
      "text/plain": [
       "Section(\"{{Short description|None}}\\n{{Politics of Germany}}\\nThis is a '''list of [[political party|political parties]] in [[politics of Germany|Germany]]'''.\\n\\nThe [[Federal Republic of Germany]] has a plural [[multi-party]] system. The largest by members and parliament seats are the [[Christian Democratic Union (Germany)|Christian Democratic Union]] (CDU), with its sister party, the [[Christian Social Union of Bavaria|Christian Social Union]] (CSU) and [[Social Democratic Party of Germany]] (SPD).\\n\\nGermany also has a number of other parties, in recent history most importantly the [[Free Democratic Party (Germany)|Free Democratic Party]] (FDP), [[Alliance 90/The Greens]], [[The Left (Germany)|The Left]], and more recently the [[Alternative for Germany]] (AfD), founded in 2013. The federal government of Germany often consisted of a [[coalition government|coalition]] of a major and a minor party, specifically CDU/CSU and FDP or SPD and FDP, and from 1998 to 2005 SPD and Greens. From 1966 to 1969, from 2005 to 2009 and from 2013 to 2021, the federal government consisted of a coalition of the two major parties, called [[Grand coalition (Germany)|Grand Coalition]].<ref>{{Cite web |url=http://www.dw-world.de/popups/popup_printcontent/0,,1647406,00.html |title=Chronik: Bundestagswahlen von 1949 bis 2002 &#124; Deutschland &#124; Deutsche Welle &#124; 02.10.2005 |access-date=2009-10-10 |archive-url=https://web.archive.org/web/20081108114315/http://www.dw-world.de/popups/popup_printcontent/0,,1647406,00.html |archive-date=2008-11-08 |url-status=dead }}</ref>\\nCoalitions in the [[Bundestag]] and state legislatures are often described by party colors. Party colors are red for the Social Democratic Party, green for Alliance 90/The Greens, yellow for the Free Democratic Party, purple (officially red, which is customarily used for the SPD) for the Left, light blue for the AfD, and black and blue for the CDU and CSU respectively.<ref>{{cite web |url=http://www.dw-world.de/dw/article/0,,4541120,00.html |title=Political parties form colorful spectrum in Germany |date=2009-08-18 |access-date=2009-09-12 |publisher=[[Deutsche Welle]] }}</ref><ref>{{citation |url=http://www.dw-world.de/dw/article/0,,4582700,00.html |title=The Green party: Getting used to opposition |date=2009-08-24 |access-date=2009-10-12 |publisher=[[Deutsche Welle]] |quote=This made a so-called [[Jamaica coalition (politics)|Jamaica coalition]] with the Christian Democratic Union and the Free Democratic Party impossible.}}</ref>\\n\\n\")"
      ]
     },
     "execution_count": 31,
     "metadata": {},
     "output_type": "execute_result"
    }
   ],
   "source": [
    "page.sections[0]"
   ]
  },
  {
   "cell_type": "markdown",
   "id": "4be93c7f",
   "metadata": {},
   "source": [
    "Tables data:"
   ]
  },
  {
   "cell_type": "code",
   "execution_count": 33,
   "id": "311d823b",
   "metadata": {},
   "outputs": [
    {
     "data": {
      "text/plain": [
       "[['Logo',\n",
       "  'Logo',\n",
       "  'Name',\n",
       "  'Abbr.',\n",
       "  'Leader',\n",
       "  'Ideology',\n",
       "  'Elected in state (Seats)',\n",
       "  'Position',\n",
       "  'Notes'],\n",
       " ['',\n",
       "  '[[File:Bürger in Wut Logo.svg|60px]]',\n",
       "  \"[[Citizens in Rage]]<br /><small>''Bürger in Wut''</small>\",\n",
       "  'BIW',\n",
       "  '[[Jan Timke]]',\n",
       "  '[[Right-wing populism]]',\n",
       "  '[[Bremen (state)|Bremen]] (1)',\n",
       "  '[[Right-wing politics|Right-wing]]',\n",
       "  ''],\n",
       " ['',\n",
       "  '[[File:Logo-BVB-FREIE-WAEHLER.svg|60px]]',\n",
       "  \"[[Brandenburg United Civic Movements/Free Voters]]<br /><small>''Brandenburger Vereinigte Bürgerbewegungen / Freie Wähler''</small>\",\n",
       "  'BVB / FW',\n",
       "  '[[Péter Vida]]',\n",
       "  '[[Regionalism (politics)|Regionalism]]',\n",
       "  '[[Brandenburg]] (3)',\n",
       "  \"<!-- Please do NOT add a political position here unless it can be or is cited with a reliable third-party source either here or on the party's page. -->\",\n",
       "  ''],\n",
       " ['',\n",
       "  '[[File:Bürger für Thüringen Logo.png|64x64px]]',\n",
       "  \"[[Citizens for Thuringia]]<br /><small>''Bürger für Thüringen''</small>\",\n",
       "  'BfTh',\n",
       "  '[[Ute Bergner]]',\n",
       "  '[[Liberal conservatism]]',\n",
       "  '[[Thuringia]] (4)',\n",
       "  '[[Right-wing politics|Right-wing]]',\n",
       "  '']]"
      ]
     },
     "execution_count": 33,
     "metadata": {},
     "output_type": "execute_result"
    }
   ],
   "source": [
    "data = page.tables[1].data()\n",
    "data"
   ]
  },
  {
   "cell_type": "markdown",
   "id": "79af55af",
   "metadata": {},
   "source": [
    "Putting the data in a dataframe:"
   ]
  },
  {
   "cell_type": "code",
   "execution_count": 34,
   "id": "c30e4e02",
   "metadata": {},
   "outputs": [
    {
     "data": {
      "text/html": [
       "<div>\n",
       "<style scoped>\n",
       "    .dataframe tbody tr th:only-of-type {\n",
       "        vertical-align: middle;\n",
       "    }\n",
       "\n",
       "    .dataframe tbody tr th {\n",
       "        vertical-align: top;\n",
       "    }\n",
       "\n",
       "    .dataframe thead th {\n",
       "        text-align: right;\n",
       "    }\n",
       "</style>\n",
       "<table border=\"1\" class=\"dataframe\">\n",
       "  <thead>\n",
       "    <tr style=\"text-align: right;\">\n",
       "      <th></th>\n",
       "      <th>Logo</th>\n",
       "      <th>Logo</th>\n",
       "      <th>Name</th>\n",
       "      <th>Abbr.</th>\n",
       "      <th>Leader</th>\n",
       "      <th>Ideology</th>\n",
       "      <th>Elected in state (Seats)</th>\n",
       "      <th>Position</th>\n",
       "      <th>Notes</th>\n",
       "    </tr>\n",
       "  </thead>\n",
       "  <tbody>\n",
       "    <tr>\n",
       "      <th>0</th>\n",
       "      <td></td>\n",
       "      <td>[[File:Bürger in Wut Logo.svg|60px]]</td>\n",
       "      <td>[[Citizens in Rage]]&lt;br /&gt;&lt;small&gt;''Bürger in W...</td>\n",
       "      <td>BIW</td>\n",
       "      <td>[[Jan Timke]]</td>\n",
       "      <td>[[Right-wing populism]]</td>\n",
       "      <td>[[Bremen (state)|Bremen]] (1)</td>\n",
       "      <td>[[Right-wing politics|Right-wing]]</td>\n",
       "      <td></td>\n",
       "    </tr>\n",
       "    <tr>\n",
       "      <th>1</th>\n",
       "      <td></td>\n",
       "      <td>[[File:Logo-BVB-FREIE-WAEHLER.svg|60px]]</td>\n",
       "      <td>[[Brandenburg United Civic Movements/Free Vote...</td>\n",
       "      <td>BVB / FW</td>\n",
       "      <td>[[Péter Vida]]</td>\n",
       "      <td>[[Regionalism (politics)|Regionalism]]</td>\n",
       "      <td>[[Brandenburg]] (3)</td>\n",
       "      <td>&lt;!-- Please do NOT add a political position he...</td>\n",
       "      <td></td>\n",
       "    </tr>\n",
       "    <tr>\n",
       "      <th>2</th>\n",
       "      <td></td>\n",
       "      <td>[[File:Bürger für Thüringen Logo.png|64x64px]]</td>\n",
       "      <td>[[Citizens for Thuringia]]&lt;br /&gt;&lt;small&gt;''Bürge...</td>\n",
       "      <td>BfTh</td>\n",
       "      <td>[[Ute Bergner]]</td>\n",
       "      <td>[[Liberal conservatism]]</td>\n",
       "      <td>[[Thuringia]] (4)</td>\n",
       "      <td>[[Right-wing politics|Right-wing]]</td>\n",
       "      <td></td>\n",
       "    </tr>\n",
       "  </tbody>\n",
       "</table>\n",
       "</div>"
      ],
      "text/plain": [
       "  Logo                                            Logo  \\\n",
       "0                 [[File:Bürger in Wut Logo.svg|60px]]   \n",
       "1             [[File:Logo-BVB-FREIE-WAEHLER.svg|60px]]   \n",
       "2       [[File:Bürger für Thüringen Logo.png|64x64px]]   \n",
       "\n",
       "                                                Name     Abbr.  \\\n",
       "0  [[Citizens in Rage]]<br /><small>''Bürger in W...       BIW   \n",
       "1  [[Brandenburg United Civic Movements/Free Vote...  BVB / FW   \n",
       "2  [[Citizens for Thuringia]]<br /><small>''Bürge...      BfTh   \n",
       "\n",
       "            Leader                                Ideology  \\\n",
       "0    [[Jan Timke]]                 [[Right-wing populism]]   \n",
       "1   [[Péter Vida]]  [[Regionalism (politics)|Regionalism]]   \n",
       "2  [[Ute Bergner]]                [[Liberal conservatism]]   \n",
       "\n",
       "        Elected in state (Seats)  \\\n",
       "0  [[Bremen (state)|Bremen]] (1)   \n",
       "1            [[Brandenburg]] (3)   \n",
       "2              [[Thuringia]] (4)   \n",
       "\n",
       "                                            Position Notes  \n",
       "0                 [[Right-wing politics|Right-wing]]        \n",
       "1  <!-- Please do NOT add a political position he...        \n",
       "2                 [[Right-wing politics|Right-wing]]        "
      ]
     },
     "execution_count": 34,
     "metadata": {},
     "output_type": "execute_result"
    }
   ],
   "source": [
    "df = pd.DataFrame(data[1:])\n",
    "df.columns = data[0]\n",
    "df"
   ]
  },
  {
   "cell_type": "markdown",
   "id": "2bb05f3f",
   "metadata": {},
   "source": [
    "Parsing each cells data with mwparserfromhell and then making the dataframe:"
   ]
  },
  {
   "cell_type": "code",
   "execution_count": 36,
   "id": "02f2104b",
   "metadata": {},
   "outputs": [],
   "source": [
    "for i in range(len(data)):\n",
    "    for j in range(len(data[i])):\n",
    "        wikicode = mwp.parse(data[i][j])\n",
    "        data[i][j] = wikicode.strip_code(data[i][j])"
   ]
  },
  {
   "cell_type": "code",
   "execution_count": 37,
   "id": "ef8f925f",
   "metadata": {},
   "outputs": [
    {
     "data": {
      "text/html": [
       "<div>\n",
       "<style scoped>\n",
       "    .dataframe tbody tr th:only-of-type {\n",
       "        vertical-align: middle;\n",
       "    }\n",
       "\n",
       "    .dataframe tbody tr th {\n",
       "        vertical-align: top;\n",
       "    }\n",
       "\n",
       "    .dataframe thead th {\n",
       "        text-align: right;\n",
       "    }\n",
       "</style>\n",
       "<table border=\"1\" class=\"dataframe\">\n",
       "  <thead>\n",
       "    <tr style=\"text-align: right;\">\n",
       "      <th></th>\n",
       "      <th>Logo</th>\n",
       "      <th>Logo</th>\n",
       "      <th>Name</th>\n",
       "      <th>Abbr.</th>\n",
       "      <th>Leader</th>\n",
       "      <th>Ideology</th>\n",
       "      <th>Elected in state (Seats)</th>\n",
       "      <th>Position</th>\n",
       "      <th>Notes</th>\n",
       "    </tr>\n",
       "  </thead>\n",
       "  <tbody>\n",
       "    <tr>\n",
       "      <th>0</th>\n",
       "      <td></td>\n",
       "      <td>60px</td>\n",
       "      <td>Citizens in RageBürger in Wut</td>\n",
       "      <td>BIW</td>\n",
       "      <td>Jan Timke</td>\n",
       "      <td>Right-wing populism</td>\n",
       "      <td>Bremen (1)</td>\n",
       "      <td>Right-wing</td>\n",
       "      <td></td>\n",
       "    </tr>\n",
       "    <tr>\n",
       "      <th>1</th>\n",
       "      <td></td>\n",
       "      <td>60px</td>\n",
       "      <td>Brandenburg United Civic Movements/Free Voters...</td>\n",
       "      <td>BVB / FW</td>\n",
       "      <td>Péter Vida</td>\n",
       "      <td>Regionalism</td>\n",
       "      <td>Brandenburg (3)</td>\n",
       "      <td></td>\n",
       "      <td></td>\n",
       "    </tr>\n",
       "    <tr>\n",
       "      <th>2</th>\n",
       "      <td></td>\n",
       "      <td>64x64px</td>\n",
       "      <td>Citizens for ThuringiaBürger für Thüringen</td>\n",
       "      <td>BfTh</td>\n",
       "      <td>Ute Bergner</td>\n",
       "      <td>Liberal conservatism</td>\n",
       "      <td>Thuringia (4)</td>\n",
       "      <td>Right-wing</td>\n",
       "      <td></td>\n",
       "    </tr>\n",
       "  </tbody>\n",
       "</table>\n",
       "</div>"
      ],
      "text/plain": [
       "  Logo     Logo                                               Name     Abbr.  \\\n",
       "0          60px                      Citizens in RageBürger in Wut       BIW   \n",
       "1          60px  Brandenburg United Civic Movements/Free Voters...  BVB / FW   \n",
       "2       64x64px         Citizens for ThuringiaBürger für Thüringen      BfTh   \n",
       "\n",
       "        Leader              Ideology Elected in state (Seats)    Position  \\\n",
       "0    Jan Timke   Right-wing populism               Bremen (1)  Right-wing   \n",
       "1   Péter Vida           Regionalism          Brandenburg (3)               \n",
       "2  Ute Bergner  Liberal conservatism            Thuringia (4)  Right-wing   \n",
       "\n",
       "  Notes  \n",
       "0        \n",
       "1        \n",
       "2        "
      ]
     },
     "execution_count": 37,
     "metadata": {},
     "output_type": "execute_result"
    }
   ],
   "source": [
    "df = pd.DataFrame(data[1:])\n",
    "df.columns = data[0]\n",
    "df"
   ]
  },
  {
   "cell_type": "markdown",
   "id": "d020a393",
   "metadata": {},
   "source": [
    "### Alternatives for extracting tables data:\n",
    "\n",
    "**1. wikitables library:** Small bugs need to be handled by hand:\n"
   ]
  },
  {
   "cell_type": "code",
   "execution_count": 39,
   "id": "4c553191",
   "metadata": {
    "scrolled": false
   },
   "outputs": [
    {
     "name": "stderr",
     "output_type": "stream",
     "text": [
      "List of political parties in Germany[0][0]: dropping field from unknown column: Centre-left\n",
      "List of political parties in Germany[0][0]: dropping field from unknown column: S&D\n",
      "List of political parties in Germany[0][1]: dropping field from unknown column: Centre-right\n",
      "List of political parties in Germany[0][1]: dropping field from unknown column: EPP\n",
      "List of political parties in Germany[0][2]: dropping field from unknown column: \n",
      "List of political parties in Germany[0][2]: dropping field from unknown column: EPP\n",
      "List of political parties in Germany[0][3]: dropping field from unknown column: Centre-left\n",
      "List of political parties in Germany[0][3]: dropping field from unknown column: Greens/EFA\n",
      "List of political parties in Germany[0][4]: dropping field from unknown column: Centre to centre-right\n",
      "List of political parties in Germany[0][4]: dropping field from unknown column: RE\n",
      "List of political parties in Germany[0][5]: dropping field from unknown column: Far-right\n",
      "List of political parties in Germany[0][5]: dropping field from unknown column: ID\n",
      "List of political parties in Germany[0][6]: dropping field from unknown column: Left-wing\n",
      "List of political parties in Germany[0][6]: dropping field from unknown column: GUE/NGL\n",
      "List of political parties in Germany[0][7]: dropping field from unknown column: Centre-right\n",
      "List of political parties in Germany[0][7]: dropping field from unknown column: RE\n",
      "List of political parties in Germany[0][8]: dropping field from unknown column: Centre-right\n",
      "List of political parties in Germany[0][8]: dropping field from unknown column: none\n",
      "List of political parties in Germany[0][9]: dropping field from unknown column: Centre\n",
      "List of political parties in Germany[0][9]: dropping field from unknown column: Greens/EFA\n",
      "List of political parties in Germany[0][10]: dropping field from unknown column: Apolitical\n",
      "List of political parties in Germany[0][10]: dropping field from unknown column: None\n",
      "List of political parties in Germany[0][11]: dropping field from unknown column: Centre-right\n",
      "List of political parties in Germany[0][11]: dropping field from unknown column: Greens/EFA\n",
      "List of political parties in Germany[0][12]: dropping field from unknown column: [[Centre-right]] to [[right-wing]]\n",
      "List of political parties in Germany[0][12]: dropping field from unknown column: ECR\n",
      "List of political parties in Germany[0][13]: dropping field from unknown column: Centre to centre-left\n",
      "List of political parties in Germany[0][13]: dropping field from unknown column: Greens/EFA\n",
      "List of political parties in Germany[0][14]: dropping field from unknown column: Syncretic\n",
      "List of political parties in Germany[0][14]: dropping field from unknown column: Greens/EFA\n",
      "List of political parties in Germany[0][15]: dropping field from unknown column: [[Centre-right]] to [[right-wing]]\n",
      "List of political parties in Germany[0][15]: dropping field from unknown column: ECR\n",
      "List of political parties in Germany[0][16]: missing field for column [Abbr.]\n",
      "List of political parties in Germany[0][16]: missing field for column [Leader(s)]\n",
      "List of political parties in Germany[0][16]: missing field for column [Ideology]\n",
      "List of political parties in Germany[0][16]: missing field for column [MdBs]\n",
      "List of political parties in Germany[0][16]: missing field for column [MEPs]\n",
      "List of political parties in Germany[0][16]: missing field for column [Political position]\n",
      "List of political parties in Germany[0][16]: missing field for column [EP group]\n",
      "List of political parties in Germany[1][0]: dropping field from unknown column: \n",
      "List of political parties in Germany[1][1]: dropping field from unknown column: \n",
      "List of political parties in Germany[1][2]: dropping field from unknown column: \n",
      "List of political parties in Germany[2][0]: dropping field from unknown column: ECPM\n",
      "List of political parties in Germany[2][1]: dropping field from unknown column: \n",
      "List of political parties in Germany[2][2]: dropping field from unknown column: \n",
      "List of political parties in Germany[2][3]: dropping field from unknown column: \n",
      "List of political parties in Germany[2][4]: dropping field from unknown column: none\n",
      "List of political parties in Germany[2][5]: dropping field from unknown column: \n",
      "List of political parties in Germany[2][6]: dropping field from unknown column: none\n",
      "List of political parties in Germany[2][7]: dropping field from unknown column: EFA\n",
      "List of political parties in Germany[2][8]: dropping field from unknown column: none\n",
      "List of political parties in Germany[2][9]: dropping field from unknown column: none\n",
      "List of political parties in Germany[2][10]: dropping field from unknown column: none\n",
      "List of political parties in Germany[2][11]: dropping field from unknown column: none\n",
      "List of political parties in Germany[2][12]: dropping field from unknown column: none\n",
      "List of political parties in Germany[2][13]: dropping field from unknown column: none\n",
      "List of political parties in Germany[2][14]: dropping field from unknown column: none\n",
      "List of political parties in Germany[2][15]: dropping field from unknown column: none\n",
      "List of political parties in Germany[2][16]: dropping field from unknown column: none\n",
      "List of political parties in Germany[2][17]: dropping field from unknown column: none\n",
      "List of political parties in Germany[2][18]: dropping field from unknown column: none\n",
      "List of political parties in Germany[2][19]: dropping field from unknown column: none\n",
      "List of political parties in Germany[2][20]: dropping field from unknown column: none\n",
      "List of political parties in Germany[2][21]: dropping field from unknown column: none\n",
      "List of political parties in Germany[2][22]: dropping field from unknown column: \n",
      "List of political parties in Germany[2][23]: dropping field from unknown column: none\n",
      "List of political parties in Germany[2][24]: dropping field from unknown column: APF\n",
      "List of political parties in Germany[2][25]: dropping field from unknown column: none\n",
      "List of political parties in Germany[2][26]: dropping field from unknown column: none\n",
      "List of political parties in Germany[2][27]: dropping field from unknown column: none\n",
      "List of political parties in Germany[2][28]: dropping field from unknown column: EPIL\n",
      "List of political parties in Germany[2][29]: dropping field from unknown column: APEU\n",
      "List of political parties in Germany[2][30]: dropping field from unknown column: none\n",
      "List of political parties in Germany[2][31]: dropping field from unknown column: none\n",
      "List of political parties in Germany[2][32]: dropping field from unknown column: EFA\n",
      "List of political parties in Germany[2][33]: dropping field from unknown column: none\n",
      "List of political parties in Germany[2][34]: dropping field from unknown column: none\n",
      "List of political parties in Germany[2][35]: dropping field from unknown column: none\n",
      "List of political parties in Germany[2][36]: dropping field from unknown column: none\n",
      "List of political parties in Germany[2][37]: dropping field from unknown column: none\n",
      "List of political parties in Germany[2][38]: dropping field from unknown column: none\n",
      "List of political parties in Germany[2][39]: dropping field from unknown column: none\n",
      "List of political parties in Germany[3][0]: dropping field from unknown column: Agrarianism\n",
      "List of political parties in Germany[3][1]: dropping field from unknown column: Christian democracy\n",
      "List of political parties in Germany[3][2]: dropping field from unknown column: Traditionalist conservatism Christian democracy Anti-Semitism\n",
      "List of political parties in Germany[3][3]: dropping field from unknown column: Liberalism Laïcité\n",
      "List of political parties in Germany[3][4]: dropping field from unknown column: National conservatism\n",
      "List of political parties in Germany[3][5]: dropping field from unknown column: Liberalism Progressivism Parliamentarism Laicism\n",
      "List of political parties in Germany[3][6]: dropping field from unknown column: National liberalism\n",
      "List of political parties in Germany[3][7]: dropping field from unknown column: Social democracy Democratic socialism\n",
      "List of political parties in Germany[3][8]: dropping field from unknown column: Conservatism Economic liberalism Anti-Catholicism\n",
      "List of political parties in Germany[3][9]: dropping field from unknown column: German nationalism Monarchism Militarism Volksgemeinschaft\n"
     ]
    },
    {
     "name": "stderr",
     "output_type": "stream",
     "text": [
      "List of political parties in Germany[3][10]: dropping field from unknown column: Conservatism Federalism\n",
      "List of political parties in Germany[3][11]: dropping field from unknown column: Social liberalism Federalism Laïcité Parliamentarism\n",
      "List of political parties in Germany[3][12]: dropping field from unknown column: Liberalism Federalism\n",
      "List of political parties in Germany[3][13]: dropping field from unknown column: Liberalism Progressivism Parliamentarism Laïcité\n",
      "List of political parties in Germany[3][14]: dropping field from unknown column: Democratic socialism Centrist Marxism Pacifism\n",
      "List of political parties in Germany[3][15]: dropping field from unknown column: Liberalism Parliamentarism Classical liberalism Economic liberalism Conservative liberalism\n",
      "List of political parties in Germany[3][16]: dropping field from unknown column: National liberalism\n",
      "List of political parties in Germany[3][17]: dropping field from unknown column: Christian socialism Social liberalism Nationalism\n",
      "List of political parties in Germany[3][18]: dropping field from unknown column: Social liberalism Parliamentarism Laïcité\n",
      "List of political parties in Germany[3][19]: dropping field from unknown column: Social democracy Marxist socialism\n"
     ]
    }
   ],
   "source": [
    "from wikitables import import_tables\n",
    "\n",
    "tables = import_tables('List of political parties in Germany')"
   ]
  },
  {
   "cell_type": "code",
   "execution_count": 40,
   "id": "e59348be",
   "metadata": {},
   "outputs": [
    {
     "data": {
      "text/plain": [
       "'[{\"Name\": \"\", \"Abbr.\": \"Bavarian Peasants\\' League\", \"Ideology\": \"BB\"}, {\"Name\": \"\", \"Abbr.\": \"Centre Party\", \"Ideology\": \"Zentrum\"}, {\"Name\": \"\", \"Abbr.\": \"Christian Social Party\", \"Ideology\": \"CSP\"}, {\"Name\": \"\", \"Abbr.\": \"Democratic Union\", \"Ideology\": \"DV\"}, {\"Name\": \"\", \"Abbr.\": \"Free Conservative Party\", \"Ideology\": \"FKP\"}, {\"Name\": \"\", \"Abbr.\": \"Free-minded People\\'s Party\", \"Ideology\": \"FVP\"}, {\"Name\": \"\", \"Abbr.\": \"Free-minded Union\", \"Ideology\": \"FV\"}, {\"Name\": \"\", \"Abbr.\": \"General German Workers\\' Association\", \"Ideology\": \"ADAV\"}, {\"Name\": \"\", \"Abbr.\": \"German Conservative Party\", \"Ideology\": \"DKP\"}, {\"Name\": \"\", \"Abbr.\": \"German Fatherland Party\", \"Ideology\": \"DVLP\"}, {\"Name\": \"\", \"Abbr.\": \"German-Hanoverian Party\", \"Ideology\": \"DHP\"}, {\"Name\": \"\", \"Abbr.\": \"German People\\'s Party\", \"Ideology\": \"DtVP\"}, {\"Name\": \"\", \"Abbr.\": \"German Progress Party\", \"Ideology\": \"DFP\"}, {\"Name\": \"\", \"Abbr.\": \"German Free-minded Party\", \"Ideology\": \"DFP\"}, {\"Name\": \"\", \"Abbr.\": \"Independent Social Democratic Party of Germany\", \"Ideology\": \"USPD\"}, {\"Name\": \"\", \"Abbr.\": \"Liberal Union\", \"Ideology\": \"LV\"}, {\"Name\": \"\", \"Abbr.\": \"National Liberal Party\", \"Ideology\": \"NLP\"}, {\"Name\": \"\", \"Abbr.\": \"National-Social Association\", \"Ideology\": \"NSV\"}, {\"Name\": \"\", \"Abbr.\": \"Progressive People\\'s Party\", \"Ideology\": \"FVP\"}, {\"Name\": \"\", \"Abbr.\": \"Social Democratic Workers\\' Party of Germany\", \"Ideology\": \"SDAP\"}]'"
      ]
     },
     "execution_count": 40,
     "metadata": {},
     "output_type": "execute_result"
    }
   ],
   "source": [
    "tables[3].json()"
   ]
  },
  {
   "cell_type": "code",
   "execution_count": 41,
   "id": "bb5f51fb",
   "metadata": {},
   "outputs": [
    {
     "name": "stdout",
     "output_type": "stream",
     "text": [
      "60px\n"
     ]
    }
   ],
   "source": [
    "print(tables[0].rows[0]['Abbr.'])"
   ]
  },
  {
   "cell_type": "markdown",
   "id": "3e31f0e9",
   "metadata": {},
   "source": [
    "**2. Introducing DBpedia:** www.dbpedia.org"
   ]
  },
  {
   "cell_type": "markdown",
   "id": "425df720",
   "metadata": {},
   "source": [
    "# 4. Challanges\n",
    "\n",
    "Facebook completely closed down many of it’s APIs and it is not very hard to get Facebook data besides CrowdTangle or FB Ads.\n",
    "\n",
    "Twitter’s API now has the version 2 with substantial changes. \n",
    "\n",
    "These challanges make us stay vigilant and continuously update our code to keep up with the APIs.\n",
    "\n",
    "- More on Social Media data collection and data quality:\n",
    "https://www.slideshare.net/suchprettyeyes/working-with-socialmedia-data-ethics-good-practice-around-collecting-using-and-storing-data"
   ]
  },
  {
   "cell_type": "markdown",
   "id": "3fe29c81",
   "metadata": {},
   "source": [
    "# 5. References\n",
    "\n",
    "Zenk-Möltgen, Wolfgang (GESIS - Leibniz Institute for the Social Sciences), Python Script to rehydrate Tweets from Tweet IDs https://doi.org/10.7802/1504\n",
    "\n",
    "Pfeffer, Morstatter (2016): Geotagged Twitter posts from the United States: A tweet collection to investigate representativeness. Dataset. http://dx.doi.org/10.7802/1166\n",
    "\n",
    "Do not miss checking out the Social Comquant Workshop 10 at:https://github.com/strohne/autocol\n",
    "\n",
    "- Useful links for getting started with Twitter API v2\n",
    "    - [Comprehensive Guide for Using the Twitter API v2](https://dev.to/twitterdev/a-comprehensive-guide-for-using-the-twitter-api-v2-using-tweepy-in-python-15d9#:~:text=Tweepy%20is%20a%20popular%20package,the%20academic%20research%20product%20track)\n",
    "    - [Step by Step Guide to Making Your First Request to the Twitter API v2](https://developer.twitter.com/en/docs/tutorials/step-by-step-guide-to-making-your-first-request-to-the-twitter-api-v2)\n",
    "    - [Getting Started with Data Collection Using Twitter API v2](https://towardsdatascience.com/getting-started-with-data-collection-using-twitter-api-v2-in-less-than-an-hour-600fbd5b5558#39c4)\n",
    "    - [An Extensive Guide to Collecting Tweets from Twitter API v2 for Academic REsearch Using Python 3](https://towardsdatascience.com/an-extensive-guide-to-collecting-tweets-from-twitter-api-v2-for-academic-research-using-python-3-518fcb71df2a)\n",
    "    - [What Pythong package is best for getting data from Twitter](https://towardsdatascience.com/what-python-package-is-best-for-getting-data-from-twitter-comparing-tweepy-and-twint-f481005eccc9)\n",
    "\n",
    "- Useful links for getting started with Reddit API\n",
    "    - https://www.reddit.com/r/TheoryOfReddit/wiki/collecting_data/- \n",
    "    - https://towardsdatascience.com/scrape-reddit-data-using-python-and-google-bigquery-44180b579892\n",
    "    - https://github.com/akhilesh-reddy/Cable-cord-cutter-Sentiment-analysis-using-Reddit-data\n",
    "    \n",
    "<a href=\"https://www.flaticon.com/free-icons/database\" title=\"database icons\">Database icons created by Smashicons - Flaticon</a>\n",
    "\n",
    "<a href=\"https://de.freepik.com/vektoren/logo\">Logo Vektor erstellt von rawpixel.com - de.freepik.com</a>\n",
    "\n",
    "<a href=\"http://www.freepik.com\">Designed by stories / Freepik</a>\n",
    "\n"
   ]
  },
  {
   "cell_type": "markdown",
   "id": "3932b9e5",
   "metadata": {},
   "source": [
    "### Note: Alternative Ways for Twitter Academic API or Premium Account\n",
    "\n",
    "The search function mandatorily requires environment label and query argument. Label your Application on Twitter Developer page: https://developer.twitter.com/en/account/environments\n",
    "\n",
    "You can optionally add the fromDate and toDate fields to filter search results by time.\n",
    "\n",
    "The format of dates should \"YYYYMMDDHHMM\".\n",
    "\n",
    "tweets_month = api.search_30_day(label='teaching', query=search_words, \n",
    "                                 fromDate=\"202202201000\", toDate=\"202203010000\")\n",
    "\n",
    "Now, you can dump your results into json format *don't forget to import json*: print(json.dumps(tweet_results[0]._json, indent=4, sort_keys=True))\n",
    "                                 \n",
    "For further interest, visit: https://towardsdatascience.com/how-to-use-twitter-premium-search-apis-for-mining-tweets-2705bbaddca\n",
    "\n",
    "Also, there is another library called Twarc2 to explore for further data collection with Twitter v2 API:\n",
    "https://twarc-project.readthedocs.io/en/latest/api/client2/\n",
    "\n",
    "An academic research product:\n",
    "https://github.com/twitterdev/getting-started-with-the-twitter-api-v2-for-academic-research/blob/main/modules/6a-labs-code-academic-python.md\n",
    "\n",
    "A standart product: \n",
    "https://github.com/twitterdev/getting-started-with-the-twitter-api-v2-for-academic-research/blob/main/modules/6b-labs-code-standard-python.md"
   ]
  }
 ],
 "metadata": {
  "kernelspec": {
   "display_name": "Python 3 (ipykernel)",
   "language": "python",
   "name": "python3"
  },
  "language_info": {
   "codemirror_mode": {
    "name": "ipython",
    "version": 3
   },
   "file_extension": ".py",
   "mimetype": "text/x-python",
   "name": "python",
   "nbconvert_exporter": "python",
   "pygments_lexer": "ipython3",
   "version": "3.9.12"
  }
 },
 "nbformat": 4,
 "nbformat_minor": 5
}
