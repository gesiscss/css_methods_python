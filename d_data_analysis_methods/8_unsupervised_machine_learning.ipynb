{
 "cells": [
  {
   "cell_type": "markdown",
   "id": "e607ca26",
   "metadata": {},
   "source": [
    "<img src='images/gesis.png' style='height: 50px; float: left'>\n",
    "<img src='images/social_comquant.png' style='height: 50px; float: left; margin-left: 40px'>"
   ]
  },
  {
   "cell_type": "markdown",
   "id": "b70bc56f",
   "metadata": {},
   "source": [
    "## Introduction to Computational Social Science methods with Python"
   ]
  },
  {
   "cell_type": "markdown",
   "id": "71218328",
   "metadata": {},
   "source": [
    "# Session 8. Unsupervised machine learning\n",
    "\n",
    "2-dimensional data paradigm: observations and features (variables)\n",
    "\n",
    "Well-behaved (dense and balanced) vs. badly-behaved data (sparse, binary, and/or non-linear)\n",
    "\n",
    "...\n",
    "\n",
    "<div class='alert alert-block alert-success'>\n",
    "<b>In this session</b>, \n",
    "\n",
    "you will learn how you can ...\n",
    "</div>"
   ]
  },
  {
   "cell_type": "markdown",
   "id": "0adb89bd",
   "metadata": {},
   "source": [
    "## 8.1. Dimensionality reduction\n",
    "\n",
    "https://scikit-learn.org/stable/modules/decomposition.html#decompositions\n",
    "\n",
    "Hovy textbook chapter 6"
   ]
  },
  {
   "cell_type": "markdown",
   "id": "5f0aec46",
   "metadata": {},
   "source": [
    "### 8.1.1. Well-behaved data\n",
    "\n",
    "Introduce Principal Component Analysis (PCA) using the Iris dataset"
   ]
  },
  {
   "cell_type": "markdown",
   "id": "7f8db0c4",
   "metadata": {},
   "source": [
    "https://scikit-learn.org/stable/auto_examples/decomposition/plot_pca_iris.html"
   ]
  },
  {
   "cell_type": "markdown",
   "id": "dab24781",
   "metadata": {},
   "source": [
    "Explain PCA in easy terms"
   ]
  },
  {
   "cell_type": "markdown",
   "id": "ec463fb6",
   "metadata": {},
   "source": [
    "Infer two factors and visualize them"
   ]
  },
  {
   "cell_type": "markdown",
   "id": "687abc24",
   "metadata": {},
   "source": [
    "How to interpret the results: describe the factors in terms of the features (Hovy chapter 6.3)"
   ]
  },
  {
   "cell_type": "markdown",
   "id": "8e9acf67",
   "metadata": {},
   "source": [
    "Offer conclusion: recommendation when to use and not to use PCA; its limitations"
   ]
  },
  {
   "cell_type": "code",
   "execution_count": null,
   "id": "5c30675d",
   "metadata": {},
   "outputs": [],
   "source": []
  },
  {
   "cell_type": "markdown",
   "id": "4d23009a",
   "metadata": {},
   "source": [
    "### 8.1.2. Badly-behaving data\n",
    "\n",
    "Introduce other methods (Non-negative matrix factorization, Sparse PCA, Kernel PCA, Truncated Singular Value Decomposition, Latent Dirichlet Allocation, etc.): https://scikit-learn.org/stable/modules/classes.html#module-sklearn.decomposition"
   ]
  },
  {
   "cell_type": "markdown",
   "id": "664d97f0",
   "metadata": {},
   "source": [
    "Lesson: flowers can be tweets or documents and petal attributes can be communicative symbols or terms"
   ]
  },
  {
   "cell_type": "code",
   "execution_count": null,
   "id": "25903958",
   "metadata": {},
   "outputs": [],
   "source": []
  },
  {
   "cell_type": "markdown",
   "id": "20c2f8be",
   "metadata": {},
   "source": [
    "#### Latent Dirichlet Allocation (LDA)\n",
    "\n",
    "Generative probabilistic model"
   ]
  },
  {
   "cell_type": "markdown",
   "id": "fcc1adb5",
   "metadata": {},
   "source": [
    "Bayesian method"
   ]
  },
  {
   "cell_type": "markdown",
   "id": "d86a2b5a",
   "metadata": {},
   "source": [
    "LDA vs. clustering self-trained word embeddings from session 6 (Hovy chapter 9.6)"
   ]
  },
  {
   "cell_type": "markdown",
   "id": "282c024d",
   "metadata": {},
   "source": [
    "Caveats"
   ]
  },
  {
   "cell_type": "markdown",
   "id": "cc6f7cc3",
   "metadata": {},
   "source": [
    "Data: the same corpus that was prepared in session 6"
   ]
  },
  {
   "cell_type": "markdown",
   "id": "766c5415",
   "metadata": {},
   "source": [
    "Shortly mention the sklearn LDA pipeline?"
   ]
  },
  {
   "cell_type": "markdown",
   "id": "125d89c5",
   "metadata": {},
   "source": [
    "gensim for LDA (Hovy chapter 9.2)"
   ]
  },
  {
   "cell_type": "code",
   "execution_count": null,
   "id": "00c4edfc",
   "metadata": {},
   "outputs": [],
   "source": []
  },
  {
   "cell_type": "markdown",
   "id": "13c15f48",
   "metadata": {},
   "source": [
    "BOX: Structural topic model: Hovy chapter 9.4"
   ]
  },
  {
   "cell_type": "markdown",
   "id": "f4dd5021",
   "metadata": {},
   "source": [
    "BOX: Why is that machine learning?"
   ]
  },
  {
   "cell_type": "markdown",
   "id": "7c58e405",
   "metadata": {},
   "source": [
    "## 8.2. Clustering\n",
    "\n",
    "https://scikit-learn.org/stable/modules/clustering.html#clustering"
   ]
  },
  {
   "cell_type": "markdown",
   "id": "1b208157",
   "metadata": {},
   "source": [
    "### 8.2.1. Well-behaved data\n",
    "\n",
    "Iris dataset\n",
    "\n",
    "#### K-Means\n",
    "\n",
    "How it works, when to use it"
   ]
  },
  {
   "cell_type": "markdown",
   "id": "7f5dad05",
   "metadata": {},
   "source": [
    "Silhouette score to find optimal number of clusters: https://scikit-learn.org/stable/modules/clustering.html#clustering-evaluation and https://scikit-learn.org/stable/auto_examples/cluster/plot_kmeans_silhouette_analysis.html"
   ]
  },
  {
   "cell_type": "code",
   "execution_count": null,
   "id": "766fdfe8",
   "metadata": {},
   "outputs": [],
   "source": []
  },
  {
   "cell_type": "markdown",
   "id": "107dd1be",
   "metadata": {},
   "source": [
    "BOX: Other methods for identifying optimal number of clusters; https://scikit-learn.org/stable/modules/classes.html#sklearn-metrics-metrics"
   ]
  },
  {
   "cell_type": "markdown",
   "id": "b5a3a358",
   "metadata": {},
   "source": [
    "#### Agglomarative clustering\n",
    "\n",
    "How it works, when to use it"
   ]
  },
  {
   "cell_type": "markdown",
   "id": "a42110e4",
   "metadata": {},
   "source": [
    "Silhouette score from the beginning"
   ]
  },
  {
   "cell_type": "code",
   "execution_count": null,
   "id": "42a3a7c6",
   "metadata": {},
   "outputs": [],
   "source": []
  },
  {
   "cell_type": "markdown",
   "id": "6390234b",
   "metadata": {},
   "source": [
    "### 8.2.2. Badly-behaving data\n",
    "\n",
    "Mention available methods: https://scikit-learn.org/stable/modules/classes.html#module-sklearn.cluster"
   ]
  },
  {
   "cell_type": "markdown",
   "id": "f7b35abe",
   "metadata": {},
   "source": [
    "Introduce trick to use dimensionality reduction before (K-Means) clustering; https://datascience.stackexchange.com/questions/23591/clustering-algorithms-for-high-dimensional-binary-sparse-data"
   ]
  },
  {
   "cell_type": "code",
   "execution_count": null,
   "id": "b0a8fe9d",
   "metadata": {},
   "outputs": [],
   "source": []
  },
  {
   "cell_type": "markdown",
   "id": "2b2e3109",
   "metadata": {},
   "source": [
    "## 8.3. Association rule mining\n",
    "\n",
    "https://sherbold.github.io/intro-to-data-science/05_Association-Rule-Mining.html\n",
    "\n",
    "use http://rasbt.github.io/mlxtend/?"
   ]
  },
  {
   "cell_type": "markdown",
   "id": "4a6464ad",
   "metadata": {},
   "source": [
    "Describe associations for all TweetsCOV19 tweets and for clusters identified in subsection 8.2"
   ]
  },
  {
   "cell_type": "code",
   "execution_count": null,
   "id": "7e550a89",
   "metadata": {},
   "outputs": [],
   "source": []
  },
  {
   "cell_type": "markdown",
   "id": "b98d082a",
   "metadata": {},
   "source": [
    "## Commented references\n",
    "\n",
    "### Recommended textbooks\n",
    "\n",
    "Hovy, D. (2020). *Text Analysis in Python for Social Scientists: Discovery and Exploration*. Cambridge University Press. https://doi.org/10.1017/9781108873352. *ADD COMMENT*\n",
    "\n",
    "### Other cited references\n",
    "\n",
    "..."
   ]
  },
  {
   "cell_type": "markdown",
   "id": "758d9eec",
   "metadata": {},
   "source": [
    "<div class='alert alert-block alert-success'>\n",
    "<b>Document information</b>\n",
    "\n",
    "Contact and main author: ...\n",
    "\n",
    "Contributors: ...\n",
    "\n",
    "Acknowledgements: ...\n",
    "\n",
    "Version date: XX. January 2023\n",
    "\n",
    "License: ...\n",
    "</div>"
   ]
  },
  {
   "cell_type": "markdown",
   "id": "662b5253",
   "metadata": {},
   "source": [
    "#### Notes to be removed before publication\n",
    "\n",
    "- ..."
   ]
  }
 ],
 "metadata": {
  "kernelspec": {
   "display_name": "Python 3 (ipykernel)",
   "language": "python",
   "name": "python3"
  },
  "language_info": {
   "codemirror_mode": {
    "name": "ipython",
    "version": 3
   },
   "file_extension": ".py",
   "mimetype": "text/x-python",
   "name": "python",
   "nbconvert_exporter": "python",
   "pygments_lexer": "ipython3",
   "version": "3.9.13"
  }
 },
 "nbformat": 4,
 "nbformat_minor": 5
}
