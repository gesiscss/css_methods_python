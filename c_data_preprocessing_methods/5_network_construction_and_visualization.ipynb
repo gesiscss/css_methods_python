{
 "cells": [
  {
   "cell_type": "markdown",
   "id": "3e63ddfe",
   "metadata": {},
   "source": [
    "# 5. Network Construction and Visualization"
   ]
  },
  {
   "cell_type": "markdown",
   "id": "12790ea3",
   "metadata": {},
   "source": [
    "graphs and networks\n",
    "\n",
    "options in python and beyond\n",
    "\n",
    "why networkx ... open a browser window https://networkx.org/documentation/stable/reference/index.html to ...\n",
    "\n",
    "Four construction types\n",
    "\n",
    "Network drawing: goal to visualize much information (Krempel book)\n",
    "\n",
    "...\n",
    "\n",
    "**Python textbooks using networkx**\n",
    "\n",
    "Caldarelli & Chessa 2016. Data Science and Complex Networks: Real Case Studies with Python. https://doi.org/10.1093/acprof:oso/9780199639601.001.0001. Code: https://github.com/datascienceandcomplexnetworks.\n",
    "\n",
    "Platt 2019. Network Science with Python and NetworkX Quick Start Guide. https://www.packtpub.com/product/network-science-with-python-and-networkx-quick-start-guide/9781789955316. Code: https://github.com/PacktPublishing/Network-Science-with-Python-and-NetworkX-Quick-Start-Guide.\n",
    "\n",
    "Menczer et al. 2020. A First Course in Network Science. https://doi.org/10.1017/9781108653947. Code: https://cambridgeuniversitypress.github.io/FirstCourseNetworkScience/.\n",
    "\n",
    "Ma & Seth 2022. Network Analysis Made Simple. https://leanpub.com/nams. Code: https://ericmjl.github.io/Network-Analysis-Made-Simple/.\n",
    "\n",
    "...\n",
    "\n",
    "**Other textbooks**\n",
    "\n",
    "Newman FOR ERRORS\n",
    "\n",
    "Barabasi\n",
    "\n",
    "Wasserman & Faust\n",
    "\n",
    "Zweig\n",
    "\n",
    "Borgatti & Everett\n",
    "\n",
    "..."
   ]
  },
  {
   "cell_type": "code",
   "execution_count": null,
   "id": "21af490e",
   "metadata": {},
   "outputs": [],
   "source": [
    "## nodelists and edgelists\n",
    "### attributes\n",
    "#nx.from_pandas_edgelist()\n",
    "#g.nodes()\n",
    "#g.edges()\n",
    "#g.number_of_nodes()\n",
    "#g.number_of_edges()\n",
    "#\n",
    "## copenhagen network data\n",
    "#\n",
    "## 1 static\n",
    "#\n",
    "## plotting\n",
    "## spring embedding\n",
    "### connected components\n",
    "#nx.is_connected()\n",
    "#\n",
    "## 2 discrete dynamic\n",
    "### slice by timestamp (sekara paper)\n",
    "### slice by degree\n",
    "#\n",
    "## 3 multilayer\n",
    "### from variable\n",
    "### from data via clustering (node2vec?)\n",
    "#nx.MultiGraph()\n",
    "#\n",
    "## 4 multimodal\n",
    "### tweetskb\n",
    "### 2-partite\n",
    "### k-partite\n",
    "### pandas to scipy\n",
    "#\n",
    "## import/export"
   ]
  },
  {
   "cell_type": "markdown",
   "id": "3c4dfd37",
   "metadata": {},
   "source": [
    "TODO: LINK CLASSES TO NETWORKX WEBSITE"
   ]
  },
  {
   "cell_type": "markdown",
   "id": "1e0aa633",
   "metadata": {},
   "source": [
    "## 5.1. Static networks\n",
    "\n",
    "...\n",
    "\n",
    "### 5.1.1. Constructing from scratch"
   ]
  },
  {
   "cell_type": "code",
   "execution_count": null,
   "id": "b0b8ad9d",
   "metadata": {},
   "outputs": [],
   "source": [
    "import networkx as nx"
   ]
  },
  {
   "cell_type": "code",
   "execution_count": null,
   "id": "86c688a0",
   "metadata": {},
   "outputs": [],
   "source": [
    "# Nodes can be added either node by node ...\n",
    "G = nx.Graph()\n",
    "G.add_node('Peter')\n",
    "G.add_node('Paul')\n",
    "G.add_node('Mary')\n",
    "G.nodes()"
   ]
  },
  {
   "cell_type": "code",
   "execution_count": null,
   "id": "3d1e47e6",
   "metadata": {},
   "outputs": [],
   "source": [
    "# or they can be added at once\n",
    "G = nx.Graph()\n",
    "G.add_nodes_from(['Peter', 'Paul', 'Mary'])\n",
    "G.nodes()"
   ]
  },
  {
   "cell_type": "code",
   "execution_count": null,
   "id": "8e556dc3",
   "metadata": {},
   "outputs": [],
   "source": [
    "# Similarly, edges can be added edge by edge ...\n",
    "G.add_edge('Peter', 'Paul')\n",
    "G.add_edge('Peter', 'Mary')\n",
    "G.add_edge('Paul', 'Mary')\n",
    "G.edges()"
   ]
  },
  {
   "cell_type": "code",
   "execution_count": null,
   "id": "e2a79736",
   "metadata": {},
   "outputs": [],
   "source": [
    "# or all at once\n",
    "G.add_edges_from([['Peter', 'Paul'], ['Peter', 'Mary'], ['Paul', 'Mary']])\n",
    "G.edges()"
   ]
  },
  {
   "cell_type": "code",
   "execution_count": null,
   "id": "47761f30",
   "metadata": {},
   "outputs": [],
   "source": [
    "#nx.Graph({'Peter': ('Paul', 'Mary'), 'Paul': 'Mary'})"
   ]
  },
  {
   "cell_type": "markdown",
   "id": "8626a620",
   "metadata": {},
   "source": [
    "### 5.1.2. Constructing from Pandas dataframes"
   ]
  },
  {
   "cell_type": "code",
   "execution_count": null,
   "id": "ae59c4c4",
   "metadata": {},
   "outputs": [],
   "source": [
    "import pandas as pd"
   ]
  },
  {
   "cell_type": "code",
   "execution_count": null,
   "id": "eed3b270",
   "metadata": {},
   "outputs": [],
   "source": [
    "# Suppose we have a list of nodes with attributes\n",
    "nodelist = pd.DataFrame([['Peter', 100, 'red'], ['Paul', 300, 'green'], ['Mary', 500, 'blue']], columns=['name', 'size', 'color'])\n",
    "#nodelist = pd.DataFrame(['Peter', 'Paul', 'Mary'], columns=['name'])\n",
    "nodelist"
   ]
  },
  {
   "cell_type": "code",
   "execution_count": null,
   "id": "4d6173a1",
   "metadata": {},
   "outputs": [],
   "source": [
    "# Add nodes from list\n",
    "G = nx.Graph()\n",
    "G.add_nodes_from(nodelist['name'].tolist())\n",
    "#G.add_nodes_from(nodelist.index.tolist())\n",
    "G.nodes()"
   ]
  },
  {
   "cell_type": "code",
   "execution_count": null,
   "id": "f2a67dd4",
   "metadata": {},
   "outputs": [],
   "source": [
    "# Suppose we also have a list of edges with attributes\n",
    "edgelist = pd.DataFrame([['Peter', 'Paul', 1, 'red', 'solid'], ['Peter', 'Mary', 2, 'red', 'solid'], ['Paul', 'Mary', 3, 'green', 'dashed']], columns=['source', 'target', 'weight', 'color', 'style'])\n",
    "edgelist"
   ]
  },
  {
   "cell_type": "code",
   "execution_count": null,
   "id": "bf94b783",
   "metadata": {},
   "outputs": [],
   "source": [
    "# Add edges from list\n",
    "#G = nx.from_pandas_edgelist(df=edgelist, source='source', target='target', edge_attr=['width', 'color'])\n",
    "G = nx.from_pandas_edgelist(df=edgelist, source='source', target='target')\n",
    "G.edges()"
   ]
  },
  {
   "cell_type": "code",
   "execution_count": null,
   "id": "ce95edc5",
   "metadata": {},
   "outputs": [],
   "source": [
    "# Some users may store their networks as adjacency matrices\n",
    "matrix = pd.DataFrame([[0, 1, 2], [0, 0, 3], [0, 0, 0]], index=['Peter', 'Paul', 'Mary'], columns=['Peter', 'Paul', 'Mary'])\n",
    "matrix"
   ]
  },
  {
   "cell_type": "code",
   "execution_count": null,
   "id": "8e8aa6e3",
   "metadata": {},
   "outputs": [],
   "source": [
    "# Add edges from adjacency matrix\n",
    "G = nx.Graph()\n",
    "G = nx.from_pandas_adjacency(matrix)\n",
    "G.edges(data=True)"
   ]
  },
  {
   "cell_type": "markdown",
   "id": "119bf34a",
   "metadata": {},
   "source": [
    "Note that `from_pandas_adjacency()` directly adds edge weights stored in the cells of the adjacency matrix. To utilize them for network drawing, they must be transformed into a list:"
   ]
  },
  {
   "cell_type": "code",
   "execution_count": null,
   "id": "73bc5c70",
   "metadata": {},
   "outputs": [],
   "source": [
    "edge_weight = list(nx.get_edge_attributes(G, 'weight').values())"
   ]
  },
  {
   "cell_type": "markdown",
   "id": "c5b7769d",
   "metadata": {},
   "source": [
    "This list is then called in the `draw()` function:"
   ]
  },
  {
   "cell_type": "code",
   "execution_count": null,
   "id": "4455c535",
   "metadata": {},
   "outputs": [],
   "source": [
    "nx.draw(G=G, with_labels=True, width=edge_weight)"
   ]
  },
  {
   "cell_type": "markdown",
   "id": "8abb3d87",
   "metadata": {},
   "source": [
    "### 5.1.3. Internalizing attributes\n",
    "While it is nice that edge weights can be stored in the adjacency matrix and easily added to the graph, the matrix format wates memory because -- other than in the edgelist -- zeros are also stored. The matrix format can also store only one edge attribute whereas the edgelist can store as many as you want. In fact, edge weights do not have to be internalized in the graph object. Here, we call all node and edge attributes from the node and edge lists:"
   ]
  },
  {
   "cell_type": "code",
   "execution_count": null,
   "id": "953bb39d",
   "metadata": {},
   "outputs": [],
   "source": [
    "nx.draw(\n",
    "    G=G, \n",
    "    with_labels=True, \n",
    "    node_size=nodelist['size'], \n",
    "    node_color=nodelist['color'], \n",
    "    width=edgelist['weight'], \n",
    "    edge_color=edgelist['color'], \n",
    "    style=edgelist['style']\n",
    ")"
   ]
  },
  {
   "cell_type": "markdown",
   "id": "7561d360",
   "metadata": {},
   "source": [
    "Still, it might be a good idea to internalize attributes -- to store them in the graph object. For example, you may prefer to keep track of just one object and not an additional object for each attribute. Or you may want to store graph and attributes in a pickle file to use transfer a preprocessed graph to another notebook."
   ]
  },
  {
   "cell_type": "code",
   "execution_count": null,
   "id": "74d9e21d",
   "metadata": {},
   "outputs": [],
   "source": [
    "# Add edges with attributes from edgelist\n",
    "G = nx.Graph()\n",
    "G = nx.from_pandas_edgelist(df=edgelist, source='source', target='target', edge_attr=['weight', 'color'])\n",
    "G.edges(data=True)"
   ]
  },
  {
   "cell_type": "markdown",
   "id": "9e27e906",
   "metadata": {},
   "source": [
    "Once you have read an edge list and internalized the edge attributes, you can still add more attributes. However, this is relatively complicated, it requires some extra steps that are nest put into a function:"
   ]
  },
  {
   "cell_type": "code",
   "execution_count": null,
   "id": "e085c5cd",
   "metadata": {},
   "outputs": [],
   "source": [
    "# Add additional edge attribute (style)\n",
    "def get_edge_attr_values(df, edge_attr, source='source', target='target'):\n",
    "    '''\n",
    "        Bla\n",
    "    '''\n",
    "    df = pd.DataFrame([edgelist[[edge_attr]].to_dict('records')]).T\n",
    "    df.index = list(zip(edgelist[source], edgelist[target]))\n",
    "    return list(df.to_dict().values())[0]\n",
    "style = get_edge_attr_values(edgelist, 'style')\n",
    "style"
   ]
  },
  {
   "cell_type": "markdown",
   "id": "340bfdc7",
   "metadata": {},
   "source": [
    "The additional edge attributes created with the `get_edge_attr_values()` function can then be internalized:"
   ]
  },
  {
   "cell_type": "code",
   "execution_count": null,
   "id": "339fc735",
   "metadata": {},
   "outputs": [],
   "source": [
    "nx.set_edge_attributes(G, style)"
   ]
  },
  {
   "cell_type": "code",
   "execution_count": null,
   "id": "382e9322",
   "metadata": {},
   "outputs": [],
   "source": [
    "G.edges(data=True)"
   ]
  },
  {
   "cell_type": "markdown",
   "id": "fb79593f",
   "metadata": {},
   "source": [
    "For node attributes there is no function that directly adds them from the nodelist. We have to write our own little function `get_node_attr_values()` to take node attributes from the nodelist and store them in a way that NetworkX needs. The function works attribute by attribute:"
   ]
  },
  {
   "cell_type": "code",
   "execution_count": null,
   "id": "d0ba2c6e",
   "metadata": {},
   "outputs": [],
   "source": [
    "# Internalize node attributes\n",
    "def get_node_attr_values(df, node, node_attr):\n",
    "    '''\n",
    "        Bla\n",
    "    '''\n",
    "    return dict(zip(df[node], df[node_attr]))\n",
    "size = get_node_attr_values(nodelist, 'name', 'size')\n",
    "color = get_node_attr_values(nodelist, 'name', 'color')"
   ]
  },
  {
   "cell_type": "code",
   "execution_count": null,
   "id": "8671628d",
   "metadata": {},
   "outputs": [],
   "source": [
    "nx.set_node_attributes(G, size, 'size')\n",
    "nx.set_node_attributes(G, color, 'color')"
   ]
  },
  {
   "cell_type": "code",
   "execution_count": null,
   "id": "febe1d64",
   "metadata": {},
   "outputs": [],
   "source": [
    "G.nodes(data=True)"
   ]
  },
  {
   "cell_type": "markdown",
   "id": "bf7d1485",
   "metadata": {},
   "source": [
    "Finally, we can also add an attribute to the network itself, usually just a description:"
   ]
  },
  {
   "cell_type": "code",
   "execution_count": null,
   "id": "8225778f",
   "metadata": {},
   "outputs": [],
   "source": [
    "G.graph['name'] = 'Toy example'\n",
    "G.graph"
   ]
  },
  {
   "cell_type": "markdown",
   "id": "101941e0",
   "metadata": {},
   "source": [
    "### 5.1.4. Drawing networks with internal attributes\n",
    "To draw the network with all the internalized attributes (all but the graph attribute), we must transform them to lists:"
   ]
  },
  {
   "cell_type": "code",
   "execution_count": null,
   "id": "1a791e1d",
   "metadata": {},
   "outputs": [],
   "source": [
    "# Transform internal attributes back into lists that can be used for network drawing\n",
    "node_size = list(nx.get_node_attributes(G, 'size').values())\n",
    "node_color = list(nx.get_node_attributes(G, 'color').values())\n",
    "edge_weight = list(nx.get_edge_attributes(G, 'weight').values())\n",
    "edge_color = list(nx.get_edge_attributes(G, 'color').values())\n",
    "edge_style = list(nx.get_edge_attributes(G, 'style').values())"
   ]
  },
  {
   "cell_type": "code",
   "execution_count": null,
   "id": "a6c99e3b",
   "metadata": {},
   "outputs": [],
   "source": [
    "nx.draw(\n",
    "    G=G, \n",
    "    with_labels=True, \n",
    "    node_size=node_size, \n",
    "    node_color=node_color, \n",
    "    width=edge_weight, \n",
    "    edge_color=edge_color, \n",
    "    style=edge_style\n",
    ")"
   ]
  },
  {
   "cell_type": "markdown",
   "id": "d7ca4700",
   "metadata": {},
   "source": [
    "To repeatedly draw the same graph with the same node positions, it is useful to also internalize those:"
   ]
  },
  {
   "cell_type": "code",
   "execution_count": null,
   "id": "290f9fec",
   "metadata": {},
   "outputs": [],
   "source": [
    "pos = nx.circular_layout(G)"
   ]
  },
  {
   "cell_type": "code",
   "execution_count": null,
   "id": "68b0373e",
   "metadata": {},
   "outputs": [],
   "source": [
    "nx.set_node_attributes(G, pos, 'pos')"
   ]
  },
  {
   "cell_type": "code",
   "execution_count": null,
   "id": "e43bd8d6",
   "metadata": {},
   "outputs": [],
   "source": [
    "node_pos = nx.get_node_attributes(G, 'pos')"
   ]
  },
  {
   "cell_type": "markdown",
   "id": "23a1eef8",
   "metadata": {},
   "source": [
    "Note that the input for the `pos` parameter in the `draw()` function must be a dictionary, not as list as for most other parameters:"
   ]
  },
  {
   "cell_type": "code",
   "execution_count": null,
   "id": "beb9452c",
   "metadata": {},
   "outputs": [],
   "source": [
    "nx.draw(\n",
    "    G=G, \n",
    "    pos=node_pos, \n",
    "    with_labels=True, \n",
    "    node_size=node_size, \n",
    "    node_color=node_color, \n",
    "    width=edge_weight, \n",
    "    edge_color=edge_color, \n",
    "    style=edge_style\n",
    ")"
   ]
  },
  {
   "cell_type": "markdown",
   "id": "0cc80d45",
   "metadata": {},
   "source": [
    "### 5.1.5. Directed networks\n",
    "\n",
    "..."
   ]
  },
  {
   "cell_type": "code",
   "execution_count": null,
   "id": "a2308c4f",
   "metadata": {},
   "outputs": [],
   "source": []
  },
  {
   "cell_type": "markdown",
   "id": "39aa6ad8",
   "metadata": {},
   "source": [
    "<div class='alert-info'>\n",
    "<big><b>Nodes as labels or integers?</b></big>\n",
    "\n",
    "NetworkX can handle any definition of nodes, whether they are strings, integers, or even both. This makes NetworkX easier to use. But you may still want to use integers $\\{0, 1, ..., N\\}$ to specify your nodes in a more formal way where $N$ is the number of nodes. If you want that, you can use the index of your nodelist as node labels and use those integers in the edgelist. More information is [here](https://networkx.org/documentation/stable/tutorial.html#what-to-use-as-nodes-and-edges).\n",
    "</div>"
   ]
  },
  {
   "cell_type": "markdown",
   "id": "621b7cc6",
   "metadata": {},
   "source": [
    "### 5.1.6. The Copenhagen Networks Study interaction data\n",
    "On the data ...\n",
    "\n",
    "https://doi.org/10.1038/s41597-019-0325-x\n",
    "\n",
    "https://doi.org/10.6084/m9.figshare.11283407\n",
    "\n",
    "Load data from figshare into the `data/cns/` folder.\n",
    "\n",
    "The Copenhagen_Networks_Study_Notebook demonstrated how to load the data and do some visualizations..."
   ]
  },
  {
   "cell_type": "code",
   "execution_count": null,
   "id": "e65ca911",
   "metadata": {},
   "outputs": [],
   "source": [
    "nodelist_cns = pd.read_csv('data/cns/genders.csv')\n",
    "nodelist_cns"
   ]
  },
  {
   "cell_type": "markdown",
   "id": "4ba2bf5c",
   "metadata": {},
   "source": [
    "The nodelist contains 787 rows, and the largest user number is 847, so we use user numbers as labels in the standard NetworkX way:"
   ]
  },
  {
   "cell_type": "code",
   "execution_count": null,
   "id": "ec6bbc22",
   "metadata": {},
   "outputs": [],
   "source": [
    "G_cns = nx.Graph()\n",
    "G_cns.add_nodes_from(nodelist_cns['# user'].tolist())\n",
    "female = get_node_attr_values(nodelist_cns, '# user', 'female')\n",
    "nx.set_node_attributes(G_cns, female, 'female')\n",
    "G_cns.nodes(data=True)"
   ]
  },
  {
   "cell_type": "markdown",
   "id": "4e0fa406",
   "metadata": {},
   "source": [
    "We start with the Facebook friendship relationships because the resulting graph is simple (i.e., undirected and unweighted):"
   ]
  },
  {
   "cell_type": "code",
   "execution_count": null,
   "id": "701f9b2b",
   "metadata": {},
   "outputs": [],
   "source": [
    "edgelist_cns_fb = pd.read_csv('data/cns/fb_friends.csv')\n",
    "edgelist_cns_fb"
   ]
  },
  {
   "cell_type": "code",
   "execution_count": null,
   "id": "cac236cf",
   "metadata": {},
   "outputs": [],
   "source": [
    "print(open('data/cns/fb_friends.README', 'r').read())"
   ]
  },
  {
   "cell_type": "code",
   "execution_count": null,
   "id": "4ea835c5",
   "metadata": {},
   "outputs": [],
   "source": [
    "# TALK ABOUT INHERITANCE OF CHANGES\n",
    "G_cns_fb = G_cns.copy()"
   ]
  },
  {
   "cell_type": "code",
   "execution_count": null,
   "id": "3dd055f2",
   "metadata": {},
   "outputs": [],
   "source": [
    "G_cns_fb = nx.from_pandas_edgelist(df=edgelist_cns_fb, source='# user_a', target='user_b')\n",
    "G_cns_fb.edges()"
   ]
  },
  {
   "cell_type": "markdown",
   "id": "b033d05f",
   "metadata": {},
   "source": [
    "### 5.1.7. Layouting networks\n",
    "\n",
    "...\n",
    "\n",
    "adjust window size using matplotlib\n",
    "\n",
    "CHECK IF NODES AND FEMALE ATTRIBUTES MATCH\n",
    "\n",
    "...\n",
    "\n",
    "FIX VERSION CONFLICT:"
   ]
  },
  {
   "cell_type": "code",
   "execution_count": null,
   "id": "454fce65",
   "metadata": {},
   "outputs": [],
   "source": [
    "#nx.draw(G_cns_fb)"
   ]
  },
  {
   "cell_type": "markdown",
   "id": "24b5f612",
   "metadata": {},
   "source": [
    "## 5.2. Network snapshots from link streams\n",
    "\n",
    "Link streams are ... can originate in ...\n",
    "\n",
    "Exogenous time vs. endogenous time ...\n",
    "\n",
    "..."
   ]
  },
  {
   "cell_type": "markdown",
   "id": "40f6eb37",
   "metadata": {},
   "source": [
    "### 5.2.1. Aggregating edges by clock\n",
    "\n",
    "Sekara paper: https://doi.org/10.1073/pnas.1602803113\n",
    "\n",
    "..."
   ]
  },
  {
   "cell_type": "code",
   "execution_count": null,
   "id": "efb617fa",
   "metadata": {},
   "outputs": [],
   "source": [
    "edgelist_cns_bt = pd.read_csv('data/cns/bt_symmetric.csv')\n",
    "edgelist_cns_bt"
   ]
  },
  {
   "cell_type": "code",
   "execution_count": null,
   "id": "86868aeb",
   "metadata": {},
   "outputs": [],
   "source": [
    "print(open('data/cns/bt_symmetric.README', 'r').read())"
   ]
  },
  {
   "cell_type": "markdown",
   "id": "a3450c5b",
   "metadata": {},
   "source": [
    "How Bluetooth works ... scans ... experiment devides ... RSSI ...\n",
    "\n",
    "The Sekara paper reports (OR DOES IT REPORT THAT THESE ARE SECONDS IN % MINUTE INTERVALS?) that Bluetooth searches were performed every five minutes. By transforming `# timestamp` into a categorical variable, we see that time is measured in seconds. ...\n",
    "\n",
    "4 weeks consist of 8,064 intervals of 5 minutes."
   ]
  },
  {
   "cell_type": "code",
   "execution_count": null,
   "id": "c9b0cdd0",
   "metadata": {},
   "outputs": [],
   "source": [
    "# '# timestamp'\n",
    "edgelist_cns_bt['# timestamp'].astype('category').cat.categories"
   ]
  },
  {
   "cell_type": "code",
   "execution_count": null,
   "id": "edf4aaa8",
   "metadata": {},
   "outputs": [],
   "source": [
    "# Transform `rssi` into signal strength between 0 and 8063\n",
    "edgelist_cns_bt['# timestamp'] = edgelist_cns_bt['# timestamp'].astype('category').cat.codes\n",
    "edgelist_cns_bt.rename(columns={'# timestamp': 'time'}, inplace=True)\n",
    "edgelist_cns_bt['time'].max()"
   ]
  },
  {
   "cell_type": "code",
   "execution_count": null,
   "id": "d58aa50f",
   "metadata": {},
   "outputs": [],
   "source": [
    "# Remove (non-experiment devides) & (four errors)\n",
    "edgelist_cns_bt = edgelist_cns_bt[(edgelist_cns_bt['user_b'] >= 0) & (edgelist_cns_bt['rssi'] < 0)].reset_index(drop=True)"
   ]
  },
  {
   "cell_type": "code",
   "execution_count": null,
   "id": "b6df59d6",
   "metadata": {},
   "outputs": [],
   "source": [
    "# Transform `rssi` into signal strength between 0 and 92\n",
    "edgelist_cns_bt['rssi'] = edgelist_cns_bt['rssi']+100\n",
    "edgelist_cns_bt.rename(columns={'rssi': 'strength'}, inplace=True)\n",
    "edgelist_cns_bt['strength'].max()"
   ]
  },
  {
   "cell_type": "code",
   "execution_count": null,
   "id": "96f40a40",
   "metadata": {},
   "outputs": [],
   "source": [
    "edgelist_cns_bt"
   ]
  },
  {
   "cell_type": "code",
   "execution_count": null,
   "id": "41737b8c",
   "metadata": {},
   "outputs": [],
   "source": [
    "edgelist_cns_bt['strength'].hist()"
   ]
  },
  {
   "cell_type": "code",
   "execution_count": null,
   "id": "62b5d452",
   "metadata": {},
   "outputs": [],
   "source": [
    "# Construct networks just from edgelist (i.e., isolated persons will be missing)\n",
    "def aggregate_edges(df, time, source, target, weight, time_zero, time_window, fun, directed=False):\n",
    "    '''\n",
    "        Bla\n",
    "    '''\n",
    "    if weight == None:\n",
    "        weight = 'weight'\n",
    "        df[weight] = 1\n",
    "    if fun == 'max':\n",
    "        df_agg = df[df[time].between(time_zero, time_zero+time_window-1)].groupby([source, target]).max().reset_index()[[source, target, weight]]\n",
    "    if fun == 'sum':\n",
    "        df_agg = df[df[time].between(time_zero, time_zero+time_window-1)].groupby([source, target]).sum().reset_index()[[source, target, weight]]\n",
    "    if directed == False:\n",
    "        graph_type = nx.Graph\n",
    "    else:\n",
    "        graph_type = nx.DiGraph\n",
    "    G_agg = nx.from_pandas_edgelist(\n",
    "        df=df_agg, \n",
    "        source=source, \n",
    "        target=target, \n",
    "        edge_attr=weight, \n",
    "        create_using=graph_type\n",
    "    )\n",
    "    return df_agg, G_agg"
   ]
  },
  {
   "cell_type": "code",
   "execution_count": null,
   "id": "9491ce33",
   "metadata": {},
   "outputs": [],
   "source": [
    "import matplotlib.pyplot as plt"
   ]
  },
  {
   "cell_type": "code",
   "execution_count": null,
   "id": "d95e91d5",
   "metadata": {},
   "outputs": [],
   "source": [
    "time_zero = 0\n",
    "time_windows = [3, 36, 288]\n",
    "window_labels = ['15 minutes', '3 hours', '1 day']\n",
    "\n",
    "fig, axs = plt.subplots(1, len(time_windows), figsize=(15, 5))\n",
    "for i in range(len(time_windows)):\n",
    "    _, G_agg = aggregate_edges(\n",
    "        df=edgelist_cns_bt, \n",
    "        time='time', \n",
    "        source='user_a', \n",
    "        target='user_b', \n",
    "        weight='strength', \n",
    "        time_zero=time_zero, \n",
    "        time_window=time_windows[i], \n",
    "        fun='max'\n",
    "    )\n",
    "    axs[i].set_title('Edges aggregated over '+window_labels[i])\n",
    "    nx.draw(\n",
    "        G=G_agg, \n",
    "        ax=axs[i], \n",
    "        node_size=5, \n",
    "        width=[strength/20. for strength in list(nx.get_edge_attributes(G_agg, 'strength').values())]\n",
    "    )"
   ]
  },
  {
   "cell_type": "markdown",
   "id": "64ef948e",
   "metadata": {},
   "source": [
    "INTERPRET ABOVE RESULT IN LIGHT OF SEKARA PAPER"
   ]
  },
  {
   "cell_type": "markdown",
   "id": "5cd9da90",
   "metadata": {},
   "source": [
    "28 1-day snapshots:"
   ]
  },
  {
   "cell_type": "code",
   "execution_count": null,
   "id": "fdc0ce18",
   "metadata": {},
   "outputs": [],
   "source": [
    "#time_zero = 0\n",
    "#time_window = 288\n",
    "#l_df_cns_bt = []\n",
    "#l_G_cns_bt = []\n",
    "#\n",
    "##fig, axs = plt.subplots(4, 7, figsize=(14, 8))\n",
    "#for i in range(28):\n",
    "#    df_agg, G_agg = aggregate_edges(\n",
    "#        df=edgelist_cns_bt, \n",
    "#        time='time', \n",
    "#        source='user_a', \n",
    "#        target='user_b', \n",
    "#        weight='strength', \n",
    "#        time_zero=time_zero, \n",
    "#        time_window=time_window, \n",
    "#        fun='max'\n",
    "#    )\n",
    "#    l_df_cns_bt.append(df_agg)\n",
    "#    l_G_cns_bt.append(G_agg)\n",
    "#    time_zero += time_window\n",
    "#    #axs[i].set_title('Edges aggregated for day '+str(i))\n",
    "#    nx.draw(\n",
    "#        G=G_agg, \n",
    "#        #ax=axs[i], \n",
    "#        node_size=5, \n",
    "#        width=[strength/20. for strength in list(nx.get_edge_attributes(G_agg, 'strength').values())]\n",
    "#    )"
   ]
  },
  {
   "cell_type": "markdown",
   "id": "575f83f7",
   "metadata": {},
   "source": [
    "### 5.2.2. Aggregating edges by connectivity\n",
    "\n",
    "..."
   ]
  },
  {
   "cell_type": "code",
   "execution_count": null,
   "id": "c01a01f5",
   "metadata": {},
   "outputs": [],
   "source": [
    "#k_threshold = 10.\n",
    "#time_zero = 0\n",
    "#l_df_cns_bt = []\n",
    "#l_G_cns_bt = []\n",
    "#\n",
    "#while time_zero < edgelist_cns_bt['time'].max():\n",
    "#    print(time_zero)\n",
    "#    k_mean = 0.\n",
    "#    time_window = 1\n",
    "#    while k_mean < k_threshold:\n",
    "#        #print(time_window)\n",
    "#        df_agg, G_agg = aggregate_edges(\n",
    "#            df=edgelist_cns_bt, \n",
    "#            time='time', \n",
    "#            source='user_a', \n",
    "#            target='user_b', \n",
    "#            weight='strength', \n",
    "#            time_zero=time_zero, \n",
    "#            time_window=time_window, \n",
    "#            fun='max'\n",
    "#        )\n",
    "#        k_mean = sum(dict(dict(G_agg.degree())).values())/G_agg.number_of_nodes()\n",
    "#        time_window += 1\n",
    "#        if time_zero + time_window > edgelist_cns_bt['time'].max(): break\n",
    "#    l_df_cns_bt.append(df_agg)\n",
    "#    l_G_cns_bt.append(G_agg)\n",
    "#    time_zero += time_window"
   ]
  },
  {
   "cell_type": "markdown",
   "id": "933d9f71",
   "metadata": {},
   "source": [
    "Giant connected components in the first day:"
   ]
  },
  {
   "cell_type": "code",
   "execution_count": null,
   "id": "05765f4c",
   "metadata": {},
   "outputs": [],
   "source": [
    "time_zero = 0\n",
    "l_df_cns_bt = []\n",
    "l_G_cns_bt = []\n",
    "\n",
    "while time_zero < 288: # edgelist_cns_bt['time'].max()\n",
    "    #print(time_zero)\n",
    "    P = 0.\n",
    "    time_window = 1\n",
    "    while P < .5:\n",
    "        #print(time_window)\n",
    "        df_agg, G_agg = aggregate_edges(\n",
    "            df=edgelist_cns_bt, \n",
    "            time='time', \n",
    "            source='user_a', \n",
    "            target='user_b', \n",
    "            weight='strength', \n",
    "            time_zero=time_zero, \n",
    "            time_window=time_window, \n",
    "            fun='max'\n",
    "        )\n",
    "        P = G_agg.subgraph(sorted(nx.connected_components(G_agg), key=len, reverse=True)[0]).number_of_nodes()/G_agg.number_of_nodes()\n",
    "        time_window += 1\n",
    "        if time_zero + time_window > edgelist_cns_bt['time'].max(): break\n",
    "    l_df_cns_bt.append(df_agg)\n",
    "    l_G_cns_bt.append(G_agg)\n",
    "    time_zero += time_window"
   ]
  },
  {
   "cell_type": "code",
   "execution_count": null,
   "id": "1a3fe100",
   "metadata": {},
   "outputs": [],
   "source": [
    "len(l_G_cns_bt)"
   ]
  },
  {
   "cell_type": "code",
   "execution_count": null,
   "id": "aac21cdc",
   "metadata": {},
   "outputs": [],
   "source": [
    "fig, axs = plt.subplots(1, 4, figsize=(16, 4))\n",
    "for i in range(4):\n",
    "    axs[i].set_title('Snapshot '+str(i))\n",
    "    nx.draw(\n",
    "        G=l_G_cns_bt[i], \n",
    "        ax=axs[i], \n",
    "        node_size=5, \n",
    "        width=[strength/20. for strength in list(nx.get_edge_attributes(l_G_cns_bt[i], 'strength').values())]\n",
    "    )"
   ]
  },
  {
   "cell_type": "markdown",
   "id": "627abf7d",
   "metadata": {},
   "source": [
    "## 5.3. Multilayer networks\n",
    "\n",
    "Meaning of multiple layers ... literature\n",
    "\n",
    "In NetworkX, this is realized by creating parellel edges ...\n",
    "\n",
    "...\n",
    "\n",
    "Two layers from CNS: calls and SMS ... directed edges\n",
    "\n",
    "Add an edge attribute for the layer and combine both edge lists into one.\n",
    "\n",
    "...\n",
    "\n",
    "1st week"
   ]
  },
  {
   "cell_type": "code",
   "execution_count": null,
   "id": "97c7116e",
   "metadata": {},
   "outputs": [],
   "source": [
    "edgelist_cns_calls = pd.read_csv('data/cns/calls.csv')\n",
    "edgelist_cns_calls"
   ]
  },
  {
   "cell_type": "code",
   "execution_count": null,
   "id": "f10c5dba",
   "metadata": {},
   "outputs": [],
   "source": [
    "print(open('data/cns/calls.README', 'r').read())"
   ]
  },
  {
   "cell_type": "code",
   "execution_count": null,
   "id": "291756ae",
   "metadata": {},
   "outputs": [],
   "source": [
    "# Remove missed calls\n",
    "edgelist_cns_calls = edgelist_cns_calls[edgelist_cns_calls['duration'] > 0]"
   ]
  },
  {
   "cell_type": "code",
   "execution_count": null,
   "id": "83945c4a",
   "metadata": {},
   "outputs": [],
   "source": [
    "edgelist_cns_sms = pd.read_csv('data/cns/sms.csv')\n",
    "edgelist_cns_sms"
   ]
  },
  {
   "cell_type": "code",
   "execution_count": null,
   "id": "5fec4990",
   "metadata": {},
   "outputs": [],
   "source": [
    "print(open('data/cns/sms.README', 'r').read())"
   ]
  },
  {
   "cell_type": "markdown",
   "id": "f7da5393",
   "metadata": {},
   "source": [
    "Timestamps are seconds after beginning of experiment ... First week ends after $60*60*24*7=604800$ seconds. ... As edge weights we want to use the summed durations and numbers of short messages, respectively. That means, we use the `sum` function when aggregating edges:"
   ]
  },
  {
   "cell_type": "code",
   "execution_count": null,
   "id": "a0fe7cb0",
   "metadata": {},
   "outputs": [],
   "source": [
    "edgelist_cns_calls_week1, _ = aggregate_edges(\n",
    "    df=edgelist_cns_calls, \n",
    "    time='timestamp', \n",
    "    source='caller', \n",
    "    target='callee', \n",
    "    weight='duration', \n",
    "    time_zero=0, \n",
    "    time_window=604800, \n",
    "    fun='sum', \n",
    "    directed=True\n",
    ")"
   ]
  },
  {
   "cell_type": "code",
   "execution_count": null,
   "id": "65daac74",
   "metadata": {},
   "outputs": [],
   "source": [
    "edgelist_cns_calls_week1"
   ]
  },
  {
   "cell_type": "markdown",
   "id": "fb852714",
   "metadata": {},
   "source": [
    "No weight for short messages, set to None, function sets a 1 ..."
   ]
  },
  {
   "cell_type": "code",
   "execution_count": null,
   "id": "9a7a54f6",
   "metadata": {},
   "outputs": [],
   "source": [
    "edgelist_cns_sms_week1, _ = aggregate_edges(\n",
    "    df=edgelist_cns_sms, \n",
    "    time='timestamp', \n",
    "    source='sender', \n",
    "    target='recipient', \n",
    "    weight=None, \n",
    "    time_zero=0, \n",
    "    time_window=604800, \n",
    "    fun='sum', \n",
    "    directed=True\n",
    ")"
   ]
  },
  {
   "cell_type": "code",
   "execution_count": null,
   "id": "ae6e08b8",
   "metadata": {},
   "outputs": [],
   "source": [
    "edgelist_cns_sms_week1"
   ]
  },
  {
   "cell_type": "markdown",
   "id": "d71199d0",
   "metadata": {},
   "source": [
    "Edge weights for calls and short messages differ in an order of magnitude:"
   ]
  },
  {
   "cell_type": "code",
   "execution_count": null,
   "id": "fdf7393d",
   "metadata": {},
   "outputs": [],
   "source": [
    "edgelist_cns_calls_week1['duration'].max()"
   ]
  },
  {
   "cell_type": "code",
   "execution_count": null,
   "id": "48e9a9fd",
   "metadata": {},
   "outputs": [],
   "source": [
    "edgelist_cns_sms_week1['weight'].max()"
   ]
  },
  {
   "cell_type": "markdown",
   "id": "883097ba",
   "metadata": {},
   "source": [
    "Therefore, we take the natural logarithm of both scores. For this, we need the NumPy scientific computing package:"
   ]
  },
  {
   "cell_type": "code",
   "execution_count": null,
   "id": "02bc0570",
   "metadata": {},
   "outputs": [],
   "source": [
    "import numpy as np"
   ]
  },
  {
   "cell_type": "code",
   "execution_count": null,
   "id": "a94b6a54",
   "metadata": {},
   "outputs": [],
   "source": [
    "edgelist_cns_calls_week1['duration'] = round(np.log(edgelist_cns_calls_week1['duration']) + 1, 2)\n",
    "edgelist_cns_sms_week1['weight'] = round(np.log(edgelist_cns_sms_week1['weight']) + 1, 2)"
   ]
  },
  {
   "cell_type": "markdown",
   "id": "16ad30b7",
   "metadata": {},
   "source": [
    "Before combining both edgelists into one, we harmonize their column names:"
   ]
  },
  {
   "cell_type": "code",
   "execution_count": null,
   "id": "ab35ba70",
   "metadata": {},
   "outputs": [],
   "source": [
    "edgelist_cns_calls_week1.columns = ['source', 'target', 'weight']\n",
    "edgelist_cns_sms_week1.columns = ['source', 'target', 'weight']"
   ]
  },
  {
   "cell_type": "markdown",
   "id": "21fe95c5",
   "metadata": {},
   "source": [
    "Finally, we add layer attributes:"
   ]
  },
  {
   "cell_type": "code",
   "execution_count": null,
   "id": "ccb0c150",
   "metadata": {},
   "outputs": [],
   "source": [
    "edgelist_cns_calls_week1['layer'] = 0\n",
    "edgelist_cns_sms_week1['layer'] = 1"
   ]
  },
  {
   "cell_type": "markdown",
   "id": "4e1055e6",
   "metadata": {},
   "source": [
    "Now that the two edge lists are ready, we concatenate them, resetting the index and dropping the old indices:"
   ]
  },
  {
   "cell_type": "code",
   "execution_count": null,
   "id": "956688bf",
   "metadata": {},
   "outputs": [],
   "source": [
    "edgelist_cns_mobile_week1 = pd.concat([edgelist_cns_calls_week1, edgelist_cns_sms_week1]).reset_index(drop=True)\n",
    "edgelist_cns_mobile_week1"
   ]
  },
  {
   "cell_type": "markdown",
   "id": "40479225",
   "metadata": {},
   "source": [
    "Use two parameters in `from_pandas_edgelist()` function ..."
   ]
  },
  {
   "cell_type": "code",
   "execution_count": null,
   "id": "57a95301",
   "metadata": {},
   "outputs": [],
   "source": [
    "G_cns_mobile_week1 = nx.from_pandas_edgelist(\n",
    "    df=edgelist_cns_mobile_week1, \n",
    "    source='source', \n",
    "    target='target', \n",
    "    edge_attr='weight', \n",
    "    create_using=nx.MultiDiGraph, \n",
    "    edge_key='layer'\n",
    ")"
   ]
  },
  {
   "cell_type": "markdown",
   "id": "572f9880",
   "metadata": {},
   "source": [
    "Inspect the edges ... `keys=True` ... third integer is the layer attribute"
   ]
  },
  {
   "cell_type": "code",
   "execution_count": null,
   "id": "de05c201",
   "metadata": {},
   "outputs": [],
   "source": [
    "G_cns_mobile_week1.edges(data=True, keys=True)"
   ]
  },
  {
   "cell_type": "markdown",
   "id": "5322f0f3",
   "metadata": {},
   "source": [
    "Alternatively:"
   ]
  },
  {
   "cell_type": "code",
   "execution_count": null,
   "id": "f6904b1d",
   "metadata": {},
   "outputs": [],
   "source": [
    "G_cns_mobile_week1.edges.keys()"
   ]
  },
  {
   "cell_type": "markdown",
   "id": "cf0c3319",
   "metadata": {},
   "source": [
    "Again we draw the network using the `draw()` method attached to the graph object:"
   ]
  },
  {
   "cell_type": "code",
   "execution_count": null,
   "id": "4cd06e17",
   "metadata": {},
   "outputs": [],
   "source": [
    "plt.figure(figsize=(8, 8))\n",
    "nx.draw(\n",
    "    G=G_cns_mobile_week1, \n",
    "    #pos=pos_cns_mobile_week1, \n",
    "    node_size=20, \n",
    "    width=[strength/5. for strength in list(nx.get_edge_attributes(G_cns_mobile_week1, 'weight').values())], \n",
    "    edge_color=[key for (u, v, key) in G_cns_mobile_week1.edges.keys()]\n",
    ")"
   ]
  },
  {
   "cell_type": "markdown",
   "id": "1bb31877",
   "metadata": {},
   "source": [
    "## 5.4. Sophisticated network drawing\n",
    "\n",
    "The `draw()` method is not convincing for all purposes (e.g., multilayer networks). `draw()` is a so-called wrapper that calls multiple methods to draw nodes, links, and labels step by step. But the wrapper does not unlock the full potential of NetworkX. We will go beyond what the wrapper can do in the following steps. First, we want to influence they way nodes are positioned. There are a few layouting algorithms, and we start with **spring embedding**. From the NetworkX [documentation](https://networkx.org/documentation/stable/reference/generated/networkx.drawing.layout.spring_layout.html):\n",
    "\n",
    "> The algorithm simulates a force-directed representation of the network treating edges as springs holding nodes close, while treating nodes as repelling objects, sometimes called an anti-gravity force. Simulation continues until the positions are close to an equilibrium.\n",
    "\n",
    "The result of such an algorithm is the placing of nodes in a usually 2-dimensional space where axes have no interpretable meaning. The spring embedder used in NetworkX by default was developed by Fruchterman and Reingold:"
   ]
  },
  {
   "cell_type": "code",
   "execution_count": null,
   "id": "e15b0762",
   "metadata": {},
   "outputs": [],
   "source": [
    "# https://stackoverflow.com/questions/14943439/how-to-draw-multigraph-in-networkx-using-matplotlib-or-graphviz"
   ]
  },
  {
   "cell_type": "code",
   "execution_count": null,
   "id": "b426cfca",
   "metadata": {},
   "outputs": [],
   "source": [
    "pos_cns_mobile_week1 = nx.spring_layout(G_cns_mobile_week1) # Same as nx.fruchterman_reingold_layout(G_cns_mobile_week1)"
   ]
  },
  {
   "cell_type": "code",
   "execution_count": null,
   "id": "05692c3d",
   "metadata": {},
   "outputs": [],
   "source": [
    "nx.draw(\n",
    "    G=G_cns_mobile_week1, \n",
    "    pos=pos_cns_mobile_week1, \n",
    "    node_size=20\n",
    ")"
   ]
  },
  {
   "cell_type": "markdown",
   "id": "8a2748b8",
   "metadata": {},
   "source": [
    "To move on with our discussion, we introduce the graph-theoretical concept of the [connected component](https://en.wikipedia.org/wiki/Component_(graph_theory)), a subgraph in which the nodes are reachable via edges. Since we are dealing with a directed graph, there are two kind of components. In a strongly connected component, all nodes are mutually reachable taking the direction of edges into account. In a weakly connected component, they are reachable not taking edge directions info account. NetworkX provides functions for [strong](https://networkx.org/documentation/stable/reference/algorithms/component.html#strong-connectivity) and [weak](https://networkx.org/documentation/stable/reference/algorithms/component.html#weak-connectivity) connectivity.\n",
    "\n",
    "Since nodes repell each other, the spring embedder has a desirable result: Components are not drawn on top of each other. We see that the largest component is depicted in the center of the figure, and smaller components are drawn to the periphery. However, there are also many very long edges, and it is not clear to which component the belong. Hence, our first step is to only draw the largest component: the large weakly connected component in the center of the figure.\n",
    "\n",
    "The whole graph is not weakly connected:"
   ]
  },
  {
   "cell_type": "code",
   "execution_count": null,
   "id": "1b46b55f",
   "metadata": {},
   "outputs": [],
   "source": [
    "nx.is_weakly_connected(G_cns_mobile_week1)"
   ]
  },
  {
   "cell_type": "markdown",
   "id": "63ef2a3e",
   "metadata": {},
   "source": [
    "There are that many weakly connected components:"
   ]
  },
  {
   "cell_type": "code",
   "execution_count": null,
   "id": "be8715f4",
   "metadata": {},
   "outputs": [],
   "source": [
    "nx.number_weakly_connected_components(G_cns_mobile_week1)"
   ]
  },
  {
   "cell_type": "markdown",
   "id": "3258a2b3",
   "metadata": {},
   "source": [
    "This is the ordered list of node sets that make up those components (the largest comes first):"
   ]
  },
  {
   "cell_type": "code",
   "execution_count": null,
   "id": "68ad64e8",
   "metadata": {},
   "outputs": [],
   "source": [
    "l_wcc = sorted(nx.weakly_connected_components(G_cns_mobile_week1), key=len, reverse=True)\n",
    "l_wcc"
   ]
  },
  {
   "cell_type": "markdown",
   "id": "6476b9af",
   "metadata": {},
   "source": [
    "We can extract the largest weakly connected component from the graph by using the `subgraph()` method on the original graph, extracting the first node set in the list:"
   ]
  },
  {
   "cell_type": "code",
   "execution_count": null,
   "id": "d661946c",
   "metadata": {},
   "outputs": [],
   "source": [
    "G_cns_mobile_week1_lwcc = G_cns_mobile_week1.subgraph(l_wcc[0])"
   ]
  },
  {
   "cell_type": "code",
   "execution_count": null,
   "id": "dd785b45",
   "metadata": {},
   "outputs": [],
   "source": [
    "nx.draw(\n",
    "    G=G_cns_mobile_week1_lwcc, \n",
    "    pos=pos_cns_mobile_week1, \n",
    "    node_size=20\n",
    ")"
   ]
  },
  {
   "cell_type": "markdown",
   "id": "ae36e923",
   "metadata": {},
   "source": [
    "The [Fruchterman-Reingold algorithm](https://networkx.org/documentation/stable/reference/generated/networkx.drawing.layout.spring_layout.html) has a few parameters that we must know when layouting a graph. First of all, the `weight` of edges is assumed to be stored as an edge attribute called 'weight'. Since this is true in our case, we do not have to specify it manually (if you do not want to use edge weights, set `weight=None`). Parameter `k` can be changed to influence the distance between nodes. The number of `iterations` can be tuned when layouts have not converged yet to an equilibrium which can be the case when graphs are large. Finally, layouting can be initialized with an existing layout, specified by the `pos`parameter, to have visual continuity.\n",
    "\n",
    "Now experiment with changing parameter settings:"
   ]
  },
  {
   "cell_type": "code",
   "execution_count": null,
   "id": "cc1a902b",
   "metadata": {},
   "outputs": [],
   "source": [
    "pos_cns_mobile_week1_lwcc = nx.spring_layout(\n",
    "    G=G_cns_mobile_week1_lwcc, \n",
    "    k=None, # (default=None)\n",
    "    pos=pos_cns_mobile_week1, # (default=None)\n",
    "    iterations=50, # (default=50)\n",
    "    weight='weight' # (default='weight')\n",
    ")\n",
    "\n",
    "nx.draw(\n",
    "    G=G_cns_mobile_week1_lwcc, \n",
    "    pos=pos_cns_mobile_week1_lwcc, \n",
    "    node_size=20\n",
    ")"
   ]
  },
  {
   "cell_type": "markdown",
   "id": "5e91d2dd",
   "metadata": {},
   "source": [
    "Are you also not quite happy with the result? Nodes in clusters tend to be placed on top of each other and there are some very long edge that confuse the whole picture. Let us try another standard layout algorithm. The [algorithm by Kamada and Kawai](https://networkx.org/documentation/stable/reference/generated/networkx.drawing.layout.kamada_kawai_layout.html) discards edge directions and places nodes far away from each other if they are connected by long sequences of edges, but it layouts component by component and stacks them all on top of each other:"
   ]
  },
  {
   "cell_type": "code",
   "execution_count": null,
   "id": "eecfda71",
   "metadata": {},
   "outputs": [],
   "source": [
    "nx.draw(\n",
    "    G=G_cns_mobile_week1, \n",
    "    pos=nx.kamada_kawai_layout(G_cns_mobile_week1), \n",
    "    node_size=20\n",
    ")"
   ]
  },
  {
   "cell_type": "markdown",
   "id": "56bb11ea",
   "metadata": {},
   "source": [
    "Hency, we use the algorithm on the largest component. The algorithm hardly requires parameter tuning, although there are [options](https://networkx.org/documentation/stable/reference/generated/networkx.drawing.layout.kamada_kawai_layout.html)."
   ]
  },
  {
   "cell_type": "code",
   "execution_count": null,
   "id": "c744f4f1",
   "metadata": {},
   "outputs": [],
   "source": [
    "pos_cns_mobile_week1_lwcc = nx.kamada_kawai_layout(\n",
    "    G=G_cns_mobile_week1_lwcc, \n",
    "    #pos=pos_cns_mobile_week1, # (default=None)\n",
    "    weight='weight' # (default='weight')\n",
    ")\n",
    "\n",
    "nx.draw(\n",
    "    G=G_cns_mobile_week1_lwcc, \n",
    "    pos=pos_cns_mobile_week1_lwcc, \n",
    "    node_size=20\n",
    ")"
   ]
  },
  {
   "cell_type": "markdown",
   "id": "b5dc3303",
   "metadata": {},
   "source": [
    "The layout uncovers that the largest component has a very stringy nature and that there are hardly any densely connected groups."
   ]
  },
  {
   "cell_type": "markdown",
   "id": "2ff6c9c5",
   "metadata": {},
   "source": [
    "IMPROVE THE FOLLOWING LAYOUT -- PARALLEL EDGES SHOULD NOT BE PLACED ON TOP OF EACH OTHER, USE SPECIFIABLE COLORS FOR DIFFERENT EDGE KEYS, DISPLAY EDGE WIDTH BY WEIGHT, NOTE THE URL(S) THAT GAVE THE ANSWER(S):\n",
    "\n",
    "https://stackoverflow.com/questions/60067022/multidigraph-edges-from-networkx-draw-with-connectionstyle\n",
    "\n",
    "https://stackoverflow.com/questions/22785849/drawing-multiple-edges-between-two-nodes-with-networkx\n",
    "\n",
    "https://stackoverflow.com/questions/14943439/how-to-draw-multigraph-in-networkx-using-matplotlib-or-graphviz\n",
    "\n",
    "..."
   ]
  },
  {
   "cell_type": "code",
   "execution_count": null,
   "id": "4d4fc528",
   "metadata": {},
   "outputs": [],
   "source": [
    "plt.figure(figsize=(8, 8))\n",
    "# Draw nodes\n",
    "nx.draw_networkx_nodes(\n",
    "    G=G_cns_mobile_week1_lwcc, \n",
    "    pos=pos_cns_mobile_week1_lwcc, \n",
    "    node_size=20, \n",
    "    #node_color='black', \n",
    "    #node_shape='o'\n",
    ")\n",
    "## Draw edges\n",
    "#nx.draw_networkx_edges(\n",
    "#    G=G_cns_mobile_week1_lwcc, \n",
    "#    pos=pos_cns_mobile_week1_lwcc, \n",
    "#    width=[strength/5. for strength in list(nx.get_edge_attributes(G_cns_mobile_week1, 'weight').values())], \n",
    "#    edge_color=[key for (u, v, key) in G_cns_mobile_week1.edges.keys()], \n",
    "#    connectionstyle='arc3, rad=.1'\n",
    "#)\n",
    "ax = plt.gca()\n",
    "for e in G_cns_mobile_week1_lwcc.edges:\n",
    "    ax.annotate(\n",
    "        '', \n",
    "        xy=pos_cns_mobile_week1_lwcc[e[0]], \n",
    "        #xycoords='data', \n",
    "        xytext=pos_cns_mobile_week1_lwcc[e[1]], \n",
    "        #textcoords='data', \n",
    "        arrowprops=dict(\n",
    "            arrowstyle='->', \n",
    "            #color='gray', \n",
    "            #shrinkA=5, \n",
    "            #shrinkB=5, \n",
    "            patchA=None, \n",
    "            patchB=None, \n",
    "            connectionstyle='arc3, rad=rrr'.replace('rrr', str(0.3*e[2]))\n",
    "        )\n",
    "    )\n",
    "## Label nodes\n",
    "#nx.draw_networkx_labels(\n",
    "#    G=G_cns_mobile_week1_lwcc, \n",
    "#    pos=pos_cns_mobile_week1_lwcc, \n",
    "#    font_color='black'\n",
    "#)\n",
    "plt.axis('off') # Toggle off box around figure\n",
    "plt.show() # ..."
   ]
  },
  {
   "cell_type": "markdown",
   "id": "e1c8d084",
   "metadata": {},
   "source": [
    "USE DEGREE AS NODE AND FONT SIZE\n",
    "\n",
    "https://stackoverflow.com/questions/62649745/is-it-possible-to-change-font-sizes-according-to-node-sizes"
   ]
  },
  {
   "cell_type": "markdown",
   "id": "a0ec3e99",
   "metadata": {},
   "source": [
    "## 5.5. Multimodal networks\n",
    "\n",
    "Multimodal ... rich data ...\n",
    "\n",
    "Matrix multiplication\n",
    "\n",
    "### 5.5.1. Bipartite networks and their projections\n",
    "\n",
    "https://doi.org/10.1093/sf/53.2.181\n",
    "\n",
    "..."
   ]
  },
  {
   "cell_type": "code",
   "execution_count": null,
   "id": "7536f26b",
   "metadata": {},
   "outputs": [],
   "source": [
    "matrix_davis = pd.DataFrame(\n",
    "    data=[\n",
    "        [0, 1, 0, 1, 0, 0, 0, 1, 0, 0, 0, 1, 0, 0], \n",
    "        [0, 1, 0, 1, 0, 0, 1, 1, 0, 1, 0, 1, 1, 0], \n",
    "        [0, 0, 0, 0, 0, 1, 0, 0, 0, 0, 0, 1, 0, 0], \n",
    "        [0, 0, 0, 1, 1, 1, 0, 0, 0, 0, 0, 1, 0, 0], \n",
    "        [1, 0, 0, 0, 0, 1, 0, 0, 0, 0, 0, 0, 0, 0], \n",
    "        [1, 0, 0, 0, 0, 1, 0, 0, 0, 0, 0, 0, 0, 0], \n",
    "        [0, 1, 1, 1, 0, 0, 1, 1, 0, 1, 0, 1, 0, 0], \n",
    "        [0, 1, 1, 0, 0, 1, 1, 1, 0, 1, 0, 1, 1, 0], \n",
    "        [0, 0, 0, 0, 0, 1, 0, 1, 0, 0, 0, 1, 0, 0], \n",
    "        [0, 1, 0, 1, 0, 1, 0, 0, 0, 0, 0, 1, 0, 0], \n",
    "        [0, 0, 0, 1, 1, 1, 0, 0, 1, 0, 1, 1, 0, 1], \n",
    "        [0, 0, 0, 0, 1, 1, 0, 0, 1, 0, 1, 1, 0, 1], \n",
    "        [0, 0, 0, 0, 1, 1, 0, 0, 1, 0, 0, 1, 0, 0], \n",
    "        [0, 1, 1, 1, 0, 1, 1, 1, 0, 0, 0, 1, 1, 0], \n",
    "        [0, 1, 0, 1, 0, 0, 1, 0, 0, 0, 0, 0, 1, 0], \n",
    "        [0, 1, 0, 0, 0, 0, 1, 1, 0, 0, 0, 1, 0, 0], \n",
    "        [1, 0, 0, 1, 1, 0, 0, 0, 1, 0, 0, 1, 0, 0], \n",
    "        [1, 0, 0, 1, 1, 1, 0, 1, 1, 0, 1, 0, 0, 1]\n",
    "    ], \n",
    "    index=['Eleanor', 'Brenda', 'Dorothy', 'Verne', 'Flora', 'Olivia', 'Laura', 'Evelyn', 'Pearl', 'Ruth', 'Sylvia', 'Katherine', 'Myrna', 'Theresa', 'Charlotte', 'Frances', 'Helen', 'Nora'], \n",
    "    columns=[1, 2, 3, 4, 5, 6, 7, 8, 9, 10, 11, 12, 13, 14]\n",
    ")"
   ]
  },
  {
   "cell_type": "markdown",
   "id": "b3ad29cb",
   "metadata": {},
   "source": [
    "The `from_pandas_adjacency()` function is made for adjacency matrices, not for bipartite matrices. We must transform the matrix into an edgelist first, then use the `from_pandas_edgelist()` function:"
   ]
  },
  {
   "cell_type": "code",
   "execution_count": null,
   "id": "a33500a6",
   "metadata": {},
   "outputs": [],
   "source": [
    "#matrix_davis = matrix_davis/matrix_davis.sum(axis=0) # Do column normalization\n",
    "edgelist_davis = matrix_davis.stack().reset_index() # transform to edgelist\n",
    "edgelist_davis = edgelist_davis[edgelist_davis[0] > 0].reset_index(drop=True) # remove zero relations\n",
    "#edgelist_davis.drop(labels=0, axis=1, inplace=True) # drop edge weight column\n",
    "edgelist_davis.columns = ['woman', 'event', 'weight'] # rename columns\n",
    "edgelist_davis"
   ]
  },
  {
   "cell_type": "code",
   "execution_count": null,
   "id": "76327c0e",
   "metadata": {},
   "outputs": [],
   "source": [
    "G_davis = nx.from_pandas_edgelist(df=edgelist_davis, source='woman', target='event')"
   ]
  },
  {
   "cell_type": "code",
   "execution_count": null,
   "id": "c5f68185",
   "metadata": {},
   "outputs": [],
   "source": [
    "nx.is_bipartite(G_davis)"
   ]
  },
  {
   "cell_type": "markdown",
   "id": "071cedbc",
   "metadata": {},
   "source": [
    "To distinguish between the two node types and to project the bipartite to either unipartite network, we must identify the two sets:"
   ]
  },
  {
   "cell_type": "code",
   "execution_count": null,
   "id": "bbbd4ddd",
   "metadata": {},
   "outputs": [],
   "source": [
    "nodes_women = list(nx.bipartite.sets(G_davis)[0])\n",
    "print('Women:', nodes_women)\n",
    "nodes_events = list(nx.bipartite.sets(G_davis)[1])\n",
    "print('Events:', nodes_events)"
   ]
  },
  {
   "cell_type": "markdown",
   "id": "25c576ae",
   "metadata": {},
   "source": [
    "When the bipartite network is not connected in one component, the two modes cannot be identified from the data. In that case, we can work with the column labels:"
   ]
  },
  {
   "cell_type": "code",
   "execution_count": null,
   "id": "6dca9dc0",
   "metadata": {},
   "outputs": [],
   "source": [
    "nodes_women = set(edgelist_davis['woman'])\n",
    "print('Women:', nodes_women)\n",
    "nodes_events = set(edgelist_davis['event'])\n",
    "print('Events:', nodes_events)"
   ]
  },
  {
   "cell_type": "markdown",
   "id": "145d5f0a",
   "metadata": {},
   "source": [
    "Draw the bipartite network:"
   ]
  },
  {
   "cell_type": "code",
   "execution_count": null,
   "id": "be5f589c",
   "metadata": {},
   "outputs": [],
   "source": [
    "pos_bipartite = nx.bipartite_layout(G_davis, nodes_women)"
   ]
  },
  {
   "cell_type": "code",
   "execution_count": null,
   "id": "e973b66d",
   "metadata": {},
   "outputs": [],
   "source": [
    "nx.draw(G=G_davis, pos=pos_bipartite, with_labels=True)"
   ]
  },
  {
   "cell_type": "markdown",
   "id": "f91d8203",
   "metadata": {},
   "source": [
    "The result is not quite satisfying. For example, we want to give the nodes of the two modes different colors, shapes, and font colors. To do this, we must again interact with Matplotlib directly.\n",
    "\n",
    "As node size, we want to display the number of events per woman and the number of women per event, respectively. To obtain these numbersr, we can simply use the column and row sums of the matrix:"
   ]
  },
  {
   "cell_type": "code",
   "execution_count": null,
   "id": "89ca0886",
   "metadata": {},
   "outputs": [],
   "source": [
    "number_of_events = matrix_davis.sum(axis=1).tolist()\n",
    "print('Women:', number_of_events)\n",
    "number_of_women = matrix_davis.sum(axis=0).tolist()\n",
    "print('Events:', number_of_women)"
   ]
  },
  {
   "cell_type": "markdown",
   "id": "c2686b6b",
   "metadata": {},
   "source": [
    "To use mode-specific font colors, we must prepare two dictionaries that map node labels (dictionary values) to node identifiers (dictionary keys). Recall that in NetworkX node identifiers are node labels by default:"
   ]
  },
  {
   "cell_type": "code",
   "execution_count": null,
   "id": "b6d0d9c7",
   "metadata": {},
   "outputs": [],
   "source": [
    "labels_women = {woman: woman for woman in nodes_women}\n",
    "print('Women:', labels_women)\n",
    "labels_event = {event: event for event in nodes_events}\n",
    "print('Events:', labels_event)"
   ]
  },
  {
   "cell_type": "markdown",
   "id": "20dce01c",
   "metadata": {},
   "source": [
    "Now we have everything in place to draw a network that transports more information:"
   ]
  },
  {
   "cell_type": "code",
   "execution_count": null,
   "id": "d51d1ad1",
   "metadata": {},
   "outputs": [],
   "source": [
    "pos_bipartite = nx.fruchterman_reingold_layout(G_davis)"
   ]
  },
  {
   "cell_type": "code",
   "execution_count": null,
   "id": "d2728a79",
   "metadata": {},
   "outputs": [],
   "source": [
    "plt.figure(figsize=(8, 8))\n",
    "# Draw woman nodes as red squares with the number of events as node size\n",
    "nx.draw_networkx_nodes(\n",
    "    G=G_davis, \n",
    "    pos=pos_bipartite, \n",
    "    nodelist=nodes_women, \n",
    "    node_size=[100*size for size in number_of_events], # Using list comprehension to increase node size\n",
    "    node_color='red', \n",
    "    node_shape='s'\n",
    ")\n",
    "# Draw event nodes as blue circles with the number of women as node size\n",
    "nx.draw_networkx_nodes(\n",
    "    G=G_davis, \n",
    "    pos=pos_bipartite, \n",
    "    nodelist=nodes_events, \n",
    "    node_size=[100*size for size in number_of_women], \n",
    "    node_color='blue', \n",
    "    node_shape='o'\n",
    ")\n",
    "# Draw edges in gray\n",
    "nx.draw_networkx_edges(\n",
    "    G=G_davis, \n",
    "    pos=pos_bipartite, \n",
    "    edge_color='gray'\n",
    ")\n",
    "# Label women nodes in black\n",
    "nx.draw_networkx_labels(\n",
    "    G=G_davis, \n",
    "    pos=pos_bipartite, \n",
    "    labels=labels_women, \n",
    "    font_color='black'\n",
    ")\n",
    "# Label event nodes in white\n",
    "nx.draw_networkx_labels(\n",
    "    G=G_davis, \n",
    "    pos=pos_bipartite, \n",
    "    labels=labels_event, \n",
    "    font_color='white'\n",
    ")\n",
    "plt.axis('off') # Toggle off box around figure\n",
    "plt.show() # ..."
   ]
  },
  {
   "cell_type": "markdown",
   "id": "453ecb71",
   "metadata": {},
   "source": [
    "To also change font size: https://stackoverflow.com/questions/62649745/is-it-possible-to-change-font-sizes-according-to-node-sizes"
   ]
  },
  {
   "cell_type": "markdown",
   "id": "26cccc14",
   "metadata": {},
   "source": [
    "#### Projection"
   ]
  },
  {
   "cell_type": "code",
   "execution_count": null,
   "id": "3ec214fd",
   "metadata": {},
   "outputs": [],
   "source": [
    "G_davis_women = nx.bipartite.weighted_projected_graph(G_davis, nodes_women)"
   ]
  },
  {
   "cell_type": "code",
   "execution_count": null,
   "id": "000a28ec",
   "metadata": {},
   "outputs": [],
   "source": [
    "plt.figure(figsize=(8, 8))\n",
    "nx.draw(\n",
    "    G=G_davis_women, \n",
    "    pos=pos_bipartite, \n",
    "    with_labels=True, \n",
    "    node_size=[100*size for size in number_of_events], # Using list comprehension to increase node size\n",
    "    node_color='red', \n",
    "    node_shape='s', \n",
    "    width=list(nx.get_edge_attributes(G_davis_women, 'weight').values()), \n",
    "    edge_color='gray', \n",
    "    font_color='black'\n",
    ")"
   ]
  },
  {
   "cell_type": "code",
   "execution_count": null,
   "id": "d2a43cc3",
   "metadata": {},
   "outputs": [],
   "source": [
    "nx.to_pandas_adjacency(G_davis_women)"
   ]
  },
  {
   "cell_type": "markdown",
   "id": "e35d2359",
   "metadata": {},
   "source": [
    "ADD SLIDER:"
   ]
  },
  {
   "cell_type": "code",
   "execution_count": null,
   "id": "e289c582",
   "metadata": {},
   "outputs": [],
   "source": [
    "G_davis_women_geq4 = nx.Graph()\n",
    "G_davis_women_geq4.add_nodes_from(nodes_women)\n",
    "G_davis_women_geq4.add_edges_from([(u, v, edge_attr) for u, v, edge_attr in G_davis_women.edges(data=True) if edge_attr['weight'] >= 4])"
   ]
  },
  {
   "cell_type": "code",
   "execution_count": null,
   "id": "a3ff4258",
   "metadata": {},
   "outputs": [],
   "source": [
    "plt.figure(figsize=(8, 8))\n",
    "nx.draw(\n",
    "    G=G_davis_women_geq4, \n",
    "    pos=pos_bipartite, \n",
    "    with_labels=True, \n",
    "    node_size=[100*size for size in number_of_events], # Using list comprehension to increase node size\n",
    "    node_color='red', \n",
    "    node_shape='s', \n",
    "    width=list(nx.get_edge_attributes(G_davis_women_geq4, 'weight').values()), \n",
    "    edge_color='gray', \n",
    "    font_color='black'\n",
    ")"
   ]
  },
  {
   "cell_type": "markdown",
   "id": "78c20189",
   "metadata": {},
   "source": [
    "Projection to the other side:"
   ]
  },
  {
   "cell_type": "code",
   "execution_count": null,
   "id": "32f65d27",
   "metadata": {},
   "outputs": [],
   "source": [
    "G_davis_events = nx.bipartite.weighted_projected_graph(G_davis, nodes_events)"
   ]
  },
  {
   "cell_type": "code",
   "execution_count": null,
   "id": "12f67ee7",
   "metadata": {},
   "outputs": [],
   "source": [
    "plt.figure(figsize=(8, 8))\n",
    "nx.draw(\n",
    "    G=G_davis_events, \n",
    "    pos=pos_bipartite, \n",
    "    with_labels=True, \n",
    "    node_size=[100*size for size in number_of_women], # Using list comprehension to increase node size\n",
    "    node_color='blue', \n",
    "    node_shape='o', \n",
    "    width=list(nx.get_edge_attributes(G_davis_events, 'weight').values()), \n",
    "    edge_color='gray', \n",
    "    font_color='white'\n",
    ")"
   ]
  },
  {
   "cell_type": "code",
   "execution_count": null,
   "id": "60507967",
   "metadata": {},
   "outputs": [],
   "source": [
    "nx.to_pandas_adjacency(G_davis_events)"
   ]
  },
  {
   "cell_type": "code",
   "execution_count": null,
   "id": "b859b349",
   "metadata": {},
   "outputs": [],
   "source": []
  },
  {
   "cell_type": "markdown",
   "id": "baf2b41e",
   "metadata": {},
   "source": [
    "### 5.5.2. Matrix multiplication\n",
    "\n",
    "NetworkX is slow when networks are large. It is then useful to handle matrices in SciPy before loading them into NetworkX.\n",
    "\n",
    "...\n",
    "\n",
    "REPLICATE ABOVE RESULTS USING SciPy\n",
    "\n",
    "..."
   ]
  },
  {
   "cell_type": "code",
   "execution_count": null,
   "id": "22b07872",
   "metadata": {},
   "outputs": [],
   "source": []
  },
  {
   "cell_type": "markdown",
   "id": "e759719f",
   "metadata": {},
   "source": [
    "More complicated algebraic operations\n",
    "\n",
    "...\n",
    "\n",
    "Such as closing triangles\n",
    "\n",
    "...\n",
    "\n",
    "https://doi.org/10.1016/j.poetic.2018.01.001\n",
    "\n",
    "..."
   ]
  },
  {
   "cell_type": "code",
   "execution_count": null,
   "id": "87efa36d",
   "metadata": {},
   "outputs": [],
   "source": []
  }
 ],
 "metadata": {
  "kernelspec": {
   "display_name": "Python 3 (ipykernel)",
   "language": "python",
   "name": "python3"
  },
  "language_info": {
   "codemirror_mode": {
    "name": "ipython",
    "version": 3
   },
   "file_extension": ".py",
   "mimetype": "text/x-python",
   "name": "python",
   "nbconvert_exporter": "python",
   "pygments_lexer": "ipython3",
   "version": "3.9.12"
  }
 },
 "nbformat": 4,
 "nbformat_minor": 5
}
