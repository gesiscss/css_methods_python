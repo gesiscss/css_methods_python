{
 "cells": [
  {
   "cell_type": "markdown",
   "id": "583054cb",
   "metadata": {},
   "source": [
    "# 9. Statistics & supervised machine learning\n",
    "\n",
    "Explanation vs. prediction\n",
    "\n",
    "TO DECIDE\n",
    "- ...\n",
    "\n",
    "### Text book\n",
    "\n",
    "- Computer Age Statistical Inference\n",
    "\n",
    "### Notes\n",
    "\n",
    "- Check https://doi.org/10.1145/1150402.1150412\n"
   ]
  },
  {
   "cell_type": "markdown",
   "id": "b5b9299d",
   "metadata": {},
   "source": [
    "## 9.1. Explanation (statistical modeling)\n",
    "\n",
    "- model fit r^2\n",
    "- variable transformation\n",
    "- hypothesis and significance testing\n",
    "- generalized linear model: linear and logistic regression\n",
    "\n",
    "https://jakevdp.github.io/PythonDataScienceHandbook/05.06-linear-regression.html"
   ]
  },
  {
   "cell_type": "markdown",
   "id": "19b6bdc6",
   "metadata": {},
   "source": [
    "#### Data"
   ]
  },
  {
   "cell_type": "code",
   "execution_count": 2,
   "id": "9e67f1bc",
   "metadata": {},
   "outputs": [],
   "source": [
    "import pandas as pd"
   ]
  },
  {
   "cell_type": "code",
   "execution_count": 4,
   "id": "ab467b9b",
   "metadata": {},
   "outputs": [],
   "source": [
    "vdem_fh = pd.read_csv('./vdem_fh_combined.csv')\n",
    "vdem = pd.read_csv('./vdem_only.csv')"
   ]
  },
  {
   "cell_type": "code",
   "execution_count": 5,
   "id": "2c9b04bb",
   "metadata": {},
   "outputs": [
    {
     "data": {
      "text/html": [
       "<div>\n",
       "<style scoped>\n",
       "    .dataframe tbody tr th:only-of-type {\n",
       "        vertical-align: middle;\n",
       "    }\n",
       "\n",
       "    .dataframe tbody tr th {\n",
       "        vertical-align: top;\n",
       "    }\n",
       "\n",
       "    .dataframe thead th {\n",
       "        text-align: right;\n",
       "    }\n",
       "</style>\n",
       "<table border=\"1\" class=\"dataframe\">\n",
       "  <thead>\n",
       "    <tr style=\"text-align: right;\">\n",
       "      <th></th>\n",
       "      <th>Country</th>\n",
       "      <th>Total Score</th>\n",
       "      <th>Status</th>\n",
       "      <th>country_name</th>\n",
       "      <th>year</th>\n",
       "      <th>v2x_polyarchy</th>\n",
       "      <th>v2x_libdem</th>\n",
       "      <th>v2x_partipdem</th>\n",
       "      <th>v2x_delibdem</th>\n",
       "      <th>v2x_egaldem</th>\n",
       "      <th>v2x_regime</th>\n",
       "      <th>v2smgovdom_osp</th>\n",
       "      <th>v2smgovfilprc_osp</th>\n",
       "      <th>v2smgovsmcenprc_osp</th>\n",
       "      <th>v2smonper_osp</th>\n",
       "      <th>v2smarrest_osp</th>\n",
       "      <th>e_regionpol</th>\n",
       "    </tr>\n",
       "  </thead>\n",
       "  <tbody>\n",
       "    <tr>\n",
       "      <th>0</th>\n",
       "      <td>Angola</td>\n",
       "      <td>64</td>\n",
       "      <td>Partly Free</td>\n",
       "      <td>Angola</td>\n",
       "      <td>2019</td>\n",
       "      <td>0.386</td>\n",
       "      <td>0.230</td>\n",
       "      <td>0.105</td>\n",
       "      <td>0.260</td>\n",
       "      <td>0.148</td>\n",
       "      <td>1.0</td>\n",
       "      <td>2.441</td>\n",
       "      <td>2.969</td>\n",
       "      <td>3.924</td>\n",
       "      <td>2.883</td>\n",
       "      <td>1.995</td>\n",
       "      <td>4</td>\n",
       "    </tr>\n",
       "    <tr>\n",
       "      <th>1</th>\n",
       "      <td>Argentina</td>\n",
       "      <td>72</td>\n",
       "      <td>Free</td>\n",
       "      <td>Argentina</td>\n",
       "      <td>2019</td>\n",
       "      <td>0.812</td>\n",
       "      <td>0.631</td>\n",
       "      <td>0.527</td>\n",
       "      <td>0.635</td>\n",
       "      <td>0.592</td>\n",
       "      <td>2.0</td>\n",
       "      <td>3.340</td>\n",
       "      <td>3.847</td>\n",
       "      <td>3.930</td>\n",
       "      <td>3.321</td>\n",
       "      <td>2.605</td>\n",
       "      <td>2</td>\n",
       "    </tr>\n",
       "    <tr>\n",
       "      <th>2</th>\n",
       "      <td>Armenia</td>\n",
       "      <td>76</td>\n",
       "      <td>Free</td>\n",
       "      <td>Armenia</td>\n",
       "      <td>2019</td>\n",
       "      <td>0.805</td>\n",
       "      <td>0.641</td>\n",
       "      <td>0.532</td>\n",
       "      <td>0.706</td>\n",
       "      <td>0.656</td>\n",
       "      <td>1.0</td>\n",
       "      <td>2.926</td>\n",
       "      <td>3.714</td>\n",
       "      <td>3.915</td>\n",
       "      <td>3.293</td>\n",
       "      <td>2.493</td>\n",
       "      <td>1</td>\n",
       "    </tr>\n",
       "    <tr>\n",
       "      <th>3</th>\n",
       "      <td>Australia</td>\n",
       "      <td>77</td>\n",
       "      <td>Free</td>\n",
       "      <td>Australia</td>\n",
       "      <td>2019</td>\n",
       "      <td>0.838</td>\n",
       "      <td>0.789</td>\n",
       "      <td>0.602</td>\n",
       "      <td>0.737</td>\n",
       "      <td>0.706</td>\n",
       "      <td>3.0</td>\n",
       "      <td>2.878</td>\n",
       "      <td>3.829</td>\n",
       "      <td>3.876</td>\n",
       "      <td>3.300</td>\n",
       "      <td>2.684</td>\n",
       "      <td>5</td>\n",
       "    </tr>\n",
       "    <tr>\n",
       "      <th>4</th>\n",
       "      <td>Azerbaijan</td>\n",
       "      <td>39</td>\n",
       "      <td>Not Free</td>\n",
       "      <td>Azerbaijan</td>\n",
       "      <td>2019</td>\n",
       "      <td>0.206</td>\n",
       "      <td>0.070</td>\n",
       "      <td>0.072</td>\n",
       "      <td>0.047</td>\n",
       "      <td>0.118</td>\n",
       "      <td>1.0</td>\n",
       "      <td>0.384</td>\n",
       "      <td>1.231</td>\n",
       "      <td>2.672</td>\n",
       "      <td>1.558</td>\n",
       "      <td>0.777</td>\n",
       "      <td>1</td>\n",
       "    </tr>\n",
       "  </tbody>\n",
       "</table>\n",
       "</div>"
      ],
      "text/plain": [
       "      Country  Total Score       Status country_name  year  v2x_polyarchy  \\\n",
       "0      Angola           64  Partly Free       Angola  2019          0.386   \n",
       "1   Argentina           72         Free    Argentina  2019          0.812   \n",
       "2     Armenia           76         Free      Armenia  2019          0.805   \n",
       "3   Australia           77         Free    Australia  2019          0.838   \n",
       "4  Azerbaijan           39     Not Free   Azerbaijan  2019          0.206   \n",
       "\n",
       "   v2x_libdem  v2x_partipdem  v2x_delibdem  v2x_egaldem  v2x_regime  \\\n",
       "0       0.230          0.105         0.260        0.148         1.0   \n",
       "1       0.631          0.527         0.635        0.592         2.0   \n",
       "2       0.641          0.532         0.706        0.656         1.0   \n",
       "3       0.789          0.602         0.737        0.706         3.0   \n",
       "4       0.070          0.072         0.047        0.118         1.0   \n",
       "\n",
       "   v2smgovdom_osp  v2smgovfilprc_osp  v2smgovsmcenprc_osp  v2smonper_osp  \\\n",
       "0           2.441              2.969                3.924          2.883   \n",
       "1           3.340              3.847                3.930          3.321   \n",
       "2           2.926              3.714                3.915          3.293   \n",
       "3           2.878              3.829                3.876          3.300   \n",
       "4           0.384              1.231                2.672          1.558   \n",
       "\n",
       "   v2smarrest_osp  e_regionpol  \n",
       "0           1.995            4  \n",
       "1           2.605            2  \n",
       "2           2.493            1  \n",
       "3           2.684            5  \n",
       "4           0.777            1  "
      ]
     },
     "execution_count": 5,
     "metadata": {},
     "output_type": "execute_result"
    }
   ],
   "source": [
    "vdem_fh.head()"
   ]
  },
  {
   "cell_type": "code",
   "execution_count": 6,
   "id": "267322b7",
   "metadata": {},
   "outputs": [],
   "source": [
    "import matplotlib.pyplot as plt\n",
    "import seaborn as sns"
   ]
  },
  {
   "cell_type": "code",
   "execution_count": 7,
   "id": "5b9f865e",
   "metadata": {},
   "outputs": [],
   "source": [
    "sns.set_theme(style='darkgrid')"
   ]
  },
  {
   "cell_type": "code",
   "execution_count": 8,
   "id": "1da15581",
   "metadata": {},
   "outputs": [],
   "source": [
    "indicators_regression = ['v2x_polyarchy', 'v2x_libdem', 'v2x_partipdem', 'v2x_delibdem', 'v2x_egaldem']"
   ]
  },
  {
   "cell_type": "code",
   "execution_count": 9,
   "id": "9ffbfe0f",
   "metadata": {},
   "outputs": [
    {
     "data": {
      "image/png": "[encoded data removed]",
      "text/plain": [
       "<Figure size 250x200 with 1 Axes>"
      ]
     },
     "metadata": {},
     "output_type": "display_data"
    }
   ],
   "source": [
    "plt.figure(figsize=[2.5, 2])\n",
    "sns.boxplot(\n",
    "    x = 'variable', \n",
    "    y = 'value', \n",
    "    data = vdem_fh[indicators_regression].melt()\n",
    ")\n",
    "plt.xticks(rotation=45)\n",
    "plt.show()"
   ]
  },
  {
   "cell_type": "code",
   "execution_count": 10,
   "id": "a639d9b0",
   "metadata": {},
   "outputs": [
    {
     "data": {
      "text/plain": [
       "<AxesSubplot:xlabel='variable', ylabel='value'>"
      ]
     },
     "execution_count": 10,
     "metadata": {},
     "output_type": "execute_result"
    },
    {
     "data": {
      "image/png": "[encoded data removed]",
      "text/plain": [
       "<Figure size 50x200 with 1 Axes>"
      ]
     },
     "metadata": {},
     "output_type": "display_data"
    }
   ],
   "source": [
    "plt.figure(figsize=[.5, 2])\n",
    "sns.boxplot(\n",
    "    x = 'variable', \n",
    "    y = 'value', \n",
    "    data = vdem_fh[['Total Score']].melt()\n",
    ")"
   ]
  },
  {
   "cell_type": "markdown",
   "id": "4d07e682",
   "metadata": {},
   "source": [
    "### 9.1.1. Regression\n",
    "\n",
    "#### Correlations"
   ]
  },
  {
   "cell_type": "code",
   "execution_count": 11,
   "id": "c1ec3af3",
   "metadata": {},
   "outputs": [
    {
     "data": {
      "image/png": "[encoded data removed]",
      "text/plain": [
       "<Figure size 1200x1200 with 42 Axes>"
      ]
     },
     "metadata": {},
     "output_type": "display_data"
    }
   ],
   "source": [
    "fig = sns.pairplot(\n",
    "    data = vdem_fh[['Total Score', 'v2x_polyarchy', 'v2x_libdem', 'v2x_partipdem', 'v2x_delibdem', 'v2x_egaldem']], \n",
    "    #hue = 'v2x_regime', \n",
    "    height = 2, \n",
    "    kind = 'reg', \n",
    "    diag_kind = 'hist', \n",
    "    plot_kws = {'scatter_kws': {'alpha': .2}}\n",
    ")\n",
    "#fig.savefig('.............vdem_fh_pairplot.png')\n",
    "plt.show()"
   ]
  },
  {
   "cell_type": "markdown",
   "id": "4366f2e8",
   "metadata": {},
   "source": [
    "#### Ordinary-Least-Squares regression"
   ]
  },
  {
   "cell_type": "code",
   "execution_count": 12,
   "id": "91592161",
   "metadata": {},
   "outputs": [],
   "source": [
    "standardize = False"
   ]
  },
  {
   "cell_type": "code",
   "execution_count": 13,
   "id": "94fc3b43",
   "metadata": {},
   "outputs": [],
   "source": [
    "X_vdem_fh = vdem_fh[indicators_regression].to_numpy()\n",
    "y_vdem_fh = vdem_fh[['Total Score']].to_numpy()\n",
    "\n",
    "if standardize:\n",
    "    from sklearn.preprocessing import StandardScaler\n",
    "    \n",
    "    X_vdem_fh = StandardScaler().fit_transform(X_vdem_fh)\n",
    "    y_vdem_fh = StandardScaler().fit_transform(y_vdem_fh)\n",
    "    \n",
    "    fit_intercept = False\n",
    "else:\n",
    "    fit_intercept = True"
   ]
  },
  {
   "cell_type": "code",
   "execution_count": 14,
   "id": "f767f01a",
   "metadata": {},
   "outputs": [],
   "source": [
    "from sklearn.linear_model import LinearRegression"
   ]
  },
  {
   "cell_type": "code",
   "execution_count": 15,
   "id": "1fd702cf",
   "metadata": {},
   "outputs": [],
   "source": [
    "ols_vdem_fh = LinearRegression(fit_intercept=fit_intercept)"
   ]
  },
  {
   "cell_type": "code",
   "execution_count": 16,
   "id": "27bde0da",
   "metadata": {},
   "outputs": [],
   "source": [
    "ols_vdem_fh_fit = ols_vdem_fh.fit(X_vdem_fh, y_vdem_fh)"
   ]
  },
  {
   "cell_type": "markdown",
   "id": "bdcc7356",
   "metadata": {},
   "source": [
    "Goodness of fit (R^2)"
   ]
  },
  {
   "cell_type": "code",
   "execution_count": 17,
   "id": "7e4b03b0",
   "metadata": {},
   "outputs": [
    {
     "data": {
      "text/plain": [
       "0.7902823278954166"
      ]
     },
     "execution_count": 17,
     "metadata": {},
     "output_type": "execute_result"
    }
   ],
   "source": [
    "ols_vdem_fh_fit.score(X_vdem_fh, y_vdem_fh)"
   ]
  },
  {
   "cell_type": "markdown",
   "id": "2835521f",
   "metadata": {},
   "source": [
    "Intercept"
   ]
  },
  {
   "cell_type": "code",
   "execution_count": 18,
   "id": "ad269f72",
   "metadata": {},
   "outputs": [
    {
     "data": {
      "text/plain": [
       "array([23.34152179])"
      ]
     },
     "execution_count": 18,
     "metadata": {},
     "output_type": "execute_result"
    }
   ],
   "source": [
    "ols_vdem_fh_fit.intercept_"
   ]
  },
  {
   "cell_type": "markdown",
   "id": "5f4d470d",
   "metadata": {},
   "source": [
    "Coefficients"
   ]
  },
  {
   "cell_type": "code",
   "execution_count": 19,
   "id": "1c74667c",
   "metadata": {},
   "outputs": [
    {
     "data": {
      "text/plain": [
       "array([ 32.54042368,  55.61438425,  15.09680851,  -6.88939045,\n",
       "       -23.61813015])"
      ]
     },
     "execution_count": 19,
     "metadata": {},
     "output_type": "execute_result"
    }
   ],
   "source": [
    "ols_vdem_fh_fit.coef_[0]"
   ]
  },
  {
   "cell_type": "markdown",
   "id": "d096b44e",
   "metadata": {},
   "source": [
    "Significance? Not with sklearn!"
   ]
  },
  {
   "cell_type": "markdown",
   "id": "a851915a",
   "metadata": {},
   "source": [
    "#### Statsmodels"
   ]
  },
  {
   "cell_type": "code",
   "execution_count": 20,
   "id": "cdcef025",
   "metadata": {},
   "outputs": [
    {
     "name": "stderr",
     "output_type": "stream",
     "text": [
      "/home/sed_zeppelin/anaconda3/lib/python3.8/site-packages/statsmodels/tsa/base/tsa_model.py:7: FutureWarning: pandas.Int64Index is deprecated and will be removed from pandas in a future version. Use pandas.Index with the appropriate dtype instead.\n",
      "  from pandas import (to_datetime, Int64Index, DatetimeIndex, Period,\n",
      "/home/sed_zeppelin/anaconda3/lib/python3.8/site-packages/statsmodels/tsa/base/tsa_model.py:7: FutureWarning: pandas.Float64Index is deprecated and will be removed from pandas in a future version. Use pandas.Index with the appropriate dtype instead.\n",
      "  from pandas import (to_datetime, Int64Index, DatetimeIndex, Period,\n"
     ]
    }
   ],
   "source": [
    "import statsmodels.api as sm"
   ]
  },
  {
   "cell_type": "code",
   "execution_count": 21,
   "id": "744ed12c",
   "metadata": {},
   "outputs": [],
   "source": [
    "X_vdem_fh_ = sm.add_constant(X_vdem_fh)"
   ]
  },
  {
   "cell_type": "code",
   "execution_count": 22,
   "id": "da3c7a98",
   "metadata": {},
   "outputs": [],
   "source": [
    "if standardize:\n",
    "    ols_vdem_fh_sm = sm.OLS(y_vdem_fh, X_vdem_fh)\n",
    "else:\n",
    "    ols_vdem_fh_sm = sm.OLS(y_vdem_fh, X_vdem_fh_) # equivalent to fit_intercept=True (https://stackoverflow.com/questions/70179307/why-is-sklearn-r-squared-different-from-that-of-statsmodels-when-fit-intercept-f/70180217#70180217)\n",
    "ols_vdem_fh_sm_fit = ols_vdem_fh_sm.fit()"
   ]
  },
  {
   "cell_type": "code",
   "execution_count": 23,
   "id": "9909788d",
   "metadata": {},
   "outputs": [
    {
     "data": {
      "text/html": [
       "<table class=\"simpletable\">\n",
       "<caption>OLS Regression Results</caption>\n",
       "<tr>\n",
       "  <th>Dep. Variable:</th>            <td>y</td>        <th>  R-squared:         </th> <td>   0.790</td>\n",
       "</tr>\n",
       "<tr>\n",
       "  <th>Model:</th>                   <td>OLS</td>       <th>  Adj. R-squared:    </th> <td>   0.773</td>\n",
       "</tr>\n",
       "<tr>\n",
       "  <th>Method:</th>             <td>Least Squares</td>  <th>  F-statistic:       </th> <td>   44.47</td>\n",
       "</tr>\n",
       "<tr>\n",
       "  <th>Date:</th>             <td>Mon, 17 Apr 2023</td> <th>  Prob (F-statistic):</th> <td>8.88e-19</td>\n",
       "</tr>\n",
       "<tr>\n",
       "  <th>Time:</th>                 <td>09:14:49</td>     <th>  Log-Likelihood:    </th> <td> -237.78</td>\n",
       "</tr>\n",
       "<tr>\n",
       "  <th>No. Observations:</th>      <td>    65</td>      <th>  AIC:               </th> <td>   487.6</td>\n",
       "</tr>\n",
       "<tr>\n",
       "  <th>Df Residuals:</th>          <td>    59</td>      <th>  BIC:               </th> <td>   500.6</td>\n",
       "</tr>\n",
       "<tr>\n",
       "  <th>Df Model:</th>              <td>     5</td>      <th>                     </th>     <td> </td>   \n",
       "</tr>\n",
       "<tr>\n",
       "  <th>Covariance Type:</th>      <td>nonrobust</td>    <th>                     </th>     <td> </td>   \n",
       "</tr>\n",
       "</table>\n",
       "<table class=\"simpletable\">\n",
       "<tr>\n",
       "    <td></td>       <th>coef</th>     <th>std err</th>      <th>t</th>      <th>P>|t|</th>  <th>[0.025</th>    <th>0.975]</th>  \n",
       "</tr>\n",
       "<tr>\n",
       "  <th>const</th> <td>   23.3415</td> <td>    3.857</td> <td>    6.051</td> <td> 0.000</td> <td>   15.623</td> <td>   31.060</td>\n",
       "</tr>\n",
       "<tr>\n",
       "  <th>x1</th>    <td>   32.5404</td> <td>   30.961</td> <td>    1.051</td> <td> 0.298</td> <td>  -29.412</td> <td>   94.493</td>\n",
       "</tr>\n",
       "<tr>\n",
       "  <th>x2</th>    <td>   55.6144</td> <td>   34.372</td> <td>    1.618</td> <td> 0.111</td> <td>  -13.165</td> <td>  124.393</td>\n",
       "</tr>\n",
       "<tr>\n",
       "  <th>x3</th>    <td>   15.0968</td> <td>   31.837</td> <td>    0.474</td> <td> 0.637</td> <td>  -48.610</td> <td>   78.803</td>\n",
       "</tr>\n",
       "<tr>\n",
       "  <th>x4</th>    <td>   -6.8894</td> <td>   23.333</td> <td>   -0.295</td> <td> 0.769</td> <td>  -53.578</td> <td>   39.799</td>\n",
       "</tr>\n",
       "<tr>\n",
       "  <th>x5</th>    <td>  -23.6181</td> <td>   21.703</td> <td>   -1.088</td> <td> 0.281</td> <td>  -67.045</td> <td>   19.809</td>\n",
       "</tr>\n",
       "</table>\n",
       "<table class=\"simpletable\">\n",
       "<tr>\n",
       "  <th>Omnibus:</th>       <td> 2.813</td> <th>  Durbin-Watson:     </th> <td>   1.809</td>\n",
       "</tr>\n",
       "<tr>\n",
       "  <th>Prob(Omnibus):</th> <td> 0.245</td> <th>  Jarque-Bera (JB):  </th> <td>   1.605</td>\n",
       "</tr>\n",
       "<tr>\n",
       "  <th>Skew:</th>          <td> 0.016</td> <th>  Prob(JB):          </th> <td>   0.448</td>\n",
       "</tr>\n",
       "<tr>\n",
       "  <th>Kurtosis:</th>      <td> 2.231</td> <th>  Cond. No.          </th> <td>    46.7</td>\n",
       "</tr>\n",
       "</table><br/><br/>Notes:<br/>[1] Standard Errors assume that the covariance matrix of the errors is correctly specified."
      ],
      "text/plain": [
       "<class 'statsmodels.iolib.summary.Summary'>\n",
       "\"\"\"\n",
       "                            OLS Regression Results                            \n",
       "==============================================================================\n",
       "Dep. Variable:                      y   R-squared:                       0.790\n",
       "Model:                            OLS   Adj. R-squared:                  0.773\n",
       "Method:                 Least Squares   F-statistic:                     44.47\n",
       "Date:                Mon, 17 Apr 2023   Prob (F-statistic):           8.88e-19\n",
       "Time:                        09:14:49   Log-Likelihood:                -237.78\n",
       "No. Observations:                  65   AIC:                             487.6\n",
       "Df Residuals:                      59   BIC:                             500.6\n",
       "Df Model:                           5                                         \n",
       "Covariance Type:            nonrobust                                         \n",
       "==============================================================================\n",
       "                 coef    std err          t      P>|t|      [0.025      0.975]\n",
       "------------------------------------------------------------------------------\n",
       "const         23.3415      3.857      6.051      0.000      15.623      31.060\n",
       "x1            32.5404     30.961      1.051      0.298     -29.412      94.493\n",
       "x2            55.6144     34.372      1.618      0.111     -13.165     124.393\n",
       "x3            15.0968     31.837      0.474      0.637     -48.610      78.803\n",
       "x4            -6.8894     23.333     -0.295      0.769     -53.578      39.799\n",
       "x5           -23.6181     21.703     -1.088      0.281     -67.045      19.809\n",
       "==============================================================================\n",
       "Omnibus:                        2.813   Durbin-Watson:                   1.809\n",
       "Prob(Omnibus):                  0.245   Jarque-Bera (JB):                1.605\n",
       "Skew:                           0.016   Prob(JB):                        0.448\n",
       "Kurtosis:                       2.231   Cond. No.                         46.7\n",
       "==============================================================================\n",
       "\n",
       "Notes:\n",
       "[1] Standard Errors assume that the covariance matrix of the errors is correctly specified.\n",
       "\"\"\""
      ]
     },
     "execution_count": 23,
     "metadata": {},
     "output_type": "execute_result"
    }
   ],
   "source": [
    "ols_vdem_fh_sm_fit.summary()"
   ]
  },
  {
   "cell_type": "code",
   "execution_count": 24,
   "id": "40485e16",
   "metadata": {},
   "outputs": [
    {
     "data": {
      "text/plain": [
       "0.7902823278954166"
      ]
     },
     "execution_count": 24,
     "metadata": {},
     "output_type": "execute_result"
    }
   ],
   "source": [
    "# goodness of fit (R^2)\n",
    "ols_vdem_fh_sm_fit.rsquared\n",
    "#ols_vdem_fh_sm_fit.rsquared_adj"
   ]
  },
  {
   "cell_type": "code",
   "execution_count": 25,
   "id": "60917fc6",
   "metadata": {},
   "outputs": [
    {
     "data": {
      "text/plain": [
       "array([ 23.34152179,  32.54042368,  55.61438425,  15.09680851,\n",
       "        -6.88939045, -23.61813015])"
      ]
     },
     "execution_count": 25,
     "metadata": {},
     "output_type": "execute_result"
    }
   ],
   "source": [
    "# intercept and coefficients\n",
    "ols_vdem_fh_sm_fit.params"
   ]
  },
  {
   "cell_type": "code",
   "execution_count": 26,
   "id": "67f3c7a6",
   "metadata": {},
   "outputs": [
    {
     "data": {
      "text/plain": [
       "array([1.06415397e-07, 2.97535245e-01, 1.10997548e-01, 6.37117791e-01,\n",
       "       7.68824862e-01, 2.80906105e-01])"
      ]
     },
     "execution_count": 26,
     "metadata": {},
     "output_type": "execute_result"
    }
   ],
   "source": [
    "# significance scores\n",
    "ols_vdem_fh_sm_fit.pvalues"
   ]
  },
  {
   "cell_type": "code",
   "execution_count": 27,
   "id": "aa5f5c9a",
   "metadata": {},
   "outputs": [],
   "source": [
    "import numpy as np"
   ]
  },
  {
   "cell_type": "code",
   "execution_count": 28,
   "id": "8e20ed1b",
   "metadata": {},
   "outputs": [],
   "source": [
    "def format_coef(df, coef, pvalues=None):\n",
    "    df[coef] = df[coef].apply(lambda x: '{0:.2f}'.format(x))\n",
    "    if pvalues is not None:\n",
    "        def stars(cell):\n",
    "            if cell <= .001:\n",
    "                cell = '***'\n",
    "            elif cell <= .01:\n",
    "                cell = '**'\n",
    "            elif cell <= .1:\n",
    "                cell = '*'\n",
    "            else:\n",
    "                cell = ''\n",
    "            return cell\n",
    "        df['pvalues'] = pvalues\n",
    "        df['stars'] = df['pvalues'].apply(stars)\n",
    "        df[coef] = df[coef] + df['stars']\n",
    "        del df['pvalues']\n",
    "        del df['stars']\n",
    "    return df"
   ]
  },
  {
   "cell_type": "code",
   "execution_count": 29,
   "id": "c26262c2",
   "metadata": {},
   "outputs": [
    {
     "data": {
      "text/html": [
       "<div>\n",
       "<style scoped>\n",
       "    .dataframe tbody tr th:only-of-type {\n",
       "        vertical-align: middle;\n",
       "    }\n",
       "\n",
       "    .dataframe tbody tr th {\n",
       "        vertical-align: top;\n",
       "    }\n",
       "\n",
       "    .dataframe thead th {\n",
       "        text-align: right;\n",
       "    }\n",
       "</style>\n",
       "<table border=\"1\" class=\"dataframe\">\n",
       "  <thead>\n",
       "    <tr style=\"text-align: right;\">\n",
       "      <th></th>\n",
       "      <th>OLS</th>\n",
       "    </tr>\n",
       "  </thead>\n",
       "  <tbody>\n",
       "    <tr>\n",
       "      <th>intercept</th>\n",
       "      <td>23.34***</td>\n",
       "    </tr>\n",
       "    <tr>\n",
       "      <th>v2x_polyarchy</th>\n",
       "      <td>32.54</td>\n",
       "    </tr>\n",
       "    <tr>\n",
       "      <th>v2x_libdem</th>\n",
       "      <td>55.61</td>\n",
       "    </tr>\n",
       "    <tr>\n",
       "      <th>v2x_partipdem</th>\n",
       "      <td>15.10</td>\n",
       "    </tr>\n",
       "    <tr>\n",
       "      <th>v2x_delibdem</th>\n",
       "      <td>-6.89</td>\n",
       "    </tr>\n",
       "    <tr>\n",
       "      <th>v2x_egaldem</th>\n",
       "      <td>-23.62</td>\n",
       "    </tr>\n",
       "  </tbody>\n",
       "</table>\n",
       "</div>"
      ],
      "text/plain": [
       "                    OLS\n",
       "intercept      23.34***\n",
       "v2x_polyarchy     32.54\n",
       "v2x_libdem        55.61\n",
       "v2x_partipdem     15.10\n",
       "v2x_delibdem      -6.89\n",
       "v2x_egaldem      -23.62"
      ]
     },
     "execution_count": 29,
     "metadata": {},
     "output_type": "execute_result"
    }
   ],
   "source": [
    "if standardize:\n",
    "    vdem_fh_regression = pd.DataFrame(\n",
    "        data = ols_vdem_fh_sm_fit.params, \n",
    "        index = indicators_regression, \n",
    "        columns = ['OLS']\n",
    "    )\n",
    "else:\n",
    "    vdem_fh_regression = pd.DataFrame(\n",
    "        data = ols_vdem_fh_sm_fit.params, \n",
    "        index = np.concatenate([['intercept'], indicators_regression]), \n",
    "        columns = ['OLS']\n",
    "    )\n",
    "vdem_fh_regression = format_coef(df=vdem_fh_regression, coef='OLS', pvalues=ols_vdem_fh_sm_fit.pvalues)\n",
    "vdem_fh_regression"
   ]
  },
  {
   "cell_type": "markdown",
   "id": "86e0a8e3",
   "metadata": {},
   "source": [
    "#### Ridge regression to deal with collinearity"
   ]
  },
  {
   "cell_type": "code",
   "execution_count": 30,
   "id": "f1bb8592",
   "metadata": {},
   "outputs": [],
   "source": [
    "from sklearn.linear_model import Ridge"
   ]
  },
  {
   "cell_type": "code",
   "execution_count": 31,
   "id": "8939e3b0",
   "metadata": {},
   "outputs": [],
   "source": [
    "ridge_vdem_fh = Ridge(alpha=1., fit_intercept=fit_intercept, random_state=42)"
   ]
  },
  {
   "cell_type": "code",
   "execution_count": 32,
   "id": "1b942391",
   "metadata": {},
   "outputs": [],
   "source": [
    "ridge_vdem_fh_fit = ridge_vdem_fh.fit(X_vdem_fh, y_vdem_fh)"
   ]
  },
  {
   "cell_type": "code",
   "execution_count": 33,
   "id": "7615e798",
   "metadata": {},
   "outputs": [
    {
     "data": {
      "text/plain": [
       "0.7736828263938498"
      ]
     },
     "execution_count": 33,
     "metadata": {},
     "output_type": "execute_result"
    }
   ],
   "source": [
    "# goodness of fit\n",
    "ridge_vdem_fh_fit.score(X_vdem_fh, y_vdem_fh)"
   ]
  },
  {
   "cell_type": "code",
   "execution_count": 34,
   "id": "ee26f30b",
   "metadata": {},
   "outputs": [
    {
     "data": {
      "text/plain": [
       "array([24.57530599])"
      ]
     },
     "execution_count": 34,
     "metadata": {},
     "output_type": "execute_result"
    }
   ],
   "source": [
    "# intercept\n",
    "ridge_vdem_fh_fit.intercept_"
   ]
  },
  {
   "cell_type": "code",
   "execution_count": 35,
   "id": "54f56b81",
   "metadata": {},
   "outputs": [
    {
     "data": {
      "text/plain": [
       "array([20.3224907 , 18.53938774, 14.21497605, 12.84013467,  7.71160108])"
      ]
     },
     "execution_count": 35,
     "metadata": {},
     "output_type": "execute_result"
    }
   ],
   "source": [
    "# coefficients\n",
    "ridge_vdem_fh_fit.coef_[0]"
   ]
  },
  {
   "cell_type": "markdown",
   "id": "84475403",
   "metadata": {},
   "source": [
    "Significance scores are meaningless with regularization (https://stats.stackexchange.com/questions/224796/why-are-confidence-intervals-and-p-values-not-reported-as-default-for-penalized)"
   ]
  },
  {
   "cell_type": "code",
   "execution_count": 36,
   "id": "b69f06c0",
   "metadata": {},
   "outputs": [
    {
     "data": {
      "text/html": [
       "<div>\n",
       "<style scoped>\n",
       "    .dataframe tbody tr th:only-of-type {\n",
       "        vertical-align: middle;\n",
       "    }\n",
       "\n",
       "    .dataframe tbody tr th {\n",
       "        vertical-align: top;\n",
       "    }\n",
       "\n",
       "    .dataframe thead th {\n",
       "        text-align: right;\n",
       "    }\n",
       "</style>\n",
       "<table border=\"1\" class=\"dataframe\">\n",
       "  <thead>\n",
       "    <tr style=\"text-align: right;\">\n",
       "      <th></th>\n",
       "      <th>OLS</th>\n",
       "      <th>Ridge</th>\n",
       "    </tr>\n",
       "  </thead>\n",
       "  <tbody>\n",
       "    <tr>\n",
       "      <th>intercept</th>\n",
       "      <td>23.34***</td>\n",
       "      <td>24.58</td>\n",
       "    </tr>\n",
       "    <tr>\n",
       "      <th>v2x_polyarchy</th>\n",
       "      <td>32.54</td>\n",
       "      <td>20.32</td>\n",
       "    </tr>\n",
       "    <tr>\n",
       "      <th>v2x_libdem</th>\n",
       "      <td>55.61</td>\n",
       "      <td>18.54</td>\n",
       "    </tr>\n",
       "    <tr>\n",
       "      <th>v2x_partipdem</th>\n",
       "      <td>15.10</td>\n",
       "      <td>14.21</td>\n",
       "    </tr>\n",
       "    <tr>\n",
       "      <th>v2x_delibdem</th>\n",
       "      <td>-6.89</td>\n",
       "      <td>12.84</td>\n",
       "    </tr>\n",
       "    <tr>\n",
       "      <th>v2x_egaldem</th>\n",
       "      <td>-23.62</td>\n",
       "      <td>7.71</td>\n",
       "    </tr>\n",
       "  </tbody>\n",
       "</table>\n",
       "</div>"
      ],
      "text/plain": [
       "                    OLS  Ridge\n",
       "intercept      23.34***  24.58\n",
       "v2x_polyarchy     32.54  20.32\n",
       "v2x_libdem        55.61  18.54\n",
       "v2x_partipdem     15.10  14.21\n",
       "v2x_delibdem      -6.89  12.84\n",
       "v2x_egaldem      -23.62   7.71"
      ]
     },
     "execution_count": 36,
     "metadata": {},
     "output_type": "execute_result"
    }
   ],
   "source": [
    "if standardize:\n",
    "    vdem_fh_regression['Ridge'] = ridge_vdem_fh_fit.coef_[0] # ridge_vdem_fh_sm_fit.params\n",
    "else:\n",
    "    vdem_fh_regression['Ridge'] = np.concatenate([ridge_vdem_fh_fit.intercept_, ridge_vdem_fh_fit.coef_[0]])\n",
    "vdem_fh_regression = format_coef(df=vdem_fh_regression, coef='Ridge', pvalues=None)\n",
    "vdem_fh_regression"
   ]
  },
  {
   "cell_type": "markdown",
   "id": "b2c5b048",
   "metadata": {},
   "source": [
    "Ridge regression using statsmodels, just for completeness (requires setting scaling penalties: https://stackoverflow.com/questions/72260808/mismatch-between-statsmodels-and-sklearn-ridge-regression):"
   ]
  },
  {
   "cell_type": "code",
   "execution_count": 37,
   "id": "661d9f93",
   "metadata": {},
   "outputs": [
    {
     "data": {
      "text/plain": [
       "array([24.57530599, 20.3224907 , 18.53938774, 14.21497605, 12.84013467,\n",
       "        7.71160108])"
      ]
     },
     "execution_count": 37,
     "metadata": {},
     "output_type": "execute_result"
    }
   ],
   "source": [
    "n = vdem_fh.shape[0]\n",
    "if standardize:\n",
    "    ridge_vdem_fh_sm = sm.OLS(y_vdem_fh, X_vdem_fh)\n",
    "    penalty = np.ones(len(indicators_regression)) / n\n",
    "\n",
    "else:\n",
    "    ridge_vdem_fh_sm = sm.OLS(y_vdem_fh, X_vdem_fh_)\n",
    "    penalty = np.concatenate([[0.], np.ones(len(indicators_regression))]) / n\n",
    "\n",
    "ridge_vdem_fh_sm_fit = ridge_vdem_fh_sm.fit_regularized(alpha=penalty, L1_wt=0.)\n",
    "ridge_vdem_fh_sm_fit.params"
   ]
  },
  {
   "cell_type": "markdown",
   "id": "c1bd918a",
   "metadata": {},
   "source": [
    "#### Lasso regression to automatically select variables"
   ]
  },
  {
   "cell_type": "code",
   "execution_count": 38,
   "id": "a8f7fa86",
   "metadata": {},
   "outputs": [],
   "source": [
    "alpha_lasso = 1. # if alpha < 1. then Lasso becomes Elastic Net (https://stats.stackexchange.com/questions/319861/how-to-interpret-lasso-shrinking-all-coefficients-to-0)"
   ]
  },
  {
   "cell_type": "code",
   "execution_count": 39,
   "id": "f0a67230",
   "metadata": {},
   "outputs": [],
   "source": [
    "from sklearn.linear_model import Lasso"
   ]
  },
  {
   "cell_type": "code",
   "execution_count": 40,
   "id": "5c06dd32",
   "metadata": {},
   "outputs": [],
   "source": [
    "lasso_vdem_fh = Lasso(alpha=alpha_lasso, fit_intercept=fit_intercept, random_state=42)"
   ]
  },
  {
   "cell_type": "code",
   "execution_count": 41,
   "id": "bbb1b156",
   "metadata": {},
   "outputs": [],
   "source": [
    "lasso_vdem_fh_fit = lasso_vdem_fh.fit(X_vdem_fh, y_vdem_fh)"
   ]
  },
  {
   "cell_type": "code",
   "execution_count": 42,
   "id": "1e7975ee",
   "metadata": {},
   "outputs": [
    {
     "data": {
      "text/plain": [
       "0.7461837725999856"
      ]
     },
     "execution_count": 42,
     "metadata": {},
     "output_type": "execute_result"
    }
   ],
   "source": [
    "# goodness of fit\n",
    "lasso_vdem_fh_fit.score(X_vdem_fh, y_vdem_fh)"
   ]
  },
  {
   "cell_type": "code",
   "execution_count": 43,
   "id": "0dcb4e06",
   "metadata": {},
   "outputs": [
    {
     "data": {
      "text/plain": [
       "array([27.80141612])"
      ]
     },
     "execution_count": 43,
     "metadata": {},
     "output_type": "execute_result"
    }
   ],
   "source": [
    "# intercept\n",
    "lasso_vdem_fh_fit.intercept_"
   ]
  },
  {
   "cell_type": "code",
   "execution_count": 44,
   "id": "64bd5a37",
   "metadata": {},
   "outputs": [
    {
     "data": {
      "text/plain": [
       "array([37.53608076, 19.18122251,  0.        ,  0.        ,  0.        ])"
      ]
     },
     "execution_count": 44,
     "metadata": {},
     "output_type": "execute_result"
    }
   ],
   "source": [
    "# coefficients\n",
    "lasso_vdem_fh_fit.coef_"
   ]
  },
  {
   "cell_type": "code",
   "execution_count": 45,
   "id": "e1778b94",
   "metadata": {},
   "outputs": [
    {
     "data": {
      "text/html": [
       "<div>\n",
       "<style scoped>\n",
       "    .dataframe tbody tr th:only-of-type {\n",
       "        vertical-align: middle;\n",
       "    }\n",
       "\n",
       "    .dataframe tbody tr th {\n",
       "        vertical-align: top;\n",
       "    }\n",
       "\n",
       "    .dataframe thead th {\n",
       "        text-align: right;\n",
       "    }\n",
       "</style>\n",
       "<table border=\"1\" class=\"dataframe\">\n",
       "  <thead>\n",
       "    <tr style=\"text-align: right;\">\n",
       "      <th></th>\n",
       "      <th>OLS</th>\n",
       "      <th>Ridge</th>\n",
       "      <th>Lasso</th>\n",
       "    </tr>\n",
       "  </thead>\n",
       "  <tbody>\n",
       "    <tr>\n",
       "      <th>intercept</th>\n",
       "      <td>23.34***</td>\n",
       "      <td>24.58</td>\n",
       "      <td>27.80</td>\n",
       "    </tr>\n",
       "    <tr>\n",
       "      <th>v2x_polyarchy</th>\n",
       "      <td>32.54</td>\n",
       "      <td>20.32</td>\n",
       "      <td>37.54</td>\n",
       "    </tr>\n",
       "    <tr>\n",
       "      <th>v2x_libdem</th>\n",
       "      <td>55.61</td>\n",
       "      <td>18.54</td>\n",
       "      <td>19.18</td>\n",
       "    </tr>\n",
       "    <tr>\n",
       "      <th>v2x_partipdem</th>\n",
       "      <td>15.10</td>\n",
       "      <td>14.21</td>\n",
       "      <td>0.00</td>\n",
       "    </tr>\n",
       "    <tr>\n",
       "      <th>v2x_delibdem</th>\n",
       "      <td>-6.89</td>\n",
       "      <td>12.84</td>\n",
       "      <td>0.00</td>\n",
       "    </tr>\n",
       "    <tr>\n",
       "      <th>v2x_egaldem</th>\n",
       "      <td>-23.62</td>\n",
       "      <td>7.71</td>\n",
       "      <td>0.00</td>\n",
       "    </tr>\n",
       "  </tbody>\n",
       "</table>\n",
       "</div>"
      ],
      "text/plain": [
       "                    OLS  Ridge  Lasso\n",
       "intercept      23.34***  24.58  27.80\n",
       "v2x_polyarchy     32.54  20.32  37.54\n",
       "v2x_libdem        55.61  18.54  19.18\n",
       "v2x_partipdem     15.10  14.21   0.00\n",
       "v2x_delibdem      -6.89  12.84   0.00\n",
       "v2x_egaldem      -23.62   7.71   0.00"
      ]
     },
     "execution_count": 45,
     "metadata": {},
     "output_type": "execute_result"
    }
   ],
   "source": [
    "if standardize:\n",
    "    vdem_fh_regression['Lasso'] = lasso_vdem_fh_fit.coef_\n",
    "else:\n",
    "    vdem_fh_regression['Lasso'] = np.concatenate([lasso_vdem_fh_fit.intercept_, lasso_vdem_fh_fit.coef_])\n",
    "vdem_fh_regression = format_coef(df=vdem_fh_regression, coef='Lasso', pvalues=None)\n",
    "vdem_fh_regression"
   ]
  },
  {
   "cell_type": "markdown",
   "id": "7fa4de7b",
   "metadata": {},
   "source": [
    "Lasso regression using statsmodels, just for completeness (requires setting scaling penalties: https://stackoverflow.com/questions/72260808/mismatch-between-statsmodels-and-sklearn-ridge-regression):"
   ]
  },
  {
   "cell_type": "code",
   "execution_count": 46,
   "id": "8f649d32",
   "metadata": {},
   "outputs": [
    {
     "data": {
      "text/plain": [
       "array([27.26460384, 42.08282177, 14.72574299,  0.        ,  0.        ,\n",
       "        0.        ])"
      ]
     },
     "execution_count": 46,
     "metadata": {},
     "output_type": "execute_result"
    }
   ],
   "source": [
    "if standardize:\n",
    "    lasso_vdem_fh_sm = sm.OLS(y_vdem_fh, X_vdem_fh)\n",
    "    penalty = np.ones(len(indicators_regression))*alpha_lasso\n",
    "else:\n",
    "    lasso_vdem_fh_sm = sm.OLS(y_vdem_fh, X_vdem_fh_)\n",
    "    penalty = np.concatenate([[0.], np.ones(len(indicators_regression))*alpha_lasso])\n",
    "\n",
    "lasso_vdem_fh_sm_fit = lasso_vdem_fh_sm.fit_regularized(alpha=penalty, L1_wt=1.)\n",
    "lasso_vdem_fh_sm_fit.params"
   ]
  },
  {
   "cell_type": "markdown",
   "id": "17d0e4b1",
   "metadata": {},
   "source": [
    "#### Ordinary-Least-Squares regression with two variables"
   ]
  },
  {
   "cell_type": "code",
   "execution_count": 47,
   "id": "ba96db2c",
   "metadata": {},
   "outputs": [],
   "source": [
    "indicators_regression_select = ['v2x_polyarchy', 'v2x_libdem']"
   ]
  },
  {
   "cell_type": "code",
   "execution_count": 48,
   "id": "1577e8a3",
   "metadata": {},
   "outputs": [],
   "source": [
    "X_vdem_fh_select = vdem_fh[indicators_regression_select].to_numpy()\n",
    "\n",
    "if standardize:\n",
    "    X_vdem_fh_select = StandardScaler().fit_transform(X_vdem_fh_select)"
   ]
  },
  {
   "cell_type": "code",
   "execution_count": 49,
   "id": "fe37e71a",
   "metadata": {},
   "outputs": [],
   "source": [
    "X_vdem_fh_select_ = sm.add_constant(X_vdem_fh_select)"
   ]
  },
  {
   "cell_type": "code",
   "execution_count": 50,
   "id": "e004c518",
   "metadata": {},
   "outputs": [],
   "source": [
    "if standardize:\n",
    "    ols_vdem_fh_select_sm = sm.OLS(y_vdem_fh, X_vdem_fh_select)\n",
    "else:\n",
    "    ols_vdem_fh_select_sm = sm.OLS(y_vdem_fh, X_vdem_fh_select_)\n",
    "ols_vdem_fh_select_sm_fit = ols_vdem_fh_select_sm.fit()"
   ]
  },
  {
   "cell_type": "code",
   "execution_count": 51,
   "id": "8519212f",
   "metadata": {},
   "outputs": [
    {
     "data": {
      "text/html": [
       "<table class=\"simpletable\">\n",
       "<caption>OLS Regression Results</caption>\n",
       "<tr>\n",
       "  <th>Dep. Variable:</th>            <td>y</td>        <th>  R-squared:         </th> <td>   0.785</td>\n",
       "</tr>\n",
       "<tr>\n",
       "  <th>Model:</th>                   <td>OLS</td>       <th>  Adj. R-squared:    </th> <td>   0.778</td>\n",
       "</tr>\n",
       "<tr>\n",
       "  <th>Method:</th>             <td>Least Squares</td>  <th>  F-statistic:       </th> <td>   113.0</td>\n",
       "</tr>\n",
       "<tr>\n",
       "  <th>Date:</th>             <td>Mon, 17 Apr 2023</td> <th>  Prob (F-statistic):</th> <td>2.12e-21</td>\n",
       "</tr>\n",
       "<tr>\n",
       "  <th>Time:</th>                 <td>09:14:55</td>     <th>  Log-Likelihood:    </th> <td> -238.64</td>\n",
       "</tr>\n",
       "<tr>\n",
       "  <th>No. Observations:</th>      <td>    65</td>      <th>  AIC:               </th> <td>   483.3</td>\n",
       "</tr>\n",
       "<tr>\n",
       "  <th>Df Residuals:</th>          <td>    62</td>      <th>  BIC:               </th> <td>   489.8</td>\n",
       "</tr>\n",
       "<tr>\n",
       "  <th>Df Model:</th>              <td>     2</td>      <th>                     </th>     <td> </td>   \n",
       "</tr>\n",
       "<tr>\n",
       "  <th>Covariance Type:</th>      <td>nonrobust</td>    <th>                     </th>     <td> </td>   \n",
       "</tr>\n",
       "</table>\n",
       "<table class=\"simpletable\">\n",
       "<tr>\n",
       "    <td></td>       <th>coef</th>     <th>std err</th>      <th>t</th>      <th>P>|t|</th>  <th>[0.025</th>    <th>0.975]</th>  \n",
       "</tr>\n",
       "<tr>\n",
       "  <th>const</th> <td>   21.5723</td> <td>    3.447</td> <td>    6.258</td> <td> 0.000</td> <td>   14.682</td> <td>   28.463</td>\n",
       "</tr>\n",
       "<tr>\n",
       "  <th>x1</th>    <td>   42.4794</td> <td>   24.006</td> <td>    1.770</td> <td> 0.082</td> <td>   -5.507</td> <td>   90.466</td>\n",
       "</tr>\n",
       "<tr>\n",
       "  <th>x2</th>    <td>   30.3993</td> <td>   24.190</td> <td>    1.257</td> <td> 0.214</td> <td>  -17.957</td> <td>   78.755</td>\n",
       "</tr>\n",
       "</table>\n",
       "<table class=\"simpletable\">\n",
       "<tr>\n",
       "  <th>Omnibus:</th>       <td> 2.260</td> <th>  Durbin-Watson:     </th> <td>   1.868</td>\n",
       "</tr>\n",
       "<tr>\n",
       "  <th>Prob(Omnibus):</th> <td> 0.323</td> <th>  Jarque-Bera (JB):  </th> <td>   1.432</td>\n",
       "</tr>\n",
       "<tr>\n",
       "  <th>Skew:</th>          <td> 0.040</td> <th>  Prob(JB):          </th> <td>   0.489</td>\n",
       "</tr>\n",
       "<tr>\n",
       "  <th>Kurtosis:</th>      <td> 2.277</td> <th>  Cond. No.          </th> <td>    32.9</td>\n",
       "</tr>\n",
       "</table><br/><br/>Notes:<br/>[1] Standard Errors assume that the covariance matrix of the errors is correctly specified."
      ],
      "text/plain": [
       "<class 'statsmodels.iolib.summary.Summary'>\n",
       "\"\"\"\n",
       "                            OLS Regression Results                            \n",
       "==============================================================================\n",
       "Dep. Variable:                      y   R-squared:                       0.785\n",
       "Model:                            OLS   Adj. R-squared:                  0.778\n",
       "Method:                 Least Squares   F-statistic:                     113.0\n",
       "Date:                Mon, 17 Apr 2023   Prob (F-statistic):           2.12e-21\n",
       "Time:                        09:14:55   Log-Likelihood:                -238.64\n",
       "No. Observations:                  65   AIC:                             483.3\n",
       "Df Residuals:                      62   BIC:                             489.8\n",
       "Df Model:                           2                                         \n",
       "Covariance Type:            nonrobust                                         \n",
       "==============================================================================\n",
       "                 coef    std err          t      P>|t|      [0.025      0.975]\n",
       "------------------------------------------------------------------------------\n",
       "const         21.5723      3.447      6.258      0.000      14.682      28.463\n",
       "x1            42.4794     24.006      1.770      0.082      -5.507      90.466\n",
       "x2            30.3993     24.190      1.257      0.214     -17.957      78.755\n",
       "==============================================================================\n",
       "Omnibus:                        2.260   Durbin-Watson:                   1.868\n",
       "Prob(Omnibus):                  0.323   Jarque-Bera (JB):                1.432\n",
       "Skew:                           0.040   Prob(JB):                        0.489\n",
       "Kurtosis:                       2.277   Cond. No.                         32.9\n",
       "==============================================================================\n",
       "\n",
       "Notes:\n",
       "[1] Standard Errors assume that the covariance matrix of the errors is correctly specified.\n",
       "\"\"\""
      ]
     },
     "execution_count": 51,
     "metadata": {},
     "output_type": "execute_result"
    }
   ],
   "source": [
    "ols_vdem_fh_select_sm_fit.summary()"
   ]
  },
  {
   "cell_type": "code",
   "execution_count": 52,
   "id": "62591f8b",
   "metadata": {},
   "outputs": [
    {
     "data": {
      "text/html": [
       "<div>\n",
       "<style scoped>\n",
       "    .dataframe tbody tr th:only-of-type {\n",
       "        vertical-align: middle;\n",
       "    }\n",
       "\n",
       "    .dataframe tbody tr th {\n",
       "        vertical-align: top;\n",
       "    }\n",
       "\n",
       "    .dataframe thead th {\n",
       "        text-align: right;\n",
       "    }\n",
       "</style>\n",
       "<table border=\"1\" class=\"dataframe\">\n",
       "  <thead>\n",
       "    <tr style=\"text-align: right;\">\n",
       "      <th></th>\n",
       "      <th>OLS</th>\n",
       "      <th>Ridge</th>\n",
       "      <th>Lasso</th>\n",
       "      <th>OLS (select)</th>\n",
       "    </tr>\n",
       "  </thead>\n",
       "  <tbody>\n",
       "    <tr>\n",
       "      <th>intercept</th>\n",
       "      <td>23.34***</td>\n",
       "      <td>24.58</td>\n",
       "      <td>27.80</td>\n",
       "      <td>21.57***</td>\n",
       "    </tr>\n",
       "    <tr>\n",
       "      <th>v2x_polyarchy</th>\n",
       "      <td>32.54</td>\n",
       "      <td>20.32</td>\n",
       "      <td>37.54</td>\n",
       "      <td>42.48*</td>\n",
       "    </tr>\n",
       "    <tr>\n",
       "      <th>v2x_libdem</th>\n",
       "      <td>55.61</td>\n",
       "      <td>18.54</td>\n",
       "      <td>19.18</td>\n",
       "      <td>30.40</td>\n",
       "    </tr>\n",
       "    <tr>\n",
       "      <th>v2x_partipdem</th>\n",
       "      <td>15.10</td>\n",
       "      <td>14.21</td>\n",
       "      <td>0.00</td>\n",
       "      <td>nan</td>\n",
       "    </tr>\n",
       "    <tr>\n",
       "      <th>v2x_delibdem</th>\n",
       "      <td>-6.89</td>\n",
       "      <td>12.84</td>\n",
       "      <td>0.00</td>\n",
       "      <td>nan</td>\n",
       "    </tr>\n",
       "    <tr>\n",
       "      <th>v2x_egaldem</th>\n",
       "      <td>-23.62</td>\n",
       "      <td>7.71</td>\n",
       "      <td>0.00</td>\n",
       "      <td>nan</td>\n",
       "    </tr>\n",
       "  </tbody>\n",
       "</table>\n",
       "</div>"
      ],
      "text/plain": [
       "                    OLS  Ridge  Lasso OLS (select)\n",
       "intercept      23.34***  24.58  27.80     21.57***\n",
       "v2x_polyarchy     32.54  20.32  37.54       42.48*\n",
       "v2x_libdem        55.61  18.54  19.18        30.40\n",
       "v2x_partipdem     15.10  14.21   0.00          nan\n",
       "v2x_delibdem      -6.89  12.84   0.00          nan\n",
       "v2x_egaldem      -23.62   7.71   0.00          nan"
      ]
     },
     "execution_count": 52,
     "metadata": {},
     "output_type": "execute_result"
    }
   ],
   "source": [
    "vdem_fh_regression['OLS (select)'] = np.concatenate([ols_vdem_fh_select_sm_fit.params, np.empty(len(indicators_regression)-len(indicators_regression_select))*np.nan])\n",
    "vdem_fh_regression = format_coef(df=vdem_fh_regression, coef='OLS (select)', pvalues=np.concatenate([ols_vdem_fh_select_sm_fit.pvalues, np.empty(len(indicators_regression)-len(indicators_regression_select))*np.nan]))\n",
    "vdem_fh_regression"
   ]
  },
  {
   "cell_type": "markdown",
   "id": "fd3c7d8d",
   "metadata": {},
   "source": [
    "### 9.1.2. Classification"
   ]
  },
  {
   "cell_type": "code",
   "execution_count": 53,
   "id": "07a9e356",
   "metadata": {},
   "outputs": [],
   "source": [
    "indicators_logit = ['v2smgovdom_osp', 'v2smgovfilprc_osp', 'v2smgovsmcenprc_osp', 'v2smonper_osp', 'v2smarrest_osp']"
   ]
  },
  {
   "cell_type": "code",
   "execution_count": 54,
   "id": "434b23be",
   "metadata": {},
   "outputs": [],
   "source": [
    "X_vdem_logit = vdem[indicators_logit].to_numpy()\n",
    "y_vdem_logit = np.where(vdem[\"v2x_regime\"] <= 1, 0, 1).copy()"
   ]
  },
  {
   "cell_type": "code",
   "execution_count": 55,
   "id": "2d983054",
   "metadata": {},
   "outputs": [],
   "source": [
    "from sklearn.linear_model import LogisticRegression"
   ]
  },
  {
   "cell_type": "code",
   "execution_count": 56,
   "id": "7512e176",
   "metadata": {},
   "outputs": [],
   "source": [
    "logit_vdem = LogisticRegression(penalty='none', C=1., fit_intercept=False)"
   ]
  },
  {
   "cell_type": "code",
   "execution_count": 57,
   "id": "6adc774f",
   "metadata": {},
   "outputs": [
    {
     "name": "stderr",
     "output_type": "stream",
     "text": [
      "/home/sed_zeppelin/anaconda3/lib/python3.8/site-packages/sklearn/linear_model/_logistic.py:1173: FutureWarning: `penalty='none'`has been deprecated in 1.2 and will be removed in 1.4. To keep the past behaviour, set `penalty=None`.\n",
      "  warnings.warn(\n"
     ]
    }
   ],
   "source": [
    "logit_vdem_fit = logit_vdem.fit(X_vdem_logit, y_vdem_logit)"
   ]
  },
  {
   "cell_type": "code",
   "execution_count": 58,
   "id": "3584b9cb",
   "metadata": {},
   "outputs": [
    {
     "data": {
      "text/plain": [
       "0.8044692737430168"
      ]
     },
     "execution_count": 58,
     "metadata": {},
     "output_type": "execute_result"
    }
   ],
   "source": [
    "# goodness of fit\n",
    "logit_vdem_fit.score(X_vdem_logit, y_vdem_logit)"
   ]
  },
  {
   "cell_type": "code",
   "execution_count": 59,
   "id": "86b7e528",
   "metadata": {},
   "outputs": [
    {
     "data": {
      "text/plain": [
       "array([0.])"
      ]
     },
     "execution_count": 59,
     "metadata": {},
     "output_type": "execute_result"
    }
   ],
   "source": [
    "# intercept\n",
    "logit_vdem_fit.intercept_"
   ]
  },
  {
   "cell_type": "code",
   "execution_count": 60,
   "id": "480f857a",
   "metadata": {},
   "outputs": [
    {
     "data": {
      "text/plain": [
       "array([ 0.79370968,  0.5426701 , -2.45795325, -0.01638149,  2.63622393])"
      ]
     },
     "execution_count": 60,
     "metadata": {},
     "output_type": "execute_result"
    }
   ],
   "source": [
    "# coefficients\n",
    "logit_vdem_fit.coef_[0]"
   ]
  },
  {
   "cell_type": "code",
   "execution_count": 61,
   "id": "987665c5",
   "metadata": {},
   "outputs": [],
   "source": [
    "X_vdem_logit_ = sm.add_constant(X_vdem_logit)"
   ]
  },
  {
   "cell_type": "code",
   "execution_count": 62,
   "id": "306ac80e",
   "metadata": {},
   "outputs": [],
   "source": [
    "logit_vdem_sm = sm.Logit(y_vdem_logit, X_vdem_logit_)"
   ]
  },
  {
   "cell_type": "code",
   "execution_count": 63,
   "id": "4c776f61",
   "metadata": {},
   "outputs": [
    {
     "name": "stdout",
     "output_type": "stream",
     "text": [
      "Optimization terminated successfully.\n",
      "         Current function value: 0.307529\n",
      "         Iterations 8\n"
     ]
    }
   ],
   "source": [
    "logit_vdem_sm_fit = logit_vdem_sm.fit()"
   ]
  },
  {
   "cell_type": "code",
   "execution_count": 64,
   "id": "7dc10e07",
   "metadata": {},
   "outputs": [
    {
     "data": {
      "text/html": [
       "<table class=\"simpletable\">\n",
       "<caption>Logit Regression Results</caption>\n",
       "<tr>\n",
       "  <th>Dep. Variable:</th>           <td>y</td>        <th>  No. Observations:  </th>  <td>   179</td>  \n",
       "</tr>\n",
       "<tr>\n",
       "  <th>Model:</th>                 <td>Logit</td>      <th>  Df Residuals:      </th>  <td>   173</td>  \n",
       "</tr>\n",
       "<tr>\n",
       "  <th>Method:</th>                 <td>MLE</td>       <th>  Df Model:          </th>  <td>     5</td>  \n",
       "</tr>\n",
       "<tr>\n",
       "  <th>Date:</th>            <td>Mon, 17 Apr 2023</td> <th>  Pseudo R-squ.:     </th>  <td>0.5561</td>  \n",
       "</tr>\n",
       "<tr>\n",
       "  <th>Time:</th>                <td>09:14:57</td>     <th>  Log-Likelihood:    </th> <td> -55.048</td> \n",
       "</tr>\n",
       "<tr>\n",
       "  <th>converged:</th>             <td>True</td>       <th>  LL-Null:           </th> <td> -124.00</td> \n",
       "</tr>\n",
       "<tr>\n",
       "  <th>Covariance Type:</th>     <td>nonrobust</td>    <th>  LLR p-value:       </th> <td>4.972e-28</td>\n",
       "</tr>\n",
       "</table>\n",
       "<table class=\"simpletable\">\n",
       "<tr>\n",
       "    <td></td>       <th>coef</th>     <th>std err</th>      <th>z</th>      <th>P>|z|</th>  <th>[0.025</th>    <th>0.975]</th>  \n",
       "</tr>\n",
       "<tr>\n",
       "  <th>const</th> <td>  -10.4421</td> <td>    2.330</td> <td>   -4.481</td> <td> 0.000</td> <td>  -15.009</td> <td>   -5.875</td>\n",
       "</tr>\n",
       "<tr>\n",
       "  <th>x1</th>    <td>    0.9712</td> <td>    0.366</td> <td>    2.656</td> <td> 0.008</td> <td>    0.255</td> <td>    1.688</td>\n",
       "</tr>\n",
       "<tr>\n",
       "  <th>x2</th>    <td>   -0.0771</td> <td>    0.641</td> <td>   -0.120</td> <td> 0.904</td> <td>   -1.333</td> <td>    1.179</td>\n",
       "</tr>\n",
       "<tr>\n",
       "  <th>x3</th>    <td>    1.2056</td> <td>    0.868</td> <td>    1.389</td> <td> 0.165</td> <td>   -0.496</td> <td>    2.907</td>\n",
       "</tr>\n",
       "<tr>\n",
       "  <th>x4</th>    <td>    0.2513</td> <td>    0.549</td> <td>    0.458</td> <td> 0.647</td> <td>   -0.825</td> <td>    1.327</td>\n",
       "</tr>\n",
       "<tr>\n",
       "  <th>x5</th>    <td>    1.8268</td> <td>    0.545</td> <td>    3.350</td> <td> 0.001</td> <td>    0.758</td> <td>    2.896</td>\n",
       "</tr>\n",
       "</table>"
      ],
      "text/plain": [
       "<class 'statsmodels.iolib.summary.Summary'>\n",
       "\"\"\"\n",
       "                           Logit Regression Results                           \n",
       "==============================================================================\n",
       "Dep. Variable:                      y   No. Observations:                  179\n",
       "Model:                          Logit   Df Residuals:                      173\n",
       "Method:                           MLE   Df Model:                            5\n",
       "Date:                Mon, 17 Apr 2023   Pseudo R-squ.:                  0.5561\n",
       "Time:                        09:14:57   Log-Likelihood:                -55.048\n",
       "converged:                       True   LL-Null:                       -124.00\n",
       "Covariance Type:            nonrobust   LLR p-value:                 4.972e-28\n",
       "==============================================================================\n",
       "                 coef    std err          z      P>|z|      [0.025      0.975]\n",
       "------------------------------------------------------------------------------\n",
       "const        -10.4421      2.330     -4.481      0.000     -15.009      -5.875\n",
       "x1             0.9712      0.366      2.656      0.008       0.255       1.688\n",
       "x2            -0.0771      0.641     -0.120      0.904      -1.333       1.179\n",
       "x3             1.2056      0.868      1.389      0.165      -0.496       2.907\n",
       "x4             0.2513      0.549      0.458      0.647      -0.825       1.327\n",
       "x5             1.8268      0.545      3.350      0.001       0.758       2.896\n",
       "==============================================================================\n",
       "\"\"\""
      ]
     },
     "execution_count": 64,
     "metadata": {},
     "output_type": "execute_result"
    }
   ],
   "source": [
    "logit_vdem_sm_fit.summary()"
   ]
  },
  {
   "cell_type": "code",
   "execution_count": 65,
   "id": "d0079d65",
   "metadata": {},
   "outputs": [
    {
     "data": {
      "text/plain": [
       "0.5560797620202649"
      ]
     },
     "execution_count": 65,
     "metadata": {},
     "output_type": "execute_result"
    }
   ],
   "source": [
    "# goodness of fit\n",
    "logit_vdem_sm_fit.prsquared"
   ]
  },
  {
   "cell_type": "code",
   "execution_count": 66,
   "id": "08c3bb33",
   "metadata": {},
   "outputs": [
    {
     "data": {
      "text/plain": [
       "array([-10.44206953,   0.97115917,  -0.07713647,   1.20558503,\n",
       "         0.25125261,   1.82681524])"
      ]
     },
     "execution_count": 66,
     "metadata": {},
     "output_type": "execute_result"
    }
   ],
   "source": [
    "# intercept and coefficients\n",
    "logit_vdem_sm_fit.params"
   ]
  },
  {
   "cell_type": "code",
   "execution_count": 67,
   "id": "6ccc68d6",
   "metadata": {},
   "outputs": [
    {
     "data": {
      "text/plain": [
       "array([7.42006943e-06, 7.89728126e-03, 9.04197013e-01, 1.64840553e-01,\n",
       "       6.47146164e-01, 8.08094675e-04])"
      ]
     },
     "execution_count": 67,
     "metadata": {},
     "output_type": "execute_result"
    }
   ],
   "source": [
    "# significance scores\n",
    "logit_vdem_sm_fit.pvalues"
   ]
  },
  {
   "cell_type": "code",
   "execution_count": 68,
   "id": "4006167c",
   "metadata": {},
   "outputs": [
    {
     "data": {
      "text/html": [
       "<div>\n",
       "<style scoped>\n",
       "    .dataframe tbody tr th:only-of-type {\n",
       "        vertical-align: middle;\n",
       "    }\n",
       "\n",
       "    .dataframe tbody tr th {\n",
       "        vertical-align: top;\n",
       "    }\n",
       "\n",
       "    .dataframe thead th {\n",
       "        text-align: right;\n",
       "    }\n",
       "</style>\n",
       "<table border=\"1\" class=\"dataframe\">\n",
       "  <thead>\n",
       "    <tr style=\"text-align: right;\">\n",
       "      <th></th>\n",
       "      <th>Logit</th>\n",
       "    </tr>\n",
       "  </thead>\n",
       "  <tbody>\n",
       "    <tr>\n",
       "      <th>intercept</th>\n",
       "      <td>-10.44***</td>\n",
       "    </tr>\n",
       "    <tr>\n",
       "      <th>v2smgovdom_osp</th>\n",
       "      <td>0.97**</td>\n",
       "    </tr>\n",
       "    <tr>\n",
       "      <th>v2smgovfilprc_osp</th>\n",
       "      <td>-0.08</td>\n",
       "    </tr>\n",
       "    <tr>\n",
       "      <th>v2smgovsmcenprc_osp</th>\n",
       "      <td>1.21</td>\n",
       "    </tr>\n",
       "    <tr>\n",
       "      <th>v2smonper_osp</th>\n",
       "      <td>0.25</td>\n",
       "    </tr>\n",
       "    <tr>\n",
       "      <th>v2smarrest_osp</th>\n",
       "      <td>1.83***</td>\n",
       "    </tr>\n",
       "  </tbody>\n",
       "</table>\n",
       "</div>"
      ],
      "text/plain": [
       "                         Logit\n",
       "intercept            -10.44***\n",
       "v2smgovdom_osp          0.97**\n",
       "v2smgovfilprc_osp        -0.08\n",
       "v2smgovsmcenprc_osp       1.21\n",
       "v2smonper_osp             0.25\n",
       "v2smarrest_osp         1.83***"
      ]
     },
     "execution_count": 68,
     "metadata": {},
     "output_type": "execute_result"
    }
   ],
   "source": [
    "vdem_classification = pd.DataFrame(\n",
    "    data = logit_vdem_sm_fit.params, \n",
    "    index = np.concatenate([['intercept'], indicators_logit]), \n",
    "    columns = ['Logit']\n",
    ")\n",
    "vdem_classification = format_coef(df=vdem_classification, coef='Logit', pvalues=logit_vdem_sm_fit.pvalues)\n",
    "vdem_classification"
   ]
  },
  {
   "cell_type": "markdown",
   "id": "f09475fd",
   "metadata": {},
   "source": [
    "## 9.2. Prediction (supervised machine learning)\n",
    "\n",
    "- Out-of-sample testing\n",
    "- Cross validation\n",
    "- Data leakage\n",
    "- Feature selection\n",
    "- Over- and underfitting\n",
    "\n",
    "- https://jakevdp.github.io/PythonDataScienceHandbook/05.03-hyperparameters-and-model-validation.html\n"
   ]
  },
  {
   "cell_type": "markdown",
   "id": "67dc3243",
   "metadata": {},
   "source": [
    "<div class='alert alert-block alert-success'>\n",
    "<b>TASK</b>\n",
    "\n",
    "Copy the codes from https://github.com/UWNETLAB/dcss_supplementary/blob/main/chapter_notebooks/chapter_20.ipynb here, starting with \"The Train-Test Split\", and make them run. Don't read the data in again. Use `vdem` and `vdem_fh` instead.\n",
    "</div>"
   ]
  },
  {
   "cell_type": "markdown",
   "id": "104f3200",
   "metadata": {},
   "source": [
    "In this section we will focus on the use of linear and logistic regression for supervised learning, and we'll introduce the logic of cross-validation. We will still be using the data from VDEM project and from Freedom House’s ‘Freedom on the Net’ dataset."
   ]
  },
  {
   "cell_type": "markdown",
   "id": "e7c966dc",
   "metadata": {},
   "source": [
    "#### The Train-Test Split\n",
    "\n",
    "For developing machine learning models we need to split our data; some for training the model and others for testing and validating it. Without splitting, our model will simply learn to retrodict data that it has already seen, rather than predicting the data it has not.\n",
    "\n",
    "Every time you split your data, you remove some of the information the model can learn from. If you remove too much, a full train/validation/test split might impact your model’s performance in a negative way.\n",
    "\n",
    "Fortunately, we can sidestep this issue without sacrificing any principles. The process follows these steps:\n",
    "1. Split your data into train and test sets. All of the training data will be fully available\n",
    "to train on. The test set will not be used in any way until a final model has been\n",
    "selected.\n",
    "2. Use cross-validation (explained later in this section) to produce an optimal set of training\n",
    "hyperparameters.\n",
    "3. Select the best cross-validated model and evaluate using test data.\n",
    "\n",
    "We can complete the first step in Sklearn using `train_test_split()` function. Below, we separate our data into two objects: `X` and `y`. Doing so brings us inline with a long-standing convention that the predictor data is stored in an upper-case X, indicating a matrix of covariates, or **design matrix**. The lower-case y, or the **target**, indicates a vector of outcome values. The machine learning models we employ will\n",
    "learn how to predict the y values using the X values.\n",
    "\n",
    "In our case, we’re going to use the five high-level VDEM indices as our independent\n",
    "variables (which will collectively comprise our design matrix, X), and we’ll use the\n",
    "continuous Total Score as our y target:"
   ]
  },
  {
   "cell_type": "code",
   "execution_count": 69,
   "id": "96ba1aa4",
   "metadata": {},
   "outputs": [],
   "source": [
    "from sklearn.model_selection import train_test_split\n",
    "\n",
    "X = vdem_fh[['v2x_polyarchy', 'v2x_libdem', 'v2x_partipdem', 'v2x_delibdem', 'v2x_egaldem',]]\n",
    "y = vdem_fh[['Total Score']]\n",
    "\n",
    "X_train, X_test, y_train, y_test = train_test_split(X, y, shuffle=True, random_state=2023)"
   ]
  },
  {
   "cell_type": "markdown",
   "id": "d6daefc9",
   "metadata": {},
   "source": [
    "### Supervised Learning with Linear Regression\n",
    "\n",
    "The linear regression model is about as transparent and interpretable as machine\n",
    "learning gets. Linear regression models are algorithmically simple, and since they\n",
    "have been widely used in the social sciences, they're rather easier to begin with if you don't have much experience with machine learning.\n",
    "\n",
    "#### Ordinary Least Squares (OLS) Regression\n",
    "\n",
    "In an OLS regression, we model an outcome of interest (y) as a\n",
    "function of a weighted sum of input features (X) and random error. The *weights* in a\n",
    "linear model are the coefficients, which are *learnt* during training. For example, we\n",
    "might predict the degree of internet freedom in a country as a linear function of some other\n",
    "regime characteristics.\n",
    "\n",
    "In the context of machine learning, the goal with a regression model such as this is to\n",
    "find a line (if you have one feature), a plane (if you have two features), or a hyperplane\n",
    "(if you have three or more features) that best fits the data. When we fit our model to the\n",
    "training data, it *learns* the best value for the intercept and slope by minimizing the\n",
    "mean-squared error (MSE), which is the sum of the squared differences between each\n",
    "observed value in the data and the predicted value from the model.\n",
    "\n",
    "In order to do this, we first need to create an OLS object as follows, and then learn the model parameters by fitting the model to our training data:"
   ]
  },
  {
   "cell_type": "code",
   "execution_count": 70,
   "id": "74a79435",
   "metadata": {},
   "outputs": [],
   "source": [
    "from sklearn.linear_model import LinearRegression\n",
    "ols = LinearRegression()"
   ]
  },
  {
   "cell_type": "code",
   "execution_count": 71,
   "id": "0ccee3b8",
   "metadata": {},
   "outputs": [
    {
     "data": {
      "text/html": [
       "<style>#sk-container-id-1 {color: black;background-color: white;}#sk-container-id-1 pre{padding: 0;}#sk-container-id-1 div.sk-toggleable {background-color: white;}#sk-container-id-1 label.sk-toggleable__label {cursor: pointer;display: block;width: 100%;margin-bottom: 0;padding: 0.3em;box-sizing: border-box;text-align: center;}#sk-container-id-1 label.sk-toggleable__label-arrow:before {content: \"▸\";float: left;margin-right: 0.25em;color: #696969;}#sk-container-id-1 label.sk-toggleable__label-arrow:hover:before {color: black;}#sk-container-id-1 div.sk-estimator:hover label.sk-toggleable__label-arrow:before {color: black;}#sk-container-id-1 div.sk-toggleable__content {max-height: 0;max-width: 0;overflow: hidden;text-align: left;background-color: #f0f8ff;}#sk-container-id-1 div.sk-toggleable__content pre {margin: 0.2em;color: black;border-radius: 0.25em;background-color: #f0f8ff;}#sk-container-id-1 input.sk-toggleable__control:checked~div.sk-toggleable__content {max-height: 200px;max-width: 100%;overflow: auto;}#sk-container-id-1 input.sk-toggleable__control:checked~label.sk-toggleable__label-arrow:before {content: \"▾\";}#sk-container-id-1 div.sk-estimator input.sk-toggleable__control:checked~label.sk-toggleable__label {background-color: #d4ebff;}#sk-container-id-1 div.sk-label input.sk-toggleable__control:checked~label.sk-toggleable__label {background-color: #d4ebff;}#sk-container-id-1 input.sk-hidden--visually {border: 0;clip: rect(1px 1px 1px 1px);clip: rect(1px, 1px, 1px, 1px);height: 1px;margin: -1px;overflow: hidden;padding: 0;position: absolute;width: 1px;}#sk-container-id-1 div.sk-estimator {font-family: monospace;background-color: #f0f8ff;border: 1px dotted black;border-radius: 0.25em;box-sizing: border-box;margin-bottom: 0.5em;}#sk-container-id-1 div.sk-estimator:hover {background-color: #d4ebff;}#sk-container-id-1 div.sk-parallel-item::after {content: \"\";width: 100%;border-bottom: 1px solid gray;flex-grow: 1;}#sk-container-id-1 div.sk-label:hover label.sk-toggleable__label {background-color: #d4ebff;}#sk-container-id-1 div.sk-serial::before {content: \"\";position: absolute;border-left: 1px solid gray;box-sizing: border-box;top: 0;bottom: 0;left: 50%;z-index: 0;}#sk-container-id-1 div.sk-serial {display: flex;flex-direction: column;align-items: center;background-color: white;padding-right: 0.2em;padding-left: 0.2em;position: relative;}#sk-container-id-1 div.sk-item {position: relative;z-index: 1;}#sk-container-id-1 div.sk-parallel {display: flex;align-items: stretch;justify-content: center;background-color: white;position: relative;}#sk-container-id-1 div.sk-item::before, #sk-container-id-1 div.sk-parallel-item::before {content: \"\";position: absolute;border-left: 1px solid gray;box-sizing: border-box;top: 0;bottom: 0;left: 50%;z-index: -1;}#sk-container-id-1 div.sk-parallel-item {display: flex;flex-direction: column;z-index: 1;position: relative;background-color: white;}#sk-container-id-1 div.sk-parallel-item:first-child::after {align-self: flex-end;width: 50%;}#sk-container-id-1 div.sk-parallel-item:last-child::after {align-self: flex-start;width: 50%;}#sk-container-id-1 div.sk-parallel-item:only-child::after {width: 0;}#sk-container-id-1 div.sk-dashed-wrapped {border: 1px dashed gray;margin: 0 0.4em 0.5em 0.4em;box-sizing: border-box;padding-bottom: 0.4em;background-color: white;}#sk-container-id-1 div.sk-label label {font-family: monospace;font-weight: bold;display: inline-block;line-height: 1.2em;}#sk-container-id-1 div.sk-label-container {text-align: center;}#sk-container-id-1 div.sk-container {/* jupyter's `normalize.less` sets `[hidden] { display: none; }` but bootstrap.min.css set `[hidden] { display: none !important; }` so we also need the `!important` here to be able to override the default hidden behavior on the sphinx rendered scikit-learn.org. See: https://github.com/scikit-learn/scikit-learn/issues/21755 */display: inline-block !important;position: relative;}#sk-container-id-1 div.sk-text-repr-fallback {display: none;}</style><div id=\"sk-container-id-1\" class=\"sk-top-container\"><div class=\"sk-text-repr-fallback\"><pre>LinearRegression()</pre><b>In a Jupyter environment, please rerun this cell to show the HTML representation or trust the notebook. <br />On GitHub, the HTML representation is unable to render, please try loading this page with nbviewer.org.</b></div><div class=\"sk-container\" hidden><div class=\"sk-item\"><div class=\"sk-estimator sk-toggleable\"><input class=\"sk-toggleable__control sk-hidden--visually\" id=\"sk-estimator-id-1\" type=\"checkbox\" checked><label for=\"sk-estimator-id-1\" class=\"sk-toggleable__label sk-toggleable__label-arrow\">LinearRegression</label><div class=\"sk-toggleable__content\"><pre>LinearRegression()</pre></div></div></div></div></div>"
      ],
      "text/plain": [
       "LinearRegression()"
      ]
     },
     "execution_count": 71,
     "metadata": {},
     "output_type": "execute_result"
    }
   ],
   "source": [
    "ols.fit(X_train, y_train)"
   ]
  },
  {
   "cell_type": "markdown",
   "id": "6cb61ac1",
   "metadata": {},
   "source": [
    "We can access learnt parameters -intercept and coeffiecients- like this:"
   ]
  },
  {
   "cell_type": "code",
   "execution_count": 72,
   "id": "ce46fb51",
   "metadata": {},
   "outputs": [
    {
     "name": "stdout",
     "output_type": "stream",
     "text": [
      "Intercept ['v2x_polyarchy', 'v2x_libdem', 'v2x_partipdem', 'v2x_delibdem', 'v2x_egaldem']\n",
      "[26.02241098] [[-24.22127805  31.42007056 108.85019453  -7.43306896 -11.29007169]]\n"
     ]
    }
   ],
   "source": [
    "print(\"Intercept\", list(X_train.columns))\n",
    "print(ols.intercept_, ols.coef_)"
   ]
  },
  {
   "cell_type": "markdown",
   "id": "42323103",
   "metadata": {},
   "source": [
    "We can check to see how well the model managed to to fit our data using R^2 score. It measures how much of the variance in the dependent variable can be explained by the model; a score of 1 indicates a perfect fit."
   ]
  },
  {
   "cell_type": "code",
   "execution_count": 73,
   "id": "296a736a",
   "metadata": {},
   "outputs": [
    {
     "data": {
      "text/plain": [
       "0.8239910106565065"
      ]
     },
     "execution_count": 73,
     "metadata": {},
     "output_type": "execute_result"
    }
   ],
   "source": [
    "ols.score(X_train, y_train)"
   ]
  },
  {
   "cell_type": "markdown",
   "id": "85126fe6",
   "metadata": {},
   "source": [
    "0.8 is a pretty high score for R^2, it means that our trained model is capable of accounting for roughly 80% of the variance in the training data with just six parameters (including the intercept). This could indicate overfitting to the training data, meaning that our model can perform very well on the data it has learned from, but it's not that capable when encountering new data. In order to examine that, we will use cross-validation."
   ]
  },
  {
   "cell_type": "markdown",
   "id": "75dfdb94",
   "metadata": {},
   "source": [
    "### CROSS-VALIDATION\n",
    "\n",
    "\n",
    "**Cross-validation** builds on the intuition behind training and testing sets, but does so\n",
    "repeatedly, training and assessing models each time. The most common type of cross-\n",
    "validation in machine learning is **k-fold cross-validation**, which splits our data into k\n",
    "number of equally sized folds. We then use these folds as a sliding window of training and\n",
    "validation splits. If we are doing fivefold cross-validation, we segment our dataset into\n",
    "five folds and fit and assess five models.\n",
    "\n",
    "The first model is trained using the data\n",
    "contained in folds 2 to 5 and then validated on the data on in fold 1. The second model\n",
    "is trained on the data in fold 1 and folds 3 to 5 and validated on the data in fold 2, and\n",
    "so on. The model evaluation scores are computed for all five and then examined\n",
    "together, or summarized as an average. If we are using accuracy as our evaluation\n",
    "score, ideally we would see that all five accuracy measures are high and reliable; if\n",
    "there is a lot of variation in our accuracy scores, then the model is likely over-relying on\n",
    "characteristics of data in some of the folds.\n",
    "\n",
    "\n",
    "#### Putting The Two Together: OLS and CV\n",
    "\n",
    "The code below is going to produce five scores from the five training–validations splits it\n",
    "produces internally. We’re primarily interested in the stability of the score (how much it\n",
    "fluctuates between the folds).\n",
    "\n",
    "If our model is consistent in its performance but not as accurate as we would like, then\n",
    "we have to improve our analysis. We might improve the quality of the input data or\n",
    "make improvements to the model itself. If we see a lot of variation in the model accuracy\n",
    "on different folds, then we have a different problem and we need to change how we\n",
    "segment our data into folds."
   ]
  },
  {
   "cell_type": "code",
   "execution_count": 74,
   "id": "2a6343ea",
   "metadata": {},
   "outputs": [
    {
     "data": {
      "text/plain": [
       "array([0.75185722, 0.8403189 , 0.6466094 , 0.62606462, 0.72124391])"
      ]
     },
     "execution_count": 74,
     "metadata": {},
     "output_type": "execute_result"
    }
   ],
   "source": [
    "from sklearn.model_selection import cross_val_score\n",
    "\n",
    "cross_val_score(ols, X_train, y_train, cv=5)"
   ]
  },
  {
   "cell_type": "markdown",
   "id": "b43726c9",
   "metadata": {},
   "source": [
    "Three of the scores are excellent, falling somewhere in the high 0.7 to low 0.8 range.\n",
    "The remaining two are far worse. Our model’s performance seems to depend on which\n",
    "data it trains on (and, equivalently, the data upon which it must validate itself).\n",
    "\n",
    "The gap between our high and low cross-validation scores might indicate that our data\n",
    "is ordered or clustered in some way. It could be that our observations appear in\n",
    "alphabetical order by country name, or something similar. In such cases, it can be\n",
    "useful to shuffle the data before we split it to ensure that we are not simply rolling over\n",
    "one group at a time. Doing this is as simple as using Sklearn’s `ShuffleSplit()`,\n",
    "which takes two arguments: **the number** (supplied as an integer) or **percentage**\n",
    "(supplied as a float) of instances to sample for the training and test sets, and the\n",
    "**number of iterations**, or **splits**, to perform. You can then pass the resulting object into\n",
    "`cross_val_score`’s cv argument, and Sklearn smoothly handles the rest:"
   ]
  },
  {
   "cell_type": "code",
   "execution_count": 75,
   "id": "0cb77f6b",
   "metadata": {},
   "outputs": [
    {
     "data": {
      "text/plain": [
       "array([0.903672  , 0.50532688, 0.8067498 , 0.80702567, 0.823972  ])"
      ]
     },
     "execution_count": 75,
     "metadata": {},
     "output_type": "execute_result"
    }
   ],
   "source": [
    "from sklearn.model_selection import ShuffleSplit\n",
    "\n",
    "shuffsplit = ShuffleSplit(n_splits=5, test_size=0.2, random_state=42)\n",
    "\n",
    "olscv_score = cross_val_score(ols, X_train, y_train, cv=shuffsplit)\n",
    "olscv_score"
   ]
  },
  {
   "cell_type": "markdown",
   "id": "ff9f459c",
   "metadata": {},
   "source": [
    "As you can see, by simply randomizing the order in which our observations appear, we were able to smooth out our R^2 scores."
   ]
  },
  {
   "cell_type": "markdown",
   "id": "56d43262",
   "metadata": {},
   "source": [
    "#### Cheating on the Test\n",
    "\n",
    "Now let’s take the mean value across all folds and use that as a point of comparison:"
   ]
  },
  {
   "cell_type": "code",
   "execution_count": 76,
   "id": "f6af36a1",
   "metadata": {},
   "outputs": [
    {
     "data": {
      "text/plain": [
       "0.7693492714651617"
      ]
     },
     "execution_count": 76,
     "metadata": {},
     "output_type": "execute_result"
    }
   ],
   "source": [
    "olscv_score.mean()"
   ]
  },
  {
   "cell_type": "markdown",
   "id": "a22bc56f",
   "metadata": {},
   "source": [
    "The score from our cross-validation (0.78) is a little lower than the one we initially\n",
    "received by training on the entire dataset (0.80), but that’s to be expected. We can\n",
    "think of the cross-validation score as a *validation score* in the sense that it measures\n",
    "our model’s performance on data it wasn’t able to train on (averaged across five\n",
    "different configurations of that set-up). Our original OLS model, by comparison, was\n",
    "able to train on the entire dataset at once; its score represents how well it fit the data it\n",
    "trained on.\n",
    "\n",
    "Now there's only one step left: testing the model on the test data. Normally, assessing your validated model’s performance on test data should only be done **once you are completely finished developing your models**. If you use your test data to help you improve your model, you’re causing *data leakage*, wherein knowledge your model shouldn’t have access to is being used to improve it. Here, we will just complete the further steps for the sake of indicating how it's done:"
   ]
  },
  {
   "cell_type": "code",
   "execution_count": 77,
   "id": "9622766e",
   "metadata": {},
   "outputs": [
    {
     "data": {
      "text/plain": [
       "0.5542495955426976"
      ]
     },
     "execution_count": 77,
     "metadata": {},
     "output_type": "execute_result"
    }
   ],
   "source": [
    "ols.score(X_test, y_test)"
   ]
  },
  {
   "cell_type": "markdown",
   "id": "336474a9",
   "metadata": {},
   "source": [
    "As you can see, while R^2 is relatively good by OLS standards, the score from our fivefold\n",
    "cross-validation model is substantially higher than the test score, which is an indication\n",
    "that our model is overfitting the training data!\n",
    "\n",
    "The remedy to this issue is often to make your model *less powerful* or to use some kind of regularization technique. Remember, though, that under normal circumstances, we wouldn’t be able to see our model’s test score. In an attempt to wean ourselves off of test scores, we’re going to spend the rest of this section creating\n",
    "regularized models without examining the test scores (we’ll save that for the very end)."
   ]
  },
  {
   "cell_type": "markdown",
   "id": "6b75f90a",
   "metadata": {},
   "source": [
    "### Regularization via Ridge Regression\n",
    "\n",
    "We recognize an overfitting problem when the quality of a model drops when making\n",
    "predictions on the test set. To address this, we could provide some additional\n",
    "constraints to prevent our model from learning too much from the training data. One\n",
    "method is ridge regression, which uses L2 regularization to make the coefficients as\n",
    "close to 0 as possible while still making good predictions. In effect, L2 regularization\n",
    "applies a penalty to model parameters that scales with their magnitude. This means that\n",
    "your model is incentivized to keep each parameter value as small as possible. This\n",
    "tension is useful for preventing overfitting.\n",
    "\n",
    "To fit a ridge regression model, we follow the same process as before, only unlike our\n",
    "OLS model, ridge regression accepts one important hyperparameter: **alpha**. The\n",
    "alpha hyperparameter determines the strength of the regularizing penalty the ridge\n",
    "regression applies to each of our parameters; the higher it is, the stronger it is. It\n",
    "defaults to a value of 1, which is generally a good starting point. We’ll start by creating a\n",
    "fresh set of training and test data (with a new random seed):"
   ]
  },
  {
   "cell_type": "code",
   "execution_count": 78,
   "id": "4cb0e4c2",
   "metadata": {},
   "outputs": [
    {
     "name": "stdout",
     "output_type": "stream",
     "text": [
      "[0.76925883 0.6824065  0.55949992 0.8241338  0.68662485 0.70895771\n",
      " 0.75976052 0.81467692 0.45224363 0.70896388 0.8031883  0.79628239\n",
      " 0.80544664 0.59523827 0.75607114]\n",
      "Mean: 0.714850220864512\n"
     ]
    }
   ],
   "source": [
    "from sklearn.linear_model import Ridge\n",
    "\n",
    "X = vdem_fh[['v2x_polyarchy', 'v2x_libdem', 'v2x_partipdem', 'v2x_delibdem', 'v2x_egaldem',]]\n",
    "y = vdem_fh[['Total Score']]\n",
    "\n",
    "X_train, X_test, y_train, y_test = train_test_split(X, y, shuffle=True, random_state=2)\n",
    "shuffsplit = ShuffleSplit(n_splits=15, test_size=0.2, random_state=2)\n",
    "\n",
    "ridgereg = Ridge(1)\n",
    "ridgecv_score = cross_val_score(ridgereg, X_train, y_train, cv=shuffsplit)\n",
    "print(ridgecv_score)\n",
    "print(f\"Mean: {ridgecv_score.mean()}\")"
   ]
  },
  {
   "cell_type": "markdown",
   "id": "12c25e87",
   "metadata": {},
   "source": [
    "We can see that the use of ridge regression has left us very slightly better off than our\n",
    "original OLS regression, but not by much. It might be possible to improve the cross-\n",
    "validation scores by modifying the `alpha` parameter, but let’s try another regularization."
   ]
  },
  {
   "cell_type": "markdown",
   "id": "f569ef0b",
   "metadata": {},
   "source": [
    "### Regularization via Lasso Regression\n",
    "\n",
    "We could use L1 regularization, which penalizes coefficient values that are close to 0\n",
    "much more harshly than the comparatively light treatment that L2 regularization offers.\n",
    "The result is that the model is forced to use only a subset of the available features,\n",
    "which it selects automatically. All other coefficients are set to 0. This approach is called\n",
    "lasso regression. As with ridge, lasso takes an **alpha** parameter that determines\n",
    "how aggressive the regularization is. If we have an underfitting problem, then we want\n",
    "to decrease a to soften the constraints and let the model learn more from the training\n",
    "data. Conversely, if we have an overfitting problem, we want to increase `alpha` to more\n",
    "aggressively push the coefficients towards 0 and learn less from the training data.\n",
    "Creating a lasso regression model is the same process as before:"
   ]
  },
  {
   "cell_type": "code",
   "execution_count": 79,
   "id": "b10f3a82",
   "metadata": {},
   "outputs": [
    {
     "name": "stdout",
     "output_type": "stream",
     "text": [
      "[0.66584977 0.57869829 0.56643005 0.80293505 0.63309778 0.67545323\n",
      " 0.68783192 0.76130175 0.40440872 0.6672346  0.70078081 0.75350907\n",
      " 0.78697977 0.56112952 0.7518551 ]\n",
      "Mean: 0.6664996955827663\n"
     ]
    }
   ],
   "source": [
    "from sklearn.linear_model import Lasso\n",
    "\n",
    "lassoreg = Lasso(1)\n",
    "lassocv_score = cross_val_score(lassoreg, X_train, y_train, cv=shuffsplit)\n",
    "print(lassocv_score)\n",
    "print(f\"Mean: {lassocv_score.mean()}\")"
   ]
  },
  {
   "cell_type": "markdown",
   "id": "0221748b",
   "metadata": {},
   "source": [
    "Our cross-validation R^2 score is a good deal lower than our score from ridge regression.\n",
    "We might be able to squeeze a bit more life out of our regularized models by tweaking\n",
    "the `alpha` hyperparameter. If not specified, `alpha` defaults to 1. As a increases, the\n",
    "model becomes more simple, more constrained, and more regularized. As it decreases,\n",
    "the model becomes more complex, less constrained, less regularized. Let’s compare the results of a series of ridge and lasso regressions on this data using\n",
    "different `alpha` parameters. We will define a set of `alpha` values, estimate a series of\n",
    "ridge and lasso regressions, and then plot their R^2 scores for comparison:"
   ]
  },
  {
   "cell_type": "code",
   "execution_count": 80,
   "id": "a3eed0cd",
   "metadata": {},
   "outputs": [],
   "source": [
    "alphas = np.linspace(0.01, 2, 50)\n",
    "\n",
    "ridge_r2s = []\n",
    "lasso_r2s = []\n",
    "\n",
    "olscv_score = cross_val_score(LinearRegression(), X_train, y_train, cv=shuffsplit)\n",
    "\n",
    "for alpha in alphas:\n",
    "    new_ridge = Ridge(alpha)\n",
    "    ridge_r2s.append(cross_val_score(new_ridge, X_train, y_train, cv=shuffsplit).mean())\n",
    "    \n",
    "    new_lasso = Lasso(alpha)\n",
    "    new_lasso.fit(X_train, y_train)\n",
    "    lasso_r2s.append(cross_val_score(new_lasso, X_train, y_train, cv=shuffsplit).mean())\n",
    "    \n",
    "r2s = pd.DataFrame(\n",
    "    zip(alphas, ridge_r2s, lasso_r2s), \n",
    "    columns = [\"alpha\", \"Ridge Regression\", \"Lasso Regression\"])"
   ]
  },
  {
   "cell_type": "code",
   "execution_count": 81,
   "id": "f4876689",
   "metadata": {
    "scrolled": true
   },
   "outputs": [
    {
     "data": {
      "image/png": "[encoded data removed]",
      "text/plain": [
       "<Figure size 640x480 with 1 Axes>"
      ]
     },
     "metadata": {},
     "output_type": "display_data"
    }
   ],
   "source": [
    "fig, ax = plt.subplots()\n",
    "sns.lineplot(x=\"alpha\", y=\"Ridge Regression\", data = r2s, label=\"Ridge\", linestyle='solid')\n",
    "sns.lineplot(x=\"alpha\", y=\"Lasso Regression\", data = r2s, label = \"Lasso\", linestyle='dashed')\n",
    "ax.axhline(olscv_score.mean(), label=\"OLS\", linestyle='dotted', color=\"darkgray\")\n",
    "ax.set(xlabel='alpha values for Ridge and Lasso Regressions', ylabel='R2')\n",
    "sns.despine()\n",
    "ax.legend()\n",
    "plt.show()"
   ]
  },
  {
   "cell_type": "markdown",
   "id": "7ce85015",
   "metadata": {},
   "source": [
    "As you can see, all three of the model types we’re testing – ridge, lasso, and OLS\n",
    "– converge as `alpha` approaches 0 (we didn’t actually fit any of the models with an\n",
    "`alpha` of zero, since the models only accept non-negative, non-zero values for `alpha`),\n",
    "but rapidly diverge thereafter. As `alpha` increases, lasso regression’s performance\n",
    "increases, falters, and begins a nosedive as `alpha` approaches 0.5. Ridge regression\n",
    "rises and falls like lasso regression, but over a much larger scale of `alpha`.\n",
    "\n",
    "Although the peaks of ridge and lasso are close, it would appear that ridge regression\n",
    "with a haphazardly optimized `alpha` parameter is our best fit for this model. We’ll\n",
    "retrieve that value of `alpha`, fit a new model, and interpret the results:"
   ]
  },
  {
   "cell_type": "code",
   "execution_count": 82,
   "id": "4355dd9d",
   "metadata": {},
   "outputs": [
    {
     "data": {
      "text/plain": [
       "0.2942857142857143"
      ]
     },
     "execution_count": 82,
     "metadata": {},
     "output_type": "execute_result"
    }
   ],
   "source": [
    "best_alpha = alphas[ridge_r2s.index(max(ridge_r2s))]\n",
    "best_alpha"
   ]
  },
  {
   "cell_type": "markdown",
   "id": "e6e5c26b",
   "metadata": {},
   "source": [
    "Let’s use this to fit a ridge regression and get the coefficients:"
   ]
  },
  {
   "cell_type": "code",
   "execution_count": 83,
   "id": "2d368d99",
   "metadata": {},
   "outputs": [
    {
     "data": {
      "text/html": [
       "<div>\n",
       "<style scoped>\n",
       "    .dataframe tbody tr th:only-of-type {\n",
       "        vertical-align: middle;\n",
       "    }\n",
       "\n",
       "    .dataframe tbody tr th {\n",
       "        vertical-align: top;\n",
       "    }\n",
       "\n",
       "    .dataframe thead th {\n",
       "        text-align: right;\n",
       "    }\n",
       "</style>\n",
       "<table border=\"1\" class=\"dataframe\">\n",
       "  <thead>\n",
       "    <tr style=\"text-align: right;\">\n",
       "      <th></th>\n",
       "      <th>0</th>\n",
       "    </tr>\n",
       "  </thead>\n",
       "  <tbody>\n",
       "    <tr>\n",
       "      <th>Intercept</th>\n",
       "      <td>22.769359</td>\n",
       "    </tr>\n",
       "    <tr>\n",
       "      <th>v2x_polyarchy</th>\n",
       "      <td>21.976134</td>\n",
       "    </tr>\n",
       "    <tr>\n",
       "      <th>v2x_libdem</th>\n",
       "      <td>20.601121</td>\n",
       "    </tr>\n",
       "    <tr>\n",
       "      <th>v2x_partipdem</th>\n",
       "      <td>22.536885</td>\n",
       "    </tr>\n",
       "    <tr>\n",
       "      <th>v2x_delibdem</th>\n",
       "      <td>5.303777</td>\n",
       "    </tr>\n",
       "    <tr>\n",
       "      <th>v2x_egaldem</th>\n",
       "      <td>7.585864</td>\n",
       "    </tr>\n",
       "  </tbody>\n",
       "</table>\n",
       "</div>"
      ],
      "text/plain": [
       "                       0\n",
       "Intercept      22.769359\n",
       "v2x_polyarchy  21.976134\n",
       "v2x_libdem     20.601121\n",
       "v2x_partipdem  22.536885\n",
       "v2x_delibdem    5.303777\n",
       "v2x_egaldem     7.585864"
      ]
     },
     "execution_count": 83,
     "metadata": {},
     "output_type": "execute_result"
    }
   ],
   "source": [
    "best_ridgereg = Ridge(best_alpha)\n",
    "best_ridgereg.fit(X_train, y_train)\n",
    "\n",
    "pd.DataFrame(\n",
    "    [\n",
    "        *best_ridgereg.intercept_, \n",
    "        *np.ravel(best_ridgereg.coef_)], \n",
    "    index=['Intercept', *X_test.columns]\n",
    ")"
   ]
  },
  {
   "cell_type": "markdown",
   "id": "193af6a4",
   "metadata": {},
   "source": [
    "Now that we’ve developed a candidate model, validated it, and fit it to the available data,\n",
    "we can assess its performance on the test data:"
   ]
  },
  {
   "cell_type": "code",
   "execution_count": 84,
   "id": "7a644491",
   "metadata": {},
   "outputs": [
    {
     "data": {
      "text/plain": [
       "0.7472740093285359"
      ]
     },
     "execution_count": 84,
     "metadata": {},
     "output_type": "execute_result"
    }
   ],
   "source": [
    "best_ridgereg.score(X_test, y_test)"
   ]
  },
  {
   "cell_type": "markdown",
   "id": "549ff978",
   "metadata": {},
   "source": [
    "It doesn't look bad! Using weak regularization, we’ve created a ridge regression model that\n",
    "outperforms our OLS model on the test data. The gains are modest, but measurable."
   ]
  },
  {
   "cell_type": "markdown",
   "id": "affb30ee",
   "metadata": {},
   "source": [
    "#### Model Interpretation\n",
    "\n",
    "Let’s set aside more rigorous assessment for now and use our model to make\n",
    "predictions on new data, or out-of-sample data. We do this using the `predict()`\n",
    "method of the trained model. Below, we use our model to make predictions on the test\n",
    "data, which we split away from the training data earlier:"
   ]
  },
  {
   "cell_type": "code",
   "execution_count": 85,
   "id": "3168af45",
   "metadata": {},
   "outputs": [],
   "source": [
    "predictions = np.round(best_ridgereg.predict(X_test))"
   ]
  },
  {
   "cell_type": "code",
   "execution_count": 86,
   "id": "9bb09433",
   "metadata": {},
   "outputs": [
    {
     "data": {
      "text/plain": [
       "array([41., 40., 37., 34., 52., 82., 49., 33., 63., 49., 50., 73., 77.,\n",
       "       51., 29., 34., 33.])"
      ]
     },
     "execution_count": 86,
     "metadata": {},
     "output_type": "execute_result"
    }
   ],
   "source": [
    "np.ravel(predictions)"
   ]
  },
  {
   "cell_type": "code",
   "execution_count": 87,
   "id": "787aa9bb",
   "metadata": {
    "scrolled": true
   },
   "outputs": [
    {
     "data": {
      "text/html": [
       "<div>\n",
       "<style scoped>\n",
       "    .dataframe tbody tr th:only-of-type {\n",
       "        vertical-align: middle;\n",
       "    }\n",
       "\n",
       "    .dataframe tbody tr th {\n",
       "        vertical-align: top;\n",
       "    }\n",
       "\n",
       "    .dataframe thead th {\n",
       "        text-align: right;\n",
       "    }\n",
       "</style>\n",
       "<table border=\"1\" class=\"dataframe\">\n",
       "  <thead>\n",
       "    <tr style=\"text-align: right;\">\n",
       "      <th></th>\n",
       "      <th>Total Score</th>\n",
       "      <th>Predicted Score</th>\n",
       "      <th>Country</th>\n",
       "    </tr>\n",
       "  </thead>\n",
       "  <tbody>\n",
       "    <tr>\n",
       "      <th>0</th>\n",
       "      <td>64</td>\n",
       "      <td>41.0</td>\n",
       "      <td>Angola</td>\n",
       "    </tr>\n",
       "    <tr>\n",
       "      <th>28</th>\n",
       "      <td>47</td>\n",
       "      <td>40.0</td>\n",
       "      <td>Jordan</td>\n",
       "    </tr>\n",
       "    <tr>\n",
       "      <th>62</th>\n",
       "      <td>24</td>\n",
       "      <td>37.0</td>\n",
       "      <td>Vietnam</td>\n",
       "    </tr>\n",
       "    <tr>\n",
       "      <th>29</th>\n",
       "      <td>32</td>\n",
       "      <td>34.0</td>\n",
       "      <td>Kazakhstan</td>\n",
       "    </tr>\n",
       "    <tr>\n",
       "      <th>23</th>\n",
       "      <td>55</td>\n",
       "      <td>52.0</td>\n",
       "      <td>India</td>\n",
       "    </tr>\n",
       "    <tr>\n",
       "      <th>10</th>\n",
       "      <td>87</td>\n",
       "      <td>82.0</td>\n",
       "      <td>Canada</td>\n",
       "    </tr>\n",
       "    <tr>\n",
       "      <th>30</th>\n",
       "      <td>68</td>\n",
       "      <td>49.0</td>\n",
       "      <td>Kenya</td>\n",
       "    </tr>\n",
       "    <tr>\n",
       "      <th>51</th>\n",
       "      <td>35</td>\n",
       "      <td>33.0</td>\n",
       "      <td>Thailand</td>\n",
       "    </tr>\n",
       "    <tr>\n",
       "      <th>36</th>\n",
       "      <td>60</td>\n",
       "      <td>63.0</td>\n",
       "      <td>Mexico</td>\n",
       "    </tr>\n",
       "    <tr>\n",
       "      <th>32</th>\n",
       "      <td>52</td>\n",
       "      <td>49.0</td>\n",
       "      <td>Lebanon</td>\n",
       "    </tr>\n",
       "    <tr>\n",
       "      <th>56</th>\n",
       "      <td>56</td>\n",
       "      <td>50.0</td>\n",
       "      <td>Ukraine</td>\n",
       "    </tr>\n",
       "    <tr>\n",
       "      <th>1</th>\n",
       "      <td>72</td>\n",
       "      <td>73.0</td>\n",
       "      <td>Argentina</td>\n",
       "    </tr>\n",
       "    <tr>\n",
       "      <th>27</th>\n",
       "      <td>73</td>\n",
       "      <td>77.0</td>\n",
       "      <td>Japan</td>\n",
       "    </tr>\n",
       "    <tr>\n",
       "      <th>35</th>\n",
       "      <td>57</td>\n",
       "      <td>51.0</td>\n",
       "      <td>Malaysia</td>\n",
       "    </tr>\n",
       "    <tr>\n",
       "      <th>50</th>\n",
       "      <td>17</td>\n",
       "      <td>29.0</td>\n",
       "      <td>Syria</td>\n",
       "    </tr>\n",
       "    <tr>\n",
       "      <th>9</th>\n",
       "      <td>43</td>\n",
       "      <td>34.0</td>\n",
       "      <td>Cambodia</td>\n",
       "    </tr>\n",
       "    <tr>\n",
       "      <th>60</th>\n",
       "      <td>26</td>\n",
       "      <td>33.0</td>\n",
       "      <td>Uzbekistan</td>\n",
       "    </tr>\n",
       "  </tbody>\n",
       "</table>\n",
       "</div>"
      ],
      "text/plain": [
       "    Total Score  Predicted Score     Country\n",
       "0            64             41.0      Angola\n",
       "28           47             40.0      Jordan\n",
       "62           24             37.0     Vietnam\n",
       "29           32             34.0  Kazakhstan\n",
       "23           55             52.0       India\n",
       "10           87             82.0      Canada\n",
       "30           68             49.0       Kenya\n",
       "51           35             33.0    Thailand\n",
       "36           60             63.0      Mexico\n",
       "32           52             49.0     Lebanon\n",
       "56           56             50.0     Ukraine\n",
       "1            72             73.0   Argentina\n",
       "27           73             77.0       Japan\n",
       "35           57             51.0    Malaysia\n",
       "50           17             29.0       Syria\n",
       "9            43             34.0    Cambodia\n",
       "60           26             33.0  Uzbekistan"
      ]
     },
     "execution_count": 87,
     "metadata": {},
     "output_type": "execute_result"
    }
   ],
   "source": [
    "preds = pd.DataFrame({\"Total Score\": y_test['Total Score'], \"Predicted Score\": np.ravel(predictions), \"Country\":  vdem_fh.loc[y_test.index]['Country']})\n",
    "preds"
   ]
  },
  {
   "cell_type": "markdown",
   "id": "23536f54",
   "metadata": {},
   "source": [
    "It looks good! Each of the predictions is off by a modest amount, but there’s only one truly\n",
    "off-base prediction (Angola, with a difference of 23). Many predictions are very close!\n",
    "Like most aspects of machine learning, linear regression isn’t a *one-size-fits-all* solution.\n",
    "It’s a family of models with a variety of tweakable hyperparameters that deserve your\n",
    "attention. If you put in the effort, you’ll likely be rewarded with a model that fits the data\n",
    "well and is highly interpretable. That said, linear regression is not suitable for all tasks;\n",
    "we will now take a look at a model better suited to classification tasks: **logistic regression**."
   ]
  },
  {
   "cell_type": "markdown",
   "id": "db65b5e7",
   "metadata": {},
   "source": [
    "### CLASSIFICATION WITH LOGISTIC REGRESSION\n",
    "\n",
    "When the goal is classification, logistic regression provides better results than the\n",
    "models in the previous section. It’s also highly interpretable and can be used for binary\n",
    "or multi-class classification problems. It’s a very flexible model, in part because it\n",
    "doesn’t assume a linear relationship between the response variable and our explanatory\n",
    "feature matrix. While similar to linear regression in many ways, rather than predict a\n",
    "numerical outcome for a variable, logistic regression describes the probability that an\n",
    "observation would have a particular value in a categorical variable. Logistic regression\n",
    "is typically conducted using two classes, but it can also be extended to multiple classes.\n",
    "\n",
    "Given that logistic regression is designed to answer different kinds of questions than\n",
    "linear regression, we’re going to have to create a new set of training and test data. Let’s\n",
    "say we want to predict whether a given country is governed democratically, as opposed\n",
    "to autocratically. We have a variable from the VDEM dataset that will serve for this\n",
    "purpose: it is a 4-point scale, with\n",
    "\n",
    "- 0 representing closed autocracies,\n",
    "- 1 representing electoral autocracies,\n",
    "- 2 representing electoral democracies, and\n",
    "- 3 representing liberal democracies.\n",
    "\n",
    "We’re going to simplify this down to a 2-point scale, with **0** indicating **autocracies**, and **1**\n",
    "indicating **democracies**. Using this recoding, we can use binary logistic regression to\n",
    "predict the probability that any given country in our dataset belongs to one of the two\n",
    "categories. Our predictions will be based on the five measures of internet freedom\n",
    "drawn from the VDEM dataset, briefly discussed earlier in this notebook. We'll create our new X and y like this:"
   ]
  },
  {
   "cell_type": "code",
   "execution_count": 88,
   "id": "63e7cf70",
   "metadata": {},
   "outputs": [],
   "source": [
    "y = np.where(vdem[\"v2x_regime\"] <= 1, 0, 1).copy()\n",
    "\n",
    "X = vdem[[\n",
    "                 'v2smgovdom_osp', \n",
    "                 \"v2smgovfilprc_osp\", \n",
    "                 \"v2smgovsmcenprc_osp\", \n",
    "                 \"v2smonper_osp\", \n",
    "                 \"v2smarrest_osp\", \n",
    "]]"
   ]
  },
  {
   "cell_type": "markdown",
   "id": "a1470e54",
   "metadata": {},
   "source": [
    "Now we perform a new train–test split and estimate our binary logistic regression:"
   ]
  },
  {
   "cell_type": "code",
   "execution_count": 89,
   "id": "e6d971bc",
   "metadata": {},
   "outputs": [
    {
     "name": "stdout",
     "output_type": "stream",
     "text": [
      "[0.96296296 0.85185185 0.88888889 0.85185185 0.7037037 ]\n",
      "Mean: 0.8518518518518519\n"
     ]
    }
   ],
   "source": [
    "from sklearn.linear_model import LogisticRegression\n",
    "\n",
    "X_train, X_test, y_train, y_test = train_test_split(X, y, random_state=23)\n",
    "shuffsplit = ShuffleSplit(n_splits=5, test_size=0.2, random_state=42)\n",
    "\n",
    "log_reg = cross_val_score(\n",
    "    LogisticRegression(), \n",
    "    X_train, \n",
    "    y_train, \n",
    "    cv=shuffsplit)\n",
    "print(log_reg)\n",
    "print(f\"Mean: {log_reg.mean()}\")"
   ]
  },
  {
   "cell_type": "markdown",
   "id": "96b74690",
   "metadata": {},
   "source": [
    "As before, we could use regularization to deal with underfitting and overfitting problems.\n",
    "In this case, the parameter that controls regularization is called `C`. The logic is similar to\n",
    "when we used `alpha`, but it goes in the opposite direction. Increasing the\n",
    "value of `C` reduces regularization and results in more complex models that can learn\n",
    "more from the training data. Decreasing `C` results in more regularization that constrains\n",
    "how much the model can learn from the training data. So when we set a low value for `C`,\n",
    "the logistic regression model will force the coefficients to be closer to 0, but not exactly 0. The code for accomplishing this is like this:"
   ]
  },
  {
   "cell_type": "code",
   "execution_count": 90,
   "id": "5d1854e7",
   "metadata": {},
   "outputs": [
    {
     "name": "stdout",
     "output_type": "stream",
     "text": [
      "[0.96296296 0.85185185 0.88888889 0.85185185 0.7037037 ]\n",
      "Mean: 0.8518518518518519\n"
     ]
    }
   ],
   "source": [
    "log_reg_regularized = cross_val_score(\n",
    "    LogisticRegression(C=0.5), \n",
    "    X_train, \n",
    "    y_train, \n",
    "    cv=shuffsplit)\n",
    "print(log_reg_regularized)\n",
    "print(f\"Mean: {log_reg_regularized.mean()}\")"
   ]
  },
  {
   "cell_type": "markdown",
   "id": "9225bfa4",
   "metadata": {},
   "source": [
    "In this case, altering our regularization parameter didn’t help at all. Rather than bury this\n",
    "result or massage it to produce a desirable outcome, we’re going to preserve this as a\n",
    "reminder that using reasonable techniques in machine learning can often produce\n",
    "uninteresting, uninformative, or confusing results.\n",
    "Despite the roadblock we encountered here, it should be clear that it is relatively\n",
    "straightforward to use linear and logistic regression models, with and without\n",
    "regularization to prevent overfitting, within a supervised machine learning framework.\n",
    "You might also have noticed that we did not need to write a lot of code to do the actual\n",
    "learning."
   ]
  },
  {
   "cell_type": "markdown",
   "id": "2a4641d0",
   "metadata": {},
   "source": [
    "### CONCLUSION\n",
    "\n",
    "The key points in this section were as follows:\n",
    "\n",
    "- We used Sklearn to set up, build, fit, and interpret supervised machine learning\n",
    "models.\n",
    "\n",
    "- We learnt how to prepare data by splitting our features into two different arrays, one\n",
    "containing the labels we want to predict (quantitative or categorical) and the other\n",
    "containing the values we want to use in our predictions.\n",
    "\n",
    "- We learnt how to use cross-validation to remove the need for a separate validation\n",
    "split and to harness the entire training set when tuning hyperparameters."
   ]
  },
  {
   "cell_type": "code",
   "execution_count": null,
   "id": "2f89ef3a",
   "metadata": {},
   "outputs": [],
   "source": []
  },
  {
   "cell_type": "code",
   "execution_count": null,
   "id": "2cbe6cef",
   "metadata": {},
   "outputs": [],
   "source": []
  },
  {
   "cell_type": "code",
   "execution_count": null,
   "id": "7db84e44",
   "metadata": {},
   "outputs": [],
   "source": []
  },
  {
   "cell_type": "code",
   "execution_count": null,
   "id": "ad5142cf",
   "metadata": {},
   "outputs": [],
   "source": []
  },
  {
   "cell_type": "markdown",
   "id": "21de5e9e",
   "metadata": {},
   "source": [
    "BOXES: REFER TO SUPPORT VECTOR MACHINES AND NAIVE BAYES CLASSIFICATION\n",
    "\n",
    "https://jakevdp.github.io/PythonDataScienceHandbook/05.07-support-vector-machines.html\n",
    "https://jakevdp.github.io/PythonDataScienceHandbook/05.05-naive-bayes.html"
   ]
  },
  {
   "cell_type": "code",
   "execution_count": null,
   "id": "9ecd7989",
   "metadata": {},
   "outputs": [],
   "source": []
  },
  {
   "cell_type": "markdown",
   "id": "f6d1b5bc",
   "metadata": {},
   "source": [
    "## 9.3. Decision trees and random forests\n",
    "\n",
    "https://jakevdp.github.io/PythonDataScienceHandbook/05.08-random-forests.html"
   ]
  },
  {
   "cell_type": "markdown",
   "id": "80913cd8",
   "metadata": {},
   "source": [
    "<div class='alert alert-block alert-success'>\n",
    "<b>TASK</b>\n",
    "\n",
    "Copy the codes from https://github.com/UWNETLAB/dcss_supplementary/blob/main/chapter_notebooks/chapter_21.ipynb here. Note that the data called `forml` there is our data `vdem_fh`.\n",
    "</div>"
   ]
  },
  {
   "cell_type": "markdown",
   "id": "692d690b",
   "metadata": {},
   "source": [
    "In the previous section, we worked with a few simple and relatively familiar supervised learning models. In this section we will continue that with some other types of models: **decision trees**, **ensemble learning**, **random forests**, and **gradient-boosted\n",
    "machines**. We will finish with a description of model evaluation metrics, comparing\n",
    "accuracy, precision, recall, and some ways we can make better use of these metrics."
   ]
  },
  {
   "cell_type": "markdown",
   "id": "1cae4c4f",
   "metadata": {},
   "source": [
    "#### The Train-Test Split and Cross-Validation\n",
    "\n",
    "Same as the previous section, we will use the VDEM data on a country’s political and electoral freedoms to predict internet freedoms drawn from the Freedom House dataset. We will begin with splitting the data into train and test sets:"
   ]
  },
  {
   "cell_type": "code",
   "execution_count": 91,
   "id": "24b749ac",
   "metadata": {
    "scrolled": true
   },
   "outputs": [],
   "source": [
    "from sklearn.model_selection import train_test_split\n",
    "\n",
    "X = vdem_fh[['v2x_polyarchy', 'v2x_libdem', 'v2x_partipdem', 'v2x_delibdem', 'v2x_egaldem',]]\n",
    "y = vdem_fh[['Total Score']]\n",
    "\n",
    "X_train, X_test, y_train, y_test = train_test_split(X, y, random_state=23)"
   ]
  },
  {
   "cell_type": "markdown",
   "id": "938f573e",
   "metadata": {},
   "source": [
    "### RULES-BASED LEARNING WITH TREES\n",
    "#### Decision Trees\n",
    "\n",
    "Decision trees can be used for both classification and regression tasks. Here we will focus on a classification example, but the process is more or less the same for the regression tasks.\n",
    "\n",
    "A decision tree is in fact a directed network that starts with a single node including every instance in the data set. Beginning from that node, it *asks* a series of *questions* in order to find the correct labels in a classification problem, or the correct values in a regression problem. A good decision tree should ask the most informative questions in each step; we will see how it can be done shortly. The questions will always concern the value for\n",
    "some specific feature for each instance, like *Does Canada hold free and fair\n",
    "elections?* or *Is Canada’s score for freedom of the press higher than the median\n",
    "score?*\n",
    "\n",
    "Every time the model asks a question, a node containing some subset of instances in\n",
    "our dataset splits off into two new nodes. Depending on the answer to the question,\n",
    "each observation moves from the parent node into one of the two child nodes. This\n",
    "process continues until \n",
    "- All of the observations contained in a node share the same value for the outcome you want the model to be able to predict, or\n",
    "- Your tree model runs out of room to ask more questions.\n",
    "\n",
    "The path from the root node\n",
    "(every instance in the dataset) to each leaf in the tree constitutes a *rule*. We can collect\n",
    "all of these rules into a single hierarchical rule base that is relatively easy for humans to\n",
    "interpret and understand.\n",
    "\n",
    "Now that we know the basics, it’s time to answer a critical question: *How does the\n",
    "model decide which question to ask next?* How does it know what the *most informative*\n",
    "question is? The most common method is to use the concept of entropy from\n",
    "information theory. In information theory, entropy is a measure of how much information\n",
    "something contains, expressed in terms of uncertainty.\n",
    "\n",
    "To use a simplified example, let’s say we want to figure out which of the nations in the\n",
    "VDEM dataset are democracies. If you think elections are all you need to be considered\n",
    "a democracy, then you could just ask one question for each case – do they hold\n",
    "elections? *However*, not all elections are the same, and democracies are about much\n",
    "more than elections. So you keep asking questions until you are confident you can\n",
    "make a good judgement. The more questions you need to ask to arrive at a confident\n",
    "judgement, the more accurate your classification of the observations into \"democracies\"\n",
    "and \"autocracies\" will be. The more purely separated those two classes become, the\n",
    "lower the \"entropy\" in your model. In the context of a decision tree analysis, the model\n",
    "will *always* ask the question that will result in the biggest decrease in entropy, usually\n",
    "expressed in terms of **information gain**, which quantifies the decrease in entropy that\n",
    "resulted from asking the question.\n",
    "\n",
    "At this point, there shouldn’t be much doubt about how easily the VDEM dataset we’ve\n",
    "been using up until here can be classified; nevertheless, we are going to use it\n",
    "here again. We are not going to do so because it will provide us with a better\n",
    "classification (we already achieved very good scores using a logistic regression) but\n",
    "rather because the resultant decision tree model will allow us to easily see what\n",
    "information the model finds most useful when deciding whether a nation is an autocracy\n",
    "or a democracy.\n",
    "\n",
    "As usual, we will start by splitting our dataset into a matrix `X` and and outcome vector `y`:"
   ]
  },
  {
   "cell_type": "markdown",
   "id": "fe4c9410",
   "metadata": {},
   "source": [
    "<div class='alert alert-block alert-danger'>\n",
    "<b>NOTE:</b>\n",
    "    \n",
    "I used `vdem` instead of `dem_indices` in the follwoing cells. Let me know if it is incorrect, so that I will modify it. \n",
    "</div>"
   ]
  },
  {
   "cell_type": "code",
   "execution_count": 92,
   "id": "2ef67dcd",
   "metadata": {},
   "outputs": [],
   "source": [
    "from sklearn.tree import DecisionTreeClassifier, export_graphviz\n",
    "from graphviz import Source\n",
    "from sklearn.preprocessing import LabelEncoder\n",
    "\n",
    "# dem_indices = pd.read_csv(\"../data/vdem_internet_freedom_combined/dem_indices.csv\")\n",
    "\n",
    "X = vdem[[\n",
    "                 'v2smgovdom_osp', # Government dissemination of false information domestic\n",
    "                 \"v2smgovfilprc_osp\", # Government internet filtering in practice\n",
    "                 \"v2smgovsmcenprc_osp\", # Government social media censorship in practice\n",
    "                 \"v2smonper_osp\", # Diversity of online media perspectives (0 = gov't only, 4 = any perspective)\n",
    "                 \"v2smarrest_osp\", # Arrests for political content disseminated online\n",
    "]]\n",
    "\n",
    "interpretable_names = [\n",
    "    'Domestic Misinformation',\n",
    "    'Internet Filtering',\n",
    "    'Social Media Censorship',\n",
    "    'Online Media Diversity',\n",
    "    'Arrests for Political Content'\n",
    "]\n",
    "\n",
    "regime_types = [\n",
    "    'Autocracy',\n",
    "    'Democracy',\n",
    "]\n",
    "\n",
    "\n",
    "le = LabelEncoder()\n",
    "labels = le.fit_transform(regime_types)\n",
    "\n",
    "y = np.where(vdem[\"v2x_regime\"] <= 1, 0, 1).copy()"
   ]
  },
  {
   "cell_type": "markdown",
   "id": "3f377cde",
   "metadata": {},
   "source": [
    "The technique we’re using to convert the 4-point `v2x_regime` scale into a binary\n",
    "variable is identical to the one we employed in the previous section.\n",
    "With `X` and `y` created, we can create our training and test sets, and then create and fit\n",
    "our decision tree classifier using cross-validation (in much the same way as we did in\n",
    "the previous section; go back to it for more details on cross-validation)."
   ]
  },
  {
   "cell_type": "code",
   "execution_count": 93,
   "id": "3f538219",
   "metadata": {},
   "outputs": [
    {
     "name": "stdout",
     "output_type": "stream",
     "text": [
      "[0.68292683 0.73170732 0.7804878  0.75609756 0.82926829]\n",
      "Mean: 0.7560975609756098\n"
     ]
    }
   ],
   "source": [
    "from sklearn.model_selection import cross_val_score\n",
    "from sklearn.model_selection import ShuffleSplit\n",
    "\n",
    "X_train, X_test, y_train, y_test = train_test_split(X, y, random_state=23)\n",
    "\n",
    "shuffsplit = ShuffleSplit(n_splits=5, test_size=0.3, random_state=42)\n",
    "\n",
    "dtclass = DecisionTreeClassifier(random_state=0)\n",
    "dt_scores = cross_val_score(dtclass, X_train, y_train, cv=shuffsplit)\n",
    "print(dt_scores)\n",
    "print(f\"Mean: {dt_scores.mean()}\")"
   ]
  },
  {
   "cell_type": "markdown",
   "id": "92848aa9",
   "metadata": {},
   "source": [
    "In order to get a sense of what our tree is doing under the hood, the below picture\n",
    "represents our decision tree. You start at the top node, which contains all of the\n",
    "observations (countries in this case). The top line in that node (and every non-leaf node\n",
    "in the remainder of the tree) indicates the rule it will use to split the data. All of the\n",
    "countries for which that statement is true will travel along the **True** path for further\n",
    "subdivision. All of the nations for whom this condition does not apply travel along the\n",
    "**False** path.\n",
    "\n",
    "<img src='images/decisiontree1.jpg' style='height: 700px; float: left'>"
   ]
  },
  {
   "cell_type": "code",
   "execution_count": 94,
   "id": "fb50efde",
   "metadata": {},
   "outputs": [],
   "source": [
    "# vdem.v2x_regime"
   ]
  },
  {
   "cell_type": "markdown",
   "id": "3401d89c",
   "metadata": {},
   "source": [
    "<div class='alert alert-block alert-danger'>\n",
    "<b>TO DOUBLE CHECK:</b>\n",
    "    \n",
    "The output directory! \n",
    "</div>"
   ]
  },
  {
   "cell_type": "code",
   "execution_count": 99,
   "id": "cd375b9c",
   "metadata": {},
   "outputs": [],
   "source": [
    "# To be added: wrapping in graphviz.Source()"
   ]
  },
  {
   "cell_type": "code",
   "execution_count": 98,
   "id": "782cd594",
   "metadata": {},
   "outputs": [],
   "source": [
    "from sklearn import preprocessing\n",
    "\n",
    "dt_fitted = dtclass.fit(X_train, y_train)\n",
    "\n",
    "export_graphviz(\n",
    "    dtclass,\n",
    "    out_file='../graphical_models/classified_1.gv', \n",
    "    filled=False,\n",
    "    rounded=True,\n",
    "    feature_names=interpretable_names,\n",
    "    class_names=le.classes_,\n",
    ")"
   ]
  },
  {
   "cell_type": "markdown",
   "id": "bac99358",
   "metadata": {},
   "source": [
    "#### What About Overfitting?\n",
    "\n",
    "Decision trees are also prone to overfitting. The tree grows bigger with every question, and by the time we’ve reached the leaves, we know\n",
    "everything we need to know to make predictions that are 100% right 100% of the time -*for the data we trained the model on*. This extreme overfitting is sometimes called\n",
    "**memorizing** the training data. We don’t want that!\n",
    "\n",
    "One way to address the overfitting problem with decision trees is to **prune** them.\n",
    "Remember that the model *always* asks the most informative question first. This means\n",
    "that as the trees get deeper and deeper (as we ask more questions), each feature is\n",
    "weaker or less predictive than those that came before it. As we move further and further\n",
    "out, we risk making decisions based on noise and overfitting the model to the data we\n",
    "have. The full tree, then, is typically *worse* than a pruned tree because it includes weak\n",
    "features that could be specific to our dataset and which do not generalize.\n",
    "\n",
    "We constrain the depth of the tree by restricting the number of questions or decisions\n",
    "that the model is allowed to ask, and in doing so, we improve the ability of our model to\n",
    "generalize to data it hasn’t seen before. If we set the maximum depth of our tree to 6,\n",
    "for example, the models can only ask the six most informative questions, at which point\n",
    "it must make its prediction. Obviously, this reduces the accuracy on the training data,\n",
    "but not as much as you might think. It’s the unseen data we care most about, and the\n",
    "pruned model will make much better predictions when it is not overfitted.\n",
    "\n",
    "In Sklearn, we specify the maximum depth of the tree in advance. This can be done using the `max_depth` argument for the `DecisionTreeClassifier()`. Let’s set it to 3. This will produce a very shallow tree, but that’s desirable; we want it to have to make the best decisions it can in broad strokes. This way, the model will be less likely to overfit the training data."
   ]
  },
  {
   "cell_type": "code",
   "execution_count": null,
   "id": "9c4b3efd",
   "metadata": {
    "scrolled": true
   },
   "outputs": [],
   "source": [
    "dtclass_pruned = DecisionTreeClassifier(max_depth=3, random_state=0)\n",
    "dt_scores = cross_val_score(dtclass_pruned, X_train, y_train, cv=shuffsplit)\n",
    "print(dt_scores)\n",
    "print(f\"Mean: {dt_scores.mean()}\")"
   ]
  },
  {
   "cell_type": "markdown",
   "id": "0753d4a0",
   "metadata": {},
   "source": [
    "<div class='alert alert-block alert-danger'>\n",
    "<b>TO DOUBLE CHECK:</b>\n",
    "    \n",
    "The output directory! \n",
    "</div>"
   ]
  },
  {
   "cell_type": "code",
   "execution_count": null,
   "id": "68a6afc7",
   "metadata": {},
   "outputs": [],
   "source": [
    "dtclass_pruned.fit(X_train, y_train)\n",
    "\n",
    "export_graphviz(\n",
    "    dtclass_pruned,\n",
    "    out_file='../graphical_models/pruned.gv',\n",
    "    filled=False,\n",
    "    rounded=True,\n",
    "    feature_names=interpretable_names,\n",
    "    class_names=le.classes_,\n",
    ")"
   ]
  },
  {
   "cell_type": "code",
   "execution_count": null,
   "id": "1f76f78c",
   "metadata": {},
   "outputs": [],
   "source": [
    "dtclass_pruned.score(X_test, y_test)"
   ]
  },
  {
   "cell_type": "markdown",
   "id": "354afc04",
   "metadata": {},
   "source": [
    "We’ve already seen a modest improvement, which probably represents a\n",
    "slight reduction in overfitting (something that cross-validation automatically assesses).\n",
    "Let’s examine the tree again:\n"
   ]
  },
  {
   "cell_type": "markdown",
   "id": "ecb2b3f5",
   "metadata": {},
   "source": [
    "<img src='images/decisiontree2.jpg' style='height: 400px; float: left'>"
   ]
  },
  {
   "cell_type": "markdown",
   "id": "14c3d725",
   "metadata": {},
   "source": [
    "You can see the influence of setting the `max_depth` parameter to 3 in the tree: rather\n",
    "than a sprawling monstrosity, we now have a tree that neatly terminates each branch at\n",
    "the same level. Decision trees have other parameters you can tweak, such as `min_samples_leaf`; it’s worth looking at the documentation to see the options available to you! Using only `max_depth`, we managed to get a good result, but we’re unlikely to be able to do much better using regularization alone. As we saw with ridge\n",
    "and lasso regression, regularization usually reaches a \"sweet spot\" at some modest\n",
    "value, but as the strength of the regularization increases, the model’s performance\n",
    "nosedives. Decision trees have, by their nature, low granularity. You can’t perform fine-grained regularization on a single decision tree the same way you could for an `alpha`\n",
    "parameter on a ridge or lasso regression (what would a `max_depth` of 3.5 even look\n",
    "like?). It’s likely that no regularization of a single-tree model will eliminate overfitting\n",
    "entirely. Instead, we’ll have to turn to a method which will allow us to combine many,\n",
    "many trees."
   ]
  },
  {
   "cell_type": "markdown",
   "id": "2f99f372",
   "metadata": {},
   "source": [
    "### ENSEMBLE LEARNING\n",
    "\n",
    "In order to tackle the overfitting problem, an effective way is to use an ensemble approach, which combines predictions from multiple models into a single prediction that\n",
    "is better than that of any individual model. As you will soon learn, this approach tends to\n",
    "produce excellent results and does not require any pruning. Ensembles of decision\n",
    "trees produce better results than any one decision tree, including any of the individual\n",
    "decision trees in the ensemble.\n",
    "\n",
    "To work with an ensemble of decision trees, we first draw many bootstrapped samples\n",
    "of instances from our overall dataset. In a bootstrapped sample, replacement is allowed,\n",
    "which means that the same instance can be sampled more than once. For each sample,\n",
    "we fit a decision tree and record the model’s predictions. The final predictions are made\n",
    "by an *election* of sorts, where each tree *votes* on the class they think each\n",
    "observation belongs to. If we take 200 samples, we would fit 200 decision trees. These\n",
    "modes are used collectively -as an ensemble- to make predictions on new instances\n",
    "by taking averages of the predictions made by the models that make up the ensemble.\n",
    "This process is called **bagging** or **bootstrapped aggregation**, and it can be applied not\n",
    "only to decision trees but also to a wide variety of the classification models implemented\n",
    "in scikit-learn. For now, we will stick to applying it to decision trees.\n",
    "\n",
    "Bagging or bootstrapped aggregation goes a very long way in addressing the overfitting\n",
    "problem. One major advantage is that we don’t have to prune our decision trees. In fact,\n",
    "it’s better if we don’t! If we let each tree grow to be as deep and complex as it likes, we\n",
    "will end up with an ensemble that has high variance but low bias. That’s exactly what we\n",
    "want when we go to make our final aggregated predictions. The important choice you\n",
    "must make is how many bags to use, or rather, how many bootstrapped samples of\n",
    "instances to draw, and the number of total trees we want to end up with. Let’s see what\n",
    "the combination of 100 trees can bring us:"
   ]
  },
  {
   "cell_type": "code",
   "execution_count": null,
   "id": "80d5b6c9",
   "metadata": {},
   "outputs": [],
   "source": [
    "from sklearn.ensemble import BaggingClassifier\n",
    "\n",
    "bag_of_trees = BaggingClassifier(DecisionTreeClassifier(),\n",
    "                                n_estimators=100,\n",
    "                                bootstrap=True,\n",
    "                                random_state=0)\n",
    "\n",
    "bt_scores = cross_val_score(bag_of_trees, X_train, y_train, cv=shuffsplit)\n",
    "print(bt_scores)\n",
    "print(f\"Mean: {bt_scores.mean()}\")"
   ]
  },
  {
   "cell_type": "markdown",
   "id": "26424b64",
   "metadata": {},
   "source": [
    "The unregularized bagging classifier has produced an even better score than the\n",
    "regularized decision tree did! There may yet be more room for improvement if we alter\n",
    "how each of the trees functions using a random forest model."
   ]
  },
  {
   "cell_type": "markdown",
   "id": "ba59ca54",
   "metadata": {},
   "source": [
    "#### Random Forests\n",
    "\n",
    "One issue with the bagging approach is that the resulting trees tend to be correlated\n",
    "with one another, mainly due to the fact that they are all trying to maximize the same\n",
    "thing when they ask questions – information gain. If there are some very powerful\n",
    "attributes in our dataset, as there almost always are, the tree we fit for each bag will\n",
    "lean heavily on those features, which makes the whole ensemble approach a lot less\n",
    "useful and degrades the quality of the final prediction. It would be much better for us if\n",
    "the trees are not correlated, or are at best weakly correlated.\n",
    "\n",
    "Random forests accomplish this with one simple, but highly effective, modification: *they\n",
    "constrain the features that any given node is allowed to ask questions about*. The result\n",
    "is a collection of decision trees that are uncorrelated, or weakly correlated, with one\n",
    "another, which leads to more accurate predictions when they are aggregated.\n",
    "\n",
    "Random forests are straightforward to train, and because of their clever design, they do\n",
    "a good job of dealing with noise and preventing overfitting, so it is not necessary to trim\n",
    "or prune the trees. They also take only two hyperparameters: **the number of trees in the\n",
    "forest** (i.e. the number of samples of instances to draw) and **the size of the random\n",
    "sample** to draw when sampling the features that any given decision tree will select from.\n",
    "You can and should experiment with cross-validation to select values for these\n",
    "hyperparameters that result in the most accurate predictions (we’re not doing so here\n",
    "because space is limited)."
   ]
  },
  {
   "cell_type": "code",
   "execution_count": null,
   "id": "80518945",
   "metadata": {
    "scrolled": true
   },
   "outputs": [],
   "source": [
    "from sklearn.ensemble import RandomForestClassifier\n",
    "\n",
    "rforest = RandomForestClassifier(n_estimators=100,\n",
    "                                max_features=2,\n",
    "                                random_state=0)\n",
    "\n",
    "rforest_scores = cross_val_score(rforest, X_train, y_train, cv=shuffsplit)\n",
    "print(rforest_scores)\n",
    "print(f\"Mean: {rforest_scores.mean()}\")"
   ]
  },
  {
   "cell_type": "markdown",
   "id": "67036d04",
   "metadata": {},
   "source": [
    "It would appear that our random forest model, with modest parameters, is producing the\n",
    "*exact same result* as we got with our bagging classifier.\n",
    "\n",
    "The downside of random forests is that – unlike garden-variety decision trees – the\n",
    "results are not so easy to interpret. For this reason, random forests and other ensemble\n",
    "models are generally considered to be less *interpretable* than simple decision trees,\n",
    "linear and logistic regressions, or k-nearest neighbours. While you can inspect any of\n",
    "the trees in your random forest classifier, this process is complicated somewhat by the\n",
    "fact that our model contains 100 distinct trees, and we can’t easily determine how\n",
    "significant any one tree was to the overall decision-making process. Nevertheless, it’s a\n",
    "good idea to select a a tree at random and take a look at what it did with the data. Of\n",
    "course, you can do this many different times, if you like. Just select different trees each\n",
    "time. One such tree is shown the following picture:"
   ]
  },
  {
   "cell_type": "markdown",
   "id": "d89830ff",
   "metadata": {},
   "source": [
    "<div class='alert alert-block alert-danger'>\n",
    "<b>TO DOUBLE CHECK:</b>\n",
    "    \n",
    "The output directory! \n",
    "</div>"
   ]
  },
  {
   "cell_type": "code",
   "execution_count": null,
   "id": "580c20c2",
   "metadata": {},
   "outputs": [],
   "source": [
    "rforest.fit(X_train, y_train)\n",
    "\n",
    "export_graphviz(\n",
    "    rforest.estimators_[6],\n",
    "    out_file='../graphical_models/rf_classified.gv',\n",
    "    filled=False,\n",
    "    rounded=True,\n",
    "    feature_names=interpretable_names,\n",
    "    class_names=le.classes_,\n",
    ")"
   ]
  },
  {
   "cell_type": "markdown",
   "id": "628fc727",
   "metadata": {},
   "source": [
    "<img src='images/decisiontree3.jpg' style='height: 600px; float: left'>"
   ]
  },
  {
   "cell_type": "markdown",
   "id": "aae2a5a8",
   "metadata": {},
   "source": [
    "### Gradient Boosted Machines\n",
    "\n",
    "While random forests remain one of the best and most widely used approaches to\n",
    "supervised machine learning, a slightly newer approach to ensembling decision trees\n",
    "has recently started outperforming random forests and is widely considered to be one of\n",
    "the best algorithms for doing machine learning on anything other than image or\n",
    "perception data (Chollet, 2018). This technique is called **gradient boosting**, and it\n",
    "differs from the random forest approach in that rather than allowing all of the decision\n",
    "trees to randomly pursue the best answer possible in isolation (as random forest does),\n",
    "it attempts to fit trees that better account for the misclassified observations from\n",
    "previous trees. In this way, each tree tackles the *room for improvement* left behind by\n",
    "the tree that immediately preceded it. The effect here is that the gradient-boosted trees\n",
    "can reach a remarkably high degree of accuracy using only a small handful of\n",
    "estimators (but are accordingly prone to overfitting). Let’s try creating one now:"
   ]
  },
  {
   "cell_type": "code",
   "execution_count": null,
   "id": "9903df9f",
   "metadata": {},
   "outputs": [],
   "source": [
    "from sklearn.ensemble import GradientBoostingClassifier\n",
    "\n",
    "gboost = GradientBoostingClassifier(n_estimators=100,\n",
    "                                random_state=0)\n",
    "\n",
    "gboost_scores = cross_val_score(gboost, X_train, y_train, cv=shuffsplit)\n",
    "print(gboost_scores)\n",
    "print(f\"Mean: {gboost_scores.mean()}\")"
   ]
  },
  {
   "cell_type": "markdown",
   "id": "3c0ceec7",
   "metadata": {},
   "source": [
    "The gradient-boosted trees achieved worse performance than our previous two models.\n",
    "Usually, we would expect a gradient-boosted trees model to outperform all of our other\n",
    "decision tree models (ensemble or otherwise), but that shouldn’t be interpreted as a\n",
    "good reason to skip straight to gradient boost without bothering to specify and fit any\n",
    "other models. What we’ve seen here is evidence to that point; there is value in fitting\n",
    "*intermediate* models to see how their performance and idiosyncrasies compare to the\n",
    "cutting-edge techniques. There are a few reasons why this is a vital practice.\n",
    "\n",
    "- *Advanced, complicated methods are not intrinsically better than simple methods*: not\n",
    "only is this true in our example – given that one of the most demonstrably powerful and\n",
    "widely applicable algorithms, gradient boosting, failed to outperform random forests –\n",
    "but it is often true in general. Cutting-edge methods are indispensable for their ability to\n",
    "tackle cutting-edge issues, but they’re often overkill for the kinds of problems they get\n",
    "applied to.\n",
    "\n",
    "- *Don’t sacrifice interpretability without good cause*: explicable, interpretable, transparent\n",
    "models that slightly underperform are often more valuable than top-performing ‘black\n",
    "box’ models that appear to be more accurate, but for reasons that are hard to establish.\n",
    "Gradient-boosted models are more difficult to interpret than decision tree models, so the\n",
    "advantages of the former over the latter should be considered in light of the\n",
    "interpretability trade-off.\n",
    "\n",
    "- *Any problem in machine learning should be tackled using multiple approaches*: even if\n",
    "you feel like you can’t improve on your model, there may be undiscovered issues lurking\n",
    "beneath the surface. Applying a multitude of modelling strategies to a problem – even in\n",
    "cases where your first model is performing well – may help confirm the defensibility of\n",
    "your primary approach, give you more inferential insight, or uncover contingencies that\n",
    "need to be addressed.\n",
    "\n",
    "One problem common to all tree-based models (ensemble or otherwise) is that they\n",
    "require an abundance of data and are especially prone to overfitting in cases where\n",
    "such data is not forthcoming. There are different ways to make up for a lack of\n",
    "data.\n",
    "\n",
    "Before we move on, let’s take a moment to compare how each of our tree-based\n",
    "models perform on the test set which we split off from the training data right at the\n",
    "beginning of this section and haven’t touched since:"
   ]
  },
  {
   "cell_type": "code",
   "execution_count": null,
   "id": "5b29e422",
   "metadata": {},
   "outputs": [],
   "source": [
    "model_list = [dtclass,\n",
    "dtclass_pruned,\n",
    "bag_of_trees.fit(X_train, y_train),\n",
    "rforest,\n",
    "gboost.fit(X_train, y_train)]\n",
    "\n",
    "for model in model_list:\n",
    "    print(model.score(X_test, y_test))"
   ]
  },
  {
   "cell_type": "markdown",
   "id": "de338429",
   "metadata": {},
   "source": [
    "Looks like the training results match up nicely with the test results."
   ]
  },
  {
   "cell_type": "markdown",
   "id": "38839016",
   "metadata": {},
   "source": [
    "### Evaluation Beyond Accuracy\n",
    "### Balancing False Positives and False Negatives in Classification Models\n",
    "### Improving Binary Classification with Curves\n",
    "#### Precision-Recall Curves\n",
    "#### Beyond Binary Classifiers\n",
    "### CONCLUSION\n",
    "#### Key Points"
   ]
  },
  {
   "cell_type": "code",
   "execution_count": null,
   "id": "8629e83d",
   "metadata": {},
   "outputs": [],
   "source": []
  },
  {
   "cell_type": "code",
   "execution_count": null,
   "id": "a5bfddd8",
   "metadata": {},
   "outputs": [],
   "source": []
  },
  {
   "cell_type": "code",
   "execution_count": null,
   "id": "7156deb3",
   "metadata": {},
   "outputs": [],
   "source": []
  },
  {
   "cell_type": "code",
   "execution_count": null,
   "id": "0eb0a698",
   "metadata": {},
   "outputs": [],
   "source": []
  },
  {
   "cell_type": "markdown",
   "id": "801a732f",
   "metadata": {},
   "source": [
    "## 9.4. Towards deep learning\n",
    "\n",
    "Check https://doi.org/10.1073/pnas.1218772110\n",
    "\n",
    "- Convey an understanding of neural networks and deep learning\n",
    "- Start by extendin features by hashtag/named entity/mention representations\n",
    "- Use neural network off the sklearn shelf"
   ]
  },
  {
   "cell_type": "markdown",
   "id": "a6161f56",
   "metadata": {},
   "source": [
    "<div class='alert alert-block alert-success'>\n",
    "<b>TASK</b>\n",
    "\n",
    "Implement a neural network regression (https://scikit-learn.org/stable/modules/neural_networks_supervised.html#regression) for the same data used above. Take notes on potential overfitting.\n",
    "</div>"
   ]
  },
  {
   "cell_type": "markdown",
   "id": "3a43fc20",
   "metadata": {},
   "source": [
    "### Multi-layer Perceptron (MLP)"
   ]
  },
  {
   "cell_type": "code",
   "execution_count": 10,
   "id": "5cf33e54",
   "metadata": {},
   "outputs": [],
   "source": [
    "from sklearn.model_selection import train_test_split\n",
    "from sklearn.neural_network import MLPRegressor\n",
    "from sklearn.model_selection import cross_val_score\n",
    "\n",
    "X = vdem_fh[['v2x_polyarchy', 'v2x_libdem', 'v2x_partipdem', 'v2x_delibdem', 'v2x_egaldem',]]\n",
    "y = vdem_fh[['Total Score']]\n",
    "\n",
    "X_train, X_test, y_train, y_test = train_test_split(X, y, shuffle=True, random_state=2023)"
   ]
  },
  {
   "cell_type": "code",
   "execution_count": 11,
   "id": "981dd9a9",
   "metadata": {
    "scrolled": true
   },
   "outputs": [
    {
     "name": "stderr",
     "output_type": "stream",
     "text": [
      "/home/sed_zeppelin/anaconda3/lib/python3.8/site-packages/sklearn/neural_network/_multilayer_perceptron.py:1593: DataConversionWarning: A column-vector y was passed when a 1d array was expected. Please change the shape of y to (n_samples, ), for example using ravel().\n",
      "  y = column_or_1d(y, warn=True)\n",
      "/home/sed_zeppelin/anaconda3/lib/python3.8/site-packages/sklearn/neural_network/_multilayer_perceptron.py:679: ConvergenceWarning: Stochastic Optimizer: Maximum iterations (500) reached and the optimization hasn't converged yet.\n",
      "  warnings.warn(\n"
     ]
    }
   ],
   "source": [
    "regressor = MLPRegressor(random_state=1,hidden_layer_sizes=(2,) , max_iter=500).fit(X_train, y_train)"
   ]
  },
  {
   "cell_type": "code",
   "execution_count": 13,
   "id": "3095b83f",
   "metadata": {
    "scrolled": true
   },
   "outputs": [
    {
     "name": "stderr",
     "output_type": "stream",
     "text": [
      "/home/sed_zeppelin/anaconda3/lib/python3.8/site-packages/sklearn/neural_network/_multilayer_perceptron.py:1593: DataConversionWarning: A column-vector y was passed when a 1d array was expected. Please change the shape of y to (n_samples, ), for example using ravel().\n",
      "  y = column_or_1d(y, warn=True)\n",
      "/home/sed_zeppelin/anaconda3/lib/python3.8/site-packages/sklearn/neural_network/_multilayer_perceptron.py:679: ConvergenceWarning: Stochastic Optimizer: Maximum iterations (500) reached and the optimization hasn't converged yet.\n",
      "  warnings.warn(\n",
      "/home/sed_zeppelin/anaconda3/lib/python3.8/site-packages/sklearn/neural_network/_multilayer_perceptron.py:1593: DataConversionWarning: A column-vector y was passed when a 1d array was expected. Please change the shape of y to (n_samples, ), for example using ravel().\n",
      "  y = column_or_1d(y, warn=True)\n",
      "/home/sed_zeppelin/anaconda3/lib/python3.8/site-packages/sklearn/neural_network/_multilayer_perceptron.py:679: ConvergenceWarning: Stochastic Optimizer: Maximum iterations (500) reached and the optimization hasn't converged yet.\n",
      "  warnings.warn(\n",
      "/home/sed_zeppelin/anaconda3/lib/python3.8/site-packages/sklearn/neural_network/_multilayer_perceptron.py:1593: DataConversionWarning: A column-vector y was passed when a 1d array was expected. Please change the shape of y to (n_samples, ), for example using ravel().\n",
      "  y = column_or_1d(y, warn=True)\n",
      "/home/sed_zeppelin/anaconda3/lib/python3.8/site-packages/sklearn/neural_network/_multilayer_perceptron.py:679: ConvergenceWarning: Stochastic Optimizer: Maximum iterations (500) reached and the optimization hasn't converged yet.\n",
      "  warnings.warn(\n",
      "/home/sed_zeppelin/anaconda3/lib/python3.8/site-packages/sklearn/neural_network/_multilayer_perceptron.py:1593: DataConversionWarning: A column-vector y was passed when a 1d array was expected. Please change the shape of y to (n_samples, ), for example using ravel().\n",
      "  y = column_or_1d(y, warn=True)\n",
      "/home/sed_zeppelin/anaconda3/lib/python3.8/site-packages/sklearn/neural_network/_multilayer_perceptron.py:679: ConvergenceWarning: Stochastic Optimizer: Maximum iterations (500) reached and the optimization hasn't converged yet.\n",
      "  warnings.warn(\n",
      "/home/sed_zeppelin/anaconda3/lib/python3.8/site-packages/sklearn/neural_network/_multilayer_perceptron.py:1593: DataConversionWarning: A column-vector y was passed when a 1d array was expected. Please change the shape of y to (n_samples, ), for example using ravel().\n",
      "  y = column_or_1d(y, warn=True)\n",
      "/home/sed_zeppelin/anaconda3/lib/python3.8/site-packages/sklearn/neural_network/_multilayer_perceptron.py:679: ConvergenceWarning: Stochastic Optimizer: Maximum iterations (500) reached and the optimization hasn't converged yet.\n",
      "  warnings.warn(\n"
     ]
    }
   ],
   "source": [
    "cv_scores = cross_val_score(regressor, X_train, y_train, cv = 5)"
   ]
  },
  {
   "cell_type": "code",
   "execution_count": 15,
   "id": "c4c1784b",
   "metadata": {},
   "outputs": [
    {
     "name": "stdout",
     "output_type": "stream",
     "text": [
      "Cross-validation scores: [-6.98666986 -6.99124744 -5.98488825 -7.60877268 -5.85182062]\n",
      "Average cross-validation score: -6.68\n",
      "Standard deviation of cross-validation scores: 0.67\n"
     ]
    }
   ],
   "source": [
    "print(\"Cross-validation scores: {}\".format(cv_scores))\n",
    "print(\"Average cross-validation score: {:.2f}\".format(cv_scores.mean()))\n",
    "print(\"Standard deviation of cross-validation scores: {:.2f}\".format(cv_scores.std()))"
   ]
  },
  {
   "cell_type": "code",
   "execution_count": null,
   "id": "9609d680",
   "metadata": {},
   "outputs": [],
   "source": []
  },
  {
   "cell_type": "code",
   "execution_count": null,
   "id": "9c25b0df",
   "metadata": {},
   "outputs": [],
   "source": []
  },
  {
   "cell_type": "code",
   "execution_count": null,
   "id": "93febb88",
   "metadata": {},
   "outputs": [],
   "source": []
  },
  {
   "cell_type": "code",
   "execution_count": null,
   "id": "12fddcd2",
   "metadata": {},
   "outputs": [],
   "source": []
  },
  {
   "cell_type": "markdown",
   "id": "76d0b4a3",
   "metadata": {},
   "source": [
    "## 9.5. Model selection\n",
    "\n",
    "- By interpretability\n",
    "- By predictive accuracy"
   ]
  },
  {
   "cell_type": "code",
   "execution_count": null,
   "id": "b5842683",
   "metadata": {},
   "outputs": [],
   "source": []
  },
  {
   "cell_type": "markdown",
   "id": "2639439f",
   "metadata": {},
   "source": [
    "#### Notes to be removed before publication\n",
    "\n",
    "- add cvxopt=1.2.6 to environment.yml -- NOT NECSSARY ANYMORE CAUSE WE DON'T USE method=sqrt_lasso IN statsmodels RIDGE REGRESSION ANYMORE\n",
    "- https://scikit-learn.org/stable/auto_examples/inspection/plot_linear_model_coefficient_interpretation.html#sphx-glr-auto-examples-inspection-plot-linear-model-coefficient-interpretation-py\n",
    "- ..."
   ]
  },
  {
   "cell_type": "code",
   "execution_count": null,
   "id": "0c10e78e",
   "metadata": {},
   "outputs": [],
   "source": []
  }
 ],
 "metadata": {
  "kernelspec": {
   "display_name": "Python 3 (ipykernel)",
   "language": "python",
   "name": "python3"
  },
  "language_info": {
   "codemirror_mode": {
    "name": "ipython",
    "version": 3
   },
   "file_extension": ".py",
   "mimetype": "text/x-python",
   "name": "python",
   "nbconvert_exporter": "python",
   "pygments_lexer": "ipython3",
   "version": "3.8.5"
  }
 },
 "nbformat": 4,
 "nbformat_minor": 5
}
