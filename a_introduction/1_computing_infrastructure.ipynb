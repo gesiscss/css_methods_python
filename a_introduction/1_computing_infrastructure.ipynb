{
 "cells": [
  {
   "cell_type": "markdown",
   "id": "e607ca26",
   "metadata": {},
   "source": [
    "<img src='images/header.png' style='height: 50px; float: left'>"
   ]
  },
  {
   "cell_type": "markdown",
   "id": "b70bc56f",
   "metadata": {},
   "source": [
    "## Introduction to Computational Social Science methods with Python"
   ]
  },
  {
   "cell_type": "markdown",
   "id": "71218328",
   "metadata": {},
   "source": [
    "# Session A1: Computing infrastructure\n",
    "\n",
    "In Computational Social Science (CSS), computational methods are applied all along the data life cycle of data collection, data preprocessing, and data analysis. Computational methods are implemented in **programming languages** which enable you to do things that would be either too slow, complicated, or error-prone to do by hand. Many computational methods are already implemented in programming languages, and if the method you desire is not yet implemented, programming languages enable you to implement the method yourself. In principle, it is possible to use multiple languages in a research project, and there is nothing wrong with that in practice. It even forces you to be clear and organized in the steps you do and the files you save to exchange data between languages. Nevertheless, switching between languages is more time-consuming and puts you at risk of losing flexibility instead of gaining it. If it is possible to implement all steps in one language, you may want to do so (<a href='#heiberger_installing_2016'>Heiberger & Riebling, 2016</a>).\n",
    "\n",
    "<img src='images/python.png' style='height: 100px; float: right; margin-left: 10px'>\n",
    "\n",
    "The question is **which language** to use for doing CSS? Basically, the main choice is between [Python](https://en.wikipedia.org/wiki/Python_(programming_language)) and [R](https://en.wikipedia.org/wiki/R_(programming_language)) because those are the two languages in which most of the methods used in CSS are implemented. As a result and a cause, these languages have the largest user communities to which you can go for help. After all, computing is a collective endeavor because, even if you do not code in a group, someone out there will likely have already solved your particular coding problem. Whether Python or R is the better choice depends on you and your research. Lucy Golding from SAGE Campus nicely sums up the [arguments](https://campus.sagepub.com/blog/where-should-i-start-r-or-python):\n",
    "\n",
    "> [L]earning either R or Python will allow you lots of room to grow as a data analyst. They are similar enough that you can transfer much of what you learn for one language to the other.  Both programming languages are free and and open source and developed in the early 90s - R for statistical analysis, and Python as a general-purpose programming language. One could argue that Python has better libraries for data collection and a wider range of data structures, while R has better statistical and graphics libraries, but the best language for you will often depend on what your community uses.\n",
    "\n",
    "<img src='images/r.png' style='height: 80px; float: right; margin-left: 10px'>\n",
    "\n",
    "**R** has been more of an academic programming language from the start. It offers far more packages for statistical analysis than Python and is very quite for network analysis. As a general-purpose language, **Python** has a more interdisciplinary user base which is also reflected in the methods you will find implemented. Computer scientists choose Python, hence, it is the better choice for machine learning. It is also well-prepared for network analysis. In this course, we use Python because we have a much stronger focus on machine learning than on statistics. Python, like R, is modular, which means, it consists of **packages** (also called libraries), each of which is dedicated to perform a certain type of tasks. There are packages for data management, network analysis, machine learning, and so on.\n",
    "\n",
    "Besides enabling computational research in the first place, the use a programming language makes research reproducible. **Reproducibility** means that a piece of research represented by the combination of data and methods can be executed repeatedly by the producer of that research or by other researchers with identical results. Full reproducibility makes it necessary to document all data, code, and the package versions that were used in the code (<a href='#schoch_computational_2023'>Schoch *et al.*, 2023</a>). One reason why reproducibility is necessary is that workflows in CSS are often quite complicated. Documentation helps researchers keep an overview of all research steps and, ultimately, ensure research quality. Another reason is that documentation easily allows researchers to collaborate or build upon existing data, methods, or both, all of which is in the general knowledge-production interest of science.\n",
    "\n",
    "<img src='images/anaconda.png' style='width: 300px; float: right; margin-left: 10px'>\n",
    "\n",
    "To work as a computational social scientists, we need a **computing infrastructure** that enables us to code, collaborate, and make our work reproducible (<a href='#mclevey_doing_2022'>McLevey, 2022</a>, ch. 1). A popular software package that does just that is the [Anaconda distribution](https://www.anaconda.com/products/distribution) for Python and R. Its basic functionality is package management: it provides a number of widely-used Python packages that are well tuned to work together, and it offers a controlled way to add further supported packages without the need of deeper programming knowledge.\n",
    "\n",
    "The Anaconda distribution provides the **Anaconda Navigator**, a desktop graphical user interface from which you can manage packages and launch coding tools. One such tool is the [Jupyter Notebook](https://jupyter.org/), such as the one you are currently reading. This is an interactive computing product to develop and document computer code. It is a central component of the computing infrastructure to ensure reproducibility. Jupyter Notebooks contain content cells that can be either code or markdown. The latter are text cells typically used between code cells to explain and document the code. This feature makes Jupyter Notebooks great for teaching and self-teaching and, hence, we use them in this course. The Anaconda Navigator also provides [RStudio](https://posit.co/products/open-source/rstudio/), the integrated development environment for R (and Python).\n",
    "\n",
    "<img src='images/git.png' style='height: 50px; float: right; margin-left: 10px'>\n",
    "\n",
    "Another component of the computing infrastructure helps you coordinate your programming work. [Git](https://git-scm.com/) is a distributed version control system. If you have a collection of Jupyter Notebooks (or other forms of computer code) that belong together and reside in a directory on your local computer, then you can store all content of this directory (including data, images, or documents) in a **repository** on a Git internet server. Version control means that past versions of your materials are not overwritten when you upload new versions to the server, and you can always go back to older versions. Git is used a lot in the computatinal sciences and the IT industry because it is a comfortable way to also produce computer code in teams. Git, thus, contributes to improving reproducibility by versioning code and opening it up to collaboration. Several companies and projects operate [Git servers](https://en.wikipedia.org/wiki/Git#Git_server_as_a_service) you can use. In the course, we use [GitHub](https://github.com/), and the repository where all teaching materials are stored is https://github.com/gesiscss/css_methods_python.\n",
    "\n",
    "<img src='images/binder.png' style='width: 200px; float: right; margin-left: 10px'>\n",
    "\n",
    "With the Anaconda distribution and Git, you are set up to start doing CSS on your local machine. But there is an option: you can also execute, develop, and share your Jupyter Notebooks in the **cloud**. That means, your work will not be executed on your local computer but on a server somewhere in the clouds of the internet. You may want to do so if you do not want to set up a local infrastructure (*e.g.*, if you want to check out a foreign repository without downloading it), in addition to your local infrastructure (*e.g.*, if you want to test a different setup), or if you want to make it easy for others to check out your work (*e.g.*, for educative or demonstrative purposes). A driving force in open-source cloud computing is [Binder](https://mybinder.org/) which turns a Git repository into a collection of interactive Jupyter Notebooks. Binder is not persistent, which means, users are responsible to save their changes and results – after 30 minutes of inactivity a user session will be closed automatically and all progress will be lost.\n",
    "\n",
    "<img src='images/google_colab.png' style='height: 50px; float: right; margin-left: 10px'>\n",
    "\n",
    "If you want persistence, that is, if want to have a user space where you can save your changes and results, there are not many options. [Google Colab](https://colab.research.google.com/) is one of them. It offers a standard Python setup for scientific computing. While this makes it easy to use at first glance, it also means that you are either forced to set package versions yourself or adapt your code to the changing setup Google Colab provides. On the other hand, Binder gives you full control over the setup by requiring you to define packages and their versions. These cloud services aid reproducibility because everybody can execute and develop your Jupyter Notebooks without even having a computing infrastructure on their local computer.\n",
    "\n",
    "<div class='alert alert-block alert-success'>\n",
    "<b>In this session</b>, \n",
    "\n",
    "you will learn how to set up your computing infrastructure. All tools you will use are free of charge. In subsession **1.1**, we will guide you through the installation of the Anaconda distribution. We specify a particular release of the distribution so all users of the course materials will work with the same set of package versions and not experience any problems. You will learn how to create a custom environment that has all packages installed in the required versions and to open Jupyter Notebooks. In subsession **1.2**, we will teach the neccessary steps to use Git and download the teaching materials from GitHub to your local computer. If you want to work in the cloud – potentially skipping the installation of Anaconda and Git –, either launch Binder or go to subsession **1.3** to see how you can set yourself up on Google Colab.\n",
    "</div>"
   ]
  },
  {
   "cell_type": "markdown",
   "id": "8d39148d",
   "metadata": {},
   "source": [
    "## A1.1. Anaconda\n",
    "\n",
    "#### How to install the Anaconda distribution\n",
    "\n",
    "<img src='images/anaconda_distribution.png' style='height: 100px; float: right; margin-left: 10px'>\n",
    "\n",
    "The beauty of the Anaconda distribution is that it reduces package conflicts. A package conflict occurrs when a particular Python package is dependent on another package in version x but you have version y installed. The Anaconda distribution is a collection of [over 8,000 packages](https://www.anaconda.com/products/distribution) whose versions are chosen to work together in the best way. The release all course materials have been developed for is 2022.10.\n",
    "\n",
    "1. Download the installer for your operating system (OS: Windows, Mac, or Linux) from [this](https://repo.anaconda.com/archive/) index. The file you need begins with \"Anaconda3-2022.10\" and ends with an OS-specific name.\n",
    "2. Install the distribution by executing the downloaded file. Use administrator rights for installation. On Windows, you can do this by right-clicking the downloaded file and clicking on \"Run as administrator\".\n",
    "\n",
    "The [Anaconda documentation](https://docs.continuum.io/anaconda/install/) can help you shoot trouble if you run into installation problems.\n",
    "\n",
    "#### How to make all required packages available\n",
    "\n",
    "Only the most widely used of the over 8,000 packages are pre-installed in Anaconda. To successfully run all the sessions provided in this course, we need several additional packages. The recommended way to install them is to use the [Conda](https://docs.conda.io/) package manager that underlies the Anaconda distribution. The required packages and their versions are listed in this [environment file](https://github.com/gesiscss/css_methods_python/blob/main/binder/environment.yml). Reading this file, you will notice that those packages listed under the \"pip\" dash in the environment file cannot be installed using Conda. You will need to install them using the [PIP](https://www.w3schools.com/python/python_pip.asp) package manager.\n",
    "\n",
    "<div class='alert alert-block alert-danger'>\n",
    "<b>Caution</b>\n",
    "\n",
    "Do not use the PIP package manager to install a package if you can install it using Conda. PIP may overwrite already installed packages with another version and cause package conflicts. The environment file that comes with this repository has been written in such a way that, whenever possible, packages are installed using Conda. PIP is only used to install a few very decicated packages.\n",
    "</div>\n",
    "\n",
    "Fortunately, there is an easy way of package installation (<a href='#mclevey_doing_2022'>McLevey, 2022</a>, ch. 1). You can create a custom environment in which all the packages that we need are installed:\n",
    "\n",
    "3. Download the [environment file](https://github.com/gesiscss/css_methods_python/blob/main/binder/environment.yml) and place it in the folder where you want the new custom environment to be installed (*e.g.*, \\Users\\YourAccount).\n",
    "4. Start the Anaconda Navigator. Since we will make software changes, we again need administrator rights. On Windows, right-click on the Navigator icon and choose \"Run as administrator\".\n",
    "\n",
    "You will land on the \"Home\" tab. Here you can launch various coding tools (*e.g.*, Notebook, Powershell Prompt).\n",
    "\n",
    "5. Click on the \"Launch\" button of \"Powershell Prompt\".\n",
    "\n",
    "A terminal will open.\n",
    "\n",
    "6. Move to the folder where the environment file is and execute `conda env create -f environment.yml`\n",
    "\n",
    "This will download all packages and install them in a new environment called \"css_methods_python\".\n",
    "\n",
    "7. Activate the environment by executing `conda activate css_methods_python`\n",
    "\n",
    "In the Navigator's \"Environments\" tab, there will now be the \"css_methods_python\" environment in addition to the \"base (root)\" one containing the standard distribution.\n",
    "\n",
    "After these steps you should be able to run all cells in all sessions of this course without getting an error. If you do get an error, please check that you are using the exact same version as specified in the environment file. If the error does not go away, please go [here](https://github.com/gesiscss/css_methods_python/issues), click on the \"New Issue\" button, and describe the error there. We will then try to reproduce and solve it.\n",
    "\n",
    "#### How to use Jupyter Notebooks\n",
    "\n",
    "8. In the \"Environment\" tab, select the custom environment.\n",
    "9. In the \"Home\" tab, launch \"Notebook\".\n",
    "\n",
    "This step will open a browser window where you can run and document code. This is a fine tutorial how to use Jupyter Notebooks:"
   ]
  },
  {
   "cell_type": "code",
   "execution_count": 1,
   "id": "dc9f2d75",
   "metadata": {},
   "outputs": [
    {
     "data": {
      "text/html": [
       "<iframe width=\"560\" height=\"315\" src=\"https://www.youtube.com/embed/HW29067qVWk\"></iframe>\n"
      ],
      "text/plain": [
       "<IPython.core.display.HTML object>"
      ]
     },
     "metadata": {},
     "output_type": "display_data"
    }
   ],
   "source": [
    "%%HTML\n",
    "<iframe width=\"560\" height=\"315\" src=\"https://www.youtube.com/embed/HW29067qVWk\"></iframe>"
   ]
  },
  {
   "cell_type": "markdown",
   "id": "4e1e5fbb",
   "metadata": {},
   "source": [
    "## A1.2. Git\n",
    "\n",
    "#### How to install Git\n",
    "\n",
    "Consult the Git documentation [how to install](https://git-scm.com/book/en/v2/Getting-Started-Installing-Git) the version control system. Depending on your local setting, you may install Git as a package (not a Python package). Otherwise, download the installer your OS needs. This will install a set of tools.\n",
    "\n",
    "#### How to download the course materials\n",
    "\n",
    "1. From the list of tools, launch \"Git GUI\".\n",
    "2. Click on \"Clone Existing Repository\"\n",
    "3. As \"Source Location\" enter: https://github.com/gesiscss/css_methods_python/\n",
    "4. As \"Target Directory\" enter the directory where you want the materials to be.\n",
    "5. Keep \"Clone Type\" settings as they are.\n",
    "\n",
    "After those steps, the course materials will be in the directory you specified."
   ]
  },
  {
   "cell_type": "markdown",
   "id": "460c3121",
   "metadata": {},
   "source": [
    "## A1.3. Google Colab\n",
    "\n",
    "#### How to set yourself up\n",
    "\n",
    "To get acquainted with Google Colab, please consult their [Frequently Asked Questions](https://research.google.com/colaboratory/faq.html) page. Notebooks can be stored on Google Drive or opened from a repository and shared like Google Docs. In general, Colab runs on a Linux system, so you can run Linux commands on it (*e.g.*, to install packages). However, note that the package environment that you create this way does not persist, which means, it will be gone when you close your session and get disconnected.\n",
    "\n",
    "1. Log in to your Google account, or create one, at [myaccount.google.com](https://myaccount.google.com/).\n",
    "2. Go to [colab.research.google.com](https://colab.research.google.com/).\n",
    "\n",
    "A **session** will be started in which you will be connected to Google's computing infrastructure. Sessions have certain [resource limits](https://research.google.com/colaboratory/faq.html#resource-limits) that are not published. Certainly, your session will be terminated after a certain period of inactivity.\n",
    "\n",
    "When starting Colab, a notebook \"Welcome to Colab!\" will greet you. Have a look at it, it is a short introduction. There are several ways to access the course notebooks. If you click on \"File > Open notebook\", you will have five options:\n",
    "\n",
    "- \"Examples\" (teaching materials created by Google),\n",
    "- \"Recent\" notebooks (if you have worked in Colab before),\n",
    "- \"Google Drive\" (to open notebooks from your private storage),\n",
    "- \"GitHub\" (to open notebooks from a repository), and \n",
    "- \"Upload\" (to open a notebook from your local machine).\n",
    "\n",
    "We will now prepare to access notebooks from GitHub and data files from from Google Drive. You must manually **connect to Google Drive**, and you must do so **every time you start a session**. The technical slang connecting to Google Drive is to \"mount\" it:\n",
    "\n",
    "3. Click on the <img src='images/google_colab_files.png' style='height: 22px; display: inline-block'> icon to open the file explorer. Wait a few seconds until your are connected.\n",
    "4. Click on the <img src='images/google_colab_mount.png' style='height: 26px; display: inline-block'> icon in the file explorer.\n",
    "5. Run the code cell that will be opened.\n",
    "\n",
    "The code is:"
   ]
  },
  {
   "cell_type": "code",
   "execution_count": 2,
   "id": "15cd021f",
   "metadata": {},
   "outputs": [],
   "source": [
    "#from google.colab import drive\n",
    "#drive.mount('/content/drive')"
   ]
  },
  {
   "cell_type": "markdown",
   "id": "65c8af29",
   "metadata": {},
   "source": [
    "A pop-up window will then ask if you permit this notebook to access your Google Drive files:\n",
    "\n",
    "6. Click on \"Connect to Google Drive\".\n",
    "\n",
    "In the next pop-up window:\n",
    "\n",
    "7. Chose the Google account to connect to.\n",
    "8. Click on \"Allow\".\n",
    "9. Click on the <img src='images/google_colab_refresh.png' style='height: 29px; display: inline-block'> icon to refresh the file explorer and browse the files from your Google Drive.\n",
    "\n",
    "To store data files in Google Drive:\n",
    "\n",
    "10. Go to [drive.google.com](https://drive.google.com/).\n",
    "11. Click on \"+ New\" > \"Folder upload\".\n",
    "12. Upload the \"data\" folder from the repository you have cloned to your local storage (see subsection 1.2).\n",
    "\n",
    "Upload individual files by clicking on \"+ New\" > \"File upload\". For example, download this [file](https://zenodo.org/record/4593502/files/TweetsCOV19_052020.tsv.gz) and upload it to Google Drive. Files will be permanently stored there.\n",
    "\n",
    "Also create a folder where you will store your results:\n",
    "\n",
    "13. Create a folder \"Results\".\n",
    "\n",
    "#### How to work with the course materials\n",
    "\n",
    "Open a notebook directly from GitHub:\n",
    "\n",
    "14. In Google Colab, click on \"File > Open notebook > GitHub\".\n",
    "15. Enter this URL: https://github.com/gesiscss/css_methods_python/.\n",
    "16. Chose the notebook you want to run.\n",
    "\n",
    "You will see that images embedded into the page are displayed, but the local path to the data files does not work. Whenever you want to load data from file:\n",
    "\n",
    "17. In Colab's file explorer, navigate to the folder where the file lives that you want to load.\n",
    "18. Right-click on the file, then click \"Copy path\".\n",
    "19. Replace the old path (which starts with `../data/`) by the new path you have copied.\n",
    "\n",
    "You must do this with every data file you want to load. To save all your results in Google Drive:\n",
    "\n",
    "20. In Google Colab, copy the path of the \"Results\" folder (which you have created in step 13).\n",
    "21. Replace all `results` parts of paths by the path you have copied.\n",
    "\n",
    "Finally, in order to save the changes you have made to a notebook:\n",
    "\n",
    "22. Click on \"File > Save > Save a copy in Drive\".\n",
    "\n",
    "#### Installing the right packages\n",
    "\n",
    "Google Colab offers a standard Python environment of packages in specific versions. In some instances, a package that we need in the course will be missing in the Colab environment or the version may be wrong. In those rare cases, you will have to install packages or overwrite versions yourself. Since Google Colab is not built on Conda, you must use the PIP package manager. Whenever such action is needed, the notebook will point it out."
   ]
  },
  {
   "cell_type": "markdown",
   "id": "07fcc2ae",
   "metadata": {},
   "source": [
    "## References\n",
    "\n",
    "### Recommended readings\n",
    "\n",
    "<a id='heiberger_installing_2016'></a>\n",
    "Heiberger, R. H. & Riebling, J. R. (2016). \"Installing computational social science: Facing the challenges of new information and communication technologies in social science\". *Methodological Innovations* 9:1–11. https://doi.org/10.1177/2059799115622763. *A comparison of network analysis libraries in Python and R in terms of speed and a general discussion of computation in social science.*\n",
    "\n",
    "<a id='mclevey_doing_2022'></a>\n",
    "McLevey, J. (2022). *Doing Computational Social Science: A Practical Introduction*. SAGE. https://us.sagepub.com/en-us/nam/doing-computational-social-science/book266031. *A rather complete introduction to the field with well-structured and insightful chapters. The [website](https://github.com/UWNETLAB/dcss_supplementary) offers the code used in the book. For this session, read **ch. 1** on setting up a computing environment.*\n",
    "\n",
    "### Complementary readings\n",
    "\n",
    "<a id='schoch_computational_2023'></a>\n",
    "Schoch, D., Chan, C.-H., Wagner, C., & Bleier, A. (2023). \"Computational reproducibility in Computational Social Science\". *arXiv*:2307.01918. https://doi.org/10.48550/arXiv.2307.01918. *Suggest that reproducibility can be ensured by providing data, code, and a cloud-based computing environment.*"
   ]
  },
  {
   "cell_type": "markdown",
   "id": "abbb79d6",
   "metadata": {},
   "source": [
    "<div class='alert alert-block alert-success'>\n",
    "<b>Document information</b>\n",
    "\n",
    "Contact and main author: N. Gizem Bacaksizlar Turbic, Pouria Mirelmi, & Haiko Lietz\n",
    "\n",
    "Version date: 8 August 2023\n",
    "\n",
    "License: Creative Commons Attribution 4.0 International (CC BY 4.0)\n",
    "</div>"
   ]
  }
 ],
 "metadata": {
  "kernelspec": {
   "display_name": "Python 3 (ipykernel)",
   "language": "python",
   "name": "python3"
  },
  "language_info": {
   "codemirror_mode": {
    "name": "ipython",
    "version": 3
   },
   "file_extension": ".py",
   "mimetype": "text/x-python",
   "name": "python",
   "nbconvert_exporter": "python",
   "pygments_lexer": "ipython3",
   "version": "3.9.13"
  }
 },
 "nbformat": 4,
 "nbformat_minor": 5
}
