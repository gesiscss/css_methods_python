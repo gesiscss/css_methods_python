{
 "cells": [
  {
   "cell_type": "markdown",
   "id": "26acf247",
   "metadata": {},
   "source": [
    "<img src='images/gesis.png' style='height: 60px; float: left'>\n",
    "<img src='images/social_comquant.png' style='height: 50px; float: left; margin-left: 40px'>\n",
    "<img src='images/isi.png' style='height: 50px; float: left; margin-left: 20px'>  "
   ]
  },
  {
   "cell_type": "markdown",
   "id": "237c8be6",
   "metadata": {},
   "source": [
    "Authors = N. Gizem Bacaksizlar Turbic and Haiko Lietz\n",
    "\n",
    "Date = 19 July 2022"
   ]
  },
  {
   "cell_type": "markdown",
   "id": "304c55db",
   "metadata": {},
   "source": [
    "## Introduction to Computational Social Science methods with Python"
   ]
  },
  {
   "cell_type": "markdown",
   "id": "3cd4ea4a",
   "metadata": {},
   "source": [
    "# Session 3: API Harvesting\n",
    "\n",
    "Data collection is a procedure of gathering information from subjects (all relevant sources), measuring and analyzing accurate insights for research using various techniques. Researchers can evaluate their research questions and hypotheses on the basis of collected data. In most cases, data collection is the primary and most important step for research, irrespective of the field of study. The approach of data collection varies for different fields of study, depending on the required information.\n",
    "\n",
    "The ease of access to the technology has made various social media platforms more popular as communication tools, therefore as a source of data. With this rise of social media use as a data source, data collection using APIs has become a demanding skill. Here, in this session, we aim to teach how to collect data from various social media platforms, such as Twitter and Reddit."
   ]
  },
  {
   "cell_type": "markdown",
   "id": "66abdeec",
   "metadata": {},
   "source": [
    "## 3.1. Social Media Platforms for Data Harvesting through API"
   ]
  },
  {
   "cell_type": "markdown",
   "id": "c403de1f",
   "metadata": {},
   "source": [
    "<img src=\"./images/database.png\"  width=\"150\" height = \"150\" align=\"right\"/>\n",
    "\n",
    "In order to access APIs, you first need to create an account and apply to have a developer account on the platform that you want to work on. With this developer account, platforms provide you KEYS (e.g., secret, public, or access) to authenticate their system.\n",
    "\n",
    "While web scraping is one of the common ways of collecting data from websites, a lot of websites offer APIs to access the public data that they host on their website. This is to avoid unnecessary traffic on the websites.\n",
    "\n",
    "However, even though we have access to these APIs, as researchers, we should not forget to respect API access rules and always read the documents before collecting data.\n",
    "\n",
    "\n"
   ]
  },
  {
   "cell_type": "markdown",
   "id": "d09370b8",
   "metadata": {},
   "source": [
    "## 3.2. A demonstration using Python to collect data from Twitter \n",
    "\n",
    "Twitter is one of the most used social media platforms in the academic research. This microblogging and social networking service hosts users who can post and interact with messages known as \"tweets\". Registered users can post, like, and retweet tweets, but unregistered users can only read those that are publicly available. As of 2022, Twitter has 436 million active users worldwide (Statista, 2022*). \n",
    "\n",
    "<img src=\"./images/twitter.png\"  width=\"200\" height = \"200\" align=\"left\"/>\n",
    "\n",
    "Different access options for different purposes:\n",
    "\n",
    "- Twitter Developer: https://developer.twitter.com/\n",
    "- APIs: https://developer.twitter.com/en/docs\n",
    "- GNIP: http://support.gnip.com/apis/\n",
    "- Twitter Enterprise: https://developer.twitter.com/en/enterprise\n",
    "\n",
    "IMPORTANT to note that free APIs cover 7 days Tweets; Premium APIs exist for 30-day search and beyond. If you have an Academic Research access level, you can access even more data with full-archive search endpoint. There are changes to APIs policies over time, such as functionalities and user agreements. Also, limitations on volume and functions should be considered. \n",
    "\n",
    "Before we start with our first project on Twitter, first you need to sign up for Twitter and then, create a Developer account: \n",
    "\n",
    "- Sign up from [here.](https://help.twitter.com/en/using-twitter/create-twitter-account)\n",
    "- Create a Developer Account from [here.](https://developer.twitter.com)\n",
    "\n",
    "\n",
    "**https://www.statista.com/statistics/272014/global-social-networks-ranked-by-number-of-users/*"
   ]
  },
  {
   "cell_type": "markdown",
   "id": "194eb703",
   "metadata": {},
   "source": [
    "### 3.2.1 Getting started\n",
    "\n",
    "In this section, we will begin with our first project of collecting tweets. Import the following libraries if you have already installed them. If you have not, install them using pip in your command prompt, or using !pip in your jupyter notebook.\n",
    "\n",
    "We will be using `datetime` library for working with human readable date formats, and `tweepy` as the python wrapper of the twitter API."
   ]
  },
  {
   "cell_type": "code",
   "execution_count": null,
   "id": "193473b9",
   "metadata": {},
   "outputs": [],
   "source": [
    "import pandas as pd\n",
    "import datetime\n",
    "import tweepy as tw"
   ]
  },
  {
   "cell_type": "markdown",
   "id": "3088ebf3",
   "metadata": {},
   "source": [
    "You will have to use your twitter keys registered with your account. Create an account if you don't have one yet. Then obtain the access token and access token secret. They can be generated in your developer portal [here](https://developer.twitter.com/en/portal/dashboard), under \"Keys and tokens\" tab of your developer app.\n",
    "\n",
    "After getting them ready, use the following variables to save them for further steps:"
   ]
  },
  {
   "cell_type": "code",
   "execution_count": null,
   "id": "7e4f9a5a",
   "metadata": {},
   "outputs": [],
   "source": [
    "apikey = 'YOURapikey' #25 alphanumeric characters\n",
    "apisecretkey = 'YOURapisecretkey'\n",
    "accesstoken = 'YOURaccesstoken'\n",
    "accesstokensecret = 'YOURaccesstokensecret'\n",
    "bearertoken = 'YOURbearertoken'"
   ]
  },
  {
   "cell_type": "markdown",
   "id": "39538a76",
   "metadata": {},
   "source": [
    "<img src=\"./images/developer_portal.png\"  width=\"500\" height = \"500\" align=\"center\"/>"
   ]
  },
  {
   "cell_type": "markdown",
   "id": "070d9b3f",
   "metadata": {},
   "source": [
    "If you are sharing your scripts with other people and want to keep your keys secret, you can follow the steps below instead of assigning your keys in the above 5 variables:\n",
    "\n",
    "- Create a simple python script called `keys.py`\n",
    "- Store all passwords the way you did in the notebook already, with the same names\n",
    "- Save the script in the same folder as this notebook's\n",
    "- Import the keys like the following:"
   ]
  },
  {
   "cell_type": "code",
   "execution_count": 1,
   "id": "8b7068dd",
   "metadata": {},
   "outputs": [],
   "source": [
    "from keys import *"
   ]
  },
  {
   "cell_type": "markdown",
   "id": "b9c73743",
   "metadata": {},
   "source": [
    "The next step is setting up your access to the API:"
   ]
  },
  {
   "cell_type": "code",
   "execution_count": null,
   "id": "ff9e184e",
   "metadata": {},
   "outputs": [],
   "source": [
    "auth = tw.OAuthHandler(apikey, apisecretkey)\n",
    "auth.set_access_token(accesstoken, accesstokensecret)\n",
    "api = tw.API(auth, wait_on_rate_limit = True)"
   ]
  },
  {
   "cell_type": "markdown",
   "id": "0d43db28",
   "metadata": {},
   "source": [
    "### 3.2.2 Retrieving tweets with keyword search\n",
    "\n",
    "Now we want to retrieve the tweets that contain certain words. Let's say we want to get the ones that contain *at least* one of the words **ComputationalSocialScience**, **GESIS** or **SocialComQuant**. We need to save them in a string, seperated with `OR`s like the following (You can try with any other search terms of your own choice):"
   ]
  },
  {
   "cell_type": "code",
   "execution_count": null,
   "id": "62217aff",
   "metadata": {},
   "outputs": [],
   "source": [
    "search_words = \"ComputationalSocialScience OR GESIS OR SocialComQuant\""
   ]
  },
  {
   "cell_type": "markdown",
   "id": "d962f766",
   "metadata": {},
   "source": [
    "If you want to remove retweets from your search results, you can include `-filter:retweets` in the `search_words` string.\n",
    "\n",
    "Now we collect the desired tweets like this:"
   ]
  },
  {
   "cell_type": "code",
   "execution_count": null,
   "id": "4e7fc12d",
   "metadata": {},
   "outputs": [],
   "source": [
    "tweets = tw.Cursor(api.search_tweets,  q=search_words, lang=\"en\").items()"
   ]
  },
  {
   "cell_type": "markdown",
   "id": "0ce36775",
   "metadata": {},
   "source": [
    "**Note**: Be aware of the attribute names from the new version of the packages, they may change in time.\n",
    "\n",
    "You can pass a number as an argument to the `.items()` at the end of the line to limit the number of search results.\n",
    "\n",
    "The tweets that are now kept in the `tweets` object above contain a lot of information, in the form of dictionaries. You can check an overview of this information [here](https://developer.twitter.com/en/docs/twitter-api/data-dictionary/object-model/tweet).\n",
    "\n",
    "We will take a look at some of this information and store it in a dataframe:"
   ]
  },
  {
   "cell_type": "code",
   "execution_count": null,
   "id": "474926c8",
   "metadata": {},
   "outputs": [],
   "source": [
    "tweet_details = [[tweet.user.screen_name, tweet.user.id, tweet.id_str, \n",
    "                  tweet.created_at, tweet.text, tweet.user.profile_image_url, tweet.user.location] \n",
    "                  for tweet in tweets]\n",
    "\n",
    "tweets_df = pd.DataFrame(data=tweet_details, \n",
    "                        columns = [\"user_name\",\"user_id\", \"tweet_id\", \"tweet_date\",\"tweet\",\"user_image\",\n",
    "                                   \"user_location\"])\n",
    "\n",
    "tweets_df"
   ]
  },
  {
   "cell_type": "markdown",
   "id": "0c46586a",
   "metadata": {},
   "source": [
    "Here is some information about the data each column keeps:\n",
    "\n",
    "- user_name: The username of the user that has tweeted the desired tweet.\n",
    "- user_id: Each user has a unique ID, this columns keeps those IDs.\n",
    "- tweet_id: Each tweets has also a unique ID.\n",
    "- tweet_date: The date that the tweet has been posted.\n",
    "- tweet: The text of the tweet\n",
    "- user_image: The profile photo of the user\n",
    "- user_location: The location of the user"
   ]
  },
  {
   "cell_type": "markdown",
   "id": "dc571629",
   "metadata": {},
   "source": [
    "You can store the dataframe for later access, if you need to:"
   ]
  },
  {
   "cell_type": "code",
   "execution_count": null,
   "id": "970e72fd",
   "metadata": {},
   "outputs": [],
   "source": [
    "tweets_df.to_csv(\"./data/test_tweets.csv\", index = False)"
   ]
  },
  {
   "cell_type": "markdown",
   "id": "1807e572",
   "metadata": {},
   "source": [
    "You can also get the number of the tweets retrieved:"
   ]
  },
  {
   "cell_type": "code",
   "execution_count": null,
   "id": "58af3e67",
   "metadata": {},
   "outputs": [],
   "source": [
    "print('The length of the dataframe:', len(tweets_df['tweet_id'].unique()))"
   ]
  },
  {
   "cell_type": "markdown",
   "id": "b323d0dd",
   "metadata": {},
   "source": [
    "To access the user photos, you can simply search the links in your browser:"
   ]
  },
  {
   "cell_type": "code",
   "execution_count": null,
   "id": "57270ca6",
   "metadata": {
    "scrolled": true
   },
   "outputs": [],
   "source": [
    "tweets_df.user_image.values[:5]"
   ]
  },
  {
   "cell_type": "markdown",
   "id": "0e7ffde1",
   "metadata": {},
   "source": [
    "### 3.2.3 Retrieving users' information\n",
    "\n",
    "Let's say you have a list of users. This can be a list of IDs like the ones we have in the `user_id` column of the dataframe in the previous section, or it can be a list of usernames as shown on the screen for every user in twitter (Like the ones we have in the `user_name` column of the dataframe in the previous section).\n",
    "\n",
    "We can access the infromation like profile description or profile photo of any of these users. As an example, take the following list of users. It contains the first 10 unique user IDs of the dataframe in the previous section:"
   ]
  },
  {
   "cell_type": "code",
   "execution_count": null,
   "id": "57e1459c",
   "metadata": {},
   "outputs": [],
   "source": [
    "users_ids = list(tweets_df['user_id'][:50].unique())\n",
    "users_ids"
   ]
  },
  {
   "cell_type": "markdown",
   "id": "3f6a2555",
   "metadata": {},
   "source": [
    "We can get their profile information using `get_user()` and store it in the `information`:"
   ]
  },
  {
   "cell_type": "code",
   "execution_count": null,
   "id": "4af7d646",
   "metadata": {},
   "outputs": [],
   "source": [
    "information = []\n",
    "\n",
    "for i in users_ids:\n",
    "    user = api.get_user(user_id = i)\n",
    "    information.append(user)"
   ]
  },
  {
   "cell_type": "markdown",
   "id": "0ba5d8ef",
   "metadata": {},
   "source": [
    "Next, we can extract information like users' location, profile description, profile photo, etc and make a dataframe to keep them:"
   ]
  },
  {
   "cell_type": "code",
   "execution_count": null,
   "id": "fd25167b",
   "metadata": {},
   "outputs": [],
   "source": [
    "names = []\n",
    "locations = []\n",
    "descriptions = []\n",
    "profile_pics = []\n",
    "background_pics = []\n",
    "friends = []\n",
    "followers = []\n",
    "\n",
    "for i in information:   \n",
    "    names.append(i.name)\n",
    "    locations.append(i.location)\n",
    "    descriptions.append(i.description)\n",
    "    profile_pics.append(i.profile_image_url)\n",
    "    background_pics.append(i.profile_background_image_url)\n",
    "    friends.append(i.friends_count)\n",
    "    followers.append(i.followers_count)\n",
    "    \n",
    "users_df = pd.DataFrame({'ID': users_ids, \"name\": names, \"location\": locations, \"description\": descriptions, \"profile picture\": profile_pics, \"background picture\": background_pics,\n",
    "                                   \"friends\": friends, \"followers\": followers})\n",
    "\n",
    "users_df"
   ]
  },
  {
   "cell_type": "markdown",
   "id": "0e3ab966",
   "metadata": {},
   "source": [
    "If, instead of list of users IDs, you have a list of usernames, you can still get the information above. You just need to change the argument name to `screen_name` in `get_user()` function.\n",
    "\n",
    "For example, let's say your list of usernames is something like this:"
   ]
  },
  {
   "cell_type": "code",
   "execution_count": null,
   "id": "a2ed9305",
   "metadata": {},
   "outputs": [],
   "source": [
    "usernames = list(tweets_df['user_name'][:50].unique())\n",
    "usernames"
   ]
  },
  {
   "cell_type": "markdown",
   "id": "e7488831",
   "metadata": {},
   "source": [
    "It can be done like this:"
   ]
  },
  {
   "cell_type": "code",
   "execution_count": null,
   "id": "f261c2e3",
   "metadata": {},
   "outputs": [],
   "source": [
    "information = []\n",
    "\n",
    "for i in usernames:\n",
    "    user = api.get_user(screen_name = i)\n",
    "    information.append(user)"
   ]
  },
  {
   "cell_type": "markdown",
   "id": "c8d203ea",
   "metadata": {},
   "source": [
    "The rest is the same."
   ]
  },
  {
   "cell_type": "markdown",
   "id": "0e85c984",
   "metadata": {},
   "source": [
    "### 3.2.4 Rehydrating tweets\n",
    "\n",
    "In research, sharing large tweet data sets is done through sharing tweet identifiers, since Twitter Terms of Service does not allow researchers to share the full tweets data. In order to get the tweets used in a research work, we need to retrieve/reconstruct the tweets data using those tweet identifiers. This is called hydrating/rehydrating tweets.\n",
    "\n",
    "Since some of the tweets used in a research work migh have been deleted in time, we may not be able to access every single tweet used at the time when that research work has been done. We will see about that in more details later in this section.\n",
    "\n",
    "In order to rehydrate tweets, we will be using Twarc library, which is a python wrapper for twitter API. You can install it with `pip`."
   ]
  },
  {
   "cell_type": "code",
   "execution_count": 2,
   "id": "d09f9f54",
   "metadata": {},
   "outputs": [],
   "source": [
    "from twarc import Twarc2, expansions"
   ]
  },
  {
   "cell_type": "markdown",
   "id": "8e45c6a6",
   "metadata": {},
   "source": [
    "We will rehydrate tweets from [this](https://journals.plos.org/plosone/article?id=10.1371/journal.pone.0237073) paper for our teaching purposes here. Download the `2021.csv` data set from [this](https://figshare.com/articles/dataset/The_Twitter_Parliamentarian_Database/10120685) link and read it like the following:"
   ]
  },
  {
   "cell_type": "code",
   "execution_count": 3,
   "id": "90ea7e9d",
   "metadata": {},
   "outputs": [
    {
     "name": "stderr",
     "output_type": "stream",
     "text": [
      "/tmp/ipykernel_13738/4281551693.py:3: DtypeWarning: Columns (4) have mixed types. Specify dtype option on import or set low_memory=False.\n",
      "  data = pd.read_csv('2021.csv', header = None)\n"
     ]
    }
   ],
   "source": [
    "import pandas as pd\n",
    "\n",
    "data = pd.read_csv('2021.csv', header = None)\n",
    "data.columns = ['country', 'party', 'author', 'author_id', 'district','date','tweet_id']"
   ]
  },
  {
   "cell_type": "code",
   "execution_count": 4,
   "id": "bba123f4",
   "metadata": {
    "scrolled": true
   },
   "outputs": [
    {
     "data": {
      "text/html": [
       "<div>\n",
       "<style scoped>\n",
       "    .dataframe tbody tr th:only-of-type {\n",
       "        vertical-align: middle;\n",
       "    }\n",
       "\n",
       "    .dataframe tbody tr th {\n",
       "        vertical-align: top;\n",
       "    }\n",
       "\n",
       "    .dataframe thead th {\n",
       "        text-align: right;\n",
       "    }\n",
       "</style>\n",
       "<table border=\"1\" class=\"dataframe\">\n",
       "  <thead>\n",
       "    <tr style=\"text-align: right;\">\n",
       "      <th></th>\n",
       "      <th>country</th>\n",
       "      <th>party</th>\n",
       "      <th>author</th>\n",
       "      <th>author_id</th>\n",
       "      <th>district</th>\n",
       "      <th>date</th>\n",
       "      <th>tweet_id</th>\n",
       "    </tr>\n",
       "  </thead>\n",
       "  <tbody>\n",
       "    <tr>\n",
       "      <th>0</th>\n",
       "      <td>United States</td>\n",
       "      <td>Republican</td>\n",
       "      <td>thom tillis</td>\n",
       "      <td>2964174789</td>\n",
       "      <td>NaN</td>\n",
       "      <td>2021-01-01 05:01:00</td>\n",
       "      <td>1344871222073458690</td>\n",
       "    </tr>\n",
       "    <tr>\n",
       "      <th>1</th>\n",
       "      <td>United States</td>\n",
       "      <td>Republican</td>\n",
       "      <td>thom tillis</td>\n",
       "      <td>2964174789</td>\n",
       "      <td>NaN</td>\n",
       "      <td>2021-01-03 22:19:37</td>\n",
       "      <td>1345857376155545601</td>\n",
       "    </tr>\n",
       "    <tr>\n",
       "      <th>2</th>\n",
       "      <td>United States</td>\n",
       "      <td>Republican</td>\n",
       "      <td>thom tillis</td>\n",
       "      <td>2964174789</td>\n",
       "      <td>NaN</td>\n",
       "      <td>2021-01-04 19:31:13</td>\n",
       "      <td>1346177383225815052</td>\n",
       "    </tr>\n",
       "    <tr>\n",
       "      <th>3</th>\n",
       "      <td>United States</td>\n",
       "      <td>Republican</td>\n",
       "      <td>thom tillis</td>\n",
       "      <td>2964174789</td>\n",
       "      <td>NaN</td>\n",
       "      <td>2021-01-05 19:46:42</td>\n",
       "      <td>1346543667570495488</td>\n",
       "    </tr>\n",
       "    <tr>\n",
       "      <th>4</th>\n",
       "      <td>United States</td>\n",
       "      <td>Republican</td>\n",
       "      <td>thom tillis</td>\n",
       "      <td>2964174789</td>\n",
       "      <td>NaN</td>\n",
       "      <td>2021-01-06 17:29:55</td>\n",
       "      <td>1346871631101259776</td>\n",
       "    </tr>\n",
       "  </tbody>\n",
       "</table>\n",
       "</div>"
      ],
      "text/plain": [
       "         country       party       author   author_id district  \\\n",
       "0  United States  Republican  thom tillis  2964174789      NaN   \n",
       "1  United States  Republican  thom tillis  2964174789      NaN   \n",
       "2  United States  Republican  thom tillis  2964174789      NaN   \n",
       "3  United States  Republican  thom tillis  2964174789      NaN   \n",
       "4  United States  Republican  thom tillis  2964174789      NaN   \n",
       "\n",
       "                  date             tweet_id  \n",
       "0  2021-01-01 05:01:00  1344871222073458690  \n",
       "1  2021-01-03 22:19:37  1345857376155545601  \n",
       "2  2021-01-04 19:31:13  1346177383225815052  \n",
       "3  2021-01-05 19:46:42  1346543667570495488  \n",
       "4  2021-01-06 17:29:55  1346871631101259776  "
      ]
     },
     "execution_count": 4,
     "metadata": {},
     "output_type": "execute_result"
    }
   ],
   "source": [
    "data.head()"
   ]
  },
  {
   "cell_type": "markdown",
   "id": "7eddba2e",
   "metadata": {},
   "source": [
    "We will take the tweets for Turkey and keep their IDs to rehydrate. We'll try rehydrating a random sample of 1000 of them:"
   ]
  },
  {
   "cell_type": "code",
   "execution_count": 5,
   "id": "5d3a221c",
   "metadata": {},
   "outputs": [],
   "source": [
    "turkey = data[data['country'] == 'Turkey']\n",
    "\n",
    "tweet_ids = list(turkey.sample(1000, random_state = 2023)['tweet_id'])"
   ]
  },
  {
   "cell_type": "markdown",
   "id": "be561b5e",
   "metadata": {},
   "source": [
    "We will use the following `rehydrate` [function](https://github.com/twitterdev/getting-started-with-the-twitter-api-v2-for-academic-research/blob/main/modules/6a-labs-code-academic-python.md) to rehydrate the tweets and keep their data in the `tweets` list:"
   ]
  },
  {
   "cell_type": "code",
   "execution_count": 6,
   "id": "fdf42714",
   "metadata": {
    "scrolled": true
   },
   "outputs": [],
   "source": [
    "import json\n",
    "\n",
    "# Use your bearer token here\n",
    "client = Twarc2(bearer_token=bearer_token)\n",
    "\n",
    "tweets = []\n",
    "\n",
    "def rehydrate(ids: list):\n",
    "    # List of Tweet IDs you want to lookup\n",
    "    tweet_ids = ids\n",
    "    # The tweet_lookup function from twarc \n",
    "    lookup = client.tweet_lookup(tweet_ids=tweet_ids)\n",
    "    for page in lookup:\n",
    "        # The Twitter API v2 returns the Tweet information and the user, media etc.  separately\n",
    "        # so we use expansions.flatten to get all the information in a single JSON\n",
    "        result = expansions.flatten(page)\n",
    "        for tweet in result:\n",
    "            tweets.append(tweet)"
   ]
  },
  {
   "cell_type": "markdown",
   "id": "12e97db8",
   "metadata": {},
   "source": [
    "Running the function for the 1000 tweet IDs takes around 30 seconds, since twarc sends a GET request for 100 tweet IDs every 3 seconds. More on twitter rate limits [here](https://developer.twitter.com/en/docs/twitter-api/rate-limits)."
   ]
  },
  {
   "cell_type": "code",
   "execution_count": 7,
   "id": "cb7a5e0e",
   "metadata": {},
   "outputs": [],
   "source": [
    "rehydrate(tweet_ids)"
   ]
  },
  {
   "cell_type": "markdown",
   "id": "3b0d3874",
   "metadata": {},
   "source": [
    "To see the information returned for each tweet ID, we can check the first item in `tweets` list:"
   ]
  },
  {
   "cell_type": "code",
   "execution_count": 8,
   "id": "7cecb157",
   "metadata": {
    "scrolled": true
   },
   "outputs": [
    {
     "data": {
      "text/plain": [
       "{'possibly_sensitive': False,\n",
       " 'referenced_tweets': [{'type': 'replied_to',\n",
       "   'id': '1367480542002876420',\n",
       "   'possibly_sensitive': False,\n",
       "   'text': '1- TBMM ‘ne dün itibari ile gelen fezlekelerden birinin de bana ait olduğunu öğrenmiş bulunmaktayım.\\nHiç vakit kaybedilmeden ve bekletilmeden dokunulmazlığımın kaldırılması ile ilgili dilekçemi bugün itibari ile TBMM başkanlığına vermiş bulunmaktayım. https://t.co/bUXK4Wygi6',\n",
       "   'edit_history_tweet_ids': ['1367480542002876420'],\n",
       "   'conversation_id': '1367480542002876420',\n",
       "   'author_id': '215618996',\n",
       "   'created_at': '2021-03-04T14:22:22.000Z',\n",
       "   'reply_settings': 'everyone',\n",
       "   'attachments': {'media_keys': ['3_1367480531148042248'], 'media': [{}]},\n",
       "   'lang': 'tr',\n",
       "   'edit_controls': {'edits_remaining': 5,\n",
       "    'is_edit_eligible': True,\n",
       "    'editable_until': '2021-03-04T14:52:22.000Z'},\n",
       "   'entities': {'urls': [{'start': 252,\n",
       "      'end': 275,\n",
       "      'url': 'https://t.co/bUXK4Wygi6',\n",
       "      'expanded_url': 'https://twitter.com/lutfikasikci/status/1367480542002876420/photo/1',\n",
       "      'display_url': 'pic.twitter.com/bUXK4Wygi6',\n",
       "      'media_key': '3_1367480531148042248'}]},\n",
       "   'public_metrics': {'retweet_count': 156,\n",
       "    'reply_count': 32,\n",
       "    'like_count': 611,\n",
       "    'quote_count': 22,\n",
       "    'impression_count': 0},\n",
       "   'author': {'description': '#MHP #Hatay Milletvekili',\n",
       "    'entities': {'description': {'hashtags': [{'start': 0,\n",
       "        'end': 4,\n",
       "        'tag': 'MHP'},\n",
       "       {'start': 5, 'end': 11, 'tag': 'Hatay'}]}},\n",
       "    'location': 'Hatay, Türkiye',\n",
       "    'id': '215618996',\n",
       "    'verified': True,\n",
       "    'name': 'Lütfi KAŞIKÇI',\n",
       "    'created_at': '2010-11-14T13:05:13.000Z',\n",
       "    'public_metrics': {'followers_count': 42340,\n",
       "     'following_count': 1596,\n",
       "     'tweet_count': 10345,\n",
       "     'listed_count': 52},\n",
       "    'username': 'lutfikasikci',\n",
       "    'profile_image_url': 'https://pbs.twimg.com/profile_images/1588460082618146822/-9RXkATT_normal.jpg',\n",
       "    'protected': False,\n",
       "    'pinned_tweet_id': '1534582560315015168'}}],\n",
       " 'text': '2-2010 yılında Dörtyol ilçemizde 4 polis memurunun şehit edilmesi üzerine yaşanan olaylardan Fettullahçı terör örgütünün yargı ve emniyetteki uzantıları marifetiyle sorumlu tutulup hakkımda soruşturma açıldı. https://t.co/4GmoDKccu2',\n",
       " 'id': '1367480557412769793',\n",
       " 'edit_history_tweet_ids': ['1367480557412769793'],\n",
       " 'conversation_id': '1367480542002876420',\n",
       " 'in_reply_to_user_id': '215618996',\n",
       " 'author_id': '215618996',\n",
       " 'created_at': '2021-03-04T14:22:26.000Z',\n",
       " 'reply_settings': 'everyone',\n",
       " 'attachments': {'media_keys': ['3_1367480546566299653'],\n",
       "  'media': [{'url': 'https://pbs.twimg.com/media/EvpET9dXYAUAN2H.jpg',\n",
       "    'type': 'photo',\n",
       "    'height': 1536,\n",
       "    'media_key': '3_1367480546566299653',\n",
       "    'width': 2048}]},\n",
       " 'lang': 'tr',\n",
       " 'edit_controls': {'edits_remaining': 5,\n",
       "  'is_edit_eligible': True,\n",
       "  'editable_until': '2021-03-04T14:52:26.000Z'},\n",
       " 'entities': {'urls': [{'start': 209,\n",
       "    'end': 232,\n",
       "    'url': 'https://t.co/4GmoDKccu2',\n",
       "    'expanded_url': 'https://twitter.com/lutfikasikci/status/1367480557412769793/photo/1',\n",
       "    'display_url': 'pic.twitter.com/4GmoDKccu2',\n",
       "    'media_key': '3_1367480546566299653'}]},\n",
       " 'public_metrics': {'retweet_count': 45,\n",
       "  'reply_count': 5,\n",
       "  'like_count': 140,\n",
       "  'quote_count': 0,\n",
       "  'impression_count': 0},\n",
       " 'author': {'description': '#MHP #Hatay Milletvekili',\n",
       "  'entities': {'description': {'hashtags': [{'start': 0,\n",
       "      'end': 4,\n",
       "      'tag': 'MHP'},\n",
       "     {'start': 5, 'end': 11, 'tag': 'Hatay'}]}},\n",
       "  'location': 'Hatay, Türkiye',\n",
       "  'id': '215618996',\n",
       "  'verified': True,\n",
       "  'name': 'Lütfi KAŞIKÇI',\n",
       "  'created_at': '2010-11-14T13:05:13.000Z',\n",
       "  'public_metrics': {'followers_count': 42340,\n",
       "   'following_count': 1596,\n",
       "   'tweet_count': 10345,\n",
       "   'listed_count': 52},\n",
       "  'username': 'lutfikasikci',\n",
       "  'profile_image_url': 'https://pbs.twimg.com/profile_images/1588460082618146822/-9RXkATT_normal.jpg',\n",
       "  'protected': False,\n",
       "  'pinned_tweet_id': '1534582560315015168'},\n",
       " 'in_reply_to_user': {'description': '#MHP #Hatay Milletvekili',\n",
       "  'entities': {'description': {'hashtags': [{'start': 0,\n",
       "      'end': 4,\n",
       "      'tag': 'MHP'},\n",
       "     {'start': 5, 'end': 11, 'tag': 'Hatay'}]}},\n",
       "  'location': 'Hatay, Türkiye',\n",
       "  'id': '215618996',\n",
       "  'verified': True,\n",
       "  'name': 'Lütfi KAŞIKÇI',\n",
       "  'created_at': '2010-11-14T13:05:13.000Z',\n",
       "  'public_metrics': {'followers_count': 42340,\n",
       "   'following_count': 1596,\n",
       "   'tweet_count': 10345,\n",
       "   'listed_count': 52},\n",
       "  'username': 'lutfikasikci',\n",
       "  'profile_image_url': 'https://pbs.twimg.com/profile_images/1588460082618146822/-9RXkATT_normal.jpg',\n",
       "  'protected': False,\n",
       "  'pinned_tweet_id': '1534582560315015168'},\n",
       " '__twarc': {'url': 'https://api.twitter.com/2/tweets?expansions=author_id%2Cin_reply_to_user_id%2Creferenced_tweets.id%2Creferenced_tweets.id.author_id%2Centities.mentions.username%2Cattachments.poll_ids%2Cattachments.media_keys%2Cgeo.place_id%2Cedit_history_tweet_ids&tweet.fields=attachments%2Cauthor_id%2Ccontext_annotations%2Cconversation_id%2Ccreated_at%2Centities%2Cgeo%2Cid%2Cin_reply_to_user_id%2Clang%2Cpublic_metrics%2Ctext%2Cpossibly_sensitive%2Creferenced_tweets%2Creply_settings%2Csource%2Cwithheld%2Cedit_controls&user.fields=created_at%2Cdescription%2Centities%2Cid%2Clocation%2Cname%2Cpinned_tweet_id%2Cprofile_image_url%2Cprotected%2Cpublic_metrics%2Curl%2Cusername%2Cverified%2Cwithheld&media.fields=alt_text%2Cduration_ms%2Cheight%2Cmedia_key%2Cpreview_image_url%2Ctype%2Curl%2Cwidth%2Cpublic_metrics&poll.fields=duration_minutes%2Cend_datetime%2Cid%2Coptions%2Cvoting_status&place.fields=contained_within%2Ccountry%2Ccountry_code%2Cfull_name%2Cgeo%2Cid%2Cname%2Cplace_type&ids=1367480557412769793%2C1375139722712977414%2C1367095084571852801%2C1363355151914983424%2C1420073937552252929%2C1411280812822126595%2C1383316150390431744%2C1368668864075206660%2C1346004094440378368%2C1354145079020183553%2C1372457197066711043%2C1402687563979182080%2C1354454986013478917%2C1389248693426135042%2C1392836686288232449%2C1426905019027267584%2C1358395785356972038%2C1373989701523279875%2C1382775869085777920%2C1360480884907003906%2C1408861382674731010%2C1411051309613072386%2C1357443027653042178%2C1401608803502673922%2C1397852620669304838%2C1388598288908234755%2C1356529687527309313%2C1397841151575658496%2C1409122098069467136%2C1377310953730154498%2C1389941120814260236%2C1353385982138179585%2C1354444427356463104%2C1404711597512314880%2C1393934680056082432%2C1393557088484397056%2C1428699652581478403%2C1400111791640911872%2C1345322605134422017%2C1394734591039188996%2C1374964382296342528%2C1382027348262944772%2C1361631345924071425%2C1377667309507125252%2C1353959642850873344%2C1368888920394633216%2C1372243434489192454%2C1388028139234803713%2C1404845739734441984%2C1384915724913741829%2C1389965551464849413%2C1428085506886316042%2C1421056663465910273%2C1376803745682571265%2C1370250747208667136%2C1395684644083965953%2C1386042511207063560%2C1347865446159101952%2C1401962097605500929%2C1357217582265360384%2C1355114018013392898%2C1427674797161463808%2C1398013840453931011%2C1381307900182863874%2C1423965925389242378%2C1381899739357138945%2C1379424914445266947%2C1374298391937757186%2C1395316893024653315%2C1348917289169657856%2C1388240993829392385%2C1428338783624237056%2C1423901460929130499%2C1353265907775266817%2C1384246924920778752%2C1414248541397131268%2C1410875068205441025%2C1349712314367438853%2C1422901306503671808%2C1409176395851390977%2C1428113578373042176%2C1376847854296252416%2C1382329057900122122%2C1370262085368700930%2C1349649382451372033%2C1428023583914213384%2C1422913897061928966%2C1366106652974456836%2C1353238969069297664%2C1352759563058089984%2C1363375686036111360%2C1409515787833032711%2C1401098819132133378%2C1346889287216848896%2C1346069568796708864%2C1399292533851701252%2C1404756015615197187%2C1412339518351589377%2C1372474925576036355%2C1390668775033290755',\n",
       "  'version': '2.12.0',\n",
       "  'retrieved_at': '2023-01-11T11:28:42+00:00'}}"
      ]
     },
     "execution_count": 8,
     "metadata": {},
     "output_type": "execute_result"
    }
   ],
   "source": [
    "tweets[0]"
   ]
  },
  {
   "cell_type": "markdown",
   "id": "4340a782",
   "metadata": {},
   "source": [
    "We can also check to see how many tweets could have been rehydrated from the IDs:"
   ]
  },
  {
   "cell_type": "code",
   "execution_count": 9,
   "id": "b3f4b6b9",
   "metadata": {},
   "outputs": [
    {
     "data": {
      "text/plain": [
       "923"
      ]
     },
     "execution_count": 9,
     "metadata": {},
     "output_type": "execute_result"
    }
   ],
   "source": [
    "len(tweets)"
   ]
  },
  {
   "cell_type": "markdown",
   "id": "94324fbb",
   "metadata": {},
   "source": [
    "As you can see, only 92 percent of tweets could have been rehydrated; others are not available anymore."
   ]
  },
  {
   "cell_type": "code",
   "execution_count": 10,
   "id": "7060ab65",
   "metadata": {},
   "outputs": [
    {
     "data": {
      "text/plain": [
       "{'possibly_sensitive': False,\n",
       " 'referenced_tweets': [{'type': 'replied_to',\n",
       "   'id': '1367480542002876420',\n",
       "   'possibly_sensitive': False,\n",
       "   'text': '1- TBMM ‘ne dün itibari ile gelen fezlekelerden birinin de bana ait olduğunu öğrenmiş bulunmaktayım.\\nHiç vakit kaybedilmeden ve bekletilmeden dokunulmazlığımın kaldırılması ile ilgili dilekçemi bugün itibari ile TBMM başkanlığına vermiş bulunmaktayım. https://t.co/bUXK4Wygi6',\n",
       "   'edit_history_tweet_ids': ['1367480542002876420'],\n",
       "   'conversation_id': '1367480542002876420',\n",
       "   'author_id': '215618996',\n",
       "   'created_at': '2021-03-04T14:22:22.000Z',\n",
       "   'reply_settings': 'everyone',\n",
       "   'attachments': {'media_keys': ['3_1367480531148042248'], 'media': [{}]},\n",
       "   'lang': 'tr',\n",
       "   'edit_controls': {'edits_remaining': 5,\n",
       "    'is_edit_eligible': True,\n",
       "    'editable_until': '2021-03-04T14:52:22.000Z'},\n",
       "   'entities': {'urls': [{'start': 252,\n",
       "      'end': 275,\n",
       "      'url': 'https://t.co/bUXK4Wygi6',\n",
       "      'expanded_url': 'https://twitter.com/lutfikasikci/status/1367480542002876420/photo/1',\n",
       "      'display_url': 'pic.twitter.com/bUXK4Wygi6',\n",
       "      'media_key': '3_1367480531148042248'}]},\n",
       "   'public_metrics': {'retweet_count': 156,\n",
       "    'reply_count': 32,\n",
       "    'like_count': 611,\n",
       "    'quote_count': 22,\n",
       "    'impression_count': 0},\n",
       "   'author': {'description': '#MHP #Hatay Milletvekili',\n",
       "    'entities': {'description': {'hashtags': [{'start': 0,\n",
       "        'end': 4,\n",
       "        'tag': 'MHP'},\n",
       "       {'start': 5, 'end': 11, 'tag': 'Hatay'}]}},\n",
       "    'location': 'Hatay, Türkiye',\n",
       "    'id': '215618996',\n",
       "    'verified': True,\n",
       "    'name': 'Lütfi KAŞIKÇI',\n",
       "    'created_at': '2010-11-14T13:05:13.000Z',\n",
       "    'public_metrics': {'followers_count': 42340,\n",
       "     'following_count': 1596,\n",
       "     'tweet_count': 10345,\n",
       "     'listed_count': 52},\n",
       "    'username': 'lutfikasikci',\n",
       "    'profile_image_url': 'https://pbs.twimg.com/profile_images/1588460082618146822/-9RXkATT_normal.jpg',\n",
       "    'protected': False,\n",
       "    'pinned_tweet_id': '1534582560315015168'}}],\n",
       " 'text': '2-2010 yılında Dörtyol ilçemizde 4 polis memurunun şehit edilmesi üzerine yaşanan olaylardan Fettullahçı terör örgütünün yargı ve emniyetteki uzantıları marifetiyle sorumlu tutulup hakkımda soruşturma açıldı. https://t.co/4GmoDKccu2',\n",
       " 'id': '1367480557412769793',\n",
       " 'edit_history_tweet_ids': ['1367480557412769793'],\n",
       " 'conversation_id': '1367480542002876420',\n",
       " 'in_reply_to_user_id': '215618996',\n",
       " 'author_id': '215618996',\n",
       " 'created_at': '2021-03-04T14:22:26.000Z',\n",
       " 'reply_settings': 'everyone',\n",
       " 'attachments': {'media_keys': ['3_1367480546566299653'],\n",
       "  'media': [{'url': 'https://pbs.twimg.com/media/EvpET9dXYAUAN2H.jpg',\n",
       "    'type': 'photo',\n",
       "    'height': 1536,\n",
       "    'media_key': '3_1367480546566299653',\n",
       "    'width': 2048}]},\n",
       " 'lang': 'tr',\n",
       " 'edit_controls': {'edits_remaining': 5,\n",
       "  'is_edit_eligible': True,\n",
       "  'editable_until': '2021-03-04T14:52:26.000Z'},\n",
       " 'entities': {'urls': [{'start': 209,\n",
       "    'end': 232,\n",
       "    'url': 'https://t.co/4GmoDKccu2',\n",
       "    'expanded_url': 'https://twitter.com/lutfikasikci/status/1367480557412769793/photo/1',\n",
       "    'display_url': 'pic.twitter.com/4GmoDKccu2',\n",
       "    'media_key': '3_1367480546566299653'}]},\n",
       " 'public_metrics': {'retweet_count': 45,\n",
       "  'reply_count': 5,\n",
       "  'like_count': 140,\n",
       "  'quote_count': 0,\n",
       "  'impression_count': 0},\n",
       " 'author': {'description': '#MHP #Hatay Milletvekili',\n",
       "  'entities': {'description': {'hashtags': [{'start': 0,\n",
       "      'end': 4,\n",
       "      'tag': 'MHP'},\n",
       "     {'start': 5, 'end': 11, 'tag': 'Hatay'}]}},\n",
       "  'location': 'Hatay, Türkiye',\n",
       "  'id': '215618996',\n",
       "  'verified': True,\n",
       "  'name': 'Lütfi KAŞIKÇI',\n",
       "  'created_at': '2010-11-14T13:05:13.000Z',\n",
       "  'public_metrics': {'followers_count': 42340,\n",
       "   'following_count': 1596,\n",
       "   'tweet_count': 10345,\n",
       "   'listed_count': 52},\n",
       "  'username': 'lutfikasikci',\n",
       "  'profile_image_url': 'https://pbs.twimg.com/profile_images/1588460082618146822/-9RXkATT_normal.jpg',\n",
       "  'protected': False,\n",
       "  'pinned_tweet_id': '1534582560315015168'},\n",
       " 'in_reply_to_user': {'description': '#MHP #Hatay Milletvekili',\n",
       "  'entities': {'description': {'hashtags': [{'start': 0,\n",
       "      'end': 4,\n",
       "      'tag': 'MHP'},\n",
       "     {'start': 5, 'end': 11, 'tag': 'Hatay'}]}},\n",
       "  'location': 'Hatay, Türkiye',\n",
       "  'id': '215618996',\n",
       "  'verified': True,\n",
       "  'name': 'Lütfi KAŞIKÇI',\n",
       "  'created_at': '2010-11-14T13:05:13.000Z',\n",
       "  'public_metrics': {'followers_count': 42340,\n",
       "   'following_count': 1596,\n",
       "   'tweet_count': 10345,\n",
       "   'listed_count': 52},\n",
       "  'username': 'lutfikasikci',\n",
       "  'profile_image_url': 'https://pbs.twimg.com/profile_images/1588460082618146822/-9RXkATT_normal.jpg',\n",
       "  'protected': False,\n",
       "  'pinned_tweet_id': '1534582560315015168'},\n",
       " '__twarc': {'url': 'https://api.twitter.com/2/tweets?expansions=author_id%2Cin_reply_to_user_id%2Creferenced_tweets.id%2Creferenced_tweets.id.author_id%2Centities.mentions.username%2Cattachments.poll_ids%2Cattachments.media_keys%2Cgeo.place_id%2Cedit_history_tweet_ids&tweet.fields=attachments%2Cauthor_id%2Ccontext_annotations%2Cconversation_id%2Ccreated_at%2Centities%2Cgeo%2Cid%2Cin_reply_to_user_id%2Clang%2Cpublic_metrics%2Ctext%2Cpossibly_sensitive%2Creferenced_tweets%2Creply_settings%2Csource%2Cwithheld%2Cedit_controls&user.fields=created_at%2Cdescription%2Centities%2Cid%2Clocation%2Cname%2Cpinned_tweet_id%2Cprofile_image_url%2Cprotected%2Cpublic_metrics%2Curl%2Cusername%2Cverified%2Cwithheld&media.fields=alt_text%2Cduration_ms%2Cheight%2Cmedia_key%2Cpreview_image_url%2Ctype%2Curl%2Cwidth%2Cpublic_metrics&poll.fields=duration_minutes%2Cend_datetime%2Cid%2Coptions%2Cvoting_status&place.fields=contained_within%2Ccountry%2Ccountry_code%2Cfull_name%2Cgeo%2Cid%2Cname%2Cplace_type&ids=1367480557412769793%2C1375139722712977414%2C1367095084571852801%2C1363355151914983424%2C1420073937552252929%2C1411280812822126595%2C1383316150390431744%2C1368668864075206660%2C1346004094440378368%2C1354145079020183553%2C1372457197066711043%2C1402687563979182080%2C1354454986013478917%2C1389248693426135042%2C1392836686288232449%2C1426905019027267584%2C1358395785356972038%2C1373989701523279875%2C1382775869085777920%2C1360480884907003906%2C1408861382674731010%2C1411051309613072386%2C1357443027653042178%2C1401608803502673922%2C1397852620669304838%2C1388598288908234755%2C1356529687527309313%2C1397841151575658496%2C1409122098069467136%2C1377310953730154498%2C1389941120814260236%2C1353385982138179585%2C1354444427356463104%2C1404711597512314880%2C1393934680056082432%2C1393557088484397056%2C1428699652581478403%2C1400111791640911872%2C1345322605134422017%2C1394734591039188996%2C1374964382296342528%2C1382027348262944772%2C1361631345924071425%2C1377667309507125252%2C1353959642850873344%2C1368888920394633216%2C1372243434489192454%2C1388028139234803713%2C1404845739734441984%2C1384915724913741829%2C1389965551464849413%2C1428085506886316042%2C1421056663465910273%2C1376803745682571265%2C1370250747208667136%2C1395684644083965953%2C1386042511207063560%2C1347865446159101952%2C1401962097605500929%2C1357217582265360384%2C1355114018013392898%2C1427674797161463808%2C1398013840453931011%2C1381307900182863874%2C1423965925389242378%2C1381899739357138945%2C1379424914445266947%2C1374298391937757186%2C1395316893024653315%2C1348917289169657856%2C1388240993829392385%2C1428338783624237056%2C1423901460929130499%2C1353265907775266817%2C1384246924920778752%2C1414248541397131268%2C1410875068205441025%2C1349712314367438853%2C1422901306503671808%2C1409176395851390977%2C1428113578373042176%2C1376847854296252416%2C1382329057900122122%2C1370262085368700930%2C1349649382451372033%2C1428023583914213384%2C1422913897061928966%2C1366106652974456836%2C1353238969069297664%2C1352759563058089984%2C1363375686036111360%2C1409515787833032711%2C1401098819132133378%2C1346889287216848896%2C1346069568796708864%2C1399292533851701252%2C1404756015615197187%2C1412339518351589377%2C1372474925576036355%2C1390668775033290755',\n",
       "  'version': '2.12.0',\n",
       "  'retrieved_at': '2023-01-11T11:28:42+00:00'}}"
      ]
     },
     "execution_count": 10,
     "metadata": {},
     "output_type": "execute_result"
    }
   ],
   "source": [
    "tweets[0]"
   ]
  },
  {
   "cell_type": "markdown",
   "id": "92dec031",
   "metadata": {},
   "source": [
    "We can show some of the useful information of tweets in a dataframe:"
   ]
  },
  {
   "cell_type": "code",
   "execution_count": 11,
   "id": "1b392539",
   "metadata": {},
   "outputs": [
    {
     "data": {
      "text/html": [
       "<div>\n",
       "<style scoped>\n",
       "    .dataframe tbody tr th:only-of-type {\n",
       "        vertical-align: middle;\n",
       "    }\n",
       "\n",
       "    .dataframe tbody tr th {\n",
       "        vertical-align: top;\n",
       "    }\n",
       "\n",
       "    .dataframe thead th {\n",
       "        text-align: right;\n",
       "    }\n",
       "</style>\n",
       "<table border=\"1\" class=\"dataframe\">\n",
       "  <thead>\n",
       "    <tr style=\"text-align: right;\">\n",
       "      <th></th>\n",
       "      <th>tweet id</th>\n",
       "      <th>author id</th>\n",
       "      <th>created at</th>\n",
       "      <th>text</th>\n",
       "      <th>reply count</th>\n",
       "      <th>like count</th>\n",
       "    </tr>\n",
       "  </thead>\n",
       "  <tbody>\n",
       "    <tr>\n",
       "      <th>0</th>\n",
       "      <td>1367480557412769793</td>\n",
       "      <td>215618996</td>\n",
       "      <td>2021-03-04T14:22:26.000Z</td>\n",
       "      <td>2-2010 yılında Dörtyol ilçemizde 4 polis memur...</td>\n",
       "      <td>5</td>\n",
       "      <td>140</td>\n",
       "    </tr>\n",
       "    <tr>\n",
       "      <th>1</th>\n",
       "      <td>1375139722712977414</td>\n",
       "      <td>228446708</td>\n",
       "      <td>2021-03-25T17:37:13.000Z</td>\n",
       "      <td>AK Parti MKYK Üyemiz, Genel Merkez Teşkilat Ba...</td>\n",
       "      <td>20</td>\n",
       "      <td>733</td>\n",
       "    </tr>\n",
       "    <tr>\n",
       "      <th>2</th>\n",
       "      <td>1367095084571852801</td>\n",
       "      <td>4472008409</td>\n",
       "      <td>2021-03-03T12:50:42.000Z</td>\n",
       "      <td>İP’in Başkanı, yalanı bırak, tezviratı geç; aç...</td>\n",
       "      <td>45</td>\n",
       "      <td>1234</td>\n",
       "    </tr>\n",
       "    <tr>\n",
       "      <th>3</th>\n",
       "      <td>1363355151914983424</td>\n",
       "      <td>601912159</td>\n",
       "      <td>2021-07-27T17:29:45.000Z</td>\n",
       "      <td>#IBANGönderKurz https://t.co/WWD9n5zBS0</td>\n",
       "      <td>17</td>\n",
       "      <td>422</td>\n",
       "    </tr>\n",
       "    <tr>\n",
       "      <th>4</th>\n",
       "      <td>1420073937552252929</td>\n",
       "      <td>2161571388</td>\n",
       "      <td>2021-04-17T07:07:25.000Z</td>\n",
       "      <td>RT @AKKADINGM: 81 İlde \"Kadın Emeği Türkiye'ni...</td>\n",
       "      <td>0</td>\n",
       "      <td>0</td>\n",
       "    </tr>\n",
       "  </tbody>\n",
       "</table>\n",
       "</div>"
      ],
      "text/plain": [
       "              tweet id   author id                created at  \\\n",
       "0  1367480557412769793   215618996  2021-03-04T14:22:26.000Z   \n",
       "1  1375139722712977414   228446708  2021-03-25T17:37:13.000Z   \n",
       "2  1367095084571852801  4472008409  2021-03-03T12:50:42.000Z   \n",
       "3  1363355151914983424   601912159  2021-07-27T17:29:45.000Z   \n",
       "4  1420073937552252929  2161571388  2021-04-17T07:07:25.000Z   \n",
       "\n",
       "                                                text reply count like count  \n",
       "0  2-2010 yılında Dörtyol ilçemizde 4 polis memur...           5        140  \n",
       "1  AK Parti MKYK Üyemiz, Genel Merkez Teşkilat Ba...          20        733  \n",
       "2  İP’in Başkanı, yalanı bırak, tezviratı geç; aç...          45       1234  \n",
       "3            #IBANGönderKurz https://t.co/WWD9n5zBS0          17        422  \n",
       "4  RT @AKKADINGM: 81 İlde \"Kadın Emeği Türkiye'ni...           0          0  "
      ]
     },
     "execution_count": 11,
     "metadata": {},
     "output_type": "execute_result"
    }
   ],
   "source": [
    "author_id = []\n",
    "created_at = []\n",
    "text = []\n",
    "reply_count = []\n",
    "like_count = []\n",
    "\n",
    "for i in tweets:\n",
    "    \n",
    "    author_id.append(i['author_id'])\n",
    "    created_at.append(i['created_at'])\n",
    "    text.append(i['text'])\n",
    "    reply_count.append(i['public_metrics']['reply_count'])\n",
    "    like_count.append(i['public_metrics']['like_count'])\n",
    "    \n",
    "tweets_df = pd.DataFrame(data=[tweet_ids, author_id, created_at, text, reply_count, like_count]).transpose()\n",
    "\n",
    "tweets_df.columns = [\"tweet id\",\"author id\", \"created at\", \"text\", \"reply count\",\"like count\"]\n",
    "\n",
    "tweets_df.head()"
   ]
  },
  {
   "cell_type": "markdown",
   "id": "0ffc42e5",
   "metadata": {},
   "source": [
    "### 3.2.5 Getting users info\n",
    "\n",
    "Consider the `turkey` dataframe that we created from the `2021.csv` data in the previous section. We want to get the profile information of a fraction of the politicians whose tweets are in that dataframe. First, we get the unique politicians in the data:"
   ]
  },
  {
   "cell_type": "code",
   "execution_count": 12,
   "id": "ed6741b3",
   "metadata": {},
   "outputs": [],
   "source": [
    "# Getting all IDs in the dataframe \n",
    "author_ids = turkey['author_id']\n",
    "\n",
    "# Getting unique IDs\n",
    "unique_ids = list(author_ids.unique())"
   ]
  },
  {
   "cell_type": "markdown",
   "id": "f3d144e5",
   "metadata": {},
   "source": [
    "With the following `get_user()` [function](https://github.com/twitterdev/getting-started-with-the-twitter-api-v2-for-academic-research/blob/main/modules/6a-labs-code-academic-python.md), we can get the users' information based on their IDs (It's a bit like tweet rehydration, but we use users' IDs this time), and save them in the `users_list` list."
   ]
  },
  {
   "cell_type": "code",
   "execution_count": 13,
   "id": "ece47f04",
   "metadata": {},
   "outputs": [],
   "source": [
    "from twarc import Twarc2, expansions\n",
    "import json\n",
    "\n",
    "users_list = []\n",
    "\n",
    "# Replace your bearer token below\n",
    "client = Twarc2(bearer_token=bearer_token)\n",
    "\n",
    "def get_user(ids):\n",
    "    # List of user IDs to lookup, add the ones you would like to lookup\n",
    "    users = ids\n",
    "    # The user_lookup function gets the hydrated user information for specified users\n",
    "    lookup = client.user_lookup(users=users)\n",
    "    for page in lookup:\n",
    "        result = expansions.flatten(page)\n",
    "        for user in result:\n",
    "            # Here we are printing the full Tweet object JSON to the console\n",
    "            users_list.append(user)"
   ]
  },
  {
   "cell_type": "code",
   "execution_count": 14,
   "id": "62673100",
   "metadata": {},
   "outputs": [],
   "source": [
    "import random\n",
    "\n",
    "some_ids = random.sample(unique_ids, 50)\n",
    "\n",
    "get_user(some_ids)"
   ]
  },
  {
   "cell_type": "markdown",
   "id": "0a94e555",
   "metadata": {},
   "source": [
    "Now we can make a dataframe and put some of this useful information of users' in it:"
   ]
  },
  {
   "cell_type": "code",
   "execution_count": 15,
   "id": "44684083",
   "metadata": {},
   "outputs": [
    {
     "data": {
      "text/html": [
       "<div>\n",
       "<style scoped>\n",
       "    .dataframe tbody tr th:only-of-type {\n",
       "        vertical-align: middle;\n",
       "    }\n",
       "\n",
       "    .dataframe tbody tr th {\n",
       "        vertical-align: top;\n",
       "    }\n",
       "\n",
       "    .dataframe thead th {\n",
       "        text-align: right;\n",
       "    }\n",
       "</style>\n",
       "<table border=\"1\" class=\"dataframe\">\n",
       "  <thead>\n",
       "    <tr style=\"text-align: right;\">\n",
       "      <th></th>\n",
       "      <th>user id</th>\n",
       "      <th>user name</th>\n",
       "      <th>screen name</th>\n",
       "      <th>profile picture</th>\n",
       "      <th>followers</th>\n",
       "      <th>followings</th>\n",
       "    </tr>\n",
       "  </thead>\n",
       "  <tbody>\n",
       "    <tr>\n",
       "      <th>0</th>\n",
       "      <td>564689563</td>\n",
       "      <td>DursunATAS38</td>\n",
       "      <td>Dursun ATAŞ</td>\n",
       "      <td>https://pbs.twimg.com/profile_images/127109640...</td>\n",
       "      <td>40815</td>\n",
       "      <td>773</td>\n",
       "    </tr>\n",
       "    <tr>\n",
       "      <th>1</th>\n",
       "      <td>145254257</td>\n",
       "      <td>ABabuscu</td>\n",
       "      <td>Aziz Babuşcu</td>\n",
       "      <td>https://pbs.twimg.com/profile_images/564473142...</td>\n",
       "      <td>225492</td>\n",
       "      <td>390</td>\n",
       "    </tr>\n",
       "    <tr>\n",
       "      <th>2</th>\n",
       "      <td>999759826518528000</td>\n",
       "      <td>mugokgoz32</td>\n",
       "      <td>Mehmet Uğur Gökgöz</td>\n",
       "      <td>https://pbs.twimg.com/profile_images/134828553...</td>\n",
       "      <td>19653</td>\n",
       "      <td>428</td>\n",
       "    </tr>\n",
       "    <tr>\n",
       "      <th>3</th>\n",
       "      <td>3710390297</td>\n",
       "      <td>yusufbeyazit60</td>\n",
       "      <td>Av. Yusuf Beyazıt</td>\n",
       "      <td>https://pbs.twimg.com/profile_images/148886252...</td>\n",
       "      <td>26924</td>\n",
       "      <td>334</td>\n",
       "    </tr>\n",
       "    <tr>\n",
       "      <th>4</th>\n",
       "      <td>281656898</td>\n",
       "      <td>Belmasatir</td>\n",
       "      <td>Av.M. Belma Satır 🇹🇷</td>\n",
       "      <td>https://pbs.twimg.com/profile_images/138699180...</td>\n",
       "      <td>147758</td>\n",
       "      <td>1414</td>\n",
       "    </tr>\n",
       "  </tbody>\n",
       "</table>\n",
       "</div>"
      ],
      "text/plain": [
       "              user id       user name           screen name  \\\n",
       "0           564689563    DursunATAS38           Dursun ATAŞ   \n",
       "1           145254257        ABabuscu          Aziz Babuşcu   \n",
       "2  999759826518528000      mugokgoz32    Mehmet Uğur Gökgöz   \n",
       "3          3710390297  yusufbeyazit60     Av. Yusuf Beyazıt   \n",
       "4           281656898      Belmasatir  Av.M. Belma Satır 🇹🇷   \n",
       "\n",
       "                                     profile picture followers followings  \n",
       "0  https://pbs.twimg.com/profile_images/127109640...     40815        773  \n",
       "1  https://pbs.twimg.com/profile_images/564473142...    225492        390  \n",
       "2  https://pbs.twimg.com/profile_images/134828553...     19653        428  \n",
       "3  https://pbs.twimg.com/profile_images/148886252...     26924        334  \n",
       "4  https://pbs.twimg.com/profile_images/138699180...    147758       1414  "
      ]
     },
     "execution_count": 15,
     "metadata": {},
     "output_type": "execute_result"
    }
   ],
   "source": [
    "username = []\n",
    "screen_name = []\n",
    "profile_pic = []\n",
    "followers = []\n",
    "followings = []\n",
    "\n",
    "for i in users_list:\n",
    "    \n",
    "    username.append(i['username'])\n",
    "    screen_name.append(i['name'])\n",
    "    profile_pic.append(i['profile_image_url'])\n",
    "    followers.append(i['public_metrics']['followers_count'])\n",
    "    followings.append(i['public_metrics']['following_count'])\n",
    "    \n",
    "users_df = pd.DataFrame(data=[some_ids, username, screen_name, profile_pic, followers, followings]).transpose()\n",
    "\n",
    "users_df.columns = [\"user id\", \"user name\",\"screen name\", \"profile picture\", \"followers\",\"followings\"]\n",
    "\n",
    "users_df.head()"
   ]
  },
  {
   "cell_type": "markdown",
   "id": "ecaa8a5c",
   "metadata": {},
   "source": [
    "### 3.2.6 Keyword search limited to a time window\n",
    "\n",
    "We can use the the `search_all()` function of twarc to search for tweets in any time window of our choice. The following `search()` [function](https://github.com/twitterdev/getting-started-with-the-twitter-api-v2-for-academic-research/blob/main/modules/6a-labs-code-academic-python.md) looks for any tweet containing the query it takes, limited to a beginning and end time, and saves them into the `tweets` list.\n",
    "\n",
    "\n",
    "You can find more information on writing search queries [here](https://github.com/twitterdev/getting-started-with-the-twitter-api-v2-for-academic-research/blob/main/modules/5-how-to-write-search-queries.md)."
   ]
  },
  {
   "cell_type": "code",
   "execution_count": 16,
   "id": "b925be84",
   "metadata": {},
   "outputs": [],
   "source": [
    "from twarc import Twarc2, expansions\n",
    "import datetime\n",
    "import json\n",
    "\n",
    "\n",
    "# Replace your bearer token below\n",
    "client = Twarc2(bearer_token=bearer_token)\n",
    "\n",
    "def search(beginning, end, q):\n",
    "    \n",
    "    # Specify the start time in UTC for the time period you want Tweets from\n",
    "    start_time = beginning\n",
    "\n",
    "    # Specify the end time in UTC for the time period you want Tweets from\n",
    "    end_time = end\n",
    "\n",
    "    # This is where we specify our query\n",
    "    query = q\n",
    "\n",
    "    # The search_all method call the full-archive search endpoint to get Tweets based on the query, start and end times\n",
    "    search_results = client.search_all(query=query, start_time=beginning, end_time=end, max_results=100)\n",
    "\n",
    "    # Twarc returns all Tweets for the criteria set above, so we page through the results\n",
    "    for page in search_results:\n",
    "        # The Twitter API v2 returns the Tweet information and the user, media etc.  separately\n",
    "        # so we use expansions.flatten to get all the information in a single JSON\n",
    "        result = expansions.flatten(page)\n",
    "        for tweet in result:\n",
    "            # Here we are printing the full Tweet object JSON to the console\n",
    "            tweets.append(tweet)"
   ]
  },
  {
   "cell_type": "code",
   "execution_count": 17,
   "id": "516c4891",
   "metadata": {},
   "outputs": [],
   "source": [
    "tweets = []\n",
    "\n",
    "# Beginning time for the time window\n",
    "beginning = datetime.datetime(2023, 1, 5, 0, 0, 0, 0, datetime.timezone.utc)\n",
    "\n",
    "# End time for the time window\n",
    "end = datetime.datetime(2023, 1, 8, 0, 0, 0, 0, datetime.timezone.utc)\n",
    "\n",
    "# The query for searching\n",
    "q = \"ComputationalSocialScience\"\n",
    "\n",
    "search (beginning, end, q)"
   ]
  },
  {
   "cell_type": "markdown",
   "id": "be4fc6f0",
   "metadata": {},
   "source": [
    "You can take a look at the number of retrieved tweets and the first tweet like this:"
   ]
  },
  {
   "cell_type": "code",
   "execution_count": 18,
   "id": "7af37f07",
   "metadata": {},
   "outputs": [
    {
     "data": {
      "text/plain": [
       "15"
      ]
     },
     "execution_count": 18,
     "metadata": {},
     "output_type": "execute_result"
    }
   ],
   "source": [
    "# Number of retrieved tweets\n",
    "len(tweets)"
   ]
  },
  {
   "cell_type": "code",
   "execution_count": 19,
   "id": "12998500",
   "metadata": {},
   "outputs": [
    {
     "data": {
      "text/plain": [
       "dict_keys(['created_at', 'conversation_id', 'edit_controls', 'edit_history_tweet_ids', 'text', 'lang', 'entities', 'referenced_tweets', 'id', 'possibly_sensitive', 'public_metrics', 'author_id', 'reply_settings', 'author', '__twarc'])"
      ]
     },
     "execution_count": 19,
     "metadata": {},
     "output_type": "execute_result"
    }
   ],
   "source": [
    "# The information available for each tweet\n",
    "tweets[0].keys()"
   ]
  },
  {
   "cell_type": "code",
   "execution_count": 20,
   "id": "efd3f98c",
   "metadata": {
    "scrolled": true
   },
   "outputs": [
    {
     "data": {
      "text/plain": [
       "{'created_at': '2023-01-06T21:18:39.000Z',\n",
       " 'conversation_id': '1611472338427744256',\n",
       " 'edit_controls': {'edits_remaining': 5,\n",
       "  'is_edit_eligible': False,\n",
       "  'editable_until': '2023-01-06T21:48:39.000Z'},\n",
       " 'edit_history_tweet_ids': ['1611472338427744256'],\n",
       " 'text': \"RT @SzassTam: Hesaplamalı sosyal bilimler (#ComputationalSocialScience) Türkiye'de büyüyen bir alan. \\n\\n@MerihAngin @BalcSoy @uzay00 @Gundog…\",\n",
       " 'lang': 'tr',\n",
       " 'entities': {'mentions': [{'start': 3,\n",
       "    'end': 12,\n",
       "    'username': 'SzassTam',\n",
       "    'id': '35683594',\n",
       "    'verified': False,\n",
       "    'entities': {'url': {'urls': [{'start': 0,\n",
       "        'end': 23,\n",
       "        'url': 'https://t.co/8g443GTFql',\n",
       "        'expanded_url': 'http://www.staff.science.uu.nl/~salah006/',\n",
       "        'display_url': 'staff.science.uu.nl/~salah006/'}]},\n",
       "     'description': {'mentions': [{'start': 38,\n",
       "        'end': 45,\n",
       "        'username': 'uubeta'},\n",
       "       {'start': 46, 'end': 60, 'username': 'Bogazici_CmpE'},\n",
       "       {'start': 61, 'end': 77, 'username': 'datapopalliance'}]}},\n",
       "    'public_metrics': {'followers_count': 3513,\n",
       "     'following_count': 1867,\n",
       "     'tweet_count': 2966,\n",
       "     'listed_count': 26},\n",
       "    'description': 'Prof. Social and Affective Computing. @uubeta @Bogazici_CmpE\\n@datapopalliance. Tweets in Turkish & English.',\n",
       "    'pinned_tweet_id': '1478406280926707719',\n",
       "    'url': 'https://t.co/8g443GTFql',\n",
       "    'profile_image_url': 'https://pbs.twimg.com/profile_images/1460341583950323718/ZtSnL_NS_normal.jpg',\n",
       "    'protected': False,\n",
       "    'name': 'Albert Ali Salah',\n",
       "    'created_at': '2009-04-27T05:52:47.000Z'},\n",
       "   {'start': 103,\n",
       "    'end': 114,\n",
       "    'username': 'MerihAngin',\n",
       "    'id': '1324313312679571456',\n",
       "    'verified': False,\n",
       "    'entities': {'url': {'urls': [{'start': 0,\n",
       "        'end': 23,\n",
       "        'url': 'https://t.co/rJjSUgrPxA',\n",
       "        'expanded_url': 'http://merihangin.com',\n",
       "        'display_url': 'merihangin.com'}]},\n",
       "     'description': {'mentions': [{'start': 15,\n",
       "        'end': 29,\n",
       "        'username': 'kocuniversity'},\n",
       "       {'start': 36, 'end': 44, 'username': 'ma_cssl'},\n",
       "       {'start': 58, 'end': 74, 'username': 'BlavatnikSchool'},\n",
       "       {'start': 77, 'end': 89, 'username': 'HarvardWCFI'},\n",
       "       {'start': 96, 'end': 112, 'username': 'WcfiaCiiCluster'},\n",
       "       {'start': 118, 'end': 124, 'username': 'IHEID'},\n",
       "       {'start': 131, 'end': 147, 'username': 'BilkentEconDept'},\n",
       "       {'start': 150, 'end': 160, 'username': 'METU_ODTU'}]}},\n",
       "    'public_metrics': {'followers_count': 553,\n",
       "     'following_count': 570,\n",
       "     'tweet_count': 225,\n",
       "     'listed_count': 1},\n",
       "    'description': 'AP of IR & CSS @kocuniversity, Dir. @ma_cssl, fmr postdoc @BlavatnikSchool & @HarvardWCFI, Affl @WcfiaCiiCluster, PhD @IHEID, alum @BilkentEconDept & @METU_ODTU',\n",
       "    'location': 'Istanbul, Turkey',\n",
       "    'pinned_tweet_id': '1609506416565391365',\n",
       "    'url': 'https://t.co/rJjSUgrPxA',\n",
       "    'profile_image_url': 'https://pbs.twimg.com/profile_images/1324606841075191808/PT1y73Lv_normal.jpg',\n",
       "    'protected': False,\n",
       "    'name': 'Merih Angin',\n",
       "    'created_at': '2020-11-05T11:31:35.000Z'},\n",
       "   {'start': 115,\n",
       "    'end': 123,\n",
       "    'username': 'BalcSoy',\n",
       "    'id': '1173993379698552832',\n",
       "    'verified': False,\n",
       "    'public_metrics': {'followers_count': 90,\n",
       "     'following_count': 579,\n",
       "     'tweet_count': 127,\n",
       "     'listed_count': 1},\n",
       "    'description': 'Science, Cultural Heritage, Opera, Wine and no BS',\n",
       "    'profile_image_url': 'https://pbs.twimg.com/profile_images/1173996771393069056/Wqykyzqt_normal.png',\n",
       "    'protected': False,\n",
       "    'name': 'Selim Balcısoy',\n",
       "    'created_at': '2019-09-17T16:13:43.000Z'},\n",
       "   {'start': 124,\n",
       "    'end': 131,\n",
       "    'username': 'uzay00',\n",
       "    'id': '14519511',\n",
       "    'verified': False,\n",
       "    'entities': {'url': {'urls': [{'start': 0,\n",
       "        'end': 23,\n",
       "        'url': 'https://t.co/GvHfUn10mh',\n",
       "        'expanded_url': 'https://uzay00.github.io/kahve/',\n",
       "        'display_url': 'uzay00.github.io/kahve/'}]}},\n",
       "    'public_metrics': {'followers_count': 397,\n",
       "     'following_count': 700,\n",
       "     'tweet_count': 832,\n",
       "     'listed_count': 8},\n",
       "    'description': 'Interested in Artificial Intelligence, Agent Based Modeling, Complex Systems and Networks',\n",
       "    'url': 'https://t.co/GvHfUn10mh',\n",
       "    'profile_image_url': 'https://pbs.twimg.com/profile_images/753316158330265600/Ue6f-ds6_normal.jpg',\n",
       "    'protected': False,\n",
       "    'name': 'uzay00',\n",
       "    'created_at': '2008-04-24T23:33:42.000Z'}],\n",
       "  'hashtags': [{'start': 43, 'end': 70, 'tag': 'ComputationalSocialScience'}]},\n",
       " 'referenced_tweets': [{'type': 'retweeted',\n",
       "   'id': '1610966167736455169',\n",
       "   'created_at': '2023-01-05T11:47:19.000Z',\n",
       "   'conversation_id': '1610966167736455169',\n",
       "   'edit_controls': {'edits_remaining': 5,\n",
       "    'is_edit_eligible': True,\n",
       "    'editable_until': '2023-01-05T12:17:19.000Z'},\n",
       "   'edit_history_tweet_ids': ['1610966167736455169'],\n",
       "   'entities': {'urls': [{'start': 271,\n",
       "      'end': 294,\n",
       "      'url': 'https://t.co/of2mx4t0AA',\n",
       "      'expanded_url': 'https://twitter.com/sarkac_org/status/1610954011670360065',\n",
       "      'display_url': 'twitter.com/sarkac_org/sta…'}],\n",
       "    'mentions': [{'start': 89,\n",
       "      'end': 100,\n",
       "      'username': 'MerihAngin',\n",
       "      'id': '1324313312679571456',\n",
       "      'verified': False,\n",
       "      'entities': {'url': {'urls': [{'start': 0,\n",
       "          'end': 23,\n",
       "          'url': 'https://t.co/rJjSUgrPxA',\n",
       "          'expanded_url': 'http://merihangin.com',\n",
       "          'display_url': 'merihangin.com'}]},\n",
       "       'description': {'mentions': [{'start': 15,\n",
       "          'end': 29,\n",
       "          'username': 'kocuniversity'},\n",
       "         {'start': 36, 'end': 44, 'username': 'ma_cssl'},\n",
       "         {'start': 58, 'end': 74, 'username': 'BlavatnikSchool'},\n",
       "         {'start': 77, 'end': 89, 'username': 'HarvardWCFI'},\n",
       "         {'start': 96, 'end': 112, 'username': 'WcfiaCiiCluster'},\n",
       "         {'start': 118, 'end': 124, 'username': 'IHEID'},\n",
       "         {'start': 131, 'end': 147, 'username': 'BilkentEconDept'},\n",
       "         {'start': 150, 'end': 160, 'username': 'METU_ODTU'}]}},\n",
       "      'public_metrics': {'followers_count': 553,\n",
       "       'following_count': 570,\n",
       "       'tweet_count': 225,\n",
       "       'listed_count': 1},\n",
       "      'description': 'AP of IR & CSS @kocuniversity, Dir. @ma_cssl, fmr postdoc @BlavatnikSchool & @HarvardWCFI, Affl @WcfiaCiiCluster, PhD @IHEID, alum @BilkentEconDept & @METU_ODTU',\n",
       "      'location': 'Istanbul, Turkey',\n",
       "      'pinned_tweet_id': '1609506416565391365',\n",
       "      'url': 'https://t.co/rJjSUgrPxA',\n",
       "      'profile_image_url': 'https://pbs.twimg.com/profile_images/1324606841075191808/PT1y73Lv_normal.jpg',\n",
       "      'protected': False,\n",
       "      'name': 'Merih Angin',\n",
       "      'created_at': '2020-11-05T11:31:35.000Z'},\n",
       "     {'start': 101,\n",
       "      'end': 109,\n",
       "      'username': 'BalcSoy',\n",
       "      'id': '1173993379698552832',\n",
       "      'verified': False,\n",
       "      'public_metrics': {'followers_count': 90,\n",
       "       'following_count': 579,\n",
       "       'tweet_count': 127,\n",
       "       'listed_count': 1},\n",
       "      'description': 'Science, Cultural Heritage, Opera, Wine and no BS',\n",
       "      'profile_image_url': 'https://pbs.twimg.com/profile_images/1173996771393069056/Wqykyzqt_normal.png',\n",
       "      'protected': False,\n",
       "      'name': 'Selim Balcısoy',\n",
       "      'created_at': '2019-09-17T16:13:43.000Z'},\n",
       "     {'start': 110,\n",
       "      'end': 117,\n",
       "      'username': 'uzay00',\n",
       "      'id': '14519511',\n",
       "      'verified': False,\n",
       "      'entities': {'url': {'urls': [{'start': 0,\n",
       "          'end': 23,\n",
       "          'url': 'https://t.co/GvHfUn10mh',\n",
       "          'expanded_url': 'https://uzay00.github.io/kahve/',\n",
       "          'display_url': 'uzay00.github.io/kahve/'}]}},\n",
       "      'public_metrics': {'followers_count': 397,\n",
       "       'following_count': 700,\n",
       "       'tweet_count': 832,\n",
       "       'listed_count': 8},\n",
       "      'description': 'Interested in Artificial Intelligence, Agent Based Modeling, Complex Systems and Networks',\n",
       "      'url': 'https://t.co/GvHfUn10mh',\n",
       "      'profile_image_url': 'https://pbs.twimg.com/profile_images/753316158330265600/Ue6f-ds6_normal.jpg',\n",
       "      'protected': False,\n",
       "      'name': 'uzay00',\n",
       "      'created_at': '2008-04-24T23:33:42.000Z'},\n",
       "     {'start': 118,\n",
       "      'end': 132,\n",
       "      'username': 'GundogduDidem',\n",
       "      'id': '709379881',\n",
       "      'verified': False,\n",
       "      'entities': {'url': {'urls': [{'start': 0,\n",
       "          'end': 23,\n",
       "          'url': 'https://t.co/cm5YJYSReY',\n",
       "          'expanded_url': 'http://www.didemgundogdu.net',\n",
       "          'display_url': 'didemgundogdu.net'}]}},\n",
       "      'public_metrics': {'followers_count': 496,\n",
       "       'following_count': 465,\n",
       "       'tweet_count': 2643,\n",
       "       'listed_count': 38},\n",
       "      'description': 'Data Enthusiast, self-challenger',\n",
       "      'location': 'Mailand, Lombardei',\n",
       "      'url': 'https://t.co/cm5YJYSReY',\n",
       "      'profile_image_url': 'https://pbs.twimg.com/profile_images/1358397674685366277/gYUw4gGo_normal.jpg',\n",
       "      'protected': False,\n",
       "      'name': 'Didem GUNDOGDU',\n",
       "      'created_at': '2012-07-21T18:27:25.000Z'},\n",
       "     {'start': 133,\n",
       "      'end': 143,\n",
       "      'username': 'DefneUcer',\n",
       "      'id': '807839257595432960',\n",
       "      'verified': False,\n",
       "      'entities': {'description': {'mentions': [{'start': 7,\n",
       "          'end': 18,\n",
       "          'username': 'sarkac_org'}]}},\n",
       "      'public_metrics': {'followers_count': 290,\n",
       "       'following_count': 584,\n",
       "       'tweet_count': 528,\n",
       "       'listed_count': 3},\n",
       "      'description': 'Editör @sarkac_org',\n",
       "      'profile_image_url': 'https://pbs.twimg.com/profile_images/863699178182070272/RphNoFvt_normal.jpg',\n",
       "      'protected': False,\n",
       "      'name': 'Defne Üçer Şaylan',\n",
       "      'created_at': '2016-12-11T06:47:42.000Z'},\n",
       "     {'start': 144,\n",
       "      'end': 154,\n",
       "      'username': 'AkinUnver',\n",
       "      'id': '267955046',\n",
       "      'verified': True,\n",
       "      'entities': {'url': {'urls': [{'start': 0,\n",
       "          'end': 23,\n",
       "          'url': 'https://t.co/fbFCxAl8MW',\n",
       "          'expanded_url': 'https://www.akinunver.org/contact',\n",
       "          'display_url': 'akinunver.org/contact'}]},\n",
       "       'description': {'mentions': [{'start': 27,\n",
       "          'end': 38,\n",
       "          'username': 'ozyeginuni'},\n",
       "         {'start': 53, 'end': 65, 'username': 'GSQ_Journal'},\n",
       "         {'start': 68, 'end': 82, 'username': 'CarnegieEndow'},\n",
       "         {'start': 119, 'end': 126, 'username': 'isanet'},\n",
       "         {'start': 136, 'end': 147, 'username': 'TwitterDev'},\n",
       "         {'start': 150, 'end': 160, 'username': 'tiktok_us'}]}},\n",
       "      'public_metrics': {'followers_count': 28528,\n",
       "       'following_count': 2738,\n",
       "       'tweet_count': 2837,\n",
       "       'listed_count': 395},\n",
       "      'description': 'ComputationalSocialScience @ozyeginuni | AssocEditor @GSQ_Journal | @CarnegieEndow DigitalDemocracy | GoverningCouncil @isanet | Board: @TwitterDev & @tiktok_us',\n",
       "      'location': 'Istanbul',\n",
       "      'pinned_tweet_id': '1603530482498637825',\n",
       "      'url': 'https://t.co/fbFCxAl8MW',\n",
       "      'profile_image_url': 'https://pbs.twimg.com/profile_images/1493708160355471362/gU599YLF_normal.jpg',\n",
       "      'protected': False,\n",
       "      'name': 'Akin Unver',\n",
       "      'created_at': '2011-03-17T21:51:51.000Z'},\n",
       "     {'start': 155,\n",
       "      'end': 165,\n",
       "      'username': 'onurvarol',\n",
       "      'id': '77436536',\n",
       "      'verified': False,\n",
       "      'entities': {'url': {'urls': [{'start': 0,\n",
       "          'end': 23,\n",
       "          'url': 'https://t.co/kdXXoxWph8',\n",
       "          'expanded_url': 'http://www.onurvarol.com',\n",
       "          'display_url': 'onurvarol.com'}]},\n",
       "       'description': {'hashtags': [{'start': 121,\n",
       "          'end': 136,\n",
       "          'tag': 'networkscience'},\n",
       "         {'start': 138, 'end': 150, 'tag': 'datascience'},\n",
       "         {'start': 152, 'end': 156, 'tag': 'css'}],\n",
       "        'mentions': [{'start': 15, 'end': 24, 'username': 'SabanciU'},\n",
       "         {'start': 37, 'end': 46, 'username': 'varollab'},\n",
       "         {'start': 58, 'end': 66, 'username': 'NUnetsi'},\n",
       "         {'start': 69, 'end': 81, 'username': 'IndianaUniv'},\n",
       "         {'start': 84, 'end': 97, 'username': 'MSFTResearch'},\n",
       "         {'start': 109, 'end': 119, 'username': 'Botometer'}]}},\n",
       "      'public_metrics': {'followers_count': 3383,\n",
       "       'following_count': 3830,\n",
       "       'tweet_count': 4137,\n",
       "       'listed_count': 63},\n",
       "      'description': 'Asst. Prof. at @SabanciU & PI of the @varollab\\nPreviously @NUnetsi & @IndianaUniv & @MSFTResearch \\nDeveloped @Botometer \\n#networkscience, #datascience, #css',\n",
       "      'location': 'Istanbul, Turkey',\n",
       "      'pinned_tweet_id': '1529785276507340800',\n",
       "      'url': 'https://t.co/kdXXoxWph8',\n",
       "      'profile_image_url': 'https://pbs.twimg.com/profile_images/1165492652751671296/T-CdxJQa_normal.jpg',\n",
       "      'protected': False,\n",
       "      'name': 'Onur Varol',\n",
       "      'created_at': '2009-09-26T09:17:28.000Z'},\n",
       "     {'start': 179,\n",
       "      'end': 195,\n",
       "      'username': 'EmergingWelfare',\n",
       "      'id': '1034777054108164098',\n",
       "      'verified': False,\n",
       "      'entities': {'url': {'urls': [{'start': 0,\n",
       "          'end': 23,\n",
       "          'url': 'https://t.co/Po84R6o4lF',\n",
       "          'expanded_url': 'http://emw.ku.edu.tr',\n",
       "          'display_url': 'emw.ku.edu.tr'}]},\n",
       "       'description': {'mentions': [{'start': 15,\n",
       "          'end': 28,\n",
       "          'username': 'ERC_Research'},\n",
       "         {'start': 43, 'end': 57, 'username': 'kocuniversity'}]}},\n",
       "      'public_metrics': {'followers_count': 209,\n",
       "       'following_count': 277,\n",
       "       'tweet_count': 109,\n",
       "       'listed_count': 0},\n",
       "      'description': 'EMW, funded by @ERC_Research and hosted by @kocuniversity, aims to identify a new welfare regime in emerging markets and explain why. PI Erdem Yörük',\n",
       "      'location': 'İstanbul, Türkiye',\n",
       "      'url': 'https://t.co/Po84R6o4lF',\n",
       "      'profile_image_url': 'https://pbs.twimg.com/profile_images/1034778004268957697/WiV6f4cA_normal.jpg',\n",
       "      'protected': False,\n",
       "      'name': 'Emerging Welfare Project',\n",
       "      'created_at': '2018-08-29T12:17:29.000Z'},\n",
       "     {'start': 197,\n",
       "      'end': 211,\n",
       "      'username': 'BasakTaraktas',\n",
       "      'id': '1547487810',\n",
       "      'verified': False,\n",
       "      'entities': {'url': {'urls': [{'start': 0,\n",
       "          'end': 23,\n",
       "          'url': 'https://t.co/iVjvd85p2t',\n",
       "          'expanded_url': 'https://basaktaraktas.com',\n",
       "          'display_url': 'basaktaraktas.com'}]}},\n",
       "      'public_metrics': {'followers_count': 668,\n",
       "       'following_count': 337,\n",
       "       'tweet_count': 114,\n",
       "       'listed_count': 9},\n",
       "      'description': 'Computational social scientist specialized in agent-based modeling, network analysis, complexity theory, regimes and social movements & Artist',\n",
       "      'location': 'İstanbul, Türkiye',\n",
       "      'url': 'https://t.co/iVjvd85p2t',\n",
       "      'profile_image_url': 'https://pbs.twimg.com/profile_images/953487663008501760/UGiQA3w__normal.jpg',\n",
       "      'protected': False,\n",
       "      'name': 'basaktaraktas',\n",
       "      'created_at': '2013-06-26T06:49:09.000Z'},\n",
       "     {'start': 212,\n",
       "      'end': 221,\n",
       "      'username': 'pinardag',\n",
       "      'id': '19593365',\n",
       "      'verified': False,\n",
       "      'public_metrics': {'followers_count': 7102,\n",
       "       'following_count': 3887,\n",
       "       'tweet_count': 36517,\n",
       "       'listed_count': 357},\n",
       "      'description': 'academic, co-founder, vegan🌱 (15 yr ∞) / no dms',\n",
       "      'location': 'Zurich, İstanbul',\n",
       "      'pinned_tweet_id': '1345095598014427137',\n",
       "      'profile_image_url': 'https://pbs.twimg.com/profile_images/1605354864682455043/tsC8Xouw_normal.jpg',\n",
       "      'protected': False,\n",
       "      'name': 'Pınar Dağ FirthⓋ',\n",
       "      'created_at': '2009-01-27T14:16:33.000Z'},\n",
       "     {'start': 222,\n",
       "      'end': 238,\n",
       "      'username': 'H20_HumMingBird',\n",
       "      'id': '1277952946752405505',\n",
       "      'verified': False,\n",
       "      'entities': {'url': {'urls': [{'start': 0,\n",
       "          'end': 23,\n",
       "          'url': 'https://t.co/0vd1YvYhbD',\n",
       "          'expanded_url': 'https://hummingbird-h2020.eu/',\n",
       "          'display_url': 'hummingbird-h2020.eu'}]},\n",
       "       'description': {'mentions': [{'start': 36,\n",
       "          'end': 45,\n",
       "          'username': 'EU_H2020'}]}},\n",
       "      'public_metrics': {'followers_count': 484,\n",
       "       'following_count': 164,\n",
       "       'tweet_count': 125,\n",
       "       'listed_count': 6},\n",
       "      'description': 'This is the official account of the @EU_H2020 Project HumMingBird: Enhanced migration measures from a multidimensional perspective',\n",
       "      'pinned_tweet_id': '1536377365630173184',\n",
       "      'url': 'https://t.co/0vd1YvYhbD',\n",
       "      'profile_image_url': 'https://pbs.twimg.com/profile_images/1277953320192290817/Bf0J7780_normal.jpg',\n",
       "      'protected': False,\n",
       "      'name': 'HumMingBird Project',\n",
       "      'created_at': '2020-06-30T13:12:20.000Z'},\n",
       "     {'start': 239,\n",
       "      'end': 247,\n",
       "      'username': 'tusside',\n",
       "      'id': '843136350',\n",
       "      'verified': False,\n",
       "      'entities': {'url': {'urls': [{'start': 0,\n",
       "          'end': 23,\n",
       "          'url': 'https://t.co/FAfrkHp7CJ',\n",
       "          'expanded_url': 'http://tusside.tubitak.gov.tr',\n",
       "          'display_url': 'tusside.tubitak.gov.tr'}]}},\n",
       "      'public_metrics': {'followers_count': 4211,\n",
       "       'following_count': 39,\n",
       "       'tweet_count': 855,\n",
       "       'listed_count': 9},\n",
       "      'description': 'Strateji ve Yönetim Sistemleri',\n",
       "      'location': 'Gebze, Türkiye',\n",
       "      'url': 'https://t.co/FAfrkHp7CJ',\n",
       "      'profile_image_url': 'https://pbs.twimg.com/profile_images/1229745774227066880/ini3H_lZ_normal.png',\n",
       "      'protected': False,\n",
       "      'name': 'TÜBİTAK TÜSSİDE',\n",
       "      'created_at': '2012-09-24T07:41:11.000Z'},\n",
       "     {'start': 248,\n",
       "      'end': 262,\n",
       "      'username': 'Bogazici_CmpE',\n",
       "      'id': '3377132271',\n",
       "      'verified': False,\n",
       "      'entities': {'url': {'urls': [{'start': 0,\n",
       "          'end': 22,\n",
       "          'url': 'http://t.co/HBvCEokZ4N',\n",
       "          'expanded_url': 'http://www.cmpe.boun.edu.tr',\n",
       "          'display_url': 'cmpe.boun.edu.tr'}]},\n",
       "       'description': {'mentions': [{'start': 0,\n",
       "          'end': 12,\n",
       "          'username': 'UniBogazici'}]}},\n",
       "      'public_metrics': {'followers_count': 5816,\n",
       "       'following_count': 222,\n",
       "       'tweet_count': 759,\n",
       "       'listed_count': 31},\n",
       "      'description': '@UniBogazici Bilgisayar Mühendisliği Bölümü,   Boğaziçi University, Department of Computer Engineering',\n",
       "      'location': 'İstanbul, Türkiye',\n",
       "      'url': 'http://t.co/HBvCEokZ4N',\n",
       "      'profile_image_url': 'https://pbs.twimg.com/profile_images/621720175289745413/E3k07-s8_normal.png',\n",
       "      'protected': False,\n",
       "      'name': 'Boğaziçi Üni. Bilgisayar Mühendisliği Bölümü',\n",
       "      'created_at': '2015-07-15T11:17:06.000Z'},\n",
       "     {'start': 263,\n",
       "      'end': 270,\n",
       "      'username': 'UUBeta',\n",
       "      'id': '72820359',\n",
       "      'verified': False,\n",
       "      'entities': {'url': {'urls': [{'start': 0,\n",
       "          'end': 22,\n",
       "          'url': 'http://t.co/8yJjFwhLtX',\n",
       "          'expanded_url': 'http://www.uu.nl/science',\n",
       "          'display_url': 'uu.nl/science'}]}},\n",
       "      'public_metrics': {'followers_count': 3503,\n",
       "       'following_count': 837,\n",
       "       'tweet_count': 4132,\n",
       "       'listed_count': 66},\n",
       "      'description': \"Sharing science, shaping tomorrow. Utrecht University's Faculty of Science stands for world-class research and innovative education.\",\n",
       "      'location': 'Utrecht, The Netherlands',\n",
       "      'url': 'http://t.co/8yJjFwhLtX',\n",
       "      'profile_image_url': 'https://pbs.twimg.com/profile_images/1064507226734379008/4H5x65u6_normal.jpg',\n",
       "      'protected': False,\n",
       "      'name': 'Faculty of Science, Utrecht University',\n",
       "      'created_at': '2009-09-09T10:26:40.000Z'}],\n",
       "    'hashtags': [{'start': 29, 'end': 56, 'tag': 'ComputationalSocialScience'},\n",
       "     {'start': 166, 'end': 177, 'tag': 'ErdemYoruk'}]},\n",
       "   'text': \"Hesaplamalı sosyal bilimler (#ComputationalSocialScience) Türkiye'de büyüyen bir alan. \\n\\n@MerihAngin @BalcSoy @uzay00 @GundogduDidem @DefneUcer @AkinUnver @onurvarol #ErdemYoruk (@EmergingWelfare) @BasakTaraktas @pinardag @H20_HumMingBird @tusside @Bogazici_CmpE @UUBeta https://t.co/of2mx4t0AA\",\n",
       "   'lang': 'tr',\n",
       "   'referenced_tweets': [{'type': 'quoted',\n",
       "     'id': '1610954011670360065',\n",
       "     'created_at': '2023-01-05T10:59:01.000Z',\n",
       "     'conversation_id': '1610954011670360065',\n",
       "     'edit_controls': {'edits_remaining': 5,\n",
       "      'is_edit_eligible': True,\n",
       "      'editable_until': '2023-01-05T11:29:01.000Z'},\n",
       "     'edit_history_tweet_ids': ['1610954011670360065'],\n",
       "     'entities': {'urls': [{'start': 230,\n",
       "        'end': 253,\n",
       "        'url': 'https://t.co/Df1wtmXo7S',\n",
       "        'expanded_url': 'https://sarkac.org/2023/01/hesaplamali-sosyal-bilimler-nedir/',\n",
       "        'display_url': 'sarkac.org/2023/01/hesapl…',\n",
       "        'images': [{'url': 'https://pbs.twimg.com/news_img/1611015118565040128/_DxTSszm?format=jpg&name=orig',\n",
       "          'width': 2500,\n",
       "          'height': 1450},\n",
       "         {'url': 'https://pbs.twimg.com/news_img/1611015118565040128/_DxTSszm?format=jpg&name=150x150',\n",
       "          'width': 150,\n",
       "          'height': 150}],\n",
       "        'status': 200,\n",
       "        'title': 'Hesaplamalı sosyal bilimler nedir? - Sarkaç',\n",
       "        'description': 'Psikoloji, sosyoloji, iktisat, siyaset bilimi, dilbilim... Sosyal bilimler, insanı ve davranışlarını, insanın etkilediği ve etkilendiği bütün bağlamları',\n",
       "        'unwound_url': 'https://sarkac.org/2023/01/hesaplamali-sosyal-bilimler-nedir/'}],\n",
       "      'mentions': [{'start': 219,\n",
       "        'end': 228,\n",
       "        'username': 'SzassTam',\n",
       "        'id': '35683594',\n",
       "        'verified': False,\n",
       "        'entities': {'url': {'urls': [{'start': 0,\n",
       "            'end': 23,\n",
       "            'url': 'https://t.co/8g443GTFql',\n",
       "            'expanded_url': 'http://www.staff.science.uu.nl/~salah006/',\n",
       "            'display_url': 'staff.science.uu.nl/~salah006/'}]},\n",
       "         'description': {'mentions': [{'start': 38,\n",
       "            'end': 45,\n",
       "            'username': 'uubeta'},\n",
       "           {'start': 46, 'end': 60, 'username': 'Bogazici_CmpE'},\n",
       "           {'start': 61, 'end': 77, 'username': 'datapopalliance'}]}},\n",
       "        'public_metrics': {'followers_count': 3513,\n",
       "         'following_count': 1867,\n",
       "         'tweet_count': 2966,\n",
       "         'listed_count': 26},\n",
       "        'description': 'Prof. Social and Affective Computing. @uubeta @Bogazici_CmpE\\n@datapopalliance. Tweets in Turkish & English.',\n",
       "        'pinned_tweet_id': '1478406280926707719',\n",
       "        'url': 'https://t.co/8g443GTFql',\n",
       "        'profile_image_url': 'https://pbs.twimg.com/profile_images/1460341583950323718/ZtSnL_NS_normal.jpg',\n",
       "        'protected': False,\n",
       "        'name': 'Albert Ali Salah',\n",
       "        'created_at': '2009-04-27T05:52:47.000Z'}],\n",
       "      'hashtags': [{'start': 202, 'end': 209, 'tag': 'Sarkaç'}]},\n",
       "     'text': \"İnternette yanlış bilginin veya salgınların dağılımı, göç dinamikleri, savaş ve çatışma bölgelerinden güvenilir bilgi alınması... \\n\\nHesaplamalı sosyal bilimleri ve alandaki gelişmeleri\\nAlbert Ali Salah #Sarkaç'a yazdı. @SzassTam \\nhttps://t.co/Df1wtmXo7S\",\n",
       "     'lang': 'tr',\n",
       "     'possibly_sensitive': False,\n",
       "     'public_metrics': {'retweet_count': 21,\n",
       "      'reply_count': 1,\n",
       "      'like_count': 61,\n",
       "      'quote_count': 4,\n",
       "      'impression_count': 30289},\n",
       "     'author_id': '979717323081863168',\n",
       "     'reply_settings': 'everyone'}],\n",
       "   'possibly_sensitive': False,\n",
       "   'public_metrics': {'retweet_count': 14,\n",
       "    'reply_count': 0,\n",
       "    'like_count': 30,\n",
       "    'quote_count': 1,\n",
       "    'impression_count': 8823},\n",
       "   'author_id': '35683594',\n",
       "   'reply_settings': 'everyone',\n",
       "   'author': {'verified': False,\n",
       "    'id': '35683594',\n",
       "    'entities': {'url': {'urls': [{'start': 0,\n",
       "        'end': 23,\n",
       "        'url': 'https://t.co/8g443GTFql',\n",
       "        'expanded_url': 'http://www.staff.science.uu.nl/~salah006/',\n",
       "        'display_url': 'staff.science.uu.nl/~salah006/'}]},\n",
       "     'description': {'mentions': [{'start': 38,\n",
       "        'end': 45,\n",
       "        'username': 'uubeta'},\n",
       "       {'start': 46, 'end': 60, 'username': 'Bogazici_CmpE'},\n",
       "       {'start': 61, 'end': 77, 'username': 'datapopalliance'}]}},\n",
       "    'public_metrics': {'followers_count': 3513,\n",
       "     'following_count': 1867,\n",
       "     'tweet_count': 2966,\n",
       "     'listed_count': 26},\n",
       "    'description': 'Prof. Social and Affective Computing. @uubeta @Bogazici_CmpE\\n@datapopalliance. Tweets in Turkish & English.',\n",
       "    'pinned_tweet_id': '1478406280926707719',\n",
       "    'url': 'https://t.co/8g443GTFql',\n",
       "    'profile_image_url': 'https://pbs.twimg.com/profile_images/1460341583950323718/ZtSnL_NS_normal.jpg',\n",
       "    'protected': False,\n",
       "    'name': 'Albert Ali Salah',\n",
       "    'created_at': '2009-04-27T05:52:47.000Z',\n",
       "    'username': 'SzassTam'}}],\n",
       " 'id': '1611472338427744256',\n",
       " 'possibly_sensitive': False,\n",
       " 'public_metrics': {'retweet_count': 14,\n",
       "  'reply_count': 0,\n",
       "  'like_count': 0,\n",
       "  'quote_count': 0,\n",
       "  'impression_count': 0},\n",
       " 'author_id': '1173993379698552832',\n",
       " 'reply_settings': 'everyone',\n",
       " 'author': {'verified': False,\n",
       "  'id': '1173993379698552832',\n",
       "  'public_metrics': {'followers_count': 90,\n",
       "   'following_count': 579,\n",
       "   'tweet_count': 127,\n",
       "   'listed_count': 1},\n",
       "  'description': 'Science, Cultural Heritage, Opera, Wine and no BS',\n",
       "  'profile_image_url': 'https://pbs.twimg.com/profile_images/1173996771393069056/Wqykyzqt_normal.png',\n",
       "  'protected': False,\n",
       "  'name': 'Selim Balcısoy',\n",
       "  'created_at': '2019-09-17T16:13:43.000Z',\n",
       "  'username': 'BalcSoy'},\n",
       " '__twarc': {'url': 'https://api.twitter.com/2/tweets/search/all?expansions=author_id%2Cin_reply_to_user_id%2Creferenced_tweets.id%2Creferenced_tweets.id.author_id%2Centities.mentions.username%2Cattachments.poll_ids%2Cattachments.media_keys%2Cgeo.place_id%2Cedit_history_tweet_ids&tweet.fields=attachments%2Cauthor_id%2Ccontext_annotations%2Cconversation_id%2Ccreated_at%2Centities%2Cgeo%2Cid%2Cin_reply_to_user_id%2Clang%2Cpublic_metrics%2Ctext%2Cpossibly_sensitive%2Creferenced_tweets%2Creply_settings%2Csource%2Cwithheld%2Cedit_controls&user.fields=created_at%2Cdescription%2Centities%2Cid%2Clocation%2Cname%2Cpinned_tweet_id%2Cprofile_image_url%2Cprotected%2Cpublic_metrics%2Curl%2Cusername%2Cverified%2Cwithheld&media.fields=alt_text%2Cduration_ms%2Cheight%2Cmedia_key%2Cpreview_image_url%2Ctype%2Curl%2Cwidth%2Cpublic_metrics&poll.fields=duration_minutes%2Cend_datetime%2Cid%2Coptions%2Cvoting_status&place.fields=contained_within%2Ccountry%2Ccountry_code%2Cfull_name%2Cgeo%2Cid%2Cname%2Cplace_type&start_time=2023-01-05T00%3A00%3A00%2B00%3A00&end_time=2023-01-08T00%3A00%3A00%2B00%3A00&query=ComputationalSocialScience&max_results=100',\n",
       "  'version': '2.12.0',\n",
       "  'retrieved_at': '2023-01-11T11:29:00+00:00'}}"
      ]
     },
     "execution_count": 20,
     "metadata": {},
     "output_type": "execute_result"
    }
   ],
   "source": [
    "# The overall information of the first tweet \n",
    "tweets[0]"
   ]
  },
  {
   "cell_type": "markdown",
   "id": "69ac084f",
   "metadata": {},
   "source": [
    "We can show some of the useful information of tweets in a dataframe:"
   ]
  },
  {
   "cell_type": "code",
   "execution_count": 21,
   "id": "3e7af42d",
   "metadata": {},
   "outputs": [
    {
     "data": {
      "text/html": [
       "<div>\n",
       "<style scoped>\n",
       "    .dataframe tbody tr th:only-of-type {\n",
       "        vertical-align: middle;\n",
       "    }\n",
       "\n",
       "    .dataframe tbody tr th {\n",
       "        vertical-align: top;\n",
       "    }\n",
       "\n",
       "    .dataframe thead th {\n",
       "        text-align: right;\n",
       "    }\n",
       "</style>\n",
       "<table border=\"1\" class=\"dataframe\">\n",
       "  <thead>\n",
       "    <tr style=\"text-align: right;\">\n",
       "      <th></th>\n",
       "      <th>tweet id</th>\n",
       "      <th>author id</th>\n",
       "      <th>created at</th>\n",
       "      <th>text</th>\n",
       "      <th>language</th>\n",
       "    </tr>\n",
       "  </thead>\n",
       "  <tbody>\n",
       "    <tr>\n",
       "      <th>0</th>\n",
       "      <td>1611472338427744256</td>\n",
       "      <td>1173993379698552832</td>\n",
       "      <td>2023-01-06T21:18:39.000Z</td>\n",
       "      <td>RT @SzassTam: Hesaplamalı sosyal bilimler (#Co...</td>\n",
       "      <td>tr</td>\n",
       "    </tr>\n",
       "    <tr>\n",
       "      <th>1</th>\n",
       "      <td>1611412573605466114</td>\n",
       "      <td>14519511</td>\n",
       "      <td>2023-01-06T17:21:10.000Z</td>\n",
       "      <td>RT @SzassTam: Hesaplamalı sosyal bilimler (#Co...</td>\n",
       "      <td>tr</td>\n",
       "    </tr>\n",
       "    <tr>\n",
       "      <th>2</th>\n",
       "      <td>1611406068873052178</td>\n",
       "      <td>3377132271</td>\n",
       "      <td>2023-01-06T16:55:19.000Z</td>\n",
       "      <td>RT @SzassTam: Hesaplamalı sosyal bilimler (#Co...</td>\n",
       "      <td>tr</td>\n",
       "    </tr>\n",
       "    <tr>\n",
       "      <th>3</th>\n",
       "      <td>1611333811354181633</td>\n",
       "      <td>2400010513</td>\n",
       "      <td>2023-01-06T12:08:12.000Z</td>\n",
       "      <td>RT @SzassTam: Hesaplamalı sosyal bilimler (#Co...</td>\n",
       "      <td>tr</td>\n",
       "    </tr>\n",
       "    <tr>\n",
       "      <th>4</th>\n",
       "      <td>1611295709545783296</td>\n",
       "      <td>1474656871</td>\n",
       "      <td>2023-01-06T09:36:48.000Z</td>\n",
       "      <td>RT @SzassTam: Hesaplamalı sosyal bilimler (#Co...</td>\n",
       "      <td>tr</td>\n",
       "    </tr>\n",
       "  </tbody>\n",
       "</table>\n",
       "</div>"
      ],
      "text/plain": [
       "              tweet id            author id                created at  \\\n",
       "0  1611472338427744256  1173993379698552832  2023-01-06T21:18:39.000Z   \n",
       "1  1611412573605466114             14519511  2023-01-06T17:21:10.000Z   \n",
       "2  1611406068873052178           3377132271  2023-01-06T16:55:19.000Z   \n",
       "3  1611333811354181633           2400010513  2023-01-06T12:08:12.000Z   \n",
       "4  1611295709545783296           1474656871  2023-01-06T09:36:48.000Z   \n",
       "\n",
       "                                                text language  \n",
       "0  RT @SzassTam: Hesaplamalı sosyal bilimler (#Co...       tr  \n",
       "1  RT @SzassTam: Hesaplamalı sosyal bilimler (#Co...       tr  \n",
       "2  RT @SzassTam: Hesaplamalı sosyal bilimler (#Co...       tr  \n",
       "3  RT @SzassTam: Hesaplamalı sosyal bilimler (#Co...       tr  \n",
       "4  RT @SzassTam: Hesaplamalı sosyal bilimler (#Co...       tr  "
      ]
     },
     "execution_count": 21,
     "metadata": {},
     "output_type": "execute_result"
    }
   ],
   "source": [
    "tweet_id = []\n",
    "author_id = []\n",
    "created_at = []\n",
    "text = []\n",
    "lang = []\n",
    "\n",
    "for i in tweets:\n",
    "    \n",
    "    tweet_id.append(i['id'])\n",
    "    author_id.append(i['author_id'])\n",
    "    created_at.append(i['created_at'])\n",
    "    text.append(i['text'])\n",
    "    lang.append(i['lang'])\n",
    "    \n",
    "search_df = pd.DataFrame(data=[tweet_id, author_id, created_at, text, lang,]).transpose()\n",
    "\n",
    "search_df.columns = [\"tweet id\",\"author id\", \"created at\", \"text\", \"language\"]\n",
    "\n",
    "search_df.head()"
   ]
  },
  {
   "cell_type": "code",
   "execution_count": null,
   "id": "4d1f8c53",
   "metadata": {},
   "outputs": [],
   "source": []
  },
  {
   "cell_type": "code",
   "execution_count": null,
   "id": "9c693af1",
   "metadata": {},
   "outputs": [],
   "source": []
  },
  {
   "cell_type": "code",
   "execution_count": null,
   "id": "d1e05550",
   "metadata": {},
   "outputs": [],
   "source": []
  },
  {
   "cell_type": "markdown",
   "id": "1ebc3427",
   "metadata": {},
   "source": [
    "##### *Some other things from the initial notebook by Gizem:*"
   ]
  },
  {
   "cell_type": "code",
   "execution_count": null,
   "id": "4f49e6de",
   "metadata": {},
   "outputs": [],
   "source": [
    "# Twitter API v2 (if you have a full access)\n",
    "client = tw.Client(bearer_token=bearer_token)\n",
    "\n",
    "# Replace with your own search query\n",
    "query = 'from:SocialComquant -is:retweet' # you can change from with your own choice of username (without retweets)\n",
    "\n",
    "# Replace with time period of your choice\n",
    "start_time = '2021-01-01T00:00:00Z'\n",
    "\n",
    "# Replace with time period of your choice\n",
    "end_time = '2022-01-01T00:00:00Z'"
   ]
  },
  {
   "cell_type": "code",
   "execution_count": null,
   "id": "e314ad13",
   "metadata": {},
   "outputs": [],
   "source": [
    "# Check the start_time by yourself with writing\n",
    "start_time"
   ]
  },
  {
   "cell_type": "code",
   "execution_count": null,
   "id": "175eb30e",
   "metadata": {},
   "outputs": [],
   "source": [
    "'''\n",
    "# You can search Tweets from the last 7 days or all Tweets with different functions. Check available functions in Tweepy!\n",
    "Tweepy: https://docs.tweepy.org/en/stable/client.html#search-tweets\n",
    "# A helpful link for setting up your query: \n",
    "https://github.com/twitterdev/getting-started-with-the-twitter-api-v2-for-academic-research/blob/main/modules/5-how-to-write-search-queries.md\n",
    "'''\n",
    "# Connect to Twitter API and search all tweets if you have a full academic access\n",
    "tweets = client.search_all_tweets(query=query, tweet_fields=['created_at','text', 'context_annotations','entities'],\n",
    "                                  start_time=start_time,\n",
    "                                  end_time=end_time, max_results=10) #set your max results between 10 and 500\n",
    "\n"
   ]
  },
  {
   "cell_type": "code",
   "execution_count": null,
   "id": "09368050",
   "metadata": {},
   "outputs": [],
   "source": [
    "# Let's see a fairly new field for context annotations.\n",
    "for tweet in tweets.data:\n",
    "    print(tweet.created_at)\n",
    "    print(tweet.context_annotations) #context annotations (https://developer.twitter.com/en/docs/twitter-api/annotations/overview)"
   ]
  },
  {
   "cell_type": "markdown",
   "id": "6182d3a1",
   "metadata": {},
   "source": [
    "## 3.3. A demonstration using Python to collect Reddit comments <img src=\"./images/reddit.svg\"  width=\"150\" height = \"150\" align=\"right\"/>\n",
    "\n",
    "Reddit is one of the oldest social media platforms which is still generating content with its users. Millions of users are creating on a daily basis in the form of questions and comments. Reddit also offers such API which is easy to access this vast amount of data.\n",
    "\n",
    "First thing you need to do is to have a Reddit account. You should create it from [here.](https://www.reddit.com/)\n",
    "- [Official Reddit API](https://www.reddit.com/dev/api/)\n",
    "    - [Collecting Reddit data](https://towardsdatascience.com/scrape-reddit-data-using-python-and-google-bigquery-44180b579892)\n",
    "    \n",
    "Alternative ways of getting Reddit data:\n",
    "- [Google BigQuery](https://cloud.google.com/bigquery) (GBQ)\n",
    "    - [Scraping Reddit data with GBQ](https://towardsdatascience.com/scrape-reddit-data-using-python-and-google-bigquery-44180b579892)\n",
    "- [Pushshift.io](https://medium.com/@RareLoot/using-pushshifts-api-to-extract-reddit-submissions-fb517b286563)"
   ]
  },
  {
   "cell_type": "raw",
   "id": "2deb3d30",
   "metadata": {},
   "source": [
    "''' \n",
    "    Let's get started with our first project of colleting data from Reddit.\n",
    "    Import libraries if you install them before.\n",
    "    If you have not installed them, then install with pip on your command prompt or your jupyter notebook with !pip.\n",
    "'''\n",
    "# import relevant packages\n",
    "import pandas as pd # data manipulation library\n",
    "import praw # Python Reddit API Wrapper libray\n",
    "# Please make sure you have installed all of these libraries!"
   ]
  },
  {
   "cell_type": "raw",
   "id": "66c761a3",
   "metadata": {},
   "source": [
    "# Enter your keys registered with Reddit\n",
    "# Client_id: your 14 characters personal use script key\n",
    "# Client_secret: your 27 characters secret key\n",
    "# Username and password are your Reddit account credentials\n",
    "reddit = praw.Reddit(user_agent='Comment Extraction (by /u/USERNAME)',\n",
    "                     client_id='**********',client_secret=\"***********\",username='********', password='*******')"
   ]
  },
  {
   "cell_type": "markdown",
   "id": "5e82a004",
   "metadata": {},
   "source": [
    "We need to decide which subreddit you would like to focus on getting the data: Let's say \"Computational Social Science\" and be creative :)\n",
    "\n",
    "title, score, url, id, number of comments, date of creation, body text are the fields that are available from Reddit API. \n",
    "Here, we will focus on getting the bodytext(comments) from the subreddit. Refer to [praw documentation](https://praw.readthedocs.io/en/latest/code_overview/models/subreddit.html) for different kinds of implementations. "
   ]
  },
  {
   "cell_type": "raw",
   "id": "ca12bd79",
   "metadata": {},
   "source": [
    "comm_list = [] # empty list for the comments\n",
    "header_list = [] # empty list for header_list\n",
    "i = 0\n",
    "for submission in reddit.subreddit('Computational Social Science').hot(limit=2): # .hot(limit) can be any number\n",
    "    submission.comments.replace_more(limit=None) # Getting the list of comment ids\n",
    "    comment_queue = submission.comments[:]  # Seed with top-level\n",
    "    while comment_queue:\n",
    "        header_list.append(submission.title)\n",
    "        comment = comment_queue.pop(0)\n",
    "        comm_list.append(comment.body)\n",
    "        t = []\n",
    "        t.extend(comment.replies)\n",
    "        while t: # If the comment has nested replies, it will enter into the next loop and will extract information.\n",
    "            header_list.append(submission.title)\n",
    "            reply = t.pop(0)\n",
    "            comm_list.append(reply.body)\n",
    "            \n",
    "df = pd.DataFrame(header_list)\n",
    "df['comm_list'] = comm_list\n",
    "df.columns = ['header','comments']\n",
    "df['comments'] = df['comments'].apply(lambda x : x.replace('\\n',''))\n",
    "df.to_csv('CSS_comments.csv',index = False)"
   ]
  },
  {
   "cell_type": "markdown",
   "id": "56c76de5",
   "metadata": {},
   "source": [
    "## 3.4. More APIs and precollected datasets \n",
    "\n",
    "<img src=\"./images/datasets.jpg\" width=\"500\" height = \"900\" align=\"left\"/>  \n",
    "\n",
    "- __More APIs__\n",
    "\n",
    "    [Facebook for Developers](https://developers.facebook.com/)  \n",
    "    [Facebook Ads API](https://developers.facebook.com/docs/marketing-apis/)  \n",
    "    [Instagram Developer](https://developers.facebook.com/docs/instagram-basic-display-api)  \n",
    "    [YouTube Developers](https://developers.google.com/youtube/)  \n",
    "    [Weibo API](http://open.weibo.com/wiki/API%E6%96%87%E6%A1%A3/en)  \n",
    "    [CrowdTangle](https://www.crowdtangle.com/request)  \n",
    "    [4chan](https://github.com/4chan/4chan-API)  \n",
    "    [Gab](https://github.com/a-tal/gab)  \n",
    "    [Github REST API](https://docs.github.com/en/rest)  \n",
    "    [Github GraphQL](https://docs.github.com/en/graphql)  \n",
    "    [Stackoverflow](https://api.stackexchange.com/docs)  \n",
    "    [Facepager](https://github.com/strohne/Facepager)  \n",
    "\n",
    "\n",
    "- __Precollected datasets__  \n",
    "    https://datasetsearch.research.google.com  \n",
    "    https://www.kaggle.com/datasets  \n",
    "    https://data.gesis.org/sharing/#!Search  \n",
    "\n",
    "\n",
    "- __Locating or Requesting Social Media Data__\n",
    "    https://www.programmableweb.com"
   ]
  },
  {
   "cell_type": "markdown",
   "id": "f2ac0efa",
   "metadata": {},
   "source": [
    "## 3.5. Data harvesting from Wikipedia through API\n",
    "\n",
    "<img src='images/wikipedia_logo.png' style='height: 190px; float: right; margin-left: 50px' >\n",
    "\n",
    "Wikipedia is a rich source of data for social science research. Although we can access its data through other techniques like web scraping, there are also useful APIs that could ease collecting data from the website.\n",
    "\n",
    "Since Wikipedia is built on [MediaWiki](https://en.wikipedia.org/wiki/MediaWiki), we will be using python wrappers written for its API, [Mediawiki Action API](https://www.mediawiki.org/wiki/API:Main_page). Each of these wrappers provide some useful methods, and we will try to go through the ones that are the most important to our data collection tasks.\n",
    "\n",
    "We will also introduce two useful parsers for the Wikipedia markup language, and will see how they could be used for extracting clean data from the raw markup code.\n",
    "\n",
    "### 3.5.1 Wikipedia library\n",
    "\n",
    "https://wikipedia.readthedocs.io/en/latest/code.html#api\n",
    "\n",
    "Installation and importing: "
   ]
  },
  {
   "cell_type": "code",
   "execution_count": null,
   "id": "5e81e842",
   "metadata": {},
   "outputs": [],
   "source": [
    "pip install wikipedia"
   ]
  },
  {
   "cell_type": "code",
   "execution_count": null,
   "id": "a3f28f71",
   "metadata": {},
   "outputs": [],
   "source": [
    "import wikipedia"
   ]
  },
  {
   "cell_type": "markdown",
   "id": "eb7c2a9e",
   "metadata": {},
   "source": [
    "Searching a query:"
   ]
  },
  {
   "cell_type": "code",
   "execution_count": null,
   "id": "9515cd52",
   "metadata": {},
   "outputs": [],
   "source": [
    "wikipedia.search(\"Barack\")"
   ]
  },
  {
   "cell_type": "code",
   "execution_count": null,
   "id": "be845c05",
   "metadata": {},
   "outputs": [],
   "source": [
    "wikipedia.suggest(\"Barak Obama\")"
   ]
  },
  {
   "cell_type": "markdown",
   "id": "45a31e0b",
   "metadata": {},
   "source": [
    "Fewer or more results with a specific number:"
   ]
  },
  {
   "cell_type": "code",
   "execution_count": null,
   "id": "9f09823a",
   "metadata": {},
   "outputs": [],
   "source": [
    "wikipedia.search(\"Ford\", results=3)"
   ]
  },
  {
   "cell_type": "markdown",
   "id": "07f2e934",
   "metadata": {},
   "source": [
    "Getting the summary of an article:"
   ]
  },
  {
   "cell_type": "code",
   "execution_count": null,
   "id": "0c86bc0e",
   "metadata": {},
   "outputs": [],
   "source": [
    "wikipedia.summary(\"Barack Obama\")"
   ]
  },
  {
   "cell_type": "code",
   "execution_count": null,
   "id": "5cad19a8",
   "metadata": {},
   "outputs": [],
   "source": [
    "wikipedia.summary(\"Barack Obama\", sentences=1)"
   ]
  },
  {
   "cell_type": "markdown",
   "id": "23126943",
   "metadata": {},
   "source": [
    "wikipedia.summary will raise a DisambiguationError if the page is a disambiguation page, or a PageError if the page doesn’t exist (although by default, it tries to find the page you meant with suggest and search.)"
   ]
  },
  {
   "cell_type": "code",
   "execution_count": null,
   "id": "63b34048",
   "metadata": {},
   "outputs": [],
   "source": [
    "wikipedia.summary(\"Mercury\")"
   ]
  },
  {
   "cell_type": "code",
   "execution_count": null,
   "id": "328ba9ea",
   "metadata": {},
   "outputs": [],
   "source": [
    "try:\n",
    "    mercury = wikipedia.summary(\"Mercury\")\n",
    "except wikipedia.exceptions.DisambiguationError as e:\n",
    "    print (e.options)"
   ]
  },
  {
   "cell_type": "markdown",
   "id": "2c68225c",
   "metadata": {},
   "source": [
    "wikipedia.page enables you to load and access data from full Wikipedia pages. Initialize with a page title (keep in mind the errors listed above), and then access most properties using property methods:"
   ]
  },
  {
   "cell_type": "code",
   "execution_count": null,
   "id": "ecc46d21",
   "metadata": {},
   "outputs": [],
   "source": [
    "bo = wikipedia.page(\"Barack Obama\")"
   ]
  },
  {
   "cell_type": "markdown",
   "id": "d60b78ad",
   "metadata": {},
   "source": [
    "Getting the title of the page:"
   ]
  },
  {
   "cell_type": "code",
   "execution_count": null,
   "id": "053d27d3",
   "metadata": {},
   "outputs": [],
   "source": [
    "bo.title"
   ]
  },
  {
   "cell_type": "markdown",
   "id": "22e9d658",
   "metadata": {},
   "source": [
    "Getting the url of the page:"
   ]
  },
  {
   "cell_type": "code",
   "execution_count": null,
   "id": "aa3f6b52",
   "metadata": {},
   "outputs": [],
   "source": [
    "bo.url"
   ]
  },
  {
   "cell_type": "markdown",
   "id": "102546aa",
   "metadata": {},
   "source": [
    "Getting the full text of the page:"
   ]
  },
  {
   "cell_type": "code",
   "execution_count": null,
   "id": "ee3dd336",
   "metadata": {},
   "outputs": [],
   "source": [
    "bo.content"
   ]
  },
  {
   "cell_type": "markdown",
   "id": "8c95d7ea",
   "metadata": {},
   "source": [
    "Getting the images of the page:"
   ]
  },
  {
   "cell_type": "code",
   "execution_count": null,
   "id": "e5672abf",
   "metadata": {},
   "outputs": [],
   "source": [
    "bo.images[0:5]"
   ]
  },
  {
   "cell_type": "markdown",
   "id": "0a7853f8",
   "metadata": {},
   "source": [
    "Getting the links in the page:"
   ]
  },
  {
   "cell_type": "code",
   "execution_count": null,
   "id": "848ef619",
   "metadata": {},
   "outputs": [],
   "source": [
    "bo.links[:10]"
   ]
  },
  {
   "cell_type": "markdown",
   "id": "a738f891",
   "metadata": {},
   "source": [
    "To change the language of the Wikipedia you are accessing, use wikipedia.set_lang. Remember to search for page titles in the language that you have set, not English:"
   ]
  },
  {
   "cell_type": "code",
   "execution_count": null,
   "id": "bf8edbe1",
   "metadata": {},
   "outputs": [],
   "source": [
    "wikipedia.set_lang(\"fr\")"
   ]
  },
  {
   "cell_type": "code",
   "execution_count": null,
   "id": "b5b4d72e",
   "metadata": {},
   "outputs": [],
   "source": [
    "wikipedia.summary(\"Francois Hollande\")"
   ]
  },
  {
   "cell_type": "markdown",
   "id": "cffebbbd",
   "metadata": {},
   "source": [
    "List of URLs of the external links:"
   ]
  },
  {
   "cell_type": "code",
   "execution_count": null,
   "id": "f2d2bfbd",
   "metadata": {},
   "outputs": [],
   "source": [
    "bo.references[:10]"
   ]
  },
  {
   "cell_type": "markdown",
   "id": "c0de8050",
   "metadata": {},
   "source": [
    "Getting the plain text content of a section in the page:"
   ]
  },
  {
   "cell_type": "code",
   "execution_count": null,
   "id": "ef6e0dbb",
   "metadata": {},
   "outputs": [],
   "source": [
    "bo.section('Early life and career')"
   ]
  },
  {
   "cell_type": "markdown",
   "id": "d8441157",
   "metadata": {},
   "source": [
    "List of section titles: an example of a bug!"
   ]
  },
  {
   "cell_type": "code",
   "execution_count": null,
   "id": "642e7b0d",
   "metadata": {},
   "outputs": [],
   "source": [
    "bo.sections"
   ]
  },
  {
   "cell_type": "markdown",
   "id": "d12e4cdb",
   "metadata": {},
   "source": [
    "### 3.5.2 Pywikibot & parsers\n",
    "\n",
    "https://doc.wikimedia.org/pywikibot/stable/\n",
    "\n",
    "https://mwparserfromhell.readthedocs.io/en/latest/index.html\n",
    "\n",
    "https://github.com/5j9/wikitextparser\n",
    "\n",
    "Using pywikibot to get the wikipedia markup code and then parse it with parsers like mwparserfromhell and wikitextparser.\n",
    "\n",
    "Installation and importing:"
   ]
  },
  {
   "cell_type": "code",
   "execution_count": null,
   "id": "8bffa610",
   "metadata": {},
   "outputs": [],
   "source": [
    "pip install pywikibot"
   ]
  },
  {
   "cell_type": "code",
   "execution_count": null,
   "id": "e2802fb9",
   "metadata": {},
   "outputs": [],
   "source": [
    "pip install mwparserfromhell"
   ]
  },
  {
   "cell_type": "code",
   "execution_count": null,
   "id": "e7af5f38",
   "metadata": {},
   "outputs": [],
   "source": [
    "pip install wikitextparser"
   ]
  },
  {
   "cell_type": "code",
   "execution_count": null,
   "id": "52914658",
   "metadata": {},
   "outputs": [],
   "source": [
    "import pywikibot\n",
    "import mwparserfromhell as mwp\n",
    "import wikitextparser as wtp\n",
    "import pandas as pd"
   ]
  },
  {
   "cell_type": "markdown",
   "id": "3de06950",
   "metadata": {},
   "source": [
    "Getting the markup code of the page [List of political parties in Germany]('https://en.wikipedia.org/wiki/List_of_political_parties_in_Germany'):"
   ]
  },
  {
   "cell_type": "code",
   "execution_count": null,
   "id": "5b199e51",
   "metadata": {},
   "outputs": [],
   "source": [
    "site = pywikibot.Site('en', 'wikipedia')\n",
    "page = pywikibot.Page(site, \"List of political parties in Germany\")\n",
    "# text = page.get()"
   ]
  },
  {
   "cell_type": "code",
   "execution_count": null,
   "id": "fc772410",
   "metadata": {},
   "outputs": [],
   "source": [
    "revs = page.revisions()"
   ]
  },
  {
   "cell_type": "code",
   "execution_count": null,
   "id": "03923edc",
   "metadata": {},
   "outputs": [],
   "source": [
    "wikicode = mwp.parse(text)"
   ]
  },
  {
   "cell_type": "code",
   "execution_count": null,
   "id": "9c961ea9",
   "metadata": {},
   "outputs": [],
   "source": [
    "wikicode.get_sections()"
   ]
  },
  {
   "cell_type": "code",
   "execution_count": null,
   "id": "958e1c51",
   "metadata": {},
   "outputs": [],
   "source": [
    "templates[4]"
   ]
  },
  {
   "cell_type": "code",
   "execution_count": null,
   "id": "99432ef9",
   "metadata": {},
   "outputs": [],
   "source": [
    "revsl = []\n",
    "for i in revs:\n",
    "    revsl.append(i)"
   ]
  },
  {
   "cell_type": "code",
   "execution_count": null,
   "id": "f71563a9",
   "metadata": {},
   "outputs": [],
   "source": [
    "revsl[0]"
   ]
  },
  {
   "cell_type": "code",
   "execution_count": null,
   "id": "7234dc81",
   "metadata": {},
   "outputs": [],
   "source": [
    "rev1 = revsl[0].text\n",
    "# page = wtp.parse(rev1)"
   ]
  },
  {
   "cell_type": "code",
   "execution_count": null,
   "id": "a8f6192f",
   "metadata": {},
   "outputs": [],
   "source": [
    "rev1"
   ]
  },
  {
   "cell_type": "code",
   "execution_count": null,
   "id": "2ce297d4",
   "metadata": {},
   "outputs": [],
   "source": [
    "page.sections"
   ]
  },
  {
   "cell_type": "code",
   "execution_count": null,
   "id": "08ab708f",
   "metadata": {},
   "outputs": [],
   "source": [
    "revsl[1000]['timestamp']"
   ]
  },
  {
   "cell_type": "code",
   "execution_count": null,
   "id": "86e45b5a",
   "metadata": {},
   "outputs": [],
   "source": [
    "text"
   ]
  },
  {
   "cell_type": "markdown",
   "id": "9e723131",
   "metadata": {},
   "source": [
    "Parsing the page with wikitextparser, by first making a page object:"
   ]
  },
  {
   "cell_type": "code",
   "execution_count": null,
   "id": "93b9cc9b",
   "metadata": {},
   "outputs": [],
   "source": [
    "page = wtp.parse(text)"
   ]
  },
  {
   "cell_type": "code",
   "execution_count": null,
   "id": "cbcbd022",
   "metadata": {},
   "outputs": [],
   "source": [
    "page"
   ]
  },
  {
   "cell_type": "markdown",
   "id": "68d5742b",
   "metadata": {},
   "source": [
    "Getting page templates:"
   ]
  },
  {
   "cell_type": "code",
   "execution_count": null,
   "id": "6fd036cb",
   "metadata": {},
   "outputs": [],
   "source": [
    "page.templates[:10]"
   ]
  },
  {
   "cell_type": "markdown",
   "id": "2d74182c",
   "metadata": {},
   "source": [
    "Like in the previous section, we can get the links in the page, this time with a different order:"
   ]
  },
  {
   "cell_type": "code",
   "execution_count": null,
   "id": "ce4f0672",
   "metadata": {},
   "outputs": [],
   "source": [
    "page.wikilinks[:10]"
   ]
  },
  {
   "cell_type": "markdown",
   "id": "31e63fa6",
   "metadata": {},
   "source": [
    "Getting sections, no bugs with wikitexmtparser!"
   ]
  },
  {
   "cell_type": "code",
   "execution_count": null,
   "id": "6160c13d",
   "metadata": {},
   "outputs": [],
   "source": [
    "page.sections[0]"
   ]
  },
  {
   "cell_type": "markdown",
   "id": "4be93c7f",
   "metadata": {},
   "source": [
    "Tables data:"
   ]
  },
  {
   "cell_type": "code",
   "execution_count": null,
   "id": "311d823b",
   "metadata": {},
   "outputs": [],
   "source": [
    "data = page.tables[1].data()\n",
    "data"
   ]
  },
  {
   "cell_type": "markdown",
   "id": "79af55af",
   "metadata": {},
   "source": [
    "Putting the data in a dataframe:"
   ]
  },
  {
   "cell_type": "code",
   "execution_count": null,
   "id": "c30e4e02",
   "metadata": {},
   "outputs": [],
   "source": [
    "df = pd.DataFrame(data[1:])\n",
    "df.columns = data[0]\n",
    "df"
   ]
  },
  {
   "cell_type": "markdown",
   "id": "2bb05f3f",
   "metadata": {},
   "source": [
    "Parsing each cells data with mwparserfromhell and then making the dataframe:"
   ]
  },
  {
   "cell_type": "code",
   "execution_count": null,
   "id": "02f2104b",
   "metadata": {},
   "outputs": [],
   "source": [
    "for i in range(len(data)):\n",
    "    for j in range(len(data[i])):\n",
    "        wikicode = mwp.parse(data[i][j])\n",
    "        data[i][j] = wikicode.strip_code(data[i][j])"
   ]
  },
  {
   "cell_type": "code",
   "execution_count": null,
   "id": "ef8f925f",
   "metadata": {},
   "outputs": [],
   "source": [
    "df = pd.DataFrame(data[1:])\n",
    "df.columns = data[0]\n",
    "df"
   ]
  },
  {
   "cell_type": "markdown",
   "id": "d020a393",
   "metadata": {},
   "source": [
    "### Alternatives for extracting tables data:\n",
    "\n",
    "**1. wikitables library:** Small bugs need to be handled by hand:\n"
   ]
  },
  {
   "cell_type": "code",
   "execution_count": null,
   "id": "4c553191",
   "metadata": {
    "scrolled": false
   },
   "outputs": [],
   "source": [
    "from wikitables import import_tables\n",
    "\n",
    "tables = import_tables('List of political parties in Germany')"
   ]
  },
  {
   "cell_type": "code",
   "execution_count": null,
   "id": "e59348be",
   "metadata": {},
   "outputs": [],
   "source": [
    "tables"
   ]
  },
  {
   "cell_type": "code",
   "execution_count": null,
   "id": "bb5f51fb",
   "metadata": {},
   "outputs": [],
   "source": [
    "print(tables[0].rows[0]['Abbr.'])"
   ]
  },
  {
   "cell_type": "markdown",
   "id": "3e31f0e9",
   "metadata": {},
   "source": [
    "**2. Introducing DBpedia:** www.dbpedia.org"
   ]
  },
  {
   "cell_type": "markdown",
   "id": "3783843f",
   "metadata": {},
   "source": [
    "### 3.5.3 Pywikibot & parsers 2: Main text of different revisions\n",
    "\n",
    "Extracting the main text of the first revision of an article in each year since the beginning:"
   ]
  },
  {
   "cell_type": "code",
   "execution_count": null,
   "id": "4c3a00da",
   "metadata": {},
   "outputs": [],
   "source": [
    "import pywikibot\n",
    "import mwparserfromhell"
   ]
  },
  {
   "cell_type": "code",
   "execution_count": null,
   "id": "a45428be",
   "metadata": {},
   "outputs": [],
   "source": [
    "site = pywikibot.Site('en', 'wikipedia')\n",
    "page = pywikibot.Page(site, \"Koç University\")"
   ]
  },
  {
   "cell_type": "code",
   "execution_count": null,
   "id": "e3b8a09f",
   "metadata": {},
   "outputs": [],
   "source": [
    "revisions = page.revisions(content=True)"
   ]
  },
  {
   "cell_type": "code",
   "execution_count": null,
   "id": "73d99ea6",
   "metadata": {},
   "outputs": [],
   "source": [
    "revisions_list = []\n",
    "years = []\n",
    "\n",
    "for i in revisions:\n",
    "    revisions_list.append(i)\n",
    "    years.append(int(str(i['timestamp'])[:4]))\n",
    "years.reverse()\n",
    "revisions_list.reverse()"
   ]
  },
  {
   "cell_type": "code",
   "execution_count": null,
   "id": "fc7c04ee",
   "metadata": {},
   "outputs": [],
   "source": [
    "# years"
   ]
  },
  {
   "cell_type": "code",
   "execution_count": null,
   "id": "3eba7ec4",
   "metadata": {},
   "outputs": [],
   "source": [
    "# revisions_list[-1]"
   ]
  },
  {
   "cell_type": "code",
   "execution_count": null,
   "id": "5f4963af",
   "metadata": {},
   "outputs": [],
   "source": [
    "yearly_revisions = []\n",
    "for i in range(years[0], years[-1]+1):\n",
    "    index = years.index(i)\n",
    "    yearly_revisions.append(revisions_list[index])"
   ]
  },
  {
   "cell_type": "code",
   "execution_count": null,
   "id": "c21d90e5",
   "metadata": {},
   "outputs": [],
   "source": [
    "# yearly_revisions[-1]"
   ]
  },
  {
   "cell_type": "code",
   "execution_count": null,
   "id": "dafeb949",
   "metadata": {},
   "outputs": [],
   "source": [
    "text = yearly_revisions[-1].text"
   ]
  },
  {
   "cell_type": "code",
   "execution_count": null,
   "id": "899c8dec",
   "metadata": {},
   "outputs": [],
   "source": [
    "parsed = mwparserfromhell.parse(text)"
   ]
  },
  {
   "cell_type": "code",
   "execution_count": null,
   "id": "a2c5173b",
   "metadata": {},
   "outputs": [],
   "source": [
    "print(parsed.strip_code())"
   ]
  },
  {
   "cell_type": "code",
   "execution_count": null,
   "id": "878c536c",
   "metadata": {},
   "outputs": [],
   "source": []
  },
  {
   "cell_type": "markdown",
   "id": "425df720",
   "metadata": {},
   "source": [
    "## 3.6. Challanges\n",
    "\n",
    "Facebook completely closed down many of it’s APIs and it is not very hard to get Facebook data besides CrowdTangle or FB Ads.\n",
    "\n",
    "Twitter’s API now has the version 2 with substantial changes. \n",
    "\n",
    "These challanges make us stay vigilant and continuously update our code to keep up with the APIs.\n",
    "\n",
    "- More on Social Media data collection and data quality:\n",
    "https://www.slideshare.net/suchprettyeyes/working-with-socialmedia-data-ethics-good-practice-around-collecting-using-and-storing-data"
   ]
  },
  {
   "cell_type": "markdown",
   "id": "3fe29c81",
   "metadata": {},
   "source": [
    "## 3.7. References\n",
    "\n",
    "Zenk-Möltgen, Wolfgang (GESIS - Leibniz Institute for the Social Sciences), Python Script to rehydrate Tweets from Tweet IDs https://doi.org/10.7802/1504\n",
    "\n",
    "Pfeffer, Morstatter (2016): Geotagged Twitter posts from the United States: A tweet collection to investigate representativeness. Dataset. http://dx.doi.org/10.7802/1166\n",
    "\n",
    "Do not miss checking out the Social Comquant Workshop 10 at:https://github.com/strohne/autocol\n",
    "\n",
    "- Useful links for getting started with Twitter API v2\n",
    "    - [Comprehensive Guide for Using the Twitter API v2](https://dev.to/twitterdev/a-comprehensive-guide-for-using-the-twitter-api-v2-using-tweepy-in-python-15d9#:~:text=Tweepy%20is%20a%20popular%20package,the%20academic%20research%20product%20track)\n",
    "    - [Step by Step Guide to Making Your First Request to the Twitter API v2](https://developer.twitter.com/en/docs/tutorials/step-by-step-guide-to-making-your-first-request-to-the-twitter-api-v2)\n",
    "    - [Getting Started with Data Collection Using Twitter API v2](https://towardsdatascience.com/getting-started-with-data-collection-using-twitter-api-v2-in-less-than-an-hour-600fbd5b5558#39c4)\n",
    "    - [An Extensive Guide to Collecting Tweets from Twitter API v2 for Academic REsearch Using Python 3](https://towardsdatascience.com/an-extensive-guide-to-collecting-tweets-from-twitter-api-v2-for-academic-research-using-python-3-518fcb71df2a)\n",
    "    - [What Pythong package is best for getting data from Twitter](https://towardsdatascience.com/what-python-package-is-best-for-getting-data-from-twitter-comparing-tweepy-and-twint-f481005eccc9)\n",
    "\n",
    "- Useful links for getting started with Reddit API\n",
    "    - https://www.reddit.com/r/TheoryOfReddit/wiki/collecting_data/- \n",
    "    - https://towardsdatascience.com/scrape-reddit-data-using-python-and-google-bigquery-44180b579892\n",
    "    - https://github.com/akhilesh-reddy/Cable-cord-cutter-Sentiment-analysis-using-Reddit-data\n",
    "    \n",
    "<a href=\"https://www.flaticon.com/free-icons/database\" title=\"database icons\">Database icons created by Smashicons - Flaticon</a>\n",
    "\n",
    "<a href=\"https://de.freepik.com/vektoren/logo\">Logo Vektor erstellt von rawpixel.com - de.freepik.com</a>\n",
    "\n",
    "<a href=\"http://www.freepik.com\">Designed by stories / Freepik</a>\n",
    "\n"
   ]
  },
  {
   "cell_type": "markdown",
   "id": "3932b9e5",
   "metadata": {},
   "source": [
    "### Note: Alternative Ways for Twitter Academic API or Premium Account\n",
    "\n",
    "The search function mandatorily requires environment label and query argument. Label your Application on Twitter Developer page: https://developer.twitter.com/en/account/environments\n",
    "\n",
    "You can optionally add the fromDate and toDate fields to filter search results by time.\n",
    "\n",
    "The format of dates should \"YYYYMMDDHHMM\".\n",
    "\n",
    "tweets_month = api.search_30_day(label='teaching', query=search_words, \n",
    "                                 fromDate=\"202202201000\", toDate=\"202203010000\")\n",
    "\n",
    "Now, you can dump your results into json format *don't forget to import json*: print(json.dumps(tweet_results[0]._json, indent=4, sort_keys=True))\n",
    "                                 \n",
    "For further interest, visit: https://towardsdatascience.com/how-to-use-twitter-premium-search-apis-for-mining-tweets-2705bbaddca\n",
    "\n",
    "Also, there is another library called Twarc2 to explore for further data collection with Twitter v2 API:\n",
    "https://twarc-project.readthedocs.io/en/latest/api/client2/\n",
    "\n",
    "An academic research product:\n",
    "https://github.com/twitterdev/getting-started-with-the-twitter-api-v2-for-academic-research/blob/main/modules/6a-labs-code-academic-python.md\n",
    "\n",
    "A standart product: \n",
    "https://github.com/twitterdev/getting-started-with-the-twitter-api-v2-for-academic-research/blob/main/modules/6b-labs-code-standard-python.md"
   ]
  }
 ],
 "metadata": {
  "kernelspec": {
   "display_name": "Python 3 (ipykernel)",
   "language": "python",
   "name": "python3"
  },
  "language_info": {
   "codemirror_mode": {
    "name": "ipython",
    "version": 3
   },
   "file_extension": ".py",
   "mimetype": "text/x-python",
   "name": "python",
   "nbconvert_exporter": "python",
   "pygments_lexer": "ipython3",
   "version": "3.8.5"
  }
 },
 "nbformat": 4,
 "nbformat_minor": 5
}
