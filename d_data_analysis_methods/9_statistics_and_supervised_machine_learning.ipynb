{
 "cells": [
  {
   "cell_type": "markdown",
   "id": "583054cb",
   "metadata": {},
   "source": [
    "# 8. Statistics & supervised machine learning\n",
    "\n",
    "Explanation vs. prediction\n",
    "\n",
    "TO DECIDE\n",
    "- ...\n",
    "\n",
    "### Text book\n",
    "\n",
    "- ...\n",
    "\n",
    "### Notes\n",
    "\n",
    "- Check https://doi.org/10.1145/1150402.1150412\n"
   ]
  },
  {
   "cell_type": "markdown",
   "id": "b5b9299d",
   "metadata": {},
   "source": [
    "## 9.1. Explanation (statistical modeling)\n",
    "\n",
    "Example: TweetsCOV19\n",
    "- Explain number of tweet's retweets by message and user features"
   ]
  },
  {
   "cell_type": "code",
   "execution_count": null,
   "id": "7d818ce3",
   "metadata": {},
   "outputs": [],
   "source": [
    "# model fit r^2\n",
    "# variable transformation\n",
    "# hypothesis and significance testing\n",
    "# generalized linear model: linear and logistic regression"
   ]
  },
  {
   "cell_type": "code",
   "execution_count": null,
   "id": "ab467b9b",
   "metadata": {},
   "outputs": [],
   "source": []
  },
  {
   "cell_type": "markdown",
   "id": "f09475fd",
   "metadata": {},
   "source": [
    "## 9.2. Prediction (supervised machine learning)\n",
    "\n",
    "- Out-of-sample validation\n",
    "- Train/test splitting\n",
    "- Cross validation\n",
    "- Data leakage\n",
    "- Feature selection"
   ]
  },
  {
   "cell_type": "code",
   "execution_count": null,
   "id": "333d3e4e",
   "metadata": {},
   "outputs": [],
   "source": [
    "# linear and logistic regression, compare results\n",
    "# decision tree\n",
    "# neural net off the shelf"
   ]
  },
  {
   "cell_type": "code",
   "execution_count": null,
   "id": "9ecd7989",
   "metadata": {},
   "outputs": [],
   "source": []
  },
  {
   "cell_type": "markdown",
   "id": "801a732f",
   "metadata": {},
   "source": [
    "## 9.3. With representations\n",
    "\n",
    "Check https://doi.org/10.1073/pnas.1218772110\n",
    "\n",
    "- Extend features by hashtag/named entity/mention representations"
   ]
  },
  {
   "cell_type": "code",
   "execution_count": null,
   "id": "590fa060",
   "metadata": {},
   "outputs": [],
   "source": []
  },
  {
   "cell_type": "markdown",
   "id": "f6d1b5bc",
   "metadata": {},
   "source": [
    "## 9.4. Ensemble methods"
   ]
  },
  {
   "cell_type": "code",
   "execution_count": null,
   "id": "e9964939",
   "metadata": {},
   "outputs": [],
   "source": []
  },
  {
   "cell_type": "markdown",
   "id": "76d0b4a3",
   "metadata": {},
   "source": [
    "## 9.5. Model selection\n",
    "\n",
    "- By interpretability\n",
    "- By predictive accuracy"
   ]
  },
  {
   "cell_type": "code",
   "execution_count": null,
   "id": "b5842683",
   "metadata": {},
   "outputs": [],
   "source": []
  },
  {
   "cell_type": "code",
   "execution_count": null,
   "id": "a5c53d1f",
   "metadata": {},
   "outputs": [],
   "source": []
  }
 ],
 "metadata": {
  "kernelspec": {
   "display_name": "Python 3 (ipykernel)",
   "language": "python",
   "name": "python3"
  },
  "language_info": {
   "codemirror_mode": {
    "name": "ipython",
    "version": 3
   },
   "file_extension": ".py",
   "mimetype": "text/x-python",
   "name": "python",
   "nbconvert_exporter": "python",
   "pygments_lexer": "ipython3",
   "version": "3.9.12"
  }
 },
 "nbformat": 4,
 "nbformat_minor": 5
}
