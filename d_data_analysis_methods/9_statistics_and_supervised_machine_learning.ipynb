{
 "cells": [
  {
   "cell_type": "markdown",
   "id": "583054cb",
   "metadata": {},
   "source": [
    "# 8. Statistics & supervised machine learning\n",
    "\n",
    "Explanation vs. prediction\n",
    "\n",
    "TO DECIDE\n",
    "- ...\n",
    "\n",
    "### Text book\n",
    "\n",
    "- Computer Age Statistical Inference\n",
    "\n",
    "### Notes\n",
    "\n",
    "- Check https://doi.org/10.1145/1150402.1150412\n"
   ]
  },
  {
   "cell_type": "markdown",
   "id": "b5b9299d",
   "metadata": {},
   "source": [
    "## 9.1. Explanation (statistical modeling)\n",
    "\n",
    "Example: TweetsCOV19\n",
    "- Explain number of tweet's retweets by message and user features\n",
    "\n",
    "https://jakevdp.github.io/PythonDataScienceHandbook/05.06-linear-regression.html"
   ]
  },
  {
   "cell_type": "code",
   "execution_count": null,
   "id": "7d818ce3",
   "metadata": {},
   "outputs": [],
   "source": [
    "# model fit r^2\n",
    "# variable transformation\n",
    "# hypothesis and significance testing\n",
    "# generalized linear model: linear and logistic regression"
   ]
  },
  {
   "cell_type": "code",
   "execution_count": null,
   "id": "ab467b9b",
   "metadata": {},
   "outputs": [],
   "source": []
  },
  {
   "cell_type": "markdown",
   "id": "f09475fd",
   "metadata": {},
   "source": [
    "## 9.2. Prediction (supervised machine learning)\n",
    "\n",
    "- Out-of-sample validation\n",
    "- Train/test splitting\n",
    "- Cross validation\n",
    "- Data leakage\n",
    "- Feature selection\n",
    "- Over- and underfitting\n",
    "\n",
    "- https://jakevdp.github.io/PythonDataScienceHandbook/05.03-hyperparameters-and-model-validation.html\n"
   ]
  },
  {
   "cell_type": "code",
   "execution_count": 1,
   "id": "333d3e4e",
   "metadata": {},
   "outputs": [],
   "source": [
    "# linear and logistic regression, compare results"
   ]
  },
  {
   "cell_type": "code",
   "execution_count": null,
   "id": "deff59ae",
   "metadata": {},
   "outputs": [],
   "source": []
  },
  {
   "cell_type": "markdown",
   "id": "21de5e9e",
   "metadata": {},
   "source": [
    "BOXES: REFER TO SUPPORT VECTOR MACHINES AND NAIVE BAYES CLASSIFICATION\n",
    "\n",
    "https://jakevdp.github.io/PythonDataScienceHandbook/05.07-support-vector-machines.html\n",
    "https://jakevdp.github.io/PythonDataScienceHandbook/05.05-naive-bayes.html"
   ]
  },
  {
   "cell_type": "code",
   "execution_count": null,
   "id": "9ecd7989",
   "metadata": {},
   "outputs": [],
   "source": []
  },
  {
   "cell_type": "markdown",
   "id": "f6d1b5bc",
   "metadata": {},
   "source": [
    "## 9.3. Decision trees and random forests\n",
    "\n",
    "https://jakevdp.github.io/PythonDataScienceHandbook/05.08-random-forests.html"
   ]
  },
  {
   "cell_type": "code",
   "execution_count": null,
   "id": "590fa060",
   "metadata": {},
   "outputs": [],
   "source": []
  },
  {
   "cell_type": "markdown",
   "id": "801a732f",
   "metadata": {},
   "source": [
    "## 9.4. Towards deep learning\n",
    "\n",
    "Check https://doi.org/10.1073/pnas.1218772110\n",
    "\n",
    "- Convey an understanding of neural networks and deep learning\n",
    "- Start by extendin features by hashtag/named entity/mention representations\n",
    "- Use neural network off the sklearn shelf"
   ]
  },
  {
   "cell_type": "code",
   "execution_count": null,
   "id": "e9964939",
   "metadata": {},
   "outputs": [],
   "source": []
  },
  {
   "cell_type": "markdown",
   "id": "76d0b4a3",
   "metadata": {},
   "source": [
    "## 9.5. Model selection\n",
    "\n",
    "- By interpretability\n",
    "- By predictive accuracy"
   ]
  },
  {
   "cell_type": "code",
   "execution_count": null,
   "id": "b5842683",
   "metadata": {},
   "outputs": [],
   "source": []
  },
  {
   "cell_type": "code",
   "execution_count": null,
   "id": "a5c53d1f",
   "metadata": {},
   "outputs": [],
   "source": []
  }
 ],
 "metadata": {
  "kernelspec": {
   "display_name": "Python 3 (ipykernel)",
   "language": "python",
   "name": "python3"
  },
  "language_info": {
   "codemirror_mode": {
    "name": "ipython",
    "version": 3
   },
   "file_extension": ".py",
   "mimetype": "text/x-python",
   "name": "python",
   "nbconvert_exporter": "python",
   "pygments_lexer": "ipython3",
   "version": "3.9.12"
  }
 },
 "nbformat": 4,
 "nbformat_minor": 5
}
