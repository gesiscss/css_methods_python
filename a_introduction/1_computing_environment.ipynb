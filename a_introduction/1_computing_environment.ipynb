{
 "cells": [
  {
   "cell_type": "markdown",
   "id": "94d2a7d9",
   "metadata": {},
   "source": [
    "<img src='images/gesis.png' style='height: 60px; float: left'>\n",
    "<img src='images/social_comquant.png' style='height: 50px; float: left; margin-left: 40px'>\n",
    "<img src='images/isi.png' style='height: 50px; float: left; margin-left: 20px'>  "
   ]
  },
  {
   "cell_type": "markdown",
   "id": "adae7856",
   "metadata": {},
   "source": [
    "Authors: N. Gizem Bacaksizlar Turbic and Haiko Lietz\n",
    "\n",
    "Date: 20 May 2022"
   ]
  },
  {
   "cell_type": "markdown",
   "id": "3cd4ea4a",
   "metadata": {},
   "source": [
    "# 1. Software Installation\n",
    "This notebook is a preparation for the further sessions. \n",
    "\n",
    "We will be working with the newest Python version (currently 3.9), and we will use Jupyter Notebooks for the teaching. Python versions can be found from here: https://www.python.org/downloads/\n",
    "\n",
    "# 1.1. Download Python to your local computer. <img src=\"./images/python.png\"  width=\"100\" height = \"100\" align=\"right\"/>\n",
    "\n",
    "You can directly install Python to your computer. Here, we share the steps with you below:\n",
    "\n",
    "- Select the version of Python to install.\n",
    "\n",
    "- Download Python Executable Installer and run it.\n",
    "\n",
    "- For **Windows** users: Don't miss the step to make Python available in the PATH. If you can't call pip or python from the command prompt, it might be necessary that you first add Python and pip to the PATH variable of your computer. \n",
    "    - How to do that:\n",
    "        - Navigate to the file on your computer where python.exe and pip.exe are located and copy the folder path: C:\\Users\\yourusername\\AppData\\Local\\Programs\\Python\\Python310\\Scripts\n",
    "        - Then edit the environment variables by navigating to Control Panel -> System and Security -> Sytem -> Advanced System Settings -> Environment Variables. \n",
    "       - Click on the \"Path\" variable and then click on \"Edit\" -> \"New\" and paste your folder path.\n",
    "       \n",
    "- For **Mac** users: The Apple-provided build of Python is installed in /System/Library/Frameworks/Python.framework and /usr/bin/python, respectively. You should never modify or delete these, as they are Apple-controlled and are used by Apple- or third-party software. \n",
    "    - If you choose to install a newer Python version, you will have more than one but functional Python installations on your computer, so it will be important that your paths and usages are consistent with what you want to do. You can find more information from [here](https://docs.python.org/3/using/mac.html).\n",
    "\n",
    "## 1.2. Use Anaconda as a Python-distribution.\n",
    "\n",
    "<img src=\"./images/anaconda.png\"  width=\"400\" height = \"400\" align=\"right\"/>\n",
    "\n",
    "Alternatively, you can use a Python-distribution such as Anaconda: https://www.anaconda.com/products/individual.\n",
    "\n",
    "Anaconda is an open data science platform powered by Python. It comes with many code libraries/packages for Python already installed. It also comes equipped with Jupyter Notebooks.\n",
    "\n",
    "A good video describing the general installation of Anaconda:  \n",
    "https://www.youtube.com/watch?v=YJC6ldI3hWk  \n",
    "\n",
    "If you need Get Additional Installers, visit [here](https://www.anaconda.com/products/individual?modal=commercial#Downloads) and dowload the installer you need.\n",
    "\n",
    "For the archive of Anaconda, please visit: https://repo.anaconda.com/archive/"
   ]
  },
  {
   "cell_type": "markdown",
   "id": "e6de5b61",
   "metadata": {},
   "source": [
    "# 2. How to use Jupyter notebooks\n",
    "\n",
    "You can launch Jupyter notebooks either directly (on Windows through the icon in the start menu; on Linux by typing jupyter-notebook in the terminal) or through the Anaconda Navigator. \n",
    "\n",
    " \n",
    "A useful video to show how to start/use Jupyter notebooks: \n",
    "https://www.youtube.com/watch?v=HW29067qVWk \n",
    " \n",
    "Troubleshooting resources can be found at: \n",
    "https://docs.continuum.io/anaconda/install \n",
    "\n",
    "Jupyter/IPython Notebook Quick Start Guide is here:\n",
    "http://jupyter-notebook-beginner-guide.readthedocs.io/en/latest/  "
   ]
  },
  {
   "cell_type": "markdown",
   "id": "d09370b8",
   "metadata": {},
   "source": [
    "# 3. Python basics \n",
    "\n",
    "Once you have set your jupter-notebook up, make yourself acquainted with the notebook environment. It's basically a webpage with executable code. Code is run by clicking the \"run cell\" button (eighth square from the left).\n",
    "\n",
    "There are many great keyboard shortcuts. Press 'H' to see a cheat sheet/keyboard shortcuts.\n",
    "\n",
    "A good introduction is [this video right here](https://www.youtube.com/watch?v=HW29067qVWk). \n",
    " "
   ]
  },
  {
   "cell_type": "markdown",
   "id": "b176b0d9",
   "metadata": {},
   "source": [
    "# 4. Imports\n",
    "\n",
    "A central building block of Python, and especially the distribution of Anaconda you should have installed, is the ability to import additional modules, packages or libraries into your current script with the 'import' command. "
   ]
  },
  {
   "cell_type": "code",
   "execution_count": 1,
   "id": "843b5b54",
   "metadata": {},
   "outputs": [],
   "source": [
    "# For instance, we can import math library to do some math :)\n",
    "import math"
   ]
  },
  {
   "cell_type": "code",
   "execution_count": 2,
   "id": "89c7c899",
   "metadata": {},
   "outputs": [
    {
     "data": {
      "text/plain": [
       "3.58351893845611"
      ]
     },
     "execution_count": 2,
     "metadata": {},
     "output_type": "execute_result"
    }
   ],
   "source": [
    "math.log(36)"
   ]
  },
  {
   "cell_type": "code",
   "execution_count": 3,
   "id": "7de7c558",
   "metadata": {},
   "outputs": [
    {
     "data": {
      "text/plain": [
       "-1.0"
      ]
     },
     "execution_count": 3,
     "metadata": {},
     "output_type": "execute_result"
    }
   ],
   "source": [
    "math.cos(math.pi)"
   ]
  },
  {
   "cell_type": "code",
   "execution_count": 4,
   "id": "b91ecca9",
   "metadata": {},
   "outputs": [],
   "source": [
    "# When the library name is longer, you might like to shorten the name of the library, for example:\n",
    "import math as mt"
   ]
  },
  {
   "cell_type": "code",
   "execution_count": 5,
   "id": "0039441a",
   "metadata": {},
   "outputs": [
    {
     "data": {
      "text/plain": [
       "3.58351893845611"
      ]
     },
     "execution_count": 5,
     "metadata": {},
     "output_type": "execute_result"
    }
   ],
   "source": [
    "mt.log(36) # Note that you have to type the module name (\"math\" or \"mt\") before each function call. "
   ]
  },
  {
   "cell_type": "code",
   "execution_count": 6,
   "id": "f5b06f89",
   "metadata": {},
   "outputs": [
    {
     "data": {
      "text/plain": [
       "38.25"
      ]
     },
     "execution_count": 6,
     "metadata": {},
     "output_type": "execute_result"
    }
   ],
   "source": [
    "# However, you can also import a specific function of a module. Then, the expilicit call is not necessary.\n",
    "from statistics import mean\n",
    "mean([22,45,30,56])"
   ]
  },
  {
   "cell_type": "markdown",
   "id": "494cc4d9",
   "metadata": {},
   "source": [
    "# 4. Libraries/Packages\n",
    "\n",
    "Now that you know of the basics of importing, you should make ourselves comfortable with using multiple libraries, packages. \n",
    "\n",
    "To install packages, you need to be familiar with **pip**, which is a package management system (package manager) in Python to install and manage software packages.\n",
    "\n",
    "First of all, you need to open your command prompt that is an interface (panel) in which a user can type and execute text based command for an operating system or program.\n",
    "\n",
    "- To find that, **Windows** users should press on the Windows key and search for \"cmd\", and **Mac** users should search for the \"terminal\". \n",
    "- Then, in your command prompt (cmd or terminal), type the following commands to be able to install packages that you would like to work with. For instance, Pandas, Matplotlib, BeautifuSoup, and NLTK are some of the packages we will be using througout the course.\n",
    "        pip install pandas\n",
    "        pip install matplotlib\n",
    "        pip install beautifulsoup4\n",
    "        pip install nltk\n",
    "\n",
    "Note 1: If you need to run specific libraries, which are compatible with older versions of Python, then you need to find and install that specific Python version from https://www.python.org/downloads/.\n",
    "\n",
    "Note 2: If you encounter any error while installing packages or software, remember you are not the only one. Do not worry! :) First try to trouble shoot it by googling your problem. [Stack Overflow](https://stackoverflow.com/) should be the first website to visit! It is the largest, most trusted online community and network for developers to learn, share their programming knowledge, and build their careers. If you still have questions or want to discuss how to ask questions, feel free to reach out to us at socialcomquant@ku.edu.tr :)"
   ]
  },
  {
   "cell_type": "markdown",
   "id": "34194f77",
   "metadata": {},
   "source": [
    "# 5. Google Colab\n",
    "\n",
    "Colaboratory, or [Colab](https://research.google.com/colaboratory/faq.html#:~:text=Colaboratory%2C%20or%20%E2%80%9CColab%E2%80%9D%20for,learning%2C%20data%20analysis%20and%20education.) for short, is a product from Google Research. Colab allows anybody to write and execute arbitrary python code through the browser, and is especially well suited to machine learning, data analysis and education. More technically, Colab is a hosted Jupyter notebook service that requires no setup to use, while providing access free of charge to computing resources including GPUs.\n",
    "\n",
    "Colab runs on a Linux-based hosted system, so you can run Linux commands on it directly in order to install your desired packages. Note that the colab environments that you create this way are basically inconsistent; you need to install the packages and set the environment again after a while, every time you close Colab and get disconnected.\n",
    "\n",
    "After creating an account and logging in, Click on *file* and then *Open notebook*. Then, under the GitHub tab, you can enter the github link of the CSS methods and see the sessions' notebooks:\n",
    "\n",
    "<img src='images/Colab.png' style='height: 500px; margin-left: 20px'>\n",
    " \n",
    "\n",
    "By clicking on the notebooks you can open them in Colab and start working with them. Just be careful that **the markup cells are a little bit different in colab atmosphere; you may miss some of the visual features of the notebooks there.**\n",
    "\n",
    "### Reading files\n",
    "\n",
    "Later in the course, you will need to work with different files in the notebooks and read data from some of them. There are two ways for reading files in Colab:\n",
    "\n",
    " - You can directly upload the files to your working directory\n",
    " - You can read the file from your google drive\n",
    " \n",
    "For the first option, from the left side of the page, you can click on `files` and them `Upload to session storage`:\n",
    "\n",
    "<img src='images/Colab2.png' style='height: 500px; margin-left: 20px'>\n",
    "\n",
    "Reading files from your google drive is a little bit more complicated.\n",
    "\n",
    "After uploading the file to your google drive, you need to go to its directory and after right-clicking on it, get its link. The link must look something like this:\n",
    "\n",
    "drive.google.com/file/d/**1JRwaNcCjrF64o9f1nTnLbQqc3ZyoocfU**/view?usp=share_link\n",
    "\n",
    "We need the part between `file/d/` and `view?`, which is in bold text format above. Save that as a string in a `file_id` variable:"
   ]
  },
  {
   "cell_type": "code",
   "execution_count": 2,
   "id": "3554b12b",
   "metadata": {},
   "outputs": [],
   "source": [
    "file_id = '1JRwaNcCjrF64o9f1nTnLbQqc3ZyoocfU'"
   ]
  },
  {
   "cell_type": "markdown",
   "id": "dfbc473b",
   "metadata": {},
   "source": [
    "Then you need to run the following lines of code:"
   ]
  },
  {
   "cell_type": "code",
   "execution_count": null,
   "id": "7f496ab5",
   "metadata": {},
   "outputs": [],
   "source": [
    "!pip install -U -q PyDrive\n",
    "\n",
    "from google.colab import auth\n",
    "from oauth2client.client import GoogleCredentials\n",
    "from pydrive.auth import GoogleAuth\n",
    "from pydrive.drive import GoogleDrive\n",
    "\n",
    "auth.authenticate_user()\n",
    "gauth = GoogleAuth()\n",
    "gauth.credentials = GoogleCredentials.get_application_default()\n",
    "drive = GoogleDrive(gauth)"
   ]
  },
  {
   "cell_type": "markdown",
   "id": "43503cbf",
   "metadata": {},
   "source": [
    "By running the above code, you will be asked to grant permission to colab for accessing your google drive data. Click on `allow` and follow the further steps."
   ]
  },
  {
   "cell_type": "markdown",
   "id": "aaaf2130",
   "metadata": {},
   "source": [
    "Now you can read the file by running the following code. Let's say you want to read a csv file named `csv_test.csv`. It will be like this:"
   ]
  },
  {
   "cell_type": "code",
   "execution_count": null,
   "id": "6b20c416",
   "metadata": {},
   "outputs": [],
   "source": [
    "import pandas as pd\n",
    "\n",
    "downloaded = drive.CreateFile({'id' : file_id}) \n",
    "downloaded.GetContentFile('csv_test.csv')\n",
    "\n",
    "csv_test = pd.read_csv('csv_test.csv')"
   ]
  },
  {
   "cell_type": "markdown",
   "id": "974e4572",
   "metadata": {},
   "source": [
    "### Installing additional packages\n",
    "\n",
    "As mentioned before, you can install additional packages in your colab environment using the `!pip` command. As of this writing, the default google colab environment has got most of the packages necessary for running the notebooks of this course. There are only a few packages you need to manually install using `!pip`, to be able to run all the cells in the notebooks:\n",
    "\n",
    "- In session 2, you'll need to install `xlsxwriter` and `powerlaw` packages:\n",
    "    \t!pip install xlsxwriter\n",
    "        !pip install powerlaw\n",
    "\n",
    "- In session 3, you'll need to install `wikipedia`, `pywikibot`, `mwparserfromhell` and `wikitextparser` packages:\n",
    "        !pip install wikipedia\n",
    "        !pip install pywikibot\n",
    "        !pip install mwparserfromhell\n",
    "        !pip install wikitextparser\n",
    "\t\n",
    "- In session 4, you'll need to install `feedparser` and `selenium` packages:\n",
    "    \t!pip install feedparser\n",
    "        !pip install install selenium\n",
    "        \n",
    "- In session 5, you'll need to install the `pygraphviz` package. For this one, you will need to first install some things with `sudo apt-get`:\n",
    "\t\t!sudo apt-get install graphviz graphviz-dev\n",
    "\t\t!pip install pygraphviz\n",
    "        \n",
    "        \n",
    "- In session 6, you'll need to install `emoji` and `textacy` packages:\n",
    "    \t!pip install emoji\n",
    "        !pip install textacy\n",
    "        \n",
    "- In session 8, you'll need to install the `factor-analyzer` package:\n",
    "\t\t!pip install factor-analyzer"
   ]
  },
  {
   "cell_type": "markdown",
   "id": "3fe29c81",
   "metadata": {},
   "source": [
    "# 6. Optional Materials for Preparation\n",
    "\n",
    "Here is a Data Science textbook from the perspective of the Social Sciences:  \n",
    "Foster, I., Ghani, R., Jarmin, R. S., Kreuter, F., & Lane, J. (2016). Big data and social science: A practical guide to methods and tools. Chapman and Hall/CRC.\n",
    "\n",
    "A fine introduction for newcomers with a focus on data handling can be found in this book:  \n",
    "McKinney, W. (2012). Python for data analysis: Data wrangling with Pandas, NumPy, and IPython. \" O'Reilly Media, Inc.\".\n",
    "\n",
    "For the beginners in Data Science, we highly recommend this handbook below:  \n",
    "VanderPlas, J. (2016). Python data science handbook: Essential tools for working with data. \" O'Reilly Media, Inc.\".\n"
   ]
  },
  {
   "cell_type": "markdown",
   "id": "f192a458",
   "metadata": {},
   "source": [
    "# 7. Additional Resources\n",
    "\n",
    "Programming for Everybody (getting started with Python):  \n",
    "https://www.coursera.org/learn/python?specialization=python\n",
    "\n",
    "Applied Data Science with Python:  \n",
    "https://www.coursera.org/specializations/data-science-python\n",
    "\n",
    "Introduction to Computer Science and Programming in Python:  \n",
    "https://ocw.mit.edu/courses/electrical-engineering-and-computer-science/6-0001-introduction-to-computer-science-and-programming-in-python-fall-2016/\n",
    "\n",
    "Introduction to Computational Thinking and Data Science:  \n",
    "https://ocw.mit.edu/courses/electrical-engineering-and-computer-science/6-0002-introduction-to-computational-thinking-and-data-science-fall-2016/\n",
    "\n",
    "Finally, more basic tutorials can be found in the links below: \n",
    "- https://github.com/jupyter/jupyter/wiki#introductory-tutorials\n",
    "- https://docs.python.org/3.10/tutorial/index.html\n",
    "- https://developers.google.com/edu/python\n",
    "- https://awesome-python.com/ "
   ]
  },
  {
   "cell_type": "code",
   "execution_count": null,
   "id": "baf318d2",
   "metadata": {},
   "outputs": [],
   "source": []
  }
 ],
 "metadata": {
  "kernelspec": {
   "display_name": "Python 3 (ipykernel)",
   "language": "python",
   "name": "python3"
  },
  "language_info": {
   "codemirror_mode": {
    "name": "ipython",
    "version": 3
   },
   "file_extension": ".py",
   "mimetype": "text/x-python",
   "name": "python",
   "nbconvert_exporter": "python",
   "pygments_lexer": "ipython3",
   "version": "3.8.5"
  }
 },
 "nbformat": 4,
 "nbformat_minor": 5
}
