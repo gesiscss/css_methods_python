{
 "cells": [
  {
   "cell_type": "markdown",
   "id": "e607ca26",
   "metadata": {},
   "source": [
    "<img src='images/gesis.png' style='height: 50px; float: left'>\n",
    "<img src='images/social_comquant.png' style='height: 50px; float: left; margin-left: 40px'>"
   ]
  },
  {
   "cell_type": "markdown",
   "id": "662b5253",
   "metadata": {},
   "source": [
    "#### Notes to be removed before publication\n",
    "\n",
    "Reviewers: Olya & Helena"
   ]
  },
  {
   "cell_type": "markdown",
   "id": "b70bc56f",
   "metadata": {},
   "source": [
    "## Introduction to Computational Social Science methods with Python"
   ]
  },
  {
   "cell_type": "markdown",
   "id": "71218328",
   "metadata": {},
   "source": [
    "# Session 2: Data management and visualization\n",
    "\n",
    "**Data** has two components: content and structure. Plain text data is unstructured, but its content can also be represented in a structured way. Data representations reside in a continuum of structuration. The rectangular table (also called dataframe or spreadsheet) is the most frequent data format in the social sciences because data is structured. Hierarchical data formats like JSON and HTML are semi-structured, and text data is unstructured (<a href='#weidmann_2022'>Weidmann 2022</a><a id='#weidmann_2022'></a>, ch. 3). In the practice of Computational Social Science, everything revolves around data. The so-called research life cycle consists of the three steps of data collection, data processing, and data analysis. During this cycle, data changes its face: it is transformed from a raw state to a state in which it is ready for analysis. **Data processing** subsumes the steps in which this transformation takes place (Weidmann 2022, ch. 1).\n",
    "\n",
    "**Data management** refers to the practices by which we stay in control of data as a resource. Data is best managed when the focus is on practical questions. Since data processing is the central step of the research life towards answering those questions, it is strategically advantageous to also focus data management on data processing. Computational data processing workflows are advantageous because they fully document all the many steps from data collection to data analysis, they are convenient (like your favorite spreadsheet software could never be), they are replicable (nowadays in high demand by scholarly journals), they can be scaled up (necessary for [big data](https://en.wikipedia.org/wiki/Big_data)), and they offer the needed flexibility in the face of semi-structured or unstructured data sources (Weidmann 2022, p.7–9).\n",
    "\n",
    "The **R** language and environment for statistical computing and graphics is very popular in the social sciences, also because it provides the [Tidyverse](https://www.tidyverse.org/), a collection of mutually adapted packages for tabular data structures, their manipulation (e.g., merging, aggregating), and producing appealing graphics (Weidmann 2022, ch. 7). We argue that **Python** does not need to hide behind R in this regard. The [Pandas](https://pandas.pydata.org/) library for managing tables truly is a \"fast, powerful, flexible and easy to use open source data analysis and manipulation tool\" that, when combined with the [Seaborn](https://seaborn.pydata.org/) statistical data visualization library, leaves nothing to be desired.\n",
    "\n",
    "Pandas can also be used in a way that mimics the functionality of **relational databases**. These are systems where the columns of a table are split into multiple tables such that all reduncancies are eliminated. Relational databases are often used in research when the data is either large in volume or rich in content because they ensure consistency and speed up data processing (Weidmann 2022, part 3). The public [TweetsKB](https://data.gesis.org/tweetskb/) corpus of annotated tweets (Fafalios *et al.* 2018) as well as its offspring, the [TweetsCOV19](https://data.gesis.org/tweetscov19/) corpus (Dimitrov *et al.* 2020), are examples where the data is explicitly modeled relationally and can serve as illustrations of meaningful data management.\n",
    "\n",
    "<div class='alert alert-block alert-success'>\n",
    "<b>In this session</b>, \n",
    "\n",
    "you will learn how you can manage your data, keep it tidy, and visualize it while keeping a focus on your research questions. In subsession **2.1**, we will have a deep look at the rectangular table. You will experience how you can use the Pandas library to handle tables and mimic a relational database in such a way that your data gets ready for analysis. You will see what it means that relational databases eliminate redundancy and ensure consistency. The TweetsCOV19 dataset will function as an example that will shine up repeatedly in this and subsequent sessions. In subsession **2.2**, you will learn how to use the Matplotlib and Seaborn libraries to visualize data. In subsession **2.3**, we will introduce the SciPy and NumPy libraries. SciPy enables you to efficiently process and analyze very large matrices (i.e., 2-dimensional numerical tables) with many zeros or missing values (which is often the case). NumPy allows to work with n-dimensional tables called arrays which are typically needed in in data processing. Finally, in subsession **2.4**, you will learn how to read and write data from and to files. There, we will also work with semi-structured and unstructured data.\n",
    "</div>"
   ]
  },
  {
   "cell_type": "markdown",
   "id": "acc363a2",
   "metadata": {},
   "source": [
    "## 2.1. Using Pandas to relationally manage Twitter data\n",
    "\n",
    "<img src='images/pandas.png' style='height: 100px; float: right; margin-left: 10px'>\n",
    "\n",
    "[Pandas](https://pandas.pydata.org/) is Python's package for data management and processing using 2-dimensional tables. It allows you to work with any kind of observational or statistical data set, including matrices. Column entries can be heterogeneous (i.e., a single column can contain text, numericals, even lists). Pandas is also well-equipped to handle time series data, as we will see. We start with some illustrative toy examples before we enter the almost-big-data world using the TweetsCOV19 dataset."
   ]
  },
  {
   "cell_type": "markdown",
   "id": "e94fdc35",
   "metadata": {},
   "source": [
    "### 2.1.1. Toy examples\n",
    "\n",
    "In subsections 3.2 to 3.4, Weidmann (2022) discusses data, data processing, and the benefit of relational databases using toy examples and the R language. Here, we adapt these examples to Python. Consider the following two pieces of data. Consider that data = content + structure. The two have (almost) the same content but different structure. `sdb` is unstructured, `tdb` is structured:"
   ]
  },
  {
   "cell_type": "code",
   "execution_count": 1,
   "id": "01ef5241",
   "metadata": {},
   "outputs": [
    {
     "data": {
      "text/plain": [
       "'Switzerland is a country with 8.3 million inhabitants, and its capital is Bern. Another country is Austria; its capital is Vienna and the population is 8.7 million.'"
      ]
     },
     "execution_count": 1,
     "metadata": {},
     "output_type": "execute_result"
    }
   ],
   "source": [
    "sdb = 'Switzerland is a country with 8.3 million inhabitants, and its capital is Bern. Another country is Austria; its capital is Vienna and the population is 8.7 million.'\n",
    "sdb"
   ]
  },
  {
   "cell_type": "code",
   "execution_count": 2,
   "id": "b4e92be6",
   "metadata": {},
   "outputs": [],
   "source": [
    "import pandas as pd"
   ]
  },
  {
   "cell_type": "code",
   "execution_count": 3,
   "id": "9c59cf4b",
   "metadata": {},
   "outputs": [
    {
     "data": {
      "text/html": [
       "<div>\n",
       "<style scoped>\n",
       "    .dataframe tbody tr th:only-of-type {\n",
       "        vertical-align: middle;\n",
       "    }\n",
       "\n",
       "    .dataframe tbody tr th {\n",
       "        vertical-align: top;\n",
       "    }\n",
       "\n",
       "    .dataframe thead th {\n",
       "        text-align: right;\n",
       "    }\n",
       "</style>\n",
       "<table border=\"1\" class=\"dataframe\">\n",
       "  <thead>\n",
       "    <tr style=\"text-align: right;\">\n",
       "      <th></th>\n",
       "      <th>country</th>\n",
       "      <th>population</th>\n",
       "      <th>capital</th>\n",
       "    </tr>\n",
       "  </thead>\n",
       "  <tbody>\n",
       "    <tr>\n",
       "      <th>0</th>\n",
       "      <td>Switzerland</td>\n",
       "      <td>8.3</td>\n",
       "      <td>Bern</td>\n",
       "    </tr>\n",
       "    <tr>\n",
       "      <th>1</th>\n",
       "      <td>Austria</td>\n",
       "      <td>8.7</td>\n",
       "      <td>Vienna</td>\n",
       "    </tr>\n",
       "  </tbody>\n",
       "</table>\n",
       "</div>"
      ],
      "text/plain": [
       "       country  population capital\n",
       "0  Switzerland         8.3    Bern\n",
       "1      Austria         8.7  Vienna"
      ]
     },
     "execution_count": 3,
     "metadata": {},
     "output_type": "execute_result"
    }
   ],
   "source": [
    "tdb = pd.DataFrame(data=[['Switzerland', 8.3, 'Bern'], ['Austria', 8.7, 'Vienna']], columns=['country', 'population', 'capital'])\n",
    "tdb"
   ]
  },
  {
   "cell_type": "markdown",
   "id": "cb194bbc",
   "metadata": {},
   "source": [
    "`tdb` is a Pandas table called a [DataFrame](https://pandas.pydata.org/docs/reference/api/pandas.DataFrame.html). The columns of a DataFrame are called [Series](https://pandas.pydata.org/docs/reference/api/pandas.Series.html). A DataFrame contains labeled axes (rows and columns). Axis 0 (the rows) is called the **index**, and its labels consist of integers from $0$ to $n-1$ by default where $n$ is the number of rows:"
   ]
  },
  {
   "cell_type": "code",
   "execution_count": 4,
   "id": "1af92f11",
   "metadata": {},
   "outputs": [
    {
     "data": {
      "text/plain": [
       "RangeIndex(start=0, stop=2, step=1)"
      ]
     },
     "execution_count": 4,
     "metadata": {},
     "output_type": "execute_result"
    }
   ],
   "source": [
    "tdb.index"
   ]
  },
  {
   "cell_type": "markdown",
   "id": "067bbf8a",
   "metadata": {},
   "source": [
    "When no names are given, the **columns** (axis 1) are also labeled in such a way, but using text labels makes the table much more readable:"
   ]
  },
  {
   "cell_type": "code",
   "execution_count": 5,
   "id": "1e4bc142",
   "metadata": {},
   "outputs": [
    {
     "data": {
      "text/plain": [
       "Index(['country', 'population', 'capital'], dtype='object')"
      ]
     },
     "execution_count": 5,
     "metadata": {},
     "output_type": "execute_result"
    }
   ],
   "source": [
    "tdb.columns"
   ]
  },
  {
   "cell_type": "markdown",
   "id": "d6e6728e",
   "metadata": {},
   "source": [
    "Similarly the index can be a list of text labels.\n",
    "\n",
    "Rows, columns, or cells can be extracted by specifying their locations (labels). For example, to extract the capital of Austria:"
   ]
  },
  {
   "cell_type": "code",
   "execution_count": 6,
   "id": "4a408a28",
   "metadata": {},
   "outputs": [
    {
     "data": {
      "text/plain": [
       "'Vienna'"
      ]
     },
     "execution_count": 6,
     "metadata": {},
     "output_type": "execute_result"
    }
   ],
   "source": [
    "tdb.loc[1, 'capital']"
   ]
  },
  {
   "cell_type": "markdown",
   "id": "7ac8cb80",
   "metadata": {},
   "source": [
    "To select all rows where the country is Switzerland:"
   ]
  },
  {
   "cell_type": "code",
   "execution_count": 7,
   "id": "60e4105f",
   "metadata": {},
   "outputs": [
    {
     "data": {
      "text/html": [
       "<div>\n",
       "<style scoped>\n",
       "    .dataframe tbody tr th:only-of-type {\n",
       "        vertical-align: middle;\n",
       "    }\n",
       "\n",
       "    .dataframe tbody tr th {\n",
       "        vertical-align: top;\n",
       "    }\n",
       "\n",
       "    .dataframe thead th {\n",
       "        text-align: right;\n",
       "    }\n",
       "</style>\n",
       "<table border=\"1\" class=\"dataframe\">\n",
       "  <thead>\n",
       "    <tr style=\"text-align: right;\">\n",
       "      <th></th>\n",
       "      <th>country</th>\n",
       "      <th>population</th>\n",
       "      <th>capital</th>\n",
       "    </tr>\n",
       "  </thead>\n",
       "  <tbody>\n",
       "    <tr>\n",
       "      <th>0</th>\n",
       "      <td>Switzerland</td>\n",
       "      <td>8.3</td>\n",
       "      <td>Bern</td>\n",
       "    </tr>\n",
       "  </tbody>\n",
       "</table>\n",
       "</div>"
      ],
      "text/plain": [
       "       country  population capital\n",
       "0  Switzerland         8.3    Bern"
      ]
     },
     "execution_count": 7,
     "metadata": {},
     "output_type": "execute_result"
    }
   ],
   "source": [
    "tdb[tdb['country'] == 'Switzerland']"
   ]
  },
  {
   "cell_type": "markdown",
   "id": "467b88a8",
   "metadata": {},
   "source": [
    "To add a new column:"
   ]
  },
  {
   "cell_type": "code",
   "execution_count": 8,
   "id": "7f0cd947",
   "metadata": {},
   "outputs": [
    {
     "data": {
      "text/html": [
       "<div>\n",
       "<style scoped>\n",
       "    .dataframe tbody tr th:only-of-type {\n",
       "        vertical-align: middle;\n",
       "    }\n",
       "\n",
       "    .dataframe tbody tr th {\n",
       "        vertical-align: top;\n",
       "    }\n",
       "\n",
       "    .dataframe thead th {\n",
       "        text-align: right;\n",
       "    }\n",
       "</style>\n",
       "<table border=\"1\" class=\"dataframe\">\n",
       "  <thead>\n",
       "    <tr style=\"text-align: right;\">\n",
       "      <th></th>\n",
       "      <th>country</th>\n",
       "      <th>population</th>\n",
       "      <th>capital</th>\n",
       "      <th>area</th>\n",
       "    </tr>\n",
       "  </thead>\n",
       "  <tbody>\n",
       "    <tr>\n",
       "      <th>0</th>\n",
       "      <td>Switzerland</td>\n",
       "      <td>8.3</td>\n",
       "      <td>Bern</td>\n",
       "      <td>41</td>\n",
       "    </tr>\n",
       "    <tr>\n",
       "      <th>1</th>\n",
       "      <td>Austria</td>\n",
       "      <td>8.7</td>\n",
       "      <td>Vienna</td>\n",
       "      <td>83</td>\n",
       "    </tr>\n",
       "  </tbody>\n",
       "</table>\n",
       "</div>"
      ],
      "text/plain": [
       "       country  population capital  area\n",
       "0  Switzerland         8.3    Bern    41\n",
       "1      Austria         8.7  Vienna    83"
      ]
     },
     "execution_count": 8,
     "metadata": {},
     "output_type": "execute_result"
    }
   ],
   "source": [
    "tdb['area'] = [41, 83]\n",
    "tdb"
   ]
  },
  {
   "cell_type": "markdown",
   "id": "948eecd4",
   "metadata": {},
   "source": [
    "The values in the <span style='font-family:Courier'>area</span> column are integers:"
   ]
  },
  {
   "cell_type": "code",
   "execution_count": 9,
   "id": "e5584cff",
   "metadata": {},
   "outputs": [
    {
     "data": {
      "text/plain": [
       "dtype('int64')"
      ]
     },
     "execution_count": 9,
     "metadata": {},
     "output_type": "execute_result"
    }
   ],
   "source": [
    "tdb['area'].dtype"
   ]
  },
  {
   "cell_type": "markdown",
   "id": "d3dd0e97",
   "metadata": {},
   "source": [
    "To add a new row, we must first create a DataFrame containing the new row. Then we can [concat](https://pandas.pydata.org/docs/reference/api/pandas.concat.html)enate the two dataframes on the index axis:"
   ]
  },
  {
   "cell_type": "code",
   "execution_count": 10,
   "id": "ac3950f9",
   "metadata": {},
   "outputs": [
    {
     "data": {
      "text/html": [
       "<div>\n",
       "<style scoped>\n",
       "    .dataframe tbody tr th:only-of-type {\n",
       "        vertical-align: middle;\n",
       "    }\n",
       "\n",
       "    .dataframe tbody tr th {\n",
       "        vertical-align: top;\n",
       "    }\n",
       "\n",
       "    .dataframe thead th {\n",
       "        text-align: right;\n",
       "    }\n",
       "</style>\n",
       "<table border=\"1\" class=\"dataframe\">\n",
       "  <thead>\n",
       "    <tr style=\"text-align: right;\">\n",
       "      <th></th>\n",
       "      <th>country</th>\n",
       "      <th>population</th>\n",
       "      <th>capital</th>\n",
       "      <th>area</th>\n",
       "    </tr>\n",
       "  </thead>\n",
       "  <tbody>\n",
       "    <tr>\n",
       "      <th>0</th>\n",
       "      <td>Switzerland</td>\n",
       "      <td>8.300</td>\n",
       "      <td>Bern</td>\n",
       "      <td>41.00</td>\n",
       "    </tr>\n",
       "    <tr>\n",
       "      <th>1</th>\n",
       "      <td>Austria</td>\n",
       "      <td>8.700</td>\n",
       "      <td>Vienna</td>\n",
       "      <td>83.00</td>\n",
       "    </tr>\n",
       "    <tr>\n",
       "      <th>0</th>\n",
       "      <td>Liechtenstein</td>\n",
       "      <td>0.038</td>\n",
       "      <td>Vaduz</td>\n",
       "      <td>0.16</td>\n",
       "    </tr>\n",
       "  </tbody>\n",
       "</table>\n",
       "</div>"
      ],
      "text/plain": [
       "         country  population capital   area\n",
       "0    Switzerland       8.300    Bern  41.00\n",
       "1        Austria       8.700  Vienna  83.00\n",
       "0  Liechtenstein       0.038   Vaduz   0.16"
      ]
     },
     "execution_count": 10,
     "metadata": {},
     "output_type": "execute_result"
    }
   ],
   "source": [
    "new_row = ['Liechtenstein', 0.038 , 'Vaduz', 0.16]\n",
    "tdb_new_row = pd.DataFrame(data=[new_row], columns=tdb.columns)\n",
    "tdb = pd.concat(objs=[tdb, tdb_new_row], axis=0)\n",
    "tdb"
   ]
  },
  {
   "cell_type": "markdown",
   "id": "86c4597e",
   "metadata": {},
   "source": [
    "Note that <span style='font-family:Courier'>area</span> is now a continuous variable:"
   ]
  },
  {
   "cell_type": "code",
   "execution_count": 11,
   "id": "6f06b909",
   "metadata": {},
   "outputs": [
    {
     "data": {
      "text/plain": [
       "dtype('float64')"
      ]
     },
     "execution_count": 11,
     "metadata": {},
     "output_type": "execute_result"
    }
   ],
   "source": [
    "tdb['area'].dtype"
   ]
  },
  {
   "cell_type": "markdown",
   "id": "ae726ffc",
   "metadata": {},
   "source": [
    "But also note that concatenation results in the old indexes being used. To reset the index and drop the old values:"
   ]
  },
  {
   "cell_type": "code",
   "execution_count": 12,
   "id": "b24c270c",
   "metadata": {},
   "outputs": [
    {
     "data": {
      "text/html": [
       "<div>\n",
       "<style scoped>\n",
       "    .dataframe tbody tr th:only-of-type {\n",
       "        vertical-align: middle;\n",
       "    }\n",
       "\n",
       "    .dataframe tbody tr th {\n",
       "        vertical-align: top;\n",
       "    }\n",
       "\n",
       "    .dataframe thead th {\n",
       "        text-align: right;\n",
       "    }\n",
       "</style>\n",
       "<table border=\"1\" class=\"dataframe\">\n",
       "  <thead>\n",
       "    <tr style=\"text-align: right;\">\n",
       "      <th></th>\n",
       "      <th>country</th>\n",
       "      <th>population</th>\n",
       "      <th>capital</th>\n",
       "      <th>area</th>\n",
       "    </tr>\n",
       "  </thead>\n",
       "  <tbody>\n",
       "    <tr>\n",
       "      <th>0</th>\n",
       "      <td>Switzerland</td>\n",
       "      <td>8.300</td>\n",
       "      <td>Bern</td>\n",
       "      <td>41.00</td>\n",
       "    </tr>\n",
       "    <tr>\n",
       "      <th>1</th>\n",
       "      <td>Austria</td>\n",
       "      <td>8.700</td>\n",
       "      <td>Vienna</td>\n",
       "      <td>83.00</td>\n",
       "    </tr>\n",
       "    <tr>\n",
       "      <th>2</th>\n",
       "      <td>Liechtenstein</td>\n",
       "      <td>0.038</td>\n",
       "      <td>Vaduz</td>\n",
       "      <td>0.16</td>\n",
       "    </tr>\n",
       "  </tbody>\n",
       "</table>\n",
       "</div>"
      ],
      "text/plain": [
       "         country  population capital   area\n",
       "0    Switzerland       8.300    Bern  41.00\n",
       "1        Austria       8.700  Vienna  83.00\n",
       "2  Liechtenstein       0.038   Vaduz   0.16"
      ]
     },
     "execution_count": 12,
     "metadata": {},
     "output_type": "execute_result"
    }
   ],
   "source": [
    "tdb = tdb.reset_index(drop=True)\n",
    "tdb"
   ]
  },
  {
   "cell_type": "markdown",
   "id": "c9a5048d",
   "metadata": {},
   "source": [
    "To remove the <span style='font-family:Courier'>area</span> column we can `drop` it and put the result `inplace` of the original table:"
   ]
  },
  {
   "cell_type": "code",
   "execution_count": 13,
   "id": "dc95766e",
   "metadata": {},
   "outputs": [
    {
     "data": {
      "text/html": [
       "<div>\n",
       "<style scoped>\n",
       "    .dataframe tbody tr th:only-of-type {\n",
       "        vertical-align: middle;\n",
       "    }\n",
       "\n",
       "    .dataframe tbody tr th {\n",
       "        vertical-align: top;\n",
       "    }\n",
       "\n",
       "    .dataframe thead th {\n",
       "        text-align: right;\n",
       "    }\n",
       "</style>\n",
       "<table border=\"1\" class=\"dataframe\">\n",
       "  <thead>\n",
       "    <tr style=\"text-align: right;\">\n",
       "      <th></th>\n",
       "      <th>country</th>\n",
       "      <th>population</th>\n",
       "      <th>capital</th>\n",
       "    </tr>\n",
       "  </thead>\n",
       "  <tbody>\n",
       "    <tr>\n",
       "      <th>0</th>\n",
       "      <td>Switzerland</td>\n",
       "      <td>8.300</td>\n",
       "      <td>Bern</td>\n",
       "    </tr>\n",
       "    <tr>\n",
       "      <th>1</th>\n",
       "      <td>Austria</td>\n",
       "      <td>8.700</td>\n",
       "      <td>Vienna</td>\n",
       "    </tr>\n",
       "    <tr>\n",
       "      <th>2</th>\n",
       "      <td>Liechtenstein</td>\n",
       "      <td>0.038</td>\n",
       "      <td>Vaduz</td>\n",
       "    </tr>\n",
       "  </tbody>\n",
       "</table>\n",
       "</div>"
      ],
      "text/plain": [
       "         country  population capital\n",
       "0    Switzerland       8.300    Bern\n",
       "1        Austria       8.700  Vienna\n",
       "2  Liechtenstein       0.038   Vaduz"
      ]
     },
     "execution_count": 13,
     "metadata": {},
     "output_type": "execute_result"
    }
   ],
   "source": [
    "tdb.drop(labels=['area'], axis=1, inplace=True)\n",
    "tdb"
   ]
  },
  {
   "cell_type": "markdown",
   "id": "d2419fc7",
   "metadata": {},
   "source": [
    "Alternatively, you could have used `del` which also works for whole dataframes:"
   ]
  },
  {
   "cell_type": "code",
   "execution_count": 14,
   "id": "3f2ba9e6",
   "metadata": {},
   "outputs": [],
   "source": [
    "# del tdb['area']"
   ]
  },
  {
   "cell_type": "markdown",
   "id": "665cb0bc",
   "metadata": {},
   "source": [
    "Rows can only be removed with the `drop()` method:"
   ]
  },
  {
   "cell_type": "code",
   "execution_count": 15,
   "id": "4401bfc9",
   "metadata": {},
   "outputs": [
    {
     "data": {
      "text/html": [
       "<div>\n",
       "<style scoped>\n",
       "    .dataframe tbody tr th:only-of-type {\n",
       "        vertical-align: middle;\n",
       "    }\n",
       "\n",
       "    .dataframe tbody tr th {\n",
       "        vertical-align: top;\n",
       "    }\n",
       "\n",
       "    .dataframe thead th {\n",
       "        text-align: right;\n",
       "    }\n",
       "</style>\n",
       "<table border=\"1\" class=\"dataframe\">\n",
       "  <thead>\n",
       "    <tr style=\"text-align: right;\">\n",
       "      <th></th>\n",
       "      <th>country</th>\n",
       "      <th>population</th>\n",
       "      <th>capital</th>\n",
       "    </tr>\n",
       "  </thead>\n",
       "  <tbody>\n",
       "    <tr>\n",
       "      <th>0</th>\n",
       "      <td>Switzerland</td>\n",
       "      <td>8.3</td>\n",
       "      <td>Bern</td>\n",
       "    </tr>\n",
       "    <tr>\n",
       "      <th>1</th>\n",
       "      <td>Austria</td>\n",
       "      <td>8.7</td>\n",
       "      <td>Vienna</td>\n",
       "    </tr>\n",
       "  </tbody>\n",
       "</table>\n",
       "</div>"
      ],
      "text/plain": [
       "       country  population capital\n",
       "0  Switzerland         8.3    Bern\n",
       "1      Austria         8.7  Vienna"
      ]
     },
     "execution_count": 15,
     "metadata": {},
     "output_type": "execute_result"
    }
   ],
   "source": [
    "tdb.drop(labels=[2], axis=0, inplace=True)\n",
    "tdb"
   ]
  },
  {
   "cell_type": "markdown",
   "id": "636974db",
   "metadata": {},
   "source": [
    "#### Wide vs. long structure\n",
    "\n",
    "A rule in data management states that tables should grow long not wide. Consider this `bad_table` of two countries' population sizes in three years:"
   ]
  },
  {
   "cell_type": "code",
   "execution_count": 16,
   "id": "3418a9b9",
   "metadata": {},
   "outputs": [
    {
     "data": {
      "text/html": [
       "<div>\n",
       "<style scoped>\n",
       "    .dataframe tbody tr th:only-of-type {\n",
       "        vertical-align: middle;\n",
       "    }\n",
       "\n",
       "    .dataframe tbody tr th {\n",
       "        vertical-align: top;\n",
       "    }\n",
       "\n",
       "    .dataframe thead th {\n",
       "        text-align: right;\n",
       "    }\n",
       "</style>\n",
       "<table border=\"1\" class=\"dataframe\">\n",
       "  <thead>\n",
       "    <tr style=\"text-align: right;\">\n",
       "      <th></th>\n",
       "      <th>country</th>\n",
       "      <th>pop1950</th>\n",
       "      <th>pop1960</th>\n",
       "      <th>pop1970</th>\n",
       "    </tr>\n",
       "  </thead>\n",
       "  <tbody>\n",
       "    <tr>\n",
       "      <th>0</th>\n",
       "      <td>Switzerland</td>\n",
       "      <td>4.7</td>\n",
       "      <td>5.3</td>\n",
       "      <td>6.2</td>\n",
       "    </tr>\n",
       "    <tr>\n",
       "      <th>1</th>\n",
       "      <td>Austria</td>\n",
       "      <td>6.9</td>\n",
       "      <td>7.1</td>\n",
       "      <td>7.5</td>\n",
       "    </tr>\n",
       "  </tbody>\n",
       "</table>\n",
       "</div>"
      ],
      "text/plain": [
       "       country  pop1950  pop1960  pop1970\n",
       "0  Switzerland      4.7      5.3      6.2\n",
       "1      Austria      6.9      7.1      7.5"
      ]
     },
     "execution_count": 16,
     "metadata": {},
     "output_type": "execute_result"
    }
   ],
   "source": [
    "bad_table = pd.DataFrame(data=[['Switzerland', 4.7, 5.3, 6.2], ['Austria', 6.9, 7.1, 7.5]], columns=['country', 'pop1950', 'pop1960', 'pop1970'])\n",
    "bad_table"
   ]
  },
  {
   "cell_type": "markdown",
   "id": "10eda0ab",
   "metadata": {},
   "source": [
    "Though appealing to the eye, this table is computationally bad as can be demonstrated by trying to compute the average population size over all countries and years. It is fairly easy to compute the mean for each year by selecting the corresponding columns..."
   ]
  },
  {
   "cell_type": "code",
   "execution_count": 17,
   "id": "40c9eea2",
   "metadata": {},
   "outputs": [
    {
     "data": {
      "text/plain": [
       "pop1950    5.80\n",
       "pop1960    6.20\n",
       "pop1970    6.85\n",
       "dtype: float64"
      ]
     },
     "execution_count": 17,
     "metadata": {},
     "output_type": "execute_result"
    }
   ],
   "source": [
    "bad_table[['pop1950', 'pop1960', 'pop1970']].mean(axis=0)"
   ]
  },
  {
   "cell_type": "markdown",
   "id": "d77aa666",
   "metadata": {},
   "source": [
    "but computing the overall mean requires selecting columns and taking the mean of the year means:"
   ]
  },
  {
   "cell_type": "code",
   "execution_count": 18,
   "id": "7a0de912",
   "metadata": {},
   "outputs": [
    {
     "data": {
      "text/plain": [
       "6.283333333333334"
      ]
     },
     "execution_count": 18,
     "metadata": {},
     "output_type": "execute_result"
    }
   ],
   "source": [
    "bad_table[['pop1950', 'pop1960', 'pop1970']].mean().mean()"
   ]
  },
  {
   "cell_type": "markdown",
   "id": "bb85ce79",
   "metadata": {},
   "source": [
    "A `good_table` is long not wide:"
   ]
  },
  {
   "cell_type": "code",
   "execution_count": 19,
   "id": "d7f2b0b5",
   "metadata": {},
   "outputs": [
    {
     "data": {
      "text/html": [
       "<div>\n",
       "<style scoped>\n",
       "    .dataframe tbody tr th:only-of-type {\n",
       "        vertical-align: middle;\n",
       "    }\n",
       "\n",
       "    .dataframe tbody tr th {\n",
       "        vertical-align: top;\n",
       "    }\n",
       "\n",
       "    .dataframe thead th {\n",
       "        text-align: right;\n",
       "    }\n",
       "</style>\n",
       "<table border=\"1\" class=\"dataframe\">\n",
       "  <thead>\n",
       "    <tr style=\"text-align: right;\">\n",
       "      <th></th>\n",
       "      <th>country</th>\n",
       "      <th>year</th>\n",
       "      <th>population</th>\n",
       "    </tr>\n",
       "  </thead>\n",
       "  <tbody>\n",
       "    <tr>\n",
       "      <th>0</th>\n",
       "      <td>Switzerland</td>\n",
       "      <td>1950</td>\n",
       "      <td>4.7</td>\n",
       "    </tr>\n",
       "    <tr>\n",
       "      <th>1</th>\n",
       "      <td>Switzerland</td>\n",
       "      <td>1960</td>\n",
       "      <td>5.3</td>\n",
       "    </tr>\n",
       "    <tr>\n",
       "      <th>2</th>\n",
       "      <td>Switzerland</td>\n",
       "      <td>1970</td>\n",
       "      <td>6.2</td>\n",
       "    </tr>\n",
       "    <tr>\n",
       "      <th>3</th>\n",
       "      <td>Austria</td>\n",
       "      <td>1950</td>\n",
       "      <td>6.9</td>\n",
       "    </tr>\n",
       "    <tr>\n",
       "      <th>4</th>\n",
       "      <td>Austria</td>\n",
       "      <td>1960</td>\n",
       "      <td>7.1</td>\n",
       "    </tr>\n",
       "    <tr>\n",
       "      <th>5</th>\n",
       "      <td>Austria</td>\n",
       "      <td>1970</td>\n",
       "      <td>7.5</td>\n",
       "    </tr>\n",
       "  </tbody>\n",
       "</table>\n",
       "</div>"
      ],
      "text/plain": [
       "       country  year  population\n",
       "0  Switzerland  1950         4.7\n",
       "1  Switzerland  1960         5.3\n",
       "2  Switzerland  1970         6.2\n",
       "3      Austria  1950         6.9\n",
       "4      Austria  1960         7.1\n",
       "5      Austria  1970         7.5"
      ]
     },
     "execution_count": 19,
     "metadata": {},
     "output_type": "execute_result"
    }
   ],
   "source": [
    "good_table = pd.DataFrame(data=[['Switzerland', 1950, 4.7], ['Switzerland', 1960, 5.3], ['Switzerland', 1970, 6.2], ['Austria', 1950, 6.9], ['Austria', 1960, 7.1], ['Austria', 1970, 7.5]], columns=['country', 'year', 'population'])\n",
    "good_table"
   ]
  },
  {
   "cell_type": "markdown",
   "id": "15e7b90d",
   "metadata": {},
   "source": [
    "Computing the overall mean is a simple operation on one column..."
   ]
  },
  {
   "cell_type": "code",
   "execution_count": 20,
   "id": "10716fd2",
   "metadata": {},
   "outputs": [
    {
     "data": {
      "text/plain": [
       "6.283333333333334"
      ]
     },
     "execution_count": 20,
     "metadata": {},
     "output_type": "execute_result"
    }
   ],
   "source": [
    "good_table['population'].mean()"
   ]
  },
  {
   "cell_type": "markdown",
   "id": "b57ef65d",
   "metadata": {},
   "source": [
    "and the year means can be obtained via aggregation (using the [groupby](https://pandas.pydata.org/docs/reference/api/pandas.DataFrame.groupby.html) method) without having to specify any year columns:"
   ]
  },
  {
   "cell_type": "code",
   "execution_count": 21,
   "id": "20e8cd8f",
   "metadata": {},
   "outputs": [
    {
     "data": {
      "text/html": [
       "<div>\n",
       "<style scoped>\n",
       "    .dataframe tbody tr th:only-of-type {\n",
       "        vertical-align: middle;\n",
       "    }\n",
       "\n",
       "    .dataframe tbody tr th {\n",
       "        vertical-align: top;\n",
       "    }\n",
       "\n",
       "    .dataframe thead th {\n",
       "        text-align: right;\n",
       "    }\n",
       "</style>\n",
       "<table border=\"1\" class=\"dataframe\">\n",
       "  <thead>\n",
       "    <tr style=\"text-align: right;\">\n",
       "      <th></th>\n",
       "      <th>year</th>\n",
       "      <th>population</th>\n",
       "    </tr>\n",
       "  </thead>\n",
       "  <tbody>\n",
       "    <tr>\n",
       "      <th>0</th>\n",
       "      <td>1950</td>\n",
       "      <td>5.80</td>\n",
       "    </tr>\n",
       "    <tr>\n",
       "      <th>1</th>\n",
       "      <td>1960</td>\n",
       "      <td>6.20</td>\n",
       "    </tr>\n",
       "    <tr>\n",
       "      <th>2</th>\n",
       "      <td>1970</td>\n",
       "      <td>6.85</td>\n",
       "    </tr>\n",
       "  </tbody>\n",
       "</table>\n",
       "</div>"
      ],
      "text/plain": [
       "   year  population\n",
       "0  1950        5.80\n",
       "1  1960        6.20\n",
       "2  1970        6.85"
      ]
     },
     "execution_count": 21,
     "metadata": {},
     "output_type": "execute_result"
    }
   ],
   "source": [
    "good_table.groupby('year').mean().reset_index()"
   ]
  },
  {
   "cell_type": "markdown",
   "id": "d5011168",
   "metadata": {},
   "source": [
    "#### Multiple tables\n",
    "\n",
    "What does it mean that relational databases eliminate redundancies and ensure consistency? Consider a copy of the `good_table` with an additional column that contains a country's capital (copying makes sure that any changes made to `good_table` do not effect `good_table2`):"
   ]
  },
  {
   "cell_type": "code",
   "execution_count": 22,
   "id": "8eeb4364",
   "metadata": {},
   "outputs": [
    {
     "data": {
      "text/html": [
       "<div>\n",
       "<style scoped>\n",
       "    .dataframe tbody tr th:only-of-type {\n",
       "        vertical-align: middle;\n",
       "    }\n",
       "\n",
       "    .dataframe tbody tr th {\n",
       "        vertical-align: top;\n",
       "    }\n",
       "\n",
       "    .dataframe thead th {\n",
       "        text-align: right;\n",
       "    }\n",
       "</style>\n",
       "<table border=\"1\" class=\"dataframe\">\n",
       "  <thead>\n",
       "    <tr style=\"text-align: right;\">\n",
       "      <th></th>\n",
       "      <th>country</th>\n",
       "      <th>year</th>\n",
       "      <th>population</th>\n",
       "      <th>capital</th>\n",
       "    </tr>\n",
       "  </thead>\n",
       "  <tbody>\n",
       "    <tr>\n",
       "      <th>0</th>\n",
       "      <td>Switzerland</td>\n",
       "      <td>1950</td>\n",
       "      <td>4.7</td>\n",
       "      <td>Bern</td>\n",
       "    </tr>\n",
       "    <tr>\n",
       "      <th>1</th>\n",
       "      <td>Switzerland</td>\n",
       "      <td>1960</td>\n",
       "      <td>5.3</td>\n",
       "      <td>Bern</td>\n",
       "    </tr>\n",
       "    <tr>\n",
       "      <th>2</th>\n",
       "      <td>Switzerland</td>\n",
       "      <td>1970</td>\n",
       "      <td>6.2</td>\n",
       "      <td>Bern</td>\n",
       "    </tr>\n",
       "    <tr>\n",
       "      <th>3</th>\n",
       "      <td>Austria</td>\n",
       "      <td>1950</td>\n",
       "      <td>6.9</td>\n",
       "      <td>Vienna</td>\n",
       "    </tr>\n",
       "    <tr>\n",
       "      <th>4</th>\n",
       "      <td>Austria</td>\n",
       "      <td>1960</td>\n",
       "      <td>7.1</td>\n",
       "      <td>Vienna</td>\n",
       "    </tr>\n",
       "    <tr>\n",
       "      <th>5</th>\n",
       "      <td>Austria</td>\n",
       "      <td>1970</td>\n",
       "      <td>7.5</td>\n",
       "      <td>Vienna</td>\n",
       "    </tr>\n",
       "  </tbody>\n",
       "</table>\n",
       "</div>"
      ],
      "text/plain": [
       "       country  year  population capital\n",
       "0  Switzerland  1950         4.7    Bern\n",
       "1  Switzerland  1960         5.3    Bern\n",
       "2  Switzerland  1970         6.2    Bern\n",
       "3      Austria  1950         6.9  Vienna\n",
       "4      Austria  1960         7.1  Vienna\n",
       "5      Austria  1970         7.5  Vienna"
      ]
     },
     "execution_count": 22,
     "metadata": {},
     "output_type": "execute_result"
    }
   ],
   "source": [
    "good_table2 = good_table.copy()\n",
    "good_table2.loc[0:2, 'capital'] = 'Bern'\n",
    "good_table2.loc[3:5, 'capital'] = 'Vienna'\n",
    "good_table2"
   ]
  },
  {
   "cell_type": "markdown",
   "id": "32d5309c",
   "metadata": {},
   "source": [
    "Clearly, this table contains redundant information because country-capital pairs are always the same. But this data format potentially yields a consistency problem. If, for example, you want to refer to capital names not in English but in the respective national language you must replace each occurrence of <span style='font-family:Courier'>Vienna</span> by <span style='font-family:Courier'>Wien</span>. But if you miss a single occurrence your table becomes inconsistent. You can evade both problems if you split `good_table2` into two tables: one containing the population sizes..."
   ]
  },
  {
   "cell_type": "code",
   "execution_count": 23,
   "id": "5a25da9c",
   "metadata": {},
   "outputs": [
    {
     "data": {
      "text/html": [
       "<div>\n",
       "<style scoped>\n",
       "    .dataframe tbody tr th:only-of-type {\n",
       "        vertical-align: middle;\n",
       "    }\n",
       "\n",
       "    .dataframe tbody tr th {\n",
       "        vertical-align: top;\n",
       "    }\n",
       "\n",
       "    .dataframe thead th {\n",
       "        text-align: right;\n",
       "    }\n",
       "</style>\n",
       "<table border=\"1\" class=\"dataframe\">\n",
       "  <thead>\n",
       "    <tr style=\"text-align: right;\">\n",
       "      <th></th>\n",
       "      <th>country</th>\n",
       "      <th>year</th>\n",
       "      <th>population</th>\n",
       "    </tr>\n",
       "  </thead>\n",
       "  <tbody>\n",
       "    <tr>\n",
       "      <th>0</th>\n",
       "      <td>Switzerland</td>\n",
       "      <td>1950</td>\n",
       "      <td>4.7</td>\n",
       "    </tr>\n",
       "    <tr>\n",
       "      <th>1</th>\n",
       "      <td>Switzerland</td>\n",
       "      <td>1960</td>\n",
       "      <td>5.3</td>\n",
       "    </tr>\n",
       "    <tr>\n",
       "      <th>2</th>\n",
       "      <td>Switzerland</td>\n",
       "      <td>1970</td>\n",
       "      <td>6.2</td>\n",
       "    </tr>\n",
       "    <tr>\n",
       "      <th>3</th>\n",
       "      <td>Austria</td>\n",
       "      <td>1950</td>\n",
       "      <td>6.9</td>\n",
       "    </tr>\n",
       "    <tr>\n",
       "      <th>4</th>\n",
       "      <td>Austria</td>\n",
       "      <td>1960</td>\n",
       "      <td>7.1</td>\n",
       "    </tr>\n",
       "    <tr>\n",
       "      <th>5</th>\n",
       "      <td>Austria</td>\n",
       "      <td>1970</td>\n",
       "      <td>7.5</td>\n",
       "    </tr>\n",
       "  </tbody>\n",
       "</table>\n",
       "</div>"
      ],
      "text/plain": [
       "       country  year  population\n",
       "0  Switzerland  1950         4.7\n",
       "1  Switzerland  1960         5.3\n",
       "2  Switzerland  1970         6.2\n",
       "3      Austria  1950         6.9\n",
       "4      Austria  1960         7.1\n",
       "5      Austria  1970         7.5"
      ]
     },
     "execution_count": 23,
     "metadata": {},
     "output_type": "execute_result"
    }
   ],
   "source": [
    "populations = good_table2[['country', 'year', 'population']].copy()\n",
    "populations"
   ]
  },
  {
   "cell_type": "markdown",
   "id": "d962ea1b",
   "metadata": {},
   "source": [
    "and one containing the capitals:"
   ]
  },
  {
   "cell_type": "code",
   "execution_count": 24,
   "id": "c939946c",
   "metadata": {},
   "outputs": [
    {
     "data": {
      "text/html": [
       "<div>\n",
       "<style scoped>\n",
       "    .dataframe tbody tr th:only-of-type {\n",
       "        vertical-align: middle;\n",
       "    }\n",
       "\n",
       "    .dataframe tbody tr th {\n",
       "        vertical-align: top;\n",
       "    }\n",
       "\n",
       "    .dataframe thead th {\n",
       "        text-align: right;\n",
       "    }\n",
       "</style>\n",
       "<table border=\"1\" class=\"dataframe\">\n",
       "  <thead>\n",
       "    <tr style=\"text-align: right;\">\n",
       "      <th></th>\n",
       "      <th>country</th>\n",
       "      <th>capital</th>\n",
       "    </tr>\n",
       "  </thead>\n",
       "  <tbody>\n",
       "    <tr>\n",
       "      <th>0</th>\n",
       "      <td>Switzerland</td>\n",
       "      <td>Bern</td>\n",
       "    </tr>\n",
       "    <tr>\n",
       "      <th>1</th>\n",
       "      <td>Austria</td>\n",
       "      <td>Vienna</td>\n",
       "    </tr>\n",
       "  </tbody>\n",
       "</table>\n",
       "</div>"
      ],
      "text/plain": [
       "       country capital\n",
       "0  Switzerland    Bern\n",
       "1      Austria  Vienna"
      ]
     },
     "execution_count": 24,
     "metadata": {},
     "output_type": "execute_result"
    }
   ],
   "source": [
    "capitals = good_table2[['country', 'capital']].drop_duplicates().reset_index(drop=True)\n",
    "capitals"
   ]
  },
  {
   "cell_type": "markdown",
   "id": "3dd3e190",
   "metadata": {},
   "source": [
    "This way you have eliminated all redundancies and you have ensured consistency because you need to replace <span style='font-family:Courier'>Vienna</span> by <span style='font-family:Courier'>Wien</span> in one place only.\n",
    "\n",
    "Next, we will take Pandas and relational database thinking to the next level."
   ]
  },
  {
   "cell_type": "markdown",
   "id": "6bdb8705",
   "metadata": {},
   "source": [
    "### 2.1.2. Getting the TweetsCOV19 dataset ready for analysis\n",
    "\n",
    "[Twitter](https://en.wikipedia.org/wiki/Twitter) is a microblogging service that is very influential among politicians and journalists. Though stagnating over the past years, the number of monthly active users was at 238 million in the second quarter of 2022 (Wikipedia 2022). Since January 2013, researchers at [L3S](https://www.l3s.de/) and [GESIS](https://www.gesis.org/) have been collecting a 1% random sample of all Twitter posts (tweets), detecting sentiments, and extracting named entities, user mentions, hashtags, as well as URLs, and made those publicly available as the [TweetsKB](https://data.gesis.org/tweetskb/) corpus (Fafalios *et al.* 2018). By August 2022, the corpus had grown to about 3 billion tweets. **In the following**, we will store the content of a small fraction of those tweets, one month of the [TweertsCOV19](https://data.gesis.org/tweetscov19/) corpus (Dimitrov *et al.* 2020), in multiple Pandas dataframes that make reference to the TweetsKB data structure.\n",
    "\n",
    "|<img src='images/model.png' style='float: none; width: 640px'>|\n",
    "|:--|\n",
    "|<em style='float: center'>**Figure 1**: Data structure used to build the TweetsKB corpus ([source](https://data.gesis.org/tweetskb/#Data-model))</em>|\n",
    "\n",
    "The data structure depicted in ***figure 1*** used to build the TweetsKB corpus is relational and uses several standardized ontologies. **Relational** means that each piece of content belongs to a class, and classes have properties which can either describe a class attribute or link to another class. We will shortly see that classes are candidates for tables. Classes and properties are drawn from **ontologies** which are vocabularies for modeling data and, in our particular tweets case, online community data. These vacabularies are developed and maintained by the [Semantic Web](https://en.wikipedia.org/wiki/Semantic_Web) research community which aims at making internet data machine-readable.\n",
    "\n",
    "|<img src='images/TweetsKB_model_example.jpg' style='float: none; width: 640px'>|\n",
    "|:--|\n",
    "|<em style='float: center'>**Figure 2**: Example how a tweet is encoded using the data structure</em>|\n",
    "\n",
    "***Figure 2*** is an example how a tweet is encoded using this abstract data structure. In other words, the figure depicts how the content of a tweet is modeled as machine-readable data. Starting with the central element, a **tweet** is modeled as belonging to the [Post](https://www.w3.org/Submission/sioc-spec/#term_Post) class which is defined as an \"article or message that can be posted to a Forum\" in the [SIOC](http://sioc-project.org/) ontology. A tweet has a [has_creator](https://www.w3.org/Submission/sioc-spec/#term_has_creator) property which links a tweet to a user. A **user** is modeled as belonging to the [User](https://www.w3.org/Submission/sioc-spec/#term_User) class (in figure 1, the class is called UserAccount) which is defined as a \"User account in an online community site.\" The \"tweet1\" instance of Post as well as the \"usr1\" instance of User have [id](http://rdfs.org/sioc/spec/#term_id) properties which link to the actual [literal](https://www.w3.org/TR/rdf-schema/#ch_literal) values of the **tweet id** (<span style='font-family:Courier'>9565121266</span>) and (encrypted) **user name** (<span style='font-family:Courier'>2356912</span>) variables. Below, we will create separate Pandas tables for the Post and User classes. This is – just like in the above example of populations and capitals – how redundancy is eliminated.\n",
    "\n",
    "Starting from such an understanding of separate tables for tweets and users, we can discuss to which one some of the other variables belong which come with the data. The **timestamp**, **number of retweets** (number of users that forward the tweet), and **number of favorites** (number of users that like the tweet) clearly are attributes of tweets. In the example of *figure 1*, \"tweet1\" is liked by $12$ users, a statistic that is modeled using the [InteractionCounter](https://schema.org/InteractionCounter) for the [LikeAction](https://schema.org/LikeAction) of the [Schema.org](https://schema.org/) vocabulary. The **number of followers** and **number of friends** (number of users a user follows) seem to be attributes of users at first glance. But since they are measured at the time of tweet creation, they are better also attributed to tweets. While these variables are delived by the Twitter API, the following variables have been obtained by the corpus creators by processing the tweet content. The sentiment or emotional content of a tweet is modeled by using the [Onyx](https://www.gsi.upm.es/ontologies/onyx/) ontology which is \"designed to annotate and describe the emotions expressed by user-generated content\". The [SentiStrength](http://sentistrength.wlv.ac.uk/) algorithm results in **positive sentiment** (1 means low and 5 means high) and **negative sentiment** (-1 means low and -5 means high) variables. Though the sentiment expresses the mind state of a user, it is expressed in language and is, hence, a tweet attribute.\n",
    "\n",
    "The dataset producers have also annotated tweets by extracting four different kinds of entities from tweet texts: named entities (universally recognized semantic concepts), user **mentions** (words starting with <span style='font-family:Courier'>@</span>), **hashtags** (words starting with <span style='font-family:Courier'>#</span>), and **URLs** (addresses of web pages). Since URLs are often too detailed, we will also extract the **top level domains** (TLDs) from URLs. To identify **named entities**, the [FEL](https://github.com/yahoo/FEL) algorithm matches parts of the tweet **text** to Wikipedia pages as universally identifiable resources and provides a **confidence** score to what extent the match is trustworthy (0 means low and -3 means high confidence). In the example of *figure 2*, the text snippet <span style='font-family:Courier'>Federer</span> has been matched to the Wikipedia resource [Roger_Federer](https://de.wikipedia.org/wiki/Roger_Federer) with an average confidence of $-1.54$.\n",
    "\n",
    "|<img src='images/TweetsCOV19_ext_erd.png' style='float: none; width: 640px'>|\n",
    "|:--|\n",
    "|<em style='float: center'>**Figure 3**: Entity relationship diagram to organize Pandas tables</em>|\n",
    "\n",
    "It is clear that named entities, mentions, hashtags, URLs, and TLDs cannot be tweet attributes as that would create an immense amount of redundancy. Hence, they each become tables. ***Figure 3*** shows the entity relationship diagram into which we will transform the tweets data. The diagram mirrors the TweetsKB data structure, and we will construct the tables shown in the figure by following the rules of [database normalization](https://en.wikipedia.org/wiki/Database_normalization). Entities are classes in the above sense and not to be confused with named entities. We will create **entity tables** for the seven entities discussed so far: `tweets`, `users`, `named_entities`, `mentions`, `hashtags`, `urls`, and `tlds`. Each table has a primary key (PK) which uniquely identifies the entity instances in a table. We will use the dataframe index as primary keys. Six of those tables have a column called 'tweets' which is the number of times the entity has been selected in a tweet.\n",
    "\n",
    "In addition, we will create five **relationship tables** that put tweets into relationship to named entities, mentions, hashtags, URLs, and TLDs. Relationship tables are depicted using dashed lines in *figure 3*. They just contain entity identifiers (indices) that are now called foreign keys (FK). We will shortly see that relationship tables can be directly used in data analysis. One of the five tables is an exception: The `tweets_named_entities` table has two more columns – the text that was used to name the named entity and the confidence score – because these are true attributes of the relationship between tweets and named entities. Finally, users and tweets are linked in the tweets table via the 'user_idx' column because a tweet is created by one and only one user.\n",
    "\n",
    "#### Structuring TweertsCOV19\n",
    "\n",
    "We will be working with the May 2020 dump of the TweertsCOV19 corpus. Download this [file](https://zenodo.org/record/4593502/files/TweetsCOV19_052020.tsv.gz) and put it into the `/a_introduction/data` folder. The [description](https://data.gesis.org/tweetscov19/#Dataset) of the dataset says that each row contains variables of a tweet instance, there are twelve variables (columns), and variables are separated by a tab character ('\\t'). In other words, the data is delivered as a table. Furthermore, the description says that sentiment scores, named entity metadata, etc. are concatenated, In other words, the delivered table is wide in selected columns. Our job will be to transform this table into the multiple tables of *figure 3*. Before reading the full data, it is a good idea to look at the first rows to check if the file contains column names and if there are any peculiarities. Using UTF-8 encoding is recommended since it allows for coding many different characters:"
   ]
  },
  {
   "cell_type": "code",
   "execution_count": 25,
   "id": "ad2b011e",
   "metadata": {},
   "outputs": [
    {
     "data": {
      "text/html": [
       "<div>\n",
       "<style scoped>\n",
       "    .dataframe tbody tr th:only-of-type {\n",
       "        vertical-align: middle;\n",
       "    }\n",
       "\n",
       "    .dataframe tbody tr th {\n",
       "        vertical-align: top;\n",
       "    }\n",
       "\n",
       "    .dataframe thead th {\n",
       "        text-align: right;\n",
       "    }\n",
       "</style>\n",
       "<table border=\"1\" class=\"dataframe\">\n",
       "  <thead>\n",
       "    <tr style=\"text-align: right;\">\n",
       "      <th></th>\n",
       "      <th>1255980348229529601</th>\n",
       "      <th>fa5fd446e778da0acba3504aeab23da5</th>\n",
       "      <th>Thu Apr 30 22:00:24 +0000 2020</th>\n",
       "      <th>29697</th>\n",
       "      <th>24040</th>\n",
       "      <th>0</th>\n",
       "      <th>0.1</th>\n",
       "      <th>null;</th>\n",
       "      <th>1 -1</th>\n",
       "      <th>null;.1</th>\n",
       "      <th>Opinion Next2blowafrica thoughts</th>\n",
       "      <th>null;.2</th>\n",
       "    </tr>\n",
       "  </thead>\n",
       "  <tbody>\n",
       "    <tr>\n",
       "      <th>0</th>\n",
       "      <td>1255981220640546816</td>\n",
       "      <td>547501e9cc84b8148ae1b8bde04157a4</td>\n",
       "      <td>Thu Apr 30 22:03:52 +0000 2020</td>\n",
       "      <td>799</td>\n",
       "      <td>1278</td>\n",
       "      <td>4</td>\n",
       "      <td>6</td>\n",
       "      <td>null;</td>\n",
       "      <td>1 -1</td>\n",
       "      <td>null;</td>\n",
       "      <td>null;</td>\n",
       "      <td>null;</td>\n",
       "    </tr>\n",
       "    <tr>\n",
       "      <th>1</th>\n",
       "      <td>1255981244560683008</td>\n",
       "      <td>840ac60dab55f6b212dc02dcbe5dfbd6</td>\n",
       "      <td>Thu Apr 30 22:03:58 +0000 2020</td>\n",
       "      <td>586</td>\n",
       "      <td>378</td>\n",
       "      <td>1</td>\n",
       "      <td>2</td>\n",
       "      <td>null;</td>\n",
       "      <td>2 -1</td>\n",
       "      <td>null;</td>\n",
       "      <td>null;</td>\n",
       "      <td>https://www.bbc.com/news/uk-england-beds-bucks...</td>\n",
       "    </tr>\n",
       "    <tr>\n",
       "      <th>2</th>\n",
       "      <td>1255981472285986816</td>\n",
       "      <td>37c68a001198b5efd4a21e2b68a0c9bc</td>\n",
       "      <td>Thu Apr 30 22:04:52 +0000 2020</td>\n",
       "      <td>237</td>\n",
       "      <td>168</td>\n",
       "      <td>0</td>\n",
       "      <td>0</td>\n",
       "      <td>null;</td>\n",
       "      <td>1 -1</td>\n",
       "      <td>null;</td>\n",
       "      <td>null;</td>\n",
       "      <td>https://lockdownsceptics.org/2020/04/30/latest...</td>\n",
       "    </tr>\n",
       "    <tr>\n",
       "      <th>3</th>\n",
       "      <td>1255981581354905600</td>\n",
       "      <td>8c3620bdfb9d2a1acfdf2412c9b34e06</td>\n",
       "      <td>Thu Apr 30 22:05:18 +0000 2020</td>\n",
       "      <td>423</td>\n",
       "      <td>427</td>\n",
       "      <td>0</td>\n",
       "      <td>0</td>\n",
       "      <td>i hate u:I_Hate_U:-1.8786140035817729;quaranti...</td>\n",
       "      <td>1 -4</td>\n",
       "      <td>null;</td>\n",
       "      <td>null;</td>\n",
       "      <td>null;</td>\n",
       "    </tr>\n",
       "    <tr>\n",
       "      <th>4</th>\n",
       "      <td>1255982235662024704</td>\n",
       "      <td>491a98bbc105806cb67f46f5e3f3d888</td>\n",
       "      <td>Thu Apr 30 22:07:54 +0000 2020</td>\n",
       "      <td>52</td>\n",
       "      <td>46</td>\n",
       "      <td>0</td>\n",
       "      <td>0</td>\n",
       "      <td>god forbid:God_Forbid:-1.2640735877261988;covi...</td>\n",
       "      <td>2 -4</td>\n",
       "      <td>Danartman BishopStika</td>\n",
       "      <td>null;</td>\n",
       "      <td>https://www.dailymail.co.uk/health/article-826...</td>\n",
       "    </tr>\n",
       "  </tbody>\n",
       "</table>\n",
       "</div>"
      ],
      "text/plain": [
       "   1255980348229529601  fa5fd446e778da0acba3504aeab23da5  \\\n",
       "0  1255981220640546816  547501e9cc84b8148ae1b8bde04157a4   \n",
       "1  1255981244560683008  840ac60dab55f6b212dc02dcbe5dfbd6   \n",
       "2  1255981472285986816  37c68a001198b5efd4a21e2b68a0c9bc   \n",
       "3  1255981581354905600  8c3620bdfb9d2a1acfdf2412c9b34e06   \n",
       "4  1255982235662024704  491a98bbc105806cb67f46f5e3f3d888   \n",
       "\n",
       "   Thu Apr 30 22:00:24 +0000 2020  29697  24040  0  0.1  \\\n",
       "0  Thu Apr 30 22:03:52 +0000 2020    799   1278  4    6   \n",
       "1  Thu Apr 30 22:03:58 +0000 2020    586    378  1    2   \n",
       "2  Thu Apr 30 22:04:52 +0000 2020    237    168  0    0   \n",
       "3  Thu Apr 30 22:05:18 +0000 2020    423    427  0    0   \n",
       "4  Thu Apr 30 22:07:54 +0000 2020     52     46  0    0   \n",
       "\n",
       "                                               null;  1 -1  \\\n",
       "0                                              null;  1 -1   \n",
       "1                                              null;  2 -1   \n",
       "2                                              null;  1 -1   \n",
       "3  i hate u:I_Hate_U:-1.8786140035817729;quaranti...  1 -4   \n",
       "4  god forbid:God_Forbid:-1.2640735877261988;covi...  2 -4   \n",
       "\n",
       "                 null;.1 Opinion Next2blowafrica thoughts  \\\n",
       "0                  null;                            null;   \n",
       "1                  null;                            null;   \n",
       "2                  null;                            null;   \n",
       "3                  null;                            null;   \n",
       "4  Danartman BishopStika                            null;   \n",
       "\n",
       "                                             null;.2  \n",
       "0                                              null;  \n",
       "1  https://www.bbc.com/news/uk-england-beds-bucks...  \n",
       "2  https://lockdownsceptics.org/2020/04/30/latest...  \n",
       "3                                              null;  \n",
       "4  https://www.dailymail.co.uk/health/article-826...  "
      ]
     },
     "execution_count": 25,
     "metadata": {},
     "output_type": "execute_result"
    }
   ],
   "source": [
    "head = pd.read_csv('data/TweetsCOV19_052020.tsv.gz', sep='\\t', nrows=5, encoding='utf-8')\n",
    "head"
   ]
  },
  {
   "cell_type": "code",
   "execution_count": 26,
   "id": "ed239d6c",
   "metadata": {},
   "outputs": [
    {
     "data": {
      "text/plain": [
       "(5, 12)"
      ]
     },
     "execution_count": 26,
     "metadata": {},
     "output_type": "execute_result"
    }
   ],
   "source": [
    "head.shape"
   ]
  },
  {
   "cell_type": "markdown",
   "id": "9e337b48",
   "metadata": {},
   "source": [
    "Knowing that the file does not contain column names and that the separator indeed creates twelve columns, we can read the whole file:"
   ]
  },
  {
   "cell_type": "code",
   "execution_count": 27,
   "id": "b351c8d7",
   "metadata": {},
   "outputs": [],
   "source": [
    "tweets = pd.read_csv('data/TweetsCOV19_052020.tsv.gz', sep='\\t', header=None, quoting=3, encoding='utf-8')"
   ]
  },
  {
   "cell_type": "markdown",
   "id": "d90db525",
   "metadata": {},
   "source": [
    "<div class='alert alert-block alert-danger'>\n",
    "<b>Danger</b>\n",
    "\n",
    "Setting the `quoting` parameter of the [`read_csv()`](https://pandas.pydata.org/docs/reference/api/pandas.read_csv.html) function to the value `3` means that no quoting symbols (e.g., quotation marks) are used to enclose the content of cells in columns. This allows that the respective symbol can be a cell content. In the TweetsCOV19 dataset, some hashtags actually contain quotation marks. Not setting the parameter to `3` would result in a wrong reading of the file.\n",
    "</div>\n",
    "\n",
    "From the [description](https://data.gesis.org/tweetscov19/#Dataset) we draw the labels for the column names:"
   ]
  },
  {
   "cell_type": "code",
   "execution_count": 28,
   "id": "4d5c583a",
   "metadata": {},
   "outputs": [],
   "source": [
    "tweets.columns = ['tweet_id', 'user', 'timestamp', 'followers', 'friends', 'retweets', 'favorites', 'named_entities', 'sentiment', 'mentions', 'hashtags', 'urls']"
   ]
  },
  {
   "cell_type": "code",
   "execution_count": 29,
   "id": "a69d4b3f",
   "metadata": {},
   "outputs": [
    {
     "data": {
      "text/html": [
       "<div>\n",
       "<style scoped>\n",
       "    .dataframe tbody tr th:only-of-type {\n",
       "        vertical-align: middle;\n",
       "    }\n",
       "\n",
       "    .dataframe tbody tr th {\n",
       "        vertical-align: top;\n",
       "    }\n",
       "\n",
       "    .dataframe thead th {\n",
       "        text-align: right;\n",
       "    }\n",
       "</style>\n",
       "<table border=\"1\" class=\"dataframe\">\n",
       "  <thead>\n",
       "    <tr style=\"text-align: right;\">\n",
       "      <th></th>\n",
       "      <th>tweet_id</th>\n",
       "      <th>user</th>\n",
       "      <th>timestamp</th>\n",
       "      <th>followers</th>\n",
       "      <th>friends</th>\n",
       "      <th>retweets</th>\n",
       "      <th>favorites</th>\n",
       "      <th>named_entities</th>\n",
       "      <th>sentiment</th>\n",
       "      <th>mentions</th>\n",
       "      <th>hashtags</th>\n",
       "      <th>urls</th>\n",
       "    </tr>\n",
       "  </thead>\n",
       "  <tbody>\n",
       "    <tr>\n",
       "      <th>0</th>\n",
       "      <td>1255980348229529601</td>\n",
       "      <td>fa5fd446e778da0acba3504aeab23da5</td>\n",
       "      <td>Thu Apr 30 22:00:24 +0000 2020</td>\n",
       "      <td>29697</td>\n",
       "      <td>24040</td>\n",
       "      <td>0</td>\n",
       "      <td>0</td>\n",
       "      <td>null;</td>\n",
       "      <td>1 -1</td>\n",
       "      <td>null;</td>\n",
       "      <td>Opinion Next2blowafrica thoughts</td>\n",
       "      <td>null;</td>\n",
       "    </tr>\n",
       "    <tr>\n",
       "      <th>1</th>\n",
       "      <td>1255981220640546816</td>\n",
       "      <td>547501e9cc84b8148ae1b8bde04157a4</td>\n",
       "      <td>Thu Apr 30 22:03:52 +0000 2020</td>\n",
       "      <td>799</td>\n",
       "      <td>1278</td>\n",
       "      <td>4</td>\n",
       "      <td>6</td>\n",
       "      <td>null;</td>\n",
       "      <td>1 -1</td>\n",
       "      <td>null;</td>\n",
       "      <td>null;</td>\n",
       "      <td>null;</td>\n",
       "    </tr>\n",
       "    <tr>\n",
       "      <th>2</th>\n",
       "      <td>1255981244560683008</td>\n",
       "      <td>840ac60dab55f6b212dc02dcbe5dfbd6</td>\n",
       "      <td>Thu Apr 30 22:03:58 +0000 2020</td>\n",
       "      <td>586</td>\n",
       "      <td>378</td>\n",
       "      <td>1</td>\n",
       "      <td>2</td>\n",
       "      <td>null;</td>\n",
       "      <td>2 -1</td>\n",
       "      <td>null;</td>\n",
       "      <td>null;</td>\n",
       "      <td>https://www.bbc.com/news/uk-england-beds-bucks...</td>\n",
       "    </tr>\n",
       "    <tr>\n",
       "      <th>3</th>\n",
       "      <td>1255981472285986816</td>\n",
       "      <td>37c68a001198b5efd4a21e2b68a0c9bc</td>\n",
       "      <td>Thu Apr 30 22:04:52 +0000 2020</td>\n",
       "      <td>237</td>\n",
       "      <td>168</td>\n",
       "      <td>0</td>\n",
       "      <td>0</td>\n",
       "      <td>null;</td>\n",
       "      <td>1 -1</td>\n",
       "      <td>null;</td>\n",
       "      <td>null;</td>\n",
       "      <td>https://lockdownsceptics.org/2020/04/30/latest...</td>\n",
       "    </tr>\n",
       "    <tr>\n",
       "      <th>4</th>\n",
       "      <td>1255981581354905600</td>\n",
       "      <td>8c3620bdfb9d2a1acfdf2412c9b34e06</td>\n",
       "      <td>Thu Apr 30 22:05:18 +0000 2020</td>\n",
       "      <td>423</td>\n",
       "      <td>427</td>\n",
       "      <td>0</td>\n",
       "      <td>0</td>\n",
       "      <td>i hate u:I_Hate_U:-1.8786140035817729;quaranti...</td>\n",
       "      <td>1 -4</td>\n",
       "      <td>null;</td>\n",
       "      <td>null;</td>\n",
       "      <td>null;</td>\n",
       "    </tr>\n",
       "    <tr>\n",
       "      <th>...</th>\n",
       "      <td>...</td>\n",
       "      <td>...</td>\n",
       "      <td>...</td>\n",
       "      <td>...</td>\n",
       "      <td>...</td>\n",
       "      <td>...</td>\n",
       "      <td>...</td>\n",
       "      <td>...</td>\n",
       "      <td>...</td>\n",
       "      <td>...</td>\n",
       "      <td>...</td>\n",
       "      <td>...</td>\n",
       "    </tr>\n",
       "    <tr>\n",
       "      <th>1922400</th>\n",
       "      <td>1267207472424660992</td>\n",
       "      <td>ae1b1e6bf2a30cd0e1047ddd0baf5ad0</td>\n",
       "      <td>Sun May 31 21:32:59 +0000 2020</td>\n",
       "      <td>15</td>\n",
       "      <td>45</td>\n",
       "      <td>0</td>\n",
       "      <td>0</td>\n",
       "      <td>spotify:Spotify:-0.9407337067771776;wifi:Wi-Fi...</td>\n",
       "      <td>2 -1</td>\n",
       "      <td>null;</td>\n",
       "      <td>null;</td>\n",
       "      <td>null;</td>\n",
       "    </tr>\n",
       "    <tr>\n",
       "      <th>1922401</th>\n",
       "      <td>1267207883487354881</td>\n",
       "      <td>0e4323d01d164b9eb6e33f35564c7e25</td>\n",
       "      <td>Sun May 31 21:34:37 +0000 2020</td>\n",
       "      <td>43</td>\n",
       "      <td>931</td>\n",
       "      <td>0</td>\n",
       "      <td>0</td>\n",
       "      <td>china:China:-2.113921624336916;death penalty:C...</td>\n",
       "      <td>1 -2</td>\n",
       "      <td>null;</td>\n",
       "      <td>null;</td>\n",
       "      <td>null;</td>\n",
       "    </tr>\n",
       "    <tr>\n",
       "      <th>1922402</th>\n",
       "      <td>1267209309559173122</td>\n",
       "      <td>00fc2c96e4012e27a6eee351723ab461</td>\n",
       "      <td>Sun May 31 21:40:17 +0000 2020</td>\n",
       "      <td>256</td>\n",
       "      <td>451</td>\n",
       "      <td>0</td>\n",
       "      <td>0</td>\n",
       "      <td>null;</td>\n",
       "      <td>2 -1</td>\n",
       "      <td>null;</td>\n",
       "      <td>null;</td>\n",
       "      <td>null;</td>\n",
       "    </tr>\n",
       "    <tr>\n",
       "      <th>1922403</th>\n",
       "      <td>1267212987938545667</td>\n",
       "      <td>0f99a3b8b0d490f062215575d074518b</td>\n",
       "      <td>Sun May 31 21:54:54 +0000 2020</td>\n",
       "      <td>1467</td>\n",
       "      <td>1505</td>\n",
       "      <td>0</td>\n",
       "      <td>0</td>\n",
       "      <td>omg:OMG_%28Usher_song%29:-2.580063760606172;</td>\n",
       "      <td>2 -1</td>\n",
       "      <td>lsddrq</td>\n",
       "      <td>null;</td>\n",
       "      <td>null;</td>\n",
       "    </tr>\n",
       "    <tr>\n",
       "      <th>1922404</th>\n",
       "      <td>1267213122168897541</td>\n",
       "      <td>9b0cf6bb79c67aa869cde8a5dbb67e30</td>\n",
       "      <td>Sun May 31 21:55:26 +0000 2020</td>\n",
       "      <td>54</td>\n",
       "      <td>60</td>\n",
       "      <td>0</td>\n",
       "      <td>0</td>\n",
       "      <td>lagos:Lagos:-1.647670951275668;mushin:Mushin%2...</td>\n",
       "      <td>2 -1</td>\n",
       "      <td>null;</td>\n",
       "      <td>facemask ijeawele tiaf covid19 lagos mushin am...</td>\n",
       "      <td>null;</td>\n",
       "    </tr>\n",
       "  </tbody>\n",
       "</table>\n",
       "<p>1922405 rows × 12 columns</p>\n",
       "</div>"
      ],
      "text/plain": [
       "                    tweet_id                              user  \\\n",
       "0        1255980348229529601  fa5fd446e778da0acba3504aeab23da5   \n",
       "1        1255981220640546816  547501e9cc84b8148ae1b8bde04157a4   \n",
       "2        1255981244560683008  840ac60dab55f6b212dc02dcbe5dfbd6   \n",
       "3        1255981472285986816  37c68a001198b5efd4a21e2b68a0c9bc   \n",
       "4        1255981581354905600  8c3620bdfb9d2a1acfdf2412c9b34e06   \n",
       "...                      ...                               ...   \n",
       "1922400  1267207472424660992  ae1b1e6bf2a30cd0e1047ddd0baf5ad0   \n",
       "1922401  1267207883487354881  0e4323d01d164b9eb6e33f35564c7e25   \n",
       "1922402  1267209309559173122  00fc2c96e4012e27a6eee351723ab461   \n",
       "1922403  1267212987938545667  0f99a3b8b0d490f062215575d074518b   \n",
       "1922404  1267213122168897541  9b0cf6bb79c67aa869cde8a5dbb67e30   \n",
       "\n",
       "                              timestamp  followers  friends  retweets  \\\n",
       "0        Thu Apr 30 22:00:24 +0000 2020      29697    24040         0   \n",
       "1        Thu Apr 30 22:03:52 +0000 2020        799     1278         4   \n",
       "2        Thu Apr 30 22:03:58 +0000 2020        586      378         1   \n",
       "3        Thu Apr 30 22:04:52 +0000 2020        237      168         0   \n",
       "4        Thu Apr 30 22:05:18 +0000 2020        423      427         0   \n",
       "...                                 ...        ...      ...       ...   \n",
       "1922400  Sun May 31 21:32:59 +0000 2020         15       45         0   \n",
       "1922401  Sun May 31 21:34:37 +0000 2020         43      931         0   \n",
       "1922402  Sun May 31 21:40:17 +0000 2020        256      451         0   \n",
       "1922403  Sun May 31 21:54:54 +0000 2020       1467     1505         0   \n",
       "1922404  Sun May 31 21:55:26 +0000 2020         54       60         0   \n",
       "\n",
       "         favorites                                     named_entities  \\\n",
       "0                0                                              null;   \n",
       "1                6                                              null;   \n",
       "2                2                                              null;   \n",
       "3                0                                              null;   \n",
       "4                0  i hate u:I_Hate_U:-1.8786140035817729;quaranti...   \n",
       "...            ...                                                ...   \n",
       "1922400          0  spotify:Spotify:-0.9407337067771776;wifi:Wi-Fi...   \n",
       "1922401          0  china:China:-2.113921624336916;death penalty:C...   \n",
       "1922402          0                                              null;   \n",
       "1922403          0       omg:OMG_%28Usher_song%29:-2.580063760606172;   \n",
       "1922404          0  lagos:Lagos:-1.647670951275668;mushin:Mushin%2...   \n",
       "\n",
       "        sentiment mentions                                           hashtags  \\\n",
       "0            1 -1    null;                   Opinion Next2blowafrica thoughts   \n",
       "1            1 -1    null;                                              null;   \n",
       "2            2 -1    null;                                              null;   \n",
       "3            1 -1    null;                                              null;   \n",
       "4            1 -4    null;                                              null;   \n",
       "...           ...      ...                                                ...   \n",
       "1922400      2 -1    null;                                              null;   \n",
       "1922401      1 -2    null;                                              null;   \n",
       "1922402      2 -1    null;                                              null;   \n",
       "1922403      2 -1   lsddrq                                              null;   \n",
       "1922404      2 -1    null;  facemask ijeawele tiaf covid19 lagos mushin am...   \n",
       "\n",
       "                                                      urls  \n",
       "0                                                    null;  \n",
       "1                                                    null;  \n",
       "2        https://www.bbc.com/news/uk-england-beds-bucks...  \n",
       "3        https://lockdownsceptics.org/2020/04/30/latest...  \n",
       "4                                                    null;  \n",
       "...                                                    ...  \n",
       "1922400                                              null;  \n",
       "1922401                                              null;  \n",
       "1922402                                              null;  \n",
       "1922403                                              null;  \n",
       "1922404                                              null;  \n",
       "\n",
       "[1922405 rows x 12 columns]"
      ]
     },
     "execution_count": 29,
     "metadata": {},
     "output_type": "execute_result"
    }
   ],
   "source": [
    "tweets"
   ]
  },
  {
   "cell_type": "markdown",
   "id": "fedb462d",
   "metadata": {},
   "source": [
    "There are 1.9 million tweets. Look at the 'named_entities' column to see how multiple annotations are stored in single cells.\n",
    "\n",
    "#### Creating the `users` table\n",
    "\n",
    "Besides the 'user' name, the `users` table should also contain the number of tweets the user has created as well as the maximum numbers of followers and friends. Aggregate the data using the `groupby()` function with the `size()` method to count the number of rows (number of tweets)..."
   ]
  },
  {
   "cell_type": "code",
   "execution_count": 30,
   "id": "5b502ffa",
   "metadata": {},
   "outputs": [
    {
     "data": {
      "text/html": [
       "<div>\n",
       "<style scoped>\n",
       "    .dataframe tbody tr th:only-of-type {\n",
       "        vertical-align: middle;\n",
       "    }\n",
       "\n",
       "    .dataframe tbody tr th {\n",
       "        vertical-align: top;\n",
       "    }\n",
       "\n",
       "    .dataframe thead th {\n",
       "        text-align: right;\n",
       "    }\n",
       "</style>\n",
       "<table border=\"1\" class=\"dataframe\">\n",
       "  <thead>\n",
       "    <tr style=\"text-align: right;\">\n",
       "      <th></th>\n",
       "      <th>user</th>\n",
       "      <th>tweets</th>\n",
       "    </tr>\n",
       "  </thead>\n",
       "  <tbody>\n",
       "    <tr>\n",
       "      <th>0</th>\n",
       "      <td>00000998260226834ffdbdf98ff33eb7</td>\n",
       "      <td>1</td>\n",
       "    </tr>\n",
       "    <tr>\n",
       "      <th>1</th>\n",
       "      <td>000016e54a4dc155432ebad949c2546e</td>\n",
       "      <td>2</td>\n",
       "    </tr>\n",
       "    <tr>\n",
       "      <th>2</th>\n",
       "      <td>00001c34da8eab17b175a9e049078b72</td>\n",
       "      <td>1</td>\n",
       "    </tr>\n",
       "    <tr>\n",
       "      <th>3</th>\n",
       "      <td>00001d45dd97d52b5accb3333e3790e3</td>\n",
       "      <td>1</td>\n",
       "    </tr>\n",
       "    <tr>\n",
       "      <th>4</th>\n",
       "      <td>00003291a067882da356e7f963d3dca8</td>\n",
       "      <td>1</td>\n",
       "    </tr>\n",
       "    <tr>\n",
       "      <th>...</th>\n",
       "      <td>...</td>\n",
       "      <td>...</td>\n",
       "    </tr>\n",
       "    <tr>\n",
       "      <th>1122828</th>\n",
       "      <td>ffffd2b829300cc638eb4c78c0fc1882</td>\n",
       "      <td>2</td>\n",
       "    </tr>\n",
       "    <tr>\n",
       "      <th>1122829</th>\n",
       "      <td>ffffd8b7f90bd8937218b42ee841dc20</td>\n",
       "      <td>1</td>\n",
       "    </tr>\n",
       "    <tr>\n",
       "      <th>1122830</th>\n",
       "      <td>ffffda7501c5f86d5ae850ca7a9fbd1f</td>\n",
       "      <td>1</td>\n",
       "    </tr>\n",
       "    <tr>\n",
       "      <th>1122831</th>\n",
       "      <td>ffffeca2c4676546be82c9bf9df9c322</td>\n",
       "      <td>1</td>\n",
       "    </tr>\n",
       "    <tr>\n",
       "      <th>1122832</th>\n",
       "      <td>fffff6a30ab9ffe50664c02b4b10a259</td>\n",
       "      <td>1</td>\n",
       "    </tr>\n",
       "  </tbody>\n",
       "</table>\n",
       "<p>1122833 rows × 2 columns</p>\n",
       "</div>"
      ],
      "text/plain": [
       "                                     user  tweets\n",
       "0        00000998260226834ffdbdf98ff33eb7       1\n",
       "1        000016e54a4dc155432ebad949c2546e       2\n",
       "2        00001c34da8eab17b175a9e049078b72       1\n",
       "3        00001d45dd97d52b5accb3333e3790e3       1\n",
       "4        00003291a067882da356e7f963d3dca8       1\n",
       "...                                   ...     ...\n",
       "1122828  ffffd2b829300cc638eb4c78c0fc1882       2\n",
       "1122829  ffffd8b7f90bd8937218b42ee841dc20       1\n",
       "1122830  ffffda7501c5f86d5ae850ca7a9fbd1f       1\n",
       "1122831  ffffeca2c4676546be82c9bf9df9c322       1\n",
       "1122832  fffff6a30ab9ffe50664c02b4b10a259       1\n",
       "\n",
       "[1122833 rows x 2 columns]"
      ]
     },
     "execution_count": 30,
     "metadata": {},
     "output_type": "execute_result"
    }
   ],
   "source": [
    "users = tweets.groupby('user').size().reset_index(name='tweets')\n",
    "users"
   ]
  },
  {
   "cell_type": "markdown",
   "id": "b97c5870",
   "metadata": {},
   "source": [
    "and the with the `.max()` method to get the maximum numbers of followers and friends:"
   ]
  },
  {
   "cell_type": "code",
   "execution_count": 31,
   "id": "b10d1b2f",
   "metadata": {},
   "outputs": [
    {
     "data": {
      "text/html": [
       "<div>\n",
       "<style scoped>\n",
       "    .dataframe tbody tr th:only-of-type {\n",
       "        vertical-align: middle;\n",
       "    }\n",
       "\n",
       "    .dataframe tbody tr th {\n",
       "        vertical-align: top;\n",
       "    }\n",
       "\n",
       "    .dataframe thead th {\n",
       "        text-align: right;\n",
       "    }\n",
       "</style>\n",
       "<table border=\"1\" class=\"dataframe\">\n",
       "  <thead>\n",
       "    <tr style=\"text-align: right;\">\n",
       "      <th></th>\n",
       "      <th>user</th>\n",
       "      <th>followers_max</th>\n",
       "      <th>friends_max</th>\n",
       "    </tr>\n",
       "  </thead>\n",
       "  <tbody>\n",
       "    <tr>\n",
       "      <th>0</th>\n",
       "      <td>00000998260226834ffdbdf98ff33eb7</td>\n",
       "      <td>1852</td>\n",
       "      <td>1482</td>\n",
       "    </tr>\n",
       "    <tr>\n",
       "      <th>1</th>\n",
       "      <td>000016e54a4dc155432ebad949c2546e</td>\n",
       "      <td>6953</td>\n",
       "      <td>992</td>\n",
       "    </tr>\n",
       "    <tr>\n",
       "      <th>2</th>\n",
       "      <td>00001c34da8eab17b175a9e049078b72</td>\n",
       "      <td>341</td>\n",
       "      <td>350</td>\n",
       "    </tr>\n",
       "    <tr>\n",
       "      <th>3</th>\n",
       "      <td>00001d45dd97d52b5accb3333e3790e3</td>\n",
       "      <td>854</td>\n",
       "      <td>3012</td>\n",
       "    </tr>\n",
       "    <tr>\n",
       "      <th>4</th>\n",
       "      <td>00003291a067882da356e7f963d3dca8</td>\n",
       "      <td>104</td>\n",
       "      <td>805</td>\n",
       "    </tr>\n",
       "    <tr>\n",
       "      <th>...</th>\n",
       "      <td>...</td>\n",
       "      <td>...</td>\n",
       "      <td>...</td>\n",
       "    </tr>\n",
       "    <tr>\n",
       "      <th>1122828</th>\n",
       "      <td>ffffd2b829300cc638eb4c78c0fc1882</td>\n",
       "      <td>2987</td>\n",
       "      <td>2553</td>\n",
       "    </tr>\n",
       "    <tr>\n",
       "      <th>1122829</th>\n",
       "      <td>ffffd8b7f90bd8937218b42ee841dc20</td>\n",
       "      <td>366</td>\n",
       "      <td>817</td>\n",
       "    </tr>\n",
       "    <tr>\n",
       "      <th>1122830</th>\n",
       "      <td>ffffda7501c5f86d5ae850ca7a9fbd1f</td>\n",
       "      <td>1924</td>\n",
       "      <td>925</td>\n",
       "    </tr>\n",
       "    <tr>\n",
       "      <th>1122831</th>\n",
       "      <td>ffffeca2c4676546be82c9bf9df9c322</td>\n",
       "      <td>335</td>\n",
       "      <td>521</td>\n",
       "    </tr>\n",
       "    <tr>\n",
       "      <th>1122832</th>\n",
       "      <td>fffff6a30ab9ffe50664c02b4b10a259</td>\n",
       "      <td>5</td>\n",
       "      <td>1</td>\n",
       "    </tr>\n",
       "  </tbody>\n",
       "</table>\n",
       "<p>1122833 rows × 3 columns</p>\n",
       "</div>"
      ],
      "text/plain": [
       "                                     user  followers_max  friends_max\n",
       "0        00000998260226834ffdbdf98ff33eb7           1852         1482\n",
       "1        000016e54a4dc155432ebad949c2546e           6953          992\n",
       "2        00001c34da8eab17b175a9e049078b72            341          350\n",
       "3        00001d45dd97d52b5accb3333e3790e3            854         3012\n",
       "4        00003291a067882da356e7f963d3dca8            104          805\n",
       "...                                   ...            ...          ...\n",
       "1122828  ffffd2b829300cc638eb4c78c0fc1882           2987         2553\n",
       "1122829  ffffd8b7f90bd8937218b42ee841dc20            366          817\n",
       "1122830  ffffda7501c5f86d5ae850ca7a9fbd1f           1924          925\n",
       "1122831  ffffeca2c4676546be82c9bf9df9c322            335          521\n",
       "1122832  fffff6a30ab9ffe50664c02b4b10a259              5            1\n",
       "\n",
       "[1122833 rows x 3 columns]"
      ]
     },
     "execution_count": 31,
     "metadata": {},
     "output_type": "execute_result"
    }
   ],
   "source": [
    "users_ff = tweets.groupby('user')[['followers', 'friends']].max().reset_index()\n",
    "users_ff.columns = ['user', 'followers_max', 'friends_max']\n",
    "users_ff"
   ]
  },
  {
   "cell_type": "markdown",
   "id": "8bf5052a",
   "metadata": {},
   "source": [
    "Since these dataframes are both ordered alphabetically and have the same length, we can simply add the two columns from `users_ff` to the then complete `users` table:"
   ]
  },
  {
   "cell_type": "code",
   "execution_count": 32,
   "id": "1dc67fb0",
   "metadata": {},
   "outputs": [],
   "source": [
    "users[['followers_max', 'friends_max']] = users_ff[['followers_max', 'friends_max']]"
   ]
  },
  {
   "cell_type": "markdown",
   "id": "d30db09e",
   "metadata": {},
   "source": [
    "Sort the dataframe descendingly by the number of tweets, maximum number of followers, and maximum number of friends (in that order):"
   ]
  },
  {
   "cell_type": "code",
   "execution_count": 33,
   "id": "63b3a109",
   "metadata": {},
   "outputs": [],
   "source": [
    "users = users.sort_values(['tweets', 'followers_max', 'friends_max'], ascending=False).reset_index(drop=True)"
   ]
  },
  {
   "cell_type": "markdown",
   "id": "43475042",
   "metadata": {},
   "source": [
    "Finally, reorder the columns:"
   ]
  },
  {
   "cell_type": "code",
   "execution_count": 34,
   "id": "1bf44ae9",
   "metadata": {},
   "outputs": [],
   "source": [
    "users = users[['user', 'tweets', 'followers_max', 'friends_max']]"
   ]
  },
  {
   "cell_type": "markdown",
   "id": "bc56347d",
   "metadata": {},
   "source": [
    "The index will function as a unique user identifier:"
   ]
  },
  {
   "cell_type": "code",
   "execution_count": 35,
   "id": "90409559",
   "metadata": {},
   "outputs": [
    {
     "data": {
      "text/html": [
       "<div>\n",
       "<style scoped>\n",
       "    .dataframe tbody tr th:only-of-type {\n",
       "        vertical-align: middle;\n",
       "    }\n",
       "\n",
       "    .dataframe tbody tr th {\n",
       "        vertical-align: top;\n",
       "    }\n",
       "\n",
       "    .dataframe thead th {\n",
       "        text-align: right;\n",
       "    }\n",
       "</style>\n",
       "<table border=\"1\" class=\"dataframe\">\n",
       "  <thead>\n",
       "    <tr style=\"text-align: right;\">\n",
       "      <th></th>\n",
       "      <th>user</th>\n",
       "      <th>tweets</th>\n",
       "      <th>followers_max</th>\n",
       "      <th>friends_max</th>\n",
       "    </tr>\n",
       "  </thead>\n",
       "  <tbody>\n",
       "    <tr>\n",
       "      <th>0</th>\n",
       "      <td>7513717dba8b208fe06799dcc54e59e2</td>\n",
       "      <td>1989</td>\n",
       "      <td>21985402</td>\n",
       "      <td>1116</td>\n",
       "    </tr>\n",
       "    <tr>\n",
       "      <th>1</th>\n",
       "      <td>2435a45b85628172c5a47122144a7c67</td>\n",
       "      <td>1533</td>\n",
       "      <td>48306390</td>\n",
       "      <td>1109</td>\n",
       "    </tr>\n",
       "    <tr>\n",
       "      <th>2</th>\n",
       "      <td>090264f1888056a96f32ccb7d91ba4e7</td>\n",
       "      <td>1380</td>\n",
       "      <td>3789573</td>\n",
       "      <td>266</td>\n",
       "    </tr>\n",
       "    <tr>\n",
       "      <th>3</th>\n",
       "      <td>4ff35e52034daec0251f7b3370969a1a</td>\n",
       "      <td>1341</td>\n",
       "      <td>4149109</td>\n",
       "      <td>0</td>\n",
       "    </tr>\n",
       "    <tr>\n",
       "      <th>4</th>\n",
       "      <td>bf4571b94429c5b18e0a219c197a56a4</td>\n",
       "      <td>1165</td>\n",
       "      <td>6146072</td>\n",
       "      <td>28</td>\n",
       "    </tr>\n",
       "    <tr>\n",
       "      <th>...</th>\n",
       "      <td>...</td>\n",
       "      <td>...</td>\n",
       "      <td>...</td>\n",
       "      <td>...</td>\n",
       "    </tr>\n",
       "    <tr>\n",
       "      <th>1122828</th>\n",
       "      <td>ffc76538fff4d743c01ecb345ceb8ca3</td>\n",
       "      <td>1</td>\n",
       "      <td>0</td>\n",
       "      <td>0</td>\n",
       "    </tr>\n",
       "    <tr>\n",
       "      <th>1122829</th>\n",
       "      <td>ffc9987b2f6a2271fb60ec4c0b5fb99e</td>\n",
       "      <td>1</td>\n",
       "      <td>0</td>\n",
       "      <td>0</td>\n",
       "    </tr>\n",
       "    <tr>\n",
       "      <th>1122830</th>\n",
       "      <td>ffd8897b8d99c5cfd7494b68359f3639</td>\n",
       "      <td>1</td>\n",
       "      <td>0</td>\n",
       "      <td>0</td>\n",
       "    </tr>\n",
       "    <tr>\n",
       "      <th>1122831</th>\n",
       "      <td>ffeb62654f94d36a4075ca408ecf0089</td>\n",
       "      <td>1</td>\n",
       "      <td>0</td>\n",
       "      <td>0</td>\n",
       "    </tr>\n",
       "    <tr>\n",
       "      <th>1122832</th>\n",
       "      <td>fff237115d3d097c0c0d8064cc15048b</td>\n",
       "      <td>1</td>\n",
       "      <td>0</td>\n",
       "      <td>0</td>\n",
       "    </tr>\n",
       "  </tbody>\n",
       "</table>\n",
       "<p>1122833 rows × 4 columns</p>\n",
       "</div>"
      ],
      "text/plain": [
       "                                     user  tweets  followers_max  friends_max\n",
       "0        7513717dba8b208fe06799dcc54e59e2    1989       21985402         1116\n",
       "1        2435a45b85628172c5a47122144a7c67    1533       48306390         1109\n",
       "2        090264f1888056a96f32ccb7d91ba4e7    1380        3789573          266\n",
       "3        4ff35e52034daec0251f7b3370969a1a    1341        4149109            0\n",
       "4        bf4571b94429c5b18e0a219c197a56a4    1165        6146072           28\n",
       "...                                   ...     ...            ...          ...\n",
       "1122828  ffc76538fff4d743c01ecb345ceb8ca3       1              0            0\n",
       "1122829  ffc9987b2f6a2271fb60ec4c0b5fb99e       1              0            0\n",
       "1122830  ffd8897b8d99c5cfd7494b68359f3639       1              0            0\n",
       "1122831  ffeb62654f94d36a4075ca408ecf0089       1              0            0\n",
       "1122832  fff237115d3d097c0c0d8064cc15048b       1              0            0\n",
       "\n",
       "[1122833 rows x 4 columns]"
      ]
     },
     "execution_count": 35,
     "metadata": {},
     "output_type": "execute_result"
    }
   ],
   "source": [
    "users"
   ]
  },
  {
   "cell_type": "markdown",
   "id": "af3e58cd",
   "metadata": {},
   "source": [
    "Note that 'user' names are encrypted for privacy reasons in the original dataset. There are 1.1 million distinct users, and the most active one has created 1,989 tweets. Indeed, it is not an error that some users have tens of millions of followers [and more](https://en.wikipedia.org/wiki/List_of_most-followed_Twitter_accounts). An interesting observation is that the most active users also have many followers.\n",
    "\n",
    "The index values of this table are unique identifiers for the users in the dataset (the primary keys). The effect of sorting is that the most active users have small index values which aids computational purposes, as you will see.\n",
    "\n",
    "To not waste memory, it is good practice to delete dataframes we do not need anymore:"
   ]
  },
  {
   "cell_type": "code",
   "execution_count": 36,
   "id": "cbf106d4",
   "metadata": {},
   "outputs": [],
   "source": [
    "del users_ff"
   ]
  },
  {
   "cell_type": "markdown",
   "id": "72fad0b8",
   "metadata": {},
   "source": [
    "#### Creating the `tweets` table\n",
    "\n",
    "Sorting tweets by date and time is straightforward. For handling such data, Pandas provides the 'datetime' data type. It is perfectly suited for handling time series data as it allows for manipulating dates and times in many ways. For now, we will simply transform the 'timestamp' values from 'string' [`to_datetime()`](https://pandas.pydata.org/docs/reference/api/pandas.to_datetime.html). Set the `format` of the original string to spare Pandas figuring it out itself (and save time), ..."
   ]
  },
  {
   "cell_type": "code",
   "execution_count": 37,
   "id": "971b0335",
   "metadata": {},
   "outputs": [],
   "source": [
    "tweets['timestamp'] = pd.to_datetime(tweets['timestamp'], format='%a %b %d %X %z %Y')"
   ]
  },
  {
   "cell_type": "markdown",
   "id": "2df30d31",
   "metadata": {},
   "source": [
    "then sort:"
   ]
  },
  {
   "cell_type": "code",
   "execution_count": 38,
   "id": "77396d9c",
   "metadata": {},
   "outputs": [],
   "source": [
    "tweets = tweets.sort_values(['timestamp']).reset_index(drop=True)"
   ]
  },
  {
   "cell_type": "markdown",
   "id": "b78616f2",
   "metadata": {},
   "source": [
    "After sorting, the index is stable and acts as a unique tweet identifier.\n",
    "\n",
    "The table needs two changes. First, the 'user' name must be replaced by a user index called 'user_idx' from the `users` table. Since we will repeat this operation for other tables, we define an `add_index()` function. Following best Python practice, what it does is described in the function itself:"
   ]
  },
  {
   "cell_type": "code",
   "execution_count": 39,
   "id": "adbd11ed",
   "metadata": {},
   "outputs": [],
   "source": [
    "def add_index(source, target, entity):\n",
    "    '''\n",
    "    Inserts the index of a source dataframe into a target dataframe as a column.\n",
    "    \n",
    "    Parameters:\n",
    "        source : Pandas DataFrame\n",
    "            Dataframe whose index is to be inserted.\n",
    "        target : Pandas DataFrame\n",
    "            Dataframe into which the index is inserted.\n",
    "        entity : String\n",
    "            Name of the entity that is identified by the index. Will be given an '_idx' suffix and then inserted into the target dataframe.\n",
    "    \n",
    "    Returns:\n",
    "        The target dataframe with the inserted column.\n",
    "    '''\n",
    "    _ = source.copy()\n",
    "    _[entity + '_idx'] = _.index\n",
    "    df = pd.merge(left=target, right=_[[entity + '_idx', entity]], on=entity)\n",
    "    del df[entity]\n",
    "    return df"
   ]
  },
  {
   "cell_type": "code",
   "execution_count": 40,
   "id": "00140e83",
   "metadata": {},
   "outputs": [],
   "source": [
    "tweets = add_index(source=users, target=tweets, entity='user')"
   ]
  },
  {
   "cell_type": "code",
   "execution_count": 41,
   "id": "18fb95f8",
   "metadata": {},
   "outputs": [
    {
     "data": {
      "text/plain": [
       "Index(['tweet_id', 'timestamp', 'followers', 'friends', 'retweets',\n",
       "       'favorites', 'named_entities', 'sentiment', 'mentions', 'hashtags',\n",
       "       'urls', 'user_idx'],\n",
       "      dtype='object')"
      ]
     },
     "execution_count": 41,
     "metadata": {},
     "output_type": "execute_result"
    }
   ],
   "source": [
    "tweets.columns"
   ]
  },
  {
   "cell_type": "markdown",
   "id": "d771e44d",
   "metadata": {},
   "source": [
    "Second, the positive and negative sentiment scores are concatenated, so that column must be split. The `pat` parameter states that the scores are separated by whitespace, and `expand=True`causes two columns to be created. These are then appended to the `tweets` table..."
   ]
  },
  {
   "cell_type": "code",
   "execution_count": 42,
   "id": "98b4c6cd",
   "metadata": {},
   "outputs": [],
   "source": [
    "tweets_sentiment = tweets['sentiment'].str.split(pat=' ', expand=True)\n",
    "tweets[['sentiment_pos', 'sentiment_neg']] = tweets_sentiment[[0, 1]]\n",
    "del tweets_sentiment"
   ]
  },
  {
   "cell_type": "markdown",
   "id": "83b673cf",
   "metadata": {},
   "source": [
    "which is then cleaned up..."
   ]
  },
  {
   "cell_type": "code",
   "execution_count": 43,
   "id": "08d4aa6a",
   "metadata": {},
   "outputs": [],
   "source": [
    "del tweets['sentiment']"
   ]
  },
  {
   "cell_type": "markdown",
   "id": "cc868695",
   "metadata": {},
   "source": [
    "and reordered to resemble the column order as in *figure 3*:"
   ]
  },
  {
   "cell_type": "code",
   "execution_count": 44,
   "id": "b1a64ae8",
   "metadata": {},
   "outputs": [],
   "source": [
    "tweets = tweets[['tweet_id', 'user_idx', 'timestamp', 'followers', 'friends', 'retweets', 'favorites', 'named_entities', 'mentions', 'hashtags', 'urls', 'sentiment_pos', 'sentiment_neg']]"
   ]
  },
  {
   "cell_type": "code",
   "execution_count": 45,
   "id": "e178f444",
   "metadata": {},
   "outputs": [
    {
     "data": {
      "text/html": [
       "<div>\n",
       "<style scoped>\n",
       "    .dataframe tbody tr th:only-of-type {\n",
       "        vertical-align: middle;\n",
       "    }\n",
       "\n",
       "    .dataframe tbody tr th {\n",
       "        vertical-align: top;\n",
       "    }\n",
       "\n",
       "    .dataframe thead th {\n",
       "        text-align: right;\n",
       "    }\n",
       "</style>\n",
       "<table border=\"1\" class=\"dataframe\">\n",
       "  <thead>\n",
       "    <tr style=\"text-align: right;\">\n",
       "      <th></th>\n",
       "      <th>tweet_id</th>\n",
       "      <th>user_idx</th>\n",
       "      <th>timestamp</th>\n",
       "      <th>followers</th>\n",
       "      <th>friends</th>\n",
       "      <th>retweets</th>\n",
       "      <th>favorites</th>\n",
       "      <th>named_entities</th>\n",
       "      <th>mentions</th>\n",
       "      <th>hashtags</th>\n",
       "      <th>urls</th>\n",
       "      <th>sentiment_pos</th>\n",
       "      <th>sentiment_neg</th>\n",
       "    </tr>\n",
       "  </thead>\n",
       "  <tbody>\n",
       "    <tr>\n",
       "      <th>0</th>\n",
       "      <td>1255980248728035329</td>\n",
       "      <td>17517</td>\n",
       "      <td>2020-04-30 22:00:00+00:00</td>\n",
       "      <td>120440</td>\n",
       "      <td>69187</td>\n",
       "      <td>78</td>\n",
       "      <td>90</td>\n",
       "      <td>null;</td>\n",
       "      <td>null;</td>\n",
       "      <td>VirusFreeVoting</td>\n",
       "      <td>https://time.com/5829264/wisconsin-primary-cor...</td>\n",
       "      <td>1</td>\n",
       "      <td>-2</td>\n",
       "    </tr>\n",
       "    <tr>\n",
       "      <th>1</th>\n",
       "      <td>1257477612663758849</td>\n",
       "      <td>17517</td>\n",
       "      <td>2020-05-05 01:10:00+00:00</td>\n",
       "      <td>120571</td>\n",
       "      <td>69195</td>\n",
       "      <td>10</td>\n",
       "      <td>13</td>\n",
       "      <td>democrat:Democratic_Party_%28United_States%29:...</td>\n",
       "      <td>ChristyforCA25</td>\n",
       "      <td>DemCastCA VoteByMay12</td>\n",
       "      <td>https://app.speechifai.tech/s/udM9GCKZQV-XDg6B...</td>\n",
       "      <td>2</td>\n",
       "      <td>-2</td>\n",
       "    </tr>\n",
       "    <tr>\n",
       "      <th>2</th>\n",
       "      <td>1258811014168088578</td>\n",
       "      <td>17517</td>\n",
       "      <td>2020-05-08 17:28:28+00:00</td>\n",
       "      <td>120679</td>\n",
       "      <td>69204</td>\n",
       "      <td>12</td>\n",
       "      <td>45</td>\n",
       "      <td>null;</td>\n",
       "      <td>null;</td>\n",
       "      <td>null;</td>\n",
       "      <td>null;</td>\n",
       "      <td>2</td>\n",
       "      <td>-1</td>\n",
       "    </tr>\n",
       "    <tr>\n",
       "      <th>3</th>\n",
       "      <td>1259829866821750784</td>\n",
       "      <td>17517</td>\n",
       "      <td>2020-05-11 12:57:01+00:00</td>\n",
       "      <td>120785</td>\n",
       "      <td>69220</td>\n",
       "      <td>3</td>\n",
       "      <td>2</td>\n",
       "      <td>null;</td>\n",
       "      <td>null;</td>\n",
       "      <td>COVID19</td>\n",
       "      <td>https://www.erinbromage.com/post/the-risks-kno...</td>\n",
       "      <td>1</td>\n",
       "      <td>-1</td>\n",
       "    </tr>\n",
       "    <tr>\n",
       "      <th>4</th>\n",
       "      <td>1260938742044545026</td>\n",
       "      <td>17517</td>\n",
       "      <td>2020-05-14 14:23:17+00:00</td>\n",
       "      <td>120841</td>\n",
       "      <td>69227</td>\n",
       "      <td>91</td>\n",
       "      <td>61</td>\n",
       "      <td>texas:Texas:-2.304388836099511;</td>\n",
       "      <td>null;</td>\n",
       "      <td>null;</td>\n",
       "      <td>https://amp.cnn.com/cnn/2020/05/13/politics/te...</td>\n",
       "      <td>1</td>\n",
       "      <td>-2</td>\n",
       "    </tr>\n",
       "  </tbody>\n",
       "</table>\n",
       "</div>"
      ],
      "text/plain": [
       "              tweet_id  user_idx                 timestamp  followers  \\\n",
       "0  1255980248728035329     17517 2020-04-30 22:00:00+00:00     120440   \n",
       "1  1257477612663758849     17517 2020-05-05 01:10:00+00:00     120571   \n",
       "2  1258811014168088578     17517 2020-05-08 17:28:28+00:00     120679   \n",
       "3  1259829866821750784     17517 2020-05-11 12:57:01+00:00     120785   \n",
       "4  1260938742044545026     17517 2020-05-14 14:23:17+00:00     120841   \n",
       "\n",
       "   friends  retweets  favorites  \\\n",
       "0    69187        78         90   \n",
       "1    69195        10         13   \n",
       "2    69204        12         45   \n",
       "3    69220         3          2   \n",
       "4    69227        91         61   \n",
       "\n",
       "                                      named_entities        mentions  \\\n",
       "0                                              null;           null;   \n",
       "1  democrat:Democratic_Party_%28United_States%29:...  ChristyforCA25   \n",
       "2                                              null;           null;   \n",
       "3                                              null;           null;   \n",
       "4                    texas:Texas:-2.304388836099511;           null;   \n",
       "\n",
       "                hashtags                                               urls  \\\n",
       "0        VirusFreeVoting  https://time.com/5829264/wisconsin-primary-cor...   \n",
       "1  DemCastCA VoteByMay12  https://app.speechifai.tech/s/udM9GCKZQV-XDg6B...   \n",
       "2                  null;                                              null;   \n",
       "3                COVID19  https://www.erinbromage.com/post/the-risks-kno...   \n",
       "4                  null;  https://amp.cnn.com/cnn/2020/05/13/politics/te...   \n",
       "\n",
       "  sentiment_pos sentiment_neg  \n",
       "0             1            -2  \n",
       "1             2            -2  \n",
       "2             2            -1  \n",
       "3             1            -1  \n",
       "4             1            -2  "
      ]
     },
     "execution_count": 45,
     "metadata": {},
     "output_type": "execute_result"
    }
   ],
   "source": [
    "tweets.head()"
   ]
  },
  {
   "cell_type": "markdown",
   "id": "b377769d",
   "metadata": {},
   "source": [
    "#### Creating the `named_entities` and `tweets_named_entities` tables\n",
    "\n",
    "In general, we proceed by, first, extracting relationship tables from the `tweets` table and, second, deriving the entity tables from the relationship tables. We start with the most complicated case of **named entities**. The 'named_entities' column of the `tweets` table contains ';'-separated 3-tuples each of which contains ':'-separated values for 'text', 'named_entity', and 'confidence'. In the process of normalization, the first step is to transform cell content into lists of 3-tuples. Again, we define a custom function that we can apply later on:"
   ]
  },
  {
   "cell_type": "code",
   "execution_count": 46,
   "id": "24ff4298",
   "metadata": {},
   "outputs": [],
   "source": [
    "def to_list(cell, pat):\n",
    "    '''\n",
    "    Function to be applied to individual cells of a dataframe column. Transforms concatenated cell content into a list.\n",
    "    \n",
    "    Parameters:\n",
    "        pat : String\n",
    "            Pattern that separates the cell values.\n",
    "    \n",
    "    Returns:\n",
    "        The cell will automatically be overwritten by a potentially empty list.\n",
    "    '''\n",
    "    if cell == 'null;' or type(cell) == float:\n",
    "        cell = ['']\n",
    "    else:\n",
    "        cell = cell.split(pat)\n",
    "    return cell"
   ]
  },
  {
   "cell_type": "code",
   "execution_count": 47,
   "id": "0e784dfa",
   "metadata": {},
   "outputs": [],
   "source": [
    "tweets['named_entities'] = tweets['named_entities'].apply(to_list, pat=';')"
   ]
  },
  {
   "cell_type": "markdown",
   "id": "279f4546",
   "metadata": {},
   "source": [
    "An example cell with a list of multiple 3-tuples now looks like this:"
   ]
  },
  {
   "cell_type": "code",
   "execution_count": 48,
   "id": "c64f5c9c",
   "metadata": {},
   "outputs": [
    {
     "data": {
      "text/plain": [
       "['conspiracy theories:Conspiracy_theory:-1.847672162378126',\n",
       " 'amazon:Amazon_%28company%29:-2.435477582284357',\n",
       " 'anti vaxxer:Vaccine_hesitancy:-2.7801236851138458',\n",
       " 'nonfiction:Nonfiction:-2.9818246193808142',\n",
       " '']"
      ]
     },
     "execution_count": 48,
     "metadata": {},
     "output_type": "execute_result"
    }
   ],
   "source": [
    "tweets['named_entities'][5]"
   ]
  },
  {
   "cell_type": "markdown",
   "id": "b01bb7ab",
   "metadata": {},
   "source": [
    "Next we create the `tweets_named_entities` relationship table. The reason for having created a list of 3-tuples is that a wide table – the subtable with just the 'named_entities' column – can be easily and quickly transformed into a long table using the `explode()` method:"
   ]
  },
  {
   "cell_type": "code",
   "execution_count": 49,
   "id": "287af264",
   "metadata": {},
   "outputs": [
    {
     "data": {
      "text/html": [
       "<div>\n",
       "<style scoped>\n",
       "    .dataframe tbody tr th:only-of-type {\n",
       "        vertical-align: middle;\n",
       "    }\n",
       "\n",
       "    .dataframe tbody tr th {\n",
       "        vertical-align: top;\n",
       "    }\n",
       "\n",
       "    .dataframe thead th {\n",
       "        text-align: right;\n",
       "    }\n",
       "</style>\n",
       "<table border=\"1\" class=\"dataframe\">\n",
       "  <thead>\n",
       "    <tr style=\"text-align: right;\">\n",
       "      <th></th>\n",
       "      <th>named_entities</th>\n",
       "    </tr>\n",
       "  </thead>\n",
       "  <tbody>\n",
       "    <tr>\n",
       "      <th>0</th>\n",
       "      <td></td>\n",
       "    </tr>\n",
       "    <tr>\n",
       "      <th>1</th>\n",
       "      <td>democrat:Democratic_Party_%28United_States%29:...</td>\n",
       "    </tr>\n",
       "    <tr>\n",
       "      <th>1</th>\n",
       "      <td></td>\n",
       "    </tr>\n",
       "    <tr>\n",
       "      <th>2</th>\n",
       "      <td></td>\n",
       "    </tr>\n",
       "    <tr>\n",
       "      <th>3</th>\n",
       "      <td></td>\n",
       "    </tr>\n",
       "  </tbody>\n",
       "</table>\n",
       "</div>"
      ],
      "text/plain": [
       "                                      named_entities\n",
       "0                                                   \n",
       "1  democrat:Democratic_Party_%28United_States%29:...\n",
       "1                                                   \n",
       "2                                                   \n",
       "3                                                   "
      ]
     },
     "execution_count": 49,
     "metadata": {},
     "output_type": "execute_result"
    }
   ],
   "source": [
    "tweets_named_entities = tweets[['named_entities']].explode(column='named_entities')\n",
    "del tweets['named_entities']\n",
    "tweets_named_entities.head()"
   ]
  },
  {
   "cell_type": "markdown",
   "id": "cf28b9d7",
   "metadata": {},
   "source": [
    "Remove rows without 3-tuples (concatenation artifacts) and split the 3-tuples into three columns:"
   ]
  },
  {
   "cell_type": "code",
   "execution_count": 50,
   "id": "acb1bbe9",
   "metadata": {},
   "outputs": [
    {
     "data": {
      "text/html": [
       "<div>\n",
       "<style scoped>\n",
       "    .dataframe tbody tr th:only-of-type {\n",
       "        vertical-align: middle;\n",
       "    }\n",
       "\n",
       "    .dataframe tbody tr th {\n",
       "        vertical-align: top;\n",
       "    }\n",
       "\n",
       "    .dataframe thead th {\n",
       "        text-align: right;\n",
       "    }\n",
       "</style>\n",
       "<table border=\"1\" class=\"dataframe\">\n",
       "  <thead>\n",
       "    <tr style=\"text-align: right;\">\n",
       "      <th></th>\n",
       "      <th>0</th>\n",
       "      <th>1</th>\n",
       "      <th>2</th>\n",
       "    </tr>\n",
       "  </thead>\n",
       "  <tbody>\n",
       "    <tr>\n",
       "      <th>1</th>\n",
       "      <td>democrat</td>\n",
       "      <td>Democratic_Party_%28United_States%29</td>\n",
       "      <td>-1.8068639862560125</td>\n",
       "    </tr>\n",
       "    <tr>\n",
       "      <th>4</th>\n",
       "      <td>texas</td>\n",
       "      <td>Texas</td>\n",
       "      <td>-2.304388836099511</td>\n",
       "    </tr>\n",
       "    <tr>\n",
       "      <th>5</th>\n",
       "      <td>conspiracy theories</td>\n",
       "      <td>Conspiracy_theory</td>\n",
       "      <td>-1.847672162378126</td>\n",
       "    </tr>\n",
       "    <tr>\n",
       "      <th>5</th>\n",
       "      <td>amazon</td>\n",
       "      <td>Amazon_%28company%29</td>\n",
       "      <td>-2.435477582284357</td>\n",
       "    </tr>\n",
       "    <tr>\n",
       "      <th>5</th>\n",
       "      <td>anti vaxxer</td>\n",
       "      <td>Vaccine_hesitancy</td>\n",
       "      <td>-2.7801236851138458</td>\n",
       "    </tr>\n",
       "  </tbody>\n",
       "</table>\n",
       "</div>"
      ],
      "text/plain": [
       "                     0                                     1  \\\n",
       "1             democrat  Democratic_Party_%28United_States%29   \n",
       "4                texas                                 Texas   \n",
       "5  conspiracy theories                     Conspiracy_theory   \n",
       "5               amazon                  Amazon_%28company%29   \n",
       "5          anti vaxxer                     Vaccine_hesitancy   \n",
       "\n",
       "                     2  \n",
       "1  -1.8068639862560125  \n",
       "4   -2.304388836099511  \n",
       "5   -1.847672162378126  \n",
       "5   -2.435477582284357  \n",
       "5  -2.7801236851138458  "
      ]
     },
     "execution_count": 50,
     "metadata": {},
     "output_type": "execute_result"
    }
   ],
   "source": [
    "tweets_named_entities = tweets_named_entities[tweets_named_entities['named_entities'] != '']\n",
    "tweets_named_entities = tweets_named_entities['named_entities'].str.split(pat=':', expand=True)\n",
    "tweets_named_entities.head()"
   ]
  },
  {
   "cell_type": "markdown",
   "id": "54449eb9",
   "metadata": {},
   "source": [
    "At this point, the index consists of the unique tweet identifiers because we used `explode()` on a `tweets` subtable. If we now reset the index without dropping the old one, the tweet index values will be added as the first column:"
   ]
  },
  {
   "cell_type": "code",
   "execution_count": 51,
   "id": "a23bde26",
   "metadata": {},
   "outputs": [
    {
     "data": {
      "text/html": [
       "<div>\n",
       "<style scoped>\n",
       "    .dataframe tbody tr th:only-of-type {\n",
       "        vertical-align: middle;\n",
       "    }\n",
       "\n",
       "    .dataframe tbody tr th {\n",
       "        vertical-align: top;\n",
       "    }\n",
       "\n",
       "    .dataframe thead th {\n",
       "        text-align: right;\n",
       "    }\n",
       "</style>\n",
       "<table border=\"1\" class=\"dataframe\">\n",
       "  <thead>\n",
       "    <tr style=\"text-align: right;\">\n",
       "      <th></th>\n",
       "      <th>tweet_idx</th>\n",
       "      <th>text</th>\n",
       "      <th>named_entity</th>\n",
       "      <th>confidence</th>\n",
       "    </tr>\n",
       "  </thead>\n",
       "  <tbody>\n",
       "    <tr>\n",
       "      <th>0</th>\n",
       "      <td>1</td>\n",
       "      <td>democrat</td>\n",
       "      <td>Democratic_Party_%28United_States%29</td>\n",
       "      <td>-1.8068639862560125</td>\n",
       "    </tr>\n",
       "    <tr>\n",
       "      <th>1</th>\n",
       "      <td>4</td>\n",
       "      <td>texas</td>\n",
       "      <td>Texas</td>\n",
       "      <td>-2.304388836099511</td>\n",
       "    </tr>\n",
       "    <tr>\n",
       "      <th>2</th>\n",
       "      <td>5</td>\n",
       "      <td>conspiracy theories</td>\n",
       "      <td>Conspiracy_theory</td>\n",
       "      <td>-1.847672162378126</td>\n",
       "    </tr>\n",
       "    <tr>\n",
       "      <th>3</th>\n",
       "      <td>5</td>\n",
       "      <td>amazon</td>\n",
       "      <td>Amazon_%28company%29</td>\n",
       "      <td>-2.435477582284357</td>\n",
       "    </tr>\n",
       "    <tr>\n",
       "      <th>4</th>\n",
       "      <td>5</td>\n",
       "      <td>anti vaxxer</td>\n",
       "      <td>Vaccine_hesitancy</td>\n",
       "      <td>-2.7801236851138458</td>\n",
       "    </tr>\n",
       "  </tbody>\n",
       "</table>\n",
       "</div>"
      ],
      "text/plain": [
       "   tweet_idx                 text                          named_entity  \\\n",
       "0          1             democrat  Democratic_Party_%28United_States%29   \n",
       "1          4                texas                                 Texas   \n",
       "2          5  conspiracy theories                     Conspiracy_theory   \n",
       "3          5               amazon                  Amazon_%28company%29   \n",
       "4          5          anti vaxxer                     Vaccine_hesitancy   \n",
       "\n",
       "            confidence  \n",
       "0  -1.8068639862560125  \n",
       "1   -2.304388836099511  \n",
       "2   -1.847672162378126  \n",
       "3   -2.435477582284357  \n",
       "4  -2.7801236851138458  "
      ]
     },
     "execution_count": 51,
     "metadata": {},
     "output_type": "execute_result"
    }
   ],
   "source": [
    "tweets_named_entities = tweets_named_entities.reset_index(drop=False)\n",
    "tweets_named_entities.columns = ['tweet_idx', 'text', 'named_entity', 'confidence']\n",
    "tweets_named_entities.head()"
   ]
  },
  {
   "cell_type": "markdown",
   "id": "4bc01208",
   "metadata": {},
   "source": [
    "Part of what we call \"getting a feeling for your data\" is to actually look at it. This in the right stage in the data processing pipeline to check how well the named-entity-recognition algorithm worked because the `tweets_named_entities` still contains the 'text' from which a named entity was recognized as well as the name of the 'named_entity'. The head of the table already shows that the text snippet \"democrat\" is matched to the [Democratic_Party_(United_States)](https://en.wikipedia.org/wiki/Democratic_Party_(United_States)) named entity. This bias is more than unfortunate because it probably matches a lot of discourse about democracy itself to the US political party.\n",
    "\n",
    "SELECT THRESHOLD\n",
    "\n",
    "Pandas will only display up to 50 rows at a time. To look at more data, you can specify which rows to look at (*e.g.*, the first 10 rows):"
   ]
  },
  {
   "cell_type": "code",
   "execution_count": 52,
   "id": "863946a9",
   "metadata": {},
   "outputs": [
    {
     "data": {
      "text/html": [
       "<div>\n",
       "<style scoped>\n",
       "    .dataframe tbody tr th:only-of-type {\n",
       "        vertical-align: middle;\n",
       "    }\n",
       "\n",
       "    .dataframe tbody tr th {\n",
       "        vertical-align: top;\n",
       "    }\n",
       "\n",
       "    .dataframe thead th {\n",
       "        text-align: right;\n",
       "    }\n",
       "</style>\n",
       "<table border=\"1\" class=\"dataframe\">\n",
       "  <thead>\n",
       "    <tr style=\"text-align: right;\">\n",
       "      <th></th>\n",
       "      <th>tweet_idx</th>\n",
       "      <th>text</th>\n",
       "      <th>named_entity</th>\n",
       "      <th>confidence</th>\n",
       "    </tr>\n",
       "  </thead>\n",
       "  <tbody>\n",
       "    <tr>\n",
       "      <th>0</th>\n",
       "      <td>1</td>\n",
       "      <td>democrat</td>\n",
       "      <td>Democratic_Party_%28United_States%29</td>\n",
       "      <td>-1.8068639862560125</td>\n",
       "    </tr>\n",
       "    <tr>\n",
       "      <th>1</th>\n",
       "      <td>4</td>\n",
       "      <td>texas</td>\n",
       "      <td>Texas</td>\n",
       "      <td>-2.304388836099511</td>\n",
       "    </tr>\n",
       "    <tr>\n",
       "      <th>2</th>\n",
       "      <td>5</td>\n",
       "      <td>conspiracy theories</td>\n",
       "      <td>Conspiracy_theory</td>\n",
       "      <td>-1.847672162378126</td>\n",
       "    </tr>\n",
       "    <tr>\n",
       "      <th>3</th>\n",
       "      <td>5</td>\n",
       "      <td>amazon</td>\n",
       "      <td>Amazon_%28company%29</td>\n",
       "      <td>-2.435477582284357</td>\n",
       "    </tr>\n",
       "    <tr>\n",
       "      <th>4</th>\n",
       "      <td>5</td>\n",
       "      <td>anti vaxxer</td>\n",
       "      <td>Vaccine_hesitancy</td>\n",
       "      <td>-2.7801236851138458</td>\n",
       "    </tr>\n",
       "    <tr>\n",
       "      <th>5</th>\n",
       "      <td>5</td>\n",
       "      <td>nonfiction</td>\n",
       "      <td>Nonfiction</td>\n",
       "      <td>-2.9818246193808142</td>\n",
       "    </tr>\n",
       "    <tr>\n",
       "      <th>6</th>\n",
       "      <td>6</td>\n",
       "      <td>massachusetts senate</td>\n",
       "      <td>Massachusetts_Senate</td>\n",
       "      <td>-0.8234743294594018</td>\n",
       "    </tr>\n",
       "    <tr>\n",
       "      <th>7</th>\n",
       "      <td>6</td>\n",
       "      <td>john velis</td>\n",
       "      <td>John_Velis</td>\n",
       "      <td>-1.7046133376887849</td>\n",
       "    </tr>\n",
       "    <tr>\n",
       "      <th>8</th>\n",
       "      <td>6</td>\n",
       "      <td>dems</td>\n",
       "      <td>Defensively_equipped_merchant_ship</td>\n",
       "      <td>-2.028841864813329</td>\n",
       "    </tr>\n",
       "    <tr>\n",
       "      <th>9</th>\n",
       "      <td>6</td>\n",
       "      <td>democratic</td>\n",
       "      <td>Democratic_Party_%28United_States%29</td>\n",
       "      <td>-2.03008145419841</td>\n",
       "    </tr>\n",
       "  </tbody>\n",
       "</table>\n",
       "</div>"
      ],
      "text/plain": [
       "   tweet_idx                  text                          named_entity  \\\n",
       "0          1              democrat  Democratic_Party_%28United_States%29   \n",
       "1          4                 texas                                 Texas   \n",
       "2          5   conspiracy theories                     Conspiracy_theory   \n",
       "3          5                amazon                  Amazon_%28company%29   \n",
       "4          5           anti vaxxer                     Vaccine_hesitancy   \n",
       "5          5            nonfiction                            Nonfiction   \n",
       "6          6  massachusetts senate                  Massachusetts_Senate   \n",
       "7          6            john velis                            John_Velis   \n",
       "8          6                  dems    Defensively_equipped_merchant_ship   \n",
       "9          6            democratic  Democratic_Party_%28United_States%29   \n",
       "\n",
       "            confidence  \n",
       "0  -1.8068639862560125  \n",
       "1   -2.304388836099511  \n",
       "2   -1.847672162378126  \n",
       "3   -2.435477582284357  \n",
       "4  -2.7801236851138458  \n",
       "5  -2.9818246193808142  \n",
       "6  -0.8234743294594018  \n",
       "7  -1.7046133376887849  \n",
       "8   -2.028841864813329  \n",
       "9    -2.03008145419841  "
      ]
     },
     "execution_count": 52,
     "metadata": {},
     "output_type": "execute_result"
    }
   ],
   "source": [
    "tweets_named_entities.loc[0:9, :]"
   ]
  },
  {
   "cell_type": "markdown",
   "id": "a4b48d38",
   "metadata": {},
   "source": [
    "TALK ABOUT dems, SHOW HOW TO LOOK AT THE TWEET\n",
    "\n",
    "https://twitter.com/anyuser/status/1262933787131904001"
   ]
  },
  {
   "cell_type": "code",
   "execution_count": null,
   "id": "97dfe778",
   "metadata": {},
   "outputs": [],
   "source": []
  },
  {
   "cell_type": "code",
   "execution_count": 53,
   "id": "88aeaf9c",
   "metadata": {},
   "outputs": [
    {
     "data": {
      "text/plain": [
       "tweet_id               1262933787131904001\n",
       "user_idx                             17517\n",
       "timestamp        2020-05-20 02:30:53+00:00\n",
       "followers                           121095\n",
       "friends                              69302\n",
       "retweets                               740\n",
       "favorites                             2324\n",
       "mentions                             null;\n",
       "hashtags                         DemCastMA\n",
       "urls                                 null;\n",
       "sentiment_pos                            2\n",
       "sentiment_neg                           -1\n",
       "Name: 6, dtype: object"
      ]
     },
     "execution_count": 53,
     "metadata": {},
     "output_type": "execute_result"
    }
   ],
   "source": [
    "tweets.loc[6, :]"
   ]
  },
  {
   "cell_type": "markdown",
   "id": "b691cdb9",
   "metadata": {},
   "source": [
    "The `named_entities` entity table is created from the `tweets_named_entities` relationship table, again using a dedicated function:"
   ]
  },
  {
   "cell_type": "code",
   "execution_count": 54,
   "id": "f325d6f4",
   "metadata": {},
   "outputs": [],
   "source": [
    "def create_entity_table(relationship_table, entity):\n",
    "    '''\n",
    "    Creates an entity table from a relationship table via aggregation.\n",
    "    \n",
    "    Parameters:\n",
    "        relationship_table : Pandas DataFrame\n",
    "            Dataframe that contains tweet entity relationships.\n",
    "        entity : String\n",
    "            Name of the entity column in the relationship table that contains the entities.\n",
    "    \n",
    "    Returns:\n",
    "        An entity table sorted descendingly by an additional 'tweets' column giving the number of tweets that selected an entity.\n",
    "    '''\n",
    "    df = relationship_table.groupby(entity).size().reset_index(name='tweets')\n",
    "    df = df.sort_values(['tweets', entity], ascending=[False, True]).reset_index(drop=True)\n",
    "    return df"
   ]
  },
  {
   "cell_type": "code",
   "execution_count": 55,
   "id": "8afefc22",
   "metadata": {},
   "outputs": [
    {
     "data": {
      "text/html": [
       "<div>\n",
       "<style scoped>\n",
       "    .dataframe tbody tr th:only-of-type {\n",
       "        vertical-align: middle;\n",
       "    }\n",
       "\n",
       "    .dataframe tbody tr th {\n",
       "        vertical-align: top;\n",
       "    }\n",
       "\n",
       "    .dataframe thead th {\n",
       "        text-align: right;\n",
       "    }\n",
       "</style>\n",
       "<table border=\"1\" class=\"dataframe\">\n",
       "  <thead>\n",
       "    <tr style=\"text-align: right;\">\n",
       "      <th></th>\n",
       "      <th>named_entity</th>\n",
       "      <th>tweets</th>\n",
       "    </tr>\n",
       "  </thead>\n",
       "  <tbody>\n",
       "    <tr>\n",
       "      <th>0</th>\n",
       "      <td>Coronavirus_disease_2019</td>\n",
       "      <td>141238</td>\n",
       "    </tr>\n",
       "    <tr>\n",
       "      <th>1</th>\n",
       "      <td>Quarantine</td>\n",
       "      <td>71016</td>\n",
       "    </tr>\n",
       "    <tr>\n",
       "      <th>2</th>\n",
       "      <td>China</td>\n",
       "      <td>58896</td>\n",
       "    </tr>\n",
       "    <tr>\n",
       "      <th>3</th>\n",
       "      <td>Social_distancing</td>\n",
       "      <td>39550</td>\n",
       "    </tr>\n",
       "    <tr>\n",
       "      <th>4</th>\n",
       "      <td>Twitter</td>\n",
       "      <td>37516</td>\n",
       "    </tr>\n",
       "  </tbody>\n",
       "</table>\n",
       "</div>"
      ],
      "text/plain": [
       "               named_entity  tweets\n",
       "0  Coronavirus_disease_2019  141238\n",
       "1                Quarantine   71016\n",
       "2                     China   58896\n",
       "3         Social_distancing   39550\n",
       "4                   Twitter   37516"
      ]
     },
     "execution_count": 55,
     "metadata": {},
     "output_type": "execute_result"
    }
   ],
   "source": [
    "named_entities = create_entity_table(relationship_table=tweets_named_entities, entity='named_entity')\n",
    "named_entities.head()"
   ]
  },
  {
   "cell_type": "markdown",
   "id": "2b533a1f",
   "metadata": {},
   "source": [
    "Given this entity table, add its index to the corresponding `tweets_named_entities` relationship table, reorder the columns to obtain the desired design, and change the data type of the 'confidence' scores from string to a rounded float:"
   ]
  },
  {
   "cell_type": "code",
   "execution_count": 56,
   "id": "a5731433",
   "metadata": {},
   "outputs": [
    {
     "data": {
      "text/html": [
       "<div>\n",
       "<style scoped>\n",
       "    .dataframe tbody tr th:only-of-type {\n",
       "        vertical-align: middle;\n",
       "    }\n",
       "\n",
       "    .dataframe tbody tr th {\n",
       "        vertical-align: top;\n",
       "    }\n",
       "\n",
       "    .dataframe thead th {\n",
       "        text-align: right;\n",
       "    }\n",
       "</style>\n",
       "<table border=\"1\" class=\"dataframe\">\n",
       "  <thead>\n",
       "    <tr style=\"text-align: right;\">\n",
       "      <th></th>\n",
       "      <th>tweet_idx</th>\n",
       "      <th>named_entity_idx</th>\n",
       "      <th>text</th>\n",
       "      <th>confidence</th>\n",
       "    </tr>\n",
       "  </thead>\n",
       "  <tbody>\n",
       "    <tr>\n",
       "      <th>0</th>\n",
       "      <td>1</td>\n",
       "      <td>21</td>\n",
       "      <td>democrat</td>\n",
       "      <td>-1.8069</td>\n",
       "    </tr>\n",
       "    <tr>\n",
       "      <th>1</th>\n",
       "      <td>6</td>\n",
       "      <td>21</td>\n",
       "      <td>democratic</td>\n",
       "      <td>-2.0301</td>\n",
       "    </tr>\n",
       "    <tr>\n",
       "      <th>2</th>\n",
       "      <td>1208</td>\n",
       "      <td>21</td>\n",
       "      <td>democratic</td>\n",
       "      <td>-2.0301</td>\n",
       "    </tr>\n",
       "    <tr>\n",
       "      <th>3</th>\n",
       "      <td>1336</td>\n",
       "      <td>21</td>\n",
       "      <td>democratic</td>\n",
       "      <td>-2.0301</td>\n",
       "    </tr>\n",
       "    <tr>\n",
       "      <th>4</th>\n",
       "      <td>1453</td>\n",
       "      <td>21</td>\n",
       "      <td>democratic</td>\n",
       "      <td>-2.0301</td>\n",
       "    </tr>\n",
       "  </tbody>\n",
       "</table>\n",
       "</div>"
      ],
      "text/plain": [
       "   tweet_idx  named_entity_idx        text  confidence\n",
       "0          1                21    democrat     -1.8069\n",
       "1          6                21  democratic     -2.0301\n",
       "2       1208                21  democratic     -2.0301\n",
       "3       1336                21  democratic     -2.0301\n",
       "4       1453                21  democratic     -2.0301"
      ]
     },
     "execution_count": 56,
     "metadata": {},
     "output_type": "execute_result"
    }
   ],
   "source": [
    "tweets_named_entities = add_index(source=named_entities, target=tweets_named_entities, entity='named_entity')\n",
    "tweets_named_entities = tweets_named_entities[['tweet_idx', 'named_entity_idx', 'text', 'confidence']] # Reorder columns\n",
    "tweets_named_entities['confidence'] = tweets_named_entities['confidence'].astype(float).round(4) # Change data type and round score\n",
    "tweets_named_entities.head()"
   ]
  },
  {
   "cell_type": "markdown",
   "id": "435f0df1",
   "metadata": {},
   "source": [
    "#### Creating all other tables\n",
    "\n",
    "The data of the other entities (mentions, hashtags, and URLs) is easier to normalize because the relationship tables only contain foreign keys. Without having to process metadata from named entity recognition, we can create the relationship tables via a general function:"
   ]
  },
  {
   "cell_type": "code",
   "execution_count": 57,
   "id": "1f6357d7",
   "metadata": {},
   "outputs": [],
   "source": [
    "def create_relationship_table(entity, to_lower_case, source=tweets):\n",
    "    '''\n",
    "    Creates a relationship table for a given entity from the `tweets` table.\n",
    "    \n",
    "    Parameters:\n",
    "        source : Pandas DataFrame\n",
    "            Set to the `tweets` table by default.\n",
    "        entity : String\n",
    "            Name of the entity column in the source table that contains the entities. The column must contain an object data type list of entity names.\n",
    "        to_lower_case : Boolean\n",
    "            Whether entity names should be reduced to lower case.\n",
    "    \n",
    "    Returns:\n",
    "        A relationship table linking tweet indices to entity names.\n",
    "    '''\n",
    "    df = source[[entity + 's']].explode(column=entity + 's')\n",
    "    df = df[df[entity + 's'] != '']\n",
    "    df = df.reset_index()\n",
    "    df.columns = ['tweet_idx', entity]\n",
    "    if to_lower_case == True:\n",
    "        df[entity] = df[entity].str.lower()\n",
    "    return df"
   ]
  },
  {
   "cell_type": "markdown",
   "id": "f4e6eb86",
   "metadata": {},
   "source": [
    "The processing pipeline is the same for all three entities:\n",
    "\n",
    "1. Transform the entity column in the `tweets` table to a list\n",
    "2. Create the relationship table from the entity column in the `tweets` table\n",
    "3. Delete the entity column in the `tweets` table\n",
    "4. Create the relationship table from the relationship table\n",
    "5. Add the entity index to the relationship table\n",
    "\n",
    "In the case of **mentions**, in step 2, we must transform all capital (upper case) characters to lower case. This is because user names on Twitter are not case-sensitive. In other words, when a user named \"realDonaldTrump\" already exists, no new user will be allowed with the name \"realdonaldtrump\". Since user mentions are extracted as words starting with @ but tweet creators often use upper and lower cases as they wish, not transforming upper to lower case would result in the same mentioned user getting more than a single unique identifier."
   ]
  },
  {
   "cell_type": "code",
   "execution_count": 58,
   "id": "b340aadc",
   "metadata": {},
   "outputs": [],
   "source": [
    "tweets['mentions'] = tweets['mentions'].apply(to_list, pat=' ') # Step 1\n",
    "tweets_mentions = create_relationship_table(entity='mention', to_lower_case=True) # Step 2\n",
    "del tweets['mentions'] # Step 3\n",
    "mentions = create_entity_table(relationship_table=tweets_mentions, entity='mention') # Step 4\n",
    "tweets_mentions = add_index(source=mentions, target=tweets_mentions, entity='mention') # Step 5"
   ]
  },
  {
   "cell_type": "code",
   "execution_count": 59,
   "id": "ae2e9c20",
   "metadata": {},
   "outputs": [
    {
     "data": {
      "text/html": [
       "<div>\n",
       "<style scoped>\n",
       "    .dataframe tbody tr th:only-of-type {\n",
       "        vertical-align: middle;\n",
       "    }\n",
       "\n",
       "    .dataframe tbody tr th {\n",
       "        vertical-align: top;\n",
       "    }\n",
       "\n",
       "    .dataframe thead th {\n",
       "        text-align: right;\n",
       "    }\n",
       "</style>\n",
       "<table border=\"1\" class=\"dataframe\">\n",
       "  <thead>\n",
       "    <tr style=\"text-align: right;\">\n",
       "      <th></th>\n",
       "      <th>mention</th>\n",
       "      <th>tweets</th>\n",
       "    </tr>\n",
       "  </thead>\n",
       "  <tbody>\n",
       "    <tr>\n",
       "      <th>0</th>\n",
       "      <td>realdonaldtrump</td>\n",
       "      <td>38571</td>\n",
       "    </tr>\n",
       "    <tr>\n",
       "      <th>1</th>\n",
       "      <td>pmoindia</td>\n",
       "      <td>6565</td>\n",
       "    </tr>\n",
       "    <tr>\n",
       "      <th>2</th>\n",
       "      <td>narendramodi</td>\n",
       "      <td>6450</td>\n",
       "    </tr>\n",
       "    <tr>\n",
       "      <th>3</th>\n",
       "      <td>jaketapper</td>\n",
       "      <td>5971</td>\n",
       "    </tr>\n",
       "    <tr>\n",
       "      <th>4</th>\n",
       "      <td>youtube</td>\n",
       "      <td>5731</td>\n",
       "    </tr>\n",
       "  </tbody>\n",
       "</table>\n",
       "</div>"
      ],
      "text/plain": [
       "           mention  tweets\n",
       "0  realdonaldtrump   38571\n",
       "1         pmoindia    6565\n",
       "2     narendramodi    6450\n",
       "3       jaketapper    5971\n",
       "4          youtube    5731"
      ]
     },
     "execution_count": 59,
     "metadata": {},
     "output_type": "execute_result"
    }
   ],
   "source": [
    "mentions.head()"
   ]
  },
  {
   "cell_type": "markdown",
   "id": "33d39d13",
   "metadata": {},
   "source": [
    "Donald Trump is the most mentioned user by far, followed by the prime minister of india Narendra Modi both with his official and private account.\n",
    "\n",
    "In the case of **hashtags**, do the same transformation from upper to lower case to prevent synonymous hashtags getting different indices:"
   ]
  },
  {
   "cell_type": "code",
   "execution_count": 60,
   "id": "6a591a14",
   "metadata": {},
   "outputs": [],
   "source": [
    "tweets['hashtags'] = tweets['hashtags'].apply(to_list, pat=' ') # Step 1\n",
    "tweets_hashtags = create_relationship_table(entity='hashtag', to_lower_case=True) # Step 2\n",
    "del tweets['hashtags'] # Step 3\n",
    "hashtags = create_entity_table(relationship_table=tweets_hashtags, entity='hashtag') # Step 4\n",
    "tweets_hashtags = add_index(source=hashtags, target=tweets_hashtags, entity='hashtag') # Step 5"
   ]
  },
  {
   "cell_type": "code",
   "execution_count": 61,
   "id": "864f1b50",
   "metadata": {},
   "outputs": [
    {
     "data": {
      "text/html": [
       "<div>\n",
       "<style scoped>\n",
       "    .dataframe tbody tr th:only-of-type {\n",
       "        vertical-align: middle;\n",
       "    }\n",
       "\n",
       "    .dataframe tbody tr th {\n",
       "        vertical-align: top;\n",
       "    }\n",
       "\n",
       "    .dataframe thead th {\n",
       "        text-align: right;\n",
       "    }\n",
       "</style>\n",
       "<table border=\"1\" class=\"dataframe\">\n",
       "  <thead>\n",
       "    <tr style=\"text-align: right;\">\n",
       "      <th></th>\n",
       "      <th>hashtag</th>\n",
       "      <th>tweets</th>\n",
       "    </tr>\n",
       "  </thead>\n",
       "  <tbody>\n",
       "    <tr>\n",
       "      <th>0</th>\n",
       "      <td>covid19</td>\n",
       "      <td>87900</td>\n",
       "    </tr>\n",
       "    <tr>\n",
       "      <th>1</th>\n",
       "      <td>coronavirus</td>\n",
       "      <td>40597</td>\n",
       "    </tr>\n",
       "    <tr>\n",
       "      <th>2</th>\n",
       "      <td>covid_19</td>\n",
       "      <td>12676</td>\n",
       "    </tr>\n",
       "    <tr>\n",
       "      <th>3</th>\n",
       "      <td>lockdown</td>\n",
       "      <td>12164</td>\n",
       "    </tr>\n",
       "    <tr>\n",
       "      <th>4</th>\n",
       "      <td>stayhome</td>\n",
       "      <td>11594</td>\n",
       "    </tr>\n",
       "  </tbody>\n",
       "</table>\n",
       "</div>"
      ],
      "text/plain": [
       "       hashtag  tweets\n",
       "0      covid19   87900\n",
       "1  coronavirus   40597\n",
       "2     covid_19   12676\n",
       "3     lockdown   12164\n",
       "4     stayhome   11594"
      ]
     },
     "execution_count": 61,
     "metadata": {},
     "output_type": "execute_result"
    }
   ],
   "source": [
    "hashtags.head()"
   ]
  },
  {
   "cell_type": "markdown",
   "id": "4588629d",
   "metadata": {},
   "source": [
    "**URLs** are case-sensitive. Hence, set `to_lower_case=False` in step 2. To create the tables related to **TLDs**, postpone step 5:"
   ]
  },
  {
   "cell_type": "code",
   "execution_count": 62,
   "id": "16c22dd7",
   "metadata": {},
   "outputs": [],
   "source": [
    "tweets['urls'] = tweets['urls'].apply(to_list, pat=':-:') # Step 1\n",
    "tweets_urls = create_relationship_table(entity='url', to_lower_case=False) # Step 2\n",
    "del tweets['urls'] # Step 3\n",
    "urls = create_entity_table(relationship_table=tweets_urls, entity='url') # Step 4"
   ]
  },
  {
   "cell_type": "markdown",
   "id": "432675f8",
   "metadata": {},
   "source": [
    "At this point, `tweets_urls` has all the information to create the TLD-related tables. Create the ``tweets_tlds`` as a copy of `tweets_urls` and extract the TLDs (pseudo step 2):"
   ]
  },
  {
   "cell_type": "code",
   "execution_count": 63,
   "id": "d15c36f5",
   "metadata": {},
   "outputs": [],
   "source": [
    "tweets_tlds = tweets_urls.copy()\n",
    "tweets_tlds['tld'] = tweets_tlds['url'].str[8:].str.split(pat='/').str[0]"
   ]
  },
  {
   "cell_type": "markdown",
   "id": "9b0b0a8d",
   "metadata": {},
   "source": [
    "Now, finish step 5 for URLs..."
   ]
  },
  {
   "cell_type": "code",
   "execution_count": 64,
   "id": "6884056f",
   "metadata": {},
   "outputs": [],
   "source": [
    "tweets_urls = add_index(source=urls, target=tweets_urls, entity='url') # Step 5"
   ]
  },
  {
   "cell_type": "markdown",
   "id": "51b4398f",
   "metadata": {},
   "source": [
    "and steps 4 and 5 for TLDs (step 3 is not necessary since no such column ever existed):"
   ]
  },
  {
   "cell_type": "code",
   "execution_count": 65,
   "id": "db434588",
   "metadata": {},
   "outputs": [],
   "source": [
    "tlds = create_entity_table(relationship_table=tweets_tlds, entity='tld') # Step 4\n",
    "tweets_tlds = add_index(source=tlds, target=tweets_tlds, entity='tld') # Step 5"
   ]
  },
  {
   "cell_type": "code",
   "execution_count": 66,
   "id": "779ff51e",
   "metadata": {},
   "outputs": [
    {
     "data": {
      "text/html": [
       "<div>\n",
       "<style scoped>\n",
       "    .dataframe tbody tr th:only-of-type {\n",
       "        vertical-align: middle;\n",
       "    }\n",
       "\n",
       "    .dataframe tbody tr th {\n",
       "        vertical-align: top;\n",
       "    }\n",
       "\n",
       "    .dataframe thead th {\n",
       "        text-align: right;\n",
       "    }\n",
       "</style>\n",
       "<table border=\"1\" class=\"dataframe\">\n",
       "  <thead>\n",
       "    <tr style=\"text-align: right;\">\n",
       "      <th></th>\n",
       "      <th>url</th>\n",
       "      <th>tweets</th>\n",
       "    </tr>\n",
       "  </thead>\n",
       "  <tbody>\n",
       "    <tr>\n",
       "      <th>0</th>\n",
       "      <td>https://www.twittascope.com/?sign=5</td>\n",
       "      <td>556</td>\n",
       "    </tr>\n",
       "    <tr>\n",
       "      <th>1</th>\n",
       "      <td>https://api.whatsapp.com/send?phone=9190393567...</td>\n",
       "      <td>371</td>\n",
       "    </tr>\n",
       "    <tr>\n",
       "      <th>2</th>\n",
       "      <td>http://rebrand.ly/work-2020</td>\n",
       "      <td>286</td>\n",
       "    </tr>\n",
       "    <tr>\n",
       "      <th>3</th>\n",
       "      <td>https://www.twittascope.com/?sign=6</td>\n",
       "      <td>271</td>\n",
       "    </tr>\n",
       "    <tr>\n",
       "      <th>4</th>\n",
       "      <td>https://redcross.give.asia/campaign/essentials...</td>\n",
       "      <td>260</td>\n",
       "    </tr>\n",
       "  </tbody>\n",
       "</table>\n",
       "</div>"
      ],
      "text/plain": [
       "                                                 url  tweets\n",
       "0                https://www.twittascope.com/?sign=5     556\n",
       "1  https://api.whatsapp.com/send?phone=9190393567...     371\n",
       "2                        http://rebrand.ly/work-2020     286\n",
       "3                https://www.twittascope.com/?sign=6     271\n",
       "4  https://redcross.give.asia/campaign/essentials...     260"
      ]
     },
     "execution_count": 66,
     "metadata": {},
     "output_type": "execute_result"
    }
   ],
   "source": [
    "urls.head()"
   ]
  },
  {
   "cell_type": "code",
   "execution_count": 67,
   "id": "f99af14f",
   "metadata": {},
   "outputs": [
    {
     "data": {
      "text/html": [
       "<div>\n",
       "<style scoped>\n",
       "    .dataframe tbody tr th:only-of-type {\n",
       "        vertical-align: middle;\n",
       "    }\n",
       "\n",
       "    .dataframe tbody tr th {\n",
       "        vertical-align: top;\n",
       "    }\n",
       "\n",
       "    .dataframe thead th {\n",
       "        text-align: right;\n",
       "    }\n",
       "</style>\n",
       "<table border=\"1\" class=\"dataframe\">\n",
       "  <thead>\n",
       "    <tr style=\"text-align: right;\">\n",
       "      <th></th>\n",
       "      <th>tld</th>\n",
       "      <th>tweets</th>\n",
       "    </tr>\n",
       "  </thead>\n",
       "  <tbody>\n",
       "    <tr>\n",
       "      <th>0</th>\n",
       "      <td>twitter.com</td>\n",
       "      <td>35578</td>\n",
       "    </tr>\n",
       "    <tr>\n",
       "      <th>1</th>\n",
       "      <td>www.youtube.com</td>\n",
       "      <td>26419</td>\n",
       "    </tr>\n",
       "    <tr>\n",
       "      <th>2</th>\n",
       "      <td>www.instagram.com</td>\n",
       "      <td>12247</td>\n",
       "    </tr>\n",
       "    <tr>\n",
       "      <th>3</th>\n",
       "      <td>www.theguardian.com</td>\n",
       "      <td>8915</td>\n",
       "    </tr>\n",
       "    <tr>\n",
       "      <th>4</th>\n",
       "      <td>www.nytimes.com</td>\n",
       "      <td>7081</td>\n",
       "    </tr>\n",
       "  </tbody>\n",
       "</table>\n",
       "</div>"
      ],
      "text/plain": [
       "                   tld  tweets\n",
       "0          twitter.com   35578\n",
       "1      www.youtube.com   26419\n",
       "2    www.instagram.com   12247\n",
       "3  www.theguardian.com    8915\n",
       "4      www.nytimes.com    7081"
      ]
     },
     "execution_count": 67,
     "metadata": {},
     "output_type": "execute_result"
    }
   ],
   "source": [
    "tlds.head()"
   ]
  },
  {
   "cell_type": "markdown",
   "id": "72e1eba4",
   "metadata": {},
   "source": [
    "As expected, the detail of URLs hides which TLDs are most popular."
   ]
  },
  {
   "cell_type": "code",
   "execution_count": null,
   "id": "4cf8f3a9",
   "metadata": {},
   "outputs": [],
   "source": [
    "#set(mentions['mention'].apply(list).sum())\n",
    "#\n",
    "#{'!',\n",
    "# '\"',\n",
    "# '#',\n",
    "# '$',\n",
    "# '%',\n",
    "# '&',\n",
    "# \"'\",\n",
    "# '(',\n",
    "# ')',\n",
    "# '*',\n",
    "# '+',\n",
    "# ',',\n",
    "# '-',\n",
    "# '.',\n",
    "# '/',\n",
    "# '0',\n",
    "# '1',\n",
    "# '2',\n",
    "# '3',\n",
    "# '4',\n",
    "# '5',\n",
    "# '6',\n",
    "# '7',\n",
    "# '8',\n",
    "# '9',\n",
    "# ':',\n",
    "# ';',\n",
    "# '=',\n",
    "# '?',\n",
    "# '[',\n",
    "# '\\\\',\n",
    "# ']',\n",
    "# '^',\n",
    "# '_',\n",
    "# '`',\n",
    "# 'a',\n",
    "# 'b',\n",
    "# 'c',\n",
    "# 'd',\n",
    "# 'e',\n",
    "# 'f',\n",
    "# 'g',\n",
    "# 'h',\n",
    "# 'i',\n",
    "# 'j',\n",
    "# 'k',\n",
    "# 'l',\n",
    "# 'm',\n",
    "# 'n',\n",
    "# 'o',\n",
    "# 'p',\n",
    "# 'q',\n",
    "# 'r',\n",
    "# 's',\n",
    "# 't',\n",
    "# 'u',\n",
    "# 'v',\n",
    "# 'w',\n",
    "# 'x',\n",
    "# 'y',\n",
    "# 'z',\n",
    "# '|',\n",
    "# '}',\n",
    "# '~',\n",
    "# '£',\n",
    "# '´',\n",
    "# '·',\n",
    "# '×',\n",
    "# 'à',\n",
    "# 'é',\n",
    "# 'ó',\n",
    "# 'ś',\n",
    "# 'ʼ',\n",
    "# 'α',\n",
    "# 'σ',\n",
    "# 'у',\n",
    "# 'є',\n",
    "# 'َ',\n",
    "# 'अ',\n",
    "# 'ग',\n",
    "# 'न',\n",
    "# 'ब',\n",
    "# 'भ',\n",
    "# 'व',\n",
    "# 'ा',\n",
    "# 'த',\n",
    "# 'ன',\n",
    "# 'ப',\n",
    "# 'ம',\n",
    "# 'ர',\n",
    "# 'ற',\n",
    "# 'ல',\n",
    "# 'ழ',\n",
    "# 'வ',\n",
    "# 'ி',\n",
    "# 'ு',\n",
    "# 'ோ',\n",
    "# '்',\n",
    "# '\\u200b',\n",
    "# '\\u200d',\n",
    "# '–',\n",
    "# '—',\n",
    "# '‘',\n",
    "# '’',\n",
    "# '“',\n",
    "# '”',\n",
    "# '…',\n",
    "# '\\u202f',\n",
    "# '‼',\n",
    "# '⁉',\n",
    "# '\\u2060',\n",
    "# '\\u2063',\n",
    "# '\\u2069',\n",
    "# '₹',\n",
    "# '▪',\n",
    "# '▶',\n",
    "# '☀',\n",
    "# '☕',\n",
    "# '☭',\n",
    "# '☹',\n",
    "# '♀',\n",
    "# '♂',\n",
    "# '♡',\n",
    "# '♥',\n",
    "# '♨',\n",
    "# '⚔',\n",
    "# '⚡',\n",
    "# '⛪',\n",
    "# '✅',\n",
    "# '✈',\n",
    "# '✊',\n",
    "# '✌',\n",
    "# '✍',\n",
    "# '✔',\n",
    "# '✖',\n",
    "# '✧',\n",
    "# '✨',\n",
    "# '❓',\n",
    "# '❗',\n",
    "# '❣',\n",
    "# '❤',\n",
    "# '➡',\n",
    "# '⠀',\n",
    "# '⤵',\n",
    "# '⬆',\n",
    "# '⬇',\n",
    "# '⭐',\n",
    "# '》',\n",
    "# 'か',\n",
    "# 'よ',\n",
    "# 'ら',\n",
    "# 'り',\n",
    "# '傅',\n",
    "# '大',\n",
    "# '妈',\n",
    "# '威',\n",
    "# '扬',\n",
    "# '柴',\n",
    "# '神',\n",
    "# '虎',\n",
    "# '谷',\n",
    "# '차',\n",
    "# '️',\n",
    "# '！',\n",
    "# '，',\n",
    "# '｜',\n",
    "# '･',\n",
    "# 'ﾟ',\n",
    "# '𝐀',\n",
    "# '𝐂',\n",
    "# '𝐍',\n",
    "# '𝑑',\n",
    "# '𝑒',\n",
    "# '𝑖',\n",
    "# '𝑙',\n",
    "# '𝑜',\n",
    "# '𝑡',\n",
    "# '𝓪',\n",
    "# '𝓬',\n",
    "# '𝓮',\n",
    "# '𝓯',\n",
    "# '𝓱',\n",
    "# '𝓲',\n",
    "# '𝓴',\n",
    "# '𝓵',\n",
    "# '𝓶',\n",
    "# '𝓸',\n",
    "# '𝗘',\n",
    "# '𝗢',\n",
    "# '𝗧',\n",
    "# '𝗩',\n",
    "# '𝘩',\n",
    "# '🆚',\n",
    "# '🇦',\n",
    "# '🇧',\n",
    "# '🇨',\n",
    "# '🇩',\n",
    "# '🇪',\n",
    "# '🇬',\n",
    "# '🇭',\n",
    "# '🇮',\n",
    "# '🇱',\n",
    "# '🇳',\n",
    "# '🇴',\n",
    "# '🇸',\n",
    "# '🇹',\n",
    "# '🇺',\n",
    "# '🇿',\n",
    "# '🌄',\n",
    "# '🌅',\n",
    "# '🌈',\n",
    "# '🌍',\n",
    "# '🌎',\n",
    "# '🌏',\n",
    "# '🌟',\n",
    "# '🌪',\n",
    "# '🌷',\n",
    "# '🌹',\n",
    "# '🌺',\n",
    "# '🌻',\n",
    "# '🍀',\n",
    "# '🍆',\n",
    "# '🍊',\n",
    "# '🍍',\n",
    "# '🍒',\n",
    "# '🍪',\n",
    "# '🍳',\n",
    "# '🍴',\n",
    "# '🍷',\n",
    "# '🍺',\n",
    "# '🎂',\n",
    "# '🎉',\n",
    "# '🎊',\n",
    "# '🎓',\n",
    "# '🎙',\n",
    "# '🎟',\n",
    "# '🎡',\n",
    "# '🎤',\n",
    "# '🎥',\n",
    "# '🎧',\n",
    "# '🎨',\n",
    "# '🎶',\n",
    "# '🎼',\n",
    "# '🏁',\n",
    "# '🏆',\n",
    "# '🏠',\n",
    "# '🏡',\n",
    "# '🏥',\n",
    "# '🏪',\n",
    "# '🏻',\n",
    "# '🏼',\n",
    "# '🏽',\n",
    "# '🏾',\n",
    "# '🏿',\n",
    "# '🐍',\n",
    "# '🐎',\n",
    "# '🐐',\n",
    "# '🐒',\n",
    "# '🐓',\n",
    "# '🐘',\n",
    "# '🐲',\n",
    "# '🐵',\n",
    "# '🐶',\n",
    "# '👀',\n",
    "# '👆',\n",
    "# '👇',\n",
    "# '👈',\n",
    "# '👉',\n",
    "# '👊',\n",
    "# '👌',\n",
    "# '👍',\n",
    "# '👎',\n",
    "# '👏',\n",
    "# '👑',\n",
    "# '👨',\n",
    "# '👩',\n",
    "# '👺',\n",
    "# '👽',\n",
    "# '💃',\n",
    "# '💋',\n",
    "# '💌',\n",
    "# '💍',\n",
    "# '💔',\n",
    "# '💕',\n",
    "# '💖',\n",
    "# '💗',\n",
    "# '💘',\n",
    "# '💙',\n",
    "# '💚',\n",
    "# '💛',\n",
    "# '💜',\n",
    "# '💞',\n",
    "# '💥',\n",
    "# '💦',\n",
    "# '💪',\n",
    "# '💫',\n",
    "# '💯',\n",
    "# '💻',\n",
    "# '📖',\n",
    "# '📚',\n",
    "# '📢',\n",
    "# '📣',\n",
    "# '📰',\n",
    "# '📱',\n",
    "# '📷',\n",
    "# '📺',\n",
    "# '📻',\n",
    "# '📽',\n",
    "# '🔊',\n",
    "# '🔥',\n",
    "# '🔨',\n",
    "# '🔬',\n",
    "# '🕴',\n",
    "# '🕺',\n",
    "# '🖕',\n",
    "# '🖤',\n",
    "# '🗞',\n",
    "# '🗽',\n",
    "# '😀',\n",
    "# '😁',\n",
    "# '😂',\n",
    "# '😅',\n",
    "# '😆',\n",
    "# '😇',\n",
    "# '😈',\n",
    "# '😉',\n",
    "# '😊',\n",
    "# '😍',\n",
    "# '😎',\n",
    "# '😔',\n",
    "# '😘',\n",
    "# '😛',\n",
    "# '😜',\n",
    "# '😠',\n",
    "# '😡',\n",
    "# '😢',\n",
    "# '😤',\n",
    "# '😥',\n",
    "# '😭',\n",
    "# '😱',\n",
    "# '😲',\n",
    "# '😷',\n",
    "# '😻',\n",
    "# '🙂',\n",
    "# '🙄',\n",
    "# '🙆',\n",
    "# '🙇',\n",
    "# '🙈',\n",
    "# '🙌',\n",
    "# '🙏',\n",
    "# '🚀',\n",
    "# '🚂',\n",
    "# '🚉',\n",
    "# '🚨',\n",
    "# '🚩',\n",
    "# '🚫',\n",
    "# '🛫',\n",
    "# '🤎',\n",
    "# '🤐',\n",
    "# '🤔',\n",
    "# '🤖',\n",
    "# '🤗',\n",
    "# '🤘',\n",
    "# '🤙',\n",
    "# '🤠',\n",
    "# '🤡',\n",
    "# '🤣',\n",
    "# '🤥',\n",
    "# '🤦',\n",
    "# '🤪',\n",
    "# '🤫',\n",
    "# '🤬',\n",
    "# '🤭',\n",
    "# '🤮',\n",
    "# '🤴',\n",
    "# '🥞',\n",
    "# '🥰',\n",
    "# '🥳',\n",
    "# '🥴',\n",
    "# '🥺',\n",
    "# '🦁',\n",
    "# '🦄',\n",
    "# '🦅',\n",
    "# '🦉',\n",
    "# '🦋',\n",
    "# '🦠',\n",
    "# '🧑',\n",
    "# '🧠',\n",
    "# '🧡',\n",
    "# '🩸',\n",
    "# '🪦',\n",
    "# '🪱'}"
   ]
  },
  {
   "cell_type": "markdown",
   "id": "012a7cb0",
   "metadata": {},
   "source": [
    "## 2.2. Exploring the data visually\n",
    "\n"
   ]
  },
  {
   "cell_type": "code",
   "execution_count": null,
   "id": "30062046",
   "metadata": {},
   "outputs": [],
   "source": []
  },
  {
   "cell_type": "code",
   "execution_count": null,
   "id": "d70cc8af",
   "metadata": {},
   "outputs": [],
   "source": []
  },
  {
   "cell_type": "code",
   "execution_count": null,
   "id": "c46181e8",
   "metadata": {},
   "outputs": [],
   "source": []
  },
  {
   "cell_type": "code",
   "execution_count": null,
   "id": "dc97219f",
   "metadata": {},
   "outputs": [],
   "source": []
  },
  {
   "cell_type": "code",
   "execution_count": null,
   "id": "31c20200",
   "metadata": {},
   "outputs": [],
   "source": []
  },
  {
   "cell_type": "code",
   "execution_count": null,
   "id": "48e8cdad",
   "metadata": {},
   "outputs": [],
   "source": []
  },
  {
   "cell_type": "code",
   "execution_count": null,
   "id": "f9d66b82",
   "metadata": {},
   "outputs": [],
   "source": []
  },
  {
   "cell_type": "code",
   "execution_count": null,
   "id": "4b223f12",
   "metadata": {},
   "outputs": [],
   "source": []
  },
  {
   "cell_type": "code",
   "execution_count": null,
   "id": "038f1dd1",
   "metadata": {},
   "outputs": [],
   "source": []
  },
  {
   "cell_type": "markdown",
   "id": "d6ff08bf",
   "metadata": {},
   "source": [
    "### 2.2.2. Working with a single dataframe"
   ]
  },
  {
   "cell_type": "code",
   "execution_count": null,
   "id": "bed539cd",
   "metadata": {},
   "outputs": [],
   "source": [
    "# read/save\n",
    "# describe()\n",
    "# changing index and column names\n",
    "# grouping\n",
    "# using and resetting the index\n",
    "# categorize series: categories and codes\n",
    "# matrix to edgelist and vice versa\n",
    "# zip\n",
    "# columns into dict\n",
    "# datetime\n",
    "# ..."
   ]
  },
  {
   "cell_type": "code",
   "execution_count": null,
   "id": "046dfc35",
   "metadata": {},
   "outputs": [],
   "source": []
  },
  {
   "cell_type": "markdown",
   "id": "e97bba6e",
   "metadata": {},
   "source": [
    "### 2.2.3. Working with multiple dataframes"
   ]
  },
  {
   "cell_type": "code",
   "execution_count": null,
   "id": "a707be06",
   "metadata": {},
   "outputs": [],
   "source": [
    "# merge split concat etc\n",
    "# ..."
   ]
  },
  {
   "cell_type": "code",
   "execution_count": null,
   "id": "04f1685a",
   "metadata": {},
   "outputs": [],
   "source": []
  },
  {
   "cell_type": "markdown",
   "id": "444d7d2f",
   "metadata": {},
   "source": [
    "## 2.3. NumPy\n",
    "\n",
    "- https://jakevdp.github.io/PythonDataScienceHandbook/02.00-introduction-to-numpy.html\n",
    "- https://www.pythonlikeyoumeanit.com/module_3.html"
   ]
  },
  {
   "cell_type": "code",
   "execution_count": null,
   "id": "de4e272a",
   "metadata": {},
   "outputs": [],
   "source": [
    "# read/save\n",
    "# relationship to pandas\n",
    "# ..."
   ]
  },
  {
   "cell_type": "markdown",
   "id": "2cf1b7dd",
   "metadata": {},
   "source": [
    "# 2. Numpy  [<a href='#destination2'>3</a>] <a id='destination2_'></a>\n",
    "\n",
    "<img src='images/numpy.png' style='height: 120px; float: right; margin-left: 40px' >\n",
    "\n",
    "\n",
    "NumPy (Numerical Python) is an open source Python library that’s used in almost every field of science and engineering. It’s the universal standard for working with numerical data in Python, and it’s at the core of the scientific Python and PyData ecosystems. Numpy users include everyone from beginning coders to experienced researchers doing state-of-the-art scientific and industrial research and development. The Numpy API is used extensively in Pandas, SciPy, Matplotlib, scikit-learn, scikit-image and most other data science and scientific Python packages.\n",
    "\n",
    "The Numpy library contains multidimensional array and matrix data structures (you’ll find out more about this later in this notebook). It provides **ndarray**, a homogeneous n-dimensional array object, with methods to efficiently operate on it. Numpy can be used to perform a wide variety of mathematical operations on arrays. It adds powerful data structures to Python that guarantee efficient calculations with arrays and matrices and it supplies an enormous library of high-level mathematical functions that operate on these arrays and matrices."
   ]
  },
  {
   "cell_type": "markdown",
   "id": "975aad80",
   "metadata": {},
   "source": [
    "## 2.2 Numpy arrays\n",
    "\n",
    "An array is a central data structure of the Numpy library. An array is a grid of values and it contains information about the raw data, how to locate an element, and how to interpret an element. They seem very much like python lists, but Numpy arrays are in fact faster and more compact than python lists.\n",
    "\n",
    "One way we can initialize Numpy arrays is from python lists, using nested lists for two- or higher-dimensional data.\n",
    "\n",
    "For example:"
   ]
  },
  {
   "cell_type": "code",
   "execution_count": null,
   "id": "72b16e10",
   "metadata": {},
   "outputs": [],
   "source": [
    "a = np.array([1, 2, 3, 4, 5, 6])\n",
    "\n",
    "b = np.array([[1, 2, 3, 4], [5, 6, 7, 8], [9, 10, 11, 12]])"
   ]
  },
  {
   "cell_type": "markdown",
   "id": "472f48e2",
   "metadata": {},
   "source": [
    "We can access the elements in the array using square brackets, just like lists. Indexing in Numpy also starts at 0 ."
   ]
  },
  {
   "cell_type": "code",
   "execution_count": null,
   "id": "cc701e93",
   "metadata": {},
   "outputs": [],
   "source": [
    "print(a[0])"
   ]
  },
  {
   "cell_type": "markdown",
   "id": "c3886403",
   "metadata": {},
   "source": [
    "Besides creating an array from a sequence of elements, you can easily create an array filled with 0’s or 1's:"
   ]
  },
  {
   "cell_type": "code",
   "execution_count": null,
   "id": "4160bf57",
   "metadata": {},
   "outputs": [],
   "source": [
    "np.zeros(2)"
   ]
  },
  {
   "cell_type": "code",
   "execution_count": null,
   "id": "016ceb3e",
   "metadata": {},
   "outputs": [],
   "source": [
    "np.ones(2)"
   ]
  },
  {
   "cell_type": "markdown",
   "id": "27825a8d",
   "metadata": {},
   "source": [
    "You can also create an array with a range of elements:"
   ]
  },
  {
   "cell_type": "code",
   "execution_count": null,
   "id": "2c8847f4",
   "metadata": {},
   "outputs": [],
   "source": [
    "np.arange(4)"
   ]
  },
  {
   "cell_type": "markdown",
   "id": "4653733b",
   "metadata": {},
   "source": [
    "### 2.2.1 Concatenating and sorting elements\n",
    "\n",
    "\n",
    "**Sorting** an element is simple with `np.sort()`. You can specify the axis, kind, and order when you call the function. Take `arr` array for example:"
   ]
  },
  {
   "cell_type": "code",
   "execution_count": null,
   "id": "448d8935",
   "metadata": {},
   "outputs": [],
   "source": [
    "arr = np.array([2, 1, 5, 3, 7, 4, 6, 8])"
   ]
  },
  {
   "cell_type": "markdown",
   "id": "4202a2e1",
   "metadata": {},
   "source": [
    "You can quickly sort the numbers in ascending order with:"
   ]
  },
  {
   "cell_type": "code",
   "execution_count": null,
   "id": "83734640",
   "metadata": {},
   "outputs": [],
   "source": [
    "np.sort(arr)"
   ]
  },
  {
   "cell_type": "markdown",
   "id": "8a294ecd",
   "metadata": {},
   "source": [
    "**Concatenating** two arrays `a` and `b` could be done like this:"
   ]
  },
  {
   "cell_type": "code",
   "execution_count": null,
   "id": "a1c131c7",
   "metadata": {},
   "outputs": [],
   "source": [
    "a = np.array([1, 2, 3, 4])\n",
    "b = np.array([5, 6, 7, 8])\n",
    "\n",
    "np.concatenate((a, b))"
   ]
  },
  {
   "cell_type": "markdown",
   "id": "d5c032a2",
   "metadata": {},
   "source": [
    "Or, if you start with these arrays:"
   ]
  },
  {
   "cell_type": "code",
   "execution_count": null,
   "id": "40162efb",
   "metadata": {},
   "outputs": [],
   "source": [
    "x = np.array([[1, 2], [3, 4]])\n",
    "y = np.array([[5, 6]])"
   ]
  },
  {
   "cell_type": "markdown",
   "id": "37e0d167",
   "metadata": {},
   "source": [
    "You can concatenate them with:"
   ]
  },
  {
   "cell_type": "code",
   "execution_count": null,
   "id": "d221817c",
   "metadata": {},
   "outputs": [],
   "source": [
    "np.concatenate((x, y), axis=0)"
   ]
  },
  {
   "cell_type": "markdown",
   "id": "1e9cf643",
   "metadata": {},
   "source": [
    "### 2.2.2 The shape and size of an array\n",
    "\n",
    "\n",
    "`ndarray.ndim` will tell you the number of axes, or dimensions, of the array.\n",
    "\n",
    "`ndarray.size` will tell you the total number of elements of the array. This is the product of the elements of the array’s shape.\n",
    "\n",
    "`ndarray.shape` will display a tuple of integers that indicate the number of elements stored along each dimension of the array. If, for example, you have a 2-D array with 2 rows and 3 columns, the shape of your array is (2, 3).\n",
    "\n",
    "For example, if you create this array:"
   ]
  },
  {
   "cell_type": "code",
   "execution_count": null,
   "id": "741e9b09",
   "metadata": {},
   "outputs": [],
   "source": [
    "array_example = np.array([[[0, 1, 2, 3],\n",
    "                           [4, 5, 6, 7]],\n",
    "\n",
    "                          [[0, 1, 2, 3],\n",
    "                           [4, 5, 6, 7]],\n",
    "\n",
    "                          [[0 ,1 ,2, 3],\n",
    "                           [4, 5, 6, 7]]])"
   ]
  },
  {
   "cell_type": "markdown",
   "id": "39299ac9",
   "metadata": {},
   "source": [
    "You will have:"
   ]
  },
  {
   "cell_type": "code",
   "execution_count": null,
   "id": "131e5eb1",
   "metadata": {},
   "outputs": [],
   "source": [
    "print(f'array_example.ndim: {array_example.ndim}')\n",
    "print(f'array_example.size: {array_example.size}')\n",
    "print(f'array_example.shape: {array_example.shape}')"
   ]
  },
  {
   "cell_type": "markdown",
   "id": "6e3bc20f",
   "metadata": {},
   "source": [
    "#### Reshaping arrays:\n",
    "\n",
    "Using `arr.reshape()` will give a new shape to an array without changing the data. Just remember that when you use the reshape method, the array you want to produce needs to have the same number of elements as the original array.\n",
    "\n",
    "For example:"
   ]
  },
  {
   "cell_type": "code",
   "execution_count": null,
   "id": "0b459b6f",
   "metadata": {
    "scrolled": true
   },
   "outputs": [],
   "source": [
    "a = np.arange(6)\n",
    "print(f'a:\\n {a}')\n",
    "\n",
    "reshaped_a = a.reshape(3, 2)\n",
    "print (f'\\nreshaped_a:\\n {reshaped_a}')"
   ]
  },
  {
   "cell_type": "markdown",
   "id": "c1fb39e0",
   "metadata": {},
   "source": [
    "### 2.2.3 Indexing and slicing\n",
    "\n",
    "You can index and slice Numpy arrays in the same ways you can slice Python lists:"
   ]
  },
  {
   "cell_type": "code",
   "execution_count": null,
   "id": "3eba9076",
   "metadata": {},
   "outputs": [],
   "source": [
    "data = np.array([1, 2, 3])"
   ]
  },
  {
   "cell_type": "code",
   "execution_count": null,
   "id": "1321df7a",
   "metadata": {},
   "outputs": [],
   "source": [
    "data[1]"
   ]
  },
  {
   "cell_type": "code",
   "execution_count": null,
   "id": "4daf965c",
   "metadata": {},
   "outputs": [],
   "source": [
    "data[0:2]"
   ]
  },
  {
   "cell_type": "code",
   "execution_count": null,
   "id": "5d7a5c8f",
   "metadata": {},
   "outputs": [],
   "source": [
    "data[1:]"
   ]
  },
  {
   "cell_type": "code",
   "execution_count": null,
   "id": "44b95ae6",
   "metadata": {},
   "outputs": [],
   "source": [
    "data[-2:]"
   ]
  },
  {
   "cell_type": "markdown",
   "id": "18d1e447",
   "metadata": {},
   "source": [
    "If you want to select values from your array that fulfill certain conditions, it’s straightforward with Numpy.\n",
    "\n",
    "For example, if you start with this array:"
   ]
  },
  {
   "cell_type": "code",
   "execution_count": null,
   "id": "4f190643",
   "metadata": {},
   "outputs": [],
   "source": [
    "a = np.array([[1 , 2, 3, 4], [5, 6, 7, 8], [9, 10, 11, 12]])"
   ]
  },
  {
   "cell_type": "markdown",
   "id": "03f51155",
   "metadata": {},
   "source": [
    "You can easily print all of the values in the array that are less than 5:"
   ]
  },
  {
   "cell_type": "code",
   "execution_count": null,
   "id": "b20d989f",
   "metadata": {},
   "outputs": [],
   "source": [
    "print(a[a < 5])"
   ]
  },
  {
   "cell_type": "markdown",
   "id": "4aa7c8fb",
   "metadata": {},
   "source": [
    "You can also select, for example, numbers that are equal to or greater than 5, and use that condition to index an array:"
   ]
  },
  {
   "cell_type": "code",
   "execution_count": null,
   "id": "d457ed37",
   "metadata": {},
   "outputs": [],
   "source": [
    "five_up = (a >= 5)\n",
    "print(a[five_up])"
   ]
  },
  {
   "cell_type": "markdown",
   "id": "ed3b4675",
   "metadata": {},
   "source": [
    "Or you can select elements that satisfy two conditions using the & and | operators:"
   ]
  },
  {
   "cell_type": "code",
   "execution_count": null,
   "id": "ae9ca16b",
   "metadata": {
    "scrolled": true
   },
   "outputs": [],
   "source": [
    "c = a[(a > 2) & (a < 11)]\n",
    "print (c)"
   ]
  },
  {
   "cell_type": "markdown",
   "id": "c97a1369",
   "metadata": {},
   "source": [
    "### 2.2.4 Basic array operations\n",
    "\n",
    "Once you’ve created your arrays, you can start to work with them. Let’s say, for example, that you’ve created two arrays, one called “data” and one called “ones”.\n",
    "\n",
    "You can add the arrays together with the plus sign:"
   ]
  },
  {
   "cell_type": "code",
   "execution_count": null,
   "id": "df783413",
   "metadata": {},
   "outputs": [],
   "source": [
    "data = np.array([1, 2])\n",
    "ones = np.ones(2, dtype=int)\n",
    "\n",
    "data + ones"
   ]
  },
  {
   "cell_type": "markdown",
   "id": "009b0a65",
   "metadata": {},
   "source": [
    "You can, of course, do more than just addition:"
   ]
  },
  {
   "cell_type": "code",
   "execution_count": null,
   "id": "632e5f2c",
   "metadata": {},
   "outputs": [],
   "source": [
    "data - ones\n",
    "# data * data\n",
    "# data / data"
   ]
  },
  {
   "cell_type": "markdown",
   "id": "94ac65c7",
   "metadata": {},
   "source": [
    "Basic operations are simple with Numpy. If you want to find the sum of the elements in an array, you’d use sum(). This works for 1D arrays, 2D arrays, and arrays in higher dimensions:"
   ]
  },
  {
   "cell_type": "code",
   "execution_count": null,
   "id": "0b58643a",
   "metadata": {},
   "outputs": [],
   "source": [
    "a = np.array([1, 2, 3, 4])\n",
    "\n",
    "a.sum()"
   ]
  },
  {
   "cell_type": "markdown",
   "id": "e69825bd",
   "metadata": {},
   "source": [
    "To add the rows or the columns in a 2D array, you would specify the axis.\n",
    "\n",
    "If you start with this array:"
   ]
  },
  {
   "cell_type": "code",
   "execution_count": null,
   "id": "6588b7bd",
   "metadata": {},
   "outputs": [],
   "source": [
    "b = np.array([[1, 1], [2, 2]])"
   ]
  },
  {
   "cell_type": "markdown",
   "id": "1905e3fa",
   "metadata": {},
   "source": [
    "You can sum over the axis of rows with:"
   ]
  },
  {
   "cell_type": "code",
   "execution_count": null,
   "id": "8783cc62",
   "metadata": {},
   "outputs": [],
   "source": [
    "b.sum(axis=0)"
   ]
  },
  {
   "cell_type": "markdown",
   "id": "ca5d8c04",
   "metadata": {},
   "source": [
    "You can sum over the axis of columns with:"
   ]
  },
  {
   "cell_type": "code",
   "execution_count": null,
   "id": "daffafe4",
   "metadata": {},
   "outputs": [],
   "source": [
    "b.sum(axis=1)"
   ]
  },
  {
   "cell_type": "markdown",
   "id": "3ba2ec34",
   "metadata": {},
   "source": [
    "### 2.2.5 Matrices\n",
    "\n",
    "You can pass python lists of lists to create a 2-D array (or *matrix*) to represent them in Numpy.\n",
    "\n",
    "Indexing and slicing operations are useful when you’re manipulating matrices:"
   ]
  },
  {
   "cell_type": "code",
   "execution_count": null,
   "id": "0668e10f",
   "metadata": {},
   "outputs": [],
   "source": [
    "data = np.array([[1, 2], [3, 4], [5, 6]])\n",
    "\n",
    "data[0, 1]"
   ]
  },
  {
   "cell_type": "code",
   "execution_count": null,
   "id": "68e69dd8",
   "metadata": {},
   "outputs": [],
   "source": [
    "data[1:3]"
   ]
  },
  {
   "cell_type": "code",
   "execution_count": null,
   "id": "0813da7c",
   "metadata": {},
   "outputs": [],
   "source": [
    "data[0:2, 0]data = np.array([[1, 2], [5, 3], [4, 6]])"
   ]
  },
  {
   "cell_type": "markdown",
   "id": "79ff320e",
   "metadata": {},
   "source": [
    "You can aggregate matrices the same way you aggregate vectors:"
   ]
  },
  {
   "cell_type": "code",
   "execution_count": null,
   "id": "e8680e80",
   "metadata": {},
   "outputs": [],
   "source": [
    "data.max()\n",
    "# data.min()"
   ]
  },
  {
   "cell_type": "code",
   "execution_count": null,
   "id": "9c630ab8",
   "metadata": {},
   "outputs": [],
   "source": [
    "data.sum()"
   ]
  },
  {
   "cell_type": "markdown",
   "id": "169c14a2",
   "metadata": {},
   "source": [
    "You can aggregate all the values in a matrix and you can aggregate them across columns or rows using the axis parameter. To illustrate this point, let’s look at a slightly modified dataset:"
   ]
  },
  {
   "cell_type": "code",
   "execution_count": null,
   "id": "daa674f7",
   "metadata": {},
   "outputs": [],
   "source": [
    "data = np.array([[1, 2], [5, 3], [4, 6]])\n",
    "\n",
    "data.max(axis=0)"
   ]
  },
  {
   "cell_type": "code",
   "execution_count": null,
   "id": "6b6afe3c",
   "metadata": {},
   "outputs": [],
   "source": [
    "data.max(axis=1)"
   ]
  },
  {
   "cell_type": "markdown",
   "id": "0f307ce6",
   "metadata": {},
   "source": [
    "### 2.2.6 Getting unique items and counts\n",
    "\n",
    "You can find the unique elements in an array easily with np.unique.\n",
    "\n",
    "For example, if you start with this array:"
   ]
  },
  {
   "cell_type": "code",
   "execution_count": null,
   "id": "13cafe59",
   "metadata": {},
   "outputs": [],
   "source": [
    "a = np.array([11, 11, 12, 13, 14, 15, 16, 17, 12, 13, 11, 14, 18, 19, 20])"
   ]
  },
  {
   "cell_type": "markdown",
   "id": "eb936184",
   "metadata": {},
   "source": [
    "You can use `np.unique` to print the unique values in your array:"
   ]
  },
  {
   "cell_type": "code",
   "execution_count": null,
   "id": "53c74314",
   "metadata": {},
   "outputs": [],
   "source": [
    "unique_values = np.unique(a)\n",
    "print(unique_values)"
   ]
  },
  {
   "cell_type": "markdown",
   "id": "d8895182",
   "metadata": {},
   "source": [
    "To get the indices of unique values in a Numpy array (an array of first index positions of unique values in the array), just pass the `return_index` argument in `np.unique()` as well as your array:"
   ]
  },
  {
   "cell_type": "code",
   "execution_count": null,
   "id": "2e801318",
   "metadata": {},
   "outputs": [],
   "source": [
    "unique_values, indices_list = np.unique(a, return_index=True)\n",
    "print(indices_list)"
   ]
  },
  {
   "cell_type": "markdown",
   "id": "1206fcb9",
   "metadata": {},
   "source": [
    "This also works with 2D arrays! [here](https://numpy.org/doc/stable/user/absolute_beginners.html#how-to-get-unique-items-and-counts) is how."
   ]
  },
  {
   "cell_type": "markdown",
   "id": "8ad2b80c",
   "metadata": {},
   "source": [
    "### 2.2.7 Reversing an array\n",
    "\n",
    "Numpy’s `np.flip()` function allows you to flip, or reverse, the contents of an array along an axis. When using `np.flip()`, specify the array you would like to reverse and the axis. If you don’t specify the axis, Numpy will reverse the contents along all of the axes of your input array.\n",
    "\n",
    "#### Reversing a 1D array\n",
    "\n",
    "If you begin with a 1D array like `arr`, you can reverse it with `flip` like this:"
   ]
  },
  {
   "cell_type": "code",
   "execution_count": null,
   "id": "fc53bbf7",
   "metadata": {},
   "outputs": [],
   "source": [
    "arr = np.array([1, 2, 3, 4, 5, 6, 7, 8])\n",
    "\n",
    "reversed_arr = np.flip(arr)\n",
    "\n",
    "reversed_arr"
   ]
  },
  {
   "cell_type": "markdown",
   "id": "e3018a8e",
   "metadata": {},
   "source": [
    "#### Reversing a 2D array\n",
    "\n",
    "A 2D array works much the same way. If you start with a 2D array like `arr_2d`, You can reverse the content in all of its rows and all of its columns like this:"
   ]
  },
  {
   "cell_type": "code",
   "execution_count": null,
   "id": "975a2229",
   "metadata": {},
   "outputs": [],
   "source": [
    "arr_2d = np.array([[1, 2, 3, 4], [5, 6, 7, 8], [9, 10, 11, 12]])\n",
    "\n",
    "reversed_arr = np.flip(arr_2d)\n",
    "\n",
    "reversed_arr"
   ]
  },
  {
   "cell_type": "markdown",
   "id": "69eaa7e2",
   "metadata": {},
   "source": [
    "You can easily reverse only the rows or columns with:"
   ]
  },
  {
   "cell_type": "code",
   "execution_count": null,
   "id": "21f30ae6",
   "metadata": {},
   "outputs": [],
   "source": [
    "reversed_arr_rows = np.flip(arr_2d, axis=0)\n",
    "\n",
    "reversed_arr_columns = np.flip(arr_2d, axis=1)"
   ]
  },
  {
   "cell_type": "code",
   "execution_count": null,
   "id": "e53d20ff",
   "metadata": {},
   "outputs": [],
   "source": []
  },
  {
   "cell_type": "markdown",
   "id": "c96d75c4",
   "metadata": {},
   "source": [
    "## 2.4. SciPy"
   ]
  },
  {
   "cell_type": "code",
   "execution_count": null,
   "id": "4f0b2b7c",
   "metadata": {},
   "outputs": [],
   "source": [
    "# sparse matrices\n",
    "# matrix multiplication"
   ]
  },
  {
   "cell_type": "code",
   "execution_count": null,
   "id": "13c3a387",
   "metadata": {},
   "outputs": [],
   "source": []
  },
  {
   "cell_type": "markdown",
   "id": "51e8cb38",
   "metadata": {},
   "source": [
    "## 2.5. Data visualiation with Seaborn & Matplotlib\n",
    "\n",
    "SUGGESTION: TEACH HOW TO WITH SEABORN, USE MATPLOTLIB WHERE SEABORN DOES NOT OFFER METHODS\n",
    "\n",
    "- https://jakevdp.github.io/PythonDataScienceHandbook/04.00-introduction-to-matplotlib.html"
   ]
  },
  {
   "cell_type": "code",
   "execution_count": null,
   "id": "2e4aa5ff",
   "metadata": {},
   "outputs": [],
   "source": []
  },
  {
   "cell_type": "markdown",
   "id": "90499007",
   "metadata": {},
   "source": [
    "# X. References\n",
    "\n",
    "[<a href='#destination1_'>1</a>] https://docs.python.org/3/howto/unicode.html <a id='destination1'></a>\n",
    "\n",
    "[<a href='#destination1_'>2</a>] https://www.makeuseof.com/how-to-include-emojis-in-your-python-code/ <a id='destination1'></a>\n",
    "\n",
    "[<a href='#destination2_'>3</a>] https://numpy.org/doc/stable/user/absolute_beginners.html <a id='destination2'></a>\n",
    "\n",
    "[<a href='#destination3_'>4</a>] http://pandas.pydata.org/docs/index.html <a id='destination3'></a>"
   ]
  },
  {
   "cell_type": "code",
   "execution_count": null,
   "id": "582d5f29",
   "metadata": {},
   "outputs": [],
   "source": []
  },
  {
   "cell_type": "markdown",
   "id": "4754cfca",
   "metadata": {},
   "source": [
    "## 1.1 Reading/writing text files\n",
    "\n",
    "In the first notebook, we went through some basics of python(did we??). In this section, you will learn more about handling files, with a focus on reading text data for further analysis.\n",
    "\n",
    "Let's say you want to create a text file and write something to it. You can do that with the following lines of code:"
   ]
  },
  {
   "cell_type": "code",
   "execution_count": null,
   "id": "b31a6f80",
   "metadata": {},
   "outputs": [],
   "source": [
    "my_file = open(\"test.txt\", \"w\")\n",
    "my_file.write(\"Some text\")\n",
    "my_file.close()"
   ]
  },
  {
   "cell_type": "markdown",
   "id": "a6f12b6e",
   "metadata": {},
   "source": [
    "The first line opens (and creates) a text file named *test.txt*, and using the second argument of `open` (\"w\"), it tells python that we want to *write* something to it.\n",
    "In the second line, we write \"Some text\" to the file. And with the 3rd line, we close the file and save what we have written to it.\n",
    "\n",
    "If we want to read the text in the file, we can use these three lines with some minor change like this:"
   ]
  },
  {
   "cell_type": "code",
   "execution_count": null,
   "id": "dd038cbf",
   "metadata": {},
   "outputs": [],
   "source": [
    "my_file = open(\"test.txt\", \"r\")\n",
    "text = my_file.read()\n",
    "my_file.close()"
   ]
  },
  {
   "cell_type": "code",
   "execution_count": null,
   "id": "852456be",
   "metadata": {},
   "outputs": [],
   "source": [
    "print (text)"
   ]
  },
  {
   "cell_type": "markdown",
   "id": "ea99aaed",
   "metadata": {},
   "source": [
    "By changing the second argument of `open` to \"r\", we tell python that we want to *read* what is in the file. In the second line, we save what we have read in the `text` variable, and then we close the file.\n",
    "\n",
    "We can also do the above operations in a better way as follows.\n",
    "\n",
    "For writing to a file:"
   ]
  },
  {
   "cell_type": "code",
   "execution_count": null,
   "id": "343be6aa",
   "metadata": {},
   "outputs": [],
   "source": [
    "with open(\"test.txt\", \"w\") as my_file:\n",
    "    my_file.write(\"Some new text\")"
   ]
  },
  {
   "cell_type": "markdown",
   "id": "b1a5141a",
   "metadata": {},
   "source": [
    "For reading the file:"
   ]
  },
  {
   "cell_type": "code",
   "execution_count": null,
   "id": "61ac6ea1",
   "metadata": {},
   "outputs": [],
   "source": [
    "with open(\"test.txt\", \"r\") as my_file:\n",
    "    text = my_file.read()\n",
    "    \n",
    "print (text)"
   ]
  },
  {
   "cell_type": "markdown",
   "id": "de2f0129",
   "metadata": {},
   "source": [
    "## 1.2 Reading text from PDF files\n"
   ]
  },
  {
   "cell_type": "markdown",
   "id": "ba480416",
   "metadata": {},
   "source": [
    "<img src='images/pdf.png' style='height: 120px; float: right; margin-left: 50px' >\n",
    "\n",
    "For analysing text data, we may require reading data from pdf files. In order to do that in an efficient way, we can use **PyPDF2** library. It is a free and open source pure-python PDF library capable of splitting, merging, cropping, and transforming the pages of PDF files. It has many other useful features for working with pdf files, but our emphasis here is on reading data from pdf files. For more information on all the capabilities you can take a look at [its documentation](https://pypdf2.readthedocs.io/en/latest/).\n",
    "\n",
    "You can install the library with `pip`:"
   ]
  },
  {
   "cell_type": "code",
   "execution_count": null,
   "id": "8c500180",
   "metadata": {},
   "outputs": [],
   "source": [
    "#pip install PyPDF2"
   ]
  },
  {
   "cell_type": "markdown",
   "id": "e7ada091",
   "metadata": {},
   "source": [
    "### 1.2.1 Reading Metadata\n",
    "\n",
    "We'll begin with reading the metadata from a pdf file. We have used *Generative Adversarial Networks* paper by Ian Goodfellow as an example pdf file. You can use any other file of your own choice."
   ]
  },
  {
   "cell_type": "code",
   "execution_count": null,
   "id": "99528ca9",
   "metadata": {},
   "outputs": [],
   "source": [
    "from PyPDF2 import PdfReader"
   ]
  },
  {
   "cell_type": "code",
   "execution_count": null,
   "id": "7631b4d8",
   "metadata": {},
   "outputs": [],
   "source": [
    "reader = PdfReader(\"GAN.pdf\")"
   ]
  },
  {
   "cell_type": "code",
   "execution_count": null,
   "id": "e23f63e6",
   "metadata": {},
   "outputs": [],
   "source": [
    "meta = reader.metadata\n",
    "meta"
   ]
  },
  {
   "cell_type": "code",
   "execution_count": null,
   "id": "39742edf",
   "metadata": {},
   "outputs": [],
   "source": [
    "print(meta.author)\n",
    "print(meta.creator)\n",
    "print(meta.producer)\n",
    "print(meta.subject)\n",
    "print(meta.title)"
   ]
  },
  {
   "cell_type": "markdown",
   "id": "af3b70b3",
   "metadata": {},
   "source": [
    "Please note that all of the above values could be `None` for your own pdf files. You can also write metadata in your pdf files, [here](https://pypdf2.readthedocs.io/en/latest/user/metadata.html) is how."
   ]
  },
  {
   "cell_type": "markdown",
   "id": "fa72021d",
   "metadata": {},
   "source": [
    "### 1.2.2 Extracting Text from a PDF\n",
    "\n",
    "For accessing the pages of the pdf file, you can do the following:\n",
    "\n",
    "*Note: the `reader` variable is defined in the previous section.*"
   ]
  },
  {
   "cell_type": "code",
   "execution_count": null,
   "id": "46b57358",
   "metadata": {},
   "outputs": [],
   "source": [
    "pages = reader.pages\n",
    "len(pages)"
   ]
  },
  {
   "cell_type": "code",
   "execution_count": null,
   "id": "cf8dbe33",
   "metadata": {
    "scrolled": true
   },
   "outputs": [],
   "source": [
    "print(pages[0].extract_text())"
   ]
  },
  {
   "cell_type": "markdown",
   "id": "0ddfbb8b",
   "metadata": {},
   "source": [
    "More information on the `extract_text()` method could be found [here](https://pypdf2.readthedocs.io/en/latest/modules/PageObject.html#PyPDF2._page.PageObject.extract_text)."
   ]
  },
  {
   "cell_type": "markdown",
   "id": "24e49714",
   "metadata": {},
   "source": [
    "#### Using a visitor\n",
    "\n",
    "\n",
    "You can use *visitor-functions* to control which part of a page you want to process and extract. The visitor-functions you provide will get called for each operator or for each text fragment.\n",
    "\n",
    "The function provided in argument `visitor_text` of method `extract_text()` has five arguments: current transformation matrix, text matrix, font-dictionary and font-size. In most cases the x and y coordinates of the current position are in index 4 and 5 of the current transformation matrix.\n",
    "\n",
    "The font-dictionary may be None in case of unknown fonts. If not None it may e.g. contain key “/BaseFont” with value “/Arial,Bold”.\n",
    "\n",
    "Warning: In complicated documents the calculated positions might be wrong.\n",
    "\n",
    "The function provided in argument `visitor_operand_before` has four arguments: operand, operand-arguments, current transformation matrix and text matrix."
   ]
  },
  {
   "cell_type": "markdown",
   "id": "c9ce81f0",
   "metadata": {},
   "source": [
    "#### Example: Ignoring header and footer\n",
    "\n",
    "In this example, we read the text of page 1 (with index = 0), but we ignore header (y < 670) and footer (y > 30)."
   ]
  },
  {
   "cell_type": "code",
   "execution_count": null,
   "id": "b09a5e73",
   "metadata": {
    "scrolled": true
   },
   "outputs": [],
   "source": [
    "page = reader.pages[0]\n",
    "\n",
    "parts = []\n",
    "\n",
    "\n",
    "def visitor_body(text, cm, tm, fontDict, fontSize):\n",
    "    y = tm[5]\n",
    "    if y > 30 and y < 670:\n",
    "        parts.append(text)\n",
    "\n",
    "\n",
    "page.extract_text(visitor_text=visitor_body)\n",
    "text_body = \"\".join(parts)\n",
    "\n",
    "print(text_body)"
   ]
  },
  {
   "cell_type": "markdown",
   "id": "7cc0fed7",
   "metadata": {},
   "source": [
    "### 1.2.3 Extracting Images\n",
    "\n",
    "Every page of a PDF document can contain an arbitrary number of images. The names of the files may not be unique.\n",
    "The following piece of code extracts the images of the second page of the pdf file and saves them in the current directory."
   ]
  },
  {
   "cell_type": "code",
   "execution_count": null,
   "id": "b923698f",
   "metadata": {},
   "outputs": [],
   "source": [
    "page = reader.pages[1]\n",
    "count = 0\n",
    "\n",
    "for image_file_object in page.images:\n",
    "    with open(str(count) + image_file_object.name, \"wb\") as fp:\n",
    "        fp.write(image_file_object.data)\n",
    "        count += 1"
   ]
  },
  {
   "cell_type": "markdown",
   "id": "e87c343d",
   "metadata": {},
   "source": [
    "### 1.2.4 Reading PDF Annotations\n",
    "\n",
    "We can also access the annotations that may be available in our pdf files. In the *GAN.pdf* file, We have 3 tentative annotations. The first page contains a sticky note containing some text, together with some highlighted text which also contains some text. There is another sticky note in the second page. We can access these texts like the following:\n",
    "\n",
    "#### Sticky notes:"
   ]
  },
  {
   "cell_type": "code",
   "execution_count": null,
   "id": "966a7f4e",
   "metadata": {},
   "outputs": [],
   "source": [
    "for page in reader.pages:\n",
    "    if \"/Annots\" in page:\n",
    "        for annot in page[\"/Annots\"]:\n",
    "            subtype = annot.get_object()[\"/Subtype\"]\n",
    "            if subtype == \"/Text\":\n",
    "                print(annot.get_object()[\"/Contents\"])"
   ]
  },
  {
   "cell_type": "markdown",
   "id": "bb9e43d8",
   "metadata": {},
   "source": [
    "#### Highlighted text:"
   ]
  },
  {
   "cell_type": "code",
   "execution_count": null,
   "id": "7302a870",
   "metadata": {},
   "outputs": [],
   "source": [
    "for page in reader.pages:\n",
    "    if \"/Annots\" in page:\n",
    "        for annot in page[\"/Annots\"]:\n",
    "            subtype = annot.get_object()[\"/Subtype\"]\n",
    "            if subtype == \"/Highlight\":\n",
    "                print(annot.get_object()[\"/Contents\"])"
   ]
  },
  {
   "cell_type": "markdown",
   "id": "73d58975",
   "metadata": {},
   "source": [
    "## 1.3 Unicode and emoji handling  [<a href='#destination1'>1, 2</a>] <a id='destination1_'></a>\n",
    "\n",
    "Today’s programs need to be able to handle a wide variety of characters. Applications are often internationalized to display messages and output in a variety of user-selectable languages; the same program might need to output an error message in English, French, Japanese, Hebrew, or Russian. Web content can be written in any of these languages and can also include a variety of emoji symbols. Python’s string type uses the **Unicode** Standard for representing characters, which lets python programs work with all these different possible characters.\n",
    "\n",
    "Unicode (https://www.unicode.org/) is a specification that aims to list every character used by human languages and give each character its own unique code. The Unicode specifications are continually revised and updated to add new languages and symbols.\n",
    "\n",
    "In order to handle all kinds of text data that include characters in different languages, emojis etc, we need to be familiar with this standard."
   ]
  },
  {
   "cell_type": "markdown",
   "id": "74a7bb10",
   "metadata": {},
   "source": [
    "<img src='images/emojis.png' style='height: 200px; float: left; align=\"center\" ;margin-left: 115px'>"
   ]
  },
  {
   "cell_type": "markdown",
   "id": "ad658ed4",
   "metadata": {},
   "source": [
    "The Unicode standard describes how characters are represented by code points. A code point value is an integer in the range 0 to 0x10FFFF (about 1.1 million values, the [actual number assigned](https://www.unicode.org/versions/Unicode15.0.0/#Summary) is less than that). In the standard and in this document, a code point is written using the notation U+265E to mean the character with value 0x265e (9,822 in decimal).\n",
    "\n",
    "Like every character, every emoji has a unique Unicode assigned to it. When using emoji Unicodes with Python, replace **+** with **000** from the Unicode. And then prefix the Unicode with **\\**.\n",
    "\n",
    "For example, **U+1F605** will be used as **\\U0001F605**. Here, **+** is replaced with **+** and **\\** is prefixed with the Unicode.\n",
    "\n",
    "Here are some examples:"
   ]
  },
  {
   "cell_type": "code",
   "execution_count": null,
   "id": "b646cd1d",
   "metadata": {},
   "outputs": [],
   "source": [
    "print(\"grinning face: \\U0001F600\")\n",
    "print(\"beaming face with smiling eyes: \\U0001F601\")\n",
    "print(\"grinning face with sweat: \\U0001F605\")\n",
    "print(\"rolling on the floor laughing: \\U0001F923\")\n",
    "print(\"face with tears of joy: \\U0001F602\")\n",
    "print(\"slightly smiling face: \\U0001F642\")\n",
    "print(\"smiling face with halo: \\U0001F607\")\n",
    "print(\"smiling face with heart-eyes: \\U0001F60D\")\n",
    "print(\"zipper-mouth face: \\U0001F910\")\n",
    "print(\"unamused face: \\U0001F612\")"
   ]
  },
  {
   "cell_type": "markdown",
   "id": "390661d6",
   "metadata": {},
   "source": [
    "### 1.3.1 Extracting all emojis from the text\n",
    "\n",
    "You can easily extract all the emojis from the text using Python. It can be done using regular expressions. First, you need to install *regex* using `pip`:"
   ]
  },
  {
   "cell_type": "code",
   "execution_count": null,
   "id": "63713780",
   "metadata": {},
   "outputs": [],
   "source": [
    "#pip install regex"
   ]
  },
  {
   "cell_type": "code",
   "execution_count": null,
   "id": "372aa40b",
   "metadata": {},
   "outputs": [],
   "source": [
    "import regex"
   ]
  },
  {
   "cell_type": "markdown",
   "id": "1602cac1",
   "metadata": {},
   "source": [
    "You can use `regex.findall()` method to find all the emojis from the text:"
   ]
  },
  {
   "cell_type": "code",
   "execution_count": null,
   "id": "14f4c339",
   "metadata": {},
   "outputs": [],
   "source": [
    "text = 'We 😍 want 😇 to 😅 extract 😁 every 😀 emoji 😒 in 😁 this 😂 string'\n",
    "\n",
    "emojis = re.findall(r'[^\\w\\⁠s,. ]', text)"
   ]
  },
  {
   "cell_type": "code",
   "execution_count": null,
   "id": "e3e23a4c",
   "metadata": {},
   "outputs": [],
   "source": [
    "emojis"
   ]
  },
  {
   "cell_type": "markdown",
   "id": "9d140d1e",
   "metadata": {},
   "source": [
    "### 1.3.2 Removing emoji from the text in python\n",
    "\n",
    "You can remove all emojis from the text with the help of regular expressions in Python:"
   ]
  },
  {
   "cell_type": "code",
   "execution_count": null,
   "id": "a9749c45",
   "metadata": {},
   "outputs": [],
   "source": [
    "import regex\n",
    "\n",
    "text = 'We 😍 want 😇 to 😅 extract 😁 every 😀 emoji 😒 in 😁 this 😂 string'\n",
    "\n",
    "print(text)"
   ]
  },
  {
   "cell_type": "code",
   "execution_count": null,
   "id": "e46f4bbc",
   "metadata": {},
   "outputs": [],
   "source": [
    "# Function to remove emoji from text:\n",
    "\n",
    "def removeEmoji(text):\n",
    "    regrex_pattern = regex.compile(pattern = \"[\"\n",
    "    u\"\\U0001F600-\\U0001F64F\" # emoticons\n",
    "    u\"\\U0001F300-\\U0001F5FF\" # symbols & pictographs\n",
    "    u\"\\U0001F680-\\U0001F6FF\" # transport & map symbols\n",
    "    u\"\\U0001F1E0-\\U0001F1FF\" # flags (iOS)\n",
    "    \"]+\", flags = re.UNICODE)\n",
    "    return regrex_pattern.sub(r'',text)"
   ]
  },
  {
   "cell_type": "code",
   "execution_count": null,
   "id": "b9a79267",
   "metadata": {},
   "outputs": [],
   "source": [
    "removeEmoji(text)"
   ]
  },
  {
   "cell_type": "code",
   "execution_count": null,
   "id": "48424551",
   "metadata": {},
   "outputs": [],
   "source": []
  },
  {
   "cell_type": "markdown",
   "id": "34a71b90",
   "metadata": {},
   "source": [
    "## References\n",
    "\n",
    "Dimitrov, D., Baran, E., Fafalios, P., Yu, R., Zhu, X., Zloch, M., & Dietze, S. (2020). TweetsCOV19 - A Knowledge Base of Semantically Annotated Tweets about the COVID-19 Pandemic. In: CIKM '20: Proceedings of the 29th ACM International Conference on Information & Knowledge Management (p. 2991–2998). https://doi.org/10.1145/3340531.3412765\n",
    "\n",
    "Fafalios, P., Iosifidis, V., Ntoutsi, E., & Dietze, S. (2018). TweetsKB: A Public and Large-Scale RDF Corpus of Annotated Tweets. In: The Semantic Web. ESWC 2018. Lecture Notes in Computer Science, vol 10843. Springer, Cham. https://doi.org/10.1007/978-3-319-93417-4_12\n",
    "\n",
    "<a href='#weidmann_2022'>Weidmann, N. B. (2022)</a><a id='#weidmann_2022'></a>. *Data Management for Social Scientists: From Files to Databases*. Cambridge University Press.\n",
    "\n",
    "Wikipedia (2022). Twitter. https://en.wikipedia.org/wiki/Twitter. Retrieved 01.12.2022."
   ]
  },
  {
   "cell_type": "markdown",
   "id": "abbb79d6",
   "metadata": {},
   "source": [
    "<div class='alert alert-block alert-success'>\n",
    "<b>Document information</b>\n",
    "\n",
    "Contact and main author: Haiko Lietz\n",
    "\n",
    "Contributors: Pouria Mirelmi & N. Gizem Bacaksizlar Turbic\n",
    "\n",
    "Acknowledgements: ...\n",
    "\n",
    "Version date: XX. December 2022\n",
    "\n",
    "License: ...\n",
    "</div>"
   ]
  },
  {
   "cell_type": "code",
   "execution_count": null,
   "id": "209c6e34",
   "metadata": {},
   "outputs": [],
   "source": []
  }
 ],
 "metadata": {
  "kernelspec": {
   "display_name": "Python 3 (ipykernel)",
   "language": "python",
   "name": "python3"
  },
  "language_info": {
   "codemirror_mode": {
    "name": "ipython",
    "version": 3
   },
   "file_extension": ".py",
   "mimetype": "text/x-python",
   "name": "python",
   "nbconvert_exporter": "python",
   "pygments_lexer": "ipython3",
   "version": "3.9.13"
  }
 },
 "nbformat": 4,
 "nbformat_minor": 5
}
