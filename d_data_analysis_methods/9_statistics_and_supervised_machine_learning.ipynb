{
 "cells": [
  {
   "cell_type": "markdown",
   "id": "583054cb",
   "metadata": {},
   "source": [
    "# 8. Statistics & supervised machine learning\n",
    "\n",
    "Explanation vs. prediction\n",
    "\n",
    "TO DECIDE\n",
    "- ...\n",
    "\n",
    "### Text book\n",
    "\n",
    "- Computer Age Statistical Inference\n",
    "\n",
    "### Notes\n",
    "\n",
    "- Check https://doi.org/10.1145/1150402.1150412\n"
   ]
  },
  {
   "cell_type": "markdown",
   "id": "b5b9299d",
   "metadata": {},
   "source": [
    "## 9.1. Explanation (statistical modeling)\n",
    "\n",
    "- model fit r^2\n",
    "- variable transformation\n",
    "- hypothesis and significance testing\n",
    "- generalized linear model: linear and logistic regression\n",
    "\n",
    "https://jakevdp.github.io/PythonDataScienceHandbook/05.06-linear-regression.html"
   ]
  },
  {
   "cell_type": "markdown",
   "id": "19b6bdc6",
   "metadata": {},
   "source": [
    "#### Data"
   ]
  },
  {
   "cell_type": "code",
   "execution_count": null,
   "id": "9e67f1bc",
   "metadata": {},
   "outputs": [],
   "source": [
    "import pandas as pd"
   ]
  },
  {
   "cell_type": "code",
   "execution_count": null,
   "id": "ab467b9b",
   "metadata": {},
   "outputs": [],
   "source": [
    "vdem_fh = pd.read_csv('../data/V-Dem/vdem_fh_combined.csv')\n",
    "vdem = pd.read_csv('../data/V-Dem/vdem_only.csv')"
   ]
  },
  {
   "cell_type": "code",
   "execution_count": null,
   "id": "2c9b04bb",
   "metadata": {},
   "outputs": [],
   "source": [
    "vdem_fh.head()"
   ]
  },
  {
   "cell_type": "code",
   "execution_count": null,
   "id": "267322b7",
   "metadata": {},
   "outputs": [],
   "source": [
    "import matplotlib.pyplot as plt\n",
    "import seaborn as sns"
   ]
  },
  {
   "cell_type": "code",
   "execution_count": null,
   "id": "5b9f865e",
   "metadata": {},
   "outputs": [],
   "source": [
    "sns.set_theme(style='darkgrid')"
   ]
  },
  {
   "cell_type": "code",
   "execution_count": null,
   "id": "1da15581",
   "metadata": {},
   "outputs": [],
   "source": [
    "indicators_regression = ['v2x_polyarchy', 'v2x_libdem', 'v2x_partipdem', 'v2x_delibdem', 'v2x_egaldem']"
   ]
  },
  {
   "cell_type": "code",
   "execution_count": null,
   "id": "9ffbfe0f",
   "metadata": {},
   "outputs": [],
   "source": [
    "plt.figure(figsize=[2.5, 2])\n",
    "sns.boxplot(\n",
    "    x = 'variable', \n",
    "    y = 'value', \n",
    "    data = vdem_fh[indicators_regression].melt()\n",
    ")\n",
    "plt.xticks(rotation=45)\n",
    "plt.show()"
   ]
  },
  {
   "cell_type": "code",
   "execution_count": null,
   "id": "a639d9b0",
   "metadata": {},
   "outputs": [],
   "source": [
    "plt.figure(figsize=[.5, 2])\n",
    "sns.boxplot(\n",
    "    x = 'variable', \n",
    "    y = 'value', \n",
    "    data = vdem_fh[['Total Score']].melt()\n",
    ")"
   ]
  },
  {
   "cell_type": "markdown",
   "id": "4d07e682",
   "metadata": {},
   "source": [
    "### 9.1.1. Regression\n",
    "\n",
    "#### Correlations"
   ]
  },
  {
   "cell_type": "code",
   "execution_count": null,
   "id": "c1ec3af3",
   "metadata": {},
   "outputs": [],
   "source": [
    "fig = sns.pairplot(\n",
    "    data = vdem_fh[['Total Score', 'v2x_polyarchy', 'v2x_libdem', 'v2x_partipdem', 'v2x_delibdem', 'v2x_egaldem']], \n",
    "    #hue = 'v2x_regime', \n",
    "    height = 2, \n",
    "    kind = 'reg', \n",
    "    diag_kind = 'hist', \n",
    "    plot_kws = {'scatter_kws': {'alpha': .2}}\n",
    ")\n",
    "#fig.savefig('.............vdem_fh_pairplot.png')\n",
    "plt.show()"
   ]
  },
  {
   "cell_type": "markdown",
   "id": "4366f2e8",
   "metadata": {},
   "source": [
    "#### Ordinary-Least-Squares regression"
   ]
  },
  {
   "cell_type": "code",
   "execution_count": null,
   "id": "91592161",
   "metadata": {},
   "outputs": [],
   "source": [
    "standardize = False"
   ]
  },
  {
   "cell_type": "code",
   "execution_count": null,
   "id": "94fc3b43",
   "metadata": {},
   "outputs": [],
   "source": [
    "X_vdem_fh = vdem_fh[indicators_regression].to_numpy()\n",
    "y_vdem_fh = vdem_fh[['Total Score']].to_numpy()\n",
    "\n",
    "if standardize:\n",
    "    from sklearn.preprocessing import StandardScaler\n",
    "    \n",
    "    X_vdem_fh = StandardScaler().fit_transform(X_vdem_fh)\n",
    "    y_vdem_fh = StandardScaler().fit_transform(y_vdem_fh)\n",
    "    \n",
    "    fit_intercept = False\n",
    "else:\n",
    "    fit_intercept = True"
   ]
  },
  {
   "cell_type": "code",
   "execution_count": null,
   "id": "f767f01a",
   "metadata": {},
   "outputs": [],
   "source": [
    "from sklearn.linear_model import LinearRegression"
   ]
  },
  {
   "cell_type": "code",
   "execution_count": null,
   "id": "1fd702cf",
   "metadata": {},
   "outputs": [],
   "source": [
    "ols_vdem_fh = LinearRegression(fit_intercept=fit_intercept)"
   ]
  },
  {
   "cell_type": "code",
   "execution_count": null,
   "id": "27bde0da",
   "metadata": {},
   "outputs": [],
   "source": [
    "ols_vdem_fh_fit = ols_vdem_fh.fit(X_vdem_fh, y_vdem_fh)"
   ]
  },
  {
   "cell_type": "markdown",
   "id": "bdcc7356",
   "metadata": {},
   "source": [
    "Goodness of fit (R^2)"
   ]
  },
  {
   "cell_type": "code",
   "execution_count": null,
   "id": "7e4b03b0",
   "metadata": {},
   "outputs": [],
   "source": [
    "ols_vdem_fh_fit.score(X_vdem_fh, y_vdem_fh)"
   ]
  },
  {
   "cell_type": "markdown",
   "id": "2835521f",
   "metadata": {},
   "source": [
    "Intercept"
   ]
  },
  {
   "cell_type": "code",
   "execution_count": null,
   "id": "ad269f72",
   "metadata": {},
   "outputs": [],
   "source": [
    "ols_vdem_fh_fit.intercept_"
   ]
  },
  {
   "cell_type": "markdown",
   "id": "5f4d470d",
   "metadata": {},
   "source": [
    "Coefficients"
   ]
  },
  {
   "cell_type": "code",
   "execution_count": null,
   "id": "1c74667c",
   "metadata": {},
   "outputs": [],
   "source": [
    "ols_vdem_fh_fit.coef_[0]"
   ]
  },
  {
   "cell_type": "markdown",
   "id": "d096b44e",
   "metadata": {},
   "source": [
    "Significance? Not with sklearn!"
   ]
  },
  {
   "cell_type": "markdown",
   "id": "a851915a",
   "metadata": {},
   "source": [
    "#### Statsmodels"
   ]
  },
  {
   "cell_type": "code",
   "execution_count": null,
   "id": "cdcef025",
   "metadata": {},
   "outputs": [],
   "source": [
    "import statsmodels.api as sm"
   ]
  },
  {
   "cell_type": "code",
   "execution_count": null,
   "id": "744ed12c",
   "metadata": {},
   "outputs": [],
   "source": [
    "X_vdem_fh_ = sm.add_constant(X_vdem_fh)"
   ]
  },
  {
   "cell_type": "code",
   "execution_count": null,
   "id": "da3c7a98",
   "metadata": {},
   "outputs": [],
   "source": [
    "if standardize:\n",
    "    ols_vdem_fh_sm = sm.OLS(y_vdem_fh, X_vdem_fh)\n",
    "else:\n",
    "    ols_vdem_fh_sm = sm.OLS(y_vdem_fh, X_vdem_fh_) # equivalent to fit_intercept=True (https://stackoverflow.com/questions/70179307/why-is-sklearn-r-squared-different-from-that-of-statsmodels-when-fit-intercept-f/70180217#70180217)\n",
    "ols_vdem_fh_sm_fit = ols_vdem_fh_sm.fit()"
   ]
  },
  {
   "cell_type": "code",
   "execution_count": null,
   "id": "9909788d",
   "metadata": {},
   "outputs": [],
   "source": [
    "ols_vdem_fh_sm_fit.summary()"
   ]
  },
  {
   "cell_type": "code",
   "execution_count": null,
   "id": "40485e16",
   "metadata": {},
   "outputs": [],
   "source": [
    "# goodness of fit (R^2)\n",
    "ols_vdem_fh_sm_fit.rsquared\n",
    "#ols_vdem_fh_sm_fit.rsquared_adj"
   ]
  },
  {
   "cell_type": "code",
   "execution_count": null,
   "id": "60917fc6",
   "metadata": {},
   "outputs": [],
   "source": [
    "# intercept and coefficients\n",
    "ols_vdem_fh_sm_fit.params"
   ]
  },
  {
   "cell_type": "code",
   "execution_count": null,
   "id": "67f3c7a6",
   "metadata": {},
   "outputs": [],
   "source": [
    "# significance scores\n",
    "ols_vdem_fh_sm_fit.pvalues"
   ]
  },
  {
   "cell_type": "code",
   "execution_count": null,
   "id": "aa5f5c9a",
   "metadata": {},
   "outputs": [],
   "source": [
    "import numpy as np"
   ]
  },
  {
   "cell_type": "code",
   "execution_count": null,
   "id": "8e20ed1b",
   "metadata": {},
   "outputs": [],
   "source": [
    "def format_coef(df, coef, pvalues=None):\n",
    "    df[coef] = df[coef].apply(lambda x: '{0:.2f}'.format(x))\n",
    "    if pvalues is not None:\n",
    "        def stars(cell):\n",
    "            if cell <= .001:\n",
    "                cell = '***'\n",
    "            elif cell <= .01:\n",
    "                cell = '**'\n",
    "            elif cell <= .1:\n",
    "                cell = '*'\n",
    "            else:\n",
    "                cell = ''\n",
    "            return cell\n",
    "        df['pvalues'] = pvalues\n",
    "        df['stars'] = df['pvalues'].apply(stars)\n",
    "        df[coef] = df[coef] + df['stars']\n",
    "        del df['pvalues']\n",
    "        del df['stars']\n",
    "    return df"
   ]
  },
  {
   "cell_type": "code",
   "execution_count": null,
   "id": "c26262c2",
   "metadata": {},
   "outputs": [],
   "source": [
    "if standardize:\n",
    "    vdem_fh_regression = pd.DataFrame(\n",
    "        data = ols_vdem_fh_sm_fit.params, \n",
    "        index = indicators_regression, \n",
    "        columns = ['OLS']\n",
    "    )\n",
    "else:\n",
    "    vdem_fh_regression = pd.DataFrame(\n",
    "        data = ols_vdem_fh_sm_fit.params, \n",
    "        index = np.concatenate([['intercept'], indicators_regression]), \n",
    "        columns = ['OLS']\n",
    "    )\n",
    "vdem_fh_regression = format_coef(df=vdem_fh_regression, coef='OLS', pvalues=ols_vdem_fh_sm_fit.pvalues)\n",
    "vdem_fh_regression"
   ]
  },
  {
   "cell_type": "markdown",
   "id": "86e0a8e3",
   "metadata": {},
   "source": [
    "#### Ridge regression to deal with collinearity"
   ]
  },
  {
   "cell_type": "code",
   "execution_count": null,
   "id": "f1bb8592",
   "metadata": {},
   "outputs": [],
   "source": [
    "from sklearn.linear_model import Ridge"
   ]
  },
  {
   "cell_type": "code",
   "execution_count": null,
   "id": "8939e3b0",
   "metadata": {},
   "outputs": [],
   "source": [
    "ridge_vdem_fh = Ridge(alpha=1., fit_intercept=fit_intercept, random_state=42)"
   ]
  },
  {
   "cell_type": "code",
   "execution_count": null,
   "id": "1b942391",
   "metadata": {},
   "outputs": [],
   "source": [
    "ridge_vdem_fh_fit = ridge_vdem_fh.fit(X_vdem_fh, y_vdem_fh)"
   ]
  },
  {
   "cell_type": "code",
   "execution_count": null,
   "id": "7615e798",
   "metadata": {},
   "outputs": [],
   "source": [
    "# goodness of fit\n",
    "ridge_vdem_fh_fit.score(X_vdem_fh, y_vdem_fh)"
   ]
  },
  {
   "cell_type": "code",
   "execution_count": null,
   "id": "ee26f30b",
   "metadata": {},
   "outputs": [],
   "source": [
    "# intercept\n",
    "ridge_vdem_fh_fit.intercept_"
   ]
  },
  {
   "cell_type": "code",
   "execution_count": null,
   "id": "54f56b81",
   "metadata": {},
   "outputs": [],
   "source": [
    "# coefficients\n",
    "ridge_vdem_fh_fit.coef_[0]"
   ]
  },
  {
   "cell_type": "markdown",
   "id": "84475403",
   "metadata": {},
   "source": [
    "Significance scores are meaningless with regularization (https://stats.stackexchange.com/questions/224796/why-are-confidence-intervals-and-p-values-not-reported-as-default-for-penalized)"
   ]
  },
  {
   "cell_type": "code",
   "execution_count": null,
   "id": "b69f06c0",
   "metadata": {},
   "outputs": [],
   "source": [
    "if standardize:\n",
    "    vdem_fh_regression['Ridge'] = ridge_vdem_fh_fit.coef_[0] # ridge_vdem_fh_sm_fit.params\n",
    "else:\n",
    "    vdem_fh_regression['Ridge'] = np.concatenate([ridge_vdem_fh_fit.intercept_, ridge_vdem_fh_fit.coef_[0]])\n",
    "vdem_fh_regression = format_coef(df=vdem_fh_regression, coef='Ridge', pvalues=None)\n",
    "vdem_fh_regression"
   ]
  },
  {
   "cell_type": "markdown",
   "id": "b2c5b048",
   "metadata": {},
   "source": [
    "Ridge regression using statsmodels, just for completeness (requires setting scaling penalties: https://stackoverflow.com/questions/72260808/mismatch-between-statsmodels-and-sklearn-ridge-regression):"
   ]
  },
  {
   "cell_type": "code",
   "execution_count": null,
   "id": "661d9f93",
   "metadata": {},
   "outputs": [],
   "source": [
    "n = vdem_fh.shape[0]\n",
    "if standardize:\n",
    "    ridge_vdem_fh_sm = sm.OLS(y_vdem_fh, X_vdem_fh)\n",
    "    penalty = np.ones(len(indicators_regression)) / n\n",
    "\n",
    "else:\n",
    "    ridge_vdem_fh_sm = sm.OLS(y_vdem_fh, X_vdem_fh_)\n",
    "    penalty = np.concatenate([[0.], np.ones(len(indicators_regression))]) / n\n",
    "\n",
    "ridge_vdem_fh_sm_fit = ridge_vdem_fh_sm.fit_regularized(alpha=penalty, L1_wt=0.)\n",
    "ridge_vdem_fh_sm_fit.params"
   ]
  },
  {
   "cell_type": "markdown",
   "id": "c1bd918a",
   "metadata": {},
   "source": [
    "#### Lasso regression to automatically select variables"
   ]
  },
  {
   "cell_type": "code",
   "execution_count": null,
   "id": "a8f7fa86",
   "metadata": {},
   "outputs": [],
   "source": [
    "alpha_lasso = 1. # if alpha < 1. then Lasso becomes Elastic Net (https://stats.stackexchange.com/questions/319861/how-to-interpret-lasso-shrinking-all-coefficients-to-0)"
   ]
  },
  {
   "cell_type": "code",
   "execution_count": null,
   "id": "f0a67230",
   "metadata": {},
   "outputs": [],
   "source": [
    "from sklearn.linear_model import Lasso"
   ]
  },
  {
   "cell_type": "code",
   "execution_count": null,
   "id": "5c06dd32",
   "metadata": {},
   "outputs": [],
   "source": [
    "lasso_vdem_fh = Lasso(alpha=alpha_lasso, fit_intercept=fit_intercept, random_state=42)"
   ]
  },
  {
   "cell_type": "code",
   "execution_count": null,
   "id": "bbb1b156",
   "metadata": {},
   "outputs": [],
   "source": [
    "lasso_vdem_fh_fit = lasso_vdem_fh.fit(X_vdem_fh, y_vdem_fh)"
   ]
  },
  {
   "cell_type": "code",
   "execution_count": null,
   "id": "1e7975ee",
   "metadata": {},
   "outputs": [],
   "source": [
    "# goodness of fit\n",
    "lasso_vdem_fh_fit.score(X_vdem_fh, y_vdem_fh)"
   ]
  },
  {
   "cell_type": "code",
   "execution_count": null,
   "id": "0dcb4e06",
   "metadata": {},
   "outputs": [],
   "source": [
    "# intercept\n",
    "lasso_vdem_fh_fit.intercept_"
   ]
  },
  {
   "cell_type": "code",
   "execution_count": null,
   "id": "64bd5a37",
   "metadata": {},
   "outputs": [],
   "source": [
    "# coefficients\n",
    "lasso_vdem_fh_fit.coef_"
   ]
  },
  {
   "cell_type": "code",
   "execution_count": null,
   "id": "e1778b94",
   "metadata": {},
   "outputs": [],
   "source": [
    "if standardize:\n",
    "    vdem_fh_regression['Lasso'] = lasso_vdem_fh_fit.coef_\n",
    "else:\n",
    "    vdem_fh_regression['Lasso'] = np.concatenate([lasso_vdem_fh_fit.intercept_, lasso_vdem_fh_fit.coef_])\n",
    "vdem_fh_regression = format_coef(df=vdem_fh_regression, coef='Lasso', pvalues=None)\n",
    "vdem_fh_regression"
   ]
  },
  {
   "cell_type": "markdown",
   "id": "7fa4de7b",
   "metadata": {},
   "source": [
    "Lasso regression using statsmodels, just for completeness (requires setting scaling penalties: https://stackoverflow.com/questions/72260808/mismatch-between-statsmodels-and-sklearn-ridge-regression):"
   ]
  },
  {
   "cell_type": "code",
   "execution_count": null,
   "id": "8f649d32",
   "metadata": {},
   "outputs": [],
   "source": [
    "if standardize:\n",
    "    lasso_vdem_fh_sm = sm.OLS(y_vdem_fh, X_vdem_fh)\n",
    "    penalty = np.ones(len(indicators_regression))*alpha_lasso\n",
    "else:\n",
    "    lasso_vdem_fh_sm = sm.OLS(y_vdem_fh, X_vdem_fh_)\n",
    "    penalty = np.concatenate([[0.], np.ones(len(indicators_regression))*alpha_lasso])\n",
    "\n",
    "lasso_vdem_fh_sm_fit = lasso_vdem_fh_sm.fit_regularized(alpha=penalty, L1_wt=1.)\n",
    "lasso_vdem_fh_sm_fit.params"
   ]
  },
  {
   "cell_type": "markdown",
   "id": "17d0e4b1",
   "metadata": {},
   "source": [
    "#### Ordinary-Least-Squares regression with two variables"
   ]
  },
  {
   "cell_type": "code",
   "execution_count": null,
   "id": "ba96db2c",
   "metadata": {},
   "outputs": [],
   "source": [
    "indicators_regression_select = ['v2x_polyarchy', 'v2x_libdem']"
   ]
  },
  {
   "cell_type": "code",
   "execution_count": null,
   "id": "1577e8a3",
   "metadata": {},
   "outputs": [],
   "source": [
    "X_vdem_fh_select = vdem_fh[indicators_regression_select].to_numpy()\n",
    "\n",
    "if standardize:\n",
    "    X_vdem_fh_select = StandardScaler().fit_transform(X_vdem_fh_select)"
   ]
  },
  {
   "cell_type": "code",
   "execution_count": null,
   "id": "fe37e71a",
   "metadata": {},
   "outputs": [],
   "source": [
    "X_vdem_fh_select_ = sm.add_constant(X_vdem_fh_select)"
   ]
  },
  {
   "cell_type": "code",
   "execution_count": null,
   "id": "e004c518",
   "metadata": {},
   "outputs": [],
   "source": [
    "if standardize:\n",
    "    ols_vdem_fh_select_sm = sm.OLS(y_vdem_fh, X_vdem_fh_select)\n",
    "else:\n",
    "    ols_vdem_fh_select_sm = sm.OLS(y_vdem_fh, X_vdem_fh_select_)\n",
    "ols_vdem_fh_select_sm_fit = ols_vdem_fh_select_sm.fit()"
   ]
  },
  {
   "cell_type": "code",
   "execution_count": null,
   "id": "8519212f",
   "metadata": {},
   "outputs": [],
   "source": [
    "ols_vdem_fh_select_sm_fit.summary()"
   ]
  },
  {
   "cell_type": "code",
   "execution_count": null,
   "id": "62591f8b",
   "metadata": {},
   "outputs": [],
   "source": [
    "vdem_fh_regression['OLS (select)'] = np.concatenate([ols_vdem_fh_select_sm_fit.params, np.empty(len(indicators_regression)-len(indicators_regression_select))*np.nan])\n",
    "vdem_fh_regression = format_coef(df=vdem_fh_regression, coef='OLS (select)', pvalues=np.concatenate([ols_vdem_fh_select_sm_fit.pvalues, np.empty(len(indicators_regression)-len(indicators_regression_select))*np.nan]))\n",
    "vdem_fh_regression"
   ]
  },
  {
   "cell_type": "markdown",
   "id": "fd3c7d8d",
   "metadata": {},
   "source": [
    "### 9.1.2. Classification"
   ]
  },
  {
   "cell_type": "code",
   "execution_count": null,
   "id": "07a9e356",
   "metadata": {},
   "outputs": [],
   "source": [
    "indicators_logit = ['v2smgovdom_osp', 'v2smgovfilprc_osp', 'v2smgovsmcenprc_osp', 'v2smonper_osp', 'v2smarrest_osp']"
   ]
  },
  {
   "cell_type": "code",
   "execution_count": null,
   "id": "434b23be",
   "metadata": {},
   "outputs": [],
   "source": [
    "X_vdem_fh_logit = vdem_fh[indicators_logit].to_numpy()\n",
    "y_vdem_fh_logit = np.where(vdem_fh['v2x_regime'] <= 1, 0, 1).copy()"
   ]
  },
  {
   "cell_type": "code",
   "execution_count": null,
   "id": "2d983054",
   "metadata": {},
   "outputs": [],
   "source": [
    "from sklearn.linear_model import LogisticRegression"
   ]
  },
  {
   "cell_type": "code",
   "execution_count": null,
   "id": "7512e176",
   "metadata": {},
   "outputs": [],
   "source": [
    "logit_vdem_fh = LogisticRegression(penalty='none', C=1., fit_intercept=False)"
   ]
  },
  {
   "cell_type": "code",
   "execution_count": null,
   "id": "6adc774f",
   "metadata": {},
   "outputs": [],
   "source": [
    "logit_vdem_fh_fit = logit_vdem_fh.fit(X_vdem_fh_logit, y_vdem_fh_logit)"
   ]
  },
  {
   "cell_type": "code",
   "execution_count": null,
   "id": "3584b9cb",
   "metadata": {},
   "outputs": [],
   "source": [
    "# goodness of fit\n",
    "logit_vdem_fh_fit.score(X_vdem_fh_logit, y_vdem_fh_logit)"
   ]
  },
  {
   "cell_type": "code",
   "execution_count": null,
   "id": "86b7e528",
   "metadata": {},
   "outputs": [],
   "source": [
    "# intercept\n",
    "logit_vdem_fh_fit.intercept_"
   ]
  },
  {
   "cell_type": "code",
   "execution_count": null,
   "id": "c806141a",
   "metadata": {},
   "outputs": [],
   "source": [
    "# coefficients\n",
    "logit_vdem_fh_fit.coef_[0]"
   ]
  },
  {
   "cell_type": "code",
   "execution_count": null,
   "id": "7ed393fc",
   "metadata": {},
   "outputs": [],
   "source": [
    "X_vdem_fh_logit_ = sm.add_constant(X_vdem_fh_logit)"
   ]
  },
  {
   "cell_type": "code",
   "execution_count": null,
   "id": "da491c93",
   "metadata": {},
   "outputs": [],
   "source": [
    "logit_vdem_fh_sm = sm.Logit(y_vdem_fh_logit, X_vdem_fh_logit_)"
   ]
  },
  {
   "cell_type": "code",
   "execution_count": null,
   "id": "d1acbd8b",
   "metadata": {},
   "outputs": [],
   "source": [
    "logit_vdem_fh_sm_fit = logit_vdem_fh_sm.fit()"
   ]
  },
  {
   "cell_type": "code",
   "execution_count": null,
   "id": "2a22a413",
   "metadata": {},
   "outputs": [],
   "source": [
    "logit_vdem_fh_sm_fit.summary()"
   ]
  },
  {
   "cell_type": "code",
   "execution_count": null,
   "id": "7f617838",
   "metadata": {},
   "outputs": [],
   "source": [
    "# goodness of fit\n",
    "logit_vdem_fh_sm_fit.prsquared"
   ]
  },
  {
   "cell_type": "code",
   "execution_count": null,
   "id": "2d21fb82",
   "metadata": {},
   "outputs": [],
   "source": [
    "# intercept and coefficients\n",
    "logit_vdem_fh_sm_fit.params"
   ]
  },
  {
   "cell_type": "code",
   "execution_count": null,
   "id": "0be5b77e",
   "metadata": {},
   "outputs": [],
   "source": [
    "# significance scores\n",
    "logit_vdem_fh_sm_fit.pvalues"
   ]
  },
  {
   "cell_type": "code",
   "execution_count": null,
   "id": "6e8ffbd7",
   "metadata": {},
   "outputs": [],
   "source": [
    "vdem_fh_classification = pd.DataFrame(\n",
    "    data = logit_vdem_fh_sm_fit.params, \n",
    "    index = np.concatenate([['intercept'], indicators_logit]), \n",
    "    columns = ['Logit']\n",
    ")\n",
    "vdem_fh_classification = format_coef(df=vdem_fh_classification, coef='Logit', pvalues=logit_vdem_fh_sm_fit.pvalues)\n",
    "vdem_fh_classification"
   ]
  },
  {
   "cell_type": "code",
   "execution_count": null,
   "id": "73c969dd",
   "metadata": {},
   "outputs": [],
   "source": []
  },
  {
   "cell_type": "code",
   "execution_count": null,
   "id": "a7c12ac5",
   "metadata": {},
   "outputs": [],
   "source": []
  },
  {
   "cell_type": "code",
   "execution_count": null,
   "id": "44c23209",
   "metadata": {},
   "outputs": [],
   "source": []
  },
  {
   "cell_type": "markdown",
   "id": "f09475fd",
   "metadata": {},
   "source": [
    "## 9.2. Prediction (supervised machine learning)\n",
    "\n",
    "- Out-of-sample testing\n",
    "- Cross validation\n",
    "- Data leakage\n",
    "- Feature selection\n",
    "- Over- and underfitting\n",
    "\n",
    "- https://jakevdp.github.io/PythonDataScienceHandbook/05.03-hyperparameters-and-model-validation.html\n"
   ]
  },
  {
   "cell_type": "code",
   "execution_count": null,
   "id": "deff59ae",
   "metadata": {},
   "outputs": [],
   "source": []
  },
  {
   "cell_type": "markdown",
   "id": "21de5e9e",
   "metadata": {},
   "source": [
    "BOXES: REFER TO SUPPORT VECTOR MACHINES AND NAIVE BAYES CLASSIFICATION\n",
    "\n",
    "https://jakevdp.github.io/PythonDataScienceHandbook/05.07-support-vector-machines.html\n",
    "https://jakevdp.github.io/PythonDataScienceHandbook/05.05-naive-bayes.html"
   ]
  },
  {
   "cell_type": "code",
   "execution_count": null,
   "id": "9ecd7989",
   "metadata": {},
   "outputs": [],
   "source": []
  },
  {
   "cell_type": "markdown",
   "id": "f6d1b5bc",
   "metadata": {},
   "source": [
    "## 9.3. Decision trees and random forests\n",
    "\n",
    "https://jakevdp.github.io/PythonDataScienceHandbook/05.08-random-forests.html"
   ]
  },
  {
   "cell_type": "code",
   "execution_count": null,
   "id": "590fa060",
   "metadata": {},
   "outputs": [],
   "source": []
  },
  {
   "cell_type": "markdown",
   "id": "801a732f",
   "metadata": {},
   "source": [
    "## 9.4. Towards deep learning\n",
    "\n",
    "Check https://doi.org/10.1073/pnas.1218772110\n",
    "\n",
    "- Convey an understanding of neural networks and deep learning\n",
    "- Start by extendin features by hashtag/named entity/mention representations\n",
    "- Use neural network off the sklearn shelf"
   ]
  },
  {
   "cell_type": "code",
   "execution_count": null,
   "id": "e9964939",
   "metadata": {},
   "outputs": [],
   "source": []
  },
  {
   "cell_type": "markdown",
   "id": "76d0b4a3",
   "metadata": {},
   "source": [
    "## 9.5. Model selection\n",
    "\n",
    "- By interpretability\n",
    "- By predictive accuracy"
   ]
  },
  {
   "cell_type": "code",
   "execution_count": null,
   "id": "b5842683",
   "metadata": {},
   "outputs": [],
   "source": []
  },
  {
   "cell_type": "markdown",
   "id": "2639439f",
   "metadata": {},
   "source": [
    "#### Notes to be removed before publication\n",
    "\n",
    "- add cvxopt=1.2.6 to environment.yml -- NOT NECSSARY ANYMORE CAUSE WE DON'T USE method=sqrt_lasso IN statsmodels RIDGE REGRESSION ANYMORE\n",
    "- https://scikit-learn.org/stable/auto_examples/inspection/plot_linear_model_coefficient_interpretation.html#sphx-glr-auto-examples-inspection-plot-linear-model-coefficient-interpretation-py\n",
    "- ..."
   ]
  },
  {
   "cell_type": "code",
   "execution_count": null,
   "id": "0c10e78e",
   "metadata": {},
   "outputs": [],
   "source": []
  }
 ],
 "metadata": {
  "kernelspec": {
   "display_name": "Python 3 (ipykernel)",
   "language": "python",
   "name": "python3"
  },
  "language_info": {
   "codemirror_mode": {
    "name": "ipython",
    "version": 3
   },
   "file_extension": ".py",
   "mimetype": "text/x-python",
   "name": "python",
   "nbconvert_exporter": "python",
   "pygments_lexer": "ipython3",
   "version": "3.9.13"
  }
 },
 "nbformat": 4,
 "nbformat_minor": 5
}
