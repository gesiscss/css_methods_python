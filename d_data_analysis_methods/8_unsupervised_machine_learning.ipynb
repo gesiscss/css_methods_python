{
 "cells": [
  {
   "cell_type": "markdown",
   "id": "583054cb",
   "metadata": {},
   "source": [
    "# 8. Unsupervised machine learning\n",
    "\n",
    "Frequentist vs. Bayesian approaches\n",
    "\n",
    "Clustering vs. dimensionality reduction\n",
    "\n",
    "Focus on Gensim package when using text\n",
    "\n",
    "TO DECIDE\n",
    "- WHICH DATASET? ONE WE CRAWLED IN THE WEB SCRAPING SESSION (E.G., WIKIPEDIA)\n",
    "? Google War News? CNN News?\n",
    "\n",
    "### Text book\n",
    "\n",
    "- Text Analysis in Python for Social Scientists: Discovery and Exploration\n",
    "\n",
    "### Notes\n",
    "\n",
    "- Refer to factor analysis routinely performed in survey data analysis"
   ]
  },
  {
   "cell_type": "markdown",
   "id": "a35b3cd0",
   "metadata": {},
   "source": [
    "## 8.X. Singular Value Decomposition as an example for frequentist dimensionality reduction\n",
    "\n",
    "TO IMPLEMENT\n",
    "- LSA USING https://radimrehurek.com/gensim/models/lsimodel.html\n",
    "- WITH AND WITHOUT TF*IDF (https://radimrehurek.com/gensim/auto_examples/core/run_topics_and_transformations.html)"
   ]
  },
  {
   "cell_type": "code",
   "execution_count": null,
   "id": "0aa930f7",
   "metadata": {},
   "outputs": [],
   "source": []
  },
  {
   "cell_type": "markdown",
   "id": "961319fc",
   "metadata": {},
   "source": [
    "BOXES: REFER TO MULTI-DIMENSIONAL SCALING AND PRINCIPAL COMPONENT ANALYSIS\n",
    "https://jakevdp.github.io/PythonDataScienceHandbook/05.10-manifold-learning.html\n",
    "https://jakevdp.github.io/PythonDataScienceHandbook/05.09-principal-component-analysis.html"
   ]
  },
  {
   "cell_type": "code",
   "execution_count": null,
   "id": "e78e5f69",
   "metadata": {},
   "outputs": [],
   "source": []
  },
  {
   "cell_type": "markdown",
   "id": "710ffd68",
   "metadata": {},
   "source": [
    "## 8.X. Latent Dirichlet Allocation as an example for Bayesian dimensionality reduction"
   ]
  },
  {
   "cell_type": "code",
   "execution_count": null,
   "id": "8ac2188f",
   "metadata": {},
   "outputs": [],
   "source": []
  },
  {
   "cell_type": "markdown",
   "id": "b5b9299d",
   "metadata": {},
   "source": [
    "## 8.X. Word embedding\n",
    "\n",
    "TO IMPLEMENT:\n",
    "- TAKE NAMED ENTITIES FROM TweetsCOV19 DATA (SESSION 2)\n",
    "- CREATE CO-OCCURRENCE MATRIX (SESSION 5)\n",
    "- RUN word2vec"
   ]
  },
  {
   "cell_type": "code",
   "execution_count": null,
   "id": "7d818ce3",
   "metadata": {},
   "outputs": [],
   "source": []
  },
  {
   "cell_type": "markdown",
   "id": "b174498d",
   "metadata": {},
   "source": [
    "## 8.X. k-means (or/and Gaussian Mixture Model) as an example for frequentist clustering\n",
    "\n",
    "- https://jakevdp.github.io/PythonDataScienceHandbook/05.11-k-means.html\n",
    "- https://jakevdp.github.io/PythonDataScienceHandbook/05.12-gaussian-mixtures.html"
   ]
  },
  {
   "cell_type": "code",
   "execution_count": null,
   "id": "d4533319",
   "metadata": {},
   "outputs": [],
   "source": []
  },
  {
   "cell_type": "markdown",
   "id": "b78563ee",
   "metadata": {},
   "source": [
    "## 8.X. Bayesian Gaussian Mixture Model as an example for Bayesian clustering"
   ]
  },
  {
   "cell_type": "code",
   "execution_count": null,
   "id": "06b0fde9",
   "metadata": {},
   "outputs": [],
   "source": []
  },
  {
   "cell_type": "code",
   "execution_count": null,
   "id": "ab467b9b",
   "metadata": {},
   "outputs": [],
   "source": []
  },
  {
   "cell_type": "code",
   "execution_count": null,
   "id": "4ffa444b",
   "metadata": {},
   "outputs": [],
   "source": []
  },
  {
   "cell_type": "code",
   "execution_count": null,
   "id": "590fa060",
   "metadata": {},
   "outputs": [],
   "source": []
  }
 ],
 "metadata": {
  "kernelspec": {
   "display_name": "Python 3 (ipykernel)",
   "language": "python",
   "name": "python3"
  },
  "language_info": {
   "codemirror_mode": {
    "name": "ipython",
    "version": 3
   },
   "file_extension": ".py",
   "mimetype": "text/x-python",
   "name": "python",
   "nbconvert_exporter": "python",
   "pygments_lexer": "ipython3",
   "version": "3.9.12"
  }
 },
 "nbformat": 4,
 "nbformat_minor": 5
}
