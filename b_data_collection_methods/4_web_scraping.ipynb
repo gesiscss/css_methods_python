{
 "cells": [
  {
   "cell_type": "markdown",
   "id": "26acf247",
   "metadata": {},
   "source": [
    "<img src='images/gesis.png' style='height: 50px; float: left'>\n",
    "<img src='images/social_comquant.png' style='height: 50px; float: left; margin-left: 40px'>"
   ]
  },
  {
   "cell_type": "markdown",
   "id": "193c1ec0",
   "metadata": {},
   "source": [
    "#### Notes to be removed before publication\n",
    "\n",
    "Reviewers: Felix Soldner & Felix Schmidt?\n",
    "Review intro\n",
    "Review and finish red boxes\n",
    "Add insight boxes more?"
   ]
  },
  {
   "cell_type": "markdown",
   "id": "b6d67c10",
   "metadata": {},
   "source": [
    "## Introduction to Computational Social Science methods with Python"
   ]
  },
  {
   "cell_type": "markdown",
   "id": "494a8570",
   "metadata": {},
   "source": [
    "# Session 4: Web scraping\n",
    "\n",
    "Data collection is a procedure of gathering information from subjects (all relevant sources), measuring and analyzing accurate insights for research using various techniques. Researchers can evaluate their research questions and hypotheses on the basis of collected data. In most cases, data collection is the primary and most important step for research, irrespective of the field of study. The approach of data collection varies for different fields of study, depending on the required information.\n",
    "\n",
    "Digital behavioral data from the internet is an absolutely massive source of data which we can access by various ways such as connecting APIs (see [Session 3: API harvesting](https://github.com/gesiscss/css_methods_python/blob/main/b_data_collection_methods/3_api_harvesting.ipynb)). In addtion to APIs, web scraping is often the only way we can access data that it is not available in convenient CSV exports or APIs. Websites are often valuable sources of data; for example, weather forecasts, comments on news sites, and posts on forums. To access those sorts of information on webpages, we use web scraping.\n",
    "\n",
    "\n",
    "<div class='alert alert-block alert-success'>\n",
    "<b>In this session</b>, \n",
    "\n",
    "you will learn how to do web scraping with Python from scratch. In subsession **4.1**, we will have a deep look at the fundamentals of web scraping. You will experience how you can use the Python libraries to handle different data collections. In subsubsession **4.1.1**, you will learn about basics for the feed parsing with the feedparser library, and in subsubsession **4.1.2**, you will learn about html syntax. We move to the basic web scraping tool; the Beautiful soup library in the following subsession **4.2**. In subsession **4.3**, we will introduce the Selenium library to collect data from websites that only load content once you interact with it (scrolling, clicking, etc.) and are difficult to obtain through more traditional scraping approaches. We will work through an actual web scraping projects throughout this session, focusing on Wikipedia pages, online news sites, pdf pages, and Quora. Finally, in subsession **4.4**, we will compare these libraries and talk about the challanges and data privacy approaches.\n",
    "</div>\n"
   ]
  },
  {
   "cell_type": "markdown",
   "id": "c403de1f",
   "metadata": {},
   "source": [
    "## 4.1. Fundamentals of Web scraping\n",
    "\n",
    "<img src=\"./images/webscrape.png\"  width=\"350\" height = \"350\" align=\"center\"/>\n",
    "\n",
    "In order to access APIs, you first need to create an account and apply to have a developer account on the platform that you want to work on. With this developer account, platforms provide you KEYS (e.g., secret, public, or access) to authenticate their system.\n",
    "\n",
    "While web scraping is one of the common ways of collecting data from websites, a lot of websites offer APIs to access the public data that they host on their website. This is to avoid unnecessary traffic on the websites. However, even though we have access to these API, as researchers, we should not forget to respect API access rules and always read the **Term of Use** documents before collecting data."
   ]
  },
  {
   "cell_type": "markdown",
   "id": "d8f0bacd",
   "metadata": {},
   "source": [
    "### 4.1.1. Feed Parsing [<a href='#destination1'>1, 2, 3</a>] <a id='destination1_'></a>\n",
    "\n",
    "According to [Wikipedia](https://en.wikipedia.org/wiki/Web_feed), a web feed (or news feed) is a data format used for providing users with frequently updated content. Content distributors syndicate a web feed, thereby allowing users to subscribe a channel to it by adding the feed resource address to a news aggregator client (also called a feed reader or a news reader). Users typically subscribe to a feed by manually entering the URL of a feed or clicking a link in a web browser or by dragging the link from the web browser to the aggregator, thus \"RSS and Atom files provide news updates from a website in a simple form for your computer.\"\n",
    "\n",
    "Here we introduce [feedparser](https://pypi.org/project/feedparser/), a powerful python package for parsing RSS feeds. By providing the RSS feed link, we can get structured information in the form of python lists and dictionaries, which could then be used to extract the desired information in a simple and efficient way."
   ]
  },
  {
   "cell_type": "markdown",
   "id": "47cac09b",
   "metadata": {},
   "source": [
    "#### Getting started with feedparser\n",
    "\n",
    "<div class=\"alert alert-block alert-info\">\n",
    "<b>Hint:</b> \n",
    "    \n",
    "Before importing the libraries, we need to have the neccessary software packages and libraries installed. You can always go back to [Session 1: Setting up the computing environment](https://github.com/gesiscss/css_methods_python/blob/main/a_introduction/1_computing_environment.ipynb) to learn about how to install software packages and libraries that you need for this session.\n",
    "    \n",
    "</div>\n",
    "\n",
    "As usual, we need to import the package in the first place:"
   ]
  },
  {
   "cell_type": "code",
   "execution_count": 1,
   "id": "c8541458",
   "metadata": {
    "scrolled": false
   },
   "outputs": [],
   "source": [
    "import feedparser"
   ]
  },
  {
   "cell_type": "markdown",
   "id": "bb80565f",
   "metadata": {},
   "source": [
    "#### Parsing an RSS feed URL\n",
    "To parse an RSS feed link, you can simply use the **parse()** method from the feedparser package. It takes a string as argument, which could be a URL or the address to the file locally saved on the computer. Here we use CNN RSS as an example URL:"
   ]
  },
  {
   "cell_type": "code",
   "execution_count": 2,
   "id": "23239687",
   "metadata": {},
   "outputs": [
    {
     "data": {
      "text/plain": [
       "{'bozo': False,\n",
       " 'entries': [{'title': 'United Nations Marks International Migrants Day',\n",
       "   'title_detail': {'type': 'text/plain',\n",
       "    'language': None,\n",
       "    'base': 'https://www.voanews.com/api/zgvmqye_o_qv',\n",
       "    'value': 'United Nations Marks International Migrants Day'},\n",
       "   'summary': 'The United Nations Sunday marks International Migrants Day, to commemorate the contributions of hundreds of millions of migrants who have faced challenges to leave home for a better life.\\xa0\\n\\n\\nThis year’s celebrations occur as increasing numbers of European countries close their doors to refugees and economic migrants from Afghanistan, the Middle East, and Africa. They are taking place as a growing number of migrants from Central America try to cross the southern U.S. border.\\n\\n\\nThe United Nations says people do not willingly leave home. It says most of the world’s 280 million international migrants have been forced to move by conflict, persecution, desperate poverty, and, increasingly, climate change.\\n\\n\\n\\n\\nMany migrants, who lack legal pathways, take dangerous routes to countries of asylum. Many are exploited, abused, and die along the way. The International Organization for Migration estimates more than 50,000 migrants have died, and thousands more have disappeared over the past eight years.\\n\\n\\nIOM Director-General Antonio Vitorino says the world is failing to protect the most vulnerable people.\\n\\n\\n“Indeed, the world over, migrants move, often at great risks, for the most fundamental of reasons\\xa0— to seek a better future for themselves and their families. Behind every journey there is a person, there is a story no less valid than our own. This year to mark International Migrants Day, I want to pay tribute to all those who have died or disappeared on the threshold of their dreams.”\\n\\n\\n\\n\\nWorld Health Organization Director-General Tedros Adhanom Ghebreyesus echoes these sentiments. He says countries have a legal and moral duty to assist those in distress and provide health services and protection for vulnerable people.\\n\\n\\n“In seeking a better life, many migrants are in vulnerable situations, suffer from poor health and cannot access health services. We can prevent suffering and save lives by supporting countries to build resilient health and care systems that are sensitive to the needs of migrants,” he said.\\n\\n\\nThe United Nations says migrants’ rights are human rights and must be respected without discrimination. These rights, it adds, pertain regardless of whether people are forced to flee or move voluntarily.',\n",
       "   'summary_detail': {'type': 'text/html',\n",
       "    'language': None,\n",
       "    'base': 'https://www.voanews.com/api/zgvmqye_o_qv',\n",
       "    'value': 'The United Nations Sunday marks International Migrants Day, to commemorate the contributions of hundreds of millions of migrants who have faced challenges to leave home for a better life.\\xa0\\n\\n\\nThis year’s celebrations occur as increasing numbers of European countries close their doors to refugees and economic migrants from Afghanistan, the Middle East, and Africa. They are taking place as a growing number of migrants from Central America try to cross the southern U.S. border.\\n\\n\\nThe United Nations says people do not willingly leave home. It says most of the world’s 280 million international migrants have been forced to move by conflict, persecution, desperate poverty, and, increasingly, climate change.\\n\\n\\n\\n\\nMany migrants, who lack legal pathways, take dangerous routes to countries of asylum. Many are exploited, abused, and die along the way. The International Organization for Migration estimates more than 50,000 migrants have died, and thousands more have disappeared over the past eight years.\\n\\n\\nIOM Director-General Antonio Vitorino says the world is failing to protect the most vulnerable people.\\n\\n\\n“Indeed, the world over, migrants move, often at great risks, for the most fundamental of reasons\\xa0— to seek a better future for themselves and their families. Behind every journey there is a person, there is a story no less valid than our own. This year to mark International Migrants Day, I want to pay tribute to all those who have died or disappeared on the threshold of their dreams.”\\n\\n\\n\\n\\nWorld Health Organization Director-General Tedros Adhanom Ghebreyesus echoes these sentiments. He says countries have a legal and moral duty to assist those in distress and provide health services and protection for vulnerable people.\\n\\n\\n“In seeking a better life, many migrants are in vulnerable situations, suffer from poor health and cannot access health services. We can prevent suffering and save lives by supporting countries to build resilient health and care systems that are sensitive to the needs of migrants,” he said.\\n\\n\\nThe United Nations says migrants’ rights are human rights and must be respected without discrimination. These rights, it adds, pertain regardless of whether people are forced to flee or move voluntarily.'},\n",
       "   'links': [{'rel': 'alternate',\n",
       "     'type': 'text/html',\n",
       "     'href': 'https://www.voanews.com/a/united-nations-marks-international-migrants-day-/6881380.html'},\n",
       "    {'length': '0',\n",
       "     'type': 'image/jpeg',\n",
       "     'href': 'https://gdb.voanews.com/09410000-0a00-0242-98b4-08daccb885a2_w800_h450.jpg',\n",
       "     'rel': 'enclosure'}],\n",
       "   'link': 'https://www.voanews.com/a/united-nations-marks-international-migrants-day-/6881380.html',\n",
       "   'id': 'https://www.voanews.com/a/united-nations-marks-international-migrants-day-/6881380.html',\n",
       "   'guidislink': False,\n",
       "   'published': 'Sun, 18 Dec 2022 09:17:43 -0500',\n",
       "   'published_parsed': time.struct_time(tm_year=2022, tm_mon=12, tm_mday=18, tm_hour=14, tm_min=17, tm_sec=43, tm_wday=6, tm_yday=352, tm_isdst=0),\n",
       "   'tags': [{'term': 'Immigration', 'scheme': None, 'label': None}],\n",
       "   'authors': [{'name': 'Lisa Schlein', 'email': 'webdesk@voanews.com'}],\n",
       "   'author': 'webdesk@voanews.com (Lisa Schlein)',\n",
       "   'author_detail': {'name': 'Lisa Schlein', 'email': 'webdesk@voanews.com'}},\n",
       "  {'title': 'State of Emergency Declared in US Border City',\n",
       "   'title_detail': {'type': 'text/plain',\n",
       "    'language': None,\n",
       "    'base': 'https://www.voanews.com/api/zgvmqye_o_qv',\n",
       "    'value': 'State of Emergency Declared in US Border City'},\n",
       "   'summary': 'The mayor of El Paso, Texas, Saturday declared a state of emergency as the U.S. border city faces a daily influx of thousands of migrants from Latin American countries over the border with Mexico.\\n\\n\\nMayor Oscar Leeser, a Democrat, said the declaration would give the city the money and other needed resources to deal with the migrant crisis.\\n\\n\\n\"We wanted to make sure people are treated with dignity. We want to make sure everyone is safe,\" Leeser said.\\n\\n\\nU.S. officials say more than 2,400 migrants cross into El Paso every day, far beyond its shelter capacity, and thousands of migrants are sleeping on El Paso’s streets, just as the temperatures are dropping.\\n\\n\\nThe emergency declaration came just days before a federal health order, referred to as Title 42, expires Wednesday. Title 42, enacted during the COVID-19 pandemic, allowed for the quick return of migrants across the border.\\n\\n\\nIf Title 42 is no longer in effect next week, Leeser said U.S. officials have told him the daily number of migrants crossing daily into the U.S. through El Paso could jump from 2,400 to as high as 6,000.\\n\\n\\nDemocratic state Senator César J. Blanco, who represents El Paso, said in a statement that the border community “is facing an extraordinary humanitarian crisis.”',\n",
       "   'summary_detail': {'type': 'text/html',\n",
       "    'language': None,\n",
       "    'base': 'https://www.voanews.com/api/zgvmqye_o_qv',\n",
       "    'value': 'The mayor of El Paso, Texas, Saturday declared a state of emergency as the U.S. border city faces a daily influx of thousands of migrants from Latin American countries over the border with Mexico.\\n\\n\\nMayor Oscar Leeser, a Democrat, said the declaration would give the city the money and other needed resources to deal with the migrant crisis.\\n\\n\\n\"We wanted to make sure people are treated with dignity. We want to make sure everyone is safe,\" Leeser said.\\n\\n\\nU.S. officials say more than 2,400 migrants cross into El Paso every day, far beyond its shelter capacity, and thousands of migrants are sleeping on El Paso’s streets, just as the temperatures are dropping.\\n\\n\\nThe emergency declaration came just days before a federal health order, referred to as Title 42, expires Wednesday. Title 42, enacted during the COVID-19 pandemic, allowed for the quick return of migrants across the border.\\n\\n\\nIf Title 42 is no longer in effect next week, Leeser said U.S. officials have told him the daily number of migrants crossing daily into the U.S. through El Paso could jump from 2,400 to as high as 6,000.\\n\\n\\nDemocratic state Senator César J. Blanco, who represents El Paso, said in a statement that the border community “is facing an extraordinary humanitarian crisis.”'},\n",
       "   'links': [{'rel': 'alternate',\n",
       "     'type': 'text/html',\n",
       "     'href': 'https://www.voanews.com/a/state-of-emergency-declared-in-us-border-city-/6881337.html'},\n",
       "    {'length': '0',\n",
       "     'type': 'image/jpeg',\n",
       "     'href': 'https://gdb.voanews.com/022a0000-0aff-0242-5381-08dae0fa47d6_w800_h450.jpg',\n",
       "     'rel': 'enclosure'}],\n",
       "   'link': 'https://www.voanews.com/a/state-of-emergency-declared-in-us-border-city-/6881337.html',\n",
       "   'id': 'https://www.voanews.com/a/state-of-emergency-declared-in-us-border-city-/6881337.html',\n",
       "   'guidislink': False,\n",
       "   'published': 'Sun, 18 Dec 2022 08:21:03 -0500',\n",
       "   'published_parsed': time.struct_time(tm_year=2022, tm_mon=12, tm_mday=18, tm_hour=13, tm_min=21, tm_sec=3, tm_wday=6, tm_yday=352, tm_isdst=0),\n",
       "   'tags': [{'term': 'USA', 'scheme': None, 'label': None},\n",
       "    {'term': 'Immigration', 'scheme': None, 'label': None}],\n",
       "   'authors': [{'name': 'VOA News', 'email': 'webdesk@voanews.com'}],\n",
       "   'author': 'webdesk@voanews.com (VOA News)',\n",
       "   'author_detail': {'name': 'VOA News', 'email': 'webdesk@voanews.com'}},\n",
       "  {'title': \"India's Visa Temples Attract Devotees Aspiring to Go Abroad\",\n",
       "   'title_detail': {'type': 'text/plain',\n",
       "    'language': None,\n",
       "    'base': 'https://www.voanews.com/api/zgvmqye_o_qv',\n",
       "    'value': \"India's Visa Temples Attract Devotees Aspiring to Go Abroad\"},\n",
       "   'summary': 'Arjun Viswanathan stood on the street, his hands folded, eyes fixed on the idol of the Hindu deity Ganesh.\\n\\n\\nOn a humid morning, the information technology professional was waiting outside the temple, the size of a small closet – barely enough room for the lone priest to stand and perform puja or rituals for the beloved elephant-headed deity, believed to be the remover of obstacles.\\n\\n\\nViswanathan was among about a dozen visitors, most of them there for the same purpose: To offer prayers so their U.S. visa interviews would go smoothly and successfully. Viswanathan came the day before his interview for an employment visa.\\n\\n\\n\"I came here to pray for my brother\\'s U.K. visa 10 years ago and for my wife\\'s U.S. visa two years ago,\" he said. \"They were both successful. So I have faith.\"\\n\\n\\nThe Sri Lakshmi Visa Ganapathy Temple is a few miles north of the airport in Chennai (formerly Madras), a bustling metropolis on the Coromandel Coast in southeast India -- known for its iconic cuisine, ancient temples and churches, silk saris, classical music, dance and sculptures.\\n\\n\\nThis \"visa temple\" has surged in popularity among U.S. visa seekers over the past decade; they can be found in almost any Indian city with a U.S. consulate. They typically gain a following through word of mouth or social media.\\n\\n\\nA mile away from the Ganesh temple is the Sri Lakshmi Narasimha Navaneetha Krishnan Temple, where an idol of Hanuman – a deity who has a human body and the face of a monkey — is believed to possess the power to secure visas. Also known as \"Anjaneya,\" this god stands for strength, wisdom and devotion. In this temple, he has earned the monikers \"America Anjaneya\" and \"Visa Anjaneya.\"\\n\\n\\nThe temple\\'s longtime secretary, G.C. Srinivasan, said it wasn\\'t until 2016 that this temple became a \"visa temple.\"\\n\\n\\n\"It was around that time that a few people who prayed for a visa spread the word around that they were successful, and it\\'s continued,\" he said.\\n\\n\\nA month ago, Srinivasan said he met someone who got news of his visa approval even as as he was circumambulating the Anjaneya idol — a common Hindu practice of walking around a sacred object or site.\\n\\n\\nOn a recent Saturday night, devotees decorated the idol with garlands made of betel leaves. S. Pradeep, who placed a garland on the deity, said he was not there to pray for a visa, but believes in the god\\'s unique power.\\n\\n\\n\"He is my favorite god,\" he said. \"If you genuinely pray – not just for visa – it will come true.\"\\n\\n\\nAt the Ganesh temple, some devotees had success stories to share. Jyothi Bontha said her visa interview at the U.S. Consulate in Chennai went without a hitch, and that she had returned to offer thanks.\\n\\n\\n\"They barely asked me a couple of questions,\" she said. \"I was pleasantly surprised.\"\\xa0\\n\\n\\nBontha\\'s friend, Phani Veeranki, stood nearby, nervously clutching an envelope containing her visa application and supporting documents. Bontha and Veeranki, both computer science students from the neighboring state of Andhra Pradesh and childhood friends, are headed to Ohio.\\n\\n\\n\\n\\nBoth learned about the visa temple on the social media platform Telegram.\\n\\n\\nVeeranki said she was anxious because she had a lot riding on her upcoming visa interview.\\n\\n\\n\"I\\'m the first person in my family to go the United States,\" she said. \"My mother is afraid to send me. But I\\'m excited for the opportunities I\\'ll have in America.\"\\n\\n\\nVeeranki then handed over the envelope to the temple\\'s priest for him to place at the foot of the idol for a blessing.\\n\\n\\n\"We\\'ve been hearing about applications being rejected,\" she said, her hands still folded in prayer. \"I\\'m really hoping mine gets approved.\"\\n\\n\\nIf she and Bontha make it to Ohio, they want to take a trip to Niagara Falls.\\n\\n\\n\"I\\'ve always wanted to see it,\" Bontha said.\\n\\n\\nMohanbabu Jagannathan and his wife, Sangeetha, run the temple, which Jagannathan\\'s grandfather built in 1987. Their house is on a cul-de-sac, which is considered bad luck in several Asian cultures. In Chennai, it is common to find a Ganesh temple outside cul-de-sac homes due to the belief that the deity has the power to ward off evil. At first, only neighbors came to the temple, Jagannathan said.\\n\\n\\n\"But over the years it started earning a quirky reputation,\" he said. \"A lot of visa applicants who came to the temple spread the word that they found success after praying here.\"\\n\\n\\nIn 2009, his father, Jagannathan Radhakrishnan, reconstructed the temple and added the word \"visa\" to the temple\\'s name. Jagannathan said the success stories are heartwarming; visitors sometimes stop by his home to thank his family for keeping the temple open.\\n\\n\\n\"I\\'ve never been bothered by it,\" Jagannathan said. \"We offer this as a service to the public. It\\'s a joy to see how happy people are when they come back and tell us they got their visa.\"\\n\\n\\nHis wife said she was touched by the story of a man who came all the way from New Delhi to pray for a visa to see his grandchild after eight years apart. She remembers another time when a woman called her in tears, saying her visa application was rejected.\\n\\n\\n\"Sure, some don\\'t get it,\" she said. \"God only knows why.\"\\n\\n\\nPadma Kannan brought her daughter, Monisha, who is preparing to pursue a master\\'s degree in marketing analytics at Clark University. Kannan believes her daughter got her visa because of this powerful deity.\\n\\n\\n\"I found this temple on Google,\" she said. \"I was so nervous for her, and so I prayed here.\"\\n\\n\\nMonisha Kannan said she is not so sure she got her visa because of this temple, but she said she came to support her mom.\\n\\n\\n\"I\\'m skeptical,\" she said. \"I\\'m just someone who goes with the flow.\"\\n\\n\\nHer mother takes a more philosophical stance.\\n\\n\\n\"We pray for our children and things happen easily for them,\" she said. \"I think when they go through the rigors of life themselves, they will start believing in the power of prayer.\"\\n\\n\\nViswanathan said he is not someone \"who usually believes in such things.\" When his brother got his British visa a decade ago after offering prayers here, Viswanathan chalked it up to coincidence. He became a believer when his wife got her U.S. visa two years ago, he said.\\n\\n\\nThe day after he visited the temple this time, Viswanathan\\'s employment visa was approved. He\\'ll head to New Hampshire in a few months.\\n\\n\\n\"It\\'s all about faith,\" he said. \"If you believe it will happen, it will happen.\"',\n",
       "   'summary_detail': {'type': 'text/html',\n",
       "    'language': None,\n",
       "    'base': 'https://www.voanews.com/api/zgvmqye_o_qv',\n",
       "    'value': 'Arjun Viswanathan stood on the street, his hands folded, eyes fixed on the idol of the Hindu deity Ganesh.\\n\\n\\nOn a humid morning, the information technology professional was waiting outside the temple, the size of a small closet – barely enough room for the lone priest to stand and perform puja or rituals for the beloved elephant-headed deity, believed to be the remover of obstacles.\\n\\n\\nViswanathan was among about a dozen visitors, most of them there for the same purpose: To offer prayers so their U.S. visa interviews would go smoothly and successfully. Viswanathan came the day before his interview for an employment visa.\\n\\n\\n\"I came here to pray for my brother\\'s U.K. visa 10 years ago and for my wife\\'s U.S. visa two years ago,\" he said. \"They were both successful. So I have faith.\"\\n\\n\\nThe Sri Lakshmi Visa Ganapathy Temple is a few miles north of the airport in Chennai (formerly Madras), a bustling metropolis on the Coromandel Coast in southeast India -- known for its iconic cuisine, ancient temples and churches, silk saris, classical music, dance and sculptures.\\n\\n\\nThis \"visa temple\" has surged in popularity among U.S. visa seekers over the past decade; they can be found in almost any Indian city with a U.S. consulate. They typically gain a following through word of mouth or social media.\\n\\n\\nA mile away from the Ganesh temple is the Sri Lakshmi Narasimha Navaneetha Krishnan Temple, where an idol of Hanuman – a deity who has a human body and the face of a monkey — is believed to possess the power to secure visas. Also known as \"Anjaneya,\" this god stands for strength, wisdom and devotion. In this temple, he has earned the monikers \"America Anjaneya\" and \"Visa Anjaneya.\"\\n\\n\\nThe temple\\'s longtime secretary, G.C. Srinivasan, said it wasn\\'t until 2016 that this temple became a \"visa temple.\"\\n\\n\\n\"It was around that time that a few people who prayed for a visa spread the word around that they were successful, and it\\'s continued,\" he said.\\n\\n\\nA month ago, Srinivasan said he met someone who got news of his visa approval even as as he was circumambulating the Anjaneya idol — a common Hindu practice of walking around a sacred object or site.\\n\\n\\nOn a recent Saturday night, devotees decorated the idol with garlands made of betel leaves. S. Pradeep, who placed a garland on the deity, said he was not there to pray for a visa, but believes in the god\\'s unique power.\\n\\n\\n\"He is my favorite god,\" he said. \"If you genuinely pray – not just for visa – it will come true.\"\\n\\n\\nAt the Ganesh temple, some devotees had success stories to share. Jyothi Bontha said her visa interview at the U.S. Consulate in Chennai went without a hitch, and that she had returned to offer thanks.\\n\\n\\n\"They barely asked me a couple of questions,\" she said. \"I was pleasantly surprised.\"\\xa0\\n\\n\\nBontha\\'s friend, Phani Veeranki, stood nearby, nervously clutching an envelope containing her visa application and supporting documents. Bontha and Veeranki, both computer science students from the neighboring state of Andhra Pradesh and childhood friends, are headed to Ohio.\\n\\n\\n\\n\\nBoth learned about the visa temple on the social media platform Telegram.\\n\\n\\nVeeranki said she was anxious because she had a lot riding on her upcoming visa interview.\\n\\n\\n\"I\\'m the first person in my family to go the United States,\" she said. \"My mother is afraid to send me. But I\\'m excited for the opportunities I\\'ll have in America.\"\\n\\n\\nVeeranki then handed over the envelope to the temple\\'s priest for him to place at the foot of the idol for a blessing.\\n\\n\\n\"We\\'ve been hearing about applications being rejected,\" she said, her hands still folded in prayer. \"I\\'m really hoping mine gets approved.\"\\n\\n\\nIf she and Bontha make it to Ohio, they want to take a trip to Niagara Falls.\\n\\n\\n\"I\\'ve always wanted to see it,\" Bontha said.\\n\\n\\nMohanbabu Jagannathan and his wife, Sangeetha, run the temple, which Jagannathan\\'s grandfather built in 1987. Their house is on a cul-de-sac, which is considered bad luck in several Asian cultures. In Chennai, it is common to find a Ganesh temple outside cul-de-sac homes due to the belief that the deity has the power to ward off evil. At first, only neighbors came to the temple, Jagannathan said.\\n\\n\\n\"But over the years it started earning a quirky reputation,\" he said. \"A lot of visa applicants who came to the temple spread the word that they found success after praying here.\"\\n\\n\\nIn 2009, his father, Jagannathan Radhakrishnan, reconstructed the temple and added the word \"visa\" to the temple\\'s name. Jagannathan said the success stories are heartwarming; visitors sometimes stop by his home to thank his family for keeping the temple open.\\n\\n\\n\"I\\'ve never been bothered by it,\" Jagannathan said. \"We offer this as a service to the public. It\\'s a joy to see how happy people are when they come back and tell us they got their visa.\"\\n\\n\\nHis wife said she was touched by the story of a man who came all the way from New Delhi to pray for a visa to see his grandchild after eight years apart. She remembers another time when a woman called her in tears, saying her visa application was rejected.\\n\\n\\n\"Sure, some don\\'t get it,\" she said. \"God only knows why.\"\\n\\n\\nPadma Kannan brought her daughter, Monisha, who is preparing to pursue a master\\'s degree in marketing analytics at Clark University. Kannan believes her daughter got her visa because of this powerful deity.\\n\\n\\n\"I found this temple on Google,\" she said. \"I was so nervous for her, and so I prayed here.\"\\n\\n\\nMonisha Kannan said she is not so sure she got her visa because of this temple, but she said she came to support her mom.\\n\\n\\n\"I\\'m skeptical,\" she said. \"I\\'m just someone who goes with the flow.\"\\n\\n\\nHer mother takes a more philosophical stance.\\n\\n\\n\"We pray for our children and things happen easily for them,\" she said. \"I think when they go through the rigors of life themselves, they will start believing in the power of prayer.\"\\n\\n\\nViswanathan said he is not someone \"who usually believes in such things.\" When his brother got his British visa a decade ago after offering prayers here, Viswanathan chalked it up to coincidence. He became a believer when his wife got her U.S. visa two years ago, he said.\\n\\n\\nThe day after he visited the temple this time, Viswanathan\\'s employment visa was approved. He\\'ll head to New Hampshire in a few months.\\n\\n\\n\"It\\'s all about faith,\" he said. \"If you believe it will happen, it will happen.\"'},\n",
       "   'links': [{'rel': 'alternate',\n",
       "     'type': 'text/html',\n",
       "     'href': 'https://www.voanews.com/a/india-s-visa-temples-attract-devotees-aspiring-to-go-abroad-/6881207.html'},\n",
       "    {'length': '0',\n",
       "     'type': 'image/jpeg',\n",
       "     'href': 'https://gdb.voanews.com/09410000-0a00-0242-4007-08dae099e0fc_cx0_cy13_cw0_w800_h450.jpg',\n",
       "     'rel': 'enclosure'}],\n",
       "   'link': 'https://www.voanews.com/a/india-s-visa-temples-attract-devotees-aspiring-to-go-abroad-/6881207.html',\n",
       "   'id': 'https://www.voanews.com/a/india-s-visa-temples-attract-devotees-aspiring-to-go-abroad-/6881207.html',\n",
       "   'guidislink': False,\n",
       "   'published': 'Sat, 17 Dec 2022 20:50:16 -0500',\n",
       "   'published_parsed': time.struct_time(tm_year=2022, tm_mon=12, tm_mday=18, tm_hour=1, tm_min=50, tm_sec=16, tm_wday=6, tm_yday=352, tm_isdst=0),\n",
       "   'tags': [{'term': 'South & Central Asia', 'scheme': None, 'label': None},\n",
       "    {'term': 'Immigration', 'scheme': None, 'label': None}],\n",
       "   'authors': [{'name': 'Associated Press', 'email': 'webdesk@voanews.com'}],\n",
       "   'author': 'webdesk@voanews.com (Associated Press)',\n",
       "   'author_detail': {'name': 'Associated Press',\n",
       "    'email': 'webdesk@voanews.com'}},\n",
       "  {'title': 'Overwhelmed by Influx, Mexican Mayor Urges Migrants to Go Elsewhere',\n",
       "   'title_detail': {'type': 'text/plain',\n",
       "    'language': None,\n",
       "    'base': 'https://www.voanews.com/api/zgvmqye_o_qv',\n",
       "    'value': 'Overwhelmed by Influx, Mexican Mayor Urges Migrants to Go Elsewhere'},\n",
       "   'summary': \"The mayor of Reynosa, Mexico, near the US border, is warning migrants to stay away because his city has been overwhelmed by the thousands of migrants already there and can't help any more who are making their way to the United States. Victor Hugo Castilllo reports. Camera: Victor Hugo Castilllo.\",\n",
       "   'summary_detail': {'type': 'text/html',\n",
       "    'language': None,\n",
       "    'base': 'https://www.voanews.com/api/zgvmqye_o_qv',\n",
       "    'value': \"The mayor of Reynosa, Mexico, near the US border, is warning migrants to stay away because his city has been overwhelmed by the thousands of migrants already there and can't help any more who are making their way to the United States. Victor Hugo Castilllo reports. Camera: Victor Hugo Castilllo.\"},\n",
       "   'links': [{'rel': 'alternate',\n",
       "     'type': 'text/html',\n",
       "     'href': 'https://www.voanews.com/a/overwhelmed-by-influx-mexican-mayor-urges-migrants-to-go-elsewhere-/6880454.html'},\n",
       "    {'length': '0',\n",
       "     'type': 'image/jpeg',\n",
       "     'href': 'https://gdb.voanews.com/022a0000-0aff-0242-1d9e-08dadfcc2266_tv_w800_h450.jpg',\n",
       "     'rel': 'enclosure'}],\n",
       "   'link': 'https://www.voanews.com/a/overwhelmed-by-influx-mexican-mayor-urges-migrants-to-go-elsewhere-/6880454.html',\n",
       "   'id': 'https://www.voanews.com/a/overwhelmed-by-influx-mexican-mayor-urges-migrants-to-go-elsewhere-/6880454.html',\n",
       "   'guidislink': False,\n",
       "   'published': 'Fri, 16 Dec 2022 20:37:42 -0500',\n",
       "   'published_parsed': time.struct_time(tm_year=2022, tm_mon=12, tm_mday=17, tm_hour=1, tm_min=37, tm_sec=42, tm_wday=5, tm_yday=351, tm_isdst=0),\n",
       "   'tags': [{'term': 'Immigration', 'scheme': None, 'label': None},\n",
       "    {'term': 'USA', 'scheme': None, 'label': None},\n",
       "    {'term': 'Americas', 'scheme': None, 'label': None}],\n",
       "   'authors': [{'name': 'Victor Hugo Castillo',\n",
       "     'email': 'webdesk@voanews.com'}],\n",
       "   'author': 'webdesk@voanews.com (Victor Hugo Castillo)',\n",
       "   'author_detail': {'name': 'Victor Hugo Castillo',\n",
       "    'email': 'webdesk@voanews.com'}},\n",
       "  {'title': 'VOA Immigration Weekly Recap, December 11–17',\n",
       "   'title_detail': {'type': 'text/plain',\n",
       "    'language': None,\n",
       "    'base': 'https://www.voanews.com/api/zgvmqye_o_qv',\n",
       "    'value': 'VOA Immigration Weekly Recap, December 11–17'},\n",
       "   'summary': \"Editor's note: Here is a look at immigration-related news around the U.S. this week. Questions? Tips? Comments? Email the VOA immigration team: ImmigrationUnit@voanews.com.\\n\\n\\n\\nUS Revives Refugee-, Migrant-Support Task Force \\n\\n\\nThe U.S. government is bringing back a commission aimed at helping immigrants integrate in the U.S. through language learning, workforce training and financial education programs. The effort will assist newcomers under legal status in the United States, according to Brandon Prelogar, special adviser for humanitarian protection and refugees at the White House Domestic Policy Council (DPC), in a Monday interview with VOA. Immigration reporter Aline Barros has the story with VOA’s LATAM White House correspondent Jorge Agobian.\\n\\n\\nEnd of Title 42 Looming, US Immigration Agency Releases Detailed Assessment\\n\\n\\nWith the imminent sidelining of Title 42 — a pandemic-era restriction that blocked migrants from seeking asylum in the U.S. — the Department of Homeland Security (DHS) recently outlined steps it will take at the U.S.-Mexico border if the order is lifted. A federal judge in Washington ordered enforcement of Title 42 to end December 21. Republican-led states filed an appeal asking the court to keep it in place. The Biden administration also has challenged parts of the ruling ending the Trump-era asylum restrictions. VOA’s immigration reporter Aline Barros reports.\\n\\n\\nIn pictures:\\n\\n\\n\\n\\nImmigration around the world\\n\\n\\nUN: Climate of Oppression Intensifies in Nicaragua \\n\\n\\nU.N. High Commissioner for Human Rights Volker Tuerk warns people's rights and freedoms in Nicaragua are being whittled away by the increasingly authoritarian government of President Daniel Ortega. The high commissioner presented an update Thursday on the situation to the U.N. Human Rights Council. Lisa Schlein reports for VOA from Geneva.\\n\\n\\n509 Migrants Arrive in Italy as Rescue Ships Dock \\n\\n\\nItaly, which has vowed a tough line on immigration, took in more than 500 migrants Sunday as two charity rescue ships were allowed to dock at ports in the south of the country after several days at sea in bad weather, Reuters reports.\\n\\n\\n27 Suspected Ethiopian Migrants Found Dead in Zambia \\n\\n\\nZambian police Sunday found the bodies of 27 men, believed to be migrants from Ethiopia, dumped in a farming area on the outskirts of the capital. Authorities said they died from suspected hunger and exhaustion, Reuters reports.\\n\\n\\nAfghan Academic Rebuilds Her Life in Italy, Dreams of Returning \\n\\n\\nBatool Haidari was a prominent sexology professor at a Kabul university before the Taliban takeover of Afghanistan. She taught mixed classes of male and female students and helped patients struggling with gender identity issues, The Associated Press reports.\\n\\n\\nNews Brief\\n\\n\\n— The U.S. Department of Homeland Security Secretary released a statement on the agency's plan for the end of Title 42. “The Title 42 public health order remains in place\\u202fthrough December 20, 2022, and until then, DHS will continue to expel single adults and families encountered at the southwest border under that authority.”\\n\\n\\n— The U.S. Citizenship and Immigration Services (USCIS) plans to conduct a trial for updates to the current naturalization test. “The naturalization test is a key step in becoming a U.S. citizen. We welcome input from – and the participation of – stakeholders who are familiar with this important process, as we continue to improve and update our naturalization test, ensuring that it is consistent with industry testing standards,” USCIS Director Ur M. Jaddou said in a statement.\",\n",
       "   'summary_detail': {'type': 'text/html',\n",
       "    'language': None,\n",
       "    'base': 'https://www.voanews.com/api/zgvmqye_o_qv',\n",
       "    'value': \"Editor's note: Here is a look at immigration-related news around the U.S. this week. Questions? Tips? Comments? Email the VOA immigration team: ImmigrationUnit@voanews.com.\\n\\n\\n\\nUS Revives Refugee-, Migrant-Support Task Force \\n\\n\\nThe U.S. government is bringing back a commission aimed at helping immigrants integrate in the U.S. through language learning, workforce training and financial education programs. The effort will assist newcomers under legal status in the United States, according to Brandon Prelogar, special adviser for humanitarian protection and refugees at the White House Domestic Policy Council (DPC), in a Monday interview with VOA. Immigration reporter Aline Barros has the story with VOA’s LATAM White House correspondent Jorge Agobian.\\n\\n\\nEnd of Title 42 Looming, US Immigration Agency Releases Detailed Assessment\\n\\n\\nWith the imminent sidelining of Title 42 — a pandemic-era restriction that blocked migrants from seeking asylum in the U.S. — the Department of Homeland Security (DHS) recently outlined steps it will take at the U.S.-Mexico border if the order is lifted. A federal judge in Washington ordered enforcement of Title 42 to end December 21. Republican-led states filed an appeal asking the court to keep it in place. The Biden administration also has challenged parts of the ruling ending the Trump-era asylum restrictions. VOA’s immigration reporter Aline Barros reports.\\n\\n\\nIn pictures:\\n\\n\\n\\n\\nImmigration around the world\\n\\n\\nUN: Climate of Oppression Intensifies in Nicaragua \\n\\n\\nU.N. High Commissioner for Human Rights Volker Tuerk warns people's rights and freedoms in Nicaragua are being whittled away by the increasingly authoritarian government of President Daniel Ortega. The high commissioner presented an update Thursday on the situation to the U.N. Human Rights Council. Lisa Schlein reports for VOA from Geneva.\\n\\n\\n509 Migrants Arrive in Italy as Rescue Ships Dock \\n\\n\\nItaly, which has vowed a tough line on immigration, took in more than 500 migrants Sunday as two charity rescue ships were allowed to dock at ports in the south of the country after several days at sea in bad weather, Reuters reports.\\n\\n\\n27 Suspected Ethiopian Migrants Found Dead in Zambia \\n\\n\\nZambian police Sunday found the bodies of 27 men, believed to be migrants from Ethiopia, dumped in a farming area on the outskirts of the capital. Authorities said they died from suspected hunger and exhaustion, Reuters reports.\\n\\n\\nAfghan Academic Rebuilds Her Life in Italy, Dreams of Returning \\n\\n\\nBatool Haidari was a prominent sexology professor at a Kabul university before the Taliban takeover of Afghanistan. She taught mixed classes of male and female students and helped patients struggling with gender identity issues, The Associated Press reports.\\n\\n\\nNews Brief\\n\\n\\n— The U.S. Department of Homeland Security Secretary released a statement on the agency's plan for the end of Title 42. “The Title 42 public health order remains in place\\u202fthrough December 20, 2022, and until then, DHS will continue to expel single adults and families encountered at the southwest border under that authority.”\\n\\n\\n— The U.S. Citizenship and Immigration Services (USCIS) plans to conduct a trial for updates to the current naturalization test. “The naturalization test is a key step in becoming a U.S. citizen. We welcome input from – and the participation of – stakeholders who are familiar with this important process, as we continue to improve and update our naturalization test, ensuring that it is consistent with industry testing standards,” USCIS Director Ur M. Jaddou said in a statement.\"},\n",
       "   'links': [{'rel': 'alternate',\n",
       "     'type': 'text/html',\n",
       "     'href': 'https://www.voanews.com/a/voa-immigration-weekly-recap-december-11-17-/6880049.html'},\n",
       "    {'length': '0',\n",
       "     'type': 'image/jpeg',\n",
       "     'href': 'https://gdb.voanews.com/09410000-0a00-0242-99fc-08dadfab4336_w800_h450.jpg',\n",
       "     'rel': 'enclosure'}],\n",
       "   'link': 'https://www.voanews.com/a/voa-immigration-weekly-recap-december-11-17-/6880049.html',\n",
       "   'id': 'https://www.voanews.com/a/voa-immigration-weekly-recap-december-11-17-/6880049.html',\n",
       "   'guidislink': False,\n",
       "   'published': 'Fri, 16 Dec 2022 16:53:40 -0500',\n",
       "   'published_parsed': time.struct_time(tm_year=2022, tm_mon=12, tm_mday=16, tm_hour=21, tm_min=53, tm_sec=40, tm_wday=4, tm_yday=350, tm_isdst=0),\n",
       "   'tags': [{'term': 'Immigration', 'scheme': None, 'label': None}],\n",
       "   'authors': [{'name': 'Aline Barros', 'email': 'webdesk@voanews.com'}],\n",
       "   'author': 'webdesk@voanews.com (Aline Barros)',\n",
       "   'author_detail': {'name': 'Aline Barros', 'email': 'webdesk@voanews.com'}},\n",
       "  {'title': 'Migrant Caravan Arriving at US Southern Border',\n",
       "   'title_detail': {'type': 'text/plain',\n",
       "    'language': None,\n",
       "    'base': 'https://www.voanews.com/api/zgvmqye_o_qv',\n",
       "    'value': 'Migrant Caravan Arriving at US Southern Border'},\n",
       "   'summary': 'Thousands of migrants are in the Mexican border city of Ciudad Juarez — just south of El Paso, Texas — awaiting the December 21 end of Title 42, a Trump-era policy allowing the swift expulsion of migrants at the U.S. border. Cesar Contreras reports from Ciudad Juarez, Mexico.',\n",
       "   'summary_detail': {'type': 'text/html',\n",
       "    'language': None,\n",
       "    'base': 'https://www.voanews.com/api/zgvmqye_o_qv',\n",
       "    'value': 'Thousands of migrants are in the Mexican border city of Ciudad Juarez — just south of El Paso, Texas — awaiting the December 21 end of Title 42, a Trump-era policy allowing the swift expulsion of migrants at the U.S. border. Cesar Contreras reports from Ciudad Juarez, Mexico.'},\n",
       "   'links': [{'rel': 'alternate',\n",
       "     'type': 'text/html',\n",
       "     'href': 'https://www.voanews.com/a/migrant-caravan-arriving-at-us-southern-border-/6878434.html'},\n",
       "    {'length': '0',\n",
       "     'type': 'image/jpeg',\n",
       "     'href': 'https://gdb.voanews.com/09410000-0a00-0242-a651-08dadeebb6ed_tv_w800_h450.jpg',\n",
       "     'rel': 'enclosure'}],\n",
       "   'link': 'https://www.voanews.com/a/migrant-caravan-arriving-at-us-southern-border-/6878434.html',\n",
       "   'id': 'https://www.voanews.com/a/migrant-caravan-arriving-at-us-southern-border-/6878434.html',\n",
       "   'guidislink': False,\n",
       "   'published': 'Thu, 15 Dec 2022 18:10:39 -0500',\n",
       "   'published_parsed': time.struct_time(tm_year=2022, tm_mon=12, tm_mday=15, tm_hour=23, tm_min=10, tm_sec=39, tm_wday=3, tm_yday=349, tm_isdst=0),\n",
       "   'tags': [{'term': 'USA', 'scheme': None, 'label': None},\n",
       "    {'term': 'Americas', 'scheme': None, 'label': None},\n",
       "    {'term': 'Immigration', 'scheme': None, 'label': None}],\n",
       "   'authors': [{'name': 'Cesar Contreras', 'email': 'webdesk@voanews.com'}],\n",
       "   'author': 'webdesk@voanews.com (Cesar Contreras)',\n",
       "   'author_detail': {'name': 'Cesar Contreras',\n",
       "    'email': 'webdesk@voanews.com'}},\n",
       "  {'title': 'End of Title 42 Looming, US Immigration Agency Releases Detailed Assessment',\n",
       "   'title_detail': {'type': 'text/plain',\n",
       "    'language': None,\n",
       "    'base': 'https://www.voanews.com/api/zgvmqye_o_qv',\n",
       "    'value': 'End of Title 42 Looming, US Immigration Agency Releases Detailed Assessment'},\n",
       "   'summary': 'With the imminent sidelining of Title 42 — a pandemic-era restriction that blocked migrants from seeking asylum in the U.S. — the Department of Homeland Security (DHS) recently outlined steps it will take at the U.S.-Mexico border if the order is lifted.\\n\\n\\nA federal judge in Washington ordered enforcement of Title 42 to end on December 21. Republican-led states filed an appeal asking the court to keep it in place. The Biden administration also has challenged parts of the ruling ending the Trump-era asylum restrictions.\\n\\n\\n\\n\\nIn a detailed assessment ahead of the guideline shift, the DHS said the agency is already executing plans to manage an increased flow of migrants at the U.S.-Mexico border, including the use of expedited removal under the Title 8 authority.\\n\\n\\n“Among other things, Title 8 provides that individuals who cross the border without legal authorization are processed for removal and, if unable to establish a legal basis to remain in the United States, promptly removed from the country,” according to DHS.\\n\\n\\n\\n\\nWhile both parties wait for the judge\\'s decision, migrant advocates in Reynosa, Mexico, told VOA that about 750 migrants a day have arrived in the last few days.\\n\\n\\nHector Silva, a pastor in the area who also operates one of the largest migrant shelters south of the border, Senda de Vida, or \"Path of Life,” told VOA that advocates and volunteers have been helping about 14,000 families in the last few weeks.\\n\\n\\n“We have seen in past years that people get encouraged to come and then they do not know where to go,\" Silva said in Spanish. \"And what is happening right now from Tijuana to Matamoros is that people are waiting, and they have been waiting for months. [Some] have been waiting for years. And we tell them one thing: do not risk yourselves. Do not come without knowing what you will face at the border.”\\xa0\\n\\n\\nAccording to U.S. Customs and Border Protection (CBP) in the Rio Grande Valley sector, about 1,800 migrants turned themselves in to authorities during a 48-hour period after crossing from Ciudad Juarez, Mexico, to El Paso, Texas, indicating that a considerable number of people who were already in Ciudad Juarez joined the new arrivals to cross the border together.\\n\\n\\nMarco Antonio Diaz, from Honduras, is one of those people. Sitting on a dirt road along with his pregnant wife and small child, Diaz told VOA that lifting the health order gives them hope and courage.\\n\\n\\n“The truth is that it makes us happy because we want to cross to the other side to work,\" he said.\\n\\n\\nDíaz, his family, along with elderly people, people with disabilities, and other children, have slept in tents, and because of heavy rains in the region in the past few days, have endured low temperatures.\\n\\n\\n\"It has rained a lot,\" he said \"There was a night that it rained so much that we got very wet and very cold.”\\n\\n\\nThe seven-page preparedness update released by the DHS this week takes note of the agency’s successes, which include faster processing for migrants in custody at the southern border, an increase in staff, more criminal prosecutions of smugglers, and more temporary detention tents.\\n\\n\\nHowever, the update does not mention any major changes in how the agency will deal with large numbers of migrants entering the country to ask for asylum.\\xa0\\n\\n\\nSince March 2020, U.S. border authorities have used Title 42 to deny entry to millions of would-be asylum seekers on the basis that allowing them in could increase the spread of COVID-19.\\n\\n\\nPer CBP data, Title 42 has been used in most of the estimated 2.38 million encounters with migrants in fiscal year 2022.\\n\\n\\nThe data indicate that 1,079,507 were expelled and 1,299,437 were processed under Title 8 authority.\\n\\n\\nNot every encounter is a unique apprehension, as some migrants have tried to cross multiple times.\\n\\n\\nIn various reports, U.S. border officials and immigration advocates say border numbers reflect economic deterioration and political conditions in some countries driving people to make their way to the southern U.S. border.\\n\\n\\nIn fiscal year 2023, which began October 1, U.S. border officials registered 230,678 migrant encounters. Of those, 78,477 were expelled. The rest were either detained, allowed to seek asylum, paroled, or swiftly deported under expedited removal.\\xa0\\n\\n\\nEfforts to end Title 42\\xa0\\n\\n\\nThe Biden administration first attempted to end Title 42 in May, but efforts were stopped when Republican-led states sued and a federal court in Louisiana preliminarily agreed with the states.\\xa0\\n\\n\\nThe U.S. Department of Justice then filed an appeal and argued the Biden administration’s decision to lift the regulation was legal.\\n\\n\\nThe Louisiana federal judge said in his ruling that not only had the Biden administration violated administrative procedure laws, but also that ending Title 42 would cause “irreparable harm” since the Republican-led states were expected to spend resources on law enforcement, education, and other services to assist newly arrived migrants.\\n\\n\\nStill, federal law allows people from other countries to seek asylum in the United States if they fear persecution at home based on race, religion, nationality, membership in a particular social group, or political opinion.\\n\\n\\n\\n\\nIn a statement after the ruling, the DHS said Title 42 is not an immigration control tool but a public health order, but that it “will comply with the court’s order to continue enforcing the Centers for Disease Control and Prevention’s Title 42 Order as long as it remains in place.”\\n\\n\\nAt the time, Luis Miranda, a CBP spokesperson, told VOA that officials were preparing to \"simply go back to processing any encounters across the border the way we always have under Title 8, which is the immigration authority that has always been in place throughout the history of U.S. Customs and Border Protection.\"\\n\\n\\nMiranda said the U.S. government was expecting arrivals to increase at the southern border but added that those unable to establish a legal basis to remain in the United States will be removed.\\n\\n\\n\"We\\'ve been planning for that. … And to process any encounters effectively, and humanely. But ultimately, if someone is trying to come in without legal authorization and doesn\\'t have the legal basis to stay, they will be placed in removal proceedings,\" he said.\\n\\n\\nVOA contacted CBP officials for an update, but as of Thursday morning had not received a reply.',\n",
       "   'summary_detail': {'type': 'text/html',\n",
       "    'language': None,\n",
       "    'base': 'https://www.voanews.com/api/zgvmqye_o_qv',\n",
       "    'value': 'With the imminent sidelining of Title 42 — a pandemic-era restriction that blocked migrants from seeking asylum in the U.S. — the Department of Homeland Security (DHS) recently outlined steps it will take at the U.S.-Mexico border if the order is lifted.\\n\\n\\nA federal judge in Washington ordered enforcement of Title 42 to end on December 21. Republican-led states filed an appeal asking the court to keep it in place. The Biden administration also has challenged parts of the ruling ending the Trump-era asylum restrictions.\\n\\n\\n\\n\\nIn a detailed assessment ahead of the guideline shift, the DHS said the agency is already executing plans to manage an increased flow of migrants at the U.S.-Mexico border, including the use of expedited removal under the Title 8 authority.\\n\\n\\n“Among other things, Title 8 provides that individuals who cross the border without legal authorization are processed for removal and, if unable to establish a legal basis to remain in the United States, promptly removed from the country,” according to DHS.\\n\\n\\n\\n\\nWhile both parties wait for the judge\\'s decision, migrant advocates in Reynosa, Mexico, told VOA that about 750 migrants a day have arrived in the last few days.\\n\\n\\nHector Silva, a pastor in the area who also operates one of the largest migrant shelters south of the border, Senda de Vida, or \"Path of Life,” told VOA that advocates and volunteers have been helping about 14,000 families in the last few weeks.\\n\\n\\n“We have seen in past years that people get encouraged to come and then they do not know where to go,\" Silva said in Spanish. \"And what is happening right now from Tijuana to Matamoros is that people are waiting, and they have been waiting for months. [Some] have been waiting for years. And we tell them one thing: do not risk yourselves. Do not come without knowing what you will face at the border.”\\xa0\\n\\n\\nAccording to U.S. Customs and Border Protection (CBP) in the Rio Grande Valley sector, about 1,800 migrants turned themselves in to authorities during a 48-hour period after crossing from Ciudad Juarez, Mexico, to El Paso, Texas, indicating that a considerable number of people who were already in Ciudad Juarez joined the new arrivals to cross the border together.\\n\\n\\nMarco Antonio Diaz, from Honduras, is one of those people. Sitting on a dirt road along with his pregnant wife and small child, Diaz told VOA that lifting the health order gives them hope and courage.\\n\\n\\n“The truth is that it makes us happy because we want to cross to the other side to work,\" he said.\\n\\n\\nDíaz, his family, along with elderly people, people with disabilities, and other children, have slept in tents, and because of heavy rains in the region in the past few days, have endured low temperatures.\\n\\n\\n\"It has rained a lot,\" he said \"There was a night that it rained so much that we got very wet and very cold.”\\n\\n\\nThe seven-page preparedness update released by the DHS this week takes note of the agency’s successes, which include faster processing for migrants in custody at the southern border, an increase in staff, more criminal prosecutions of smugglers, and more temporary detention tents.\\n\\n\\nHowever, the update does not mention any major changes in how the agency will deal with large numbers of migrants entering the country to ask for asylum.\\xa0\\n\\n\\nSince March 2020, U.S. border authorities have used Title 42 to deny entry to millions of would-be asylum seekers on the basis that allowing them in could increase the spread of COVID-19.\\n\\n\\nPer CBP data, Title 42 has been used in most of the estimated 2.38 million encounters with migrants in fiscal year 2022.\\n\\n\\nThe data indicate that 1,079,507 were expelled and 1,299,437 were processed under Title 8 authority.\\n\\n\\nNot every encounter is a unique apprehension, as some migrants have tried to cross multiple times.\\n\\n\\nIn various reports, U.S. border officials and immigration advocates say border numbers reflect economic deterioration and political conditions in some countries driving people to make their way to the southern U.S. border.\\n\\n\\nIn fiscal year 2023, which began October 1, U.S. border officials registered 230,678 migrant encounters. Of those, 78,477 were expelled. The rest were either detained, allowed to seek asylum, paroled, or swiftly deported under expedited removal.\\xa0\\n\\n\\nEfforts to end Title 42\\xa0\\n\\n\\nThe Biden administration first attempted to end Title 42 in May, but efforts were stopped when Republican-led states sued and a federal court in Louisiana preliminarily agreed with the states.\\xa0\\n\\n\\nThe U.S. Department of Justice then filed an appeal and argued the Biden administration’s decision to lift the regulation was legal.\\n\\n\\nThe Louisiana federal judge said in his ruling that not only had the Biden administration violated administrative procedure laws, but also that ending Title 42 would cause “irreparable harm” since the Republican-led states were expected to spend resources on law enforcement, education, and other services to assist newly arrived migrants.\\n\\n\\nStill, federal law allows people from other countries to seek asylum in the United States if they fear persecution at home based on race, religion, nationality, membership in a particular social group, or political opinion.\\n\\n\\n\\n\\nIn a statement after the ruling, the DHS said Title 42 is not an immigration control tool but a public health order, but that it “will comply with the court’s order to continue enforcing the Centers for Disease Control and Prevention’s Title 42 Order as long as it remains in place.”\\n\\n\\nAt the time, Luis Miranda, a CBP spokesperson, told VOA that officials were preparing to \"simply go back to processing any encounters across the border the way we always have under Title 8, which is the immigration authority that has always been in place throughout the history of U.S. Customs and Border Protection.\"\\n\\n\\nMiranda said the U.S. government was expecting arrivals to increase at the southern border but added that those unable to establish a legal basis to remain in the United States will be removed.\\n\\n\\n\"We\\'ve been planning for that. … And to process any encounters effectively, and humanely. But ultimately, if someone is trying to come in without legal authorization and doesn\\'t have the legal basis to stay, they will be placed in removal proceedings,\" he said.\\n\\n\\nVOA contacted CBP officials for an update, but as of Thursday morning had not received a reply.'},\n",
       "   'links': [{'rel': 'alternate',\n",
       "     'type': 'text/html',\n",
       "     'href': 'https://www.voanews.com/a/end-of-title-42-looming-us-immigration-agency-releases-detailed-assessment-/6878218.html'},\n",
       "    {'length': '0',\n",
       "     'type': 'image/jpeg',\n",
       "     'href': 'https://gdb.voanews.com/013b0000-0aff-0242-7c07-08dab6b0ba6d_w800_h450.jpg',\n",
       "     'rel': 'enclosure'}],\n",
       "   'link': 'https://www.voanews.com/a/end-of-title-42-looming-us-immigration-agency-releases-detailed-assessment-/6878218.html',\n",
       "   'id': 'https://www.voanews.com/a/end-of-title-42-looming-us-immigration-agency-releases-detailed-assessment-/6878218.html',\n",
       "   'guidislink': False,\n",
       "   'published': 'Thu, 15 Dec 2022 15:56:46 -0500',\n",
       "   'published_parsed': time.struct_time(tm_year=2022, tm_mon=12, tm_mday=15, tm_hour=20, tm_min=56, tm_sec=46, tm_wday=3, tm_yday=349, tm_isdst=0),\n",
       "   'tags': [{'term': 'USA', 'scheme': None, 'label': None},\n",
       "    {'term': 'Americas', 'scheme': None, 'label': None},\n",
       "    {'term': 'Immigration', 'scheme': None, 'label': None}],\n",
       "   'authors': [{'name': 'Aline Barros', 'email': 'webdesk@voanews.com'}],\n",
       "   'author': 'webdesk@voanews.com (Aline Barros)',\n",
       "   'author_detail': {'name': 'Aline Barros', 'email': 'webdesk@voanews.com'}},\n",
       "  {'title': 'US Revives Refugee-, Migrant-Support Task Force',\n",
       "   'title_detail': {'type': 'text/plain',\n",
       "    'language': None,\n",
       "    'base': 'https://www.voanews.com/api/zgvmqye_o_qv',\n",
       "    'value': 'US Revives Refugee-, Migrant-Support Task Force'},\n",
       "   'summary': 'The U.S. government is bringing back a commission aimed at helping immigrants integrate in the U.S. through language learning, workforce training and financial education programs.\\n\\n\\nThe effort will assist newcomers under legal status in the United States, according to Brandon Prelogar, special adviser for humanitarian protection and refugees at the White House Domestic Policy Council (DPC), in a Monday interview with VOA.\\n\\n\\n\"The focus is, of course, on any and all legal immigrants and refugees. We are talking about newcomers who are here in a lawful status and likely to remain,\" Prelogar said.\\n\\n\\nThe task force on New Americans is coordinated by the White House through the DPC, with the support of 20 other federal agencies, local governments and nonprofit organizations, the official said.\\n\\n\\nPresident Joe Biden announced the request to restore it through a February 2021 executive order.\\n\\n\\n\"Took a little longer than we would have liked\" to see it reconstituted, said Prelogar, adding that the purpose is to ensure the \"best possible welcome.\"\\n\\n\\nThe task force was originally launched in 2014 during the Obama administration, but it was discontinued by former President Donald Trump.\\n\\n\\nThe announcement comes as the Biden administration is facing a record increase in migrants arriving irregularly at the U.S.-Mexico border, but Prelogar said the new program \"is not about the border,\" but rather part of an effort to \"ensure that legal immigrants are welcome in our communities and that they receive the support they need to lead successful lives in the country and that they contribute fully.\"\\n\\n\\nRepublican governors and lawmakers have blamed Biden for what they see as an unprecedented humanitarian crisis on the southern border; some of them have requested to extend the legality of the Title 42 guideline — a public health policy first implemented under the previous administration to expel people seeking asylum.\\n\\n\\nThere were nearly 2.4 million migrant arrests in fiscal year 2022, but not every arrest is a unique migrant encounter as the total number includes those who made repeated attempts during the same fiscal year.\\n\\n\\nWorking together with other federal agencies and nonprofits, the working group is focused on examining current immigrant integration policies and identifying areas with deficiencies.\\n\\n\\nOther efforts\\n\\n\\nAlso on Monday, Secretary of State Antony Blinken participated in a memorandum of understanding signing ceremony with the Tent Partnership for Refugees — a nonprofit that urges the business community to hire refugees all over the world.\\n\\n\\n\\n\\nBlinken said the partnership seeks to mobilize U.S. and international businesses to offer refugees work opportunities, often an important step in the long-term economic and social resettlement for refugees and the communities that welcome them.\\n\\n\\n\"One of the things that we all know is that the journey isn\\'t over, even when they arrive at the destination: finding a home, learning the language, seeking a job, getting kids into school, building a community; all of these steps are essential for refugees to build new lives in new lands,\" Blinken said.\\n\\n\\nFounded by Hamdi Ulukaya, the founder of Chobani, the Tent Partnership for Refugees is a coalition made up of 250 multinational companies committed to supporting refugees through hiring, training and mentorship.\\n\\n\\n\"The most important moment for a refugee is the moment they get a job, and that is the moment they stop being a refugee,\" Ulukaya said.',\n",
       "   'summary_detail': {'type': 'text/html',\n",
       "    'language': None,\n",
       "    'base': 'https://www.voanews.com/api/zgvmqye_o_qv',\n",
       "    'value': 'The U.S. government is bringing back a commission aimed at helping immigrants integrate in the U.S. through language learning, workforce training and financial education programs.\\n\\n\\nThe effort will assist newcomers under legal status in the United States, according to Brandon Prelogar, special adviser for humanitarian protection and refugees at the White House Domestic Policy Council (DPC), in a Monday interview with VOA.\\n\\n\\n\"The focus is, of course, on any and all legal immigrants and refugees. We are talking about newcomers who are here in a lawful status and likely to remain,\" Prelogar said.\\n\\n\\nThe task force on New Americans is coordinated by the White House through the DPC, with the support of 20 other federal agencies, local governments and nonprofit organizations, the official said.\\n\\n\\nPresident Joe Biden announced the request to restore it through a February 2021 executive order.\\n\\n\\n\"Took a little longer than we would have liked\" to see it reconstituted, said Prelogar, adding that the purpose is to ensure the \"best possible welcome.\"\\n\\n\\nThe task force was originally launched in 2014 during the Obama administration, but it was discontinued by former President Donald Trump.\\n\\n\\nThe announcement comes as the Biden administration is facing a record increase in migrants arriving irregularly at the U.S.-Mexico border, but Prelogar said the new program \"is not about the border,\" but rather part of an effort to \"ensure that legal immigrants are welcome in our communities and that they receive the support they need to lead successful lives in the country and that they contribute fully.\"\\n\\n\\nRepublican governors and lawmakers have blamed Biden for what they see as an unprecedented humanitarian crisis on the southern border; some of them have requested to extend the legality of the Title 42 guideline — a public health policy first implemented under the previous administration to expel people seeking asylum.\\n\\n\\nThere were nearly 2.4 million migrant arrests in fiscal year 2022, but not every arrest is a unique migrant encounter as the total number includes those who made repeated attempts during the same fiscal year.\\n\\n\\nWorking together with other federal agencies and nonprofits, the working group is focused on examining current immigrant integration policies and identifying areas with deficiencies.\\n\\n\\nOther efforts\\n\\n\\nAlso on Monday, Secretary of State Antony Blinken participated in a memorandum of understanding signing ceremony with the Tent Partnership for Refugees — a nonprofit that urges the business community to hire refugees all over the world.\\n\\n\\n\\n\\nBlinken said the partnership seeks to mobilize U.S. and international businesses to offer refugees work opportunities, often an important step in the long-term economic and social resettlement for refugees and the communities that welcome them.\\n\\n\\n\"One of the things that we all know is that the journey isn\\'t over, even when they arrive at the destination: finding a home, learning the language, seeking a job, getting kids into school, building a community; all of these steps are essential for refugees to build new lives in new lands,\" Blinken said.\\n\\n\\nFounded by Hamdi Ulukaya, the founder of Chobani, the Tent Partnership for Refugees is a coalition made up of 250 multinational companies committed to supporting refugees through hiring, training and mentorship.\\n\\n\\n\"The most important moment for a refugee is the moment they get a job, and that is the moment they stop being a refugee,\" Ulukaya said.'},\n",
       "   'links': [{'rel': 'alternate',\n",
       "     'type': 'text/html',\n",
       "     'href': 'https://www.voanews.com/a/us-revives-refugee--migrant-support-task-force/6873414.html'},\n",
       "    {'length': '0',\n",
       "     'type': 'image/jpeg',\n",
       "     'href': 'https://gdb.voanews.com/7B643496-2511-4DE0-BE04-2E0E44540B84_w800_h450.jpg',\n",
       "     'rel': 'enclosure'}],\n",
       "   'link': 'https://www.voanews.com/a/us-revives-refugee--migrant-support-task-force/6873414.html',\n",
       "   'id': 'https://www.voanews.com/a/us-revives-refugee--migrant-support-task-force/6873414.html',\n",
       "   'guidislink': False,\n",
       "   'published': 'Mon, 12 Dec 2022 19:13:39 -0500',\n",
       "   'published_parsed': time.struct_time(tm_year=2022, tm_mon=12, tm_mday=13, tm_hour=0, tm_min=13, tm_sec=39, tm_wday=1, tm_yday=347, tm_isdst=0),\n",
       "   'tags': [{'term': 'Immigration', 'scheme': None, 'label': None}],\n",
       "   'authors': [{'name': 'Aline Barros, Jorge Agobian',\n",
       "     'email': 'webdesk@voanews.com'}],\n",
       "   'author': 'webdesk@voanews.com (Aline Barros, Jorge Agobian)',\n",
       "   'author_detail': {'name': 'Aline Barros, Jorge Agobian',\n",
       "    'email': 'webdesk@voanews.com'}},\n",
       "  {'title': 'VOA Immigration Weekly Recap, Dec. 4–10',\n",
       "   'title_detail': {'type': 'text/plain',\n",
       "    'language': None,\n",
       "    'base': 'https://www.voanews.com/api/zgvmqye_o_qv',\n",
       "    'value': 'VOA Immigration Weekly Recap, Dec. 4–10'},\n",
       "   'summary': 'Editor\\'s note: Here is a look at immigration-related news around the U.S. this week. Questions? Tips? Comments? Email the VOA immigration team: ImmigrationUnit@voanews.com.\\n\\n\\nUS Appeals Ruling That Would Lift Asylum Restrictions\\n\\n\\nThe U.S. government said Wednesday it is appealing a court ruling that would otherwise lift asylum restrictions that have become the cornerstone of border enforcement in recent years, The Associated Press reports.\\n\\n\\nUS Expands Deportation Relief to About 264,000 Haitians\\n\\n\\nThe Biden administration will expand deportation relief and access to work permits for Haitians who are already in the United States, the U.S. Department of Homeland Security said Monday, as Haiti\\'s government struggles to stabilize the country. Reuters reports on the situation.\\n\\n\\nUS Homeland Security Chief Warns Borders Being Rendered Meaningless\\n\\n\\nAmerica’s borders – and borders in general – are no longer sufficient to help protect the United States from a variety of evolving threats, including foreign wars, according to a grim assessment by the country’s top Homeland Security official. Speaking less than a week after the Department of Homeland Security reissued a National Terrorism Advisory System bulletin because of a \"persistent threat environment,\" Secretary Alejandro Mayorkas warned that U.S. adversaries and criminal actors have leveraged technological advances to reach inside the country in ways that until now have never been possible. Jeff Seldin, VOA’s national security correspondent, reports.\\n\\n\\nPhiladelphia Businesses Help Ukrainian Refugees with Employment\\n\\n\\nOne of the biggest challenges for Ukrainian refugees who end up in the U.S. is finding a job. But one Ukrainian business in Philadelphia is doing what it can to help newcomers. Iryna Solomko has the story.\\n\\n\\nImmigration around the world\\n\\n\\nSpain Under Pressure Over Migrant Deaths on Moroccan Border\\n\\n\\nRights groups are pressuring Spain’s government over the deaths of at least 23 people after thousands of migrants forced their way through the European Union’s only land border with Africa between Morocco and the Spanish enclave of Melilla. Graham Keeley reports for VOA.\\n\\n\\nRohingya Rescued After Boat Strands Off Thai Coast\\n\\n\\nMyanmar’s military said Thursday more than 150 Rohingyas were rescued from a stalled boat near Thailand’s coast. Agence-France Presse quoted a junta statement saying the boat was carrying 106 men and 48 women and was spotted near an oil rig co-run by the state Myanmar Oil and Natural Gas Corporation. VOA News reports on the story.\\n\\n\\nAssociation Head Says Rohingya Still Face Genocide\\n\\n\\nThe head of a Rohingya organization urgently called for the U.N. Security Council to prevent what it described as genocide against the Rohingya in Myanmar. Tun Khin, president of the Burmese Rohingya Organization UK (BROUK), told VOA that the Rohingya in Rakhine state, Myanmar\\'s far west region, continue to face a genocidal program that puts their very survival at risk. From VOA\\'s Burmese Service, Ingyin Naing reports.\\n\\n\\nUNHCR: Conditions Deteriorate for Somalis in Dadaab Refugee Camps\\n\\n\\nThe U.N. refugee agency warns humanitarian conditions are deteriorating for tens of thousands of Somalis in Kenya’s Dadaab refugee camps as an unrelenting drought grips the Horn of Africa and funding dries up. More than 80,000 Somalis fleeing conflict and drought have arrived in Kenya’s Dadaab refugee camps over the past two years, more than 24,000 since September. Lisa Schlein reports for VOA from Geneva.\\n\\n\\nKenya Concerned by Cholera, Measles Outbreaks at Congested Refugee Camp\\n\\n\\nAid groups say measles and cholera outbreaks at Kenya\\'s congested Dadaab refugee camp have killed at least five people and sickened more than 400. The outbreaks come as thousands of Somalis have been arriving at the camp this year to escape record drought back home, stretching camp resources. Juma Majanga reports from Dadaab refugee camp in northeast Kenya. Editor\\'s note: The video has been updated to correct the timeline of the arrival of more than 80,000 Somalis.\\n\\n\\nNews Brief\\n\\n\\n— U.S. Citizenship and Immigration Services (USCIS) released data showing 1,023,200 naturalizations in fiscal 2022, the highest number of citizens the agency has naturalized since 2008.',\n",
       "   'summary_detail': {'type': 'text/html',\n",
       "    'language': None,\n",
       "    'base': 'https://www.voanews.com/api/zgvmqye_o_qv',\n",
       "    'value': 'Editor\\'s note: Here is a look at immigration-related news around the U.S. this week. Questions? Tips? Comments? Email the VOA immigration team: ImmigrationUnit@voanews.com.\\n\\n\\nUS Appeals Ruling That Would Lift Asylum Restrictions\\n\\n\\nThe U.S. government said Wednesday it is appealing a court ruling that would otherwise lift asylum restrictions that have become the cornerstone of border enforcement in recent years, The Associated Press reports.\\n\\n\\nUS Expands Deportation Relief to About 264,000 Haitians\\n\\n\\nThe Biden administration will expand deportation relief and access to work permits for Haitians who are already in the United States, the U.S. Department of Homeland Security said Monday, as Haiti\\'s government struggles to stabilize the country. Reuters reports on the situation.\\n\\n\\nUS Homeland Security Chief Warns Borders Being Rendered Meaningless\\n\\n\\nAmerica’s borders – and borders in general – are no longer sufficient to help protect the United States from a variety of evolving threats, including foreign wars, according to a grim assessment by the country’s top Homeland Security official. Speaking less than a week after the Department of Homeland Security reissued a National Terrorism Advisory System bulletin because of a \"persistent threat environment,\" Secretary Alejandro Mayorkas warned that U.S. adversaries and criminal actors have leveraged technological advances to reach inside the country in ways that until now have never been possible. Jeff Seldin, VOA’s national security correspondent, reports.\\n\\n\\nPhiladelphia Businesses Help Ukrainian Refugees with Employment\\n\\n\\nOne of the biggest challenges for Ukrainian refugees who end up in the U.S. is finding a job. But one Ukrainian business in Philadelphia is doing what it can to help newcomers. Iryna Solomko has the story.\\n\\n\\nImmigration around the world\\n\\n\\nSpain Under Pressure Over Migrant Deaths on Moroccan Border\\n\\n\\nRights groups are pressuring Spain’s government over the deaths of at least 23 people after thousands of migrants forced their way through the European Union’s only land border with Africa between Morocco and the Spanish enclave of Melilla. Graham Keeley reports for VOA.\\n\\n\\nRohingya Rescued After Boat Strands Off Thai Coast\\n\\n\\nMyanmar’s military said Thursday more than 150 Rohingyas were rescued from a stalled boat near Thailand’s coast. Agence-France Presse quoted a junta statement saying the boat was carrying 106 men and 48 women and was spotted near an oil rig co-run by the state Myanmar Oil and Natural Gas Corporation. VOA News reports on the story.\\n\\n\\nAssociation Head Says Rohingya Still Face Genocide\\n\\n\\nThe head of a Rohingya organization urgently called for the U.N. Security Council to prevent what it described as genocide against the Rohingya in Myanmar. Tun Khin, president of the Burmese Rohingya Organization UK (BROUK), told VOA that the Rohingya in Rakhine state, Myanmar\\'s far west region, continue to face a genocidal program that puts their very survival at risk. From VOA\\'s Burmese Service, Ingyin Naing reports.\\n\\n\\nUNHCR: Conditions Deteriorate for Somalis in Dadaab Refugee Camps\\n\\n\\nThe U.N. refugee agency warns humanitarian conditions are deteriorating for tens of thousands of Somalis in Kenya’s Dadaab refugee camps as an unrelenting drought grips the Horn of Africa and funding dries up. More than 80,000 Somalis fleeing conflict and drought have arrived in Kenya’s Dadaab refugee camps over the past two years, more than 24,000 since September. Lisa Schlein reports for VOA from Geneva.\\n\\n\\nKenya Concerned by Cholera, Measles Outbreaks at Congested Refugee Camp\\n\\n\\nAid groups say measles and cholera outbreaks at Kenya\\'s congested Dadaab refugee camp have killed at least five people and sickened more than 400. The outbreaks come as thousands of Somalis have been arriving at the camp this year to escape record drought back home, stretching camp resources. Juma Majanga reports from Dadaab refugee camp in northeast Kenya. Editor\\'s note: The video has been updated to correct the timeline of the arrival of more than 80,000 Somalis.\\n\\n\\nNews Brief\\n\\n\\n— U.S. Citizenship and Immigration Services (USCIS) released data showing 1,023,200 naturalizations in fiscal 2022, the highest number of citizens the agency has naturalized since 2008.'},\n",
       "   'links': [{'rel': 'alternate',\n",
       "     'type': 'text/html',\n",
       "     'href': 'https://www.voanews.com/a/voa-immigration-weekly-recap-dec-4-10/6871316.html'},\n",
       "    {'length': '0',\n",
       "     'type': 'image/jpeg',\n",
       "     'href': 'https://gdb.voanews.com/03370000-0aff-0242-eec4-08dadb2a634f_cx0_cy8_cw0_w800_h450.jpg',\n",
       "     'rel': 'enclosure'}],\n",
       "   'link': 'https://www.voanews.com/a/voa-immigration-weekly-recap-dec-4-10/6871316.html',\n",
       "   'id': 'https://www.voanews.com/a/voa-immigration-weekly-recap-dec-4-10/6871316.html',\n",
       "   'guidislink': False,\n",
       "   'published': 'Sat, 10 Dec 2022 22:48:38 -0500',\n",
       "   'published_parsed': time.struct_time(tm_year=2022, tm_mon=12, tm_mday=11, tm_hour=3, tm_min=48, tm_sec=38, tm_wday=6, tm_yday=345, tm_isdst=0),\n",
       "   'tags': [{'term': 'Immigration', 'scheme': None, 'label': None}],\n",
       "   'authors': [{'name': 'Aline Barros', 'email': 'webdesk@voanews.com'}],\n",
       "   'author': 'webdesk@voanews.com (Aline Barros)',\n",
       "   'author_detail': {'name': 'Aline Barros', 'email': 'webdesk@voanews.com'}},\n",
       "  {'title': 'Ethiopians in US Can Apply for Temporary Protected Status Soon',\n",
       "   'title_detail': {'type': 'text/plain',\n",
       "    'language': None,\n",
       "    'base': 'https://www.voanews.com/api/zgvmqye_o_qv',\n",
       "    'value': 'Ethiopians in US Can Apply for Temporary Protected Status Soon'},\n",
       "   'summary': 'A plan announced by the U.S. Department of Homeland Security in October to grant temporary protected status to Ethiopians temporarily inside the United States because of the war in their homeland is set to go into effect beginning Monday.\\n\\n\\n\"The United States recognizes the ongoing armed conflict and the extraordinary and temporary conditions engulfing Ethiopia, and DHS is committed to providing temporary protection to those in need,\" said Secretary of Homeland Security Alejandro Mayorkas when the plan was announced.\\n\\n\\nTemporary protected status, or TPS, is often granted to people visiting the United States temporarily, including students, business officials and tourists, who fear returning home to countries struck by conflict or natural disasters.\\n\\n\\nThey can remain in the United States, even with expired visas, as long as the TPS order is in place.\\n\\n\\nMayorkas\\' order permits Ethiopians without permanent residence or citizenship to remain in the United States up to 18 months. TPS status can be renewed, depending on the circumstances of the home country.\\n\\n\\nTo be eligible for TPS under Ethiopia’s designation, individuals must demonstrate their continuous residence in the United States since Oct. 20, 2022, and continuous physical presence in the United States since Dec. 12, 2022, according to the DHS. Individuals arriving in the United States after Oct. 20, 2022, are not eligible for TPS under this designation.\\n\\n\\nDHS said about 26,700 Ethiopians in the United States are eligible to file applications for TPS.\\n\\n\\nAccording to the U.S. Census, about 272,000 people in the United States came from Ethiopia.\\n\\n\\nThe TPS plan is poised to go into effect even as basic services like electricity and telecoms have been restored to key parts of Ethiopia’s Tigray region following the signing of a cease-fire deal a month ago, halting hostilities in nearly two years of war but most areas are still cut off from the world.\\n\\n\\nInformation for this story came from the Agence France-Presse and The Associated Press.',\n",
       "   'summary_detail': {'type': 'text/html',\n",
       "    'language': None,\n",
       "    'base': 'https://www.voanews.com/api/zgvmqye_o_qv',\n",
       "    'value': 'A plan announced by the U.S. Department of Homeland Security in October to grant temporary protected status to Ethiopians temporarily inside the United States because of the war in their homeland is set to go into effect beginning Monday.\\n\\n\\n\"The United States recognizes the ongoing armed conflict and the extraordinary and temporary conditions engulfing Ethiopia, and DHS is committed to providing temporary protection to those in need,\" said Secretary of Homeland Security Alejandro Mayorkas when the plan was announced.\\n\\n\\nTemporary protected status, or TPS, is often granted to people visiting the United States temporarily, including students, business officials and tourists, who fear returning home to countries struck by conflict or natural disasters.\\n\\n\\nThey can remain in the United States, even with expired visas, as long as the TPS order is in place.\\n\\n\\nMayorkas\\' order permits Ethiopians without permanent residence or citizenship to remain in the United States up to 18 months. TPS status can be renewed, depending on the circumstances of the home country.\\n\\n\\nTo be eligible for TPS under Ethiopia’s designation, individuals must demonstrate their continuous residence in the United States since Oct. 20, 2022, and continuous physical presence in the United States since Dec. 12, 2022, according to the DHS. Individuals arriving in the United States after Oct. 20, 2022, are not eligible for TPS under this designation.\\n\\n\\nDHS said about 26,700 Ethiopians in the United States are eligible to file applications for TPS.\\n\\n\\nAccording to the U.S. Census, about 272,000 people in the United States came from Ethiopia.\\n\\n\\nThe TPS plan is poised to go into effect even as basic services like electricity and telecoms have been restored to key parts of Ethiopia’s Tigray region following the signing of a cease-fire deal a month ago, halting hostilities in nearly two years of war but most areas are still cut off from the world.\\n\\n\\nInformation for this story came from the Agence France-Presse and The Associated Press.'},\n",
       "   'links': [{'rel': 'alternate',\n",
       "     'type': 'text/html',\n",
       "     'href': 'https://www.voanews.com/a/ethiopians-in-us-can-apply-for-temporary-protected-status-soon-/6871299.html'},\n",
       "    {'length': '0',\n",
       "     'type': 'image/jpeg',\n",
       "     'href': 'https://gdb.voanews.com/09410000-0a00-0242-85ab-08dadc615ac6_w800_h450.jpg',\n",
       "     'rel': 'enclosure'}],\n",
       "   'link': 'https://www.voanews.com/a/ethiopians-in-us-can-apply-for-temporary-protected-status-soon-/6871299.html',\n",
       "   'id': 'https://www.voanews.com/a/ethiopians-in-us-can-apply-for-temporary-protected-status-soon-/6871299.html',\n",
       "   'guidislink': False,\n",
       "   'published': 'Sat, 10 Dec 2022 21:19:05 -0500',\n",
       "   'published_parsed': time.struct_time(tm_year=2022, tm_mon=12, tm_mday=11, tm_hour=2, tm_min=19, tm_sec=5, tm_wday=6, tm_yday=345, tm_isdst=0),\n",
       "   'tags': [{'term': 'Immigration', 'scheme': None, 'label': None},\n",
       "    {'term': 'USA', 'scheme': None, 'label': None},\n",
       "    {'term': 'Africa', 'scheme': None, 'label': None}],\n",
       "   'authors': [{'name': 'Agence France-Presse',\n",
       "     'email': 'webdesk@voanews.com'}],\n",
       "   'author': 'webdesk@voanews.com (Agence France-Presse)',\n",
       "   'author_detail': {'name': 'Agence France-Presse',\n",
       "    'email': 'webdesk@voanews.com'}},\n",
       "  {'title': 'US Supreme Court to Consider Prohibition on Encouraging Illegal Immigration',\n",
       "   'title_detail': {'type': 'text/plain',\n",
       "    'language': None,\n",
       "    'base': 'https://www.voanews.com/api/zgvmqye_o_qv',\n",
       "    'value': 'US Supreme Court to Consider Prohibition on Encouraging Illegal Immigration'},\n",
       "   'summary': 'The U.S. Supreme Court agreed Friday to hear a bid by President Joe Biden\\'s administration to revive a federal law that makes it a criminal offense to encourage illegal immigration after it was struck down by a lower court as a violation of free speech rights.\\n\\n\\nThe justices took up the administration\\'s appeal of a February ruling by the San Francisco-based 9th U.S. Circuit Court of Appeals invalidating the law for infringing on rights guaranteed under the U.S. Constitution\\'s First Amendment.\\n\\n\\nThe 9th Circuit\\'s ruling threw out part of the conviction of a California man, Helaman Hansen, who had been prosecuted under the law.\\n\\n\\nThe dispute is similar to one that the Supreme Court heard, but did not resolve, in 2020. The federal government accused Hansen of deceiving undocumented immigrants between 2012 and 2016 by promising them that they could gain U.S. citizenship through an \"adult adoption\" program operated by his Sacramento-based business, Americans Helping America Chamber of Commerce.\\n\\n\\nThe government said Hansen persuaded at least 471 people to join his program, charging them each up to $10,000 even though he \"knew that the adult adoptions that he touted would not lead to U.S. citizenship.\"\\n\\n\\nHansen was convicted in 2017 of violating provisions of the federal law that bars inducing or encouraging noncitizens \"to come to, enter, or reside\" in the United States illegally, as well as mail fraud and wire fraud and was sentenced to 20 years in prison.\\n\\n\\nOn appeal, the 9th Circuit in February ruled that the encouragement law is unconstitutional because it is overly broad and criminalizes even commonplace speech that is protected by the First Amendment, such as telling undocumented immigrants, \"I encourage you to reside in the United States,\" or advising them about available social services.\\n\\n\\nThe 9th Circuit upheld Hansen\\'s other convictions and ordered that he be resentenced.\\n\\n\\nBiden\\'s administration urged the Supreme Court to hear the case, faulting the appeals court for invalidating an \"important tool for combating activities that exacerbate unlawful immigration.\"\\n\\n\\nThe case will be heard during the court\\'s current term, with a ruling due by June 2023.',\n",
       "   'summary_detail': {'type': 'text/html',\n",
       "    'language': None,\n",
       "    'base': 'https://www.voanews.com/api/zgvmqye_o_qv',\n",
       "    'value': 'The U.S. Supreme Court agreed Friday to hear a bid by President Joe Biden\\'s administration to revive a federal law that makes it a criminal offense to encourage illegal immigration after it was struck down by a lower court as a violation of free speech rights.\\n\\n\\nThe justices took up the administration\\'s appeal of a February ruling by the San Francisco-based 9th U.S. Circuit Court of Appeals invalidating the law for infringing on rights guaranteed under the U.S. Constitution\\'s First Amendment.\\n\\n\\nThe 9th Circuit\\'s ruling threw out part of the conviction of a California man, Helaman Hansen, who had been prosecuted under the law.\\n\\n\\nThe dispute is similar to one that the Supreme Court heard, but did not resolve, in 2020. The federal government accused Hansen of deceiving undocumented immigrants between 2012 and 2016 by promising them that they could gain U.S. citizenship through an \"adult adoption\" program operated by his Sacramento-based business, Americans Helping America Chamber of Commerce.\\n\\n\\nThe government said Hansen persuaded at least 471 people to join his program, charging them each up to $10,000 even though he \"knew that the adult adoptions that he touted would not lead to U.S. citizenship.\"\\n\\n\\nHansen was convicted in 2017 of violating provisions of the federal law that bars inducing or encouraging noncitizens \"to come to, enter, or reside\" in the United States illegally, as well as mail fraud and wire fraud and was sentenced to 20 years in prison.\\n\\n\\nOn appeal, the 9th Circuit in February ruled that the encouragement law is unconstitutional because it is overly broad and criminalizes even commonplace speech that is protected by the First Amendment, such as telling undocumented immigrants, \"I encourage you to reside in the United States,\" or advising them about available social services.\\n\\n\\nThe 9th Circuit upheld Hansen\\'s other convictions and ordered that he be resentenced.\\n\\n\\nBiden\\'s administration urged the Supreme Court to hear the case, faulting the appeals court for invalidating an \"important tool for combating activities that exacerbate unlawful immigration.\"\\n\\n\\nThe case will be heard during the court\\'s current term, with a ruling due by June 2023.'},\n",
       "   'links': [{'rel': 'alternate',\n",
       "     'type': 'text/html',\n",
       "     'href': 'https://www.voanews.com/a/us-supreme-court-to-consider-prohibition-on-encouraging-illegal-immigration-/6870418.html'},\n",
       "    {'length': '0',\n",
       "     'type': 'image/jpeg',\n",
       "     'href': 'https://gdb.voanews.com/022a0000-0aff-0242-ce70-08dada4c90b5_w800_h450.jpg',\n",
       "     'rel': 'enclosure'}],\n",
       "   'link': 'https://www.voanews.com/a/us-supreme-court-to-consider-prohibition-on-encouraging-illegal-immigration-/6870418.html',\n",
       "   'id': 'https://www.voanews.com/a/us-supreme-court-to-consider-prohibition-on-encouraging-illegal-immigration-/6870418.html',\n",
       "   'guidislink': False,\n",
       "   'published': 'Fri, 09 Dec 2022 20:21:29 -0500',\n",
       "   'published_parsed': time.struct_time(tm_year=2022, tm_mon=12, tm_mday=10, tm_hour=1, tm_min=21, tm_sec=29, tm_wday=5, tm_yday=344, tm_isdst=0),\n",
       "   'tags': [{'term': 'Immigration', 'scheme': None, 'label': None},\n",
       "    {'term': 'USA', 'scheme': None, 'label': None}],\n",
       "   'authors': [{'name': 'Reuters', 'email': 'webdesk@voanews.com'}],\n",
       "   'author': 'webdesk@voanews.com (Reuters)',\n",
       "   'author_detail': {'name': 'Reuters', 'email': 'webdesk@voanews.com'}},\n",
       "  {'title': 'US Appeals Ruling That Would Lift Asylum Restrictions',\n",
       "   'title_detail': {'type': 'text/plain',\n",
       "    'language': None,\n",
       "    'base': 'https://www.voanews.com/api/zgvmqye_o_qv',\n",
       "    'value': 'US Appeals Ruling That Would Lift Asylum Restrictions'},\n",
       "   'summary': 'The U.S. government said Wednesday it is appealing a court ruling that would otherwise lift asylum restrictions that have become the cornerstone of border enforcement in recent years.\\n\\n\\nThe disputed enforcement rule first took effect in March 2020, denying migrants\\' rights to seek asylum under U.S. and international law on grounds of preventing the spread of COVID-19.\\n\\n\\nThe Homeland Security Department said it would file an appeal with the U.S. Court of Appeals for the District of Columbia, challenging a November ruling by U.S. District Judge Emmet Sullivan that ordered President Joe Biden\\'s administration to lift the asylum restrictions.\\n\\n\\nThe restrictions were put in place under former President Donald Trump at the outset of the COVID-19 pandemic. The practice was authorized under Title 42 of a broader 1944 law covering public health and has been used to expel migrants more than 2.4 million times. Many of those are repeated attempts to enter the U.S.\\n\\n\\nThe appeal could scuttle a December 21 deadline set by Sullivan for his order to go into effect.\\n\\n\\nSullivan has called the expulsion of migrants under the rule \"arbitrary and capricious.\"\\n\\n\\nImmigrant rights\\' groups have argued that the use of Title 42 unjustly harms people fleeing persecution and that the pandemic was a pretext used by the Trump administration to curb immigration.\\n\\n\\n\"The Biden administration\\'s decision to appeal is unsurprising given its vigorous defense of the policy for the past two years,\" said Lee Gelernt, an attorney for the ACLU and lead counsel on its Title 42 litigation, in an email.\\n\\n\\nA coalition of conservative-leaning states wants to keep the policy in place.\\n\\n\\nThe ban has been unevenly enforced by nationality, falling largely on migrants from Guatemala, Honduras, El Salvador — as well as Mexicans — because Mexico allows them to be returned from the United States. Last month, Mexico began accepting Venezuelans who are expelled from the United States under Title 42, causing a sharp drop in Venezuelans seeking asylum at the U.S. border.\\n\\n\\nThe asylum rule has been used by the Biden administration to expel migrant families and single adults, though not children traveling alone.',\n",
       "   'summary_detail': {'type': 'text/html',\n",
       "    'language': None,\n",
       "    'base': 'https://www.voanews.com/api/zgvmqye_o_qv',\n",
       "    'value': 'The U.S. government said Wednesday it is appealing a court ruling that would otherwise lift asylum restrictions that have become the cornerstone of border enforcement in recent years.\\n\\n\\nThe disputed enforcement rule first took effect in March 2020, denying migrants\\' rights to seek asylum under U.S. and international law on grounds of preventing the spread of COVID-19.\\n\\n\\nThe Homeland Security Department said it would file an appeal with the U.S. Court of Appeals for the District of Columbia, challenging a November ruling by U.S. District Judge Emmet Sullivan that ordered President Joe Biden\\'s administration to lift the asylum restrictions.\\n\\n\\nThe restrictions were put in place under former President Donald Trump at the outset of the COVID-19 pandemic. The practice was authorized under Title 42 of a broader 1944 law covering public health and has been used to expel migrants more than 2.4 million times. Many of those are repeated attempts to enter the U.S.\\n\\n\\nThe appeal could scuttle a December 21 deadline set by Sullivan for his order to go into effect.\\n\\n\\nSullivan has called the expulsion of migrants under the rule \"arbitrary and capricious.\"\\n\\n\\nImmigrant rights\\' groups have argued that the use of Title 42 unjustly harms people fleeing persecution and that the pandemic was a pretext used by the Trump administration to curb immigration.\\n\\n\\n\"The Biden administration\\'s decision to appeal is unsurprising given its vigorous defense of the policy for the past two years,\" said Lee Gelernt, an attorney for the ACLU and lead counsel on its Title 42 litigation, in an email.\\n\\n\\nA coalition of conservative-leaning states wants to keep the policy in place.\\n\\n\\nThe ban has been unevenly enforced by nationality, falling largely on migrants from Guatemala, Honduras, El Salvador — as well as Mexicans — because Mexico allows them to be returned from the United States. Last month, Mexico began accepting Venezuelans who are expelled from the United States under Title 42, causing a sharp drop in Venezuelans seeking asylum at the U.S. border.\\n\\n\\nThe asylum rule has been used by the Biden administration to expel migrant families and single adults, though not children traveling alone.'},\n",
       "   'links': [{'rel': 'alternate',\n",
       "     'type': 'text/html',\n",
       "     'href': 'https://www.voanews.com/a/us-appeals-ruling-that-would-lift-asylum-restrictions/6867287.html'},\n",
       "    {'length': '0',\n",
       "     'type': 'image/jpeg',\n",
       "     'href': 'https://gdb.voanews.com/00bf0000-0aff-0242-9ead-08dac80afb5b_cx0_cy10_cw0_w800_h450.jpg',\n",
       "     'rel': 'enclosure'}],\n",
       "   'link': 'https://www.voanews.com/a/us-appeals-ruling-that-would-lift-asylum-restrictions/6867287.html',\n",
       "   'id': 'https://www.voanews.com/a/us-appeals-ruling-that-would-lift-asylum-restrictions/6867287.html',\n",
       "   'guidislink': False,\n",
       "   'published': 'Wed, 07 Dec 2022 19:37:34 -0500',\n",
       "   'published_parsed': time.struct_time(tm_year=2022, tm_mon=12, tm_mday=8, tm_hour=0, tm_min=37, tm_sec=34, tm_wday=3, tm_yday=342, tm_isdst=0),\n",
       "   'tags': [{'term': 'USA', 'scheme': None, 'label': None},\n",
       "    {'term': 'Americas', 'scheme': None, 'label': None},\n",
       "    {'term': 'Immigration', 'scheme': None, 'label': None}],\n",
       "   'authors': [{'name': 'Associated Press', 'email': 'webdesk@voanews.com'}],\n",
       "   'author': 'webdesk@voanews.com (Associated Press)',\n",
       "   'author_detail': {'name': 'Associated Press',\n",
       "    'email': 'webdesk@voanews.com'}},\n",
       "  {'title': 'US Expands Deportation Relief to About 264,000 Haitians',\n",
       "   'title_detail': {'type': 'text/plain',\n",
       "    'language': None,\n",
       "    'base': 'https://www.voanews.com/api/zgvmqye_o_qv',\n",
       "    'value': 'US Expands Deportation Relief to About 264,000 Haitians'},\n",
       "   'summary': 'The Biden administration will expand deportation relief and access to work permits for Haitians who are already in the United States, the U.S. Department of Homeland Security said on Monday, as Haiti\\'s government struggles to stabilize the country.\\n\\n\\nThe administration will offer Temporary Protected Status (TPS) to an estimated 264,000 Haitians for 18 months after the current designation expires in February.\\n\\n\\nOf those, about 101,000 have the status and 53,000 have pending applications, according to DHS. Another 110,000 more recent arrivals would also be covered by the new extension.\\n\\n\\nTPS provides deportation protection and permission to work to foreigners who cannot return to their home countries because of natural disasters, armed conflicts or other extraordinary factors.\\n\\n\\nArmed gangs in Haiti have expanded their power in the country following the 2021 assassination of President Jovenel Moise. Since then, Prime Minister Ariel Henry has faced challenges restoring order. The United States first designated Haiti for TPS in 2010 following an earthquake that devastated the island nation.\\n\\n\\n\\n\\nFormer Republican President Donald Trump tried to end TPS for Haiti and other countries but was blocked by federal courts. Biden, a Democrat, expanded Haiti\\'s designation in August 2021 to include Haitians who had arrived in the past decade.\\n\\n\\nIn September 2021, thousands of Haitian migrants crossed into the United States, setting up a makeshift camp in southern Texas. U.S. border agents on horseback confronted some of the migrants crossing the Rio Grande River. Photographs of the encounter triggered outrage from advocates and lawmakers.\\n\\n\\nSenate Majority Leader Chuck Schumer, a Democrat, had pushed for the extension of TPS to recent arrivals, saying that Haitians \"have been met at our doorstep with unimaginable indignity.\"',\n",
       "   'summary_detail': {'type': 'text/html',\n",
       "    'language': None,\n",
       "    'base': 'https://www.voanews.com/api/zgvmqye_o_qv',\n",
       "    'value': 'The Biden administration will expand deportation relief and access to work permits for Haitians who are already in the United States, the U.S. Department of Homeland Security said on Monday, as Haiti\\'s government struggles to stabilize the country.\\n\\n\\nThe administration will offer Temporary Protected Status (TPS) to an estimated 264,000 Haitians for 18 months after the current designation expires in February.\\n\\n\\nOf those, about 101,000 have the status and 53,000 have pending applications, according to DHS. Another 110,000 more recent arrivals would also be covered by the new extension.\\n\\n\\nTPS provides deportation protection and permission to work to foreigners who cannot return to their home countries because of natural disasters, armed conflicts or other extraordinary factors.\\n\\n\\nArmed gangs in Haiti have expanded their power in the country following the 2021 assassination of President Jovenel Moise. Since then, Prime Minister Ariel Henry has faced challenges restoring order. The United States first designated Haiti for TPS in 2010 following an earthquake that devastated the island nation.\\n\\n\\n\\n\\nFormer Republican President Donald Trump tried to end TPS for Haiti and other countries but was blocked by federal courts. Biden, a Democrat, expanded Haiti\\'s designation in August 2021 to include Haitians who had arrived in the past decade.\\n\\n\\nIn September 2021, thousands of Haitian migrants crossed into the United States, setting up a makeshift camp in southern Texas. U.S. border agents on horseback confronted some of the migrants crossing the Rio Grande River. Photographs of the encounter triggered outrage from advocates and lawmakers.\\n\\n\\nSenate Majority Leader Chuck Schumer, a Democrat, had pushed for the extension of TPS to recent arrivals, saying that Haitians \"have been met at our doorstep with unimaginable indignity.\"'},\n",
       "   'links': [{'rel': 'alternate',\n",
       "     'type': 'text/html',\n",
       "     'href': 'https://www.voanews.com/a/us-expands-deportation-relief-to-about-264-000-haitians/6863961.html'},\n",
       "    {'length': '0',\n",
       "     'type': 'image/jpeg',\n",
       "     'href': 'https://gdb.voanews.com/B8143504-ABE0-4586-9E8B-5BE5B1C4C903_cx0_cy2_cw0_w800_h450.jpg',\n",
       "     'rel': 'enclosure'}],\n",
       "   'link': 'https://www.voanews.com/a/us-expands-deportation-relief-to-about-264-000-haitians/6863961.html',\n",
       "   'id': 'https://www.voanews.com/a/us-expands-deportation-relief-to-about-264-000-haitians/6863961.html',\n",
       "   'guidislink': False,\n",
       "   'published': 'Mon, 05 Dec 2022 22:21:42 -0500',\n",
       "   'published_parsed': time.struct_time(tm_year=2022, tm_mon=12, tm_mday=6, tm_hour=3, tm_min=21, tm_sec=42, tm_wday=1, tm_yday=340, tm_isdst=0),\n",
       "   'tags': [{'term': 'Immigration', 'scheme': None, 'label': None},\n",
       "    {'term': 'USA', 'scheme': None, 'label': None}],\n",
       "   'authors': [{'name': 'Reuters', 'email': 'webdesk@voanews.com'}],\n",
       "   'author': 'webdesk@voanews.com (Reuters)',\n",
       "   'author_detail': {'name': 'Reuters', 'email': 'webdesk@voanews.com'}},\n",
       "  {'title': 'VOA Immigration Weekly Recap, Nov. 27–Dec. 3',\n",
       "   'title_detail': {'type': 'text/plain',\n",
       "    'language': None,\n",
       "    'base': 'https://www.voanews.com/api/zgvmqye_o_qv',\n",
       "    'value': 'VOA Immigration Weekly Recap, Nov. 27–Dec. 3'},\n",
       "   'summary': \"Editor's note: Here is a look at immigration-related news around the U.S. this week. Questions? Tips? Comments? Email the VOA immigration team: ImmigrationUnit@voanews.com.\\xa0\\n\\n\\nSupreme Court Wrestles with Biden's Deportation Policy\\n\\n\\nThe Supreme Court on Tuesday wrestled with a politically tinged dispute over a Biden administration policy that would prioritize deportation of people in the country illegally who pose the greatest public safety risk. The Associated Press reports. \\xa0\\n\\n\\nUS Supreme Court to Hear Immigration Policy Case\\n\\n\\nThe U.S. Supreme Court waded into the immigration debate Tuesday as it examined the Biden administration's expulsion policies for undocumented migrants, Agence France-Presse reports. \\xa0\\n\\n\\nAfghan Refugee Opens Store in Texas to Keep Culture Alive\\n\\n\\nAjmal Zazai, who fled Afghanistan after the Taliban’s takeover, now runs a store in San Antonio, Texas, selling traditional Afghan clothes and carpets. Zabiullah Ghazi has the story for VOA, narrated by Nazrana Yousufzai. Roshan Noorzai contributed.\\xa0\\n\\n\\nBeyond Qatar: Migrant Workers Are Exploited in America, Too\\n\\n\\nThe treatment of migrant workers has been highlighted during the World Cup in Qatar, where many temporary foreign workers died while building the event’s infrastructure. Advocates for immigrant workers in the U.S. note that abuses aren’t just happening overseas. The Associated Press reports.\\n\\n\\nImmigration around the world\\n\\n\\nThousands Flee Drought and Hunger in Somalia for Kenya\\n\\n\\nRaho Ali has just arrived from Somalia with four of her children at the United Nations High Commissioner for Refugees (UNHCR) transit area in Kenya's northern border town of Dadaab. The 45-year-old mother of seven said the drought in Somalia prompted her to flee and seek relief in Kenya. Three of her children got lost following an attack on them while on the treacherous journey and she has yet to locate them. Ali is among tens of thousands flocking to Kenyan camps in a new wave of drought-driven refugees. Juma Majanga reports for VOA.\\xa0\\n\\n\\nUK Says 50 Recently Arrived Migrants Found with Diphtheria\\n\\n\\nBritish health authorities have recorded 50 cases of diphtheria this year among recently arrived asylum-seekers, including one man who died after falling sick at a crowded migrant center. The U.K. Health Protection Agency said Monday that the infected people likely caught the disease in their countries of origin or during their journeys to the U.K. It said a similar increase had been seen elsewhere in Europe. The Associated Press reports.\\n\\n\\nInflux of Refugees in Kenya as Thousands Flee Drought and Hunger in Somalia\\n\\n\\nRecord drought and hunger in Somalia are driving thousands to flee to neighboring Kenya for help. Relief groups say the influx of refugees at Kenya's Dadaab camp is stretching the already overcrowded camp's resources. Juma Majanga reports from the refugee camp in Dadaab, Kenya.\\n\\n\\nNews Brief\\xa0\\n\\n\\nThe Department of Homeland Security Science and Technology Directorate launched a competition for graduate and undergraduate students across the United States and territories to participate in the 2023 Homeland Security Professional Opportunities for the Student Workforce to Experience Research internship program.\",\n",
       "   'summary_detail': {'type': 'text/html',\n",
       "    'language': None,\n",
       "    'base': 'https://www.voanews.com/api/zgvmqye_o_qv',\n",
       "    'value': \"Editor's note: Here is a look at immigration-related news around the U.S. this week. Questions? Tips? Comments? Email the VOA immigration team: ImmigrationUnit@voanews.com.\\xa0\\n\\n\\nSupreme Court Wrestles with Biden's Deportation Policy\\n\\n\\nThe Supreme Court on Tuesday wrestled with a politically tinged dispute over a Biden administration policy that would prioritize deportation of people in the country illegally who pose the greatest public safety risk. The Associated Press reports. \\xa0\\n\\n\\nUS Supreme Court to Hear Immigration Policy Case\\n\\n\\nThe U.S. Supreme Court waded into the immigration debate Tuesday as it examined the Biden administration's expulsion policies for undocumented migrants, Agence France-Presse reports. \\xa0\\n\\n\\nAfghan Refugee Opens Store in Texas to Keep Culture Alive\\n\\n\\nAjmal Zazai, who fled Afghanistan after the Taliban’s takeover, now runs a store in San Antonio, Texas, selling traditional Afghan clothes and carpets. Zabiullah Ghazi has the story for VOA, narrated by Nazrana Yousufzai. Roshan Noorzai contributed.\\xa0\\n\\n\\nBeyond Qatar: Migrant Workers Are Exploited in America, Too\\n\\n\\nThe treatment of migrant workers has been highlighted during the World Cup in Qatar, where many temporary foreign workers died while building the event’s infrastructure. Advocates for immigrant workers in the U.S. note that abuses aren’t just happening overseas. The Associated Press reports.\\n\\n\\nImmigration around the world\\n\\n\\nThousands Flee Drought and Hunger in Somalia for Kenya\\n\\n\\nRaho Ali has just arrived from Somalia with four of her children at the United Nations High Commissioner for Refugees (UNHCR) transit area in Kenya's northern border town of Dadaab. The 45-year-old mother of seven said the drought in Somalia prompted her to flee and seek relief in Kenya. Three of her children got lost following an attack on them while on the treacherous journey and she has yet to locate them. Ali is among tens of thousands flocking to Kenyan camps in a new wave of drought-driven refugees. Juma Majanga reports for VOA.\\xa0\\n\\n\\nUK Says 50 Recently Arrived Migrants Found with Diphtheria\\n\\n\\nBritish health authorities have recorded 50 cases of diphtheria this year among recently arrived asylum-seekers, including one man who died after falling sick at a crowded migrant center. The U.K. Health Protection Agency said Monday that the infected people likely caught the disease in their countries of origin or during their journeys to the U.K. It said a similar increase had been seen elsewhere in Europe. The Associated Press reports.\\n\\n\\nInflux of Refugees in Kenya as Thousands Flee Drought and Hunger in Somalia\\n\\n\\nRecord drought and hunger in Somalia are driving thousands to flee to neighboring Kenya for help. Relief groups say the influx of refugees at Kenya's Dadaab camp is stretching the already overcrowded camp's resources. Juma Majanga reports from the refugee camp in Dadaab, Kenya.\\n\\n\\nNews Brief\\xa0\\n\\n\\nThe Department of Homeland Security Science and Technology Directorate launched a competition for graduate and undergraduate students across the United States and territories to participate in the 2023 Homeland Security Professional Opportunities for the Student Workforce to Experience Research internship program.\"},\n",
       "   'links': [{'rel': 'alternate',\n",
       "     'type': 'text/html',\n",
       "     'href': 'https://www.voanews.com/a/voa-immigration-weekly-recap-nov-27-dec-3/6861494.html'},\n",
       "    {'length': '0',\n",
       "     'type': 'image/jpeg',\n",
       "     'href': 'https://gdb.voanews.com/03370000-0aff-0242-d413-08dad5aee293_cx0_cy10_cw0_w800_h450.jpg',\n",
       "     'rel': 'enclosure'}],\n",
       "   'link': 'https://www.voanews.com/a/voa-immigration-weekly-recap-nov-27-dec-3/6861494.html',\n",
       "   'id': 'https://www.voanews.com/a/voa-immigration-weekly-recap-nov-27-dec-3/6861494.html',\n",
       "   'guidislink': False,\n",
       "   'published': 'Sat, 03 Dec 2022 23:21:38 -0500',\n",
       "   'published_parsed': time.struct_time(tm_year=2022, tm_mon=12, tm_mday=4, tm_hour=4, tm_min=21, tm_sec=38, tm_wday=6, tm_yday=338, tm_isdst=0),\n",
       "   'tags': [{'term': 'Immigration', 'scheme': None, 'label': None},\n",
       "    {'term': 'USA', 'scheme': None, 'label': None}],\n",
       "   'authors': [{'name': 'Aline Barros', 'email': 'webdesk@voanews.com'}],\n",
       "   'author': 'webdesk@voanews.com (Aline Barros)',\n",
       "   'author_detail': {'name': 'Aline Barros', 'email': 'webdesk@voanews.com'}},\n",
       "  {'title': 'Biden Weighs Reviving Trump-era Immigration Restrictions, Officials Say',\n",
       "   'title_detail': {'type': 'text/plain',\n",
       "    'language': None,\n",
       "    'base': 'https://www.voanews.com/api/zgvmqye_o_qv',\n",
       "    'value': 'Biden Weighs Reviving Trump-era Immigration Restrictions, Officials Say'},\n",
       "   'summary': 'U.S. President Joe Biden\\'s administration would make it harder to seek asylum at the U.S.-Mexico border under several plans being considered that bear similarities to policies pushed by former President Donald Trump.\\n\\n\\nTwo Department of Homeland Security officials and a person familiar with the matter said the administration is discussing a fast-track regulation to deny asylum to single adult migrants if they do not first seek protection in other countries.\\n\\n\\nThe sources said they had not seen a copy of the proposed regulation so could not provide further details.\\n\\n\\nSince Biden took office in January 2021, his administration has struggled both operationally and politically with record numbers of migrants crossing the U.S.-Mexico border illegally.\\n\\n\\nU.S. border authorities made 2.2 million migrant arrests at the border in fiscal 2022, which ended September 30, although many of those were repeat crossers.\\n\\n\\nAnother U.S. official said the Biden administration is also considering other Trump-era deterrents that include having Border Patrol agents conduct accelerated asylum screenings.\\n\\n\\nAnother possibility was to increase a practice known as metering, which limits the number of migrants who can approach a port of entry to seek asylum, this official said.\\n\\n\\nA DHS spokesperson said on Friday no decisions had been made to make changes in policy.\\n\\n\\nBiden, a Democrat, defeated Trump, a Republican, in a 2020 presidential election promising to undo his predecessor\\'s hard-line immigration policies and \"reassert America\\'s commitment to asylum-seekers and refugees.\"\\n\\n\\nThe policies under consideration, if adopted, would sharply backtrack on those pledges and have drawn concern from immigration advocates. Similar Trump policies were challenged in court and overturned.\\n\\n\\nTo be granted U.S. asylum, migrants who enter the country must show they seek protection from persecution elsewhere based on their race, religion, nationality, political opinions or membership in a particular social group.\\n\\n\\nAxios first reported the discussions around a new asylum ban earlier this week. The other measures under consideration have not been previously reported.\\n\\n\\nAfter the Axios story, a Biden official said in a statement the United States would seek to accelerate asylum processing times, break up smuggling networks preying on migrants and work with others in the region to manage the flow of migrants.\\n\\n\\nRepublicans, who take control of the U.S. House of Representatives in January, have assailed Biden\\'s handling of the border and threatened to impeach his top border official, Homeland Security Secretary Alejandro Mayorkas.\\n\\n\\nLast month a U.S. federal judge invalidated a COVID-19 era border order known as Title 42. Implemented in March 2020 under Trump, it allowed authorities to rapidly expel migrants caught crossing the border without giving them a chance to seek asylum.\\n\\n\\nThe judge delayed the effective date of the ruling until December 21 to give border authorities time to prepare. A week later, a coalition of states with Republican attorneys general launched a legal challenge seeking to reverse the decision.\\n\\n\\nThe administration is preparing for the possibility of 9,000-14,000 migrants per day trying to cross the border if Title 42 is lifted, one of the DHS officials told Reuters, about double the recent daily rate.',\n",
       "   'summary_detail': {'type': 'text/html',\n",
       "    'language': None,\n",
       "    'base': 'https://www.voanews.com/api/zgvmqye_o_qv',\n",
       "    'value': 'U.S. President Joe Biden\\'s administration would make it harder to seek asylum at the U.S.-Mexico border under several plans being considered that bear similarities to policies pushed by former President Donald Trump.\\n\\n\\nTwo Department of Homeland Security officials and a person familiar with the matter said the administration is discussing a fast-track regulation to deny asylum to single adult migrants if they do not first seek protection in other countries.\\n\\n\\nThe sources said they had not seen a copy of the proposed regulation so could not provide further details.\\n\\n\\nSince Biden took office in January 2021, his administration has struggled both operationally and politically with record numbers of migrants crossing the U.S.-Mexico border illegally.\\n\\n\\nU.S. border authorities made 2.2 million migrant arrests at the border in fiscal 2022, which ended September 30, although many of those were repeat crossers.\\n\\n\\nAnother U.S. official said the Biden administration is also considering other Trump-era deterrents that include having Border Patrol agents conduct accelerated asylum screenings.\\n\\n\\nAnother possibility was to increase a practice known as metering, which limits the number of migrants who can approach a port of entry to seek asylum, this official said.\\n\\n\\nA DHS spokesperson said on Friday no decisions had been made to make changes in policy.\\n\\n\\nBiden, a Democrat, defeated Trump, a Republican, in a 2020 presidential election promising to undo his predecessor\\'s hard-line immigration policies and \"reassert America\\'s commitment to asylum-seekers and refugees.\"\\n\\n\\nThe policies under consideration, if adopted, would sharply backtrack on those pledges and have drawn concern from immigration advocates. Similar Trump policies were challenged in court and overturned.\\n\\n\\nTo be granted U.S. asylum, migrants who enter the country must show they seek protection from persecution elsewhere based on their race, religion, nationality, political opinions or membership in a particular social group.\\n\\n\\nAxios first reported the discussions around a new asylum ban earlier this week. The other measures under consideration have not been previously reported.\\n\\n\\nAfter the Axios story, a Biden official said in a statement the United States would seek to accelerate asylum processing times, break up smuggling networks preying on migrants and work with others in the region to manage the flow of migrants.\\n\\n\\nRepublicans, who take control of the U.S. House of Representatives in January, have assailed Biden\\'s handling of the border and threatened to impeach his top border official, Homeland Security Secretary Alejandro Mayorkas.\\n\\n\\nLast month a U.S. federal judge invalidated a COVID-19 era border order known as Title 42. Implemented in March 2020 under Trump, it allowed authorities to rapidly expel migrants caught crossing the border without giving them a chance to seek asylum.\\n\\n\\nThe judge delayed the effective date of the ruling until December 21 to give border authorities time to prepare. A week later, a coalition of states with Republican attorneys general launched a legal challenge seeking to reverse the decision.\\n\\n\\nThe administration is preparing for the possibility of 9,000-14,000 migrants per day trying to cross the border if Title 42 is lifted, one of the DHS officials told Reuters, about double the recent daily rate.'},\n",
       "   'links': [{'rel': 'alternate',\n",
       "     'type': 'text/html',\n",
       "     'href': 'https://www.voanews.com/a/biden-weighs-reviving-trump-era-immigration-restrictions-officials-say-/6860121.html'},\n",
       "    {'length': '0',\n",
       "     'type': 'image/jpeg',\n",
       "     'href': 'https://gdb.voanews.com/09860000-0aff-0242-70ba-08da9fbcd29a_cx0_cy9_cw0_w800_h450.jpg',\n",
       "     'rel': 'enclosure'}],\n",
       "   'link': 'https://www.voanews.com/a/biden-weighs-reviving-trump-era-immigration-restrictions-officials-say-/6860121.html',\n",
       "   'id': 'https://www.voanews.com/a/biden-weighs-reviving-trump-era-immigration-restrictions-officials-say-/6860121.html',\n",
       "   'guidislink': False,\n",
       "   'published': 'Fri, 02 Dec 2022 15:14:56 -0500',\n",
       "   'published_parsed': time.struct_time(tm_year=2022, tm_mon=12, tm_mday=2, tm_hour=20, tm_min=14, tm_sec=56, tm_wday=4, tm_yday=336, tm_isdst=0),\n",
       "   'tags': [{'term': 'Immigration', 'scheme': None, 'label': None},\n",
       "    {'term': 'USA', 'scheme': None, 'label': None}],\n",
       "   'authors': [{'name': 'Reuters', 'email': 'webdesk@voanews.com'}],\n",
       "   'author': 'webdesk@voanews.com (Reuters)',\n",
       "   'author_detail': {'name': 'Reuters', 'email': 'webdesk@voanews.com'}},\n",
       "  {'title': \"Supreme Court Wrestles with Biden's Deportation Policy\",\n",
       "   'title_detail': {'type': 'text/plain',\n",
       "    'language': None,\n",
       "    'base': 'https://www.voanews.com/api/zgvmqye_o_qv',\n",
       "    'value': \"Supreme Court Wrestles with Biden's Deportation Policy\"},\n",
       "   'summary': 'The Supreme Court on Tuesday wrestled with a politically tinged dispute over a Biden administration policy that would prioritize deportation of people in the country illegally who pose the greatest public safety risk.\\n\\n\\nIt was not clear after arguments that stretched past two hours and turned highly contentious at times whether the justices would allow the policy to take effect, or side with Republican-led states that have so far succeeded in blocking it.\\n\\n\\nAt the center of the case is a September 2021 directive from the Department of Homeland Security that paused deportations unless individuals had committed acts of terrorism, espionage or \"egregious threats to public safety.\" The guidance, issued after Joe Biden became president, updated a Trump-era policy that removed people in the country illegally regardless of criminal history or community ties.\\n\\n\\nOn Tuesday, the administration\\'s top Supreme Court lawyer told the justices that federal law does \"not create an unyielding mandate to apprehend and remove\" every one of the more than 11 million immigrants living in the country illegally.\\n\\n\\nSolicitor General Elizabeth Prelogar said it would be \"incredibly destabilizing on the ground\" for the high court to require that. Congress has not given DHS enough money to vastly increase the number of people it holds and deports, the Biden administration has said.\\n\\n\\nBut Texas Solicitor General Judd Stone told the court the administration is violating federal law that requires the detention and deportation of people who are in the U.S. illegally and who have been convicted of any serious crime, not just the most serious, specifically defined ones.\\n\\n\\nChief Justice John Roberts was among the conservative justices who pushed back strongly on the Biden administration\\'s arguments.\\n\\n\\n\"It\\'s our job to say what the law is, not whether or not it can be possibly implemented or whether there are difficulties there, and I don\\'t think we should change that responsibility just because Congress and the executive can\\'t agree on something. ... I don\\'t think we should let them off the hook,\" he said.\\n\\n\\nYet Roberts, in questioning Stone, also called Prelogar\\'s argument compelling.\\n\\n\\n\"It\\'s impossible for the executive to do what you want it to do, right?\" Roberts asked.\\n\\n\\nRoberts wasn\\'t totally satisfied when Stone said the number of people potentially affected total 60,000 to 80,000.\\n\\n\\nJustice Brett Kavanaugh said that whatever the actual number, \"the resources still aren\\'t there.\"\\n\\n\\nThe court\\'s three liberal justices, on the other hand, were sympathetic to the Biden administration\\'s arguments. Justice Sonia Sotomayor and Elena Kagan, made clear they believed that Texas and Louisiana, which joined Texas in suing over the directive, weren\\'t even entitled to bring their case.\\n\\n\\nThe case is the latest example of a Republican litigation strategy that has succeeded in slowing Biden administration initiatives by going to GOP-friendly courts. Kagan picked up on that during arguments, saying that Texas could file its suit in a courthouse where it was guaranteed to get a sympathetic hearing and that one judge stopped \"a federal immigration policy in its tracks.\"\\n\\n\\nIn a separate ongoing legal dispute, three judges chosen by then-President Donald Trump are among the four Republican-appointed judges who have so far prevented the administration\\'s student loan cancellation program from taking effect.\\n\\n\\nThe states said they would face added costs of having to detain people the federal government might allow to remain free inside the United States, despite their criminal records.\\n\\n\\nFederal appeals courts had reached conflicting decisions over DHS guidance.\\n\\n\\nThe federal appeals court in Cincinnati earlier overturned a district judge\\'s order that put the policy on hold in a lawsuit filed by Arizona, Ohio and Montana.\\n\\n\\nBut in the separate suit filed by Texas and Louisiana, a federal judge in Texas ordered a nationwide halt to the guidance and a federal appellate panel in New Orleans declined to step in.\\n\\n\\nIn July, the court voted 5-4 to leave the immigration policy frozen nationwide. Conservative Justice Amy Coney Barrett joined the court\\'s three liberals in saying they would have allowed the Biden administration to put in place the guidance.\\n\\n\\nAt the same time, the court said it would hear arguments in the case in late November.\\n\\n\\nThe justices have several questions to sort through, whether the states should have been permitted to file their challenge in the first place, whether the policy violates immigration law and, if it does, whether it was appropriate for the Texas-based judge to block it.\\n\\n\\nOn that last point, Prelogar said the judge\\'s decision to \"vacate\" the policy was wrong, and her argument questioned whether judges have been getting it all wrong for decades.\\n\\n\\nThe issue touched a nerve, especially among Roberts, Kavanaugh and Ketanji Brown Jackson, the justices who once served on the federal appeals court in Washington that regularly vacates policies it determines are unlawful.\\n\\n\\n\"Fairly radical,\" Roberts said. \"Pretty astonishing,\" Kavanaugh said. Jackson, more restrained, also questioned Prelogar\\'s reasoning.\\n\\n\\n\"There seems to be a kind of D.C. Circuit cartel,\" Kagan joked.\\n\\n\\nA decision in U.S. v. Texas, 22-58, is expected by late June.',\n",
       "   'summary_detail': {'type': 'text/html',\n",
       "    'language': None,\n",
       "    'base': 'https://www.voanews.com/api/zgvmqye_o_qv',\n",
       "    'value': 'The Supreme Court on Tuesday wrestled with a politically tinged dispute over a Biden administration policy that would prioritize deportation of people in the country illegally who pose the greatest public safety risk.\\n\\n\\nIt was not clear after arguments that stretched past two hours and turned highly contentious at times whether the justices would allow the policy to take effect, or side with Republican-led states that have so far succeeded in blocking it.\\n\\n\\nAt the center of the case is a September 2021 directive from the Department of Homeland Security that paused deportations unless individuals had committed acts of terrorism, espionage or \"egregious threats to public safety.\" The guidance, issued after Joe Biden became president, updated a Trump-era policy that removed people in the country illegally regardless of criminal history or community ties.\\n\\n\\nOn Tuesday, the administration\\'s top Supreme Court lawyer told the justices that federal law does \"not create an unyielding mandate to apprehend and remove\" every one of the more than 11 million immigrants living in the country illegally.\\n\\n\\nSolicitor General Elizabeth Prelogar said it would be \"incredibly destabilizing on the ground\" for the high court to require that. Congress has not given DHS enough money to vastly increase the number of people it holds and deports, the Biden administration has said.\\n\\n\\nBut Texas Solicitor General Judd Stone told the court the administration is violating federal law that requires the detention and deportation of people who are in the U.S. illegally and who have been convicted of any serious crime, not just the most serious, specifically defined ones.\\n\\n\\nChief Justice John Roberts was among the conservative justices who pushed back strongly on the Biden administration\\'s arguments.\\n\\n\\n\"It\\'s our job to say what the law is, not whether or not it can be possibly implemented or whether there are difficulties there, and I don\\'t think we should change that responsibility just because Congress and the executive can\\'t agree on something. ... I don\\'t think we should let them off the hook,\" he said.\\n\\n\\nYet Roberts, in questioning Stone, also called Prelogar\\'s argument compelling.\\n\\n\\n\"It\\'s impossible for the executive to do what you want it to do, right?\" Roberts asked.\\n\\n\\nRoberts wasn\\'t totally satisfied when Stone said the number of people potentially affected total 60,000 to 80,000.\\n\\n\\nJustice Brett Kavanaugh said that whatever the actual number, \"the resources still aren\\'t there.\"\\n\\n\\nThe court\\'s three liberal justices, on the other hand, were sympathetic to the Biden administration\\'s arguments. Justice Sonia Sotomayor and Elena Kagan, made clear they believed that Texas and Louisiana, which joined Texas in suing over the directive, weren\\'t even entitled to bring their case.\\n\\n\\nThe case is the latest example of a Republican litigation strategy that has succeeded in slowing Biden administration initiatives by going to GOP-friendly courts. Kagan picked up on that during arguments, saying that Texas could file its suit in a courthouse where it was guaranteed to get a sympathetic hearing and that one judge stopped \"a federal immigration policy in its tracks.\"\\n\\n\\nIn a separate ongoing legal dispute, three judges chosen by then-President Donald Trump are among the four Republican-appointed judges who have so far prevented the administration\\'s student loan cancellation program from taking effect.\\n\\n\\nThe states said they would face added costs of having to detain people the federal government might allow to remain free inside the United States, despite their criminal records.\\n\\n\\nFederal appeals courts had reached conflicting decisions over DHS guidance.\\n\\n\\nThe federal appeals court in Cincinnati earlier overturned a district judge\\'s order that put the policy on hold in a lawsuit filed by Arizona, Ohio and Montana.\\n\\n\\nBut in the separate suit filed by Texas and Louisiana, a federal judge in Texas ordered a nationwide halt to the guidance and a federal appellate panel in New Orleans declined to step in.\\n\\n\\nIn July, the court voted 5-4 to leave the immigration policy frozen nationwide. Conservative Justice Amy Coney Barrett joined the court\\'s three liberals in saying they would have allowed the Biden administration to put in place the guidance.\\n\\n\\nAt the same time, the court said it would hear arguments in the case in late November.\\n\\n\\nThe justices have several questions to sort through, whether the states should have been permitted to file their challenge in the first place, whether the policy violates immigration law and, if it does, whether it was appropriate for the Texas-based judge to block it.\\n\\n\\nOn that last point, Prelogar said the judge\\'s decision to \"vacate\" the policy was wrong, and her argument questioned whether judges have been getting it all wrong for decades.\\n\\n\\nThe issue touched a nerve, especially among Roberts, Kavanaugh and Ketanji Brown Jackson, the justices who once served on the federal appeals court in Washington that regularly vacates policies it determines are unlawful.\\n\\n\\n\"Fairly radical,\" Roberts said. \"Pretty astonishing,\" Kavanaugh said. Jackson, more restrained, also questioned Prelogar\\'s reasoning.\\n\\n\\n\"There seems to be a kind of D.C. Circuit cartel,\" Kagan joked.\\n\\n\\nA decision in U.S. v. Texas, 22-58, is expected by late June.'},\n",
       "   'links': [{'rel': 'alternate',\n",
       "     'type': 'text/html',\n",
       "     'href': 'https://www.voanews.com/a/supreme-court-wrestles-with-biden-s-deportation-policy-/6855367.html'},\n",
       "    {'length': '0',\n",
       "     'type': 'image/jpeg',\n",
       "     'href': 'https://gdb.voanews.com/03370000-0aff-0242-e2d9-08dad25e9343_cx0_cy4_cw0_w800_h450.jpg',\n",
       "     'rel': 'enclosure'}],\n",
       "   'link': 'https://www.voanews.com/a/supreme-court-wrestles-with-biden-s-deportation-policy-/6855367.html',\n",
       "   'id': 'https://www.voanews.com/a/supreme-court-wrestles-with-biden-s-deportation-policy-/6855367.html',\n",
       "   'guidislink': False,\n",
       "   'published': 'Tue, 29 Nov 2022 18:25:49 -0500',\n",
       "   'published_parsed': time.struct_time(tm_year=2022, tm_mon=11, tm_mday=29, tm_hour=23, tm_min=25, tm_sec=49, tm_wday=1, tm_yday=333, tm_isdst=0),\n",
       "   'tags': [{'term': 'USA', 'scheme': None, 'label': None},\n",
       "    {'term': 'Immigration', 'scheme': None, 'label': None}],\n",
       "   'authors': [{'name': 'Associated Press', 'email': 'webdesk@voanews.com'}],\n",
       "   'author': 'webdesk@voanews.com (Associated Press)',\n",
       "   'author_detail': {'name': 'Associated Press',\n",
       "    'email': 'webdesk@voanews.com'}},\n",
       "  {'title': 'US Supreme Court to Hear Immigration Policy Case',\n",
       "   'title_detail': {'type': 'text/plain',\n",
       "    'language': None,\n",
       "    'base': 'https://www.voanews.com/api/zgvmqye_o_qv',\n",
       "    'value': 'US Supreme Court to Hear Immigration Policy Case'},\n",
       "   'summary': 'The U.S. Supreme Court wades into the immigration debate on Tuesday as it examines the Biden administration\\'s expulsion policies for undocumented migrants.\\xa0\\xa0\\xa0\\n\\n\\nThe Homeland Security Department, in a September 2021 memo, instructed US Immigration and Customs Enforcement (ICE) to concentrate expulsion efforts on persons who \"pose a threat to national security, public safety, and border security.\"\\xa0\\xa0\\xa0\\n\\n\\n\"It is estimated that there are more than 11 million undocumented or otherwise removable noncitizens in the United States,\" Homeland Security Secretary Alejandro Mayorkas said in the memo.\\xa0\\xa0\\xa0\\n\\n\\n\"We do not have the resources to apprehend and seek the removal of every one of these noncitizens,\" Mayorkas said. \"Therefore, we need to exercise our discretion and determine whom to prioritize for immigration enforcement action.\"\\xa0\\xa0\\xa0\\n\\n\\nThe policy represented a shift from that of the administration of former Republican president Donald Trump which called for the expulsion of \"all removable aliens.\"\\xa0\\xa0\\xa0\\n\\n\\nThe Biden policy was immediately challenged by several Republican-led states as being too narrow and was blocked by a court in Texas.\\xa0\\xa0\\xa0\\n\\n\\nThe states argued that it imposes a heavy cost burden on the taxpayers because of the public services that would be needed to be provided to noncitizens.\\xa0\\xa0\\xa0\\n\\n\\nThe Biden administration challenged the Texas court\\'s ruling and the conservative majority Supreme Court will hear oral arguments in the case, United States v. Texas, on Tuesday.\\xa0\\n\\n\\nThe administration is arguing that a decision in Texas\\'s favor could have wide-ranging repercussions beyond immigration policy.\\xa0\\xa0\\xa0\\n\\n\\n\"Federal policies routinely have incidental effects on states\\' expenditures, revenues, and other activities,\" the government said in its brief.\\xa0\\xa0\\xa0\\n\\n\\n\"Yet such effects have never been viewed as judicially cognizable injuries,\" it said.\\xa0\\xa0\\xa0\\xa0\\n\\n\\n\"As the recent explosion in state suits vividly illustrates, respondents\\' contrary view would allow any state to sue the federal government about virtually any policy.\"\\xa0\\xa0\\xa0\\n\\n\\nThe court is expected to issue its ruling by the end of June.',\n",
       "   'summary_detail': {'type': 'text/html',\n",
       "    'language': None,\n",
       "    'base': 'https://www.voanews.com/api/zgvmqye_o_qv',\n",
       "    'value': 'The U.S. Supreme Court wades into the immigration debate on Tuesday as it examines the Biden administration\\'s expulsion policies for undocumented migrants.\\xa0\\xa0\\xa0\\n\\n\\nThe Homeland Security Department, in a September 2021 memo, instructed US Immigration and Customs Enforcement (ICE) to concentrate expulsion efforts on persons who \"pose a threat to national security, public safety, and border security.\"\\xa0\\xa0\\xa0\\n\\n\\n\"It is estimated that there are more than 11 million undocumented or otherwise removable noncitizens in the United States,\" Homeland Security Secretary Alejandro Mayorkas said in the memo.\\xa0\\xa0\\xa0\\n\\n\\n\"We do not have the resources to apprehend and seek the removal of every one of these noncitizens,\" Mayorkas said. \"Therefore, we need to exercise our discretion and determine whom to prioritize for immigration enforcement action.\"\\xa0\\xa0\\xa0\\n\\n\\nThe policy represented a shift from that of the administration of former Republican president Donald Trump which called for the expulsion of \"all removable aliens.\"\\xa0\\xa0\\xa0\\n\\n\\nThe Biden policy was immediately challenged by several Republican-led states as being too narrow and was blocked by a court in Texas.\\xa0\\xa0\\xa0\\n\\n\\nThe states argued that it imposes a heavy cost burden on the taxpayers because of the public services that would be needed to be provided to noncitizens.\\xa0\\xa0\\xa0\\n\\n\\nThe Biden administration challenged the Texas court\\'s ruling and the conservative majority Supreme Court will hear oral arguments in the case, United States v. Texas, on Tuesday.\\xa0\\n\\n\\nThe administration is arguing that a decision in Texas\\'s favor could have wide-ranging repercussions beyond immigration policy.\\xa0\\xa0\\xa0\\n\\n\\n\"Federal policies routinely have incidental effects on states\\' expenditures, revenues, and other activities,\" the government said in its brief.\\xa0\\xa0\\xa0\\n\\n\\n\"Yet such effects have never been viewed as judicially cognizable injuries,\" it said.\\xa0\\xa0\\xa0\\xa0\\n\\n\\n\"As the recent explosion in state suits vividly illustrates, respondents\\' contrary view would allow any state to sue the federal government about virtually any policy.\"\\xa0\\xa0\\xa0\\n\\n\\nThe court is expected to issue its ruling by the end of June.'},\n",
       "   'links': [{'rel': 'alternate',\n",
       "     'type': 'text/html',\n",
       "     'href': 'https://www.voanews.com/a/us-supreme-court-to-hear-immigration-policy-case/6854300.html'},\n",
       "    {'length': '0',\n",
       "     'type': 'image/jpeg',\n",
       "     'href': 'https://gdb.voanews.com/03990000-0aff-0242-7b35-08daad649e86_w800_h450.jpg',\n",
       "     'rel': 'enclosure'}],\n",
       "   'link': 'https://www.voanews.com/a/us-supreme-court-to-hear-immigration-policy-case/6854300.html',\n",
       "   'id': 'https://www.voanews.com/a/us-supreme-court-to-hear-immigration-policy-case/6854300.html',\n",
       "   'guidislink': False,\n",
       "   'published': 'Mon, 28 Nov 2022 23:28:34 -0500',\n",
       "   'published_parsed': time.struct_time(tm_year=2022, tm_mon=11, tm_mday=29, tm_hour=4, tm_min=28, tm_sec=34, tm_wday=1, tm_yday=333, tm_isdst=0),\n",
       "   'tags': [{'term': 'Immigration', 'scheme': None, 'label': None}],\n",
       "   'authors': [{'name': 'Agence France-Presse',\n",
       "     'email': 'webdesk@voanews.com'}],\n",
       "   'author': 'webdesk@voanews.com (Agence France-Presse)',\n",
       "   'author_detail': {'name': 'Agence France-Presse',\n",
       "    'email': 'webdesk@voanews.com'}},\n",
       "  {'title': 'VOA Immigration Weekly Recap, Nov. 20–26',\n",
       "   'title_detail': {'type': 'text/plain',\n",
       "    'language': None,\n",
       "    'base': 'https://www.voanews.com/api/zgvmqye_o_qv',\n",
       "    'value': 'VOA Immigration Weekly Recap, Nov. 20–26'},\n",
       "   'summary': 'Editor\\'s note: Here is a look at immigration-related news around the U.S. this week. Questions? Tips? Comments? Email the VOA immigration team: ImmigrationUnit@voanews.com.\\n\\n\\nIn Pennsylvania, Afghan Refugees Celebrate First Thanksgiving\\n\\n\\nJudith Samkoff needed a bigger dinner table for Thanksgiving this year.\\n\\n\\nThe 65-year-old Harrisburg, Pennsylvania, resident helped resettle an Afghan refugee family of eight, and because this is their first holiday in the United States, Samkoff invited them to her father and sister\\'s home for Thanksgiving.\\n\\n\\nOne of Samkoff\\'s guests is Hadia, a 24-year-old Afghan refugee whose family fled Afghanistan in November 2021. VOA\\'s immigration reporter Aline Barros has more.\\n\\n\\nNew Refugees Celebrate First Thanksgiving in US\\n\\n\\nRefugees from around the world who resettled in the Washington area got together to celebrate their first Thanksgiving in the United States. VOA\\'s Shahnaz Nafees has the story.\\n\\n\\n\\'Kite Runner\\' Actor a Two-Time Refugee\\n\\n\\nThe Afghan actor Ali Danish Bakhtyari, who played the role of an orphan in the 2007 film The Kite Runner, has fled the Taliban rule in his home country twice: first in the late 1990s, and then in 2021, when the United States withdrew its forces from Afghanistan. Keith Kocinski has the story from New York.\\n\\n\\nImmigration around the world\\n\\n\\nRights Group Accuses Turkey of Mass Afghan Deportations\\n\\n\\nThe U.S.-based Human Rights Watch accuses Turkish authorities of carrying out mass deportations of Afghan refugees, including those most at risk. For VOA, Dorian Jones reports from Istanbul.\\n\\n\\nEU Ministers Endorse New Migrant Plan After France-Italy Spat\\n\\n\\nEuropean interior ministers welcomed Friday an EU plan to better coordinate the handling of migrant arrivals, after a furious argument over a refugee rescue boat erupted between Italy and France. Reported by Agence France-Presse.\\n\\n\\nThe Inside Story-Cause of Death: Migrant Workers and the 2022 Qatar World Cup\\n\\n\\nThousands of migrant workers died in Qatar building the stadiums for the 2022 World Cup. VOA\\'s Heather Murdock takes you to Nepal where families are asking \"Why is no one taking responsibility?\" on The Inside Story: Cause of Death, Migrant Workers & the 2022 Qatar World Cup.\\n\\n\\nChinese Refugees in Italy Wary of Beijing Outposts\\n\\n\\nChinese refugees in Italy, some of whom are dissidents, are increasingly wary of the presence of what appear to be four outposts of Beijing\\'s security apparatus operating without official diplomatic trappings, according to experts. Allen Giovanni Ai reports for VOA News.\\n\\n\\nNews Brief\\n\\n\\nThe U.S. Citizenship and Immigration Services (USCIS) announced it is extending filing fee exemptions and expediting application processing for certain Afghan nationals.\\n\\n\\n\"These actions will help Afghan nationals resettle, and in many cases reunite with family, in the United States by enabling USCIS to process their requests for work authorization, long-term status, status for immediate relatives, and associated services more quickly.\"',\n",
       "   'summary_detail': {'type': 'text/html',\n",
       "    'language': None,\n",
       "    'base': 'https://www.voanews.com/api/zgvmqye_o_qv',\n",
       "    'value': 'Editor\\'s note: Here is a look at immigration-related news around the U.S. this week. Questions? Tips? Comments? Email the VOA immigration team: ImmigrationUnit@voanews.com.\\n\\n\\nIn Pennsylvania, Afghan Refugees Celebrate First Thanksgiving\\n\\n\\nJudith Samkoff needed a bigger dinner table for Thanksgiving this year.\\n\\n\\nThe 65-year-old Harrisburg, Pennsylvania, resident helped resettle an Afghan refugee family of eight, and because this is their first holiday in the United States, Samkoff invited them to her father and sister\\'s home for Thanksgiving.\\n\\n\\nOne of Samkoff\\'s guests is Hadia, a 24-year-old Afghan refugee whose family fled Afghanistan in November 2021. VOA\\'s immigration reporter Aline Barros has more.\\n\\n\\nNew Refugees Celebrate First Thanksgiving in US\\n\\n\\nRefugees from around the world who resettled in the Washington area got together to celebrate their first Thanksgiving in the United States. VOA\\'s Shahnaz Nafees has the story.\\n\\n\\n\\'Kite Runner\\' Actor a Two-Time Refugee\\n\\n\\nThe Afghan actor Ali Danish Bakhtyari, who played the role of an orphan in the 2007 film The Kite Runner, has fled the Taliban rule in his home country twice: first in the late 1990s, and then in 2021, when the United States withdrew its forces from Afghanistan. Keith Kocinski has the story from New York.\\n\\n\\nImmigration around the world\\n\\n\\nRights Group Accuses Turkey of Mass Afghan Deportations\\n\\n\\nThe U.S.-based Human Rights Watch accuses Turkish authorities of carrying out mass deportations of Afghan refugees, including those most at risk. For VOA, Dorian Jones reports from Istanbul.\\n\\n\\nEU Ministers Endorse New Migrant Plan After France-Italy Spat\\n\\n\\nEuropean interior ministers welcomed Friday an EU plan to better coordinate the handling of migrant arrivals, after a furious argument over a refugee rescue boat erupted between Italy and France. Reported by Agence France-Presse.\\n\\n\\nThe Inside Story-Cause of Death: Migrant Workers and the 2022 Qatar World Cup\\n\\n\\nThousands of migrant workers died in Qatar building the stadiums for the 2022 World Cup. VOA\\'s Heather Murdock takes you to Nepal where families are asking \"Why is no one taking responsibility?\" on The Inside Story: Cause of Death, Migrant Workers & the 2022 Qatar World Cup.\\n\\n\\nChinese Refugees in Italy Wary of Beijing Outposts\\n\\n\\nChinese refugees in Italy, some of whom are dissidents, are increasingly wary of the presence of what appear to be four outposts of Beijing\\'s security apparatus operating without official diplomatic trappings, according to experts. Allen Giovanni Ai reports for VOA News.\\n\\n\\nNews Brief\\n\\n\\nThe U.S. Citizenship and Immigration Services (USCIS) announced it is extending filing fee exemptions and expediting application processing for certain Afghan nationals.\\n\\n\\n\"These actions will help Afghan nationals resettle, and in many cases reunite with family, in the United States by enabling USCIS to process their requests for work authorization, long-term status, status for immediate relatives, and associated services more quickly.\"'},\n",
       "   'links': [{'rel': 'alternate',\n",
       "     'type': 'text/html',\n",
       "     'href': 'https://www.voanews.com/a/voa-immigration-weekly-recap-nov-20-26-/6851766.html'},\n",
       "    {'length': '0',\n",
       "     'type': 'image/png',\n",
       "     'href': 'https://gdb.voanews.com/03370000-0aff-0242-72d4-08dace63898c_cx0_cy17_cw0_w800_h450.png',\n",
       "     'rel': 'enclosure'}],\n",
       "   'link': 'https://www.voanews.com/a/voa-immigration-weekly-recap-nov-20-26-/6851766.html',\n",
       "   'id': 'https://www.voanews.com/a/voa-immigration-weekly-recap-nov-20-26-/6851766.html',\n",
       "   'guidislink': False,\n",
       "   'published': 'Sat, 26 Nov 2022 21:16:47 -0500',\n",
       "   'published_parsed': time.struct_time(tm_year=2022, tm_mon=11, tm_mday=27, tm_hour=2, tm_min=16, tm_sec=47, tm_wday=6, tm_yday=331, tm_isdst=0),\n",
       "   'tags': [{'term': 'Immigration', 'scheme': None, 'label': None},\n",
       "    {'term': 'USA', 'scheme': None, 'label': None}],\n",
       "   'authors': [{'name': 'Aline Barros', 'email': 'webdesk@voanews.com'}],\n",
       "   'author': 'webdesk@voanews.com (Aline Barros)',\n",
       "   'author_detail': {'name': 'Aline Barros', 'email': 'webdesk@voanews.com'}},\n",
       "  {'title': 'The Somali Diaspora and its Journey to Political Victories in the West',\n",
       "   'title_detail': {'type': 'text/plain',\n",
       "    'language': None,\n",
       "    'base': 'https://www.voanews.com/api/zgvmqye_o_qv',\n",
       "    'value': 'The Somali Diaspora and its Journey to Political Victories in the West'},\n",
       "   'summary': \"From refugees to elected office, 14 Somali Americans have won legislative seats across the U.S. this year. Some also have been elected to city councils, school boards and the boards of parks and recreation in their respective cities. The U.S. midterm elections have proved to be historic for Somalis, with more women elected to public offices than ever before.\\n\\n\\nVOA Somali Service’s Torch Program explains how Somalis who arrived as migrants and refugees to the West have made their way into politics.\\n\\n\\nHashi Shafi, executive director of the Somali Action Alliance, a Minneapolis-based community organization in the northern U.S. state of Minnesota, says the campaign that led Somalis to shine in U.S. politics started right after 9/11 with a community-based voter registration program.\\n\\n\\n“In the beginning, Somalis were thinking about returning back to Somalia. They had their luggage ready; the artists were singing with songs giving the community a hope of immediate returning, but after 9/11, the community activists realized that such a dream was not realistic, and the Somalis needed to find a way to melt into the pot. Then, we started registering community members to encourage them to vote,” Shafi said. “Somali Americans’ rise in political power has come with its difficulties.”\\n\\n\\nTight-knit community\\n\\n\\nAbdirahman Sharif, the imam and the leader of the Dar-Al-Hijrah Mosque in Minneapolis says another reason Somalis have risen in U.S. politics is because they are a tight-knit community.\\n\\n\\n“When Somalis came to [the] U.S., they moved to a foreign country where they could not communicate with people. So, for them, being close to people from their country meant having someone to communicate with and that helped them to unite their votes, and resources for political aspirants,” Sharif said.\\n\\n\\nThe state of Minnesota has the largest Somali community in the country, mostly in the Minneapolis-St. Paul area. According to U.N. estimates from 2015, there are about 150,000 Somalis, both refugees and nonrefugees, living in the U.S.\\n\\n\\nThe first wave of Somalis came to Minnesota in early 1990s after civil war broke out in their country. Another wave of refugees followed, and the community thrived, thanks to the state's welcoming social programs. It's the biggest Somali community in North America, possibly in the world outside of East Africa.\\n\\n\\nSimilarly, job opportunities and a relatively low cost of living have drawn Somali immigrants to Columbus, Ohio. Ohio has the second largest Somali population in the United States, with an estimated 45,000 immigrants.\\n\\n\\nCommunities have grown significantly in both states. Somali-owned restaurants, mosques, clothing stores, coffee shops and other businesses have opened in several neighborhoods in Minneapolis, called Little Mogadishu, named after Somalia's capital.\\n\\n\\nLarge communities of Somalis are also concentrated in Lewiston and Portland, Maine, as well as Seattle in Washington state, and the Washington, D.C., metropolitan area.\\n\\n\\nAnalyst Abdi-Qafar Abdi Wardere says such concentrations have helped Somalis to gather their strength as a community.\\n\\n\\n“Somalis are bound together by intimate social or cultural ties that helped them to live together and concentrate [in] certain states or neighborhoods in the diaspora. About one-third of Minnesota's Somali residents came directly from refugee camps; others settled first in another state and then relocated to Minnesota. I can say they are somehow a tight-knit community,” Wardere said.\\n\\n\\nCanada and Europe\\n\\n\\nIt’s not only in the United States but Somali immigrants have also found their place in Canadian and European politics. They have gathered in big numbers in major cities to have an impact and exert influence.\\n\\n\\nIn Toronto, Canada, Somalis have made breakthroughs by winning elections and political offices. Ahmed Hussen, a lawyer and community activist born and raised in Somalia, is among the most influential Somalis in Canada. He was first elected as a member of parliament in 2015 to represent York South - Weston. He has previously served as minister of families, children and social development, and minister of immigration, refugees and citizenship. Now he is Canada’s minister of housing, diversity and inclusion.\\n\\n\\nFaisal Ahmed Hassan, who is a Somali Canadian politician, was a member of the Legislative Assembly of Ontario from 2018 until his defeat in 2022. He thinks for Somalis in the diaspora, there are two reasons they run for political office.\\n\\n\\n“One reason is that the community wants someone to represent their new homes and second is that Somalis inspire one another to doing something. If one of them does something good, others are encouraged that they can do the same,” Hassan said.\\n\\n\\nIn the Nordic region of Europe, the first Somalis arrived in the late 1980s and early 1990s. Later, as Somalia's civil war became more intense, new arrivals joined.\\n\\n\\nIn recent years, the first generation of Somali refugees has been making its mark in politics, from the local council level to the national stage.\\n\\n\\nIn Finland, Suldaan Said Ahmed has been the first Somali-born member of the Finnish parliament since 2021 and he is also the country’s special representative on peace mediation in the Horn of Africa, the northeastern region, where Somalia is located.\\n\\n\\nIn Sweden, Leila Ali Elmi, a former Somali refugee, made history in 2018 becoming the first Somali-Swedish Muslim woman elected to the Swedish parliament.\\n\\n\\nLast year, Marian Abdi Hussein became the first Somali MP in Norway’s history.\\n\\n\\nBoth women also became the first Muslims to wear hijabs in their respect houses of parliament.\\n\\n\\nIn Britain, Magid Magid, a Somali-British activist and politician who served as the mayor of Sheffield from May 2018 to May 2019, became the first Somali elected to the European Parliament.\\n\\n\\nMohamed Gure, a former member of the council of the city of Borlänge, Sweden, said there are unique things that keep Somalis together and make them successful in the politics in Europe.\\n\\n\\n“The fabric of Somalis is unique compared to the other diaspora communities. They share the same ethnicity, color, language, and religion. There are many things that keep them together that divide them back home. So, their togetherness is one reason I can attribute to their successes,” Gure said.\\n\\n\\nGure says the fear of migrants and refugees stoked by politicians has been setting a defining narrative for elections in the West.\\n\\n\\n“One other reason is the fear of a growing number of migrants and refugees in the West. As they are trying to melt into the pot, such fear created by nationalist politicians continues to set a tone for electoral victories that would have been unthinkable just a few years ago,” Gure said.\",\n",
       "   'summary_detail': {'type': 'text/html',\n",
       "    'language': None,\n",
       "    'base': 'https://www.voanews.com/api/zgvmqye_o_qv',\n",
       "    'value': \"From refugees to elected office, 14 Somali Americans have won legislative seats across the U.S. this year. Some also have been elected to city councils, school boards and the boards of parks and recreation in their respective cities. The U.S. midterm elections have proved to be historic for Somalis, with more women elected to public offices than ever before.\\n\\n\\nVOA Somali Service’s Torch Program explains how Somalis who arrived as migrants and refugees to the West have made their way into politics.\\n\\n\\nHashi Shafi, executive director of the Somali Action Alliance, a Minneapolis-based community organization in the northern U.S. state of Minnesota, says the campaign that led Somalis to shine in U.S. politics started right after 9/11 with a community-based voter registration program.\\n\\n\\n“In the beginning, Somalis were thinking about returning back to Somalia. They had their luggage ready; the artists were singing with songs giving the community a hope of immediate returning, but after 9/11, the community activists realized that such a dream was not realistic, and the Somalis needed to find a way to melt into the pot. Then, we started registering community members to encourage them to vote,” Shafi said. “Somali Americans’ rise in political power has come with its difficulties.”\\n\\n\\nTight-knit community\\n\\n\\nAbdirahman Sharif, the imam and the leader of the Dar-Al-Hijrah Mosque in Minneapolis says another reason Somalis have risen in U.S. politics is because they are a tight-knit community.\\n\\n\\n“When Somalis came to [the] U.S., they moved to a foreign country where they could not communicate with people. So, for them, being close to people from their country meant having someone to communicate with and that helped them to unite their votes, and resources for political aspirants,” Sharif said.\\n\\n\\nThe state of Minnesota has the largest Somali community in the country, mostly in the Minneapolis-St. Paul area. According to U.N. estimates from 2015, there are about 150,000 Somalis, both refugees and nonrefugees, living in the U.S.\\n\\n\\nThe first wave of Somalis came to Minnesota in early 1990s after civil war broke out in their country. Another wave of refugees followed, and the community thrived, thanks to the state's welcoming social programs. It's the biggest Somali community in North America, possibly in the world outside of East Africa.\\n\\n\\nSimilarly, job opportunities and a relatively low cost of living have drawn Somali immigrants to Columbus, Ohio. Ohio has the second largest Somali population in the United States, with an estimated 45,000 immigrants.\\n\\n\\nCommunities have grown significantly in both states. Somali-owned restaurants, mosques, clothing stores, coffee shops and other businesses have opened in several neighborhoods in Minneapolis, called Little Mogadishu, named after Somalia's capital.\\n\\n\\nLarge communities of Somalis are also concentrated in Lewiston and Portland, Maine, as well as Seattle in Washington state, and the Washington, D.C., metropolitan area.\\n\\n\\nAnalyst Abdi-Qafar Abdi Wardere says such concentrations have helped Somalis to gather their strength as a community.\\n\\n\\n“Somalis are bound together by intimate social or cultural ties that helped them to live together and concentrate [in] certain states or neighborhoods in the diaspora. About one-third of Minnesota's Somali residents came directly from refugee camps; others settled first in another state and then relocated to Minnesota. I can say they are somehow a tight-knit community,” Wardere said.\\n\\n\\nCanada and Europe\\n\\n\\nIt’s not only in the United States but Somali immigrants have also found their place in Canadian and European politics. They have gathered in big numbers in major cities to have an impact and exert influence.\\n\\n\\nIn Toronto, Canada, Somalis have made breakthroughs by winning elections and political offices. Ahmed Hussen, a lawyer and community activist born and raised in Somalia, is among the most influential Somalis in Canada. He was first elected as a member of parliament in 2015 to represent York South - Weston. He has previously served as minister of families, children and social development, and minister of immigration, refugees and citizenship. Now he is Canada’s minister of housing, diversity and inclusion.\\n\\n\\nFaisal Ahmed Hassan, who is a Somali Canadian politician, was a member of the Legislative Assembly of Ontario from 2018 until his defeat in 2022. He thinks for Somalis in the diaspora, there are two reasons they run for political office.\\n\\n\\n“One reason is that the community wants someone to represent their new homes and second is that Somalis inspire one another to doing something. If one of them does something good, others are encouraged that they can do the same,” Hassan said.\\n\\n\\nIn the Nordic region of Europe, the first Somalis arrived in the late 1980s and early 1990s. Later, as Somalia's civil war became more intense, new arrivals joined.\\n\\n\\nIn recent years, the first generation of Somali refugees has been making its mark in politics, from the local council level to the national stage.\\n\\n\\nIn Finland, Suldaan Said Ahmed has been the first Somali-born member of the Finnish parliament since 2021 and he is also the country’s special representative on peace mediation in the Horn of Africa, the northeastern region, where Somalia is located.\\n\\n\\nIn Sweden, Leila Ali Elmi, a former Somali refugee, made history in 2018 becoming the first Somali-Swedish Muslim woman elected to the Swedish parliament.\\n\\n\\nLast year, Marian Abdi Hussein became the first Somali MP in Norway’s history.\\n\\n\\nBoth women also became the first Muslims to wear hijabs in their respect houses of parliament.\\n\\n\\nIn Britain, Magid Magid, a Somali-British activist and politician who served as the mayor of Sheffield from May 2018 to May 2019, became the first Somali elected to the European Parliament.\\n\\n\\nMohamed Gure, a former member of the council of the city of Borlänge, Sweden, said there are unique things that keep Somalis together and make them successful in the politics in Europe.\\n\\n\\n“The fabric of Somalis is unique compared to the other diaspora communities. They share the same ethnicity, color, language, and religion. There are many things that keep them together that divide them back home. So, their togetherness is one reason I can attribute to their successes,” Gure said.\\n\\n\\nGure says the fear of migrants and refugees stoked by politicians has been setting a defining narrative for elections in the West.\\n\\n\\n“One other reason is the fear of a growing number of migrants and refugees in the West. As they are trying to melt into the pot, such fear created by nationalist politicians continues to set a tone for electoral victories that would have been unthinkable just a few years ago,” Gure said.\"},\n",
       "   'links': [{'rel': 'alternate',\n",
       "     'type': 'text/html',\n",
       "     'href': 'https://www.voanews.com/a/the-somali-diaspora-and-its-journey-to-political-victories-in-the-west-/6851765.html'},\n",
       "    {'length': '0',\n",
       "     'type': 'image/jpeg',\n",
       "     'href': 'https://gdb.voanews.com/09410000-0a00-0242-9add-08dad01b884f_w800_h450.jpg',\n",
       "     'rel': 'enclosure'}],\n",
       "   'link': 'https://www.voanews.com/a/the-somali-diaspora-and-its-journey-to-political-victories-in-the-west-/6851765.html',\n",
       "   'id': 'https://www.voanews.com/a/the-somali-diaspora-and-its-journey-to-political-victories-in-the-west-/6851765.html',\n",
       "   'guidislink': False,\n",
       "   'published': 'Sat, 26 Nov 2022 21:04:20 -0500',\n",
       "   'published_parsed': time.struct_time(tm_year=2022, tm_mon=11, tm_mday=27, tm_hour=2, tm_min=4, tm_sec=20, tm_wday=6, tm_yday=331, tm_isdst=0),\n",
       "   'tags': [{'term': 'USA', 'scheme': None, 'label': None},\n",
       "    {'term': 'Africa', 'scheme': None, 'label': None},\n",
       "    {'term': 'US Politics', 'scheme': None, 'label': None},\n",
       "    {'term': 'Immigration', 'scheme': None, 'label': None}],\n",
       "   'authors': [{'name': 'Mohamed Olad Hassan',\n",
       "     'email': 'webdesk@voanews.com'}],\n",
       "   'author': 'webdesk@voanews.com (Mohamed Olad Hassan)',\n",
       "   'author_detail': {'name': 'Mohamed Olad Hassan',\n",
       "    'email': 'webdesk@voanews.com'}},\n",
       "  {'title': 'In Pennsylvania, Afghan Refugees Celebrate First Thanksgiving',\n",
       "   'title_detail': {'type': 'text/plain',\n",
       "    'language': None,\n",
       "    'base': 'https://www.voanews.com/api/zgvmqye_o_qv',\n",
       "    'value': 'In Pennsylvania, Afghan Refugees Celebrate First Thanksgiving'},\n",
       "   'summary': \"Judith Samkoff needed a bigger dinner table for Thanksgiving this year.\\n\\n\\nThe 65-year-old Harrisburg, Pennsylvania, resident helped resettle an Afghan refugee family of eight, and because this is their first holiday in the United States, Samkoff invited them to her father and sister's home for Thanksgiving.\\n\\n\\n“Because they have a larger dining room table and more dining chairs than I have,” she said, adding, “Our meal is not completely traditional in that we're vegetarians.”\\n\\n\\nIn different homes around the U.S., Jewish volunteers who helped resettle Afghans are welcoming them for their first Thanksgiving dinner on U.S. soil.\\n\\n\\nOne of Samkoff's guests is Hadia, a 24-year-old Afghan refugee whose family fled Afghanistan in November 2021.\\n\\n\\n“We got a call and they said we had to go to the airport right away,” Hadia said of her family’s escape from Kabul. Because of security and safety concerns, VOA is sharing only her first name.\\n\\n\\nIn Afghanistan, Hadia had a bachelor's degree in public administration from Balkh Province. She also volunteered to help displaced people from other countries.\\n\\n\\nWhen Kabul fell to the Taliban, her family had to quickly make plans.\\n\\n\\nThe U.S. completed its withdrawal in August 2021 and helped evacuate more than 130,000 Afghans in a chaotic few weeks after nearly 20 years of war.\\n\\n\\n“We decided to leave our country because my father had a military background,” she said.\\n\\n\\nHadia’s father served in the Afghan army and worked directly with U.S. forces.\\n\\n\\nShe did not disclose who helped her family leave Afghanistan, but they were part of a group of people who were able to go to Abu Dhabi, the capital of the United Arab Emirates.\\n\\n\\nThey lived there for four months before receiving authorization to travel to the United States in March 2022.\\n\\n\\nPennsylvania was the place the U.S. government chose for the family to rebuild their lives.\\n\\n\\n“We [didn’t] know anyone here. We [were] worr[ied],” she said, adding, “It's really hard when we [first arrived] … how can we manage, you know, it's really hard to start from zero. You left everything behind in your country. When you come here you must start from zero.”\\n\\n\\n\\n\\nThat is where Samkoff and the other volunteers come in. They help recently arrived Afghans like Hadia and her family settle in and give them the resources they need to be successful in their new homeland.\\n\\n\\nSamkoff said she became a volunteer after talking to a friend who was helping to resettle another Afghan family.\\n\\n\\n“And I said, ‘You know, sign me up. How do we do this?’” Samkoff told VOA.\\n\\n\\nGoodwill\\n\\n\\nSamkoff is one of 1,866 volunteers in the Jewish Federations of North America network, which in partnership with the Shapiro Foundation launched a $1 million refugee resettlement initiative to support local communities around the country, including the Jewish Family Service of Greater Harrisburg (JFS).\\n\\n\\nThe network has resettled 1,963 Afghans across the country and is prepared to resettle more as they arrive.\\n\\n\\nDarcy Hirsh, associate vice president public affairs at Jewish Federations of North America, said volunteers play an important role in helping refugee families resettle.\\n\\n\\n“A lot of it is really goodwill. … Our model allows each community to respond in a way that makes the most sense to them. … I've been really proud of [the] engagement we've seen in communities,” Hirsh said.\\n\\n\\nHirsh said volunteers help find apartments and homes for Afghans. They also work together to furnish the new place, help them enroll children in school, find transportation to job interviews and teach them English.\\n\\n\\n“The support services we have at the agencies will help any Afghan that walks through the doors, but we're working very closely in coalition with many of the resettlement agencies … to pass the Afghan Adjustment Act that would not only help adjust status but provide an easier pathway for those that are remaining in Afghanistan,” she said.\\n\\n\\nThe Afghan Adjustment Act is bipartisan legislation that would allow eligible Afghans to apply for lawful permanent residence in the United States. It was introduced in both chambers of Congress in August.\\n\\n\\n\\n\\n“So we're hoping that bill will be attached to legislation that passes Congress by December,” Hirsh said.\\n\\n\\n\\nFirst Thanksgiving\\n\\n\\nAt the table, the family and friends had Tofurky, a plant-based, meat substitute made from tofu.\\n\\n\\nHadia said she tried to explain to her mother what the national holiday day means to the United States.\\n\\n\\n“It's like they meet [and] appreciate people with thanks. ... So it's really good. In our culture [it’s] also like that. We don't have any specific date to say thanks but we say thanks [to] everyone,” she said.\\n\\n\\nHadia said she looks forward to the future and hopes to one day work as a diplomat helping other refugees to find safety as she has. In Harrisburg, she is working as a social service worker and is volunteering to assist other refugee families.\\n\\n\\nShe told VOA her family is still adjusting to the new country.\\n\\n\\n“The United States is very busy. … Everyone is busy here. … [But] we have lots of opportunities here. During the morning I can work and during the evening I can take my classes,” she said.\\n\\n\\nSamkoff said helping Hadia’s family is a blessing and makes her feel “really good.”\\n\\n\\n“I don’t have any grandchildren of my own. I feel like if anybody asks me if I have any grandchildren, I would say, ‘Yes, I have seven. One of them is in Germany. I haven’t met him in person yet, but he’s coming,” Samkoff told VOA. That is Hadia’s brother, who is waiting to resettle in the U.S.\\n\\n\\n“My family is always excited when Judith [Samkoff] invites us [to come over] or other volunteers. You know, when we came here, we didn't have any family. Now they’re my family. I call Judith my grandmother,” Hadia said.\",\n",
       "   'summary_detail': {'type': 'text/html',\n",
       "    'language': None,\n",
       "    'base': 'https://www.voanews.com/api/zgvmqye_o_qv',\n",
       "    'value': \"Judith Samkoff needed a bigger dinner table for Thanksgiving this year.\\n\\n\\nThe 65-year-old Harrisburg, Pennsylvania, resident helped resettle an Afghan refugee family of eight, and because this is their first holiday in the United States, Samkoff invited them to her father and sister's home for Thanksgiving.\\n\\n\\n“Because they have a larger dining room table and more dining chairs than I have,” she said, adding, “Our meal is not completely traditional in that we're vegetarians.”\\n\\n\\nIn different homes around the U.S., Jewish volunteers who helped resettle Afghans are welcoming them for their first Thanksgiving dinner on U.S. soil.\\n\\n\\nOne of Samkoff's guests is Hadia, a 24-year-old Afghan refugee whose family fled Afghanistan in November 2021.\\n\\n\\n“We got a call and they said we had to go to the airport right away,” Hadia said of her family’s escape from Kabul. Because of security and safety concerns, VOA is sharing only her first name.\\n\\n\\nIn Afghanistan, Hadia had a bachelor's degree in public administration from Balkh Province. She also volunteered to help displaced people from other countries.\\n\\n\\nWhen Kabul fell to the Taliban, her family had to quickly make plans.\\n\\n\\nThe U.S. completed its withdrawal in August 2021 and helped evacuate more than 130,000 Afghans in a chaotic few weeks after nearly 20 years of war.\\n\\n\\n“We decided to leave our country because my father had a military background,” she said.\\n\\n\\nHadia’s father served in the Afghan army and worked directly with U.S. forces.\\n\\n\\nShe did not disclose who helped her family leave Afghanistan, but they were part of a group of people who were able to go to Abu Dhabi, the capital of the United Arab Emirates.\\n\\n\\nThey lived there for four months before receiving authorization to travel to the United States in March 2022.\\n\\n\\nPennsylvania was the place the U.S. government chose for the family to rebuild their lives.\\n\\n\\n“We [didn’t] know anyone here. We [were] worr[ied],” she said, adding, “It's really hard when we [first arrived] … how can we manage, you know, it's really hard to start from zero. You left everything behind in your country. When you come here you must start from zero.”\\n\\n\\n\\n\\nThat is where Samkoff and the other volunteers come in. They help recently arrived Afghans like Hadia and her family settle in and give them the resources they need to be successful in their new homeland.\\n\\n\\nSamkoff said she became a volunteer after talking to a friend who was helping to resettle another Afghan family.\\n\\n\\n“And I said, ‘You know, sign me up. How do we do this?’” Samkoff told VOA.\\n\\n\\nGoodwill\\n\\n\\nSamkoff is one of 1,866 volunteers in the Jewish Federations of North America network, which in partnership with the Shapiro Foundation launched a $1 million refugee resettlement initiative to support local communities around the country, including the Jewish Family Service of Greater Harrisburg (JFS).\\n\\n\\nThe network has resettled 1,963 Afghans across the country and is prepared to resettle more as they arrive.\\n\\n\\nDarcy Hirsh, associate vice president public affairs at Jewish Federations of North America, said volunteers play an important role in helping refugee families resettle.\\n\\n\\n“A lot of it is really goodwill. … Our model allows each community to respond in a way that makes the most sense to them. … I've been really proud of [the] engagement we've seen in communities,” Hirsh said.\\n\\n\\nHirsh said volunteers help find apartments and homes for Afghans. They also work together to furnish the new place, help them enroll children in school, find transportation to job interviews and teach them English.\\n\\n\\n“The support services we have at the agencies will help any Afghan that walks through the doors, but we're working very closely in coalition with many of the resettlement agencies … to pass the Afghan Adjustment Act that would not only help adjust status but provide an easier pathway for those that are remaining in Afghanistan,” she said.\\n\\n\\nThe Afghan Adjustment Act is bipartisan legislation that would allow eligible Afghans to apply for lawful permanent residence in the United States. It was introduced in both chambers of Congress in August.\\n\\n\\n\\n\\n“So we're hoping that bill will be attached to legislation that passes Congress by December,” Hirsh said.\\n\\n\\n\\nFirst Thanksgiving\\n\\n\\nAt the table, the family and friends had Tofurky, a plant-based, meat substitute made from tofu.\\n\\n\\nHadia said she tried to explain to her mother what the national holiday day means to the United States.\\n\\n\\n“It's like they meet [and] appreciate people with thanks. ... So it's really good. In our culture [it’s] also like that. We don't have any specific date to say thanks but we say thanks [to] everyone,” she said.\\n\\n\\nHadia said she looks forward to the future and hopes to one day work as a diplomat helping other refugees to find safety as she has. In Harrisburg, she is working as a social service worker and is volunteering to assist other refugee families.\\n\\n\\nShe told VOA her family is still adjusting to the new country.\\n\\n\\n“The United States is very busy. … Everyone is busy here. … [But] we have lots of opportunities here. During the morning I can work and during the evening I can take my classes,” she said.\\n\\n\\nSamkoff said helping Hadia’s family is a blessing and makes her feel “really good.”\\n\\n\\n“I don’t have any grandchildren of my own. I feel like if anybody asks me if I have any grandchildren, I would say, ‘Yes, I have seven. One of them is in Germany. I haven’t met him in person yet, but he’s coming,” Samkoff told VOA. That is Hadia’s brother, who is waiting to resettle in the U.S.\\n\\n\\n“My family is always excited when Judith [Samkoff] invites us [to come over] or other volunteers. You know, when we came here, we didn't have any family. Now they’re my family. I call Judith my grandmother,” Hadia said.\"},\n",
       "   'links': [{'rel': 'alternate',\n",
       "     'type': 'text/html',\n",
       "     'href': 'https://www.voanews.com/a/in-pennsylvania-afghan-refugees-celebrate-first-thanksgiving/6848961.html'},\n",
       "    {'length': '0',\n",
       "     'type': 'image/png',\n",
       "     'href': 'https://gdb.voanews.com/03370000-0aff-0242-72d4-08dace63898c_cx0_cy16_cw0_w800_h450.png',\n",
       "     'rel': 'enclosure'}],\n",
       "   'link': 'https://www.voanews.com/a/in-pennsylvania-afghan-refugees-celebrate-first-thanksgiving/6848961.html',\n",
       "   'id': 'https://www.voanews.com/a/in-pennsylvania-afghan-refugees-celebrate-first-thanksgiving/6848961.html',\n",
       "   'guidislink': False,\n",
       "   'published': 'Thu, 24 Nov 2022 15:21:11 -0500',\n",
       "   'published_parsed': time.struct_time(tm_year=2022, tm_mon=11, tm_mday=24, tm_hour=20, tm_min=21, tm_sec=11, tm_wday=3, tm_yday=328, tm_isdst=0),\n",
       "   'tags': [{'term': 'Immigration', 'scheme': None, 'label': None},\n",
       "    {'term': 'USA', 'scheme': None, 'label': None},\n",
       "    {'term': 'South & Central Asia', 'scheme': None, 'label': None}],\n",
       "   'authors': [{'name': 'Aline Barros', 'email': 'webdesk@voanews.com'}],\n",
       "   'author': 'webdesk@voanews.com (Aline Barros)',\n",
       "   'author_detail': {'name': 'Aline Barros', 'email': 'webdesk@voanews.com'}}],\n",
       " 'feed': {'title': 'Immigration - Voice of America',\n",
       "  'title_detail': {'type': 'text/plain',\n",
       "   'language': None,\n",
       "   'base': 'https://www.voanews.com/api/zgvmqye_o_qv',\n",
       "   'value': 'Immigration - Voice of America'},\n",
       "  'links': [{'rel': 'alternate',\n",
       "    'type': 'text/html',\n",
       "    'href': 'https://www.voanews.com/z/5362'},\n",
       "   {'href': 'https://www.voanews.com/api/zgvmqye_o_qv',\n",
       "    'rel': 'self',\n",
       "    'type': 'application/rss+xml'}],\n",
       "  'link': 'https://www.voanews.com/z/5362',\n",
       "  'subtitle': 'Recent stories about U.S. immigration policy, enforcement and the people who come to the U.S. as students, workers and refugees.',\n",
       "  'subtitle_detail': {'type': 'text/html',\n",
       "   'language': None,\n",
       "   'base': 'https://www.voanews.com/api/zgvmqye_o_qv',\n",
       "   'value': 'Recent stories about U.S. immigration policy, enforcement and the people who come to the U.S. as students, workers and refugees.'},\n",
       "  'image': {'href': 'https://www.voanews.com/Content/responsive/VOA/en-US/img/logo.png',\n",
       "   'title': 'Immigration - Voice of America',\n",
       "   'title_detail': {'type': 'text/plain',\n",
       "    'language': None,\n",
       "    'base': 'https://www.voanews.com/api/zgvmqye_o_qv',\n",
       "    'value': 'Immigration - Voice of America'},\n",
       "   'links': [{'rel': 'alternate',\n",
       "     'type': 'text/html',\n",
       "     'href': 'https://www.voanews.com/z/5362'}],\n",
       "   'link': 'https://www.voanews.com/z/5362'},\n",
       "  'language': 'en',\n",
       "  'rights': '2022 - VOA',\n",
       "  'rights_detail': {'type': 'text/plain',\n",
       "   'language': None,\n",
       "   'base': 'https://www.voanews.com/api/zgvmqye_o_qv',\n",
       "   'value': '2022 - VOA'},\n",
       "  'ttl': '60',\n",
       "  'updated': 'Mon, 19 Dec 2022 05:07:04 -0500',\n",
       "  'updated_parsed': time.struct_time(tm_year=2022, tm_mon=12, tm_mday=19, tm_hour=10, tm_min=7, tm_sec=4, tm_wday=0, tm_yday=353, tm_isdst=0),\n",
       "  'generator_detail': {'name': 'Pangea CMS – VOA'},\n",
       "  'generator': 'Pangea CMS – VOA'},\n",
       " 'headers': {'content-type': 'text/xml; charset=utf-8',\n",
       "  'x-ua-compatible': 'IE=edge',\n",
       "  'x-xss-protection': '1; mode=block',\n",
       "  'x-content-type-options': 'nosniff',\n",
       "  'content-encoding': 'gzip',\n",
       "  'content-length': '27420',\n",
       "  'cache-control': 'public, max-age=669',\n",
       "  'expires': 'Mon, 19 Dec 2022 10:23:24 GMT',\n",
       "  'date': 'Mon, 19 Dec 2022 10:12:15 GMT',\n",
       "  'connection': 'close',\n",
       "  'vary': 'Accept-Encoding',\n",
       "  'onion-location': 'https://www.voanews5aitmne6gs2btokcacixclgfl43cv27sirgbauyyjylwpdtqd.onion/api/zgvmqye_o_qv',\n",
       "  'content-security-policy': \"frame-ancestors 'none'\",\n",
       "  'strict-transport-security': 'max-age=31536000'},\n",
       " 'href': 'https://www.voanews.com/api/zgvmqye_o_qv',\n",
       " 'status': 200,\n",
       " 'encoding': 'utf-8',\n",
       " 'version': 'rss20',\n",
       " 'namespaces': {'': 'http://www.w3.org/2005/Atom'}}"
      ]
     },
     "execution_count": 2,
     "metadata": {},
     "output_type": "execute_result"
    }
   ],
   "source": [
    "feed = feedparser.parse(\"https://www.voanews.com/api/zgvmqye_o_qv\")\n",
    "\n",
    "# You can try other news websites as well:\n",
    "\n",
    "# feed = feedparser.parse(\"https://www.aljazeera.com/xml/rss/all.xml\")\n",
    "# feed = feedparser.parse(\"http://rss.cnn.com/rss/edition_europe.rss\")\n",
    "\n",
    "feed"
   ]
  },
  {
   "cell_type": "markdown",
   "id": "34e431dc",
   "metadata": {},
   "source": [
    "<div class=\"alert alert-block alert-info\">\n",
    "<b>Hint:</b> \n",
    "You can try the following ways in order to get a website's RSS feed:\n",
    "\n",
    "- If the website is powered by Wordpress, you can do it by adding /feed/ at the end of its URL. Trying /rss/ is another option.\n",
    "<img src='images/rss_logo.png' style='height: 50px; float: right; margin-left: 50px' >\n",
    "- If you see the standard orange RSS logo, by simply clicking on it you will be taken to the website's RSS feed.\n",
    "- You can also use the page source: right click on the page and choose page source. In the new window, use ctrl+f and type in RSS. You’ll find the feed’s URL between the quotes after **href=**.\n",
    "\n",
    "The parse method fetches the feed from the provided URL, extracts the information in a systematic way and stores each piece in a structured format. At the high level, it returns a python dictionary with multiple keys and values, in which each value may contain python lists or other dictionaries. You can access the keys using the **keys()** method:\n",
    "</div>"
   ]
  },
  {
   "cell_type": "code",
   "execution_count": 3,
   "id": "ebd44f8f",
   "metadata": {},
   "outputs": [
    {
     "data": {
      "text/plain": [
       "dict_keys(['bozo', 'entries', 'feed', 'headers', 'href', 'status', 'encoding', 'version', 'namespaces'])"
      ]
     },
     "execution_count": 3,
     "metadata": {},
     "output_type": "execute_result"
    }
   ],
   "source": [
    "feed.keys()"
   ]
  },
  {
   "cell_type": "markdown",
   "id": "cb6810a7",
   "metadata": {},
   "source": [
    "Using these keys, we can access the more specific information that we want. The most common keys that can be used for extracting information are **entries** and **feed**."
   ]
  },
  {
   "cell_type": "markdown",
   "id": "2f0a7703",
   "metadata": {},
   "source": [
    "#### Extracting the contents from the feed\n",
    "We will start with the **entries** key. We can get the list of all the posts/podcasts/entries or any other form of content the feed is serving for, from the **entries** key in the dictionary. More information on other possible keys in the returned dictionary can be found [here](https://feedparser.readthedocs.io/en/latest/reference.html)."
   ]
  },
  {
   "cell_type": "code",
   "execution_count": 4,
   "id": "d2fb01c0",
   "metadata": {},
   "outputs": [
    {
     "data": {
      "text/plain": [
       "[{'title': 'United Nations Marks International Migrants Day',\n",
       "  'title_detail': {'type': 'text/plain',\n",
       "   'language': None,\n",
       "   'base': 'https://www.voanews.com/api/zgvmqye_o_qv',\n",
       "   'value': 'United Nations Marks International Migrants Day'},\n",
       "  'summary': 'The United Nations Sunday marks International Migrants Day, to commemorate the contributions of hundreds of millions of migrants who have faced challenges to leave home for a better life.\\xa0\\n\\n\\nThis year’s celebrations occur as increasing numbers of European countries close their doors to refugees and economic migrants from Afghanistan, the Middle East, and Africa. They are taking place as a growing number of migrants from Central America try to cross the southern U.S. border.\\n\\n\\nThe United Nations says people do not willingly leave home. It says most of the world’s 280 million international migrants have been forced to move by conflict, persecution, desperate poverty, and, increasingly, climate change.\\n\\n\\n\\n\\nMany migrants, who lack legal pathways, take dangerous routes to countries of asylum. Many are exploited, abused, and die along the way. The International Organization for Migration estimates more than 50,000 migrants have died, and thousands more have disappeared over the past eight years.\\n\\n\\nIOM Director-General Antonio Vitorino says the world is failing to protect the most vulnerable people.\\n\\n\\n“Indeed, the world over, migrants move, often at great risks, for the most fundamental of reasons\\xa0— to seek a better future for themselves and their families. Behind every journey there is a person, there is a story no less valid than our own. This year to mark International Migrants Day, I want to pay tribute to all those who have died or disappeared on the threshold of their dreams.”\\n\\n\\n\\n\\nWorld Health Organization Director-General Tedros Adhanom Ghebreyesus echoes these sentiments. He says countries have a legal and moral duty to assist those in distress and provide health services and protection for vulnerable people.\\n\\n\\n“In seeking a better life, many migrants are in vulnerable situations, suffer from poor health and cannot access health services. We can prevent suffering and save lives by supporting countries to build resilient health and care systems that are sensitive to the needs of migrants,” he said.\\n\\n\\nThe United Nations says migrants’ rights are human rights and must be respected without discrimination. These rights, it adds, pertain regardless of whether people are forced to flee or move voluntarily.',\n",
       "  'summary_detail': {'type': 'text/html',\n",
       "   'language': None,\n",
       "   'base': 'https://www.voanews.com/api/zgvmqye_o_qv',\n",
       "   'value': 'The United Nations Sunday marks International Migrants Day, to commemorate the contributions of hundreds of millions of migrants who have faced challenges to leave home for a better life.\\xa0\\n\\n\\nThis year’s celebrations occur as increasing numbers of European countries close their doors to refugees and economic migrants from Afghanistan, the Middle East, and Africa. They are taking place as a growing number of migrants from Central America try to cross the southern U.S. border.\\n\\n\\nThe United Nations says people do not willingly leave home. It says most of the world’s 280 million international migrants have been forced to move by conflict, persecution, desperate poverty, and, increasingly, climate change.\\n\\n\\n\\n\\nMany migrants, who lack legal pathways, take dangerous routes to countries of asylum. Many are exploited, abused, and die along the way. The International Organization for Migration estimates more than 50,000 migrants have died, and thousands more have disappeared over the past eight years.\\n\\n\\nIOM Director-General Antonio Vitorino says the world is failing to protect the most vulnerable people.\\n\\n\\n“Indeed, the world over, migrants move, often at great risks, for the most fundamental of reasons\\xa0— to seek a better future for themselves and their families. Behind every journey there is a person, there is a story no less valid than our own. This year to mark International Migrants Day, I want to pay tribute to all those who have died or disappeared on the threshold of their dreams.”\\n\\n\\n\\n\\nWorld Health Organization Director-General Tedros Adhanom Ghebreyesus echoes these sentiments. He says countries have a legal and moral duty to assist those in distress and provide health services and protection for vulnerable people.\\n\\n\\n“In seeking a better life, many migrants are in vulnerable situations, suffer from poor health and cannot access health services. We can prevent suffering and save lives by supporting countries to build resilient health and care systems that are sensitive to the needs of migrants,” he said.\\n\\n\\nThe United Nations says migrants’ rights are human rights and must be respected without discrimination. These rights, it adds, pertain regardless of whether people are forced to flee or move voluntarily.'},\n",
       "  'links': [{'rel': 'alternate',\n",
       "    'type': 'text/html',\n",
       "    'href': 'https://www.voanews.com/a/united-nations-marks-international-migrants-day-/6881380.html'},\n",
       "   {'length': '0',\n",
       "    'type': 'image/jpeg',\n",
       "    'href': 'https://gdb.voanews.com/09410000-0a00-0242-98b4-08daccb885a2_w800_h450.jpg',\n",
       "    'rel': 'enclosure'}],\n",
       "  'link': 'https://www.voanews.com/a/united-nations-marks-international-migrants-day-/6881380.html',\n",
       "  'id': 'https://www.voanews.com/a/united-nations-marks-international-migrants-day-/6881380.html',\n",
       "  'guidislink': False,\n",
       "  'published': 'Sun, 18 Dec 2022 09:17:43 -0500',\n",
       "  'published_parsed': time.struct_time(tm_year=2022, tm_mon=12, tm_mday=18, tm_hour=14, tm_min=17, tm_sec=43, tm_wday=6, tm_yday=352, tm_isdst=0),\n",
       "  'tags': [{'term': 'Immigration', 'scheme': None, 'label': None}],\n",
       "  'authors': [{'name': 'Lisa Schlein', 'email': 'webdesk@voanews.com'}],\n",
       "  'author': 'webdesk@voanews.com (Lisa Schlein)',\n",
       "  'author_detail': {'name': 'Lisa Schlein', 'email': 'webdesk@voanews.com'}},\n",
       " {'title': 'State of Emergency Declared in US Border City',\n",
       "  'title_detail': {'type': 'text/plain',\n",
       "   'language': None,\n",
       "   'base': 'https://www.voanews.com/api/zgvmqye_o_qv',\n",
       "   'value': 'State of Emergency Declared in US Border City'},\n",
       "  'summary': 'The mayor of El Paso, Texas, Saturday declared a state of emergency as the U.S. border city faces a daily influx of thousands of migrants from Latin American countries over the border with Mexico.\\n\\n\\nMayor Oscar Leeser, a Democrat, said the declaration would give the city the money and other needed resources to deal with the migrant crisis.\\n\\n\\n\"We wanted to make sure people are treated with dignity. We want to make sure everyone is safe,\" Leeser said.\\n\\n\\nU.S. officials say more than 2,400 migrants cross into El Paso every day, far beyond its shelter capacity, and thousands of migrants are sleeping on El Paso’s streets, just as the temperatures are dropping.\\n\\n\\nThe emergency declaration came just days before a federal health order, referred to as Title 42, expires Wednesday. Title 42, enacted during the COVID-19 pandemic, allowed for the quick return of migrants across the border.\\n\\n\\nIf Title 42 is no longer in effect next week, Leeser said U.S. officials have told him the daily number of migrants crossing daily into the U.S. through El Paso could jump from 2,400 to as high as 6,000.\\n\\n\\nDemocratic state Senator César J. Blanco, who represents El Paso, said in a statement that the border community “is facing an extraordinary humanitarian crisis.”',\n",
       "  'summary_detail': {'type': 'text/html',\n",
       "   'language': None,\n",
       "   'base': 'https://www.voanews.com/api/zgvmqye_o_qv',\n",
       "   'value': 'The mayor of El Paso, Texas, Saturday declared a state of emergency as the U.S. border city faces a daily influx of thousands of migrants from Latin American countries over the border with Mexico.\\n\\n\\nMayor Oscar Leeser, a Democrat, said the declaration would give the city the money and other needed resources to deal with the migrant crisis.\\n\\n\\n\"We wanted to make sure people are treated with dignity. We want to make sure everyone is safe,\" Leeser said.\\n\\n\\nU.S. officials say more than 2,400 migrants cross into El Paso every day, far beyond its shelter capacity, and thousands of migrants are sleeping on El Paso’s streets, just as the temperatures are dropping.\\n\\n\\nThe emergency declaration came just days before a federal health order, referred to as Title 42, expires Wednesday. Title 42, enacted during the COVID-19 pandemic, allowed for the quick return of migrants across the border.\\n\\n\\nIf Title 42 is no longer in effect next week, Leeser said U.S. officials have told him the daily number of migrants crossing daily into the U.S. through El Paso could jump from 2,400 to as high as 6,000.\\n\\n\\nDemocratic state Senator César J. Blanco, who represents El Paso, said in a statement that the border community “is facing an extraordinary humanitarian crisis.”'},\n",
       "  'links': [{'rel': 'alternate',\n",
       "    'type': 'text/html',\n",
       "    'href': 'https://www.voanews.com/a/state-of-emergency-declared-in-us-border-city-/6881337.html'},\n",
       "   {'length': '0',\n",
       "    'type': 'image/jpeg',\n",
       "    'href': 'https://gdb.voanews.com/022a0000-0aff-0242-5381-08dae0fa47d6_w800_h450.jpg',\n",
       "    'rel': 'enclosure'}],\n",
       "  'link': 'https://www.voanews.com/a/state-of-emergency-declared-in-us-border-city-/6881337.html',\n",
       "  'id': 'https://www.voanews.com/a/state-of-emergency-declared-in-us-border-city-/6881337.html',\n",
       "  'guidislink': False,\n",
       "  'published': 'Sun, 18 Dec 2022 08:21:03 -0500',\n",
       "  'published_parsed': time.struct_time(tm_year=2022, tm_mon=12, tm_mday=18, tm_hour=13, tm_min=21, tm_sec=3, tm_wday=6, tm_yday=352, tm_isdst=0),\n",
       "  'tags': [{'term': 'USA', 'scheme': None, 'label': None},\n",
       "   {'term': 'Immigration', 'scheme': None, 'label': None}],\n",
       "  'authors': [{'name': 'VOA News', 'email': 'webdesk@voanews.com'}],\n",
       "  'author': 'webdesk@voanews.com (VOA News)',\n",
       "  'author_detail': {'name': 'VOA News', 'email': 'webdesk@voanews.com'}},\n",
       " {'title': \"India's Visa Temples Attract Devotees Aspiring to Go Abroad\",\n",
       "  'title_detail': {'type': 'text/plain',\n",
       "   'language': None,\n",
       "   'base': 'https://www.voanews.com/api/zgvmqye_o_qv',\n",
       "   'value': \"India's Visa Temples Attract Devotees Aspiring to Go Abroad\"},\n",
       "  'summary': 'Arjun Viswanathan stood on the street, his hands folded, eyes fixed on the idol of the Hindu deity Ganesh.\\n\\n\\nOn a humid morning, the information technology professional was waiting outside the temple, the size of a small closet – barely enough room for the lone priest to stand and perform puja or rituals for the beloved elephant-headed deity, believed to be the remover of obstacles.\\n\\n\\nViswanathan was among about a dozen visitors, most of them there for the same purpose: To offer prayers so their U.S. visa interviews would go smoothly and successfully. Viswanathan came the day before his interview for an employment visa.\\n\\n\\n\"I came here to pray for my brother\\'s U.K. visa 10 years ago and for my wife\\'s U.S. visa two years ago,\" he said. \"They were both successful. So I have faith.\"\\n\\n\\nThe Sri Lakshmi Visa Ganapathy Temple is a few miles north of the airport in Chennai (formerly Madras), a bustling metropolis on the Coromandel Coast in southeast India -- known for its iconic cuisine, ancient temples and churches, silk saris, classical music, dance and sculptures.\\n\\n\\nThis \"visa temple\" has surged in popularity among U.S. visa seekers over the past decade; they can be found in almost any Indian city with a U.S. consulate. They typically gain a following through word of mouth or social media.\\n\\n\\nA mile away from the Ganesh temple is the Sri Lakshmi Narasimha Navaneetha Krishnan Temple, where an idol of Hanuman – a deity who has a human body and the face of a monkey — is believed to possess the power to secure visas. Also known as \"Anjaneya,\" this god stands for strength, wisdom and devotion. In this temple, he has earned the monikers \"America Anjaneya\" and \"Visa Anjaneya.\"\\n\\n\\nThe temple\\'s longtime secretary, G.C. Srinivasan, said it wasn\\'t until 2016 that this temple became a \"visa temple.\"\\n\\n\\n\"It was around that time that a few people who prayed for a visa spread the word around that they were successful, and it\\'s continued,\" he said.\\n\\n\\nA month ago, Srinivasan said he met someone who got news of his visa approval even as as he was circumambulating the Anjaneya idol — a common Hindu practice of walking around a sacred object or site.\\n\\n\\nOn a recent Saturday night, devotees decorated the idol with garlands made of betel leaves. S. Pradeep, who placed a garland on the deity, said he was not there to pray for a visa, but believes in the god\\'s unique power.\\n\\n\\n\"He is my favorite god,\" he said. \"If you genuinely pray – not just for visa – it will come true.\"\\n\\n\\nAt the Ganesh temple, some devotees had success stories to share. Jyothi Bontha said her visa interview at the U.S. Consulate in Chennai went without a hitch, and that she had returned to offer thanks.\\n\\n\\n\"They barely asked me a couple of questions,\" she said. \"I was pleasantly surprised.\"\\xa0\\n\\n\\nBontha\\'s friend, Phani Veeranki, stood nearby, nervously clutching an envelope containing her visa application and supporting documents. Bontha and Veeranki, both computer science students from the neighboring state of Andhra Pradesh and childhood friends, are headed to Ohio.\\n\\n\\n\\n\\nBoth learned about the visa temple on the social media platform Telegram.\\n\\n\\nVeeranki said she was anxious because she had a lot riding on her upcoming visa interview.\\n\\n\\n\"I\\'m the first person in my family to go the United States,\" she said. \"My mother is afraid to send me. But I\\'m excited for the opportunities I\\'ll have in America.\"\\n\\n\\nVeeranki then handed over the envelope to the temple\\'s priest for him to place at the foot of the idol for a blessing.\\n\\n\\n\"We\\'ve been hearing about applications being rejected,\" she said, her hands still folded in prayer. \"I\\'m really hoping mine gets approved.\"\\n\\n\\nIf she and Bontha make it to Ohio, they want to take a trip to Niagara Falls.\\n\\n\\n\"I\\'ve always wanted to see it,\" Bontha said.\\n\\n\\nMohanbabu Jagannathan and his wife, Sangeetha, run the temple, which Jagannathan\\'s grandfather built in 1987. Their house is on a cul-de-sac, which is considered bad luck in several Asian cultures. In Chennai, it is common to find a Ganesh temple outside cul-de-sac homes due to the belief that the deity has the power to ward off evil. At first, only neighbors came to the temple, Jagannathan said.\\n\\n\\n\"But over the years it started earning a quirky reputation,\" he said. \"A lot of visa applicants who came to the temple spread the word that they found success after praying here.\"\\n\\n\\nIn 2009, his father, Jagannathan Radhakrishnan, reconstructed the temple and added the word \"visa\" to the temple\\'s name. Jagannathan said the success stories are heartwarming; visitors sometimes stop by his home to thank his family for keeping the temple open.\\n\\n\\n\"I\\'ve never been bothered by it,\" Jagannathan said. \"We offer this as a service to the public. It\\'s a joy to see how happy people are when they come back and tell us they got their visa.\"\\n\\n\\nHis wife said she was touched by the story of a man who came all the way from New Delhi to pray for a visa to see his grandchild after eight years apart. She remembers another time when a woman called her in tears, saying her visa application was rejected.\\n\\n\\n\"Sure, some don\\'t get it,\" she said. \"God only knows why.\"\\n\\n\\nPadma Kannan brought her daughter, Monisha, who is preparing to pursue a master\\'s degree in marketing analytics at Clark University. Kannan believes her daughter got her visa because of this powerful deity.\\n\\n\\n\"I found this temple on Google,\" she said. \"I was so nervous for her, and so I prayed here.\"\\n\\n\\nMonisha Kannan said she is not so sure she got her visa because of this temple, but she said she came to support her mom.\\n\\n\\n\"I\\'m skeptical,\" she said. \"I\\'m just someone who goes with the flow.\"\\n\\n\\nHer mother takes a more philosophical stance.\\n\\n\\n\"We pray for our children and things happen easily for them,\" she said. \"I think when they go through the rigors of life themselves, they will start believing in the power of prayer.\"\\n\\n\\nViswanathan said he is not someone \"who usually believes in such things.\" When his brother got his British visa a decade ago after offering prayers here, Viswanathan chalked it up to coincidence. He became a believer when his wife got her U.S. visa two years ago, he said.\\n\\n\\nThe day after he visited the temple this time, Viswanathan\\'s employment visa was approved. He\\'ll head to New Hampshire in a few months.\\n\\n\\n\"It\\'s all about faith,\" he said. \"If you believe it will happen, it will happen.\"',\n",
       "  'summary_detail': {'type': 'text/html',\n",
       "   'language': None,\n",
       "   'base': 'https://www.voanews.com/api/zgvmqye_o_qv',\n",
       "   'value': 'Arjun Viswanathan stood on the street, his hands folded, eyes fixed on the idol of the Hindu deity Ganesh.\\n\\n\\nOn a humid morning, the information technology professional was waiting outside the temple, the size of a small closet – barely enough room for the lone priest to stand and perform puja or rituals for the beloved elephant-headed deity, believed to be the remover of obstacles.\\n\\n\\nViswanathan was among about a dozen visitors, most of them there for the same purpose: To offer prayers so their U.S. visa interviews would go smoothly and successfully. Viswanathan came the day before his interview for an employment visa.\\n\\n\\n\"I came here to pray for my brother\\'s U.K. visa 10 years ago and for my wife\\'s U.S. visa two years ago,\" he said. \"They were both successful. So I have faith.\"\\n\\n\\nThe Sri Lakshmi Visa Ganapathy Temple is a few miles north of the airport in Chennai (formerly Madras), a bustling metropolis on the Coromandel Coast in southeast India -- known for its iconic cuisine, ancient temples and churches, silk saris, classical music, dance and sculptures.\\n\\n\\nThis \"visa temple\" has surged in popularity among U.S. visa seekers over the past decade; they can be found in almost any Indian city with a U.S. consulate. They typically gain a following through word of mouth or social media.\\n\\n\\nA mile away from the Ganesh temple is the Sri Lakshmi Narasimha Navaneetha Krishnan Temple, where an idol of Hanuman – a deity who has a human body and the face of a monkey — is believed to possess the power to secure visas. Also known as \"Anjaneya,\" this god stands for strength, wisdom and devotion. In this temple, he has earned the monikers \"America Anjaneya\" and \"Visa Anjaneya.\"\\n\\n\\nThe temple\\'s longtime secretary, G.C. Srinivasan, said it wasn\\'t until 2016 that this temple became a \"visa temple.\"\\n\\n\\n\"It was around that time that a few people who prayed for a visa spread the word around that they were successful, and it\\'s continued,\" he said.\\n\\n\\nA month ago, Srinivasan said he met someone who got news of his visa approval even as as he was circumambulating the Anjaneya idol — a common Hindu practice of walking around a sacred object or site.\\n\\n\\nOn a recent Saturday night, devotees decorated the idol with garlands made of betel leaves. S. Pradeep, who placed a garland on the deity, said he was not there to pray for a visa, but believes in the god\\'s unique power.\\n\\n\\n\"He is my favorite god,\" he said. \"If you genuinely pray – not just for visa – it will come true.\"\\n\\n\\nAt the Ganesh temple, some devotees had success stories to share. Jyothi Bontha said her visa interview at the U.S. Consulate in Chennai went without a hitch, and that she had returned to offer thanks.\\n\\n\\n\"They barely asked me a couple of questions,\" she said. \"I was pleasantly surprised.\"\\xa0\\n\\n\\nBontha\\'s friend, Phani Veeranki, stood nearby, nervously clutching an envelope containing her visa application and supporting documents. Bontha and Veeranki, both computer science students from the neighboring state of Andhra Pradesh and childhood friends, are headed to Ohio.\\n\\n\\n\\n\\nBoth learned about the visa temple on the social media platform Telegram.\\n\\n\\nVeeranki said she was anxious because she had a lot riding on her upcoming visa interview.\\n\\n\\n\"I\\'m the first person in my family to go the United States,\" she said. \"My mother is afraid to send me. But I\\'m excited for the opportunities I\\'ll have in America.\"\\n\\n\\nVeeranki then handed over the envelope to the temple\\'s priest for him to place at the foot of the idol for a blessing.\\n\\n\\n\"We\\'ve been hearing about applications being rejected,\" she said, her hands still folded in prayer. \"I\\'m really hoping mine gets approved.\"\\n\\n\\nIf she and Bontha make it to Ohio, they want to take a trip to Niagara Falls.\\n\\n\\n\"I\\'ve always wanted to see it,\" Bontha said.\\n\\n\\nMohanbabu Jagannathan and his wife, Sangeetha, run the temple, which Jagannathan\\'s grandfather built in 1987. Their house is on a cul-de-sac, which is considered bad luck in several Asian cultures. In Chennai, it is common to find a Ganesh temple outside cul-de-sac homes due to the belief that the deity has the power to ward off evil. At first, only neighbors came to the temple, Jagannathan said.\\n\\n\\n\"But over the years it started earning a quirky reputation,\" he said. \"A lot of visa applicants who came to the temple spread the word that they found success after praying here.\"\\n\\n\\nIn 2009, his father, Jagannathan Radhakrishnan, reconstructed the temple and added the word \"visa\" to the temple\\'s name. Jagannathan said the success stories are heartwarming; visitors sometimes stop by his home to thank his family for keeping the temple open.\\n\\n\\n\"I\\'ve never been bothered by it,\" Jagannathan said. \"We offer this as a service to the public. It\\'s a joy to see how happy people are when they come back and tell us they got their visa.\"\\n\\n\\nHis wife said she was touched by the story of a man who came all the way from New Delhi to pray for a visa to see his grandchild after eight years apart. She remembers another time when a woman called her in tears, saying her visa application was rejected.\\n\\n\\n\"Sure, some don\\'t get it,\" she said. \"God only knows why.\"\\n\\n\\nPadma Kannan brought her daughter, Monisha, who is preparing to pursue a master\\'s degree in marketing analytics at Clark University. Kannan believes her daughter got her visa because of this powerful deity.\\n\\n\\n\"I found this temple on Google,\" she said. \"I was so nervous for her, and so I prayed here.\"\\n\\n\\nMonisha Kannan said she is not so sure she got her visa because of this temple, but she said she came to support her mom.\\n\\n\\n\"I\\'m skeptical,\" she said. \"I\\'m just someone who goes with the flow.\"\\n\\n\\nHer mother takes a more philosophical stance.\\n\\n\\n\"We pray for our children and things happen easily for them,\" she said. \"I think when they go through the rigors of life themselves, they will start believing in the power of prayer.\"\\n\\n\\nViswanathan said he is not someone \"who usually believes in such things.\" When his brother got his British visa a decade ago after offering prayers here, Viswanathan chalked it up to coincidence. He became a believer when his wife got her U.S. visa two years ago, he said.\\n\\n\\nThe day after he visited the temple this time, Viswanathan\\'s employment visa was approved. He\\'ll head to New Hampshire in a few months.\\n\\n\\n\"It\\'s all about faith,\" he said. \"If you believe it will happen, it will happen.\"'},\n",
       "  'links': [{'rel': 'alternate',\n",
       "    'type': 'text/html',\n",
       "    'href': 'https://www.voanews.com/a/india-s-visa-temples-attract-devotees-aspiring-to-go-abroad-/6881207.html'},\n",
       "   {'length': '0',\n",
       "    'type': 'image/jpeg',\n",
       "    'href': 'https://gdb.voanews.com/09410000-0a00-0242-4007-08dae099e0fc_cx0_cy13_cw0_w800_h450.jpg',\n",
       "    'rel': 'enclosure'}],\n",
       "  'link': 'https://www.voanews.com/a/india-s-visa-temples-attract-devotees-aspiring-to-go-abroad-/6881207.html',\n",
       "  'id': 'https://www.voanews.com/a/india-s-visa-temples-attract-devotees-aspiring-to-go-abroad-/6881207.html',\n",
       "  'guidislink': False,\n",
       "  'published': 'Sat, 17 Dec 2022 20:50:16 -0500',\n",
       "  'published_parsed': time.struct_time(tm_year=2022, tm_mon=12, tm_mday=18, tm_hour=1, tm_min=50, tm_sec=16, tm_wday=6, tm_yday=352, tm_isdst=0),\n",
       "  'tags': [{'term': 'South & Central Asia', 'scheme': None, 'label': None},\n",
       "   {'term': 'Immigration', 'scheme': None, 'label': None}],\n",
       "  'authors': [{'name': 'Associated Press', 'email': 'webdesk@voanews.com'}],\n",
       "  'author': 'webdesk@voanews.com (Associated Press)',\n",
       "  'author_detail': {'name': 'Associated Press',\n",
       "   'email': 'webdesk@voanews.com'}},\n",
       " {'title': 'Overwhelmed by Influx, Mexican Mayor Urges Migrants to Go Elsewhere',\n",
       "  'title_detail': {'type': 'text/plain',\n",
       "   'language': None,\n",
       "   'base': 'https://www.voanews.com/api/zgvmqye_o_qv',\n",
       "   'value': 'Overwhelmed by Influx, Mexican Mayor Urges Migrants to Go Elsewhere'},\n",
       "  'summary': \"The mayor of Reynosa, Mexico, near the US border, is warning migrants to stay away because his city has been overwhelmed by the thousands of migrants already there and can't help any more who are making their way to the United States. Victor Hugo Castilllo reports. Camera: Victor Hugo Castilllo.\",\n",
       "  'summary_detail': {'type': 'text/html',\n",
       "   'language': None,\n",
       "   'base': 'https://www.voanews.com/api/zgvmqye_o_qv',\n",
       "   'value': \"The mayor of Reynosa, Mexico, near the US border, is warning migrants to stay away because his city has been overwhelmed by the thousands of migrants already there and can't help any more who are making their way to the United States. Victor Hugo Castilllo reports. Camera: Victor Hugo Castilllo.\"},\n",
       "  'links': [{'rel': 'alternate',\n",
       "    'type': 'text/html',\n",
       "    'href': 'https://www.voanews.com/a/overwhelmed-by-influx-mexican-mayor-urges-migrants-to-go-elsewhere-/6880454.html'},\n",
       "   {'length': '0',\n",
       "    'type': 'image/jpeg',\n",
       "    'href': 'https://gdb.voanews.com/022a0000-0aff-0242-1d9e-08dadfcc2266_tv_w800_h450.jpg',\n",
       "    'rel': 'enclosure'}],\n",
       "  'link': 'https://www.voanews.com/a/overwhelmed-by-influx-mexican-mayor-urges-migrants-to-go-elsewhere-/6880454.html',\n",
       "  'id': 'https://www.voanews.com/a/overwhelmed-by-influx-mexican-mayor-urges-migrants-to-go-elsewhere-/6880454.html',\n",
       "  'guidislink': False,\n",
       "  'published': 'Fri, 16 Dec 2022 20:37:42 -0500',\n",
       "  'published_parsed': time.struct_time(tm_year=2022, tm_mon=12, tm_mday=17, tm_hour=1, tm_min=37, tm_sec=42, tm_wday=5, tm_yday=351, tm_isdst=0),\n",
       "  'tags': [{'term': 'Immigration', 'scheme': None, 'label': None},\n",
       "   {'term': 'USA', 'scheme': None, 'label': None},\n",
       "   {'term': 'Americas', 'scheme': None, 'label': None}],\n",
       "  'authors': [{'name': 'Victor Hugo Castillo',\n",
       "    'email': 'webdesk@voanews.com'}],\n",
       "  'author': 'webdesk@voanews.com (Victor Hugo Castillo)',\n",
       "  'author_detail': {'name': 'Victor Hugo Castillo',\n",
       "   'email': 'webdesk@voanews.com'}},\n",
       " {'title': 'VOA Immigration Weekly Recap, December 11–17',\n",
       "  'title_detail': {'type': 'text/plain',\n",
       "   'language': None,\n",
       "   'base': 'https://www.voanews.com/api/zgvmqye_o_qv',\n",
       "   'value': 'VOA Immigration Weekly Recap, December 11–17'},\n",
       "  'summary': \"Editor's note: Here is a look at immigration-related news around the U.S. this week. Questions? Tips? Comments? Email the VOA immigration team: ImmigrationUnit@voanews.com.\\n\\n\\n\\nUS Revives Refugee-, Migrant-Support Task Force \\n\\n\\nThe U.S. government is bringing back a commission aimed at helping immigrants integrate in the U.S. through language learning, workforce training and financial education programs. The effort will assist newcomers under legal status in the United States, according to Brandon Prelogar, special adviser for humanitarian protection and refugees at the White House Domestic Policy Council (DPC), in a Monday interview with VOA. Immigration reporter Aline Barros has the story with VOA’s LATAM White House correspondent Jorge Agobian.\\n\\n\\nEnd of Title 42 Looming, US Immigration Agency Releases Detailed Assessment\\n\\n\\nWith the imminent sidelining of Title 42 — a pandemic-era restriction that blocked migrants from seeking asylum in the U.S. — the Department of Homeland Security (DHS) recently outlined steps it will take at the U.S.-Mexico border if the order is lifted. A federal judge in Washington ordered enforcement of Title 42 to end December 21. Republican-led states filed an appeal asking the court to keep it in place. The Biden administration also has challenged parts of the ruling ending the Trump-era asylum restrictions. VOA’s immigration reporter Aline Barros reports.\\n\\n\\nIn pictures:\\n\\n\\n\\n\\nImmigration around the world\\n\\n\\nUN: Climate of Oppression Intensifies in Nicaragua \\n\\n\\nU.N. High Commissioner for Human Rights Volker Tuerk warns people's rights and freedoms in Nicaragua are being whittled away by the increasingly authoritarian government of President Daniel Ortega. The high commissioner presented an update Thursday on the situation to the U.N. Human Rights Council. Lisa Schlein reports for VOA from Geneva.\\n\\n\\n509 Migrants Arrive in Italy as Rescue Ships Dock \\n\\n\\nItaly, which has vowed a tough line on immigration, took in more than 500 migrants Sunday as two charity rescue ships were allowed to dock at ports in the south of the country after several days at sea in bad weather, Reuters reports.\\n\\n\\n27 Suspected Ethiopian Migrants Found Dead in Zambia \\n\\n\\nZambian police Sunday found the bodies of 27 men, believed to be migrants from Ethiopia, dumped in a farming area on the outskirts of the capital. Authorities said they died from suspected hunger and exhaustion, Reuters reports.\\n\\n\\nAfghan Academic Rebuilds Her Life in Italy, Dreams of Returning \\n\\n\\nBatool Haidari was a prominent sexology professor at a Kabul university before the Taliban takeover of Afghanistan. She taught mixed classes of male and female students and helped patients struggling with gender identity issues, The Associated Press reports.\\n\\n\\nNews Brief\\n\\n\\n— The U.S. Department of Homeland Security Secretary released a statement on the agency's plan for the end of Title 42. “The Title 42 public health order remains in place\\u202fthrough December 20, 2022, and until then, DHS will continue to expel single adults and families encountered at the southwest border under that authority.”\\n\\n\\n— The U.S. Citizenship and Immigration Services (USCIS) plans to conduct a trial for updates to the current naturalization test. “The naturalization test is a key step in becoming a U.S. citizen. We welcome input from – and the participation of – stakeholders who are familiar with this important process, as we continue to improve and update our naturalization test, ensuring that it is consistent with industry testing standards,” USCIS Director Ur M. Jaddou said in a statement.\",\n",
       "  'summary_detail': {'type': 'text/html',\n",
       "   'language': None,\n",
       "   'base': 'https://www.voanews.com/api/zgvmqye_o_qv',\n",
       "   'value': \"Editor's note: Here is a look at immigration-related news around the U.S. this week. Questions? Tips? Comments? Email the VOA immigration team: ImmigrationUnit@voanews.com.\\n\\n\\n\\nUS Revives Refugee-, Migrant-Support Task Force \\n\\n\\nThe U.S. government is bringing back a commission aimed at helping immigrants integrate in the U.S. through language learning, workforce training and financial education programs. The effort will assist newcomers under legal status in the United States, according to Brandon Prelogar, special adviser for humanitarian protection and refugees at the White House Domestic Policy Council (DPC), in a Monday interview with VOA. Immigration reporter Aline Barros has the story with VOA’s LATAM White House correspondent Jorge Agobian.\\n\\n\\nEnd of Title 42 Looming, US Immigration Agency Releases Detailed Assessment\\n\\n\\nWith the imminent sidelining of Title 42 — a pandemic-era restriction that blocked migrants from seeking asylum in the U.S. — the Department of Homeland Security (DHS) recently outlined steps it will take at the U.S.-Mexico border if the order is lifted. A federal judge in Washington ordered enforcement of Title 42 to end December 21. Republican-led states filed an appeal asking the court to keep it in place. The Biden administration also has challenged parts of the ruling ending the Trump-era asylum restrictions. VOA’s immigration reporter Aline Barros reports.\\n\\n\\nIn pictures:\\n\\n\\n\\n\\nImmigration around the world\\n\\n\\nUN: Climate of Oppression Intensifies in Nicaragua \\n\\n\\nU.N. High Commissioner for Human Rights Volker Tuerk warns people's rights and freedoms in Nicaragua are being whittled away by the increasingly authoritarian government of President Daniel Ortega. The high commissioner presented an update Thursday on the situation to the U.N. Human Rights Council. Lisa Schlein reports for VOA from Geneva.\\n\\n\\n509 Migrants Arrive in Italy as Rescue Ships Dock \\n\\n\\nItaly, which has vowed a tough line on immigration, took in more than 500 migrants Sunday as two charity rescue ships were allowed to dock at ports in the south of the country after several days at sea in bad weather, Reuters reports.\\n\\n\\n27 Suspected Ethiopian Migrants Found Dead in Zambia \\n\\n\\nZambian police Sunday found the bodies of 27 men, believed to be migrants from Ethiopia, dumped in a farming area on the outskirts of the capital. Authorities said they died from suspected hunger and exhaustion, Reuters reports.\\n\\n\\nAfghan Academic Rebuilds Her Life in Italy, Dreams of Returning \\n\\n\\nBatool Haidari was a prominent sexology professor at a Kabul university before the Taliban takeover of Afghanistan. She taught mixed classes of male and female students and helped patients struggling with gender identity issues, The Associated Press reports.\\n\\n\\nNews Brief\\n\\n\\n— The U.S. Department of Homeland Security Secretary released a statement on the agency's plan for the end of Title 42. “The Title 42 public health order remains in place\\u202fthrough December 20, 2022, and until then, DHS will continue to expel single adults and families encountered at the southwest border under that authority.”\\n\\n\\n— The U.S. Citizenship and Immigration Services (USCIS) plans to conduct a trial for updates to the current naturalization test. “The naturalization test is a key step in becoming a U.S. citizen. We welcome input from – and the participation of – stakeholders who are familiar with this important process, as we continue to improve and update our naturalization test, ensuring that it is consistent with industry testing standards,” USCIS Director Ur M. Jaddou said in a statement.\"},\n",
       "  'links': [{'rel': 'alternate',\n",
       "    'type': 'text/html',\n",
       "    'href': 'https://www.voanews.com/a/voa-immigration-weekly-recap-december-11-17-/6880049.html'},\n",
       "   {'length': '0',\n",
       "    'type': 'image/jpeg',\n",
       "    'href': 'https://gdb.voanews.com/09410000-0a00-0242-99fc-08dadfab4336_w800_h450.jpg',\n",
       "    'rel': 'enclosure'}],\n",
       "  'link': 'https://www.voanews.com/a/voa-immigration-weekly-recap-december-11-17-/6880049.html',\n",
       "  'id': 'https://www.voanews.com/a/voa-immigration-weekly-recap-december-11-17-/6880049.html',\n",
       "  'guidislink': False,\n",
       "  'published': 'Fri, 16 Dec 2022 16:53:40 -0500',\n",
       "  'published_parsed': time.struct_time(tm_year=2022, tm_mon=12, tm_mday=16, tm_hour=21, tm_min=53, tm_sec=40, tm_wday=4, tm_yday=350, tm_isdst=0),\n",
       "  'tags': [{'term': 'Immigration', 'scheme': None, 'label': None}],\n",
       "  'authors': [{'name': 'Aline Barros', 'email': 'webdesk@voanews.com'}],\n",
       "  'author': 'webdesk@voanews.com (Aline Barros)',\n",
       "  'author_detail': {'name': 'Aline Barros', 'email': 'webdesk@voanews.com'}},\n",
       " {'title': 'Migrant Caravan Arriving at US Southern Border',\n",
       "  'title_detail': {'type': 'text/plain',\n",
       "   'language': None,\n",
       "   'base': 'https://www.voanews.com/api/zgvmqye_o_qv',\n",
       "   'value': 'Migrant Caravan Arriving at US Southern Border'},\n",
       "  'summary': 'Thousands of migrants are in the Mexican border city of Ciudad Juarez — just south of El Paso, Texas — awaiting the December 21 end of Title 42, a Trump-era policy allowing the swift expulsion of migrants at the U.S. border. Cesar Contreras reports from Ciudad Juarez, Mexico.',\n",
       "  'summary_detail': {'type': 'text/html',\n",
       "   'language': None,\n",
       "   'base': 'https://www.voanews.com/api/zgvmqye_o_qv',\n",
       "   'value': 'Thousands of migrants are in the Mexican border city of Ciudad Juarez — just south of El Paso, Texas — awaiting the December 21 end of Title 42, a Trump-era policy allowing the swift expulsion of migrants at the U.S. border. Cesar Contreras reports from Ciudad Juarez, Mexico.'},\n",
       "  'links': [{'rel': 'alternate',\n",
       "    'type': 'text/html',\n",
       "    'href': 'https://www.voanews.com/a/migrant-caravan-arriving-at-us-southern-border-/6878434.html'},\n",
       "   {'length': '0',\n",
       "    'type': 'image/jpeg',\n",
       "    'href': 'https://gdb.voanews.com/09410000-0a00-0242-a651-08dadeebb6ed_tv_w800_h450.jpg',\n",
       "    'rel': 'enclosure'}],\n",
       "  'link': 'https://www.voanews.com/a/migrant-caravan-arriving-at-us-southern-border-/6878434.html',\n",
       "  'id': 'https://www.voanews.com/a/migrant-caravan-arriving-at-us-southern-border-/6878434.html',\n",
       "  'guidislink': False,\n",
       "  'published': 'Thu, 15 Dec 2022 18:10:39 -0500',\n",
       "  'published_parsed': time.struct_time(tm_year=2022, tm_mon=12, tm_mday=15, tm_hour=23, tm_min=10, tm_sec=39, tm_wday=3, tm_yday=349, tm_isdst=0),\n",
       "  'tags': [{'term': 'USA', 'scheme': None, 'label': None},\n",
       "   {'term': 'Americas', 'scheme': None, 'label': None},\n",
       "   {'term': 'Immigration', 'scheme': None, 'label': None}],\n",
       "  'authors': [{'name': 'Cesar Contreras', 'email': 'webdesk@voanews.com'}],\n",
       "  'author': 'webdesk@voanews.com (Cesar Contreras)',\n",
       "  'author_detail': {'name': 'Cesar Contreras',\n",
       "   'email': 'webdesk@voanews.com'}},\n",
       " {'title': 'End of Title 42 Looming, US Immigration Agency Releases Detailed Assessment',\n",
       "  'title_detail': {'type': 'text/plain',\n",
       "   'language': None,\n",
       "   'base': 'https://www.voanews.com/api/zgvmqye_o_qv',\n",
       "   'value': 'End of Title 42 Looming, US Immigration Agency Releases Detailed Assessment'},\n",
       "  'summary': 'With the imminent sidelining of Title 42 — a pandemic-era restriction that blocked migrants from seeking asylum in the U.S. — the Department of Homeland Security (DHS) recently outlined steps it will take at the U.S.-Mexico border if the order is lifted.\\n\\n\\nA federal judge in Washington ordered enforcement of Title 42 to end on December 21. Republican-led states filed an appeal asking the court to keep it in place. The Biden administration also has challenged parts of the ruling ending the Trump-era asylum restrictions.\\n\\n\\n\\n\\nIn a detailed assessment ahead of the guideline shift, the DHS said the agency is already executing plans to manage an increased flow of migrants at the U.S.-Mexico border, including the use of expedited removal under the Title 8 authority.\\n\\n\\n“Among other things, Title 8 provides that individuals who cross the border without legal authorization are processed for removal and, if unable to establish a legal basis to remain in the United States, promptly removed from the country,” according to DHS.\\n\\n\\n\\n\\nWhile both parties wait for the judge\\'s decision, migrant advocates in Reynosa, Mexico, told VOA that about 750 migrants a day have arrived in the last few days.\\n\\n\\nHector Silva, a pastor in the area who also operates one of the largest migrant shelters south of the border, Senda de Vida, or \"Path of Life,” told VOA that advocates and volunteers have been helping about 14,000 families in the last few weeks.\\n\\n\\n“We have seen in past years that people get encouraged to come and then they do not know where to go,\" Silva said in Spanish. \"And what is happening right now from Tijuana to Matamoros is that people are waiting, and they have been waiting for months. [Some] have been waiting for years. And we tell them one thing: do not risk yourselves. Do not come without knowing what you will face at the border.”\\xa0\\n\\n\\nAccording to U.S. Customs and Border Protection (CBP) in the Rio Grande Valley sector, about 1,800 migrants turned themselves in to authorities during a 48-hour period after crossing from Ciudad Juarez, Mexico, to El Paso, Texas, indicating that a considerable number of people who were already in Ciudad Juarez joined the new arrivals to cross the border together.\\n\\n\\nMarco Antonio Diaz, from Honduras, is one of those people. Sitting on a dirt road along with his pregnant wife and small child, Diaz told VOA that lifting the health order gives them hope and courage.\\n\\n\\n“The truth is that it makes us happy because we want to cross to the other side to work,\" he said.\\n\\n\\nDíaz, his family, along with elderly people, people with disabilities, and other children, have slept in tents, and because of heavy rains in the region in the past few days, have endured low temperatures.\\n\\n\\n\"It has rained a lot,\" he said \"There was a night that it rained so much that we got very wet and very cold.”\\n\\n\\nThe seven-page preparedness update released by the DHS this week takes note of the agency’s successes, which include faster processing for migrants in custody at the southern border, an increase in staff, more criminal prosecutions of smugglers, and more temporary detention tents.\\n\\n\\nHowever, the update does not mention any major changes in how the agency will deal with large numbers of migrants entering the country to ask for asylum.\\xa0\\n\\n\\nSince March 2020, U.S. border authorities have used Title 42 to deny entry to millions of would-be asylum seekers on the basis that allowing them in could increase the spread of COVID-19.\\n\\n\\nPer CBP data, Title 42 has been used in most of the estimated 2.38 million encounters with migrants in fiscal year 2022.\\n\\n\\nThe data indicate that 1,079,507 were expelled and 1,299,437 were processed under Title 8 authority.\\n\\n\\nNot every encounter is a unique apprehension, as some migrants have tried to cross multiple times.\\n\\n\\nIn various reports, U.S. border officials and immigration advocates say border numbers reflect economic deterioration and political conditions in some countries driving people to make their way to the southern U.S. border.\\n\\n\\nIn fiscal year 2023, which began October 1, U.S. border officials registered 230,678 migrant encounters. Of those, 78,477 were expelled. The rest were either detained, allowed to seek asylum, paroled, or swiftly deported under expedited removal.\\xa0\\n\\n\\nEfforts to end Title 42\\xa0\\n\\n\\nThe Biden administration first attempted to end Title 42 in May, but efforts were stopped when Republican-led states sued and a federal court in Louisiana preliminarily agreed with the states.\\xa0\\n\\n\\nThe U.S. Department of Justice then filed an appeal and argued the Biden administration’s decision to lift the regulation was legal.\\n\\n\\nThe Louisiana federal judge said in his ruling that not only had the Biden administration violated administrative procedure laws, but also that ending Title 42 would cause “irreparable harm” since the Republican-led states were expected to spend resources on law enforcement, education, and other services to assist newly arrived migrants.\\n\\n\\nStill, federal law allows people from other countries to seek asylum in the United States if they fear persecution at home based on race, religion, nationality, membership in a particular social group, or political opinion.\\n\\n\\n\\n\\nIn a statement after the ruling, the DHS said Title 42 is not an immigration control tool but a public health order, but that it “will comply with the court’s order to continue enforcing the Centers for Disease Control and Prevention’s Title 42 Order as long as it remains in place.”\\n\\n\\nAt the time, Luis Miranda, a CBP spokesperson, told VOA that officials were preparing to \"simply go back to processing any encounters across the border the way we always have under Title 8, which is the immigration authority that has always been in place throughout the history of U.S. Customs and Border Protection.\"\\n\\n\\nMiranda said the U.S. government was expecting arrivals to increase at the southern border but added that those unable to establish a legal basis to remain in the United States will be removed.\\n\\n\\n\"We\\'ve been planning for that. … And to process any encounters effectively, and humanely. But ultimately, if someone is trying to come in without legal authorization and doesn\\'t have the legal basis to stay, they will be placed in removal proceedings,\" he said.\\n\\n\\nVOA contacted CBP officials for an update, but as of Thursday morning had not received a reply.',\n",
       "  'summary_detail': {'type': 'text/html',\n",
       "   'language': None,\n",
       "   'base': 'https://www.voanews.com/api/zgvmqye_o_qv',\n",
       "   'value': 'With the imminent sidelining of Title 42 — a pandemic-era restriction that blocked migrants from seeking asylum in the U.S. — the Department of Homeland Security (DHS) recently outlined steps it will take at the U.S.-Mexico border if the order is lifted.\\n\\n\\nA federal judge in Washington ordered enforcement of Title 42 to end on December 21. Republican-led states filed an appeal asking the court to keep it in place. The Biden administration also has challenged parts of the ruling ending the Trump-era asylum restrictions.\\n\\n\\n\\n\\nIn a detailed assessment ahead of the guideline shift, the DHS said the agency is already executing plans to manage an increased flow of migrants at the U.S.-Mexico border, including the use of expedited removal under the Title 8 authority.\\n\\n\\n“Among other things, Title 8 provides that individuals who cross the border without legal authorization are processed for removal and, if unable to establish a legal basis to remain in the United States, promptly removed from the country,” according to DHS.\\n\\n\\n\\n\\nWhile both parties wait for the judge\\'s decision, migrant advocates in Reynosa, Mexico, told VOA that about 750 migrants a day have arrived in the last few days.\\n\\n\\nHector Silva, a pastor in the area who also operates one of the largest migrant shelters south of the border, Senda de Vida, or \"Path of Life,” told VOA that advocates and volunteers have been helping about 14,000 families in the last few weeks.\\n\\n\\n“We have seen in past years that people get encouraged to come and then they do not know where to go,\" Silva said in Spanish. \"And what is happening right now from Tijuana to Matamoros is that people are waiting, and they have been waiting for months. [Some] have been waiting for years. And we tell them one thing: do not risk yourselves. Do not come without knowing what you will face at the border.”\\xa0\\n\\n\\nAccording to U.S. Customs and Border Protection (CBP) in the Rio Grande Valley sector, about 1,800 migrants turned themselves in to authorities during a 48-hour period after crossing from Ciudad Juarez, Mexico, to El Paso, Texas, indicating that a considerable number of people who were already in Ciudad Juarez joined the new arrivals to cross the border together.\\n\\n\\nMarco Antonio Diaz, from Honduras, is one of those people. Sitting on a dirt road along with his pregnant wife and small child, Diaz told VOA that lifting the health order gives them hope and courage.\\n\\n\\n“The truth is that it makes us happy because we want to cross to the other side to work,\" he said.\\n\\n\\nDíaz, his family, along with elderly people, people with disabilities, and other children, have slept in tents, and because of heavy rains in the region in the past few days, have endured low temperatures.\\n\\n\\n\"It has rained a lot,\" he said \"There was a night that it rained so much that we got very wet and very cold.”\\n\\n\\nThe seven-page preparedness update released by the DHS this week takes note of the agency’s successes, which include faster processing for migrants in custody at the southern border, an increase in staff, more criminal prosecutions of smugglers, and more temporary detention tents.\\n\\n\\nHowever, the update does not mention any major changes in how the agency will deal with large numbers of migrants entering the country to ask for asylum.\\xa0\\n\\n\\nSince March 2020, U.S. border authorities have used Title 42 to deny entry to millions of would-be asylum seekers on the basis that allowing them in could increase the spread of COVID-19.\\n\\n\\nPer CBP data, Title 42 has been used in most of the estimated 2.38 million encounters with migrants in fiscal year 2022.\\n\\n\\nThe data indicate that 1,079,507 were expelled and 1,299,437 were processed under Title 8 authority.\\n\\n\\nNot every encounter is a unique apprehension, as some migrants have tried to cross multiple times.\\n\\n\\nIn various reports, U.S. border officials and immigration advocates say border numbers reflect economic deterioration and political conditions in some countries driving people to make their way to the southern U.S. border.\\n\\n\\nIn fiscal year 2023, which began October 1, U.S. border officials registered 230,678 migrant encounters. Of those, 78,477 were expelled. The rest were either detained, allowed to seek asylum, paroled, or swiftly deported under expedited removal.\\xa0\\n\\n\\nEfforts to end Title 42\\xa0\\n\\n\\nThe Biden administration first attempted to end Title 42 in May, but efforts were stopped when Republican-led states sued and a federal court in Louisiana preliminarily agreed with the states.\\xa0\\n\\n\\nThe U.S. Department of Justice then filed an appeal and argued the Biden administration’s decision to lift the regulation was legal.\\n\\n\\nThe Louisiana federal judge said in his ruling that not only had the Biden administration violated administrative procedure laws, but also that ending Title 42 would cause “irreparable harm” since the Republican-led states were expected to spend resources on law enforcement, education, and other services to assist newly arrived migrants.\\n\\n\\nStill, federal law allows people from other countries to seek asylum in the United States if they fear persecution at home based on race, religion, nationality, membership in a particular social group, or political opinion.\\n\\n\\n\\n\\nIn a statement after the ruling, the DHS said Title 42 is not an immigration control tool but a public health order, but that it “will comply with the court’s order to continue enforcing the Centers for Disease Control and Prevention’s Title 42 Order as long as it remains in place.”\\n\\n\\nAt the time, Luis Miranda, a CBP spokesperson, told VOA that officials were preparing to \"simply go back to processing any encounters across the border the way we always have under Title 8, which is the immigration authority that has always been in place throughout the history of U.S. Customs and Border Protection.\"\\n\\n\\nMiranda said the U.S. government was expecting arrivals to increase at the southern border but added that those unable to establish a legal basis to remain in the United States will be removed.\\n\\n\\n\"We\\'ve been planning for that. … And to process any encounters effectively, and humanely. But ultimately, if someone is trying to come in without legal authorization and doesn\\'t have the legal basis to stay, they will be placed in removal proceedings,\" he said.\\n\\n\\nVOA contacted CBP officials for an update, but as of Thursday morning had not received a reply.'},\n",
       "  'links': [{'rel': 'alternate',\n",
       "    'type': 'text/html',\n",
       "    'href': 'https://www.voanews.com/a/end-of-title-42-looming-us-immigration-agency-releases-detailed-assessment-/6878218.html'},\n",
       "   {'length': '0',\n",
       "    'type': 'image/jpeg',\n",
       "    'href': 'https://gdb.voanews.com/013b0000-0aff-0242-7c07-08dab6b0ba6d_w800_h450.jpg',\n",
       "    'rel': 'enclosure'}],\n",
       "  'link': 'https://www.voanews.com/a/end-of-title-42-looming-us-immigration-agency-releases-detailed-assessment-/6878218.html',\n",
       "  'id': 'https://www.voanews.com/a/end-of-title-42-looming-us-immigration-agency-releases-detailed-assessment-/6878218.html',\n",
       "  'guidislink': False,\n",
       "  'published': 'Thu, 15 Dec 2022 15:56:46 -0500',\n",
       "  'published_parsed': time.struct_time(tm_year=2022, tm_mon=12, tm_mday=15, tm_hour=20, tm_min=56, tm_sec=46, tm_wday=3, tm_yday=349, tm_isdst=0),\n",
       "  'tags': [{'term': 'USA', 'scheme': None, 'label': None},\n",
       "   {'term': 'Americas', 'scheme': None, 'label': None},\n",
       "   {'term': 'Immigration', 'scheme': None, 'label': None}],\n",
       "  'authors': [{'name': 'Aline Barros', 'email': 'webdesk@voanews.com'}],\n",
       "  'author': 'webdesk@voanews.com (Aline Barros)',\n",
       "  'author_detail': {'name': 'Aline Barros', 'email': 'webdesk@voanews.com'}},\n",
       " {'title': 'US Revives Refugee-, Migrant-Support Task Force',\n",
       "  'title_detail': {'type': 'text/plain',\n",
       "   'language': None,\n",
       "   'base': 'https://www.voanews.com/api/zgvmqye_o_qv',\n",
       "   'value': 'US Revives Refugee-, Migrant-Support Task Force'},\n",
       "  'summary': 'The U.S. government is bringing back a commission aimed at helping immigrants integrate in the U.S. through language learning, workforce training and financial education programs.\\n\\n\\nThe effort will assist newcomers under legal status in the United States, according to Brandon Prelogar, special adviser for humanitarian protection and refugees at the White House Domestic Policy Council (DPC), in a Monday interview with VOA.\\n\\n\\n\"The focus is, of course, on any and all legal immigrants and refugees. We are talking about newcomers who are here in a lawful status and likely to remain,\" Prelogar said.\\n\\n\\nThe task force on New Americans is coordinated by the White House through the DPC, with the support of 20 other federal agencies, local governments and nonprofit organizations, the official said.\\n\\n\\nPresident Joe Biden announced the request to restore it through a February 2021 executive order.\\n\\n\\n\"Took a little longer than we would have liked\" to see it reconstituted, said Prelogar, adding that the purpose is to ensure the \"best possible welcome.\"\\n\\n\\nThe task force was originally launched in 2014 during the Obama administration, but it was discontinued by former President Donald Trump.\\n\\n\\nThe announcement comes as the Biden administration is facing a record increase in migrants arriving irregularly at the U.S.-Mexico border, but Prelogar said the new program \"is not about the border,\" but rather part of an effort to \"ensure that legal immigrants are welcome in our communities and that they receive the support they need to lead successful lives in the country and that they contribute fully.\"\\n\\n\\nRepublican governors and lawmakers have blamed Biden for what they see as an unprecedented humanitarian crisis on the southern border; some of them have requested to extend the legality of the Title 42 guideline — a public health policy first implemented under the previous administration to expel people seeking asylum.\\n\\n\\nThere were nearly 2.4 million migrant arrests in fiscal year 2022, but not every arrest is a unique migrant encounter as the total number includes those who made repeated attempts during the same fiscal year.\\n\\n\\nWorking together with other federal agencies and nonprofits, the working group is focused on examining current immigrant integration policies and identifying areas with deficiencies.\\n\\n\\nOther efforts\\n\\n\\nAlso on Monday, Secretary of State Antony Blinken participated in a memorandum of understanding signing ceremony with the Tent Partnership for Refugees — a nonprofit that urges the business community to hire refugees all over the world.\\n\\n\\n\\n\\nBlinken said the partnership seeks to mobilize U.S. and international businesses to offer refugees work opportunities, often an important step in the long-term economic and social resettlement for refugees and the communities that welcome them.\\n\\n\\n\"One of the things that we all know is that the journey isn\\'t over, even when they arrive at the destination: finding a home, learning the language, seeking a job, getting kids into school, building a community; all of these steps are essential for refugees to build new lives in new lands,\" Blinken said.\\n\\n\\nFounded by Hamdi Ulukaya, the founder of Chobani, the Tent Partnership for Refugees is a coalition made up of 250 multinational companies committed to supporting refugees through hiring, training and mentorship.\\n\\n\\n\"The most important moment for a refugee is the moment they get a job, and that is the moment they stop being a refugee,\" Ulukaya said.',\n",
       "  'summary_detail': {'type': 'text/html',\n",
       "   'language': None,\n",
       "   'base': 'https://www.voanews.com/api/zgvmqye_o_qv',\n",
       "   'value': 'The U.S. government is bringing back a commission aimed at helping immigrants integrate in the U.S. through language learning, workforce training and financial education programs.\\n\\n\\nThe effort will assist newcomers under legal status in the United States, according to Brandon Prelogar, special adviser for humanitarian protection and refugees at the White House Domestic Policy Council (DPC), in a Monday interview with VOA.\\n\\n\\n\"The focus is, of course, on any and all legal immigrants and refugees. We are talking about newcomers who are here in a lawful status and likely to remain,\" Prelogar said.\\n\\n\\nThe task force on New Americans is coordinated by the White House through the DPC, with the support of 20 other federal agencies, local governments and nonprofit organizations, the official said.\\n\\n\\nPresident Joe Biden announced the request to restore it through a February 2021 executive order.\\n\\n\\n\"Took a little longer than we would have liked\" to see it reconstituted, said Prelogar, adding that the purpose is to ensure the \"best possible welcome.\"\\n\\n\\nThe task force was originally launched in 2014 during the Obama administration, but it was discontinued by former President Donald Trump.\\n\\n\\nThe announcement comes as the Biden administration is facing a record increase in migrants arriving irregularly at the U.S.-Mexico border, but Prelogar said the new program \"is not about the border,\" but rather part of an effort to \"ensure that legal immigrants are welcome in our communities and that they receive the support they need to lead successful lives in the country and that they contribute fully.\"\\n\\n\\nRepublican governors and lawmakers have blamed Biden for what they see as an unprecedented humanitarian crisis on the southern border; some of them have requested to extend the legality of the Title 42 guideline — a public health policy first implemented under the previous administration to expel people seeking asylum.\\n\\n\\nThere were nearly 2.4 million migrant arrests in fiscal year 2022, but not every arrest is a unique migrant encounter as the total number includes those who made repeated attempts during the same fiscal year.\\n\\n\\nWorking together with other federal agencies and nonprofits, the working group is focused on examining current immigrant integration policies and identifying areas with deficiencies.\\n\\n\\nOther efforts\\n\\n\\nAlso on Monday, Secretary of State Antony Blinken participated in a memorandum of understanding signing ceremony with the Tent Partnership for Refugees — a nonprofit that urges the business community to hire refugees all over the world.\\n\\n\\n\\n\\nBlinken said the partnership seeks to mobilize U.S. and international businesses to offer refugees work opportunities, often an important step in the long-term economic and social resettlement for refugees and the communities that welcome them.\\n\\n\\n\"One of the things that we all know is that the journey isn\\'t over, even when they arrive at the destination: finding a home, learning the language, seeking a job, getting kids into school, building a community; all of these steps are essential for refugees to build new lives in new lands,\" Blinken said.\\n\\n\\nFounded by Hamdi Ulukaya, the founder of Chobani, the Tent Partnership for Refugees is a coalition made up of 250 multinational companies committed to supporting refugees through hiring, training and mentorship.\\n\\n\\n\"The most important moment for a refugee is the moment they get a job, and that is the moment they stop being a refugee,\" Ulukaya said.'},\n",
       "  'links': [{'rel': 'alternate',\n",
       "    'type': 'text/html',\n",
       "    'href': 'https://www.voanews.com/a/us-revives-refugee--migrant-support-task-force/6873414.html'},\n",
       "   {'length': '0',\n",
       "    'type': 'image/jpeg',\n",
       "    'href': 'https://gdb.voanews.com/7B643496-2511-4DE0-BE04-2E0E44540B84_w800_h450.jpg',\n",
       "    'rel': 'enclosure'}],\n",
       "  'link': 'https://www.voanews.com/a/us-revives-refugee--migrant-support-task-force/6873414.html',\n",
       "  'id': 'https://www.voanews.com/a/us-revives-refugee--migrant-support-task-force/6873414.html',\n",
       "  'guidislink': False,\n",
       "  'published': 'Mon, 12 Dec 2022 19:13:39 -0500',\n",
       "  'published_parsed': time.struct_time(tm_year=2022, tm_mon=12, tm_mday=13, tm_hour=0, tm_min=13, tm_sec=39, tm_wday=1, tm_yday=347, tm_isdst=0),\n",
       "  'tags': [{'term': 'Immigration', 'scheme': None, 'label': None}],\n",
       "  'authors': [{'name': 'Aline Barros, Jorge Agobian',\n",
       "    'email': 'webdesk@voanews.com'}],\n",
       "  'author': 'webdesk@voanews.com (Aline Barros, Jorge Agobian)',\n",
       "  'author_detail': {'name': 'Aline Barros, Jorge Agobian',\n",
       "   'email': 'webdesk@voanews.com'}},\n",
       " {'title': 'VOA Immigration Weekly Recap, Dec. 4–10',\n",
       "  'title_detail': {'type': 'text/plain',\n",
       "   'language': None,\n",
       "   'base': 'https://www.voanews.com/api/zgvmqye_o_qv',\n",
       "   'value': 'VOA Immigration Weekly Recap, Dec. 4–10'},\n",
       "  'summary': 'Editor\\'s note: Here is a look at immigration-related news around the U.S. this week. Questions? Tips? Comments? Email the VOA immigration team: ImmigrationUnit@voanews.com.\\n\\n\\nUS Appeals Ruling That Would Lift Asylum Restrictions\\n\\n\\nThe U.S. government said Wednesday it is appealing a court ruling that would otherwise lift asylum restrictions that have become the cornerstone of border enforcement in recent years, The Associated Press reports.\\n\\n\\nUS Expands Deportation Relief to About 264,000 Haitians\\n\\n\\nThe Biden administration will expand deportation relief and access to work permits for Haitians who are already in the United States, the U.S. Department of Homeland Security said Monday, as Haiti\\'s government struggles to stabilize the country. Reuters reports on the situation.\\n\\n\\nUS Homeland Security Chief Warns Borders Being Rendered Meaningless\\n\\n\\nAmerica’s borders – and borders in general – are no longer sufficient to help protect the United States from a variety of evolving threats, including foreign wars, according to a grim assessment by the country’s top Homeland Security official. Speaking less than a week after the Department of Homeland Security reissued a National Terrorism Advisory System bulletin because of a \"persistent threat environment,\" Secretary Alejandro Mayorkas warned that U.S. adversaries and criminal actors have leveraged technological advances to reach inside the country in ways that until now have never been possible. Jeff Seldin, VOA’s national security correspondent, reports.\\n\\n\\nPhiladelphia Businesses Help Ukrainian Refugees with Employment\\n\\n\\nOne of the biggest challenges for Ukrainian refugees who end up in the U.S. is finding a job. But one Ukrainian business in Philadelphia is doing what it can to help newcomers. Iryna Solomko has the story.\\n\\n\\nImmigration around the world\\n\\n\\nSpain Under Pressure Over Migrant Deaths on Moroccan Border\\n\\n\\nRights groups are pressuring Spain’s government over the deaths of at least 23 people after thousands of migrants forced their way through the European Union’s only land border with Africa between Morocco and the Spanish enclave of Melilla. Graham Keeley reports for VOA.\\n\\n\\nRohingya Rescued After Boat Strands Off Thai Coast\\n\\n\\nMyanmar’s military said Thursday more than 150 Rohingyas were rescued from a stalled boat near Thailand’s coast. Agence-France Presse quoted a junta statement saying the boat was carrying 106 men and 48 women and was spotted near an oil rig co-run by the state Myanmar Oil and Natural Gas Corporation. VOA News reports on the story.\\n\\n\\nAssociation Head Says Rohingya Still Face Genocide\\n\\n\\nThe head of a Rohingya organization urgently called for the U.N. Security Council to prevent what it described as genocide against the Rohingya in Myanmar. Tun Khin, president of the Burmese Rohingya Organization UK (BROUK), told VOA that the Rohingya in Rakhine state, Myanmar\\'s far west region, continue to face a genocidal program that puts their very survival at risk. From VOA\\'s Burmese Service, Ingyin Naing reports.\\n\\n\\nUNHCR: Conditions Deteriorate for Somalis in Dadaab Refugee Camps\\n\\n\\nThe U.N. refugee agency warns humanitarian conditions are deteriorating for tens of thousands of Somalis in Kenya’s Dadaab refugee camps as an unrelenting drought grips the Horn of Africa and funding dries up. More than 80,000 Somalis fleeing conflict and drought have arrived in Kenya’s Dadaab refugee camps over the past two years, more than 24,000 since September. Lisa Schlein reports for VOA from Geneva.\\n\\n\\nKenya Concerned by Cholera, Measles Outbreaks at Congested Refugee Camp\\n\\n\\nAid groups say measles and cholera outbreaks at Kenya\\'s congested Dadaab refugee camp have killed at least five people and sickened more than 400. The outbreaks come as thousands of Somalis have been arriving at the camp this year to escape record drought back home, stretching camp resources. Juma Majanga reports from Dadaab refugee camp in northeast Kenya. Editor\\'s note: The video has been updated to correct the timeline of the arrival of more than 80,000 Somalis.\\n\\n\\nNews Brief\\n\\n\\n— U.S. Citizenship and Immigration Services (USCIS) released data showing 1,023,200 naturalizations in fiscal 2022, the highest number of citizens the agency has naturalized since 2008.',\n",
       "  'summary_detail': {'type': 'text/html',\n",
       "   'language': None,\n",
       "   'base': 'https://www.voanews.com/api/zgvmqye_o_qv',\n",
       "   'value': 'Editor\\'s note: Here is a look at immigration-related news around the U.S. this week. Questions? Tips? Comments? Email the VOA immigration team: ImmigrationUnit@voanews.com.\\n\\n\\nUS Appeals Ruling That Would Lift Asylum Restrictions\\n\\n\\nThe U.S. government said Wednesday it is appealing a court ruling that would otherwise lift asylum restrictions that have become the cornerstone of border enforcement in recent years, The Associated Press reports.\\n\\n\\nUS Expands Deportation Relief to About 264,000 Haitians\\n\\n\\nThe Biden administration will expand deportation relief and access to work permits for Haitians who are already in the United States, the U.S. Department of Homeland Security said Monday, as Haiti\\'s government struggles to stabilize the country. Reuters reports on the situation.\\n\\n\\nUS Homeland Security Chief Warns Borders Being Rendered Meaningless\\n\\n\\nAmerica’s borders – and borders in general – are no longer sufficient to help protect the United States from a variety of evolving threats, including foreign wars, according to a grim assessment by the country’s top Homeland Security official. Speaking less than a week after the Department of Homeland Security reissued a National Terrorism Advisory System bulletin because of a \"persistent threat environment,\" Secretary Alejandro Mayorkas warned that U.S. adversaries and criminal actors have leveraged technological advances to reach inside the country in ways that until now have never been possible. Jeff Seldin, VOA’s national security correspondent, reports.\\n\\n\\nPhiladelphia Businesses Help Ukrainian Refugees with Employment\\n\\n\\nOne of the biggest challenges for Ukrainian refugees who end up in the U.S. is finding a job. But one Ukrainian business in Philadelphia is doing what it can to help newcomers. Iryna Solomko has the story.\\n\\n\\nImmigration around the world\\n\\n\\nSpain Under Pressure Over Migrant Deaths on Moroccan Border\\n\\n\\nRights groups are pressuring Spain’s government over the deaths of at least 23 people after thousands of migrants forced their way through the European Union’s only land border with Africa between Morocco and the Spanish enclave of Melilla. Graham Keeley reports for VOA.\\n\\n\\nRohingya Rescued After Boat Strands Off Thai Coast\\n\\n\\nMyanmar’s military said Thursday more than 150 Rohingyas were rescued from a stalled boat near Thailand’s coast. Agence-France Presse quoted a junta statement saying the boat was carrying 106 men and 48 women and was spotted near an oil rig co-run by the state Myanmar Oil and Natural Gas Corporation. VOA News reports on the story.\\n\\n\\nAssociation Head Says Rohingya Still Face Genocide\\n\\n\\nThe head of a Rohingya organization urgently called for the U.N. Security Council to prevent what it described as genocide against the Rohingya in Myanmar. Tun Khin, president of the Burmese Rohingya Organization UK (BROUK), told VOA that the Rohingya in Rakhine state, Myanmar\\'s far west region, continue to face a genocidal program that puts their very survival at risk. From VOA\\'s Burmese Service, Ingyin Naing reports.\\n\\n\\nUNHCR: Conditions Deteriorate for Somalis in Dadaab Refugee Camps\\n\\n\\nThe U.N. refugee agency warns humanitarian conditions are deteriorating for tens of thousands of Somalis in Kenya’s Dadaab refugee camps as an unrelenting drought grips the Horn of Africa and funding dries up. More than 80,000 Somalis fleeing conflict and drought have arrived in Kenya’s Dadaab refugee camps over the past two years, more than 24,000 since September. Lisa Schlein reports for VOA from Geneva.\\n\\n\\nKenya Concerned by Cholera, Measles Outbreaks at Congested Refugee Camp\\n\\n\\nAid groups say measles and cholera outbreaks at Kenya\\'s congested Dadaab refugee camp have killed at least five people and sickened more than 400. The outbreaks come as thousands of Somalis have been arriving at the camp this year to escape record drought back home, stretching camp resources. Juma Majanga reports from Dadaab refugee camp in northeast Kenya. Editor\\'s note: The video has been updated to correct the timeline of the arrival of more than 80,000 Somalis.\\n\\n\\nNews Brief\\n\\n\\n— U.S. Citizenship and Immigration Services (USCIS) released data showing 1,023,200 naturalizations in fiscal 2022, the highest number of citizens the agency has naturalized since 2008.'},\n",
       "  'links': [{'rel': 'alternate',\n",
       "    'type': 'text/html',\n",
       "    'href': 'https://www.voanews.com/a/voa-immigration-weekly-recap-dec-4-10/6871316.html'},\n",
       "   {'length': '0',\n",
       "    'type': 'image/jpeg',\n",
       "    'href': 'https://gdb.voanews.com/03370000-0aff-0242-eec4-08dadb2a634f_cx0_cy8_cw0_w800_h450.jpg',\n",
       "    'rel': 'enclosure'}],\n",
       "  'link': 'https://www.voanews.com/a/voa-immigration-weekly-recap-dec-4-10/6871316.html',\n",
       "  'id': 'https://www.voanews.com/a/voa-immigration-weekly-recap-dec-4-10/6871316.html',\n",
       "  'guidislink': False,\n",
       "  'published': 'Sat, 10 Dec 2022 22:48:38 -0500',\n",
       "  'published_parsed': time.struct_time(tm_year=2022, tm_mon=12, tm_mday=11, tm_hour=3, tm_min=48, tm_sec=38, tm_wday=6, tm_yday=345, tm_isdst=0),\n",
       "  'tags': [{'term': 'Immigration', 'scheme': None, 'label': None}],\n",
       "  'authors': [{'name': 'Aline Barros', 'email': 'webdesk@voanews.com'}],\n",
       "  'author': 'webdesk@voanews.com (Aline Barros)',\n",
       "  'author_detail': {'name': 'Aline Barros', 'email': 'webdesk@voanews.com'}},\n",
       " {'title': 'Ethiopians in US Can Apply for Temporary Protected Status Soon',\n",
       "  'title_detail': {'type': 'text/plain',\n",
       "   'language': None,\n",
       "   'base': 'https://www.voanews.com/api/zgvmqye_o_qv',\n",
       "   'value': 'Ethiopians in US Can Apply for Temporary Protected Status Soon'},\n",
       "  'summary': 'A plan announced by the U.S. Department of Homeland Security in October to grant temporary protected status to Ethiopians temporarily inside the United States because of the war in their homeland is set to go into effect beginning Monday.\\n\\n\\n\"The United States recognizes the ongoing armed conflict and the extraordinary and temporary conditions engulfing Ethiopia, and DHS is committed to providing temporary protection to those in need,\" said Secretary of Homeland Security Alejandro Mayorkas when the plan was announced.\\n\\n\\nTemporary protected status, or TPS, is often granted to people visiting the United States temporarily, including students, business officials and tourists, who fear returning home to countries struck by conflict or natural disasters.\\n\\n\\nThey can remain in the United States, even with expired visas, as long as the TPS order is in place.\\n\\n\\nMayorkas\\' order permits Ethiopians without permanent residence or citizenship to remain in the United States up to 18 months. TPS status can be renewed, depending on the circumstances of the home country.\\n\\n\\nTo be eligible for TPS under Ethiopia’s designation, individuals must demonstrate their continuous residence in the United States since Oct. 20, 2022, and continuous physical presence in the United States since Dec. 12, 2022, according to the DHS. Individuals arriving in the United States after Oct. 20, 2022, are not eligible for TPS under this designation.\\n\\n\\nDHS said about 26,700 Ethiopians in the United States are eligible to file applications for TPS.\\n\\n\\nAccording to the U.S. Census, about 272,000 people in the United States came from Ethiopia.\\n\\n\\nThe TPS plan is poised to go into effect even as basic services like electricity and telecoms have been restored to key parts of Ethiopia’s Tigray region following the signing of a cease-fire deal a month ago, halting hostilities in nearly two years of war but most areas are still cut off from the world.\\n\\n\\nInformation for this story came from the Agence France-Presse and The Associated Press.',\n",
       "  'summary_detail': {'type': 'text/html',\n",
       "   'language': None,\n",
       "   'base': 'https://www.voanews.com/api/zgvmqye_o_qv',\n",
       "   'value': 'A plan announced by the U.S. Department of Homeland Security in October to grant temporary protected status to Ethiopians temporarily inside the United States because of the war in their homeland is set to go into effect beginning Monday.\\n\\n\\n\"The United States recognizes the ongoing armed conflict and the extraordinary and temporary conditions engulfing Ethiopia, and DHS is committed to providing temporary protection to those in need,\" said Secretary of Homeland Security Alejandro Mayorkas when the plan was announced.\\n\\n\\nTemporary protected status, or TPS, is often granted to people visiting the United States temporarily, including students, business officials and tourists, who fear returning home to countries struck by conflict or natural disasters.\\n\\n\\nThey can remain in the United States, even with expired visas, as long as the TPS order is in place.\\n\\n\\nMayorkas\\' order permits Ethiopians without permanent residence or citizenship to remain in the United States up to 18 months. TPS status can be renewed, depending on the circumstances of the home country.\\n\\n\\nTo be eligible for TPS under Ethiopia’s designation, individuals must demonstrate their continuous residence in the United States since Oct. 20, 2022, and continuous physical presence in the United States since Dec. 12, 2022, according to the DHS. Individuals arriving in the United States after Oct. 20, 2022, are not eligible for TPS under this designation.\\n\\n\\nDHS said about 26,700 Ethiopians in the United States are eligible to file applications for TPS.\\n\\n\\nAccording to the U.S. Census, about 272,000 people in the United States came from Ethiopia.\\n\\n\\nThe TPS plan is poised to go into effect even as basic services like electricity and telecoms have been restored to key parts of Ethiopia’s Tigray region following the signing of a cease-fire deal a month ago, halting hostilities in nearly two years of war but most areas are still cut off from the world.\\n\\n\\nInformation for this story came from the Agence France-Presse and The Associated Press.'},\n",
       "  'links': [{'rel': 'alternate',\n",
       "    'type': 'text/html',\n",
       "    'href': 'https://www.voanews.com/a/ethiopians-in-us-can-apply-for-temporary-protected-status-soon-/6871299.html'},\n",
       "   {'length': '0',\n",
       "    'type': 'image/jpeg',\n",
       "    'href': 'https://gdb.voanews.com/09410000-0a00-0242-85ab-08dadc615ac6_w800_h450.jpg',\n",
       "    'rel': 'enclosure'}],\n",
       "  'link': 'https://www.voanews.com/a/ethiopians-in-us-can-apply-for-temporary-protected-status-soon-/6871299.html',\n",
       "  'id': 'https://www.voanews.com/a/ethiopians-in-us-can-apply-for-temporary-protected-status-soon-/6871299.html',\n",
       "  'guidislink': False,\n",
       "  'published': 'Sat, 10 Dec 2022 21:19:05 -0500',\n",
       "  'published_parsed': time.struct_time(tm_year=2022, tm_mon=12, tm_mday=11, tm_hour=2, tm_min=19, tm_sec=5, tm_wday=6, tm_yday=345, tm_isdst=0),\n",
       "  'tags': [{'term': 'Immigration', 'scheme': None, 'label': None},\n",
       "   {'term': 'USA', 'scheme': None, 'label': None},\n",
       "   {'term': 'Africa', 'scheme': None, 'label': None}],\n",
       "  'authors': [{'name': 'Agence France-Presse',\n",
       "    'email': 'webdesk@voanews.com'}],\n",
       "  'author': 'webdesk@voanews.com (Agence France-Presse)',\n",
       "  'author_detail': {'name': 'Agence France-Presse',\n",
       "   'email': 'webdesk@voanews.com'}},\n",
       " {'title': 'US Supreme Court to Consider Prohibition on Encouraging Illegal Immigration',\n",
       "  'title_detail': {'type': 'text/plain',\n",
       "   'language': None,\n",
       "   'base': 'https://www.voanews.com/api/zgvmqye_o_qv',\n",
       "   'value': 'US Supreme Court to Consider Prohibition on Encouraging Illegal Immigration'},\n",
       "  'summary': 'The U.S. Supreme Court agreed Friday to hear a bid by President Joe Biden\\'s administration to revive a federal law that makes it a criminal offense to encourage illegal immigration after it was struck down by a lower court as a violation of free speech rights.\\n\\n\\nThe justices took up the administration\\'s appeal of a February ruling by the San Francisco-based 9th U.S. Circuit Court of Appeals invalidating the law for infringing on rights guaranteed under the U.S. Constitution\\'s First Amendment.\\n\\n\\nThe 9th Circuit\\'s ruling threw out part of the conviction of a California man, Helaman Hansen, who had been prosecuted under the law.\\n\\n\\nThe dispute is similar to one that the Supreme Court heard, but did not resolve, in 2020. The federal government accused Hansen of deceiving undocumented immigrants between 2012 and 2016 by promising them that they could gain U.S. citizenship through an \"adult adoption\" program operated by his Sacramento-based business, Americans Helping America Chamber of Commerce.\\n\\n\\nThe government said Hansen persuaded at least 471 people to join his program, charging them each up to $10,000 even though he \"knew that the adult adoptions that he touted would not lead to U.S. citizenship.\"\\n\\n\\nHansen was convicted in 2017 of violating provisions of the federal law that bars inducing or encouraging noncitizens \"to come to, enter, or reside\" in the United States illegally, as well as mail fraud and wire fraud and was sentenced to 20 years in prison.\\n\\n\\nOn appeal, the 9th Circuit in February ruled that the encouragement law is unconstitutional because it is overly broad and criminalizes even commonplace speech that is protected by the First Amendment, such as telling undocumented immigrants, \"I encourage you to reside in the United States,\" or advising them about available social services.\\n\\n\\nThe 9th Circuit upheld Hansen\\'s other convictions and ordered that he be resentenced.\\n\\n\\nBiden\\'s administration urged the Supreme Court to hear the case, faulting the appeals court for invalidating an \"important tool for combating activities that exacerbate unlawful immigration.\"\\n\\n\\nThe case will be heard during the court\\'s current term, with a ruling due by June 2023.',\n",
       "  'summary_detail': {'type': 'text/html',\n",
       "   'language': None,\n",
       "   'base': 'https://www.voanews.com/api/zgvmqye_o_qv',\n",
       "   'value': 'The U.S. Supreme Court agreed Friday to hear a bid by President Joe Biden\\'s administration to revive a federal law that makes it a criminal offense to encourage illegal immigration after it was struck down by a lower court as a violation of free speech rights.\\n\\n\\nThe justices took up the administration\\'s appeal of a February ruling by the San Francisco-based 9th U.S. Circuit Court of Appeals invalidating the law for infringing on rights guaranteed under the U.S. Constitution\\'s First Amendment.\\n\\n\\nThe 9th Circuit\\'s ruling threw out part of the conviction of a California man, Helaman Hansen, who had been prosecuted under the law.\\n\\n\\nThe dispute is similar to one that the Supreme Court heard, but did not resolve, in 2020. The federal government accused Hansen of deceiving undocumented immigrants between 2012 and 2016 by promising them that they could gain U.S. citizenship through an \"adult adoption\" program operated by his Sacramento-based business, Americans Helping America Chamber of Commerce.\\n\\n\\nThe government said Hansen persuaded at least 471 people to join his program, charging them each up to $10,000 even though he \"knew that the adult adoptions that he touted would not lead to U.S. citizenship.\"\\n\\n\\nHansen was convicted in 2017 of violating provisions of the federal law that bars inducing or encouraging noncitizens \"to come to, enter, or reside\" in the United States illegally, as well as mail fraud and wire fraud and was sentenced to 20 years in prison.\\n\\n\\nOn appeal, the 9th Circuit in February ruled that the encouragement law is unconstitutional because it is overly broad and criminalizes even commonplace speech that is protected by the First Amendment, such as telling undocumented immigrants, \"I encourage you to reside in the United States,\" or advising them about available social services.\\n\\n\\nThe 9th Circuit upheld Hansen\\'s other convictions and ordered that he be resentenced.\\n\\n\\nBiden\\'s administration urged the Supreme Court to hear the case, faulting the appeals court for invalidating an \"important tool for combating activities that exacerbate unlawful immigration.\"\\n\\n\\nThe case will be heard during the court\\'s current term, with a ruling due by June 2023.'},\n",
       "  'links': [{'rel': 'alternate',\n",
       "    'type': 'text/html',\n",
       "    'href': 'https://www.voanews.com/a/us-supreme-court-to-consider-prohibition-on-encouraging-illegal-immigration-/6870418.html'},\n",
       "   {'length': '0',\n",
       "    'type': 'image/jpeg',\n",
       "    'href': 'https://gdb.voanews.com/022a0000-0aff-0242-ce70-08dada4c90b5_w800_h450.jpg',\n",
       "    'rel': 'enclosure'}],\n",
       "  'link': 'https://www.voanews.com/a/us-supreme-court-to-consider-prohibition-on-encouraging-illegal-immigration-/6870418.html',\n",
       "  'id': 'https://www.voanews.com/a/us-supreme-court-to-consider-prohibition-on-encouraging-illegal-immigration-/6870418.html',\n",
       "  'guidislink': False,\n",
       "  'published': 'Fri, 09 Dec 2022 20:21:29 -0500',\n",
       "  'published_parsed': time.struct_time(tm_year=2022, tm_mon=12, tm_mday=10, tm_hour=1, tm_min=21, tm_sec=29, tm_wday=5, tm_yday=344, tm_isdst=0),\n",
       "  'tags': [{'term': 'Immigration', 'scheme': None, 'label': None},\n",
       "   {'term': 'USA', 'scheme': None, 'label': None}],\n",
       "  'authors': [{'name': 'Reuters', 'email': 'webdesk@voanews.com'}],\n",
       "  'author': 'webdesk@voanews.com (Reuters)',\n",
       "  'author_detail': {'name': 'Reuters', 'email': 'webdesk@voanews.com'}},\n",
       " {'title': 'US Appeals Ruling That Would Lift Asylum Restrictions',\n",
       "  'title_detail': {'type': 'text/plain',\n",
       "   'language': None,\n",
       "   'base': 'https://www.voanews.com/api/zgvmqye_o_qv',\n",
       "   'value': 'US Appeals Ruling That Would Lift Asylum Restrictions'},\n",
       "  'summary': 'The U.S. government said Wednesday it is appealing a court ruling that would otherwise lift asylum restrictions that have become the cornerstone of border enforcement in recent years.\\n\\n\\nThe disputed enforcement rule first took effect in March 2020, denying migrants\\' rights to seek asylum under U.S. and international law on grounds of preventing the spread of COVID-19.\\n\\n\\nThe Homeland Security Department said it would file an appeal with the U.S. Court of Appeals for the District of Columbia, challenging a November ruling by U.S. District Judge Emmet Sullivan that ordered President Joe Biden\\'s administration to lift the asylum restrictions.\\n\\n\\nThe restrictions were put in place under former President Donald Trump at the outset of the COVID-19 pandemic. The practice was authorized under Title 42 of a broader 1944 law covering public health and has been used to expel migrants more than 2.4 million times. Many of those are repeated attempts to enter the U.S.\\n\\n\\nThe appeal could scuttle a December 21 deadline set by Sullivan for his order to go into effect.\\n\\n\\nSullivan has called the expulsion of migrants under the rule \"arbitrary and capricious.\"\\n\\n\\nImmigrant rights\\' groups have argued that the use of Title 42 unjustly harms people fleeing persecution and that the pandemic was a pretext used by the Trump administration to curb immigration.\\n\\n\\n\"The Biden administration\\'s decision to appeal is unsurprising given its vigorous defense of the policy for the past two years,\" said Lee Gelernt, an attorney for the ACLU and lead counsel on its Title 42 litigation, in an email.\\n\\n\\nA coalition of conservative-leaning states wants to keep the policy in place.\\n\\n\\nThe ban has been unevenly enforced by nationality, falling largely on migrants from Guatemala, Honduras, El Salvador — as well as Mexicans — because Mexico allows them to be returned from the United States. Last month, Mexico began accepting Venezuelans who are expelled from the United States under Title 42, causing a sharp drop in Venezuelans seeking asylum at the U.S. border.\\n\\n\\nThe asylum rule has been used by the Biden administration to expel migrant families and single adults, though not children traveling alone.',\n",
       "  'summary_detail': {'type': 'text/html',\n",
       "   'language': None,\n",
       "   'base': 'https://www.voanews.com/api/zgvmqye_o_qv',\n",
       "   'value': 'The U.S. government said Wednesday it is appealing a court ruling that would otherwise lift asylum restrictions that have become the cornerstone of border enforcement in recent years.\\n\\n\\nThe disputed enforcement rule first took effect in March 2020, denying migrants\\' rights to seek asylum under U.S. and international law on grounds of preventing the spread of COVID-19.\\n\\n\\nThe Homeland Security Department said it would file an appeal with the U.S. Court of Appeals for the District of Columbia, challenging a November ruling by U.S. District Judge Emmet Sullivan that ordered President Joe Biden\\'s administration to lift the asylum restrictions.\\n\\n\\nThe restrictions were put in place under former President Donald Trump at the outset of the COVID-19 pandemic. The practice was authorized under Title 42 of a broader 1944 law covering public health and has been used to expel migrants more than 2.4 million times. Many of those are repeated attempts to enter the U.S.\\n\\n\\nThe appeal could scuttle a December 21 deadline set by Sullivan for his order to go into effect.\\n\\n\\nSullivan has called the expulsion of migrants under the rule \"arbitrary and capricious.\"\\n\\n\\nImmigrant rights\\' groups have argued that the use of Title 42 unjustly harms people fleeing persecution and that the pandemic was a pretext used by the Trump administration to curb immigration.\\n\\n\\n\"The Biden administration\\'s decision to appeal is unsurprising given its vigorous defense of the policy for the past two years,\" said Lee Gelernt, an attorney for the ACLU and lead counsel on its Title 42 litigation, in an email.\\n\\n\\nA coalition of conservative-leaning states wants to keep the policy in place.\\n\\n\\nThe ban has been unevenly enforced by nationality, falling largely on migrants from Guatemala, Honduras, El Salvador — as well as Mexicans — because Mexico allows them to be returned from the United States. Last month, Mexico began accepting Venezuelans who are expelled from the United States under Title 42, causing a sharp drop in Venezuelans seeking asylum at the U.S. border.\\n\\n\\nThe asylum rule has been used by the Biden administration to expel migrant families and single adults, though not children traveling alone.'},\n",
       "  'links': [{'rel': 'alternate',\n",
       "    'type': 'text/html',\n",
       "    'href': 'https://www.voanews.com/a/us-appeals-ruling-that-would-lift-asylum-restrictions/6867287.html'},\n",
       "   {'length': '0',\n",
       "    'type': 'image/jpeg',\n",
       "    'href': 'https://gdb.voanews.com/00bf0000-0aff-0242-9ead-08dac80afb5b_cx0_cy10_cw0_w800_h450.jpg',\n",
       "    'rel': 'enclosure'}],\n",
       "  'link': 'https://www.voanews.com/a/us-appeals-ruling-that-would-lift-asylum-restrictions/6867287.html',\n",
       "  'id': 'https://www.voanews.com/a/us-appeals-ruling-that-would-lift-asylum-restrictions/6867287.html',\n",
       "  'guidislink': False,\n",
       "  'published': 'Wed, 07 Dec 2022 19:37:34 -0500',\n",
       "  'published_parsed': time.struct_time(tm_year=2022, tm_mon=12, tm_mday=8, tm_hour=0, tm_min=37, tm_sec=34, tm_wday=3, tm_yday=342, tm_isdst=0),\n",
       "  'tags': [{'term': 'USA', 'scheme': None, 'label': None},\n",
       "   {'term': 'Americas', 'scheme': None, 'label': None},\n",
       "   {'term': 'Immigration', 'scheme': None, 'label': None}],\n",
       "  'authors': [{'name': 'Associated Press', 'email': 'webdesk@voanews.com'}],\n",
       "  'author': 'webdesk@voanews.com (Associated Press)',\n",
       "  'author_detail': {'name': 'Associated Press',\n",
       "   'email': 'webdesk@voanews.com'}},\n",
       " {'title': 'US Expands Deportation Relief to About 264,000 Haitians',\n",
       "  'title_detail': {'type': 'text/plain',\n",
       "   'language': None,\n",
       "   'base': 'https://www.voanews.com/api/zgvmqye_o_qv',\n",
       "   'value': 'US Expands Deportation Relief to About 264,000 Haitians'},\n",
       "  'summary': 'The Biden administration will expand deportation relief and access to work permits for Haitians who are already in the United States, the U.S. Department of Homeland Security said on Monday, as Haiti\\'s government struggles to stabilize the country.\\n\\n\\nThe administration will offer Temporary Protected Status (TPS) to an estimated 264,000 Haitians for 18 months after the current designation expires in February.\\n\\n\\nOf those, about 101,000 have the status and 53,000 have pending applications, according to DHS. Another 110,000 more recent arrivals would also be covered by the new extension.\\n\\n\\nTPS provides deportation protection and permission to work to foreigners who cannot return to their home countries because of natural disasters, armed conflicts or other extraordinary factors.\\n\\n\\nArmed gangs in Haiti have expanded their power in the country following the 2021 assassination of President Jovenel Moise. Since then, Prime Minister Ariel Henry has faced challenges restoring order. The United States first designated Haiti for TPS in 2010 following an earthquake that devastated the island nation.\\n\\n\\n\\n\\nFormer Republican President Donald Trump tried to end TPS for Haiti and other countries but was blocked by federal courts. Biden, a Democrat, expanded Haiti\\'s designation in August 2021 to include Haitians who had arrived in the past decade.\\n\\n\\nIn September 2021, thousands of Haitian migrants crossed into the United States, setting up a makeshift camp in southern Texas. U.S. border agents on horseback confronted some of the migrants crossing the Rio Grande River. Photographs of the encounter triggered outrage from advocates and lawmakers.\\n\\n\\nSenate Majority Leader Chuck Schumer, a Democrat, had pushed for the extension of TPS to recent arrivals, saying that Haitians \"have been met at our doorstep with unimaginable indignity.\"',\n",
       "  'summary_detail': {'type': 'text/html',\n",
       "   'language': None,\n",
       "   'base': 'https://www.voanews.com/api/zgvmqye_o_qv',\n",
       "   'value': 'The Biden administration will expand deportation relief and access to work permits for Haitians who are already in the United States, the U.S. Department of Homeland Security said on Monday, as Haiti\\'s government struggles to stabilize the country.\\n\\n\\nThe administration will offer Temporary Protected Status (TPS) to an estimated 264,000 Haitians for 18 months after the current designation expires in February.\\n\\n\\nOf those, about 101,000 have the status and 53,000 have pending applications, according to DHS. Another 110,000 more recent arrivals would also be covered by the new extension.\\n\\n\\nTPS provides deportation protection and permission to work to foreigners who cannot return to their home countries because of natural disasters, armed conflicts or other extraordinary factors.\\n\\n\\nArmed gangs in Haiti have expanded their power in the country following the 2021 assassination of President Jovenel Moise. Since then, Prime Minister Ariel Henry has faced challenges restoring order. The United States first designated Haiti for TPS in 2010 following an earthquake that devastated the island nation.\\n\\n\\n\\n\\nFormer Republican President Donald Trump tried to end TPS for Haiti and other countries but was blocked by federal courts. Biden, a Democrat, expanded Haiti\\'s designation in August 2021 to include Haitians who had arrived in the past decade.\\n\\n\\nIn September 2021, thousands of Haitian migrants crossed into the United States, setting up a makeshift camp in southern Texas. U.S. border agents on horseback confronted some of the migrants crossing the Rio Grande River. Photographs of the encounter triggered outrage from advocates and lawmakers.\\n\\n\\nSenate Majority Leader Chuck Schumer, a Democrat, had pushed for the extension of TPS to recent arrivals, saying that Haitians \"have been met at our doorstep with unimaginable indignity.\"'},\n",
       "  'links': [{'rel': 'alternate',\n",
       "    'type': 'text/html',\n",
       "    'href': 'https://www.voanews.com/a/us-expands-deportation-relief-to-about-264-000-haitians/6863961.html'},\n",
       "   {'length': '0',\n",
       "    'type': 'image/jpeg',\n",
       "    'href': 'https://gdb.voanews.com/B8143504-ABE0-4586-9E8B-5BE5B1C4C903_cx0_cy2_cw0_w800_h450.jpg',\n",
       "    'rel': 'enclosure'}],\n",
       "  'link': 'https://www.voanews.com/a/us-expands-deportation-relief-to-about-264-000-haitians/6863961.html',\n",
       "  'id': 'https://www.voanews.com/a/us-expands-deportation-relief-to-about-264-000-haitians/6863961.html',\n",
       "  'guidislink': False,\n",
       "  'published': 'Mon, 05 Dec 2022 22:21:42 -0500',\n",
       "  'published_parsed': time.struct_time(tm_year=2022, tm_mon=12, tm_mday=6, tm_hour=3, tm_min=21, tm_sec=42, tm_wday=1, tm_yday=340, tm_isdst=0),\n",
       "  'tags': [{'term': 'Immigration', 'scheme': None, 'label': None},\n",
       "   {'term': 'USA', 'scheme': None, 'label': None}],\n",
       "  'authors': [{'name': 'Reuters', 'email': 'webdesk@voanews.com'}],\n",
       "  'author': 'webdesk@voanews.com (Reuters)',\n",
       "  'author_detail': {'name': 'Reuters', 'email': 'webdesk@voanews.com'}},\n",
       " {'title': 'VOA Immigration Weekly Recap, Nov. 27–Dec. 3',\n",
       "  'title_detail': {'type': 'text/plain',\n",
       "   'language': None,\n",
       "   'base': 'https://www.voanews.com/api/zgvmqye_o_qv',\n",
       "   'value': 'VOA Immigration Weekly Recap, Nov. 27–Dec. 3'},\n",
       "  'summary': \"Editor's note: Here is a look at immigration-related news around the U.S. this week. Questions? Tips? Comments? Email the VOA immigration team: ImmigrationUnit@voanews.com.\\xa0\\n\\n\\nSupreme Court Wrestles with Biden's Deportation Policy\\n\\n\\nThe Supreme Court on Tuesday wrestled with a politically tinged dispute over a Biden administration policy that would prioritize deportation of people in the country illegally who pose the greatest public safety risk. The Associated Press reports. \\xa0\\n\\n\\nUS Supreme Court to Hear Immigration Policy Case\\n\\n\\nThe U.S. Supreme Court waded into the immigration debate Tuesday as it examined the Biden administration's expulsion policies for undocumented migrants, Agence France-Presse reports. \\xa0\\n\\n\\nAfghan Refugee Opens Store in Texas to Keep Culture Alive\\n\\n\\nAjmal Zazai, who fled Afghanistan after the Taliban’s takeover, now runs a store in San Antonio, Texas, selling traditional Afghan clothes and carpets. Zabiullah Ghazi has the story for VOA, narrated by Nazrana Yousufzai. Roshan Noorzai contributed.\\xa0\\n\\n\\nBeyond Qatar: Migrant Workers Are Exploited in America, Too\\n\\n\\nThe treatment of migrant workers has been highlighted during the World Cup in Qatar, where many temporary foreign workers died while building the event’s infrastructure. Advocates for immigrant workers in the U.S. note that abuses aren’t just happening overseas. The Associated Press reports.\\n\\n\\nImmigration around the world\\n\\n\\nThousands Flee Drought and Hunger in Somalia for Kenya\\n\\n\\nRaho Ali has just arrived from Somalia with four of her children at the United Nations High Commissioner for Refugees (UNHCR) transit area in Kenya's northern border town of Dadaab. The 45-year-old mother of seven said the drought in Somalia prompted her to flee and seek relief in Kenya. Three of her children got lost following an attack on them while on the treacherous journey and she has yet to locate them. Ali is among tens of thousands flocking to Kenyan camps in a new wave of drought-driven refugees. Juma Majanga reports for VOA.\\xa0\\n\\n\\nUK Says 50 Recently Arrived Migrants Found with Diphtheria\\n\\n\\nBritish health authorities have recorded 50 cases of diphtheria this year among recently arrived asylum-seekers, including one man who died after falling sick at a crowded migrant center. The U.K. Health Protection Agency said Monday that the infected people likely caught the disease in their countries of origin or during their journeys to the U.K. It said a similar increase had been seen elsewhere in Europe. The Associated Press reports.\\n\\n\\nInflux of Refugees in Kenya as Thousands Flee Drought and Hunger in Somalia\\n\\n\\nRecord drought and hunger in Somalia are driving thousands to flee to neighboring Kenya for help. Relief groups say the influx of refugees at Kenya's Dadaab camp is stretching the already overcrowded camp's resources. Juma Majanga reports from the refugee camp in Dadaab, Kenya.\\n\\n\\nNews Brief\\xa0\\n\\n\\nThe Department of Homeland Security Science and Technology Directorate launched a competition for graduate and undergraduate students across the United States and territories to participate in the 2023 Homeland Security Professional Opportunities for the Student Workforce to Experience Research internship program.\",\n",
       "  'summary_detail': {'type': 'text/html',\n",
       "   'language': None,\n",
       "   'base': 'https://www.voanews.com/api/zgvmqye_o_qv',\n",
       "   'value': \"Editor's note: Here is a look at immigration-related news around the U.S. this week. Questions? Tips? Comments? Email the VOA immigration team: ImmigrationUnit@voanews.com.\\xa0\\n\\n\\nSupreme Court Wrestles with Biden's Deportation Policy\\n\\n\\nThe Supreme Court on Tuesday wrestled with a politically tinged dispute over a Biden administration policy that would prioritize deportation of people in the country illegally who pose the greatest public safety risk. The Associated Press reports. \\xa0\\n\\n\\nUS Supreme Court to Hear Immigration Policy Case\\n\\n\\nThe U.S. Supreme Court waded into the immigration debate Tuesday as it examined the Biden administration's expulsion policies for undocumented migrants, Agence France-Presse reports. \\xa0\\n\\n\\nAfghan Refugee Opens Store in Texas to Keep Culture Alive\\n\\n\\nAjmal Zazai, who fled Afghanistan after the Taliban’s takeover, now runs a store in San Antonio, Texas, selling traditional Afghan clothes and carpets. Zabiullah Ghazi has the story for VOA, narrated by Nazrana Yousufzai. Roshan Noorzai contributed.\\xa0\\n\\n\\nBeyond Qatar: Migrant Workers Are Exploited in America, Too\\n\\n\\nThe treatment of migrant workers has been highlighted during the World Cup in Qatar, where many temporary foreign workers died while building the event’s infrastructure. Advocates for immigrant workers in the U.S. note that abuses aren’t just happening overseas. The Associated Press reports.\\n\\n\\nImmigration around the world\\n\\n\\nThousands Flee Drought and Hunger in Somalia for Kenya\\n\\n\\nRaho Ali has just arrived from Somalia with four of her children at the United Nations High Commissioner for Refugees (UNHCR) transit area in Kenya's northern border town of Dadaab. The 45-year-old mother of seven said the drought in Somalia prompted her to flee and seek relief in Kenya. Three of her children got lost following an attack on them while on the treacherous journey and she has yet to locate them. Ali is among tens of thousands flocking to Kenyan camps in a new wave of drought-driven refugees. Juma Majanga reports for VOA.\\xa0\\n\\n\\nUK Says 50 Recently Arrived Migrants Found with Diphtheria\\n\\n\\nBritish health authorities have recorded 50 cases of diphtheria this year among recently arrived asylum-seekers, including one man who died after falling sick at a crowded migrant center. The U.K. Health Protection Agency said Monday that the infected people likely caught the disease in their countries of origin or during their journeys to the U.K. It said a similar increase had been seen elsewhere in Europe. The Associated Press reports.\\n\\n\\nInflux of Refugees in Kenya as Thousands Flee Drought and Hunger in Somalia\\n\\n\\nRecord drought and hunger in Somalia are driving thousands to flee to neighboring Kenya for help. Relief groups say the influx of refugees at Kenya's Dadaab camp is stretching the already overcrowded camp's resources. Juma Majanga reports from the refugee camp in Dadaab, Kenya.\\n\\n\\nNews Brief\\xa0\\n\\n\\nThe Department of Homeland Security Science and Technology Directorate launched a competition for graduate and undergraduate students across the United States and territories to participate in the 2023 Homeland Security Professional Opportunities for the Student Workforce to Experience Research internship program.\"},\n",
       "  'links': [{'rel': 'alternate',\n",
       "    'type': 'text/html',\n",
       "    'href': 'https://www.voanews.com/a/voa-immigration-weekly-recap-nov-27-dec-3/6861494.html'},\n",
       "   {'length': '0',\n",
       "    'type': 'image/jpeg',\n",
       "    'href': 'https://gdb.voanews.com/03370000-0aff-0242-d413-08dad5aee293_cx0_cy10_cw0_w800_h450.jpg',\n",
       "    'rel': 'enclosure'}],\n",
       "  'link': 'https://www.voanews.com/a/voa-immigration-weekly-recap-nov-27-dec-3/6861494.html',\n",
       "  'id': 'https://www.voanews.com/a/voa-immigration-weekly-recap-nov-27-dec-3/6861494.html',\n",
       "  'guidislink': False,\n",
       "  'published': 'Sat, 03 Dec 2022 23:21:38 -0500',\n",
       "  'published_parsed': time.struct_time(tm_year=2022, tm_mon=12, tm_mday=4, tm_hour=4, tm_min=21, tm_sec=38, tm_wday=6, tm_yday=338, tm_isdst=0),\n",
       "  'tags': [{'term': 'Immigration', 'scheme': None, 'label': None},\n",
       "   {'term': 'USA', 'scheme': None, 'label': None}],\n",
       "  'authors': [{'name': 'Aline Barros', 'email': 'webdesk@voanews.com'}],\n",
       "  'author': 'webdesk@voanews.com (Aline Barros)',\n",
       "  'author_detail': {'name': 'Aline Barros', 'email': 'webdesk@voanews.com'}},\n",
       " {'title': 'Biden Weighs Reviving Trump-era Immigration Restrictions, Officials Say',\n",
       "  'title_detail': {'type': 'text/plain',\n",
       "   'language': None,\n",
       "   'base': 'https://www.voanews.com/api/zgvmqye_o_qv',\n",
       "   'value': 'Biden Weighs Reviving Trump-era Immigration Restrictions, Officials Say'},\n",
       "  'summary': 'U.S. President Joe Biden\\'s administration would make it harder to seek asylum at the U.S.-Mexico border under several plans being considered that bear similarities to policies pushed by former President Donald Trump.\\n\\n\\nTwo Department of Homeland Security officials and a person familiar with the matter said the administration is discussing a fast-track regulation to deny asylum to single adult migrants if they do not first seek protection in other countries.\\n\\n\\nThe sources said they had not seen a copy of the proposed regulation so could not provide further details.\\n\\n\\nSince Biden took office in January 2021, his administration has struggled both operationally and politically with record numbers of migrants crossing the U.S.-Mexico border illegally.\\n\\n\\nU.S. border authorities made 2.2 million migrant arrests at the border in fiscal 2022, which ended September 30, although many of those were repeat crossers.\\n\\n\\nAnother U.S. official said the Biden administration is also considering other Trump-era deterrents that include having Border Patrol agents conduct accelerated asylum screenings.\\n\\n\\nAnother possibility was to increase a practice known as metering, which limits the number of migrants who can approach a port of entry to seek asylum, this official said.\\n\\n\\nA DHS spokesperson said on Friday no decisions had been made to make changes in policy.\\n\\n\\nBiden, a Democrat, defeated Trump, a Republican, in a 2020 presidential election promising to undo his predecessor\\'s hard-line immigration policies and \"reassert America\\'s commitment to asylum-seekers and refugees.\"\\n\\n\\nThe policies under consideration, if adopted, would sharply backtrack on those pledges and have drawn concern from immigration advocates. Similar Trump policies were challenged in court and overturned.\\n\\n\\nTo be granted U.S. asylum, migrants who enter the country must show they seek protection from persecution elsewhere based on their race, religion, nationality, political opinions or membership in a particular social group.\\n\\n\\nAxios first reported the discussions around a new asylum ban earlier this week. The other measures under consideration have not been previously reported.\\n\\n\\nAfter the Axios story, a Biden official said in a statement the United States would seek to accelerate asylum processing times, break up smuggling networks preying on migrants and work with others in the region to manage the flow of migrants.\\n\\n\\nRepublicans, who take control of the U.S. House of Representatives in January, have assailed Biden\\'s handling of the border and threatened to impeach his top border official, Homeland Security Secretary Alejandro Mayorkas.\\n\\n\\nLast month a U.S. federal judge invalidated a COVID-19 era border order known as Title 42. Implemented in March 2020 under Trump, it allowed authorities to rapidly expel migrants caught crossing the border without giving them a chance to seek asylum.\\n\\n\\nThe judge delayed the effective date of the ruling until December 21 to give border authorities time to prepare. A week later, a coalition of states with Republican attorneys general launched a legal challenge seeking to reverse the decision.\\n\\n\\nThe administration is preparing for the possibility of 9,000-14,000 migrants per day trying to cross the border if Title 42 is lifted, one of the DHS officials told Reuters, about double the recent daily rate.',\n",
       "  'summary_detail': {'type': 'text/html',\n",
       "   'language': None,\n",
       "   'base': 'https://www.voanews.com/api/zgvmqye_o_qv',\n",
       "   'value': 'U.S. President Joe Biden\\'s administration would make it harder to seek asylum at the U.S.-Mexico border under several plans being considered that bear similarities to policies pushed by former President Donald Trump.\\n\\n\\nTwo Department of Homeland Security officials and a person familiar with the matter said the administration is discussing a fast-track regulation to deny asylum to single adult migrants if they do not first seek protection in other countries.\\n\\n\\nThe sources said they had not seen a copy of the proposed regulation so could not provide further details.\\n\\n\\nSince Biden took office in January 2021, his administration has struggled both operationally and politically with record numbers of migrants crossing the U.S.-Mexico border illegally.\\n\\n\\nU.S. border authorities made 2.2 million migrant arrests at the border in fiscal 2022, which ended September 30, although many of those were repeat crossers.\\n\\n\\nAnother U.S. official said the Biden administration is also considering other Trump-era deterrents that include having Border Patrol agents conduct accelerated asylum screenings.\\n\\n\\nAnother possibility was to increase a practice known as metering, which limits the number of migrants who can approach a port of entry to seek asylum, this official said.\\n\\n\\nA DHS spokesperson said on Friday no decisions had been made to make changes in policy.\\n\\n\\nBiden, a Democrat, defeated Trump, a Republican, in a 2020 presidential election promising to undo his predecessor\\'s hard-line immigration policies and \"reassert America\\'s commitment to asylum-seekers and refugees.\"\\n\\n\\nThe policies under consideration, if adopted, would sharply backtrack on those pledges and have drawn concern from immigration advocates. Similar Trump policies were challenged in court and overturned.\\n\\n\\nTo be granted U.S. asylum, migrants who enter the country must show they seek protection from persecution elsewhere based on their race, religion, nationality, political opinions or membership in a particular social group.\\n\\n\\nAxios first reported the discussions around a new asylum ban earlier this week. The other measures under consideration have not been previously reported.\\n\\n\\nAfter the Axios story, a Biden official said in a statement the United States would seek to accelerate asylum processing times, break up smuggling networks preying on migrants and work with others in the region to manage the flow of migrants.\\n\\n\\nRepublicans, who take control of the U.S. House of Representatives in January, have assailed Biden\\'s handling of the border and threatened to impeach his top border official, Homeland Security Secretary Alejandro Mayorkas.\\n\\n\\nLast month a U.S. federal judge invalidated a COVID-19 era border order known as Title 42. Implemented in March 2020 under Trump, it allowed authorities to rapidly expel migrants caught crossing the border without giving them a chance to seek asylum.\\n\\n\\nThe judge delayed the effective date of the ruling until December 21 to give border authorities time to prepare. A week later, a coalition of states with Republican attorneys general launched a legal challenge seeking to reverse the decision.\\n\\n\\nThe administration is preparing for the possibility of 9,000-14,000 migrants per day trying to cross the border if Title 42 is lifted, one of the DHS officials told Reuters, about double the recent daily rate.'},\n",
       "  'links': [{'rel': 'alternate',\n",
       "    'type': 'text/html',\n",
       "    'href': 'https://www.voanews.com/a/biden-weighs-reviving-trump-era-immigration-restrictions-officials-say-/6860121.html'},\n",
       "   {'length': '0',\n",
       "    'type': 'image/jpeg',\n",
       "    'href': 'https://gdb.voanews.com/09860000-0aff-0242-70ba-08da9fbcd29a_cx0_cy9_cw0_w800_h450.jpg',\n",
       "    'rel': 'enclosure'}],\n",
       "  'link': 'https://www.voanews.com/a/biden-weighs-reviving-trump-era-immigration-restrictions-officials-say-/6860121.html',\n",
       "  'id': 'https://www.voanews.com/a/biden-weighs-reviving-trump-era-immigration-restrictions-officials-say-/6860121.html',\n",
       "  'guidislink': False,\n",
       "  'published': 'Fri, 02 Dec 2022 15:14:56 -0500',\n",
       "  'published_parsed': time.struct_time(tm_year=2022, tm_mon=12, tm_mday=2, tm_hour=20, tm_min=14, tm_sec=56, tm_wday=4, tm_yday=336, tm_isdst=0),\n",
       "  'tags': [{'term': 'Immigration', 'scheme': None, 'label': None},\n",
       "   {'term': 'USA', 'scheme': None, 'label': None}],\n",
       "  'authors': [{'name': 'Reuters', 'email': 'webdesk@voanews.com'}],\n",
       "  'author': 'webdesk@voanews.com (Reuters)',\n",
       "  'author_detail': {'name': 'Reuters', 'email': 'webdesk@voanews.com'}},\n",
       " {'title': \"Supreme Court Wrestles with Biden's Deportation Policy\",\n",
       "  'title_detail': {'type': 'text/plain',\n",
       "   'language': None,\n",
       "   'base': 'https://www.voanews.com/api/zgvmqye_o_qv',\n",
       "   'value': \"Supreme Court Wrestles with Biden's Deportation Policy\"},\n",
       "  'summary': 'The Supreme Court on Tuesday wrestled with a politically tinged dispute over a Biden administration policy that would prioritize deportation of people in the country illegally who pose the greatest public safety risk.\\n\\n\\nIt was not clear after arguments that stretched past two hours and turned highly contentious at times whether the justices would allow the policy to take effect, or side with Republican-led states that have so far succeeded in blocking it.\\n\\n\\nAt the center of the case is a September 2021 directive from the Department of Homeland Security that paused deportations unless individuals had committed acts of terrorism, espionage or \"egregious threats to public safety.\" The guidance, issued after Joe Biden became president, updated a Trump-era policy that removed people in the country illegally regardless of criminal history or community ties.\\n\\n\\nOn Tuesday, the administration\\'s top Supreme Court lawyer told the justices that federal law does \"not create an unyielding mandate to apprehend and remove\" every one of the more than 11 million immigrants living in the country illegally.\\n\\n\\nSolicitor General Elizabeth Prelogar said it would be \"incredibly destabilizing on the ground\" for the high court to require that. Congress has not given DHS enough money to vastly increase the number of people it holds and deports, the Biden administration has said.\\n\\n\\nBut Texas Solicitor General Judd Stone told the court the administration is violating federal law that requires the detention and deportation of people who are in the U.S. illegally and who have been convicted of any serious crime, not just the most serious, specifically defined ones.\\n\\n\\nChief Justice John Roberts was among the conservative justices who pushed back strongly on the Biden administration\\'s arguments.\\n\\n\\n\"It\\'s our job to say what the law is, not whether or not it can be possibly implemented or whether there are difficulties there, and I don\\'t think we should change that responsibility just because Congress and the executive can\\'t agree on something. ... I don\\'t think we should let them off the hook,\" he said.\\n\\n\\nYet Roberts, in questioning Stone, also called Prelogar\\'s argument compelling.\\n\\n\\n\"It\\'s impossible for the executive to do what you want it to do, right?\" Roberts asked.\\n\\n\\nRoberts wasn\\'t totally satisfied when Stone said the number of people potentially affected total 60,000 to 80,000.\\n\\n\\nJustice Brett Kavanaugh said that whatever the actual number, \"the resources still aren\\'t there.\"\\n\\n\\nThe court\\'s three liberal justices, on the other hand, were sympathetic to the Biden administration\\'s arguments. Justice Sonia Sotomayor and Elena Kagan, made clear they believed that Texas and Louisiana, which joined Texas in suing over the directive, weren\\'t even entitled to bring their case.\\n\\n\\nThe case is the latest example of a Republican litigation strategy that has succeeded in slowing Biden administration initiatives by going to GOP-friendly courts. Kagan picked up on that during arguments, saying that Texas could file its suit in a courthouse where it was guaranteed to get a sympathetic hearing and that one judge stopped \"a federal immigration policy in its tracks.\"\\n\\n\\nIn a separate ongoing legal dispute, three judges chosen by then-President Donald Trump are among the four Republican-appointed judges who have so far prevented the administration\\'s student loan cancellation program from taking effect.\\n\\n\\nThe states said they would face added costs of having to detain people the federal government might allow to remain free inside the United States, despite their criminal records.\\n\\n\\nFederal appeals courts had reached conflicting decisions over DHS guidance.\\n\\n\\nThe federal appeals court in Cincinnati earlier overturned a district judge\\'s order that put the policy on hold in a lawsuit filed by Arizona, Ohio and Montana.\\n\\n\\nBut in the separate suit filed by Texas and Louisiana, a federal judge in Texas ordered a nationwide halt to the guidance and a federal appellate panel in New Orleans declined to step in.\\n\\n\\nIn July, the court voted 5-4 to leave the immigration policy frozen nationwide. Conservative Justice Amy Coney Barrett joined the court\\'s three liberals in saying they would have allowed the Biden administration to put in place the guidance.\\n\\n\\nAt the same time, the court said it would hear arguments in the case in late November.\\n\\n\\nThe justices have several questions to sort through, whether the states should have been permitted to file their challenge in the first place, whether the policy violates immigration law and, if it does, whether it was appropriate for the Texas-based judge to block it.\\n\\n\\nOn that last point, Prelogar said the judge\\'s decision to \"vacate\" the policy was wrong, and her argument questioned whether judges have been getting it all wrong for decades.\\n\\n\\nThe issue touched a nerve, especially among Roberts, Kavanaugh and Ketanji Brown Jackson, the justices who once served on the federal appeals court in Washington that regularly vacates policies it determines are unlawful.\\n\\n\\n\"Fairly radical,\" Roberts said. \"Pretty astonishing,\" Kavanaugh said. Jackson, more restrained, also questioned Prelogar\\'s reasoning.\\n\\n\\n\"There seems to be a kind of D.C. Circuit cartel,\" Kagan joked.\\n\\n\\nA decision in U.S. v. Texas, 22-58, is expected by late June.',\n",
       "  'summary_detail': {'type': 'text/html',\n",
       "   'language': None,\n",
       "   'base': 'https://www.voanews.com/api/zgvmqye_o_qv',\n",
       "   'value': 'The Supreme Court on Tuesday wrestled with a politically tinged dispute over a Biden administration policy that would prioritize deportation of people in the country illegally who pose the greatest public safety risk.\\n\\n\\nIt was not clear after arguments that stretched past two hours and turned highly contentious at times whether the justices would allow the policy to take effect, or side with Republican-led states that have so far succeeded in blocking it.\\n\\n\\nAt the center of the case is a September 2021 directive from the Department of Homeland Security that paused deportations unless individuals had committed acts of terrorism, espionage or \"egregious threats to public safety.\" The guidance, issued after Joe Biden became president, updated a Trump-era policy that removed people in the country illegally regardless of criminal history or community ties.\\n\\n\\nOn Tuesday, the administration\\'s top Supreme Court lawyer told the justices that federal law does \"not create an unyielding mandate to apprehend and remove\" every one of the more than 11 million immigrants living in the country illegally.\\n\\n\\nSolicitor General Elizabeth Prelogar said it would be \"incredibly destabilizing on the ground\" for the high court to require that. Congress has not given DHS enough money to vastly increase the number of people it holds and deports, the Biden administration has said.\\n\\n\\nBut Texas Solicitor General Judd Stone told the court the administration is violating federal law that requires the detention and deportation of people who are in the U.S. illegally and who have been convicted of any serious crime, not just the most serious, specifically defined ones.\\n\\n\\nChief Justice John Roberts was among the conservative justices who pushed back strongly on the Biden administration\\'s arguments.\\n\\n\\n\"It\\'s our job to say what the law is, not whether or not it can be possibly implemented or whether there are difficulties there, and I don\\'t think we should change that responsibility just because Congress and the executive can\\'t agree on something. ... I don\\'t think we should let them off the hook,\" he said.\\n\\n\\nYet Roberts, in questioning Stone, also called Prelogar\\'s argument compelling.\\n\\n\\n\"It\\'s impossible for the executive to do what you want it to do, right?\" Roberts asked.\\n\\n\\nRoberts wasn\\'t totally satisfied when Stone said the number of people potentially affected total 60,000 to 80,000.\\n\\n\\nJustice Brett Kavanaugh said that whatever the actual number, \"the resources still aren\\'t there.\"\\n\\n\\nThe court\\'s three liberal justices, on the other hand, were sympathetic to the Biden administration\\'s arguments. Justice Sonia Sotomayor and Elena Kagan, made clear they believed that Texas and Louisiana, which joined Texas in suing over the directive, weren\\'t even entitled to bring their case.\\n\\n\\nThe case is the latest example of a Republican litigation strategy that has succeeded in slowing Biden administration initiatives by going to GOP-friendly courts. Kagan picked up on that during arguments, saying that Texas could file its suit in a courthouse where it was guaranteed to get a sympathetic hearing and that one judge stopped \"a federal immigration policy in its tracks.\"\\n\\n\\nIn a separate ongoing legal dispute, three judges chosen by then-President Donald Trump are among the four Republican-appointed judges who have so far prevented the administration\\'s student loan cancellation program from taking effect.\\n\\n\\nThe states said they would face added costs of having to detain people the federal government might allow to remain free inside the United States, despite their criminal records.\\n\\n\\nFederal appeals courts had reached conflicting decisions over DHS guidance.\\n\\n\\nThe federal appeals court in Cincinnati earlier overturned a district judge\\'s order that put the policy on hold in a lawsuit filed by Arizona, Ohio and Montana.\\n\\n\\nBut in the separate suit filed by Texas and Louisiana, a federal judge in Texas ordered a nationwide halt to the guidance and a federal appellate panel in New Orleans declined to step in.\\n\\n\\nIn July, the court voted 5-4 to leave the immigration policy frozen nationwide. Conservative Justice Amy Coney Barrett joined the court\\'s three liberals in saying they would have allowed the Biden administration to put in place the guidance.\\n\\n\\nAt the same time, the court said it would hear arguments in the case in late November.\\n\\n\\nThe justices have several questions to sort through, whether the states should have been permitted to file their challenge in the first place, whether the policy violates immigration law and, if it does, whether it was appropriate for the Texas-based judge to block it.\\n\\n\\nOn that last point, Prelogar said the judge\\'s decision to \"vacate\" the policy was wrong, and her argument questioned whether judges have been getting it all wrong for decades.\\n\\n\\nThe issue touched a nerve, especially among Roberts, Kavanaugh and Ketanji Brown Jackson, the justices who once served on the federal appeals court in Washington that regularly vacates policies it determines are unlawful.\\n\\n\\n\"Fairly radical,\" Roberts said. \"Pretty astonishing,\" Kavanaugh said. Jackson, more restrained, also questioned Prelogar\\'s reasoning.\\n\\n\\n\"There seems to be a kind of D.C. Circuit cartel,\" Kagan joked.\\n\\n\\nA decision in U.S. v. Texas, 22-58, is expected by late June.'},\n",
       "  'links': [{'rel': 'alternate',\n",
       "    'type': 'text/html',\n",
       "    'href': 'https://www.voanews.com/a/supreme-court-wrestles-with-biden-s-deportation-policy-/6855367.html'},\n",
       "   {'length': '0',\n",
       "    'type': 'image/jpeg',\n",
       "    'href': 'https://gdb.voanews.com/03370000-0aff-0242-e2d9-08dad25e9343_cx0_cy4_cw0_w800_h450.jpg',\n",
       "    'rel': 'enclosure'}],\n",
       "  'link': 'https://www.voanews.com/a/supreme-court-wrestles-with-biden-s-deportation-policy-/6855367.html',\n",
       "  'id': 'https://www.voanews.com/a/supreme-court-wrestles-with-biden-s-deportation-policy-/6855367.html',\n",
       "  'guidislink': False,\n",
       "  'published': 'Tue, 29 Nov 2022 18:25:49 -0500',\n",
       "  'published_parsed': time.struct_time(tm_year=2022, tm_mon=11, tm_mday=29, tm_hour=23, tm_min=25, tm_sec=49, tm_wday=1, tm_yday=333, tm_isdst=0),\n",
       "  'tags': [{'term': 'USA', 'scheme': None, 'label': None},\n",
       "   {'term': 'Immigration', 'scheme': None, 'label': None}],\n",
       "  'authors': [{'name': 'Associated Press', 'email': 'webdesk@voanews.com'}],\n",
       "  'author': 'webdesk@voanews.com (Associated Press)',\n",
       "  'author_detail': {'name': 'Associated Press',\n",
       "   'email': 'webdesk@voanews.com'}},\n",
       " {'title': 'US Supreme Court to Hear Immigration Policy Case',\n",
       "  'title_detail': {'type': 'text/plain',\n",
       "   'language': None,\n",
       "   'base': 'https://www.voanews.com/api/zgvmqye_o_qv',\n",
       "   'value': 'US Supreme Court to Hear Immigration Policy Case'},\n",
       "  'summary': 'The U.S. Supreme Court wades into the immigration debate on Tuesday as it examines the Biden administration\\'s expulsion policies for undocumented migrants.\\xa0\\xa0\\xa0\\n\\n\\nThe Homeland Security Department, in a September 2021 memo, instructed US Immigration and Customs Enforcement (ICE) to concentrate expulsion efforts on persons who \"pose a threat to national security, public safety, and border security.\"\\xa0\\xa0\\xa0\\n\\n\\n\"It is estimated that there are more than 11 million undocumented or otherwise removable noncitizens in the United States,\" Homeland Security Secretary Alejandro Mayorkas said in the memo.\\xa0\\xa0\\xa0\\n\\n\\n\"We do not have the resources to apprehend and seek the removal of every one of these noncitizens,\" Mayorkas said. \"Therefore, we need to exercise our discretion and determine whom to prioritize for immigration enforcement action.\"\\xa0\\xa0\\xa0\\n\\n\\nThe policy represented a shift from that of the administration of former Republican president Donald Trump which called for the expulsion of \"all removable aliens.\"\\xa0\\xa0\\xa0\\n\\n\\nThe Biden policy was immediately challenged by several Republican-led states as being too narrow and was blocked by a court in Texas.\\xa0\\xa0\\xa0\\n\\n\\nThe states argued that it imposes a heavy cost burden on the taxpayers because of the public services that would be needed to be provided to noncitizens.\\xa0\\xa0\\xa0\\n\\n\\nThe Biden administration challenged the Texas court\\'s ruling and the conservative majority Supreme Court will hear oral arguments in the case, United States v. Texas, on Tuesday.\\xa0\\n\\n\\nThe administration is arguing that a decision in Texas\\'s favor could have wide-ranging repercussions beyond immigration policy.\\xa0\\xa0\\xa0\\n\\n\\n\"Federal policies routinely have incidental effects on states\\' expenditures, revenues, and other activities,\" the government said in its brief.\\xa0\\xa0\\xa0\\n\\n\\n\"Yet such effects have never been viewed as judicially cognizable injuries,\" it said.\\xa0\\xa0\\xa0\\xa0\\n\\n\\n\"As the recent explosion in state suits vividly illustrates, respondents\\' contrary view would allow any state to sue the federal government about virtually any policy.\"\\xa0\\xa0\\xa0\\n\\n\\nThe court is expected to issue its ruling by the end of June.',\n",
       "  'summary_detail': {'type': 'text/html',\n",
       "   'language': None,\n",
       "   'base': 'https://www.voanews.com/api/zgvmqye_o_qv',\n",
       "   'value': 'The U.S. Supreme Court wades into the immigration debate on Tuesday as it examines the Biden administration\\'s expulsion policies for undocumented migrants.\\xa0\\xa0\\xa0\\n\\n\\nThe Homeland Security Department, in a September 2021 memo, instructed US Immigration and Customs Enforcement (ICE) to concentrate expulsion efforts on persons who \"pose a threat to national security, public safety, and border security.\"\\xa0\\xa0\\xa0\\n\\n\\n\"It is estimated that there are more than 11 million undocumented or otherwise removable noncitizens in the United States,\" Homeland Security Secretary Alejandro Mayorkas said in the memo.\\xa0\\xa0\\xa0\\n\\n\\n\"We do not have the resources to apprehend and seek the removal of every one of these noncitizens,\" Mayorkas said. \"Therefore, we need to exercise our discretion and determine whom to prioritize for immigration enforcement action.\"\\xa0\\xa0\\xa0\\n\\n\\nThe policy represented a shift from that of the administration of former Republican president Donald Trump which called for the expulsion of \"all removable aliens.\"\\xa0\\xa0\\xa0\\n\\n\\nThe Biden policy was immediately challenged by several Republican-led states as being too narrow and was blocked by a court in Texas.\\xa0\\xa0\\xa0\\n\\n\\nThe states argued that it imposes a heavy cost burden on the taxpayers because of the public services that would be needed to be provided to noncitizens.\\xa0\\xa0\\xa0\\n\\n\\nThe Biden administration challenged the Texas court\\'s ruling and the conservative majority Supreme Court will hear oral arguments in the case, United States v. Texas, on Tuesday.\\xa0\\n\\n\\nThe administration is arguing that a decision in Texas\\'s favor could have wide-ranging repercussions beyond immigration policy.\\xa0\\xa0\\xa0\\n\\n\\n\"Federal policies routinely have incidental effects on states\\' expenditures, revenues, and other activities,\" the government said in its brief.\\xa0\\xa0\\xa0\\n\\n\\n\"Yet such effects have never been viewed as judicially cognizable injuries,\" it said.\\xa0\\xa0\\xa0\\xa0\\n\\n\\n\"As the recent explosion in state suits vividly illustrates, respondents\\' contrary view would allow any state to sue the federal government about virtually any policy.\"\\xa0\\xa0\\xa0\\n\\n\\nThe court is expected to issue its ruling by the end of June.'},\n",
       "  'links': [{'rel': 'alternate',\n",
       "    'type': 'text/html',\n",
       "    'href': 'https://www.voanews.com/a/us-supreme-court-to-hear-immigration-policy-case/6854300.html'},\n",
       "   {'length': '0',\n",
       "    'type': 'image/jpeg',\n",
       "    'href': 'https://gdb.voanews.com/03990000-0aff-0242-7b35-08daad649e86_w800_h450.jpg',\n",
       "    'rel': 'enclosure'}],\n",
       "  'link': 'https://www.voanews.com/a/us-supreme-court-to-hear-immigration-policy-case/6854300.html',\n",
       "  'id': 'https://www.voanews.com/a/us-supreme-court-to-hear-immigration-policy-case/6854300.html',\n",
       "  'guidislink': False,\n",
       "  'published': 'Mon, 28 Nov 2022 23:28:34 -0500',\n",
       "  'published_parsed': time.struct_time(tm_year=2022, tm_mon=11, tm_mday=29, tm_hour=4, tm_min=28, tm_sec=34, tm_wday=1, tm_yday=333, tm_isdst=0),\n",
       "  'tags': [{'term': 'Immigration', 'scheme': None, 'label': None}],\n",
       "  'authors': [{'name': 'Agence France-Presse',\n",
       "    'email': 'webdesk@voanews.com'}],\n",
       "  'author': 'webdesk@voanews.com (Agence France-Presse)',\n",
       "  'author_detail': {'name': 'Agence France-Presse',\n",
       "   'email': 'webdesk@voanews.com'}},\n",
       " {'title': 'VOA Immigration Weekly Recap, Nov. 20–26',\n",
       "  'title_detail': {'type': 'text/plain',\n",
       "   'language': None,\n",
       "   'base': 'https://www.voanews.com/api/zgvmqye_o_qv',\n",
       "   'value': 'VOA Immigration Weekly Recap, Nov. 20–26'},\n",
       "  'summary': 'Editor\\'s note: Here is a look at immigration-related news around the U.S. this week. Questions? Tips? Comments? Email the VOA immigration team: ImmigrationUnit@voanews.com.\\n\\n\\nIn Pennsylvania, Afghan Refugees Celebrate First Thanksgiving\\n\\n\\nJudith Samkoff needed a bigger dinner table for Thanksgiving this year.\\n\\n\\nThe 65-year-old Harrisburg, Pennsylvania, resident helped resettle an Afghan refugee family of eight, and because this is their first holiday in the United States, Samkoff invited them to her father and sister\\'s home for Thanksgiving.\\n\\n\\nOne of Samkoff\\'s guests is Hadia, a 24-year-old Afghan refugee whose family fled Afghanistan in November 2021. VOA\\'s immigration reporter Aline Barros has more.\\n\\n\\nNew Refugees Celebrate First Thanksgiving in US\\n\\n\\nRefugees from around the world who resettled in the Washington area got together to celebrate their first Thanksgiving in the United States. VOA\\'s Shahnaz Nafees has the story.\\n\\n\\n\\'Kite Runner\\' Actor a Two-Time Refugee\\n\\n\\nThe Afghan actor Ali Danish Bakhtyari, who played the role of an orphan in the 2007 film The Kite Runner, has fled the Taliban rule in his home country twice: first in the late 1990s, and then in 2021, when the United States withdrew its forces from Afghanistan. Keith Kocinski has the story from New York.\\n\\n\\nImmigration around the world\\n\\n\\nRights Group Accuses Turkey of Mass Afghan Deportations\\n\\n\\nThe U.S.-based Human Rights Watch accuses Turkish authorities of carrying out mass deportations of Afghan refugees, including those most at risk. For VOA, Dorian Jones reports from Istanbul.\\n\\n\\nEU Ministers Endorse New Migrant Plan After France-Italy Spat\\n\\n\\nEuropean interior ministers welcomed Friday an EU plan to better coordinate the handling of migrant arrivals, after a furious argument over a refugee rescue boat erupted between Italy and France. Reported by Agence France-Presse.\\n\\n\\nThe Inside Story-Cause of Death: Migrant Workers and the 2022 Qatar World Cup\\n\\n\\nThousands of migrant workers died in Qatar building the stadiums for the 2022 World Cup. VOA\\'s Heather Murdock takes you to Nepal where families are asking \"Why is no one taking responsibility?\" on The Inside Story: Cause of Death, Migrant Workers & the 2022 Qatar World Cup.\\n\\n\\nChinese Refugees in Italy Wary of Beijing Outposts\\n\\n\\nChinese refugees in Italy, some of whom are dissidents, are increasingly wary of the presence of what appear to be four outposts of Beijing\\'s security apparatus operating without official diplomatic trappings, according to experts. Allen Giovanni Ai reports for VOA News.\\n\\n\\nNews Brief\\n\\n\\nThe U.S. Citizenship and Immigration Services (USCIS) announced it is extending filing fee exemptions and expediting application processing for certain Afghan nationals.\\n\\n\\n\"These actions will help Afghan nationals resettle, and in many cases reunite with family, in the United States by enabling USCIS to process their requests for work authorization, long-term status, status for immediate relatives, and associated services more quickly.\"',\n",
       "  'summary_detail': {'type': 'text/html',\n",
       "   'language': None,\n",
       "   'base': 'https://www.voanews.com/api/zgvmqye_o_qv',\n",
       "   'value': 'Editor\\'s note: Here is a look at immigration-related news around the U.S. this week. Questions? Tips? Comments? Email the VOA immigration team: ImmigrationUnit@voanews.com.\\n\\n\\nIn Pennsylvania, Afghan Refugees Celebrate First Thanksgiving\\n\\n\\nJudith Samkoff needed a bigger dinner table for Thanksgiving this year.\\n\\n\\nThe 65-year-old Harrisburg, Pennsylvania, resident helped resettle an Afghan refugee family of eight, and because this is their first holiday in the United States, Samkoff invited them to her father and sister\\'s home for Thanksgiving.\\n\\n\\nOne of Samkoff\\'s guests is Hadia, a 24-year-old Afghan refugee whose family fled Afghanistan in November 2021. VOA\\'s immigration reporter Aline Barros has more.\\n\\n\\nNew Refugees Celebrate First Thanksgiving in US\\n\\n\\nRefugees from around the world who resettled in the Washington area got together to celebrate their first Thanksgiving in the United States. VOA\\'s Shahnaz Nafees has the story.\\n\\n\\n\\'Kite Runner\\' Actor a Two-Time Refugee\\n\\n\\nThe Afghan actor Ali Danish Bakhtyari, who played the role of an orphan in the 2007 film The Kite Runner, has fled the Taliban rule in his home country twice: first in the late 1990s, and then in 2021, when the United States withdrew its forces from Afghanistan. Keith Kocinski has the story from New York.\\n\\n\\nImmigration around the world\\n\\n\\nRights Group Accuses Turkey of Mass Afghan Deportations\\n\\n\\nThe U.S.-based Human Rights Watch accuses Turkish authorities of carrying out mass deportations of Afghan refugees, including those most at risk. For VOA, Dorian Jones reports from Istanbul.\\n\\n\\nEU Ministers Endorse New Migrant Plan After France-Italy Spat\\n\\n\\nEuropean interior ministers welcomed Friday an EU plan to better coordinate the handling of migrant arrivals, after a furious argument over a refugee rescue boat erupted between Italy and France. Reported by Agence France-Presse.\\n\\n\\nThe Inside Story-Cause of Death: Migrant Workers and the 2022 Qatar World Cup\\n\\n\\nThousands of migrant workers died in Qatar building the stadiums for the 2022 World Cup. VOA\\'s Heather Murdock takes you to Nepal where families are asking \"Why is no one taking responsibility?\" on The Inside Story: Cause of Death, Migrant Workers & the 2022 Qatar World Cup.\\n\\n\\nChinese Refugees in Italy Wary of Beijing Outposts\\n\\n\\nChinese refugees in Italy, some of whom are dissidents, are increasingly wary of the presence of what appear to be four outposts of Beijing\\'s security apparatus operating without official diplomatic trappings, according to experts. Allen Giovanni Ai reports for VOA News.\\n\\n\\nNews Brief\\n\\n\\nThe U.S. Citizenship and Immigration Services (USCIS) announced it is extending filing fee exemptions and expediting application processing for certain Afghan nationals.\\n\\n\\n\"These actions will help Afghan nationals resettle, and in many cases reunite with family, in the United States by enabling USCIS to process their requests for work authorization, long-term status, status for immediate relatives, and associated services more quickly.\"'},\n",
       "  'links': [{'rel': 'alternate',\n",
       "    'type': 'text/html',\n",
       "    'href': 'https://www.voanews.com/a/voa-immigration-weekly-recap-nov-20-26-/6851766.html'},\n",
       "   {'length': '0',\n",
       "    'type': 'image/png',\n",
       "    'href': 'https://gdb.voanews.com/03370000-0aff-0242-72d4-08dace63898c_cx0_cy17_cw0_w800_h450.png',\n",
       "    'rel': 'enclosure'}],\n",
       "  'link': 'https://www.voanews.com/a/voa-immigration-weekly-recap-nov-20-26-/6851766.html',\n",
       "  'id': 'https://www.voanews.com/a/voa-immigration-weekly-recap-nov-20-26-/6851766.html',\n",
       "  'guidislink': False,\n",
       "  'published': 'Sat, 26 Nov 2022 21:16:47 -0500',\n",
       "  'published_parsed': time.struct_time(tm_year=2022, tm_mon=11, tm_mday=27, tm_hour=2, tm_min=16, tm_sec=47, tm_wday=6, tm_yday=331, tm_isdst=0),\n",
       "  'tags': [{'term': 'Immigration', 'scheme': None, 'label': None},\n",
       "   {'term': 'USA', 'scheme': None, 'label': None}],\n",
       "  'authors': [{'name': 'Aline Barros', 'email': 'webdesk@voanews.com'}],\n",
       "  'author': 'webdesk@voanews.com (Aline Barros)',\n",
       "  'author_detail': {'name': 'Aline Barros', 'email': 'webdesk@voanews.com'}},\n",
       " {'title': 'The Somali Diaspora and its Journey to Political Victories in the West',\n",
       "  'title_detail': {'type': 'text/plain',\n",
       "   'language': None,\n",
       "   'base': 'https://www.voanews.com/api/zgvmqye_o_qv',\n",
       "   'value': 'The Somali Diaspora and its Journey to Political Victories in the West'},\n",
       "  'summary': \"From refugees to elected office, 14 Somali Americans have won legislative seats across the U.S. this year. Some also have been elected to city councils, school boards and the boards of parks and recreation in their respective cities. The U.S. midterm elections have proved to be historic for Somalis, with more women elected to public offices than ever before.\\n\\n\\nVOA Somali Service’s Torch Program explains how Somalis who arrived as migrants and refugees to the West have made their way into politics.\\n\\n\\nHashi Shafi, executive director of the Somali Action Alliance, a Minneapolis-based community organization in the northern U.S. state of Minnesota, says the campaign that led Somalis to shine in U.S. politics started right after 9/11 with a community-based voter registration program.\\n\\n\\n“In the beginning, Somalis were thinking about returning back to Somalia. They had their luggage ready; the artists were singing with songs giving the community a hope of immediate returning, but after 9/11, the community activists realized that such a dream was not realistic, and the Somalis needed to find a way to melt into the pot. Then, we started registering community members to encourage them to vote,” Shafi said. “Somali Americans’ rise in political power has come with its difficulties.”\\n\\n\\nTight-knit community\\n\\n\\nAbdirahman Sharif, the imam and the leader of the Dar-Al-Hijrah Mosque in Minneapolis says another reason Somalis have risen in U.S. politics is because they are a tight-knit community.\\n\\n\\n“When Somalis came to [the] U.S., they moved to a foreign country where they could not communicate with people. So, for them, being close to people from their country meant having someone to communicate with and that helped them to unite their votes, and resources for political aspirants,” Sharif said.\\n\\n\\nThe state of Minnesota has the largest Somali community in the country, mostly in the Minneapolis-St. Paul area. According to U.N. estimates from 2015, there are about 150,000 Somalis, both refugees and nonrefugees, living in the U.S.\\n\\n\\nThe first wave of Somalis came to Minnesota in early 1990s after civil war broke out in their country. Another wave of refugees followed, and the community thrived, thanks to the state's welcoming social programs. It's the biggest Somali community in North America, possibly in the world outside of East Africa.\\n\\n\\nSimilarly, job opportunities and a relatively low cost of living have drawn Somali immigrants to Columbus, Ohio. Ohio has the second largest Somali population in the United States, with an estimated 45,000 immigrants.\\n\\n\\nCommunities have grown significantly in both states. Somali-owned restaurants, mosques, clothing stores, coffee shops and other businesses have opened in several neighborhoods in Minneapolis, called Little Mogadishu, named after Somalia's capital.\\n\\n\\nLarge communities of Somalis are also concentrated in Lewiston and Portland, Maine, as well as Seattle in Washington state, and the Washington, D.C., metropolitan area.\\n\\n\\nAnalyst Abdi-Qafar Abdi Wardere says such concentrations have helped Somalis to gather their strength as a community.\\n\\n\\n“Somalis are bound together by intimate social or cultural ties that helped them to live together and concentrate [in] certain states or neighborhoods in the diaspora. About one-third of Minnesota's Somali residents came directly from refugee camps; others settled first in another state and then relocated to Minnesota. I can say they are somehow a tight-knit community,” Wardere said.\\n\\n\\nCanada and Europe\\n\\n\\nIt’s not only in the United States but Somali immigrants have also found their place in Canadian and European politics. They have gathered in big numbers in major cities to have an impact and exert influence.\\n\\n\\nIn Toronto, Canada, Somalis have made breakthroughs by winning elections and political offices. Ahmed Hussen, a lawyer and community activist born and raised in Somalia, is among the most influential Somalis in Canada. He was first elected as a member of parliament in 2015 to represent York South - Weston. He has previously served as minister of families, children and social development, and minister of immigration, refugees and citizenship. Now he is Canada’s minister of housing, diversity and inclusion.\\n\\n\\nFaisal Ahmed Hassan, who is a Somali Canadian politician, was a member of the Legislative Assembly of Ontario from 2018 until his defeat in 2022. He thinks for Somalis in the diaspora, there are two reasons they run for political office.\\n\\n\\n“One reason is that the community wants someone to represent their new homes and second is that Somalis inspire one another to doing something. If one of them does something good, others are encouraged that they can do the same,” Hassan said.\\n\\n\\nIn the Nordic region of Europe, the first Somalis arrived in the late 1980s and early 1990s. Later, as Somalia's civil war became more intense, new arrivals joined.\\n\\n\\nIn recent years, the first generation of Somali refugees has been making its mark in politics, from the local council level to the national stage.\\n\\n\\nIn Finland, Suldaan Said Ahmed has been the first Somali-born member of the Finnish parliament since 2021 and he is also the country’s special representative on peace mediation in the Horn of Africa, the northeastern region, where Somalia is located.\\n\\n\\nIn Sweden, Leila Ali Elmi, a former Somali refugee, made history in 2018 becoming the first Somali-Swedish Muslim woman elected to the Swedish parliament.\\n\\n\\nLast year, Marian Abdi Hussein became the first Somali MP in Norway’s history.\\n\\n\\nBoth women also became the first Muslims to wear hijabs in their respect houses of parliament.\\n\\n\\nIn Britain, Magid Magid, a Somali-British activist and politician who served as the mayor of Sheffield from May 2018 to May 2019, became the first Somali elected to the European Parliament.\\n\\n\\nMohamed Gure, a former member of the council of the city of Borlänge, Sweden, said there are unique things that keep Somalis together and make them successful in the politics in Europe.\\n\\n\\n“The fabric of Somalis is unique compared to the other diaspora communities. They share the same ethnicity, color, language, and religion. There are many things that keep them together that divide them back home. So, their togetherness is one reason I can attribute to their successes,” Gure said.\\n\\n\\nGure says the fear of migrants and refugees stoked by politicians has been setting a defining narrative for elections in the West.\\n\\n\\n“One other reason is the fear of a growing number of migrants and refugees in the West. As they are trying to melt into the pot, such fear created by nationalist politicians continues to set a tone for electoral victories that would have been unthinkable just a few years ago,” Gure said.\",\n",
       "  'summary_detail': {'type': 'text/html',\n",
       "   'language': None,\n",
       "   'base': 'https://www.voanews.com/api/zgvmqye_o_qv',\n",
       "   'value': \"From refugees to elected office, 14 Somali Americans have won legislative seats across the U.S. this year. Some also have been elected to city councils, school boards and the boards of parks and recreation in their respective cities. The U.S. midterm elections have proved to be historic for Somalis, with more women elected to public offices than ever before.\\n\\n\\nVOA Somali Service’s Torch Program explains how Somalis who arrived as migrants and refugees to the West have made their way into politics.\\n\\n\\nHashi Shafi, executive director of the Somali Action Alliance, a Minneapolis-based community organization in the northern U.S. state of Minnesota, says the campaign that led Somalis to shine in U.S. politics started right after 9/11 with a community-based voter registration program.\\n\\n\\n“In the beginning, Somalis were thinking about returning back to Somalia. They had their luggage ready; the artists were singing with songs giving the community a hope of immediate returning, but after 9/11, the community activists realized that such a dream was not realistic, and the Somalis needed to find a way to melt into the pot. Then, we started registering community members to encourage them to vote,” Shafi said. “Somali Americans’ rise in political power has come with its difficulties.”\\n\\n\\nTight-knit community\\n\\n\\nAbdirahman Sharif, the imam and the leader of the Dar-Al-Hijrah Mosque in Minneapolis says another reason Somalis have risen in U.S. politics is because they are a tight-knit community.\\n\\n\\n“When Somalis came to [the] U.S., they moved to a foreign country where they could not communicate with people. So, for them, being close to people from their country meant having someone to communicate with and that helped them to unite their votes, and resources for political aspirants,” Sharif said.\\n\\n\\nThe state of Minnesota has the largest Somali community in the country, mostly in the Minneapolis-St. Paul area. According to U.N. estimates from 2015, there are about 150,000 Somalis, both refugees and nonrefugees, living in the U.S.\\n\\n\\nThe first wave of Somalis came to Minnesota in early 1990s after civil war broke out in their country. Another wave of refugees followed, and the community thrived, thanks to the state's welcoming social programs. It's the biggest Somali community in North America, possibly in the world outside of East Africa.\\n\\n\\nSimilarly, job opportunities and a relatively low cost of living have drawn Somali immigrants to Columbus, Ohio. Ohio has the second largest Somali population in the United States, with an estimated 45,000 immigrants.\\n\\n\\nCommunities have grown significantly in both states. Somali-owned restaurants, mosques, clothing stores, coffee shops and other businesses have opened in several neighborhoods in Minneapolis, called Little Mogadishu, named after Somalia's capital.\\n\\n\\nLarge communities of Somalis are also concentrated in Lewiston and Portland, Maine, as well as Seattle in Washington state, and the Washington, D.C., metropolitan area.\\n\\n\\nAnalyst Abdi-Qafar Abdi Wardere says such concentrations have helped Somalis to gather their strength as a community.\\n\\n\\n“Somalis are bound together by intimate social or cultural ties that helped them to live together and concentrate [in] certain states or neighborhoods in the diaspora. About one-third of Minnesota's Somali residents came directly from refugee camps; others settled first in another state and then relocated to Minnesota. I can say they are somehow a tight-knit community,” Wardere said.\\n\\n\\nCanada and Europe\\n\\n\\nIt’s not only in the United States but Somali immigrants have also found their place in Canadian and European politics. They have gathered in big numbers in major cities to have an impact and exert influence.\\n\\n\\nIn Toronto, Canada, Somalis have made breakthroughs by winning elections and political offices. Ahmed Hussen, a lawyer and community activist born and raised in Somalia, is among the most influential Somalis in Canada. He was first elected as a member of parliament in 2015 to represent York South - Weston. He has previously served as minister of families, children and social development, and minister of immigration, refugees and citizenship. Now he is Canada’s minister of housing, diversity and inclusion.\\n\\n\\nFaisal Ahmed Hassan, who is a Somali Canadian politician, was a member of the Legislative Assembly of Ontario from 2018 until his defeat in 2022. He thinks for Somalis in the diaspora, there are two reasons they run for political office.\\n\\n\\n“One reason is that the community wants someone to represent their new homes and second is that Somalis inspire one another to doing something. If one of them does something good, others are encouraged that they can do the same,” Hassan said.\\n\\n\\nIn the Nordic region of Europe, the first Somalis arrived in the late 1980s and early 1990s. Later, as Somalia's civil war became more intense, new arrivals joined.\\n\\n\\nIn recent years, the first generation of Somali refugees has been making its mark in politics, from the local council level to the national stage.\\n\\n\\nIn Finland, Suldaan Said Ahmed has been the first Somali-born member of the Finnish parliament since 2021 and he is also the country’s special representative on peace mediation in the Horn of Africa, the northeastern region, where Somalia is located.\\n\\n\\nIn Sweden, Leila Ali Elmi, a former Somali refugee, made history in 2018 becoming the first Somali-Swedish Muslim woman elected to the Swedish parliament.\\n\\n\\nLast year, Marian Abdi Hussein became the first Somali MP in Norway’s history.\\n\\n\\nBoth women also became the first Muslims to wear hijabs in their respect houses of parliament.\\n\\n\\nIn Britain, Magid Magid, a Somali-British activist and politician who served as the mayor of Sheffield from May 2018 to May 2019, became the first Somali elected to the European Parliament.\\n\\n\\nMohamed Gure, a former member of the council of the city of Borlänge, Sweden, said there are unique things that keep Somalis together and make them successful in the politics in Europe.\\n\\n\\n“The fabric of Somalis is unique compared to the other diaspora communities. They share the same ethnicity, color, language, and religion. There are many things that keep them together that divide them back home. So, their togetherness is one reason I can attribute to their successes,” Gure said.\\n\\n\\nGure says the fear of migrants and refugees stoked by politicians has been setting a defining narrative for elections in the West.\\n\\n\\n“One other reason is the fear of a growing number of migrants and refugees in the West. As they are trying to melt into the pot, such fear created by nationalist politicians continues to set a tone for electoral victories that would have been unthinkable just a few years ago,” Gure said.\"},\n",
       "  'links': [{'rel': 'alternate',\n",
       "    'type': 'text/html',\n",
       "    'href': 'https://www.voanews.com/a/the-somali-diaspora-and-its-journey-to-political-victories-in-the-west-/6851765.html'},\n",
       "   {'length': '0',\n",
       "    'type': 'image/jpeg',\n",
       "    'href': 'https://gdb.voanews.com/09410000-0a00-0242-9add-08dad01b884f_w800_h450.jpg',\n",
       "    'rel': 'enclosure'}],\n",
       "  'link': 'https://www.voanews.com/a/the-somali-diaspora-and-its-journey-to-political-victories-in-the-west-/6851765.html',\n",
       "  'id': 'https://www.voanews.com/a/the-somali-diaspora-and-its-journey-to-political-victories-in-the-west-/6851765.html',\n",
       "  'guidislink': False,\n",
       "  'published': 'Sat, 26 Nov 2022 21:04:20 -0500',\n",
       "  'published_parsed': time.struct_time(tm_year=2022, tm_mon=11, tm_mday=27, tm_hour=2, tm_min=4, tm_sec=20, tm_wday=6, tm_yday=331, tm_isdst=0),\n",
       "  'tags': [{'term': 'USA', 'scheme': None, 'label': None},\n",
       "   {'term': 'Africa', 'scheme': None, 'label': None},\n",
       "   {'term': 'US Politics', 'scheme': None, 'label': None},\n",
       "   {'term': 'Immigration', 'scheme': None, 'label': None}],\n",
       "  'authors': [{'name': 'Mohamed Olad Hassan', 'email': 'webdesk@voanews.com'}],\n",
       "  'author': 'webdesk@voanews.com (Mohamed Olad Hassan)',\n",
       "  'author_detail': {'name': 'Mohamed Olad Hassan',\n",
       "   'email': 'webdesk@voanews.com'}},\n",
       " {'title': 'In Pennsylvania, Afghan Refugees Celebrate First Thanksgiving',\n",
       "  'title_detail': {'type': 'text/plain',\n",
       "   'language': None,\n",
       "   'base': 'https://www.voanews.com/api/zgvmqye_o_qv',\n",
       "   'value': 'In Pennsylvania, Afghan Refugees Celebrate First Thanksgiving'},\n",
       "  'summary': \"Judith Samkoff needed a bigger dinner table for Thanksgiving this year.\\n\\n\\nThe 65-year-old Harrisburg, Pennsylvania, resident helped resettle an Afghan refugee family of eight, and because this is their first holiday in the United States, Samkoff invited them to her father and sister's home for Thanksgiving.\\n\\n\\n“Because they have a larger dining room table and more dining chairs than I have,” she said, adding, “Our meal is not completely traditional in that we're vegetarians.”\\n\\n\\nIn different homes around the U.S., Jewish volunteers who helped resettle Afghans are welcoming them for their first Thanksgiving dinner on U.S. soil.\\n\\n\\nOne of Samkoff's guests is Hadia, a 24-year-old Afghan refugee whose family fled Afghanistan in November 2021.\\n\\n\\n“We got a call and they said we had to go to the airport right away,” Hadia said of her family’s escape from Kabul. Because of security and safety concerns, VOA is sharing only her first name.\\n\\n\\nIn Afghanistan, Hadia had a bachelor's degree in public administration from Balkh Province. She also volunteered to help displaced people from other countries.\\n\\n\\nWhen Kabul fell to the Taliban, her family had to quickly make plans.\\n\\n\\nThe U.S. completed its withdrawal in August 2021 and helped evacuate more than 130,000 Afghans in a chaotic few weeks after nearly 20 years of war.\\n\\n\\n“We decided to leave our country because my father had a military background,” she said.\\n\\n\\nHadia’s father served in the Afghan army and worked directly with U.S. forces.\\n\\n\\nShe did not disclose who helped her family leave Afghanistan, but they were part of a group of people who were able to go to Abu Dhabi, the capital of the United Arab Emirates.\\n\\n\\nThey lived there for four months before receiving authorization to travel to the United States in March 2022.\\n\\n\\nPennsylvania was the place the U.S. government chose for the family to rebuild their lives.\\n\\n\\n“We [didn’t] know anyone here. We [were] worr[ied],” she said, adding, “It's really hard when we [first arrived] … how can we manage, you know, it's really hard to start from zero. You left everything behind in your country. When you come here you must start from zero.”\\n\\n\\n\\n\\nThat is where Samkoff and the other volunteers come in. They help recently arrived Afghans like Hadia and her family settle in and give them the resources they need to be successful in their new homeland.\\n\\n\\nSamkoff said she became a volunteer after talking to a friend who was helping to resettle another Afghan family.\\n\\n\\n“And I said, ‘You know, sign me up. How do we do this?’” Samkoff told VOA.\\n\\n\\nGoodwill\\n\\n\\nSamkoff is one of 1,866 volunteers in the Jewish Federations of North America network, which in partnership with the Shapiro Foundation launched a $1 million refugee resettlement initiative to support local communities around the country, including the Jewish Family Service of Greater Harrisburg (JFS).\\n\\n\\nThe network has resettled 1,963 Afghans across the country and is prepared to resettle more as they arrive.\\n\\n\\nDarcy Hirsh, associate vice president public affairs at Jewish Federations of North America, said volunteers play an important role in helping refugee families resettle.\\n\\n\\n“A lot of it is really goodwill. … Our model allows each community to respond in a way that makes the most sense to them. … I've been really proud of [the] engagement we've seen in communities,” Hirsh said.\\n\\n\\nHirsh said volunteers help find apartments and homes for Afghans. They also work together to furnish the new place, help them enroll children in school, find transportation to job interviews and teach them English.\\n\\n\\n“The support services we have at the agencies will help any Afghan that walks through the doors, but we're working very closely in coalition with many of the resettlement agencies … to pass the Afghan Adjustment Act that would not only help adjust status but provide an easier pathway for those that are remaining in Afghanistan,” she said.\\n\\n\\nThe Afghan Adjustment Act is bipartisan legislation that would allow eligible Afghans to apply for lawful permanent residence in the United States. It was introduced in both chambers of Congress in August.\\n\\n\\n\\n\\n“So we're hoping that bill will be attached to legislation that passes Congress by December,” Hirsh said.\\n\\n\\n\\nFirst Thanksgiving\\n\\n\\nAt the table, the family and friends had Tofurky, a plant-based, meat substitute made from tofu.\\n\\n\\nHadia said she tried to explain to her mother what the national holiday day means to the United States.\\n\\n\\n“It's like they meet [and] appreciate people with thanks. ... So it's really good. In our culture [it’s] also like that. We don't have any specific date to say thanks but we say thanks [to] everyone,” she said.\\n\\n\\nHadia said she looks forward to the future and hopes to one day work as a diplomat helping other refugees to find safety as she has. In Harrisburg, she is working as a social service worker and is volunteering to assist other refugee families.\\n\\n\\nShe told VOA her family is still adjusting to the new country.\\n\\n\\n“The United States is very busy. … Everyone is busy here. … [But] we have lots of opportunities here. During the morning I can work and during the evening I can take my classes,” she said.\\n\\n\\nSamkoff said helping Hadia’s family is a blessing and makes her feel “really good.”\\n\\n\\n“I don’t have any grandchildren of my own. I feel like if anybody asks me if I have any grandchildren, I would say, ‘Yes, I have seven. One of them is in Germany. I haven’t met him in person yet, but he’s coming,” Samkoff told VOA. That is Hadia’s brother, who is waiting to resettle in the U.S.\\n\\n\\n“My family is always excited when Judith [Samkoff] invites us [to come over] or other volunteers. You know, when we came here, we didn't have any family. Now they’re my family. I call Judith my grandmother,” Hadia said.\",\n",
       "  'summary_detail': {'type': 'text/html',\n",
       "   'language': None,\n",
       "   'base': 'https://www.voanews.com/api/zgvmqye_o_qv',\n",
       "   'value': \"Judith Samkoff needed a bigger dinner table for Thanksgiving this year.\\n\\n\\nThe 65-year-old Harrisburg, Pennsylvania, resident helped resettle an Afghan refugee family of eight, and because this is their first holiday in the United States, Samkoff invited them to her father and sister's home for Thanksgiving.\\n\\n\\n“Because they have a larger dining room table and more dining chairs than I have,” she said, adding, “Our meal is not completely traditional in that we're vegetarians.”\\n\\n\\nIn different homes around the U.S., Jewish volunteers who helped resettle Afghans are welcoming them for their first Thanksgiving dinner on U.S. soil.\\n\\n\\nOne of Samkoff's guests is Hadia, a 24-year-old Afghan refugee whose family fled Afghanistan in November 2021.\\n\\n\\n“We got a call and they said we had to go to the airport right away,” Hadia said of her family’s escape from Kabul. Because of security and safety concerns, VOA is sharing only her first name.\\n\\n\\nIn Afghanistan, Hadia had a bachelor's degree in public administration from Balkh Province. She also volunteered to help displaced people from other countries.\\n\\n\\nWhen Kabul fell to the Taliban, her family had to quickly make plans.\\n\\n\\nThe U.S. completed its withdrawal in August 2021 and helped evacuate more than 130,000 Afghans in a chaotic few weeks after nearly 20 years of war.\\n\\n\\n“We decided to leave our country because my father had a military background,” she said.\\n\\n\\nHadia’s father served in the Afghan army and worked directly with U.S. forces.\\n\\n\\nShe did not disclose who helped her family leave Afghanistan, but they were part of a group of people who were able to go to Abu Dhabi, the capital of the United Arab Emirates.\\n\\n\\nThey lived there for four months before receiving authorization to travel to the United States in March 2022.\\n\\n\\nPennsylvania was the place the U.S. government chose for the family to rebuild their lives.\\n\\n\\n“We [didn’t] know anyone here. We [were] worr[ied],” she said, adding, “It's really hard when we [first arrived] … how can we manage, you know, it's really hard to start from zero. You left everything behind in your country. When you come here you must start from zero.”\\n\\n\\n\\n\\nThat is where Samkoff and the other volunteers come in. They help recently arrived Afghans like Hadia and her family settle in and give them the resources they need to be successful in their new homeland.\\n\\n\\nSamkoff said she became a volunteer after talking to a friend who was helping to resettle another Afghan family.\\n\\n\\n“And I said, ‘You know, sign me up. How do we do this?’” Samkoff told VOA.\\n\\n\\nGoodwill\\n\\n\\nSamkoff is one of 1,866 volunteers in the Jewish Federations of North America network, which in partnership with the Shapiro Foundation launched a $1 million refugee resettlement initiative to support local communities around the country, including the Jewish Family Service of Greater Harrisburg (JFS).\\n\\n\\nThe network has resettled 1,963 Afghans across the country and is prepared to resettle more as they arrive.\\n\\n\\nDarcy Hirsh, associate vice president public affairs at Jewish Federations of North America, said volunteers play an important role in helping refugee families resettle.\\n\\n\\n“A lot of it is really goodwill. … Our model allows each community to respond in a way that makes the most sense to them. … I've been really proud of [the] engagement we've seen in communities,” Hirsh said.\\n\\n\\nHirsh said volunteers help find apartments and homes for Afghans. They also work together to furnish the new place, help them enroll children in school, find transportation to job interviews and teach them English.\\n\\n\\n“The support services we have at the agencies will help any Afghan that walks through the doors, but we're working very closely in coalition with many of the resettlement agencies … to pass the Afghan Adjustment Act that would not only help adjust status but provide an easier pathway for those that are remaining in Afghanistan,” she said.\\n\\n\\nThe Afghan Adjustment Act is bipartisan legislation that would allow eligible Afghans to apply for lawful permanent residence in the United States. It was introduced in both chambers of Congress in August.\\n\\n\\n\\n\\n“So we're hoping that bill will be attached to legislation that passes Congress by December,” Hirsh said.\\n\\n\\n\\nFirst Thanksgiving\\n\\n\\nAt the table, the family and friends had Tofurky, a plant-based, meat substitute made from tofu.\\n\\n\\nHadia said she tried to explain to her mother what the national holiday day means to the United States.\\n\\n\\n“It's like they meet [and] appreciate people with thanks. ... So it's really good. In our culture [it’s] also like that. We don't have any specific date to say thanks but we say thanks [to] everyone,” she said.\\n\\n\\nHadia said she looks forward to the future and hopes to one day work as a diplomat helping other refugees to find safety as she has. In Harrisburg, she is working as a social service worker and is volunteering to assist other refugee families.\\n\\n\\nShe told VOA her family is still adjusting to the new country.\\n\\n\\n“The United States is very busy. … Everyone is busy here. … [But] we have lots of opportunities here. During the morning I can work and during the evening I can take my classes,” she said.\\n\\n\\nSamkoff said helping Hadia’s family is a blessing and makes her feel “really good.”\\n\\n\\n“I don’t have any grandchildren of my own. I feel like if anybody asks me if I have any grandchildren, I would say, ‘Yes, I have seven. One of them is in Germany. I haven’t met him in person yet, but he’s coming,” Samkoff told VOA. That is Hadia’s brother, who is waiting to resettle in the U.S.\\n\\n\\n“My family is always excited when Judith [Samkoff] invites us [to come over] or other volunteers. You know, when we came here, we didn't have any family. Now they’re my family. I call Judith my grandmother,” Hadia said.\"},\n",
       "  'links': [{'rel': 'alternate',\n",
       "    'type': 'text/html',\n",
       "    'href': 'https://www.voanews.com/a/in-pennsylvania-afghan-refugees-celebrate-first-thanksgiving/6848961.html'},\n",
       "   {'length': '0',\n",
       "    'type': 'image/png',\n",
       "    'href': 'https://gdb.voanews.com/03370000-0aff-0242-72d4-08dace63898c_cx0_cy16_cw0_w800_h450.png',\n",
       "    'rel': 'enclosure'}],\n",
       "  'link': 'https://www.voanews.com/a/in-pennsylvania-afghan-refugees-celebrate-first-thanksgiving/6848961.html',\n",
       "  'id': 'https://www.voanews.com/a/in-pennsylvania-afghan-refugees-celebrate-first-thanksgiving/6848961.html',\n",
       "  'guidislink': False,\n",
       "  'published': 'Thu, 24 Nov 2022 15:21:11 -0500',\n",
       "  'published_parsed': time.struct_time(tm_year=2022, tm_mon=11, tm_mday=24, tm_hour=20, tm_min=21, tm_sec=11, tm_wday=3, tm_yday=328, tm_isdst=0),\n",
       "  'tags': [{'term': 'Immigration', 'scheme': None, 'label': None},\n",
       "   {'term': 'USA', 'scheme': None, 'label': None},\n",
       "   {'term': 'South & Central Asia', 'scheme': None, 'label': None}],\n",
       "  'authors': [{'name': 'Aline Barros', 'email': 'webdesk@voanews.com'}],\n",
       "  'author': 'webdesk@voanews.com (Aline Barros)',\n",
       "  'author_detail': {'name': 'Aline Barros', 'email': 'webdesk@voanews.com'}}]"
      ]
     },
     "execution_count": 4,
     "metadata": {},
     "output_type": "execute_result"
    }
   ],
   "source": [
    "feed['entries']"
   ]
  },
  {
   "cell_type": "markdown",
   "id": "b524fd40",
   "metadata": {},
   "source": [
    "We can get the number of articles/entries using the **len()** function:"
   ]
  },
  {
   "cell_type": "code",
   "execution_count": 5,
   "id": "6ab3a06d",
   "metadata": {},
   "outputs": [
    {
     "data": {
      "text/plain": [
       "20"
      ]
     },
     "execution_count": 5,
     "metadata": {},
     "output_type": "execute_result"
    }
   ],
   "source": [
    "len(feed['entries'])"
   ]
  },
  {
   "cell_type": "markdown",
   "id": "a3f528aa",
   "metadata": {},
   "source": [
    "#### Getting details of the entries\n",
    "We can iterate over the items of the entries list and print them to get more details on each article:"
   ]
  },
  {
   "cell_type": "code",
   "execution_count": 6,
   "id": "7fefd893",
   "metadata": {},
   "outputs": [
    {
     "name": "stdout",
     "output_type": "stream",
     "text": [
      "{'title': 'United Nations Marks International Migrants Day', 'title_detail': {'type': 'text/plain', 'language': None, 'base': 'https://www.voanews.com/api/zgvmqye_o_qv', 'value': 'United Nations Marks International Migrants Day'}, 'summary': 'The United Nations Sunday marks International Migrants Day, to commemorate the contributions of hundreds of millions of migrants who have faced challenges to leave home for a better life.\\xa0\\n\\n\\nThis year’s celebrations occur as increasing numbers of European countries close their doors to refugees and economic migrants from Afghanistan, the Middle East, and Africa. They are taking place as a growing number of migrants from Central America try to cross the southern U.S. border.\\n\\n\\nThe United Nations says people do not willingly leave home. It says most of the world’s 280 million international migrants have been forced to move by conflict, persecution, desperate poverty, and, increasingly, climate change.\\n\\n\\n\\n\\nMany migrants, who lack legal pathways, take dangerous routes to countries of asylum. Many are exploited, abused, and die along the way. The International Organization for Migration estimates more than 50,000 migrants have died, and thousands more have disappeared over the past eight years.\\n\\n\\nIOM Director-General Antonio Vitorino says the world is failing to protect the most vulnerable people.\\n\\n\\n“Indeed, the world over, migrants move, often at great risks, for the most fundamental of reasons\\xa0— to seek a better future for themselves and their families. Behind every journey there is a person, there is a story no less valid than our own. This year to mark International Migrants Day, I want to pay tribute to all those who have died or disappeared on the threshold of their dreams.”\\n\\n\\n\\n\\nWorld Health Organization Director-General Tedros Adhanom Ghebreyesus echoes these sentiments. He says countries have a legal and moral duty to assist those in distress and provide health services and protection for vulnerable people.\\n\\n\\n“In seeking a better life, many migrants are in vulnerable situations, suffer from poor health and cannot access health services. We can prevent suffering and save lives by supporting countries to build resilient health and care systems that are sensitive to the needs of migrants,” he said.\\n\\n\\nThe United Nations says migrants’ rights are human rights and must be respected without discrimination. These rights, it adds, pertain regardless of whether people are forced to flee or move voluntarily.', 'summary_detail': {'type': 'text/html', 'language': None, 'base': 'https://www.voanews.com/api/zgvmqye_o_qv', 'value': 'The United Nations Sunday marks International Migrants Day, to commemorate the contributions of hundreds of millions of migrants who have faced challenges to leave home for a better life.\\xa0\\n\\n\\nThis year’s celebrations occur as increasing numbers of European countries close their doors to refugees and economic migrants from Afghanistan, the Middle East, and Africa. They are taking place as a growing number of migrants from Central America try to cross the southern U.S. border.\\n\\n\\nThe United Nations says people do not willingly leave home. It says most of the world’s 280 million international migrants have been forced to move by conflict, persecution, desperate poverty, and, increasingly, climate change.\\n\\n\\n\\n\\nMany migrants, who lack legal pathways, take dangerous routes to countries of asylum. Many are exploited, abused, and die along the way. The International Organization for Migration estimates more than 50,000 migrants have died, and thousands more have disappeared over the past eight years.\\n\\n\\nIOM Director-General Antonio Vitorino says the world is failing to protect the most vulnerable people.\\n\\n\\n“Indeed, the world over, migrants move, often at great risks, for the most fundamental of reasons\\xa0— to seek a better future for themselves and their families. Behind every journey there is a person, there is a story no less valid than our own. This year to mark International Migrants Day, I want to pay tribute to all those who have died or disappeared on the threshold of their dreams.”\\n\\n\\n\\n\\nWorld Health Organization Director-General Tedros Adhanom Ghebreyesus echoes these sentiments. He says countries have a legal and moral duty to assist those in distress and provide health services and protection for vulnerable people.\\n\\n\\n“In seeking a better life, many migrants are in vulnerable situations, suffer from poor health and cannot access health services. We can prevent suffering and save lives by supporting countries to build resilient health and care systems that are sensitive to the needs of migrants,” he said.\\n\\n\\nThe United Nations says migrants’ rights are human rights and must be respected without discrimination. These rights, it adds, pertain regardless of whether people are forced to flee or move voluntarily.'}, 'links': [{'rel': 'alternate', 'type': 'text/html', 'href': 'https://www.voanews.com/a/united-nations-marks-international-migrants-day-/6881380.html'}, {'length': '0', 'type': 'image/jpeg', 'href': 'https://gdb.voanews.com/09410000-0a00-0242-98b4-08daccb885a2_w800_h450.jpg', 'rel': 'enclosure'}], 'link': 'https://www.voanews.com/a/united-nations-marks-international-migrants-day-/6881380.html', 'id': 'https://www.voanews.com/a/united-nations-marks-international-migrants-day-/6881380.html', 'guidislink': False, 'published': 'Sun, 18 Dec 2022 09:17:43 -0500', 'published_parsed': time.struct_time(tm_year=2022, tm_mon=12, tm_mday=18, tm_hour=14, tm_min=17, tm_sec=43, tm_wday=6, tm_yday=352, tm_isdst=0), 'tags': [{'term': 'Immigration', 'scheme': None, 'label': None}], 'authors': [{'name': 'Lisa Schlein', 'email': 'webdesk@voanews.com'}], 'author': 'webdesk@voanews.com (Lisa Schlein)', 'author_detail': {'name': 'Lisa Schlein', 'email': 'webdesk@voanews.com'}}\n",
      "\n",
      "\n",
      "{'title': 'State of Emergency Declared in US Border City', 'title_detail': {'type': 'text/plain', 'language': None, 'base': 'https://www.voanews.com/api/zgvmqye_o_qv', 'value': 'State of Emergency Declared in US Border City'}, 'summary': 'The mayor of El Paso, Texas, Saturday declared a state of emergency as the U.S. border city faces a daily influx of thousands of migrants from Latin American countries over the border with Mexico.\\n\\n\\nMayor Oscar Leeser, a Democrat, said the declaration would give the city the money and other needed resources to deal with the migrant crisis.\\n\\n\\n\"We wanted to make sure people are treated with dignity. We want to make sure everyone is safe,\" Leeser said.\\n\\n\\nU.S. officials say more than 2,400 migrants cross into El Paso every day, far beyond its shelter capacity, and thousands of migrants are sleeping on El Paso’s streets, just as the temperatures are dropping.\\n\\n\\nThe emergency declaration came just days before a federal health order, referred to as Title 42, expires Wednesday. Title 42, enacted during the COVID-19 pandemic, allowed for the quick return of migrants across the border.\\n\\n\\nIf Title 42 is no longer in effect next week, Leeser said U.S. officials have told him the daily number of migrants crossing daily into the U.S. through El Paso could jump from 2,400 to as high as 6,000.\\n\\n\\nDemocratic state Senator César J. Blanco, who represents El Paso, said in a statement that the border community “is facing an extraordinary humanitarian crisis.”', 'summary_detail': {'type': 'text/html', 'language': None, 'base': 'https://www.voanews.com/api/zgvmqye_o_qv', 'value': 'The mayor of El Paso, Texas, Saturday declared a state of emergency as the U.S. border city faces a daily influx of thousands of migrants from Latin American countries over the border with Mexico.\\n\\n\\nMayor Oscar Leeser, a Democrat, said the declaration would give the city the money and other needed resources to deal with the migrant crisis.\\n\\n\\n\"We wanted to make sure people are treated with dignity. We want to make sure everyone is safe,\" Leeser said.\\n\\n\\nU.S. officials say more than 2,400 migrants cross into El Paso every day, far beyond its shelter capacity, and thousands of migrants are sleeping on El Paso’s streets, just as the temperatures are dropping.\\n\\n\\nThe emergency declaration came just days before a federal health order, referred to as Title 42, expires Wednesday. Title 42, enacted during the COVID-19 pandemic, allowed for the quick return of migrants across the border.\\n\\n\\nIf Title 42 is no longer in effect next week, Leeser said U.S. officials have told him the daily number of migrants crossing daily into the U.S. through El Paso could jump from 2,400 to as high as 6,000.\\n\\n\\nDemocratic state Senator César J. Blanco, who represents El Paso, said in a statement that the border community “is facing an extraordinary humanitarian crisis.”'}, 'links': [{'rel': 'alternate', 'type': 'text/html', 'href': 'https://www.voanews.com/a/state-of-emergency-declared-in-us-border-city-/6881337.html'}, {'length': '0', 'type': 'image/jpeg', 'href': 'https://gdb.voanews.com/022a0000-0aff-0242-5381-08dae0fa47d6_w800_h450.jpg', 'rel': 'enclosure'}], 'link': 'https://www.voanews.com/a/state-of-emergency-declared-in-us-border-city-/6881337.html', 'id': 'https://www.voanews.com/a/state-of-emergency-declared-in-us-border-city-/6881337.html', 'guidislink': False, 'published': 'Sun, 18 Dec 2022 08:21:03 -0500', 'published_parsed': time.struct_time(tm_year=2022, tm_mon=12, tm_mday=18, tm_hour=13, tm_min=21, tm_sec=3, tm_wday=6, tm_yday=352, tm_isdst=0), 'tags': [{'term': 'USA', 'scheme': None, 'label': None}, {'term': 'Immigration', 'scheme': None, 'label': None}], 'authors': [{'name': 'VOA News', 'email': 'webdesk@voanews.com'}], 'author': 'webdesk@voanews.com (VOA News)', 'author_detail': {'name': 'VOA News', 'email': 'webdesk@voanews.com'}}\n",
      "\n",
      "\n",
      "{'title': \"India's Visa Temples Attract Devotees Aspiring to Go Abroad\", 'title_detail': {'type': 'text/plain', 'language': None, 'base': 'https://www.voanews.com/api/zgvmqye_o_qv', 'value': \"India's Visa Temples Attract Devotees Aspiring to Go Abroad\"}, 'summary': 'Arjun Viswanathan stood on the street, his hands folded, eyes fixed on the idol of the Hindu deity Ganesh.\\n\\n\\nOn a humid morning, the information technology professional was waiting outside the temple, the size of a small closet – barely enough room for the lone priest to stand and perform puja or rituals for the beloved elephant-headed deity, believed to be the remover of obstacles.\\n\\n\\nViswanathan was among about a dozen visitors, most of them there for the same purpose: To offer prayers so their U.S. visa interviews would go smoothly and successfully. Viswanathan came the day before his interview for an employment visa.\\n\\n\\n\"I came here to pray for my brother\\'s U.K. visa 10 years ago and for my wife\\'s U.S. visa two years ago,\" he said. \"They were both successful. So I have faith.\"\\n\\n\\nThe Sri Lakshmi Visa Ganapathy Temple is a few miles north of the airport in Chennai (formerly Madras), a bustling metropolis on the Coromandel Coast in southeast India -- known for its iconic cuisine, ancient temples and churches, silk saris, classical music, dance and sculptures.\\n\\n\\nThis \"visa temple\" has surged in popularity among U.S. visa seekers over the past decade; they can be found in almost any Indian city with a U.S. consulate. They typically gain a following through word of mouth or social media.\\n\\n\\nA mile away from the Ganesh temple is the Sri Lakshmi Narasimha Navaneetha Krishnan Temple, where an idol of Hanuman – a deity who has a human body and the face of a monkey — is believed to possess the power to secure visas. Also known as \"Anjaneya,\" this god stands for strength, wisdom and devotion. In this temple, he has earned the monikers \"America Anjaneya\" and \"Visa Anjaneya.\"\\n\\n\\nThe temple\\'s longtime secretary, G.C. Srinivasan, said it wasn\\'t until 2016 that this temple became a \"visa temple.\"\\n\\n\\n\"It was around that time that a few people who prayed for a visa spread the word around that they were successful, and it\\'s continued,\" he said.\\n\\n\\nA month ago, Srinivasan said he met someone who got news of his visa approval even as as he was circumambulating the Anjaneya idol — a common Hindu practice of walking around a sacred object or site.\\n\\n\\nOn a recent Saturday night, devotees decorated the idol with garlands made of betel leaves. S. Pradeep, who placed a garland on the deity, said he was not there to pray for a visa, but believes in the god\\'s unique power.\\n\\n\\n\"He is my favorite god,\" he said. \"If you genuinely pray – not just for visa – it will come true.\"\\n\\n\\nAt the Ganesh temple, some devotees had success stories to share. Jyothi Bontha said her visa interview at the U.S. Consulate in Chennai went without a hitch, and that she had returned to offer thanks.\\n\\n\\n\"They barely asked me a couple of questions,\" she said. \"I was pleasantly surprised.\"\\xa0\\n\\n\\nBontha\\'s friend, Phani Veeranki, stood nearby, nervously clutching an envelope containing her visa application and supporting documents. Bontha and Veeranki, both computer science students from the neighboring state of Andhra Pradesh and childhood friends, are headed to Ohio.\\n\\n\\n\\n\\nBoth learned about the visa temple on the social media platform Telegram.\\n\\n\\nVeeranki said she was anxious because she had a lot riding on her upcoming visa interview.\\n\\n\\n\"I\\'m the first person in my family to go the United States,\" she said. \"My mother is afraid to send me. But I\\'m excited for the opportunities I\\'ll have in America.\"\\n\\n\\nVeeranki then handed over the envelope to the temple\\'s priest for him to place at the foot of the idol for a blessing.\\n\\n\\n\"We\\'ve been hearing about applications being rejected,\" she said, her hands still folded in prayer. \"I\\'m really hoping mine gets approved.\"\\n\\n\\nIf she and Bontha make it to Ohio, they want to take a trip to Niagara Falls.\\n\\n\\n\"I\\'ve always wanted to see it,\" Bontha said.\\n\\n\\nMohanbabu Jagannathan and his wife, Sangeetha, run the temple, which Jagannathan\\'s grandfather built in 1987. Their house is on a cul-de-sac, which is considered bad luck in several Asian cultures. In Chennai, it is common to find a Ganesh temple outside cul-de-sac homes due to the belief that the deity has the power to ward off evil. At first, only neighbors came to the temple, Jagannathan said.\\n\\n\\n\"But over the years it started earning a quirky reputation,\" he said. \"A lot of visa applicants who came to the temple spread the word that they found success after praying here.\"\\n\\n\\nIn 2009, his father, Jagannathan Radhakrishnan, reconstructed the temple and added the word \"visa\" to the temple\\'s name. Jagannathan said the success stories are heartwarming; visitors sometimes stop by his home to thank his family for keeping the temple open.\\n\\n\\n\"I\\'ve never been bothered by it,\" Jagannathan said. \"We offer this as a service to the public. It\\'s a joy to see how happy people are when they come back and tell us they got their visa.\"\\n\\n\\nHis wife said she was touched by the story of a man who came all the way from New Delhi to pray for a visa to see his grandchild after eight years apart. She remembers another time when a woman called her in tears, saying her visa application was rejected.\\n\\n\\n\"Sure, some don\\'t get it,\" she said. \"God only knows why.\"\\n\\n\\nPadma Kannan brought her daughter, Monisha, who is preparing to pursue a master\\'s degree in marketing analytics at Clark University. Kannan believes her daughter got her visa because of this powerful deity.\\n\\n\\n\"I found this temple on Google,\" she said. \"I was so nervous for her, and so I prayed here.\"\\n\\n\\nMonisha Kannan said she is not so sure she got her visa because of this temple, but she said she came to support her mom.\\n\\n\\n\"I\\'m skeptical,\" she said. \"I\\'m just someone who goes with the flow.\"\\n\\n\\nHer mother takes a more philosophical stance.\\n\\n\\n\"We pray for our children and things happen easily for them,\" she said. \"I think when they go through the rigors of life themselves, they will start believing in the power of prayer.\"\\n\\n\\nViswanathan said he is not someone \"who usually believes in such things.\" When his brother got his British visa a decade ago after offering prayers here, Viswanathan chalked it up to coincidence. He became a believer when his wife got her U.S. visa two years ago, he said.\\n\\n\\nThe day after he visited the temple this time, Viswanathan\\'s employment visa was approved. He\\'ll head to New Hampshire in a few months.\\n\\n\\n\"It\\'s all about faith,\" he said. \"If you believe it will happen, it will happen.\"', 'summary_detail': {'type': 'text/html', 'language': None, 'base': 'https://www.voanews.com/api/zgvmqye_o_qv', 'value': 'Arjun Viswanathan stood on the street, his hands folded, eyes fixed on the idol of the Hindu deity Ganesh.\\n\\n\\nOn a humid morning, the information technology professional was waiting outside the temple, the size of a small closet – barely enough room for the lone priest to stand and perform puja or rituals for the beloved elephant-headed deity, believed to be the remover of obstacles.\\n\\n\\nViswanathan was among about a dozen visitors, most of them there for the same purpose: To offer prayers so their U.S. visa interviews would go smoothly and successfully. Viswanathan came the day before his interview for an employment visa.\\n\\n\\n\"I came here to pray for my brother\\'s U.K. visa 10 years ago and for my wife\\'s U.S. visa two years ago,\" he said. \"They were both successful. So I have faith.\"\\n\\n\\nThe Sri Lakshmi Visa Ganapathy Temple is a few miles north of the airport in Chennai (formerly Madras), a bustling metropolis on the Coromandel Coast in southeast India -- known for its iconic cuisine, ancient temples and churches, silk saris, classical music, dance and sculptures.\\n\\n\\nThis \"visa temple\" has surged in popularity among U.S. visa seekers over the past decade; they can be found in almost any Indian city with a U.S. consulate. They typically gain a following through word of mouth or social media.\\n\\n\\nA mile away from the Ganesh temple is the Sri Lakshmi Narasimha Navaneetha Krishnan Temple, where an idol of Hanuman – a deity who has a human body and the face of a monkey — is believed to possess the power to secure visas. Also known as \"Anjaneya,\" this god stands for strength, wisdom and devotion. In this temple, he has earned the monikers \"America Anjaneya\" and \"Visa Anjaneya.\"\\n\\n\\nThe temple\\'s longtime secretary, G.C. Srinivasan, said it wasn\\'t until 2016 that this temple became a \"visa temple.\"\\n\\n\\n\"It was around that time that a few people who prayed for a visa spread the word around that they were successful, and it\\'s continued,\" he said.\\n\\n\\nA month ago, Srinivasan said he met someone who got news of his visa approval even as as he was circumambulating the Anjaneya idol — a common Hindu practice of walking around a sacred object or site.\\n\\n\\nOn a recent Saturday night, devotees decorated the idol with garlands made of betel leaves. S. Pradeep, who placed a garland on the deity, said he was not there to pray for a visa, but believes in the god\\'s unique power.\\n\\n\\n\"He is my favorite god,\" he said. \"If you genuinely pray – not just for visa – it will come true.\"\\n\\n\\nAt the Ganesh temple, some devotees had success stories to share. Jyothi Bontha said her visa interview at the U.S. Consulate in Chennai went without a hitch, and that she had returned to offer thanks.\\n\\n\\n\"They barely asked me a couple of questions,\" she said. \"I was pleasantly surprised.\"\\xa0\\n\\n\\nBontha\\'s friend, Phani Veeranki, stood nearby, nervously clutching an envelope containing her visa application and supporting documents. Bontha and Veeranki, both computer science students from the neighboring state of Andhra Pradesh and childhood friends, are headed to Ohio.\\n\\n\\n\\n\\nBoth learned about the visa temple on the social media platform Telegram.\\n\\n\\nVeeranki said she was anxious because she had a lot riding on her upcoming visa interview.\\n\\n\\n\"I\\'m the first person in my family to go the United States,\" she said. \"My mother is afraid to send me. But I\\'m excited for the opportunities I\\'ll have in America.\"\\n\\n\\nVeeranki then handed over the envelope to the temple\\'s priest for him to place at the foot of the idol for a blessing.\\n\\n\\n\"We\\'ve been hearing about applications being rejected,\" she said, her hands still folded in prayer. \"I\\'m really hoping mine gets approved.\"\\n\\n\\nIf she and Bontha make it to Ohio, they want to take a trip to Niagara Falls.\\n\\n\\n\"I\\'ve always wanted to see it,\" Bontha said.\\n\\n\\nMohanbabu Jagannathan and his wife, Sangeetha, run the temple, which Jagannathan\\'s grandfather built in 1987. Their house is on a cul-de-sac, which is considered bad luck in several Asian cultures. In Chennai, it is common to find a Ganesh temple outside cul-de-sac homes due to the belief that the deity has the power to ward off evil. At first, only neighbors came to the temple, Jagannathan said.\\n\\n\\n\"But over the years it started earning a quirky reputation,\" he said. \"A lot of visa applicants who came to the temple spread the word that they found success after praying here.\"\\n\\n\\nIn 2009, his father, Jagannathan Radhakrishnan, reconstructed the temple and added the word \"visa\" to the temple\\'s name. Jagannathan said the success stories are heartwarming; visitors sometimes stop by his home to thank his family for keeping the temple open.\\n\\n\\n\"I\\'ve never been bothered by it,\" Jagannathan said. \"We offer this as a service to the public. It\\'s a joy to see how happy people are when they come back and tell us they got their visa.\"\\n\\n\\nHis wife said she was touched by the story of a man who came all the way from New Delhi to pray for a visa to see his grandchild after eight years apart. She remembers another time when a woman called her in tears, saying her visa application was rejected.\\n\\n\\n\"Sure, some don\\'t get it,\" she said. \"God only knows why.\"\\n\\n\\nPadma Kannan brought her daughter, Monisha, who is preparing to pursue a master\\'s degree in marketing analytics at Clark University. Kannan believes her daughter got her visa because of this powerful deity.\\n\\n\\n\"I found this temple on Google,\" she said. \"I was so nervous for her, and so I prayed here.\"\\n\\n\\nMonisha Kannan said she is not so sure she got her visa because of this temple, but she said she came to support her mom.\\n\\n\\n\"I\\'m skeptical,\" she said. \"I\\'m just someone who goes with the flow.\"\\n\\n\\nHer mother takes a more philosophical stance.\\n\\n\\n\"We pray for our children and things happen easily for them,\" she said. \"I think when they go through the rigors of life themselves, they will start believing in the power of prayer.\"\\n\\n\\nViswanathan said he is not someone \"who usually believes in such things.\" When his brother got his British visa a decade ago after offering prayers here, Viswanathan chalked it up to coincidence. He became a believer when his wife got her U.S. visa two years ago, he said.\\n\\n\\nThe day after he visited the temple this time, Viswanathan\\'s employment visa was approved. He\\'ll head to New Hampshire in a few months.\\n\\n\\n\"It\\'s all about faith,\" he said. \"If you believe it will happen, it will happen.\"'}, 'links': [{'rel': 'alternate', 'type': 'text/html', 'href': 'https://www.voanews.com/a/india-s-visa-temples-attract-devotees-aspiring-to-go-abroad-/6881207.html'}, {'length': '0', 'type': 'image/jpeg', 'href': 'https://gdb.voanews.com/09410000-0a00-0242-4007-08dae099e0fc_cx0_cy13_cw0_w800_h450.jpg', 'rel': 'enclosure'}], 'link': 'https://www.voanews.com/a/india-s-visa-temples-attract-devotees-aspiring-to-go-abroad-/6881207.html', 'id': 'https://www.voanews.com/a/india-s-visa-temples-attract-devotees-aspiring-to-go-abroad-/6881207.html', 'guidislink': False, 'published': 'Sat, 17 Dec 2022 20:50:16 -0500', 'published_parsed': time.struct_time(tm_year=2022, tm_mon=12, tm_mday=18, tm_hour=1, tm_min=50, tm_sec=16, tm_wday=6, tm_yday=352, tm_isdst=0), 'tags': [{'term': 'South & Central Asia', 'scheme': None, 'label': None}, {'term': 'Immigration', 'scheme': None, 'label': None}], 'authors': [{'name': 'Associated Press', 'email': 'webdesk@voanews.com'}], 'author': 'webdesk@voanews.com (Associated Press)', 'author_detail': {'name': 'Associated Press', 'email': 'webdesk@voanews.com'}}\n",
      "\n",
      "\n",
      "{'title': 'Overwhelmed by Influx, Mexican Mayor Urges Migrants to Go Elsewhere', 'title_detail': {'type': 'text/plain', 'language': None, 'base': 'https://www.voanews.com/api/zgvmqye_o_qv', 'value': 'Overwhelmed by Influx, Mexican Mayor Urges Migrants to Go Elsewhere'}, 'summary': \"The mayor of Reynosa, Mexico, near the US border, is warning migrants to stay away because his city has been overwhelmed by the thousands of migrants already there and can't help any more who are making their way to the United States. Victor Hugo Castilllo reports. Camera: Victor Hugo Castilllo.\", 'summary_detail': {'type': 'text/html', 'language': None, 'base': 'https://www.voanews.com/api/zgvmqye_o_qv', 'value': \"The mayor of Reynosa, Mexico, near the US border, is warning migrants to stay away because his city has been overwhelmed by the thousands of migrants already there and can't help any more who are making their way to the United States. Victor Hugo Castilllo reports. Camera: Victor Hugo Castilllo.\"}, 'links': [{'rel': 'alternate', 'type': 'text/html', 'href': 'https://www.voanews.com/a/overwhelmed-by-influx-mexican-mayor-urges-migrants-to-go-elsewhere-/6880454.html'}, {'length': '0', 'type': 'image/jpeg', 'href': 'https://gdb.voanews.com/022a0000-0aff-0242-1d9e-08dadfcc2266_tv_w800_h450.jpg', 'rel': 'enclosure'}], 'link': 'https://www.voanews.com/a/overwhelmed-by-influx-mexican-mayor-urges-migrants-to-go-elsewhere-/6880454.html', 'id': 'https://www.voanews.com/a/overwhelmed-by-influx-mexican-mayor-urges-migrants-to-go-elsewhere-/6880454.html', 'guidislink': False, 'published': 'Fri, 16 Dec 2022 20:37:42 -0500', 'published_parsed': time.struct_time(tm_year=2022, tm_mon=12, tm_mday=17, tm_hour=1, tm_min=37, tm_sec=42, tm_wday=5, tm_yday=351, tm_isdst=0), 'tags': [{'term': 'Immigration', 'scheme': None, 'label': None}, {'term': 'USA', 'scheme': None, 'label': None}, {'term': 'Americas', 'scheme': None, 'label': None}], 'authors': [{'name': 'Victor Hugo Castillo', 'email': 'webdesk@voanews.com'}], 'author': 'webdesk@voanews.com (Victor Hugo Castillo)', 'author_detail': {'name': 'Victor Hugo Castillo', 'email': 'webdesk@voanews.com'}}\n",
      "\n",
      "\n",
      "{'title': 'VOA Immigration Weekly Recap, December 11–17', 'title_detail': {'type': 'text/plain', 'language': None, 'base': 'https://www.voanews.com/api/zgvmqye_o_qv', 'value': 'VOA Immigration Weekly Recap, December 11–17'}, 'summary': \"Editor's note: Here is a look at immigration-related news around the U.S. this week. Questions? Tips? Comments? Email the VOA immigration team: ImmigrationUnit@voanews.com.\\n\\n\\n\\nUS Revives Refugee-, Migrant-Support Task Force \\n\\n\\nThe U.S. government is bringing back a commission aimed at helping immigrants integrate in the U.S. through language learning, workforce training and financial education programs. The effort will assist newcomers under legal status in the United States, according to Brandon Prelogar, special adviser for humanitarian protection and refugees at the White House Domestic Policy Council (DPC), in a Monday interview with VOA. Immigration reporter Aline Barros has the story with VOA’s LATAM White House correspondent Jorge Agobian.\\n\\n\\nEnd of Title 42 Looming, US Immigration Agency Releases Detailed Assessment\\n\\n\\nWith the imminent sidelining of Title 42 — a pandemic-era restriction that blocked migrants from seeking asylum in the U.S. — the Department of Homeland Security (DHS) recently outlined steps it will take at the U.S.-Mexico border if the order is lifted. A federal judge in Washington ordered enforcement of Title 42 to end December 21. Republican-led states filed an appeal asking the court to keep it in place. The Biden administration also has challenged parts of the ruling ending the Trump-era asylum restrictions. VOA’s immigration reporter Aline Barros reports.\\n\\n\\nIn pictures:\\n\\n\\n\\n\\nImmigration around the world\\n\\n\\nUN: Climate of Oppression Intensifies in Nicaragua \\n\\n\\nU.N. High Commissioner for Human Rights Volker Tuerk warns people's rights and freedoms in Nicaragua are being whittled away by the increasingly authoritarian government of President Daniel Ortega. The high commissioner presented an update Thursday on the situation to the U.N. Human Rights Council. Lisa Schlein reports for VOA from Geneva.\\n\\n\\n509 Migrants Arrive in Italy as Rescue Ships Dock \\n\\n\\nItaly, which has vowed a tough line on immigration, took in more than 500 migrants Sunday as two charity rescue ships were allowed to dock at ports in the south of the country after several days at sea in bad weather, Reuters reports.\\n\\n\\n27 Suspected Ethiopian Migrants Found Dead in Zambia \\n\\n\\nZambian police Sunday found the bodies of 27 men, believed to be migrants from Ethiopia, dumped in a farming area on the outskirts of the capital. Authorities said they died from suspected hunger and exhaustion, Reuters reports.\\n\\n\\nAfghan Academic Rebuilds Her Life in Italy, Dreams of Returning \\n\\n\\nBatool Haidari was a prominent sexology professor at a Kabul university before the Taliban takeover of Afghanistan. She taught mixed classes of male and female students and helped patients struggling with gender identity issues, The Associated Press reports.\\n\\n\\nNews Brief\\n\\n\\n— The U.S. Department of Homeland Security Secretary released a statement on the agency's plan for the end of Title 42. “The Title 42 public health order remains in place\\u202fthrough December 20, 2022, and until then, DHS will continue to expel single adults and families encountered at the southwest border under that authority.”\\n\\n\\n— The U.S. Citizenship and Immigration Services (USCIS) plans to conduct a trial for updates to the current naturalization test. “The naturalization test is a key step in becoming a U.S. citizen. We welcome input from – and the participation of – stakeholders who are familiar with this important process, as we continue to improve and update our naturalization test, ensuring that it is consistent with industry testing standards,” USCIS Director Ur M. Jaddou said in a statement.\", 'summary_detail': {'type': 'text/html', 'language': None, 'base': 'https://www.voanews.com/api/zgvmqye_o_qv', 'value': \"Editor's note: Here is a look at immigration-related news around the U.S. this week. Questions? Tips? Comments? Email the VOA immigration team: ImmigrationUnit@voanews.com.\\n\\n\\n\\nUS Revives Refugee-, Migrant-Support Task Force \\n\\n\\nThe U.S. government is bringing back a commission aimed at helping immigrants integrate in the U.S. through language learning, workforce training and financial education programs. The effort will assist newcomers under legal status in the United States, according to Brandon Prelogar, special adviser for humanitarian protection and refugees at the White House Domestic Policy Council (DPC), in a Monday interview with VOA. Immigration reporter Aline Barros has the story with VOA’s LATAM White House correspondent Jorge Agobian.\\n\\n\\nEnd of Title 42 Looming, US Immigration Agency Releases Detailed Assessment\\n\\n\\nWith the imminent sidelining of Title 42 — a pandemic-era restriction that blocked migrants from seeking asylum in the U.S. — the Department of Homeland Security (DHS) recently outlined steps it will take at the U.S.-Mexico border if the order is lifted. A federal judge in Washington ordered enforcement of Title 42 to end December 21. Republican-led states filed an appeal asking the court to keep it in place. The Biden administration also has challenged parts of the ruling ending the Trump-era asylum restrictions. VOA’s immigration reporter Aline Barros reports.\\n\\n\\nIn pictures:\\n\\n\\n\\n\\nImmigration around the world\\n\\n\\nUN: Climate of Oppression Intensifies in Nicaragua \\n\\n\\nU.N. High Commissioner for Human Rights Volker Tuerk warns people's rights and freedoms in Nicaragua are being whittled away by the increasingly authoritarian government of President Daniel Ortega. The high commissioner presented an update Thursday on the situation to the U.N. Human Rights Council. Lisa Schlein reports for VOA from Geneva.\\n\\n\\n509 Migrants Arrive in Italy as Rescue Ships Dock \\n\\n\\nItaly, which has vowed a tough line on immigration, took in more than 500 migrants Sunday as two charity rescue ships were allowed to dock at ports in the south of the country after several days at sea in bad weather, Reuters reports.\\n\\n\\n27 Suspected Ethiopian Migrants Found Dead in Zambia \\n\\n\\nZambian police Sunday found the bodies of 27 men, believed to be migrants from Ethiopia, dumped in a farming area on the outskirts of the capital. Authorities said they died from suspected hunger and exhaustion, Reuters reports.\\n\\n\\nAfghan Academic Rebuilds Her Life in Italy, Dreams of Returning \\n\\n\\nBatool Haidari was a prominent sexology professor at a Kabul university before the Taliban takeover of Afghanistan. She taught mixed classes of male and female students and helped patients struggling with gender identity issues, The Associated Press reports.\\n\\n\\nNews Brief\\n\\n\\n— The U.S. Department of Homeland Security Secretary released a statement on the agency's plan for the end of Title 42. “The Title 42 public health order remains in place\\u202fthrough December 20, 2022, and until then, DHS will continue to expel single adults and families encountered at the southwest border under that authority.”\\n\\n\\n— The U.S. Citizenship and Immigration Services (USCIS) plans to conduct a trial for updates to the current naturalization test. “The naturalization test is a key step in becoming a U.S. citizen. We welcome input from – and the participation of – stakeholders who are familiar with this important process, as we continue to improve and update our naturalization test, ensuring that it is consistent with industry testing standards,” USCIS Director Ur M. Jaddou said in a statement.\"}, 'links': [{'rel': 'alternate', 'type': 'text/html', 'href': 'https://www.voanews.com/a/voa-immigration-weekly-recap-december-11-17-/6880049.html'}, {'length': '0', 'type': 'image/jpeg', 'href': 'https://gdb.voanews.com/09410000-0a00-0242-99fc-08dadfab4336_w800_h450.jpg', 'rel': 'enclosure'}], 'link': 'https://www.voanews.com/a/voa-immigration-weekly-recap-december-11-17-/6880049.html', 'id': 'https://www.voanews.com/a/voa-immigration-weekly-recap-december-11-17-/6880049.html', 'guidislink': False, 'published': 'Fri, 16 Dec 2022 16:53:40 -0500', 'published_parsed': time.struct_time(tm_year=2022, tm_mon=12, tm_mday=16, tm_hour=21, tm_min=53, tm_sec=40, tm_wday=4, tm_yday=350, tm_isdst=0), 'tags': [{'term': 'Immigration', 'scheme': None, 'label': None}], 'authors': [{'name': 'Aline Barros', 'email': 'webdesk@voanews.com'}], 'author': 'webdesk@voanews.com (Aline Barros)', 'author_detail': {'name': 'Aline Barros', 'email': 'webdesk@voanews.com'}}\n",
      "\n",
      "\n",
      "{'title': 'Migrant Caravan Arriving at US Southern Border', 'title_detail': {'type': 'text/plain', 'language': None, 'base': 'https://www.voanews.com/api/zgvmqye_o_qv', 'value': 'Migrant Caravan Arriving at US Southern Border'}, 'summary': 'Thousands of migrants are in the Mexican border city of Ciudad Juarez — just south of El Paso, Texas — awaiting the December 21 end of Title 42, a Trump-era policy allowing the swift expulsion of migrants at the U.S. border. Cesar Contreras reports from Ciudad Juarez, Mexico.', 'summary_detail': {'type': 'text/html', 'language': None, 'base': 'https://www.voanews.com/api/zgvmqye_o_qv', 'value': 'Thousands of migrants are in the Mexican border city of Ciudad Juarez — just south of El Paso, Texas — awaiting the December 21 end of Title 42, a Trump-era policy allowing the swift expulsion of migrants at the U.S. border. Cesar Contreras reports from Ciudad Juarez, Mexico.'}, 'links': [{'rel': 'alternate', 'type': 'text/html', 'href': 'https://www.voanews.com/a/migrant-caravan-arriving-at-us-southern-border-/6878434.html'}, {'length': '0', 'type': 'image/jpeg', 'href': 'https://gdb.voanews.com/09410000-0a00-0242-a651-08dadeebb6ed_tv_w800_h450.jpg', 'rel': 'enclosure'}], 'link': 'https://www.voanews.com/a/migrant-caravan-arriving-at-us-southern-border-/6878434.html', 'id': 'https://www.voanews.com/a/migrant-caravan-arriving-at-us-southern-border-/6878434.html', 'guidislink': False, 'published': 'Thu, 15 Dec 2022 18:10:39 -0500', 'published_parsed': time.struct_time(tm_year=2022, tm_mon=12, tm_mday=15, tm_hour=23, tm_min=10, tm_sec=39, tm_wday=3, tm_yday=349, tm_isdst=0), 'tags': [{'term': 'USA', 'scheme': None, 'label': None}, {'term': 'Americas', 'scheme': None, 'label': None}, {'term': 'Immigration', 'scheme': None, 'label': None}], 'authors': [{'name': 'Cesar Contreras', 'email': 'webdesk@voanews.com'}], 'author': 'webdesk@voanews.com (Cesar Contreras)', 'author_detail': {'name': 'Cesar Contreras', 'email': 'webdesk@voanews.com'}}\n",
      "\n",
      "\n",
      "{'title': 'End of Title 42 Looming, US Immigration Agency Releases Detailed Assessment', 'title_detail': {'type': 'text/plain', 'language': None, 'base': 'https://www.voanews.com/api/zgvmqye_o_qv', 'value': 'End of Title 42 Looming, US Immigration Agency Releases Detailed Assessment'}, 'summary': 'With the imminent sidelining of Title 42 — a pandemic-era restriction that blocked migrants from seeking asylum in the U.S. — the Department of Homeland Security (DHS) recently outlined steps it will take at the U.S.-Mexico border if the order is lifted.\\n\\n\\nA federal judge in Washington ordered enforcement of Title 42 to end on December 21. Republican-led states filed an appeal asking the court to keep it in place. The Biden administration also has challenged parts of the ruling ending the Trump-era asylum restrictions.\\n\\n\\n\\n\\nIn a detailed assessment ahead of the guideline shift, the DHS said the agency is already executing plans to manage an increased flow of migrants at the U.S.-Mexico border, including the use of expedited removal under the Title 8 authority.\\n\\n\\n“Among other things, Title 8 provides that individuals who cross the border without legal authorization are processed for removal and, if unable to establish a legal basis to remain in the United States, promptly removed from the country,” according to DHS.\\n\\n\\n\\n\\nWhile both parties wait for the judge\\'s decision, migrant advocates in Reynosa, Mexico, told VOA that about 750 migrants a day have arrived in the last few days.\\n\\n\\nHector Silva, a pastor in the area who also operates one of the largest migrant shelters south of the border, Senda de Vida, or \"Path of Life,” told VOA that advocates and volunteers have been helping about 14,000 families in the last few weeks.\\n\\n\\n“We have seen in past years that people get encouraged to come and then they do not know where to go,\" Silva said in Spanish. \"And what is happening right now from Tijuana to Matamoros is that people are waiting, and they have been waiting for months. [Some] have been waiting for years. And we tell them one thing: do not risk yourselves. Do not come without knowing what you will face at the border.”\\xa0\\n\\n\\nAccording to U.S. Customs and Border Protection (CBP) in the Rio Grande Valley sector, about 1,800 migrants turned themselves in to authorities during a 48-hour period after crossing from Ciudad Juarez, Mexico, to El Paso, Texas, indicating that a considerable number of people who were already in Ciudad Juarez joined the new arrivals to cross the border together.\\n\\n\\nMarco Antonio Diaz, from Honduras, is one of those people. Sitting on a dirt road along with his pregnant wife and small child, Diaz told VOA that lifting the health order gives them hope and courage.\\n\\n\\n“The truth is that it makes us happy because we want to cross to the other side to work,\" he said.\\n\\n\\nDíaz, his family, along with elderly people, people with disabilities, and other children, have slept in tents, and because of heavy rains in the region in the past few days, have endured low temperatures.\\n\\n\\n\"It has rained a lot,\" he said \"There was a night that it rained so much that we got very wet and very cold.”\\n\\n\\nThe seven-page preparedness update released by the DHS this week takes note of the agency’s successes, which include faster processing for migrants in custody at the southern border, an increase in staff, more criminal prosecutions of smugglers, and more temporary detention tents.\\n\\n\\nHowever, the update does not mention any major changes in how the agency will deal with large numbers of migrants entering the country to ask for asylum.\\xa0\\n\\n\\nSince March 2020, U.S. border authorities have used Title 42 to deny entry to millions of would-be asylum seekers on the basis that allowing them in could increase the spread of COVID-19.\\n\\n\\nPer CBP data, Title 42 has been used in most of the estimated 2.38 million encounters with migrants in fiscal year 2022.\\n\\n\\nThe data indicate that 1,079,507 were expelled and 1,299,437 were processed under Title 8 authority.\\n\\n\\nNot every encounter is a unique apprehension, as some migrants have tried to cross multiple times.\\n\\n\\nIn various reports, U.S. border officials and immigration advocates say border numbers reflect economic deterioration and political conditions in some countries driving people to make their way to the southern U.S. border.\\n\\n\\nIn fiscal year 2023, which began October 1, U.S. border officials registered 230,678 migrant encounters. Of those, 78,477 were expelled. The rest were either detained, allowed to seek asylum, paroled, or swiftly deported under expedited removal.\\xa0\\n\\n\\nEfforts to end Title 42\\xa0\\n\\n\\nThe Biden administration first attempted to end Title 42 in May, but efforts were stopped when Republican-led states sued and a federal court in Louisiana preliminarily agreed with the states.\\xa0\\n\\n\\nThe U.S. Department of Justice then filed an appeal and argued the Biden administration’s decision to lift the regulation was legal.\\n\\n\\nThe Louisiana federal judge said in his ruling that not only had the Biden administration violated administrative procedure laws, but also that ending Title 42 would cause “irreparable harm” since the Republican-led states were expected to spend resources on law enforcement, education, and other services to assist newly arrived migrants.\\n\\n\\nStill, federal law allows people from other countries to seek asylum in the United States if they fear persecution at home based on race, religion, nationality, membership in a particular social group, or political opinion.\\n\\n\\n\\n\\nIn a statement after the ruling, the DHS said Title 42 is not an immigration control tool but a public health order, but that it “will comply with the court’s order to continue enforcing the Centers for Disease Control and Prevention’s Title 42 Order as long as it remains in place.”\\n\\n\\nAt the time, Luis Miranda, a CBP spokesperson, told VOA that officials were preparing to \"simply go back to processing any encounters across the border the way we always have under Title 8, which is the immigration authority that has always been in place throughout the history of U.S. Customs and Border Protection.\"\\n\\n\\nMiranda said the U.S. government was expecting arrivals to increase at the southern border but added that those unable to establish a legal basis to remain in the United States will be removed.\\n\\n\\n\"We\\'ve been planning for that. … And to process any encounters effectively, and humanely. But ultimately, if someone is trying to come in without legal authorization and doesn\\'t have the legal basis to stay, they will be placed in removal proceedings,\" he said.\\n\\n\\nVOA contacted CBP officials for an update, but as of Thursday morning had not received a reply.', 'summary_detail': {'type': 'text/html', 'language': None, 'base': 'https://www.voanews.com/api/zgvmqye_o_qv', 'value': 'With the imminent sidelining of Title 42 — a pandemic-era restriction that blocked migrants from seeking asylum in the U.S. — the Department of Homeland Security (DHS) recently outlined steps it will take at the U.S.-Mexico border if the order is lifted.\\n\\n\\nA federal judge in Washington ordered enforcement of Title 42 to end on December 21. Republican-led states filed an appeal asking the court to keep it in place. The Biden administration also has challenged parts of the ruling ending the Trump-era asylum restrictions.\\n\\n\\n\\n\\nIn a detailed assessment ahead of the guideline shift, the DHS said the agency is already executing plans to manage an increased flow of migrants at the U.S.-Mexico border, including the use of expedited removal under the Title 8 authority.\\n\\n\\n“Among other things, Title 8 provides that individuals who cross the border without legal authorization are processed for removal and, if unable to establish a legal basis to remain in the United States, promptly removed from the country,” according to DHS.\\n\\n\\n\\n\\nWhile both parties wait for the judge\\'s decision, migrant advocates in Reynosa, Mexico, told VOA that about 750 migrants a day have arrived in the last few days.\\n\\n\\nHector Silva, a pastor in the area who also operates one of the largest migrant shelters south of the border, Senda de Vida, or \"Path of Life,” told VOA that advocates and volunteers have been helping about 14,000 families in the last few weeks.\\n\\n\\n“We have seen in past years that people get encouraged to come and then they do not know where to go,\" Silva said in Spanish. \"And what is happening right now from Tijuana to Matamoros is that people are waiting, and they have been waiting for months. [Some] have been waiting for years. And we tell them one thing: do not risk yourselves. Do not come without knowing what you will face at the border.”\\xa0\\n\\n\\nAccording to U.S. Customs and Border Protection (CBP) in the Rio Grande Valley sector, about 1,800 migrants turned themselves in to authorities during a 48-hour period after crossing from Ciudad Juarez, Mexico, to El Paso, Texas, indicating that a considerable number of people who were already in Ciudad Juarez joined the new arrivals to cross the border together.\\n\\n\\nMarco Antonio Diaz, from Honduras, is one of those people. Sitting on a dirt road along with his pregnant wife and small child, Diaz told VOA that lifting the health order gives them hope and courage.\\n\\n\\n“The truth is that it makes us happy because we want to cross to the other side to work,\" he said.\\n\\n\\nDíaz, his family, along with elderly people, people with disabilities, and other children, have slept in tents, and because of heavy rains in the region in the past few days, have endured low temperatures.\\n\\n\\n\"It has rained a lot,\" he said \"There was a night that it rained so much that we got very wet and very cold.”\\n\\n\\nThe seven-page preparedness update released by the DHS this week takes note of the agency’s successes, which include faster processing for migrants in custody at the southern border, an increase in staff, more criminal prosecutions of smugglers, and more temporary detention tents.\\n\\n\\nHowever, the update does not mention any major changes in how the agency will deal with large numbers of migrants entering the country to ask for asylum.\\xa0\\n\\n\\nSince March 2020, U.S. border authorities have used Title 42 to deny entry to millions of would-be asylum seekers on the basis that allowing them in could increase the spread of COVID-19.\\n\\n\\nPer CBP data, Title 42 has been used in most of the estimated 2.38 million encounters with migrants in fiscal year 2022.\\n\\n\\nThe data indicate that 1,079,507 were expelled and 1,299,437 were processed under Title 8 authority.\\n\\n\\nNot every encounter is a unique apprehension, as some migrants have tried to cross multiple times.\\n\\n\\nIn various reports, U.S. border officials and immigration advocates say border numbers reflect economic deterioration and political conditions in some countries driving people to make their way to the southern U.S. border.\\n\\n\\nIn fiscal year 2023, which began October 1, U.S. border officials registered 230,678 migrant encounters. Of those, 78,477 were expelled. The rest were either detained, allowed to seek asylum, paroled, or swiftly deported under expedited removal.\\xa0\\n\\n\\nEfforts to end Title 42\\xa0\\n\\n\\nThe Biden administration first attempted to end Title 42 in May, but efforts were stopped when Republican-led states sued and a federal court in Louisiana preliminarily agreed with the states.\\xa0\\n\\n\\nThe U.S. Department of Justice then filed an appeal and argued the Biden administration’s decision to lift the regulation was legal.\\n\\n\\nThe Louisiana federal judge said in his ruling that not only had the Biden administration violated administrative procedure laws, but also that ending Title 42 would cause “irreparable harm” since the Republican-led states were expected to spend resources on law enforcement, education, and other services to assist newly arrived migrants.\\n\\n\\nStill, federal law allows people from other countries to seek asylum in the United States if they fear persecution at home based on race, religion, nationality, membership in a particular social group, or political opinion.\\n\\n\\n\\n\\nIn a statement after the ruling, the DHS said Title 42 is not an immigration control tool but a public health order, but that it “will comply with the court’s order to continue enforcing the Centers for Disease Control and Prevention’s Title 42 Order as long as it remains in place.”\\n\\n\\nAt the time, Luis Miranda, a CBP spokesperson, told VOA that officials were preparing to \"simply go back to processing any encounters across the border the way we always have under Title 8, which is the immigration authority that has always been in place throughout the history of U.S. Customs and Border Protection.\"\\n\\n\\nMiranda said the U.S. government was expecting arrivals to increase at the southern border but added that those unable to establish a legal basis to remain in the United States will be removed.\\n\\n\\n\"We\\'ve been planning for that. … And to process any encounters effectively, and humanely. But ultimately, if someone is trying to come in without legal authorization and doesn\\'t have the legal basis to stay, they will be placed in removal proceedings,\" he said.\\n\\n\\nVOA contacted CBP officials for an update, but as of Thursday morning had not received a reply.'}, 'links': [{'rel': 'alternate', 'type': 'text/html', 'href': 'https://www.voanews.com/a/end-of-title-42-looming-us-immigration-agency-releases-detailed-assessment-/6878218.html'}, {'length': '0', 'type': 'image/jpeg', 'href': 'https://gdb.voanews.com/013b0000-0aff-0242-7c07-08dab6b0ba6d_w800_h450.jpg', 'rel': 'enclosure'}], 'link': 'https://www.voanews.com/a/end-of-title-42-looming-us-immigration-agency-releases-detailed-assessment-/6878218.html', 'id': 'https://www.voanews.com/a/end-of-title-42-looming-us-immigration-agency-releases-detailed-assessment-/6878218.html', 'guidislink': False, 'published': 'Thu, 15 Dec 2022 15:56:46 -0500', 'published_parsed': time.struct_time(tm_year=2022, tm_mon=12, tm_mday=15, tm_hour=20, tm_min=56, tm_sec=46, tm_wday=3, tm_yday=349, tm_isdst=0), 'tags': [{'term': 'USA', 'scheme': None, 'label': None}, {'term': 'Americas', 'scheme': None, 'label': None}, {'term': 'Immigration', 'scheme': None, 'label': None}], 'authors': [{'name': 'Aline Barros', 'email': 'webdesk@voanews.com'}], 'author': 'webdesk@voanews.com (Aline Barros)', 'author_detail': {'name': 'Aline Barros', 'email': 'webdesk@voanews.com'}}\n",
      "\n",
      "\n",
      "{'title': 'US Revives Refugee-, Migrant-Support Task Force', 'title_detail': {'type': 'text/plain', 'language': None, 'base': 'https://www.voanews.com/api/zgvmqye_o_qv', 'value': 'US Revives Refugee-, Migrant-Support Task Force'}, 'summary': 'The U.S. government is bringing back a commission aimed at helping immigrants integrate in the U.S. through language learning, workforce training and financial education programs.\\n\\n\\nThe effort will assist newcomers under legal status in the United States, according to Brandon Prelogar, special adviser for humanitarian protection and refugees at the White House Domestic Policy Council (DPC), in a Monday interview with VOA.\\n\\n\\n\"The focus is, of course, on any and all legal immigrants and refugees. We are talking about newcomers who are here in a lawful status and likely to remain,\" Prelogar said.\\n\\n\\nThe task force on New Americans is coordinated by the White House through the DPC, with the support of 20 other federal agencies, local governments and nonprofit organizations, the official said.\\n\\n\\nPresident Joe Biden announced the request to restore it through a February 2021 executive order.\\n\\n\\n\"Took a little longer than we would have liked\" to see it reconstituted, said Prelogar, adding that the purpose is to ensure the \"best possible welcome.\"\\n\\n\\nThe task force was originally launched in 2014 during the Obama administration, but it was discontinued by former President Donald Trump.\\n\\n\\nThe announcement comes as the Biden administration is facing a record increase in migrants arriving irregularly at the U.S.-Mexico border, but Prelogar said the new program \"is not about the border,\" but rather part of an effort to \"ensure that legal immigrants are welcome in our communities and that they receive the support they need to lead successful lives in the country and that they contribute fully.\"\\n\\n\\nRepublican governors and lawmakers have blamed Biden for what they see as an unprecedented humanitarian crisis on the southern border; some of them have requested to extend the legality of the Title 42 guideline — a public health policy first implemented under the previous administration to expel people seeking asylum.\\n\\n\\nThere were nearly 2.4 million migrant arrests in fiscal year 2022, but not every arrest is a unique migrant encounter as the total number includes those who made repeated attempts during the same fiscal year.\\n\\n\\nWorking together with other federal agencies and nonprofits, the working group is focused on examining current immigrant integration policies and identifying areas with deficiencies.\\n\\n\\nOther efforts\\n\\n\\nAlso on Monday, Secretary of State Antony Blinken participated in a memorandum of understanding signing ceremony with the Tent Partnership for Refugees — a nonprofit that urges the business community to hire refugees all over the world.\\n\\n\\n\\n\\nBlinken said the partnership seeks to mobilize U.S. and international businesses to offer refugees work opportunities, often an important step in the long-term economic and social resettlement for refugees and the communities that welcome them.\\n\\n\\n\"One of the things that we all know is that the journey isn\\'t over, even when they arrive at the destination: finding a home, learning the language, seeking a job, getting kids into school, building a community; all of these steps are essential for refugees to build new lives in new lands,\" Blinken said.\\n\\n\\nFounded by Hamdi Ulukaya, the founder of Chobani, the Tent Partnership for Refugees is a coalition made up of 250 multinational companies committed to supporting refugees through hiring, training and mentorship.\\n\\n\\n\"The most important moment for a refugee is the moment they get a job, and that is the moment they stop being a refugee,\" Ulukaya said.', 'summary_detail': {'type': 'text/html', 'language': None, 'base': 'https://www.voanews.com/api/zgvmqye_o_qv', 'value': 'The U.S. government is bringing back a commission aimed at helping immigrants integrate in the U.S. through language learning, workforce training and financial education programs.\\n\\n\\nThe effort will assist newcomers under legal status in the United States, according to Brandon Prelogar, special adviser for humanitarian protection and refugees at the White House Domestic Policy Council (DPC), in a Monday interview with VOA.\\n\\n\\n\"The focus is, of course, on any and all legal immigrants and refugees. We are talking about newcomers who are here in a lawful status and likely to remain,\" Prelogar said.\\n\\n\\nThe task force on New Americans is coordinated by the White House through the DPC, with the support of 20 other federal agencies, local governments and nonprofit organizations, the official said.\\n\\n\\nPresident Joe Biden announced the request to restore it through a February 2021 executive order.\\n\\n\\n\"Took a little longer than we would have liked\" to see it reconstituted, said Prelogar, adding that the purpose is to ensure the \"best possible welcome.\"\\n\\n\\nThe task force was originally launched in 2014 during the Obama administration, but it was discontinued by former President Donald Trump.\\n\\n\\nThe announcement comes as the Biden administration is facing a record increase in migrants arriving irregularly at the U.S.-Mexico border, but Prelogar said the new program \"is not about the border,\" but rather part of an effort to \"ensure that legal immigrants are welcome in our communities and that they receive the support they need to lead successful lives in the country and that they contribute fully.\"\\n\\n\\nRepublican governors and lawmakers have blamed Biden for what they see as an unprecedented humanitarian crisis on the southern border; some of them have requested to extend the legality of the Title 42 guideline — a public health policy first implemented under the previous administration to expel people seeking asylum.\\n\\n\\nThere were nearly 2.4 million migrant arrests in fiscal year 2022, but not every arrest is a unique migrant encounter as the total number includes those who made repeated attempts during the same fiscal year.\\n\\n\\nWorking together with other federal agencies and nonprofits, the working group is focused on examining current immigrant integration policies and identifying areas with deficiencies.\\n\\n\\nOther efforts\\n\\n\\nAlso on Monday, Secretary of State Antony Blinken participated in a memorandum of understanding signing ceremony with the Tent Partnership for Refugees — a nonprofit that urges the business community to hire refugees all over the world.\\n\\n\\n\\n\\nBlinken said the partnership seeks to mobilize U.S. and international businesses to offer refugees work opportunities, often an important step in the long-term economic and social resettlement for refugees and the communities that welcome them.\\n\\n\\n\"One of the things that we all know is that the journey isn\\'t over, even when they arrive at the destination: finding a home, learning the language, seeking a job, getting kids into school, building a community; all of these steps are essential for refugees to build new lives in new lands,\" Blinken said.\\n\\n\\nFounded by Hamdi Ulukaya, the founder of Chobani, the Tent Partnership for Refugees is a coalition made up of 250 multinational companies committed to supporting refugees through hiring, training and mentorship.\\n\\n\\n\"The most important moment for a refugee is the moment they get a job, and that is the moment they stop being a refugee,\" Ulukaya said.'}, 'links': [{'rel': 'alternate', 'type': 'text/html', 'href': 'https://www.voanews.com/a/us-revives-refugee--migrant-support-task-force/6873414.html'}, {'length': '0', 'type': 'image/jpeg', 'href': 'https://gdb.voanews.com/7B643496-2511-4DE0-BE04-2E0E44540B84_w800_h450.jpg', 'rel': 'enclosure'}], 'link': 'https://www.voanews.com/a/us-revives-refugee--migrant-support-task-force/6873414.html', 'id': 'https://www.voanews.com/a/us-revives-refugee--migrant-support-task-force/6873414.html', 'guidislink': False, 'published': 'Mon, 12 Dec 2022 19:13:39 -0500', 'published_parsed': time.struct_time(tm_year=2022, tm_mon=12, tm_mday=13, tm_hour=0, tm_min=13, tm_sec=39, tm_wday=1, tm_yday=347, tm_isdst=0), 'tags': [{'term': 'Immigration', 'scheme': None, 'label': None}], 'authors': [{'name': 'Aline Barros, Jorge Agobian', 'email': 'webdesk@voanews.com'}], 'author': 'webdesk@voanews.com (Aline Barros, Jorge Agobian)', 'author_detail': {'name': 'Aline Barros, Jorge Agobian', 'email': 'webdesk@voanews.com'}}\n",
      "\n",
      "\n",
      "{'title': 'VOA Immigration Weekly Recap, Dec. 4–10', 'title_detail': {'type': 'text/plain', 'language': None, 'base': 'https://www.voanews.com/api/zgvmqye_o_qv', 'value': 'VOA Immigration Weekly Recap, Dec. 4–10'}, 'summary': 'Editor\\'s note: Here is a look at immigration-related news around the U.S. this week. Questions? Tips? Comments? Email the VOA immigration team: ImmigrationUnit@voanews.com.\\n\\n\\nUS Appeals Ruling That Would Lift Asylum Restrictions\\n\\n\\nThe U.S. government said Wednesday it is appealing a court ruling that would otherwise lift asylum restrictions that have become the cornerstone of border enforcement in recent years, The Associated Press reports.\\n\\n\\nUS Expands Deportation Relief to About 264,000 Haitians\\n\\n\\nThe Biden administration will expand deportation relief and access to work permits for Haitians who are already in the United States, the U.S. Department of Homeland Security said Monday, as Haiti\\'s government struggles to stabilize the country. Reuters reports on the situation.\\n\\n\\nUS Homeland Security Chief Warns Borders Being Rendered Meaningless\\n\\n\\nAmerica’s borders – and borders in general – are no longer sufficient to help protect the United States from a variety of evolving threats, including foreign wars, according to a grim assessment by the country’s top Homeland Security official. Speaking less than a week after the Department of Homeland Security reissued a National Terrorism Advisory System bulletin because of a \"persistent threat environment,\" Secretary Alejandro Mayorkas warned that U.S. adversaries and criminal actors have leveraged technological advances to reach inside the country in ways that until now have never been possible. Jeff Seldin, VOA’s national security correspondent, reports.\\n\\n\\nPhiladelphia Businesses Help Ukrainian Refugees with Employment\\n\\n\\nOne of the biggest challenges for Ukrainian refugees who end up in the U.S. is finding a job. But one Ukrainian business in Philadelphia is doing what it can to help newcomers. Iryna Solomko has the story.\\n\\n\\nImmigration around the world\\n\\n\\nSpain Under Pressure Over Migrant Deaths on Moroccan Border\\n\\n\\nRights groups are pressuring Spain’s government over the deaths of at least 23 people after thousands of migrants forced their way through the European Union’s only land border with Africa between Morocco and the Spanish enclave of Melilla. Graham Keeley reports for VOA.\\n\\n\\nRohingya Rescued After Boat Strands Off Thai Coast\\n\\n\\nMyanmar’s military said Thursday more than 150 Rohingyas were rescued from a stalled boat near Thailand’s coast. Agence-France Presse quoted a junta statement saying the boat was carrying 106 men and 48 women and was spotted near an oil rig co-run by the state Myanmar Oil and Natural Gas Corporation. VOA News reports on the story.\\n\\n\\nAssociation Head Says Rohingya Still Face Genocide\\n\\n\\nThe head of a Rohingya organization urgently called for the U.N. Security Council to prevent what it described as genocide against the Rohingya in Myanmar. Tun Khin, president of the Burmese Rohingya Organization UK (BROUK), told VOA that the Rohingya in Rakhine state, Myanmar\\'s far west region, continue to face a genocidal program that puts their very survival at risk. From VOA\\'s Burmese Service, Ingyin Naing reports.\\n\\n\\nUNHCR: Conditions Deteriorate for Somalis in Dadaab Refugee Camps\\n\\n\\nThe U.N. refugee agency warns humanitarian conditions are deteriorating for tens of thousands of Somalis in Kenya’s Dadaab refugee camps as an unrelenting drought grips the Horn of Africa and funding dries up. More than 80,000 Somalis fleeing conflict and drought have arrived in Kenya’s Dadaab refugee camps over the past two years, more than 24,000 since September. Lisa Schlein reports for VOA from Geneva.\\n\\n\\nKenya Concerned by Cholera, Measles Outbreaks at Congested Refugee Camp\\n\\n\\nAid groups say measles and cholera outbreaks at Kenya\\'s congested Dadaab refugee camp have killed at least five people and sickened more than 400. The outbreaks come as thousands of Somalis have been arriving at the camp this year to escape record drought back home, stretching camp resources. Juma Majanga reports from Dadaab refugee camp in northeast Kenya. Editor\\'s note: The video has been updated to correct the timeline of the arrival of more than 80,000 Somalis.\\n\\n\\nNews Brief\\n\\n\\n— U.S. Citizenship and Immigration Services (USCIS) released data showing 1,023,200 naturalizations in fiscal 2022, the highest number of citizens the agency has naturalized since 2008.', 'summary_detail': {'type': 'text/html', 'language': None, 'base': 'https://www.voanews.com/api/zgvmqye_o_qv', 'value': 'Editor\\'s note: Here is a look at immigration-related news around the U.S. this week. Questions? Tips? Comments? Email the VOA immigration team: ImmigrationUnit@voanews.com.\\n\\n\\nUS Appeals Ruling That Would Lift Asylum Restrictions\\n\\n\\nThe U.S. government said Wednesday it is appealing a court ruling that would otherwise lift asylum restrictions that have become the cornerstone of border enforcement in recent years, The Associated Press reports.\\n\\n\\nUS Expands Deportation Relief to About 264,000 Haitians\\n\\n\\nThe Biden administration will expand deportation relief and access to work permits for Haitians who are already in the United States, the U.S. Department of Homeland Security said Monday, as Haiti\\'s government struggles to stabilize the country. Reuters reports on the situation.\\n\\n\\nUS Homeland Security Chief Warns Borders Being Rendered Meaningless\\n\\n\\nAmerica’s borders – and borders in general – are no longer sufficient to help protect the United States from a variety of evolving threats, including foreign wars, according to a grim assessment by the country’s top Homeland Security official. Speaking less than a week after the Department of Homeland Security reissued a National Terrorism Advisory System bulletin because of a \"persistent threat environment,\" Secretary Alejandro Mayorkas warned that U.S. adversaries and criminal actors have leveraged technological advances to reach inside the country in ways that until now have never been possible. Jeff Seldin, VOA’s national security correspondent, reports.\\n\\n\\nPhiladelphia Businesses Help Ukrainian Refugees with Employment\\n\\n\\nOne of the biggest challenges for Ukrainian refugees who end up in the U.S. is finding a job. But one Ukrainian business in Philadelphia is doing what it can to help newcomers. Iryna Solomko has the story.\\n\\n\\nImmigration around the world\\n\\n\\nSpain Under Pressure Over Migrant Deaths on Moroccan Border\\n\\n\\nRights groups are pressuring Spain’s government over the deaths of at least 23 people after thousands of migrants forced their way through the European Union’s only land border with Africa between Morocco and the Spanish enclave of Melilla. Graham Keeley reports for VOA.\\n\\n\\nRohingya Rescued After Boat Strands Off Thai Coast\\n\\n\\nMyanmar’s military said Thursday more than 150 Rohingyas were rescued from a stalled boat near Thailand’s coast. Agence-France Presse quoted a junta statement saying the boat was carrying 106 men and 48 women and was spotted near an oil rig co-run by the state Myanmar Oil and Natural Gas Corporation. VOA News reports on the story.\\n\\n\\nAssociation Head Says Rohingya Still Face Genocide\\n\\n\\nThe head of a Rohingya organization urgently called for the U.N. Security Council to prevent what it described as genocide against the Rohingya in Myanmar. Tun Khin, president of the Burmese Rohingya Organization UK (BROUK), told VOA that the Rohingya in Rakhine state, Myanmar\\'s far west region, continue to face a genocidal program that puts their very survival at risk. From VOA\\'s Burmese Service, Ingyin Naing reports.\\n\\n\\nUNHCR: Conditions Deteriorate for Somalis in Dadaab Refugee Camps\\n\\n\\nThe U.N. refugee agency warns humanitarian conditions are deteriorating for tens of thousands of Somalis in Kenya’s Dadaab refugee camps as an unrelenting drought grips the Horn of Africa and funding dries up. More than 80,000 Somalis fleeing conflict and drought have arrived in Kenya’s Dadaab refugee camps over the past two years, more than 24,000 since September. Lisa Schlein reports for VOA from Geneva.\\n\\n\\nKenya Concerned by Cholera, Measles Outbreaks at Congested Refugee Camp\\n\\n\\nAid groups say measles and cholera outbreaks at Kenya\\'s congested Dadaab refugee camp have killed at least five people and sickened more than 400. The outbreaks come as thousands of Somalis have been arriving at the camp this year to escape record drought back home, stretching camp resources. Juma Majanga reports from Dadaab refugee camp in northeast Kenya. Editor\\'s note: The video has been updated to correct the timeline of the arrival of more than 80,000 Somalis.\\n\\n\\nNews Brief\\n\\n\\n— U.S. Citizenship and Immigration Services (USCIS) released data showing 1,023,200 naturalizations in fiscal 2022, the highest number of citizens the agency has naturalized since 2008.'}, 'links': [{'rel': 'alternate', 'type': 'text/html', 'href': 'https://www.voanews.com/a/voa-immigration-weekly-recap-dec-4-10/6871316.html'}, {'length': '0', 'type': 'image/jpeg', 'href': 'https://gdb.voanews.com/03370000-0aff-0242-eec4-08dadb2a634f_cx0_cy8_cw0_w800_h450.jpg', 'rel': 'enclosure'}], 'link': 'https://www.voanews.com/a/voa-immigration-weekly-recap-dec-4-10/6871316.html', 'id': 'https://www.voanews.com/a/voa-immigration-weekly-recap-dec-4-10/6871316.html', 'guidislink': False, 'published': 'Sat, 10 Dec 2022 22:48:38 -0500', 'published_parsed': time.struct_time(tm_year=2022, tm_mon=12, tm_mday=11, tm_hour=3, tm_min=48, tm_sec=38, tm_wday=6, tm_yday=345, tm_isdst=0), 'tags': [{'term': 'Immigration', 'scheme': None, 'label': None}], 'authors': [{'name': 'Aline Barros', 'email': 'webdesk@voanews.com'}], 'author': 'webdesk@voanews.com (Aline Barros)', 'author_detail': {'name': 'Aline Barros', 'email': 'webdesk@voanews.com'}}\n",
      "\n",
      "\n",
      "{'title': 'Ethiopians in US Can Apply for Temporary Protected Status Soon', 'title_detail': {'type': 'text/plain', 'language': None, 'base': 'https://www.voanews.com/api/zgvmqye_o_qv', 'value': 'Ethiopians in US Can Apply for Temporary Protected Status Soon'}, 'summary': 'A plan announced by the U.S. Department of Homeland Security in October to grant temporary protected status to Ethiopians temporarily inside the United States because of the war in their homeland is set to go into effect beginning Monday.\\n\\n\\n\"The United States recognizes the ongoing armed conflict and the extraordinary and temporary conditions engulfing Ethiopia, and DHS is committed to providing temporary protection to those in need,\" said Secretary of Homeland Security Alejandro Mayorkas when the plan was announced.\\n\\n\\nTemporary protected status, or TPS, is often granted to people visiting the United States temporarily, including students, business officials and tourists, who fear returning home to countries struck by conflict or natural disasters.\\n\\n\\nThey can remain in the United States, even with expired visas, as long as the TPS order is in place.\\n\\n\\nMayorkas\\' order permits Ethiopians without permanent residence or citizenship to remain in the United States up to 18 months. TPS status can be renewed, depending on the circumstances of the home country.\\n\\n\\nTo be eligible for TPS under Ethiopia’s designation, individuals must demonstrate their continuous residence in the United States since Oct. 20, 2022, and continuous physical presence in the United States since Dec. 12, 2022, according to the DHS. Individuals arriving in the United States after Oct. 20, 2022, are not eligible for TPS under this designation.\\n\\n\\nDHS said about 26,700 Ethiopians in the United States are eligible to file applications for TPS.\\n\\n\\nAccording to the U.S. Census, about 272,000 people in the United States came from Ethiopia.\\n\\n\\nThe TPS plan is poised to go into effect even as basic services like electricity and telecoms have been restored to key parts of Ethiopia’s Tigray region following the signing of a cease-fire deal a month ago, halting hostilities in nearly two years of war but most areas are still cut off from the world.\\n\\n\\nInformation for this story came from the Agence France-Presse and The Associated Press.', 'summary_detail': {'type': 'text/html', 'language': None, 'base': 'https://www.voanews.com/api/zgvmqye_o_qv', 'value': 'A plan announced by the U.S. Department of Homeland Security in October to grant temporary protected status to Ethiopians temporarily inside the United States because of the war in their homeland is set to go into effect beginning Monday.\\n\\n\\n\"The United States recognizes the ongoing armed conflict and the extraordinary and temporary conditions engulfing Ethiopia, and DHS is committed to providing temporary protection to those in need,\" said Secretary of Homeland Security Alejandro Mayorkas when the plan was announced.\\n\\n\\nTemporary protected status, or TPS, is often granted to people visiting the United States temporarily, including students, business officials and tourists, who fear returning home to countries struck by conflict or natural disasters.\\n\\n\\nThey can remain in the United States, even with expired visas, as long as the TPS order is in place.\\n\\n\\nMayorkas\\' order permits Ethiopians without permanent residence or citizenship to remain in the United States up to 18 months. TPS status can be renewed, depending on the circumstances of the home country.\\n\\n\\nTo be eligible for TPS under Ethiopia’s designation, individuals must demonstrate their continuous residence in the United States since Oct. 20, 2022, and continuous physical presence in the United States since Dec. 12, 2022, according to the DHS. Individuals arriving in the United States after Oct. 20, 2022, are not eligible for TPS under this designation.\\n\\n\\nDHS said about 26,700 Ethiopians in the United States are eligible to file applications for TPS.\\n\\n\\nAccording to the U.S. Census, about 272,000 people in the United States came from Ethiopia.\\n\\n\\nThe TPS plan is poised to go into effect even as basic services like electricity and telecoms have been restored to key parts of Ethiopia’s Tigray region following the signing of a cease-fire deal a month ago, halting hostilities in nearly two years of war but most areas are still cut off from the world.\\n\\n\\nInformation for this story came from the Agence France-Presse and The Associated Press.'}, 'links': [{'rel': 'alternate', 'type': 'text/html', 'href': 'https://www.voanews.com/a/ethiopians-in-us-can-apply-for-temporary-protected-status-soon-/6871299.html'}, {'length': '0', 'type': 'image/jpeg', 'href': 'https://gdb.voanews.com/09410000-0a00-0242-85ab-08dadc615ac6_w800_h450.jpg', 'rel': 'enclosure'}], 'link': 'https://www.voanews.com/a/ethiopians-in-us-can-apply-for-temporary-protected-status-soon-/6871299.html', 'id': 'https://www.voanews.com/a/ethiopians-in-us-can-apply-for-temporary-protected-status-soon-/6871299.html', 'guidislink': False, 'published': 'Sat, 10 Dec 2022 21:19:05 -0500', 'published_parsed': time.struct_time(tm_year=2022, tm_mon=12, tm_mday=11, tm_hour=2, tm_min=19, tm_sec=5, tm_wday=6, tm_yday=345, tm_isdst=0), 'tags': [{'term': 'Immigration', 'scheme': None, 'label': None}, {'term': 'USA', 'scheme': None, 'label': None}, {'term': 'Africa', 'scheme': None, 'label': None}], 'authors': [{'name': 'Agence France-Presse', 'email': 'webdesk@voanews.com'}], 'author': 'webdesk@voanews.com (Agence France-Presse)', 'author_detail': {'name': 'Agence France-Presse', 'email': 'webdesk@voanews.com'}}\n",
      "\n",
      "\n",
      "{'title': 'US Supreme Court to Consider Prohibition on Encouraging Illegal Immigration', 'title_detail': {'type': 'text/plain', 'language': None, 'base': 'https://www.voanews.com/api/zgvmqye_o_qv', 'value': 'US Supreme Court to Consider Prohibition on Encouraging Illegal Immigration'}, 'summary': 'The U.S. Supreme Court agreed Friday to hear a bid by President Joe Biden\\'s administration to revive a federal law that makes it a criminal offense to encourage illegal immigration after it was struck down by a lower court as a violation of free speech rights.\\n\\n\\nThe justices took up the administration\\'s appeal of a February ruling by the San Francisco-based 9th U.S. Circuit Court of Appeals invalidating the law for infringing on rights guaranteed under the U.S. Constitution\\'s First Amendment.\\n\\n\\nThe 9th Circuit\\'s ruling threw out part of the conviction of a California man, Helaman Hansen, who had been prosecuted under the law.\\n\\n\\nThe dispute is similar to one that the Supreme Court heard, but did not resolve, in 2020. The federal government accused Hansen of deceiving undocumented immigrants between 2012 and 2016 by promising them that they could gain U.S. citizenship through an \"adult adoption\" program operated by his Sacramento-based business, Americans Helping America Chamber of Commerce.\\n\\n\\nThe government said Hansen persuaded at least 471 people to join his program, charging them each up to $10,000 even though he \"knew that the adult adoptions that he touted would not lead to U.S. citizenship.\"\\n\\n\\nHansen was convicted in 2017 of violating provisions of the federal law that bars inducing or encouraging noncitizens \"to come to, enter, or reside\" in the United States illegally, as well as mail fraud and wire fraud and was sentenced to 20 years in prison.\\n\\n\\nOn appeal, the 9th Circuit in February ruled that the encouragement law is unconstitutional because it is overly broad and criminalizes even commonplace speech that is protected by the First Amendment, such as telling undocumented immigrants, \"I encourage you to reside in the United States,\" or advising them about available social services.\\n\\n\\nThe 9th Circuit upheld Hansen\\'s other convictions and ordered that he be resentenced.\\n\\n\\nBiden\\'s administration urged the Supreme Court to hear the case, faulting the appeals court for invalidating an \"important tool for combating activities that exacerbate unlawful immigration.\"\\n\\n\\nThe case will be heard during the court\\'s current term, with a ruling due by June 2023.', 'summary_detail': {'type': 'text/html', 'language': None, 'base': 'https://www.voanews.com/api/zgvmqye_o_qv', 'value': 'The U.S. Supreme Court agreed Friday to hear a bid by President Joe Biden\\'s administration to revive a federal law that makes it a criminal offense to encourage illegal immigration after it was struck down by a lower court as a violation of free speech rights.\\n\\n\\nThe justices took up the administration\\'s appeal of a February ruling by the San Francisco-based 9th U.S. Circuit Court of Appeals invalidating the law for infringing on rights guaranteed under the U.S. Constitution\\'s First Amendment.\\n\\n\\nThe 9th Circuit\\'s ruling threw out part of the conviction of a California man, Helaman Hansen, who had been prosecuted under the law.\\n\\n\\nThe dispute is similar to one that the Supreme Court heard, but did not resolve, in 2020. The federal government accused Hansen of deceiving undocumented immigrants between 2012 and 2016 by promising them that they could gain U.S. citizenship through an \"adult adoption\" program operated by his Sacramento-based business, Americans Helping America Chamber of Commerce.\\n\\n\\nThe government said Hansen persuaded at least 471 people to join his program, charging them each up to $10,000 even though he \"knew that the adult adoptions that he touted would not lead to U.S. citizenship.\"\\n\\n\\nHansen was convicted in 2017 of violating provisions of the federal law that bars inducing or encouraging noncitizens \"to come to, enter, or reside\" in the United States illegally, as well as mail fraud and wire fraud and was sentenced to 20 years in prison.\\n\\n\\nOn appeal, the 9th Circuit in February ruled that the encouragement law is unconstitutional because it is overly broad and criminalizes even commonplace speech that is protected by the First Amendment, such as telling undocumented immigrants, \"I encourage you to reside in the United States,\" or advising them about available social services.\\n\\n\\nThe 9th Circuit upheld Hansen\\'s other convictions and ordered that he be resentenced.\\n\\n\\nBiden\\'s administration urged the Supreme Court to hear the case, faulting the appeals court for invalidating an \"important tool for combating activities that exacerbate unlawful immigration.\"\\n\\n\\nThe case will be heard during the court\\'s current term, with a ruling due by June 2023.'}, 'links': [{'rel': 'alternate', 'type': 'text/html', 'href': 'https://www.voanews.com/a/us-supreme-court-to-consider-prohibition-on-encouraging-illegal-immigration-/6870418.html'}, {'length': '0', 'type': 'image/jpeg', 'href': 'https://gdb.voanews.com/022a0000-0aff-0242-ce70-08dada4c90b5_w800_h450.jpg', 'rel': 'enclosure'}], 'link': 'https://www.voanews.com/a/us-supreme-court-to-consider-prohibition-on-encouraging-illegal-immigration-/6870418.html', 'id': 'https://www.voanews.com/a/us-supreme-court-to-consider-prohibition-on-encouraging-illegal-immigration-/6870418.html', 'guidislink': False, 'published': 'Fri, 09 Dec 2022 20:21:29 -0500', 'published_parsed': time.struct_time(tm_year=2022, tm_mon=12, tm_mday=10, tm_hour=1, tm_min=21, tm_sec=29, tm_wday=5, tm_yday=344, tm_isdst=0), 'tags': [{'term': 'Immigration', 'scheme': None, 'label': None}, {'term': 'USA', 'scheme': None, 'label': None}], 'authors': [{'name': 'Reuters', 'email': 'webdesk@voanews.com'}], 'author': 'webdesk@voanews.com (Reuters)', 'author_detail': {'name': 'Reuters', 'email': 'webdesk@voanews.com'}}\n",
      "\n",
      "\n",
      "{'title': 'US Appeals Ruling That Would Lift Asylum Restrictions', 'title_detail': {'type': 'text/plain', 'language': None, 'base': 'https://www.voanews.com/api/zgvmqye_o_qv', 'value': 'US Appeals Ruling That Would Lift Asylum Restrictions'}, 'summary': 'The U.S. government said Wednesday it is appealing a court ruling that would otherwise lift asylum restrictions that have become the cornerstone of border enforcement in recent years.\\n\\n\\nThe disputed enforcement rule first took effect in March 2020, denying migrants\\' rights to seek asylum under U.S. and international law on grounds of preventing the spread of COVID-19.\\n\\n\\nThe Homeland Security Department said it would file an appeal with the U.S. Court of Appeals for the District of Columbia, challenging a November ruling by U.S. District Judge Emmet Sullivan that ordered President Joe Biden\\'s administration to lift the asylum restrictions.\\n\\n\\nThe restrictions were put in place under former President Donald Trump at the outset of the COVID-19 pandemic. The practice was authorized under Title 42 of a broader 1944 law covering public health and has been used to expel migrants more than 2.4 million times. Many of those are repeated attempts to enter the U.S.\\n\\n\\nThe appeal could scuttle a December 21 deadline set by Sullivan for his order to go into effect.\\n\\n\\nSullivan has called the expulsion of migrants under the rule \"arbitrary and capricious.\"\\n\\n\\nImmigrant rights\\' groups have argued that the use of Title 42 unjustly harms people fleeing persecution and that the pandemic was a pretext used by the Trump administration to curb immigration.\\n\\n\\n\"The Biden administration\\'s decision to appeal is unsurprising given its vigorous defense of the policy for the past two years,\" said Lee Gelernt, an attorney for the ACLU and lead counsel on its Title 42 litigation, in an email.\\n\\n\\nA coalition of conservative-leaning states wants to keep the policy in place.\\n\\n\\nThe ban has been unevenly enforced by nationality, falling largely on migrants from Guatemala, Honduras, El Salvador — as well as Mexicans — because Mexico allows them to be returned from the United States. Last month, Mexico began accepting Venezuelans who are expelled from the United States under Title 42, causing a sharp drop in Venezuelans seeking asylum at the U.S. border.\\n\\n\\nThe asylum rule has been used by the Biden administration to expel migrant families and single adults, though not children traveling alone.', 'summary_detail': {'type': 'text/html', 'language': None, 'base': 'https://www.voanews.com/api/zgvmqye_o_qv', 'value': 'The U.S. government said Wednesday it is appealing a court ruling that would otherwise lift asylum restrictions that have become the cornerstone of border enforcement in recent years.\\n\\n\\nThe disputed enforcement rule first took effect in March 2020, denying migrants\\' rights to seek asylum under U.S. and international law on grounds of preventing the spread of COVID-19.\\n\\n\\nThe Homeland Security Department said it would file an appeal with the U.S. Court of Appeals for the District of Columbia, challenging a November ruling by U.S. District Judge Emmet Sullivan that ordered President Joe Biden\\'s administration to lift the asylum restrictions.\\n\\n\\nThe restrictions were put in place under former President Donald Trump at the outset of the COVID-19 pandemic. The practice was authorized under Title 42 of a broader 1944 law covering public health and has been used to expel migrants more than 2.4 million times. Many of those are repeated attempts to enter the U.S.\\n\\n\\nThe appeal could scuttle a December 21 deadline set by Sullivan for his order to go into effect.\\n\\n\\nSullivan has called the expulsion of migrants under the rule \"arbitrary and capricious.\"\\n\\n\\nImmigrant rights\\' groups have argued that the use of Title 42 unjustly harms people fleeing persecution and that the pandemic was a pretext used by the Trump administration to curb immigration.\\n\\n\\n\"The Biden administration\\'s decision to appeal is unsurprising given its vigorous defense of the policy for the past two years,\" said Lee Gelernt, an attorney for the ACLU and lead counsel on its Title 42 litigation, in an email.\\n\\n\\nA coalition of conservative-leaning states wants to keep the policy in place.\\n\\n\\nThe ban has been unevenly enforced by nationality, falling largely on migrants from Guatemala, Honduras, El Salvador — as well as Mexicans — because Mexico allows them to be returned from the United States. Last month, Mexico began accepting Venezuelans who are expelled from the United States under Title 42, causing a sharp drop in Venezuelans seeking asylum at the U.S. border.\\n\\n\\nThe asylum rule has been used by the Biden administration to expel migrant families and single adults, though not children traveling alone.'}, 'links': [{'rel': 'alternate', 'type': 'text/html', 'href': 'https://www.voanews.com/a/us-appeals-ruling-that-would-lift-asylum-restrictions/6867287.html'}, {'length': '0', 'type': 'image/jpeg', 'href': 'https://gdb.voanews.com/00bf0000-0aff-0242-9ead-08dac80afb5b_cx0_cy10_cw0_w800_h450.jpg', 'rel': 'enclosure'}], 'link': 'https://www.voanews.com/a/us-appeals-ruling-that-would-lift-asylum-restrictions/6867287.html', 'id': 'https://www.voanews.com/a/us-appeals-ruling-that-would-lift-asylum-restrictions/6867287.html', 'guidislink': False, 'published': 'Wed, 07 Dec 2022 19:37:34 -0500', 'published_parsed': time.struct_time(tm_year=2022, tm_mon=12, tm_mday=8, tm_hour=0, tm_min=37, tm_sec=34, tm_wday=3, tm_yday=342, tm_isdst=0), 'tags': [{'term': 'USA', 'scheme': None, 'label': None}, {'term': 'Americas', 'scheme': None, 'label': None}, {'term': 'Immigration', 'scheme': None, 'label': None}], 'authors': [{'name': 'Associated Press', 'email': 'webdesk@voanews.com'}], 'author': 'webdesk@voanews.com (Associated Press)', 'author_detail': {'name': 'Associated Press', 'email': 'webdesk@voanews.com'}}\n",
      "\n",
      "\n",
      "{'title': 'US Expands Deportation Relief to About 264,000 Haitians', 'title_detail': {'type': 'text/plain', 'language': None, 'base': 'https://www.voanews.com/api/zgvmqye_o_qv', 'value': 'US Expands Deportation Relief to About 264,000 Haitians'}, 'summary': 'The Biden administration will expand deportation relief and access to work permits for Haitians who are already in the United States, the U.S. Department of Homeland Security said on Monday, as Haiti\\'s government struggles to stabilize the country.\\n\\n\\nThe administration will offer Temporary Protected Status (TPS) to an estimated 264,000 Haitians for 18 months after the current designation expires in February.\\n\\n\\nOf those, about 101,000 have the status and 53,000 have pending applications, according to DHS. Another 110,000 more recent arrivals would also be covered by the new extension.\\n\\n\\nTPS provides deportation protection and permission to work to foreigners who cannot return to their home countries because of natural disasters, armed conflicts or other extraordinary factors.\\n\\n\\nArmed gangs in Haiti have expanded their power in the country following the 2021 assassination of President Jovenel Moise. Since then, Prime Minister Ariel Henry has faced challenges restoring order. The United States first designated Haiti for TPS in 2010 following an earthquake that devastated the island nation.\\n\\n\\n\\n\\nFormer Republican President Donald Trump tried to end TPS for Haiti and other countries but was blocked by federal courts. Biden, a Democrat, expanded Haiti\\'s designation in August 2021 to include Haitians who had arrived in the past decade.\\n\\n\\nIn September 2021, thousands of Haitian migrants crossed into the United States, setting up a makeshift camp in southern Texas. U.S. border agents on horseback confronted some of the migrants crossing the Rio Grande River. Photographs of the encounter triggered outrage from advocates and lawmakers.\\n\\n\\nSenate Majority Leader Chuck Schumer, a Democrat, had pushed for the extension of TPS to recent arrivals, saying that Haitians \"have been met at our doorstep with unimaginable indignity.\"', 'summary_detail': {'type': 'text/html', 'language': None, 'base': 'https://www.voanews.com/api/zgvmqye_o_qv', 'value': 'The Biden administration will expand deportation relief and access to work permits for Haitians who are already in the United States, the U.S. Department of Homeland Security said on Monday, as Haiti\\'s government struggles to stabilize the country.\\n\\n\\nThe administration will offer Temporary Protected Status (TPS) to an estimated 264,000 Haitians for 18 months after the current designation expires in February.\\n\\n\\nOf those, about 101,000 have the status and 53,000 have pending applications, according to DHS. Another 110,000 more recent arrivals would also be covered by the new extension.\\n\\n\\nTPS provides deportation protection and permission to work to foreigners who cannot return to their home countries because of natural disasters, armed conflicts or other extraordinary factors.\\n\\n\\nArmed gangs in Haiti have expanded their power in the country following the 2021 assassination of President Jovenel Moise. Since then, Prime Minister Ariel Henry has faced challenges restoring order. The United States first designated Haiti for TPS in 2010 following an earthquake that devastated the island nation.\\n\\n\\n\\n\\nFormer Republican President Donald Trump tried to end TPS for Haiti and other countries but was blocked by federal courts. Biden, a Democrat, expanded Haiti\\'s designation in August 2021 to include Haitians who had arrived in the past decade.\\n\\n\\nIn September 2021, thousands of Haitian migrants crossed into the United States, setting up a makeshift camp in southern Texas. U.S. border agents on horseback confronted some of the migrants crossing the Rio Grande River. Photographs of the encounter triggered outrage from advocates and lawmakers.\\n\\n\\nSenate Majority Leader Chuck Schumer, a Democrat, had pushed for the extension of TPS to recent arrivals, saying that Haitians \"have been met at our doorstep with unimaginable indignity.\"'}, 'links': [{'rel': 'alternate', 'type': 'text/html', 'href': 'https://www.voanews.com/a/us-expands-deportation-relief-to-about-264-000-haitians/6863961.html'}, {'length': '0', 'type': 'image/jpeg', 'href': 'https://gdb.voanews.com/B8143504-ABE0-4586-9E8B-5BE5B1C4C903_cx0_cy2_cw0_w800_h450.jpg', 'rel': 'enclosure'}], 'link': 'https://www.voanews.com/a/us-expands-deportation-relief-to-about-264-000-haitians/6863961.html', 'id': 'https://www.voanews.com/a/us-expands-deportation-relief-to-about-264-000-haitians/6863961.html', 'guidislink': False, 'published': 'Mon, 05 Dec 2022 22:21:42 -0500', 'published_parsed': time.struct_time(tm_year=2022, tm_mon=12, tm_mday=6, tm_hour=3, tm_min=21, tm_sec=42, tm_wday=1, tm_yday=340, tm_isdst=0), 'tags': [{'term': 'Immigration', 'scheme': None, 'label': None}, {'term': 'USA', 'scheme': None, 'label': None}], 'authors': [{'name': 'Reuters', 'email': 'webdesk@voanews.com'}], 'author': 'webdesk@voanews.com (Reuters)', 'author_detail': {'name': 'Reuters', 'email': 'webdesk@voanews.com'}}\n",
      "\n",
      "\n",
      "{'title': 'VOA Immigration Weekly Recap, Nov. 27–Dec. 3', 'title_detail': {'type': 'text/plain', 'language': None, 'base': 'https://www.voanews.com/api/zgvmqye_o_qv', 'value': 'VOA Immigration Weekly Recap, Nov. 27–Dec. 3'}, 'summary': \"Editor's note: Here is a look at immigration-related news around the U.S. this week. Questions? Tips? Comments? Email the VOA immigration team: ImmigrationUnit@voanews.com.\\xa0\\n\\n\\nSupreme Court Wrestles with Biden's Deportation Policy\\n\\n\\nThe Supreme Court on Tuesday wrestled with a politically tinged dispute over a Biden administration policy that would prioritize deportation of people in the country illegally who pose the greatest public safety risk. The Associated Press reports. \\xa0\\n\\n\\nUS Supreme Court to Hear Immigration Policy Case\\n\\n\\nThe U.S. Supreme Court waded into the immigration debate Tuesday as it examined the Biden administration's expulsion policies for undocumented migrants, Agence France-Presse reports. \\xa0\\n\\n\\nAfghan Refugee Opens Store in Texas to Keep Culture Alive\\n\\n\\nAjmal Zazai, who fled Afghanistan after the Taliban’s takeover, now runs a store in San Antonio, Texas, selling traditional Afghan clothes and carpets. Zabiullah Ghazi has the story for VOA, narrated by Nazrana Yousufzai. Roshan Noorzai contributed.\\xa0\\n\\n\\nBeyond Qatar: Migrant Workers Are Exploited in America, Too\\n\\n\\nThe treatment of migrant workers has been highlighted during the World Cup in Qatar, where many temporary foreign workers died while building the event’s infrastructure. Advocates for immigrant workers in the U.S. note that abuses aren’t just happening overseas. The Associated Press reports.\\n\\n\\nImmigration around the world\\n\\n\\nThousands Flee Drought and Hunger in Somalia for Kenya\\n\\n\\nRaho Ali has just arrived from Somalia with four of her children at the United Nations High Commissioner for Refugees (UNHCR) transit area in Kenya's northern border town of Dadaab. The 45-year-old mother of seven said the drought in Somalia prompted her to flee and seek relief in Kenya. Three of her children got lost following an attack on them while on the treacherous journey and she has yet to locate them. Ali is among tens of thousands flocking to Kenyan camps in a new wave of drought-driven refugees. Juma Majanga reports for VOA.\\xa0\\n\\n\\nUK Says 50 Recently Arrived Migrants Found with Diphtheria\\n\\n\\nBritish health authorities have recorded 50 cases of diphtheria this year among recently arrived asylum-seekers, including one man who died after falling sick at a crowded migrant center. The U.K. Health Protection Agency said Monday that the infected people likely caught the disease in their countries of origin or during their journeys to the U.K. It said a similar increase had been seen elsewhere in Europe. The Associated Press reports.\\n\\n\\nInflux of Refugees in Kenya as Thousands Flee Drought and Hunger in Somalia\\n\\n\\nRecord drought and hunger in Somalia are driving thousands to flee to neighboring Kenya for help. Relief groups say the influx of refugees at Kenya's Dadaab camp is stretching the already overcrowded camp's resources. Juma Majanga reports from the refugee camp in Dadaab, Kenya.\\n\\n\\nNews Brief\\xa0\\n\\n\\nThe Department of Homeland Security Science and Technology Directorate launched a competition for graduate and undergraduate students across the United States and territories to participate in the 2023 Homeland Security Professional Opportunities for the Student Workforce to Experience Research internship program.\", 'summary_detail': {'type': 'text/html', 'language': None, 'base': 'https://www.voanews.com/api/zgvmqye_o_qv', 'value': \"Editor's note: Here is a look at immigration-related news around the U.S. this week. Questions? Tips? Comments? Email the VOA immigration team: ImmigrationUnit@voanews.com.\\xa0\\n\\n\\nSupreme Court Wrestles with Biden's Deportation Policy\\n\\n\\nThe Supreme Court on Tuesday wrestled with a politically tinged dispute over a Biden administration policy that would prioritize deportation of people in the country illegally who pose the greatest public safety risk. The Associated Press reports. \\xa0\\n\\n\\nUS Supreme Court to Hear Immigration Policy Case\\n\\n\\nThe U.S. Supreme Court waded into the immigration debate Tuesday as it examined the Biden administration's expulsion policies for undocumented migrants, Agence France-Presse reports. \\xa0\\n\\n\\nAfghan Refugee Opens Store in Texas to Keep Culture Alive\\n\\n\\nAjmal Zazai, who fled Afghanistan after the Taliban’s takeover, now runs a store in San Antonio, Texas, selling traditional Afghan clothes and carpets. Zabiullah Ghazi has the story for VOA, narrated by Nazrana Yousufzai. Roshan Noorzai contributed.\\xa0\\n\\n\\nBeyond Qatar: Migrant Workers Are Exploited in America, Too\\n\\n\\nThe treatment of migrant workers has been highlighted during the World Cup in Qatar, where many temporary foreign workers died while building the event’s infrastructure. Advocates for immigrant workers in the U.S. note that abuses aren’t just happening overseas. The Associated Press reports.\\n\\n\\nImmigration around the world\\n\\n\\nThousands Flee Drought and Hunger in Somalia for Kenya\\n\\n\\nRaho Ali has just arrived from Somalia with four of her children at the United Nations High Commissioner for Refugees (UNHCR) transit area in Kenya's northern border town of Dadaab. The 45-year-old mother of seven said the drought in Somalia prompted her to flee and seek relief in Kenya. Three of her children got lost following an attack on them while on the treacherous journey and she has yet to locate them. Ali is among tens of thousands flocking to Kenyan camps in a new wave of drought-driven refugees. Juma Majanga reports for VOA.\\xa0\\n\\n\\nUK Says 50 Recently Arrived Migrants Found with Diphtheria\\n\\n\\nBritish health authorities have recorded 50 cases of diphtheria this year among recently arrived asylum-seekers, including one man who died after falling sick at a crowded migrant center. The U.K. Health Protection Agency said Monday that the infected people likely caught the disease in their countries of origin or during their journeys to the U.K. It said a similar increase had been seen elsewhere in Europe. The Associated Press reports.\\n\\n\\nInflux of Refugees in Kenya as Thousands Flee Drought and Hunger in Somalia\\n\\n\\nRecord drought and hunger in Somalia are driving thousands to flee to neighboring Kenya for help. Relief groups say the influx of refugees at Kenya's Dadaab camp is stretching the already overcrowded camp's resources. Juma Majanga reports from the refugee camp in Dadaab, Kenya.\\n\\n\\nNews Brief\\xa0\\n\\n\\nThe Department of Homeland Security Science and Technology Directorate launched a competition for graduate and undergraduate students across the United States and territories to participate in the 2023 Homeland Security Professional Opportunities for the Student Workforce to Experience Research internship program.\"}, 'links': [{'rel': 'alternate', 'type': 'text/html', 'href': 'https://www.voanews.com/a/voa-immigration-weekly-recap-nov-27-dec-3/6861494.html'}, {'length': '0', 'type': 'image/jpeg', 'href': 'https://gdb.voanews.com/03370000-0aff-0242-d413-08dad5aee293_cx0_cy10_cw0_w800_h450.jpg', 'rel': 'enclosure'}], 'link': 'https://www.voanews.com/a/voa-immigration-weekly-recap-nov-27-dec-3/6861494.html', 'id': 'https://www.voanews.com/a/voa-immigration-weekly-recap-nov-27-dec-3/6861494.html', 'guidislink': False, 'published': 'Sat, 03 Dec 2022 23:21:38 -0500', 'published_parsed': time.struct_time(tm_year=2022, tm_mon=12, tm_mday=4, tm_hour=4, tm_min=21, tm_sec=38, tm_wday=6, tm_yday=338, tm_isdst=0), 'tags': [{'term': 'Immigration', 'scheme': None, 'label': None}, {'term': 'USA', 'scheme': None, 'label': None}], 'authors': [{'name': 'Aline Barros', 'email': 'webdesk@voanews.com'}], 'author': 'webdesk@voanews.com (Aline Barros)', 'author_detail': {'name': 'Aline Barros', 'email': 'webdesk@voanews.com'}}\n",
      "\n",
      "\n",
      "{'title': 'Biden Weighs Reviving Trump-era Immigration Restrictions, Officials Say', 'title_detail': {'type': 'text/plain', 'language': None, 'base': 'https://www.voanews.com/api/zgvmqye_o_qv', 'value': 'Biden Weighs Reviving Trump-era Immigration Restrictions, Officials Say'}, 'summary': 'U.S. President Joe Biden\\'s administration would make it harder to seek asylum at the U.S.-Mexico border under several plans being considered that bear similarities to policies pushed by former President Donald Trump.\\n\\n\\nTwo Department of Homeland Security officials and a person familiar with the matter said the administration is discussing a fast-track regulation to deny asylum to single adult migrants if they do not first seek protection in other countries.\\n\\n\\nThe sources said they had not seen a copy of the proposed regulation so could not provide further details.\\n\\n\\nSince Biden took office in January 2021, his administration has struggled both operationally and politically with record numbers of migrants crossing the U.S.-Mexico border illegally.\\n\\n\\nU.S. border authorities made 2.2 million migrant arrests at the border in fiscal 2022, which ended September 30, although many of those were repeat crossers.\\n\\n\\nAnother U.S. official said the Biden administration is also considering other Trump-era deterrents that include having Border Patrol agents conduct accelerated asylum screenings.\\n\\n\\nAnother possibility was to increase a practice known as metering, which limits the number of migrants who can approach a port of entry to seek asylum, this official said.\\n\\n\\nA DHS spokesperson said on Friday no decisions had been made to make changes in policy.\\n\\n\\nBiden, a Democrat, defeated Trump, a Republican, in a 2020 presidential election promising to undo his predecessor\\'s hard-line immigration policies and \"reassert America\\'s commitment to asylum-seekers and refugees.\"\\n\\n\\nThe policies under consideration, if adopted, would sharply backtrack on those pledges and have drawn concern from immigration advocates. Similar Trump policies were challenged in court and overturned.\\n\\n\\nTo be granted U.S. asylum, migrants who enter the country must show they seek protection from persecution elsewhere based on their race, religion, nationality, political opinions or membership in a particular social group.\\n\\n\\nAxios first reported the discussions around a new asylum ban earlier this week. The other measures under consideration have not been previously reported.\\n\\n\\nAfter the Axios story, a Biden official said in a statement the United States would seek to accelerate asylum processing times, break up smuggling networks preying on migrants and work with others in the region to manage the flow of migrants.\\n\\n\\nRepublicans, who take control of the U.S. House of Representatives in January, have assailed Biden\\'s handling of the border and threatened to impeach his top border official, Homeland Security Secretary Alejandro Mayorkas.\\n\\n\\nLast month a U.S. federal judge invalidated a COVID-19 era border order known as Title 42. Implemented in March 2020 under Trump, it allowed authorities to rapidly expel migrants caught crossing the border without giving them a chance to seek asylum.\\n\\n\\nThe judge delayed the effective date of the ruling until December 21 to give border authorities time to prepare. A week later, a coalition of states with Republican attorneys general launched a legal challenge seeking to reverse the decision.\\n\\n\\nThe administration is preparing for the possibility of 9,000-14,000 migrants per day trying to cross the border if Title 42 is lifted, one of the DHS officials told Reuters, about double the recent daily rate.', 'summary_detail': {'type': 'text/html', 'language': None, 'base': 'https://www.voanews.com/api/zgvmqye_o_qv', 'value': 'U.S. President Joe Biden\\'s administration would make it harder to seek asylum at the U.S.-Mexico border under several plans being considered that bear similarities to policies pushed by former President Donald Trump.\\n\\n\\nTwo Department of Homeland Security officials and a person familiar with the matter said the administration is discussing a fast-track regulation to deny asylum to single adult migrants if they do not first seek protection in other countries.\\n\\n\\nThe sources said they had not seen a copy of the proposed regulation so could not provide further details.\\n\\n\\nSince Biden took office in January 2021, his administration has struggled both operationally and politically with record numbers of migrants crossing the U.S.-Mexico border illegally.\\n\\n\\nU.S. border authorities made 2.2 million migrant arrests at the border in fiscal 2022, which ended September 30, although many of those were repeat crossers.\\n\\n\\nAnother U.S. official said the Biden administration is also considering other Trump-era deterrents that include having Border Patrol agents conduct accelerated asylum screenings.\\n\\n\\nAnother possibility was to increase a practice known as metering, which limits the number of migrants who can approach a port of entry to seek asylum, this official said.\\n\\n\\nA DHS spokesperson said on Friday no decisions had been made to make changes in policy.\\n\\n\\nBiden, a Democrat, defeated Trump, a Republican, in a 2020 presidential election promising to undo his predecessor\\'s hard-line immigration policies and \"reassert America\\'s commitment to asylum-seekers and refugees.\"\\n\\n\\nThe policies under consideration, if adopted, would sharply backtrack on those pledges and have drawn concern from immigration advocates. Similar Trump policies were challenged in court and overturned.\\n\\n\\nTo be granted U.S. asylum, migrants who enter the country must show they seek protection from persecution elsewhere based on their race, religion, nationality, political opinions or membership in a particular social group.\\n\\n\\nAxios first reported the discussions around a new asylum ban earlier this week. The other measures under consideration have not been previously reported.\\n\\n\\nAfter the Axios story, a Biden official said in a statement the United States would seek to accelerate asylum processing times, break up smuggling networks preying on migrants and work with others in the region to manage the flow of migrants.\\n\\n\\nRepublicans, who take control of the U.S. House of Representatives in January, have assailed Biden\\'s handling of the border and threatened to impeach his top border official, Homeland Security Secretary Alejandro Mayorkas.\\n\\n\\nLast month a U.S. federal judge invalidated a COVID-19 era border order known as Title 42. Implemented in March 2020 under Trump, it allowed authorities to rapidly expel migrants caught crossing the border without giving them a chance to seek asylum.\\n\\n\\nThe judge delayed the effective date of the ruling until December 21 to give border authorities time to prepare. A week later, a coalition of states with Republican attorneys general launched a legal challenge seeking to reverse the decision.\\n\\n\\nThe administration is preparing for the possibility of 9,000-14,000 migrants per day trying to cross the border if Title 42 is lifted, one of the DHS officials told Reuters, about double the recent daily rate.'}, 'links': [{'rel': 'alternate', 'type': 'text/html', 'href': 'https://www.voanews.com/a/biden-weighs-reviving-trump-era-immigration-restrictions-officials-say-/6860121.html'}, {'length': '0', 'type': 'image/jpeg', 'href': 'https://gdb.voanews.com/09860000-0aff-0242-70ba-08da9fbcd29a_cx0_cy9_cw0_w800_h450.jpg', 'rel': 'enclosure'}], 'link': 'https://www.voanews.com/a/biden-weighs-reviving-trump-era-immigration-restrictions-officials-say-/6860121.html', 'id': 'https://www.voanews.com/a/biden-weighs-reviving-trump-era-immigration-restrictions-officials-say-/6860121.html', 'guidislink': False, 'published': 'Fri, 02 Dec 2022 15:14:56 -0500', 'published_parsed': time.struct_time(tm_year=2022, tm_mon=12, tm_mday=2, tm_hour=20, tm_min=14, tm_sec=56, tm_wday=4, tm_yday=336, tm_isdst=0), 'tags': [{'term': 'Immigration', 'scheme': None, 'label': None}, {'term': 'USA', 'scheme': None, 'label': None}], 'authors': [{'name': 'Reuters', 'email': 'webdesk@voanews.com'}], 'author': 'webdesk@voanews.com (Reuters)', 'author_detail': {'name': 'Reuters', 'email': 'webdesk@voanews.com'}}\n",
      "\n",
      "\n",
      "{'title': \"Supreme Court Wrestles with Biden's Deportation Policy\", 'title_detail': {'type': 'text/plain', 'language': None, 'base': 'https://www.voanews.com/api/zgvmqye_o_qv', 'value': \"Supreme Court Wrestles with Biden's Deportation Policy\"}, 'summary': 'The Supreme Court on Tuesday wrestled with a politically tinged dispute over a Biden administration policy that would prioritize deportation of people in the country illegally who pose the greatest public safety risk.\\n\\n\\nIt was not clear after arguments that stretched past two hours and turned highly contentious at times whether the justices would allow the policy to take effect, or side with Republican-led states that have so far succeeded in blocking it.\\n\\n\\nAt the center of the case is a September 2021 directive from the Department of Homeland Security that paused deportations unless individuals had committed acts of terrorism, espionage or \"egregious threats to public safety.\" The guidance, issued after Joe Biden became president, updated a Trump-era policy that removed people in the country illegally regardless of criminal history or community ties.\\n\\n\\nOn Tuesday, the administration\\'s top Supreme Court lawyer told the justices that federal law does \"not create an unyielding mandate to apprehend and remove\" every one of the more than 11 million immigrants living in the country illegally.\\n\\n\\nSolicitor General Elizabeth Prelogar said it would be \"incredibly destabilizing on the ground\" for the high court to require that. Congress has not given DHS enough money to vastly increase the number of people it holds and deports, the Biden administration has said.\\n\\n\\nBut Texas Solicitor General Judd Stone told the court the administration is violating federal law that requires the detention and deportation of people who are in the U.S. illegally and who have been convicted of any serious crime, not just the most serious, specifically defined ones.\\n\\n\\nChief Justice John Roberts was among the conservative justices who pushed back strongly on the Biden administration\\'s arguments.\\n\\n\\n\"It\\'s our job to say what the law is, not whether or not it can be possibly implemented or whether there are difficulties there, and I don\\'t think we should change that responsibility just because Congress and the executive can\\'t agree on something. ... I don\\'t think we should let them off the hook,\" he said.\\n\\n\\nYet Roberts, in questioning Stone, also called Prelogar\\'s argument compelling.\\n\\n\\n\"It\\'s impossible for the executive to do what you want it to do, right?\" Roberts asked.\\n\\n\\nRoberts wasn\\'t totally satisfied when Stone said the number of people potentially affected total 60,000 to 80,000.\\n\\n\\nJustice Brett Kavanaugh said that whatever the actual number, \"the resources still aren\\'t there.\"\\n\\n\\nThe court\\'s three liberal justices, on the other hand, were sympathetic to the Biden administration\\'s arguments. Justice Sonia Sotomayor and Elena Kagan, made clear they believed that Texas and Louisiana, which joined Texas in suing over the directive, weren\\'t even entitled to bring their case.\\n\\n\\nThe case is the latest example of a Republican litigation strategy that has succeeded in slowing Biden administration initiatives by going to GOP-friendly courts. Kagan picked up on that during arguments, saying that Texas could file its suit in a courthouse where it was guaranteed to get a sympathetic hearing and that one judge stopped \"a federal immigration policy in its tracks.\"\\n\\n\\nIn a separate ongoing legal dispute, three judges chosen by then-President Donald Trump are among the four Republican-appointed judges who have so far prevented the administration\\'s student loan cancellation program from taking effect.\\n\\n\\nThe states said they would face added costs of having to detain people the federal government might allow to remain free inside the United States, despite their criminal records.\\n\\n\\nFederal appeals courts had reached conflicting decisions over DHS guidance.\\n\\n\\nThe federal appeals court in Cincinnati earlier overturned a district judge\\'s order that put the policy on hold in a lawsuit filed by Arizona, Ohio and Montana.\\n\\n\\nBut in the separate suit filed by Texas and Louisiana, a federal judge in Texas ordered a nationwide halt to the guidance and a federal appellate panel in New Orleans declined to step in.\\n\\n\\nIn July, the court voted 5-4 to leave the immigration policy frozen nationwide. Conservative Justice Amy Coney Barrett joined the court\\'s three liberals in saying they would have allowed the Biden administration to put in place the guidance.\\n\\n\\nAt the same time, the court said it would hear arguments in the case in late November.\\n\\n\\nThe justices have several questions to sort through, whether the states should have been permitted to file their challenge in the first place, whether the policy violates immigration law and, if it does, whether it was appropriate for the Texas-based judge to block it.\\n\\n\\nOn that last point, Prelogar said the judge\\'s decision to \"vacate\" the policy was wrong, and her argument questioned whether judges have been getting it all wrong for decades.\\n\\n\\nThe issue touched a nerve, especially among Roberts, Kavanaugh and Ketanji Brown Jackson, the justices who once served on the federal appeals court in Washington that regularly vacates policies it determines are unlawful.\\n\\n\\n\"Fairly radical,\" Roberts said. \"Pretty astonishing,\" Kavanaugh said. Jackson, more restrained, also questioned Prelogar\\'s reasoning.\\n\\n\\n\"There seems to be a kind of D.C. Circuit cartel,\" Kagan joked.\\n\\n\\nA decision in U.S. v. Texas, 22-58, is expected by late June.', 'summary_detail': {'type': 'text/html', 'language': None, 'base': 'https://www.voanews.com/api/zgvmqye_o_qv', 'value': 'The Supreme Court on Tuesday wrestled with a politically tinged dispute over a Biden administration policy that would prioritize deportation of people in the country illegally who pose the greatest public safety risk.\\n\\n\\nIt was not clear after arguments that stretched past two hours and turned highly contentious at times whether the justices would allow the policy to take effect, or side with Republican-led states that have so far succeeded in blocking it.\\n\\n\\nAt the center of the case is a September 2021 directive from the Department of Homeland Security that paused deportations unless individuals had committed acts of terrorism, espionage or \"egregious threats to public safety.\" The guidance, issued after Joe Biden became president, updated a Trump-era policy that removed people in the country illegally regardless of criminal history or community ties.\\n\\n\\nOn Tuesday, the administration\\'s top Supreme Court lawyer told the justices that federal law does \"not create an unyielding mandate to apprehend and remove\" every one of the more than 11 million immigrants living in the country illegally.\\n\\n\\nSolicitor General Elizabeth Prelogar said it would be \"incredibly destabilizing on the ground\" for the high court to require that. Congress has not given DHS enough money to vastly increase the number of people it holds and deports, the Biden administration has said.\\n\\n\\nBut Texas Solicitor General Judd Stone told the court the administration is violating federal law that requires the detention and deportation of people who are in the U.S. illegally and who have been convicted of any serious crime, not just the most serious, specifically defined ones.\\n\\n\\nChief Justice John Roberts was among the conservative justices who pushed back strongly on the Biden administration\\'s arguments.\\n\\n\\n\"It\\'s our job to say what the law is, not whether or not it can be possibly implemented or whether there are difficulties there, and I don\\'t think we should change that responsibility just because Congress and the executive can\\'t agree on something. ... I don\\'t think we should let them off the hook,\" he said.\\n\\n\\nYet Roberts, in questioning Stone, also called Prelogar\\'s argument compelling.\\n\\n\\n\"It\\'s impossible for the executive to do what you want it to do, right?\" Roberts asked.\\n\\n\\nRoberts wasn\\'t totally satisfied when Stone said the number of people potentially affected total 60,000 to 80,000.\\n\\n\\nJustice Brett Kavanaugh said that whatever the actual number, \"the resources still aren\\'t there.\"\\n\\n\\nThe court\\'s three liberal justices, on the other hand, were sympathetic to the Biden administration\\'s arguments. Justice Sonia Sotomayor and Elena Kagan, made clear they believed that Texas and Louisiana, which joined Texas in suing over the directive, weren\\'t even entitled to bring their case.\\n\\n\\nThe case is the latest example of a Republican litigation strategy that has succeeded in slowing Biden administration initiatives by going to GOP-friendly courts. Kagan picked up on that during arguments, saying that Texas could file its suit in a courthouse where it was guaranteed to get a sympathetic hearing and that one judge stopped \"a federal immigration policy in its tracks.\"\\n\\n\\nIn a separate ongoing legal dispute, three judges chosen by then-President Donald Trump are among the four Republican-appointed judges who have so far prevented the administration\\'s student loan cancellation program from taking effect.\\n\\n\\nThe states said they would face added costs of having to detain people the federal government might allow to remain free inside the United States, despite their criminal records.\\n\\n\\nFederal appeals courts had reached conflicting decisions over DHS guidance.\\n\\n\\nThe federal appeals court in Cincinnati earlier overturned a district judge\\'s order that put the policy on hold in a lawsuit filed by Arizona, Ohio and Montana.\\n\\n\\nBut in the separate suit filed by Texas and Louisiana, a federal judge in Texas ordered a nationwide halt to the guidance and a federal appellate panel in New Orleans declined to step in.\\n\\n\\nIn July, the court voted 5-4 to leave the immigration policy frozen nationwide. Conservative Justice Amy Coney Barrett joined the court\\'s three liberals in saying they would have allowed the Biden administration to put in place the guidance.\\n\\n\\nAt the same time, the court said it would hear arguments in the case in late November.\\n\\n\\nThe justices have several questions to sort through, whether the states should have been permitted to file their challenge in the first place, whether the policy violates immigration law and, if it does, whether it was appropriate for the Texas-based judge to block it.\\n\\n\\nOn that last point, Prelogar said the judge\\'s decision to \"vacate\" the policy was wrong, and her argument questioned whether judges have been getting it all wrong for decades.\\n\\n\\nThe issue touched a nerve, especially among Roberts, Kavanaugh and Ketanji Brown Jackson, the justices who once served on the federal appeals court in Washington that regularly vacates policies it determines are unlawful.\\n\\n\\n\"Fairly radical,\" Roberts said. \"Pretty astonishing,\" Kavanaugh said. Jackson, more restrained, also questioned Prelogar\\'s reasoning.\\n\\n\\n\"There seems to be a kind of D.C. Circuit cartel,\" Kagan joked.\\n\\n\\nA decision in U.S. v. Texas, 22-58, is expected by late June.'}, 'links': [{'rel': 'alternate', 'type': 'text/html', 'href': 'https://www.voanews.com/a/supreme-court-wrestles-with-biden-s-deportation-policy-/6855367.html'}, {'length': '0', 'type': 'image/jpeg', 'href': 'https://gdb.voanews.com/03370000-0aff-0242-e2d9-08dad25e9343_cx0_cy4_cw0_w800_h450.jpg', 'rel': 'enclosure'}], 'link': 'https://www.voanews.com/a/supreme-court-wrestles-with-biden-s-deportation-policy-/6855367.html', 'id': 'https://www.voanews.com/a/supreme-court-wrestles-with-biden-s-deportation-policy-/6855367.html', 'guidislink': False, 'published': 'Tue, 29 Nov 2022 18:25:49 -0500', 'published_parsed': time.struct_time(tm_year=2022, tm_mon=11, tm_mday=29, tm_hour=23, tm_min=25, tm_sec=49, tm_wday=1, tm_yday=333, tm_isdst=0), 'tags': [{'term': 'USA', 'scheme': None, 'label': None}, {'term': 'Immigration', 'scheme': None, 'label': None}], 'authors': [{'name': 'Associated Press', 'email': 'webdesk@voanews.com'}], 'author': 'webdesk@voanews.com (Associated Press)', 'author_detail': {'name': 'Associated Press', 'email': 'webdesk@voanews.com'}}\n",
      "\n",
      "\n",
      "{'title': 'US Supreme Court to Hear Immigration Policy Case', 'title_detail': {'type': 'text/plain', 'language': None, 'base': 'https://www.voanews.com/api/zgvmqye_o_qv', 'value': 'US Supreme Court to Hear Immigration Policy Case'}, 'summary': 'The U.S. Supreme Court wades into the immigration debate on Tuesday as it examines the Biden administration\\'s expulsion policies for undocumented migrants.\\xa0\\xa0\\xa0\\n\\n\\nThe Homeland Security Department, in a September 2021 memo, instructed US Immigration and Customs Enforcement (ICE) to concentrate expulsion efforts on persons who \"pose a threat to national security, public safety, and border security.\"\\xa0\\xa0\\xa0\\n\\n\\n\"It is estimated that there are more than 11 million undocumented or otherwise removable noncitizens in the United States,\" Homeland Security Secretary Alejandro Mayorkas said in the memo.\\xa0\\xa0\\xa0\\n\\n\\n\"We do not have the resources to apprehend and seek the removal of every one of these noncitizens,\" Mayorkas said. \"Therefore, we need to exercise our discretion and determine whom to prioritize for immigration enforcement action.\"\\xa0\\xa0\\xa0\\n\\n\\nThe policy represented a shift from that of the administration of former Republican president Donald Trump which called for the expulsion of \"all removable aliens.\"\\xa0\\xa0\\xa0\\n\\n\\nThe Biden policy was immediately challenged by several Republican-led states as being too narrow and was blocked by a court in Texas.\\xa0\\xa0\\xa0\\n\\n\\nThe states argued that it imposes a heavy cost burden on the taxpayers because of the public services that would be needed to be provided to noncitizens.\\xa0\\xa0\\xa0\\n\\n\\nThe Biden administration challenged the Texas court\\'s ruling and the conservative majority Supreme Court will hear oral arguments in the case, United States v. Texas, on Tuesday.\\xa0\\n\\n\\nThe administration is arguing that a decision in Texas\\'s favor could have wide-ranging repercussions beyond immigration policy.\\xa0\\xa0\\xa0\\n\\n\\n\"Federal policies routinely have incidental effects on states\\' expenditures, revenues, and other activities,\" the government said in its brief.\\xa0\\xa0\\xa0\\n\\n\\n\"Yet such effects have never been viewed as judicially cognizable injuries,\" it said.\\xa0\\xa0\\xa0\\xa0\\n\\n\\n\"As the recent explosion in state suits vividly illustrates, respondents\\' contrary view would allow any state to sue the federal government about virtually any policy.\"\\xa0\\xa0\\xa0\\n\\n\\nThe court is expected to issue its ruling by the end of June.', 'summary_detail': {'type': 'text/html', 'language': None, 'base': 'https://www.voanews.com/api/zgvmqye_o_qv', 'value': 'The U.S. Supreme Court wades into the immigration debate on Tuesday as it examines the Biden administration\\'s expulsion policies for undocumented migrants.\\xa0\\xa0\\xa0\\n\\n\\nThe Homeland Security Department, in a September 2021 memo, instructed US Immigration and Customs Enforcement (ICE) to concentrate expulsion efforts on persons who \"pose a threat to national security, public safety, and border security.\"\\xa0\\xa0\\xa0\\n\\n\\n\"It is estimated that there are more than 11 million undocumented or otherwise removable noncitizens in the United States,\" Homeland Security Secretary Alejandro Mayorkas said in the memo.\\xa0\\xa0\\xa0\\n\\n\\n\"We do not have the resources to apprehend and seek the removal of every one of these noncitizens,\" Mayorkas said. \"Therefore, we need to exercise our discretion and determine whom to prioritize for immigration enforcement action.\"\\xa0\\xa0\\xa0\\n\\n\\nThe policy represented a shift from that of the administration of former Republican president Donald Trump which called for the expulsion of \"all removable aliens.\"\\xa0\\xa0\\xa0\\n\\n\\nThe Biden policy was immediately challenged by several Republican-led states as being too narrow and was blocked by a court in Texas.\\xa0\\xa0\\xa0\\n\\n\\nThe states argued that it imposes a heavy cost burden on the taxpayers because of the public services that would be needed to be provided to noncitizens.\\xa0\\xa0\\xa0\\n\\n\\nThe Biden administration challenged the Texas court\\'s ruling and the conservative majority Supreme Court will hear oral arguments in the case, United States v. Texas, on Tuesday.\\xa0\\n\\n\\nThe administration is arguing that a decision in Texas\\'s favor could have wide-ranging repercussions beyond immigration policy.\\xa0\\xa0\\xa0\\n\\n\\n\"Federal policies routinely have incidental effects on states\\' expenditures, revenues, and other activities,\" the government said in its brief.\\xa0\\xa0\\xa0\\n\\n\\n\"Yet such effects have never been viewed as judicially cognizable injuries,\" it said.\\xa0\\xa0\\xa0\\xa0\\n\\n\\n\"As the recent explosion in state suits vividly illustrates, respondents\\' contrary view would allow any state to sue the federal government about virtually any policy.\"\\xa0\\xa0\\xa0\\n\\n\\nThe court is expected to issue its ruling by the end of June.'}, 'links': [{'rel': 'alternate', 'type': 'text/html', 'href': 'https://www.voanews.com/a/us-supreme-court-to-hear-immigration-policy-case/6854300.html'}, {'length': '0', 'type': 'image/jpeg', 'href': 'https://gdb.voanews.com/03990000-0aff-0242-7b35-08daad649e86_w800_h450.jpg', 'rel': 'enclosure'}], 'link': 'https://www.voanews.com/a/us-supreme-court-to-hear-immigration-policy-case/6854300.html', 'id': 'https://www.voanews.com/a/us-supreme-court-to-hear-immigration-policy-case/6854300.html', 'guidislink': False, 'published': 'Mon, 28 Nov 2022 23:28:34 -0500', 'published_parsed': time.struct_time(tm_year=2022, tm_mon=11, tm_mday=29, tm_hour=4, tm_min=28, tm_sec=34, tm_wday=1, tm_yday=333, tm_isdst=0), 'tags': [{'term': 'Immigration', 'scheme': None, 'label': None}], 'authors': [{'name': 'Agence France-Presse', 'email': 'webdesk@voanews.com'}], 'author': 'webdesk@voanews.com (Agence France-Presse)', 'author_detail': {'name': 'Agence France-Presse', 'email': 'webdesk@voanews.com'}}\n",
      "\n",
      "\n",
      "{'title': 'VOA Immigration Weekly Recap, Nov. 20–26', 'title_detail': {'type': 'text/plain', 'language': None, 'base': 'https://www.voanews.com/api/zgvmqye_o_qv', 'value': 'VOA Immigration Weekly Recap, Nov. 20–26'}, 'summary': 'Editor\\'s note: Here is a look at immigration-related news around the U.S. this week. Questions? Tips? Comments? Email the VOA immigration team: ImmigrationUnit@voanews.com.\\n\\n\\nIn Pennsylvania, Afghan Refugees Celebrate First Thanksgiving\\n\\n\\nJudith Samkoff needed a bigger dinner table for Thanksgiving this year.\\n\\n\\nThe 65-year-old Harrisburg, Pennsylvania, resident helped resettle an Afghan refugee family of eight, and because this is their first holiday in the United States, Samkoff invited them to her father and sister\\'s home for Thanksgiving.\\n\\n\\nOne of Samkoff\\'s guests is Hadia, a 24-year-old Afghan refugee whose family fled Afghanistan in November 2021. VOA\\'s immigration reporter Aline Barros has more.\\n\\n\\nNew Refugees Celebrate First Thanksgiving in US\\n\\n\\nRefugees from around the world who resettled in the Washington area got together to celebrate their first Thanksgiving in the United States. VOA\\'s Shahnaz Nafees has the story.\\n\\n\\n\\'Kite Runner\\' Actor a Two-Time Refugee\\n\\n\\nThe Afghan actor Ali Danish Bakhtyari, who played the role of an orphan in the 2007 film The Kite Runner, has fled the Taliban rule in his home country twice: first in the late 1990s, and then in 2021, when the United States withdrew its forces from Afghanistan. Keith Kocinski has the story from New York.\\n\\n\\nImmigration around the world\\n\\n\\nRights Group Accuses Turkey of Mass Afghan Deportations\\n\\n\\nThe U.S.-based Human Rights Watch accuses Turkish authorities of carrying out mass deportations of Afghan refugees, including those most at risk. For VOA, Dorian Jones reports from Istanbul.\\n\\n\\nEU Ministers Endorse New Migrant Plan After France-Italy Spat\\n\\n\\nEuropean interior ministers welcomed Friday an EU plan to better coordinate the handling of migrant arrivals, after a furious argument over a refugee rescue boat erupted between Italy and France. Reported by Agence France-Presse.\\n\\n\\nThe Inside Story-Cause of Death: Migrant Workers and the 2022 Qatar World Cup\\n\\n\\nThousands of migrant workers died in Qatar building the stadiums for the 2022 World Cup. VOA\\'s Heather Murdock takes you to Nepal where families are asking \"Why is no one taking responsibility?\" on The Inside Story: Cause of Death, Migrant Workers & the 2022 Qatar World Cup.\\n\\n\\nChinese Refugees in Italy Wary of Beijing Outposts\\n\\n\\nChinese refugees in Italy, some of whom are dissidents, are increasingly wary of the presence of what appear to be four outposts of Beijing\\'s security apparatus operating without official diplomatic trappings, according to experts. Allen Giovanni Ai reports for VOA News.\\n\\n\\nNews Brief\\n\\n\\nThe U.S. Citizenship and Immigration Services (USCIS) announced it is extending filing fee exemptions and expediting application processing for certain Afghan nationals.\\n\\n\\n\"These actions will help Afghan nationals resettle, and in many cases reunite with family, in the United States by enabling USCIS to process their requests for work authorization, long-term status, status for immediate relatives, and associated services more quickly.\"', 'summary_detail': {'type': 'text/html', 'language': None, 'base': 'https://www.voanews.com/api/zgvmqye_o_qv', 'value': 'Editor\\'s note: Here is a look at immigration-related news around the U.S. this week. Questions? Tips? Comments? Email the VOA immigration team: ImmigrationUnit@voanews.com.\\n\\n\\nIn Pennsylvania, Afghan Refugees Celebrate First Thanksgiving\\n\\n\\nJudith Samkoff needed a bigger dinner table for Thanksgiving this year.\\n\\n\\nThe 65-year-old Harrisburg, Pennsylvania, resident helped resettle an Afghan refugee family of eight, and because this is their first holiday in the United States, Samkoff invited them to her father and sister\\'s home for Thanksgiving.\\n\\n\\nOne of Samkoff\\'s guests is Hadia, a 24-year-old Afghan refugee whose family fled Afghanistan in November 2021. VOA\\'s immigration reporter Aline Barros has more.\\n\\n\\nNew Refugees Celebrate First Thanksgiving in US\\n\\n\\nRefugees from around the world who resettled in the Washington area got together to celebrate their first Thanksgiving in the United States. VOA\\'s Shahnaz Nafees has the story.\\n\\n\\n\\'Kite Runner\\' Actor a Two-Time Refugee\\n\\n\\nThe Afghan actor Ali Danish Bakhtyari, who played the role of an orphan in the 2007 film The Kite Runner, has fled the Taliban rule in his home country twice: first in the late 1990s, and then in 2021, when the United States withdrew its forces from Afghanistan. Keith Kocinski has the story from New York.\\n\\n\\nImmigration around the world\\n\\n\\nRights Group Accuses Turkey of Mass Afghan Deportations\\n\\n\\nThe U.S.-based Human Rights Watch accuses Turkish authorities of carrying out mass deportations of Afghan refugees, including those most at risk. For VOA, Dorian Jones reports from Istanbul.\\n\\n\\nEU Ministers Endorse New Migrant Plan After France-Italy Spat\\n\\n\\nEuropean interior ministers welcomed Friday an EU plan to better coordinate the handling of migrant arrivals, after a furious argument over a refugee rescue boat erupted between Italy and France. Reported by Agence France-Presse.\\n\\n\\nThe Inside Story-Cause of Death: Migrant Workers and the 2022 Qatar World Cup\\n\\n\\nThousands of migrant workers died in Qatar building the stadiums for the 2022 World Cup. VOA\\'s Heather Murdock takes you to Nepal where families are asking \"Why is no one taking responsibility?\" on The Inside Story: Cause of Death, Migrant Workers & the 2022 Qatar World Cup.\\n\\n\\nChinese Refugees in Italy Wary of Beijing Outposts\\n\\n\\nChinese refugees in Italy, some of whom are dissidents, are increasingly wary of the presence of what appear to be four outposts of Beijing\\'s security apparatus operating without official diplomatic trappings, according to experts. Allen Giovanni Ai reports for VOA News.\\n\\n\\nNews Brief\\n\\n\\nThe U.S. Citizenship and Immigration Services (USCIS) announced it is extending filing fee exemptions and expediting application processing for certain Afghan nationals.\\n\\n\\n\"These actions will help Afghan nationals resettle, and in many cases reunite with family, in the United States by enabling USCIS to process their requests for work authorization, long-term status, status for immediate relatives, and associated services more quickly.\"'}, 'links': [{'rel': 'alternate', 'type': 'text/html', 'href': 'https://www.voanews.com/a/voa-immigration-weekly-recap-nov-20-26-/6851766.html'}, {'length': '0', 'type': 'image/png', 'href': 'https://gdb.voanews.com/03370000-0aff-0242-72d4-08dace63898c_cx0_cy17_cw0_w800_h450.png', 'rel': 'enclosure'}], 'link': 'https://www.voanews.com/a/voa-immigration-weekly-recap-nov-20-26-/6851766.html', 'id': 'https://www.voanews.com/a/voa-immigration-weekly-recap-nov-20-26-/6851766.html', 'guidislink': False, 'published': 'Sat, 26 Nov 2022 21:16:47 -0500', 'published_parsed': time.struct_time(tm_year=2022, tm_mon=11, tm_mday=27, tm_hour=2, tm_min=16, tm_sec=47, tm_wday=6, tm_yday=331, tm_isdst=0), 'tags': [{'term': 'Immigration', 'scheme': None, 'label': None}, {'term': 'USA', 'scheme': None, 'label': None}], 'authors': [{'name': 'Aline Barros', 'email': 'webdesk@voanews.com'}], 'author': 'webdesk@voanews.com (Aline Barros)', 'author_detail': {'name': 'Aline Barros', 'email': 'webdesk@voanews.com'}}\n",
      "\n",
      "\n",
      "{'title': 'The Somali Diaspora and its Journey to Political Victories in the West', 'title_detail': {'type': 'text/plain', 'language': None, 'base': 'https://www.voanews.com/api/zgvmqye_o_qv', 'value': 'The Somali Diaspora and its Journey to Political Victories in the West'}, 'summary': \"From refugees to elected office, 14 Somali Americans have won legislative seats across the U.S. this year. Some also have been elected to city councils, school boards and the boards of parks and recreation in their respective cities. The U.S. midterm elections have proved to be historic for Somalis, with more women elected to public offices than ever before.\\n\\n\\nVOA Somali Service’s Torch Program explains how Somalis who arrived as migrants and refugees to the West have made their way into politics.\\n\\n\\nHashi Shafi, executive director of the Somali Action Alliance, a Minneapolis-based community organization in the northern U.S. state of Minnesota, says the campaign that led Somalis to shine in U.S. politics started right after 9/11 with a community-based voter registration program.\\n\\n\\n“In the beginning, Somalis were thinking about returning back to Somalia. They had their luggage ready; the artists were singing with songs giving the community a hope of immediate returning, but after 9/11, the community activists realized that such a dream was not realistic, and the Somalis needed to find a way to melt into the pot. Then, we started registering community members to encourage them to vote,” Shafi said. “Somali Americans’ rise in political power has come with its difficulties.”\\n\\n\\nTight-knit community\\n\\n\\nAbdirahman Sharif, the imam and the leader of the Dar-Al-Hijrah Mosque in Minneapolis says another reason Somalis have risen in U.S. politics is because they are a tight-knit community.\\n\\n\\n“When Somalis came to [the] U.S., they moved to a foreign country where they could not communicate with people. So, for them, being close to people from their country meant having someone to communicate with and that helped them to unite their votes, and resources for political aspirants,” Sharif said.\\n\\n\\nThe state of Minnesota has the largest Somali community in the country, mostly in the Minneapolis-St. Paul area. According to U.N. estimates from 2015, there are about 150,000 Somalis, both refugees and nonrefugees, living in the U.S.\\n\\n\\nThe first wave of Somalis came to Minnesota in early 1990s after civil war broke out in their country. Another wave of refugees followed, and the community thrived, thanks to the state's welcoming social programs. It's the biggest Somali community in North America, possibly in the world outside of East Africa.\\n\\n\\nSimilarly, job opportunities and a relatively low cost of living have drawn Somali immigrants to Columbus, Ohio. Ohio has the second largest Somali population in the United States, with an estimated 45,000 immigrants.\\n\\n\\nCommunities have grown significantly in both states. Somali-owned restaurants, mosques, clothing stores, coffee shops and other businesses have opened in several neighborhoods in Minneapolis, called Little Mogadishu, named after Somalia's capital.\\n\\n\\nLarge communities of Somalis are also concentrated in Lewiston and Portland, Maine, as well as Seattle in Washington state, and the Washington, D.C., metropolitan area.\\n\\n\\nAnalyst Abdi-Qafar Abdi Wardere says such concentrations have helped Somalis to gather their strength as a community.\\n\\n\\n“Somalis are bound together by intimate social or cultural ties that helped them to live together and concentrate [in] certain states or neighborhoods in the diaspora. About one-third of Minnesota's Somali residents came directly from refugee camps; others settled first in another state and then relocated to Minnesota. I can say they are somehow a tight-knit community,” Wardere said.\\n\\n\\nCanada and Europe\\n\\n\\nIt’s not only in the United States but Somali immigrants have also found their place in Canadian and European politics. They have gathered in big numbers in major cities to have an impact and exert influence.\\n\\n\\nIn Toronto, Canada, Somalis have made breakthroughs by winning elections and political offices. Ahmed Hussen, a lawyer and community activist born and raised in Somalia, is among the most influential Somalis in Canada. He was first elected as a member of parliament in 2015 to represent York South - Weston. He has previously served as minister of families, children and social development, and minister of immigration, refugees and citizenship. Now he is Canada’s minister of housing, diversity and inclusion.\\n\\n\\nFaisal Ahmed Hassan, who is a Somali Canadian politician, was a member of the Legislative Assembly of Ontario from 2018 until his defeat in 2022. He thinks for Somalis in the diaspora, there are two reasons they run for political office.\\n\\n\\n“One reason is that the community wants someone to represent their new homes and second is that Somalis inspire one another to doing something. If one of them does something good, others are encouraged that they can do the same,” Hassan said.\\n\\n\\nIn the Nordic region of Europe, the first Somalis arrived in the late 1980s and early 1990s. Later, as Somalia's civil war became more intense, new arrivals joined.\\n\\n\\nIn recent years, the first generation of Somali refugees has been making its mark in politics, from the local council level to the national stage.\\n\\n\\nIn Finland, Suldaan Said Ahmed has been the first Somali-born member of the Finnish parliament since 2021 and he is also the country’s special representative on peace mediation in the Horn of Africa, the northeastern region, where Somalia is located.\\n\\n\\nIn Sweden, Leila Ali Elmi, a former Somali refugee, made history in 2018 becoming the first Somali-Swedish Muslim woman elected to the Swedish parliament.\\n\\n\\nLast year, Marian Abdi Hussein became the first Somali MP in Norway’s history.\\n\\n\\nBoth women also became the first Muslims to wear hijabs in their respect houses of parliament.\\n\\n\\nIn Britain, Magid Magid, a Somali-British activist and politician who served as the mayor of Sheffield from May 2018 to May 2019, became the first Somali elected to the European Parliament.\\n\\n\\nMohamed Gure, a former member of the council of the city of Borlänge, Sweden, said there are unique things that keep Somalis together and make them successful in the politics in Europe.\\n\\n\\n“The fabric of Somalis is unique compared to the other diaspora communities. They share the same ethnicity, color, language, and religion. There are many things that keep them together that divide them back home. So, their togetherness is one reason I can attribute to their successes,” Gure said.\\n\\n\\nGure says the fear of migrants and refugees stoked by politicians has been setting a defining narrative for elections in the West.\\n\\n\\n“One other reason is the fear of a growing number of migrants and refugees in the West. As they are trying to melt into the pot, such fear created by nationalist politicians continues to set a tone for electoral victories that would have been unthinkable just a few years ago,” Gure said.\", 'summary_detail': {'type': 'text/html', 'language': None, 'base': 'https://www.voanews.com/api/zgvmqye_o_qv', 'value': \"From refugees to elected office, 14 Somali Americans have won legislative seats across the U.S. this year. Some also have been elected to city councils, school boards and the boards of parks and recreation in their respective cities. The U.S. midterm elections have proved to be historic for Somalis, with more women elected to public offices than ever before.\\n\\n\\nVOA Somali Service’s Torch Program explains how Somalis who arrived as migrants and refugees to the West have made their way into politics.\\n\\n\\nHashi Shafi, executive director of the Somali Action Alliance, a Minneapolis-based community organization in the northern U.S. state of Minnesota, says the campaign that led Somalis to shine in U.S. politics started right after 9/11 with a community-based voter registration program.\\n\\n\\n“In the beginning, Somalis were thinking about returning back to Somalia. They had their luggage ready; the artists were singing with songs giving the community a hope of immediate returning, but after 9/11, the community activists realized that such a dream was not realistic, and the Somalis needed to find a way to melt into the pot. Then, we started registering community members to encourage them to vote,” Shafi said. “Somali Americans’ rise in political power has come with its difficulties.”\\n\\n\\nTight-knit community\\n\\n\\nAbdirahman Sharif, the imam and the leader of the Dar-Al-Hijrah Mosque in Minneapolis says another reason Somalis have risen in U.S. politics is because they are a tight-knit community.\\n\\n\\n“When Somalis came to [the] U.S., they moved to a foreign country where they could not communicate with people. So, for them, being close to people from their country meant having someone to communicate with and that helped them to unite their votes, and resources for political aspirants,” Sharif said.\\n\\n\\nThe state of Minnesota has the largest Somali community in the country, mostly in the Minneapolis-St. Paul area. According to U.N. estimates from 2015, there are about 150,000 Somalis, both refugees and nonrefugees, living in the U.S.\\n\\n\\nThe first wave of Somalis came to Minnesota in early 1990s after civil war broke out in their country. Another wave of refugees followed, and the community thrived, thanks to the state's welcoming social programs. It's the biggest Somali community in North America, possibly in the world outside of East Africa.\\n\\n\\nSimilarly, job opportunities and a relatively low cost of living have drawn Somali immigrants to Columbus, Ohio. Ohio has the second largest Somali population in the United States, with an estimated 45,000 immigrants.\\n\\n\\nCommunities have grown significantly in both states. Somali-owned restaurants, mosques, clothing stores, coffee shops and other businesses have opened in several neighborhoods in Minneapolis, called Little Mogadishu, named after Somalia's capital.\\n\\n\\nLarge communities of Somalis are also concentrated in Lewiston and Portland, Maine, as well as Seattle in Washington state, and the Washington, D.C., metropolitan area.\\n\\n\\nAnalyst Abdi-Qafar Abdi Wardere says such concentrations have helped Somalis to gather their strength as a community.\\n\\n\\n“Somalis are bound together by intimate social or cultural ties that helped them to live together and concentrate [in] certain states or neighborhoods in the diaspora. About one-third of Minnesota's Somali residents came directly from refugee camps; others settled first in another state and then relocated to Minnesota. I can say they are somehow a tight-knit community,” Wardere said.\\n\\n\\nCanada and Europe\\n\\n\\nIt’s not only in the United States but Somali immigrants have also found their place in Canadian and European politics. They have gathered in big numbers in major cities to have an impact and exert influence.\\n\\n\\nIn Toronto, Canada, Somalis have made breakthroughs by winning elections and political offices. Ahmed Hussen, a lawyer and community activist born and raised in Somalia, is among the most influential Somalis in Canada. He was first elected as a member of parliament in 2015 to represent York South - Weston. He has previously served as minister of families, children and social development, and minister of immigration, refugees and citizenship. Now he is Canada’s minister of housing, diversity and inclusion.\\n\\n\\nFaisal Ahmed Hassan, who is a Somali Canadian politician, was a member of the Legislative Assembly of Ontario from 2018 until his defeat in 2022. He thinks for Somalis in the diaspora, there are two reasons they run for political office.\\n\\n\\n“One reason is that the community wants someone to represent their new homes and second is that Somalis inspire one another to doing something. If one of them does something good, others are encouraged that they can do the same,” Hassan said.\\n\\n\\nIn the Nordic region of Europe, the first Somalis arrived in the late 1980s and early 1990s. Later, as Somalia's civil war became more intense, new arrivals joined.\\n\\n\\nIn recent years, the first generation of Somali refugees has been making its mark in politics, from the local council level to the national stage.\\n\\n\\nIn Finland, Suldaan Said Ahmed has been the first Somali-born member of the Finnish parliament since 2021 and he is also the country’s special representative on peace mediation in the Horn of Africa, the northeastern region, where Somalia is located.\\n\\n\\nIn Sweden, Leila Ali Elmi, a former Somali refugee, made history in 2018 becoming the first Somali-Swedish Muslim woman elected to the Swedish parliament.\\n\\n\\nLast year, Marian Abdi Hussein became the first Somali MP in Norway’s history.\\n\\n\\nBoth women also became the first Muslims to wear hijabs in their respect houses of parliament.\\n\\n\\nIn Britain, Magid Magid, a Somali-British activist and politician who served as the mayor of Sheffield from May 2018 to May 2019, became the first Somali elected to the European Parliament.\\n\\n\\nMohamed Gure, a former member of the council of the city of Borlänge, Sweden, said there are unique things that keep Somalis together and make them successful in the politics in Europe.\\n\\n\\n“The fabric of Somalis is unique compared to the other diaspora communities. They share the same ethnicity, color, language, and religion. There are many things that keep them together that divide them back home. So, their togetherness is one reason I can attribute to their successes,” Gure said.\\n\\n\\nGure says the fear of migrants and refugees stoked by politicians has been setting a defining narrative for elections in the West.\\n\\n\\n“One other reason is the fear of a growing number of migrants and refugees in the West. As they are trying to melt into the pot, such fear created by nationalist politicians continues to set a tone for electoral victories that would have been unthinkable just a few years ago,” Gure said.\"}, 'links': [{'rel': 'alternate', 'type': 'text/html', 'href': 'https://www.voanews.com/a/the-somali-diaspora-and-its-journey-to-political-victories-in-the-west-/6851765.html'}, {'length': '0', 'type': 'image/jpeg', 'href': 'https://gdb.voanews.com/09410000-0a00-0242-9add-08dad01b884f_w800_h450.jpg', 'rel': 'enclosure'}], 'link': 'https://www.voanews.com/a/the-somali-diaspora-and-its-journey-to-political-victories-in-the-west-/6851765.html', 'id': 'https://www.voanews.com/a/the-somali-diaspora-and-its-journey-to-political-victories-in-the-west-/6851765.html', 'guidislink': False, 'published': 'Sat, 26 Nov 2022 21:04:20 -0500', 'published_parsed': time.struct_time(tm_year=2022, tm_mon=11, tm_mday=27, tm_hour=2, tm_min=4, tm_sec=20, tm_wday=6, tm_yday=331, tm_isdst=0), 'tags': [{'term': 'USA', 'scheme': None, 'label': None}, {'term': 'Africa', 'scheme': None, 'label': None}, {'term': 'US Politics', 'scheme': None, 'label': None}, {'term': 'Immigration', 'scheme': None, 'label': None}], 'authors': [{'name': 'Mohamed Olad Hassan', 'email': 'webdesk@voanews.com'}], 'author': 'webdesk@voanews.com (Mohamed Olad Hassan)', 'author_detail': {'name': 'Mohamed Olad Hassan', 'email': 'webdesk@voanews.com'}}\n",
      "\n",
      "\n",
      "{'title': 'In Pennsylvania, Afghan Refugees Celebrate First Thanksgiving', 'title_detail': {'type': 'text/plain', 'language': None, 'base': 'https://www.voanews.com/api/zgvmqye_o_qv', 'value': 'In Pennsylvania, Afghan Refugees Celebrate First Thanksgiving'}, 'summary': \"Judith Samkoff needed a bigger dinner table for Thanksgiving this year.\\n\\n\\nThe 65-year-old Harrisburg, Pennsylvania, resident helped resettle an Afghan refugee family of eight, and because this is their first holiday in the United States, Samkoff invited them to her father and sister's home for Thanksgiving.\\n\\n\\n“Because they have a larger dining room table and more dining chairs than I have,” she said, adding, “Our meal is not completely traditional in that we're vegetarians.”\\n\\n\\nIn different homes around the U.S., Jewish volunteers who helped resettle Afghans are welcoming them for their first Thanksgiving dinner on U.S. soil.\\n\\n\\nOne of Samkoff's guests is Hadia, a 24-year-old Afghan refugee whose family fled Afghanistan in November 2021.\\n\\n\\n“We got a call and they said we had to go to the airport right away,” Hadia said of her family’s escape from Kabul. Because of security and safety concerns, VOA is sharing only her first name.\\n\\n\\nIn Afghanistan, Hadia had a bachelor's degree in public administration from Balkh Province. She also volunteered to help displaced people from other countries.\\n\\n\\nWhen Kabul fell to the Taliban, her family had to quickly make plans.\\n\\n\\nThe U.S. completed its withdrawal in August 2021 and helped evacuate more than 130,000 Afghans in a chaotic few weeks after nearly 20 years of war.\\n\\n\\n“We decided to leave our country because my father had a military background,” she said.\\n\\n\\nHadia’s father served in the Afghan army and worked directly with U.S. forces.\\n\\n\\nShe did not disclose who helped her family leave Afghanistan, but they were part of a group of people who were able to go to Abu Dhabi, the capital of the United Arab Emirates.\\n\\n\\nThey lived there for four months before receiving authorization to travel to the United States in March 2022.\\n\\n\\nPennsylvania was the place the U.S. government chose for the family to rebuild their lives.\\n\\n\\n“We [didn’t] know anyone here. We [were] worr[ied],” she said, adding, “It's really hard when we [first arrived] … how can we manage, you know, it's really hard to start from zero. You left everything behind in your country. When you come here you must start from zero.”\\n\\n\\n\\n\\nThat is where Samkoff and the other volunteers come in. They help recently arrived Afghans like Hadia and her family settle in and give them the resources they need to be successful in their new homeland.\\n\\n\\nSamkoff said she became a volunteer after talking to a friend who was helping to resettle another Afghan family.\\n\\n\\n“And I said, ‘You know, sign me up. How do we do this?’” Samkoff told VOA.\\n\\n\\nGoodwill\\n\\n\\nSamkoff is one of 1,866 volunteers in the Jewish Federations of North America network, which in partnership with the Shapiro Foundation launched a $1 million refugee resettlement initiative to support local communities around the country, including the Jewish Family Service of Greater Harrisburg (JFS).\\n\\n\\nThe network has resettled 1,963 Afghans across the country and is prepared to resettle more as they arrive.\\n\\n\\nDarcy Hirsh, associate vice president public affairs at Jewish Federations of North America, said volunteers play an important role in helping refugee families resettle.\\n\\n\\n“A lot of it is really goodwill. … Our model allows each community to respond in a way that makes the most sense to them. … I've been really proud of [the] engagement we've seen in communities,” Hirsh said.\\n\\n\\nHirsh said volunteers help find apartments and homes for Afghans. They also work together to furnish the new place, help them enroll children in school, find transportation to job interviews and teach them English.\\n\\n\\n“The support services we have at the agencies will help any Afghan that walks through the doors, but we're working very closely in coalition with many of the resettlement agencies … to pass the Afghan Adjustment Act that would not only help adjust status but provide an easier pathway for those that are remaining in Afghanistan,” she said.\\n\\n\\nThe Afghan Adjustment Act is bipartisan legislation that would allow eligible Afghans to apply for lawful permanent residence in the United States. It was introduced in both chambers of Congress in August.\\n\\n\\n\\n\\n“So we're hoping that bill will be attached to legislation that passes Congress by December,” Hirsh said.\\n\\n\\n\\nFirst Thanksgiving\\n\\n\\nAt the table, the family and friends had Tofurky, a plant-based, meat substitute made from tofu.\\n\\n\\nHadia said she tried to explain to her mother what the national holiday day means to the United States.\\n\\n\\n“It's like they meet [and] appreciate people with thanks. ... So it's really good. In our culture [it’s] also like that. We don't have any specific date to say thanks but we say thanks [to] everyone,” she said.\\n\\n\\nHadia said she looks forward to the future and hopes to one day work as a diplomat helping other refugees to find safety as she has. In Harrisburg, she is working as a social service worker and is volunteering to assist other refugee families.\\n\\n\\nShe told VOA her family is still adjusting to the new country.\\n\\n\\n“The United States is very busy. … Everyone is busy here. … [But] we have lots of opportunities here. During the morning I can work and during the evening I can take my classes,” she said.\\n\\n\\nSamkoff said helping Hadia’s family is a blessing and makes her feel “really good.”\\n\\n\\n“I don’t have any grandchildren of my own. I feel like if anybody asks me if I have any grandchildren, I would say, ‘Yes, I have seven. One of them is in Germany. I haven’t met him in person yet, but he’s coming,” Samkoff told VOA. That is Hadia’s brother, who is waiting to resettle in the U.S.\\n\\n\\n“My family is always excited when Judith [Samkoff] invites us [to come over] or other volunteers. You know, when we came here, we didn't have any family. Now they’re my family. I call Judith my grandmother,” Hadia said.\", 'summary_detail': {'type': 'text/html', 'language': None, 'base': 'https://www.voanews.com/api/zgvmqye_o_qv', 'value': \"Judith Samkoff needed a bigger dinner table for Thanksgiving this year.\\n\\n\\nThe 65-year-old Harrisburg, Pennsylvania, resident helped resettle an Afghan refugee family of eight, and because this is their first holiday in the United States, Samkoff invited them to her father and sister's home for Thanksgiving.\\n\\n\\n“Because they have a larger dining room table and more dining chairs than I have,” she said, adding, “Our meal is not completely traditional in that we're vegetarians.”\\n\\n\\nIn different homes around the U.S., Jewish volunteers who helped resettle Afghans are welcoming them for their first Thanksgiving dinner on U.S. soil.\\n\\n\\nOne of Samkoff's guests is Hadia, a 24-year-old Afghan refugee whose family fled Afghanistan in November 2021.\\n\\n\\n“We got a call and they said we had to go to the airport right away,” Hadia said of her family’s escape from Kabul. Because of security and safety concerns, VOA is sharing only her first name.\\n\\n\\nIn Afghanistan, Hadia had a bachelor's degree in public administration from Balkh Province. She also volunteered to help displaced people from other countries.\\n\\n\\nWhen Kabul fell to the Taliban, her family had to quickly make plans.\\n\\n\\nThe U.S. completed its withdrawal in August 2021 and helped evacuate more than 130,000 Afghans in a chaotic few weeks after nearly 20 years of war.\\n\\n\\n“We decided to leave our country because my father had a military background,” she said.\\n\\n\\nHadia’s father served in the Afghan army and worked directly with U.S. forces.\\n\\n\\nShe did not disclose who helped her family leave Afghanistan, but they were part of a group of people who were able to go to Abu Dhabi, the capital of the United Arab Emirates.\\n\\n\\nThey lived there for four months before receiving authorization to travel to the United States in March 2022.\\n\\n\\nPennsylvania was the place the U.S. government chose for the family to rebuild their lives.\\n\\n\\n“We [didn’t] know anyone here. We [were] worr[ied],” she said, adding, “It's really hard when we [first arrived] … how can we manage, you know, it's really hard to start from zero. You left everything behind in your country. When you come here you must start from zero.”\\n\\n\\n\\n\\nThat is where Samkoff and the other volunteers come in. They help recently arrived Afghans like Hadia and her family settle in and give them the resources they need to be successful in their new homeland.\\n\\n\\nSamkoff said she became a volunteer after talking to a friend who was helping to resettle another Afghan family.\\n\\n\\n“And I said, ‘You know, sign me up. How do we do this?’” Samkoff told VOA.\\n\\n\\nGoodwill\\n\\n\\nSamkoff is one of 1,866 volunteers in the Jewish Federations of North America network, which in partnership with the Shapiro Foundation launched a $1 million refugee resettlement initiative to support local communities around the country, including the Jewish Family Service of Greater Harrisburg (JFS).\\n\\n\\nThe network has resettled 1,963 Afghans across the country and is prepared to resettle more as they arrive.\\n\\n\\nDarcy Hirsh, associate vice president public affairs at Jewish Federations of North America, said volunteers play an important role in helping refugee families resettle.\\n\\n\\n“A lot of it is really goodwill. … Our model allows each community to respond in a way that makes the most sense to them. … I've been really proud of [the] engagement we've seen in communities,” Hirsh said.\\n\\n\\nHirsh said volunteers help find apartments and homes for Afghans. They also work together to furnish the new place, help them enroll children in school, find transportation to job interviews and teach them English.\\n\\n\\n“The support services we have at the agencies will help any Afghan that walks through the doors, but we're working very closely in coalition with many of the resettlement agencies … to pass the Afghan Adjustment Act that would not only help adjust status but provide an easier pathway for those that are remaining in Afghanistan,” she said.\\n\\n\\nThe Afghan Adjustment Act is bipartisan legislation that would allow eligible Afghans to apply for lawful permanent residence in the United States. It was introduced in both chambers of Congress in August.\\n\\n\\n\\n\\n“So we're hoping that bill will be attached to legislation that passes Congress by December,” Hirsh said.\\n\\n\\n\\nFirst Thanksgiving\\n\\n\\nAt the table, the family and friends had Tofurky, a plant-based, meat substitute made from tofu.\\n\\n\\nHadia said she tried to explain to her mother what the national holiday day means to the United States.\\n\\n\\n“It's like they meet [and] appreciate people with thanks. ... So it's really good. In our culture [it’s] also like that. We don't have any specific date to say thanks but we say thanks [to] everyone,” she said.\\n\\n\\nHadia said she looks forward to the future and hopes to one day work as a diplomat helping other refugees to find safety as she has. In Harrisburg, she is working as a social service worker and is volunteering to assist other refugee families.\\n\\n\\nShe told VOA her family is still adjusting to the new country.\\n\\n\\n“The United States is very busy. … Everyone is busy here. … [But] we have lots of opportunities here. During the morning I can work and during the evening I can take my classes,” she said.\\n\\n\\nSamkoff said helping Hadia’s family is a blessing and makes her feel “really good.”\\n\\n\\n“I don’t have any grandchildren of my own. I feel like if anybody asks me if I have any grandchildren, I would say, ‘Yes, I have seven. One of them is in Germany. I haven’t met him in person yet, but he’s coming,” Samkoff told VOA. That is Hadia’s brother, who is waiting to resettle in the U.S.\\n\\n\\n“My family is always excited when Judith [Samkoff] invites us [to come over] or other volunteers. You know, when we came here, we didn't have any family. Now they’re my family. I call Judith my grandmother,” Hadia said.\"}, 'links': [{'rel': 'alternate', 'type': 'text/html', 'href': 'https://www.voanews.com/a/in-pennsylvania-afghan-refugees-celebrate-first-thanksgiving/6848961.html'}, {'length': '0', 'type': 'image/png', 'href': 'https://gdb.voanews.com/03370000-0aff-0242-72d4-08dace63898c_cx0_cy16_cw0_w800_h450.png', 'rel': 'enclosure'}], 'link': 'https://www.voanews.com/a/in-pennsylvania-afghan-refugees-celebrate-first-thanksgiving/6848961.html', 'id': 'https://www.voanews.com/a/in-pennsylvania-afghan-refugees-celebrate-first-thanksgiving/6848961.html', 'guidislink': False, 'published': 'Thu, 24 Nov 2022 15:21:11 -0500', 'published_parsed': time.struct_time(tm_year=2022, tm_mon=11, tm_mday=24, tm_hour=20, tm_min=21, tm_sec=11, tm_wday=3, tm_yday=328, tm_isdst=0), 'tags': [{'term': 'Immigration', 'scheme': None, 'label': None}, {'term': 'USA', 'scheme': None, 'label': None}, {'term': 'South & Central Asia', 'scheme': None, 'label': None}], 'authors': [{'name': 'Aline Barros', 'email': 'webdesk@voanews.com'}], 'author': 'webdesk@voanews.com (Aline Barros)', 'author_detail': {'name': 'Aline Barros', 'email': 'webdesk@voanews.com'}}\n",
      "\n",
      "\n"
     ]
    }
   ],
   "source": [
    "for entry in feed['entries']:\n",
    "    print (entry)\n",
    "    print (\"\\n\")"
   ]
  },
  {
   "cell_type": "markdown",
   "id": "140dac73",
   "metadata": {},
   "source": [
    "As we can see, each entry in the list is a dictionary again, which has different key-value pairs like **title**, **summary**, **link**, etc. We can again use the **keys()** method in order to explore the keys of the new dictionary: "
   ]
  },
  {
   "cell_type": "code",
   "execution_count": 7,
   "id": "e2c40680",
   "metadata": {
    "scrolled": true
   },
   "outputs": [
    {
     "data": {
      "text/plain": [
       "dict_keys(['title', 'title_detail', 'summary', 'summary_detail', 'links', 'link', 'id', 'guidislink', 'published', 'published_parsed', 'tags', 'authors', 'author', 'author_detail'])"
      ]
     },
     "execution_count": 7,
     "metadata": {},
     "output_type": "execute_result"
    }
   ],
   "source": [
    "feed['entries'][0].keys()"
   ]
  },
  {
   "cell_type": "markdown",
   "id": "105af85d",
   "metadata": {},
   "source": [
    "Now that we have all the keys associated with the entries, we can extract the specific information like title, author, and actual contents of the feed.\n",
    "Though this might not be the same for all RSS feeds, it might be very similar and a matter of using the right keyword for the associated keys in the list of dictionaries.\n",
    "\n",
    "Let's say, we want to print out the titles of all the entries in the feed. We can do that by iterating over the entries list and fetching the title from the iterator:"
   ]
  },
  {
   "cell_type": "code",
   "execution_count": 8,
   "id": "ac8a49ee",
   "metadata": {},
   "outputs": [
    {
     "name": "stdout",
     "output_type": "stream",
     "text": [
      "United Nations Marks International Migrants Day\n",
      "State of Emergency Declared in US Border City\n",
      "India's Visa Temples Attract Devotees Aspiring to Go Abroad\n",
      "Overwhelmed by Influx, Mexican Mayor Urges Migrants to Go Elsewhere\n",
      "VOA Immigration Weekly Recap, December 11–17\n",
      "Migrant Caravan Arriving at US Southern Border\n",
      "End of Title 42 Looming, US Immigration Agency Releases Detailed Assessment\n",
      "US Revives Refugee-, Migrant-Support Task Force\n",
      "VOA Immigration Weekly Recap, Dec. 4–10\n",
      "Ethiopians in US Can Apply for Temporary Protected Status Soon\n",
      "US Supreme Court to Consider Prohibition on Encouraging Illegal Immigration\n",
      "US Appeals Ruling That Would Lift Asylum Restrictions\n",
      "US Expands Deportation Relief to About 264,000 Haitians\n",
      "VOA Immigration Weekly Recap, Nov. 27–Dec. 3\n",
      "Biden Weighs Reviving Trump-era Immigration Restrictions, Officials Say\n",
      "Supreme Court Wrestles with Biden's Deportation Policy\n",
      "US Supreme Court to Hear Immigration Policy Case\n",
      "VOA Immigration Weekly Recap, Nov. 20–26\n",
      "The Somali Diaspora and its Journey to Political Victories in the West\n",
      "In Pennsylvania, Afghan Refugees Celebrate First Thanksgiving\n"
     ]
    }
   ],
   "source": [
    "for entry in feed.entries:\n",
    "    print (entry.title)"
   ]
  },
  {
   "cell_type": "markdown",
   "id": "334eb28e",
   "metadata": {},
   "source": [
    "Similarly, we can get the links or the summaries of the entries using the link key in the dictionary:"
   ]
  },
  {
   "cell_type": "code",
   "execution_count": 9,
   "id": "66fedfe6",
   "metadata": {
    "scrolled": false
   },
   "outputs": [
    {
     "name": "stdout",
     "output_type": "stream",
     "text": [
      "https://www.voanews.com/a/united-nations-marks-international-migrants-day-/6881380.html\n",
      "https://www.voanews.com/a/state-of-emergency-declared-in-us-border-city-/6881337.html\n",
      "https://www.voanews.com/a/india-s-visa-temples-attract-devotees-aspiring-to-go-abroad-/6881207.html\n",
      "https://www.voanews.com/a/overwhelmed-by-influx-mexican-mayor-urges-migrants-to-go-elsewhere-/6880454.html\n",
      "https://www.voanews.com/a/voa-immigration-weekly-recap-december-11-17-/6880049.html\n",
      "https://www.voanews.com/a/migrant-caravan-arriving-at-us-southern-border-/6878434.html\n",
      "https://www.voanews.com/a/end-of-title-42-looming-us-immigration-agency-releases-detailed-assessment-/6878218.html\n",
      "https://www.voanews.com/a/us-revives-refugee--migrant-support-task-force/6873414.html\n",
      "https://www.voanews.com/a/voa-immigration-weekly-recap-dec-4-10/6871316.html\n",
      "https://www.voanews.com/a/ethiopians-in-us-can-apply-for-temporary-protected-status-soon-/6871299.html\n",
      "https://www.voanews.com/a/us-supreme-court-to-consider-prohibition-on-encouraging-illegal-immigration-/6870418.html\n",
      "https://www.voanews.com/a/us-appeals-ruling-that-would-lift-asylum-restrictions/6867287.html\n",
      "https://www.voanews.com/a/us-expands-deportation-relief-to-about-264-000-haitians/6863961.html\n",
      "https://www.voanews.com/a/voa-immigration-weekly-recap-nov-27-dec-3/6861494.html\n",
      "https://www.voanews.com/a/biden-weighs-reviving-trump-era-immigration-restrictions-officials-say-/6860121.html\n",
      "https://www.voanews.com/a/supreme-court-wrestles-with-biden-s-deportation-policy-/6855367.html\n",
      "https://www.voanews.com/a/us-supreme-court-to-hear-immigration-policy-case/6854300.html\n",
      "https://www.voanews.com/a/voa-immigration-weekly-recap-nov-20-26-/6851766.html\n",
      "https://www.voanews.com/a/the-somali-diaspora-and-its-journey-to-political-victories-in-the-west-/6851765.html\n",
      "https://www.voanews.com/a/in-pennsylvania-afghan-refugees-celebrate-first-thanksgiving/6848961.html\n"
     ]
    }
   ],
   "source": [
    "for entry in feed.entries:\n",
    "    print (entry.link)\n",
    "    \n",
    "# for entry in feed.entries:\n",
    "#     print (entry.summary)"
   ]
  },
  {
   "cell_type": "code",
   "execution_count": 10,
   "id": "b5f0ca46",
   "metadata": {},
   "outputs": [],
   "source": [
    "from IPython.display import HTML"
   ]
  },
  {
   "cell_type": "markdown",
   "id": "d09370b8",
   "metadata": {},
   "source": [
    "### 4.1.2. HTML for Web Scraping\n",
    "\n",
    "<img src='images/html.png' style='height: 90px; float: right; margin-left: 50px' >\n",
    "\n",
    "The **HyperText Markup Language** or **HTML** is the standard markup language for documents designed to be \n",
    "displayed in a web browser. It can be assisted by technologies such as Cascading Style Sheets (CSS) and scripting languages such as JavaScript. While the main content of the web pages are in the form of HTML, CSS add styling to the pages to make them look nicer and JavaScript files add interactivity to them.\n",
    "\n",
    "\n",
    "HTML code consists of a series of **elements**, and these elements tell the browser how to display the content. For collecting data from HTML web pages, it's necessary to have an idea of how this element syntax works.\n",
    "\n",
    "#### TML Element Syntax [<a href='#destination2'>4</a>] <a id='destination2_'></a>\n",
    "\n",
    "HTML language can be applied to pieces of text to give them different meanings in a document (Is it a paragraph? Is it a bulleted list? Is it part of a table?), structure a document into logical sections (Does it have a header? Three columns of content? A navigation menu?), and embed content such as images and videos into a page. In this section we will introduce the first two of these, together with the fundamental concepts and syntax you need to know to understand HTML.\n",
    "\n",
    "To get started, we will begin with defining elements, attributes, and some other important terms. We will also explain where these fit into HTML. You will learn how HTML elements are structured, how a typical HTML page is structured, and other important basic language features.\n",
    "\n",
    "As already mentioned, HTML is a markup language that tells web browsers how to structure the web pages you visit. It can be as complicated or as simple as the web developer wants it to be. HTML consists of a series of elements, which you use to enclose, wrap, or mark up different parts of content to make it appear or act in a certain way. The enclosing tags can make content into a hyperlink to connect to another page, italicize words, and so on. For example, consider the following line of text:\n",
    "\n",
    "`My cat is very grumpy`\n",
    "\n",
    "If we wanted the text to stand by itself, we could specify that it is a paragraph by enclosing it in a paragraph (`<p>`) element:\n",
    "\n",
    "`<p>My cat is very grumpy</p>`\n",
    "\n",
    "<font color='darkblue'>**Note**: Tags in HTML are not case-sensitive, but it's better to write all of them in lower case for the sake of consistency and readability.\n",
    "</font>\n",
    "\n",
    "####  Anatomy of an HTML element\n",
    "\n",
    "Let's further explore our paragraph element mentioned above:\n",
    "\n",
    "<img src='images/html4.png' width=\"500\" height=\"400\" align=\"center\"/>\n",
    "\n",
    "The anatomy of our element is:\n",
    "\n",
    "- **The opening tag**: This consists of the name of the element (in this example, p for paragraph), wrapped in opening and closing angle brackets. This opening tag marks where the element begins or starts to take effect. In this example, it precedes the start of the paragraph text.\n",
    "\n",
    "\n",
    "- **The content**: This is the content of the element. In this example, it is the paragraph text.\n",
    "\n",
    "\n",
    "- **The closing tag**: This is the same as the opening tag, except that it includes a forward slash before the element name. This marks where the element ends. Failing to include a closing tag is a common beginner error that can produce peculiar results.\n",
    "\n",
    "So, *the element* is the opening tag, followed by content, followed by the closing tag.\n",
    "\n",
    "**Create your first HTML element:**  Edit the `html` string below (it contains an HTML code) and get the actual rendered HTML output from `HTML()`. You can wrap the text of your choice with the tags `<em>` and `</em>`. Doing this should give the line italic text formatting."
   ]
  },
  {
   "cell_type": "code",
   "execution_count": 11,
   "id": "596764a0",
   "metadata": {},
   "outputs": [
    {
     "data": {
      "text/html": [
       "<em>This is my text.</em>"
      ],
      "text/plain": [
       "<IPython.core.display.HTML object>"
      ]
     },
     "execution_count": 11,
     "metadata": {},
     "output_type": "execute_result"
    }
   ],
   "source": [
    "html = \"<em>This is my text.</em>\"\n",
    "HTML(html)"
   ]
  },
  {
   "cell_type": "markdown",
   "id": "54a452d1",
   "metadata": {},
   "source": [
    "#### Nesting elements\n",
    "\n",
    "Elements can be placed within other elements. This is called *nesting*. If we wanted to state that our cat is **very** grumpy, we could wrap the word \"very\" in a `<strong>` element, which means that the word is to have strong(er) text formatting:\n",
    "\n",
    "`<p>My cat is <strong>very</strong> grumpy.</p>`\n",
    "\n",
    "There is a right and wrong way to do nesting. In the example above, we opened the `p` element first, then opened the `strong` element. For proper nesting, we should close the `strong` element first, before closing the `p`.\n",
    "The following is an example of the *wrong* way to do nesting:\n",
    "\n",
    "`<p>My cat is <strong>very grumpy.</p></strong>`\n",
    "\n",
    "<u>The tags have to open and close in a way that they are inside or outside one another.</u> With the kind of overlap in the example above, the browser has to guess at your intent. This kind of guessing can lead to unexpected results.\n",
    "\n",
    "#### Block versus inline elements\n",
    "\n",
    "There are two important categories of elements to know in HTML: block-level elements and inline elements.\n",
    "\n",
    "- Block-level elements form a visible block on a page. A block-level element appears on a new line following the content that precedes it. Any content that follows a block-level element also appears on a new line. Block-level elements are usually structural elements on the page. For example, a block-level element might represent headings, paragraphs, lists, navigation menus, or footers. A block-level element wouldn't be nested inside an inline element, but it might be nested inside another block-level element.\n",
    "\n",
    "\n",
    "- Inline elements are contained within block-level elements, and surround only small parts of the document's content (not entire paragraphs or groupings of content). An inline element will not cause a new line to appear in the document. It is typically used with text, for example an `<a>` element creates a hyperlink, and elements such as `<em>` or `<strong>` create emphasis.\n",
    "\n",
    "Consider the following example:\n",
    "\n",
    "`<em>first</em><em>second</em><em>third</em>`\n",
    "\n",
    "`<p>fourth</p><p>fifth</p><p>sixth</p>`\n",
    "\n",
    "`<em>` is an inline element. As you can see below, the first three elements sit on the same line, with no space in between. On the other hand, `<p>` is a block-level element. Each p element appears on a new line, with space above and below. (The spacing is due to default CSS styling that the browser applies to paragraphs.)"
   ]
  },
  {
   "cell_type": "code",
   "execution_count": 12,
   "id": "554ec810",
   "metadata": {},
   "outputs": [
    {
     "data": {
      "text/html": [
       "<em>first</em><em>second</em><em>third</em>"
      ],
      "text/plain": [
       "<IPython.core.display.HTML object>"
      ]
     },
     "execution_count": 12,
     "metadata": {},
     "output_type": "execute_result"
    }
   ],
   "source": [
    "HTML(\"<em>first</em><em>second</em><em>third</em>\")"
   ]
  },
  {
   "cell_type": "code",
   "execution_count": 13,
   "id": "bd38d21c",
   "metadata": {},
   "outputs": [
    {
     "data": {
      "text/html": [
       "<p>fourth</p><p>fifth</p><p>sixth</p>"
      ],
      "text/plain": [
       "<IPython.core.display.HTML object>"
      ]
     },
     "execution_count": 13,
     "metadata": {},
     "output_type": "execute_result"
    }
   ],
   "source": [
    "HTML(\"<p>fourth</p><p>fifth</p><p>sixth</p>\")"
   ]
  },
  {
   "cell_type": "markdown",
   "id": "27958786",
   "metadata": {},
   "source": [
    "#### Empty elements\n",
    "\n",
    "Not all elements follow the pattern of an opening tag, content, and a closing tag. Some elements consist of a single tag, which is typically used to insert/embed something in the document. For example, the `<img>` element embeds an image file onto a page:\n",
    "\n",
    "`<img src=\"https://raw.githubusercontent.com/mdn/beginner-html-site/gh-pages/images/firefox-icon.png\">`\n",
    "\n",
    "This would output the following:"
   ]
  },
  {
   "cell_type": "code",
   "execution_count": 14,
   "id": "1b04245c",
   "metadata": {},
   "outputs": [
    {
     "data": {
      "text/html": [
       "<img src=\"https://raw.githubusercontent.com/mdn/beginner-html-site/gh-pages/images/firefox-icon.png\">"
      ],
      "text/plain": [
       "<IPython.core.display.HTML object>"
      ]
     },
     "execution_count": 14,
     "metadata": {},
     "output_type": "execute_result"
    }
   ],
   "source": [
    "HTML('<img src=\"https://raw.githubusercontent.com/mdn/beginner-html-site/gh-pages/images/firefox-icon.png\">')"
   ]
  },
  {
   "cell_type": "markdown",
   "id": "8e23fd2f",
   "metadata": {},
   "source": [
    "#### Attributes\n",
    "\n",
    "Elements can also have attributes. Attributes look like this:\n",
    "\n",
    "<img src='images/html5.png' width=\"800\" height=\"400\" align=\"center\"/>\n",
    "\n",
    "Attributes contain extra information about the element that won't appear in the content. In this example, the `class` attribute is an identifying name used to target the element with style information.\n",
    "\n",
    "An attribute should have:\n",
    "\n",
    "- A space between it and the element name. (For an element with more than one attribute, the attributes should be separated by spaces too.)\n",
    "- The attribute name, followed by an equal sign.\n",
    "- An attribute value, wrapped with opening and closing quote marks.\n",
    "\n",
    "**Adding attributes to an element**: Another example of an element is `<a>`. This stands for *anchor*. An anchor can make the text it encloses into a hyperlink. Anchors can take a number of attributes, but several are as follows:\n",
    "\n",
    "- `href`: This attribute's value specifies the web address for the link. For example: `href=\"https://www.mozilla.org/\"`\n",
    "- `title`: The `title` attribute specifies extra information about the link, such as a description of the page that is being linked to. For example, `title=\"The Mozilla homepage\"`. This appears as a tooltip when a cursor hovers over the element.\n",
    "- `target`: The `target` attribute specifies the browsing context used to display the link. For example, `target=\"_blank\"` will display the link in a new tab. If you want to display the linked content in the current tab, just omit this attribute.\n",
    "\n",
    "You can edit the `html` string below to turn it into a link to your favorite website:"
   ]
  },
  {
   "cell_type": "code",
   "execution_count": 15,
   "id": "fa22ad75",
   "metadata": {},
   "outputs": [
    {
     "data": {
      "text/html": [
       "<p>A link to my <a href=\"https://www.mozilla.org/\" title=\"The Mozilla homepage\" target=\"_blank\">favorite website</a>.</p>"
      ],
      "text/plain": [
       "<IPython.core.display.HTML object>"
      ]
     },
     "execution_count": 15,
     "metadata": {},
     "output_type": "execute_result"
    }
   ],
   "source": [
    "html = '<p>A link to my <a href=\"https://www.mozilla.org/\" title=\"The Mozilla homepage\" target=\"_blank\">favorite website</a>.</p>'\n",
    "HTML(html)"
   ]
  },
  {
   "cell_type": "markdown",
   "id": "430d6efa",
   "metadata": {},
   "source": [
    "#### Anatomy of an HTML document\n",
    "\n",
    "Individual HTML elements aren't very useful on their own. Next, let's examine how individual elements combine to form an entire HTML page:\n",
    "\n",
    "```\n",
    "<!DOCTYPE html>\n",
    "<html lang=\"en-US\">\n",
    "  <head>\n",
    "    <meta charset=\"utf-8\">\n",
    "    <title>My test page</title>\n",
    "  </head>\n",
    "  <body>\n",
    "    <p>This is my page</p>\n",
    "  </body>\n",
    "</html>\n",
    "```\n",
    "\n",
    "Here we have:\n",
    "\n",
    "1. `<!DOCTYPE html>`: The doctype. When HTML was young (1991-1992), doctypes were meant to act as links to a set of rules that the HTML page had to follow to be considered good HTML. More recently, the doctype is a historical artifact that needs to be included for everything else to work right. `<!DOCTYPE html>` is the shortest string of characters that counts as a valid doctype. That is all you need to know!\n",
    "\n",
    "\n",
    "2. `<html></html>`: The `<html>` element. This element wraps all the content on the page. It is sometimes known as the root element.\n",
    "\n",
    "\n",
    "3. `<head></head>`: The `<head>` element. This element acts as a container for everything you want to include on the HTML page, **that isn't the content** the page will show to viewers. This includes keywords and a page description that would appear in search results, CSS to style content, character set declarations, and more. You will learn more about this in the next article of the series.\n",
    "\n",
    "\n",
    "4. `<meta charset=\"utf-8\">`: The `<meta>` element. This element represents metadata that cannot be represented by other HTML meta-related elements, like `<base>`, `<link>`, `<script>`, `<style>` or `<title>`. The charset attributes sets the character set for your document to UTF-8, which includes most characters from the vast majority of human written languages. With this setting, the page can now handle any textual content it might contain. There is no reason not to set this, and it can help avoid some problems later.\n",
    "\n",
    "\n",
    "5. `<title></title>`: The `<title>` element. This sets the title of the page, which is the title that appears in the browser tab the page is loaded in. The page title is also used to describe the page when it is bookmarked.\n",
    "\n",
    "\n",
    "6. `<body></body>`: The `<body>` element. This contains all the content that displays on the page, including text, images, videos, games, playable audio tracks, or whatever else.\n",
    "\n",
    "Later in this notebook, you will get to explore HTML codes in more details."
   ]
  },
  {
   "cell_type": "markdown",
   "id": "b6b11b87",
   "metadata": {},
   "source": [
    "#### HTML Tree Structure [<a href='#destination3'>5</a>] <a id='destination3_'></a>\n",
    " \n",
    "Each HTML document can actually be referred to as a document tree. We describe the elements in the tree like we would describe a family tree. There are ancestors, descendants, parents, children and siblings.\n",
    "\n",
    "Use the sample HTML document below for the following examples. The `<head>` section of the document is omitted for brevity.\n",
    "\n",
    "```\n",
    "<body>\n",
    "\n",
    "  <div id=\"content\">\n",
    "    <h1>Heading here</h1>\n",
    "    <p>Lorem ipsum dolor sit amet.</p>\n",
    "    <p>Lorem ipsum dolor <em>sit</em> amet.</p>\n",
    "    <hr>\n",
    "  </div>\n",
    "  \n",
    "  <div id=\"nav\">\n",
    "    <ul>\n",
    "      <li>item 1</li>\n",
    "      <li>item 2</li>\n",
    "      <li>item 3</li>\n",
    "    </ul>\n",
    "  </div>\n",
    "\n",
    "</body>\n",
    "```\n",
    "\n",
    "A diagram of the above HTML document tree would look like this:\n",
    "\n",
    "<img src='images/tree1.gif' width=\"435\" height=\"400\" align=\"center\"/>\n",
    "\n",
    "##### Ancestor\n",
    "\n",
    "An ancestor refers to any element that is connected but further up the document tree - no matter how many levels higher.\n",
    "\n",
    "In the diagram below, the `<body>` element is the ancestor of all other elements on the page.\n",
    "\n",
    "<img src='images/tree_ancestor.gif' width=\"435\" height=\"400\" align=\"center\"/>\n",
    "\n",
    "##### Descendant\n",
    "\n",
    "A descendant refers to any element that is connected but lower down the document tree - no matter how many levels lower.\n",
    "In the diagram below, all elements that are connected below the `<div>` element are descendants of that `<div>`.\n",
    "\n",
    "<img src='images/tree_descendant.gif' width=\"435\" height=\"400\" align=\"center\"/>\n",
    "\n",
    "##### Parent and Child\n",
    "\n",
    "A parent is an element that is directly above and connected to an element in the document tree. In the diagram below, the `<div>` is a parent to the `<ul>`.\n",
    "\n",
    "A child is an element that is directly below and connected to an element in the document tree. In the diagram above, the `<ul>` is a child to the `<div>`.\n",
    "\n",
    "<img src='images/tree_parent.gif' width=\"435\" height=\"400\" align=\"center\"/>\n",
    "\n",
    "##### Sibling\n",
    "\n",
    "A sibling is an element that shares the same parent with another element.\n",
    "\n",
    "In the diagram below, the `<li>`s are siblings as they all share the same parent - the `<ul>`.\n",
    "\n",
    "<img src='images/tree_siblings.gif' width=\"435\" height=\"400\" align=\"center\"/>"
   ]
  },
  {
   "cell_type": "markdown",
   "id": "526fc121",
   "metadata": {},
   "source": [
    "## 4.2. Beautiful Soup\n",
    "<img src='images/bs.png' style='height: 150px; float: right; margin-left: 0px' >\n",
    "\n",
    "Beautiful Soup is a library that makes it easy to scrape information from web pages. It sits atop an HTML or XML parser, providing pythonic idioms for iterating, searching, and modifying the parse tree.\n",
    "\n",
    "\n",
    "Now that you have an idea of how HTML webpages are structured, we can start working with Beautiful Soup. We will go through some of the most important methods of it, and then you will get to write your first scraping project.\n",
    "\n",
    "\n",
    "\n",
    "If you don't have the package installed on your system, do it using `pip`, and then import it:"
   ]
  },
  {
   "cell_type": "code",
   "execution_count": 16,
   "id": "96b69e5e",
   "metadata": {},
   "outputs": [],
   "source": [
    "from bs4 import BeautifulSoup"
   ]
  },
  {
   "cell_type": "markdown",
   "id": "8b1cf9bf",
   "metadata": {},
   "source": [
    "### 4.2.1. Basics [<a href='#destination4'>6, 7</a>] <a id='destination4_'></a>\n",
    "\n",
    "We will begin with an example page at http://dataquestio.github.io/web-scraping-pages/ids_and_classes.html.\n",
    "\n",
    "The HTML source code of the page is stored in the `content` string as follows:"
   ]
  },
  {
   "cell_type": "code",
   "execution_count": 17,
   "id": "7c71a4c1",
   "metadata": {},
   "outputs": [],
   "source": [
    "content = \"\"\"<html>\n",
    "<head>\n",
    "<title>A simple example page</title>\n",
    "</head>\n",
    "<body>\n",
    "<div>\n",
    "<p class=\"inner-text first-item\" id=\"first\">\n",
    "                First paragraph.\n",
    "            </p>\n",
    "<p class=\"inner-text\">\n",
    "                Second paragraph.\n",
    "            </p>\n",
    "</div>\n",
    "<p class=\"outer-text first-item\" id=\"second\">\n",
    "<b>\n",
    "                First outer paragraph.\n",
    "            </b>\n",
    "</p>\n",
    "<p class=\"outer-text\">\n",
    "<b>\n",
    "                Second outer paragraph.\n",
    "            </b>\n",
    "</p>\n",
    "</body>\n",
    "</html>\"\"\""
   ]
  },
  {
   "cell_type": "code",
   "execution_count": 18,
   "id": "fd0168fd",
   "metadata": {},
   "outputs": [
    {
     "data": {
      "text/html": [
       "<html>\n",
       "<head>\n",
       "<title>A simple example page</title>\n",
       "</head>\n",
       "<body>\n",
       "<div>\n",
       "<p class=\"inner-text first-item\" id=\"first\">\n",
       "                First paragraph.\n",
       "            </p>\n",
       "<p class=\"inner-text\">\n",
       "                Second paragraph.\n",
       "            </p>\n",
       "</div>\n",
       "<p class=\"outer-text first-item\" id=\"second\">\n",
       "<b>\n",
       "                First outer paragraph.\n",
       "            </b>\n",
       "</p>\n",
       "<p class=\"outer-text\">\n",
       "<b>\n",
       "                Second outer paragraph.\n",
       "            </b>\n",
       "</p>\n",
       "</body>\n",
       "</html>"
      ],
      "text/plain": [
       "<IPython.core.display.HTML object>"
      ]
     },
     "execution_count": 18,
     "metadata": {},
     "output_type": "execute_result"
    }
   ],
   "source": [
    "HTML (content)"
   ]
  },
  {
   "cell_type": "markdown",
   "id": "6f585526",
   "metadata": {},
   "source": [
    "#### requests \n",
    "\n",
    "You can get the same content by fetching the page through `requests`. It is a simple and useful HTTP library:"
   ]
  },
  {
   "cell_type": "code",
   "execution_count": 19,
   "id": "d149d768",
   "metadata": {},
   "outputs": [],
   "source": [
    "import requests\n",
    "\n",
    "page = requests.get(\"http://dataquestio.github.io/web-scraping-pages/ids_and_classes.html\")\n",
    "content = page.content"
   ]
  },
  {
   "cell_type": "markdown",
   "id": "053f5fff",
   "metadata": {},
   "source": [
    "By printing `page`, you can check to see if fetching the contents has been successful. The status code of \"200\" means you are good to go:"
   ]
  },
  {
   "cell_type": "code",
   "execution_count": 20,
   "id": "79f09151",
   "metadata": {},
   "outputs": [
    {
     "name": "stdout",
     "output_type": "stream",
     "text": [
      "<Response [200]>\n"
     ]
    }
   ],
   "source": [
    "print(page)\n",
    "# print(page.status_code)"
   ]
  },
  {
   "cell_type": "markdown",
   "id": "50800ce3",
   "metadata": {},
   "source": [
    "#### html parser\n",
    "\n",
    "By using its HTML parser, Beautiful Soup transforms a complex HTML document into a tree of python objects, so we can manage working with it easier. "
   ]
  },
  {
   "cell_type": "code",
   "execution_count": 21,
   "id": "2cdffe52",
   "metadata": {},
   "outputs": [],
   "source": [
    "soup = BeautifulSoup(content, 'html.parser')"
   ]
  },
  {
   "cell_type": "code",
   "execution_count": 22,
   "id": "9ff2709e",
   "metadata": {},
   "outputs": [
    {
     "data": {
      "text/plain": [
       "<html>\n",
       "<head>\n",
       "<title>A simple example page</title>\n",
       "</head>\n",
       "<body>\n",
       "<div>\n",
       "<p class=\"inner-text first-item\" id=\"first\">\n",
       "                First paragraph.\n",
       "            </p>\n",
       "<p class=\"inner-text\">\n",
       "                Second paragraph.\n",
       "            </p>\n",
       "</div>\n",
       "<p class=\"outer-text first-item\" id=\"second\">\n",
       "<b>\n",
       "                First outer paragraph.\n",
       "            </b>\n",
       "</p>\n",
       "<p class=\"outer-text\">\n",
       "<b>\n",
       "                Second outer paragraph.\n",
       "            </b>\n",
       "</p>\n",
       "</body>\n",
       "</html>"
      ]
     },
     "execution_count": 22,
     "metadata": {},
     "output_type": "execute_result"
    }
   ],
   "source": [
    "soup"
   ]
  },
  {
   "cell_type": "markdown",
   "id": "364711e0",
   "metadata": {},
   "source": [
    "Using `soup.pretiffy()`, we can have a better tree overview of the code:"
   ]
  },
  {
   "cell_type": "code",
   "execution_count": 23,
   "id": "23a675de",
   "metadata": {
    "scrolled": false
   },
   "outputs": [
    {
     "name": "stdout",
     "output_type": "stream",
     "text": [
      "<html>\n",
      " <head>\n",
      "  <title>\n",
      "   A simple example page\n",
      "  </title>\n",
      " </head>\n",
      " <body>\n",
      "  <div>\n",
      "   <p class=\"inner-text first-item\" id=\"first\">\n",
      "    First paragraph.\n",
      "   </p>\n",
      "   <p class=\"inner-text\">\n",
      "    Second paragraph.\n",
      "   </p>\n",
      "  </div>\n",
      "  <p class=\"outer-text first-item\" id=\"second\">\n",
      "   <b>\n",
      "    First outer paragraph.\n",
      "   </b>\n",
      "  </p>\n",
      "  <p class=\"outer-text\">\n",
      "   <b>\n",
      "    Second outer paragraph.\n",
      "   </b>\n",
      "  </p>\n",
      " </body>\n",
      "</html>\n"
     ]
    }
   ],
   "source": [
    "print (soup.prettify())"
   ]
  },
  {
   "cell_type": "markdown",
   "id": "434bde9f",
   "metadata": {},
   "source": [
    "Each tag can now be viewed as an object. We can also access all children objects of a tag using dots:"
   ]
  },
  {
   "cell_type": "code",
   "execution_count": 24,
   "id": "b2bfe331",
   "metadata": {
    "scrolled": false
   },
   "outputs": [
    {
     "data": {
      "text/plain": [
       "['\\n',\n",
       " <div>\n",
       " <p class=\"inner-text first-item\" id=\"first\">\n",
       "                 First paragraph.\n",
       "             </p>\n",
       " <p class=\"inner-text\">\n",
       "                 Second paragraph.\n",
       "             </p>\n",
       " </div>,\n",
       " '\\n',\n",
       " <p class=\"outer-text first-item\" id=\"second\">\n",
       " <b>\n",
       "                 First outer paragraph.\n",
       "             </b>\n",
       " </p>,\n",
       " '\\n',\n",
       " <p class=\"outer-text\">\n",
       " <b>\n",
       "                 Second outer paragraph.\n",
       "             </b>\n",
       " </p>,\n",
       " '\\n']"
      ]
     },
     "execution_count": 24,
     "metadata": {},
     "output_type": "execute_result"
    }
   ],
   "source": [
    "list(soup.html.body.children)"
   ]
  },
  {
   "cell_type": "markdown",
   "id": "78b4868f",
   "metadata": {},
   "source": [
    "#### find() & find_all()\n",
    "\n",
    "Two  of the most important methods of Beautiful Soup are its `find` and `find_all()` methods.\n",
    "\n",
    "`find()` method finds the first occurence of a certain tag matching the given criteria. Its first argument is the tag name, so if we pass `p` as a string to it, it will return the first occurence of the `p` tag:"
   ]
  },
  {
   "cell_type": "code",
   "execution_count": 25,
   "id": "99b99e09",
   "metadata": {},
   "outputs": [
    {
     "data": {
      "text/plain": [
       "<p class=\"inner-text first-item\" id=\"first\">\n",
       "                First paragraph.\n",
       "            </p>"
      ]
     },
     "execution_count": 25,
     "metadata": {},
     "output_type": "execute_result"
    }
   ],
   "source": [
    "soup.find('p')"
   ]
  },
  {
   "cell_type": "markdown",
   "id": "120c87b7",
   "metadata": {},
   "source": [
    "As you can see, the output is the same as when we use a dot for accessing the `p` tag:"
   ]
  },
  {
   "cell_type": "code",
   "execution_count": 26,
   "id": "a55e8f15",
   "metadata": {
    "scrolled": true
   },
   "outputs": [
    {
     "data": {
      "text/plain": [
       "<p class=\"inner-text first-item\" id=\"first\">\n",
       "                First paragraph.\n",
       "            </p>"
      ]
     },
     "execution_count": 26,
     "metadata": {},
     "output_type": "execute_result"
    }
   ],
   "source": [
    "soup.p"
   ]
  },
  {
   "cell_type": "markdown",
   "id": "aaebdce1",
   "metadata": {},
   "source": [
    "With the `find_all()` method, we can get a list of all of the occurences of a certain tag matching the given criteria. Again, if we pass the \"p\" string to it, it will return all the occurences of the `p` tag:"
   ]
  },
  {
   "cell_type": "code",
   "execution_count": 27,
   "id": "e10d0f8c",
   "metadata": {
    "scrolled": false
   },
   "outputs": [
    {
     "data": {
      "text/plain": [
       "[<p class=\"inner-text first-item\" id=\"first\">\n",
       "                 First paragraph.\n",
       "             </p>,\n",
       " <p class=\"inner-text\">\n",
       "                 Second paragraph.\n",
       "             </p>,\n",
       " <p class=\"outer-text first-item\" id=\"second\">\n",
       " <b>\n",
       "                 First outer paragraph.\n",
       "             </b>\n",
       " </p>,\n",
       " <p class=\"outer-text\">\n",
       " <b>\n",
       "                 Second outer paragraph.\n",
       "             </b>\n",
       " </p>]"
      ]
     },
     "execution_count": 27,
     "metadata": {},
     "output_type": "execute_result"
    }
   ],
   "source": [
    "soup.find_all('p')"
   ]
  },
  {
   "cell_type": "code",
   "execution_count": 28,
   "id": "929d4a68",
   "metadata": {
    "scrolled": true
   },
   "outputs": [
    {
     "data": {
      "text/plain": [
       "4"
      ]
     },
     "execution_count": 28,
     "metadata": {},
     "output_type": "execute_result"
    }
   ],
   "source": [
    "len(soup.find_all('p'))"
   ]
  },
  {
   "cell_type": "code",
   "execution_count": 29,
   "id": "2e147bc6",
   "metadata": {},
   "outputs": [
    {
     "data": {
      "text/plain": [
       "<p class=\"inner-text first-item\" id=\"first\">\n",
       "                First paragraph.\n",
       "            </p>"
      ]
     },
     "execution_count": 29,
     "metadata": {},
     "output_type": "execute_result"
    }
   ],
   "source": [
    "soup.find_all('p')[0]"
   ]
  },
  {
   "cell_type": "markdown",
   "id": "552891f0",
   "metadata": {},
   "source": [
    "We can also specify attribute values and pass them to the method. The following line of code returns the list of all the `p` tags whose values for the `class` attribute is `\"outer-text\"`."
   ]
  },
  {
   "cell_type": "code",
   "execution_count": 30,
   "id": "7488c8d1",
   "metadata": {
    "scrolled": true
   },
   "outputs": [
    {
     "data": {
      "text/plain": [
       "[<p class=\"outer-text first-item\" id=\"second\">\n",
       " <b>\n",
       "                 First outer paragraph.\n",
       "             </b>\n",
       " </p>,\n",
       " <p class=\"outer-text\">\n",
       " <b>\n",
       "                 Second outer paragraph.\n",
       "             </b>\n",
       " </p>]"
      ]
     },
     "execution_count": 30,
     "metadata": {},
     "output_type": "execute_result"
    }
   ],
   "source": [
    "soup.find_all('p', {'class': \"outer-text\"})"
   ]
  },
  {
   "cell_type": "markdown",
   "id": "a9037c67",
   "metadata": {},
   "source": [
    "This one returns the list of all tags whose `id` attributes equal `\"first\"`:"
   ]
  },
  {
   "cell_type": "code",
   "execution_count": 31,
   "id": "4ac01b56",
   "metadata": {
    "scrolled": true
   },
   "outputs": [
    {
     "data": {
      "text/plain": [
       "[<p class=\"inner-text first-item\" id=\"first\">\n",
       "                 First paragraph.\n",
       "             </p>]"
      ]
     },
     "execution_count": 31,
     "metadata": {},
     "output_type": "execute_result"
    }
   ],
   "source": [
    "soup.find_all(id=\"first\")"
   ]
  },
  {
   "cell_type": "markdown",
   "id": "27e5483d",
   "metadata": {},
   "source": [
    "#### select()\n",
    "\n",
    "Beautiful Soup has a `select()` method which uses the [SoupSieve](https://facelessuser.github.io/soupsieve/) package to run a CSS selector against a parsed document and return all the matching elements.\n",
    "\n",
    "The SoupSieve documentation lists all the currently supported CSS selectors, but here are some of the basics;\n",
    "\n",
    "You can find tags:"
   ]
  },
  {
   "cell_type": "code",
   "execution_count": 32,
   "id": "cddc3fa8",
   "metadata": {},
   "outputs": [
    {
     "data": {
      "text/plain": [
       "[<p class=\"inner-text first-item\" id=\"first\">\n",
       "                 First paragraph.\n",
       "             </p>,\n",
       " <p class=\"inner-text\">\n",
       "                 Second paragraph.\n",
       "             </p>,\n",
       " <p class=\"outer-text first-item\" id=\"second\">\n",
       " <b>\n",
       "                 First outer paragraph.\n",
       "             </b>\n",
       " </p>,\n",
       " <p class=\"outer-text\">\n",
       " <b>\n",
       "                 Second outer paragraph.\n",
       "             </b>\n",
       " </p>]"
      ]
     },
     "execution_count": 32,
     "metadata": {},
     "output_type": "execute_result"
    }
   ],
   "source": [
    "soup.select(\"p\")"
   ]
  },
  {
   "cell_type": "markdown",
   "id": "9d7b8925",
   "metadata": {},
   "source": [
    "You can find tags beneath other tags:"
   ]
  },
  {
   "cell_type": "code",
   "execution_count": 33,
   "id": "a7590441",
   "metadata": {},
   "outputs": [
    {
     "data": {
      "text/plain": [
       "[<p class=\"inner-text first-item\" id=\"first\">\n",
       "                 First paragraph.\n",
       "             </p>,\n",
       " <p class=\"inner-text\">\n",
       "                 Second paragraph.\n",
       "             </p>]"
      ]
     },
     "execution_count": 33,
     "metadata": {},
     "output_type": "execute_result"
    }
   ],
   "source": [
    "soup.select(\"div p\")"
   ]
  },
  {
   "cell_type": "markdown",
   "id": "839f8b7f",
   "metadata": {},
   "source": [
    "You can find tags with specific classes:"
   ]
  },
  {
   "cell_type": "code",
   "execution_count": 34,
   "id": "012c9da4",
   "metadata": {
    "scrolled": false
   },
   "outputs": [
    {
     "data": {
      "text/plain": [
       "[<p class=\"inner-text first-item\" id=\"first\">\n",
       "                 First paragraph.\n",
       "             </p>,\n",
       " <p class=\"outer-text first-item\" id=\"second\">\n",
       " <b>\n",
       "                 First outer paragraph.\n",
       "             </b>\n",
       " </p>]"
      ]
     },
     "execution_count": 34,
     "metadata": {},
     "output_type": "execute_result"
    }
   ],
   "source": [
    "soup.select(\"p.first-item\")"
   ]
  },
  {
   "cell_type": "markdown",
   "id": "1351d88e",
   "metadata": {},
   "source": [
    "You can find tags by id:"
   ]
  },
  {
   "cell_type": "code",
   "execution_count": 35,
   "id": "23cfe757",
   "metadata": {},
   "outputs": [
    {
     "data": {
      "text/plain": [
       "[<p class=\"outer-text first-item\" id=\"second\">\n",
       " <b>\n",
       "                 First outer paragraph.\n",
       "             </b>\n",
       " </p>]"
      ]
     },
     "execution_count": 35,
     "metadata": {},
     "output_type": "execute_result"
    }
   ],
   "source": [
    "soup.select(\"#second\")"
   ]
  },
  {
   "cell_type": "code",
   "execution_count": 36,
   "id": "c981b8ff",
   "metadata": {},
   "outputs": [
    {
     "data": {
      "text/plain": [
       "[<p class=\"outer-text first-item\" id=\"second\">\n",
       " <b>\n",
       "                 First outer paragraph.\n",
       "             </b>\n",
       " </p>]"
      ]
     },
     "execution_count": 36,
     "metadata": {},
     "output_type": "execute_result"
    }
   ],
   "source": [
    "soup.select(\"p#second\")"
   ]
  },
  {
   "cell_type": "markdown",
   "id": "d251f31f",
   "metadata": {},
   "source": [
    "And you can also find tags by a combination of the above-mentioned criteria:"
   ]
  },
  {
   "cell_type": "code",
   "execution_count": 37,
   "id": "2a46b664",
   "metadata": {
    "scrolled": true
   },
   "outputs": [
    {
     "data": {
      "text/plain": [
       "[<p class=\"inner-text first-item\" id=\"first\">\n",
       "                 First paragraph.\n",
       "             </p>]"
      ]
     },
     "execution_count": 37,
     "metadata": {},
     "output_type": "execute_result"
    }
   ],
   "source": [
    "soup.select(\"div p.first-item#first\")"
   ]
  },
  {
   "cell_type": "markdown",
   "id": "6e129a42",
   "metadata": {},
   "source": [
    "#### get_text()\n",
    "\n",
    "If you only want the human-readable text inside a document or tag, you can use the get_text() method. It returns all the text in a document or beneath a tag, as a single Unicode string:"
   ]
  },
  {
   "cell_type": "code",
   "execution_count": 38,
   "id": "d7cda836",
   "metadata": {
    "scrolled": true
   },
   "outputs": [
    {
     "data": {
      "text/plain": [
       "'\\n\\nA simple example page\\n\\n\\n\\n\\n                First paragraph.\\n            \\n\\n                Second paragraph.\\n            \\n\\n\\n\\n                First outer paragraph.\\n            \\n\\n\\n\\n                Second outer paragraph.\\n            \\n\\n\\n'"
      ]
     },
     "execution_count": 38,
     "metadata": {},
     "output_type": "execute_result"
    }
   ],
   "source": [
    "soup.get_text()"
   ]
  },
  {
   "cell_type": "markdown",
   "id": "07354c5d",
   "metadata": {},
   "source": [
    "You can tell Beautiful Soup to strip whitespace from the beginning and end of each bit of text:"
   ]
  },
  {
   "cell_type": "code",
   "execution_count": 39,
   "id": "a99ff3e8",
   "metadata": {},
   "outputs": [
    {
     "data": {
      "text/plain": [
       "'A simple example pageFirst paragraph.Second paragraph.First outer paragraph.Second outer paragraph.'"
      ]
     },
     "execution_count": 39,
     "metadata": {},
     "output_type": "execute_result"
    }
   ],
   "source": [
    "soup.get_text(strip = True)"
   ]
  },
  {
   "cell_type": "markdown",
   "id": "f2de00d2",
   "metadata": {},
   "source": [
    "You can also specify a string to be used to join the bits of text together:"
   ]
  },
  {
   "cell_type": "code",
   "execution_count": 40,
   "id": "549f42af",
   "metadata": {},
   "outputs": [
    {
     "data": {
      "text/plain": [
       "'A simple example page|First paragraph.|Second paragraph.|First outer paragraph.|Second outer paragraph.'"
      ]
     },
     "execution_count": 40,
     "metadata": {},
     "output_type": "execute_result"
    }
   ],
   "source": [
    "soup.get_text(\"|\", strip=True)"
   ]
  },
  {
   "cell_type": "markdown",
   "id": "53b3c5c6",
   "metadata": {},
   "source": [
    "But at that point you might want to use the `stripped_strings` generator instead, and process the text yourself:"
   ]
  },
  {
   "cell_type": "code",
   "execution_count": 41,
   "id": "dbdfa59c",
   "metadata": {
    "scrolled": true
   },
   "outputs": [
    {
     "data": {
      "text/plain": [
       "['A simple example page',\n",
       " 'First paragraph.',\n",
       " 'Second paragraph.',\n",
       " 'First outer paragraph.',\n",
       " 'Second outer paragraph.']"
      ]
     },
     "execution_count": 41,
     "metadata": {},
     "output_type": "execute_result"
    }
   ],
   "source": [
    "[text for text in soup.stripped_strings]"
   ]
  },
  {
   "cell_type": "markdown",
   "id": "5f68c312",
   "metadata": {},
   "source": [
    "### 4.2.2. Example: Scraping data from Aljazeera [<a href='#destination5'>8</a>] <a id='destination5_'></a>\n",
    "\n",
    "<img src='images/aljazeera.png' style='height: 150px; float: right; margin-left: 50px' >\n",
    "\n",
    "Now that you are familiar with the basics of Beautiful Soup, we can do a more practical scraping project. We will collect some news data from [aljazeera.com](https://www.aljazeera.com), and you will get to examine what you have learnt so far.\n",
    "\n",
    "To have a better idea of what exactly we are going to do, open the website, use the search bar and search \"Turkey\". In the new page, sort the retrieved news articles by date. As you can see, the 10 most recent news articles related to Turkey are now displayed. We are going to scrape and store them in a pandas dataframe.\n",
    "\n",
    "First, we need to make sure we have all the necessary packages available:"
   ]
  },
  {
   "cell_type": "code",
   "execution_count": 42,
   "id": "d1db3c13",
   "metadata": {},
   "outputs": [],
   "source": [
    "# import these libraries if you have not done so\n",
    "import os\n",
    "import requests\n",
    "from bs4 import BeautifulSoup\n",
    "import pandas as pd"
   ]
  },
  {
   "cell_type": "markdown",
   "id": "0e5a3fa7",
   "metadata": {},
   "source": [
    "We make an *html* directory and an *articles.html* file for downloads:"
   ]
  },
  {
   "cell_type": "code",
   "execution_count": 43,
   "id": "4ac4f7bf",
   "metadata": {},
   "outputs": [],
   "source": [
    "# create directory if it doesn't exist yet:\n",
    "directory = \"html\"\n",
    "if not os.path.exists(directory):\n",
    "    os.makedirs(directory)\n",
    "    \n",
    "filename = directory + \"/articles.html\""
   ]
  },
  {
   "cell_type": "markdown",
   "id": "3f4184c6",
   "metadata": {},
   "source": [
    "Then we construct the right URL from `path` and `searchterm`:"
   ]
  },
  {
   "cell_type": "code",
   "execution_count": 44,
   "id": "0d0bbf97",
   "metadata": {},
   "outputs": [],
   "source": [
    "path = \"https://www.aljazeera.com/search/\"\n",
    "searchterm = \"Turkey\"\n",
    "parameters = \"?sort=date\"\n",
    "url = path + searchterm + parameters "
   ]
  },
  {
   "cell_type": "markdown",
   "id": "8f8a65bf",
   "metadata": {},
   "source": [
    "The resulting URL is the same as that of the page you explored at the first stage. Now we fetch it using `requests`:"
   ]
  },
  {
   "cell_type": "code",
   "execution_count": 45,
   "id": "d745cf3d",
   "metadata": {},
   "outputs": [],
   "source": [
    "page = requests.get(url)  "
   ]
  },
  {
   "cell_type": "markdown",
   "id": "5e63b40d",
   "metadata": {},
   "source": [
    "We check to see if we get the right status code (200), then we save the contents of the page in *articles.html*:"
   ]
  },
  {
   "cell_type": "code",
   "execution_count": 46,
   "id": "c8acf8c0",
   "metadata": {},
   "outputs": [],
   "source": [
    "if page.status_code == 200:\n",
    "    with open(filename, 'wb') as file:\n",
    "        file.write(page.content)"
   ]
  },
  {
   "cell_type": "markdown",
   "id": "546cc00a",
   "metadata": {},
   "source": [
    "Then we parse the webpage with Beautiful Soup:"
   ]
  },
  {
   "cell_type": "code",
   "execution_count": 47,
   "id": "3989cd89",
   "metadata": {},
   "outputs": [],
   "source": [
    "soup = BeautifulSoup(open(filename, encoding=\"utf-8\"),'lxml')"
   ]
  },
  {
   "cell_type": "markdown",
   "id": "cef9807c",
   "metadata": {},
   "source": [
    "Now that we have the page parsed, we need to select the right elements of it to extract our desired information from. In the simple webpage that we investigated in the Beautiful Soup Basics section, it was easy to pick the right elements to investigate from the few lines of code. In real HTML web pages it's a bit different.\n",
    "\n",
    "In order to find the right elemets, right-click somewhere on the page and click on *inspect*. Then press Ctrl+Shift+C. Now you should be able to inspect the page and see the HTML code for each part of the page you hover the mouse. Equivalently, by hovering the mouse on certain lines of HTML code you can see what that code actually creates on the page.\n",
    "\n",
    "On Google Chrome it would look like this:"
   ]
  },
  {
   "cell_type": "code",
   "execution_count": 48,
   "id": "5c581548",
   "metadata": {},
   "outputs": [
    {
     "data": {
      "text/plain": [
       "'https://www.aljazeera.com/search/Turkey?sort=date'"
      ]
     },
     "execution_count": 48,
     "metadata": {},
     "output_type": "execute_result"
    }
   ],
   "source": [
    "url"
   ]
  },
  {
   "cell_type": "markdown",
   "id": "4ada2f2a",
   "metadata": {},
   "source": [
    "<img src='images/inspect.png' style='height: 550px; float: right; margin-left: 50px' >"
   ]
  },
  {
   "cell_type": "markdown",
   "id": "9ffdd488",
   "metadata": {},
   "source": [
    "It turns out that the elements that we would like to work on are the ones with the `article` tags. We'll select them:"
   ]
  },
  {
   "cell_type": "code",
   "execution_count": 49,
   "id": "5ca690fe",
   "metadata": {},
   "outputs": [],
   "source": [
    "articles = soup.select('article')"
   ]
  },
  {
   "cell_type": "markdown",
   "id": "1527828c",
   "metadata": {},
   "source": [
    "Next, we will scrape different information from the articles. We do that by putting every article's title, text and URL in a corresponding dictionary, and will add all the dictionaries to the `results` list:"
   ]
  },
  {
   "cell_type": "code",
   "execution_count": 50,
   "id": "c4c96262",
   "metadata": {},
   "outputs": [],
   "source": [
    "# Initialize empty list for results\n",
    "results = []\n",
    "\n",
    "for article in articles: \n",
    "    \n",
    "    # Initialize empty dictionary\n",
    "    # Extract title, text and URL of articles \n",
    "    item = {}\n",
    "    item['title'] = article.select_one('span').text.strip()\n",
    "    item['text'] = article.select_one('p').text.strip()    \n",
    "    item['url'] = article.select_one('a').get('href')\n",
    "    # You can also get the URLs with article.select_one('a')['href']\n",
    "    \n",
    "    # Append items to result-list\n",
    "    results.append(item)"
   ]
  },
  {
   "cell_type": "markdown",
   "id": "76ebddb4",
   "metadata": {},
   "source": [
    "At last, we convert the results list to a dataframe:"
   ]
  },
  {
   "cell_type": "code",
   "execution_count": 51,
   "id": "657e7f2a",
   "metadata": {
    "scrolled": true
   },
   "outputs": [
    {
     "data": {
      "text/html": [
       "<div>\n",
       "<style scoped>\n",
       "    .dataframe tbody tr th:only-of-type {\n",
       "        vertical-align: middle;\n",
       "    }\n",
       "\n",
       "    .dataframe tbody tr th {\n",
       "        vertical-align: top;\n",
       "    }\n",
       "\n",
       "    .dataframe thead th {\n",
       "        text-align: right;\n",
       "    }\n",
       "</style>\n",
       "<table border=\"1\" class=\"dataframe\">\n",
       "  <thead>\n",
       "    <tr style=\"text-align: right;\">\n",
       "      <th></th>\n",
       "      <th>title</th>\n",
       "      <th>text</th>\n",
       "      <th>url</th>\n",
       "    </tr>\n",
       "  </thead>\n",
       "  <tbody>\n",
       "    <tr>\n",
       "      <th>0</th>\n",
       "      <td>Econ­o­my | To­day's lat­est from Al Jazeera</td>\n",
       "      <td>10 hours ago ... A Chi­na East­ern Air­lines a...</td>\n",
       "      <td>https://www.aljazeera.com/economy/</td>\n",
       "    </tr>\n",
       "    <tr>\n",
       "      <th>1</th>\n",
       "      <td>Break­ing News, World News and Video from Al J...</td>\n",
       "      <td>10 hours ago ... News, analy­sis from the Mid­...</td>\n",
       "      <td>https://www.aljazeera.com/</td>\n",
       "    </tr>\n",
       "    <tr>\n",
       "      <th>2</th>\n",
       "      <td>Türkiye emerges as a leader of the zero-waste ...</td>\n",
       "      <td>19 hours ago ... What is next for Turkey af­te...</td>\n",
       "      <td>https://www.aljazeera.com/opinions/2022/12/18/290</td>\n",
       "    </tr>\n",
       "    <tr>\n",
       "      <th>3</th>\n",
       "      <td>Mid­dle East News | To­day's lat­est from Al J...</td>\n",
       "      <td>1 day ago ... Po­lice of­fi­cers died dur­ing ...</td>\n",
       "      <td>https://www.aljazeera.com/middle-east/</td>\n",
       "    </tr>\n",
       "    <tr>\n",
       "      <th>4</th>\n",
       "      <td>Eu­rope News | To­day's lat­est from Al Jazeera</td>\n",
       "      <td>1 day ago ... Stay on top of Eu­rope lat­est d...</td>\n",
       "      <td>https://www.aljazeera.com/europe/</td>\n",
       "    </tr>\n",
       "    <tr>\n",
       "      <th>5</th>\n",
       "      <td>Nine Iraqi po­lice­men killed in blast near no...</td>\n",
       "      <td>14 hours ago ... Why is Turkey car­ry­ing out ...</td>\n",
       "      <td>https://www.aljazeera.com/news/2022/12/18/at-l...</td>\n",
       "    </tr>\n",
       "    <tr>\n",
       "      <th>6</th>\n",
       "      <td>Turkey's courts to fix any er­rors af­ter Imam...</td>\n",
       "      <td>2 days ago ... Turk­ish Pres­i­dent Re­cep Tay...</td>\n",
       "      <td>https://www.aljazeera.com/news/2022/12/17/no-f...</td>\n",
       "    </tr>\n",
       "    <tr>\n",
       "      <th>7</th>\n",
       "      <td>Iran | To­day's lat­est from Al Jazeera</td>\n",
       "      <td>2 days ago ... Fa­mous Iran­ian ac­tress ar­re...</td>\n",
       "      <td>https://www.aljazeera.com/where/iran/</td>\n",
       "    </tr>\n",
       "    <tr>\n",
       "      <th>8</th>\n",
       "      <td>Turkey | To­day's lat­est from Al Jazeera</td>\n",
       "      <td>2 days ago ... Stay on top of Turkey lat­est d...</td>\n",
       "      <td>https://www.aljazeera.com/where/turkey/</td>\n",
       "    </tr>\n",
       "    <tr>\n",
       "      <th>9</th>\n",
       "      <td>Opin­ion | To­day's lat­est from Al Jazeera</td>\n",
       "      <td>2 days ago ... The opac­i­ty of the ad tech in...</td>\n",
       "      <td>https://www.aljazeera.com/opinion/</td>\n",
       "    </tr>\n",
       "  </tbody>\n",
       "</table>\n",
       "</div>"
      ],
      "text/plain": [
       "                                               title  \\\n",
       "0       Econ­o­my | To­day's lat­est from Al Jazeera   \n",
       "1  Break­ing News, World News and Video from Al J...   \n",
       "2  Türkiye emerges as a leader of the zero-waste ...   \n",
       "3  Mid­dle East News | To­day's lat­est from Al J...   \n",
       "4    Eu­rope News | To­day's lat­est from Al Jazeera   \n",
       "5  Nine Iraqi po­lice­men killed in blast near no...   \n",
       "6  Turkey's courts to fix any er­rors af­ter Imam...   \n",
       "7            Iran | To­day's lat­est from Al Jazeera   \n",
       "8          Turkey | To­day's lat­est from Al Jazeera   \n",
       "9        Opin­ion | To­day's lat­est from Al Jazeera   \n",
       "\n",
       "                                                text  \\\n",
       "0  10 hours ago ... A Chi­na East­ern Air­lines a...   \n",
       "1  10 hours ago ... News, analy­sis from the Mid­...   \n",
       "2  19 hours ago ... What is next for Turkey af­te...   \n",
       "3  1 day ago ... Po­lice of­fi­cers died dur­ing ...   \n",
       "4  1 day ago ... Stay on top of Eu­rope lat­est d...   \n",
       "5  14 hours ago ... Why is Turkey car­ry­ing out ...   \n",
       "6  2 days ago ... Turk­ish Pres­i­dent Re­cep Tay...   \n",
       "7  2 days ago ... Fa­mous Iran­ian ac­tress ar­re...   \n",
       "8  2 days ago ... Stay on top of Turkey lat­est d...   \n",
       "9  2 days ago ... The opac­i­ty of the ad tech in...   \n",
       "\n",
       "                                                 url  \n",
       "0                 https://www.aljazeera.com/economy/  \n",
       "1                         https://www.aljazeera.com/  \n",
       "2  https://www.aljazeera.com/opinions/2022/12/18/290  \n",
       "3             https://www.aljazeera.com/middle-east/  \n",
       "4                  https://www.aljazeera.com/europe/  \n",
       "5  https://www.aljazeera.com/news/2022/12/18/at-l...  \n",
       "6  https://www.aljazeera.com/news/2022/12/17/no-f...  \n",
       "7              https://www.aljazeera.com/where/iran/  \n",
       "8            https://www.aljazeera.com/where/turkey/  \n",
       "9                 https://www.aljazeera.com/opinion/  "
      ]
     },
     "execution_count": 51,
     "metadata": {},
     "output_type": "execute_result"
    }
   ],
   "source": [
    "results = pd.DataFrame(results)\n",
    "results"
   ]
  },
  {
   "cell_type": "markdown",
   "id": "6a3ed131",
   "metadata": {},
   "source": [
    "<div class='alert alert-block alert-danger'>\n",
    "<b>Gizem's note:</b>\n",
    "We should write this results dataframe to csv.\"\n",
    "<div>"
   ]
  },
  {
   "cell_type": "markdown",
   "id": "266ec10d",
   "metadata": {},
   "source": [
    "### 4.2.3. Toy example: Scraping Chief Seattle Speech\n",
    "\n",
    "As another small example of working with BeautifulSoup, we will scrape the text from the Chief Seattle Speech from [this link](https://suquamish.nsn.us/home/about-us/chief-seattle-speech/). Try openning the page and see how it looks!\n",
    "\n",
    "Like before, we first get the contents of the page using `requests` and `BeautifulSoup`:"
   ]
  },
  {
   "cell_type": "code",
   "execution_count": 52,
   "id": "c6e8b349",
   "metadata": {},
   "outputs": [
    {
     "name": "stdout",
     "output_type": "stream",
     "text": [
      "<Response [200]>\n"
     ]
    }
   ],
   "source": [
    "page = requests.get(\"https://suquamish.nsn.us/home/about-us/chief-seattle-speech/\")\n",
    "print(page)\n",
    "content = page.content"
   ]
  },
  {
   "cell_type": "code",
   "execution_count": 53,
   "id": "74b4a3a5",
   "metadata": {},
   "outputs": [],
   "source": [
    "soup = BeautifulSoup(content, 'html.parser')\n",
    "# soup"
   ]
  },
  {
   "cell_type": "markdown",
   "id": "7741aabd",
   "metadata": {},
   "source": [
    "If you `inspect` the page, you will see that the main text of the whole page is structured under `section` tag. For accessing the main text all at once, you can simply use the `get_text()` method on this tag:"
   ]
  },
  {
   "cell_type": "code",
   "execution_count": 54,
   "id": "5ff36867",
   "metadata": {
    "scrolled": true
   },
   "outputs": [
    {
     "data": {
      "text/plain": [
       "'Yonder sky that has wept tears of compassion upon my people for centuries untold, and which to us appears changeless and eternal, may change. Today is fair. Tomorrow it may be overcast with clouds. My words are like the stars that never change. Whatever Seattle says, the great chief at Washington can rely upon with as much certainty as he can upon the return of the sun or the seasons. The white chief says that Big Chief at Washington sends us greetings of friendship and goodwill. This is kind of him for we know he has little need of our friendship in return. His people are many. They are like the grass that covers vast prairies. My people are few. They resemble the scattering trees of a storm-swept plain. The great, and I presume — good, White Chief sends us word that he wishes to buy our land but is willing to allow us enough to live comfortably. This indeed appears just, even generous, for the Red Man no longer has rights that he need respect, and the offer may be wise, also, as we are no longer in need of an extensive country.\\nThere was a time when our people covered the land as the waves of a wind-ruffled sea cover its shell-paved floor, but that time long since passed away with the greatness of tribes that are now but a mournful memory. I will not dwell on, nor mourn over, our untimely decay, nor reproach my paleface brothers with hastening it, as we too may have been somewhat to blame.\\nYouth is impulsive. When our young men grow angry at some real or imaginary wrong, and disfigure their faces with black paint, it denotes that their hearts are black, and that they are often cruel and relentless, and our old men and old women are unable to restrain them. Thus it has ever been. Thus it was when the white man began to push our forefathers ever westward. But let us hope that the hostilities between us may never return. We would have everything to lose and nothing to gain. Revenge by young men is considered gain, even at the cost of their own lives, but old men who stay at home in times of war, and mothers who have sons to lose, know better.\\nOur good father in Washington–for I presume he is now our father as well as yours, since King George has moved his boundaries further north–our great and good father, I say, sends us word that if we do as he desires he will protect us. His brave warriors will be to us a bristling wall of strength, and his wonderful ships of war will fill our harbors, so that our ancient enemies far to the northward — the Haidas and Tsimshians — will cease to frighten our women, children, and old men. Then in reality he will be our father and we his children. But can that ever be? Your God is not our God! Your God loves your people and hates mine! He folds his strong protecting arms lovingly about the paleface and leads him by the hand as a father leads an infant son. But, He has forsaken His Red children, if they really are His. Our God, the Great Spirit, seems also to have forsaken us. Your God makes your people wax stronger every day. Soon they will fill all the land. Our people are ebbing away like a rapidly receding tide that will never return. The white man’s God cannot love our people or He would protect them. They seem to be orphans who can look nowhere for help. How then can we be brothers? How can your God become our God and renew our prosperity and awaken in us dreams of returning greatness? If we have a common Heavenly Father He must be partial, for He came to His paleface children. We never saw Him. He gave you laws but had no word for His red children whose teeming multitudes once filled this vast continent as stars fill the firmament. No; we are two distinct races with separate origins and separate destinies. There is little in common between us.\\nTo us the ashes of our ancestors are sacred and their resting place is hallowed ground. You wander far from the graves of your ancestors and seemingly without regret. Your religion was written upon tablets of stone by the iron finger of your God so that you could not forget. The Red Man could never comprehend or remember it. Our religion is the traditions of our ancestors — the dreams of our old men, given them in solemn hours of the night by the Great Spirit; and the visions of our sachems, and is written in the hearts of our people.\\nYour dead cease to love you and the land of their nativity as soon as they pass the portals of the tomb and wander away beyond the stars. They are soon forgotten and never return. Our dead never forget this beautiful world that gave them being. They still love its verdant valleys, its murmuring rivers, its magnificent mountains, sequestered vales and verdant lined lakes and bays, and ever yearn in tender fond affection over the lonely hearted living, and often return from the happy hunting ground to visit, guide, console, and comfort them.\\nDay and night cannot dwell together. The Red Man has ever fled the approach of the White Man, as the morning mist flees before the morning sun. However, your proposition seems fair and I think that my people will accept it and will retire to the reservation you offer them. Then we will dwell apart in peace, for the words of the Great White Chief seem to be the words of nature speaking to my people out of dense darkness.\\nIt matters little where we pass the remnant of our days. They will not be many. The Indian’s night promises to be dark. Not a single star of hope hovers above his horizon. Sad-voiced winds moan in the distance. Grim fate seems to be on the Red Man’s trail, and wherever he will hear the approaching footsteps of his fell destroyer and prepare stolidly to meet his doom, as does the wounded doe that hears the approaching footsteps of the hunter.\\nA few more moons, a few more winters, and not one of the descendants of the mighty hosts that once moved over this broad land or lived in happy homes, protected by the Great Spirit, will remain to mourn over the graves of a people once more powerful and hopeful than yours. But why should I mourn at the untimely fate of my people? Tribe follows tribe, and nation follows nation, like the waves of the sea. It is the order of nature, and regret is useless. Your time of decay may be distant, but it will surely come, for even the White Man whose God walked and talked with him as friend to friend, cannot be exempt from the common destiny. We may be brothers after all. We will see.\\nWe will ponder your proposition and when we decide we will let you know. But should we accept it, I here and now make this condition that we will not be denied the privilege without molestation of visiting at any time the tombs of our ancestors, friends, and children. Every part of this soil is sacred in the estimation of my people. Every hillside, every valley, every plain and grove, has been hallowed by some sad or happy event in days long vanished. Even the rocks, which seem to be dumb and dead as the swelter in the sun along the silent shore, thrill with memories of stirring events connected with the lives of my people, and the very dust upon which you now stand responds more lovingly to their footsteps than yours, because it is rich with the blood of our ancestors, and our bare feet are conscious of the sympathetic touch. Our departed braves, fond mothers, glad, happy hearted maidens, and even the little children who lived here and rejoiced here for a brief season, will love these somber solitudes and at eventide they greet shadowy returning spirits. And when the last Red Man shall have perished, and the memory of my tribe shall have become a myth among the White Men, these shores will swarm with the invisible dead of my tribe, and when your children’s children think themselves alone in the field, the store, the shop, upon the highway, or in the silence of the pathless woods, they will not be alone. In all the earth there is no place dedicated to solitude. At night when the streets of your cities and villages are silent and you think them deserted, they will throng with the returning hosts that once filled them and still love this beautiful land. The White Man will never be alone.\\nLet him be just and deal kindly with my people, for the dead are not powerless. Dead, did I say? There is no death, only a change of worlds.\\n'"
      ]
     },
     "execution_count": 54,
     "metadata": {},
     "output_type": "execute_result"
    }
   ],
   "source": [
    "soup.section.get_text()"
   ]
  },
  {
   "cell_type": "markdown",
   "id": "2d528087",
   "metadata": {},
   "source": [
    "There are also multiple `p` tags under the `sectoin` tag, each containing a single paragraph in the page. So, for accessing a certain paragraph, what you need to do is getting the corresponding `p` tag first, and then extracting its text using `get_text()`.\n",
    "\n",
    "Let's store the contents of `section` tag in the `soup2` list first:"
   ]
  },
  {
   "cell_type": "code",
   "execution_count": 55,
   "id": "c634813d",
   "metadata": {},
   "outputs": [],
   "source": [
    "soup2 = soup.section.find_all('p')"
   ]
  },
  {
   "cell_type": "markdown",
   "id": "a6bc5739",
   "metadata": {},
   "source": [
    "As you can see, we have 9 different paragraphs in the text:"
   ]
  },
  {
   "cell_type": "code",
   "execution_count": 56,
   "id": "ff5e9082",
   "metadata": {},
   "outputs": [
    {
     "data": {
      "text/plain": [
       "9"
      ]
     },
     "execution_count": 56,
     "metadata": {},
     "output_type": "execute_result"
    }
   ],
   "source": [
    "len(soup2)"
   ]
  },
  {
   "cell_type": "markdown",
   "id": "c48e3f6e",
   "metadata": {},
   "source": [
    "Now, let's say we want to access the text of the 3rd paragraph. We can get that by using the `get_text()` method on the 3rd item of `soup2`: "
   ]
  },
  {
   "cell_type": "code",
   "execution_count": 57,
   "id": "6206ca09",
   "metadata": {},
   "outputs": [
    {
     "data": {
      "text/plain": [
       "'Our good father in Washington–for I presume he is now our father as well as yours, since King George has moved his boundaries further north–our great and good father, I say, sends us word that if we do as he desires he will protect us. His brave warriors will be to us a bristling wall of strength, and his wonderful ships of war will fill our harbors, so that our ancient enemies far to the northward — the Haidas and Tsimshians — will cease to frighten our women, children, and old men. Then in reality he will be our father and we his children. But can that ever be? Your God is not our God! Your God loves your people and hates mine! He folds his strong protecting arms lovingly about the paleface and leads him by the hand as a father leads an infant son. But, He has forsaken His Red children, if they really are His. Our God, the Great Spirit, seems also to have forsaken us. Your God makes your people wax stronger every day. Soon they will fill all the land. Our people are ebbing away like a rapidly receding tide that will never return. The white man’s God cannot love our people or He would protect them. They seem to be orphans who can look nowhere for help. How then can we be brothers? How can your God become our God and renew our prosperity and awaken in us dreams of returning greatness? If we have a common Heavenly Father He must be partial, for He came to His paleface children. We never saw Him. He gave you laws but had no word for His red children whose teeming multitudes once filled this vast continent as stars fill the firmament. No; we are two distinct races with separate origins and separate destinies. There is little in common between us.\\nTo us the ashes of our ancestors are sacred and their resting place is hallowed ground. You wander far from the graves of your ancestors and seemingly without regret. Your religion was written upon tablets of stone by the iron finger of your God so that you could not forget. The Red Man could never comprehend or remember it. Our religion is the traditions of our ancestors — the dreams of our old men, given them in solemn hours of the night by the Great Spirit; and the visions of our sachems, and is written in the hearts of our people.'"
      ]
     },
     "execution_count": 57,
     "metadata": {},
     "output_type": "execute_result"
    }
   ],
   "source": [
    "soup2[2].get_text()"
   ]
  },
  {
   "cell_type": "markdown",
   "id": "6182d3a1",
   "metadata": {},
   "source": [
    "## 4.3. Selenium \n",
    "\n",
    "<img src='images/selenium.png' style='height: 100px; float: right; margin-left: 100px' >\n",
    "\n",
    "In this section, we will show you how to use Selenium (a browser automation software) with python, to collect data from websites that only load content once you interact with (scrolling, clicking, etc.), and are difficult to obtain through more traditional scraping approaches.\n",
    "\n",
    "### Dynamic websites\n",
    "Dynamic websites change their content (i.e., source code) due to various reasons, such as:\n",
    "   - Clicking, scrolling, mouse hovering \n",
    "   - Screen sizes, languages (IP-based), devices, time of the day\n",
    "   - Previous visits (user’s browsing history)\n",
    "   - And more!\n",
    "\n",
    "Changes can occur on the client side, such as JavaScript interactions, that do not necessarily change the source code from the websites but change its appearance, such as expanding text boxes. In that case, classical scraping methods are sufficient for grabbing the entire text because the displayed truncated version of a text might already be entirely stored in the source code. \n",
    "\n",
    "However, changes can also occur on the server side, leading to changes in the website’s appearance and content (i.e., source code). For example, scrolling to the bottom of a website leads to more content being loaded. Such effects can often be observed in social media feeds (e.g., Facebook, Twitter, Quora) or online shopping platforms, enabling users to scroll endlessly. Website interactions that lead to content changes are often challenging or not obtainable through classical scraping approaches since they require a JavaScript execution initiated by user interaction. Interestingly, we can use browser automation tools, such as Selenium, to help us imitate user interactions and make data collection possible.\n",
    "\n",
    "#### Getting started\n",
    "\n",
    "The Selenium webpage contains documentation for all the programming languages, which you can find [here](https://www.selenium.dev/documentation/). However, the documentation is not as concise, and since we are using python, we can also find a separate documentation [here](https://selenium-python.readthedocs.io/).\n",
    "\n",
    "Both documentations are very handy and should be kept close when working with Selenium. When you inspect the documentation, you will recognize that besides sending specific behavioral commands to the browser, accessing web elements is very similar to other approaches, such as beautiful soup. You will need XPATH, CSS selectors, and other properties of web elements to interact with them.\n",
    "\n",
    "Next, we will showcase how you can use Selenium with Chrome to collect data from the dynamic website Quora. Before collecting data, we need to check whether we are allowed to collect data from the website. Quora states that we are permitted to employ scrapers but must adhere to the [robots.txt](https://www.quora.com/robots.txt), which specifies the allowed and disallowed contents for scraping, and that we make us known to the website so that they can contact us if they want to. We can give Quora our contact information by adding them to the user-agent, the information the browser sends to the website. *Section 4-d: Permitted uses of Quora’s terms of service* specifies the rules for scraping (see the screenshot below):\n",
    "\n",
    "<img src='images/quora.png' width=\"700\" height=\"700\" align=\"center\"/>\n"
   ]
  },
  {
   "cell_type": "markdown",
   "id": "fc61e0c3",
   "metadata": {},
   "source": [
    "#### Scraping Quora\n",
    "\n",
    "Before scraping any information, we need to create an account on Quora. We would recommend creating a new account for your scraping project. Go to www.quora.com and create a new account.\n",
    "\n",
    "After creating the account, make sure to import all the necessary libraries:"
   ]
  },
  {
   "cell_type": "code",
   "execution_count": 58,
   "id": "9825d4ec",
   "metadata": {},
   "outputs": [],
   "source": [
    "import pandas as pd # to work with data frames; you may have already imported it in this notebook\n",
    "from time import sleep # to slow down our scraper\n",
    "\n",
    "# all selenium specific packages:\n",
    "from selenium import webdriver # to load the browser\n",
    "from selenium.webdriver.common.keys import Keys # necessary to automate typings, like filling out the forms\n",
    "from selenium.webdriver.common.by import By # necessary to search for web elements\n",
    "from selenium.webdriver.chrome.options import Options # necessary to change our user agent"
   ]
  },
  {
   "cell_type": "markdown",
   "id": "2191cfe4",
   "metadata": {},
   "source": [
    "We can now start the driver (i.e., the browser), which should appear as a separate window."
   ]
  },
  {
   "cell_type": "markdown",
   "id": "ddb54bcb",
   "metadata": {},
   "source": [
    "<div class='alert alert-block alert-danger'>\n",
    "<b>Gizem's note:</b>\n",
    "Make sure that chromedriver.exe is under the same folder of this notebook before running the next line!\n",
    "<div>"
   ]
  },
  {
   "cell_type": "code",
   "execution_count": 59,
   "id": "e10e4999",
   "metadata": {},
   "outputs": [],
   "source": [
    "# starting the driver\n",
    "driver = webdriver.Chrome()"
   ]
  },
  {
   "cell_type": "markdown",
   "id": "d820d17b",
   "metadata": {},
   "source": [
    "<div class='alert alert-block alert-danger'>\n",
    "<b>Gizem's note:</b>\n",
    "We can have a screenshot of the warning page from Google Chrome: \"Chrome is being controlled by automated test software.\"\n",
    "<div>"
   ]
  },
  {
   "cell_type": "markdown",
   "id": "e266b822",
   "metadata": {},
   "source": [
    "The *driver* instance is the browser we will use to navigate the website and find web elements. \n",
    "We can now check what our user-agent for our browser is with the following code:"
   ]
  },
  {
   "cell_type": "code",
   "execution_count": 60,
   "id": "80a2f36a",
   "metadata": {},
   "outputs": [
    {
     "name": "stdout",
     "output_type": "stream",
     "text": [
      "Mozilla/5.0 (Windows NT 10.0; Win64; x64) AppleWebKit/537.36 (KHTML, like Gecko) Chrome/108.0.0.0 Safari/537.36\n"
     ]
    }
   ],
   "source": [
    "agent = driver.execute_script(\"return navigator.userAgent\")\n",
    "print(agent)"
   ]
  },
  {
   "cell_type": "markdown",
   "id": "73dd7706",
   "metadata": {},
   "source": [
    "We can change the user-agent information to make ourself identifiable, and Quora can contact us if they want. We need to initiate a new driver with the changed information. Hence, we first need to quit our current session:"
   ]
  },
  {
   "cell_type": "code",
   "execution_count": 61,
   "id": "b8ccc18d",
   "metadata": {},
   "outputs": [],
   "source": [
    "# quit current session\n",
    "driver.quit()"
   ]
  },
  {
   "cell_type": "markdown",
   "id": "83b9d59c",
   "metadata": {},
   "source": [
    "<div class='alert alert-block alert-danger'>\n",
    "<b>Gizem's note:</b>\n",
    "Again, the notification on the terminal can be shown here so that the participants don't get condfused.\n",
    "<div>"
   ]
  },
  {
   "cell_type": "code",
   "execution_count": 62,
   "id": "972aa7fc",
   "metadata": {},
   "outputs": [
    {
     "name": "stdout",
     "output_type": "stream",
     "text": [
      "Getting news feed data; contact me through: [e-mail adresse]\n"
     ]
    }
   ],
   "source": [
    "# adding our e-mail address to the user-agent\n",
    "opts = Options()\n",
    "opts.add_argument(\"user-agent=Getting news feed data; contact me through: [e-mail adresse]\")\n",
    "\n",
    "driver = webdriver.Chrome(options=opts)# initaite driver with new user-agent\n",
    "\n",
    "# lets check if we changed our user-agent\n",
    "agent = driver.execute_script(\"return navigator.userAgent\")\n",
    "print(agent)"
   ]
  },
  {
   "cell_type": "markdown",
   "id": "01247368",
   "metadata": {},
   "source": [
    "Looks good! Now we can start with our project and visit Quora."
   ]
  },
  {
   "cell_type": "code",
   "execution_count": 63,
   "id": "e414312b",
   "metadata": {},
   "outputs": [],
   "source": [
    "# url to visit\n",
    "url_search = \"https://www.quora.com/\"\n",
    "# go to url\n",
    "driver.get(url_search)\n",
    "sleep(1.5) # set sleep time for 1.5 seconds"
   ]
  },
  {
   "cell_type": "markdown",
   "id": "8e138c05",
   "metadata": {},
   "source": [
    "We will set some pauses occasionally to slow down the scraping process and give the browser some time to load the website. Next, we want to sign into the website. With Selenium, we can automate the step and fill in all the text fields. \n",
    "\n",
    "Similarly, when working with other scarping approaches, we need to find the web elements by inspecting the HTML structure of the website and locating them through their paths, class, or names. Ideally, the elements have an ID we can identify them with, as in the case of the e-mail address and password fields."
   ]
  },
  {
   "cell_type": "code",
   "execution_count": 64,
   "id": "08ed5fe6",
   "metadata": {},
   "outputs": [],
   "source": [
    "# providing log-in credentials to the website\n",
    "\n",
    "EMail_field = driver.find_element(By.XPATH, '//*[@id=\"email\"]') # Find e-mail field\n",
    "# specify your e-mail address\n",
    "my_email = \"ENTER YOUR E-MAIL ADDRESS\" \n",
    "EMail_field.send_keys(my_email) # sending the string to the e-mail field\n",
    "sleep(1.5)\n",
    "\n",
    "PW_field = driver.find_element(By.XPATH, '//*[@id=\"password\"]') # find password field\n",
    "# specify your password \n",
    "my_password = \"ENTER YOUR PASSWORD\" \n",
    "PW_field.send_keys(my_password) # sending the string to the password field\n",
    "sleep(1.5)"
   ]
  },
  {
   "cell_type": "markdown",
   "id": "6cae5a80",
   "metadata": {},
   "source": [
    "After we fill in all our information, we can find the log-in button and click on it:"
   ]
  },
  {
   "cell_type": "markdown",
   "id": "177ff066",
   "metadata": {},
   "source": [
    "<div class='alert alert-block alert-danger'>\n",
    "<b>Gizem's note:</b>\n",
    "There is another click here to say Ich bin kein Roboter?\n",
    "<div>"
   ]
  },
  {
   "cell_type": "code",
   "execution_count": 65,
   "id": "92ef6afe",
   "metadata": {},
   "outputs": [
    {
     "ename": "ElementClickInterceptedException",
     "evalue": "Message: element click intercepted: Element <button class=\"q-click-wrapper qu-active--textDecoration--none qu-focus--textDecoration--none qu-disabled qu-borderRadius--pill qu-alignItems--center qu-justifyContent--center qu-whiteSpace--nowrap qu-userSelect--none qu-display--inline-flex qu-bg--blue qu-tapHighlight--white qu-textAlign--center qu-cursor--pointer qu-hover--textDecoration--none ClickWrapper___StyledClickWrapperBox-zoqi4f-0 iyYUZT base___StyledClickWrapper-lx6eke-1 cCiFZD  \" disabled=\"\" role=\"button\" aria-disabled=\"true\" type=\"button\" tabindex=\"4\" style=\"box-sizing: border-box; font: inherit; padding: 0px 20px; transition-property: box-shadow, background-color; transition-duration: 60ms; transition-timing-function: ease-out; height: 38px; min-width: 38px; position: relative; border-width: 0px; outline: none; color: inherit;\">...</button> is not clickable at point (783, 449). Other element would receive the click: <div class=\"q-flex qu-justifyContent--space-between qu-alignItems--center\" style=\"box-sizing: border-box; display: flex;\">...</div>\n  (Session info: chrome=108.0.5359.125)\nStacktrace:\nBacktrace:\n\t(No symbol) [0x00DAF243]\n\t(No symbol) [0x00D37FD1]\n\t(No symbol) [0x00C2D04D]\n\t(No symbol) [0x00C628B9]\n\t(No symbol) [0x00C608CC]\n\t(No symbol) [0x00C5E4CB]\n\t(No symbol) [0x00C5D164]\n\t(No symbol) [0x00C532A6]\n\t(No symbol) [0x00C7858C]\n\t(No symbol) [0x00C52BFF]\n\t(No symbol) [0x00C78804]\n\t(No symbol) [0x00C8C9EB]\n\t(No symbol) [0x00C78386]\n\t(No symbol) [0x00C5163C]\n\t(No symbol) [0x00C5269D]\n\tGetHandleVerifier [0x01049A22+2655074]\n\tGetHandleVerifier [0x0103CA24+2601828]\n\tGetHandleVerifier [0x00E58C0A+619850]\n\tGetHandleVerifier [0x00E57830+614768]\n\t(No symbol) [0x00D405FC]\n\t(No symbol) [0x00D45968]\n\t(No symbol) [0x00D45A55]\n\t(No symbol) [0x00D5051B]\n\tBaseThreadInitThunk [0x75EBFA29+25]\n\tRtlGetAppContainerNamedObjectPath [0x77507A9E+286]\n\tRtlGetAppContainerNamedObjectPath [0x77507A6E+238]\n",
     "output_type": "error",
     "traceback": [
      "\u001b[1;31m---------------------------------------------------------------------------\u001b[0m",
      "\u001b[1;31mElementClickInterceptedException\u001b[0m          Traceback (most recent call last)",
      "\u001b[1;32m<ipython-input-65-76d66fd1fc1f>\u001b[0m in \u001b[0;36m<module>\u001b[1;34m\u001b[0m\n\u001b[1;32m----> 1\u001b[1;33m \u001b[0mdriver\u001b[0m\u001b[1;33m.\u001b[0m\u001b[0mfind_element\u001b[0m\u001b[1;33m(\u001b[0m\u001b[0mBy\u001b[0m\u001b[1;33m.\u001b[0m\u001b[0mCLASS_NAME\u001b[0m\u001b[1;33m,\u001b[0m \u001b[1;34m\"cCiFZD\"\u001b[0m\u001b[1;33m)\u001b[0m\u001b[1;33m.\u001b[0m\u001b[0mclick\u001b[0m\u001b[1;33m(\u001b[0m\u001b[1;33m)\u001b[0m\u001b[1;33m\u001b[0m\u001b[1;33m\u001b[0m\u001b[0m\n\u001b[0m\u001b[0;32m      2\u001b[0m \u001b[0msleep\u001b[0m\u001b[1;33m(\u001b[0m\u001b[1;36m10\u001b[0m\u001b[1;33m)\u001b[0m\u001b[1;33m\u001b[0m\u001b[1;33m\u001b[0m\u001b[0m\n",
      "\u001b[1;32m~\\Anaconda3\\lib\\site-packages\\selenium\\webdriver\\remote\\webelement.py\u001b[0m in \u001b[0;36mclick\u001b[1;34m(self)\u001b[0m\n\u001b[0;32m     79\u001b[0m     \u001b[1;32mdef\u001b[0m \u001b[0mclick\u001b[0m\u001b[1;33m(\u001b[0m\u001b[0mself\u001b[0m\u001b[1;33m)\u001b[0m \u001b[1;33m->\u001b[0m \u001b[1;32mNone\u001b[0m\u001b[1;33m:\u001b[0m\u001b[1;33m\u001b[0m\u001b[1;33m\u001b[0m\u001b[0m\n\u001b[0;32m     80\u001b[0m         \u001b[1;34m\"\"\"Clicks the element.\"\"\"\u001b[0m\u001b[1;33m\u001b[0m\u001b[1;33m\u001b[0m\u001b[0m\n\u001b[1;32m---> 81\u001b[1;33m         \u001b[0mself\u001b[0m\u001b[1;33m.\u001b[0m\u001b[0m_execute\u001b[0m\u001b[1;33m(\u001b[0m\u001b[0mCommand\u001b[0m\u001b[1;33m.\u001b[0m\u001b[0mCLICK_ELEMENT\u001b[0m\u001b[1;33m)\u001b[0m\u001b[1;33m\u001b[0m\u001b[1;33m\u001b[0m\u001b[0m\n\u001b[0m\u001b[0;32m     82\u001b[0m \u001b[1;33m\u001b[0m\u001b[0m\n\u001b[0;32m     83\u001b[0m     \u001b[1;32mdef\u001b[0m \u001b[0msubmit\u001b[0m\u001b[1;33m(\u001b[0m\u001b[0mself\u001b[0m\u001b[1;33m)\u001b[0m\u001b[1;33m:\u001b[0m\u001b[1;33m\u001b[0m\u001b[1;33m\u001b[0m\u001b[0m\n",
      "\u001b[1;32m~\\Anaconda3\\lib\\site-packages\\selenium\\webdriver\\remote\\webelement.py\u001b[0m in \u001b[0;36m_execute\u001b[1;34m(self, command, params)\u001b[0m\n\u001b[0;32m    708\u001b[0m             \u001b[0mparams\u001b[0m \u001b[1;33m=\u001b[0m \u001b[1;33m{\u001b[0m\u001b[1;33m}\u001b[0m\u001b[1;33m\u001b[0m\u001b[1;33m\u001b[0m\u001b[0m\n\u001b[0;32m    709\u001b[0m         \u001b[0mparams\u001b[0m\u001b[1;33m[\u001b[0m\u001b[1;34m'id'\u001b[0m\u001b[1;33m]\u001b[0m \u001b[1;33m=\u001b[0m \u001b[0mself\u001b[0m\u001b[1;33m.\u001b[0m\u001b[0m_id\u001b[0m\u001b[1;33m\u001b[0m\u001b[1;33m\u001b[0m\u001b[0m\n\u001b[1;32m--> 710\u001b[1;33m         \u001b[1;32mreturn\u001b[0m \u001b[0mself\u001b[0m\u001b[1;33m.\u001b[0m\u001b[0m_parent\u001b[0m\u001b[1;33m.\u001b[0m\u001b[0mexecute\u001b[0m\u001b[1;33m(\u001b[0m\u001b[0mcommand\u001b[0m\u001b[1;33m,\u001b[0m \u001b[0mparams\u001b[0m\u001b[1;33m)\u001b[0m\u001b[1;33m\u001b[0m\u001b[1;33m\u001b[0m\u001b[0m\n\u001b[0m\u001b[0;32m    711\u001b[0m \u001b[1;33m\u001b[0m\u001b[0m\n\u001b[0;32m    712\u001b[0m     \u001b[1;32mdef\u001b[0m \u001b[0mfind_element\u001b[0m\u001b[1;33m(\u001b[0m\u001b[0mself\u001b[0m\u001b[1;33m,\u001b[0m \u001b[0mby\u001b[0m\u001b[1;33m=\u001b[0m\u001b[0mBy\u001b[0m\u001b[1;33m.\u001b[0m\u001b[0mID\u001b[0m\u001b[1;33m,\u001b[0m \u001b[0mvalue\u001b[0m\u001b[1;33m=\u001b[0m\u001b[1;32mNone\u001b[0m\u001b[1;33m)\u001b[0m\u001b[1;33m:\u001b[0m\u001b[1;33m\u001b[0m\u001b[1;33m\u001b[0m\u001b[0m\n",
      "\u001b[1;32m~\\Anaconda3\\lib\\site-packages\\selenium\\webdriver\\remote\\webdriver.py\u001b[0m in \u001b[0;36mexecute\u001b[1;34m(self, driver_command, params)\u001b[0m\n\u001b[0;32m    423\u001b[0m         \u001b[0mresponse\u001b[0m \u001b[1;33m=\u001b[0m \u001b[0mself\u001b[0m\u001b[1;33m.\u001b[0m\u001b[0mcommand_executor\u001b[0m\u001b[1;33m.\u001b[0m\u001b[0mexecute\u001b[0m\u001b[1;33m(\u001b[0m\u001b[0mdriver_command\u001b[0m\u001b[1;33m,\u001b[0m \u001b[0mparams\u001b[0m\u001b[1;33m)\u001b[0m\u001b[1;33m\u001b[0m\u001b[1;33m\u001b[0m\u001b[0m\n\u001b[0;32m    424\u001b[0m         \u001b[1;32mif\u001b[0m \u001b[0mresponse\u001b[0m\u001b[1;33m:\u001b[0m\u001b[1;33m\u001b[0m\u001b[1;33m\u001b[0m\u001b[0m\n\u001b[1;32m--> 425\u001b[1;33m             \u001b[0mself\u001b[0m\u001b[1;33m.\u001b[0m\u001b[0merror_handler\u001b[0m\u001b[1;33m.\u001b[0m\u001b[0mcheck_response\u001b[0m\u001b[1;33m(\u001b[0m\u001b[0mresponse\u001b[0m\u001b[1;33m)\u001b[0m\u001b[1;33m\u001b[0m\u001b[1;33m\u001b[0m\u001b[0m\n\u001b[0m\u001b[0;32m    426\u001b[0m             response['value'] = self._unwrap_value(\n\u001b[0;32m    427\u001b[0m                 response.get('value', None))\n",
      "\u001b[1;32m~\\Anaconda3\\lib\\site-packages\\selenium\\webdriver\\remote\\errorhandler.py\u001b[0m in \u001b[0;36mcheck_response\u001b[1;34m(self, response)\u001b[0m\n\u001b[0;32m    245\u001b[0m                 \u001b[0malert_text\u001b[0m \u001b[1;33m=\u001b[0m \u001b[0mvalue\u001b[0m\u001b[1;33m[\u001b[0m\u001b[1;34m'alert'\u001b[0m\u001b[1;33m]\u001b[0m\u001b[1;33m.\u001b[0m\u001b[0mget\u001b[0m\u001b[1;33m(\u001b[0m\u001b[1;34m'text'\u001b[0m\u001b[1;33m)\u001b[0m\u001b[1;33m\u001b[0m\u001b[1;33m\u001b[0m\u001b[0m\n\u001b[0;32m    246\u001b[0m             \u001b[1;32mraise\u001b[0m \u001b[0mexception_class\u001b[0m\u001b[1;33m(\u001b[0m\u001b[0mmessage\u001b[0m\u001b[1;33m,\u001b[0m \u001b[0mscreen\u001b[0m\u001b[1;33m,\u001b[0m \u001b[0mstacktrace\u001b[0m\u001b[1;33m,\u001b[0m \u001b[0malert_text\u001b[0m\u001b[1;33m)\u001b[0m  \u001b[1;31m# type: ignore[call-arg]  # mypy is not smart enough here\u001b[0m\u001b[1;33m\u001b[0m\u001b[1;33m\u001b[0m\u001b[0m\n\u001b[1;32m--> 247\u001b[1;33m         \u001b[1;32mraise\u001b[0m \u001b[0mexception_class\u001b[0m\u001b[1;33m(\u001b[0m\u001b[0mmessage\u001b[0m\u001b[1;33m,\u001b[0m \u001b[0mscreen\u001b[0m\u001b[1;33m,\u001b[0m \u001b[0mstacktrace\u001b[0m\u001b[1;33m)\u001b[0m\u001b[1;33m\u001b[0m\u001b[1;33m\u001b[0m\u001b[0m\n\u001b[0m\u001b[0;32m    248\u001b[0m \u001b[1;33m\u001b[0m\u001b[0m\n\u001b[0;32m    249\u001b[0m     \u001b[1;32mdef\u001b[0m \u001b[0m_value_or_default\u001b[0m\u001b[1;33m(\u001b[0m\u001b[0mself\u001b[0m\u001b[1;33m,\u001b[0m \u001b[0mobj\u001b[0m\u001b[1;33m:\u001b[0m \u001b[0mMapping\u001b[0m\u001b[1;33m[\u001b[0m\u001b[0m_KT\u001b[0m\u001b[1;33m,\u001b[0m \u001b[0m_VT\u001b[0m\u001b[1;33m]\u001b[0m\u001b[1;33m,\u001b[0m \u001b[0mkey\u001b[0m\u001b[1;33m:\u001b[0m \u001b[0m_KT\u001b[0m\u001b[1;33m,\u001b[0m \u001b[0mdefault\u001b[0m\u001b[1;33m:\u001b[0m \u001b[0m_VT\u001b[0m\u001b[1;33m)\u001b[0m \u001b[1;33m->\u001b[0m \u001b[0m_VT\u001b[0m\u001b[1;33m:\u001b[0m\u001b[1;33m\u001b[0m\u001b[1;33m\u001b[0m\u001b[0m\n",
      "\u001b[1;31mElementClickInterceptedException\u001b[0m: Message: element click intercepted: Element <button class=\"q-click-wrapper qu-active--textDecoration--none qu-focus--textDecoration--none qu-disabled qu-borderRadius--pill qu-alignItems--center qu-justifyContent--center qu-whiteSpace--nowrap qu-userSelect--none qu-display--inline-flex qu-bg--blue qu-tapHighlight--white qu-textAlign--center qu-cursor--pointer qu-hover--textDecoration--none ClickWrapper___StyledClickWrapperBox-zoqi4f-0 iyYUZT base___StyledClickWrapper-lx6eke-1 cCiFZD  \" disabled=\"\" role=\"button\" aria-disabled=\"true\" type=\"button\" tabindex=\"4\" style=\"box-sizing: border-box; font: inherit; padding: 0px 20px; transition-property: box-shadow, background-color; transition-duration: 60ms; transition-timing-function: ease-out; height: 38px; min-width: 38px; position: relative; border-width: 0px; outline: none; color: inherit;\">...</button> is not clickable at point (783, 449). Other element would receive the click: <div class=\"q-flex qu-justifyContent--space-between qu-alignItems--center\" style=\"box-sizing: border-box; display: flex;\">...</div>\n  (Session info: chrome=108.0.5359.125)\nStacktrace:\nBacktrace:\n\t(No symbol) [0x00DAF243]\n\t(No symbol) [0x00D37FD1]\n\t(No symbol) [0x00C2D04D]\n\t(No symbol) [0x00C628B9]\n\t(No symbol) [0x00C608CC]\n\t(No symbol) [0x00C5E4CB]\n\t(No symbol) [0x00C5D164]\n\t(No symbol) [0x00C532A6]\n\t(No symbol) [0x00C7858C]\n\t(No symbol) [0x00C52BFF]\n\t(No symbol) [0x00C78804]\n\t(No symbol) [0x00C8C9EB]\n\t(No symbol) [0x00C78386]\n\t(No symbol) [0x00C5163C]\n\t(No symbol) [0x00C5269D]\n\tGetHandleVerifier [0x01049A22+2655074]\n\tGetHandleVerifier [0x0103CA24+2601828]\n\tGetHandleVerifier [0x00E58C0A+619850]\n\tGetHandleVerifier [0x00E57830+614768]\n\t(No symbol) [0x00D405FC]\n\t(No symbol) [0x00D45968]\n\t(No symbol) [0x00D45A55]\n\t(No symbol) [0x00D5051B]\n\tBaseThreadInitThunk [0x75EBFA29+25]\n\tRtlGetAppContainerNamedObjectPath [0x77507A9E+286]\n\tRtlGetAppContainerNamedObjectPath [0x77507A6E+238]\n"
     ]
    }
   ],
   "source": [
    "driver.find_element(By.CLASS_NAME, \"cCiFZD\").click()\n",
    "sleep(10)"
   ]
  },
  {
   "cell_type": "markdown",
   "id": "239a6929",
   "metadata": {},
   "source": [
    "After we log into our account, we can see the cookie notification. We can also interact with pop-ups and accept or reject them. Let's accept the cookies by finding the accept button and clicking on it:"
   ]
  },
  {
   "cell_type": "code",
   "execution_count": 66,
   "id": "4a180b39",
   "metadata": {},
   "outputs": [],
   "source": [
    "# accepting cookies\n",
    "driver.find_element(By.ID, \"onetrust-accept-btn-handler\").click()"
   ]
  },
  {
   "cell_type": "markdown",
   "id": "9eed8435",
   "metadata": {},
   "source": [
    "<div class='alert alert-block alert-danger'>\n",
    "<b>Gizem's note:</b>\n",
    "Let's make sure about these errors and mention them in the notebook!\n",
    "<div>"
   ]
  },
  {
   "cell_type": "markdown",
   "id": "780855c4",
   "metadata": {},
   "source": [
    "Your website might not be in English, depending on the region you are accessing Quora from.\n",
    "\n",
    "In our case, we are accessing the website from Germany. However, through the language settings at the top of the website, we can change the language to English. We also can automate that step:"
   ]
  },
  {
   "cell_type": "code",
   "execution_count": 67,
   "id": "bae26a60",
   "metadata": {},
   "outputs": [],
   "source": [
    "# click on menu\n",
    "driver.find_elements(By.CLASS_NAME, \"puppeteer_popper_reference\")[1].click()\n",
    "# click to select \"English\"\n",
    "driver.find_element(By.CSS_SELECTOR, \"div.qu-dynamicFontSize--button\").click()"
   ]
  },
  {
   "cell_type": "markdown",
   "id": "15732cb6",
   "metadata": {},
   "source": [
    "Next, we want to collect some of the information present in our news feed. We need to find the container for the entire feed to collect individual posts, answers, or questions."
   ]
  },
  {
   "cell_type": "code",
   "execution_count": 68,
   "id": "da3c8eda",
   "metadata": {},
   "outputs": [],
   "source": [
    "# access whole feed containing various forms of posts/questions/answers etc.\n",
    "NewsFeed = driver.find_element(By.CLASS_NAME, \"dom_annotate_multifeed_home\")"
   ]
  },
  {
   "cell_type": "markdown",
   "id": "16178dee",
   "metadata": {},
   "source": [
    "When we inspect the structure of the news feed, we can see that posts, questions, answers, or advertisements have different classes. Thus, we can leverage the class names to access the information we are interested in. For this guide, we only want to collect data from answered questions, which are the predominant elements in our feed.\n",
    "\n",
    "By inspecting the website, we know that one element with the class \"dom_annotate_multifeed_bundle_AnswersBundle\" contains the answers we are interested in.\n",
    "\n",
    "Let's have a look at the first answer in our feed:"
   ]
  },
  {
   "cell_type": "code",
   "execution_count": 69,
   "id": "ca83900e",
   "metadata": {},
   "outputs": [
    {
     "name": "stdout",
     "output_type": "stream",
     "text": [
      "Luise\n",
      "·\n",
      "Folgen\n",
      ".1 J\n",
      "Was wissen Besitzer von Haustieren oft nicht?\n",
      "Ich habe etwas gefunden, was mich tief bewegt hat, denn ich hätte nie gedacht, dass so viele Leute daran nicht denken. Auch Haustiere haben einen letzten Wunsch. Tierärzte, die alte und kranke Tiere einschläfern, kennen ihn. Twitter-Nutzer Jesse Dietrich hat einen Tierarzt gefragt, was der schwierigste…\n",
      "(mehr lesen)\n",
      "2.038\n",
      "117\n",
      "25\n"
     ]
    }
   ],
   "source": [
    "# find all answers\n",
    "Answers = NewsFeed.find_elements(By.CLASS_NAME, \"dom_annotate_multifeed_bundle_AnswersBundle\")\n",
    "# select first answer and print all containing texts\n",
    "answer1 = Answers[0]\n",
    "print(answer1.text)"
   ]
  },
  {
   "cell_type": "markdown",
   "id": "3e02efd3",
   "metadata": {},
   "source": [
    "The text shows that we have several different elements, which are separated by a new line (\\n).\n",
    "The first separated element seems to be the author's name. We can also spot the story title and the number of shares and comments at the end of the string.\n",
    "\n",
    "Since newline characters in the current string separate all the information, we could just split the text by \"\\n\" and deduce by the order what each text section associates to which information. However, it is likely, that some answers will contain more or less data points, making the order of split elements not generalizable. Thus, a better way to obtain each piece of information is by selecting their elements.\n",
    "\n",
    "For example, we can find the title of the answer through the class name \"qu-userSelect--text\" with the following code:"
   ]
  },
  {
   "cell_type": "code",
   "execution_count": 70,
   "id": "c5ea1677",
   "metadata": {},
   "outputs": [
    {
     "name": "stdout",
     "output_type": "stream",
     "text": [
      "the title is:  Was wissen Besitzer von Haustieren oft nicht?\n"
     ]
    }
   ],
   "source": [
    "title = answer1.find_element(By.CLASS_NAME, \"qu-userSelect--text\").text\n",
    "print(\"the title is: \", title)"
   ]
  },
  {
   "cell_type": "markdown",
   "id": "5cb7beb9",
   "metadata": {},
   "source": [
    "Similarly, we can find the number of shares or comments:"
   ]
  },
  {
   "cell_type": "code",
   "execution_count": 71,
   "id": "53726a3c",
   "metadata": {},
   "outputs": [
    {
     "name": "stdout",
     "output_type": "stream",
     "text": [
      "number of shares:  25\n",
      "number of comments:  117\n"
     ]
    }
   ],
   "source": [
    "shares = answer1.find_element(By.CLASS_NAME, \"dom_annotate_answer_action_bar_share\").text\n",
    "comments = answer1.find_element(By.CLASS_NAME, \"dom_annotate_answer_action_bar_comment\").text\n",
    "\n",
    "print(\"number of shares: \", shares)\n",
    "print(\"number of comments: \", comments)"
   ]
  },
  {
   "cell_type": "markdown",
   "id": "e5b73f95",
   "metadata": {},
   "source": [
    "The numbers of shares and comments are still a string, but we can convert them into integers when we save the data in a data frame.\n",
    "\n",
    "Since we saved all answers of our feed in one variable, we can loop over it and extract all the information we are interested in. To make this process easier, we can define a function that extracts the information from an answer element and returns a list with the information we want:"
   ]
  },
  {
   "cell_type": "code",
   "execution_count": 72,
   "id": "2502cf3c",
   "metadata": {},
   "outputs": [],
   "source": [
    "# defining the function to extract information from each answer post\n",
    "def get_post_info(PostInfo):\n",
    "    AuthorInfo = PostInfo.find_element(By.CLASS_NAME, \"qu-alignItems--flex-start\") # Container for author information \n",
    "    authorName = AuthorInfo.find_element(By.CLASS_NAME, \"qu-wordBreak--break-word\").text # author name\n",
    "    authorLink = AuthorInfo.find_element(By.TAG_NAME, \"a\").get_attribute(\"href\") # author link\n",
    "   \n",
    "    title = PostInfo.find_element(By.CLASS_NAME, \"qu-userSelect--text\").text # answer title\n",
    "    \n",
    "    StoryLinkContainer = PostInfo.find_element(By.CLASS_NAME, \"qu-mb--tiny\").find_element(By.TAG_NAME, \"a\") # container for story link \n",
    "    StoryLink = StoryLinkContainer.get_attribute(\"href\") # get story link\n",
    "    \n",
    "    upvotes = PostInfo.find_element(By.CLASS_NAME, \"dom_annotate_answer_action_bar_upvote\").text # number of upvotes\n",
    "    shares = PostInfo.find_element(By.CLASS_NAME, \"dom_annotate_answer_action_bar_share\").text # number of shares\n",
    "    comments = PostInfo.find_element(By.CLASS_NAME, \"dom_annotate_answer_action_bar_comment\").text # number of comments\n",
    "    \n",
    "    # aggregate the answer data into a list\n",
    "    post_info = [authorName, authorLink, title, StoryLink, upvotes, shares, comments]\n",
    "    return post_info"
   ]
  },
  {
   "cell_type": "markdown",
   "id": "b04affc3",
   "metadata": {},
   "source": [
    "Now, we need a loop and save the data into another list:"
   ]
  },
  {
   "cell_type": "code",
   "execution_count": 73,
   "id": "bc12fca9",
   "metadata": {},
   "outputs": [],
   "source": [
    "AnswersInfo = [] # initiate list to save data\n",
    "for post in Answers: # loop over all answers\n",
    "    AnswersInfo.append(get_post_info(post)) # add answer info to the list"
   ]
  },
  {
   "cell_type": "code",
   "execution_count": 74,
   "id": "ecc013a0",
   "metadata": {},
   "outputs": [
    {
     "data": {
      "text/plain": [
       "8"
      ]
     },
     "execution_count": 74,
     "metadata": {},
     "output_type": "execute_result"
    }
   ],
   "source": [
    "# lets have a look at the number of answers we gathered:\n",
    "len(AnswersInfo)"
   ]
  },
  {
   "cell_type": "markdown",
   "id": "31069acc",
   "metadata": {},
   "source": [
    "We collected only very few answers. Why is that?\n",
    "\n",
    "Because the website only loaded very few answers, and we need to scroll down on the website to generate more content. \n",
    "Luckily, Selenium can help us!\n",
    "\n",
    "We have several methods to imitate scrolling:\n",
    "\n",
    "   - scrolling by pixel \n",
    "   - scrolling to the bottom of the page\n",
    "\n",
    "Let's start with the first one:"
   ]
  },
  {
   "cell_type": "code",
   "execution_count": 75,
   "id": "503cdaf8",
   "metadata": {},
   "outputs": [],
   "source": [
    "# 1. scoll down incrementally\n",
    "driver.execute_script(\"window.scrollTo(0, 1000)\")\n",
    "sleep(1) \n",
    "driver.execute_script(\"window.scrollTo(0, 2000)\")\n",
    "sleep(1) \n",
    "driver.execute_script(\"window.scrollTo(0, 3000)\")\n",
    "sleep(1) \n",
    "driver.execute_script(\"window.scrollTo(0, 4000)\")\n",
    "sleep(1) \n",
    "driver.execute_script(\"window.scrollTo(0, 5000)\")\n",
    "sleep(1) \n",
    "driver.execute_script(\"window.scrollTo(0, 6000)\")\n",
    "sleep(1) \n",
    "driver.execute_script(\"window.scrollTo(0, 7000)\")\n",
    "sleep(1) \n",
    "driver.execute_script(\"window.scrollTo(0, 8000)\")\n",
    "sleep(1) \n",
    "driver.execute_script(\"window.scrollTo(0, 9000)\")\n",
    "sleep(1) \n",
    "driver.execute_script(\"window.scrollTo(0, 10000)\")\n",
    "sleep(1) "
   ]
  },
  {
   "cell_type": "markdown",
   "id": "4aa72459",
   "metadata": {},
   "source": [
    "We can also use another approach, but first, we can scroll to the top of the page:"
   ]
  },
  {
   "cell_type": "code",
   "execution_count": 76,
   "id": "8c1c2053",
   "metadata": {},
   "outputs": [],
   "source": [
    "# to the top of the page\n",
    "driver.execute_script(\"window.scrollTo(0, -document.body.scrollHeight);\")\n",
    "sleep(5)"
   ]
  },
  {
   "cell_type": "markdown",
   "id": "dc8bdfed",
   "metadata": {},
   "source": [
    "For option two, we scroll to the bottom of the page, indicated by the document height of the website. Similarly, as before, we can repeat that process to load more content:"
   ]
  },
  {
   "cell_type": "code",
   "execution_count": 77,
   "id": "44d95482",
   "metadata": {},
   "outputs": [],
   "source": [
    "# to the bottom of the page - here we give the browser a bit more time to load all the content\n",
    "driver.execute_script(\"window.scrollTo(0, document.body.scrollHeight);\")\n",
    "sleep(2)\n",
    "driver.execute_script(\"window.scrollTo(0, document.body.scrollHeight);\")\n",
    "sleep(2) \n",
    "driver.execute_script(\"window.scrollTo(0, document.body.scrollHeight);\")\n",
    "sleep(2) \n",
    "driver.execute_script(\"window.scrollTo(0, document.body.scrollHeight);\")\n",
    "sleep(2) \n",
    "driver.execute_script(\"window.scrollTo(0, document.body.scrollHeight);\")\n",
    "sleep(2)\n",
    "driver.execute_script(\"window.scrollTo(0, document.body.scrollHeight);\")\n",
    "sleep(2)\n",
    "driver.execute_script(\"window.scrollTo(0, document.body.scrollHeight);\")\n",
    "sleep(2) \n",
    "driver.execute_script(\"window.scrollTo(0, document.body.scrollHeight);\")\n",
    "sleep(2) \n",
    "driver.execute_script(\"window.scrollTo(0, document.body.scrollHeight);\")\n",
    "sleep(2) \n",
    "driver.execute_script(\"window.scrollTo(0, document.body.scrollHeight);\")\n",
    "sleep(2) "
   ]
  },
  {
   "cell_type": "markdown",
   "id": "69d88e97",
   "metadata": {},
   "source": [
    "Of course, we can also implement loops for each of those processes, but for now, we loaded enough content.\n",
    "\n",
    "To grab the newly loaded content, we need to find the newsfeed again and find all answers."
   ]
  },
  {
   "cell_type": "code",
   "execution_count": 78,
   "id": "a5349940",
   "metadata": {},
   "outputs": [],
   "source": [
    "NewsFeed = driver.find_element(By.CLASS_NAME, \"dom_annotate_multifeed_home\")\n",
    "Answers = NewsFeed.find_elements(By.CLASS_NAME, \"dom_annotate_multifeed_bundle_AnswersBundle\")"
   ]
  },
  {
   "cell_type": "markdown",
   "id": "d4191270",
   "metadata": {},
   "source": [
    "Finally, we can re-run our loop to grab all the info."
   ]
  },
  {
   "cell_type": "code",
   "execution_count": 79,
   "id": "8b46d3f6",
   "metadata": {},
   "outputs": [],
   "source": [
    "AnswersInfo = []\n",
    "for post in Answers:\n",
    "    AnswersInfo.append(get_post_info(post))"
   ]
  },
  {
   "cell_type": "markdown",
   "id": "3639a670",
   "metadata": {},
   "source": [
    "Let's check the number of answers we collected this time:"
   ]
  },
  {
   "cell_type": "code",
   "execution_count": 80,
   "id": "a59bebc1",
   "metadata": {},
   "outputs": [
    {
     "data": {
      "text/plain": [
       "90"
      ]
     },
     "execution_count": 80,
     "metadata": {},
     "output_type": "execute_result"
    }
   ],
   "source": [
    "len(Answers)"
   ]
  },
  {
   "cell_type": "markdown",
   "id": "6da6014f",
   "metadata": {},
   "source": [
    "Better! If we want to collect more data, we can implement more scrolling, but we collected enough information for demonstration purposes now.\n",
    "\n",
    "Next, we can convert the list into a data frame, making it easier for us to work with the data."
   ]
  },
  {
   "cell_type": "code",
   "execution_count": 81,
   "id": "61f1e947",
   "metadata": {},
   "outputs": [],
   "source": [
    "AnswersInfo_df = pd.DataFrame(AnswersInfo, columns=[\"author\", \"author_link\",\n",
    "                                                    \"title\", \"story_link\",\n",
    "                                                    \"num_upvotes\", \"num_shares\", \n",
    "                                                    \"num_comments\"])"
   ]
  },
  {
   "cell_type": "code",
   "execution_count": 82,
   "id": "e523e400",
   "metadata": {},
   "outputs": [
    {
     "data": {
      "text/html": [
       "<div>\n",
       "<style scoped>\n",
       "    .dataframe tbody tr th:only-of-type {\n",
       "        vertical-align: middle;\n",
       "    }\n",
       "\n",
       "    .dataframe tbody tr th {\n",
       "        vertical-align: top;\n",
       "    }\n",
       "\n",
       "    .dataframe thead th {\n",
       "        text-align: right;\n",
       "    }\n",
       "</style>\n",
       "<table border=\"1\" class=\"dataframe\">\n",
       "  <thead>\n",
       "    <tr style=\"text-align: right;\">\n",
       "      <th></th>\n",
       "      <th>author</th>\n",
       "      <th>author_link</th>\n",
       "      <th>title</th>\n",
       "      <th>story_link</th>\n",
       "      <th>num_upvotes</th>\n",
       "      <th>num_shares</th>\n",
       "      <th>num_comments</th>\n",
       "    </tr>\n",
       "  </thead>\n",
       "  <tbody>\n",
       "    <tr>\n",
       "      <th>0</th>\n",
       "      <td>Luise</td>\n",
       "      <td>https://de.quora.com/profile/Luise-63</td>\n",
       "      <td>Was wissen Besitzer von Haustieren oft nicht?</td>\n",
       "      <td>https://de.quora.com/Was-wissen-Besitzer-von-H...</td>\n",
       "      <td>2.038</td>\n",
       "      <td>25</td>\n",
       "      <td>117</td>\n",
       "    </tr>\n",
       "    <tr>\n",
       "      <th>1</th>\n",
       "      <td>Jonas K.</td>\n",
       "      <td>https://de.quora.com/profile/Jonas-K-5</td>\n",
       "      <td>Englisch ist eine der einfachsten Sprachen der...</td>\n",
       "      <td>https://de.quora.com/Englisch-ist-eine-der-ein...</td>\n",
       "      <td>868</td>\n",
       "      <td>13</td>\n",
       "      <td>91</td>\n",
       "    </tr>\n",
       "    <tr>\n",
       "      <th>2</th>\n",
       "      <td>Jonathan</td>\n",
       "      <td>https://de.quora.com/profile/Jonathan-18</td>\n",
       "      <td>Was ist Nyotaimori?</td>\n",
       "      <td>https://de.quora.com/Was-ist-Nyotaimori</td>\n",
       "      <td>136</td>\n",
       "      <td>2</td>\n",
       "      <td>20</td>\n",
       "    </tr>\n",
       "    <tr>\n",
       "      <th>3</th>\n",
       "      <td>Simone Kraut</td>\n",
       "      <td>https://de.quora.com/profile/Simone-Kraut</td>\n",
       "      <td>Wie unterscheiden sich Narzissten von Psychopa...</td>\n",
       "      <td>https://de.quora.com/Wie-unterscheiden-sich-Na...</td>\n",
       "      <td>56</td>\n",
       "      <td>1</td>\n",
       "      <td>7</td>\n",
       "    </tr>\n",
       "  </tbody>\n",
       "</table>\n",
       "</div>"
      ],
      "text/plain": [
       "         author                                author_link  \\\n",
       "0         Luise      https://de.quora.com/profile/Luise-63   \n",
       "1      Jonas K.     https://de.quora.com/profile/Jonas-K-5   \n",
       "2      Jonathan   https://de.quora.com/profile/Jonathan-18   \n",
       "3  Simone Kraut  https://de.quora.com/profile/Simone-Kraut   \n",
       "\n",
       "                                               title  \\\n",
       "0      Was wissen Besitzer von Haustieren oft nicht?   \n",
       "1  Englisch ist eine der einfachsten Sprachen der...   \n",
       "2                                Was ist Nyotaimori?   \n",
       "3  Wie unterscheiden sich Narzissten von Psychopa...   \n",
       "\n",
       "                                          story_link num_upvotes num_shares  \\\n",
       "0  https://de.quora.com/Was-wissen-Besitzer-von-H...       2.038         25   \n",
       "1  https://de.quora.com/Englisch-ist-eine-der-ein...         868         13   \n",
       "2            https://de.quora.com/Was-ist-Nyotaimori         136          2   \n",
       "3  https://de.quora.com/Wie-unterscheiden-sich-Na...          56          1   \n",
       "\n",
       "  num_comments  \n",
       "0          117  \n",
       "1           91  \n",
       "2           20  \n",
       "3            7  "
      ]
     },
     "execution_count": 82,
     "metadata": {},
     "output_type": "execute_result"
    }
   ],
   "source": [
    "AnswersInfo_df.head(4)"
   ]
  },
  {
   "cell_type": "markdown",
   "id": "15c9ae48",
   "metadata": {},
   "source": [
    "Once we are done working with the driver, we can close the current session:"
   ]
  },
  {
   "cell_type": "code",
   "execution_count": 83,
   "id": "ebf1c526",
   "metadata": {},
   "outputs": [],
   "source": [
    "# close driver\n",
    "driver.quit()"
   ]
  },
  {
   "cell_type": "markdown",
   "id": "8b2f254f",
   "metadata": {},
   "source": [
    "<div class=\"alert alert-block alert-info\">\n",
    "<b>Hint:</b> \n",
    "    \n",
    "We can do similar operations to  gather advertisements, posts, or questions information by accessing other classes, such as:\n",
    "- \"dom_annotate_multifeed_bundle_AdBundle\" for Ads\n",
    "- \"dom_annotate_multifeed_bundle_PostBundle\" for posts\n",
    "\n",
    "However, our function for accessing author and post information might have to be adapted for those classes.\n",
    "\n",
    "It is also worth noting that instead of looking at the browser and its behavior, we can also implement a headless browser that will function in the background without us seeing it (have a look at [this Stackoverflow link](https://stackoverflow.com/questions/53657215/running-selenium-with-headless-chrome-webdriver). You can specify those settings at the beginning with options like `options.add_argument(\"--headless\")`.\n",
    "<div>"
   ]
  },
  {
   "cell_type": "markdown",
   "id": "425df720",
   "metadata": {},
   "source": [
    "# 4.4. Important notes and insights\n",
    "\n",
    "Web scraping provides us the daily data we need for analysis and decision making. While different types of task sizes and websites are available to obtain data from, the various libraries that we teach here can make our tasks easier and faster. We have talked about BeautifulSoup and Selenium, which show us that BeautifulSoup is more user-friendly and allows us to learn faster and begin web scraping smaller tasks in an efficient way. Whereas in Selenium, tasks are more complicated and the target website has a lot of java elements in its code. We can use Selenium to control every major web browser such as chrome, internet explorer, and Firefox. Our actions aren’t limited to loading web pages, we can also perform other actions that allow us better interact with the websites such as mouse clicks and filling forms. \n",
    "\n",
    "We have not introduced [Scrapy](https://scrapy.org/) yet as it is more for complex web tasks. It uses less memory and CPU storage and supports data extraction from HTML sources as well. We can even extend its functionality. As we mentioned, it is great a great library for complex and larger projects and we can easily transfer existing projects into another project.\n",
    "\n",
    "In all, we should have good knowledge of all the tools available so that we can choose the best tool depending on our tasks. As we have seen, we can comfortably use any of the libraries as they are all free and also open source. Having a community of developers to support us is a big plus as we develop our projects and use the libraries. The choice of one over the other however depends on the project we have at hand. They all have their pros and cons."
   ]
  },
  {
   "cell_type": "markdown",
   "id": "3006893c",
   "metadata": {},
   "source": [
    "<div class='alert alert-block alert-danger'>\n",
    "<b>Gizem's note:</b>\n",
    "We should make sure about the reference structure!\n",
    "<div>"
   ]
  },
  {
   "cell_type": "markdown",
   "id": "3fe29c81",
   "metadata": {},
   "source": [
    "## 4.5. References\n",
    "\n",
    "[<a href='#destination1_'>1</a>] https://pypi.org/project/feedparser/ <a id='destination1'></a>\n",
    "\n",
    "[<a href='#destination1_'>2</a>] https://rss.com/blog/find-rss-feed/#:~:text=Right%20click%20on%20the%20website's,between%20the%20quotes%20after%20href%3D\n",
    "\n",
    "[<a href='#destination1_'>3</a>] https://dev.to/mr_destructive/feedparser-python-package-for-reading-rss-feeds-5fnc\n",
    "\n",
    "[<a href='#destination2_'>4</a>] https://developer.mozilla.org/en-US/docs/Learn/HTML/Introduction_to_HTML/Getting_started <a id='destination2'></a>\n",
    "\n",
    "[<a href='#destination3_'>5</a>] http://web.simmons.edu/~grabiner/comm244/weekfour/document-tree.html <a id='destination3'></a>\n",
    "\n",
    "[<a href='#destination4_'>6</a>] https://www.crummy.com/software/BeautifulSoup/bs4/doc/ <a id='destination4'></a>\n",
    "\n",
    "[<a href='#destination4_'>7</a>] Fabian's notebook from GESIS fall seminar 2021: https://colab.research.google.com/drive/1uKxOc8mXTE2b05uUq-YlijJYzOTgi5DZ#scrollTo=ao_sLGiOSu7Y\n",
    "\n",
    "[<a href='#destination5_'>8</a>] The Social Comquant Workshop 10 at https://github.com/strohne/autocol <a id='destination5'></a>\n",
    "\n",
    "\n",
    "<br/><br/>\n",
    "\n",
    "https://www.crummy.com/software/BeautifulSoup/bs4/doc/\n",
    "\n",
    "https://www.dataquest.io/blog/web-scraping-python-using-beautiful-soup/#tve-jump-1788432a71d\n",
    "\n",
    "https://developer.mozilla.org/en-US/docs/Web/HTML/Element\n",
    "\n",
    "https://medium.com/geekculture/web-scraping-cheat-sheet-2021-python-for-web-scraping-cad1540ce21c#b81d\n",
    "\n",
    "https://trends.google.com/trends/yis/2021/DE/\n",
    "\n",
    "https://blog.google/products/search/15-tips-getting-most-out-google-trends/\n",
    "\n",
    "https://limeproxies.netlify.app/blog/selenium-vs-beautifulsoup\n",
    "\n",
    "\n",
    "Do not miss checking out the Social Comquant Workshop 10 at: https://github.com/strohne/autocol\n"
   ]
  },
  {
   "cell_type": "code",
   "execution_count": null,
   "id": "a2453c99",
   "metadata": {},
   "outputs": [],
   "source": []
  },
  {
   "cell_type": "code",
   "execution_count": null,
   "id": "0c9d5b2d",
   "metadata": {},
   "outputs": [],
   "source": []
  }
 ],
 "metadata": {
  "kernelspec": {
   "display_name": "Python 3",
   "language": "python",
   "name": "python3"
  },
  "language_info": {
   "codemirror_mode": {
    "name": "ipython",
    "version": 3
   },
   "file_extension": ".py",
   "mimetype": "text/x-python",
   "name": "python",
   "nbconvert_exporter": "python",
   "pygments_lexer": "ipython3",
   "version": "3.8.8"
  }
 },
 "nbformat": 4,
 "nbformat_minor": 5
}
