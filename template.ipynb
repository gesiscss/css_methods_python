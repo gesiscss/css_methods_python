{
 "cells": [
  {
   "cell_type": "markdown",
   "id": "e607ca26",
   "metadata": {},
   "source": [
    "<img src='images/header.png' style='height: 50px; float: left'>"
   ]
  },
  {
   "cell_type": "markdown",
   "id": "b70bc56f",
   "metadata": {},
   "source": [
    "## Introduction to Computational Social Science methods with Python"
   ]
  },
  {
   "cell_type": "markdown",
   "id": "71218328",
   "metadata": {},
   "source": [
    "# Template for a new session\n",
    "\n",
    "Existing training materials on Computational Social Science (CSS) are either online code tutorials that are, however, devoid of social scientific lessons worthy of being graded. Or they are textbook-like introductions to methods with a social science perspective where the code part, however, is detached from, and found in another place than, the lessons. The sessions in this course, on the other hand, are fully integrated, which means, social scientific lessons are taught by exemplifying and explaining methods in computer code while making the connection to methodology and theory.\n",
    "\n",
    "Sessions in this course are supposed to be similar in style, length, and teaching content. This **template** is a guide how to achieve that. Regarding the length and density of teching lessons, please study the sessions that already exist.\n",
    "\n",
    "[Rules](https://www.uni-giessen.de/de/studium/lehre/plagiate/plagiarism3) apply as in all academic writing.\n",
    "\n",
    "#### Concepts\n",
    "\n",
    "A notebook has an introduction, at least two sections (numbered .1, .2, etc.), and a list of references. Large sections can have at least two numbered subsections. Numbered subsubsections are not used.\n",
    "\n",
    "The introduction introduces and defines the high-level concepts used throughout the notebook. These concepts spell out the overall topic of a notebook, are basic to the session's learning objectives, and tend to belong to methodological (as opposed to implementation/coding) aspects. When a high-level concept is defined, the concept name is formatted **bold**. *Italic* formatting is used for latin words and abbreviations such as *e.g.*, *.i.e.*, or *vice versa*.\n",
    "\n",
    "Low-level concepts are introduced in the sections. These concepts give depth to the overall topic, either methodologically or in terms of implementation.\n",
    "\n",
    "Abbreviations (*e.g.*, ML for Machine Learning) can be used but should be limited to the most important few.\n",
    "\n",
    "#### References\n",
    "\n",
    "We do not reinvent textbooks and other teaching resources here but make references to them. This is what sets these sessions apart from other teaching materials: coding tutorials are embedded in the corresponding research literature, making the connection between data, computing, and theory.\n",
    "\n",
    "The main textbook used in the course is McLevey's (<a href='#mclevey_doing_2022'>2022</a>) *Doing Computational Social Science: A Practical Introduction*, a rather complete introduction to methods in the field with well-structured and insightful chapters. The network preprocessing and analysis sessions benefit from Platt's (<a href='#platt_network_2019'>2019</a>) *Network Science with Python and NetworkX Quick Start Guide* and Menczer *et al.*'s (<a href='#menczer_a_2020'>2020</a>) *A First Course in Network Science*. In sessions on data science, statistical modeling, and machine learning methods, chapters from the *Handbook of Computational Social Science*, volume 2, by Engel *et al.* (<a href='#engel_handbook_2022'>2022</a>) give depth. To limit the number of books that students of this course are recommended to study, we try to not introduce other textbooks unless necessary.\n",
    "\n",
    "Above examples show how references made in a paragraph are linked to the list of references at the end of the notebook. APA citation style is used. These are citations of a paper (<a href='#sapiezynski_interaction_2019'>Sapiezynski *et al.*, 2019</a>) and a book chapter or proceedings article (<a href='#dimitrov_tweetscov19_2020'>Dimitrov *et al.*, 2020</a>), respectively.\n",
    "\n",
    "#### Links\n",
    "\n",
    "The main use of links in the text is to give depth to a paragraph or concept. The linked website should be informative and stable. We have frequently used Wikipedia in these sessions. This is a link to the [computational social science](https://en.wikipedia.org/wiki/Computational_social_science) Wikipedia page. If it is necessary to link to a blog post or an article in an online magazine, use a reference instead. In general, the reference list should contain scholarly work.\n",
    "\n",
    "Sessions should be connected to each other, either by continuing a workflow or by using the same dataset. Link to other sessions to make connections clear. This is a link to [Session D1: Micro-level network analysis and community detection](1_micro_level_network_analysis_and_community_detection.ipynb).\n",
    "\n",
    "#### Figures\n",
    "\n",
    "Figures should be stored in a folder named \"images\". Embed a figure like this:\n",
    "\n",
    "|<img src='images/copenhagen.jpg' style='float: none; width: 480px'>|\n",
    "|:--|\n",
    "|<em style='float: center'>**Figure 1**: USE EXAMPLE WITH SOURCE</em>|\n",
    "\n",
    "When referring to a figure in the text, make the first reference bold and italic. This is the first reference to ***figure 1***. In all subsequent references, just make it italic. This is the second reference to *figure 1*.\n",
    "\n",
    "Make sure to have the right to reproduce a figure. Check the license of an image or produce it yourself. If necessary, give a source as in *figure 1*.\n",
    "\n",
    "#### Data\n",
    "\n",
    "To make for a coherent learning experience across different sessions, we try to limit the course to a few datasets. These are a corpus of tweets on the topic of COVID from May 2020 (<a href='#dimitrov_tweetscov19_2020'>Dimitrov *et al.*, 2020</a>), social networks from the Copenhagen Networks Study (<a href='#sapiezynski_interaction_2019'>Sapiezynski *et al.*, 2019</a>), and the Varieties of Democracy dataset on countries and principles of democracy (). Other datasets may be introduced, though.\n",
    "\n",
    "<div class='alert alert-block alert-success'>\n",
    "<b>In this session</b>, \n",
    "\n",
    "Put a summary of the session here. All concepts used here must already be introduced above. Report what the subsessions are dedicated to or what students will learn in a concise manner, like in an abstract. For example: Subsession **X.1** revolves around ... Also mention the dataset and Python packages used in the session.\n",
    "</div>"
   ]
  },
  {
   "cell_type": "markdown",
   "id": "cd2edcd2",
   "metadata": {},
   "source": [
    "## Learning objectives\n",
    "\n",
    "- Up to seven learning objectives are listed here. These should arise from studying the session materials and reading the recommended (and complementary) references.\n",
    "- To get a feeling for this, please have a look at the existing materials."
   ]
  },
  {
   "cell_type": "markdown",
   "id": "67c39ff0",
   "metadata": {},
   "source": [
    "## X.1. First section"
   ]
  },
  {
   "cell_type": "markdown",
   "id": "dd1e6b09",
   "metadata": {},
   "source": [
    "### X.1.1. First subsection\n",
    "\n",
    "Sections and subsections start in a new notebook cell.\n",
    "\n",
    "#### Use of data\n",
    "\n",
    "When teaching a method, it may be useful to use a simple toy dataset where results are fully controlled and easy to interpret. But toy datasets should only be used to introduce certain principles. They shold be followed by examples using observational data from the CSS realm. In any case, data must be openly available.\n",
    "\n",
    "#### Coding\n",
    "\n",
    "To ensure a problem-free session experience, make sure to develop all computer code for the Python package versions defined in the [environment](binder/environment.yml) file. Try not to add packages to the list because more packages mean more potential package conflicts. Nevertheless, there can be good reasons to add new packages. In general, you should be in contact with us editors before you start developing a new session for this course. Certainly, also contact us if you plan to use a new package. Contact us [here](https://github.com/gesiscss/css_methods_python/blob/main/README.md#who-are-we).\n",
    "\n",
    "When introducing a Python package, link to the packages homepage the first time it is mentioned. For example:\n",
    "\n",
    "We use [pandas](https://pandas.pydata.org/):"
   ]
  },
  {
   "cell_type": "code",
   "execution_count": 1,
   "id": "6913fa3e",
   "metadata": {},
   "outputs": [
    {
     "data": {
      "text/plain": [
       "'1.4.4'"
      ]
     },
     "execution_count": 1,
     "metadata": {},
     "output_type": "execute_result"
    }
   ],
   "source": [
    "import pandas as pd\n",
    "pd.__version__"
   ]
  },
  {
   "cell_type": "markdown",
   "id": "24733ed5",
   "metadata": {},
   "source": [
    "When using a package's class (or function, method, ...) in code, link to that class's page in the package documentation. The link is supposed to help the reader handle the class including its parameters. But please link to the page in the documentation of the package version you are using. For example, using pandas 1.4.4:\n",
    "\n",
    "Instantiate an object of the [DataFrame](https://pandas.pydata.org/pandas-docs/version/1.4/reference/api/pandas.DataFrame.html) class:"
   ]
  },
  {
   "cell_type": "code",
   "execution_count": 10,
   "id": "eea81391",
   "metadata": {},
   "outputs": [
    {
     "data": {
      "text/html": [
       "<div>\n",
       "<style scoped>\n",
       "    .dataframe tbody tr th:only-of-type {\n",
       "        vertical-align: middle;\n",
       "    }\n",
       "\n",
       "    .dataframe tbody tr th {\n",
       "        vertical-align: top;\n",
       "    }\n",
       "\n",
       "    .dataframe thead th {\n",
       "        text-align: right;\n",
       "    }\n",
       "</style>\n",
       "<table border=\"1\" class=\"dataframe\">\n",
       "  <thead>\n",
       "    <tr style=\"text-align: right;\">\n",
       "      <th></th>\n",
       "      <th>first</th>\n",
       "      <th>second</th>\n",
       "    </tr>\n",
       "  </thead>\n",
       "  <tbody>\n",
       "    <tr>\n",
       "      <th>0</th>\n",
       "      <td>1</td>\n",
       "      <td>a</td>\n",
       "    </tr>\n",
       "    <tr>\n",
       "      <th>1</th>\n",
       "      <td>2</td>\n",
       "      <td>b</td>\n",
       "    </tr>\n",
       "  </tbody>\n",
       "</table>\n",
       "</div>"
      ],
      "text/plain": [
       "   first second\n",
       "0      1      a\n",
       "1      2      b"
      ]
     },
     "execution_count": 10,
     "metadata": {},
     "output_type": "execute_result"
    }
   ],
   "source": [
    "df = pd.DataFrame(data=[[1, 'a'], [2, 'b']], columns=['first', 'second'])\n",
    "df"
   ]
  },
  {
   "cell_type": "markdown",
   "id": "585800e5",
   "metadata": {},
   "source": [
    "#### Styling\n",
    "\n",
    "In markdown text, style objects as code, names (like columns) in high commas, numericals using math notation, and strings using Courier font. For example:\n",
    "\n",
    "In the dataframe `df`, the first value of the 'first' column is $1$, and the first value of the 'second' column is <span style='font-family:Courier'>a</span>.\n",
    "\n",
    "Use math notation for formulas:\n",
    "\n",
    "$a^2+b^2=c^2$\n",
    "\n",
    "#### Use of boxes\n",
    "\n",
    "Besides the green boxes in the introduction and at the end of the notebook, you can also use blue, yellow, and red boxes.\n",
    "\n",
    "<div class='alert alert-block alert-info'>\n",
    "<big><b>Insight: ...</b></big>\n",
    "\n",
    "Use blue boxes to mark a teaching insight, a lesson to learn, or a trick of the trade -- in general: something that causes an aha moment.\n",
    "</div>\n",
    "\n",
    "<div class='alert alert-block alert-warning'>\n",
    "<b>Additional resources</b>\n",
    "\n",
    "Use yellow boxes to point out, make a reference to, or link to materials or resources not covered in the notebook.\n",
    "</div>\n",
    "\n",
    "<div class='alert alert-block alert-danger'>\n",
    "<b>Caution</b>\n",
    "\n",
    "Use red boxes to ring an alarm bell, for example, to keep users from making a typical mistake or from having them learn something the hard way.\n",
    "</div>\n",
    "\n",
    "#### Use of widgets\n",
    "\n",
    "Sessions can be playful in the way that something is taught. For example, sliders allow users to (visually) experience the effect of changing a parameter in a model. For example, check out how [ipywidgets.interact](https://ipywidgets.readthedocs.io/en/7.7.0/examples/Using%20Interact.html) is used in [Session D3: Unsupervised machine learning](d_data_analysis_methods/3_unsupervised_machine_learning.ipynb)."
   ]
  },
  {
   "cell_type": "markdown",
   "id": "b98d082a",
   "metadata": {},
   "source": [
    "## References\n",
    "\n",
    "When writing the list of references, distinguish between recommended and complementary readings. Recommended readings are obligatory in a graded course. Add a short description of the book, add websites that accompany them (*e.g.*, associated code repositories), and, in the case of textbooks, say which chapters are recommended to be read. Complementary readings are uncommented.\n",
    "\n",
    "### Recommended readings\n",
    "\n",
    "<a id='mclevey_doing_2022'></a>\n",
    "McLevey, J. (2022). *Doing Computational Social Science: A Practical Introduction*. SAGE. https://us.sagepub.com/en-us/nam/doing-computational-social-science/book266031. *A rather complete introduction to the field with well-structured and insightful chapters also on centrality analysis and community detection. The [website](https://github.com/UWNETLAB/dcss_supplementary) offers the code used in the book. For this session, read **ch. X** on ...*\n",
    "\n",
    "<a id='platt_network_2019'></a>\n",
    "Platt, E. L. (2019). *Network Science with Python and NetworkX Quick Start Guide*. Packt. https://www.packtpub.com/product/network-science-with-python-and-networkx-quick-start-guide/9781789955316. *Systematic introduction to the practice of network preprocessing and analysis. All Jupyter Notebooks are publically available on the [website](https://github.com/PacktPublishing/Network-Science-with-Python-and-NetworkX-Quick-Start-Guide). For this session, read **ch. X** on ...*\n",
    "\n",
    "<a id='menczer_a_2020'></a>\n",
    "Menczer, F., Fortunato, S., & Davis, C. A. (2020). *A First Course in Network Science*. Cambridge University Press. https://doi.org/10.1017/9781108653947. *An introductory course with exercises that emerged from years of teaching network analysis using NetworkX. Written from the physicist's perspective, this book is focused on the network science paradigms of small-world networks, scale-free networks, community detection, and complex systems modeling. The [website](https://cambridgeuniversitypress.github.io/FirstCourseNetworkScience/) provides all code in the form of Jupyter Notebooks, data, and solutions to the exercises. For this session, read **ch. X** on ...*\n",
    "\n",
    "### Complementary readings\n",
    "\n",
    "<a id='dimitrov_tweetscov19_2020'></a>\n",
    "Dimitrov, D., Baran, E., Fafalios, P., Yu, R., Zhu, X., Zloch, M., & Dietze, S. (2020). \"TweetsCOV19 – A knowledge base of semantically annotated tweets about the COVID-19 pandemic.\" In: *Proceedings of the 29th ACM International Conference on Information & Knowledge Management* (p. 2991–2998). https://doi.org/10.1145/3340531.3412765.\n",
    "\n",
    "<a id='engel_handbook_2022'></a>\n",
    "Engel, U., Quan-Haase, A., Liu, S. X., and Lyberg, L. (eds) (2022). *Handbook of Computational Social Science, Volume 2: Data Science, Statistical Modelling, and Machine Learning Methods*. Routledge.\n",
    "\n",
    "<a id='sapiezynski_interaction_2019'></a>\n",
    "Sapiezynski, P., Stopczynski, A., Lassen, D. D., & Lehmann, S. (2019). \"Interaction data from the Copenhagen Networks Study\". *Scientific Data* 6:315 (2019). https://doi.org/10.1038/s41597-019-0325-x."
   ]
  },
  {
   "cell_type": "markdown",
   "id": "758d9eec",
   "metadata": {},
   "source": [
    "<div class='alert alert-block alert-success'>\n",
    "<b>Document information</b>\n",
    "\n",
    "Contact and main author(s): Add your name(s) here\n",
    "\n",
    "Contributors: Add names of persons that contributed somewhat to the notebook (if any)\n",
    "\n",
    "Acknowledgements: Add names of persons or projects that you want to acknowledge (if any)\n",
    "\n",
    "Version date: XX Month YYYY\n",
    "\n",
    "License: Creative Commons Attribution 4.0 International (CC BY 4.0)\n",
    "</div>"
   ]
  }
 ],
 "metadata": {
  "kernelspec": {
   "display_name": "Python 3 (ipykernel)",
   "language": "python",
   "name": "python3"
  },
  "language_info": {
   "codemirror_mode": {
    "name": "ipython",
    "version": 3
   },
   "file_extension": ".py",
   "mimetype": "text/x-python",
   "name": "python",
   "nbconvert_exporter": "python",
   "pygments_lexer": "ipython3",
   "version": "3.9.13"
  }
 },
 "nbformat": 4,
 "nbformat_minor": 5
}
