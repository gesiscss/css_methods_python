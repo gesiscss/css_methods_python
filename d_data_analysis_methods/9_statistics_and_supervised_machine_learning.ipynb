{
 "cells": [
  {
   "cell_type": "markdown",
   "id": "583054cb",
   "metadata": {},
   "source": [
    "# 9. Statistics & supervised machine learning\n",
    "\n",
    "Explanation vs. prediction\n",
    "\n",
    "TO DECIDE\n",
    "- ...\n",
    "\n",
    "### Text book\n",
    "\n",
    "- Computer Age Statistical Inference\n",
    "\n",
    "### Notes\n",
    "\n",
    "- Check https://doi.org/10.1145/1150402.1150412\n"
   ]
  },
  {
   "cell_type": "markdown",
   "id": "b5b9299d",
   "metadata": {},
   "source": [
    "## 9.1. Explanation (statistical modeling)\n",
    "\n",
    "- model fit r^2\n",
    "- variable transformation\n",
    "- hypothesis and significance testing\n",
    "- generalized linear model: linear and logistic regression\n",
    "\n",
    "https://jakevdp.github.io/PythonDataScienceHandbook/05.06-linear-regression.html"
   ]
  },
  {
   "cell_type": "markdown",
   "id": "19b6bdc6",
   "metadata": {},
   "source": [
    "#### Data"
   ]
  },
  {
   "cell_type": "code",
   "execution_count": 1,
   "id": "9e67f1bc",
   "metadata": {},
   "outputs": [],
   "source": [
    "import pandas as pd"
   ]
  },
  {
   "cell_type": "code",
   "execution_count": 2,
   "id": "ab467b9b",
   "metadata": {},
   "outputs": [],
   "source": [
    "vdem_fh = pd.read_csv('./vdem_fh_combined.csv')\n",
    "vdem = pd.read_csv('./vdem_only.csv')"
   ]
  },
  {
   "cell_type": "code",
   "execution_count": 3,
   "id": "2c9b04bb",
   "metadata": {},
   "outputs": [
    {
     "data": {
      "text/html": [
       "<div>\n",
       "<style scoped>\n",
       "    .dataframe tbody tr th:only-of-type {\n",
       "        vertical-align: middle;\n",
       "    }\n",
       "\n",
       "    .dataframe tbody tr th {\n",
       "        vertical-align: top;\n",
       "    }\n",
       "\n",
       "    .dataframe thead th {\n",
       "        text-align: right;\n",
       "    }\n",
       "</style>\n",
       "<table border=\"1\" class=\"dataframe\">\n",
       "  <thead>\n",
       "    <tr style=\"text-align: right;\">\n",
       "      <th></th>\n",
       "      <th>Country</th>\n",
       "      <th>Total Score</th>\n",
       "      <th>Status</th>\n",
       "      <th>country_name</th>\n",
       "      <th>year</th>\n",
       "      <th>v2x_polyarchy</th>\n",
       "      <th>v2x_libdem</th>\n",
       "      <th>v2x_partipdem</th>\n",
       "      <th>v2x_delibdem</th>\n",
       "      <th>v2x_egaldem</th>\n",
       "      <th>v2x_regime</th>\n",
       "      <th>v2smgovdom_osp</th>\n",
       "      <th>v2smgovfilprc_osp</th>\n",
       "      <th>v2smgovsmcenprc_osp</th>\n",
       "      <th>v2smonper_osp</th>\n",
       "      <th>v2smarrest_osp</th>\n",
       "      <th>e_regionpol</th>\n",
       "    </tr>\n",
       "  </thead>\n",
       "  <tbody>\n",
       "    <tr>\n",
       "      <th>0</th>\n",
       "      <td>Angola</td>\n",
       "      <td>64</td>\n",
       "      <td>Partly Free</td>\n",
       "      <td>Angola</td>\n",
       "      <td>2019</td>\n",
       "      <td>0.386</td>\n",
       "      <td>0.230</td>\n",
       "      <td>0.105</td>\n",
       "      <td>0.260</td>\n",
       "      <td>0.148</td>\n",
       "      <td>1.0</td>\n",
       "      <td>2.441</td>\n",
       "      <td>2.969</td>\n",
       "      <td>3.924</td>\n",
       "      <td>2.883</td>\n",
       "      <td>1.995</td>\n",
       "      <td>4</td>\n",
       "    </tr>\n",
       "    <tr>\n",
       "      <th>1</th>\n",
       "      <td>Argentina</td>\n",
       "      <td>72</td>\n",
       "      <td>Free</td>\n",
       "      <td>Argentina</td>\n",
       "      <td>2019</td>\n",
       "      <td>0.812</td>\n",
       "      <td>0.631</td>\n",
       "      <td>0.527</td>\n",
       "      <td>0.635</td>\n",
       "      <td>0.592</td>\n",
       "      <td>2.0</td>\n",
       "      <td>3.340</td>\n",
       "      <td>3.847</td>\n",
       "      <td>3.930</td>\n",
       "      <td>3.321</td>\n",
       "      <td>2.605</td>\n",
       "      <td>2</td>\n",
       "    </tr>\n",
       "    <tr>\n",
       "      <th>2</th>\n",
       "      <td>Armenia</td>\n",
       "      <td>76</td>\n",
       "      <td>Free</td>\n",
       "      <td>Armenia</td>\n",
       "      <td>2019</td>\n",
       "      <td>0.805</td>\n",
       "      <td>0.641</td>\n",
       "      <td>0.532</td>\n",
       "      <td>0.706</td>\n",
       "      <td>0.656</td>\n",
       "      <td>1.0</td>\n",
       "      <td>2.926</td>\n",
       "      <td>3.714</td>\n",
       "      <td>3.915</td>\n",
       "      <td>3.293</td>\n",
       "      <td>2.493</td>\n",
       "      <td>1</td>\n",
       "    </tr>\n",
       "    <tr>\n",
       "      <th>3</th>\n",
       "      <td>Australia</td>\n",
       "      <td>77</td>\n",
       "      <td>Free</td>\n",
       "      <td>Australia</td>\n",
       "      <td>2019</td>\n",
       "      <td>0.838</td>\n",
       "      <td>0.789</td>\n",
       "      <td>0.602</td>\n",
       "      <td>0.737</td>\n",
       "      <td>0.706</td>\n",
       "      <td>3.0</td>\n",
       "      <td>2.878</td>\n",
       "      <td>3.829</td>\n",
       "      <td>3.876</td>\n",
       "      <td>3.300</td>\n",
       "      <td>2.684</td>\n",
       "      <td>5</td>\n",
       "    </tr>\n",
       "    <tr>\n",
       "      <th>4</th>\n",
       "      <td>Azerbaijan</td>\n",
       "      <td>39</td>\n",
       "      <td>Not Free</td>\n",
       "      <td>Azerbaijan</td>\n",
       "      <td>2019</td>\n",
       "      <td>0.206</td>\n",
       "      <td>0.070</td>\n",
       "      <td>0.072</td>\n",
       "      <td>0.047</td>\n",
       "      <td>0.118</td>\n",
       "      <td>1.0</td>\n",
       "      <td>0.384</td>\n",
       "      <td>1.231</td>\n",
       "      <td>2.672</td>\n",
       "      <td>1.558</td>\n",
       "      <td>0.777</td>\n",
       "      <td>1</td>\n",
       "    </tr>\n",
       "  </tbody>\n",
       "</table>\n",
       "</div>"
      ],
      "text/plain": [
       "      Country  Total Score       Status country_name  year  v2x_polyarchy  \\\n",
       "0      Angola           64  Partly Free       Angola  2019          0.386   \n",
       "1   Argentina           72         Free    Argentina  2019          0.812   \n",
       "2     Armenia           76         Free      Armenia  2019          0.805   \n",
       "3   Australia           77         Free    Australia  2019          0.838   \n",
       "4  Azerbaijan           39     Not Free   Azerbaijan  2019          0.206   \n",
       "\n",
       "   v2x_libdem  v2x_partipdem  v2x_delibdem  v2x_egaldem  v2x_regime  \\\n",
       "0       0.230          0.105         0.260        0.148         1.0   \n",
       "1       0.631          0.527         0.635        0.592         2.0   \n",
       "2       0.641          0.532         0.706        0.656         1.0   \n",
       "3       0.789          0.602         0.737        0.706         3.0   \n",
       "4       0.070          0.072         0.047        0.118         1.0   \n",
       "\n",
       "   v2smgovdom_osp  v2smgovfilprc_osp  v2smgovsmcenprc_osp  v2smonper_osp  \\\n",
       "0           2.441              2.969                3.924          2.883   \n",
       "1           3.340              3.847                3.930          3.321   \n",
       "2           2.926              3.714                3.915          3.293   \n",
       "3           2.878              3.829                3.876          3.300   \n",
       "4           0.384              1.231                2.672          1.558   \n",
       "\n",
       "   v2smarrest_osp  e_regionpol  \n",
       "0           1.995            4  \n",
       "1           2.605            2  \n",
       "2           2.493            1  \n",
       "3           2.684            5  \n",
       "4           0.777            1  "
      ]
     },
     "execution_count": 3,
     "metadata": {},
     "output_type": "execute_result"
    }
   ],
   "source": [
    "vdem_fh.head()"
   ]
  },
  {
   "cell_type": "code",
   "execution_count": 4,
   "id": "267322b7",
   "metadata": {},
   "outputs": [],
   "source": [
    "import matplotlib.pyplot as plt\n",
    "import seaborn as sns"
   ]
  },
  {
   "cell_type": "code",
   "execution_count": 5,
   "id": "5b9f865e",
   "metadata": {},
   "outputs": [],
   "source": [
    "sns.set_theme(style='darkgrid')"
   ]
  },
  {
   "cell_type": "code",
   "execution_count": 6,
   "id": "1da15581",
   "metadata": {},
   "outputs": [],
   "source": [
    "indicators_regression = ['v2x_polyarchy', 'v2x_libdem', 'v2x_partipdem', 'v2x_delibdem', 'v2x_egaldem']"
   ]
  },
  {
   "cell_type": "code",
   "execution_count": 7,
   "id": "9ffbfe0f",
   "metadata": {},
   "outputs": [
    {
     "data": {
      "image/png": "[encoded data removed]",
      "text/plain": [
       "<Figure size 250x200 with 1 Axes>"
      ]
     },
     "metadata": {},
     "output_type": "display_data"
    }
   ],
   "source": [
    "plt.figure(figsize=[2.5, 2])\n",
    "sns.boxplot(\n",
    "    x = 'variable', \n",
    "    y = 'value', \n",
    "    data = vdem_fh[indicators_regression].melt()\n",
    ")\n",
    "plt.xticks(rotation=45)\n",
    "plt.show()"
   ]
  },
  {
   "cell_type": "code",
   "execution_count": 8,
   "id": "a639d9b0",
   "metadata": {},
   "outputs": [
    {
     "data": {
      "text/plain": [
       "<AxesSubplot:xlabel='variable', ylabel='value'>"
      ]
     },
     "execution_count": 8,
     "metadata": {},
     "output_type": "execute_result"
    },
    {
     "data": {
      "image/png": "[encoded data removed]",
      "text/plain": [
       "<Figure size 50x200 with 1 Axes>"
      ]
     },
     "metadata": {},
     "output_type": "display_data"
    }
   ],
   "source": [
    "plt.figure(figsize=[.5, 2])\n",
    "sns.boxplot(\n",
    "    x = 'variable', \n",
    "    y = 'value', \n",
    "    data = vdem_fh[['Total Score']].melt()\n",
    ")"
   ]
  },
  {
   "cell_type": "markdown",
   "id": "4d07e682",
   "metadata": {},
   "source": [
    "### 9.1.1. Regression\n",
    "\n",
    "#### Correlations"
   ]
  },
  {
   "cell_type": "code",
   "execution_count": 9,
   "id": "c1ec3af3",
   "metadata": {},
   "outputs": [
    {
     "data": {
      "image/png": "[encoded data removed]",
      "text/plain": [
       "<Figure size 1200x1200 with 42 Axes>"
      ]
     },
     "metadata": {},
     "output_type": "display_data"
    }
   ],
   "source": [
    "fig = sns.pairplot(\n",
    "    data = vdem_fh[['Total Score', 'v2x_polyarchy', 'v2x_libdem', 'v2x_partipdem', 'v2x_delibdem', 'v2x_egaldem']], \n",
    "    #hue = 'v2x_regime', \n",
    "    height = 2, \n",
    "    kind = 'reg', \n",
    "    diag_kind = 'hist', \n",
    "    plot_kws = {'scatter_kws': {'alpha': .2}}\n",
    ")\n",
    "#fig.savefig('.............vdem_fh_pairplot.png')\n",
    "plt.show()"
   ]
  },
  {
   "cell_type": "markdown",
   "id": "4366f2e8",
   "metadata": {},
   "source": [
    "#### Ordinary-Least-Squares regression"
   ]
  },
  {
   "cell_type": "code",
   "execution_count": 10,
   "id": "91592161",
   "metadata": {},
   "outputs": [],
   "source": [
    "standardize = False"
   ]
  },
  {
   "cell_type": "code",
   "execution_count": 11,
   "id": "94fc3b43",
   "metadata": {},
   "outputs": [],
   "source": [
    "X_vdem_fh = vdem_fh[indicators_regression].to_numpy()\n",
    "y_vdem_fh = vdem_fh[['Total Score']].to_numpy()\n",
    "\n",
    "if standardize:\n",
    "    from sklearn.preprocessing import StandardScaler\n",
    "    \n",
    "    X_vdem_fh = StandardScaler().fit_transform(X_vdem_fh)\n",
    "    y_vdem_fh = StandardScaler().fit_transform(y_vdem_fh)\n",
    "    \n",
    "    fit_intercept = False\n",
    "else:\n",
    "    fit_intercept = True"
   ]
  },
  {
   "cell_type": "code",
   "execution_count": 12,
   "id": "f767f01a",
   "metadata": {},
   "outputs": [],
   "source": [
    "from sklearn.linear_model import LinearRegression"
   ]
  },
  {
   "cell_type": "code",
   "execution_count": 13,
   "id": "1fd702cf",
   "metadata": {},
   "outputs": [],
   "source": [
    "ols_vdem_fh = LinearRegression(fit_intercept=fit_intercept)"
   ]
  },
  {
   "cell_type": "code",
   "execution_count": 14,
   "id": "27bde0da",
   "metadata": {},
   "outputs": [],
   "source": [
    "ols_vdem_fh_fit = ols_vdem_fh.fit(X_vdem_fh, y_vdem_fh)"
   ]
  },
  {
   "cell_type": "markdown",
   "id": "bdcc7356",
   "metadata": {},
   "source": [
    "Goodness of fit (R^2)"
   ]
  },
  {
   "cell_type": "code",
   "execution_count": 15,
   "id": "7e4b03b0",
   "metadata": {},
   "outputs": [
    {
     "data": {
      "text/plain": [
       "0.7902823278954166"
      ]
     },
     "execution_count": 15,
     "metadata": {},
     "output_type": "execute_result"
    }
   ],
   "source": [
    "ols_vdem_fh_fit.score(X_vdem_fh, y_vdem_fh)"
   ]
  },
  {
   "cell_type": "markdown",
   "id": "2835521f",
   "metadata": {},
   "source": [
    "Intercept"
   ]
  },
  {
   "cell_type": "code",
   "execution_count": 16,
   "id": "ad269f72",
   "metadata": {},
   "outputs": [
    {
     "data": {
      "text/plain": [
       "array([23.34152179])"
      ]
     },
     "execution_count": 16,
     "metadata": {},
     "output_type": "execute_result"
    }
   ],
   "source": [
    "ols_vdem_fh_fit.intercept_"
   ]
  },
  {
   "cell_type": "markdown",
   "id": "5f4d470d",
   "metadata": {},
   "source": [
    "Coefficients"
   ]
  },
  {
   "cell_type": "code",
   "execution_count": 17,
   "id": "1c74667c",
   "metadata": {},
   "outputs": [
    {
     "data": {
      "text/plain": [
       "array([ 32.54042368,  55.61438425,  15.09680851,  -6.88939045,\n",
       "       -23.61813015])"
      ]
     },
     "execution_count": 17,
     "metadata": {},
     "output_type": "execute_result"
    }
   ],
   "source": [
    "ols_vdem_fh_fit.coef_[0]"
   ]
  },
  {
   "cell_type": "markdown",
   "id": "d096b44e",
   "metadata": {},
   "source": [
    "Significance? Not with sklearn!"
   ]
  },
  {
   "cell_type": "markdown",
   "id": "a851915a",
   "metadata": {},
   "source": [
    "#### Statsmodels"
   ]
  },
  {
   "cell_type": "code",
   "execution_count": 18,
   "id": "cdcef025",
   "metadata": {},
   "outputs": [
    {
     "name": "stderr",
     "output_type": "stream",
     "text": [
      "/home/sed_zeppelin/anaconda3/lib/python3.8/site-packages/statsmodels/tsa/base/tsa_model.py:7: FutureWarning: pandas.Int64Index is deprecated and will be removed from pandas in a future version. Use pandas.Index with the appropriate dtype instead.\n",
      "  from pandas import (to_datetime, Int64Index, DatetimeIndex, Period,\n",
      "/home/sed_zeppelin/anaconda3/lib/python3.8/site-packages/statsmodels/tsa/base/tsa_model.py:7: FutureWarning: pandas.Float64Index is deprecated and will be removed from pandas in a future version. Use pandas.Index with the appropriate dtype instead.\n",
      "  from pandas import (to_datetime, Int64Index, DatetimeIndex, Period,\n"
     ]
    }
   ],
   "source": [
    "import statsmodels.api as sm"
   ]
  },
  {
   "cell_type": "code",
   "execution_count": 19,
   "id": "744ed12c",
   "metadata": {},
   "outputs": [],
   "source": [
    "X_vdem_fh_ = sm.add_constant(X_vdem_fh)"
   ]
  },
  {
   "cell_type": "code",
   "execution_count": 20,
   "id": "da3c7a98",
   "metadata": {},
   "outputs": [],
   "source": [
    "if standardize:\n",
    "    ols_vdem_fh_sm = sm.OLS(y_vdem_fh, X_vdem_fh)\n",
    "else:\n",
    "    ols_vdem_fh_sm = sm.OLS(y_vdem_fh, X_vdem_fh_) # equivalent to fit_intercept=True (https://stackoverflow.com/questions/70179307/why-is-sklearn-r-squared-different-from-that-of-statsmodels-when-fit-intercept-f/70180217#70180217)\n",
    "ols_vdem_fh_sm_fit = ols_vdem_fh_sm.fit()"
   ]
  },
  {
   "cell_type": "code",
   "execution_count": 21,
   "id": "9909788d",
   "metadata": {},
   "outputs": [
    {
     "data": {
      "text/html": [
       "<table class=\"simpletable\">\n",
       "<caption>OLS Regression Results</caption>\n",
       "<tr>\n",
       "  <th>Dep. Variable:</th>            <td>y</td>        <th>  R-squared:         </th> <td>   0.790</td>\n",
       "</tr>\n",
       "<tr>\n",
       "  <th>Model:</th>                   <td>OLS</td>       <th>  Adj. R-squared:    </th> <td>   0.773</td>\n",
       "</tr>\n",
       "<tr>\n",
       "  <th>Method:</th>             <td>Least Squares</td>  <th>  F-statistic:       </th> <td>   44.47</td>\n",
       "</tr>\n",
       "<tr>\n",
       "  <th>Date:</th>             <td>Mon, 27 Feb 2023</td> <th>  Prob (F-statistic):</th> <td>8.88e-19</td>\n",
       "</tr>\n",
       "<tr>\n",
       "  <th>Time:</th>                 <td>21:06:24</td>     <th>  Log-Likelihood:    </th> <td> -237.78</td>\n",
       "</tr>\n",
       "<tr>\n",
       "  <th>No. Observations:</th>      <td>    65</td>      <th>  AIC:               </th> <td>   487.6</td>\n",
       "</tr>\n",
       "<tr>\n",
       "  <th>Df Residuals:</th>          <td>    59</td>      <th>  BIC:               </th> <td>   500.6</td>\n",
       "</tr>\n",
       "<tr>\n",
       "  <th>Df Model:</th>              <td>     5</td>      <th>                     </th>     <td> </td>   \n",
       "</tr>\n",
       "<tr>\n",
       "  <th>Covariance Type:</th>      <td>nonrobust</td>    <th>                     </th>     <td> </td>   \n",
       "</tr>\n",
       "</table>\n",
       "<table class=\"simpletable\">\n",
       "<tr>\n",
       "    <td></td>       <th>coef</th>     <th>std err</th>      <th>t</th>      <th>P>|t|</th>  <th>[0.025</th>    <th>0.975]</th>  \n",
       "</tr>\n",
       "<tr>\n",
       "  <th>const</th> <td>   23.3415</td> <td>    3.857</td> <td>    6.051</td> <td> 0.000</td> <td>   15.623</td> <td>   31.060</td>\n",
       "</tr>\n",
       "<tr>\n",
       "  <th>x1</th>    <td>   32.5404</td> <td>   30.961</td> <td>    1.051</td> <td> 0.298</td> <td>  -29.412</td> <td>   94.493</td>\n",
       "</tr>\n",
       "<tr>\n",
       "  <th>x2</th>    <td>   55.6144</td> <td>   34.372</td> <td>    1.618</td> <td> 0.111</td> <td>  -13.165</td> <td>  124.393</td>\n",
       "</tr>\n",
       "<tr>\n",
       "  <th>x3</th>    <td>   15.0968</td> <td>   31.837</td> <td>    0.474</td> <td> 0.637</td> <td>  -48.610</td> <td>   78.803</td>\n",
       "</tr>\n",
       "<tr>\n",
       "  <th>x4</th>    <td>   -6.8894</td> <td>   23.333</td> <td>   -0.295</td> <td> 0.769</td> <td>  -53.578</td> <td>   39.799</td>\n",
       "</tr>\n",
       "<tr>\n",
       "  <th>x5</th>    <td>  -23.6181</td> <td>   21.703</td> <td>   -1.088</td> <td> 0.281</td> <td>  -67.045</td> <td>   19.809</td>\n",
       "</tr>\n",
       "</table>\n",
       "<table class=\"simpletable\">\n",
       "<tr>\n",
       "  <th>Omnibus:</th>       <td> 2.813</td> <th>  Durbin-Watson:     </th> <td>   1.809</td>\n",
       "</tr>\n",
       "<tr>\n",
       "  <th>Prob(Omnibus):</th> <td> 0.245</td> <th>  Jarque-Bera (JB):  </th> <td>   1.605</td>\n",
       "</tr>\n",
       "<tr>\n",
       "  <th>Skew:</th>          <td> 0.016</td> <th>  Prob(JB):          </th> <td>   0.448</td>\n",
       "</tr>\n",
       "<tr>\n",
       "  <th>Kurtosis:</th>      <td> 2.231</td> <th>  Cond. No.          </th> <td>    46.7</td>\n",
       "</tr>\n",
       "</table><br/><br/>Notes:<br/>[1] Standard Errors assume that the covariance matrix of the errors is correctly specified."
      ],
      "text/plain": [
       "<class 'statsmodels.iolib.summary.Summary'>\n",
       "\"\"\"\n",
       "                            OLS Regression Results                            \n",
       "==============================================================================\n",
       "Dep. Variable:                      y   R-squared:                       0.790\n",
       "Model:                            OLS   Adj. R-squared:                  0.773\n",
       "Method:                 Least Squares   F-statistic:                     44.47\n",
       "Date:                Mon, 27 Feb 2023   Prob (F-statistic):           8.88e-19\n",
       "Time:                        21:06:24   Log-Likelihood:                -237.78\n",
       "No. Observations:                  65   AIC:                             487.6\n",
       "Df Residuals:                      59   BIC:                             500.6\n",
       "Df Model:                           5                                         \n",
       "Covariance Type:            nonrobust                                         \n",
       "==============================================================================\n",
       "                 coef    std err          t      P>|t|      [0.025      0.975]\n",
       "------------------------------------------------------------------------------\n",
       "const         23.3415      3.857      6.051      0.000      15.623      31.060\n",
       "x1            32.5404     30.961      1.051      0.298     -29.412      94.493\n",
       "x2            55.6144     34.372      1.618      0.111     -13.165     124.393\n",
       "x3            15.0968     31.837      0.474      0.637     -48.610      78.803\n",
       "x4            -6.8894     23.333     -0.295      0.769     -53.578      39.799\n",
       "x5           -23.6181     21.703     -1.088      0.281     -67.045      19.809\n",
       "==============================================================================\n",
       "Omnibus:                        2.813   Durbin-Watson:                   1.809\n",
       "Prob(Omnibus):                  0.245   Jarque-Bera (JB):                1.605\n",
       "Skew:                           0.016   Prob(JB):                        0.448\n",
       "Kurtosis:                       2.231   Cond. No.                         46.7\n",
       "==============================================================================\n",
       "\n",
       "Notes:\n",
       "[1] Standard Errors assume that the covariance matrix of the errors is correctly specified.\n",
       "\"\"\""
      ]
     },
     "execution_count": 21,
     "metadata": {},
     "output_type": "execute_result"
    }
   ],
   "source": [
    "ols_vdem_fh_sm_fit.summary()"
   ]
  },
  {
   "cell_type": "code",
   "execution_count": 22,
   "id": "40485e16",
   "metadata": {},
   "outputs": [
    {
     "data": {
      "text/plain": [
       "0.7902823278954166"
      ]
     },
     "execution_count": 22,
     "metadata": {},
     "output_type": "execute_result"
    }
   ],
   "source": [
    "# goodness of fit (R^2)\n",
    "ols_vdem_fh_sm_fit.rsquared\n",
    "#ols_vdem_fh_sm_fit.rsquared_adj"
   ]
  },
  {
   "cell_type": "code",
   "execution_count": 23,
   "id": "60917fc6",
   "metadata": {},
   "outputs": [
    {
     "data": {
      "text/plain": [
       "array([ 23.34152179,  32.54042368,  55.61438425,  15.09680851,\n",
       "        -6.88939045, -23.61813015])"
      ]
     },
     "execution_count": 23,
     "metadata": {},
     "output_type": "execute_result"
    }
   ],
   "source": [
    "# intercept and coefficients\n",
    "ols_vdem_fh_sm_fit.params"
   ]
  },
  {
   "cell_type": "code",
   "execution_count": 24,
   "id": "67f3c7a6",
   "metadata": {},
   "outputs": [
    {
     "data": {
      "text/plain": [
       "array([1.06415397e-07, 2.97535245e-01, 1.10997548e-01, 6.37117791e-01,\n",
       "       7.68824862e-01, 2.80906105e-01])"
      ]
     },
     "execution_count": 24,
     "metadata": {},
     "output_type": "execute_result"
    }
   ],
   "source": [
    "# significance scores\n",
    "ols_vdem_fh_sm_fit.pvalues"
   ]
  },
  {
   "cell_type": "code",
   "execution_count": 25,
   "id": "aa5f5c9a",
   "metadata": {},
   "outputs": [],
   "source": [
    "import numpy as np"
   ]
  },
  {
   "cell_type": "code",
   "execution_count": 26,
   "id": "8e20ed1b",
   "metadata": {},
   "outputs": [],
   "source": [
    "def format_coef(df, coef, pvalues=None):\n",
    "    df[coef] = df[coef].apply(lambda x: '{0:.2f}'.format(x))\n",
    "    if pvalues is not None:\n",
    "        def stars(cell):\n",
    "            if cell <= .001:\n",
    "                cell = '***'\n",
    "            elif cell <= .01:\n",
    "                cell = '**'\n",
    "            elif cell <= .1:\n",
    "                cell = '*'\n",
    "            else:\n",
    "                cell = ''\n",
    "            return cell\n",
    "        df['pvalues'] = pvalues\n",
    "        df['stars'] = df['pvalues'].apply(stars)\n",
    "        df[coef] = df[coef] + df['stars']\n",
    "        del df['pvalues']\n",
    "        del df['stars']\n",
    "    return df"
   ]
  },
  {
   "cell_type": "code",
   "execution_count": 27,
   "id": "c26262c2",
   "metadata": {},
   "outputs": [
    {
     "data": {
      "text/html": [
       "<div>\n",
       "<style scoped>\n",
       "    .dataframe tbody tr th:only-of-type {\n",
       "        vertical-align: middle;\n",
       "    }\n",
       "\n",
       "    .dataframe tbody tr th {\n",
       "        vertical-align: top;\n",
       "    }\n",
       "\n",
       "    .dataframe thead th {\n",
       "        text-align: right;\n",
       "    }\n",
       "</style>\n",
       "<table border=\"1\" class=\"dataframe\">\n",
       "  <thead>\n",
       "    <tr style=\"text-align: right;\">\n",
       "      <th></th>\n",
       "      <th>OLS</th>\n",
       "    </tr>\n",
       "  </thead>\n",
       "  <tbody>\n",
       "    <tr>\n",
       "      <th>intercept</th>\n",
       "      <td>23.34***</td>\n",
       "    </tr>\n",
       "    <tr>\n",
       "      <th>v2x_polyarchy</th>\n",
       "      <td>32.54</td>\n",
       "    </tr>\n",
       "    <tr>\n",
       "      <th>v2x_libdem</th>\n",
       "      <td>55.61</td>\n",
       "    </tr>\n",
       "    <tr>\n",
       "      <th>v2x_partipdem</th>\n",
       "      <td>15.10</td>\n",
       "    </tr>\n",
       "    <tr>\n",
       "      <th>v2x_delibdem</th>\n",
       "      <td>-6.89</td>\n",
       "    </tr>\n",
       "    <tr>\n",
       "      <th>v2x_egaldem</th>\n",
       "      <td>-23.62</td>\n",
       "    </tr>\n",
       "  </tbody>\n",
       "</table>\n",
       "</div>"
      ],
      "text/plain": [
       "                    OLS\n",
       "intercept      23.34***\n",
       "v2x_polyarchy     32.54\n",
       "v2x_libdem        55.61\n",
       "v2x_partipdem     15.10\n",
       "v2x_delibdem      -6.89\n",
       "v2x_egaldem      -23.62"
      ]
     },
     "execution_count": 27,
     "metadata": {},
     "output_type": "execute_result"
    }
   ],
   "source": [
    "if standardize:\n",
    "    vdem_fh_regression = pd.DataFrame(\n",
    "        data = ols_vdem_fh_sm_fit.params, \n",
    "        index = indicators_regression, \n",
    "        columns = ['OLS']\n",
    "    )\n",
    "else:\n",
    "    vdem_fh_regression = pd.DataFrame(\n",
    "        data = ols_vdem_fh_sm_fit.params, \n",
    "        index = np.concatenate([['intercept'], indicators_regression]), \n",
    "        columns = ['OLS']\n",
    "    )\n",
    "vdem_fh_regression = format_coef(df=vdem_fh_regression, coef='OLS', pvalues=ols_vdem_fh_sm_fit.pvalues)\n",
    "vdem_fh_regression"
   ]
  },
  {
   "cell_type": "markdown",
   "id": "86e0a8e3",
   "metadata": {},
   "source": [
    "#### Ridge regression to deal with collinearity"
   ]
  },
  {
   "cell_type": "code",
   "execution_count": 28,
   "id": "f1bb8592",
   "metadata": {},
   "outputs": [],
   "source": [
    "from sklearn.linear_model import Ridge"
   ]
  },
  {
   "cell_type": "code",
   "execution_count": 29,
   "id": "8939e3b0",
   "metadata": {},
   "outputs": [],
   "source": [
    "ridge_vdem_fh = Ridge(alpha=1., fit_intercept=fit_intercept, random_state=42)"
   ]
  },
  {
   "cell_type": "code",
   "execution_count": 30,
   "id": "1b942391",
   "metadata": {},
   "outputs": [],
   "source": [
    "ridge_vdem_fh_fit = ridge_vdem_fh.fit(X_vdem_fh, y_vdem_fh)"
   ]
  },
  {
   "cell_type": "code",
   "execution_count": 31,
   "id": "7615e798",
   "metadata": {},
   "outputs": [
    {
     "data": {
      "text/plain": [
       "0.7736828263938498"
      ]
     },
     "execution_count": 31,
     "metadata": {},
     "output_type": "execute_result"
    }
   ],
   "source": [
    "# goodness of fit\n",
    "ridge_vdem_fh_fit.score(X_vdem_fh, y_vdem_fh)"
   ]
  },
  {
   "cell_type": "code",
   "execution_count": 32,
   "id": "ee26f30b",
   "metadata": {},
   "outputs": [
    {
     "data": {
      "text/plain": [
       "array([24.57530599])"
      ]
     },
     "execution_count": 32,
     "metadata": {},
     "output_type": "execute_result"
    }
   ],
   "source": [
    "# intercept\n",
    "ridge_vdem_fh_fit.intercept_"
   ]
  },
  {
   "cell_type": "code",
   "execution_count": 33,
   "id": "54f56b81",
   "metadata": {},
   "outputs": [
    {
     "data": {
      "text/plain": [
       "array([20.3224907 , 18.53938774, 14.21497605, 12.84013467,  7.71160108])"
      ]
     },
     "execution_count": 33,
     "metadata": {},
     "output_type": "execute_result"
    }
   ],
   "source": [
    "# coefficients\n",
    "ridge_vdem_fh_fit.coef_[0]"
   ]
  },
  {
   "cell_type": "markdown",
   "id": "84475403",
   "metadata": {},
   "source": [
    "Significance scores are meaningless with regularization (https://stats.stackexchange.com/questions/224796/why-are-confidence-intervals-and-p-values-not-reported-as-default-for-penalized)"
   ]
  },
  {
   "cell_type": "code",
   "execution_count": 34,
   "id": "b69f06c0",
   "metadata": {},
   "outputs": [
    {
     "data": {
      "text/html": [
       "<div>\n",
       "<style scoped>\n",
       "    .dataframe tbody tr th:only-of-type {\n",
       "        vertical-align: middle;\n",
       "    }\n",
       "\n",
       "    .dataframe tbody tr th {\n",
       "        vertical-align: top;\n",
       "    }\n",
       "\n",
       "    .dataframe thead th {\n",
       "        text-align: right;\n",
       "    }\n",
       "</style>\n",
       "<table border=\"1\" class=\"dataframe\">\n",
       "  <thead>\n",
       "    <tr style=\"text-align: right;\">\n",
       "      <th></th>\n",
       "      <th>OLS</th>\n",
       "      <th>Ridge</th>\n",
       "    </tr>\n",
       "  </thead>\n",
       "  <tbody>\n",
       "    <tr>\n",
       "      <th>intercept</th>\n",
       "      <td>23.34***</td>\n",
       "      <td>24.58</td>\n",
       "    </tr>\n",
       "    <tr>\n",
       "      <th>v2x_polyarchy</th>\n",
       "      <td>32.54</td>\n",
       "      <td>20.32</td>\n",
       "    </tr>\n",
       "    <tr>\n",
       "      <th>v2x_libdem</th>\n",
       "      <td>55.61</td>\n",
       "      <td>18.54</td>\n",
       "    </tr>\n",
       "    <tr>\n",
       "      <th>v2x_partipdem</th>\n",
       "      <td>15.10</td>\n",
       "      <td>14.21</td>\n",
       "    </tr>\n",
       "    <tr>\n",
       "      <th>v2x_delibdem</th>\n",
       "      <td>-6.89</td>\n",
       "      <td>12.84</td>\n",
       "    </tr>\n",
       "    <tr>\n",
       "      <th>v2x_egaldem</th>\n",
       "      <td>-23.62</td>\n",
       "      <td>7.71</td>\n",
       "    </tr>\n",
       "  </tbody>\n",
       "</table>\n",
       "</div>"
      ],
      "text/plain": [
       "                    OLS  Ridge\n",
       "intercept      23.34***  24.58\n",
       "v2x_polyarchy     32.54  20.32\n",
       "v2x_libdem        55.61  18.54\n",
       "v2x_partipdem     15.10  14.21\n",
       "v2x_delibdem      -6.89  12.84\n",
       "v2x_egaldem      -23.62   7.71"
      ]
     },
     "execution_count": 34,
     "metadata": {},
     "output_type": "execute_result"
    }
   ],
   "source": [
    "if standardize:\n",
    "    vdem_fh_regression['Ridge'] = ridge_vdem_fh_fit.coef_[0] # ridge_vdem_fh_sm_fit.params\n",
    "else:\n",
    "    vdem_fh_regression['Ridge'] = np.concatenate([ridge_vdem_fh_fit.intercept_, ridge_vdem_fh_fit.coef_[0]])\n",
    "vdem_fh_regression = format_coef(df=vdem_fh_regression, coef='Ridge', pvalues=None)\n",
    "vdem_fh_regression"
   ]
  },
  {
   "cell_type": "markdown",
   "id": "b2c5b048",
   "metadata": {},
   "source": [
    "Ridge regression using statsmodels, just for completeness (requires setting scaling penalties: https://stackoverflow.com/questions/72260808/mismatch-between-statsmodels-and-sklearn-ridge-regression):"
   ]
  },
  {
   "cell_type": "code",
   "execution_count": 35,
   "id": "661d9f93",
   "metadata": {},
   "outputs": [
    {
     "data": {
      "text/plain": [
       "array([24.57530599, 20.3224907 , 18.53938774, 14.21497605, 12.84013467,\n",
       "        7.71160108])"
      ]
     },
     "execution_count": 35,
     "metadata": {},
     "output_type": "execute_result"
    }
   ],
   "source": [
    "n = vdem_fh.shape[0]\n",
    "if standardize:\n",
    "    ridge_vdem_fh_sm = sm.OLS(y_vdem_fh, X_vdem_fh)\n",
    "    penalty = np.ones(len(indicators_regression)) / n\n",
    "\n",
    "else:\n",
    "    ridge_vdem_fh_sm = sm.OLS(y_vdem_fh, X_vdem_fh_)\n",
    "    penalty = np.concatenate([[0.], np.ones(len(indicators_regression))]) / n\n",
    "\n",
    "ridge_vdem_fh_sm_fit = ridge_vdem_fh_sm.fit_regularized(alpha=penalty, L1_wt=0.)\n",
    "ridge_vdem_fh_sm_fit.params"
   ]
  },
  {
   "cell_type": "markdown",
   "id": "c1bd918a",
   "metadata": {},
   "source": [
    "#### Lasso regression to automatically select variables"
   ]
  },
  {
   "cell_type": "code",
   "execution_count": 36,
   "id": "a8f7fa86",
   "metadata": {},
   "outputs": [],
   "source": [
    "alpha_lasso = 1. # if alpha < 1. then Lasso becomes Elastic Net (https://stats.stackexchange.com/questions/319861/how-to-interpret-lasso-shrinking-all-coefficients-to-0)"
   ]
  },
  {
   "cell_type": "code",
   "execution_count": 37,
   "id": "f0a67230",
   "metadata": {},
   "outputs": [],
   "source": [
    "from sklearn.linear_model import Lasso"
   ]
  },
  {
   "cell_type": "code",
   "execution_count": 38,
   "id": "5c06dd32",
   "metadata": {},
   "outputs": [],
   "source": [
    "lasso_vdem_fh = Lasso(alpha=alpha_lasso, fit_intercept=fit_intercept, random_state=42)"
   ]
  },
  {
   "cell_type": "code",
   "execution_count": 39,
   "id": "bbb1b156",
   "metadata": {},
   "outputs": [],
   "source": [
    "lasso_vdem_fh_fit = lasso_vdem_fh.fit(X_vdem_fh, y_vdem_fh)"
   ]
  },
  {
   "cell_type": "code",
   "execution_count": 40,
   "id": "1e7975ee",
   "metadata": {},
   "outputs": [
    {
     "data": {
      "text/plain": [
       "0.7461837725999856"
      ]
     },
     "execution_count": 40,
     "metadata": {},
     "output_type": "execute_result"
    }
   ],
   "source": [
    "# goodness of fit\n",
    "lasso_vdem_fh_fit.score(X_vdem_fh, y_vdem_fh)"
   ]
  },
  {
   "cell_type": "code",
   "execution_count": 41,
   "id": "0dcb4e06",
   "metadata": {},
   "outputs": [
    {
     "data": {
      "text/plain": [
       "array([27.80141612])"
      ]
     },
     "execution_count": 41,
     "metadata": {},
     "output_type": "execute_result"
    }
   ],
   "source": [
    "# intercept\n",
    "lasso_vdem_fh_fit.intercept_"
   ]
  },
  {
   "cell_type": "code",
   "execution_count": 42,
   "id": "64bd5a37",
   "metadata": {},
   "outputs": [
    {
     "data": {
      "text/plain": [
       "array([37.53608076, 19.18122251,  0.        ,  0.        ,  0.        ])"
      ]
     },
     "execution_count": 42,
     "metadata": {},
     "output_type": "execute_result"
    }
   ],
   "source": [
    "# coefficients\n",
    "lasso_vdem_fh_fit.coef_"
   ]
  },
  {
   "cell_type": "code",
   "execution_count": 43,
   "id": "e1778b94",
   "metadata": {},
   "outputs": [
    {
     "data": {
      "text/html": [
       "<div>\n",
       "<style scoped>\n",
       "    .dataframe tbody tr th:only-of-type {\n",
       "        vertical-align: middle;\n",
       "    }\n",
       "\n",
       "    .dataframe tbody tr th {\n",
       "        vertical-align: top;\n",
       "    }\n",
       "\n",
       "    .dataframe thead th {\n",
       "        text-align: right;\n",
       "    }\n",
       "</style>\n",
       "<table border=\"1\" class=\"dataframe\">\n",
       "  <thead>\n",
       "    <tr style=\"text-align: right;\">\n",
       "      <th></th>\n",
       "      <th>OLS</th>\n",
       "      <th>Ridge</th>\n",
       "      <th>Lasso</th>\n",
       "    </tr>\n",
       "  </thead>\n",
       "  <tbody>\n",
       "    <tr>\n",
       "      <th>intercept</th>\n",
       "      <td>23.34***</td>\n",
       "      <td>24.58</td>\n",
       "      <td>27.80</td>\n",
       "    </tr>\n",
       "    <tr>\n",
       "      <th>v2x_polyarchy</th>\n",
       "      <td>32.54</td>\n",
       "      <td>20.32</td>\n",
       "      <td>37.54</td>\n",
       "    </tr>\n",
       "    <tr>\n",
       "      <th>v2x_libdem</th>\n",
       "      <td>55.61</td>\n",
       "      <td>18.54</td>\n",
       "      <td>19.18</td>\n",
       "    </tr>\n",
       "    <tr>\n",
       "      <th>v2x_partipdem</th>\n",
       "      <td>15.10</td>\n",
       "      <td>14.21</td>\n",
       "      <td>0.00</td>\n",
       "    </tr>\n",
       "    <tr>\n",
       "      <th>v2x_delibdem</th>\n",
       "      <td>-6.89</td>\n",
       "      <td>12.84</td>\n",
       "      <td>0.00</td>\n",
       "    </tr>\n",
       "    <tr>\n",
       "      <th>v2x_egaldem</th>\n",
       "      <td>-23.62</td>\n",
       "      <td>7.71</td>\n",
       "      <td>0.00</td>\n",
       "    </tr>\n",
       "  </tbody>\n",
       "</table>\n",
       "</div>"
      ],
      "text/plain": [
       "                    OLS  Ridge  Lasso\n",
       "intercept      23.34***  24.58  27.80\n",
       "v2x_polyarchy     32.54  20.32  37.54\n",
       "v2x_libdem        55.61  18.54  19.18\n",
       "v2x_partipdem     15.10  14.21   0.00\n",
       "v2x_delibdem      -6.89  12.84   0.00\n",
       "v2x_egaldem      -23.62   7.71   0.00"
      ]
     },
     "execution_count": 43,
     "metadata": {},
     "output_type": "execute_result"
    }
   ],
   "source": [
    "if standardize:\n",
    "    vdem_fh_regression['Lasso'] = lasso_vdem_fh_fit.coef_\n",
    "else:\n",
    "    vdem_fh_regression['Lasso'] = np.concatenate([lasso_vdem_fh_fit.intercept_, lasso_vdem_fh_fit.coef_])\n",
    "vdem_fh_regression = format_coef(df=vdem_fh_regression, coef='Lasso', pvalues=None)\n",
    "vdem_fh_regression"
   ]
  },
  {
   "cell_type": "markdown",
   "id": "7fa4de7b",
   "metadata": {},
   "source": [
    "Lasso regression using statsmodels, just for completeness (requires setting scaling penalties: https://stackoverflow.com/questions/72260808/mismatch-between-statsmodels-and-sklearn-ridge-regression):"
   ]
  },
  {
   "cell_type": "code",
   "execution_count": 44,
   "id": "8f649d32",
   "metadata": {},
   "outputs": [
    {
     "data": {
      "text/plain": [
       "array([27.26460384, 42.08282177, 14.72574299,  0.        ,  0.        ,\n",
       "        0.        ])"
      ]
     },
     "execution_count": 44,
     "metadata": {},
     "output_type": "execute_result"
    }
   ],
   "source": [
    "if standardize:\n",
    "    lasso_vdem_fh_sm = sm.OLS(y_vdem_fh, X_vdem_fh)\n",
    "    penalty = np.ones(len(indicators_regression))*alpha_lasso\n",
    "else:\n",
    "    lasso_vdem_fh_sm = sm.OLS(y_vdem_fh, X_vdem_fh_)\n",
    "    penalty = np.concatenate([[0.], np.ones(len(indicators_regression))*alpha_lasso])\n",
    "\n",
    "lasso_vdem_fh_sm_fit = lasso_vdem_fh_sm.fit_regularized(alpha=penalty, L1_wt=1.)\n",
    "lasso_vdem_fh_sm_fit.params"
   ]
  },
  {
   "cell_type": "markdown",
   "id": "17d0e4b1",
   "metadata": {},
   "source": [
    "#### Ordinary-Least-Squares regression with two variables"
   ]
  },
  {
   "cell_type": "code",
   "execution_count": 45,
   "id": "ba96db2c",
   "metadata": {},
   "outputs": [],
   "source": [
    "indicators_regression_select = ['v2x_polyarchy', 'v2x_libdem']"
   ]
  },
  {
   "cell_type": "code",
   "execution_count": 46,
   "id": "1577e8a3",
   "metadata": {},
   "outputs": [],
   "source": [
    "X_vdem_fh_select = vdem_fh[indicators_regression_select].to_numpy()\n",
    "\n",
    "if standardize:\n",
    "    X_vdem_fh_select = StandardScaler().fit_transform(X_vdem_fh_select)"
   ]
  },
  {
   "cell_type": "code",
   "execution_count": 47,
   "id": "fe37e71a",
   "metadata": {},
   "outputs": [],
   "source": [
    "X_vdem_fh_select_ = sm.add_constant(X_vdem_fh_select)"
   ]
  },
  {
   "cell_type": "code",
   "execution_count": 48,
   "id": "e004c518",
   "metadata": {},
   "outputs": [],
   "source": [
    "if standardize:\n",
    "    ols_vdem_fh_select_sm = sm.OLS(y_vdem_fh, X_vdem_fh_select)\n",
    "else:\n",
    "    ols_vdem_fh_select_sm = sm.OLS(y_vdem_fh, X_vdem_fh_select_)\n",
    "ols_vdem_fh_select_sm_fit = ols_vdem_fh_select_sm.fit()"
   ]
  },
  {
   "cell_type": "code",
   "execution_count": 49,
   "id": "8519212f",
   "metadata": {},
   "outputs": [
    {
     "data": {
      "text/html": [
       "<table class=\"simpletable\">\n",
       "<caption>OLS Regression Results</caption>\n",
       "<tr>\n",
       "  <th>Dep. Variable:</th>            <td>y</td>        <th>  R-squared:         </th> <td>   0.785</td>\n",
       "</tr>\n",
       "<tr>\n",
       "  <th>Model:</th>                   <td>OLS</td>       <th>  Adj. R-squared:    </th> <td>   0.778</td>\n",
       "</tr>\n",
       "<tr>\n",
       "  <th>Method:</th>             <td>Least Squares</td>  <th>  F-statistic:       </th> <td>   113.0</td>\n",
       "</tr>\n",
       "<tr>\n",
       "  <th>Date:</th>             <td>Mon, 27 Feb 2023</td> <th>  Prob (F-statistic):</th> <td>2.12e-21</td>\n",
       "</tr>\n",
       "<tr>\n",
       "  <th>Time:</th>                 <td>21:06:24</td>     <th>  Log-Likelihood:    </th> <td> -238.64</td>\n",
       "</tr>\n",
       "<tr>\n",
       "  <th>No. Observations:</th>      <td>    65</td>      <th>  AIC:               </th> <td>   483.3</td>\n",
       "</tr>\n",
       "<tr>\n",
       "  <th>Df Residuals:</th>          <td>    62</td>      <th>  BIC:               </th> <td>   489.8</td>\n",
       "</tr>\n",
       "<tr>\n",
       "  <th>Df Model:</th>              <td>     2</td>      <th>                     </th>     <td> </td>   \n",
       "</tr>\n",
       "<tr>\n",
       "  <th>Covariance Type:</th>      <td>nonrobust</td>    <th>                     </th>     <td> </td>   \n",
       "</tr>\n",
       "</table>\n",
       "<table class=\"simpletable\">\n",
       "<tr>\n",
       "    <td></td>       <th>coef</th>     <th>std err</th>      <th>t</th>      <th>P>|t|</th>  <th>[0.025</th>    <th>0.975]</th>  \n",
       "</tr>\n",
       "<tr>\n",
       "  <th>const</th> <td>   21.5723</td> <td>    3.447</td> <td>    6.258</td> <td> 0.000</td> <td>   14.682</td> <td>   28.463</td>\n",
       "</tr>\n",
       "<tr>\n",
       "  <th>x1</th>    <td>   42.4794</td> <td>   24.006</td> <td>    1.770</td> <td> 0.082</td> <td>   -5.507</td> <td>   90.466</td>\n",
       "</tr>\n",
       "<tr>\n",
       "  <th>x2</th>    <td>   30.3993</td> <td>   24.190</td> <td>    1.257</td> <td> 0.214</td> <td>  -17.957</td> <td>   78.755</td>\n",
       "</tr>\n",
       "</table>\n",
       "<table class=\"simpletable\">\n",
       "<tr>\n",
       "  <th>Omnibus:</th>       <td> 2.260</td> <th>  Durbin-Watson:     </th> <td>   1.868</td>\n",
       "</tr>\n",
       "<tr>\n",
       "  <th>Prob(Omnibus):</th> <td> 0.323</td> <th>  Jarque-Bera (JB):  </th> <td>   1.432</td>\n",
       "</tr>\n",
       "<tr>\n",
       "  <th>Skew:</th>          <td> 0.040</td> <th>  Prob(JB):          </th> <td>   0.489</td>\n",
       "</tr>\n",
       "<tr>\n",
       "  <th>Kurtosis:</th>      <td> 2.277</td> <th>  Cond. No.          </th> <td>    32.9</td>\n",
       "</tr>\n",
       "</table><br/><br/>Notes:<br/>[1] Standard Errors assume that the covariance matrix of the errors is correctly specified."
      ],
      "text/plain": [
       "<class 'statsmodels.iolib.summary.Summary'>\n",
       "\"\"\"\n",
       "                            OLS Regression Results                            \n",
       "==============================================================================\n",
       "Dep. Variable:                      y   R-squared:                       0.785\n",
       "Model:                            OLS   Adj. R-squared:                  0.778\n",
       "Method:                 Least Squares   F-statistic:                     113.0\n",
       "Date:                Mon, 27 Feb 2023   Prob (F-statistic):           2.12e-21\n",
       "Time:                        21:06:24   Log-Likelihood:                -238.64\n",
       "No. Observations:                  65   AIC:                             483.3\n",
       "Df Residuals:                      62   BIC:                             489.8\n",
       "Df Model:                           2                                         \n",
       "Covariance Type:            nonrobust                                         \n",
       "==============================================================================\n",
       "                 coef    std err          t      P>|t|      [0.025      0.975]\n",
       "------------------------------------------------------------------------------\n",
       "const         21.5723      3.447      6.258      0.000      14.682      28.463\n",
       "x1            42.4794     24.006      1.770      0.082      -5.507      90.466\n",
       "x2            30.3993     24.190      1.257      0.214     -17.957      78.755\n",
       "==============================================================================\n",
       "Omnibus:                        2.260   Durbin-Watson:                   1.868\n",
       "Prob(Omnibus):                  0.323   Jarque-Bera (JB):                1.432\n",
       "Skew:                           0.040   Prob(JB):                        0.489\n",
       "Kurtosis:                       2.277   Cond. No.                         32.9\n",
       "==============================================================================\n",
       "\n",
       "Notes:\n",
       "[1] Standard Errors assume that the covariance matrix of the errors is correctly specified.\n",
       "\"\"\""
      ]
     },
     "execution_count": 49,
     "metadata": {},
     "output_type": "execute_result"
    }
   ],
   "source": [
    "ols_vdem_fh_select_sm_fit.summary()"
   ]
  },
  {
   "cell_type": "code",
   "execution_count": 50,
   "id": "62591f8b",
   "metadata": {},
   "outputs": [
    {
     "data": {
      "text/html": [
       "<div>\n",
       "<style scoped>\n",
       "    .dataframe tbody tr th:only-of-type {\n",
       "        vertical-align: middle;\n",
       "    }\n",
       "\n",
       "    .dataframe tbody tr th {\n",
       "        vertical-align: top;\n",
       "    }\n",
       "\n",
       "    .dataframe thead th {\n",
       "        text-align: right;\n",
       "    }\n",
       "</style>\n",
       "<table border=\"1\" class=\"dataframe\">\n",
       "  <thead>\n",
       "    <tr style=\"text-align: right;\">\n",
       "      <th></th>\n",
       "      <th>OLS</th>\n",
       "      <th>Ridge</th>\n",
       "      <th>Lasso</th>\n",
       "      <th>OLS (select)</th>\n",
       "    </tr>\n",
       "  </thead>\n",
       "  <tbody>\n",
       "    <tr>\n",
       "      <th>intercept</th>\n",
       "      <td>23.34***</td>\n",
       "      <td>24.58</td>\n",
       "      <td>27.80</td>\n",
       "      <td>21.57***</td>\n",
       "    </tr>\n",
       "    <tr>\n",
       "      <th>v2x_polyarchy</th>\n",
       "      <td>32.54</td>\n",
       "      <td>20.32</td>\n",
       "      <td>37.54</td>\n",
       "      <td>42.48*</td>\n",
       "    </tr>\n",
       "    <tr>\n",
       "      <th>v2x_libdem</th>\n",
       "      <td>55.61</td>\n",
       "      <td>18.54</td>\n",
       "      <td>19.18</td>\n",
       "      <td>30.40</td>\n",
       "    </tr>\n",
       "    <tr>\n",
       "      <th>v2x_partipdem</th>\n",
       "      <td>15.10</td>\n",
       "      <td>14.21</td>\n",
       "      <td>0.00</td>\n",
       "      <td>nan</td>\n",
       "    </tr>\n",
       "    <tr>\n",
       "      <th>v2x_delibdem</th>\n",
       "      <td>-6.89</td>\n",
       "      <td>12.84</td>\n",
       "      <td>0.00</td>\n",
       "      <td>nan</td>\n",
       "    </tr>\n",
       "    <tr>\n",
       "      <th>v2x_egaldem</th>\n",
       "      <td>-23.62</td>\n",
       "      <td>7.71</td>\n",
       "      <td>0.00</td>\n",
       "      <td>nan</td>\n",
       "    </tr>\n",
       "  </tbody>\n",
       "</table>\n",
       "</div>"
      ],
      "text/plain": [
       "                    OLS  Ridge  Lasso OLS (select)\n",
       "intercept      23.34***  24.58  27.80     21.57***\n",
       "v2x_polyarchy     32.54  20.32  37.54       42.48*\n",
       "v2x_libdem        55.61  18.54  19.18        30.40\n",
       "v2x_partipdem     15.10  14.21   0.00          nan\n",
       "v2x_delibdem      -6.89  12.84   0.00          nan\n",
       "v2x_egaldem      -23.62   7.71   0.00          nan"
      ]
     },
     "execution_count": 50,
     "metadata": {},
     "output_type": "execute_result"
    }
   ],
   "source": [
    "vdem_fh_regression['OLS (select)'] = np.concatenate([ols_vdem_fh_select_sm_fit.params, np.empty(len(indicators_regression)-len(indicators_regression_select))*np.nan])\n",
    "vdem_fh_regression = format_coef(df=vdem_fh_regression, coef='OLS (select)', pvalues=np.concatenate([ols_vdem_fh_select_sm_fit.pvalues, np.empty(len(indicators_regression)-len(indicators_regression_select))*np.nan]))\n",
    "vdem_fh_regression"
   ]
  },
  {
   "cell_type": "markdown",
   "id": "fd3c7d8d",
   "metadata": {},
   "source": [
    "### 9.1.2. Classification"
   ]
  },
  {
   "cell_type": "code",
   "execution_count": 51,
   "id": "07a9e356",
   "metadata": {},
   "outputs": [],
   "source": [
    "indicators_logit = ['v2smgovdom_osp', 'v2smgovfilprc_osp', 'v2smgovsmcenprc_osp', 'v2smonper_osp', 'v2smarrest_osp']"
   ]
  },
  {
   "cell_type": "code",
   "execution_count": 52,
   "id": "434b23be",
   "metadata": {},
   "outputs": [],
   "source": [
    "X_vdem_logit = vdem[indicators_logit].to_numpy()\n",
    "y_vdem_logit = np.where(vdem[\"v2x_regime\"] <= 1, 0, 1).copy()"
   ]
  },
  {
   "cell_type": "code",
   "execution_count": 53,
   "id": "2d983054",
   "metadata": {},
   "outputs": [],
   "source": [
    "from sklearn.linear_model import LogisticRegression"
   ]
  },
  {
   "cell_type": "code",
   "execution_count": 54,
   "id": "7512e176",
   "metadata": {},
   "outputs": [],
   "source": [
    "logit_vdem = LogisticRegression(penalty='none', C=1., fit_intercept=False)"
   ]
  },
  {
   "cell_type": "code",
   "execution_count": 55,
   "id": "6adc774f",
   "metadata": {},
   "outputs": [
    {
     "name": "stderr",
     "output_type": "stream",
     "text": [
      "/home/sed_zeppelin/anaconda3/lib/python3.8/site-packages/sklearn/linear_model/_logistic.py:1173: FutureWarning: `penalty='none'`has been deprecated in 1.2 and will be removed in 1.4. To keep the past behaviour, set `penalty=None`.\n",
      "  warnings.warn(\n"
     ]
    }
   ],
   "source": [
    "logit_vdem_fit = logit_vdem.fit(X_vdem_logit, y_vdem_logit)"
   ]
  },
  {
   "cell_type": "code",
   "execution_count": 56,
   "id": "3584b9cb",
   "metadata": {},
   "outputs": [
    {
     "data": {
      "text/plain": [
       "0.8044692737430168"
      ]
     },
     "execution_count": 56,
     "metadata": {},
     "output_type": "execute_result"
    }
   ],
   "source": [
    "# goodness of fit\n",
    "logit_vdem_fit.score(X_vdem_logit, y_vdem_logit)"
   ]
  },
  {
   "cell_type": "code",
   "execution_count": 57,
   "id": "86b7e528",
   "metadata": {},
   "outputs": [
    {
     "data": {
      "text/plain": [
       "array([0.])"
      ]
     },
     "execution_count": 57,
     "metadata": {},
     "output_type": "execute_result"
    }
   ],
   "source": [
    "# intercept\n",
    "logit_vdem_fit.intercept_"
   ]
  },
  {
   "cell_type": "code",
   "execution_count": 58,
   "id": "480f857a",
   "metadata": {},
   "outputs": [
    {
     "data": {
      "text/plain": [
       "array([ 0.79370968,  0.5426701 , -2.45795325, -0.01638149,  2.63622393])"
      ]
     },
     "execution_count": 58,
     "metadata": {},
     "output_type": "execute_result"
    }
   ],
   "source": [
    "# coefficients\n",
    "logit_vdem_fit.coef_[0]"
   ]
  },
  {
   "cell_type": "code",
   "execution_count": 59,
   "id": "987665c5",
   "metadata": {},
   "outputs": [],
   "source": [
    "X_vdem_logit_ = sm.add_constant(X_vdem_logit)"
   ]
  },
  {
   "cell_type": "code",
   "execution_count": 60,
   "id": "306ac80e",
   "metadata": {},
   "outputs": [],
   "source": [
    "logit_vdem_sm = sm.Logit(y_vdem_logit, X_vdem_logit_)"
   ]
  },
  {
   "cell_type": "code",
   "execution_count": 61,
   "id": "4c776f61",
   "metadata": {},
   "outputs": [
    {
     "name": "stdout",
     "output_type": "stream",
     "text": [
      "Optimization terminated successfully.\n",
      "         Current function value: 0.307529\n",
      "         Iterations 8\n"
     ]
    }
   ],
   "source": [
    "logit_vdem_sm_fit = logit_vdem_sm.fit()"
   ]
  },
  {
   "cell_type": "code",
   "execution_count": 62,
   "id": "7dc10e07",
   "metadata": {},
   "outputs": [
    {
     "data": {
      "text/html": [
       "<table class=\"simpletable\">\n",
       "<caption>Logit Regression Results</caption>\n",
       "<tr>\n",
       "  <th>Dep. Variable:</th>           <td>y</td>        <th>  No. Observations:  </th>  <td>   179</td>  \n",
       "</tr>\n",
       "<tr>\n",
       "  <th>Model:</th>                 <td>Logit</td>      <th>  Df Residuals:      </th>  <td>   173</td>  \n",
       "</tr>\n",
       "<tr>\n",
       "  <th>Method:</th>                 <td>MLE</td>       <th>  Df Model:          </th>  <td>     5</td>  \n",
       "</tr>\n",
       "<tr>\n",
       "  <th>Date:</th>            <td>Mon, 27 Feb 2023</td> <th>  Pseudo R-squ.:     </th>  <td>0.5561</td>  \n",
       "</tr>\n",
       "<tr>\n",
       "  <th>Time:</th>                <td>21:06:24</td>     <th>  Log-Likelihood:    </th> <td> -55.048</td> \n",
       "</tr>\n",
       "<tr>\n",
       "  <th>converged:</th>             <td>True</td>       <th>  LL-Null:           </th> <td> -124.00</td> \n",
       "</tr>\n",
       "<tr>\n",
       "  <th>Covariance Type:</th>     <td>nonrobust</td>    <th>  LLR p-value:       </th> <td>4.972e-28</td>\n",
       "</tr>\n",
       "</table>\n",
       "<table class=\"simpletable\">\n",
       "<tr>\n",
       "    <td></td>       <th>coef</th>     <th>std err</th>      <th>z</th>      <th>P>|z|</th>  <th>[0.025</th>    <th>0.975]</th>  \n",
       "</tr>\n",
       "<tr>\n",
       "  <th>const</th> <td>  -10.4421</td> <td>    2.330</td> <td>   -4.481</td> <td> 0.000</td> <td>  -15.009</td> <td>   -5.875</td>\n",
       "</tr>\n",
       "<tr>\n",
       "  <th>x1</th>    <td>    0.9712</td> <td>    0.366</td> <td>    2.656</td> <td> 0.008</td> <td>    0.255</td> <td>    1.688</td>\n",
       "</tr>\n",
       "<tr>\n",
       "  <th>x2</th>    <td>   -0.0771</td> <td>    0.641</td> <td>   -0.120</td> <td> 0.904</td> <td>   -1.333</td> <td>    1.179</td>\n",
       "</tr>\n",
       "<tr>\n",
       "  <th>x3</th>    <td>    1.2056</td> <td>    0.868</td> <td>    1.389</td> <td> 0.165</td> <td>   -0.496</td> <td>    2.907</td>\n",
       "</tr>\n",
       "<tr>\n",
       "  <th>x4</th>    <td>    0.2513</td> <td>    0.549</td> <td>    0.458</td> <td> 0.647</td> <td>   -0.825</td> <td>    1.327</td>\n",
       "</tr>\n",
       "<tr>\n",
       "  <th>x5</th>    <td>    1.8268</td> <td>    0.545</td> <td>    3.350</td> <td> 0.001</td> <td>    0.758</td> <td>    2.896</td>\n",
       "</tr>\n",
       "</table>"
      ],
      "text/plain": [
       "<class 'statsmodels.iolib.summary.Summary'>\n",
       "\"\"\"\n",
       "                           Logit Regression Results                           \n",
       "==============================================================================\n",
       "Dep. Variable:                      y   No. Observations:                  179\n",
       "Model:                          Logit   Df Residuals:                      173\n",
       "Method:                           MLE   Df Model:                            5\n",
       "Date:                Mon, 27 Feb 2023   Pseudo R-squ.:                  0.5561\n",
       "Time:                        21:06:24   Log-Likelihood:                -55.048\n",
       "converged:                       True   LL-Null:                       -124.00\n",
       "Covariance Type:            nonrobust   LLR p-value:                 4.972e-28\n",
       "==============================================================================\n",
       "                 coef    std err          z      P>|z|      [0.025      0.975]\n",
       "------------------------------------------------------------------------------\n",
       "const        -10.4421      2.330     -4.481      0.000     -15.009      -5.875\n",
       "x1             0.9712      0.366      2.656      0.008       0.255       1.688\n",
       "x2            -0.0771      0.641     -0.120      0.904      -1.333       1.179\n",
       "x3             1.2056      0.868      1.389      0.165      -0.496       2.907\n",
       "x4             0.2513      0.549      0.458      0.647      -0.825       1.327\n",
       "x5             1.8268      0.545      3.350      0.001       0.758       2.896\n",
       "==============================================================================\n",
       "\"\"\""
      ]
     },
     "execution_count": 62,
     "metadata": {},
     "output_type": "execute_result"
    }
   ],
   "source": [
    "logit_vdem_sm_fit.summary()"
   ]
  },
  {
   "cell_type": "code",
   "execution_count": 63,
   "id": "d0079d65",
   "metadata": {},
   "outputs": [
    {
     "data": {
      "text/plain": [
       "0.5560797620202649"
      ]
     },
     "execution_count": 63,
     "metadata": {},
     "output_type": "execute_result"
    }
   ],
   "source": [
    "# goodness of fit\n",
    "logit_vdem_sm_fit.prsquared"
   ]
  },
  {
   "cell_type": "code",
   "execution_count": 64,
   "id": "08c3bb33",
   "metadata": {},
   "outputs": [
    {
     "data": {
      "text/plain": [
       "array([-10.44206953,   0.97115917,  -0.07713647,   1.20558503,\n",
       "         0.25125261,   1.82681524])"
      ]
     },
     "execution_count": 64,
     "metadata": {},
     "output_type": "execute_result"
    }
   ],
   "source": [
    "# intercept and coefficients\n",
    "logit_vdem_sm_fit.params"
   ]
  },
  {
   "cell_type": "code",
   "execution_count": 65,
   "id": "6ccc68d6",
   "metadata": {},
   "outputs": [
    {
     "data": {
      "text/plain": [
       "array([7.42006943e-06, 7.89728126e-03, 9.04197013e-01, 1.64840553e-01,\n",
       "       6.47146164e-01, 8.08094675e-04])"
      ]
     },
     "execution_count": 65,
     "metadata": {},
     "output_type": "execute_result"
    }
   ],
   "source": [
    "# significance scores\n",
    "logit_vdem_sm_fit.pvalues"
   ]
  },
  {
   "cell_type": "code",
   "execution_count": 66,
   "id": "4006167c",
   "metadata": {},
   "outputs": [
    {
     "data": {
      "text/html": [
       "<div>\n",
       "<style scoped>\n",
       "    .dataframe tbody tr th:only-of-type {\n",
       "        vertical-align: middle;\n",
       "    }\n",
       "\n",
       "    .dataframe tbody tr th {\n",
       "        vertical-align: top;\n",
       "    }\n",
       "\n",
       "    .dataframe thead th {\n",
       "        text-align: right;\n",
       "    }\n",
       "</style>\n",
       "<table border=\"1\" class=\"dataframe\">\n",
       "  <thead>\n",
       "    <tr style=\"text-align: right;\">\n",
       "      <th></th>\n",
       "      <th>Logit</th>\n",
       "    </tr>\n",
       "  </thead>\n",
       "  <tbody>\n",
       "    <tr>\n",
       "      <th>intercept</th>\n",
       "      <td>-10.44***</td>\n",
       "    </tr>\n",
       "    <tr>\n",
       "      <th>v2smgovdom_osp</th>\n",
       "      <td>0.97**</td>\n",
       "    </tr>\n",
       "    <tr>\n",
       "      <th>v2smgovfilprc_osp</th>\n",
       "      <td>-0.08</td>\n",
       "    </tr>\n",
       "    <tr>\n",
       "      <th>v2smgovsmcenprc_osp</th>\n",
       "      <td>1.21</td>\n",
       "    </tr>\n",
       "    <tr>\n",
       "      <th>v2smonper_osp</th>\n",
       "      <td>0.25</td>\n",
       "    </tr>\n",
       "    <tr>\n",
       "      <th>v2smarrest_osp</th>\n",
       "      <td>1.83***</td>\n",
       "    </tr>\n",
       "  </tbody>\n",
       "</table>\n",
       "</div>"
      ],
      "text/plain": [
       "                         Logit\n",
       "intercept            -10.44***\n",
       "v2smgovdom_osp          0.97**\n",
       "v2smgovfilprc_osp        -0.08\n",
       "v2smgovsmcenprc_osp       1.21\n",
       "v2smonper_osp             0.25\n",
       "v2smarrest_osp         1.83***"
      ]
     },
     "execution_count": 66,
     "metadata": {},
     "output_type": "execute_result"
    }
   ],
   "source": [
    "vdem_classification = pd.DataFrame(\n",
    "    data = logit_vdem_sm_fit.params, \n",
    "    index = np.concatenate([['intercept'], indicators_logit]), \n",
    "    columns = ['Logit']\n",
    ")\n",
    "vdem_classification = format_coef(df=vdem_classification, coef='Logit', pvalues=logit_vdem_sm_fit.pvalues)\n",
    "vdem_classification"
   ]
  },
  {
   "cell_type": "markdown",
   "id": "f09475fd",
   "metadata": {},
   "source": [
    "## 9.2. Prediction (supervised machine learning)\n",
    "\n",
    "- Out-of-sample testing\n",
    "- Cross validation\n",
    "- Data leakage\n",
    "- Feature selection\n",
    "- Over- and underfitting\n",
    "\n",
    "- https://jakevdp.github.io/PythonDataScienceHandbook/05.03-hyperparameters-and-model-validation.html\n"
   ]
  },
  {
   "cell_type": "markdown",
   "id": "67dc3243",
   "metadata": {},
   "source": [
    "<div class='alert alert-block alert-success'>\n",
    "<b>TASK</b>\n",
    "\n",
    "Copy the codes from https://github.com/UWNETLAB/dcss_supplementary/blob/main/chapter_notebooks/chapter_20.ipynb here, starting with \"The Train-Test Split\", and make them run. Don't read the data in again. Use `vdem` and `vdem_fh` instead.\n",
    "</div>"
   ]
  },
  {
   "cell_type": "markdown",
   "id": "e7c966dc",
   "metadata": {},
   "source": [
    "#### The Train-Test Split"
   ]
  },
  {
   "cell_type": "code",
   "execution_count": 67,
   "id": "96ba1aa4",
   "metadata": {},
   "outputs": [],
   "source": [
    "from sklearn.model_selection import train_test_split\n",
    "\n",
    "X = vdem_fh[['v2x_polyarchy', 'v2x_libdem', 'v2x_partipdem', 'v2x_delibdem', 'v2x_egaldem',]]\n",
    "y = vdem_fh[['Total Score']]\n",
    "\n",
    "X_train, X_test, y_train, y_test = train_test_split(X, y, shuffle=True, random_state=23)"
   ]
  },
  {
   "cell_type": "markdown",
   "id": "d6daefc9",
   "metadata": {},
   "source": [
    "### Supervised Learning with Linear Regression\n",
    "#### Ordinary Least Squares (OLS) Regression"
   ]
  },
  {
   "cell_type": "code",
   "execution_count": 68,
   "id": "74a79435",
   "metadata": {},
   "outputs": [],
   "source": [
    "from sklearn.linear_model import LinearRegression\n",
    "ols = LinearRegression()"
   ]
  },
  {
   "cell_type": "code",
   "execution_count": 69,
   "id": "0ccee3b8",
   "metadata": {},
   "outputs": [
    {
     "data": {
      "text/html": [
       "<style>#sk-container-id-1 {color: black;background-color: white;}#sk-container-id-1 pre{padding: 0;}#sk-container-id-1 div.sk-toggleable {background-color: white;}#sk-container-id-1 label.sk-toggleable__label {cursor: pointer;display: block;width: 100%;margin-bottom: 0;padding: 0.3em;box-sizing: border-box;text-align: center;}#sk-container-id-1 label.sk-toggleable__label-arrow:before {content: \"▸\";float: left;margin-right: 0.25em;color: #696969;}#sk-container-id-1 label.sk-toggleable__label-arrow:hover:before {color: black;}#sk-container-id-1 div.sk-estimator:hover label.sk-toggleable__label-arrow:before {color: black;}#sk-container-id-1 div.sk-toggleable__content {max-height: 0;max-width: 0;overflow: hidden;text-align: left;background-color: #f0f8ff;}#sk-container-id-1 div.sk-toggleable__content pre {margin: 0.2em;color: black;border-radius: 0.25em;background-color: #f0f8ff;}#sk-container-id-1 input.sk-toggleable__control:checked~div.sk-toggleable__content {max-height: 200px;max-width: 100%;overflow: auto;}#sk-container-id-1 input.sk-toggleable__control:checked~label.sk-toggleable__label-arrow:before {content: \"▾\";}#sk-container-id-1 div.sk-estimator input.sk-toggleable__control:checked~label.sk-toggleable__label {background-color: #d4ebff;}#sk-container-id-1 div.sk-label input.sk-toggleable__control:checked~label.sk-toggleable__label {background-color: #d4ebff;}#sk-container-id-1 input.sk-hidden--visually {border: 0;clip: rect(1px 1px 1px 1px);clip: rect(1px, 1px, 1px, 1px);height: 1px;margin: -1px;overflow: hidden;padding: 0;position: absolute;width: 1px;}#sk-container-id-1 div.sk-estimator {font-family: monospace;background-color: #f0f8ff;border: 1px dotted black;border-radius: 0.25em;box-sizing: border-box;margin-bottom: 0.5em;}#sk-container-id-1 div.sk-estimator:hover {background-color: #d4ebff;}#sk-container-id-1 div.sk-parallel-item::after {content: \"\";width: 100%;border-bottom: 1px solid gray;flex-grow: 1;}#sk-container-id-1 div.sk-label:hover label.sk-toggleable__label {background-color: #d4ebff;}#sk-container-id-1 div.sk-serial::before {content: \"\";position: absolute;border-left: 1px solid gray;box-sizing: border-box;top: 0;bottom: 0;left: 50%;z-index: 0;}#sk-container-id-1 div.sk-serial {display: flex;flex-direction: column;align-items: center;background-color: white;padding-right: 0.2em;padding-left: 0.2em;position: relative;}#sk-container-id-1 div.sk-item {position: relative;z-index: 1;}#sk-container-id-1 div.sk-parallel {display: flex;align-items: stretch;justify-content: center;background-color: white;position: relative;}#sk-container-id-1 div.sk-item::before, #sk-container-id-1 div.sk-parallel-item::before {content: \"\";position: absolute;border-left: 1px solid gray;box-sizing: border-box;top: 0;bottom: 0;left: 50%;z-index: -1;}#sk-container-id-1 div.sk-parallel-item {display: flex;flex-direction: column;z-index: 1;position: relative;background-color: white;}#sk-container-id-1 div.sk-parallel-item:first-child::after {align-self: flex-end;width: 50%;}#sk-container-id-1 div.sk-parallel-item:last-child::after {align-self: flex-start;width: 50%;}#sk-container-id-1 div.sk-parallel-item:only-child::after {width: 0;}#sk-container-id-1 div.sk-dashed-wrapped {border: 1px dashed gray;margin: 0 0.4em 0.5em 0.4em;box-sizing: border-box;padding-bottom: 0.4em;background-color: white;}#sk-container-id-1 div.sk-label label {font-family: monospace;font-weight: bold;display: inline-block;line-height: 1.2em;}#sk-container-id-1 div.sk-label-container {text-align: center;}#sk-container-id-1 div.sk-container {/* jupyter's `normalize.less` sets `[hidden] { display: none; }` but bootstrap.min.css set `[hidden] { display: none !important; }` so we also need the `!important` here to be able to override the default hidden behavior on the sphinx rendered scikit-learn.org. See: https://github.com/scikit-learn/scikit-learn/issues/21755 */display: inline-block !important;position: relative;}#sk-container-id-1 div.sk-text-repr-fallback {display: none;}</style><div id=\"sk-container-id-1\" class=\"sk-top-container\"><div class=\"sk-text-repr-fallback\"><pre>LinearRegression()</pre><b>In a Jupyter environment, please rerun this cell to show the HTML representation or trust the notebook. <br />On GitHub, the HTML representation is unable to render, please try loading this page with nbviewer.org.</b></div><div class=\"sk-container\" hidden><div class=\"sk-item\"><div class=\"sk-estimator sk-toggleable\"><input class=\"sk-toggleable__control sk-hidden--visually\" id=\"sk-estimator-id-1\" type=\"checkbox\" checked><label for=\"sk-estimator-id-1\" class=\"sk-toggleable__label sk-toggleable__label-arrow\">LinearRegression</label><div class=\"sk-toggleable__content\"><pre>LinearRegression()</pre></div></div></div></div></div>"
      ],
      "text/plain": [
       "LinearRegression()"
      ]
     },
     "execution_count": 69,
     "metadata": {},
     "output_type": "execute_result"
    }
   ],
   "source": [
    "ols.fit(X_train, y_train)"
   ]
  },
  {
   "cell_type": "code",
   "execution_count": 70,
   "id": "ce46fb51",
   "metadata": {},
   "outputs": [
    {
     "name": "stdout",
     "output_type": "stream",
     "text": [
      "Intercept ['v2x_polyarchy', 'v2x_libdem', 'v2x_partipdem', 'v2x_delibdem', 'v2x_egaldem']\n",
      "[20.63811519] [[ 50.39585893  39.56204743  -8.08759862  13.15629676 -23.17231143]]\n"
     ]
    }
   ],
   "source": [
    "print(\"Intercept\", list(X_train.columns))\n",
    "print(ols.intercept_, ols.coef_)"
   ]
  },
  {
   "cell_type": "code",
   "execution_count": 71,
   "id": "296a736a",
   "metadata": {},
   "outputs": [
    {
     "data": {
      "text/plain": [
       "0.8001472299432686"
      ]
     },
     "execution_count": 71,
     "metadata": {},
     "output_type": "execute_result"
    }
   ],
   "source": [
    "ols.score(X_train, y_train)"
   ]
  },
  {
   "cell_type": "markdown",
   "id": "75dfdb94",
   "metadata": {},
   "source": [
    "### CROSS-VALIDATION\n",
    "#### Putting The Two Together: OLS and CV"
   ]
  },
  {
   "cell_type": "code",
   "execution_count": 72,
   "id": "2a6343ea",
   "metadata": {},
   "outputs": [
    {
     "data": {
      "text/plain": [
       "array([0.83058131, 0.78927647, 0.49840463, 0.79752537, 0.43638926])"
      ]
     },
     "execution_count": 72,
     "metadata": {},
     "output_type": "execute_result"
    }
   ],
   "source": [
    "from sklearn.model_selection import cross_val_score\n",
    "\n",
    "cross_val_score(ols, X_train, y_train, cv=5)"
   ]
  },
  {
   "cell_type": "code",
   "execution_count": 73,
   "id": "0cb77f6b",
   "metadata": {},
   "outputs": [
    {
     "data": {
      "text/plain": [
       "array([0.69717758, 0.75979355, 0.85291181, 0.75438354, 0.82520158])"
      ]
     },
     "execution_count": 73,
     "metadata": {},
     "output_type": "execute_result"
    }
   ],
   "source": [
    "from sklearn.model_selection import ShuffleSplit\n",
    "\n",
    "shuffsplit = ShuffleSplit(n_splits=5, test_size=0.2, random_state=42)\n",
    "\n",
    "olscv_score = cross_val_score(ols, X_train, y_train, cv=shuffsplit)\n",
    "olscv_score"
   ]
  },
  {
   "cell_type": "markdown",
   "id": "56d43262",
   "metadata": {},
   "source": [
    "#### Cheating on the Test"
   ]
  },
  {
   "cell_type": "code",
   "execution_count": 74,
   "id": "f6af36a1",
   "metadata": {},
   "outputs": [
    {
     "data": {
      "text/plain": [
       "0.7778936127600506"
      ]
     },
     "execution_count": 74,
     "metadata": {},
     "output_type": "execute_result"
    }
   ],
   "source": [
    "olscv_score.mean()"
   ]
  },
  {
   "cell_type": "code",
   "execution_count": 75,
   "id": "9622766e",
   "metadata": {},
   "outputs": [
    {
     "data": {
      "text/plain": [
       "0.7138660952137661"
      ]
     },
     "execution_count": 75,
     "metadata": {},
     "output_type": "execute_result"
    }
   ],
   "source": [
    "ols.score(X_test, y_test)"
   ]
  },
  {
   "cell_type": "markdown",
   "id": "6b75f90a",
   "metadata": {},
   "source": [
    "### Regularization via Ridge Regression"
   ]
  },
  {
   "cell_type": "code",
   "execution_count": 76,
   "id": "4cb0e4c2",
   "metadata": {},
   "outputs": [
    {
     "name": "stdout",
     "output_type": "stream",
     "text": [
      "[0.76925883 0.6824065  0.55949992 0.8241338  0.68662485 0.70895771\n",
      " 0.75976052 0.81467692 0.45224363 0.70896388 0.8031883  0.79628239\n",
      " 0.80544664 0.59523827 0.75607114]\n",
      "Mean: 0.714850220864512\n"
     ]
    }
   ],
   "source": [
    "from sklearn.linear_model import Ridge\n",
    "\n",
    "X = vdem_fh[['v2x_polyarchy', 'v2x_libdem', 'v2x_partipdem', 'v2x_delibdem', 'v2x_egaldem',]]\n",
    "y = vdem_fh[['Total Score']]\n",
    "\n",
    "X_train, X_test, y_train, y_test = train_test_split(X, y, shuffle=True, random_state=2)\n",
    "shuffsplit = ShuffleSplit(n_splits=15, test_size=0.2, random_state=2)\n",
    "\n",
    "ridgereg = Ridge(1)\n",
    "ridgecv_score = cross_val_score(ridgereg, X_train, y_train, cv=shuffsplit)\n",
    "print(ridgecv_score)\n",
    "print(f\"Mean: {ridgecv_score.mean()}\")"
   ]
  },
  {
   "cell_type": "markdown",
   "id": "f569ef0b",
   "metadata": {},
   "source": [
    "### Regularization via Lasso Regression"
   ]
  },
  {
   "cell_type": "code",
   "execution_count": 77,
   "id": "b10f3a82",
   "metadata": {},
   "outputs": [
    {
     "name": "stdout",
     "output_type": "stream",
     "text": [
      "[0.66584977 0.57869829 0.56643005 0.80293505 0.63309778 0.67545323\n",
      " 0.68783192 0.76130175 0.40440872 0.6672346  0.70078081 0.75350907\n",
      " 0.78697977 0.56112952 0.7518551 ]\n",
      "Mean: 0.6664996955827663\n"
     ]
    }
   ],
   "source": [
    "from sklearn.linear_model import Lasso\n",
    "\n",
    "lassoreg = Lasso(1)\n",
    "lassocv_score = cross_val_score(lassoreg, X_train, y_train, cv=shuffsplit)\n",
    "print(lassocv_score)\n",
    "print(f\"Mean: {lassocv_score.mean()}\")"
   ]
  },
  {
   "cell_type": "code",
   "execution_count": 78,
   "id": "a3eed0cd",
   "metadata": {},
   "outputs": [],
   "source": [
    "alphas = np.linspace(0.01, 2, 50)\n",
    "\n",
    "ridge_r2s = []\n",
    "lasso_r2s = []\n",
    "\n",
    "olscv_score = cross_val_score(LinearRegression(), X_train, y_train, cv=shuffsplit)\n",
    "\n",
    "for alpha in alphas:\n",
    "    new_ridge = Ridge(alpha)\n",
    "    ridge_r2s.append(cross_val_score(new_ridge, X_train, y_train, cv=shuffsplit).mean())\n",
    "    \n",
    "    new_lasso = Lasso(alpha)\n",
    "    new_lasso.fit(X_train, y_train)\n",
    "    lasso_r2s.append(cross_val_score(new_lasso, X_train, y_train, cv=shuffsplit).mean())\n",
    "    \n",
    "r2s = pd.DataFrame(\n",
    "    zip(alphas, ridge_r2s, lasso_r2s), \n",
    "    columns = [\"alpha\", \"Ridge Regression\", \"Lasso Regression\"])"
   ]
  },
  {
   "cell_type": "code",
   "execution_count": 79,
   "id": "f4876689",
   "metadata": {},
   "outputs": [
    {
     "data": {
      "image/png": "[encoded data removed]",
      "text/plain": [
       "<Figure size 640x480 with 1 Axes>"
      ]
     },
     "metadata": {},
     "output_type": "display_data"
    }
   ],
   "source": [
    "fig, ax = plt.subplots()\n",
    "sns.lineplot(x=\"alpha\", y=\"Ridge Regression\", data = r2s, label=\"Ridge\", linestyle='solid')\n",
    "sns.lineplot(x=\"alpha\", y=\"Lasso Regression\", data = r2s, label = \"Lasso\", linestyle='dashed')\n",
    "ax.axhline(olscv_score.mean(), label=\"OLS\", linestyle='dotted', color=\"darkgray\")\n",
    "ax.set(xlabel='alpha values for Ridge and Lasso Regressions', ylabel='R2')\n",
    "sns.despine()\n",
    "ax.legend()\n",
    "plt.show()"
   ]
  },
  {
   "cell_type": "code",
   "execution_count": 80,
   "id": "4355dd9d",
   "metadata": {},
   "outputs": [
    {
     "data": {
      "text/plain": [
       "0.2942857142857143"
      ]
     },
     "execution_count": 80,
     "metadata": {},
     "output_type": "execute_result"
    }
   ],
   "source": [
    "best_alpha = alphas[ridge_r2s.index(max(ridge_r2s))]\n",
    "best_alpha"
   ]
  },
  {
   "cell_type": "code",
   "execution_count": 81,
   "id": "2d368d99",
   "metadata": {},
   "outputs": [
    {
     "data": {
      "text/html": [
       "<div>\n",
       "<style scoped>\n",
       "    .dataframe tbody tr th:only-of-type {\n",
       "        vertical-align: middle;\n",
       "    }\n",
       "\n",
       "    .dataframe tbody tr th {\n",
       "        vertical-align: top;\n",
       "    }\n",
       "\n",
       "    .dataframe thead th {\n",
       "        text-align: right;\n",
       "    }\n",
       "</style>\n",
       "<table border=\"1\" class=\"dataframe\">\n",
       "  <thead>\n",
       "    <tr style=\"text-align: right;\">\n",
       "      <th></th>\n",
       "      <th>0</th>\n",
       "    </tr>\n",
       "  </thead>\n",
       "  <tbody>\n",
       "    <tr>\n",
       "      <th>Intercept</th>\n",
       "      <td>22.769359</td>\n",
       "    </tr>\n",
       "    <tr>\n",
       "      <th>v2x_polyarchy</th>\n",
       "      <td>21.976134</td>\n",
       "    </tr>\n",
       "    <tr>\n",
       "      <th>v2x_libdem</th>\n",
       "      <td>20.601121</td>\n",
       "    </tr>\n",
       "    <tr>\n",
       "      <th>v2x_partipdem</th>\n",
       "      <td>22.536885</td>\n",
       "    </tr>\n",
       "    <tr>\n",
       "      <th>v2x_delibdem</th>\n",
       "      <td>5.303777</td>\n",
       "    </tr>\n",
       "    <tr>\n",
       "      <th>v2x_egaldem</th>\n",
       "      <td>7.585864</td>\n",
       "    </tr>\n",
       "  </tbody>\n",
       "</table>\n",
       "</div>"
      ],
      "text/plain": [
       "                       0\n",
       "Intercept      22.769359\n",
       "v2x_polyarchy  21.976134\n",
       "v2x_libdem     20.601121\n",
       "v2x_partipdem  22.536885\n",
       "v2x_delibdem    5.303777\n",
       "v2x_egaldem     7.585864"
      ]
     },
     "execution_count": 81,
     "metadata": {},
     "output_type": "execute_result"
    }
   ],
   "source": [
    "best_ridgereg = Ridge(best_alpha)\n",
    "best_ridgereg.fit(X_train, y_train)\n",
    "\n",
    "pd.DataFrame(\n",
    "    [\n",
    "        *best_ridgereg.intercept_, \n",
    "        *np.ravel(best_ridgereg.coef_)], \n",
    "    index=['Intercept', *X_test.columns]\n",
    ")"
   ]
  },
  {
   "cell_type": "code",
   "execution_count": 82,
   "id": "7a644491",
   "metadata": {},
   "outputs": [
    {
     "data": {
      "text/plain": [
       "0.7472740093285359"
      ]
     },
     "execution_count": 82,
     "metadata": {},
     "output_type": "execute_result"
    }
   ],
   "source": [
    "best_ridgereg.score(X_test, y_test)"
   ]
  },
  {
   "cell_type": "markdown",
   "id": "affb30ee",
   "metadata": {},
   "source": [
    "#### Model Interpretation"
   ]
  },
  {
   "cell_type": "code",
   "execution_count": 83,
   "id": "3168af45",
   "metadata": {},
   "outputs": [],
   "source": [
    "predictions = np.round(best_ridgereg.predict(X_test))"
   ]
  },
  {
   "cell_type": "code",
   "execution_count": 84,
   "id": "9bb09433",
   "metadata": {},
   "outputs": [
    {
     "data": {
      "text/plain": [
       "array([41., 40., 37., 34., 52., 82., 49., 33., 63., 49., 50., 73., 77.,\n",
       "       51., 29., 34., 33.])"
      ]
     },
     "execution_count": 84,
     "metadata": {},
     "output_type": "execute_result"
    }
   ],
   "source": [
    "np.ravel(predictions)"
   ]
  },
  {
   "cell_type": "code",
   "execution_count": 85,
   "id": "787aa9bb",
   "metadata": {},
   "outputs": [
    {
     "data": {
      "text/html": [
       "<div>\n",
       "<style scoped>\n",
       "    .dataframe tbody tr th:only-of-type {\n",
       "        vertical-align: middle;\n",
       "    }\n",
       "\n",
       "    .dataframe tbody tr th {\n",
       "        vertical-align: top;\n",
       "    }\n",
       "\n",
       "    .dataframe thead th {\n",
       "        text-align: right;\n",
       "    }\n",
       "</style>\n",
       "<table border=\"1\" class=\"dataframe\">\n",
       "  <thead>\n",
       "    <tr style=\"text-align: right;\">\n",
       "      <th></th>\n",
       "      <th>Total Score</th>\n",
       "      <th>Predicted Score</th>\n",
       "      <th>Country</th>\n",
       "    </tr>\n",
       "  </thead>\n",
       "  <tbody>\n",
       "    <tr>\n",
       "      <th>0</th>\n",
       "      <td>64</td>\n",
       "      <td>41.0</td>\n",
       "      <td>Angola</td>\n",
       "    </tr>\n",
       "    <tr>\n",
       "      <th>28</th>\n",
       "      <td>47</td>\n",
       "      <td>40.0</td>\n",
       "      <td>Jordan</td>\n",
       "    </tr>\n",
       "    <tr>\n",
       "      <th>62</th>\n",
       "      <td>24</td>\n",
       "      <td>37.0</td>\n",
       "      <td>Vietnam</td>\n",
       "    </tr>\n",
       "    <tr>\n",
       "      <th>29</th>\n",
       "      <td>32</td>\n",
       "      <td>34.0</td>\n",
       "      <td>Kazakhstan</td>\n",
       "    </tr>\n",
       "    <tr>\n",
       "      <th>23</th>\n",
       "      <td>55</td>\n",
       "      <td>52.0</td>\n",
       "      <td>India</td>\n",
       "    </tr>\n",
       "    <tr>\n",
       "      <th>10</th>\n",
       "      <td>87</td>\n",
       "      <td>82.0</td>\n",
       "      <td>Canada</td>\n",
       "    </tr>\n",
       "    <tr>\n",
       "      <th>30</th>\n",
       "      <td>68</td>\n",
       "      <td>49.0</td>\n",
       "      <td>Kenya</td>\n",
       "    </tr>\n",
       "    <tr>\n",
       "      <th>51</th>\n",
       "      <td>35</td>\n",
       "      <td>33.0</td>\n",
       "      <td>Thailand</td>\n",
       "    </tr>\n",
       "    <tr>\n",
       "      <th>36</th>\n",
       "      <td>60</td>\n",
       "      <td>63.0</td>\n",
       "      <td>Mexico</td>\n",
       "    </tr>\n",
       "    <tr>\n",
       "      <th>32</th>\n",
       "      <td>52</td>\n",
       "      <td>49.0</td>\n",
       "      <td>Lebanon</td>\n",
       "    </tr>\n",
       "    <tr>\n",
       "      <th>56</th>\n",
       "      <td>56</td>\n",
       "      <td>50.0</td>\n",
       "      <td>Ukraine</td>\n",
       "    </tr>\n",
       "    <tr>\n",
       "      <th>1</th>\n",
       "      <td>72</td>\n",
       "      <td>73.0</td>\n",
       "      <td>Argentina</td>\n",
       "    </tr>\n",
       "    <tr>\n",
       "      <th>27</th>\n",
       "      <td>73</td>\n",
       "      <td>77.0</td>\n",
       "      <td>Japan</td>\n",
       "    </tr>\n",
       "    <tr>\n",
       "      <th>35</th>\n",
       "      <td>57</td>\n",
       "      <td>51.0</td>\n",
       "      <td>Malaysia</td>\n",
       "    </tr>\n",
       "    <tr>\n",
       "      <th>50</th>\n",
       "      <td>17</td>\n",
       "      <td>29.0</td>\n",
       "      <td>Syria</td>\n",
       "    </tr>\n",
       "    <tr>\n",
       "      <th>9</th>\n",
       "      <td>43</td>\n",
       "      <td>34.0</td>\n",
       "      <td>Cambodia</td>\n",
       "    </tr>\n",
       "    <tr>\n",
       "      <th>60</th>\n",
       "      <td>26</td>\n",
       "      <td>33.0</td>\n",
       "      <td>Uzbekistan</td>\n",
       "    </tr>\n",
       "  </tbody>\n",
       "</table>\n",
       "</div>"
      ],
      "text/plain": [
       "    Total Score  Predicted Score     Country\n",
       "0            64             41.0      Angola\n",
       "28           47             40.0      Jordan\n",
       "62           24             37.0     Vietnam\n",
       "29           32             34.0  Kazakhstan\n",
       "23           55             52.0       India\n",
       "10           87             82.0      Canada\n",
       "30           68             49.0       Kenya\n",
       "51           35             33.0    Thailand\n",
       "36           60             63.0      Mexico\n",
       "32           52             49.0     Lebanon\n",
       "56           56             50.0     Ukraine\n",
       "1            72             73.0   Argentina\n",
       "27           73             77.0       Japan\n",
       "35           57             51.0    Malaysia\n",
       "50           17             29.0       Syria\n",
       "9            43             34.0    Cambodia\n",
       "60           26             33.0  Uzbekistan"
      ]
     },
     "execution_count": 85,
     "metadata": {},
     "output_type": "execute_result"
    }
   ],
   "source": [
    "preds = pd.DataFrame({\"Total Score\": y_test['Total Score'], \"Predicted Score\": np.ravel(predictions), \"Country\":  vdem_fh.loc[y_test.index]['Country']})\n",
    "preds"
   ]
  },
  {
   "cell_type": "markdown",
   "id": "db65b5e7",
   "metadata": {},
   "source": [
    "### CLASSIFICATION WITH LOGISTIC REGRESSION"
   ]
  },
  {
   "cell_type": "code",
   "execution_count": 86,
   "id": "63e7cf70",
   "metadata": {},
   "outputs": [],
   "source": [
    "y = np.where(vdem[\"v2x_regime\"] <= 1, 0, 1).copy()\n",
    "\n",
    "X = vdem[[\n",
    "                 'v2smgovdom_osp', \n",
    "                 \"v2smgovfilprc_osp\", \n",
    "                 \"v2smgovsmcenprc_osp\", \n",
    "                 \"v2smonper_osp\", \n",
    "                 \"v2smarrest_osp\", \n",
    "]]"
   ]
  },
  {
   "cell_type": "code",
   "execution_count": 87,
   "id": "e6d971bc",
   "metadata": {},
   "outputs": [
    {
     "name": "stdout",
     "output_type": "stream",
     "text": [
      "[0.96296296 0.85185185 0.88888889 0.85185185 0.7037037 ]\n",
      "Mean: 0.8518518518518519\n"
     ]
    }
   ],
   "source": [
    "from sklearn.linear_model import LogisticRegression\n",
    "\n",
    "X_train, X_test, y_train, y_test = train_test_split(X, y, random_state=23)\n",
    "shuffsplit = ShuffleSplit(n_splits=5, test_size=0.2, random_state=42)\n",
    "\n",
    "log_reg = cross_val_score(\n",
    "    LogisticRegression(), \n",
    "    X_train, \n",
    "    y_train, \n",
    "    cv=shuffsplit)\n",
    "print(log_reg)\n",
    "print(f\"Mean: {log_reg.mean()}\")"
   ]
  },
  {
   "cell_type": "code",
   "execution_count": 88,
   "id": "5d1854e7",
   "metadata": {},
   "outputs": [
    {
     "name": "stdout",
     "output_type": "stream",
     "text": [
      "[0.96296296 0.85185185 0.88888889 0.85185185 0.7037037 ]\n",
      "Mean: 0.8518518518518519\n"
     ]
    }
   ],
   "source": [
    "log_reg_regularized = cross_val_score(\n",
    "    LogisticRegression(C=0.5), \n",
    "    X_train, \n",
    "    y_train, \n",
    "    cv=shuffsplit)\n",
    "print(log_reg_regularized)\n",
    "print(f\"Mean: {log_reg_regularized.mean()}\")"
   ]
  },
  {
   "cell_type": "markdown",
   "id": "2a4641d0",
   "metadata": {},
   "source": [
    "### CONCLUSION\n",
    "#### Key Points"
   ]
  },
  {
   "cell_type": "code",
   "execution_count": null,
   "id": "5997393f",
   "metadata": {},
   "outputs": [],
   "source": []
  },
  {
   "cell_type": "code",
   "execution_count": null,
   "id": "6fa0c3e4",
   "metadata": {},
   "outputs": [],
   "source": []
  },
  {
   "cell_type": "code",
   "execution_count": null,
   "id": "f7b83485",
   "metadata": {},
   "outputs": [],
   "source": []
  },
  {
   "cell_type": "code",
   "execution_count": null,
   "id": "6348d3d5",
   "metadata": {},
   "outputs": [],
   "source": []
  },
  {
   "cell_type": "markdown",
   "id": "21de5e9e",
   "metadata": {},
   "source": [
    "BOXES: REFER TO SUPPORT VECTOR MACHINES AND NAIVE BAYES CLASSIFICATION\n",
    "\n",
    "https://jakevdp.github.io/PythonDataScienceHandbook/05.07-support-vector-machines.html\n",
    "https://jakevdp.github.io/PythonDataScienceHandbook/05.05-naive-bayes.html"
   ]
  },
  {
   "cell_type": "code",
   "execution_count": null,
   "id": "9ecd7989",
   "metadata": {},
   "outputs": [],
   "source": []
  },
  {
   "cell_type": "markdown",
   "id": "f6d1b5bc",
   "metadata": {},
   "source": [
    "## 9.3. Decision trees and random forests\n",
    "\n",
    "https://jakevdp.github.io/PythonDataScienceHandbook/05.08-random-forests.html"
   ]
  },
  {
   "cell_type": "markdown",
   "id": "80913cd8",
   "metadata": {},
   "source": [
    "<div class='alert alert-block alert-success'>\n",
    "<b>TASK</b>\n",
    "\n",
    "Copy the codes from https://github.com/UWNETLAB/dcss_supplementary/blob/main/chapter_notebooks/chapter_21.ipynb here. Note that the data called `forml` there is our data `vdem_fh`.\n",
    "</div>"
   ]
  },
  {
   "cell_type": "markdown",
   "id": "1cae4c4f",
   "metadata": {},
   "source": [
    "#### The Train-Test Split and Cross-Validation"
   ]
  },
  {
   "cell_type": "code",
   "execution_count": 89,
   "id": "24b749ac",
   "metadata": {},
   "outputs": [],
   "source": [
    "from sklearn.model_selection import train_test_split\n",
    "\n",
    "X = vdem_fh[['v2x_polyarchy', 'v2x_libdem', 'v2x_partipdem', 'v2x_delibdem', 'v2x_egaldem',]]\n",
    "y = vdem_fh[['Total Score']]\n",
    "\n",
    "X_train, X_test, y_train, y_test = train_test_split(X, y, random_state=23)"
   ]
  },
  {
   "cell_type": "markdown",
   "id": "938f573e",
   "metadata": {},
   "source": [
    "### RULES-BASED LEARNING WITH TREES\n",
    "#### Decision Trees"
   ]
  },
  {
   "cell_type": "markdown",
   "id": "fe4c9410",
   "metadata": {},
   "source": [
    "<div class='alert alert-block alert-danger'>\n",
    "<b>NOTE:</b>\n",
    "    \n",
    "I used `vdem` instead of `dem_indices` in the follwoing cells. Let me know if it is incorrect, so that I will modify it. \n",
    "</div>"
   ]
  },
  {
   "cell_type": "code",
   "execution_count": 90,
   "id": "2ef67dcd",
   "metadata": {},
   "outputs": [],
   "source": [
    "from sklearn.tree import DecisionTreeClassifier, export_graphviz\n",
    "from graphviz import Source\n",
    "from sklearn.preprocessing import LabelEncoder\n",
    "\n",
    "# dem_indices = pd.read_csv(\"../data/vdem_internet_freedom_combined/dem_indices.csv\")\n",
    "\n",
    "X = vdem[[\n",
    "                 'v2smgovdom_osp', # Government dissemination of false information domestic\n",
    "                 \"v2smgovfilprc_osp\", # Government internet filtering in practice\n",
    "                 \"v2smgovsmcenprc_osp\", # Government social media censorship in practice\n",
    "                 \"v2smonper_osp\", # Diversity of online media perspectives (0 = gov't only, 4 = any perspective)\n",
    "                 \"v2smarrest_osp\", # Arrests for political content disseminated online\n",
    "]]\n",
    "\n",
    "interpretable_names = [\n",
    "    'Domestic Misinformation',\n",
    "    'Internet Filtering',\n",
    "    'Social Media Censorship',\n",
    "    'Online Media Diversity',\n",
    "    'Arrests for Political Content'\n",
    "]\n",
    "\n",
    "regime_types = [\n",
    "    'Autocracy',\n",
    "    'Democracy',\n",
    "]\n",
    "\n",
    "\n",
    "le = LabelEncoder()\n",
    "labels = le.fit_transform(regime_types)\n",
    "\n",
    "y = np.where(vdem[\"v2x_regime\"] <= 1, 0, 1).copy()"
   ]
  },
  {
   "cell_type": "code",
   "execution_count": 91,
   "id": "3f538219",
   "metadata": {},
   "outputs": [
    {
     "name": "stdout",
     "output_type": "stream",
     "text": [
      "[0.68292683 0.73170732 0.7804878  0.75609756 0.82926829]\n",
      "Mean: 0.7560975609756098\n"
     ]
    }
   ],
   "source": [
    "from sklearn.model_selection import cross_val_score\n",
    "from sklearn.model_selection import ShuffleSplit\n",
    "\n",
    "X_train, X_test, y_train, y_test = train_test_split(X, y, random_state=23)\n",
    "\n",
    "shuffsplit = ShuffleSplit(n_splits=5, test_size=0.3, random_state=42)\n",
    "\n",
    "dtclass = DecisionTreeClassifier(random_state=0)\n",
    "dt_scores = cross_val_score(dtclass, X_train, y_train, cv=shuffsplit)\n",
    "print(dt_scores)\n",
    "print(f\"Mean: {dt_scores.mean()}\")"
   ]
  },
  {
   "cell_type": "code",
   "execution_count": 92,
   "id": "fb50efde",
   "metadata": {},
   "outputs": [],
   "source": [
    "# vdem.v2x_regime"
   ]
  },
  {
   "cell_type": "markdown",
   "id": "3401d89c",
   "metadata": {},
   "source": [
    "<div class='alert alert-block alert-danger'>\n",
    "<b>TO DOUBLE CHECK:</b>\n",
    "    \n",
    "The output directory! \n",
    "</div>"
   ]
  },
  {
   "cell_type": "code",
   "execution_count": null,
   "id": "782cd594",
   "metadata": {},
   "outputs": [],
   "source": [
    "from sklearn import preprocessing\n",
    "\n",
    "dt_fitted = dtclass.fit(X_train, y_train)\n",
    "\n",
    "export_graphviz(\n",
    "    dtclass,\n",
    "    out_file='../graphical_models/classified_1.gv', \n",
    "    filled=False,\n",
    "    rounded=True,\n",
    "    feature_names=interpretable_names,\n",
    "    class_names=le.classes_,\n",
    ")"
   ]
  },
  {
   "cell_type": "markdown",
   "id": "bac99358",
   "metadata": {},
   "source": [
    "#### What About Overfitting?"
   ]
  },
  {
   "cell_type": "code",
   "execution_count": null,
   "id": "9c4b3efd",
   "metadata": {
    "scrolled": true
   },
   "outputs": [],
   "source": [
    "dtclass_pruned = DecisionTreeClassifier(max_depth=3, random_state=0)\n",
    "dt_scores = cross_val_score(dtclass_pruned, X_train, y_train, cv=shuffsplit)\n",
    "print(dt_scores)\n",
    "print(f\"Mean: {dt_scores.mean()}\")"
   ]
  },
  {
   "cell_type": "markdown",
   "id": "0753d4a0",
   "metadata": {},
   "source": [
    "<div class='alert alert-block alert-danger'>\n",
    "<b>TO DOUBLE CHECK:</b>\n",
    "    \n",
    "The output directory! \n",
    "</div>"
   ]
  },
  {
   "cell_type": "code",
   "execution_count": null,
   "id": "68a6afc7",
   "metadata": {},
   "outputs": [],
   "source": [
    "dtclass_pruned.fit(X_train, y_train)\n",
    "\n",
    "export_graphviz(\n",
    "    dtclass_pruned,\n",
    "    out_file='../graphical_models/pruned.gv',\n",
    "    filled=False,\n",
    "    rounded=True,\n",
    "    feature_names=interpretable_names,\n",
    "    class_names=le.classes_,\n",
    ")"
   ]
  },
  {
   "cell_type": "code",
   "execution_count": null,
   "id": "1f76f78c",
   "metadata": {},
   "outputs": [],
   "source": [
    "dtclass_pruned.score(X_test, y_test)"
   ]
  },
  {
   "cell_type": "markdown",
   "id": "2f99f372",
   "metadata": {},
   "source": [
    "### ENSEMBLE LEARNING"
   ]
  },
  {
   "cell_type": "code",
   "execution_count": null,
   "id": "80d5b6c9",
   "metadata": {},
   "outputs": [],
   "source": [
    "from sklearn.ensemble import BaggingClassifier\n",
    "\n",
    "bag_of_trees = BaggingClassifier(DecisionTreeClassifier(),\n",
    "                                n_estimators=100,\n",
    "                                bootstrap=True,\n",
    "                                random_state=0)\n",
    "\n",
    "bt_scores = cross_val_score(bag_of_trees, X_train, y_train, cv=shuffsplit)\n",
    "print(bt_scores)\n",
    "print(f\"Mean: {bt_scores.mean()}\")"
   ]
  },
  {
   "cell_type": "markdown",
   "id": "ba59ca54",
   "metadata": {},
   "source": [
    "#### Random Forests"
   ]
  },
  {
   "cell_type": "code",
   "execution_count": null,
   "id": "80518945",
   "metadata": {
    "scrolled": true
   },
   "outputs": [],
   "source": [
    "from sklearn.ensemble import RandomForestClassifier\n",
    "\n",
    "rforest = RandomForestClassifier(n_estimators=100,\n",
    "                                max_features=2,\n",
    "                                random_state=0)\n",
    "\n",
    "rforest_scores = cross_val_score(rforest, X_train, y_train, cv=shuffsplit)\n",
    "print(rforest_scores)\n",
    "print(f\"Mean: {rforest_scores.mean()}\")"
   ]
  },
  {
   "cell_type": "markdown",
   "id": "d89830ff",
   "metadata": {},
   "source": [
    "<div class='alert alert-block alert-danger'>\n",
    "<b>TO DOUBLE CHECK:</b>\n",
    "    \n",
    "The output directory! \n",
    "</div>"
   ]
  },
  {
   "cell_type": "code",
   "execution_count": null,
   "id": "580c20c2",
   "metadata": {},
   "outputs": [],
   "source": [
    "rforest.fit(X_train, y_train)\n",
    "\n",
    "export_graphviz(\n",
    "    rforest.estimators_[6],\n",
    "    out_file='../graphical_models/rf_classified.gv',\n",
    "    filled=False,\n",
    "    rounded=True,\n",
    "    feature_names=interpretable_names,\n",
    "    class_names=le.classes_,\n",
    ")"
   ]
  },
  {
   "cell_type": "markdown",
   "id": "aae2a5a8",
   "metadata": {},
   "source": [
    "### Gradient Boosted Machines"
   ]
  },
  {
   "cell_type": "code",
   "execution_count": null,
   "id": "9903df9f",
   "metadata": {},
   "outputs": [],
   "source": [
    "from sklearn.ensemble import GradientBoostingClassifier\n",
    "\n",
    "gboost = GradientBoostingClassifier(n_estimators=100,\n",
    "                                random_state=0)\n",
    "\n",
    "gboost_scores = cross_val_score(gboost, X_train, y_train, cv=shuffsplit)\n",
    "print(gboost_scores)\n",
    "print(f\"Mean: {gboost_scores.mean()}\")"
   ]
  },
  {
   "cell_type": "code",
   "execution_count": null,
   "id": "5b29e422",
   "metadata": {},
   "outputs": [],
   "source": [
    "model_list = [dtclass,\n",
    "dtclass_pruned,\n",
    "bag_of_trees.fit(X_train, y_train),\n",
    "rforest,\n",
    "gboost.fit(X_train, y_train)]\n",
    "\n",
    "for model in model_list:\n",
    "    print(model.score(X_test, y_test))"
   ]
  },
  {
   "cell_type": "markdown",
   "id": "38839016",
   "metadata": {},
   "source": [
    "### Evaluation Beyond Accuracy\n",
    "### Balancing False Positives and False Negatives in Classification Models\n",
    "### Improving Binary Classification with Curves\n",
    "#### Precision-Recall Curves\n",
    "#### Beyond Binary Classifiers\n",
    "### CONCLUSION\n",
    "#### Key Points"
   ]
  },
  {
   "cell_type": "code",
   "execution_count": null,
   "id": "8629e83d",
   "metadata": {},
   "outputs": [],
   "source": []
  },
  {
   "cell_type": "code",
   "execution_count": null,
   "id": "a5bfddd8",
   "metadata": {},
   "outputs": [],
   "source": []
  },
  {
   "cell_type": "code",
   "execution_count": null,
   "id": "7156deb3",
   "metadata": {},
   "outputs": [],
   "source": []
  },
  {
   "cell_type": "code",
   "execution_count": null,
   "id": "0eb0a698",
   "metadata": {},
   "outputs": [],
   "source": []
  },
  {
   "cell_type": "markdown",
   "id": "801a732f",
   "metadata": {},
   "source": [
    "## 9.4. Towards deep learning\n",
    "\n",
    "Check https://doi.org/10.1073/pnas.1218772110\n",
    "\n",
    "- Convey an understanding of neural networks and deep learning\n",
    "- Start by extendin features by hashtag/named entity/mention representations\n",
    "- Use neural network off the sklearn shelf"
   ]
  },
  {
   "cell_type": "markdown",
   "id": "a6161f56",
   "metadata": {},
   "source": [
    "<div class='alert alert-block alert-success'>\n",
    "<b>TASK</b>\n",
    "\n",
    "Implement a neural network regression (https://scikit-learn.org/stable/modules/neural_networks_supervised.html#regression) for the same data used above. Take notes on potential overfitting.\n",
    "</div>"
   ]
  },
  {
   "cell_type": "markdown",
   "id": "3a43fc20",
   "metadata": {},
   "source": [
    "### Multi-layer Perceptron (MLP)"
   ]
  },
  {
   "cell_type": "code",
   "execution_count": 10,
   "id": "5cf33e54",
   "metadata": {},
   "outputs": [],
   "source": [
    "from sklearn.model_selection import train_test_split\n",
    "from sklearn.neural_network import MLPRegressor\n",
    "from sklearn.model_selection import cross_val_score\n",
    "\n",
    "X = vdem_fh[['v2x_polyarchy', 'v2x_libdem', 'v2x_partipdem', 'v2x_delibdem', 'v2x_egaldem',]]\n",
    "y = vdem_fh[['Total Score']]\n",
    "\n",
    "X_train, X_test, y_train, y_test = train_test_split(X, y, shuffle=True, random_state=2023)"
   ]
  },
  {
   "cell_type": "code",
   "execution_count": 11,
   "id": "981dd9a9",
   "metadata": {
    "scrolled": true
   },
   "outputs": [
    {
     "name": "stderr",
     "output_type": "stream",
     "text": [
      "/home/sed_zeppelin/anaconda3/lib/python3.8/site-packages/sklearn/neural_network/_multilayer_perceptron.py:1593: DataConversionWarning: A column-vector y was passed when a 1d array was expected. Please change the shape of y to (n_samples, ), for example using ravel().\n",
      "  y = column_or_1d(y, warn=True)\n",
      "/home/sed_zeppelin/anaconda3/lib/python3.8/site-packages/sklearn/neural_network/_multilayer_perceptron.py:679: ConvergenceWarning: Stochastic Optimizer: Maximum iterations (500) reached and the optimization hasn't converged yet.\n",
      "  warnings.warn(\n"
     ]
    }
   ],
   "source": [
    "regressor = MLPRegressor(random_state=1,hidden_layer_sizes=(2,) , max_iter=500).fit(X_train, y_train)"
   ]
  },
  {
   "cell_type": "code",
   "execution_count": 13,
   "id": "3095b83f",
   "metadata": {
    "scrolled": true
   },
   "outputs": [
    {
     "name": "stderr",
     "output_type": "stream",
     "text": [
      "/home/sed_zeppelin/anaconda3/lib/python3.8/site-packages/sklearn/neural_network/_multilayer_perceptron.py:1593: DataConversionWarning: A column-vector y was passed when a 1d array was expected. Please change the shape of y to (n_samples, ), for example using ravel().\n",
      "  y = column_or_1d(y, warn=True)\n",
      "/home/sed_zeppelin/anaconda3/lib/python3.8/site-packages/sklearn/neural_network/_multilayer_perceptron.py:679: ConvergenceWarning: Stochastic Optimizer: Maximum iterations (500) reached and the optimization hasn't converged yet.\n",
      "  warnings.warn(\n",
      "/home/sed_zeppelin/anaconda3/lib/python3.8/site-packages/sklearn/neural_network/_multilayer_perceptron.py:1593: DataConversionWarning: A column-vector y was passed when a 1d array was expected. Please change the shape of y to (n_samples, ), for example using ravel().\n",
      "  y = column_or_1d(y, warn=True)\n",
      "/home/sed_zeppelin/anaconda3/lib/python3.8/site-packages/sklearn/neural_network/_multilayer_perceptron.py:679: ConvergenceWarning: Stochastic Optimizer: Maximum iterations (500) reached and the optimization hasn't converged yet.\n",
      "  warnings.warn(\n",
      "/home/sed_zeppelin/anaconda3/lib/python3.8/site-packages/sklearn/neural_network/_multilayer_perceptron.py:1593: DataConversionWarning: A column-vector y was passed when a 1d array was expected. Please change the shape of y to (n_samples, ), for example using ravel().\n",
      "  y = column_or_1d(y, warn=True)\n",
      "/home/sed_zeppelin/anaconda3/lib/python3.8/site-packages/sklearn/neural_network/_multilayer_perceptron.py:679: ConvergenceWarning: Stochastic Optimizer: Maximum iterations (500) reached and the optimization hasn't converged yet.\n",
      "  warnings.warn(\n",
      "/home/sed_zeppelin/anaconda3/lib/python3.8/site-packages/sklearn/neural_network/_multilayer_perceptron.py:1593: DataConversionWarning: A column-vector y was passed when a 1d array was expected. Please change the shape of y to (n_samples, ), for example using ravel().\n",
      "  y = column_or_1d(y, warn=True)\n",
      "/home/sed_zeppelin/anaconda3/lib/python3.8/site-packages/sklearn/neural_network/_multilayer_perceptron.py:679: ConvergenceWarning: Stochastic Optimizer: Maximum iterations (500) reached and the optimization hasn't converged yet.\n",
      "  warnings.warn(\n",
      "/home/sed_zeppelin/anaconda3/lib/python3.8/site-packages/sklearn/neural_network/_multilayer_perceptron.py:1593: DataConversionWarning: A column-vector y was passed when a 1d array was expected. Please change the shape of y to (n_samples, ), for example using ravel().\n",
      "  y = column_or_1d(y, warn=True)\n",
      "/home/sed_zeppelin/anaconda3/lib/python3.8/site-packages/sklearn/neural_network/_multilayer_perceptron.py:679: ConvergenceWarning: Stochastic Optimizer: Maximum iterations (500) reached and the optimization hasn't converged yet.\n",
      "  warnings.warn(\n"
     ]
    }
   ],
   "source": [
    "cv_scores = cross_val_score(regressor, X_train, y_train, cv = 5)"
   ]
  },
  {
   "cell_type": "code",
   "execution_count": 15,
   "id": "c4c1784b",
   "metadata": {},
   "outputs": [
    {
     "name": "stdout",
     "output_type": "stream",
     "text": [
      "Cross-validation scores: [-6.98666986 -6.99124744 -5.98488825 -7.60877268 -5.85182062]\n",
      "Average cross-validation score: -6.68\n",
      "Standard deviation of cross-validation scores: 0.67\n"
     ]
    }
   ],
   "source": [
    "print(\"Cross-validation scores: {}\".format(cv_scores))\n",
    "print(\"Average cross-validation score: {:.2f}\".format(cv_scores.mean()))\n",
    "print(\"Standard deviation of cross-validation scores: {:.2f}\".format(cv_scores.std()))"
   ]
  },
  {
   "cell_type": "code",
   "execution_count": null,
   "id": "9609d680",
   "metadata": {},
   "outputs": [],
   "source": []
  },
  {
   "cell_type": "code",
   "execution_count": null,
   "id": "9c25b0df",
   "metadata": {},
   "outputs": [],
   "source": []
  },
  {
   "cell_type": "code",
   "execution_count": null,
   "id": "93febb88",
   "metadata": {},
   "outputs": [],
   "source": []
  },
  {
   "cell_type": "code",
   "execution_count": null,
   "id": "12fddcd2",
   "metadata": {},
   "outputs": [],
   "source": []
  },
  {
   "cell_type": "markdown",
   "id": "76d0b4a3",
   "metadata": {},
   "source": [
    "## 9.5. Model selection\n",
    "\n",
    "- By interpretability\n",
    "- By predictive accuracy"
   ]
  },
  {
   "cell_type": "code",
   "execution_count": null,
   "id": "b5842683",
   "metadata": {},
   "outputs": [],
   "source": []
  },
  {
   "cell_type": "markdown",
   "id": "2639439f",
   "metadata": {},
   "source": [
    "#### Notes to be removed before publication\n",
    "\n",
    "- add cvxopt=1.2.6 to environment.yml -- NOT NECSSARY ANYMORE CAUSE WE DON'T USE method=sqrt_lasso IN statsmodels RIDGE REGRESSION ANYMORE\n",
    "- https://scikit-learn.org/stable/auto_examples/inspection/plot_linear_model_coefficient_interpretation.html#sphx-glr-auto-examples-inspection-plot-linear-model-coefficient-interpretation-py\n",
    "- ..."
   ]
  },
  {
   "cell_type": "code",
   "execution_count": null,
   "id": "0c10e78e",
   "metadata": {},
   "outputs": [],
   "source": []
  }
 ],
 "metadata": {
  "kernelspec": {
   "display_name": "Python 3 (ipykernel)",
   "language": "python",
   "name": "python3"
  },
  "language_info": {
   "codemirror_mode": {
    "name": "ipython",
    "version": 3
   },
   "file_extension": ".py",
   "mimetype": "text/x-python",
   "name": "python",
   "nbconvert_exporter": "python",
   "pygments_lexer": "ipython3",
   "version": "3.8.5"
  }
 },
 "nbformat": 4,
 "nbformat_minor": 5
}
