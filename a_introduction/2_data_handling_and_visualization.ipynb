{
 "cells": [
  {
   "cell_type": "markdown",
   "id": "583054cb",
   "metadata": {},
   "source": [
    "# 2. Data handling and visualization\n",
    "\n",
    "https://www.pythonlikeyoumeanit.com/index.html\n",
    "\n",
    "CHECK IF WE CAN BUILD ON: https://jakevdp.github.io/PythonDataScienceHandbook/\n",
    "\n",
    "### Notes\n",
    "\n",
    "- Focus here is on flat data structures (Pandas dataframes) and mathematical data structures (NumPy arrays); hierarchical data structures (JSON and HTML) are covered in session 4."
   ]
  },
  {
   "cell_type": "markdown",
   "id": "b1ee36b8",
   "metadata": {},
   "source": [
    "## 2.1. Essentials\n",
    "\n",
    "https://www.pythonlikeyoumeanit.com/module_2.html"
   ]
  },
  {
   "cell_type": "code",
   "execution_count": null,
   "id": "6ef5d9d5",
   "metadata": {},
   "outputs": [],
   "source": []
  },
  {
   "cell_type": "code",
   "execution_count": null,
   "id": "2ab7bdd8",
   "metadata": {},
   "outputs": [],
   "source": []
  },
  {
   "cell_type": "markdown",
   "id": "106768e0",
   "metadata": {},
   "source": [
    "## 2.2. Pandas"
   ]
  },
  {
   "cell_type": "markdown",
   "id": "8c8d5945",
   "metadata": {},
   "source": [
    "### 2.2.1. TweetsCOV19 dataset\n",
    "\n",
    "https://data.gesis.org/tweetscov19/\n",
    "\n",
    "- Tweet Id: Long.\n",
    "- Username: String. Encrypted for privacy issues.\n",
    "- Timestamp: Format ( \"EEE MMM dd HH:mm:ss Z yyyy\" ).\n",
    "- #Followers: Integer.\n",
    "- #Friends: Integer.\n",
    "- #Retweets: Integer.\n",
    "- #Favorites: Integer.\n",
    "- Entities: String. For each entity, we aggregated the original text, the annotated entity and the produced score from FEL library. Each entity is separated from another entity by char \";\". Also, each entity is separated by char \":\" in order to store \"original_text:annotated_entity:score;\". If FEL did not find any entities, we have stored \"null;\".\n",
    "- Sentiment: String. SentiStrength produces a score for positive (1 to 5) and negative (-1 to -5) sentiment. We splitted these two numbers by whitespace char \" \". Positive sentiment was stored first and then negative sentiment (i.e. \"2 -1\").\n",
    "- Mentions: String. If the tweet contains mentions, we remove the char \"@\" and concatenate the mentions with whitespace char \" \". If no mentions appear, we have stored \"null;\".\n",
    "- Hashtags: String. If the tweet contains hashtags, we remove the char \"#\" and concatenate the hashtags with whitespace char \" \". If no hashtags appear, we have stored \"null;\".\n",
    "- URLs: String: If the tweet contains URLs, we concatenate the URLs using \":-: \". If no URLs appear, we have stored \"null;\"\n"
   ]
  },
  {
   "cell_type": "markdown",
   "id": "308ecd27",
   "metadata": {},
   "source": [
    "Download the file https://zenodo.org/record/4593502/files/TweetsCOV19_052020.tsv.gz and store it in the data/tweetscov19/ directory."
   ]
  },
  {
   "cell_type": "code",
   "execution_count": 1,
   "id": "304ef30f",
   "metadata": {},
   "outputs": [],
   "source": [
    "import pandas as pd"
   ]
  },
  {
   "cell_type": "code",
   "execution_count": 19,
   "id": "6d492dcc",
   "metadata": {},
   "outputs": [],
   "source": [
    "tweets = pd.read_csv('data/tweetscov19/TweetsCOV19_052020.tsv.gz', sep='\\t', header=None)"
   ]
  },
  {
   "cell_type": "code",
   "execution_count": 22,
   "id": "1a177acf",
   "metadata": {},
   "outputs": [],
   "source": [
    "tweets.columns = ['tweet_id', 'username', 'timestamp', 'followers', 'friends', 'retweets', 'favorites', 'entities', 'sentiment', 'mentions', 'hashtags', 'urls']"
   ]
  },
  {
   "cell_type": "code",
   "execution_count": 23,
   "id": "425f2788",
   "metadata": {},
   "outputs": [
    {
     "data": {
      "text/html": [
       "<div>\n",
       "<style scoped>\n",
       "    .dataframe tbody tr th:only-of-type {\n",
       "        vertical-align: middle;\n",
       "    }\n",
       "\n",
       "    .dataframe tbody tr th {\n",
       "        vertical-align: top;\n",
       "    }\n",
       "\n",
       "    .dataframe thead th {\n",
       "        text-align: right;\n",
       "    }\n",
       "</style>\n",
       "<table border=\"1\" class=\"dataframe\">\n",
       "  <thead>\n",
       "    <tr style=\"text-align: right;\">\n",
       "      <th></th>\n",
       "      <th>tweet_id</th>\n",
       "      <th>username</th>\n",
       "      <th>timestamp</th>\n",
       "      <th>followers</th>\n",
       "      <th>friends</th>\n",
       "      <th>retweets</th>\n",
       "      <th>favorites</th>\n",
       "      <th>entities</th>\n",
       "      <th>sentiment</th>\n",
       "      <th>mentions</th>\n",
       "      <th>hashtags</th>\n",
       "      <th>urls</th>\n",
       "    </tr>\n",
       "  </thead>\n",
       "  <tbody>\n",
       "    <tr>\n",
       "      <th>0</th>\n",
       "      <td>1255980348229529601</td>\n",
       "      <td>fa5fd446e778da0acba3504aeab23da5</td>\n",
       "      <td>Thu Apr 30 22:00:24 +0000 2020</td>\n",
       "      <td>29697</td>\n",
       "      <td>24040</td>\n",
       "      <td>0</td>\n",
       "      <td>0</td>\n",
       "      <td>null;</td>\n",
       "      <td>1 -1</td>\n",
       "      <td>null;</td>\n",
       "      <td>Opinion Next2blowafrica thoughts</td>\n",
       "      <td>null;</td>\n",
       "    </tr>\n",
       "    <tr>\n",
       "      <th>1</th>\n",
       "      <td>1255981220640546816</td>\n",
       "      <td>547501e9cc84b8148ae1b8bde04157a4</td>\n",
       "      <td>Thu Apr 30 22:03:52 +0000 2020</td>\n",
       "      <td>799</td>\n",
       "      <td>1278</td>\n",
       "      <td>4</td>\n",
       "      <td>6</td>\n",
       "      <td>null;</td>\n",
       "      <td>1 -1</td>\n",
       "      <td>null;</td>\n",
       "      <td>null;</td>\n",
       "      <td>null;</td>\n",
       "    </tr>\n",
       "    <tr>\n",
       "      <th>2</th>\n",
       "      <td>1255981244560683008</td>\n",
       "      <td>840ac60dab55f6b212dc02dcbe5dfbd6</td>\n",
       "      <td>Thu Apr 30 22:03:58 +0000 2020</td>\n",
       "      <td>586</td>\n",
       "      <td>378</td>\n",
       "      <td>1</td>\n",
       "      <td>2</td>\n",
       "      <td>null;</td>\n",
       "      <td>2 -1</td>\n",
       "      <td>null;</td>\n",
       "      <td>null;</td>\n",
       "      <td>https://www.bbc.com/news/uk-england-beds-bucks...</td>\n",
       "    </tr>\n",
       "    <tr>\n",
       "      <th>3</th>\n",
       "      <td>1255981472285986816</td>\n",
       "      <td>37c68a001198b5efd4a21e2b68a0c9bc</td>\n",
       "      <td>Thu Apr 30 22:04:52 +0000 2020</td>\n",
       "      <td>237</td>\n",
       "      <td>168</td>\n",
       "      <td>0</td>\n",
       "      <td>0</td>\n",
       "      <td>null;</td>\n",
       "      <td>1 -1</td>\n",
       "      <td>null;</td>\n",
       "      <td>null;</td>\n",
       "      <td>https://lockdownsceptics.org/2020/04/30/latest...</td>\n",
       "    </tr>\n",
       "    <tr>\n",
       "      <th>4</th>\n",
       "      <td>1255981581354905600</td>\n",
       "      <td>8c3620bdfb9d2a1acfdf2412c9b34e06</td>\n",
       "      <td>Thu Apr 30 22:05:18 +0000 2020</td>\n",
       "      <td>423</td>\n",
       "      <td>427</td>\n",
       "      <td>0</td>\n",
       "      <td>0</td>\n",
       "      <td>i hate u:I_Hate_U:-1.8786140035817729;quaranti...</td>\n",
       "      <td>1 -4</td>\n",
       "      <td>null;</td>\n",
       "      <td>null;</td>\n",
       "      <td>null;</td>\n",
       "    </tr>\n",
       "    <tr>\n",
       "      <th>...</th>\n",
       "      <td>...</td>\n",
       "      <td>...</td>\n",
       "      <td>...</td>\n",
       "      <td>...</td>\n",
       "      <td>...</td>\n",
       "      <td>...</td>\n",
       "      <td>...</td>\n",
       "      <td>...</td>\n",
       "      <td>...</td>\n",
       "      <td>...</td>\n",
       "      <td>...</td>\n",
       "      <td>...</td>\n",
       "    </tr>\n",
       "    <tr>\n",
       "      <th>1912065</th>\n",
       "      <td>1267207472424660992</td>\n",
       "      <td>ae1b1e6bf2a30cd0e1047ddd0baf5ad0</td>\n",
       "      <td>Sun May 31 21:32:59 +0000 2020</td>\n",
       "      <td>15</td>\n",
       "      <td>45</td>\n",
       "      <td>0</td>\n",
       "      <td>0</td>\n",
       "      <td>spotify:Spotify:-0.9407337067771776;wifi:Wi-Fi...</td>\n",
       "      <td>2 -1</td>\n",
       "      <td>null;</td>\n",
       "      <td>null;</td>\n",
       "      <td>null;</td>\n",
       "    </tr>\n",
       "    <tr>\n",
       "      <th>1912066</th>\n",
       "      <td>1267207883487354881</td>\n",
       "      <td>0e4323d01d164b9eb6e33f35564c7e25</td>\n",
       "      <td>Sun May 31 21:34:37 +0000 2020</td>\n",
       "      <td>43</td>\n",
       "      <td>931</td>\n",
       "      <td>0</td>\n",
       "      <td>0</td>\n",
       "      <td>china:China:-2.113921624336916;death penalty:C...</td>\n",
       "      <td>1 -2</td>\n",
       "      <td>null;</td>\n",
       "      <td>null;</td>\n",
       "      <td>null;</td>\n",
       "    </tr>\n",
       "    <tr>\n",
       "      <th>1912067</th>\n",
       "      <td>1267209309559173122</td>\n",
       "      <td>00fc2c96e4012e27a6eee351723ab461</td>\n",
       "      <td>Sun May 31 21:40:17 +0000 2020</td>\n",
       "      <td>256</td>\n",
       "      <td>451</td>\n",
       "      <td>0</td>\n",
       "      <td>0</td>\n",
       "      <td>null;</td>\n",
       "      <td>2 -1</td>\n",
       "      <td>null;</td>\n",
       "      <td>null;</td>\n",
       "      <td>null;</td>\n",
       "    </tr>\n",
       "    <tr>\n",
       "      <th>1912068</th>\n",
       "      <td>1267212987938545667</td>\n",
       "      <td>0f99a3b8b0d490f062215575d074518b</td>\n",
       "      <td>Sun May 31 21:54:54 +0000 2020</td>\n",
       "      <td>1467</td>\n",
       "      <td>1505</td>\n",
       "      <td>0</td>\n",
       "      <td>0</td>\n",
       "      <td>omg:OMG_%28Usher_song%29:-2.580063760606172;</td>\n",
       "      <td>2 -1</td>\n",
       "      <td>lsddrq</td>\n",
       "      <td>null;</td>\n",
       "      <td>null;</td>\n",
       "    </tr>\n",
       "    <tr>\n",
       "      <th>1912069</th>\n",
       "      <td>1267213122168897541</td>\n",
       "      <td>9b0cf6bb79c67aa869cde8a5dbb67e30</td>\n",
       "      <td>Sun May 31 21:55:26 +0000 2020</td>\n",
       "      <td>54</td>\n",
       "      <td>60</td>\n",
       "      <td>0</td>\n",
       "      <td>0</td>\n",
       "      <td>lagos:Lagos:-1.647670951275668;mushin:Mushin%2...</td>\n",
       "      <td>2 -1</td>\n",
       "      <td>null;</td>\n",
       "      <td>facemask ijeawele tiaf covid19 lagos mushin am...</td>\n",
       "      <td>null;</td>\n",
       "    </tr>\n",
       "  </tbody>\n",
       "</table>\n",
       "<p>1912070 rows × 12 columns</p>\n",
       "</div>"
      ],
      "text/plain": [
       "                    tweet_id                          username  \\\n",
       "0        1255980348229529601  fa5fd446e778da0acba3504aeab23da5   \n",
       "1        1255981220640546816  547501e9cc84b8148ae1b8bde04157a4   \n",
       "2        1255981244560683008  840ac60dab55f6b212dc02dcbe5dfbd6   \n",
       "3        1255981472285986816  37c68a001198b5efd4a21e2b68a0c9bc   \n",
       "4        1255981581354905600  8c3620bdfb9d2a1acfdf2412c9b34e06   \n",
       "...                      ...                               ...   \n",
       "1912065  1267207472424660992  ae1b1e6bf2a30cd0e1047ddd0baf5ad0   \n",
       "1912066  1267207883487354881  0e4323d01d164b9eb6e33f35564c7e25   \n",
       "1912067  1267209309559173122  00fc2c96e4012e27a6eee351723ab461   \n",
       "1912068  1267212987938545667  0f99a3b8b0d490f062215575d074518b   \n",
       "1912069  1267213122168897541  9b0cf6bb79c67aa869cde8a5dbb67e30   \n",
       "\n",
       "                              timestamp  followers  friends  retweets  \\\n",
       "0        Thu Apr 30 22:00:24 +0000 2020      29697    24040         0   \n",
       "1        Thu Apr 30 22:03:52 +0000 2020        799     1278         4   \n",
       "2        Thu Apr 30 22:03:58 +0000 2020        586      378         1   \n",
       "3        Thu Apr 30 22:04:52 +0000 2020        237      168         0   \n",
       "4        Thu Apr 30 22:05:18 +0000 2020        423      427         0   \n",
       "...                                 ...        ...      ...       ...   \n",
       "1912065  Sun May 31 21:32:59 +0000 2020         15       45         0   \n",
       "1912066  Sun May 31 21:34:37 +0000 2020         43      931         0   \n",
       "1912067  Sun May 31 21:40:17 +0000 2020        256      451         0   \n",
       "1912068  Sun May 31 21:54:54 +0000 2020       1467     1505         0   \n",
       "1912069  Sun May 31 21:55:26 +0000 2020         54       60         0   \n",
       "\n",
       "         favorites                                           entities  \\\n",
       "0                0                                              null;   \n",
       "1                6                                              null;   \n",
       "2                2                                              null;   \n",
       "3                0                                              null;   \n",
       "4                0  i hate u:I_Hate_U:-1.8786140035817729;quaranti...   \n",
       "...            ...                                                ...   \n",
       "1912065          0  spotify:Spotify:-0.9407337067771776;wifi:Wi-Fi...   \n",
       "1912066          0  china:China:-2.113921624336916;death penalty:C...   \n",
       "1912067          0                                              null;   \n",
       "1912068          0       omg:OMG_%28Usher_song%29:-2.580063760606172;   \n",
       "1912069          0  lagos:Lagos:-1.647670951275668;mushin:Mushin%2...   \n",
       "\n",
       "        sentiment mentions                                           hashtags  \\\n",
       "0            1 -1    null;                   Opinion Next2blowafrica thoughts   \n",
       "1            1 -1    null;                                              null;   \n",
       "2            2 -1    null;                                              null;   \n",
       "3            1 -1    null;                                              null;   \n",
       "4            1 -4    null;                                              null;   \n",
       "...           ...      ...                                                ...   \n",
       "1912065      2 -1    null;                                              null;   \n",
       "1912066      1 -2    null;                                              null;   \n",
       "1912067      2 -1    null;                                              null;   \n",
       "1912068      2 -1   lsddrq                                              null;   \n",
       "1912069      2 -1    null;  facemask ijeawele tiaf covid19 lagos mushin am...   \n",
       "\n",
       "                                                      urls  \n",
       "0                                                    null;  \n",
       "1                                                    null;  \n",
       "2        https://www.bbc.com/news/uk-england-beds-bucks...  \n",
       "3        https://lockdownsceptics.org/2020/04/30/latest...  \n",
       "4                                                    null;  \n",
       "...                                                    ...  \n",
       "1912065                                              null;  \n",
       "1912066                                              null;  \n",
       "1912067                                              null;  \n",
       "1912068                                              null;  \n",
       "1912069                                              null;  \n",
       "\n",
       "[1912070 rows x 12 columns]"
      ]
     },
     "execution_count": 23,
     "metadata": {},
     "output_type": "execute_result"
    }
   ],
   "source": [
    "tweets"
   ]
  },
  {
   "cell_type": "markdown",
   "id": "5ce93dd4",
   "metadata": {},
   "source": [
    "TO IMPLEMENT:\n",
    "- SPLIT 'sentiment' INTO 'sentiment_pos' AND 'sentiment_neg' AND DELETE THE ORIGINAL SERIES\n",
    "- CREATE AN 'entities' DF WITH FOUR COLUMNS ['tweet_id', 'original', 'annotated', 'score']\n",
    "- CREATE A 'mentions' DF WITH ['tweet_id', 'mentionee'] COLUMNS\n",
    "- CREATE A 'hashtags' DF WITH ['tweet_id', 'hashtag'] COLUMNS\n",
    "- CREATE A 'urls' DF WITH ['tweet_id', 'url'] COLUMNS"
   ]
  },
  {
   "cell_type": "markdown",
   "id": "d6ff08bf",
   "metadata": {},
   "source": [
    "### 2.2.2. Working with a single dataframe"
   ]
  },
  {
   "cell_type": "code",
   "execution_count": 15,
   "id": "bed539cd",
   "metadata": {},
   "outputs": [],
   "source": [
    "# read/save\n",
    "# describe()\n",
    "# changing index and column names\n",
    "# grouping\n",
    "# using and resetting the index\n",
    "# categorize series: categories and codes\n",
    "# matrix to edgelist and vice versa\n",
    "# zip\n",
    "# columns into dict\n",
    "# datetime\n",
    "# ..."
   ]
  },
  {
   "cell_type": "code",
   "execution_count": null,
   "id": "046dfc35",
   "metadata": {},
   "outputs": [],
   "source": []
  },
  {
   "cell_type": "markdown",
   "id": "e97bba6e",
   "metadata": {},
   "source": [
    "### 2.2.3. Working with multiple dataframes"
   ]
  },
  {
   "cell_type": "code",
   "execution_count": 24,
   "id": "a707be06",
   "metadata": {},
   "outputs": [],
   "source": [
    "# merge split concat etc\n",
    "# ..."
   ]
  },
  {
   "cell_type": "code",
   "execution_count": null,
   "id": "04f1685a",
   "metadata": {},
   "outputs": [],
   "source": []
  },
  {
   "cell_type": "markdown",
   "id": "444d7d2f",
   "metadata": {},
   "source": [
    "## 2.3. NumPy\n",
    "\n",
    "https://www.pythonlikeyoumeanit.com/module_3.html"
   ]
  },
  {
   "cell_type": "code",
   "execution_count": 25,
   "id": "de4e272a",
   "metadata": {},
   "outputs": [],
   "source": [
    "# read/save\n",
    "# relationship to pandas\n",
    "# ..."
   ]
  },
  {
   "cell_type": "code",
   "execution_count": null,
   "id": "e53d20ff",
   "metadata": {},
   "outputs": [],
   "source": []
  },
  {
   "cell_type": "markdown",
   "id": "c96d75c4",
   "metadata": {},
   "source": [
    "## 2.4. SciPy"
   ]
  },
  {
   "cell_type": "code",
   "execution_count": null,
   "id": "4f0b2b7c",
   "metadata": {},
   "outputs": [],
   "source": [
    "# sparse matrices\n",
    "# matrix multiplication"
   ]
  },
  {
   "cell_type": "code",
   "execution_count": null,
   "id": "13c3a387",
   "metadata": {},
   "outputs": [],
   "source": []
  },
  {
   "cell_type": "markdown",
   "id": "51e8cb38",
   "metadata": {},
   "source": [
    "## 2.5. Matplotlib"
   ]
  },
  {
   "cell_type": "code",
   "execution_count": null,
   "id": "c4c7ef61",
   "metadata": {},
   "outputs": [],
   "source": [
    "# examples for all kinds of plots: scatter, bar, pie, etc; manipulate drawing options; export to file"
   ]
  },
  {
   "cell_type": "code",
   "execution_count": null,
   "id": "0c8ac30d",
   "metadata": {},
   "outputs": [],
   "source": []
  },
  {
   "cell_type": "markdown",
   "id": "661b6683",
   "metadata": {},
   "source": [
    "## 2.6. Seaborn"
   ]
  },
  {
   "cell_type": "code",
   "execution_count": null,
   "id": "832b38d1",
   "metadata": {},
   "outputs": [],
   "source": [
    "# adddress differences to "
   ]
  },
  {
   "cell_type": "code",
   "execution_count": null,
   "id": "dece00cf",
   "metadata": {},
   "outputs": [],
   "source": []
  }
 ],
 "metadata": {
  "kernelspec": {
   "display_name": "Python 3 (ipykernel)",
   "language": "python",
   "name": "python3"
  },
  "language_info": {
   "codemirror_mode": {
    "name": "ipython",
    "version": 3
   },
   "file_extension": ".py",
   "mimetype": "text/x-python",
   "name": "python",
   "nbconvert_exporter": "python",
   "pygments_lexer": "ipython3",
   "version": "3.9.12"
  }
 },
 "nbformat": 4,
 "nbformat_minor": 5
}
