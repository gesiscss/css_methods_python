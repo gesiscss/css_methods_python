{
 "cells": [
  {
   "cell_type": "markdown",
   "id": "e607ca26",
   "metadata": {},
   "source": [
    "<img src='images/header.png' style='height: 50px; float: left'>"
   ]
  },
  {
   "cell_type": "markdown",
   "id": "b70bc56f",
   "metadata": {},
   "source": [
    "## Introduction to Computational Social Science methods with Python"
   ]
  },
  {
   "cell_type": "markdown",
   "id": "71218328",
   "metadata": {},
   "source": [
    "# Session D3: Unsupervised machine learning\n",
    "\n",
    "There are many ways to think about **Machine Learning** (ML). For one, the term goes back to IBM researcher Arthur Samuel who used it to describe a computer program (a machine) that has the ability to learn without being explicitly programmed how to do so. Mitchell (1997; quoted from <a href='#Ghani_M_2016'>Ghani & Schierholz, 2017</a>, p.148) provided a compatible definition:\n",
    "\n",
    "> A computer program is said to learn from experience $E$ with respect to some class of tasks $T$ and performance measure $P$, if its performance at tasks in $T$, as measured by $P$, improves with experience $E$.\n",
    "\n",
    "In other words, ML is the ability of a computer to improve its performance on a task without being explicitly programmed (<a href='#Ghani_M_2016'>Ghani & Schierholz, 2017</a>). This definition refers to ML as a set of methods.\n",
    "\n",
    "For another, ML is field of practice devoted to building learning machines. It is a subfield of [Artificial Intelligence](https://en.wikipedia.org/wiki/Artificial_intelligence). **Artificial Intelligence** (AI) is the field that aims at giving machines intelligence (the ability to perceive, synthesize, and infer information), and ML is a fundamental concept of AI research. While artificially intelligent agents auch as [chatbots](https://en.wikipedia.org/wiki/Chatbot) had been around for many years, AI has been rapidly gaining attention since 2022 because the chatbot [ChatGPT](https://en.wikipedia.org/wiki/ChatGPT) has demonstrated to have historical knowledge and be able to provide detailed responses. If you know ChatGPT, you understand why Efron & Hastie (<a href='#Efron_C_2016'>2016</a>) refer to ML methods as \"enormosly ambitious algorithms\" (p.xvi).\n",
    "\n",
    "|<img src='images/machine_learning.png' style='float: none; width: 640px'>|\n",
    "|:--|\n",
    "|<em style='float: center'>**Figure 1**: Definition, types, and algorithms of Machine Learning</em>|\n",
    "\n",
    "ML is one of the methodological pillars of Computational Social Science (CSS). ***Figure 1*** shows the two types of ML in red and blue. We will build an understanding of ML methods session by session. Here, we start to deal with **unsupervised** ML which is about mining patterns in data. **Patterns** are any non-trivial regularity that may exist in data. Most ML algorithms require data to be structured the way we have encountered it repeatedly in this course: it must have the form of a dataframe or matrix with the units of observation in rows and variables in columns. In ML, variables are typically called **features**, but their meaning is the same: they are descriptions or properties of the units of observations. The matrix $X$ of units and features is called the **feature matrix**. Much work in a CSS research project consists of bringing data into this form so it can be analyzed (*e.g.*, using ML).\n",
    "\n",
    "There are two families of algorithms to mine patterns using unsupervised learning, shown in the bottom row of *figure 1*. The first is **dimensionality reduction**. The tasks performed in this area are not exclusive to the ML community. In fact, they have been part of the standard toolbox in the social sciences for a long time. The dimensionality of a dataframe is simply the number of variables (columns) it has. \"Dimensionality reduction is the process of reducing the number of features in a dataset while preserving as much variance as possible by combining highly covarying features into new composite variables.\" (<a href='#McLevey_D_2022'>McLevey, 2022</a>, ch. 19.4) These composite variables are **unobserved variables** because they have not been measured but are inferred. Depending on the dimensionality-reduction method that is used, the unobserved variables can have meaning in the sense that they can be theoretically understood to have generated the observed variables in the feature matrix. The unobserved variables are then called **latent variables**. Since latent variables have meaning but are typically not observable or measurable directly, inferring them from measureable variables is a viable way to measure meaning (<a href='#McLevey_D_2022'>McLevey, 2022</a>, ch. 8).\n",
    "\n",
    "Theory stays important in ML applications in CSS. **Theory** is an explanation of reality – call it \"social life\". To bring it into contact with empirical reality, a theory is reduced to a simplified representation of reality called a **model**. The theory is not the description of a model, [the theory is the model](https://en.wikipedia.org/wiki/Scientific_theory#Theories_as_models). There are theory-driven and data-driven models in ML. **Factor Analysis** is a model that reduces dimensionality in a theory-driven way, routinely employed in statistical modeling to infer latent variables. **Principal Component Analysis** is the data-driven sibling of Factor Analysis. It is employed when theory does not exist yet (*e.g.*, when a new data source for a new social phenomenon is explored) or does not play a role. (Data-driven) dimensionality reduction may be technically necessary to mitigate the **curse of dimensionality**. Some datasets are simply too high-dimensional (they have too many features) to be modeled in their entirety using statistics or ML (Pöge & Reinecke, 2022; <a href='#McLevey_D_2022'>McLevey, 2022</a>, ch. 8).\n",
    "\n",
    "The second family of unsupervised learning algorithms is **clustering** which refers to grouping not the columns but rows of the feature matrix $X$. Clustering may be advised to identify subpopulations and treat them differently in subsequent modeling steps. **K-Means** and **Agglomerative Clustering** are just two of many algorithms that potentially lead to largely varying clustering solutions. Clustering and dimensionality reduction require the researcher to use [heuristics](https://en.wikipedia.org/wiki/Heuristic), informed judgement, and interpretation. Clusters and latent variables must make sense and what makes sense is often a question of what one already knows about the subject matter (Bacher *et al.*, 2022; <a href='#McLevey_D_2022'>McLevey, 2022</a>, ch. 19.4).\n",
    "\n",
    "The reason to teach unsupervised before supervised learning is that the former typically precedes the latter in a CSS research project. Hofman, Watts, *et al.* (<a href='#Hofman_I_2021'>2021</a>) propose that data-driven research should **integrate different modeling perspectives**. Applied to the ML context, research should move from a focus on specific features or effects (unsupervised) to a focus on predicting outcomes (supervised learning) and, to invoke causal explanations, from past or present to future situations (data). McLevey (<a href='#McLevey_D_2022'>2022</a>, ch. 19.4) also points at this order of operations when he writes that patterns are \"interpret[ed] or [made] use of in downstream analyses.\"\n",
    "\n",
    "|<img src='images/inference.png' style='float: none; width: 480px'>|\n",
    "|:--|\n",
    "|<em style='float: center'>**Figure 2**: Three inference strategies</em>|\n",
    "\n",
    "In the end of a reserch project, we are often interested in **causal explanations**. Most ML algorithms are incapable of making such explanations; they can only make statements of association. But this is why theory is so important also in ML research. In CSS, ML is not an end but a means to an end, and the end can also involve causal explanations. To understand how we can think about causality even if the methods are silent about it, have a look at ***Figure 2***. It shows the three **inference strategies** that exist. Each one involves a causal explanation in the logical sense that a cause leads to an effect via a rule. Consider \"It rains.\" as a cause, \"When it rains, people get wet.\" as a rule, and \"People are wet.\" as an effect.\n",
    "\n",
    "The social sciences strongly rely on **deduction**. They collect data if it rains and if people are wet, they have a theory in form of a causal rule, and they test if the rule explains the data. If it does not, then theory gets revised and tested anew. This is how social scientists typically make causal explanations. Epistemologically, in deduction, the rule is hypothesized and the effect is inferred. Data-driven science involves the other two strategies. In **induction**, the rule does not originate in theory and is not tested, but is inferred from data on causes and effects. When the data says that it rains and that people are wet, then a possible rule is inferred that people get wet when it rains. We will see in [Session D5](5_supervised_machine_learning.ipynb) how induction and deduction go hand in hand in [Supervised machine learning](5_supervised_machine_learning.ipynb).\n",
    "\n",
    "Finally, **abduction** is a way to think about many algorithms in unsupervised learning. Most basically, abduction is a strategy to formulate hypotheses or rules from data. This is what is has in common with induction, but other than in induction, it is not the rule that is inferred but the cause. These causes are the patterns, latent variables, and groups inferred in unsupervised ML. Going back to the example, \"People are wet.\" is the data. A researcher may have two hypotheses: that people get wet when it rains or when children shoot with water pistols at them. If their algorithm infers a causal pattern that is compatible with the meaning of \"It rains.\", then the researcher can conclude that the first rule is the better hypothesis/explanation.\n",
    "\n",
    "Note how abduction logically complements the much more well-known induction and deduction strategies: it is always something else that is inferred, the rule is either hypothesized or inferred (it cannot be observed), and causes and effects are either observed (and used as data) or inferred. Hence, abduction, like data visualization, is an important tool in **Exploratory Data Analysis** (<a href='#McLevey_D_2022'>McLevey, 2022</a>, chs.7, 19.4; [Session A3: Scientific computing and data visualization](../a_introduction/3_scientific_computing_and_data_visualization.ipynb)). Though theory stays important, the growing importance of abduction in CSS is a sign of a **paradigm shift** for the social sciences from almost exclusively theory-driven to more data-driven research (<a href='#Kitchin_B_2014'>Kitchin, 2014</a>).\n",
    "\n",
    "The dataset from the [Varieties of Democracies](https://v-dem.net/) (V-Dem) project is well-suited to teach unsupervised learning tasks (<a href='#McLevey_D_2022'>McLevey, 2022</a>, ch. 8). First, it is structured. It consists of countries (units of observations in rows) described by several hundreds of variables (in columns) obtained by surveys, from country websites, and from other sources. Second, it is strongly connected to political science theory. It contains a hierarchy of variables that can be used to evaluate latent variables from unsupervised learning.\n",
    "\n",
    "[scikit-learn](https://scikit-learn.org/) (shorter: sklearn) is Python's standard library for machine learning. It has a huge user community and you will find many tutorials, questions & answers in the web. It includes many methods also used in the statistics community. Still, it does not satisfy all wishes that quantitative social scientists (*e.g.*, those versed in SPSS) may have. Hence, we will also work with the [FactorAnalyzer](https://factor-analyzer.readthedocs.io/) package that offers a supervised model.\n",
    "\n",
    "<div class='alert alert-block alert-success'>\n",
    "<b>In this session</b>, \n",
    "\n",
    "you will learn how to perform unsupervised learning using the scikit-learn and FactorAnalyzer packages. In subsession **D3.1**, we will introduce the V-Dem dataset, its hierarchy of variables, and how they will be used for ML. This dataset will serve to demonstrate all algorithms in this session. In subsession **D3.2** on dimensionality reduction, you will learn how to infer unobserved variables using Factor Analysis and Principal Component Analysis, how these methods differ in the way theory is used, and how we can think of Factor Analysis as an abductive inference tool. Subsession **D3.3** is dedicated to clustering, and you will see how different algorithms, namely K-Means and Agglomerative Clustering, lead to different solutions and interpreations.\n",
    "</div>"
   ]
  },
  {
   "cell_type": "markdown",
   "id": "37cbc233",
   "metadata": {},
   "source": [
    "## D3.1. The Varieties of Democracy dataset and its design\n",
    "\n",
    "The social sciences often deal with abstract concepts that cannot be observed directly. Consider the concept of democracy. Since democracy is not a material thing, one cannot look at a country and measure the amount of democracy. Democracy is a latent variable. To still make democracy measurable, political and social scientists have thought how democracy can be measured and come up with a theoretical system of constructs. This system is hierarchical like a tree where the trunk represents the latent variable and the leaves are measureable variables.\n",
    "\n",
    "Since we are about to demonstrate theory-driven as well as data-driven approaches to dimensionality reduction, we need a dataset that has such a theoretical design. The Varieties of Democracy (V-Dem) dataset meets this requirement. The [V-Dem](https://v-dem.net/) project \"distinguishes between five high-level principles of democracy: electoral, liberal, participatory, deliberative, and egalitarian, and collects data to measure these latent variables.\" The dataset consists of countries (observations in rows) described by more than 1800 variables (in columns) obtained by surveys, from country websites, and from other sources. Consult the [codebook](https://www.v-dem.net/documents/24/codebook_v13.pdf) to become familiar with the dataset.\n",
    "\n",
    "|<img src='images/vdem.jpg' style='width: 800px'>|\n",
    "|:--|\n",
    "|<em style='float: center'>**Figure 3**: Varieties of Democracy variable structure on electoral democracy (<a href='#McLevey_D_2022'>McLevey, 2022</a>, fig. 8.1)</em>|\n",
    "\n",
    "For this session, we have extracted data about the latent variable of \"electoral democracy\" for the year 2019. We have only kept variables that have no missing values, have interval scales, or can be interpreted as such. ***Figure 3*** shows the corresponding tree of variables. The latent variable is depicted on the bottom level, and it is called a high-level **index**. The index is theoretically broken down into five low-level **indices** that explain the index. Electoral democracies are supposed to be describable by\n",
    "\n",
    "- the amount of freedom of expression and alternative sources of information,\n",
    "- the amount of freedom of association,\n",
    "- the share of population with suffrage,\n",
    "- the extent to which elections are clean, and\n",
    "- the extent to which officials are elected.\n",
    "\n",
    "These indices are still latent, but they are more in the direction of something measurable. Each one of the indices is then operationalized via a set of **indicators** that are the measureable variables aka. the observed variables (<a href='#McLevey_D_2022'>McLevey, 2022</a>, ch. 8.4).\n",
    "\n",
    "Load the dataset as a Pandas table:"
   ]
  },
  {
   "cell_type": "code",
   "execution_count": 1,
   "id": "d989530f",
   "metadata": {},
   "outputs": [
    {
     "data": {
      "text/plain": [
       "'1.4.4'"
      ]
     },
     "execution_count": 1,
     "metadata": {},
     "output_type": "execute_result"
    }
   ],
   "source": [
    "import pandas as pd\n",
    "pd.__version__"
   ]
  },
  {
   "cell_type": "code",
   "execution_count": 2,
   "id": "5c30675d",
   "metadata": {},
   "outputs": [
    {
     "data": {
      "text/html": [
       "<div>\n",
       "<style scoped>\n",
       "    .dataframe tbody tr th:only-of-type {\n",
       "        vertical-align: middle;\n",
       "    }\n",
       "\n",
       "    .dataframe tbody tr th {\n",
       "        vertical-align: top;\n",
       "    }\n",
       "\n",
       "    .dataframe thead th {\n",
       "        text-align: right;\n",
       "    }\n",
       "</style>\n",
       "<table border=\"1\" class=\"dataframe\">\n",
       "  <thead>\n",
       "    <tr style=\"text-align: right;\">\n",
       "      <th></th>\n",
       "      <th>total_score</th>\n",
       "      <th>v2x_regime</th>\n",
       "      <th>v2x_polyarchy</th>\n",
       "      <th>v2x_freexp_altinf</th>\n",
       "      <th>v2mecenefm</th>\n",
       "      <th>v2meharjrn</th>\n",
       "      <th>v2meslfcen</th>\n",
       "      <th>v2mebias</th>\n",
       "      <th>v2merange</th>\n",
       "      <th>v2mecrit</th>\n",
       "      <th>...</th>\n",
       "      <th>v2xel_frefair</th>\n",
       "      <th>v2elembaut</th>\n",
       "      <th>v2elembcap</th>\n",
       "      <th>v2x_elecoff</th>\n",
       "      <th>v2lgbicam</th>\n",
       "      <th>v2lgello</th>\n",
       "      <th>v2lginello</th>\n",
       "      <th>v2exdfcbhs</th>\n",
       "      <th>v2exdfdmhs</th>\n",
       "      <th>v2exhoshog</th>\n",
       "    </tr>\n",
       "    <tr>\n",
       "      <th>country_name</th>\n",
       "      <th></th>\n",
       "      <th></th>\n",
       "      <th></th>\n",
       "      <th></th>\n",
       "      <th></th>\n",
       "      <th></th>\n",
       "      <th></th>\n",
       "      <th></th>\n",
       "      <th></th>\n",
       "      <th></th>\n",
       "      <th></th>\n",
       "      <th></th>\n",
       "      <th></th>\n",
       "      <th></th>\n",
       "      <th></th>\n",
       "      <th></th>\n",
       "      <th></th>\n",
       "      <th></th>\n",
       "      <th></th>\n",
       "      <th></th>\n",
       "      <th></th>\n",
       "    </tr>\n",
       "  </thead>\n",
       "  <tbody>\n",
       "    <tr>\n",
       "      <th>Afghanistan</th>\n",
       "      <td>NaN</td>\n",
       "      <td>1.0</td>\n",
       "      <td>0.353</td>\n",
       "      <td>0.696</td>\n",
       "      <td>0.327</td>\n",
       "      <td>-0.392</td>\n",
       "      <td>0.420</td>\n",
       "      <td>1.337</td>\n",
       "      <td>1.497</td>\n",
       "      <td>1.532</td>\n",
       "      <td>...</td>\n",
       "      <td>0.164</td>\n",
       "      <td>-0.569</td>\n",
       "      <td>-0.560</td>\n",
       "      <td>1.000</td>\n",
       "      <td>2.0</td>\n",
       "      <td>100.0</td>\n",
       "      <td>0.0</td>\n",
       "      <td>-0.588</td>\n",
       "      <td>1.005</td>\n",
       "      <td>1.0</td>\n",
       "    </tr>\n",
       "    <tr>\n",
       "      <th>Albania</th>\n",
       "      <td>NaN</td>\n",
       "      <td>1.0</td>\n",
       "      <td>0.486</td>\n",
       "      <td>0.639</td>\n",
       "      <td>-0.039</td>\n",
       "      <td>0.526</td>\n",
       "      <td>0.476</td>\n",
       "      <td>1.086</td>\n",
       "      <td>0.438</td>\n",
       "      <td>-0.604</td>\n",
       "      <td>...</td>\n",
       "      <td>0.491</td>\n",
       "      <td>0.701</td>\n",
       "      <td>0.353</td>\n",
       "      <td>1.000</td>\n",
       "      <td>1.0</td>\n",
       "      <td>100.0</td>\n",
       "      <td>0.0</td>\n",
       "      <td>-1.225</td>\n",
       "      <td>-1.068</td>\n",
       "      <td>0.0</td>\n",
       "    </tr>\n",
       "    <tr>\n",
       "      <th>Algeria</th>\n",
       "      <td>NaN</td>\n",
       "      <td>1.0</td>\n",
       "      <td>0.287</td>\n",
       "      <td>0.521</td>\n",
       "      <td>-1.063</td>\n",
       "      <td>0.476</td>\n",
       "      <td>-0.122</td>\n",
       "      <td>-0.096</td>\n",
       "      <td>0.810</td>\n",
       "      <td>0.469</td>\n",
       "      <td>...</td>\n",
       "      <td>0.234</td>\n",
       "      <td>-0.931</td>\n",
       "      <td>-1.228</td>\n",
       "      <td>1.000</td>\n",
       "      <td>2.0</td>\n",
       "      <td>100.0</td>\n",
       "      <td>0.0</td>\n",
       "      <td>1.495</td>\n",
       "      <td>1.421</td>\n",
       "      <td>0.0</td>\n",
       "    </tr>\n",
       "    <tr>\n",
       "      <th>Angola</th>\n",
       "      <td>64.0</td>\n",
       "      <td>1.0</td>\n",
       "      <td>0.365</td>\n",
       "      <td>0.653</td>\n",
       "      <td>1.026</td>\n",
       "      <td>0.552</td>\n",
       "      <td>0.997</td>\n",
       "      <td>0.855</td>\n",
       "      <td>-0.317</td>\n",
       "      <td>1.255</td>\n",
       "      <td>...</td>\n",
       "      <td>0.255</td>\n",
       "      <td>-0.939</td>\n",
       "      <td>-0.772</td>\n",
       "      <td>1.000</td>\n",
       "      <td>1.0</td>\n",
       "      <td>100.0</td>\n",
       "      <td>0.0</td>\n",
       "      <td>1.629</td>\n",
       "      <td>1.005</td>\n",
       "      <td>1.0</td>\n",
       "    </tr>\n",
       "    <tr>\n",
       "      <th>Argentina</th>\n",
       "      <td>72.0</td>\n",
       "      <td>2.0</td>\n",
       "      <td>0.771</td>\n",
       "      <td>0.843</td>\n",
       "      <td>1.274</td>\n",
       "      <td>0.948</td>\n",
       "      <td>1.320</td>\n",
       "      <td>1.419</td>\n",
       "      <td>1.525</td>\n",
       "      <td>0.646</td>\n",
       "      <td>...</td>\n",
       "      <td>0.873</td>\n",
       "      <td>1.614</td>\n",
       "      <td>1.624</td>\n",
       "      <td>1.000</td>\n",
       "      <td>2.0</td>\n",
       "      <td>100.0</td>\n",
       "      <td>0.0</td>\n",
       "      <td>2.257</td>\n",
       "      <td>1.879</td>\n",
       "      <td>1.0</td>\n",
       "    </tr>\n",
       "    <tr>\n",
       "      <th>...</th>\n",
       "      <td>...</td>\n",
       "      <td>...</td>\n",
       "      <td>...</td>\n",
       "      <td>...</td>\n",
       "      <td>...</td>\n",
       "      <td>...</td>\n",
       "      <td>...</td>\n",
       "      <td>...</td>\n",
       "      <td>...</td>\n",
       "      <td>...</td>\n",
       "      <td>...</td>\n",
       "      <td>...</td>\n",
       "      <td>...</td>\n",
       "      <td>...</td>\n",
       "      <td>...</td>\n",
       "      <td>...</td>\n",
       "      <td>...</td>\n",
       "      <td>...</td>\n",
       "      <td>...</td>\n",
       "      <td>...</td>\n",
       "      <td>...</td>\n",
       "    </tr>\n",
       "    <tr>\n",
       "      <th>Vietnam</th>\n",
       "      <td>24.0</td>\n",
       "      <td>0.0</td>\n",
       "      <td>0.149</td>\n",
       "      <td>0.137</td>\n",
       "      <td>-1.463</td>\n",
       "      <td>-1.008</td>\n",
       "      <td>-1.360</td>\n",
       "      <td>-2.123</td>\n",
       "      <td>-2.036</td>\n",
       "      <td>-1.439</td>\n",
       "      <td>...</td>\n",
       "      <td>0.506</td>\n",
       "      <td>-1.228</td>\n",
       "      <td>1.475</td>\n",
       "      <td>0.000</td>\n",
       "      <td>1.0</td>\n",
       "      <td>100.0</td>\n",
       "      <td>0.0</td>\n",
       "      <td>-0.821</td>\n",
       "      <td>-1.808</td>\n",
       "      <td>0.0</td>\n",
       "    </tr>\n",
       "    <tr>\n",
       "      <th>Yemen</th>\n",
       "      <td>NaN</td>\n",
       "      <td>0.0</td>\n",
       "      <td>0.119</td>\n",
       "      <td>0.196</td>\n",
       "      <td>-2.238</td>\n",
       "      <td>-1.355</td>\n",
       "      <td>-0.593</td>\n",
       "      <td>-0.153</td>\n",
       "      <td>-0.613</td>\n",
       "      <td>-1.161</td>\n",
       "      <td>...</td>\n",
       "      <td>0.000</td>\n",
       "      <td>-1.278</td>\n",
       "      <td>-0.697</td>\n",
       "      <td>0.000</td>\n",
       "      <td>2.0</td>\n",
       "      <td>100.0</td>\n",
       "      <td>0.0</td>\n",
       "      <td>0.942</td>\n",
       "      <td>1.507</td>\n",
       "      <td>0.0</td>\n",
       "    </tr>\n",
       "    <tr>\n",
       "      <th>Zambia</th>\n",
       "      <td>58.0</td>\n",
       "      <td>1.0</td>\n",
       "      <td>0.338</td>\n",
       "      <td>0.648</td>\n",
       "      <td>-0.983</td>\n",
       "      <td>0.212</td>\n",
       "      <td>0.588</td>\n",
       "      <td>0.752</td>\n",
       "      <td>1.352</td>\n",
       "      <td>0.406</td>\n",
       "      <td>...</td>\n",
       "      <td>0.201</td>\n",
       "      <td>0.402</td>\n",
       "      <td>-1.696</td>\n",
       "      <td>0.970</td>\n",
       "      <td>1.0</td>\n",
       "      <td>94.0</td>\n",
       "      <td>0.0</td>\n",
       "      <td>1.915</td>\n",
       "      <td>1.638</td>\n",
       "      <td>1.0</td>\n",
       "    </tr>\n",
       "    <tr>\n",
       "      <th>Zanzibar</th>\n",
       "      <td>NaN</td>\n",
       "      <td>1.0</td>\n",
       "      <td>0.266</td>\n",
       "      <td>0.448</td>\n",
       "      <td>-0.468</td>\n",
       "      <td>-0.614</td>\n",
       "      <td>-0.085</td>\n",
       "      <td>0.769</td>\n",
       "      <td>0.730</td>\n",
       "      <td>-0.172</td>\n",
       "      <td>...</td>\n",
       "      <td>0.099</td>\n",
       "      <td>-1.608</td>\n",
       "      <td>-1.099</td>\n",
       "      <td>0.925</td>\n",
       "      <td>1.0</td>\n",
       "      <td>85.0</td>\n",
       "      <td>0.0</td>\n",
       "      <td>1.851</td>\n",
       "      <td>1.881</td>\n",
       "      <td>1.0</td>\n",
       "    </tr>\n",
       "    <tr>\n",
       "      <th>Zimbabwe</th>\n",
       "      <td>42.0</td>\n",
       "      <td>1.0</td>\n",
       "      <td>0.293</td>\n",
       "      <td>0.441</td>\n",
       "      <td>-0.536</td>\n",
       "      <td>-0.798</td>\n",
       "      <td>-0.640</td>\n",
       "      <td>0.319</td>\n",
       "      <td>1.370</td>\n",
       "      <td>0.790</td>\n",
       "      <td>...</td>\n",
       "      <td>0.157</td>\n",
       "      <td>-1.250</td>\n",
       "      <td>-1.620</td>\n",
       "      <td>0.950</td>\n",
       "      <td>2.0</td>\n",
       "      <td>80.0</td>\n",
       "      <td>20.0</td>\n",
       "      <td>2.579</td>\n",
       "      <td>1.995</td>\n",
       "      <td>1.0</td>\n",
       "    </tr>\n",
       "  </tbody>\n",
       "</table>\n",
       "<p>176 rows × 30 columns</p>\n",
       "</div>"
      ],
      "text/plain": [
       "              total_score  v2x_regime  v2x_polyarchy  v2x_freexp_altinf  \\\n",
       "country_name                                                              \n",
       "Afghanistan           NaN         1.0          0.353              0.696   \n",
       "Albania               NaN         1.0          0.486              0.639   \n",
       "Algeria               NaN         1.0          0.287              0.521   \n",
       "Angola               64.0         1.0          0.365              0.653   \n",
       "Argentina            72.0         2.0          0.771              0.843   \n",
       "...                   ...         ...            ...                ...   \n",
       "Vietnam              24.0         0.0          0.149              0.137   \n",
       "Yemen                 NaN         0.0          0.119              0.196   \n",
       "Zambia               58.0         1.0          0.338              0.648   \n",
       "Zanzibar              NaN         1.0          0.266              0.448   \n",
       "Zimbabwe             42.0         1.0          0.293              0.441   \n",
       "\n",
       "              v2mecenefm  v2meharjrn  v2meslfcen  v2mebias  v2merange  \\\n",
       "country_name                                                            \n",
       "Afghanistan        0.327      -0.392       0.420     1.337      1.497   \n",
       "Albania           -0.039       0.526       0.476     1.086      0.438   \n",
       "Algeria           -1.063       0.476      -0.122    -0.096      0.810   \n",
       "Angola             1.026       0.552       0.997     0.855     -0.317   \n",
       "Argentina          1.274       0.948       1.320     1.419      1.525   \n",
       "...                  ...         ...         ...       ...        ...   \n",
       "Vietnam           -1.463      -1.008      -1.360    -2.123     -2.036   \n",
       "Yemen             -2.238      -1.355      -0.593    -0.153     -0.613   \n",
       "Zambia            -0.983       0.212       0.588     0.752      1.352   \n",
       "Zanzibar          -0.468      -0.614      -0.085     0.769      0.730   \n",
       "Zimbabwe          -0.536      -0.798      -0.640     0.319      1.370   \n",
       "\n",
       "              v2mecrit  ...  v2xel_frefair  v2elembaut  v2elembcap  \\\n",
       "country_name            ...                                          \n",
       "Afghanistan      1.532  ...          0.164      -0.569      -0.560   \n",
       "Albania         -0.604  ...          0.491       0.701       0.353   \n",
       "Algeria          0.469  ...          0.234      -0.931      -1.228   \n",
       "Angola           1.255  ...          0.255      -0.939      -0.772   \n",
       "Argentina        0.646  ...          0.873       1.614       1.624   \n",
       "...                ...  ...            ...         ...         ...   \n",
       "Vietnam         -1.439  ...          0.506      -1.228       1.475   \n",
       "Yemen           -1.161  ...          0.000      -1.278      -0.697   \n",
       "Zambia           0.406  ...          0.201       0.402      -1.696   \n",
       "Zanzibar        -0.172  ...          0.099      -1.608      -1.099   \n",
       "Zimbabwe         0.790  ...          0.157      -1.250      -1.620   \n",
       "\n",
       "              v2x_elecoff  v2lgbicam  v2lgello  v2lginello  v2exdfcbhs  \\\n",
       "country_name                                                             \n",
       "Afghanistan         1.000        2.0     100.0         0.0      -0.588   \n",
       "Albania             1.000        1.0     100.0         0.0      -1.225   \n",
       "Algeria             1.000        2.0     100.0         0.0       1.495   \n",
       "Angola              1.000        1.0     100.0         0.0       1.629   \n",
       "Argentina           1.000        2.0     100.0         0.0       2.257   \n",
       "...                   ...        ...       ...         ...         ...   \n",
       "Vietnam             0.000        1.0     100.0         0.0      -0.821   \n",
       "Yemen               0.000        2.0     100.0         0.0       0.942   \n",
       "Zambia              0.970        1.0      94.0         0.0       1.915   \n",
       "Zanzibar            0.925        1.0      85.0         0.0       1.851   \n",
       "Zimbabwe            0.950        2.0      80.0        20.0       2.579   \n",
       "\n",
       "              v2exdfdmhs  v2exhoshog  \n",
       "country_name                          \n",
       "Afghanistan        1.005         1.0  \n",
       "Albania           -1.068         0.0  \n",
       "Algeria            1.421         0.0  \n",
       "Angola             1.005         1.0  \n",
       "Argentina          1.879         1.0  \n",
       "...                  ...         ...  \n",
       "Vietnam           -1.808         0.0  \n",
       "Yemen              1.507         0.0  \n",
       "Zambia             1.638         1.0  \n",
       "Zanzibar           1.881         1.0  \n",
       "Zimbabwe           1.995         1.0  \n",
       "\n",
       "[176 rows x 30 columns]"
      ]
     },
     "execution_count": 2,
     "metadata": {},
     "output_type": "execute_result"
    }
   ],
   "source": [
    "vdem = pd.read_csv(filepath_or_buffer='../data/vdem.tsv', sep='\\t', encoding='utf-8', low_memory=False)\n",
    "vdem = vdem.set_index('country_name')\n",
    "vdem"
   ]
  },
  {
   "cell_type": "markdown",
   "id": "6f6dc767",
   "metadata": {},
   "source": [
    "The variables we have extracted are:"
   ]
  },
  {
   "cell_type": "code",
   "execution_count": 3,
   "id": "d636789a",
   "metadata": {},
   "outputs": [],
   "source": [
    "# high-level index\n",
    "index = ['v2x_polyarchy']\n",
    "\n",
    "# low-level indices\n",
    "indices = ['v2x_freexp_altinf', 'v2x_frassoc_thick', 'v2x_suffr', 'v2xel_frefair', 'v2x_elecoff']\n",
    "\n",
    "# low-level index labels\n",
    "indices_labels = ['Freedom of expression', 'Freedom of association', 'Share of pop w/ suffrage', 'Clean elections', 'Elected officials']\n",
    "\n",
    "# indicators\n",
    "indicators = ['v2mecenefm', 'v2meharjrn', 'v2meslfcen', 'v2mebias', 'v2merange', 'v2mecrit', 'v2cldiscm', 'v2cldiscw', 'v2clacfree', 'v2psparban', 'v2psbars', 'v2cseeorgs', 'v2csreprss', 'v2elsuffrage', 'v2elembaut', 'v2elembcap', 'v2lgbicam', 'v2lgello', 'v2lginello', 'v2exdfcbhs', 'v2exdfdmhs', 'v2exhoshog']\n",
    "indicators_level = ['v2x_freexp_altinf', 'v2x_freexp_altinf', 'v2x_freexp_altinf', 'v2x_freexp_altinf', 'v2x_freexp_altinf', 'v2x_freexp_altinf', 'v2x_freexp_altinf', 'v2x_freexp_altinf', 'v2x_freexp_altinf', 'v2x_frassoc_thick', 'v2x_frassoc_thick', 'v2x_frassoc_thick', 'v2x_frassoc_thick', 'v2x_suffr', 'v2xel_frefair', 'v2xel_frefair', 'v2x_elecoff', 'v2x_elecoff', 'v2x_elecoff', 'v2x_elecoff', 'v2x_elecoff', 'v2x_elecoff']\n",
    "\n",
    "# indicator labels\n",
    "indicators_labels = ['Government censorship effort—Media', 'Harassment of journalists', 'Media self-censorship', 'Media bias', 'Print/broadcast media perspectives', 'Print/broadcast media critical', 'Freedom of discussion for men', 'Freedom of discussion for women', 'Freedom of academic and cultural expression', 'Party ban', 'Barriers to parties', 'CSO entry and exit', 'CSO repression', 'Percent of population with suffrage', 'EMB autonomy', 'EMB capacity', 'Legislature bicameral', 'Lower chamber directly elected', 'Percentage of indirectly elected legislators lower chamber', 'HOS appoints cabinet in practice', 'HOS dismisses ministers in practice', 'HOS = HOG?']\n",
    "indicators_labels_level = ['Freedom of expression', 'Freedom of expression', 'Freedom of expression', 'Freedom of expression', 'Freedom of expression', 'Freedom of expression', 'Freedom of expression', 'Freedom of expression', 'Freedom of expression', 'Freedom of association', 'Freedom of association', 'Freedom of association', 'Freedom of association', 'Share of pop w/ suffrage', 'Clean elections', 'Clean elections', 'Elected officials', 'Elected officials', 'Elected officials', 'Elected officials', 'Elected officials', 'Elected officials']"
   ]
  },
  {
   "cell_type": "markdown",
   "id": "2e2b7c84",
   "metadata": {},
   "source": [
    "We will be working with the following 22 indicators. Abbreviations in their descriptions are civil society organization (CSO), election management body (EMB), head of state (HOS), and head of government (HOG):"
   ]
  },
  {
   "cell_type": "code",
   "execution_count": 4,
   "id": "b99893a3",
   "metadata": {},
   "outputs": [
    {
     "data": {
      "text/plain": [
       "['Government censorship effort—Media',\n",
       " 'Harassment of journalists',\n",
       " 'Media self-censorship',\n",
       " 'Media bias',\n",
       " 'Print/broadcast media perspectives',\n",
       " 'Print/broadcast media critical',\n",
       " 'Freedom of discussion for men',\n",
       " 'Freedom of discussion for women',\n",
       " 'Freedom of academic and cultural expression',\n",
       " 'Party ban',\n",
       " 'Barriers to parties',\n",
       " 'CSO entry and exit',\n",
       " 'CSO repression',\n",
       " 'Percent of population with suffrage',\n",
       " 'EMB autonomy',\n",
       " 'EMB capacity',\n",
       " 'Legislature bicameral',\n",
       " 'Lower chamber directly elected',\n",
       " 'Percentage of indirectly elected legislators lower chamber',\n",
       " 'HOS appoints cabinet in practice',\n",
       " 'HOS dismisses ministers in practice',\n",
       " 'HOS = HOG?']"
      ]
     },
     "execution_count": 4,
     "metadata": {},
     "output_type": "execute_result"
    }
   ],
   "source": [
    "indicators_labels"
   ]
  },
  {
   "cell_type": "markdown",
   "id": "439540b4",
   "metadata": {},
   "source": [
    "As shown in *figure 3*, we will use them to measure these low-level indices (latent variables):"
   ]
  },
  {
   "cell_type": "code",
   "execution_count": 5,
   "id": "05abafeb",
   "metadata": {},
   "outputs": [
    {
     "data": {
      "text/plain": [
       "['Freedom of expression',\n",
       " 'Freedom of association',\n",
       " 'Share of pop w/ suffrage',\n",
       " 'Clean elections',\n",
       " 'Elected officials']"
      ]
     },
     "execution_count": 5,
     "metadata": {},
     "output_type": "execute_result"
    }
   ],
   "source": [
    "indices_labels"
   ]
  },
  {
   "cell_type": "markdown",
   "id": "385c496f",
   "metadata": {},
   "source": [
    "The variables 'total_score' and 'v2x_regime' will only be used in the supervised machine learning part. Hence, we remove them:"
   ]
  },
  {
   "cell_type": "code",
   "execution_count": 6,
   "id": "db2281a4",
   "metadata": {},
   "outputs": [],
   "source": [
    "del vdem['total_score']\n",
    "del vdem['v2x_regime']"
   ]
  },
  {
   "cell_type": "markdown",
   "id": "7530c2d9",
   "metadata": {},
   "source": [
    "#### Data exploration and preprocessing\n",
    "\n",
    "You should always know how the variables in $X$ are distributed, also in machine learning:"
   ]
  },
  {
   "cell_type": "code",
   "execution_count": 7,
   "id": "1f50749d",
   "metadata": {},
   "outputs": [
    {
     "data": {
      "text/html": [
       "<div>\n",
       "<style scoped>\n",
       "    .dataframe tbody tr th:only-of-type {\n",
       "        vertical-align: middle;\n",
       "    }\n",
       "\n",
       "    .dataframe tbody tr th {\n",
       "        vertical-align: top;\n",
       "    }\n",
       "\n",
       "    .dataframe thead th {\n",
       "        text-align: right;\n",
       "    }\n",
       "</style>\n",
       "<table border=\"1\" class=\"dataframe\">\n",
       "  <thead>\n",
       "    <tr style=\"text-align: right;\">\n",
       "      <th></th>\n",
       "      <th>v2mecenefm</th>\n",
       "      <th>v2meharjrn</th>\n",
       "      <th>v2meslfcen</th>\n",
       "      <th>v2mebias</th>\n",
       "      <th>v2merange</th>\n",
       "      <th>v2mecrit</th>\n",
       "      <th>v2cldiscm</th>\n",
       "      <th>v2cldiscw</th>\n",
       "      <th>v2clacfree</th>\n",
       "      <th>v2psparban</th>\n",
       "      <th>...</th>\n",
       "      <th>v2csreprss</th>\n",
       "      <th>v2elsuffrage</th>\n",
       "      <th>v2elembaut</th>\n",
       "      <th>v2elembcap</th>\n",
       "      <th>v2lgbicam</th>\n",
       "      <th>v2lgello</th>\n",
       "      <th>v2lginello</th>\n",
       "      <th>v2exdfcbhs</th>\n",
       "      <th>v2exdfdmhs</th>\n",
       "      <th>v2exhoshog</th>\n",
       "    </tr>\n",
       "  </thead>\n",
       "  <tbody>\n",
       "    <tr>\n",
       "      <th>count</th>\n",
       "      <td>176.000000</td>\n",
       "      <td>176.000000</td>\n",
       "      <td>176.000000</td>\n",
       "      <td>176.000000</td>\n",
       "      <td>176.000000</td>\n",
       "      <td>176.000000</td>\n",
       "      <td>176.000000</td>\n",
       "      <td>176.000000</td>\n",
       "      <td>176.000000</td>\n",
       "      <td>176.000000</td>\n",
       "      <td>...</td>\n",
       "      <td>176.000000</td>\n",
       "      <td>176.000000</td>\n",
       "      <td>176.000000</td>\n",
       "      <td>176.000000</td>\n",
       "      <td>176.000000</td>\n",
       "      <td>176.000000</td>\n",
       "      <td>176.000000</td>\n",
       "      <td>176.000000</td>\n",
       "      <td>176.000000</td>\n",
       "      <td>176.000000</td>\n",
       "    </tr>\n",
       "    <tr>\n",
       "      <th>mean</th>\n",
       "      <td>0.612642</td>\n",
       "      <td>0.595608</td>\n",
       "      <td>0.587642</td>\n",
       "      <td>0.862131</td>\n",
       "      <td>0.910881</td>\n",
       "      <td>0.843881</td>\n",
       "      <td>0.987625</td>\n",
       "      <td>0.911108</td>\n",
       "      <td>0.880045</td>\n",
       "      <td>1.102142</td>\n",
       "      <td>...</td>\n",
       "      <td>0.886551</td>\n",
       "      <td>98.128523</td>\n",
       "      <td>0.713244</td>\n",
       "      <td>0.881375</td>\n",
       "      <td>1.420455</td>\n",
       "      <td>94.767716</td>\n",
       "      <td>1.877841</td>\n",
       "      <td>0.055841</td>\n",
       "      <td>-0.027176</td>\n",
       "      <td>0.357955</td>\n",
       "    </tr>\n",
       "    <tr>\n",
       "      <th>std</th>\n",
       "      <td>1.527468</td>\n",
       "      <td>1.313167</td>\n",
       "      <td>1.263715</td>\n",
       "      <td>1.254942</td>\n",
       "      <td>1.291326</td>\n",
       "      <td>1.351425</td>\n",
       "      <td>1.392640</td>\n",
       "      <td>1.305326</td>\n",
       "      <td>1.464004</td>\n",
       "      <td>1.330738</td>\n",
       "      <td>...</td>\n",
       "      <td>1.436784</td>\n",
       "      <td>12.573203</td>\n",
       "      <td>1.587106</td>\n",
       "      <td>1.284305</td>\n",
       "      <td>0.506452</td>\n",
       "      <td>17.836404</td>\n",
       "      <td>11.228694</td>\n",
       "      <td>1.550796</td>\n",
       "      <td>1.749876</td>\n",
       "      <td>0.480766</td>\n",
       "    </tr>\n",
       "    <tr>\n",
       "      <th>min</th>\n",
       "      <td>-2.879000</td>\n",
       "      <td>-2.960000</td>\n",
       "      <td>-2.936000</td>\n",
       "      <td>-3.176000</td>\n",
       "      <td>-2.694000</td>\n",
       "      <td>-3.028000</td>\n",
       "      <td>-3.250000</td>\n",
       "      <td>-2.784000</td>\n",
       "      <td>-3.223000</td>\n",
       "      <td>-3.619000</td>\n",
       "      <td>...</td>\n",
       "      <td>-3.759000</td>\n",
       "      <td>0.000000</td>\n",
       "      <td>-2.934000</td>\n",
       "      <td>-2.552000</td>\n",
       "      <td>0.000000</td>\n",
       "      <td>0.000000</td>\n",
       "      <td>0.000000</td>\n",
       "      <td>-3.438000</td>\n",
       "      <td>-3.565000</td>\n",
       "      <td>0.000000</td>\n",
       "    </tr>\n",
       "    <tr>\n",
       "      <th>25%</th>\n",
       "      <td>-0.421500</td>\n",
       "      <td>-0.136750</td>\n",
       "      <td>-0.054000</td>\n",
       "      <td>0.587000</td>\n",
       "      <td>0.406000</td>\n",
       "      <td>0.311750</td>\n",
       "      <td>0.112750</td>\n",
       "      <td>-0.221750</td>\n",
       "      <td>0.002750</td>\n",
       "      <td>0.637500</td>\n",
       "      <td>...</td>\n",
       "      <td>-0.243500</td>\n",
       "      <td>100.000000</td>\n",
       "      <td>-0.622000</td>\n",
       "      <td>-0.069750</td>\n",
       "      <td>1.000000</td>\n",
       "      <td>100.000000</td>\n",
       "      <td>0.000000</td>\n",
       "      <td>-1.158500</td>\n",
       "      <td>-1.689750</td>\n",
       "      <td>0.000000</td>\n",
       "    </tr>\n",
       "    <tr>\n",
       "      <th>50%</th>\n",
       "      <td>0.804000</td>\n",
       "      <td>0.598500</td>\n",
       "      <td>0.686500</td>\n",
       "      <td>1.097500</td>\n",
       "      <td>1.222500</td>\n",
       "      <td>0.946000</td>\n",
       "      <td>1.282000</td>\n",
       "      <td>1.166500</td>\n",
       "      <td>1.081000</td>\n",
       "      <td>1.527500</td>\n",
       "      <td>...</td>\n",
       "      <td>1.171500</td>\n",
       "      <td>100.000000</td>\n",
       "      <td>1.055000</td>\n",
       "      <td>0.979500</td>\n",
       "      <td>1.000000</td>\n",
       "      <td>100.000000</td>\n",
       "      <td>0.000000</td>\n",
       "      <td>0.010000</td>\n",
       "      <td>0.701500</td>\n",
       "      <td>0.000000</td>\n",
       "    </tr>\n",
       "    <tr>\n",
       "      <th>75%</th>\n",
       "      <td>1.697500</td>\n",
       "      <td>1.450000</td>\n",
       "      <td>1.331750</td>\n",
       "      <td>1.619000</td>\n",
       "      <td>1.803500</td>\n",
       "      <td>1.679750</td>\n",
       "      <td>2.077750</td>\n",
       "      <td>1.861500</td>\n",
       "      <td>2.004750</td>\n",
       "      <td>2.018500</td>\n",
       "      <td>...</td>\n",
       "      <td>1.978000</td>\n",
       "      <td>100.000000</td>\n",
       "      <td>1.883000</td>\n",
       "      <td>1.765250</td>\n",
       "      <td>2.000000</td>\n",
       "      <td>100.000000</td>\n",
       "      <td>0.000000</td>\n",
       "      <td>1.315250</td>\n",
       "      <td>1.642000</td>\n",
       "      <td>1.000000</td>\n",
       "    </tr>\n",
       "    <tr>\n",
       "      <th>max</th>\n",
       "      <td>3.499000</td>\n",
       "      <td>3.766000</td>\n",
       "      <td>3.310000</td>\n",
       "      <td>3.058000</td>\n",
       "      <td>2.693000</td>\n",
       "      <td>3.395000</td>\n",
       "      <td>3.250000</td>\n",
       "      <td>3.187000</td>\n",
       "      <td>3.613000</td>\n",
       "      <td>2.649000</td>\n",
       "      <td>...</td>\n",
       "      <td>3.324000</td>\n",
       "      <td>100.000000</td>\n",
       "      <td>3.703000</td>\n",
       "      <td>3.229000</td>\n",
       "      <td>2.000000</td>\n",
       "      <td>100.000000</td>\n",
       "      <td>100.000000</td>\n",
       "      <td>2.579000</td>\n",
       "      <td>2.164000</td>\n",
       "      <td>1.000000</td>\n",
       "    </tr>\n",
       "  </tbody>\n",
       "</table>\n",
       "<p>8 rows × 22 columns</p>\n",
       "</div>"
      ],
      "text/plain": [
       "       v2mecenefm  v2meharjrn  v2meslfcen    v2mebias   v2merange    v2mecrit  \\\n",
       "count  176.000000  176.000000  176.000000  176.000000  176.000000  176.000000   \n",
       "mean     0.612642    0.595608    0.587642    0.862131    0.910881    0.843881   \n",
       "std      1.527468    1.313167    1.263715    1.254942    1.291326    1.351425   \n",
       "min     -2.879000   -2.960000   -2.936000   -3.176000   -2.694000   -3.028000   \n",
       "25%     -0.421500   -0.136750   -0.054000    0.587000    0.406000    0.311750   \n",
       "50%      0.804000    0.598500    0.686500    1.097500    1.222500    0.946000   \n",
       "75%      1.697500    1.450000    1.331750    1.619000    1.803500    1.679750   \n",
       "max      3.499000    3.766000    3.310000    3.058000    2.693000    3.395000   \n",
       "\n",
       "        v2cldiscm   v2cldiscw  v2clacfree  v2psparban  ...  v2csreprss  \\\n",
       "count  176.000000  176.000000  176.000000  176.000000  ...  176.000000   \n",
       "mean     0.987625    0.911108    0.880045    1.102142  ...    0.886551   \n",
       "std      1.392640    1.305326    1.464004    1.330738  ...    1.436784   \n",
       "min     -3.250000   -2.784000   -3.223000   -3.619000  ...   -3.759000   \n",
       "25%      0.112750   -0.221750    0.002750    0.637500  ...   -0.243500   \n",
       "50%      1.282000    1.166500    1.081000    1.527500  ...    1.171500   \n",
       "75%      2.077750    1.861500    2.004750    2.018500  ...    1.978000   \n",
       "max      3.250000    3.187000    3.613000    2.649000  ...    3.324000   \n",
       "\n",
       "       v2elsuffrage  v2elembaut  v2elembcap   v2lgbicam    v2lgello  \\\n",
       "count    176.000000  176.000000  176.000000  176.000000  176.000000   \n",
       "mean      98.128523    0.713244    0.881375    1.420455   94.767716   \n",
       "std       12.573203    1.587106    1.284305    0.506452   17.836404   \n",
       "min        0.000000   -2.934000   -2.552000    0.000000    0.000000   \n",
       "25%      100.000000   -0.622000   -0.069750    1.000000  100.000000   \n",
       "50%      100.000000    1.055000    0.979500    1.000000  100.000000   \n",
       "75%      100.000000    1.883000    1.765250    2.000000  100.000000   \n",
       "max      100.000000    3.703000    3.229000    2.000000  100.000000   \n",
       "\n",
       "       v2lginello  v2exdfcbhs  v2exdfdmhs  v2exhoshog  \n",
       "count  176.000000  176.000000  176.000000  176.000000  \n",
       "mean     1.877841    0.055841   -0.027176    0.357955  \n",
       "std     11.228694    1.550796    1.749876    0.480766  \n",
       "min      0.000000   -3.438000   -3.565000    0.000000  \n",
       "25%      0.000000   -1.158500   -1.689750    0.000000  \n",
       "50%      0.000000    0.010000    0.701500    0.000000  \n",
       "75%      0.000000    1.315250    1.642000    1.000000  \n",
       "max    100.000000    2.579000    2.164000    1.000000  \n",
       "\n",
       "[8 rows x 22 columns]"
      ]
     },
     "execution_count": 7,
     "metadata": {},
     "output_type": "execute_result"
    }
   ],
   "source": [
    "vdem[indicators].describe()"
   ]
  },
  {
   "cell_type": "markdown",
   "id": "76430541",
   "metadata": {},
   "source": [
    "We see (also from consulting the codebook) that most variables are scaled to have values somewhere between -5 and 5, with 0 approximately representing the mean. 'v2elsuffrage', 'v2lgello', and 'v2lginello' are quite skewed, they range from 0 to 100, but differ in their mean. 'v2lgbicam' has an ordinal scale with values 0, 1, and 2, and 'v2exhoshog' is dichotomous.\n",
    "\n",
    "The corresponding boxplot looks like this:"
   ]
  },
  {
   "cell_type": "code",
   "execution_count": 8,
   "id": "7b3bac3d",
   "metadata": {},
   "outputs": [],
   "source": [
    "import matplotlib.pyplot as plt\n",
    "import seaborn as sns\n",
    "sns.set_theme()"
   ]
  },
  {
   "cell_type": "code",
   "execution_count": 9,
   "id": "d5534fa2",
   "metadata": {},
   "outputs": [
    {
     "data": {
      "image/png": "[encoded data removed]",
      "text/plain": [
       "<Figure size 1200x200 with 1 Axes>"
      ]
     },
     "metadata": {},
     "output_type": "display_data"
    }
   ],
   "source": [
    "plt.figure(figsize=[12, 2])\n",
    "sns.set_theme(font_scale=1)\n",
    "sns.boxplot(data=vdem[indicators])\n",
    "plt.ylabel('Value')\n",
    "plt.xticks(rotation=90)\n",
    "plt.show()"
   ]
  },
  {
   "cell_type": "markdown",
   "id": "843c54a5",
   "metadata": {},
   "source": [
    "There are large differences in variance. These differences carry over to covariance. We can easily obtain the **covariance matrix** of the feature matrix $X$ from the Pandas dataframe using the [`cov()`](https://pandas.pydata.org/docs/reference/api/pandas.DataFrame.cov.html) method. Also obtain the **correlation matrix** using the [`corr()`](https://pandas.pydata.org/docs/reference/api/pandas.DataFrame.corr.html) method:"
   ]
  },
  {
   "cell_type": "code",
   "execution_count": 10,
   "id": "eb4ec809",
   "metadata": {},
   "outputs": [],
   "source": [
    "vdem_indicators_cov = vdem[indicators].cov(ddof=0)\n",
    "vdem_indicators_corr = vdem[indicators].corr()"
   ]
  },
  {
   "cell_type": "markdown",
   "id": "ba6c4201",
   "metadata": {},
   "source": [
    "Plot both of them as a heatmap:"
   ]
  },
  {
   "cell_type": "code",
   "execution_count": 11,
   "id": "e55823d5",
   "metadata": {},
   "outputs": [
    {
     "data": {
      "image/png": "[encoded data removed]",
      "text/plain": [
       "<Figure size 800x300 with 4 Axes>"
      ]
     },
     "metadata": {},
     "output_type": "display_data"
    }
   ],
   "source": [
    "fig, (ax1, ax2) = plt.subplots(1, 2, figsize=[8, 3])\n",
    "sns.set(font_scale=.75)\n",
    "sns.heatmap(data=vdem_indicators_cov, cmap='bwr', cbar_kws={'label': 'Covariance'}, xticklabels=True, yticklabels=True, ax=ax1)\n",
    "sns.heatmap(data=vdem_indicators_corr, vmin=-1, vmax=1, cmap='bwr', cbar_kws={'label': 'Correlation'}, xticklabels=True, yticklabels=False, ax=ax2)\n",
    "plt.show()"
   ]
  },
  {
   "cell_type": "markdown",
   "id": "0145fb0e",
   "metadata": {},
   "source": [
    "[Recall](https://en.wikipedia.org/wiki/Covariance_and_correlation) that covariance is the extent to which two variables depend on each other while correlation tells how strongly they are related (*i.e.*, correlation is dimensionless). The dimensionality-reduction methods we are about to learn are sensitive to absolute differences in variance and covariance. When the variables in a dataset have largely different variance, those with the larger numerical values will dominate the results. This can result in suboptimal performance of certain dimensionality-reduction or clustering algorithms. In order to avoid that, we must standardize the data. **Standardization** means that the data is centered to have a mean of 0 and rescaled to have a variance of 1. The standardization transformation $z=\\frac{x-\\mu_x}{\\sigma_x}$ creates the so-called [$z$-scores](https://en.wikipedia.org/wiki/Standard_score) of a variable $x$ where $\\mu_x$ is the mean and $\\sigma_x$ is the standard deviation. This transformation ensures that all variables have the same relative importance and helps algorithms to identify patterns based on the relative differences between variables, rather than their absolute values.\n",
    "\n",
    "It is standard practice to store $X$ as a NumPy array. We can directly obtain this array from Pandas:"
   ]
  },
  {
   "cell_type": "code",
   "execution_count": 12,
   "id": "23f3a103",
   "metadata": {},
   "outputs": [],
   "source": [
    "X = vdem[indicators].to_numpy()"
   ]
  },
  {
   "cell_type": "markdown",
   "id": "1bda4761",
   "metadata": {},
   "source": [
    "We can then use the [StandardScaler](https://scikit-learn.org/stable/modules/generated/sklearn.preprocessing.StandardScaler.html) from sklearn to get the standardized matrix $Z$:"
   ]
  },
  {
   "cell_type": "code",
   "execution_count": 13,
   "id": "ed510126",
   "metadata": {},
   "outputs": [],
   "source": [
    "from sklearn.preprocessing import StandardScaler\n",
    "\n",
    "Z = StandardScaler().fit_transform(X)"
   ]
  },
  {
   "cell_type": "markdown",
   "id": "120987b5",
   "metadata": {},
   "source": [
    "Let's plot our standardized data:"
   ]
  },
  {
   "cell_type": "code",
   "execution_count": 14,
   "id": "c932dd86",
   "metadata": {},
   "outputs": [
    {
     "data": {
      "image/png": "[encoded data removed]",
      "text/plain": [
       "<Figure size 1200x200 with 1 Axes>"
      ]
     },
     "metadata": {},
     "output_type": "display_data"
    }
   ],
   "source": [
    "plt.figure(figsize=[12, 2])\n",
    "sns.set_theme(font_scale=1)\n",
    "sns.boxplot(data=pd.DataFrame(data=Z, columns=indicators))\n",
    "plt.ylabel('Value')\n",
    "plt.xticks(rotation=90)\n",
    "plt.show()"
   ]
  },
  {
   "cell_type": "markdown",
   "id": "5ac8e5a9",
   "metadata": {},
   "source": [
    "Create a dataframe with the standardized variables..."
   ]
  },
  {
   "cell_type": "code",
   "execution_count": 15,
   "id": "429a17f9",
   "metadata": {
    "scrolled": true
   },
   "outputs": [],
   "source": [
    "vdem_indicators_z = pd.DataFrame(data=Z, index=vdem.index, columns=indicators)"
   ]
  },
  {
   "cell_type": "markdown",
   "id": "aca8451c",
   "metadata": {},
   "source": [
    "to plot the corresponding covariance and correlation structures:"
   ]
  },
  {
   "cell_type": "code",
   "execution_count": 16,
   "id": "53d63f0e",
   "metadata": {},
   "outputs": [
    {
     "data": {
      "image/png": "[encoded data removed]",
      "text/plain": [
       "<Figure size 800x300 with 4 Axes>"
      ]
     },
     "metadata": {},
     "output_type": "display_data"
    }
   ],
   "source": [
    "vdem_indicators_z_cov = vdem_indicators_z.cov(ddof=0)\n",
    "vdem_indicators_z_corr = vdem_indicators_z.corr()\n",
    "\n",
    "fig, (ax1, ax2) = plt.subplots(1, 2, figsize=[8, 3])\n",
    "sns.set(font_scale=.75)\n",
    "sns.heatmap(data=vdem_indicators_z_cov, vmin=-1, vmax=1, cmap='bwr', cbar_kws={'label': 'Covariance'}, xticklabels=True, yticklabels=True, ax=ax1)\n",
    "sns.heatmap(data=vdem_indicators_z_corr, vmin=-1, vmax=1, cmap='bwr', cbar_kws={'label': 'Correlation'}, xticklabels=True, yticklabels=False, ax=ax2)\n",
    "plt.show()"
   ]
  },
  {
   "cell_type": "markdown",
   "id": "0d4ab66a",
   "metadata": {},
   "source": [
    "The covariance and correlation matrices are now identical because correlation is standardized covariance."
   ]
  },
  {
   "cell_type": "markdown",
   "id": "0adb89bd",
   "metadata": {},
   "source": [
    "## D3.2. Dimensionality reduction\n",
    "\n",
    "Dimensionality-reduction algorithms work with the covariance (or correlation) matrix and try to bundle those indicators that covary (or are correlated) a lot. Like many dimensionality-reduction tools, the two models we will take a look at are based on **matrix factorization**. Mathematically, [matrix factorization](https://scikit-learn.org/stable/modules/decomposition.html) takes the form\n",
    "\n",
    "$X^\\mathrm{T}=M+LF$\n",
    "\n",
    "where\n",
    "\n",
    "- $X$ is the feature matrix with dimensionality $n\\times p$ where $n$ is the number of the units of observations (in V-Dem: countries) and $p$ is the number of observed variables,\n",
    "- $X^\\mathrm{T}$ is the transposed feature matrix (transposition means that the rows become columns and *vice versa*),\n",
    "- $M$ is the mean matrix with dimensionality $p\\times n$ where $m_{i,j}=\\mu_i$,\n",
    "- $L$ is a matrix with dimensionality $p\\times k$ where $k$ is the number of unobserved variables, and\n",
    "- $F$ is a matrix with dimensionality $k\\times n$.\n",
    "\n",
    "Matrix factorization means that a third dimension of length $k$ is introduced which connects matrices $L$ and $F$ in such a way that their multiplication $LF$ results in a matrix with the same dimensionality as that of $X^\\mathrm{T}$ and $M$. If the observed variables are centered, $M$ is not needed. Matrix factorization is a very general principle that underlies most dimensionality-reduction algorithms. In the following, we will see that $L$ and $F$ have different interpretations – and consequently: names – depending on the model that matrix factorization is used in.\n",
    "\n",
    "It does not matter of what kind the feature matrix $X$ is. In [Session D4. Topic modeling](4_topic_modeling.ipynb), we will introduce dimensionality reduction for matrices where the rows are documents, the columns are terms extracted from the documents, and the composite variables are topics. The different tools do differ regarding the statistical assumptions that are made and the ways that dimensionality is reduced."
   ]
  },
  {
   "cell_type": "markdown",
   "id": "b69693b6",
   "metadata": {},
   "source": [
    "### D3.2.1. Factor Analysis\n",
    "\n",
    "The goal of Factor Analysis (FA) is to explain the patterns of covariance (or correlation) among the observed variables by uncovering underlying latent variables called factors. FA is a **generative model** because it allows for modeling unobserved variables as factors that, in theory, can causally explain the observed variables. This is the **generative storyline** of FA. FA assumes that the latter are linear combinations of $k<p$ factors plus an error term. Using the epistemological conepts of *figure 2*, the FA model is the rule how the factors cause the indicators. Mathematically, $X=f(F)$:\n",
    "\n",
    "$X^\\mathrm{T}=M+LF+E$,\n",
    "\n",
    "where there is now an additional matrix $E$ with dimensionality $p\\times n$. FA assumes that the total variance in the feature matrix consists of a **common variance** that can be explained by the factors and a **unique variance** that cannot be explained by the factors. Common variance is explained by the $LF$ part of the equation. The values in $L$ are called factor loadings, and, hence, $L$ is called the **loading matrix** in FA. $F$ contains factor scores, and $F$ is called the **factor matrix**. The unique variance is the remaining error stored in the **error matrix** $E$, and the errors are assumed to be independent of each other (*i.e.*, purely random noise).\n",
    "\n",
    "Observed variables being linear combination means that each observation of a variable is a sum of factor loadings multiplied by the corresponding factor score plus the error. Breaking down the matrix notation above, the value of the $i$th observed variable and the $j$th observation is\n",
    "\n",
    "$x^\\mathrm{T}_{i,j}=m_{i,j}+l_{i,1}f_{1,j}+l_{i,2}f_{2,j}+...+l_{i,k}f_{k,j}+e_{i,j}$,\n",
    "\n",
    "where $l_{i,1}$ tells how strongly $x_{i,j}$ loads on the corresponding factor score $f_{1,j}$, $l_{i,2}$ tells how strongly it loads on factor score $f_{2,j}$, ..., and $e_{i,j}$ is the error made in this linear decomposition. Hence, we can fully recreate (*i.e.*, generate) the observed variables from the factor loadings, factor scores, and error terms.\n",
    "\n",
    "We have just described **Exploratory Factor Analysis** (EFA), which is an unsupervised FA method. We will later see that there is also another FA method that is actually supervised. We will work with the FactorAnalyzer package because it offers implementations of both methods. EFA can also be [done with sklearn](https://scikit-learn.org/stable/modules/decomposition.html#factor-analysis).\n",
    "\n",
    "Before we dive into the actual matrix factorization, two statistical operations are commonly performed. The first is **Bartlett's test**. It tells us if there is enough correlation in $X$ such that FA makes sense at all. The [`calculate_bartlett_sphericity()`](https://factor-analyzer.readthedocs.io/en/latest/factor_analyzer.html#factor_analyzer.factor_analyzer.calculate_bartlett_sphericity) function tests the null hypothesis that all values in the correlation matrix are identical. If there are factors to be uncovered, the matrix will exhibit a pattern, and the hypothesis will be rejected."
   ]
  },
  {
   "cell_type": "code",
   "execution_count": 17,
   "id": "d21a7ae7",
   "metadata": {},
   "outputs": [],
   "source": [
    "from factor_analyzer.factor_analyzer import calculate_bartlett_sphericity"
   ]
  },
  {
   "cell_type": "code",
   "execution_count": 18,
   "id": "8379ee60",
   "metadata": {},
   "outputs": [
    {
     "name": "stdout",
     "output_type": "stream",
     "text": [
      "Test statistic: 4745.36147313039\n",
      "Significance: 0.0\n"
     ]
    }
   ],
   "source": [
    "statistic, p_value = calculate_bartlett_sphericity(X)\n",
    "print ('Test statistic:', statistic)\n",
    "print ('Significance:', p_value)"
   ]
  },
  {
   "cell_type": "markdown",
   "id": "6986ab0a",
   "metadata": {},
   "source": [
    "The test is highly significant, so FA makes sense. We are not surprised because the pattern is clearly visible in the heatmap above.\n",
    "\n",
    "The second operation is to calculate the **Kaiser-Meyer-Olkin criterion** which tells us if the correlations in $X$ are strong enough to obtain reliable factors. The [`calculate_kmo()`](https://factor-analyzer.readthedocs.io/en/latest/factor_analyzer.html#factor_analyzer.factor_analyzer.calculate_kmo) function calculates the extent to which each observed variable is predicted, without error, by the other variables. If a variable cannot be predicted well by all the others, it cannot be generated from factors and can be removed before performing FA. The function also returns a total score:"
   ]
  },
  {
   "cell_type": "code",
   "execution_count": 19,
   "id": "674fe41a",
   "metadata": {},
   "outputs": [],
   "source": [
    "from factor_analyzer.factor_analyzer import calculate_kmo"
   ]
  },
  {
   "cell_type": "code",
   "execution_count": 20,
   "id": "d0cfdc05",
   "metadata": {},
   "outputs": [
    {
     "name": "stdout",
     "output_type": "stream",
     "text": [
      "KMO score per variable: [0.97395244 0.95429289 0.97081135 0.95122183 0.96780603 0.96313908\n",
      " 0.92484247 0.92497398 0.97810491 0.95105286 0.93964297 0.9394314\n",
      " 0.9534823  0.69907083 0.96028727 0.9050055  0.21707965 0.72750967\n",
      " 0.62343351 0.8048973  0.78483604 0.7616548 ]\n",
      "Total KMO score 0.9286853063965668\n"
     ]
    }
   ],
   "source": [
    "kmo_per_variable , kmo_total  = calculate_kmo(X)\n",
    "print ('KMO score per variable:', kmo_per_variable)\n",
    "print ('Total KMO score', kmo_total)"
   ]
  },
  {
   "cell_type": "markdown",
   "id": "abb404f7",
   "metadata": {},
   "source": [
    "Scores below 0.6 are considered inadequate. According to this criterion, the whole feature matrix promises a very robust decomposition into factors, and this observed variable should be removed from FA:"
   ]
  },
  {
   "cell_type": "code",
   "execution_count": 21,
   "id": "790af6b5",
   "metadata": {},
   "outputs": [
    {
     "data": {
      "text/plain": [
       "['v2lgbicam']"
      ]
     },
     "execution_count": 21,
     "metadata": {},
     "output_type": "execute_result"
    }
   ],
   "source": [
    "[i for (i, v) in zip(indicators, kmo_per_variable < .6) if v]"
   ]
  },
  {
   "cell_type": "markdown",
   "id": "e4457439",
   "metadata": {},
   "source": [
    "We decide to not remove it but keep an eye on it to see how it behaves in the following analyses.\n",
    "\n",
    "We will now use FactorAnalyzer's [EFA model](https://factor-analyzer.readthedocs.io/en/latest/factor_analyzer.html#module-factor_analyzer.factor_analyzer). Under the hood, it uses a matrix-factorization algorithm called [Singular Value Decomposition](https://en.wikipedia.org/wiki/Singular_value_decomposition) which we will not discuss here.\n",
    "\n",
    "<div class='alert alert-block alert-info'>\n",
    "<big><b>Insight: ML models in Python</b></big>\n",
    "\n",
    "The order of operations for using statistical and ML models in Python is always the same, no matter if you use sklearn or FactorAnalyzer. First, you specify the model and parametrize it. Each model is its own class in a Python package. Second, you fit the model to the data by using a `fit()` method on the model object.\n",
    "</div>\n",
    "\n",
    "EFA is a theory-driven method, and the theory is that the 22 indicators are measureable instances of five unmeasurable low-level indices. The goal, now, is to extract $k=5$ factors from $Z$ and discuss them in light of the measurement theory. First, specify a `FactorAnalyzer` model and store it in a variable `efa` (lines 3-4). Second, fit `efa` to the data $Z$ (line 5):"
   ]
  },
  {
   "cell_type": "code",
   "execution_count": 22,
   "id": "54559523",
   "metadata": {},
   "outputs": [
    {
     "data": {
      "text/plain": [
       "FactorAnalyzer(n_factors=5, rotation_kwargs={})"
      ]
     },
     "execution_count": 22,
     "metadata": {},
     "output_type": "execute_result"
    }
   ],
   "source": [
    "from factor_analyzer import FactorAnalyzer\n",
    "\n",
    "k_efa = 5\n",
    "efa = FactorAnalyzer(n_factors=k_efa)\n",
    "efa.fit(Z)"
   ]
  },
  {
   "cell_type": "markdown",
   "id": "7d31ebcf",
   "metadata": {},
   "source": [
    "The loading matrix $L$ is:"
   ]
  },
  {
   "cell_type": "code",
   "execution_count": 23,
   "id": "73e0abe7",
   "metadata": {},
   "outputs": [
    {
     "data": {
      "text/plain": [
       "(22, 5)"
      ]
     },
     "execution_count": 23,
     "metadata": {},
     "output_type": "execute_result"
    }
   ],
   "source": [
    "L_efa = efa.loadings_\n",
    "L_efa.shape"
   ]
  },
  {
   "cell_type": "markdown",
   "id": "3357f9b4",
   "metadata": {},
   "source": [
    "The loadings in $L$ tell how strongly the factors are correlated with the observed variables. To ease interpretation, we create a MultiIndex that shows which indicator is supposed to measure which low-level index (line 1), transform $L$ into a dataframe (line 2), merge the two (line 3), and highlight all correlations with absolute values larger that 0.5 (line 4):"
   ]
  },
  {
   "cell_type": "code",
   "execution_count": 24,
   "id": "f0713b00",
   "metadata": {},
   "outputs": [
    {
     "data": {
      "text/html": [
       "<style type=\"text/css\">\n",
       "#T_6a8df_row0_col0, #T_6a8df_row1_col0, #T_6a8df_row2_col0, #T_6a8df_row3_col0, #T_6a8df_row4_col0, #T_6a8df_row5_col0, #T_6a8df_row6_col0, #T_6a8df_row7_col0, #T_6a8df_row8_col0, #T_6a8df_row9_col0, #T_6a8df_row10_col0, #T_6a8df_row11_col0, #T_6a8df_row12_col0, #T_6a8df_row13_col2, #T_6a8df_row14_col0, #T_6a8df_row15_col0, #T_6a8df_row17_col2, #T_6a8df_row18_col2, #T_6a8df_row19_col1, #T_6a8df_row20_col1, #T_6a8df_row21_col1 {\n",
       "  background-color: lightgray;\n",
       "}\n",
       "</style>\n",
       "<table id=\"T_6a8df\">\n",
       "  <thead>\n",
       "    <tr>\n",
       "      <th class=\"blank\" >&nbsp;</th>\n",
       "      <th class=\"blank level0\" >&nbsp;</th>\n",
       "      <th id=\"T_6a8df_level0_col0\" class=\"col_heading level0 col0\" >Factor 1</th>\n",
       "      <th id=\"T_6a8df_level0_col1\" class=\"col_heading level0 col1\" >Factor 2</th>\n",
       "      <th id=\"T_6a8df_level0_col2\" class=\"col_heading level0 col2\" >Factor 3</th>\n",
       "      <th id=\"T_6a8df_level0_col3\" class=\"col_heading level0 col3\" >Factor 4</th>\n",
       "      <th id=\"T_6a8df_level0_col4\" class=\"col_heading level0 col4\" >Factor 5</th>\n",
       "    </tr>\n",
       "    <tr>\n",
       "      <th class=\"index_name level0\" >Index</th>\n",
       "      <th class=\"index_name level1\" >Indicator</th>\n",
       "      <th class=\"blank col0\" >&nbsp;</th>\n",
       "      <th class=\"blank col1\" >&nbsp;</th>\n",
       "      <th class=\"blank col2\" >&nbsp;</th>\n",
       "      <th class=\"blank col3\" >&nbsp;</th>\n",
       "      <th class=\"blank col4\" >&nbsp;</th>\n",
       "    </tr>\n",
       "  </thead>\n",
       "  <tbody>\n",
       "    <tr>\n",
       "      <th id=\"T_6a8df_level0_row0\" class=\"row_heading level0 row0\" rowspan=\"9\">Freedom of expression</th>\n",
       "      <th id=\"T_6a8df_level1_row0\" class=\"row_heading level1 row0\" >v2mecenefm</th>\n",
       "      <td id=\"T_6a8df_row0_col0\" class=\"data row0 col0\" >0.975955</td>\n",
       "      <td id=\"T_6a8df_row0_col1\" class=\"data row0 col1\" >-0.019727</td>\n",
       "      <td id=\"T_6a8df_row0_col2\" class=\"data row0 col2\" >-0.032819</td>\n",
       "      <td id=\"T_6a8df_row0_col3\" class=\"data row0 col3\" >-0.114580</td>\n",
       "      <td id=\"T_6a8df_row0_col4\" class=\"data row0 col4\" >0.044685</td>\n",
       "    </tr>\n",
       "    <tr>\n",
       "      <th id=\"T_6a8df_level1_row1\" class=\"row_heading level1 row1\" >v2meharjrn</th>\n",
       "      <td id=\"T_6a8df_row1_col0\" class=\"data row1 col0\" >0.972817</td>\n",
       "      <td id=\"T_6a8df_row1_col1\" class=\"data row1 col1\" >0.039799</td>\n",
       "      <td id=\"T_6a8df_row1_col2\" class=\"data row1 col2\" >0.061405</td>\n",
       "      <td id=\"T_6a8df_row1_col3\" class=\"data row1 col3\" >-0.163580</td>\n",
       "      <td id=\"T_6a8df_row1_col4\" class=\"data row1 col4\" >0.027137</td>\n",
       "    </tr>\n",
       "    <tr>\n",
       "      <th id=\"T_6a8df_level1_row2\" class=\"row_heading level1 row2\" >v2meslfcen</th>\n",
       "      <td id=\"T_6a8df_row2_col0\" class=\"data row2 col0\" >0.975938</td>\n",
       "      <td id=\"T_6a8df_row2_col1\" class=\"data row2 col1\" >0.123044</td>\n",
       "      <td id=\"T_6a8df_row2_col2\" class=\"data row2 col2\" >0.063921</td>\n",
       "      <td id=\"T_6a8df_row2_col3\" class=\"data row2 col3\" >-0.078494</td>\n",
       "      <td id=\"T_6a8df_row2_col4\" class=\"data row2 col4\" >0.163031</td>\n",
       "    </tr>\n",
       "    <tr>\n",
       "      <th id=\"T_6a8df_level1_row3\" class=\"row_heading level1 row3\" >v2mebias</th>\n",
       "      <td id=\"T_6a8df_row3_col0\" class=\"data row3 col0\" >0.937833</td>\n",
       "      <td id=\"T_6a8df_row3_col1\" class=\"data row3 col1\" >0.025259</td>\n",
       "      <td id=\"T_6a8df_row3_col2\" class=\"data row3 col2\" >-0.008005</td>\n",
       "      <td id=\"T_6a8df_row3_col3\" class=\"data row3 col3\" >0.066396</td>\n",
       "      <td id=\"T_6a8df_row3_col4\" class=\"data row3 col4\" >0.300395</td>\n",
       "    </tr>\n",
       "    <tr>\n",
       "      <th id=\"T_6a8df_level1_row4\" class=\"row_heading level1 row4\" >v2merange</th>\n",
       "      <td id=\"T_6a8df_row4_col0\" class=\"data row4 col0\" >0.874450</td>\n",
       "      <td id=\"T_6a8df_row4_col1\" class=\"data row4 col1\" >-0.016306</td>\n",
       "      <td id=\"T_6a8df_row4_col2\" class=\"data row4 col2\" >-0.005306</td>\n",
       "      <td id=\"T_6a8df_row4_col3\" class=\"data row4 col3\" >0.117262</td>\n",
       "      <td id=\"T_6a8df_row4_col4\" class=\"data row4 col4\" >0.292690</td>\n",
       "    </tr>\n",
       "    <tr>\n",
       "      <th id=\"T_6a8df_level1_row5\" class=\"row_heading level1 row5\" >v2mecrit</th>\n",
       "      <td id=\"T_6a8df_row5_col0\" class=\"data row5 col0\" >0.957648</td>\n",
       "      <td id=\"T_6a8df_row5_col1\" class=\"data row5 col1\" >0.021267</td>\n",
       "      <td id=\"T_6a8df_row5_col2\" class=\"data row5 col2\" >0.018920</td>\n",
       "      <td id=\"T_6a8df_row5_col3\" class=\"data row5 col3\" >-0.089111</td>\n",
       "      <td id=\"T_6a8df_row5_col4\" class=\"data row5 col4\" >0.304181</td>\n",
       "    </tr>\n",
       "    <tr>\n",
       "      <th id=\"T_6a8df_level1_row6\" class=\"row_heading level1 row6\" >v2cldiscm</th>\n",
       "      <td id=\"T_6a8df_row6_col0\" class=\"data row6 col0\" >0.907765</td>\n",
       "      <td id=\"T_6a8df_row6_col1\" class=\"data row6 col1\" >0.030620</td>\n",
       "      <td id=\"T_6a8df_row6_col2\" class=\"data row6 col2\" >-0.062001</td>\n",
       "      <td id=\"T_6a8df_row6_col3\" class=\"data row6 col3\" >0.071440</td>\n",
       "      <td id=\"T_6a8df_row6_col4\" class=\"data row6 col4\" >-0.244298</td>\n",
       "    </tr>\n",
       "    <tr>\n",
       "      <th id=\"T_6a8df_level1_row7\" class=\"row_heading level1 row7\" >v2cldiscw</th>\n",
       "      <td id=\"T_6a8df_row7_col0\" class=\"data row7 col0\" >0.886855</td>\n",
       "      <td id=\"T_6a8df_row7_col1\" class=\"data row7 col1\" >0.020506</td>\n",
       "      <td id=\"T_6a8df_row7_col2\" class=\"data row7 col2\" >-0.028965</td>\n",
       "      <td id=\"T_6a8df_row7_col3\" class=\"data row7 col3\" >0.080619</td>\n",
       "      <td id=\"T_6a8df_row7_col4\" class=\"data row7 col4\" >-0.211277</td>\n",
       "    </tr>\n",
       "    <tr>\n",
       "      <th id=\"T_6a8df_level1_row8\" class=\"row_heading level1 row8\" >v2clacfree</th>\n",
       "      <td id=\"T_6a8df_row8_col0\" class=\"data row8 col0\" >0.947907</td>\n",
       "      <td id=\"T_6a8df_row8_col1\" class=\"data row8 col1\" >0.084180</td>\n",
       "      <td id=\"T_6a8df_row8_col2\" class=\"data row8 col2\" >-0.044420</td>\n",
       "      <td id=\"T_6a8df_row8_col3\" class=\"data row8 col3\" >0.034973</td>\n",
       "      <td id=\"T_6a8df_row8_col4\" class=\"data row8 col4\" >-0.088427</td>\n",
       "    </tr>\n",
       "    <tr>\n",
       "      <th id=\"T_6a8df_level0_row9\" class=\"row_heading level0 row9\" rowspan=\"4\">Freedom of association</th>\n",
       "      <th id=\"T_6a8df_level1_row9\" class=\"row_heading level1 row9\" >v2psparban</th>\n",
       "      <td id=\"T_6a8df_row9_col0\" class=\"data row9 col0\" >0.609649</td>\n",
       "      <td id=\"T_6a8df_row9_col1\" class=\"data row9 col1\" >-0.034939</td>\n",
       "      <td id=\"T_6a8df_row9_col2\" class=\"data row9 col2\" >-0.020068</td>\n",
       "      <td id=\"T_6a8df_row9_col3\" class=\"data row9 col3\" >0.461766</td>\n",
       "      <td id=\"T_6a8df_row9_col4\" class=\"data row9 col4\" >0.051356</td>\n",
       "    </tr>\n",
       "    <tr>\n",
       "      <th id=\"T_6a8df_level1_row10\" class=\"row_heading level1 row10\" >v2psbars</th>\n",
       "      <td id=\"T_6a8df_row10_col0\" class=\"data row10 col0\" >0.666444</td>\n",
       "      <td id=\"T_6a8df_row10_col1\" class=\"data row10 col1\" >-0.147655</td>\n",
       "      <td id=\"T_6a8df_row10_col2\" class=\"data row10 col2\" >0.053483</td>\n",
       "      <td id=\"T_6a8df_row10_col3\" class=\"data row10 col3\" >0.371746</td>\n",
       "      <td id=\"T_6a8df_row10_col4\" class=\"data row10 col4\" >0.083490</td>\n",
       "    </tr>\n",
       "    <tr>\n",
       "      <th id=\"T_6a8df_level1_row11\" class=\"row_heading level1 row11\" >v2cseeorgs</th>\n",
       "      <td id=\"T_6a8df_row11_col0\" class=\"data row11 col0\" >0.806488</td>\n",
       "      <td id=\"T_6a8df_row11_col1\" class=\"data row11 col1\" >-0.045663</td>\n",
       "      <td id=\"T_6a8df_row11_col2\" class=\"data row11 col2\" >-0.077602</td>\n",
       "      <td id=\"T_6a8df_row11_col3\" class=\"data row11 col3\" >0.298741</td>\n",
       "      <td id=\"T_6a8df_row11_col4\" class=\"data row11 col4\" >-0.088906</td>\n",
       "    </tr>\n",
       "    <tr>\n",
       "      <th id=\"T_6a8df_level1_row12\" class=\"row_heading level1 row12\" >v2csreprss</th>\n",
       "      <td id=\"T_6a8df_row12_col0\" class=\"data row12 col0\" >0.854617</td>\n",
       "      <td id=\"T_6a8df_row12_col1\" class=\"data row12 col1\" >-0.102407</td>\n",
       "      <td id=\"T_6a8df_row12_col2\" class=\"data row12 col2\" >-0.094694</td>\n",
       "      <td id=\"T_6a8df_row12_col3\" class=\"data row12 col3\" >0.089126</td>\n",
       "      <td id=\"T_6a8df_row12_col4\" class=\"data row12 col4\" >-0.163915</td>\n",
       "    </tr>\n",
       "    <tr>\n",
       "      <th id=\"T_6a8df_level0_row13\" class=\"row_heading level0 row13\" >Share of pop w/ suffrage</th>\n",
       "      <th id=\"T_6a8df_level1_row13\" class=\"row_heading level1 row13\" >v2elsuffrage</th>\n",
       "      <td id=\"T_6a8df_row13_col0\" class=\"data row13 col0\" >-0.064956</td>\n",
       "      <td id=\"T_6a8df_row13_col1\" class=\"data row13 col1\" >-0.060135</td>\n",
       "      <td id=\"T_6a8df_row13_col2\" class=\"data row13 col2\" >0.776147</td>\n",
       "      <td id=\"T_6a8df_row13_col3\" class=\"data row13 col3\" >0.068485</td>\n",
       "      <td id=\"T_6a8df_row13_col4\" class=\"data row13 col4\" >0.062112</td>\n",
       "    </tr>\n",
       "    <tr>\n",
       "      <th id=\"T_6a8df_level0_row14\" class=\"row_heading level0 row14\" rowspan=\"2\">Clean elections</th>\n",
       "      <th id=\"T_6a8df_level1_row14\" class=\"row_heading level1 row14\" >v2elembaut</th>\n",
       "      <td id=\"T_6a8df_row14_col0\" class=\"data row14 col0\" >0.943952</td>\n",
       "      <td id=\"T_6a8df_row14_col1\" class=\"data row14 col1\" >0.005217</td>\n",
       "      <td id=\"T_6a8df_row14_col2\" class=\"data row14 col2\" >-0.004682</td>\n",
       "      <td id=\"T_6a8df_row14_col3\" class=\"data row14 col3\" >-0.092015</td>\n",
       "      <td id=\"T_6a8df_row14_col4\" class=\"data row14 col4\" >-0.034461</td>\n",
       "    </tr>\n",
       "    <tr>\n",
       "      <th id=\"T_6a8df_level1_row15\" class=\"row_heading level1 row15\" >v2elembcap</th>\n",
       "      <td id=\"T_6a8df_row15_col0\" class=\"data row15 col0\" >0.540059</td>\n",
       "      <td id=\"T_6a8df_row15_col1\" class=\"data row15 col1\" >-0.079057</td>\n",
       "      <td id=\"T_6a8df_row15_col2\" class=\"data row15 col2\" >0.166704</td>\n",
       "      <td id=\"T_6a8df_row15_col3\" class=\"data row15 col3\" >-0.265731</td>\n",
       "      <td id=\"T_6a8df_row15_col4\" class=\"data row15 col4\" >-0.222216</td>\n",
       "    </tr>\n",
       "    <tr>\n",
       "      <th id=\"T_6a8df_level0_row16\" class=\"row_heading level0 row16\" rowspan=\"6\">Elected officials</th>\n",
       "      <th id=\"T_6a8df_level1_row16\" class=\"row_heading level1 row16\" >v2lgbicam</th>\n",
       "      <td id=\"T_6a8df_row16_col0\" class=\"data row16 col0\" >0.004213</td>\n",
       "      <td id=\"T_6a8df_row16_col1\" class=\"data row16 col1\" >0.027253</td>\n",
       "      <td id=\"T_6a8df_row16_col2\" class=\"data row16 col2\" >0.024562</td>\n",
       "      <td id=\"T_6a8df_row16_col3\" class=\"data row16 col3\" >0.060938</td>\n",
       "      <td id=\"T_6a8df_row16_col4\" class=\"data row16 col4\" >0.001212</td>\n",
       "    </tr>\n",
       "    <tr>\n",
       "      <th id=\"T_6a8df_level1_row17\" class=\"row_heading level1 row17\" >v2lgello</th>\n",
       "      <td id=\"T_6a8df_row17_col0\" class=\"data row17 col0\" >-0.072602</td>\n",
       "      <td id=\"T_6a8df_row17_col1\" class=\"data row17 col1\" >-0.125239</td>\n",
       "      <td id=\"T_6a8df_row17_col2\" class=\"data row17 col2\" >0.967411</td>\n",
       "      <td id=\"T_6a8df_row17_col3\" class=\"data row17 col3\" >0.171333</td>\n",
       "      <td id=\"T_6a8df_row17_col4\" class=\"data row17 col4\" >0.015059</td>\n",
       "    </tr>\n",
       "    <tr>\n",
       "      <th id=\"T_6a8df_level1_row18\" class=\"row_heading level1 row18\" >v2lginello</th>\n",
       "      <td id=\"T_6a8df_row18_col0\" class=\"data row18 col0\" >-0.022946</td>\n",
       "      <td id=\"T_6a8df_row18_col1\" class=\"data row18 col1\" >-0.073283</td>\n",
       "      <td id=\"T_6a8df_row18_col2\" class=\"data row18 col2\" >-0.537694</td>\n",
       "      <td id=\"T_6a8df_row18_col3\" class=\"data row18 col3\" >-0.024097</td>\n",
       "      <td id=\"T_6a8df_row18_col4\" class=\"data row18 col4\" >0.117074</td>\n",
       "    </tr>\n",
       "    <tr>\n",
       "      <th id=\"T_6a8df_level1_row19\" class=\"row_heading level1 row19\" >v2exdfcbhs</th>\n",
       "      <td id=\"T_6a8df_row19_col0\" class=\"data row19 col0\" >-0.107694</td>\n",
       "      <td id=\"T_6a8df_row19_col1\" class=\"data row19 col1\" >0.859933</td>\n",
       "      <td id=\"T_6a8df_row19_col2\" class=\"data row19 col2\" >-0.018897</td>\n",
       "      <td id=\"T_6a8df_row19_col3\" class=\"data row19 col3\" >-0.021535</td>\n",
       "      <td id=\"T_6a8df_row19_col4\" class=\"data row19 col4\" >-0.039723</td>\n",
       "    </tr>\n",
       "    <tr>\n",
       "      <th id=\"T_6a8df_level1_row20\" class=\"row_heading level1 row20\" >v2exdfdmhs</th>\n",
       "      <td id=\"T_6a8df_row20_col0\" class=\"data row20 col0\" >-0.095349</td>\n",
       "      <td id=\"T_6a8df_row20_col1\" class=\"data row20 col1\" >0.941301</td>\n",
       "      <td id=\"T_6a8df_row20_col2\" class=\"data row20 col2\" >0.000156</td>\n",
       "      <td id=\"T_6a8df_row20_col3\" class=\"data row20 col3\" >0.020660</td>\n",
       "      <td id=\"T_6a8df_row20_col4\" class=\"data row20 col4\" >0.018770</td>\n",
       "    </tr>\n",
       "    <tr>\n",
       "      <th id=\"T_6a8df_level1_row21\" class=\"row_heading level1 row21\" >v2exhoshog</th>\n",
       "      <td id=\"T_6a8df_row21_col0\" class=\"data row21 col0\" >0.140762</td>\n",
       "      <td id=\"T_6a8df_row21_col1\" class=\"data row21 col1\" >0.630359</td>\n",
       "      <td id=\"T_6a8df_row21_col2\" class=\"data row21 col2\" >-0.040867</td>\n",
       "      <td id=\"T_6a8df_row21_col3\" class=\"data row21 col3\" >0.191379</td>\n",
       "      <td id=\"T_6a8df_row21_col4\" class=\"data row21 col4\" >0.038323</td>\n",
       "    </tr>\n",
       "  </tbody>\n",
       "</table>\n"
      ],
      "text/plain": [
       "<pandas.io.formats.style.Styler at 0x1ae6441f670>"
      ]
     },
     "execution_count": 24,
     "metadata": {},
     "output_type": "execute_result"
    }
   ],
   "source": [
    "loadings_index = pd.DataFrame(index=pd.MultiIndex.from_tuples(list(zip(*[indicators_labels_level, indicators])), names=['Index', 'Indicator']))\n",
    "loadings_efa = pd.DataFrame(data=L_efa, index=indicators, columns=[f'Factor {i+1}' for i in range(k_efa)])\n",
    "loadings_efa = pd.merge(left=loadings_index, right=loadings_efa, left_on='Indicator', right_index=True)\n",
    "loadings_efa.style.applymap(lambda x: 'background-color: lightgray' if abs(x) > .5 else '')"
   ]
  },
  {
   "cell_type": "markdown",
   "id": "08dcbda4",
   "metadata": {},
   "source": [
    "The result shows that the variables supposed to measure the \"Freedom of expression\" in a country are all compounded in Factor 1. But so are the ones meant to measure \"Freedom of association\" and \"Clean elections\"! It turns out that 15 variables supposed to measure three distinct things actually measure just one aspect of \"Electoral democracy\". The one variable supposed to measure the \"Share of population with suffrage\" loads on Factor 3, but so do the 'v2lgello' (\"Lower chamber directly elected\") and 'v2lginello' (\"Percentage of indirectly elected legislators lower chamber\") indicators meant to measure \"Elected officials\". Factor 2 merely explains \"Elected officials\" but, as we just saw, not all variables meant to measure this index load on the factor. The 'v2lgbicam' that has a KMO score below 0.6 does not load on any factor. Finally, two factors are essentially meaningless. The lesson from this EFA is that measuring latent variables is hard!\n",
    "\n",
    "The factor matrix $F$ is obtained by transforming the (standardized) feature matrix given the fit. To obtain dimensionality $k\\times n$, we must transpose the output:"
   ]
  },
  {
   "cell_type": "code",
   "execution_count": 25,
   "id": "bc3458cd",
   "metadata": {},
   "outputs": [
    {
     "data": {
      "text/plain": [
       "(5, 176)"
      ]
     },
     "execution_count": 25,
     "metadata": {},
     "output_type": "execute_result"
    }
   ],
   "source": [
    "F_efa = efa.fit_transform(Z).T\n",
    "F_efa.shape"
   ]
  },
  {
   "cell_type": "markdown",
   "id": "27eb1eaa",
   "metadata": {},
   "source": [
    "The factor scores in $F$ are like the indicator scores in $Z$. To display $F$, we transpose it because we are used to having the observations in rows and (latent) variables in columns. The following dataframe is the standardized feature matrix with reduced dimensionality and can be used in subsequent analysis:"
   ]
  },
  {
   "cell_type": "code",
   "execution_count": 26,
   "id": "bd3cbdc7",
   "metadata": {},
   "outputs": [
    {
     "data": {
      "text/html": [
       "<div>\n",
       "<style scoped>\n",
       "    .dataframe tbody tr th:only-of-type {\n",
       "        vertical-align: middle;\n",
       "    }\n",
       "\n",
       "    .dataframe tbody tr th {\n",
       "        vertical-align: top;\n",
       "    }\n",
       "\n",
       "    .dataframe thead th {\n",
       "        text-align: right;\n",
       "    }\n",
       "</style>\n",
       "<table border=\"1\" class=\"dataframe\">\n",
       "  <thead>\n",
       "    <tr style=\"text-align: right;\">\n",
       "      <th></th>\n",
       "      <th>Factor 1</th>\n",
       "      <th>Factor 2</th>\n",
       "      <th>Factor 3</th>\n",
       "      <th>Factor 4</th>\n",
       "      <th>Factor 5</th>\n",
       "    </tr>\n",
       "    <tr>\n",
       "      <th>country_name</th>\n",
       "      <th></th>\n",
       "      <th></th>\n",
       "      <th></th>\n",
       "      <th></th>\n",
       "      <th></th>\n",
       "    </tr>\n",
       "  </thead>\n",
       "  <tbody>\n",
       "    <tr>\n",
       "      <th>Afghanistan</th>\n",
       "      <td>-0.168640</td>\n",
       "      <td>0.329326</td>\n",
       "      <td>-0.063358</td>\n",
       "      <td>0.993648</td>\n",
       "      <td>1.321712</td>\n",
       "    </tr>\n",
       "    <tr>\n",
       "      <th>Albania</th>\n",
       "      <td>0.082120</td>\n",
       "      <td>-0.656981</td>\n",
       "      <td>0.096253</td>\n",
       "      <td>0.758226</td>\n",
       "      <td>-1.096448</td>\n",
       "    </tr>\n",
       "    <tr>\n",
       "      <th>Algeria</th>\n",
       "      <td>-0.661127</td>\n",
       "      <td>0.862747</td>\n",
       "      <td>0.183040</td>\n",
       "      <td>-0.320958</td>\n",
       "      <td>0.107181</td>\n",
       "    </tr>\n",
       "    <tr>\n",
       "      <th>Angola</th>\n",
       "      <td>-0.356806</td>\n",
       "      <td>0.626662</td>\n",
       "      <td>0.407383</td>\n",
       "      <td>-0.171724</td>\n",
       "      <td>0.881374</td>\n",
       "    </tr>\n",
       "    <tr>\n",
       "      <th>Argentina</th>\n",
       "      <td>0.593528</td>\n",
       "      <td>1.193758</td>\n",
       "      <td>0.367373</td>\n",
       "      <td>1.467820</td>\n",
       "      <td>-0.593472</td>\n",
       "    </tr>\n",
       "    <tr>\n",
       "      <th>...</th>\n",
       "      <td>...</td>\n",
       "      <td>...</td>\n",
       "      <td>...</td>\n",
       "      <td>...</td>\n",
       "      <td>...</td>\n",
       "    </tr>\n",
       "    <tr>\n",
       "      <th>Vietnam</th>\n",
       "      <td>-1.523285</td>\n",
       "      <td>-1.145586</td>\n",
       "      <td>0.669593</td>\n",
       "      <td>-2.447524</td>\n",
       "      <td>-2.001552</td>\n",
       "    </tr>\n",
       "    <tr>\n",
       "      <th>Yemen</th>\n",
       "      <td>-1.443968</td>\n",
       "      <td>0.720517</td>\n",
       "      <td>0.209535</td>\n",
       "      <td>0.179586</td>\n",
       "      <td>0.532015</td>\n",
       "    </tr>\n",
       "    <tr>\n",
       "      <th>Zambia</th>\n",
       "      <td>-0.220643</td>\n",
       "      <td>1.085593</td>\n",
       "      <td>-0.147955</td>\n",
       "      <td>0.495708</td>\n",
       "      <td>-0.041489</td>\n",
       "    </tr>\n",
       "    <tr>\n",
       "      <th>Zanzibar</th>\n",
       "      <td>-0.893173</td>\n",
       "      <td>0.987913</td>\n",
       "      <td>-0.815085</td>\n",
       "      <td>0.780756</td>\n",
       "      <td>1.568232</td>\n",
       "    </tr>\n",
       "    <tr>\n",
       "      <th>Zimbabwe</th>\n",
       "      <td>-0.986227</td>\n",
       "      <td>1.102118</td>\n",
       "      <td>-0.975084</td>\n",
       "      <td>1.198772</td>\n",
       "      <td>2.135164</td>\n",
       "    </tr>\n",
       "  </tbody>\n",
       "</table>\n",
       "<p>176 rows × 5 columns</p>\n",
       "</div>"
      ],
      "text/plain": [
       "              Factor 1  Factor 2  Factor 3  Factor 4  Factor 5\n",
       "country_name                                                  \n",
       "Afghanistan  -0.168640  0.329326 -0.063358  0.993648  1.321712\n",
       "Albania       0.082120 -0.656981  0.096253  0.758226 -1.096448\n",
       "Algeria      -0.661127  0.862747  0.183040 -0.320958  0.107181\n",
       "Angola       -0.356806  0.626662  0.407383 -0.171724  0.881374\n",
       "Argentina     0.593528  1.193758  0.367373  1.467820 -0.593472\n",
       "...                ...       ...       ...       ...       ...\n",
       "Vietnam      -1.523285 -1.145586  0.669593 -2.447524 -2.001552\n",
       "Yemen        -1.443968  0.720517  0.209535  0.179586  0.532015\n",
       "Zambia       -0.220643  1.085593 -0.147955  0.495708 -0.041489\n",
       "Zanzibar     -0.893173  0.987913 -0.815085  0.780756  1.568232\n",
       "Zimbabwe     -0.986227  1.102118 -0.975084  1.198772  2.135164\n",
       "\n",
       "[176 rows x 5 columns]"
      ]
     },
     "execution_count": 26,
     "metadata": {},
     "output_type": "execute_result"
    }
   ],
   "source": [
    "vdem_efa = pd.DataFrame(data=F_efa.T, index=vdem.index, columns=[f'Factor {i+1}' for i in range(k_efa)])\n",
    "vdem_efa"
   ]
  },
  {
   "cell_type": "markdown",
   "id": "3e3dcd6f",
   "metadata": {},
   "source": [
    "The following two heatmaps display the covariance and correlation matrices for the factors (instead of the observed variables, as above):"
   ]
  },
  {
   "cell_type": "code",
   "execution_count": 27,
   "id": "df0d8d33",
   "metadata": {},
   "outputs": [
    {
     "data": {
      "image/png": "[encoded data removed]",
      "text/plain": [
       "<Figure size 800x300 with 4 Axes>"
      ]
     },
     "metadata": {},
     "output_type": "display_data"
    }
   ],
   "source": [
    "vdem_efa_cov = pd.DataFrame(F_efa.T, columns=[i+1 for i in range(k_efa)]).cov(ddof=0)\n",
    "vdem_efa_corr = pd.DataFrame(F_efa.T, columns=[i+1 for i in range(k_efa)]).corr()\n",
    "\n",
    "fig, (ax1, ax2) = plt.subplots(1, 2, figsize=[8, 3])\n",
    "sns.set(font_scale=.75)\n",
    "h1 = sns.heatmap(data=vdem_efa_cov, vmin=-1, vmax=1, cmap='bwr', annot=True, cbar_kws={'label': 'Covariance'}, xticklabels=True, yticklabels=True, ax=ax1)\n",
    "h2 = sns.heatmap(data=vdem_efa_corr, vmin=-1, vmax=1, cmap='bwr', annot=True, cbar_kws={'label': 'Correlation'}, xticklabels=True, yticklabels=False, ax=ax2)\n",
    "h1.set(xlabel='Factor', ylabel='Factor')\n",
    "h2.set(xlabel='Factor')\n",
    "plt.show()"
   ]
  },
  {
   "cell_type": "markdown",
   "id": "5c6440bb",
   "metadata": {},
   "source": [
    "The small numbers off the diagonal show that EFA manages to reduce much of the covariance (and correlation) in the data by compounding variables into factors.\n",
    "\n",
    "How much variance in an observed variable is explained by all the factors? In other words, what is the fraction of common variance in an indicator? This is what **communality** quantifies, a [measure](https://en.wikipedia.org/wiki/Factor_analysis#Terminology) of \"the reliability of the indicator in the context of the factors being posited.\" Mathematically, communality is the row sum of the squared loading matrix. The communalities can be obtained via the `get_communalities()` method:"
   ]
  },
  {
   "cell_type": "code",
   "execution_count": 28,
   "id": "e6463c20",
   "metadata": {},
   "outputs": [
    {
     "data": {
      "text/html": [
       "<div>\n",
       "<style scoped>\n",
       "    .dataframe tbody tr th:only-of-type {\n",
       "        vertical-align: middle;\n",
       "    }\n",
       "\n",
       "    .dataframe tbody tr th {\n",
       "        vertical-align: top;\n",
       "    }\n",
       "\n",
       "    .dataframe thead th {\n",
       "        text-align: right;\n",
       "    }\n",
       "</style>\n",
       "<table border=\"1\" class=\"dataframe\">\n",
       "  <thead>\n",
       "    <tr style=\"text-align: right;\">\n",
       "      <th></th>\n",
       "      <th>Communality</th>\n",
       "    </tr>\n",
       "  </thead>\n",
       "  <tbody>\n",
       "    <tr>\n",
       "      <th>v2mecenefm</th>\n",
       "      <td>0.969079</td>\n",
       "    </tr>\n",
       "    <tr>\n",
       "      <th>v2meharjrn</th>\n",
       "      <td>0.979222</td>\n",
       "    </tr>\n",
       "    <tr>\n",
       "      <th>v2meslfcen</th>\n",
       "      <td>1.004422</td>\n",
       "    </tr>\n",
       "    <tr>\n",
       "      <th>v2mebias</th>\n",
       "      <td>0.974879</td>\n",
       "    </tr>\n",
       "    <tr>\n",
       "      <th>v2merange</th>\n",
       "      <td>0.864374</td>\n",
       "    </tr>\n",
       "    <tr>\n",
       "      <th>v2mecrit</th>\n",
       "      <td>1.018366</td>\n",
       "    </tr>\n",
       "    <tr>\n",
       "      <th>v2cldiscm</th>\n",
       "      <td>0.893604</td>\n",
       "    </tr>\n",
       "    <tr>\n",
       "      <th>v2cldiscw</th>\n",
       "      <td>0.838909</td>\n",
       "    </tr>\n",
       "    <tr>\n",
       "      <th>v2clacfree</th>\n",
       "      <td>0.916629</td>\n",
       "    </tr>\n",
       "    <tr>\n",
       "      <th>v2psparban</th>\n",
       "      <td>0.589160</td>\n",
       "    </tr>\n",
       "    <tr>\n",
       "      <th>v2psbars</th>\n",
       "      <td>0.613976</td>\n",
       "    </tr>\n",
       "    <tr>\n",
       "      <th>v2cseeorgs</th>\n",
       "      <td>0.755681</td>\n",
       "    </tr>\n",
       "    <tr>\n",
       "      <th>v2csreprss</th>\n",
       "      <td>0.784637</td>\n",
       "    </tr>\n",
       "    <tr>\n",
       "      <th>v2elsuffrage</th>\n",
       "      <td>0.618788</td>\n",
       "    </tr>\n",
       "    <tr>\n",
       "      <th>v2elembaut</th>\n",
       "      <td>0.900748</td>\n",
       "    </tr>\n",
       "    <tr>\n",
       "      <th>v2elembcap</th>\n",
       "      <td>0.445698</td>\n",
       "    </tr>\n",
       "    <tr>\n",
       "      <th>v2lgbicam</th>\n",
       "      <td>0.005079</td>\n",
       "    </tr>\n",
       "    <tr>\n",
       "      <th>v2lgello</th>\n",
       "      <td>0.986421</td>\n",
       "    </tr>\n",
       "    <tr>\n",
       "      <th>v2lginello</th>\n",
       "      <td>0.309299</td>\n",
       "    </tr>\n",
       "    <tr>\n",
       "      <th>v2exdfcbhs</th>\n",
       "      <td>0.753482</td>\n",
       "    </tr>\n",
       "    <tr>\n",
       "      <th>v2exdfdmhs</th>\n",
       "      <td>0.895919</td>\n",
       "    </tr>\n",
       "    <tr>\n",
       "      <th>v2exhoshog</th>\n",
       "      <td>0.456931</td>\n",
       "    </tr>\n",
       "  </tbody>\n",
       "</table>\n",
       "</div>"
      ],
      "text/plain": [
       "              Communality\n",
       "v2mecenefm       0.969079\n",
       "v2meharjrn       0.979222\n",
       "v2meslfcen       1.004422\n",
       "v2mebias         0.974879\n",
       "v2merange        0.864374\n",
       "v2mecrit         1.018366\n",
       "v2cldiscm        0.893604\n",
       "v2cldiscw        0.838909\n",
       "v2clacfree       0.916629\n",
       "v2psparban       0.589160\n",
       "v2psbars         0.613976\n",
       "v2cseeorgs       0.755681\n",
       "v2csreprss       0.784637\n",
       "v2elsuffrage     0.618788\n",
       "v2elembaut       0.900748\n",
       "v2elembcap       0.445698\n",
       "v2lgbicam        0.005079\n",
       "v2lgello         0.986421\n",
       "v2lginello       0.309299\n",
       "v2exdfcbhs       0.753482\n",
       "v2exdfdmhs       0.895919\n",
       "v2exhoshog       0.456931"
      ]
     },
     "execution_count": 28,
     "metadata": {},
     "output_type": "execute_result"
    }
   ],
   "source": [
    "communalities = efa.get_communalities()\n",
    "pd.DataFrame(data=communalities, index=vdem_indicators_z.columns, columns=['Communality'])"
   ]
  },
  {
   "cell_type": "code",
   "execution_count": 29,
   "id": "d78556d5",
   "metadata": {},
   "outputs": [
    {
     "data": {
      "image/png": "[encoded data removed]",
      "text/plain": [
       "<Figure size 300x200 with 1 Axes>"
      ]
     },
     "metadata": {},
     "output_type": "display_data"
    }
   ],
   "source": [
    "plt.figure(figsize=[3, 2])\n",
    "sns.set(font_scale=1.)\n",
    "sns.histplot(data=communalities)\n",
    "plt.show()"
   ]
  },
  {
   "cell_type": "markdown",
   "id": "43f1ac03",
   "metadata": {},
   "source": [
    "Communality scores range from 0 to 1, though the values may be overestimated, leading to scores larger than 1. The plot shows that half of the variables have communalities close to 1, while the other half has values of 0.85 and lower. As expected, the 'v2lgbicam' variable has the smallest value, that means, it cannot be explained at all by the factors.\n",
    "\n",
    "Next, we can ask how much of the variance in the data can be explained by the factors overall? Again, the answer is in the loading matrix. The sum of the squared loadings is the **variance** of a factor. Dividing the variance by the number of observed variables is the **proportional variance** which can be cumulatively summed to obtain the **cumulative variance**. The `get_factor_variance()` method reports all those scores:"
   ]
  },
  {
   "cell_type": "code",
   "execution_count": 30,
   "id": "ed918343",
   "metadata": {},
   "outputs": [
    {
     "data": {
      "text/html": [
       "<div>\n",
       "<style scoped>\n",
       "    .dataframe tbody tr th:only-of-type {\n",
       "        vertical-align: middle;\n",
       "    }\n",
       "\n",
       "    .dataframe tbody tr th {\n",
       "        vertical-align: top;\n",
       "    }\n",
       "\n",
       "    .dataframe thead th {\n",
       "        text-align: right;\n",
       "    }\n",
       "</style>\n",
       "<table border=\"1\" class=\"dataframe\">\n",
       "  <thead>\n",
       "    <tr style=\"text-align: right;\">\n",
       "      <th></th>\n",
       "      <th>Factor 1</th>\n",
       "      <th>Factor 2</th>\n",
       "      <th>Factor 3</th>\n",
       "      <th>Factor 4</th>\n",
       "      <th>Factor 5</th>\n",
       "    </tr>\n",
       "  </thead>\n",
       "  <tbody>\n",
       "    <tr>\n",
       "      <th>Variance</th>\n",
       "      <td>11.351536</td>\n",
       "      <td>2.117086</td>\n",
       "      <td>1.892137</td>\n",
       "      <td>0.688522</td>\n",
       "      <td>0.526021</td>\n",
       "    </tr>\n",
       "    <tr>\n",
       "      <th>Proportional variance</th>\n",
       "      <td>0.515979</td>\n",
       "      <td>0.096231</td>\n",
       "      <td>0.086006</td>\n",
       "      <td>0.031296</td>\n",
       "      <td>0.023910</td>\n",
       "    </tr>\n",
       "    <tr>\n",
       "      <th>Cumulative Variance</th>\n",
       "      <td>0.515979</td>\n",
       "      <td>0.612210</td>\n",
       "      <td>0.698216</td>\n",
       "      <td>0.729513</td>\n",
       "      <td>0.753423</td>\n",
       "    </tr>\n",
       "  </tbody>\n",
       "</table>\n",
       "</div>"
      ],
      "text/plain": [
       "                        Factor 1  Factor 2  Factor 3  Factor 4  Factor 5\n",
       "Variance               11.351536  2.117086  1.892137  0.688522  0.526021\n",
       "Proportional variance   0.515979  0.096231  0.086006  0.031296  0.023910\n",
       "Cumulative Variance     0.515979  0.612210  0.698216  0.729513  0.753423"
      ]
     },
     "execution_count": 30,
     "metadata": {},
     "output_type": "execute_result"
    }
   ],
   "source": [
    "variances = efa.get_factor_variance()\n",
    "pd.DataFrame(data=variances, index=['Variance', 'Proportional variance', 'Cumulative Variance'], columns=[f'Factor {i+1}' for i in range(k_efa)])"
   ]
  },
  {
   "cell_type": "markdown",
   "id": "894e677d",
   "metadata": {},
   "source": [
    "We see that the first factor explains more than half of the variance in the data, almost 52% to be exact. Adding more factors increases the variance that can be explained, but the increases quickly become neglectable. It is possible to say how much of the variance can possibly be explained with EFA. This is the cumulative variance of an EFA model with $k=p-1=21$ factors:"
   ]
  },
  {
   "cell_type": "code",
   "execution_count": 31,
   "id": "2ae73424",
   "metadata": {},
   "outputs": [
    {
     "data": {
      "text/plain": [
       "0.7757245110620781"
      ]
     },
     "execution_count": 31,
     "metadata": {},
     "output_type": "execute_result"
    }
   ],
   "source": [
    "FactorAnalyzer(n_factors=21).fit(Z).get_factor_variance()[2][-1]"
   ]
  },
  {
   "cell_type": "markdown",
   "id": "4d737d67",
   "metadata": {},
   "source": [
    "So, up to 78% of the variance in the data is common variance. The rest is unique variance and cannot be explained by EFA.\n",
    "\n",
    "Given $L$ and $F$, we can obtain the error matrix where the unique variance is stored. Since we have fitted the EFA model to the standardized feature matrix, $E=Z-LF$. We can multiply $L$ and $F$ (obtain their dot product) with NumPy's [`dot()`](https://numpy.org/doc/stable/reference/generated/numpy.dot.html) function:"
   ]
  },
  {
   "cell_type": "code",
   "execution_count": 32,
   "id": "fa1dad43",
   "metadata": {},
   "outputs": [
    {
     "data": {
      "text/plain": [
       "(22, 176)"
      ]
     },
     "execution_count": 32,
     "metadata": {},
     "output_type": "execute_result"
    }
   ],
   "source": [
    "import numpy as np\n",
    "\n",
    "E_efa = Z.T - np.dot(a=L_efa, b=F_efa)\n",
    "E_efa.shape"
   ]
  },
  {
   "cell_type": "markdown",
   "id": "22193aef",
   "metadata": {},
   "source": [
    "The errors are normally distributed:"
   ]
  },
  {
   "cell_type": "code",
   "execution_count": 33,
   "id": "92cac573",
   "metadata": {
    "scrolled": true
   },
   "outputs": [
    {
     "data": {
      "image/png": "[encoded data removed]",
      "text/plain": [
       "<Figure size 640x480 with 25 Axes>"
      ]
     },
     "metadata": {},
     "output_type": "display_data"
    }
   ],
   "source": [
    "pd.DataFrame(data=E_efa.T, columns=indicators).hist()\n",
    "plt.show()"
   ]
  },
  {
   "cell_type": "markdown",
   "id": "f844729c",
   "metadata": {},
   "source": [
    "To sum up until here, EFA identifies the common variance in observed variables and regresses it to latent variables whose number must be specified. The latent variables are hypothesized to have generated the observed variables, and their number originates in the theory in the context of which EFA is applied. This makes EFA an abductive tool in which the effect (the data in form of the feature matrix) is observed, the rule is hypothesized, and the cause (the latent variables) is inferred.\n",
    "\n",
    "#### Turning Factor Analysis from head to toe\n",
    "\n",
    "There is also a version of the FA algorithm called **Confirmatory Factor Analysis** (CFA) that is even more theory-driven and lets you test a generative theory. CFA is EFA turned around. Have another look at *figure 2*: in EFA, the effect is observed, and the cause is inferred; in CFA, the effect is inferred, and the cause is observed. But in both cases, the hypothesized rule that the factors generate the indicators is the same. This is a turn from abduction to deduction. In fact, we are anticipating supervised learning here, and if you are wondering how the effect, that still is – and can only be – the data, is inferred, make sure to study [Session D5. Supervised machine learning](5_supervised_machine_learning.ipynb).\n",
    "\n",
    "Here, we will only quickly run through CFA. The idea is to test specific versions of the rule $X=f(F)$ by constraining certain cells in the loading matrix to 0. This forces the model to be consistent with the theory (*i.e.*, consistent with the hypothesized rule). In other words, not only do we specify the model, we also specify the fit to some extent! Since this can result in a suboptimal fit, we must also evaluate the goodness of the fit.\n",
    "\n",
    "Let's find out how good the model fits the data if we constrain the loading matrix according to the measurement theory that underlies the V-Dem dataset (*figure 3*). To do so, we create a dictionary that specifies which factor generates which indicator(s) (lines 3-9), parse this specification such that it can be read by the model (line 10), construct the model, and fit it to the data (line 11):"
   ]
  },
  {
   "cell_type": "code",
   "execution_count": 34,
   "id": "37ffc8d0",
   "metadata": {},
   "outputs": [
    {
     "name": "stderr",
     "output_type": "stream",
     "text": [
      "C:\\Users\\lietzho\\AppData\\Roaming\\Python\\Python39\\site-packages\\factor_analyzer\\confirmatory_factor_analyzer.py:753: UserWarning: The optimization routine failed to converge: ABNORMAL_TERMINATION_IN_LNSRCH\n",
      "  warnings.warn(\n"
     ]
    }
   ],
   "source": [
    "from factor_analyzer import ConfirmatoryFactorAnalyzer, ModelSpecificationParser\n",
    "\n",
    "model_dict = {\n",
    "    'Factor 1': ['v2mecenefm', 'v2meharjrn', 'v2meslfcen', 'v2mebias', 'v2merange', 'v2mecrit', 'v2cldiscm', 'v2cldiscw', 'v2clacfree'], \n",
    "    'Factor 2': ['v2psparban', 'v2psbars', 'v2cseeorgs', 'v2csreprss'], \n",
    "    'Factor 3': ['v2elsuffrage'], \n",
    "    'Factor 4': ['v2elembaut', 'v2elembcap'], \n",
    "    'Factor 5': ['v2lgbicam', 'v2lgello', 'v2lginello', 'v2exdfcbhs', 'v2exdfdmhs', 'v2exhoshog']\n",
    "}\n",
    "model_spec = ModelSpecificationParser.parse_model_specification_from_dict(X=Z, specification=model_dict)\n",
    "cfa = ConfirmatoryFactorAnalyzer(specification=model_spec).fit(Z)"
   ]
  },
  {
   "cell_type": "markdown",
   "id": "ad9c8fbe",
   "metadata": {},
   "source": [
    "Display the loading matrix, just like we did for EFA:"
   ]
  },
  {
   "cell_type": "code",
   "execution_count": 35,
   "id": "93ab7dae",
   "metadata": {},
   "outputs": [
    {
     "data": {
      "text/plain": [
       "(22, 5)"
      ]
     },
     "execution_count": 35,
     "metadata": {},
     "output_type": "execute_result"
    }
   ],
   "source": [
    "cfa.loadings_.shape"
   ]
  },
  {
   "cell_type": "code",
   "execution_count": 36,
   "id": "c8a8eb55",
   "metadata": {},
   "outputs": [
    {
     "data": {
      "text/html": [
       "<style type=\"text/css\">\n",
       "#T_ae234_row0_col0, #T_ae234_row1_col0, #T_ae234_row2_col0, #T_ae234_row3_col0, #T_ae234_row4_col0, #T_ae234_row5_col0, #T_ae234_row6_col0, #T_ae234_row7_col0, #T_ae234_row8_col0, #T_ae234_row9_col1, #T_ae234_row10_col1, #T_ae234_row11_col1, #T_ae234_row12_col1, #T_ae234_row13_col2, #T_ae234_row14_col3, #T_ae234_row15_col3, #T_ae234_row16_col4, #T_ae234_row18_col4, #T_ae234_row19_col4, #T_ae234_row20_col4, #T_ae234_row21_col4 {\n",
       "  background-color: lightgray;\n",
       "}\n",
       "</style>\n",
       "<table id=\"T_ae234\">\n",
       "  <thead>\n",
       "    <tr>\n",
       "      <th class=\"blank\" >&nbsp;</th>\n",
       "      <th class=\"blank level0\" >&nbsp;</th>\n",
       "      <th id=\"T_ae234_level0_col0\" class=\"col_heading level0 col0\" >Factor 1</th>\n",
       "      <th id=\"T_ae234_level0_col1\" class=\"col_heading level0 col1\" >Factor 2</th>\n",
       "      <th id=\"T_ae234_level0_col2\" class=\"col_heading level0 col2\" >Factor 3</th>\n",
       "      <th id=\"T_ae234_level0_col3\" class=\"col_heading level0 col3\" >Factor 4</th>\n",
       "      <th id=\"T_ae234_level0_col4\" class=\"col_heading level0 col4\" >Factor 5</th>\n",
       "    </tr>\n",
       "    <tr>\n",
       "      <th class=\"index_name level0\" >Index</th>\n",
       "      <th class=\"index_name level1\" >Indicator</th>\n",
       "      <th class=\"blank col0\" >&nbsp;</th>\n",
       "      <th class=\"blank col1\" >&nbsp;</th>\n",
       "      <th class=\"blank col2\" >&nbsp;</th>\n",
       "      <th class=\"blank col3\" >&nbsp;</th>\n",
       "      <th class=\"blank col4\" >&nbsp;</th>\n",
       "    </tr>\n",
       "  </thead>\n",
       "  <tbody>\n",
       "    <tr>\n",
       "      <th id=\"T_ae234_level0_row0\" class=\"row_heading level0 row0\" rowspan=\"9\">Freedom of expression</th>\n",
       "      <th id=\"T_ae234_level1_row0\" class=\"row_heading level1 row0\" >v2mecenefm</th>\n",
       "      <td id=\"T_ae234_row0_col0\" class=\"data row0 col0\" >0.975633</td>\n",
       "      <td id=\"T_ae234_row0_col1\" class=\"data row0 col1\" >0.000000</td>\n",
       "      <td id=\"T_ae234_row0_col2\" class=\"data row0 col2\" >0.000000</td>\n",
       "      <td id=\"T_ae234_row0_col3\" class=\"data row0 col3\" >0.000000</td>\n",
       "      <td id=\"T_ae234_row0_col4\" class=\"data row0 col4\" >0.000000</td>\n",
       "    </tr>\n",
       "    <tr>\n",
       "      <th id=\"T_ae234_level1_row1\" class=\"row_heading level1 row1\" >v2meharjrn</th>\n",
       "      <td id=\"T_ae234_row1_col0\" class=\"data row1 col0\" >0.982427</td>\n",
       "      <td id=\"T_ae234_row1_col1\" class=\"data row1 col1\" >0.000000</td>\n",
       "      <td id=\"T_ae234_row1_col2\" class=\"data row1 col2\" >0.000000</td>\n",
       "      <td id=\"T_ae234_row1_col3\" class=\"data row1 col3\" >0.000000</td>\n",
       "      <td id=\"T_ae234_row1_col4\" class=\"data row1 col4\" >0.000000</td>\n",
       "    </tr>\n",
       "    <tr>\n",
       "      <th id=\"T_ae234_level1_row2\" class=\"row_heading level1 row2\" >v2meslfcen</th>\n",
       "      <td id=\"T_ae234_row2_col0\" class=\"data row2 col0\" >0.971916</td>\n",
       "      <td id=\"T_ae234_row2_col1\" class=\"data row2 col1\" >0.000000</td>\n",
       "      <td id=\"T_ae234_row2_col2\" class=\"data row2 col2\" >0.000000</td>\n",
       "      <td id=\"T_ae234_row2_col3\" class=\"data row2 col3\" >0.000000</td>\n",
       "      <td id=\"T_ae234_row2_col4\" class=\"data row2 col4\" >0.000000</td>\n",
       "    </tr>\n",
       "    <tr>\n",
       "      <th id=\"T_ae234_level1_row3\" class=\"row_heading level1 row3\" >v2mebias</th>\n",
       "      <td id=\"T_ae234_row3_col0\" class=\"data row3 col0\" >0.963327</td>\n",
       "      <td id=\"T_ae234_row3_col1\" class=\"data row3 col1\" >0.000000</td>\n",
       "      <td id=\"T_ae234_row3_col2\" class=\"data row3 col2\" >0.000000</td>\n",
       "      <td id=\"T_ae234_row3_col3\" class=\"data row3 col3\" >0.000000</td>\n",
       "      <td id=\"T_ae234_row3_col4\" class=\"data row3 col4\" >0.000000</td>\n",
       "    </tr>\n",
       "    <tr>\n",
       "      <th id=\"T_ae234_level1_row4\" class=\"row_heading level1 row4\" >v2merange</th>\n",
       "      <td id=\"T_ae234_row4_col0\" class=\"data row4 col0\" >0.923796</td>\n",
       "      <td id=\"T_ae234_row4_col1\" class=\"data row4 col1\" >0.000000</td>\n",
       "      <td id=\"T_ae234_row4_col2\" class=\"data row4 col2\" >0.000000</td>\n",
       "      <td id=\"T_ae234_row4_col3\" class=\"data row4 col3\" >0.000000</td>\n",
       "      <td id=\"T_ae234_row4_col4\" class=\"data row4 col4\" >0.000000</td>\n",
       "    </tr>\n",
       "    <tr>\n",
       "      <th id=\"T_ae234_level1_row5\" class=\"row_heading level1 row5\" >v2mecrit</th>\n",
       "      <td id=\"T_ae234_row5_col0\" class=\"data row5 col0\" >0.935245</td>\n",
       "      <td id=\"T_ae234_row5_col1\" class=\"data row5 col1\" >0.000000</td>\n",
       "      <td id=\"T_ae234_row5_col2\" class=\"data row5 col2\" >0.000000</td>\n",
       "      <td id=\"T_ae234_row5_col3\" class=\"data row5 col3\" >0.000000</td>\n",
       "      <td id=\"T_ae234_row5_col4\" class=\"data row5 col4\" >0.000000</td>\n",
       "    </tr>\n",
       "    <tr>\n",
       "      <th id=\"T_ae234_level1_row6\" class=\"row_heading level1 row6\" >v2cldiscm</th>\n",
       "      <td id=\"T_ae234_row6_col0\" class=\"data row6 col0\" >0.972541</td>\n",
       "      <td id=\"T_ae234_row6_col1\" class=\"data row6 col1\" >0.000000</td>\n",
       "      <td id=\"T_ae234_row6_col2\" class=\"data row6 col2\" >0.000000</td>\n",
       "      <td id=\"T_ae234_row6_col3\" class=\"data row6 col3\" >0.000000</td>\n",
       "      <td id=\"T_ae234_row6_col4\" class=\"data row6 col4\" >0.000000</td>\n",
       "    </tr>\n",
       "    <tr>\n",
       "      <th id=\"T_ae234_level1_row7\" class=\"row_heading level1 row7\" >v2cldiscw</th>\n",
       "      <td id=\"T_ae234_row7_col0\" class=\"data row7 col0\" >0.969064</td>\n",
       "      <td id=\"T_ae234_row7_col1\" class=\"data row7 col1\" >0.000000</td>\n",
       "      <td id=\"T_ae234_row7_col2\" class=\"data row7 col2\" >0.000000</td>\n",
       "      <td id=\"T_ae234_row7_col3\" class=\"data row7 col3\" >0.000000</td>\n",
       "      <td id=\"T_ae234_row7_col4\" class=\"data row7 col4\" >0.000000</td>\n",
       "    </tr>\n",
       "    <tr>\n",
       "      <th id=\"T_ae234_level1_row8\" class=\"row_heading level1 row8\" >v2clacfree</th>\n",
       "      <td id=\"T_ae234_row8_col0\" class=\"data row8 col0\" >0.983629</td>\n",
       "      <td id=\"T_ae234_row8_col1\" class=\"data row8 col1\" >0.000000</td>\n",
       "      <td id=\"T_ae234_row8_col2\" class=\"data row8 col2\" >0.000000</td>\n",
       "      <td id=\"T_ae234_row8_col3\" class=\"data row8 col3\" >0.000000</td>\n",
       "      <td id=\"T_ae234_row8_col4\" class=\"data row8 col4\" >0.000000</td>\n",
       "    </tr>\n",
       "    <tr>\n",
       "      <th id=\"T_ae234_level0_row9\" class=\"row_heading level0 row9\" rowspan=\"4\">Freedom of association</th>\n",
       "      <th id=\"T_ae234_level1_row9\" class=\"row_heading level1 row9\" >v2psparban</th>\n",
       "      <td id=\"T_ae234_row9_col0\" class=\"data row9 col0\" >0.000000</td>\n",
       "      <td id=\"T_ae234_row9_col1\" class=\"data row9 col1\" >0.863293</td>\n",
       "      <td id=\"T_ae234_row9_col2\" class=\"data row9 col2\" >0.000000</td>\n",
       "      <td id=\"T_ae234_row9_col3\" class=\"data row9 col3\" >0.000000</td>\n",
       "      <td id=\"T_ae234_row9_col4\" class=\"data row9 col4\" >0.000000</td>\n",
       "    </tr>\n",
       "    <tr>\n",
       "      <th id=\"T_ae234_level1_row10\" class=\"row_heading level1 row10\" >v2psbars</th>\n",
       "      <td id=\"T_ae234_row10_col0\" class=\"data row10 col0\" >0.000000</td>\n",
       "      <td id=\"T_ae234_row10_col1\" class=\"data row10 col1\" >0.921960</td>\n",
       "      <td id=\"T_ae234_row10_col2\" class=\"data row10 col2\" >0.000000</td>\n",
       "      <td id=\"T_ae234_row10_col3\" class=\"data row10 col3\" >0.000000</td>\n",
       "      <td id=\"T_ae234_row10_col4\" class=\"data row10 col4\" >0.000000</td>\n",
       "    </tr>\n",
       "    <tr>\n",
       "      <th id=\"T_ae234_level1_row11\" class=\"row_heading level1 row11\" >v2cseeorgs</th>\n",
       "      <td id=\"T_ae234_row11_col0\" class=\"data row11 col0\" >0.000000</td>\n",
       "      <td id=\"T_ae234_row11_col1\" class=\"data row11 col1\" >0.976766</td>\n",
       "      <td id=\"T_ae234_row11_col2\" class=\"data row11 col2\" >0.000000</td>\n",
       "      <td id=\"T_ae234_row11_col3\" class=\"data row11 col3\" >0.000000</td>\n",
       "      <td id=\"T_ae234_row11_col4\" class=\"data row11 col4\" >0.000000</td>\n",
       "    </tr>\n",
       "    <tr>\n",
       "      <th id=\"T_ae234_level1_row12\" class=\"row_heading level1 row12\" >v2csreprss</th>\n",
       "      <td id=\"T_ae234_row12_col0\" class=\"data row12 col0\" >0.000000</td>\n",
       "      <td id=\"T_ae234_row12_col1\" class=\"data row12 col1\" >0.900812</td>\n",
       "      <td id=\"T_ae234_row12_col2\" class=\"data row12 col2\" >0.000000</td>\n",
       "      <td id=\"T_ae234_row12_col3\" class=\"data row12 col3\" >0.000000</td>\n",
       "      <td id=\"T_ae234_row12_col4\" class=\"data row12 col4\" >0.000000</td>\n",
       "    </tr>\n",
       "    <tr>\n",
       "      <th id=\"T_ae234_level0_row13\" class=\"row_heading level0 row13\" >Share of pop w/ suffrage</th>\n",
       "      <th id=\"T_ae234_level1_row13\" class=\"row_heading level1 row13\" >v2elsuffrage</th>\n",
       "      <td id=\"T_ae234_row13_col0\" class=\"data row13 col0\" >0.000000</td>\n",
       "      <td id=\"T_ae234_row13_col1\" class=\"data row13 col1\" >0.000000</td>\n",
       "      <td id=\"T_ae234_row13_col2\" class=\"data row13 col2\" >0.765888</td>\n",
       "      <td id=\"T_ae234_row13_col3\" class=\"data row13 col3\" >0.000000</td>\n",
       "      <td id=\"T_ae234_row13_col4\" class=\"data row13 col4\" >0.000000</td>\n",
       "    </tr>\n",
       "    <tr>\n",
       "      <th id=\"T_ae234_level0_row14\" class=\"row_heading level0 row14\" rowspan=\"2\">Clean elections</th>\n",
       "      <th id=\"T_ae234_level1_row14\" class=\"row_heading level1 row14\" >v2elembaut</th>\n",
       "      <td id=\"T_ae234_row14_col0\" class=\"data row14 col0\" >0.000000</td>\n",
       "      <td id=\"T_ae234_row14_col1\" class=\"data row14 col1\" >0.000000</td>\n",
       "      <td id=\"T_ae234_row14_col2\" class=\"data row14 col2\" >0.000000</td>\n",
       "      <td id=\"T_ae234_row14_col3\" class=\"data row14 col3\" >0.839672</td>\n",
       "      <td id=\"T_ae234_row14_col4\" class=\"data row14 col4\" >0.000000</td>\n",
       "    </tr>\n",
       "    <tr>\n",
       "      <th id=\"T_ae234_level1_row15\" class=\"row_heading level1 row15\" >v2elembcap</th>\n",
       "      <td id=\"T_ae234_row15_col0\" class=\"data row15 col0\" >0.000000</td>\n",
       "      <td id=\"T_ae234_row15_col1\" class=\"data row15 col1\" >0.000000</td>\n",
       "      <td id=\"T_ae234_row15_col2\" class=\"data row15 col2\" >0.000000</td>\n",
       "      <td id=\"T_ae234_row15_col3\" class=\"data row15 col3\" >0.813584</td>\n",
       "      <td id=\"T_ae234_row15_col4\" class=\"data row15 col4\" >0.000000</td>\n",
       "    </tr>\n",
       "    <tr>\n",
       "      <th id=\"T_ae234_level0_row16\" class=\"row_heading level0 row16\" rowspan=\"6\">Elected officials</th>\n",
       "      <th id=\"T_ae234_level1_row16\" class=\"row_heading level1 row16\" >v2lgbicam</th>\n",
       "      <td id=\"T_ae234_row16_col0\" class=\"data row16 col0\" >0.000000</td>\n",
       "      <td id=\"T_ae234_row16_col1\" class=\"data row16 col1\" >0.000000</td>\n",
       "      <td id=\"T_ae234_row16_col2\" class=\"data row16 col2\" >0.000000</td>\n",
       "      <td id=\"T_ae234_row16_col3\" class=\"data row16 col3\" >0.000000</td>\n",
       "      <td id=\"T_ae234_row16_col4\" class=\"data row16 col4\" >0.740476</td>\n",
       "    </tr>\n",
       "    <tr>\n",
       "      <th id=\"T_ae234_level1_row17\" class=\"row_heading level1 row17\" >v2lgello</th>\n",
       "      <td id=\"T_ae234_row17_col0\" class=\"data row17 col0\" >0.000000</td>\n",
       "      <td id=\"T_ae234_row17_col1\" class=\"data row17 col1\" >0.000000</td>\n",
       "      <td id=\"T_ae234_row17_col2\" class=\"data row17 col2\" >0.000000</td>\n",
       "      <td id=\"T_ae234_row17_col3\" class=\"data row17 col3\" >0.000000</td>\n",
       "      <td id=\"T_ae234_row17_col4\" class=\"data row17 col4\" >0.490266</td>\n",
       "    </tr>\n",
       "    <tr>\n",
       "      <th id=\"T_ae234_level1_row18\" class=\"row_heading level1 row18\" >v2lginello</th>\n",
       "      <td id=\"T_ae234_row18_col0\" class=\"data row18 col0\" >0.000000</td>\n",
       "      <td id=\"T_ae234_row18_col1\" class=\"data row18 col1\" >0.000000</td>\n",
       "      <td id=\"T_ae234_row18_col2\" class=\"data row18 col2\" >0.000000</td>\n",
       "      <td id=\"T_ae234_row18_col3\" class=\"data row18 col3\" >0.000000</td>\n",
       "      <td id=\"T_ae234_row18_col4\" class=\"data row18 col4\" >0.569358</td>\n",
       "    </tr>\n",
       "    <tr>\n",
       "      <th id=\"T_ae234_level1_row19\" class=\"row_heading level1 row19\" >v2exdfcbhs</th>\n",
       "      <td id=\"T_ae234_row19_col0\" class=\"data row19 col0\" >0.000000</td>\n",
       "      <td id=\"T_ae234_row19_col1\" class=\"data row19 col1\" >0.000000</td>\n",
       "      <td id=\"T_ae234_row19_col2\" class=\"data row19 col2\" >0.000000</td>\n",
       "      <td id=\"T_ae234_row19_col3\" class=\"data row19 col3\" >0.000000</td>\n",
       "      <td id=\"T_ae234_row19_col4\" class=\"data row19 col4\" >1.132299</td>\n",
       "    </tr>\n",
       "    <tr>\n",
       "      <th id=\"T_ae234_level1_row20\" class=\"row_heading level1 row20\" >v2exdfdmhs</th>\n",
       "      <td id=\"T_ae234_row20_col0\" class=\"data row20 col0\" >0.000000</td>\n",
       "      <td id=\"T_ae234_row20_col1\" class=\"data row20 col1\" >0.000000</td>\n",
       "      <td id=\"T_ae234_row20_col2\" class=\"data row20 col2\" >0.000000</td>\n",
       "      <td id=\"T_ae234_row20_col3\" class=\"data row20 col3\" >0.000000</td>\n",
       "      <td id=\"T_ae234_row20_col4\" class=\"data row20 col4\" >1.184111</td>\n",
       "    </tr>\n",
       "    <tr>\n",
       "      <th id=\"T_ae234_level1_row21\" class=\"row_heading level1 row21\" >v2exhoshog</th>\n",
       "      <td id=\"T_ae234_row21_col0\" class=\"data row21 col0\" >0.000000</td>\n",
       "      <td id=\"T_ae234_row21_col1\" class=\"data row21 col1\" >0.000000</td>\n",
       "      <td id=\"T_ae234_row21_col2\" class=\"data row21 col2\" >0.000000</td>\n",
       "      <td id=\"T_ae234_row21_col3\" class=\"data row21 col3\" >0.000000</td>\n",
       "      <td id=\"T_ae234_row21_col4\" class=\"data row21 col4\" >1.059263</td>\n",
       "    </tr>\n",
       "  </tbody>\n",
       "</table>\n"
      ],
      "text/plain": [
       "<pandas.io.formats.style.Styler at 0x1ae66853b20>"
      ]
     },
     "execution_count": 36,
     "metadata": {},
     "output_type": "execute_result"
    }
   ],
   "source": [
    "loadings_cfa = pd.DataFrame(data=cfa.loadings_, index=indicators, columns=[f'Factor {i+1}' for i in range(k_efa)])\n",
    "loadings_cfa = pd.merge(left=loadings_index, right=loadings_cfa, left_on='Indicator', right_index=True)\n",
    "loadings_cfa.style.applymap(lambda x: 'background-color: lightgray' if abs(x) > .5 else '')"
   ]
  },
  {
   "cell_type": "markdown",
   "id": "b04191bb",
   "metadata": {},
   "source": [
    "As a result of constraining the loading matrix, loadings have only been inferred for the specified cells. Loadings are larger than 0.74 except for two indicators. The fact that the indicators are mostly strongly correlated with the five enforced factors means that the indicators are generally suited to measure the low-level index.\n",
    "\n",
    "However, CFA has also led to three correlations being larger than one, which points at a problem during the numerical fitting procedure. In fact, we have been shown a warning that \"The optimization routine failed to converge\". As a result, the procedure has not produced a goodness-of-fit statistic, which means, we cannot evaluate the specified model.\n",
    "\n",
    "Let's try something else. Let's create five different models with 1 to 5 factors (line 1), create model specifications where each indicator is only allowed to load on the factor where its absolute correlation, identified using EFA, is largest (line 2), fit a CFA for each specification (lines 3-5), and print the [Akaike Information Criterion](https://en.wikipedia.org/wiki/Akaike_information_criterion) (AIC):"
   ]
  },
  {
   "cell_type": "code",
   "execution_count": 37,
   "id": "270150c9",
   "metadata": {},
   "outputs": [
    {
     "name": "stderr",
     "output_type": "stream",
     "text": [
      "C:\\Users\\lietzho\\AppData\\Roaming\\Python\\Python39\\site-packages\\factor_analyzer\\factor_analyzer.py:662: UserWarning: No rotation will be performed when the number of factors equals 1.\n",
      "  warnings.warn(\n"
     ]
    },
    {
     "name": "stdout",
     "output_type": "stream",
     "text": [
      "1 factor(s): 7562.374741982145\n"
     ]
    },
    {
     "name": "stderr",
     "output_type": "stream",
     "text": [
      "C:\\Users\\lietzho\\AppData\\Roaming\\Python\\Python39\\site-packages\\factor_analyzer\\confirmatory_factor_analyzer.py:753: UserWarning: The optimization routine failed to converge: ABNORMAL_TERMINATION_IN_LNSRCH\n",
      "  warnings.warn(\n"
     ]
    },
    {
     "name": "stdout",
     "output_type": "stream",
     "text": [
      "2 factor(s): nan\n",
      "3 factor(s): 232.0\n",
      "4 factor(s): 284.0\n",
      "5 factor(s): nan\n"
     ]
    },
    {
     "name": "stderr",
     "output_type": "stream",
     "text": [
      "C:\\Users\\lietzho\\AppData\\Roaming\\Python\\Python39\\site-packages\\factor_analyzer\\confirmatory_factor_analyzer.py:753: UserWarning: The optimization routine failed to converge: ABNORMAL_TERMINATION_IN_LNSRCH\n",
      "  warnings.warn(\n"
     ]
    }
   ],
   "source": [
    "number_of_factors = [1, 2, 3, 4, 5]\n",
    "models_dict = [{f'F{f+1}': [indicators[i] for i, k in enumerate(np.argmax(abs(FactorAnalyzer(n_factors=n_factors).fit(Z).loadings_), axis=1)) if k == f] for f in range(n_factors)} for n_factors in number_of_factors]\n",
    "for f in range(len(number_of_factors)):\n",
    "    model_spec = ModelSpecificationParser.parse_model_specification_from_dict(X=Z, specification=models_dict[f])\n",
    "    cfa_n = ConfirmatoryFactorAnalyzer(specification=model_spec).fit(Z)\n",
    "    print(f'{number_of_factors[f]} factor(s):', cfa_n.aic_)"
   ]
  },
  {
   "cell_type": "markdown",
   "id": "c4e3a929",
   "metadata": {},
   "source": [
    "The AIC is a goodness-of-fit measure. The smaller it is, the better the model fit. Constraining the model to just 1 factor does not make any sense (the AIC is very large) because the differences in variance cannot be explained with 1 factor. For 2 and 5 factors, the model does not converge. The model fit is best for 3 factors, which is in line with the interpretation of the EFA model with five factors.\n",
    "\n",
    "In sum, when we use deduction (CFA), we find that the observed variables are well represented by, and can be thought to have generated, the five low-level indices. But when we let the data speak and use abduction (EFA), we find that three indices are sufficient. This is because the indicators are also strongly correlated across indices."
   ]
  },
  {
   "cell_type": "markdown",
   "id": "5db828a7",
   "metadata": {},
   "source": [
    "### D3.2.2. Principal Component Analysis\n",
    "\n",
    "Principal Component Analysis (PCA) strips dimensionality reduction of theory and is purely about identifying patterns in data. Recall that EFA introduces an error matrix $E$ that contains the unique variance in the feature matrix that cannot be explained by the factors. PCA assumes that all variance is common variance. Given a feature matrix $X$ with $p$ observed variables, this means that the linear combination of $k=p$ unobserved variables accounts for all the variance in $X$. This is achieved by doing a simple transformation of $X$ such that all unobserved variables are orthogonal to each other.\n",
    "\n",
    "Let's use a simple example to demonstrate the principle. The following left scatter plot depicts the first two indicators of the V-Dem feature matrix $X$. The point cloud is elongated, and most variance is in the direction of the red vector. Since the data is two-dimensional, the rest of the variance is in the direction of the green vector which is orthogonal to the red one and is second in importance because it explains less variance. The red vector is the first composite variable now called **principal component** (PC), the green vector is the second principal component, and their linear combination explains all of the total variance in $X$. The right scatter plot is the transformation of $X$ and the two principal components are now the unobserved variables and, hence, the principal axes in feature space:"
   ]
  },
  {
   "cell_type": "code",
   "execution_count": 38,
   "id": "0241b09a",
   "metadata": {},
   "outputs": [
    {
     "data": {
      "image/png": "[encoded data removed]",
      "text/plain": [
       "<Figure size 800x380 with 2 Axes>"
      ]
     },
     "metadata": {},
     "output_type": "display_data"
    }
   ],
   "source": [
    "from sklearn.decomposition import PCA\n",
    "\n",
    "pca_ = PCA(whiten=True).fit(X[:, :2])\n",
    "L_pca_ = pca_.transform(X[:, :2])\n",
    "\n",
    "fig, (ax1, ax2) = plt.subplots(1, 2, figsize=[8, 3.8])\n",
    "sns.set(font_scale=.75)\n",
    "ax1.scatter(X[:, 0], X[:, 1])\n",
    "ax2.scatter(L_pca_[:, 0], L_pca_[:, 1])\n",
    "ax1.set(xlabel=indicators[0], ylabel=indicators[1])\n",
    "ax2.set(xlabel='PC 1', ylabel='PC 2')\n",
    "ax1.arrow(X[:, 0].mean(), X[:, 1].mean(), pca_.components_[0, 0], pca_.components_[0, 1], width=.1, color='red')\n",
    "ax1.arrow(X[:, 0].mean(), X[:, 1].mean(), pca_.components_[1, 0], pca_.components_[1, 1], width=.1, color='green')\n",
    "ax2.arrow(0, 0, 1, 0, width=.1, color='red')\n",
    "ax2.arrow(0, 0, 0, 1, width=.1, color='green')\n",
    "plt.show()"
   ]
  },
  {
   "cell_type": "markdown",
   "id": "0c62d462",
   "metadata": {},
   "source": [
    "Mathematically, PCA is a matrix factorization of the form $X^\\mathrm{T}=M+LF+E$ where there is only an error matrix $E$ if $k<p$ (as in EFA). This \"simplification\" has epistemological consequences. PCA is not a generative model (*i.e.*, the is no storyline that the principal components have generated the observed variables) because $M+LF$ is just a data transformation. This means that PCA is not an abductive method (*figure 2*). It is not deduction either. It is not an inference method at all, just a clever massaging of data. Another way to put it: EFA is theory-driven, PCA is data-driven.\n",
    "\n",
    "Now we work with the full standardized feature matrix $Z$. Reducing its dimensionality with PCA is straightforward and follows the usual steps of ML algorithms in sklearn and beyond. First, instantiate the [PCA](https://scikit-learn.org/stable/modules/generated/sklearn.decomposition.PCA.html) model. Not setting the `n_components` parameter will result in all $k=p$ components being computed:"
   ]
  },
  {
   "cell_type": "code",
   "execution_count": 39,
   "id": "46d0c148",
   "metadata": {},
   "outputs": [],
   "source": [
    "pca = PCA()"
   ]
  },
  {
   "cell_type": "markdown",
   "id": "a2f59ffb",
   "metadata": {},
   "source": [
    "Then fit the model to the data:"
   ]
  },
  {
   "cell_type": "code",
   "execution_count": 40,
   "id": "3c9564b0",
   "metadata": {},
   "outputs": [
    {
     "data": {
      "text/plain": [
       "PCA()"
      ]
     },
     "execution_count": 40,
     "metadata": {},
     "output_type": "execute_result"
    }
   ],
   "source": [
    "pca.fit(Z)"
   ]
  },
  {
   "cell_type": "markdown",
   "id": "26aa2cb3",
   "metadata": {},
   "source": [
    "The matrix $L$ is the `components_` attribute of the PCA object and has the expected $p\\times k$ shape:"
   ]
  },
  {
   "cell_type": "code",
   "execution_count": 41,
   "id": "9746b184",
   "metadata": {},
   "outputs": [
    {
     "data": {
      "text/plain": [
       "(22, 22)"
      ]
     },
     "execution_count": 41,
     "metadata": {},
     "output_type": "execute_result"
    }
   ],
   "source": [
    "L_pca = pca.components_.T\n",
    "L_pca.shape"
   ]
  },
  {
   "cell_type": "markdown",
   "id": "091f2122",
   "metadata": {},
   "source": [
    "Other than in EFA, the cells in $L$ are not loadings, which means, they do not tell how strongly the principal components are correlated with the observed variables. In PCA, the columns of $L$ are **eigenvectors** and represent the directions of maximum variance in the data. This meaning of $L$ goes hand in hand with the argument that PCA is a data-driven method without a generative storyline.\n",
    "\n",
    "$F$ does not offer an interpretation in that regard either, but it does have practical use. $F$ can be obtained by transforming $Z$ using the model and has the expected $k\\times n$ shape after transposing the matrix:"
   ]
  },
  {
   "cell_type": "code",
   "execution_count": 42,
   "id": "84afa8d3",
   "metadata": {},
   "outputs": [
    {
     "data": {
      "text/plain": [
       "(22, 176)"
      ]
     },
     "execution_count": 42,
     "metadata": {},
     "output_type": "execute_result"
    }
   ],
   "source": [
    "F_pca = pca.fit_transform(Z).T\n",
    "F_pca.shape"
   ]
  },
  {
   "cell_type": "markdown",
   "id": "cb53b53d",
   "metadata": {},
   "source": [
    "Transform $F$ into a dataframe:"
   ]
  },
  {
   "cell_type": "code",
   "execution_count": 43,
   "id": "008dcfa1",
   "metadata": {},
   "outputs": [
    {
     "data": {
      "text/html": [
       "<div>\n",
       "<style scoped>\n",
       "    .dataframe tbody tr th:only-of-type {\n",
       "        vertical-align: middle;\n",
       "    }\n",
       "\n",
       "    .dataframe tbody tr th {\n",
       "        vertical-align: top;\n",
       "    }\n",
       "\n",
       "    .dataframe thead th {\n",
       "        text-align: right;\n",
       "    }\n",
       "</style>\n",
       "<table border=\"1\" class=\"dataframe\">\n",
       "  <thead>\n",
       "    <tr style=\"text-align: right;\">\n",
       "      <th></th>\n",
       "      <th>PC 1</th>\n",
       "      <th>PC 2</th>\n",
       "      <th>PC 3</th>\n",
       "      <th>PC 4</th>\n",
       "      <th>PC 5</th>\n",
       "      <th>PC 6</th>\n",
       "      <th>PC 7</th>\n",
       "      <th>PC 8</th>\n",
       "      <th>PC 9</th>\n",
       "      <th>PC 10</th>\n",
       "      <th>...</th>\n",
       "      <th>PC 13</th>\n",
       "      <th>PC 14</th>\n",
       "      <th>PC 15</th>\n",
       "      <th>PC 16</th>\n",
       "      <th>PC 17</th>\n",
       "      <th>PC 18</th>\n",
       "      <th>PC 19</th>\n",
       "      <th>PC 20</th>\n",
       "      <th>PC 21</th>\n",
       "      <th>PC 22</th>\n",
       "    </tr>\n",
       "    <tr>\n",
       "      <th>country_name</th>\n",
       "      <th></th>\n",
       "      <th></th>\n",
       "      <th></th>\n",
       "      <th></th>\n",
       "      <th></th>\n",
       "      <th></th>\n",
       "      <th></th>\n",
       "      <th></th>\n",
       "      <th></th>\n",
       "      <th></th>\n",
       "      <th></th>\n",
       "      <th></th>\n",
       "      <th></th>\n",
       "      <th></th>\n",
       "      <th></th>\n",
       "      <th></th>\n",
       "      <th></th>\n",
       "      <th></th>\n",
       "      <th></th>\n",
       "      <th></th>\n",
       "      <th></th>\n",
       "    </tr>\n",
       "  </thead>\n",
       "  <tbody>\n",
       "    <tr>\n",
       "      <th>Afghanistan</th>\n",
       "      <td>0.410273</td>\n",
       "      <td>-1.220150</td>\n",
       "      <td>0.216012</td>\n",
       "      <td>-1.005674</td>\n",
       "      <td>-1.087451</td>\n",
       "      <td>-0.501470</td>\n",
       "      <td>-0.326244</td>\n",
       "      <td>1.048082</td>\n",
       "      <td>-0.878298</td>\n",
       "      <td>-0.247468</td>\n",
       "      <td>...</td>\n",
       "      <td>0.399939</td>\n",
       "      <td>0.603575</td>\n",
       "      <td>-0.393594</td>\n",
       "      <td>0.125152</td>\n",
       "      <td>0.100734</td>\n",
       "      <td>0.442044</td>\n",
       "      <td>-0.349731</td>\n",
       "      <td>0.350081</td>\n",
       "      <td>-0.295480</td>\n",
       "      <td>-0.035876</td>\n",
       "    </tr>\n",
       "    <tr>\n",
       "      <th>Albania</th>\n",
       "      <td>-0.496792</td>\n",
       "      <td>0.807267</td>\n",
       "      <td>-0.773937</td>\n",
       "      <td>0.749736</td>\n",
       "      <td>-0.523094</td>\n",
       "      <td>-0.345472</td>\n",
       "      <td>-0.821771</td>\n",
       "      <td>-1.167237</td>\n",
       "      <td>-0.551321</td>\n",
       "      <td>0.098909</td>\n",
       "      <td>...</td>\n",
       "      <td>-0.117763</td>\n",
       "      <td>0.143141</td>\n",
       "      <td>0.274460</td>\n",
       "      <td>0.164673</td>\n",
       "      <td>-0.685502</td>\n",
       "      <td>-0.012525</td>\n",
       "      <td>-0.245116</td>\n",
       "      <td>0.019039</td>\n",
       "      <td>-0.040034</td>\n",
       "      <td>0.034807</td>\n",
       "    </tr>\n",
       "    <tr>\n",
       "      <th>Algeria</th>\n",
       "      <td>2.620266</td>\n",
       "      <td>-0.758739</td>\n",
       "      <td>-0.431759</td>\n",
       "      <td>-1.072191</td>\n",
       "      <td>-0.388081</td>\n",
       "      <td>-0.868858</td>\n",
       "      <td>1.389032</td>\n",
       "      <td>-0.687168</td>\n",
       "      <td>-0.601821</td>\n",
       "      <td>0.574200</td>\n",
       "      <td>...</td>\n",
       "      <td>0.053072</td>\n",
       "      <td>-0.524305</td>\n",
       "      <td>-0.249107</td>\n",
       "      <td>-0.248984</td>\n",
       "      <td>0.235310</td>\n",
       "      <td>-0.139933</td>\n",
       "      <td>-0.017297</td>\n",
       "      <td>0.289441</td>\n",
       "      <td>0.206907</td>\n",
       "      <td>0.142557</td>\n",
       "    </tr>\n",
       "    <tr>\n",
       "      <th>Angola</th>\n",
       "      <td>1.611645</td>\n",
       "      <td>-1.665694</td>\n",
       "      <td>0.322675</td>\n",
       "      <td>0.912411</td>\n",
       "      <td>-0.703093</td>\n",
       "      <td>0.027464</td>\n",
       "      <td>0.355936</td>\n",
       "      <td>0.698674</td>\n",
       "      <td>-0.220570</td>\n",
       "      <td>0.725198</td>\n",
       "      <td>...</td>\n",
       "      <td>0.024145</td>\n",
       "      <td>0.008329</td>\n",
       "      <td>0.329757</td>\n",
       "      <td>-0.261629</td>\n",
       "      <td>0.708805</td>\n",
       "      <td>0.566185</td>\n",
       "      <td>-0.317347</td>\n",
       "      <td>-0.187826</td>\n",
       "      <td>-0.367353</td>\n",
       "      <td>0.160977</td>\n",
       "    </tr>\n",
       "    <tr>\n",
       "      <th>Argentina</th>\n",
       "      <td>-1.928967</td>\n",
       "      <td>-2.323520</td>\n",
       "      <td>1.147798</td>\n",
       "      <td>-0.980982</td>\n",
       "      <td>0.868507</td>\n",
       "      <td>0.154465</td>\n",
       "      <td>-0.588733</td>\n",
       "      <td>-0.697299</td>\n",
       "      <td>-0.003527</td>\n",
       "      <td>0.087587</td>\n",
       "      <td>...</td>\n",
       "      <td>-0.313687</td>\n",
       "      <td>0.219699</td>\n",
       "      <td>-0.098831</td>\n",
       "      <td>0.343059</td>\n",
       "      <td>0.003848</td>\n",
       "      <td>0.173963</td>\n",
       "      <td>0.222100</td>\n",
       "      <td>-0.289640</td>\n",
       "      <td>0.101841</td>\n",
       "      <td>0.110686</td>\n",
       "    </tr>\n",
       "    <tr>\n",
       "      <th>...</th>\n",
       "      <td>...</td>\n",
       "      <td>...</td>\n",
       "      <td>...</td>\n",
       "      <td>...</td>\n",
       "      <td>...</td>\n",
       "      <td>...</td>\n",
       "      <td>...</td>\n",
       "      <td>...</td>\n",
       "      <td>...</td>\n",
       "      <td>...</td>\n",
       "      <td>...</td>\n",
       "      <td>...</td>\n",
       "      <td>...</td>\n",
       "      <td>...</td>\n",
       "      <td>...</td>\n",
       "      <td>...</td>\n",
       "      <td>...</td>\n",
       "      <td>...</td>\n",
       "      <td>...</td>\n",
       "      <td>...</td>\n",
       "      <td>...</td>\n",
       "    </tr>\n",
       "    <tr>\n",
       "      <th>Vietnam</th>\n",
       "      <td>5.515877</td>\n",
       "      <td>2.221620</td>\n",
       "      <td>-2.471495</td>\n",
       "      <td>0.977933</td>\n",
       "      <td>1.803508</td>\n",
       "      <td>0.301858</td>\n",
       "      <td>-0.120729</td>\n",
       "      <td>0.777468</td>\n",
       "      <td>-1.504868</td>\n",
       "      <td>0.007896</td>\n",
       "      <td>...</td>\n",
       "      <td>0.245660</td>\n",
       "      <td>-0.075810</td>\n",
       "      <td>-0.120469</td>\n",
       "      <td>0.013092</td>\n",
       "      <td>0.059805</td>\n",
       "      <td>-0.128632</td>\n",
       "      <td>-0.061341</td>\n",
       "      <td>-0.657820</td>\n",
       "      <td>0.250562</td>\n",
       "      <td>0.086175</td>\n",
       "    </tr>\n",
       "    <tr>\n",
       "      <th>Yemen</th>\n",
       "      <td>4.817424</td>\n",
       "      <td>-0.530845</td>\n",
       "      <td>-1.177146</td>\n",
       "      <td>-1.262562</td>\n",
       "      <td>-0.651954</td>\n",
       "      <td>-0.535780</td>\n",
       "      <td>0.272160</td>\n",
       "      <td>-0.660296</td>\n",
       "      <td>0.618176</td>\n",
       "      <td>0.032477</td>\n",
       "      <td>...</td>\n",
       "      <td>0.130269</td>\n",
       "      <td>0.039734</td>\n",
       "      <td>0.165445</td>\n",
       "      <td>-0.259410</td>\n",
       "      <td>-0.693887</td>\n",
       "      <td>-0.317738</td>\n",
       "      <td>-0.205675</td>\n",
       "      <td>0.260798</td>\n",
       "      <td>-0.352293</td>\n",
       "      <td>0.194880</td>\n",
       "    </tr>\n",
       "    <tr>\n",
       "      <th>Zambia</th>\n",
       "      <td>1.212845</td>\n",
       "      <td>-2.016916</td>\n",
       "      <td>0.919638</td>\n",
       "      <td>0.975531</td>\n",
       "      <td>-0.870230</td>\n",
       "      <td>-0.475068</td>\n",
       "      <td>0.213276</td>\n",
       "      <td>-0.291786</td>\n",
       "      <td>-1.034632</td>\n",
       "      <td>0.878102</td>\n",
       "      <td>...</td>\n",
       "      <td>-0.428207</td>\n",
       "      <td>-0.328223</td>\n",
       "      <td>0.104596</td>\n",
       "      <td>0.097756</td>\n",
       "      <td>-0.055697</td>\n",
       "      <td>-0.565287</td>\n",
       "      <td>-0.061545</td>\n",
       "      <td>0.087243</td>\n",
       "      <td>-0.086175</td>\n",
       "      <td>-0.015573</td>\n",
       "    </tr>\n",
       "    <tr>\n",
       "      <th>Zanzibar</th>\n",
       "      <td>3.155606</td>\n",
       "      <td>-1.787655</td>\n",
       "      <td>0.639861</td>\n",
       "      <td>0.908916</td>\n",
       "      <td>-1.227099</td>\n",
       "      <td>-0.064367</td>\n",
       "      <td>-0.034685</td>\n",
       "      <td>0.191947</td>\n",
       "      <td>0.105538</td>\n",
       "      <td>-0.152069</td>\n",
       "      <td>...</td>\n",
       "      <td>-0.413274</td>\n",
       "      <td>0.272077</td>\n",
       "      <td>-0.298838</td>\n",
       "      <td>0.016924</td>\n",
       "      <td>-0.015816</td>\n",
       "      <td>0.354012</td>\n",
       "      <td>-0.270161</td>\n",
       "      <td>-0.029281</td>\n",
       "      <td>-0.169449</td>\n",
       "      <td>0.238811</td>\n",
       "    </tr>\n",
       "    <tr>\n",
       "      <th>Zimbabwe</th>\n",
       "      <td>3.373286</td>\n",
       "      <td>-1.862449</td>\n",
       "      <td>1.727464</td>\n",
       "      <td>-1.487104</td>\n",
       "      <td>-2.114484</td>\n",
       "      <td>0.604727</td>\n",
       "      <td>0.093872</td>\n",
       "      <td>-0.011420</td>\n",
       "      <td>0.463223</td>\n",
       "      <td>-0.560872</td>\n",
       "      <td>...</td>\n",
       "      <td>-0.315967</td>\n",
       "      <td>-0.390650</td>\n",
       "      <td>-0.319859</td>\n",
       "      <td>-0.343059</td>\n",
       "      <td>0.562810</td>\n",
       "      <td>-0.187032</td>\n",
       "      <td>0.264111</td>\n",
       "      <td>-0.297430</td>\n",
       "      <td>0.138515</td>\n",
       "      <td>-0.055930</td>\n",
       "    </tr>\n",
       "  </tbody>\n",
       "</table>\n",
       "<p>176 rows × 22 columns</p>\n",
       "</div>"
      ],
      "text/plain": [
       "                  PC 1      PC 2      PC 3      PC 4      PC 5      PC 6  \\\n",
       "country_name                                                               \n",
       "Afghanistan   0.410273 -1.220150  0.216012 -1.005674 -1.087451 -0.501470   \n",
       "Albania      -0.496792  0.807267 -0.773937  0.749736 -0.523094 -0.345472   \n",
       "Algeria       2.620266 -0.758739 -0.431759 -1.072191 -0.388081 -0.868858   \n",
       "Angola        1.611645 -1.665694  0.322675  0.912411 -0.703093  0.027464   \n",
       "Argentina    -1.928967 -2.323520  1.147798 -0.980982  0.868507  0.154465   \n",
       "...                ...       ...       ...       ...       ...       ...   \n",
       "Vietnam       5.515877  2.221620 -2.471495  0.977933  1.803508  0.301858   \n",
       "Yemen         4.817424 -0.530845 -1.177146 -1.262562 -0.651954 -0.535780   \n",
       "Zambia        1.212845 -2.016916  0.919638  0.975531 -0.870230 -0.475068   \n",
       "Zanzibar      3.155606 -1.787655  0.639861  0.908916 -1.227099 -0.064367   \n",
       "Zimbabwe      3.373286 -1.862449  1.727464 -1.487104 -2.114484  0.604727   \n",
       "\n",
       "                  PC 7      PC 8      PC 9     PC 10  ...     PC 13     PC 14  \\\n",
       "country_name                                          ...                       \n",
       "Afghanistan  -0.326244  1.048082 -0.878298 -0.247468  ...  0.399939  0.603575   \n",
       "Albania      -0.821771 -1.167237 -0.551321  0.098909  ... -0.117763  0.143141   \n",
       "Algeria       1.389032 -0.687168 -0.601821  0.574200  ...  0.053072 -0.524305   \n",
       "Angola        0.355936  0.698674 -0.220570  0.725198  ...  0.024145  0.008329   \n",
       "Argentina    -0.588733 -0.697299 -0.003527  0.087587  ... -0.313687  0.219699   \n",
       "...                ...       ...       ...       ...  ...       ...       ...   \n",
       "Vietnam      -0.120729  0.777468 -1.504868  0.007896  ...  0.245660 -0.075810   \n",
       "Yemen         0.272160 -0.660296  0.618176  0.032477  ...  0.130269  0.039734   \n",
       "Zambia        0.213276 -0.291786 -1.034632  0.878102  ... -0.428207 -0.328223   \n",
       "Zanzibar     -0.034685  0.191947  0.105538 -0.152069  ... -0.413274  0.272077   \n",
       "Zimbabwe      0.093872 -0.011420  0.463223 -0.560872  ... -0.315967 -0.390650   \n",
       "\n",
       "                 PC 15     PC 16     PC 17     PC 18     PC 19     PC 20  \\\n",
       "country_name                                                               \n",
       "Afghanistan  -0.393594  0.125152  0.100734  0.442044 -0.349731  0.350081   \n",
       "Albania       0.274460  0.164673 -0.685502 -0.012525 -0.245116  0.019039   \n",
       "Algeria      -0.249107 -0.248984  0.235310 -0.139933 -0.017297  0.289441   \n",
       "Angola        0.329757 -0.261629  0.708805  0.566185 -0.317347 -0.187826   \n",
       "Argentina    -0.098831  0.343059  0.003848  0.173963  0.222100 -0.289640   \n",
       "...                ...       ...       ...       ...       ...       ...   \n",
       "Vietnam      -0.120469  0.013092  0.059805 -0.128632 -0.061341 -0.657820   \n",
       "Yemen         0.165445 -0.259410 -0.693887 -0.317738 -0.205675  0.260798   \n",
       "Zambia        0.104596  0.097756 -0.055697 -0.565287 -0.061545  0.087243   \n",
       "Zanzibar     -0.298838  0.016924 -0.015816  0.354012 -0.270161 -0.029281   \n",
       "Zimbabwe     -0.319859 -0.343059  0.562810 -0.187032  0.264111 -0.297430   \n",
       "\n",
       "                 PC 21     PC 22  \n",
       "country_name                      \n",
       "Afghanistan  -0.295480 -0.035876  \n",
       "Albania      -0.040034  0.034807  \n",
       "Algeria       0.206907  0.142557  \n",
       "Angola       -0.367353  0.160977  \n",
       "Argentina     0.101841  0.110686  \n",
       "...                ...       ...  \n",
       "Vietnam       0.250562  0.086175  \n",
       "Yemen        -0.352293  0.194880  \n",
       "Zambia       -0.086175 -0.015573  \n",
       "Zanzibar     -0.169449  0.238811  \n",
       "Zimbabwe      0.138515 -0.055930  \n",
       "\n",
       "[176 rows x 22 columns]"
      ]
     },
     "execution_count": 43,
     "metadata": {},
     "output_type": "execute_result"
    }
   ],
   "source": [
    "vdem_pca = pd.DataFrame(data=F_pca.T, index=vdem.index, columns=[f'PC {i+1}' for i in range(Z.shape[1])])\n",
    "vdem_pca"
   ]
  },
  {
   "cell_type": "markdown",
   "id": "a84cbe94",
   "metadata": {},
   "source": [
    "In the dataframe above the principal components describe a pattern in the data. This pattern is described the better, the more principal components are used to describe it. The PCs are features engineered from the data and can be used in subsequent analysis.\n",
    "\n",
    "The first PC best captures the pattern, the first two PCs capture it better, ..., but where to stop? How many PCs should be used in downstream analysis? The answer is also in the matrix $F$. Display its covariance matrix:"
   ]
  },
  {
   "cell_type": "code",
   "execution_count": 44,
   "id": "2c74c099",
   "metadata": {},
   "outputs": [
    {
     "data": {
      "image/png": "[encoded data removed]",
      "text/plain": [
       "<Figure size 400x300 with 2 Axes>"
      ]
     },
     "metadata": {},
     "output_type": "display_data"
    }
   ],
   "source": [
    "vdem_pca_cov = pd.DataFrame(data=F_pca.T, columns=[i+1 for i in range(Z.shape[1])]).cov(ddof=0)\n",
    "\n",
    "plt.figure(figsize=[4, 3])\n",
    "sns.set(font_scale=.75)\n",
    "h1 = sns.heatmap(data=vdem_pca_cov, cmap='binary', cbar_kws={'label': 'Covariance'}, xticklabels=True, yticklabels=True)\n",
    "h1.set(xlabel='Principal Component', ylabel='Principal Component')\n",
    "plt.show()"
   ]
  },
  {
   "cell_type": "markdown",
   "id": "511fa9e5",
   "metadata": {},
   "source": [
    "The covariance matrix of $F$ is zero off the diagonal because all PCs are orthogonal to each other. All variance is in the diagonal. This is different for EFA where factors still covary to some extent. The take-home message is that EFA maximizes correlation (inside the factors which leaves some amount of covariance and correlation between the factors) while PCA maximizes variance (inside the principle components which removes all covariance and correlation between the principal components).\n",
    "\n",
    "The entries in the diagonal are the amounts of variance explained by the PCs. These are the PCs' **eigenvalues**. These eigenvalues can be used to decide how many PCs are sufficient to describe the pattern in the data. As a rule of thumb, all PCs with an eigenvalue equal to, or larger than, one should be selected. The eigenvalues are also stored as the `explained_variance_` attribute of the PCA object:"
   ]
  },
  {
   "cell_type": "code",
   "execution_count": 45,
   "id": "a6c9d63b",
   "metadata": {},
   "outputs": [
    {
     "data": {
      "text/plain": [
       "array([12.55209187,  2.23528175,  1.89412745,  1.03537501,  0.88297198,\n",
       "        0.68835798,  0.50304005,  0.43488701,  0.32731071,  0.24688569,\n",
       "        0.1987746 ,  0.16728466,  0.14334966,  0.13676558,  0.12213386,\n",
       "        0.11376743,  0.11099203,  0.09223689,  0.08800514,  0.0704661 ,\n",
       "        0.05443767,  0.02717117])"
      ]
     },
     "execution_count": 45,
     "metadata": {},
     "output_type": "execute_result"
    }
   ],
   "source": [
    "eigenvalues = pca.explained_variance_\n",
    "eigenvalues"
   ]
  },
  {
   "cell_type": "markdown",
   "id": "0eadf3dc",
   "metadata": {},
   "source": [
    "The first four PCs are sufficient to explain the pattern. The percentage of the variance explained by each PC is stored in the `explained_variance_ratio_` attribute:"
   ]
  },
  {
   "cell_type": "code",
   "execution_count": 46,
   "id": "a946dc17",
   "metadata": {},
   "outputs": [
    {
     "data": {
      "text/html": [
       "<div>\n",
       "<style scoped>\n",
       "    .dataframe tbody tr th:only-of-type {\n",
       "        vertical-align: middle;\n",
       "    }\n",
       "\n",
       "    .dataframe tbody tr th {\n",
       "        vertical-align: top;\n",
       "    }\n",
       "\n",
       "    .dataframe thead th {\n",
       "        text-align: right;\n",
       "    }\n",
       "</style>\n",
       "<table border=\"1\" class=\"dataframe\">\n",
       "  <thead>\n",
       "    <tr style=\"text-align: right;\">\n",
       "      <th></th>\n",
       "      <th>Variance</th>\n",
       "      <th>Cumulative</th>\n",
       "    </tr>\n",
       "  </thead>\n",
       "  <tbody>\n",
       "    <tr>\n",
       "      <th>PC 1</th>\n",
       "      <td>0.567308</td>\n",
       "      <td>0.567308</td>\n",
       "    </tr>\n",
       "    <tr>\n",
       "      <th>PC 2</th>\n",
       "      <td>0.101026</td>\n",
       "      <td>0.668334</td>\n",
       "    </tr>\n",
       "    <tr>\n",
       "      <th>PC 3</th>\n",
       "      <td>0.085608</td>\n",
       "      <td>0.753942</td>\n",
       "    </tr>\n",
       "    <tr>\n",
       "      <th>PC 4</th>\n",
       "      <td>0.046795</td>\n",
       "      <td>0.800737</td>\n",
       "    </tr>\n",
       "    <tr>\n",
       "      <th>PC 5</th>\n",
       "      <td>0.039907</td>\n",
       "      <td>0.840644</td>\n",
       "    </tr>\n",
       "  </tbody>\n",
       "</table>\n",
       "</div>"
      ],
      "text/plain": [
       "      Variance  Cumulative\n",
       "PC 1  0.567308    0.567308\n",
       "PC 2  0.101026    0.668334\n",
       "PC 3  0.085608    0.753942\n",
       "PC 4  0.046795    0.800737\n",
       "PC 5  0.039907    0.840644"
      ]
     },
     "execution_count": 46,
     "metadata": {},
     "output_type": "execute_result"
    }
   ],
   "source": [
    "pd.DataFrame(\n",
    "    data={\n",
    "        'Variance': pca.explained_variance_ratio_, \n",
    "        'Cumulative': np.cumsum(pca.explained_variance_ratio_)\n",
    "    }, \n",
    "    index=[f'PC {i+1}' for i in range(Z.shape[1])]\n",
    ").head()"
   ]
  },
  {
   "cell_type": "markdown",
   "id": "82d88cba",
   "metadata": {},
   "source": [
    "As a result, the recommended first four principal components account for 80 percent of the variance in the data. This means, to adequately describe the pattern, we can reduce the dimensionality of the data from 22 to four!\n",
    "\n",
    "Now that we have captured the pattern in PCs, we want to look at it. Three-dimensional plots are possible but are often hard to read. By using the first two PCs, we can already visualize 67 percent of the variance in all 22 variables. We use Seaborn's [`kdeplot()`](https://seaborn.pydata.org/generated/seaborn.kdeplot.html) method which adds a Kernel Density Estimate to the data cloud that depicts nested regions with a high densiry of data points:"
   ]
  },
  {
   "cell_type": "code",
   "execution_count": 47,
   "id": "bd0047c4",
   "metadata": {},
   "outputs": [
    {
     "data": {
      "image/png": "[encoded data removed]",
      "text/plain": [
       "<Figure size 800x600 with 1 Axes>"
      ]
     },
     "metadata": {},
     "output_type": "display_data"
    }
   ],
   "source": [
    "sns.set_theme(style='whitegrid')\n",
    "plt.figure(figsize=[8, 6])\n",
    "ax = sns.kdeplot(data=vdem_pca, x='PC 1', y='PC 2', alpha=.8, fill=True)\n",
    "for i, country in enumerate(vdem_pca.index):\n",
    "    ax.text(\n",
    "        x = vdem_pca['PC 1'][i], \n",
    "        y = vdem_pca['PC 2'][i], \n",
    "        s = country, \n",
    "        horizontalalignment = 'center', \n",
    "        verticalalignment = 'center', \n",
    "        size = 6, \n",
    "        color = 'black', \n",
    "        weight = 'normal'\n",
    "    )\n",
    "ax.set(xticklabels=[], yticklabels=[])\n",
    "ax.set(\n",
    "    xlabel = f'$\\longleftarrow$ PC 1 (eigenvalue: {np.round(eigenvalues[0], 2)}) $\\longrightarrow$', \n",
    "    ylabel = f'$\\longleftarrow$ PC 2 (eigenvalue: {np.round(eigenvalues[1], 2)}) $\\longrightarrow$'\n",
    ")\n",
    "plt.show()"
   ]
  },
  {
   "cell_type": "markdown",
   "id": "2edf5ab4",
   "metadata": {},
   "source": [
    "Two reagions are visible in the plot. But which countries belong to those regions? This is where clustering, the other family of algorithms in unsupervised ML, can help."
   ]
  },
  {
   "cell_type": "code",
   "execution_count": 48,
   "id": "bddc982a",
   "metadata": {},
   "outputs": [
    {
     "ename": "NameError",
     "evalue": "name 'lax' is not defined",
     "output_type": "error",
     "traceback": [
      "\u001b[1;31m---------------------------------------------------------------------------\u001b[0m",
      "\u001b[1;31mNameError\u001b[0m                                 Traceback (most recent call last)",
      "Cell \u001b[1;32mIn[48], line 1\u001b[0m\n\u001b[1;32m----> 1\u001b[0m \u001b[43mlax\u001b[49m\n",
      "\u001b[1;31mNameError\u001b[0m: name 'lax' is not defined"
     ]
    }
   ],
   "source": [
    "lax"
   ]
  },
  {
   "cell_type": "markdown",
   "id": "7c58e405",
   "metadata": {},
   "source": [
    "## D3.3. Clustering\n",
    "\n",
    "Clustering analysis is used to group similar objects or data points together based on their characteristics or features.\n",
    "\n",
    "The goal of clustering is to divide a dataset into groups, or clusters, where each group contains data points that are similar to each other and dissimilar to data points in other groups. The similarity between data points is typically measured using a distance metric, such as Euclidean distance or cosine similarity.\n",
    "\n",
    "There are many different algorithms used for clustering analysis, including k-means, hierarchical clustering, and density-based clustering. Each algorithm has its own strengths and weaknesses, and the choice of algorithm depends on the characteristics of the dataset and the goals of the analysis.\n",
    "\n",
    "Clustering analysis has many practical applications, such as customer segmentation, image segmentation and anomaly detection. By identifying groups of similar data points, clustering can help to identify patterns and relationships in the data, and can be used to make predictions or inform decision-making.\n",
    "\n",
    "\n",
    "### D.3.3.1. K-Means\n",
    "\n",
    "K-means is an algorithm used for grouping similar data points together based on their features. The algorithm works as follows. First, the number of clusters ($k$) is specified. Second, the algorithm randomly selects k initial points as the centroids of the clusters. Third, each data point is assigned to the cluster whose centroid is closest to it. Fourth, the centroids of the clusters are updated by calculating the mean of all the data points in each cluster. Then, the last two steps are repeated iteratively until the centroids no longer change, or until a maximum number of iterations is reached.\n",
    "\n",
    "The final result of the k-means algorithm is a set of $k$ clusters, where each data point belongs to the cluster with the closest centroid.\n",
    "\n",
    "K-means can be used in a variety of applications, such as image segmentation and data compression. It is particularly useful when the number of clusters in the data is not known in advance, and the goal is to discover the underlying structure of the data.\n",
    "\n",
    "However, it is important to note that k-means has some limitations. For example, the algorithm is sensitive to the initial choice of centroids, and may converge to a local optimum instead of the global optimum. Additionally, k-means assumes that the clusters are spherical and equally sized, which may not be appropriate for all datasets."
   ]
  },
  {
   "cell_type": "markdown",
   "id": "edd1a6fa",
   "metadata": {},
   "source": [
    "First, we will import appropriate library package. Second, we will define the number of clusters (4 in our case) and random state for reproducability reasons. Third, we will fit the model to our transformed 4 principal components that we derived in previous subsection. "
   ]
  },
  {
   "cell_type": "code",
   "execution_count": null,
   "id": "49d847d7",
   "metadata": {},
   "outputs": [],
   "source": [
    "from sklearn.cluster import KMeans\n",
    "\n",
    "# create instance of class\n",
    "kmeans = KMeans(n_clusters=4, random_state=42)\n",
    "\n",
    "# cluster countries based on first four components\n",
    "y_kmeans = kmeans.fit(X=X_pca[:, :4])"
   ]
  },
  {
   "cell_type": "markdown",
   "id": "875ce7f5",
   "metadata": {},
   "source": [
    "Now, we can add derived labels from the clustering to our DataFrame and name this column \"label_kmeans\". The labels are digits between 0 and 3, where are digit corresponds to cluster it was assigned to. "
   ]
  },
  {
   "cell_type": "code",
   "execution_count": null,
   "id": "c9f90536",
   "metadata": {},
   "outputs": [],
   "source": [
    "# add cluster labels\n",
    "vdem_pca.loc[:, 'label_kmeans'] = y_kmeans.labels_\n",
    "vdem_pca.head(10)"
   ]
  },
  {
   "cell_type": "markdown",
   "id": "949c1ae9",
   "metadata": {},
   "source": [
    "Let's check how many countries have been assigned to each cluster:"
   ]
  },
  {
   "cell_type": "code",
   "execution_count": null,
   "id": "7d367253",
   "metadata": {},
   "outputs": [],
   "source": [
    "vdem_pca[\"label_kmeans\"].value_counts()"
   ]
  },
  {
   "cell_type": "markdown",
   "id": "ab677d83",
   "metadata": {},
   "source": [
    "Cluster $1$ has the most counties - 78, whereas cluster $0$ includes only 5 countries. "
   ]
  },
  {
   "cell_type": "markdown",
   "id": "c6ea2745",
   "metadata": {},
   "source": [
    "To see the resulting clusters, we can plot each cluster area with different colour. Since our data is 4-dimentional, we will plot clusters only on the first two dimentions. However, you can add yourself plots on other dimentions by modifing the folowing code: "
   ]
  },
  {
   "cell_type": "code",
   "execution_count": null,
   "id": "c29f6516",
   "metadata": {
    "scrolled": false
   },
   "outputs": [],
   "source": [
    "# acknowledgement: https://gist.github.com/nicoguaro/1cc7474bc2331e48fb64\n",
    "from matplotlib.patches import Polygon\n",
    "from scipy.spatial import ConvexHull, convex_hull_plot_2d\n",
    "\n",
    "def plot_clusters(df_model,label_column,number_clusters):\n",
    "    plt.figure(figsize=[8, 6])\n",
    "    ax = sns.kdeplot(data=df_model, x='PC 0', y='PC 1', alpha=.0, fill=False)\n",
    "    for i, country in enumerate(df_model.index):\n",
    "        ax.text(\n",
    "            x = df_model['PC 0'][i], \n",
    "            y = df_model['PC 1'][i], \n",
    "            s = country, \n",
    "            horizontalalignment = 'center', \n",
    "            verticalalignment = 'center', \n",
    "            size = 6, \n",
    "            color = 'black', \n",
    "            weight = 'normal'\n",
    "        )\n",
    "    for label in range(number_clusters):\n",
    "        df = df_model[df_model[label_column] == label]\n",
    "        points = df[['PC 0', 'PC 1']].to_numpy()\n",
    "        hull = ConvexHull(points)\n",
    "        color = plt.cm.Set1(label)\n",
    "        poly = Polygon(points[hull.vertices], closed=True, capstyle='round', facecolor=color, alpha=.25)\n",
    "        plt.gca().add_patch(poly)\n",
    "    ax.set(xticklabels=[], yticklabels=[])\n",
    "    ax.set(\n",
    "        xlabel = f'$\\longleftarrow$ PC 0 (eigenvalue: {np.round(eigenvalues.loc[0], 2)}) $\\longrightarrow$', \n",
    "        ylabel = f'$\\longleftarrow$ PC 1 (eigenvalue: {np.round(eigenvalues.loc[1], 2)}) $\\longrightarrow$'\n",
    "    )\n",
    "    plt.show()\n",
    "    \n",
    "    \n",
    "plot_clusters(df_model=vdem_pca,label_column='label_kmeans',number_clusters=len(vdem_pca[\"label_kmeans\"].unique() ) )"
   ]
  },
  {
   "cell_type": "markdown",
   "id": "ce1132de",
   "metadata": {},
   "source": [
    "**But is this number of clusters is optimal?**\n",
    "\n",
    "Identifying the optimal number of clusters is an important step in clustering analysis, as it helps to ensure that the clusters are meaningful and useful for the intended application. There are several methods that can be used to identify the optimal number of clusters:\n",
    "\n",
    "1. Elbow method: Plot the sum of squared distances between each data point and its closest centroid (also known as the inertia) as a function of the number of clusters. The optimal number of clusters is often the point where the curve begins to flatten out, or where the rate of decrease in inertia decreases significantly. This point is known as the \"elbow\" of the curve.\n",
    "\n",
    "2. Silhouette method: Calculate the silhouette score for each data point, which measures how well the data point fits into its assigned cluster compared to other clusters. The optimal number of clusters is often the point where the average silhouette score across all data points is highest.\n",
    "\n",
    "3. Gap statistic method: Compare the observed sum of squared distances between each data point and its closest centroid to the expected sum of squared distances for a null reference distribution. The optimal number of clusters is often the point where the gap between the observed and expected sum of squared distances is highest.\n",
    "\n",
    "4. Information criterion methods: Use statistical information criteria, such as Akaike Information Criterion (AIC) or Bayesian Information Criterion (BIC), to compare models with different numbers of clusters. The optimal number of clusters is often the model with the lowest information criterion value.\n",
    "\n",
    "It's important to note that there is no one \"correct\" method for identifying the optimal number of clusters, and different methods may produce different results depending on the dataset and the clustering algorithm used. Therefore, it's recommended to try multiple methods and evaluate the results to make an informed decision about the optimal number of clusters for the specific application.\n",
    "\n",
    "The above mentioned method are applicable for cases with no groundtruth, which will be the most common case in clustering analysis. For some other evaluation methods you can further read [here](https://scikit-learn.org/stable/modules/clustering.html#clustering-performance-evaluation)."
   ]
  },
  {
   "cell_type": "markdown",
   "id": "c05fe4ad",
   "metadata": {},
   "source": [
    "**Silhouette method**\n",
    "\n",
    " The silhouette score $s$ is defined as following \n",
    " \n",
    " $s = \\frac{b - a}{max(a, b)}$, \n",
    " \n",
    " where $a$ - is the mean distance between a data point and all other points in the same class, $b$ - is the mean distance between a data point  and all other points in the next nearest cluster.\n",
    "\n",
    "In the following we will calculate average silhouette score for all clusters in each model. Function *silhouette_score()* returns the mean Silhouette coefficient over all samples; as parameters we would pass in feature matrix and predicted cluster labels. \n",
    "\n",
    "The mean Silhouette coefficient over all data points of an individual cluster is a measure of how tightly grouped all the points in the cluster are. Thus the mean Silhouette coefficient over all data of the entire dataset is a measure of how appropriately the data have been clustered. The highest value is 1 which would indicate the pefrect fit and the worst value is -1. Values near 0 indicate overlapping clusters. Negative values generally indicate that a sample has been assigned to the wrong cluster, as a different cluster is more similar.\n",
    "\n",
    "To find the optimal number of clusters , we will try models with 2-25 clusters and plot those values:  "
   ]
  },
  {
   "cell_type": "code",
   "execution_count": null,
   "id": "c1023b8b",
   "metadata": {},
   "outputs": [],
   "source": [
    "from sklearn.metrics import silhouette_score\n",
    "\n",
    "range_n_clusters = range(2, 26)\n",
    "silhouette_scores = []\n",
    "\n",
    "for n_clusters in range_n_clusters:\n",
    "    clusterer = KMeans(n_clusters=n_clusters,  random_state=42)\n",
    "    cluster_labels = clusterer.fit_predict(X_pca[:, :4])\n",
    "    # The silhouette_score gives the average value for all the samples.\n",
    "    # This gives a perspective into the density and separation of the formed clusters\n",
    "    silhouette_avg = silhouette_score(X_pca[:, :4], cluster_labels)\n",
    "    silhouette_scores.append(silhouette_avg)\n",
    "    \n",
    "plt.plot(range_n_clusters,silhouette_scores)"
   ]
  },
  {
   "cell_type": "markdown",
   "id": "e7967ee8",
   "metadata": {},
   "source": [
    "According to average Silhouette score, the best separation is achived by 2 clusters. Though, according to the plot above, 4 closters will be a good separation choice too.   \n",
    "\n",
    "However, this judgment is questionable while there is no ground trooth of the best separation of countries. You can try other methods (provided above) in order to justify the number of clusters in the model. "
   ]
  },
  {
   "cell_type": "markdown",
   "id": "f09897ab",
   "metadata": {},
   "source": [
    "### D3.3.2. DBSCAN\n",
    "\n",
    "Density-Based Spatial Clustering of Applications with Noise (DBSCAN) is an algorithm used to identify clusters of data points in a dataset based on their density. Unlike k-means, DBSCAN does not require specifying the number of clusters in advance and can discover clusters of arbitrary shapes.\n",
    "\n",
    "DBSCAN works by defining a notion of density around each data point. It groups data points that are close to each other and have a sufficient number of neighboring points within a specified distance, known as the epsilon radius. The algorithm distinguishes between three types of data points:\n",
    "1. Core points: These are data points within the epsilon radius of at least a minimum number of neighboring points (specified as the minimum number of points required for a cluster).\n",
    "2. Border points: These are data points within the epsilon radius of a core point but do not have enough neighboring points to be considered core points themselves.\n",
    "3. Noise points: These are data points that are not within the epsilon radius of any core point.\n",
    "\n",
    "DBSCAN starts by randomly selecting an unvisited data point and expands a cluster around it by iteratively adding reachable core and border points. This process continues until no more reachable points can be added to the cluster. Then, another unvisited data point is selected, and the process repeats until all data points have been visited.\n",
    "\n",
    "The result of DBSCAN is a set of clusters, where each cluster consists of a group of connected core and border points. Noise points are not assigned to any cluster.\n",
    "\n",
    "DBSCAN has the advantage of being able to discover clusters of various shapes and handle noise points effectively. However, it requires careful selection of the parameters, such as the epsilon radius and the minimum number of points, which can impact the results. Additionally, the performance of DBSCAN may be affected by the density variations in the dataset.\n",
    "\n",
    "In summary, DBSCAN is a density-based clustering algorithm that groups data points based on their density and proximity. It can automatically discover clusters of arbitrary shapes and is effective in handling noise points. However, parameter selection is important, and the algorithm's performance can be influenced by the density variations in the dataset.\n",
    "\n",
    "In the following we will import appropriate library, create instance of the model class, fit the model to our data and then plot these clusters. As an example, we will specify the epsilon radius *eps* as 1.2 and the minimum number of points *min_samples* -- 4."
   ]
  },
  {
   "cell_type": "code",
   "execution_count": null,
   "id": "7364dc61",
   "metadata": {},
   "outputs": [],
   "source": [
    "from sklearn.cluster import DBSCAN\n",
    "\n",
    "# create instance of class\n",
    "DBSCAN_model = DBSCAN(eps=1.2, min_samples=4)\n",
    "\n",
    "# cluster countries based on first four components\n",
    "y_DBSCAN = DBSCAN_model.fit(X=X_pca[:, :4])\n",
    "\n",
    "# add cluster labels\n",
    "vdem_pca.loc[:, 'label_DBSCAN'] = y_DBSCAN.labels_\n",
    "print (vdem_pca[\"label_DBSCAN\"].value_counts())\n",
    "\n",
    "plot_clusters(df_model=vdem_pca,label_column='label_DBSCAN',number_clusters=len(vdem_pca[\"label_DBSCAN\"].unique())-1 )"
   ]
  },
  {
   "cell_type": "markdown",
   "id": "228b79e5",
   "metadata": {},
   "source": [
    "The noise points are labeled as *-1*, other clusters are labeled from *0* to *2*. So using the current parameters, the model estimated 50 points as noise and other points were divided into 3 clusters. \n",
    "Let us check which countries were assigned to class *2*:"
   ]
  },
  {
   "cell_type": "code",
   "execution_count": null,
   "id": "5faf9618",
   "metadata": {},
   "outputs": [],
   "source": [
    "for i in [2]:\n",
    "    print (\"Countries in cluster %d:\"% i)\n",
    "    print (vdem_pca[vdem_pca[\"label_DBSCAN\"]==i].index.values)"
   ]
  },
  {
   "cell_type": "markdown",
   "id": "2e7ebc97",
   "metadata": {},
   "source": [
    "If you return back to the density plot in PCA subsection, you will find out that two dense areas on the left side of the plot were identified by DBSCAN. The first dense area that includes countries like Denamrk, Switzerland and Netherlands and the second -- Costa Rica, Cuprys, Argentina, etc. "
   ]
  },
  {
   "cell_type": "markdown",
   "id": "ef37f8a3",
   "metadata": {},
   "source": [
    "Let us find out how whould clusters change if we tune parameter *eps*. \n",
    "\n",
    "Here, we will define sliding bar that with different eps values would draw appropriate clustering models. Move sliding bar to the left or right in order to change eps parameter and have a new plot. "
   ]
  },
  {
   "cell_type": "code",
   "execution_count": null,
   "id": "2c427e21",
   "metadata": {},
   "outputs": [],
   "source": [
    "import ipywidgets\n",
    "\n",
    "def define_eps(df_model, label_column, min_samples, slider_value, slider_min, slider_max, slider_step):\n",
    "    '''\n",
    "    Draws clusters with a slider that allows to select eps parameter of the model. \n",
    "        Eps controls the local neighborhood of the points. Smaller eps would indicate higher density necessary to form \n",
    "        a cluster and a higher value would merge close clusters into one cluster, and eventually \n",
    "        the entire data set to be returned as a single cluster.        \n",
    "    \n",
    "    Parameters:\n",
    "        df_model : DataFrame object\n",
    "            DatFrame with data that has to be modeled and clustered.\n",
    "        label_column : string\n",
    "            Label name to store our clustering results.\n",
    "        min_samples : integer\n",
    "            The number of points in a neighborhood for a point to be considered as a core point.\n",
    "\n",
    "        slider_value : integer or float\n",
    "            Initial filter value.\n",
    "        slider_min : integer or float\n",
    "            Minimum filter value.\n",
    "        slider_max : integer or float\n",
    "            Maximum filter value.\n",
    "        slider_step : integer or float\n",
    "            Size of steps with which filter value is slided.\n",
    "    '''\n",
    "    def draw_filtered_graph(eps_value):\n",
    "        y_DBSCAN = DBSCAN(eps=eps_value, min_samples=min_samples).fit(X=df_model.iloc[:, :4].to_numpy()).labels_\n",
    "        df_model.loc[:, label_column] = y_DBSCAN\n",
    "        number_clusters=len(set(y_DBSCAN))-1\n",
    "        plot_clusters(df_model=df_model,label_column=label_column,number_clusters=number_clusters)\n",
    "    \n",
    "    ipywidgets.interact(\n",
    "        draw_filtered_graph, \n",
    "        eps_value = ipywidgets.FloatSlider(value=slider_value, min=slider_min, max=slider_max, step=slider_step)\n",
    "    )"
   ]
  },
  {
   "cell_type": "code",
   "execution_count": null,
   "id": "6e205231",
   "metadata": {},
   "outputs": [],
   "source": [
    "define_eps(\n",
    "    df_model = vdem_pca, \n",
    "    label_column = \"label_DBSCAN\",\n",
    "    min_samples = 4,\n",
    "    slider_value = 1.4, \n",
    "    slider_min = 0.6, \n",
    "    slider_max = 3, \n",
    "    slider_step = 0.2\n",
    ")"
   ]
  },
  {
   "cell_type": "markdown",
   "id": "53123b2f",
   "metadata": {},
   "source": [
    "### D3.3.3. Agglomarative clustering\n",
    "\n",
    "Agglomerative clustering, also known as hierarchical clustering, is a popular method used to group similar data points into clusters based on their distances or similarities. It starts with each data point considered as a separate cluster and then merges clusters iteratively until a stopping criterion is met.\n",
    "\n",
    "The agglomerative clustering process can be summarized as follows:\n",
    "1. Initially, each data point is assigned to its own individual cluster.\n",
    "2. The algorithm calculates the distance or similarity between each pair of clusters.\n",
    "3. The two closest clusters, based on a chosen linkage criterion (e.g., minimum distance, maximum distance, average distance), are merged together into a single cluster.\n",
    "4. Steps 2 and 3 are repeated iteratively until a stopping criterion is met. This can be a pre-defined number of clusters, a specific level of similarity or distance, or any other criterion chosen by the user.\n",
    "\n",
    "As the algorithm progresses, a tree-like structure called a dendrogram is formed, where the branches represent the merging of clusters at different levels of similarity. The dendrogram can be visualized to understand the hierarchical relationships between the clusters.\n",
    "\n",
    "Agglomerative clustering does not require specifying the number of clusters in advance, as the algorithm dynamically determines the number of clusters based on the merging process. By considering the entire dataset and capturing hierarchical relationships, agglomerative clustering can reveal nested clusters and provide insights into the data structure.\n",
    "\n",
    "\n",
    "Agglomerative clustering is flexible and can handle various types of data, including numerical and categorical variables. However, it can be computationally expensive, especially for large datasets, as the distance or similarity matrix needs to be updated at each iteration.\n",
    "\n",
    "In summary, agglomerative clustering is a hierarchical clustering technique that iteratively merges similar clusters based on a chosen linkage criterion. It does not require the number of clusters to be specified in advance and provides a hierarchical structure of the data. "
   ]
  },
  {
   "cell_type": "code",
   "execution_count": null,
   "id": "cc6cb36b",
   "metadata": {
    "scrolled": false
   },
   "outputs": [],
   "source": [
    "from sklearn.cluster import AgglomerativeClustering\n",
    "\n",
    "for n_clusters in [2,3,4,5,6,7]:  \n",
    "    y_Aggl = AgglomerativeClustering(n_clusters=n_clusters).fit(X_pca[:, :4])\n",
    "    cluster_labels=y_Aggl.labels_\n",
    "    \n",
    "    vdem_pca.loc[:, 'label_Aggl'] = y_Aggl.labels_\n",
    "    plot_clusters(df_model=vdem_pca,label_column='label_Aggl',number_clusters=len(vdem_pca[\"label_Aggl\"].unique()) )\n",
    "    ilhouette_avg = silhouette_score(X_pca[:, :4], cluster_labels)\n",
    "    print(\"For\", n_clusters,\"clusters the average silhouette score is :\",silhouette_avg)"
   ]
  },
  {
   "cell_type": "markdown",
   "id": "b98d082a",
   "metadata": {},
   "source": [
    "## References\n",
    "\n",
    "### Recommended readings\n",
    "\n",
    "<a id='bacher_unsupervised_2022'></a>\n",
    "Bacher, J., Pöge, A., & Wenzig, K. (2022). \"Unsupervised methods: Clustering methods.\" In: Engel, U. & Quan-Haase, A. (eds). *Handbook of Computational Social Science*, vol. 2, p. 334–351. Abingdon: Routledge. https://doi.org/10.4324/9781003025245.\n",
    "\n",
    "<a id='mclevey_doing_2022'></a>\n",
    "McLevey, J. (2022). *Doing Computational Social Science: A Practical Introduction*. SAGE. https://us.sagepub.com/en-us/nam/doing-computational-social-science/book266031. *A rather complete introduction to the field with well-structured and insightful chapters also on unsupervised Machine Learning. The [website](https://github.com/UWNETLAB/dcss_supplementary) offers the code used in the book. For this session, read **chs. 8 and 19** on dimensionality reduction and the unsupervised and supervised types of Machine Learning.*\n",
    "\n",
    "### Complementary readings\n",
    "\n",
    "<a id='efron_computer_2016'></a>\n",
    "Efron, B. & Hastie, T. (2016). *Computer Age Statistical Inference: Algorithms, Evidence, and Data Science*. Cambridge University Press. http://www.cambridge.org/9781107149892.\n",
    "\n",
    "<a id='ghani_machine_2016'></a>\n",
    "Ghani, R. & Schierholz, M. (2016). \"Machine Learning.\" In: Foster, I. *et al.* (Eds.). *Big Data and Social Science: A Practical Guide to Methods and Tools*, p. 147–186. CRC Press. *Overview article about types and algorithms of Machine Learning.*\n",
    "\n",
    "<a id='hofman_integrating_2021'></a>\n",
    "Hofman, J. M., Watts, D. J., *et al.* (2021). \"Integrating explanation and prediction in computational social science.\" *Nature* 595:181–188. https://doi.org/10.1038/s41586-021-03659-0.\n",
    "\n",
    "<a id='kitchin_big_2014'></a>\n",
    "Kitchin, R. (2014). \"Big Data, new epistemologies and paradigm shifts.\" *Big Data & Society* 1:1–12. https://doi.org/10.1177/2053951714528481.\n",
    "\n",
    "<a id='poge_principel_2022'></a>\n",
    "Pöge, A. & Reinecke, J. (2022). \"Principal Component Analysis.\" In: Engel, U. & Quan-Haase, A. (eds). *Handbook of Computational Social Science*, vol. 2, p. 322–333. Abingdon: Routledge. https://doi.org/10.4324/9781003025245."
   ]
  },
  {
   "cell_type": "markdown",
   "id": "758d9eec",
   "metadata": {},
   "source": [
    "<div class='alert alert-block alert-success'>\n",
    "<b>Document information</b>\n",
    "\n",
    "Contact and main author: Haiko Lietz & Olga Zagovora\n",
    "\n",
    "Version date: 18 August 2023\n",
    "\n",
    "License: Creative Commons Attribution 4.0 International (CC BY 4.0)\n",
    "</div>"
   ]
  },
  {
   "cell_type": "code",
   "execution_count": null,
   "id": "726e55c1",
   "metadata": {},
   "outputs": [],
   "source": []
  }
 ],
 "metadata": {
  "kernelspec": {
   "display_name": "Python 3 (ipykernel)",
   "language": "python",
   "name": "python3"
  },
  "language_info": {
   "codemirror_mode": {
    "name": "ipython",
    "version": 3
   },
   "file_extension": ".py",
   "mimetype": "text/x-python",
   "name": "python",
   "nbconvert_exporter": "python",
   "pygments_lexer": "ipython3",
   "version": "3.9.13"
  }
 },
 "nbformat": 4,
 "nbformat_minor": 5
}
